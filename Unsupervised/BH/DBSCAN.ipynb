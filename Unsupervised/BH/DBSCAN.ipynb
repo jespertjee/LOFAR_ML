{
 "cells": [
  {
   "cell_type": "code",
   "execution_count": 1,
   "id": "b2ccd174",
   "metadata": {},
   "outputs": [],
   "source": [
    "import pandas as pd\n",
    "import numpy as np\n",
    "from sklearn.cluster import DBSCAN\n",
    "import matplotlib.pyplot as plt\n",
    "from sklearn.experimental import enable_iterative_imputer\n",
    "from sklearn.impute import IterativeImputer"
   ]
  },
  {
   "cell_type": "markdown",
   "id": "afdda5fd",
   "metadata": {},
   "source": [
    "## Importing data (just original for now)"
   ]
  },
  {
   "cell_type": "code",
   "execution_count": 2,
   "id": "b087e35f",
   "metadata": {},
   "outputs": [],
   "source": [
    "features_num = [\n",
    "    'Total_flux', 'Peak_flux', \n",
    "       'NUV_flux_corr', 'u_flux_corr', 'Bw_flux_corr', 'R_flux_corr',\n",
    "       'I_flux_corr', 'z_flux_corr', 'y_flux_corr',\n",
    "       'J_flux_corr', 'H_flux_corr', 'K_flux_corr', 'Ks_flux_corr',\n",
    "       'ch1_flux_corr', 'ch2_flux_corr', 'ch3_flux_corr', 'ch4_flux_corr',\n",
    "       'F_MIPS_24', 'F_PACS_100', 'F_PACS_160', 'F_SPIRE_250', 'F_SPIRE_350',\n",
    "       'F_SPIRE_500', 'Z_BEST',\n",
    "       'g_flux_corr', 'nb921_hsc_flux_corr'\n",
    "    ]\n",
    "y_column = \"Classification\"\n",
    "\n",
    "classes = ['jet-mode radio AGN/low-excitation radio galaxy', 'quasar-like radio AGN / high-excitation radio galaxy', \n",
    "           'radio-quiet AGN', 'star-forming galaxy']"
   ]
  },
  {
   "cell_type": "code",
   "execution_count": 3,
   "id": "3d276ed7",
   "metadata": {},
   "outputs": [],
   "source": [
    "data = pd.read_csv(\"../../Data/Best&Heckman/BestHeckman+SDSS+wise+LOFAR_better_fixed_fluxes.csv\")"
   ]
  },
  {
   "cell_type": "code",
   "execution_count": 4,
   "id": "7b2e5a20",
   "metadata": {},
   "outputs": [],
   "source": [
    "# Only selecting data with a classification\n",
    "data = data[data['Classification'] != 'Radio-loud AGN'] "
   ]
  },
  {
   "cell_type": "code",
   "execution_count": 5,
   "id": "ff238523",
   "metadata": {},
   "outputs": [
    {
     "data": {
      "text/plain": [
       "Index(['RAJ2000', 'DEJ2000', 'Z_BEST', 'SimbadName', 'u_flux_corr',\n",
       "       'g_flux_corr', 'R_flux_corr', 'I_flux_corr', 'z_flux_corr',\n",
       "       'Classification', 'wise_ra', 'wise_dec', 'ch1_flux_corr',\n",
       "       'ch2_flux_corr', 'tmass_key', 'J_flux_corr', 'H_flux_corr',\n",
       "       'Ks_flux_corr', 'E_Total_flux', 'E_Peak_flux', 'Total_flux',\n",
       "       'Peak_flux'],\n",
       "      dtype='object')"
      ]
     },
     "execution_count": 5,
     "metadata": {},
     "output_type": "execute_result"
    }
   ],
   "source": [
    "data.columns"
   ]
  },
  {
   "cell_type": "code",
   "execution_count": 6,
   "id": "97fbc5d1",
   "metadata": {},
   "outputs": [],
   "source": [
    "X = data.drop(columns=['RAJ2000', 'DEJ2000', 'SimbadName','Classification', 'wise_ra', 'wise_dec', \n",
    "                        'tmass_key', 'E_Total_flux', 'E_Peak_flux'])\n",
    "y = data[['Classification']]"
   ]
  },
  {
   "cell_type": "markdown",
   "id": "1f56f6c8",
   "metadata": {},
   "source": [
    "# Dropping columns with little data (optional)"
   ]
  },
  {
   "cell_type": "code",
   "execution_count": 9,
   "id": "76e532d5",
   "metadata": {},
   "outputs": [],
   "source": [
    "X = X.drop(columns=['NUV_flux_corr', 'Bw_flux_corr', 'y_flux_corr', 'H_flux_corr', 'Ks_flux_corr', 'K_flux_corr',\n",
    "                   'g_flux_corr', 'nb921_hsc_flux_corr'])"
   ]
  },
  {
   "cell_type": "markdown",
   "id": "5cd6dcc1",
   "metadata": {},
   "source": [
    "## Filling nan's"
   ]
  },
  {
   "cell_type": "code",
   "execution_count": 10,
   "id": "7b5547a0",
   "metadata": {},
   "outputs": [],
   "source": [
    "imp = IterativeImputer(max_iter=100, min_value=0)\n",
    "X_filled = imp.fit_transform(X)"
   ]
  },
  {
   "cell_type": "markdown",
   "id": "0e68d8b7",
   "metadata": {},
   "source": [
    "## Normalisations"
   ]
  },
  {
   "cell_type": "code",
   "execution_count": 11,
   "id": "a5e2c05f",
   "metadata": {},
   "outputs": [],
   "source": [
    "from sklearn.preprocessing import MinMaxScaler, StandardScaler\n",
    "\n",
    "scaler = StandardScaler()\n",
    "X_filled = scaler.fit_transform(X_filled)"
   ]
  },
  {
   "cell_type": "markdown",
   "id": "6b280f74",
   "metadata": {},
   "source": [
    "## Running DBSCAN"
   ]
  },
  {
   "cell_type": "code",
   "execution_count": 13,
   "id": "5a9fbd72",
   "metadata": {},
   "outputs": [
    {
     "data": {
      "text/plain": [
       "(array([-1,  0]), array([8022, 5140]))"
      ]
     },
     "execution_count": 13,
     "metadata": {},
     "output_type": "execute_result"
    }
   ],
   "source": [
    "clustering = DBSCAN(eps=0.5, min_samples=1000, n_jobs=8).fit(X_filled)\n",
    "np.unique(clustering.labels_, return_counts=True)"
   ]
  },
  {
   "cell_type": "code",
   "execution_count": null,
   "id": "31e02f8b",
   "metadata": {},
   "outputs": [],
   "source": []
  }
 ],
 "metadata": {
  "kernelspec": {
   "display_name": "Anaconda3 - 2021.11",
   "language": "python",
   "name": "python3-2021.11"
  },
  "language_info": {
   "codemirror_mode": {
    "name": "ipython",
    "version": 3
   },
   "file_extension": ".py",
   "mimetype": "text/x-python",
   "name": "python",
   "nbconvert_exporter": "python",
   "pygments_lexer": "ipython3",
   "version": "3.9.7"
  },
  "latex_envs": {
   "LaTeX_envs_menu_present": true,
   "autoclose": false,
   "autocomplete": true,
   "bibliofile": "biblio.bib",
   "cite_by": "apalike",
   "current_citInitial": 1,
   "eqLabelWithNumbers": true,
   "eqNumInitial": 1,
   "hotkeys": {
    "equation": "Ctrl-E",
    "itemize": "Ctrl-I"
   },
   "labels_anchors": false,
   "latex_user_defs": false,
   "report_style_numbering": false,
   "user_envs_cfg": false
  }
 },
 "nbformat": 4,
 "nbformat_minor": 5
}
