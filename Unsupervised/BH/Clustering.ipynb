{
 "cells": [
  {
   "cell_type": "code",
   "execution_count": 28,
   "id": "b2ccd174",
   "metadata": {},
   "outputs": [],
   "source": [
    "import pandas as pd\n",
    "import numpy as np\n",
    "from sklearn.cluster import KMeans\n",
    "import matplotlib.pyplot as plt\n",
    "from sklearn.experimental import enable_iterative_imputer\n",
    "from sklearn.impute import IterativeImputer"
   ]
  },
  {
   "cell_type": "markdown",
   "id": "afdda5fd",
   "metadata": {},
   "source": [
    "## Importing data (just original for now)"
   ]
  },
  {
   "cell_type": "code",
   "execution_count": 29,
   "id": "b087e35f",
   "metadata": {},
   "outputs": [],
   "source": [
    "features_num = [\n",
    "    'Total_flux', 'Peak_flux', \n",
    "       'NUV_flux_corr', 'u_flux_corr', 'Bw_flux_corr', 'R_flux_corr',\n",
    "       'I_flux_corr', 'z_flux_corr', 'y_flux_corr',\n",
    "       'J_flux_corr', 'H_flux_corr', 'K_flux_corr', 'Ks_flux_corr',\n",
    "       'ch1_flux_corr', 'ch2_flux_corr', 'ch3_flux_corr', 'ch4_flux_corr',\n",
    "       'F_MIPS_24', 'F_PACS_100', 'F_PACS_160', 'F_SPIRE_250', 'F_SPIRE_350',\n",
    "       'F_SPIRE_500', 'Z_BEST',\n",
    "       'g_flux_corr', 'nb921_hsc_flux_corr'\n",
    "    ]\n",
    "y_column = \"Classification\"\n",
    "\n",
    "classes = ['jet-mode radio AGN/low-excitation radio galaxy', 'quasar-like radio AGN / high-excitation radio galaxy', \n",
    "           'radio-quiet AGN', 'star-forming galaxy']"
   ]
  },
  {
   "cell_type": "code",
   "execution_count": 30,
   "id": "3d276ed7",
   "metadata": {},
   "outputs": [],
   "source": [
    "data = pd.read_csv(\"../../Data/Best&Heckman/BestHeckman+SDSS+wise+LOFAR_better_fixed_fluxes.csv\")"
   ]
  },
  {
   "cell_type": "code",
   "execution_count": 31,
   "id": "7b2e5a20",
   "metadata": {},
   "outputs": [],
   "source": [
    "# Only selecting data with a classification\n",
    "data = data[data['Classification'] != 'Radio-loud AGN'] "
   ]
  },
  {
   "cell_type": "code",
   "execution_count": 32,
   "id": "ff238523",
   "metadata": {},
   "outputs": [
    {
     "data": {
      "text/plain": [
       "Index(['RAJ2000', 'DEJ2000', 'Z_BEST', 'SimbadName', 'u_flux_corr',\n",
       "       'g_flux_corr', 'R_flux_corr', 'I_flux_corr', 'z_flux_corr',\n",
       "       'Classification', 'wise_ra', 'wise_dec', 'ch1_flux_corr',\n",
       "       'ch2_flux_corr', 'tmass_key', 'J_flux_corr', 'H_flux_corr',\n",
       "       'Ks_flux_corr', 'E_Total_flux', 'E_Peak_flux', 'Total_flux',\n",
       "       'Peak_flux'],\n",
       "      dtype='object')"
      ]
     },
     "execution_count": 32,
     "metadata": {},
     "output_type": "execute_result"
    }
   ],
   "source": [
    "data.columns"
   ]
  },
  {
   "cell_type": "code",
   "execution_count": 33,
   "id": "97fbc5d1",
   "metadata": {},
   "outputs": [],
   "source": [
    "X = data.drop(columns=['RAJ2000', 'DEJ2000', 'SimbadName','Classification', 'wise_ra', 'wise_dec', \n",
    "                        'tmass_key', 'E_Total_flux', 'E_Peak_flux'])\n",
    "y = data[['Classification']]"
   ]
  },
  {
   "cell_type": "markdown",
   "id": "1f56f6c8",
   "metadata": {},
   "source": [
    "# Dropping columns with little data (optional)"
   ]
  },
  {
   "cell_type": "code",
   "execution_count": 34,
   "id": "76e532d5",
   "metadata": {},
   "outputs": [],
   "source": [
    "X = X.drop(columns=['H_flux_corr', 'Ks_flux_corr',\n",
    "                   'g_flux_corr'])"
   ]
  },
  {
   "cell_type": "markdown",
   "id": "5cd6dcc1",
   "metadata": {},
   "source": [
    "## Filling nan's"
   ]
  },
  {
   "cell_type": "code",
   "execution_count": 35,
   "id": "7b5547a0",
   "metadata": {},
   "outputs": [],
   "source": [
    "imp = IterativeImputer(max_iter=100, min_value=0)\n",
    "X_filled = imp.fit_transform(X)"
   ]
  },
  {
   "cell_type": "markdown",
   "id": "0e68d8b7",
   "metadata": {},
   "source": [
    "## Normalisations"
   ]
  },
  {
   "cell_type": "code",
   "execution_count": 222,
   "id": "a5e2c05f",
   "metadata": {},
   "outputs": [],
   "source": [
    "from sklearn.preprocessing import MinMaxScaler, StandardScaler\n",
    "\n",
    "scaler = StandardScaler()\n",
    "X_filled = scaler.fit_transform(X_filled)"
   ]
  },
  {
   "cell_type": "markdown",
   "id": "6b280f74",
   "metadata": {},
   "source": [
    "## Kmeans"
   ]
  },
  {
   "cell_type": "code",
   "execution_count": 98,
   "id": "f5f4f879",
   "metadata": {},
   "outputs": [
    {
     "data": {
      "text/html": [
       "<style>#sk-container-id-6 {color: black;background-color: white;}#sk-container-id-6 pre{padding: 0;}#sk-container-id-6 div.sk-toggleable {background-color: white;}#sk-container-id-6 label.sk-toggleable__label {cursor: pointer;display: block;width: 100%;margin-bottom: 0;padding: 0.3em;box-sizing: border-box;text-align: center;}#sk-container-id-6 label.sk-toggleable__label-arrow:before {content: \"▸\";float: left;margin-right: 0.25em;color: #696969;}#sk-container-id-6 label.sk-toggleable__label-arrow:hover:before {color: black;}#sk-container-id-6 div.sk-estimator:hover label.sk-toggleable__label-arrow:before {color: black;}#sk-container-id-6 div.sk-toggleable__content {max-height: 0;max-width: 0;overflow: hidden;text-align: left;background-color: #f0f8ff;}#sk-container-id-6 div.sk-toggleable__content pre {margin: 0.2em;color: black;border-radius: 0.25em;background-color: #f0f8ff;}#sk-container-id-6 input.sk-toggleable__control:checked~div.sk-toggleable__content {max-height: 200px;max-width: 100%;overflow: auto;}#sk-container-id-6 input.sk-toggleable__control:checked~label.sk-toggleable__label-arrow:before {content: \"▾\";}#sk-container-id-6 div.sk-estimator input.sk-toggleable__control:checked~label.sk-toggleable__label {background-color: #d4ebff;}#sk-container-id-6 div.sk-label input.sk-toggleable__control:checked~label.sk-toggleable__label {background-color: #d4ebff;}#sk-container-id-6 input.sk-hidden--visually {border: 0;clip: rect(1px 1px 1px 1px);clip: rect(1px, 1px, 1px, 1px);height: 1px;margin: -1px;overflow: hidden;padding: 0;position: absolute;width: 1px;}#sk-container-id-6 div.sk-estimator {font-family: monospace;background-color: #f0f8ff;border: 1px dotted black;border-radius: 0.25em;box-sizing: border-box;margin-bottom: 0.5em;}#sk-container-id-6 div.sk-estimator:hover {background-color: #d4ebff;}#sk-container-id-6 div.sk-parallel-item::after {content: \"\";width: 100%;border-bottom: 1px solid gray;flex-grow: 1;}#sk-container-id-6 div.sk-label:hover label.sk-toggleable__label {background-color: #d4ebff;}#sk-container-id-6 div.sk-serial::before {content: \"\";position: absolute;border-left: 1px solid gray;box-sizing: border-box;top: 0;bottom: 0;left: 50%;z-index: 0;}#sk-container-id-6 div.sk-serial {display: flex;flex-direction: column;align-items: center;background-color: white;padding-right: 0.2em;padding-left: 0.2em;position: relative;}#sk-container-id-6 div.sk-item {position: relative;z-index: 1;}#sk-container-id-6 div.sk-parallel {display: flex;align-items: stretch;justify-content: center;background-color: white;position: relative;}#sk-container-id-6 div.sk-item::before, #sk-container-id-6 div.sk-parallel-item::before {content: \"\";position: absolute;border-left: 1px solid gray;box-sizing: border-box;top: 0;bottom: 0;left: 50%;z-index: -1;}#sk-container-id-6 div.sk-parallel-item {display: flex;flex-direction: column;z-index: 1;position: relative;background-color: white;}#sk-container-id-6 div.sk-parallel-item:first-child::after {align-self: flex-end;width: 50%;}#sk-container-id-6 div.sk-parallel-item:last-child::after {align-self: flex-start;width: 50%;}#sk-container-id-6 div.sk-parallel-item:only-child::after {width: 0;}#sk-container-id-6 div.sk-dashed-wrapped {border: 1px dashed gray;margin: 0 0.4em 0.5em 0.4em;box-sizing: border-box;padding-bottom: 0.4em;background-color: white;}#sk-container-id-6 div.sk-label label {font-family: monospace;font-weight: bold;display: inline-block;line-height: 1.2em;}#sk-container-id-6 div.sk-label-container {text-align: center;}#sk-container-id-6 div.sk-container {/* jupyter's `normalize.less` sets `[hidden] { display: none; }` but bootstrap.min.css set `[hidden] { display: none !important; }` so we also need the `!important` here to be able to override the default hidden behavior on the sphinx rendered scikit-learn.org. See: https://github.com/scikit-learn/scikit-learn/issues/21755 */display: inline-block !important;position: relative;}#sk-container-id-6 div.sk-text-repr-fallback {display: none;}</style><div id=\"sk-container-id-6\" class=\"sk-top-container\"><div class=\"sk-text-repr-fallback\"><pre>KMeans(random_state=0)</pre><b>In a Jupyter environment, please rerun this cell to show the HTML representation or trust the notebook. <br />On GitHub, the HTML representation is unable to render, please try loading this page with nbviewer.org.</b></div><div class=\"sk-container\" hidden><div class=\"sk-item\"><div class=\"sk-estimator sk-toggleable\"><input class=\"sk-toggleable__control sk-hidden--visually\" id=\"sk-estimator-id-6\" type=\"checkbox\" checked><label for=\"sk-estimator-id-6\" class=\"sk-toggleable__label sk-toggleable__label-arrow\">KMeans</label><div class=\"sk-toggleable__content\"><pre>KMeans(random_state=0)</pre></div></div></div></div></div>"
      ],
      "text/plain": [
       "KMeans(random_state=0)"
      ]
     },
     "execution_count": 98,
     "metadata": {},
     "output_type": "execute_result"
    }
   ],
   "source": [
    "n = 8\n",
    "kmeans = KMeans(n_clusters=n, random_state=0)\n",
    "kmeans.fit(X_filled)"
   ]
  },
  {
   "cell_type": "code",
   "execution_count": 99,
   "id": "5a9fbd72",
   "metadata": {},
   "outputs": [
    {
     "data": {
      "text/plain": [
       "(array([0, 1, 2, 3, 4, 5, 6, 7], dtype=int32),\n",
       " array([9070,    1,   10,    3,   34, 3900,  143,    1]))"
      ]
     },
     "execution_count": 99,
     "metadata": {},
     "output_type": "execute_result"
    }
   ],
   "source": [
    "np.unique(kmeans.labels_, return_counts=True)"
   ]
  },
  {
   "cell_type": "code",
   "execution_count": 162,
   "id": "31e02f8b",
   "metadata": {},
   "outputs": [],
   "source": [
    "from scipy.spatial.distance import cdist\n",
    "\n",
    "distortions = []\n",
    "inertias = []\n",
    "mapping1 = {}\n",
    "mapping2 = {}\n",
    "K = range(1, 15)\n",
    "  \n",
    "for k in K:\n",
    "    # Building and fitting the model\n",
    "    kmeanModel = KMeans(n_clusters=k).fit(X_filled)\n",
    "    kmeanModel.fit(X_filled)\n",
    "  \n",
    "    distortions.append(sum(np.min(cdist(X_filled, kmeanModel.cluster_centers_,\n",
    "                                        'euclidean'), axis=1)) / X_filled.shape[0])\n",
    "    inertias.append(kmeanModel.inertia_)\n",
    "  \n",
    "    mapping1[k] = sum(np.min(cdist(X_filled, kmeanModel.cluster_centers_,\n",
    "                                   'euclidean'), axis=1)) / X_filled.shape[0]\n",
    "    mapping2[k] = kmeanModel.inertia_"
   ]
  },
  {
   "cell_type": "code",
   "execution_count": 84,
   "id": "601fc6f8",
   "metadata": {},
   "outputs": [
    {
     "data": {
      "image/png": "[encoded data removed]",
      "text/plain": [
       "<Figure size 432x288 with 1 Axes>"
      ]
     },
     "metadata": {
      "needs_background": "light"
     },
     "output_type": "display_data"
    }
   ],
   "source": [
    "plt.plot(K, distortions, 'bx-')\n",
    "plt.xlabel('Values of K')\n",
    "plt.ylabel('Distortion')\n",
    "plt.title('The Elbow Method using Distortion')\n",
    "plt.show()"
   ]
  },
  {
   "cell_type": "code",
   "execution_count": 188,
   "id": "5945efec",
   "metadata": {},
   "outputs": [],
   "source": [
    "data['KMeans'] = kmeans.labels_\n",
    "data.to_csv('Kmeans.csv', index=False)"
   ]
  },
  {
   "cell_type": "markdown",
   "id": "ba623097",
   "metadata": {},
   "source": [
    "# Spectral clustering"
   ]
  },
  {
   "cell_type": "code",
   "execution_count": 9,
   "id": "870d4341",
   "metadata": {},
   "outputs": [],
   "source": [
    "from sklearn.cluster import SpectralClustering"
   ]
  },
  {
   "cell_type": "code",
   "execution_count": 24,
   "id": "d81ed285",
   "metadata": {
    "scrolled": true
   },
   "outputs": [
    {
     "name": "stdout",
     "output_type": "stream",
     "text": [
      "Computing label assignment using kmeans\n",
      "Initialization complete\n",
      "Iteration 0, inertia 0.3162695219649264.\n",
      "Iteration 1, inertia 0.2308644034066994.\n",
      "Iteration 2, inertia 0.22303377588492246.\n",
      "Iteration 3, inertia 0.22094074606714087.\n",
      "Iteration 4, inertia 0.2206109831984493.\n",
      "Iteration 5, inertia 0.22047506487630272.\n",
      "Iteration 6, inertia 0.2204089397758569.\n",
      "Iteration 7, inertia 0.2203919621273739.\n",
      "Iteration 8, inertia 0.2203868248343692.\n",
      "Converged at iteration 8: center shift 6.599538775868249e-10 within tolerance 7.571995051085146e-10.\n",
      "Initialization complete\n",
      "Iteration 0, inertia 0.32151394855547416.\n",
      "Iteration 1, inertia 0.25514014677564056.\n",
      "Iteration 2, inertia 0.2357239707383549.\n",
      "Iteration 3, inertia 0.22648727108304084.\n",
      "Iteration 4, inertia 0.22237100327780326.\n",
      "Iteration 5, inertia 0.22117179338441936.\n",
      "Iteration 6, inertia 0.22077027966920715.\n",
      "Iteration 7, inertia 0.22060790353507537.\n",
      "Iteration 8, inertia 0.22046479735552363.\n",
      "Iteration 9, inertia 0.22040648137274826.\n",
      "Iteration 10, inertia 0.22039180960624527.\n",
      "Iteration 11, inertia 0.22038789461607777.\n",
      "Iteration 12, inertia 0.2203862310825282.\n",
      "Converged at iteration 12: center shift 1.524706318075618e-10 within tolerance 7.571995051085146e-10.\n",
      "Initialization complete\n",
      "Iteration 0, inertia 0.3537414651445878.\n",
      "Iteration 1, inertia 0.2799669442377056.\n",
      "Iteration 2, inertia 0.2621336841221625.\n",
      "Iteration 3, inertia 0.2516454684069709.\n",
      "Iteration 4, inertia 0.23888648078595956.\n",
      "Iteration 5, inertia 0.22828420672598876.\n",
      "Iteration 6, inertia 0.22361877830639015.\n",
      "Iteration 7, inertia 0.22153767717845332.\n",
      "Iteration 8, inertia 0.22074403535594886.\n",
      "Iteration 9, inertia 0.22049669407767622.\n",
      "Iteration 10, inertia 0.22043205269562918.\n",
      "Iteration 11, inertia 0.220403593100685.\n",
      "Iteration 12, inertia 0.22038889730125538.\n",
      "Iteration 13, inertia 0.2203849106452846.\n",
      "Converged at iteration 13: center shift 2.4717562809195405e-10 within tolerance 7.571995051085146e-10.\n",
      "Initialization complete\n",
      "Iteration 0, inertia 0.35607091526326085.\n",
      "Iteration 1, inertia 0.29180246307347607.\n",
      "Iteration 2, inertia 0.2844097594461479.\n",
      "Iteration 3, inertia 0.28188782951678837.\n",
      "Iteration 4, inertia 0.28061318050409906.\n",
      "Iteration 5, inertia 0.27820588078467745.\n",
      "Iteration 6, inertia 0.27592724644404537.\n",
      "Iteration 7, inertia 0.27203265685884226.\n",
      "Iteration 8, inertia 0.2629672169654885.\n",
      "Iteration 9, inertia 0.2486151739760463.\n",
      "Iteration 10, inertia 0.2339918078560791.\n",
      "Iteration 11, inertia 0.22614340703973732.\n",
      "Iteration 12, inertia 0.22300209294787907.\n",
      "Iteration 13, inertia 0.22124973341126183.\n",
      "Iteration 14, inertia 0.22067843542122048.\n",
      "Iteration 15, inertia 0.22050035828877.\n",
      "Iteration 16, inertia 0.22042407515508017.\n",
      "Iteration 17, inertia 0.22039900017213873.\n",
      "Iteration 18, inertia 0.2203932014119771.\n",
      "Iteration 19, inertia 0.22039057826403652.\n",
      "Iteration 20, inertia 0.2203880953421921.\n",
      "Converged at iteration 20: center shift 1.0426392785882566e-10 within tolerance 7.571995051085146e-10.\n",
      "Initialization complete\n",
      "Iteration 0, inertia 0.36759254248346906.\n",
      "Iteration 1, inertia 0.2807000699764234.\n",
      "Iteration 2, inertia 0.27323722038232295.\n",
      "Iteration 3, inertia 0.27169439284602415.\n",
      "Iteration 4, inertia 0.2711124517620212.\n",
      "Iteration 5, inertia 0.27090040629876344.\n",
      "Iteration 6, inertia 0.2708229823913845.\n",
      "Iteration 7, inertia 0.2707666846097919.\n",
      "Iteration 8, inertia 0.2707224185208315.\n",
      "Iteration 9, inertia 0.2706786901980901.\n",
      "Iteration 10, inertia 0.2706366230068921.\n",
      "Iteration 11, inertia 0.2705970570571431.\n",
      "Iteration 12, inertia 0.2705628999645286.\n",
      "Iteration 13, inertia 0.2705409266695756.\n",
      "Iteration 14, inertia 0.27052465087708094.\n",
      "Iteration 15, inertia 0.2705099330368352.\n",
      "Iteration 16, inertia 0.27049765398072007.\n",
      "Iteration 17, inertia 0.2704863501666858.\n",
      "Iteration 18, inertia 0.2704705830335178.\n",
      "Iteration 19, inertia 0.2704493935869526.\n",
      "Iteration 20, inertia 0.27041859374831073.\n",
      "Iteration 21, inertia 0.2703857374849208.\n",
      "Iteration 22, inertia 0.2703696288837994.\n",
      "Iteration 23, inertia 0.27035509810649117.\n",
      "Iteration 24, inertia 0.27033889397267724.\n",
      "Iteration 25, inertia 0.27032865420971364.\n",
      "Iteration 26, inertia 0.27032136297754783.\n",
      "Iteration 27, inertia 0.27031626618077526.\n",
      "Iteration 28, inertia 0.27031451475439483.\n",
      "Converged at iteration 28: center shift 2.921694631839896e-10 within tolerance 7.571995051085146e-10.\n",
      "Initialization complete\n",
      "Iteration 0, inertia 0.3741597349579691.\n",
      "Iteration 1, inertia 0.27247915053890553.\n",
      "Iteration 2, inertia 0.260421689534636.\n",
      "Iteration 3, inertia 0.25427232417307594.\n",
      "Iteration 4, inertia 0.24726435480193576.\n",
      "Iteration 5, inertia 0.23845339868925386.\n",
      "Iteration 6, inertia 0.23028044601523479.\n",
      "Iteration 7, inertia 0.22468052998340918.\n",
      "Iteration 8, inertia 0.2220311689991658.\n",
      "Iteration 9, inertia 0.22117064159911556.\n",
      "Iteration 10, inertia 0.22077067007729395.\n",
      "Iteration 11, inertia 0.22057118905968737.\n",
      "Iteration 12, inertia 0.22046463138211417.\n",
      "Iteration 13, inertia 0.22041929841275038.\n",
      "Iteration 14, inertia 0.22039919861938004.\n",
      "Iteration 15, inertia 0.22038985194384728.\n",
      "Iteration 16, inertia 0.22038704821994748.\n",
      "Converged at iteration 16: center shift 2.716720304162386e-10 within tolerance 7.571995051085146e-10.\n",
      "Initialization complete\n",
      "Iteration 0, inertia 0.32671599135609963.\n",
      "Iteration 1, inertia 0.2758580833021643.\n",
      "Iteration 2, inertia 0.27422275200112556.\n",
      "Iteration 3, inertia 0.27393164472162623.\n",
      "Iteration 4, inertia 0.27381510394049746.\n",
      "Iteration 5, inertia 0.2737863175580466.\n",
      "Iteration 6, inertia 0.2737790009604325.\n",
      "Iteration 7, inertia 0.2737744385123337.\n",
      "Iteration 8, inertia 0.27376868133077564.\n",
      "Iteration 9, inertia 0.27376569397130585.\n",
      "Iteration 10, inertia 0.27376139496316065.\n",
      "Iteration 11, inertia 0.2737592517026951.\n",
      "Converged at iteration 11: center shift 2.1643731672295043e-10 within tolerance 7.571995051085146e-10.\n",
      "Initialization complete\n",
      "Iteration 0, inertia 0.31623054153576485.\n",
      "Iteration 1, inertia 0.26489349539754314.\n",
      "Iteration 2, inertia 0.2507918068065574.\n",
      "Iteration 3, inertia 0.23778570855299333.\n",
      "Iteration 4, inertia 0.22866323191838178.\n",
      "Iteration 5, inertia 0.22381608818143892.\n",
      "Iteration 6, inertia 0.2215789721244866.\n",
      "Iteration 7, inertia 0.22085235643160944.\n",
      "Iteration 8, inertia 0.22059106017517907.\n",
      "Iteration 9, inertia 0.2204499386027975.\n",
      "Iteration 10, inertia 0.22040428477187518.\n",
      "Iteration 11, inertia 0.22039097899885376.\n",
      "Iteration 12, inertia 0.2203858036755192.\n",
      "Iteration 13, inertia 0.22038412981553815.\n",
      "Converged at iteration 13: center shift 2.0190256677616235e-10 within tolerance 7.571995051085146e-10.\n",
      "Initialization complete\n",
      "Iteration 0, inertia 0.35370291062518255.\n",
      "Iteration 1, inertia 0.2563589607532942.\n",
      "Iteration 2, inertia 0.23152864296504938.\n",
      "Iteration 3, inertia 0.22560340980580385.\n",
      "Iteration 4, inertia 0.2230185818923008.\n",
      "Iteration 5, inertia 0.22197018191271586.\n",
      "Iteration 6, inertia 0.22140846725442676.\n",
      "Iteration 7, inertia 0.22092245513308106.\n",
      "Iteration 8, inertia 0.22062955784873325.\n",
      "Iteration 9, inertia 0.22048616745595315.\n",
      "Iteration 10, inertia 0.22042408528901736.\n",
      "Iteration 11, inertia 0.22040191703747655.\n",
      "Iteration 12, inertia 0.22039400421198496.\n",
      "Iteration 13, inertia 0.220390860737813.\n",
      "Iteration 14, inertia 0.22038837781596846.\n",
      "Converged at iteration 14: center shift 1.0426392785882566e-10 within tolerance 7.571995051085146e-10.\n",
      "Initialization complete\n",
      "Iteration 0, inertia 0.3309118079584385.\n",
      "Iteration 1, inertia 0.2326376269820297.\n",
      "Iteration 2, inertia 0.22324567687196137.\n",
      "Iteration 3, inertia 0.2212562398082008.\n",
      "Iteration 4, inertia 0.22078089413954843.\n",
      "Iteration 5, inertia 0.22063005825144683.\n",
      "Iteration 6, inertia 0.22054920882191162.\n",
      "Iteration 7, inertia 0.22043909869544062.\n",
      "Iteration 8, inertia 0.2203952926640105.\n",
      "Iteration 9, inertia 0.22038535610305082.\n",
      "Iteration 10, inertia 0.22038357044019266.\n",
      "Converged at iteration 10: center shift 7.754685162743638e-11 within tolerance 7.571995051085146e-10.\n",
      "Computing label assignment using kmeans\n",
      "Initialization complete\n",
      "Iteration 0, inertia 0.3933993123678634.\n",
      "Iteration 1, inertia 0.24251991595184683.\n",
      "Iteration 2, inertia 0.22952810665444495.\n",
      "Iteration 3, inertia 0.22382817186683018.\n",
      "Iteration 4, inertia 0.22172259572050562.\n",
      "Iteration 5, inertia 0.22106023147420095.\n",
      "Iteration 6, inertia 0.22074172261461208.\n",
      "Iteration 7, inertia 0.22056898640317038.\n",
      "Iteration 8, inertia 0.22045621765455928.\n",
      "Iteration 9, inertia 0.22041765462209678.\n",
      "Iteration 10, inertia 0.22039760094811864.\n",
      "Iteration 11, inertia 0.2203894835634966.\n",
      "Iteration 12, inertia 0.22038718360508622.\n",
      "Converged at iteration 12: center shift 1.5328170389298063e-10 within tolerance 7.571995051085164e-10.\n",
      "Initialization complete\n",
      "Iteration 0, inertia 0.3391601873898206.\n",
      "Iteration 1, inertia 0.23981745273258734.\n",
      "Iteration 2, inertia 0.22507891247723838.\n",
      "Iteration 3, inertia 0.22218023660712072.\n",
      "Iteration 4, inertia 0.22096382407841147.\n",
      "Iteration 5, inertia 0.22060110432127106.\n",
      "Iteration 6, inertia 0.22047832069677525.\n",
      "Iteration 7, inertia 0.22042210675239557.\n",
      "Iteration 8, inertia 0.22039966699196703.\n",
      "Iteration 9, inertia 0.22039178925594666.\n",
      "Iteration 10, inertia 0.22038843041712416.\n",
      "Converged at iteration 10: center shift 1.3922991682778952e-10 within tolerance 7.571995051085164e-10.\n",
      "Initialization complete\n",
      "Iteration 0, inertia 0.37781180175279927.\n",
      "Iteration 1, inertia 0.290016973368083.\n",
      "Iteration 2, inertia 0.2791142922307046.\n",
      "Iteration 3, inertia 0.27549014650379566.\n",
      "Iteration 4, inertia 0.2744618709365835.\n",
      "Iteration 5, inertia 0.2741555381906004.\n",
      "Iteration 6, inertia 0.2739301107554584.\n",
      "Iteration 7, inertia 0.2736452630712897.\n",
      "Iteration 8, inertia 0.2733866883238564.\n",
      "Iteration 9, inertia 0.27318004519601147.\n",
      "Iteration 10, inertia 0.2729570081218846.\n",
      "Iteration 11, inertia 0.2726763194763783.\n",
      "Iteration 12, inertia 0.27226038759195276.\n",
      "Iteration 13, inertia 0.2718292520914103.\n",
      "Iteration 14, inertia 0.2714977695390751.\n",
      "Iteration 15, inertia 0.27122429091287126.\n",
      "Iteration 16, inertia 0.2710603336653504.\n",
      "Iteration 17, inertia 0.2709253793183502.\n",
      "Iteration 18, inertia 0.2708502421547041.\n",
      "Iteration 19, inertia 0.27080719747805093.\n",
      "Iteration 20, inertia 0.27077124830315974.\n",
      "Iteration 21, inertia 0.27073189454523916.\n",
      "Iteration 22, inertia 0.2707060149401298.\n",
      "Iteration 23, inertia 0.27068132253175914.\n",
      "Iteration 24, inertia 0.2706485886653114.\n",
      "Iteration 25, inertia 0.27060990907721943.\n",
      "Iteration 26, inertia 0.2705793184274217.\n",
      "Iteration 27, inertia 0.27055074987575206.\n",
      "Iteration 28, inertia 0.2705320775185844.\n",
      "Iteration 29, inertia 0.2705165502341708.\n",
      "Iteration 30, inertia 0.2705000079468046.\n",
      "Iteration 31, inertia 0.2704882754802215.\n",
      "Iteration 32, inertia 0.2704732333487482.\n",
      "Iteration 33, inertia 0.27045357699307354.\n",
      "Iteration 34, inertia 0.27042775085725695.\n",
      "Iteration 35, inertia 0.2703894984221607.\n",
      "Iteration 36, inertia 0.270370871609937.\n",
      "Iteration 37, inertia 0.2703557510248649.\n",
      "Iteration 38, inertia 0.27033889397266514.\n",
      "Iteration 39, inertia 0.2703286542097041.\n",
      "Iteration 40, inertia 0.27032136297753756.\n",
      "Iteration 41, inertia 0.2703162661807626.\n",
      "Iteration 42, inertia 0.2703145147543846.\n",
      "Converged at iteration 42: center shift 2.921694631842356e-10 within tolerance 7.571995051085164e-10.\n",
      "Initialization complete\n",
      "Iteration 0, inertia 0.37881362772266836.\n",
      "Iteration 1, inertia 0.2916521013397464.\n",
      "Iteration 2, inertia 0.28274978817500634.\n",
      "Iteration 3, inertia 0.2805297467520565.\n",
      "Iteration 4, inertia 0.2797588515846803.\n",
      "Iteration 5, inertia 0.27939904031136714.\n",
      "Iteration 6, inertia 0.2790279135733778.\n",
      "Iteration 7, inertia 0.27853469841022077.\n",
      "Iteration 8, inertia 0.27792716882118096.\n",
      "Iteration 9, inertia 0.2770040752129052.\n",
      "Iteration 10, inertia 0.2763720368554659.\n",
      "Iteration 11, inertia 0.2756636612304013.\n",
      "Iteration 12, inertia 0.27445351727275663.\n",
      "Iteration 13, inertia 0.2729523565330109.\n",
      "Iteration 14, inertia 0.2712282490366267.\n",
      "Iteration 15, inertia 0.2691985709226692.\n",
      "Iteration 16, inertia 0.2665114325921646.\n",
      "Iteration 17, inertia 0.2632532938132867.\n",
      "Iteration 18, inertia 0.2582062224744347.\n",
      "Iteration 19, inertia 0.2478986202810118.\n",
      "Iteration 20, inertia 0.2329869802099824.\n",
      "Iteration 21, inertia 0.22500223450614543.\n",
      "Iteration 22, inertia 0.2218561335869745.\n",
      "Iteration 23, inertia 0.22100226786178423.\n",
      "Iteration 24, inertia 0.22071038500427495.\n",
      "Iteration 25, inertia 0.22059261204585678.\n",
      "Iteration 26, inertia 0.2204590842283552.\n",
      "Iteration 27, inertia 0.22040431446167974.\n",
      "Iteration 28, inertia 0.220390886288749.\n",
      "Iteration 29, inertia 0.2203876391500192.\n",
      "Converged at iteration 29: center shift 7.536239310012455e-10 within tolerance 7.571995051085164e-10.\n",
      "Initialization complete\n",
      "Iteration 0, inertia 0.3597300500411922.\n",
      "Iteration 1, inertia 0.3090424082919866.\n",
      "Iteration 2, inertia 0.28990771999858794.\n",
      "Iteration 3, inertia 0.2796522545838822.\n",
      "Iteration 4, inertia 0.27417541573909016.\n",
      "Iteration 5, inertia 0.26949189548291685.\n",
      "Iteration 6, inertia 0.26299908302644787.\n",
      "Iteration 7, inertia 0.2534225273350373.\n",
      "Iteration 8, inertia 0.2431191888048698.\n",
      "Iteration 9, inertia 0.2342924925065139.\n",
      "Iteration 10, inertia 0.22711440870717836.\n",
      "Iteration 11, inertia 0.2234335834810929.\n",
      "Iteration 12, inertia 0.22217316407750842.\n",
      "Iteration 13, inertia 0.22148855451783397.\n",
      "Iteration 14, inertia 0.22097973449301656.\n",
      "Iteration 15, inertia 0.2206527349180935.\n",
      "Iteration 16, inertia 0.22050137812064682.\n",
      "Iteration 17, inertia 0.22043003075652645.\n",
      "Iteration 18, inertia 0.22040222707097773.\n",
      "Iteration 19, inertia 0.22039372173819788.\n",
      "Iteration 20, inertia 0.22039057826402522.\n",
      "Iteration 21, inertia 0.2203880953421803.\n",
      "Converged at iteration 21: center shift 1.0426392785881764e-10 within tolerance 7.571995051085164e-10.\n",
      "Initialization complete\n",
      "Iteration 0, inertia 0.3686903161762693.\n",
      "Iteration 1, inertia 0.2662831056577324.\n",
      "Iteration 2, inertia 0.2332541253474708.\n",
      "Iteration 3, inertia 0.22404099002915434.\n",
      "Iteration 4, inertia 0.2217337948126952.\n",
      "Iteration 5, inertia 0.22078852269001017.\n",
      "Iteration 6, inertia 0.22064262191086417.\n",
      "Iteration 7, inertia 0.22058933224126476.\n",
      "Iteration 8, inertia 0.22053535457588908.\n",
      "Iteration 9, inertia 0.22043293602551148.\n",
      "Iteration 10, inertia 0.22039721762425485.\n",
      "Iteration 11, inertia 0.22038761356409392.\n",
      "Converged at iteration 11: center shift 5.853558556327782e-10 within tolerance 7.571995051085164e-10.\n",
      "Initialization complete\n",
      "Iteration 0, inertia 0.3227155497892952.\n",
      "Iteration 1, inertia 0.25656149789266136.\n",
      "Iteration 2, inertia 0.23860827812112123.\n",
      "Iteration 3, inertia 0.22945042336755542.\n",
      "Iteration 4, inertia 0.22480791693422064.\n",
      "Iteration 5, inertia 0.22282281095134931.\n",
      "Iteration 6, inertia 0.22186067273593588.\n",
      "Iteration 7, inertia 0.22121788272589632.\n",
      "Iteration 8, inertia 0.2207826440630276.\n",
      "Iteration 9, inertia 0.22055169164690938.\n",
      "Iteration 10, inertia 0.2204520069765636.\n",
      "Iteration 11, inertia 0.2204088763625272.\n",
      "Iteration 12, inertia 0.22039654187179591.\n",
      "Iteration 13, inertia 0.22039186129271846.\n",
      "Converged at iteration 13: center shift 4.6247163896371146e-10 within tolerance 7.571995051085164e-10.\n"
     ]
    },
    {
     "name": "stdout",
     "output_type": "stream",
     "text": [
      "Initialization complete\n",
      "Iteration 0, inertia 0.3305720538108269.\n",
      "Iteration 1, inertia 0.24562941491354395.\n",
      "Iteration 2, inertia 0.22829244580334754.\n",
      "Iteration 3, inertia 0.22341246349790655.\n",
      "Iteration 4, inertia 0.22146395067861058.\n",
      "Iteration 5, inertia 0.2207957355980301.\n",
      "Iteration 6, inertia 0.22057132962490453.\n",
      "Iteration 7, inertia 0.22044531436455683.\n",
      "Iteration 8, inertia 0.2204016127297512.\n",
      "Iteration 9, inertia 0.22038895690025598.\n",
      "Iteration 10, inertia 0.2203849276840609.\n",
      "Converged at iteration 10: center shift 5.839208866048879e-10 within tolerance 7.571995051085164e-10.\n",
      "Initialization complete\n",
      "Iteration 0, inertia 0.355631519475798.\n",
      "Iteration 1, inertia 0.26872041115531614.\n",
      "Iteration 2, inertia 0.2508190469446814.\n",
      "Iteration 3, inertia 0.22995232133133844.\n",
      "Iteration 4, inertia 0.22112457345526654.\n",
      "Iteration 5, inertia 0.2205689207693682.\n",
      "Iteration 6, inertia 0.22045309684752248.\n",
      "Iteration 7, inertia 0.22040324047197327.\n",
      "Iteration 8, inertia 0.22039026579726495.\n",
      "Iteration 9, inertia 0.22038705465920713.\n",
      "Converged at iteration 9: center shift 6.296923595490061e-10 within tolerance 7.571995051085164e-10.\n",
      "Initialization complete\n",
      "Iteration 0, inertia 0.35319076021943946.\n",
      "Iteration 1, inertia 0.2636203286358179.\n",
      "Iteration 2, inertia 0.23084956594943104.\n",
      "Iteration 3, inertia 0.2232254805654141.\n",
      "Iteration 4, inertia 0.22181480932179293.\n",
      "Iteration 5, inertia 0.2210890400994778.\n",
      "Iteration 6, inertia 0.22069265917443695.\n",
      "Iteration 7, inertia 0.2205008134721637.\n",
      "Iteration 8, inertia 0.22042998489491486.\n",
      "Iteration 9, inertia 0.22040274268478166.\n",
      "Iteration 10, inertia 0.22039372173819788.\n",
      "Iteration 11, inertia 0.22039057826402522.\n",
      "Iteration 12, inertia 0.2203880953421803.\n",
      "Converged at iteration 12: center shift 1.0426392785881764e-10 within tolerance 7.571995051085164e-10.\n"
     ]
    },
    {
     "data": {
      "text/html": [
       "<style>#sk-container-id-4 {color: black;background-color: white;}#sk-container-id-4 pre{padding: 0;}#sk-container-id-4 div.sk-toggleable {background-color: white;}#sk-container-id-4 label.sk-toggleable__label {cursor: pointer;display: block;width: 100%;margin-bottom: 0;padding: 0.3em;box-sizing: border-box;text-align: center;}#sk-container-id-4 label.sk-toggleable__label-arrow:before {content: \"▸\";float: left;margin-right: 0.25em;color: #696969;}#sk-container-id-4 label.sk-toggleable__label-arrow:hover:before {color: black;}#sk-container-id-4 div.sk-estimator:hover label.sk-toggleable__label-arrow:before {color: black;}#sk-container-id-4 div.sk-toggleable__content {max-height: 0;max-width: 0;overflow: hidden;text-align: left;background-color: #f0f8ff;}#sk-container-id-4 div.sk-toggleable__content pre {margin: 0.2em;color: black;border-radius: 0.25em;background-color: #f0f8ff;}#sk-container-id-4 input.sk-toggleable__control:checked~div.sk-toggleable__content {max-height: 200px;max-width: 100%;overflow: auto;}#sk-container-id-4 input.sk-toggleable__control:checked~label.sk-toggleable__label-arrow:before {content: \"▾\";}#sk-container-id-4 div.sk-estimator input.sk-toggleable__control:checked~label.sk-toggleable__label {background-color: #d4ebff;}#sk-container-id-4 div.sk-label input.sk-toggleable__control:checked~label.sk-toggleable__label {background-color: #d4ebff;}#sk-container-id-4 input.sk-hidden--visually {border: 0;clip: rect(1px 1px 1px 1px);clip: rect(1px, 1px, 1px, 1px);height: 1px;margin: -1px;overflow: hidden;padding: 0;position: absolute;width: 1px;}#sk-container-id-4 div.sk-estimator {font-family: monospace;background-color: #f0f8ff;border: 1px dotted black;border-radius: 0.25em;box-sizing: border-box;margin-bottom: 0.5em;}#sk-container-id-4 div.sk-estimator:hover {background-color: #d4ebff;}#sk-container-id-4 div.sk-parallel-item::after {content: \"\";width: 100%;border-bottom: 1px solid gray;flex-grow: 1;}#sk-container-id-4 div.sk-label:hover label.sk-toggleable__label {background-color: #d4ebff;}#sk-container-id-4 div.sk-serial::before {content: \"\";position: absolute;border-left: 1px solid gray;box-sizing: border-box;top: 0;bottom: 0;left: 50%;z-index: 0;}#sk-container-id-4 div.sk-serial {display: flex;flex-direction: column;align-items: center;background-color: white;padding-right: 0.2em;padding-left: 0.2em;position: relative;}#sk-container-id-4 div.sk-item {position: relative;z-index: 1;}#sk-container-id-4 div.sk-parallel {display: flex;align-items: stretch;justify-content: center;background-color: white;position: relative;}#sk-container-id-4 div.sk-item::before, #sk-container-id-4 div.sk-parallel-item::before {content: \"\";position: absolute;border-left: 1px solid gray;box-sizing: border-box;top: 0;bottom: 0;left: 50%;z-index: -1;}#sk-container-id-4 div.sk-parallel-item {display: flex;flex-direction: column;z-index: 1;position: relative;background-color: white;}#sk-container-id-4 div.sk-parallel-item:first-child::after {align-self: flex-end;width: 50%;}#sk-container-id-4 div.sk-parallel-item:last-child::after {align-self: flex-start;width: 50%;}#sk-container-id-4 div.sk-parallel-item:only-child::after {width: 0;}#sk-container-id-4 div.sk-dashed-wrapped {border: 1px dashed gray;margin: 0 0.4em 0.5em 0.4em;box-sizing: border-box;padding-bottom: 0.4em;background-color: white;}#sk-container-id-4 div.sk-label label {font-family: monospace;font-weight: bold;display: inline-block;line-height: 1.2em;}#sk-container-id-4 div.sk-label-container {text-align: center;}#sk-container-id-4 div.sk-container {/* jupyter's `normalize.less` sets `[hidden] { display: none; }` but bootstrap.min.css set `[hidden] { display: none !important; }` so we also need the `!important` here to be able to override the default hidden behavior on the sphinx rendered scikit-learn.org. See: https://github.com/scikit-learn/scikit-learn/issues/21755 */display: inline-block !important;position: relative;}#sk-container-id-4 div.sk-text-repr-fallback {display: none;}</style><div id=\"sk-container-id-4\" class=\"sk-top-container\"><div class=\"sk-text-repr-fallback\"><pre>SpectralClustering(affinity=&#x27;nearest_neighbors&#x27;, n_clusters=10, n_jobs=1,\n",
       "                   verbose=True)</pre><b>In a Jupyter environment, please rerun this cell to show the HTML representation or trust the notebook. <br />On GitHub, the HTML representation is unable to render, please try loading this page with nbviewer.org.</b></div><div class=\"sk-container\" hidden><div class=\"sk-item\"><div class=\"sk-estimator sk-toggleable\"><input class=\"sk-toggleable__control sk-hidden--visually\" id=\"sk-estimator-id-4\" type=\"checkbox\" checked><label for=\"sk-estimator-id-4\" class=\"sk-toggleable__label sk-toggleable__label-arrow\">SpectralClustering</label><div class=\"sk-toggleable__content\"><pre>SpectralClustering(affinity=&#x27;nearest_neighbors&#x27;, n_clusters=10, n_jobs=1,\n",
       "                   verbose=True)</pre></div></div></div></div></div>"
      ],
      "text/plain": [
       "SpectralClustering(affinity='nearest_neighbors', n_clusters=10, n_jobs=1,\n",
       "                   verbose=True)"
      ]
     },
     "execution_count": 24,
     "metadata": {},
     "output_type": "execute_result"
    }
   ],
   "source": [
    "clustering = SpectralClustering(n_clusters=10, n_jobs=1, verbose=True, \n",
    "                               affinity='nearest_neighbors',\n",
    "                               ).fit(X_filled)\n",
    "clustering.fit(X_filled)"
   ]
  },
  {
   "cell_type": "code",
   "execution_count": 25,
   "id": "80c47fdd",
   "metadata": {},
   "outputs": [
    {
     "data": {
      "text/plain": [
       "(array([0, 1, 2, 3, 4, 5, 6, 7, 8, 9], dtype=int32),\n",
       " array([1285, 1696,  749, 2068, 1357, 1401,  583, 2041, 1790,  192]))"
      ]
     },
     "execution_count": 25,
     "metadata": {},
     "output_type": "execute_result"
    }
   ],
   "source": [
    "np.unique(clustering.labels_, return_counts=True)"
   ]
  },
  {
   "cell_type": "code",
   "execution_count": 27,
   "id": "ffc62c94",
   "metadata": {},
   "outputs": [
    {
     "name": "stdout",
     "output_type": "stream",
     "text": [
      "0 :\n",
      "Classification                                      \n",
      "jet-mode radio AGN/low-excitation radio galaxy          0.109712\n",
      "star-forming galaxy                                     0.050463\n",
      "quasar-like radio AGN / high-excitation radio galaxy    0.138075\n",
      "dtype: float64\n",
      "\n",
      "1 :\n",
      "Classification                                      \n",
      "jet-mode radio AGN/low-excitation radio galaxy          0.146044\n",
      "star-forming galaxy                                     0.065568\n",
      "quasar-like radio AGN / high-excitation radio galaxy    0.163180\n",
      "dtype: float64\n",
      "\n",
      "2 :\n",
      "Classification                                      \n",
      "jet-mode radio AGN/low-excitation radio galaxy          0.049330\n",
      "star-forming galaxy                                     0.083076\n",
      "quasar-like radio AGN / high-excitation radio galaxy    0.052301\n",
      "dtype: float64\n",
      "\n",
      "3 :\n",
      "Classification                                      \n",
      "jet-mode radio AGN/low-excitation radio galaxy          0.168048\n",
      "star-forming galaxy                                     0.130793\n",
      "quasar-like radio AGN / high-excitation radio galaxy    0.094142\n",
      "dtype: float64\n",
      "\n",
      "4 :\n",
      "Classification                                      \n",
      "jet-mode radio AGN/low-excitation radio galaxy          0.094463\n",
      "star-forming galaxy                                     0.144525\n",
      "quasar-like radio AGN / high-excitation radio galaxy    0.027197\n",
      "dtype: float64\n",
      "\n",
      "5 :\n",
      "Classification                                      \n",
      "jet-mode radio AGN/low-excitation radio galaxy          0.105312\n",
      "star-forming galaxy                                     0.086852\n",
      "quasar-like radio AGN / high-excitation radio galaxy    0.248954\n",
      "dtype: float64\n",
      "\n",
      "6 :\n",
      "Classification                                      \n",
      "jet-mode radio AGN/low-excitation radio galaxy          0.049637\n",
      "star-forming galaxy                                     0.022657\n",
      "quasar-like radio AGN / high-excitation radio galaxy    0.066946\n",
      "dtype: float64\n",
      "\n",
      "7 :\n",
      "Classification                                      \n",
      "jet-mode radio AGN/low-excitation radio galaxy          0.131819\n",
      "star-forming galaxy                                     0.243392\n",
      "quasar-like radio AGN / high-excitation radio galaxy    0.092050\n",
      "dtype: float64\n",
      "\n",
      "8 :\n",
      "Classification                                      \n",
      "jet-mode radio AGN/low-excitation radio galaxy          0.129976\n",
      "star-forming galaxy                                     0.172331\n",
      "quasar-like radio AGN / high-excitation radio galaxy    0.037657\n",
      "dtype: float64\n",
      "\n",
      "9 :\n",
      "Classification                                      \n",
      "jet-mode radio AGN/low-excitation radio galaxy          0.015659\n",
      "quasar-like radio AGN / high-excitation radio galaxy    0.079498\n",
      "star-forming galaxy                                     0.000343\n",
      "dtype: float64\n",
      "\n"
     ]
    }
   ],
   "source": [
    "classes = clustering.labels_\n",
    "for i in range(10):\n",
    "    print(i, \":\")\n",
    "    print(y.iloc[classes==i].value_counts()/y.value_counts())\n",
    "    print()"
   ]
  },
  {
   "cell_type": "markdown",
   "id": "a436b197",
   "metadata": {},
   "source": [
    " # GMM"
   ]
  },
  {
   "cell_type": "code",
   "execution_count": 37,
   "id": "633d91cc",
   "metadata": {},
   "outputs": [],
   "source": [
    "from sklearn.mixture import GaussianMixture"
   ]
  },
  {
   "cell_type": "code",
   "execution_count": 233,
   "id": "1ae641d5",
   "metadata": {},
   "outputs": [
    {
     "data": {
      "text/html": [
       "<style>#sk-container-id-7 {color: black;background-color: white;}#sk-container-id-7 pre{padding: 0;}#sk-container-id-7 div.sk-toggleable {background-color: white;}#sk-container-id-7 label.sk-toggleable__label {cursor: pointer;display: block;width: 100%;margin-bottom: 0;padding: 0.3em;box-sizing: border-box;text-align: center;}#sk-container-id-7 label.sk-toggleable__label-arrow:before {content: \"▸\";float: left;margin-right: 0.25em;color: #696969;}#sk-container-id-7 label.sk-toggleable__label-arrow:hover:before {color: black;}#sk-container-id-7 div.sk-estimator:hover label.sk-toggleable__label-arrow:before {color: black;}#sk-container-id-7 div.sk-toggleable__content {max-height: 0;max-width: 0;overflow: hidden;text-align: left;background-color: #f0f8ff;}#sk-container-id-7 div.sk-toggleable__content pre {margin: 0.2em;color: black;border-radius: 0.25em;background-color: #f0f8ff;}#sk-container-id-7 input.sk-toggleable__control:checked~div.sk-toggleable__content {max-height: 200px;max-width: 100%;overflow: auto;}#sk-container-id-7 input.sk-toggleable__control:checked~label.sk-toggleable__label-arrow:before {content: \"▾\";}#sk-container-id-7 div.sk-estimator input.sk-toggleable__control:checked~label.sk-toggleable__label {background-color: #d4ebff;}#sk-container-id-7 div.sk-label input.sk-toggleable__control:checked~label.sk-toggleable__label {background-color: #d4ebff;}#sk-container-id-7 input.sk-hidden--visually {border: 0;clip: rect(1px 1px 1px 1px);clip: rect(1px, 1px, 1px, 1px);height: 1px;margin: -1px;overflow: hidden;padding: 0;position: absolute;width: 1px;}#sk-container-id-7 div.sk-estimator {font-family: monospace;background-color: #f0f8ff;border: 1px dotted black;border-radius: 0.25em;box-sizing: border-box;margin-bottom: 0.5em;}#sk-container-id-7 div.sk-estimator:hover {background-color: #d4ebff;}#sk-container-id-7 div.sk-parallel-item::after {content: \"\";width: 100%;border-bottom: 1px solid gray;flex-grow: 1;}#sk-container-id-7 div.sk-label:hover label.sk-toggleable__label {background-color: #d4ebff;}#sk-container-id-7 div.sk-serial::before {content: \"\";position: absolute;border-left: 1px solid gray;box-sizing: border-box;top: 0;bottom: 0;left: 50%;z-index: 0;}#sk-container-id-7 div.sk-serial {display: flex;flex-direction: column;align-items: center;background-color: white;padding-right: 0.2em;padding-left: 0.2em;position: relative;}#sk-container-id-7 div.sk-item {position: relative;z-index: 1;}#sk-container-id-7 div.sk-parallel {display: flex;align-items: stretch;justify-content: center;background-color: white;position: relative;}#sk-container-id-7 div.sk-item::before, #sk-container-id-7 div.sk-parallel-item::before {content: \"\";position: absolute;border-left: 1px solid gray;box-sizing: border-box;top: 0;bottom: 0;left: 50%;z-index: -1;}#sk-container-id-7 div.sk-parallel-item {display: flex;flex-direction: column;z-index: 1;position: relative;background-color: white;}#sk-container-id-7 div.sk-parallel-item:first-child::after {align-self: flex-end;width: 50%;}#sk-container-id-7 div.sk-parallel-item:last-child::after {align-self: flex-start;width: 50%;}#sk-container-id-7 div.sk-parallel-item:only-child::after {width: 0;}#sk-container-id-7 div.sk-dashed-wrapped {border: 1px dashed gray;margin: 0 0.4em 0.5em 0.4em;box-sizing: border-box;padding-bottom: 0.4em;background-color: white;}#sk-container-id-7 div.sk-label label {font-family: monospace;font-weight: bold;display: inline-block;line-height: 1.2em;}#sk-container-id-7 div.sk-label-container {text-align: center;}#sk-container-id-7 div.sk-container {/* jupyter's `normalize.less` sets `[hidden] { display: none; }` but bootstrap.min.css set `[hidden] { display: none !important; }` so we also need the `!important` here to be able to override the default hidden behavior on the sphinx rendered scikit-learn.org. See: https://github.com/scikit-learn/scikit-learn/issues/21755 */display: inline-block !important;position: relative;}#sk-container-id-7 div.sk-text-repr-fallback {display: none;}</style><div id=\"sk-container-id-7\" class=\"sk-top-container\"><div class=\"sk-text-repr-fallback\"><pre>GaussianMixture(n_components=2, random_state=0)</pre><b>In a Jupyter environment, please rerun this cell to show the HTML representation or trust the notebook. <br />On GitHub, the HTML representation is unable to render, please try loading this page with nbviewer.org.</b></div><div class=\"sk-container\" hidden><div class=\"sk-item\"><div class=\"sk-estimator sk-toggleable\"><input class=\"sk-toggleable__control sk-hidden--visually\" id=\"sk-estimator-id-7\" type=\"checkbox\" checked><label for=\"sk-estimator-id-7\" class=\"sk-toggleable__label sk-toggleable__label-arrow\">GaussianMixture</label><div class=\"sk-toggleable__content\"><pre>GaussianMixture(n_components=2, random_state=0)</pre></div></div></div></div></div>"
      ],
      "text/plain": [
       "GaussianMixture(n_components=2, random_state=0)"
      ]
     },
     "execution_count": 233,
     "metadata": {},
     "output_type": "execute_result"
    }
   ],
   "source": [
    "gm = GaussianMixture(n_components=2, random_state=0)\n",
    "gm.fit(X_filled)"
   ]
  },
  {
   "cell_type": "code",
   "execution_count": 297,
   "id": "7c398a74",
   "metadata": {},
   "outputs": [],
   "source": [
    "from scipy.spatial.distance import cdist\n",
    "\n",
    "bic_means = []\n",
    "bic_stds = []\n",
    "K = range(1, 15)\n",
    "\n",
    "for k in K:\n",
    "    trial = []\n",
    "    for i in range(16):\n",
    "        \n",
    "        # Building and fitting the model\n",
    "        gm = GaussianMixture(n_components=k).fit(X_filled)\n",
    "        gm.fit(X_filled)\n",
    "\n",
    "        trial.append(gm.bic(X_filled))\n",
    "    bic_means.append(np.mean(trial))\n",
    "    bic_stds.append(np.std(trial))"
   ]
  },
  {
   "cell_type": "code",
   "execution_count": 307,
   "id": "1931c0ac",
   "metadata": {},
   "outputs": [
    {
     "data": {
      "image/png": "[encoded data removed]",
      "text/plain": [
       "<Figure size 432x288 with 1 Axes>"
      ]
     },
     "metadata": {
      "needs_background": "light"
     },
     "output_type": "display_data"
    }
   ],
   "source": [
    "plt.errorbar(x=K, y=bic_means, yerr=bic_stds, ls='--')\n",
    "plt.xlabel('Values of K')\n",
    "plt.ylabel('BIC score')\n",
    "plt.title('BIC score')\n",
    "plt.show()"
   ]
  },
  {
   "cell_type": "code",
   "execution_count": 308,
   "id": "455168fc",
   "metadata": {},
   "outputs": [
    {
     "data": {
      "text/html": [
       "<style>#sk-container-id-17 {color: black;background-color: white;}#sk-container-id-17 pre{padding: 0;}#sk-container-id-17 div.sk-toggleable {background-color: white;}#sk-container-id-17 label.sk-toggleable__label {cursor: pointer;display: block;width: 100%;margin-bottom: 0;padding: 0.3em;box-sizing: border-box;text-align: center;}#sk-container-id-17 label.sk-toggleable__label-arrow:before {content: \"▸\";float: left;margin-right: 0.25em;color: #696969;}#sk-container-id-17 label.sk-toggleable__label-arrow:hover:before {color: black;}#sk-container-id-17 div.sk-estimator:hover label.sk-toggleable__label-arrow:before {color: black;}#sk-container-id-17 div.sk-toggleable__content {max-height: 0;max-width: 0;overflow: hidden;text-align: left;background-color: #f0f8ff;}#sk-container-id-17 div.sk-toggleable__content pre {margin: 0.2em;color: black;border-radius: 0.25em;background-color: #f0f8ff;}#sk-container-id-17 input.sk-toggleable__control:checked~div.sk-toggleable__content {max-height: 200px;max-width: 100%;overflow: auto;}#sk-container-id-17 input.sk-toggleable__control:checked~label.sk-toggleable__label-arrow:before {content: \"▾\";}#sk-container-id-17 div.sk-estimator input.sk-toggleable__control:checked~label.sk-toggleable__label {background-color: #d4ebff;}#sk-container-id-17 div.sk-label input.sk-toggleable__control:checked~label.sk-toggleable__label {background-color: #d4ebff;}#sk-container-id-17 input.sk-hidden--visually {border: 0;clip: rect(1px 1px 1px 1px);clip: rect(1px, 1px, 1px, 1px);height: 1px;margin: -1px;overflow: hidden;padding: 0;position: absolute;width: 1px;}#sk-container-id-17 div.sk-estimator {font-family: monospace;background-color: #f0f8ff;border: 1px dotted black;border-radius: 0.25em;box-sizing: border-box;margin-bottom: 0.5em;}#sk-container-id-17 div.sk-estimator:hover {background-color: #d4ebff;}#sk-container-id-17 div.sk-parallel-item::after {content: \"\";width: 100%;border-bottom: 1px solid gray;flex-grow: 1;}#sk-container-id-17 div.sk-label:hover label.sk-toggleable__label {background-color: #d4ebff;}#sk-container-id-17 div.sk-serial::before {content: \"\";position: absolute;border-left: 1px solid gray;box-sizing: border-box;top: 0;bottom: 0;left: 50%;z-index: 0;}#sk-container-id-17 div.sk-serial {display: flex;flex-direction: column;align-items: center;background-color: white;padding-right: 0.2em;padding-left: 0.2em;position: relative;}#sk-container-id-17 div.sk-item {position: relative;z-index: 1;}#sk-container-id-17 div.sk-parallel {display: flex;align-items: stretch;justify-content: center;background-color: white;position: relative;}#sk-container-id-17 div.sk-item::before, #sk-container-id-17 div.sk-parallel-item::before {content: \"\";position: absolute;border-left: 1px solid gray;box-sizing: border-box;top: 0;bottom: 0;left: 50%;z-index: -1;}#sk-container-id-17 div.sk-parallel-item {display: flex;flex-direction: column;z-index: 1;position: relative;background-color: white;}#sk-container-id-17 div.sk-parallel-item:first-child::after {align-self: flex-end;width: 50%;}#sk-container-id-17 div.sk-parallel-item:last-child::after {align-self: flex-start;width: 50%;}#sk-container-id-17 div.sk-parallel-item:only-child::after {width: 0;}#sk-container-id-17 div.sk-dashed-wrapped {border: 1px dashed gray;margin: 0 0.4em 0.5em 0.4em;box-sizing: border-box;padding-bottom: 0.4em;background-color: white;}#sk-container-id-17 div.sk-label label {font-family: monospace;font-weight: bold;display: inline-block;line-height: 1.2em;}#sk-container-id-17 div.sk-label-container {text-align: center;}#sk-container-id-17 div.sk-container {/* jupyter's `normalize.less` sets `[hidden] { display: none; }` but bootstrap.min.css set `[hidden] { display: none !important; }` so we also need the `!important` here to be able to override the default hidden behavior on the sphinx rendered scikit-learn.org. See: https://github.com/scikit-learn/scikit-learn/issues/21755 */display: inline-block !important;position: relative;}#sk-container-id-17 div.sk-text-repr-fallback {display: none;}</style><div id=\"sk-container-id-17\" class=\"sk-top-container\"><div class=\"sk-text-repr-fallback\"><pre>GaussianMixture(n_components=8, random_state=0)</pre><b>In a Jupyter environment, please rerun this cell to show the HTML representation or trust the notebook. <br />On GitHub, the HTML representation is unable to render, please try loading this page with nbviewer.org.</b></div><div class=\"sk-container\" hidden><div class=\"sk-item\"><div class=\"sk-estimator sk-toggleable\"><input class=\"sk-toggleable__control sk-hidden--visually\" id=\"sk-estimator-id-17\" type=\"checkbox\" checked><label for=\"sk-estimator-id-17\" class=\"sk-toggleable__label sk-toggleable__label-arrow\">GaussianMixture</label><div class=\"sk-toggleable__content\"><pre>GaussianMixture(n_components=8, random_state=0)</pre></div></div></div></div></div>"
      ],
      "text/plain": [
       "GaussianMixture(n_components=8, random_state=0)"
      ]
     },
     "execution_count": 308,
     "metadata": {},
     "output_type": "execute_result"
    }
   ],
   "source": [
    "gm = GaussianMixture(n_components=8, random_state=0)\n",
    "gm.fit(X_filled)"
   ]
  },
  {
   "cell_type": "code",
   "execution_count": 309,
   "id": "aa73a583",
   "metadata": {},
   "outputs": [],
   "source": [
    "data['gmm'] = gm.predict(X_filled)\n",
    "data.to_csv('gmm.csv', index=False)"
   ]
  },
  {
   "cell_type": "code",
   "execution_count": 38,
   "id": "77c17f59",
   "metadata": {},
   "outputs": [
    {
     "name": "stdout",
     "output_type": "stream",
     "text": [
      "0 :\n",
      "Classification                                      \n",
      "jet-mode radio AGN/low-excitation radio galaxy          0.056494\n",
      "star-forming galaxy                                     0.092001\n",
      "quasar-like radio AGN / high-excitation radio galaxy    0.284519\n",
      "dtype: float64\n",
      "\n",
      "1 :\n",
      "Classification                                      \n",
      "jet-mode radio AGN/low-excitation radio galaxy               NaN\n",
      "quasar-like radio AGN / high-excitation radio galaxy    0.002092\n",
      "star-forming galaxy                                          NaN\n",
      "dtype: float64\n",
      "\n",
      "2 :\n",
      "Classification                                      \n",
      "jet-mode radio AGN/low-excitation radio galaxy          0.000205\n",
      "quasar-like radio AGN / high-excitation radio galaxy    0.004184\n",
      "star-forming galaxy                                          NaN\n",
      "dtype: float64\n",
      "\n",
      "3 :\n",
      "Classification                                      \n",
      "jet-mode radio AGN/low-excitation radio galaxy          0.199980\n",
      "quasar-like radio AGN / high-excitation radio galaxy    0.190377\n",
      "star-forming galaxy                                     0.850669\n",
      "dtype: float64\n",
      "\n",
      "4 :\n",
      "Classification                                      \n",
      "jet-mode radio AGN/low-excitation radio galaxy          0.743322\n",
      "quasar-like radio AGN / high-excitation radio galaxy    0.518828\n",
      "star-forming galaxy                                     0.057329\n",
      "dtype: float64\n",
      "\n"
     ]
    }
   ],
   "source": [
    "gm = GaussianMixture(n_components=5, random_state=0)\n",
    "gm.fit(X_filled)\n",
    "\n",
    "classes = gm.predict(X_filled)\n",
    "for i in range(5):\n",
    "    print(i, \":\")\n",
    "    print(y.iloc[classes==i].value_counts()/y.value_counts())\n",
    "    print()"
   ]
  },
  {
   "cell_type": "code",
   "execution_count": 39,
   "id": "c8f74276",
   "metadata": {},
   "outputs": [
    {
     "name": "stdout",
     "output_type": "stream",
     "text": [
      "0 :\n",
      "Classification                                      \n",
      "jet-mode radio AGN/low-excitation radio galaxy          552\n",
      "star-forming galaxy                                     268\n",
      "quasar-like radio AGN / high-excitation radio galaxy    136\n",
      "dtype: int64\n",
      "\n",
      "1 :\n",
      "Classification                                      \n",
      "quasar-like radio AGN / high-excitation radio galaxy    1\n",
      "dtype: int64\n",
      "\n",
      "2 :\n",
      "Classification                                      \n",
      "jet-mode radio AGN/low-excitation radio galaxy          2\n",
      "quasar-like radio AGN / high-excitation radio galaxy    2\n",
      "dtype: int64\n",
      "\n",
      "3 :\n",
      "Classification                                      \n",
      "star-forming galaxy                                     2478\n",
      "jet-mode radio AGN/low-excitation radio galaxy          1954\n",
      "quasar-like radio AGN / high-excitation radio galaxy      91\n",
      "dtype: int64\n",
      "\n",
      "4 :\n",
      "Classification                                      \n",
      "jet-mode radio AGN/low-excitation radio galaxy          7263\n",
      "quasar-like radio AGN / high-excitation radio galaxy     248\n",
      "star-forming galaxy                                      167\n",
      "dtype: int64\n",
      "\n"
     ]
    }
   ],
   "source": [
    "classes = gm.predict(X_filled)\n",
    "for i in range(5):\n",
    "    print(i, \":\")\n",
    "    print(y.iloc[classes==i].value_counts())\n",
    "    print()"
   ]
  },
  {
   "cell_type": "code",
   "execution_count": 42,
   "id": "eab8d301",
   "metadata": {},
   "outputs": [
    {
     "data": {
      "text/plain": [
       "(13162, 10)"
      ]
     },
     "execution_count": 42,
     "metadata": {},
     "output_type": "execute_result"
    }
   ],
   "source": [
    "X.shape"
   ]
  },
  {
   "cell_type": "code",
   "execution_count": 41,
   "id": "11c13ccd",
   "metadata": {},
   "outputs": [
    {
     "data": {
      "text/plain": [
       "Classification                                      \n",
       "jet-mode radio AGN/low-excitation radio galaxy          0.742364\n",
       "star-forming galaxy                                     0.221319\n",
       "quasar-like radio AGN / high-excitation radio galaxy    0.036317\n",
       "dtype: float64"
      ]
     },
     "execution_count": 41,
     "metadata": {},
     "output_type": "execute_result"
    }
   ],
   "source": [
    "y.value_counts()/y.value_counts().sum()"
   ]
  },
  {
   "cell_type": "code",
   "execution_count": 310,
   "id": "807c0ec9",
   "metadata": {},
   "outputs": [
    {
     "name": "stdout",
     "output_type": "stream",
     "text": [
      "0 :\n",
      "Classification                                      \n",
      "jet-mode radio AGN/low-excitation radio galaxy          0.027837\n",
      "quasar-like radio AGN / high-excitation radio galaxy    0.211297\n",
      "star-forming galaxy                                     0.028150\n",
      "dtype: float64\n",
      "\n",
      "1 :\n",
      "Classification                                      \n",
      "jet-mode radio AGN/low-excitation radio galaxy               NaN\n",
      "quasar-like radio AGN / high-excitation radio galaxy    0.002092\n",
      "star-forming galaxy                                          NaN\n",
      "dtype: float64\n",
      "\n",
      "2 :\n",
      "Classification                                      \n",
      "jet-mode radio AGN/low-excitation radio galaxy          0.000102\n",
      "quasar-like radio AGN / high-excitation radio galaxy    0.004184\n",
      "star-forming galaxy                                          NaN\n",
      "dtype: float64\n",
      "\n",
      "3 :\n",
      "Classification                                      \n",
      "jet-mode radio AGN/low-excitation radio galaxy          0.033262\n",
      "quasar-like radio AGN / high-excitation radio galaxy    0.075314\n",
      "star-forming galaxy                                     0.548919\n",
      "dtype: float64\n",
      "\n",
      "4 :\n",
      "Classification                                      \n",
      "jet-mode radio AGN/low-excitation radio galaxy          0.593286\n",
      "star-forming galaxy                                     0.401991\n",
      "quasar-like radio AGN / high-excitation radio galaxy    0.493724\n",
      "dtype: float64\n",
      "\n",
      "5 :\n",
      "Classification                                      \n",
      "jet-mode radio AGN/low-excitation radio galaxy          0.205097\n",
      "quasar-like radio AGN / high-excitation radio galaxy    0.131799\n",
      "star-forming galaxy                                     0.011672\n",
      "dtype: float64\n",
      "\n",
      "6 :\n",
      "Classification                                      \n",
      "jet-mode radio AGN/low-excitation radio galaxy          0.000102\n",
      "quasar-like radio AGN / high-excitation radio galaxy         NaN\n",
      "star-forming galaxy                                          NaN\n",
      "dtype: float64\n",
      "\n",
      "7 :\n",
      "Classification                                      \n",
      "jet-mode radio AGN/low-excitation radio galaxy          0.140313\n",
      "quasar-like radio AGN / high-excitation radio galaxy    0.081590\n",
      "star-forming galaxy                                     0.009269\n",
      "dtype: float64\n",
      "\n"
     ]
    }
   ],
   "source": [
    "gm = GaussianMixture(n_components=8, random_state=0)\n",
    "gm.fit(X_filled)\n",
    "\n",
    "classes = gm.predict(X_filled)\n",
    "for i in range(8):\n",
    "    print(i, \":\")\n",
    "    print(y.iloc[classes==i].value_counts()/y.value_counts())\n",
    "    print()"
   ]
  },
  {
   "cell_type": "code",
   "execution_count": null,
   "id": "f809307d",
   "metadata": {},
   "outputs": [],
   "source": []
  }
 ],
 "metadata": {
  "kernelspec": {
   "display_name": "Anaconda3 - 2021.11",
   "language": "python",
   "name": "python3-2021.11"
  },
  "language_info": {
   "codemirror_mode": {
    "name": "ipython",
    "version": 3
   },
   "file_extension": ".py",
   "mimetype": "text/x-python",
   "name": "python",
   "nbconvert_exporter": "python",
   "pygments_lexer": "ipython3",
   "version": "3.9.7"
  },
  "latex_envs": {
   "LaTeX_envs_menu_present": true,
   "autoclose": false,
   "autocomplete": true,
   "bibliofile": "biblio.bib",
   "cite_by": "apalike",
   "current_citInitial": 1,
   "eqLabelWithNumbers": true,
   "eqNumInitial": 1,
   "hotkeys": {
    "equation": "Ctrl-E",
    "itemize": "Ctrl-I"
   },
   "labels_anchors": false,
   "latex_user_defs": false,
   "report_style_numbering": false,
   "user_envs_cfg": false
  }
 },
 "nbformat": 4,
 "nbformat_minor": 5
}
