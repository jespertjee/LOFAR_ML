{
 "cells": [
  {
   "cell_type": "code",
   "execution_count": 1,
   "id": "b2ccd174",
   "metadata": {},
   "outputs": [],
   "source": [
    "import pandas as pd\n",
    "import numpy as np\n",
    "from sklearn.cluster import DBSCAN\n",
    "import matplotlib.pyplot as plt\n",
    "from sklearn.experimental import enable_iterative_imputer\n",
    "from sklearn.impute import IterativeImputer"
   ]
  },
  {
   "cell_type": "markdown",
   "id": "afdda5fd",
   "metadata": {},
   "source": [
    "## Importing data (just original for now)"
   ]
  },
  {
   "cell_type": "code",
   "execution_count": null,
   "id": "b087e35f",
   "metadata": {},
   "outputs": [],
   "source": [
    "features_num = [\n",
    "    'Total_flux', 'Peak_flux', \n",
    "       'NUV_flux_corr', 'u_flux_corr', 'Bw_flux_corr', 'R_flux_corr',\n",
    "       'I_flux_corr', 'z_flux_corr', 'y_flux_corr',\n",
    "       'J_flux_corr', 'H_flux_corr', 'K_flux_corr', 'Ks_flux_corr',\n",
    "       'ch1_flux_corr', 'ch2_flux_corr', 'ch3_flux_corr', 'ch4_flux_corr',\n",
    "       'F_MIPS_24', 'F_PACS_100', 'F_PACS_160', 'F_SPIRE_250', 'F_SPIRE_350',\n",
    "       'F_SPIRE_500', 'Z_BEST',\n",
    "       'g_flux_corr', 'nb921_hsc_flux_corr'\n",
    "    ]\n",
    "y_column = \"Classification\"\n",
    "\n",
    "classes = ['jet-mode radio AGN/low-excitation radio galaxy', 'quasar-like radio AGN / high-excitation radio galaxy', \n",
    "           'radio-quiet AGN', 'star-forming galaxy']"
   ]
  },
  {
   "cell_type": "code",
   "execution_count": null,
   "id": "3d276ed7",
   "metadata": {},
   "outputs": [],
   "source": [
    "data = pd.read_csv(\"../../Data/Fangyou_data/Cleaned/combined_using_similar_columns.csv\")"
   ]
  },
  {
   "cell_type": "code",
   "execution_count": null,
   "id": "bd35170c",
   "metadata": {},
   "outputs": [],
   "source": [
    "X = data[features_num]\n",
    "y = data[[y_column, 'Source', 'Xray', 'Opt_spec', 'IRAGN', 'Donley']]"
   ]
  },
  {
   "cell_type": "markdown",
   "id": "1f56f6c8",
   "metadata": {},
   "source": [
    "# Dropping columns with little data (optional)"
   ]
  },
  {
   "cell_type": "code",
   "execution_count": null,
   "id": "76e532d5",
   "metadata": {},
   "outputs": [],
   "source": [
    "X = X.drop(columns=['NUV_flux_corr', 'Bw_flux_corr', 'y_flux_corr', 'H_flux_corr', 'Ks_flux_corr', 'K_flux_corr',\n",
    "                   'g_flux_corr', 'nb921_hsc_flux_corr'])"
   ]
  },
  {
   "cell_type": "markdown",
   "id": "5cd6dcc1",
   "metadata": {},
   "source": [
    "## Filling nan's"
   ]
  },
  {
   "cell_type": "code",
   "execution_count": null,
   "id": "7b5547a0",
   "metadata": {},
   "outputs": [],
   "source": [
    "imp = IterativeImputer(max_iter=100, min_value=0)\n",
    "X_filled = imp.fit_transform(X)"
   ]
  },
  {
   "cell_type": "code",
   "execution_count": null,
   "id": "e61973db",
   "metadata": {},
   "outputs": [],
   "source": [
    "X_filled = np.log10(X_filled+0.1)"
   ]
  },
  {
   "cell_type": "markdown",
   "id": "0e68d8b7",
   "metadata": {},
   "source": [
    "## Normalisations"
   ]
  },
  {
   "cell_type": "code",
   "execution_count": null,
   "id": "a5e2c05f",
   "metadata": {},
   "outputs": [],
   "source": [
    "from sklearn.preprocessing import MinMaxScaler, StandardScaler\n",
    "\n",
    "scaler = StandardScaler()\n",
    "X_filled = scaler.fit_transform(X_filled)"
   ]
  },
  {
   "cell_type": "markdown",
   "id": "6b280f74",
   "metadata": {},
   "source": [
    "## Running DBSCAN"
   ]
  },
  {
   "cell_type": "code",
   "execution_count": 61,
   "id": "5a9fbd72",
   "metadata": {},
   "outputs": [
    {
     "data": {
      "text/plain": [
       "(array([-1]), array([77609]))"
      ]
     },
     "execution_count": 61,
     "metadata": {},
     "output_type": "execute_result"
    }
   ],
   "source": [
    "clustering = DBSCAN(eps=0.5, min_samples=1000, n_jobs=64).fit(X_filled)\n",
    "np.unique(clustering.labels_, return_counts=True)"
   ]
  },
  {
   "cell_type": "code",
   "execution_count": 42,
   "id": "29ae59c4",
   "metadata": {},
   "outputs": [],
   "source": [
    "from bayes_opt import BayesianOptimization\n"
   ]
  },
  {
   "cell_type": "code",
   "execution_count": 62,
   "id": "1f5e4d76",
   "metadata": {},
   "outputs": [],
   "source": [
    "def optimise(eps):\n",
    "    clustering = DBSCAN(eps=eps, min_samples=1000, n_jobs=8).fit(X_filled)\n",
    "    \n",
    "    labels, counts = np.unique(clustering.labels_, return_counts=True)\n",
    "    \n",
    "    return len(labels[labels!=-1])"
   ]
  },
  {
   "cell_type": "code",
   "execution_count": 66,
   "id": "d0de9555",
   "metadata": {},
   "outputs": [],
   "source": [
    "# Bounded region of parameter space\n",
    "pbounds = {\n",
    "    'eps': (0.3, 0.5)\n",
    "}"
   ]
  },
  {
   "cell_type": "code",
   "execution_count": 67,
   "id": "63a3fd4f",
   "metadata": {},
   "outputs": [],
   "source": [
    "optimizer = BayesianOptimization(\n",
    "    f=optimise,\n",
    "    pbounds=pbounds,\n",
    "    verbose=2, # verbose = 1 prints only when a maximum is observed, verbose = 0 is silent\n",
    "    #random_state=42,\n",
    ")"
   ]
  },
  {
   "cell_type": "code",
   "execution_count": 68,
   "id": "7530f06e",
   "metadata": {
    "scrolled": true
   },
   "outputs": [
    {
     "name": "stdout",
     "output_type": "stream",
     "text": [
      "|   iter    |  target   |    eps    |\n",
      "-------------------------------------\n",
      "| \u001b[0m1        \u001b[0m | \u001b[0m1.0      \u001b[0m | \u001b[0m0.393    \u001b[0m |\n",
      "| \u001b[0m2        \u001b[0m | \u001b[0m0.0      \u001b[0m | \u001b[0m0.3382   \u001b[0m |\n",
      "| \u001b[0m3        \u001b[0m | \u001b[0m1.0      \u001b[0m | \u001b[0m0.3545   \u001b[0m |\n",
      "| \u001b[0m4        \u001b[0m | \u001b[0m0.0      \u001b[0m | \u001b[0m0.3023   \u001b[0m |\n",
      "| \u001b[0m5        \u001b[0m | \u001b[0m1.0      \u001b[0m | \u001b[0m0.3828   \u001b[0m |\n",
      "| \u001b[95m6        \u001b[0m | \u001b[95m2.0      \u001b[0m | \u001b[95m0.3673   \u001b[0m |\n",
      "| \u001b[0m7        \u001b[0m | \u001b[0m1.0      \u001b[0m | \u001b[0m0.4179   \u001b[0m |\n",
      "| \u001b[0m8        \u001b[0m | \u001b[0m2.0      \u001b[0m | \u001b[0m0.3672   \u001b[0m |\n",
      "| \u001b[0m9        \u001b[0m | \u001b[0m1.0      \u001b[0m | \u001b[0m0.5      \u001b[0m |\n",
      "| \u001b[0m10       \u001b[0m | \u001b[0m1.0      \u001b[0m | \u001b[0m0.4599   \u001b[0m |\n",
      "| \u001b[0m11       \u001b[0m | \u001b[0m1.0      \u001b[0m | \u001b[0m0.4391   \u001b[0m |\n",
      "| \u001b[0m12       \u001b[0m | \u001b[0m1.0      \u001b[0m | \u001b[0m0.4801   \u001b[0m |\n",
      "| \u001b[0m13       \u001b[0m | \u001b[0m2.0      \u001b[0m | \u001b[0m0.371    \u001b[0m |\n",
      "| \u001b[0m14       \u001b[0m | \u001b[0m2.0      \u001b[0m | \u001b[0m0.3692   \u001b[0m |\n",
      "| \u001b[0m15       \u001b[0m | \u001b[0m1.0      \u001b[0m | \u001b[0m0.4054   \u001b[0m |\n",
      "| \u001b[0m16       \u001b[0m | \u001b[0m1.0      \u001b[0m | \u001b[0m0.3633   \u001b[0m |\n",
      "| \u001b[0m17       \u001b[0m | \u001b[0m2.0      \u001b[0m | \u001b[0m0.3757   \u001b[0m |\n",
      "| \u001b[0m18       \u001b[0m | \u001b[0m0.0      \u001b[0m | \u001b[0m0.3203   \u001b[0m |\n",
      "| \u001b[0m19       \u001b[0m | \u001b[0m1.0      \u001b[0m | \u001b[0m0.4285   \u001b[0m |\n",
      "| \u001b[0m20       \u001b[0m | \u001b[0m1.0      \u001b[0m | \u001b[0m0.4495   \u001b[0m |\n",
      "| \u001b[0m21       \u001b[0m | \u001b[0m1.0      \u001b[0m | \u001b[0m0.47     \u001b[0m |\n",
      "| \u001b[0m22       \u001b[0m | \u001b[0m1.0      \u001b[0m | \u001b[0m0.49     \u001b[0m |\n",
      "| \u001b[0m23       \u001b[0m | \u001b[0m2.0      \u001b[0m | \u001b[0m0.3737   \u001b[0m |\n",
      "| \u001b[0m24       \u001b[0m | \u001b[0m1.0      \u001b[0m | \u001b[0m0.3481   \u001b[0m |\n",
      "| \u001b[0m25       \u001b[0m | \u001b[0m1.0      \u001b[0m | \u001b[0m0.3991   \u001b[0m |\n",
      "| \u001b[0m26       \u001b[0m | \u001b[0m1.0      \u001b[0m | \u001b[0m0.4117   \u001b[0m |\n",
      "| \u001b[0m27       \u001b[0m | \u001b[0m1.0      \u001b[0m | \u001b[0m0.378    \u001b[0m |\n",
      "| \u001b[0m28       \u001b[0m | \u001b[0m0.0      \u001b[0m | \u001b[0m0.3292   \u001b[0m |\n",
      "| \u001b[0m29       \u001b[0m | \u001b[0m1.0      \u001b[0m | \u001b[0m0.3877   \u001b[0m |\n",
      "| \u001b[0m30       \u001b[0m | \u001b[0m0.0      \u001b[0m | \u001b[0m0.3114   \u001b[0m |\n",
      "| \u001b[0m31       \u001b[0m | \u001b[0m1.0      \u001b[0m | \u001b[0m0.4338   \u001b[0m |\n",
      "| \u001b[0m32       \u001b[0m | \u001b[0m1.0      \u001b[0m | \u001b[0m0.4232   \u001b[0m |\n",
      "| \u001b[0m33       \u001b[0m | \u001b[0m1.0      \u001b[0m | \u001b[0m0.4547   \u001b[0m |\n",
      "| \u001b[0m34       \u001b[0m | \u001b[0m1.0      \u001b[0m | \u001b[0m0.4443   \u001b[0m |\n",
      "| \u001b[0m35       \u001b[0m | \u001b[0m1.0      \u001b[0m | \u001b[0m0.475    \u001b[0m |\n",
      "| \u001b[0m36       \u001b[0m | \u001b[0m1.0      \u001b[0m | \u001b[0m0.495    \u001b[0m |\n",
      "| \u001b[0m37       \u001b[0m | \u001b[0m2.0      \u001b[0m | \u001b[0m0.3748   \u001b[0m |\n",
      "| \u001b[0m38       \u001b[0m | \u001b[0m1.0      \u001b[0m | \u001b[0m0.4649   \u001b[0m |\n",
      "| \u001b[0m39       \u001b[0m | \u001b[0m1.0      \u001b[0m | \u001b[0m0.4851   \u001b[0m |\n",
      "| \u001b[0m40       \u001b[0m | \u001b[0m2.0      \u001b[0m | \u001b[0m0.3723   \u001b[0m |\n",
      "| \u001b[0m41       \u001b[0m | \u001b[0m2.0      \u001b[0m | \u001b[0m0.3701   \u001b[0m |\n",
      "| \u001b[0m42       \u001b[0m | \u001b[0m2.0      \u001b[0m | \u001b[0m0.3662   \u001b[0m |\n",
      "| \u001b[0m43       \u001b[0m | \u001b[0m2.0      \u001b[0m | \u001b[0m0.3683   \u001b[0m |\n",
      "| \u001b[0m44       \u001b[0m | \u001b[0m2.0      \u001b[0m | \u001b[0m0.373    \u001b[0m |\n",
      "| \u001b[0m45       \u001b[0m | \u001b[0m2.0      \u001b[0m | \u001b[0m0.3753   \u001b[0m |\n",
      "| \u001b[0m46       \u001b[0m | \u001b[0m1.0      \u001b[0m | \u001b[0m0.3441   \u001b[0m |\n",
      "| \u001b[0m47       \u001b[0m | \u001b[0m2.0      \u001b[0m | \u001b[0m0.3666   \u001b[0m |\n",
      "| \u001b[0m48       \u001b[0m | \u001b[0m2.0      \u001b[0m | \u001b[0m0.3716   \u001b[0m |\n",
      "| \u001b[0m49       \u001b[0m | \u001b[0m2.0      \u001b[0m | \u001b[0m0.3742   \u001b[0m |\n",
      "| \u001b[0m50       \u001b[0m | \u001b[0m2.0      \u001b[0m | \u001b[0m0.3678   \u001b[0m |\n",
      "| \u001b[0m51       \u001b[0m | \u001b[0m2.0      \u001b[0m | \u001b[0m0.3705   \u001b[0m |\n",
      "| \u001b[0m52       \u001b[0m | \u001b[0m2.0      \u001b[0m | \u001b[0m0.3688   \u001b[0m |\n",
      "| \u001b[0m53       \u001b[0m | \u001b[0m2.0      \u001b[0m | \u001b[0m0.3696   \u001b[0m |\n",
      "| \u001b[0m54       \u001b[0m | \u001b[0m2.0      \u001b[0m | \u001b[0m0.3719   \u001b[0m |\n",
      "| \u001b[0m55       \u001b[0m | \u001b[0m2.0      \u001b[0m | \u001b[0m0.3733   \u001b[0m |\n",
      "| \u001b[0m56       \u001b[0m | \u001b[0m2.0      \u001b[0m | \u001b[0m0.3664   \u001b[0m |\n",
      "| \u001b[0m57       \u001b[0m | \u001b[0m2.0      \u001b[0m | \u001b[0m0.3755   \u001b[0m |\n",
      "| \u001b[0m58       \u001b[0m | \u001b[0m2.0      \u001b[0m | \u001b[0m0.3727   \u001b[0m |\n",
      "| \u001b[0m59       \u001b[0m | \u001b[0m2.0      \u001b[0m | \u001b[0m0.3713   \u001b[0m |\n",
      "| \u001b[0m60       \u001b[0m | \u001b[0m2.0      \u001b[0m | \u001b[0m0.3669   \u001b[0m |\n",
      "| \u001b[0m61       \u001b[0m | \u001b[0m2.0      \u001b[0m | \u001b[0m0.3745   \u001b[0m |\n",
      "| \u001b[0m62       \u001b[0m | \u001b[0m2.0      \u001b[0m | \u001b[0m0.3675   \u001b[0m |\n",
      "| \u001b[0m63       \u001b[0m | \u001b[0m2.0      \u001b[0m | \u001b[0m0.3739   \u001b[0m |\n",
      "| \u001b[0m64       \u001b[0m | \u001b[0m2.0      \u001b[0m | \u001b[0m0.3659   \u001b[0m |\n",
      "| \u001b[0m65       \u001b[0m | \u001b[0m2.0      \u001b[0m | \u001b[0m0.3707   \u001b[0m |\n",
      "| \u001b[0m66       \u001b[0m | \u001b[0m2.0      \u001b[0m | \u001b[0m0.3681   \u001b[0m |\n",
      "| \u001b[0m67       \u001b[0m | \u001b[0m2.0      \u001b[0m | \u001b[0m0.375    \u001b[0m |\n",
      "| \u001b[0m68       \u001b[0m | \u001b[0m2.0      \u001b[0m | \u001b[0m0.366    \u001b[0m |\n",
      "| \u001b[0m69       \u001b[0m | \u001b[0m2.0      \u001b[0m | \u001b[0m0.3685   \u001b[0m |\n",
      "| \u001b[0m70       \u001b[0m | \u001b[0m2.0      \u001b[0m | \u001b[0m0.3694   \u001b[0m |\n",
      "| \u001b[0m71       \u001b[0m | \u001b[0m2.0      \u001b[0m | \u001b[0m0.3698   \u001b[0m |\n",
      "| \u001b[0m72       \u001b[0m | \u001b[0m2.0      \u001b[0m | \u001b[0m0.369    \u001b[0m |\n",
      "| \u001b[0m73       \u001b[0m | \u001b[0m2.0      \u001b[0m | \u001b[0m0.3703   \u001b[0m |\n",
      "| \u001b[0m74       \u001b[0m | \u001b[0m2.0      \u001b[0m | \u001b[0m0.3721   \u001b[0m |\n",
      "| \u001b[0m75       \u001b[0m | \u001b[0m2.0      \u001b[0m | \u001b[0m0.3755   \u001b[0m |\n",
      "| \u001b[0m76       \u001b[0m | \u001b[0m2.0      \u001b[0m | \u001b[0m0.3725   \u001b[0m |\n",
      "| \u001b[0m77       \u001b[0m | \u001b[0m2.0      \u001b[0m | \u001b[0m0.3735   \u001b[0m |\n",
      "| \u001b[0m78       \u001b[0m | \u001b[0m2.0      \u001b[0m | \u001b[0m0.3718   \u001b[0m |\n",
      "| \u001b[0m79       \u001b[0m | \u001b[0m2.0      \u001b[0m | \u001b[0m0.3731   \u001b[0m |\n",
      "| \u001b[0m80       \u001b[0m | \u001b[0m2.0      \u001b[0m | \u001b[0m0.3668   \u001b[0m |\n",
      "| \u001b[0m81       \u001b[0m | \u001b[0m2.0      \u001b[0m | \u001b[0m0.3714   \u001b[0m |\n",
      "| \u001b[0m82       \u001b[0m | \u001b[0m2.0      \u001b[0m | \u001b[0m0.3661   \u001b[0m |\n"
     ]
    },
    {
     "ename": "KeyboardInterrupt",
     "evalue": "",
     "output_type": "error",
     "traceback": [
      "\u001b[0;31m---------------------------------------------------------------------------\u001b[0m",
      "\u001b[0;31mKeyError\u001b[0m                                  Traceback (most recent call last)",
      "\u001b[0;32m~/.local/lib/python3.9/site-packages/bayes_opt/target_space.py\u001b[0m in \u001b[0;36mprobe\u001b[0;34m(self, params)\u001b[0m\n\u001b[1;32m    190\u001b[0m         \u001b[0;32mtry\u001b[0m\u001b[0;34m:\u001b[0m\u001b[0;34m\u001b[0m\u001b[0;34m\u001b[0m\u001b[0m\n\u001b[0;32m--> 191\u001b[0;31m             \u001b[0mtarget\u001b[0m \u001b[0;34m=\u001b[0m \u001b[0mself\u001b[0m\u001b[0;34m.\u001b[0m\u001b[0m_cache\u001b[0m\u001b[0;34m[\u001b[0m\u001b[0m_hashable\u001b[0m\u001b[0;34m(\u001b[0m\u001b[0mx\u001b[0m\u001b[0;34m)\u001b[0m\u001b[0;34m]\u001b[0m\u001b[0;34m\u001b[0m\u001b[0;34m\u001b[0m\u001b[0m\n\u001b[0m\u001b[1;32m    192\u001b[0m         \u001b[0;32mexcept\u001b[0m \u001b[0mKeyError\u001b[0m\u001b[0;34m:\u001b[0m\u001b[0;34m\u001b[0m\u001b[0;34m\u001b[0m\u001b[0m\n",
      "\u001b[0;31mKeyError\u001b[0m: (0.37282314233728125,)",
      "\nDuring handling of the above exception, another exception occurred:\n",
      "\u001b[0;31mKeyboardInterrupt\u001b[0m                         Traceback (most recent call last)",
      "\u001b[0;32m/var/lib/condor/execute/dir_2195087/ipykernel_2206078/4145926261.py\u001b[0m in \u001b[0;36m<module>\u001b[0;34m\u001b[0m\n\u001b[1;32m      2\u001b[0m \u001b[0;32mwith\u001b[0m \u001b[0mwarnings\u001b[0m\u001b[0;34m.\u001b[0m\u001b[0mcatch_warnings\u001b[0m\u001b[0;34m(\u001b[0m\u001b[0;34m)\u001b[0m\u001b[0;34m:\u001b[0m\u001b[0;34m\u001b[0m\u001b[0;34m\u001b[0m\u001b[0m\n\u001b[1;32m      3\u001b[0m     \u001b[0mwarnings\u001b[0m\u001b[0;34m.\u001b[0m\u001b[0msimplefilter\u001b[0m\u001b[0;34m(\u001b[0m\u001b[0;34m\"ignore\"\u001b[0m\u001b[0;34m)\u001b[0m\u001b[0;34m\u001b[0m\u001b[0;34m\u001b[0m\u001b[0m\n\u001b[0;32m----> 4\u001b[0;31m     optimizer.maximize(\n\u001b[0m\u001b[1;32m      5\u001b[0m         \u001b[0minit_points\u001b[0m\u001b[0;34m=\u001b[0m\u001b[0;36m5\u001b[0m\u001b[0;34m,\u001b[0m\u001b[0;34m\u001b[0m\u001b[0;34m\u001b[0m\u001b[0m\n\u001b[1;32m      6\u001b[0m         \u001b[0mn_iter\u001b[0m\u001b[0;34m=\u001b[0m\u001b[0;36m100\u001b[0m\u001b[0;34m,\u001b[0m\u001b[0;34m\u001b[0m\u001b[0;34m\u001b[0m\u001b[0m\n",
      "\u001b[0;32m~/.local/lib/python3.9/site-packages/bayes_opt/bayesian_optimization.py\u001b[0m in \u001b[0;36mmaximize\u001b[0;34m(self, init_points, n_iter, acq, kappa, kappa_decay, kappa_decay_delay, xi, **gp_params)\u001b[0m\n\u001b[1;32m    303\u001b[0m                 \u001b[0mx_probe\u001b[0m \u001b[0;34m=\u001b[0m \u001b[0mself\u001b[0m\u001b[0;34m.\u001b[0m\u001b[0msuggest\u001b[0m\u001b[0;34m(\u001b[0m\u001b[0mutil\u001b[0m\u001b[0;34m)\u001b[0m\u001b[0;34m\u001b[0m\u001b[0;34m\u001b[0m\u001b[0m\n\u001b[1;32m    304\u001b[0m                 \u001b[0miteration\u001b[0m \u001b[0;34m+=\u001b[0m \u001b[0;36m1\u001b[0m\u001b[0;34m\u001b[0m\u001b[0;34m\u001b[0m\u001b[0m\n\u001b[0;32m--> 305\u001b[0;31m             \u001b[0mself\u001b[0m\u001b[0;34m.\u001b[0m\u001b[0mprobe\u001b[0m\u001b[0;34m(\u001b[0m\u001b[0mx_probe\u001b[0m\u001b[0;34m,\u001b[0m \u001b[0mlazy\u001b[0m\u001b[0;34m=\u001b[0m\u001b[0;32mFalse\u001b[0m\u001b[0;34m)\u001b[0m\u001b[0;34m\u001b[0m\u001b[0;34m\u001b[0m\u001b[0m\n\u001b[0m\u001b[1;32m    306\u001b[0m \u001b[0;34m\u001b[0m\u001b[0m\n\u001b[1;32m    307\u001b[0m             \u001b[0;32mif\u001b[0m \u001b[0mself\u001b[0m\u001b[0;34m.\u001b[0m\u001b[0m_bounds_transformer\u001b[0m \u001b[0;32mand\u001b[0m \u001b[0miteration\u001b[0m \u001b[0;34m>\u001b[0m \u001b[0;36m0\u001b[0m\u001b[0;34m:\u001b[0m\u001b[0;34m\u001b[0m\u001b[0;34m\u001b[0m\u001b[0m\n",
      "\u001b[0;32m~/.local/lib/python3.9/site-packages/bayes_opt/bayesian_optimization.py\u001b[0m in \u001b[0;36mprobe\u001b[0;34m(self, params, lazy)\u001b[0m\n\u001b[1;32m    198\u001b[0m             \u001b[0mself\u001b[0m\u001b[0;34m.\u001b[0m\u001b[0m_queue\u001b[0m\u001b[0;34m.\u001b[0m\u001b[0madd\u001b[0m\u001b[0;34m(\u001b[0m\u001b[0mparams\u001b[0m\u001b[0;34m)\u001b[0m\u001b[0;34m\u001b[0m\u001b[0;34m\u001b[0m\u001b[0m\n\u001b[1;32m    199\u001b[0m         \u001b[0;32melse\u001b[0m\u001b[0;34m:\u001b[0m\u001b[0;34m\u001b[0m\u001b[0;34m\u001b[0m\u001b[0m\n\u001b[0;32m--> 200\u001b[0;31m             \u001b[0mself\u001b[0m\u001b[0;34m.\u001b[0m\u001b[0m_space\u001b[0m\u001b[0;34m.\u001b[0m\u001b[0mprobe\u001b[0m\u001b[0;34m(\u001b[0m\u001b[0mparams\u001b[0m\u001b[0;34m)\u001b[0m\u001b[0;34m\u001b[0m\u001b[0;34m\u001b[0m\u001b[0m\n\u001b[0m\u001b[1;32m    201\u001b[0m             \u001b[0mself\u001b[0m\u001b[0;34m.\u001b[0m\u001b[0mdispatch\u001b[0m\u001b[0;34m(\u001b[0m\u001b[0mEvents\u001b[0m\u001b[0;34m.\u001b[0m\u001b[0mOPTIMIZATION_STEP\u001b[0m\u001b[0;34m)\u001b[0m\u001b[0;34m\u001b[0m\u001b[0;34m\u001b[0m\u001b[0m\n\u001b[1;32m    202\u001b[0m \u001b[0;34m\u001b[0m\u001b[0m\n",
      "\u001b[0;32m~/.local/lib/python3.9/site-packages/bayes_opt/target_space.py\u001b[0m in \u001b[0;36mprobe\u001b[0;34m(self, params)\u001b[0m\n\u001b[1;32m    192\u001b[0m         \u001b[0;32mexcept\u001b[0m \u001b[0mKeyError\u001b[0m\u001b[0;34m:\u001b[0m\u001b[0;34m\u001b[0m\u001b[0;34m\u001b[0m\u001b[0m\n\u001b[1;32m    193\u001b[0m             \u001b[0mparams\u001b[0m \u001b[0;34m=\u001b[0m \u001b[0mdict\u001b[0m\u001b[0;34m(\u001b[0m\u001b[0mzip\u001b[0m\u001b[0;34m(\u001b[0m\u001b[0mself\u001b[0m\u001b[0;34m.\u001b[0m\u001b[0m_keys\u001b[0m\u001b[0;34m,\u001b[0m \u001b[0mx\u001b[0m\u001b[0;34m)\u001b[0m\u001b[0;34m)\u001b[0m\u001b[0;34m\u001b[0m\u001b[0;34m\u001b[0m\u001b[0m\n\u001b[0;32m--> 194\u001b[0;31m             \u001b[0mtarget\u001b[0m \u001b[0;34m=\u001b[0m \u001b[0mself\u001b[0m\u001b[0;34m.\u001b[0m\u001b[0mtarget_func\u001b[0m\u001b[0;34m(\u001b[0m\u001b[0;34m**\u001b[0m\u001b[0mparams\u001b[0m\u001b[0;34m)\u001b[0m\u001b[0;34m\u001b[0m\u001b[0;34m\u001b[0m\u001b[0m\n\u001b[0m\u001b[1;32m    195\u001b[0m             \u001b[0mself\u001b[0m\u001b[0;34m.\u001b[0m\u001b[0mregister\u001b[0m\u001b[0;34m(\u001b[0m\u001b[0mx\u001b[0m\u001b[0;34m,\u001b[0m \u001b[0mtarget\u001b[0m\u001b[0;34m)\u001b[0m\u001b[0;34m\u001b[0m\u001b[0;34m\u001b[0m\u001b[0m\n\u001b[1;32m    196\u001b[0m         \u001b[0;32mreturn\u001b[0m \u001b[0mtarget\u001b[0m\u001b[0;34m\u001b[0m\u001b[0;34m\u001b[0m\u001b[0m\n",
      "\u001b[0;32m/var/lib/condor/execute/dir_2195087/ipykernel_2206078/4264765854.py\u001b[0m in \u001b[0;36moptimise\u001b[0;34m(eps)\u001b[0m\n\u001b[1;32m      1\u001b[0m \u001b[0;32mdef\u001b[0m \u001b[0moptimise\u001b[0m\u001b[0;34m(\u001b[0m\u001b[0meps\u001b[0m\u001b[0;34m)\u001b[0m\u001b[0;34m:\u001b[0m\u001b[0;34m\u001b[0m\u001b[0;34m\u001b[0m\u001b[0m\n\u001b[0;32m----> 2\u001b[0;31m     \u001b[0mclustering\u001b[0m \u001b[0;34m=\u001b[0m \u001b[0mDBSCAN\u001b[0m\u001b[0;34m(\u001b[0m\u001b[0meps\u001b[0m\u001b[0;34m=\u001b[0m\u001b[0meps\u001b[0m\u001b[0;34m,\u001b[0m \u001b[0mmin_samples\u001b[0m\u001b[0;34m=\u001b[0m\u001b[0;36m1000\u001b[0m\u001b[0;34m,\u001b[0m \u001b[0mn_jobs\u001b[0m\u001b[0;34m=\u001b[0m\u001b[0;36m8\u001b[0m\u001b[0;34m)\u001b[0m\u001b[0;34m.\u001b[0m\u001b[0mfit\u001b[0m\u001b[0;34m(\u001b[0m\u001b[0mX_filled\u001b[0m\u001b[0;34m)\u001b[0m\u001b[0;34m\u001b[0m\u001b[0;34m\u001b[0m\u001b[0m\n\u001b[0m\u001b[1;32m      3\u001b[0m \u001b[0;34m\u001b[0m\u001b[0m\n\u001b[1;32m      4\u001b[0m     \u001b[0mlabels\u001b[0m\u001b[0;34m,\u001b[0m \u001b[0mcounts\u001b[0m \u001b[0;34m=\u001b[0m \u001b[0mnp\u001b[0m\u001b[0;34m.\u001b[0m\u001b[0munique\u001b[0m\u001b[0;34m(\u001b[0m\u001b[0mclustering\u001b[0m\u001b[0;34m.\u001b[0m\u001b[0mlabels_\u001b[0m\u001b[0;34m,\u001b[0m \u001b[0mreturn_counts\u001b[0m\u001b[0;34m=\u001b[0m\u001b[0;32mTrue\u001b[0m\u001b[0;34m)\u001b[0m\u001b[0;34m\u001b[0m\u001b[0;34m\u001b[0m\u001b[0m\n\u001b[1;32m      5\u001b[0m \u001b[0;34m\u001b[0m\u001b[0m\n",
      "\u001b[0;32m~/.local/lib/python3.9/site-packages/sklearn/cluster/_dbscan.py\u001b[0m in \u001b[0;36mfit\u001b[0;34m(self, X, y, sample_weight)\u001b[0m\n\u001b[1;32m    404\u001b[0m         \u001b[0mneighbors_model\u001b[0m\u001b[0;34m.\u001b[0m\u001b[0mfit\u001b[0m\u001b[0;34m(\u001b[0m\u001b[0mX\u001b[0m\u001b[0;34m)\u001b[0m\u001b[0;34m\u001b[0m\u001b[0;34m\u001b[0m\u001b[0m\n\u001b[1;32m    405\u001b[0m         \u001b[0;31m# This has worst case O(n^2) memory complexity\u001b[0m\u001b[0;34m\u001b[0m\u001b[0;34m\u001b[0m\u001b[0m\n\u001b[0;32m--> 406\u001b[0;31m         \u001b[0mneighborhoods\u001b[0m \u001b[0;34m=\u001b[0m \u001b[0mneighbors_model\u001b[0m\u001b[0;34m.\u001b[0m\u001b[0mradius_neighbors\u001b[0m\u001b[0;34m(\u001b[0m\u001b[0mX\u001b[0m\u001b[0;34m,\u001b[0m \u001b[0mreturn_distance\u001b[0m\u001b[0;34m=\u001b[0m\u001b[0;32mFalse\u001b[0m\u001b[0;34m)\u001b[0m\u001b[0;34m\u001b[0m\u001b[0;34m\u001b[0m\u001b[0m\n\u001b[0m\u001b[1;32m    407\u001b[0m \u001b[0;34m\u001b[0m\u001b[0m\n\u001b[1;32m    408\u001b[0m         \u001b[0;32mif\u001b[0m \u001b[0msample_weight\u001b[0m \u001b[0;32mis\u001b[0m \u001b[0;32mNone\u001b[0m\u001b[0;34m:\u001b[0m\u001b[0;34m\u001b[0m\u001b[0;34m\u001b[0m\u001b[0m\n",
      "\u001b[0;32m~/.local/lib/python3.9/site-packages/sklearn/neighbors/_base.py\u001b[0m in \u001b[0;36mradius_neighbors\u001b[0;34m(self, X, radius, return_distance, sort_results)\u001b[0m\n\u001b[1;32m   1095\u001b[0m \u001b[0;34m\u001b[0m\u001b[0m\n\u001b[1;32m   1096\u001b[0m         \u001b[0;32mif\u001b[0m \u001b[0muse_pairwise_distances_reductions\u001b[0m\u001b[0;34m:\u001b[0m\u001b[0;34m\u001b[0m\u001b[0;34m\u001b[0m\u001b[0m\n\u001b[0;32m-> 1097\u001b[0;31m             results = PairwiseDistancesRadiusNeighborhood.compute(\n\u001b[0m\u001b[1;32m   1098\u001b[0m                 \u001b[0mX\u001b[0m\u001b[0;34m=\u001b[0m\u001b[0mX\u001b[0m\u001b[0;34m,\u001b[0m\u001b[0;34m\u001b[0m\u001b[0;34m\u001b[0m\u001b[0m\n\u001b[1;32m   1099\u001b[0m                 \u001b[0mY\u001b[0m\u001b[0;34m=\u001b[0m\u001b[0mself\u001b[0m\u001b[0;34m.\u001b[0m\u001b[0m_fit_X\u001b[0m\u001b[0;34m,\u001b[0m\u001b[0;34m\u001b[0m\u001b[0;34m\u001b[0m\u001b[0m\n",
      "\u001b[0;32msklearn/metrics/_pairwise_distances_reduction.pyx\u001b[0m in \u001b[0;36msklearn.metrics._pairwise_distances_reduction.PairwiseDistancesRadiusNeighborhood.compute\u001b[0;34m()\u001b[0m\n",
      "\u001b[0;32m/Software/users/modules/7/software/anaconda3/2021.11/lib/python3.9/site-packages/threadpoolctl.py\u001b[0m in \u001b[0;36m__exit__\u001b[0;34m(self, type, value, traceback)\u001b[0m\n\u001b[1;32m    174\u001b[0m         \u001b[0;32mreturn\u001b[0m \u001b[0mself\u001b[0m\u001b[0;34m\u001b[0m\u001b[0;34m\u001b[0m\u001b[0m\n\u001b[1;32m    175\u001b[0m \u001b[0;34m\u001b[0m\u001b[0m\n\u001b[0;32m--> 176\u001b[0;31m     \u001b[0;32mdef\u001b[0m \u001b[0m__exit__\u001b[0m\u001b[0;34m(\u001b[0m\u001b[0mself\u001b[0m\u001b[0;34m,\u001b[0m \u001b[0mtype\u001b[0m\u001b[0;34m,\u001b[0m \u001b[0mvalue\u001b[0m\u001b[0;34m,\u001b[0m \u001b[0mtraceback\u001b[0m\u001b[0;34m)\u001b[0m\u001b[0;34m:\u001b[0m\u001b[0;34m\u001b[0m\u001b[0;34m\u001b[0m\u001b[0m\n\u001b[0m\u001b[1;32m    177\u001b[0m         \u001b[0mself\u001b[0m\u001b[0;34m.\u001b[0m\u001b[0munregister\u001b[0m\u001b[0;34m(\u001b[0m\u001b[0;34m)\u001b[0m\u001b[0;34m\u001b[0m\u001b[0;34m\u001b[0m\u001b[0m\n\u001b[1;32m    178\u001b[0m \u001b[0;34m\u001b[0m\u001b[0m\n",
      "\u001b[0;31mKeyboardInterrupt\u001b[0m: "
     ]
    }
   ],
   "source": [
    "import warnings\n",
    "with warnings.catch_warnings():\n",
    "    warnings.simplefilter(\"ignore\")\n",
    "    optimizer.maximize(\n",
    "        init_points=5,\n",
    "        n_iter=100,\n",
    "    )"
   ]
  },
  {
   "cell_type": "code",
   "execution_count": null,
   "id": "391c7b5e",
   "metadata": {},
   "outputs": [],
   "source": []
  }
 ],
 "metadata": {
  "kernelspec": {
   "display_name": "Anaconda3 - 2021.11",
   "language": "python",
   "name": "python3-2021.11"
  },
  "language_info": {
   "codemirror_mode": {
    "name": "ipython",
    "version": 3
   },
   "file_extension": ".py",
   "mimetype": "text/x-python",
   "name": "python",
   "nbconvert_exporter": "python",
   "pygments_lexer": "ipython3",
   "version": "3.9.7"
  },
  "latex_envs": {
   "LaTeX_envs_menu_present": true,
   "autoclose": false,
   "autocomplete": true,
   "bibliofile": "biblio.bib",
   "cite_by": "apalike",
   "current_citInitial": 1,
   "eqLabelWithNumbers": true,
   "eqNumInitial": 1,
   "hotkeys": {
    "equation": "Ctrl-E",
    "itemize": "Ctrl-I"
   },
   "labels_anchors": false,
   "latex_user_defs": false,
   "report_style_numbering": false,
   "user_envs_cfg": false
  }
 },
 "nbformat": 4,
 "nbformat_minor": 5
}
