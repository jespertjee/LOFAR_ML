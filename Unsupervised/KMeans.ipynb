{
 "cells": [
  {
   "cell_type": "code",
   "execution_count": 7,
   "id": "b2ccd174",
   "metadata": {},
   "outputs": [],
   "source": [
    "import pandas as pd\n",
    "import numpy as np\n",
    "from sklearn.cluster import KMeans\n",
    "import matplotlib.pyplot as plt\n",
    "from sklearn import metrics"
   ]
  },
  {
   "cell_type": "markdown",
   "id": "afdda5fd",
   "metadata": {},
   "source": [
    "## Importing data (just original for now)"
   ]
  },
  {
   "cell_type": "code",
   "execution_count": 2,
   "id": "b087e35f",
   "metadata": {},
   "outputs": [],
   "source": [
    "features_num = [\n",
    "    'Total_flux', 'Peak_flux', \n",
    "       'NUV_flux_corr', 'u_flux_corr', 'Bw_flux_corr', 'R_flux_corr',\n",
    "       'I_flux_corr', 'z_flux_corr', 'y_flux_corr',\n",
    "       'J_flux_corr', 'H_flux_corr', 'K_flux_corr', 'Ks_flux_corr',\n",
    "       'ch1_flux_corr', 'ch2_flux_corr', 'ch3_flux_corr', 'ch4_flux_corr',\n",
    "       'F_MIPS_24', 'F_PACS_100', 'F_PACS_160', 'F_SPIRE_250', 'F_SPIRE_350',\n",
    "       'F_SPIRE_500', 'Z_BEST',\n",
    "       'g_flux_corr', 'nb921_hsc_flux_corr'\n",
    "    ]\n",
    "y_column = \"Classification\"\n",
    "\n",
    "classes = ['jet-mode radio AGN/low-excitation radio galaxy', 'quasar-like radio AGN / high-excitation radio galaxy', \n",
    "           'radio-quiet AGN', 'star-forming galaxy']"
   ]
  },
  {
   "cell_type": "code",
   "execution_count": 3,
   "id": "3d276ed7",
   "metadata": {},
   "outputs": [],
   "source": [
    "data = pd.read_csv(\"../Data/Fangyou_data/Cleaned/combined_using_similar_columns.csv\")\n",
    "data['Source'] = 'Original'"
   ]
  },
  {
   "cell_type": "code",
   "execution_count": 4,
   "id": "bd35170c",
   "metadata": {},
   "outputs": [],
   "source": [
    "X = data[features_num]\n",
    "y = data[[y_column, 'Source', 'Xray', 'Opt_spec', 'IRAGN', 'Donley']]"
   ]
  },
  {
   "cell_type": "markdown",
   "id": "5cd6dcc1",
   "metadata": {},
   "source": [
    "## Filling nan's"
   ]
  },
  {
   "cell_type": "code",
   "execution_count": 5,
   "id": "7b5547a0",
   "metadata": {},
   "outputs": [],
   "source": [
    "# fill nans with 0s\n",
    "X_filled = X.fillna(0)"
   ]
  },
  {
   "cell_type": "markdown",
   "id": "6b280f74",
   "metadata": {},
   "source": [
    "## Running KMeans"
   ]
  },
  {
   "cell_type": "code",
   "execution_count": 31,
   "id": "1d3a6249",
   "metadata": {},
   "outputs": [],
   "source": [
    "kmeans = KMeans(n_clusters=8).fit(X_filled)"
   ]
  },
  {
   "cell_type": "code",
   "execution_count": 32,
   "id": "f3584c98",
   "metadata": {},
   "outputs": [
    {
     "data": {
      "text/plain": [
       "(array([0, 1, 2, 3, 4, 5, 6, 7], dtype=int32),\n",
       " array([57446,     1,   277, 18546,    24,  1237,     6,    72]))"
      ]
     },
     "execution_count": 32,
     "metadata": {},
     "output_type": "execute_result"
    }
   ],
   "source": [
    "np.unique(kmeans.labels_, return_counts=True)"
   ]
  },
  {
   "cell_type": "code",
   "execution_count": null,
   "id": "04781dd9",
   "metadata": {},
   "outputs": [],
   "source": []
  }
 ],
 "metadata": {
  "kernelspec": {
   "display_name": "Anaconda3 - 2021.11",
   "language": "python",
   "name": "python3-2021.11"
  },
  "language_info": {
   "codemirror_mode": {
    "name": "ipython",
    "version": 3
   },
   "file_extension": ".py",
   "mimetype": "text/x-python",
   "name": "python",
   "nbconvert_exporter": "python",
   "pygments_lexer": "ipython3",
   "version": "3.9.7"
  },
  "latex_envs": {
   "LaTeX_envs_menu_present": true,
   "autoclose": false,
   "autocomplete": true,
   "bibliofile": "biblio.bib",
   "cite_by": "apalike",
   "current_citInitial": 1,
   "eqLabelWithNumbers": true,
   "eqNumInitial": 1,
   "hotkeys": {
    "equation": "Ctrl-E",
    "itemize": "Ctrl-I"
   },
   "labels_anchors": false,
   "latex_user_defs": false,
   "report_style_numbering": false,
   "user_envs_cfg": false
  }
 },
 "nbformat": 4,
 "nbformat_minor": 5
}
