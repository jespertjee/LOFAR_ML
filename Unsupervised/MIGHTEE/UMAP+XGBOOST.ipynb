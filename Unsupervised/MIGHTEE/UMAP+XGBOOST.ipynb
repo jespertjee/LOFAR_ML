{
 "cells": [
  {
   "cell_type": "code",
   "execution_count": 13,
   "id": "03140541",
   "metadata": {},
   "outputs": [],
   "source": [
    "import pandas as pd\n",
    "import numpy as np\n",
    "import umap\n",
    "import matplotlib.pyplot as plt\n",
    "from sklearn.impute import SimpleImputer\n",
    "from sklearn.experimental import enable_iterative_imputer\n",
    "from sklearn.impute import IterativeImputer\n",
    "from sklearn.cluster import DBSCAN\n",
    "from sklearn.model_selection import train_test_split\n",
    "from sklearn.metrics import accuracy_score"
   ]
  },
  {
   "cell_type": "markdown",
   "id": "f46048a9",
   "metadata": {},
   "source": [
    "# Importing data"
   ]
  },
  {
   "cell_type": "code",
   "execution_count": 14,
   "id": "bdf0315a",
   "metadata": {},
   "outputs": [],
   "source": [
    "features_num = [\n",
    "    'Total_flux', 'Peak_flux', \n",
    "       'NUV_flux_corr', 'u_flux_corr', 'Bw_flux_corr', 'R_flux_corr',\n",
    "       'I_flux_corr', 'z_flux_corr', 'y_flux_corr',\n",
    "       'J_flux_corr', 'H_flux_corr', 'K_flux_corr', 'Ks_flux_corr',\n",
    "       'ch1_flux_corr', 'ch2_flux_corr', 'ch3_flux_corr', 'ch4_flux_corr',\n",
    "       'F_MIPS_24', 'F_PACS_100', 'F_PACS_160', 'F_SPIRE_250', 'F_SPIRE_350',\n",
    "       'F_SPIRE_500', 'Z_BEST',\n",
    "       'g_flux_corr', 'nb921_hsc_flux_corr'\n",
    "    ]\n",
    "y_column = \"Classification\"\n",
    "\n",
    "classes = ['jet-mode radio AGN/low-excitation radio galaxy', 'quasar-like radio AGN / high-excitation radio galaxy', \n",
    "           'radio-quiet AGN', 'star-forming galaxy']"
   ]
  },
  {
   "cell_type": "code",
   "execution_count": 15,
   "id": "fe9aef0c",
   "metadata": {},
   "outputs": [],
   "source": [
    "data = pd.read_csv(\"../../Data/MIGHTEE/Classification/final_gaussian_radio_more.csv\")"
   ]
  },
  {
   "cell_type": "code",
   "execution_count": 16,
   "id": "438dd162",
   "metadata": {},
   "outputs": [
    {
     "name": "stdout",
     "output_type": "stream",
     "text": [
      "Amount of rows: 4370\n"
     ]
    }
   ],
   "source": [
    "# Dropping nan classifications\n",
    "data = data[data['Classification'].notna()]\n",
    "\n",
    "# Dropping quasar-like radio AGN / high-excitation radio galaxy\n",
    "#mightee_data = mightee_data[mightee_data['Classification'] != 'star-forming galaxy']\n",
    "print(\"Amount of rows:\", len(data))"
   ]
  },
  {
   "cell_type": "code",
   "execution_count": 17,
   "id": "2951c1a4",
   "metadata": {},
   "outputs": [],
   "source": [
    "X = data.drop(columns=['Classification', 'XAGN', 'midIRAGN', 'VLBAAGN', 'RLAGN', 'optAGN'])\n",
    "y = data[['Classification', 'XAGN', 'midIRAGN', 'VLBAAGN', 'RLAGN', 'optAGN']]"
   ]
  },
  {
   "cell_type": "markdown",
   "id": "dc931fb1",
   "metadata": {},
   "source": [
    "# Filter by redshift slice"
   ]
  },
  {
   "cell_type": "code",
   "execution_count": 18,
   "id": "14d3eb41",
   "metadata": {},
   "outputs": [],
   "source": [
    "z = 0.6\n",
    "#z = 3\n",
    "delta_z = 0.5\n",
    "\n",
    "redshift_filt = (X.Z_BEST >z) & (X.Z_BEST <(z+delta_z))\n",
    "X_sliced = X[redshift_filt]"
   ]
  },
  {
   "cell_type": "code",
   "execution_count": 20,
   "id": "1092379f",
   "metadata": {},
   "outputs": [
    {
     "data": {
      "text/plain": [
       "Index(['Unnamed: 0', 'S_INT14', 'Z_BEST', 'S_PEAK14', 'ch1_flux_corr',\n",
       "       'ch2_flux_corr', 'ch3_flux_corr', 'ch4_flux_corr', 'F_MIPS_24',\n",
       "       'F_PACS_100', 'F_PACS_160', 'F_SPIRE_250', 'F_SPIRE_350', 'F_SPIRE_500',\n",
       "       'EBV', 'Ks_flux_corr', 'H_flux_corr', 'J_flux_corr', 'i_flux_corr',\n",
       "       'r_flux_corr', 'u_flux_corr', 'z_flux_corr', 'y_flux_corr',\n",
       "       'NUV_flux_corr', 'FUV_flux_corr', 'Total_flux', 'Peak_flux'],\n",
       "      dtype='object')"
      ]
     },
     "execution_count": 20,
     "metadata": {},
     "output_type": "execute_result"
    }
   ],
   "source": [
    "X_sliced.columns"
   ]
  },
  {
   "cell_type": "markdown",
   "id": "ac206f52",
   "metadata": {},
   "source": [
    "# Splitting into train and testing set"
   ]
  },
  {
   "cell_type": "code",
   "execution_count": 138,
   "id": "50aed1c5",
   "metadata": {},
   "outputs": [],
   "source": [
    "X_train, X_test, y_train, y_test = train_test_split(X_sliced, y[redshift_filt], test_size=0.25, random_state=42)\n",
    "X_test, X_val, y_test, y_val = train_test_split(X_test, y_test, test_size=0.2, random_state=42)"
   ]
  },
  {
   "cell_type": "markdown",
   "id": "67587e56",
   "metadata": {},
   "source": [
    "## Filling nan's"
   ]
  },
  {
   "cell_type": "code",
   "execution_count": 139,
   "id": "54a52082",
   "metadata": {},
   "outputs": [],
   "source": [
    "imp = IterativeImputer(max_iter=100, min_value=0)\n",
    "X_train = imp.fit_transform(X_train)\n",
    "\n",
    "X_test = imp.transform(X_test)\n",
    "X_val = imp.transform(X_val)"
   ]
  },
  {
   "cell_type": "markdown",
   "id": "ad662302",
   "metadata": {},
   "source": [
    "# Scaling"
   ]
  },
  {
   "cell_type": "code",
   "execution_count": 140,
   "id": "4919a23d",
   "metadata": {},
   "outputs": [],
   "source": [
    "from sklearn.preprocessing import MinMaxScaler, StandardScaler, RobustScaler, MaxAbsScaler\n",
    "\n",
    "scaler = StandardScaler()\n",
    "X_train = scaler.fit_transform(X_train)\n",
    "\n",
    "X_test = scaler.transform(X_test)\n",
    "X_val = scaler.transform(X_val)"
   ]
  },
  {
   "cell_type": "markdown",
   "id": "bd868c7d",
   "metadata": {},
   "source": [
    "# Running UMAP"
   ]
  },
  {
   "cell_type": "code",
   "execution_count": 141,
   "id": "3fabbce1",
   "metadata": {},
   "outputs": [],
   "source": [
    "reducer = umap.UMAP(n_neighbors=5, min_dist=0.1)\n",
    "X_train = reducer.fit_transform(X_train)\n",
    "\n",
    "X_test = reducer.transform(X_test)\n",
    "X_val = reducer.transform(X_val)"
   ]
  },
  {
   "cell_type": "code",
   "execution_count": null,
   "id": "ed573391",
   "metadata": {},
   "outputs": [],
   "source": []
  },
  {
   "cell_type": "code",
   "execution_count": null,
   "id": "52a7dc03",
   "metadata": {},
   "outputs": [],
   "source": []
  },
  {
   "cell_type": "code",
   "execution_count": null,
   "id": "43e67a37",
   "metadata": {},
   "outputs": [],
   "source": []
  },
  {
   "cell_type": "markdown",
   "id": "ead6d1a3",
   "metadata": {},
   "source": [
    "# Hyperparameter tuning"
   ]
  },
  {
   "cell_type": "code",
   "execution_count": 168,
   "id": "377b3831",
   "metadata": {},
   "outputs": [],
   "source": [
    "from bayes_opt import BayesianOptimization"
   ]
  },
  {
   "cell_type": "code",
   "execution_count": 169,
   "id": "229ab715",
   "metadata": {},
   "outputs": [],
   "source": [
    "from sklearn.model_selection import StratifiedKFold\n",
    "\n",
    "# 5 folds\n",
    "skf = StratifiedKFold(n_splits=5)\n",
    "\n",
    "# Creating new sets\n",
    "X_train, X_test, y_train, y_test = train_test_split(X_sliced, y[redshift_filt]['Classification'], test_size=0.25, random_state=42)"
   ]
  },
  {
   "cell_type": "code",
   "execution_count": 174,
   "id": "604881da",
   "metadata": {},
   "outputs": [],
   "source": [
    "imp = IterativeImputer(max_iter=100, min_value=0)\n",
    "scaler = MaxAbsScaler()\n",
    "\n",
    "def optimise(max_depth, \n",
    "                     reg_alpha, \n",
    "                     reg_lambda, \n",
    "                     min_child_weight, \n",
    "                     eta,\n",
    "                     n_neighbors,\n",
    "                     min_dist\n",
    "                    ):\n",
    "    # The algorithm gives floats, so we round them\n",
    "    max_depth = int(max_depth)\n",
    "    n_neighbors = int(n_neighbors)\n",
    "    \n",
    "    # UMAP\n",
    "    reducer = umap.UMAP(n_neighbors=n_neighbors, min_dist=min_dist)\n",
    "    \n",
    "    model = XGBClassifier(use_label_encoder=True, \n",
    "                      max_depth=max_depth, \n",
    "                      reg_alpha=reg_alpha,   \n",
    "                      min_child_weight=min_child_weight, \n",
    "                      reg_lambda=reg_lambda,\n",
    "                      eta=eta,\n",
    "                      tree_method='hist',\n",
    "                      #gpu_id=0,\n",
    "                      objective='multi:softprob',\n",
    "                      eval_metric =['merror'],\n",
    "                      nthread=8,\n",
    "                      n_estimators=10**5\n",
    "                      )\n",
    "    \n",
    "    y_preds = []\n",
    "    for train_index, val_index in skf.split(X_train, y_train):    \n",
    "        # Splitting up the new train and test set (from the original train set)\n",
    "        X_train_cv, X_test_cv = X_train.iloc[train_index], X_train.iloc[val_index]\n",
    "        y_train_cv, y_test_cv = y_train.iloc[train_index], y_train.iloc[val_index]\n",
    "        \n",
    "        X_test_cv, X_val_cv, y_test_cv, y_val_cv = train_test_split(X_test_cv, y_test_cv, train_size=0.8, \n",
    "                                                                    stratify=y_test_cv, random_state=42)\n",
    "        \n",
    "        # Filling nan's\n",
    "        X_train_cv = imp.fit_transform(X_train_cv)\n",
    "        X_test_cv = imp.transform(X_test_cv)\n",
    "        X_val_cv = imp.transform(X_val_cv)\n",
    "        \n",
    "        # Scaling\n",
    "        X_train_cv = scaler.fit_transform(X_train_cv)\n",
    "        X_test_cv = scaler.transform(X_test_cv)\n",
    "        X_val_cv = scaler.transform(X_val_cv)\n",
    "        \n",
    "        # UMAP reducing\n",
    "        X_train_cv = reducer.fit_transform(X_train_cv)\n",
    "        X_test_cv = reducer.transform(X_test_cv)\n",
    "        X_val_cv = reducer.transform(X_val_cv)\n",
    "\n",
    "        # Training the model\n",
    "        model.fit(X_train_cv, y_train_cv, \n",
    "                    verbose=False, \n",
    "                    eval_set=[\n",
    "                        (X_val_cv, y_val_cv)\n",
    "                    ], \n",
    "                    early_stopping_rounds=25\n",
    "                   )\n",
    "        \n",
    "        \n",
    "\n",
    "        # Getting the accuracy and appending\n",
    "        y_pred = model.predict(X_test_cv)\n",
    "        y_preds.append(accuracy_score(y_test_cv, y_pred))\n",
    "    return np.mean(y_preds)"
   ]
  },
  {
   "cell_type": "code",
   "execution_count": 175,
   "id": "ca720221",
   "metadata": {},
   "outputs": [],
   "source": [
    "# Bounded region of parameter space\n",
    "pbounds = {\n",
    "    'max_depth': (3, 10),\n",
    "    'reg_alpha': (0, 10),\n",
    "    'reg_lambda': (0, 30),\n",
    "    'min_child_weight': (0, 10),\n",
    "    'eta': (0.01, 0.5),\n",
    "    'n_neighbors': (2,50),\n",
    "    'min_dist': (0.001, 1)\n",
    "}"
   ]
  },
  {
   "cell_type": "code",
   "execution_count": 176,
   "id": "408c85e8",
   "metadata": {},
   "outputs": [],
   "source": [
    "optimizer = BayesianOptimization(\n",
    "    f=optimise,\n",
    "    pbounds=pbounds,\n",
    "    verbose=2, # verbose = 1 prints only when a maximum is observed, verbose = 0 is silent\n",
    "    random_state=42,\n",
    ")"
   ]
  },
  {
   "cell_type": "code",
   "execution_count": null,
   "id": "297a70cd",
   "metadata": {},
   "outputs": [
    {
     "name": "stdout",
     "output_type": "stream",
     "text": [
      "|   iter    |  target   |    eta    | max_depth | min_ch... | min_dist  | n_neig... | reg_alpha | reg_la... |\n",
      "-------------------------------------------------------------------------------------------------------------\n",
      "| \u001b[0m1        \u001b[0m | \u001b[0m0.9735   \u001b[0m | \u001b[0m0.1935   \u001b[0m | \u001b[0m9.655    \u001b[0m | \u001b[0m7.32     \u001b[0m | \u001b[0m0.5991   \u001b[0m | \u001b[0m9.489    \u001b[0m | \u001b[0m1.56     \u001b[0m | \u001b[0m1.743    \u001b[0m |\n",
      "| \u001b[0m2        \u001b[0m | \u001b[0m0.9676   \u001b[0m | \u001b[0m0.4344   \u001b[0m | \u001b[0m7.208    \u001b[0m | \u001b[0m7.081    \u001b[0m | \u001b[0m0.02156  \u001b[0m | \u001b[0m48.56    \u001b[0m | \u001b[0m8.324    \u001b[0m | \u001b[0m6.37     \u001b[0m |\n",
      "| \u001b[0m3        \u001b[0m | \u001b[0m0.9706   \u001b[0m | \u001b[0m0.09909  \u001b[0m | \u001b[0m4.284    \u001b[0m | \u001b[0m3.042    \u001b[0m | \u001b[0m0.5252   \u001b[0m | \u001b[0m22.73    \u001b[0m | \u001b[0m2.912    \u001b[0m | \u001b[0m18.36    \u001b[0m |\n",
      "| \u001b[0m4        \u001b[0m | \u001b[0m0.9706   \u001b[0m | \u001b[0m0.07835  \u001b[0m | \u001b[0m5.045    \u001b[0m | \u001b[0m3.664    \u001b[0m | \u001b[0m0.4566   \u001b[0m | \u001b[0m39.69    \u001b[0m | \u001b[0m1.997    \u001b[0m | \u001b[0m15.43    \u001b[0m |\n",
      "| \u001b[0m5        \u001b[0m | \u001b[0m0.9657   \u001b[0m | \u001b[0m0.3003   \u001b[0m | \u001b[0m3.325    \u001b[0m | \u001b[0m6.075    \u001b[0m | \u001b[0m0.1714   \u001b[0m | \u001b[0m5.122    \u001b[0m | \u001b[0m9.489    \u001b[0m | \u001b[0m28.97    \u001b[0m |\n",
      "| \u001b[0m6        \u001b[0m | \u001b[0m0.9725   \u001b[0m | \u001b[0m0.05586  \u001b[0m | \u001b[0m5.763    \u001b[0m | \u001b[0m4.781    \u001b[0m | \u001b[0m0.6724   \u001b[0m | \u001b[0m33.39    \u001b[0m | \u001b[0m9.063    \u001b[0m | \u001b[0m25.16    \u001b[0m |\n",
      "| \u001b[0m7        \u001b[0m | \u001b[0m0.9657   \u001b[0m | \u001b[0m0.06955  \u001b[0m | \u001b[0m8.857    \u001b[0m | \u001b[0m6.713    \u001b[0m | \u001b[0m0.2363   \u001b[0m | \u001b[0m9.972    \u001b[0m | \u001b[0m1.121    \u001b[0m | \u001b[0m1.451    \u001b[0m |\n",
      "| \u001b[0m8        \u001b[0m | \u001b[0m0.9686   \u001b[0m | \u001b[0m0.2186   \u001b[0m | \u001b[0m5.386    \u001b[0m | \u001b[0m9.049    \u001b[0m | \u001b[0m0.473    \u001b[0m | \u001b[0m47.25    \u001b[0m | \u001b[0m2.972    \u001b[0m | \u001b[0m20.41    \u001b[0m |\n",
      "| \u001b[0m9        \u001b[0m | \u001b[0m0.9627   \u001b[0m | \u001b[0m0.4993   \u001b[0m | \u001b[0m3.358    \u001b[0m | \u001b[0m7.826    \u001b[0m | \u001b[0m0.7426   \u001b[0m | \u001b[0m40.03    \u001b[0m | \u001b[0m3.493    \u001b[0m | \u001b[0m13.93    \u001b[0m |\n",
      "| \u001b[0m10       \u001b[0m | \u001b[0m0.9647   \u001b[0m | \u001b[0m0.2825   \u001b[0m | \u001b[0m9.326    \u001b[0m | \u001b[0m6.618    \u001b[0m | \u001b[0m0.2313   \u001b[0m | \u001b[0m48.37    \u001b[0m | \u001b[0m3.961    \u001b[0m | \u001b[0m0.8299   \u001b[0m |\n",
      "| \u001b[0m11       \u001b[0m | \u001b[0m0.9676   \u001b[0m | \u001b[0m0.4065   \u001b[0m | \u001b[0m4.349    \u001b[0m | \u001b[0m8.508    \u001b[0m | \u001b[0m0.6513   \u001b[0m | \u001b[0m33.83    \u001b[0m | \u001b[0m0.512    \u001b[0m | \u001b[0m12.56    \u001b[0m |\n",
      "| \u001b[0m12       \u001b[0m | \u001b[0m0.9637   \u001b[0m | \u001b[0m0.3577   \u001b[0m | \u001b[0m7.42     \u001b[0m | \u001b[0m8.018    \u001b[0m | \u001b[0m0.6742   \u001b[0m | \u001b[0m42.55    \u001b[0m | \u001b[0m2.156    \u001b[0m | \u001b[0m28.8     \u001b[0m |\n",
      "| \u001b[0m13       \u001b[0m | \u001b[0m0.9657   \u001b[0m | \u001b[0m0.06836  \u001b[0m | \u001b[0m9.652    \u001b[0m | \u001b[0m9.684    \u001b[0m | \u001b[0m0.9534   \u001b[0m | \u001b[0m46.39    \u001b[0m | \u001b[0m2.364    \u001b[0m | \u001b[0m12.64    \u001b[0m |\n",
      "| \u001b[0m14       \u001b[0m | \u001b[0m0.9725   \u001b[0m | \u001b[0m0.4884   \u001b[0m | \u001b[0m7.899    \u001b[0m | \u001b[0m9.029    \u001b[0m | \u001b[0m0.4452   \u001b[0m | \u001b[0m21.58    \u001b[0m | \u001b[0m2.404    \u001b[0m | \u001b[0m5.372    \u001b[0m |\n",
      "| \u001b[0m15       \u001b[0m | \u001b[0m0.7716   \u001b[0m | \u001b[0m0.2199   \u001b[0m | \u001b[0m5.291    \u001b[0m | \u001b[0m5.175    \u001b[0m | \u001b[0m0.9815   \u001b[0m | \u001b[0m2.808    \u001b[0m | \u001b[0m8.906    \u001b[0m | \u001b[0m15.58    \u001b[0m |\n",
      "| \u001b[95m16       \u001b[0m | \u001b[95m0.9765   \u001b[0m | \u001b[95m0.5      \u001b[0m | \u001b[95m10.0     \u001b[0m | \u001b[95m10.0     \u001b[0m | \u001b[95m0.001    \u001b[0m | \u001b[95m22.87    \u001b[0m | \u001b[95m0.0      \u001b[0m | \u001b[95m30.0     \u001b[0m |\n",
      "| \u001b[0m17       \u001b[0m | \u001b[0m0.9735   \u001b[0m | \u001b[0m0.01     \u001b[0m | \u001b[0m10.0     \u001b[0m | \u001b[0m0.0      \u001b[0m | \u001b[0m1.0      \u001b[0m | \u001b[0m32.17    \u001b[0m | \u001b[0m10.0     \u001b[0m | \u001b[0m2.098    \u001b[0m |\n",
      "| \u001b[0m18       \u001b[0m | \u001b[0m0.9716   \u001b[0m | \u001b[0m0.5      \u001b[0m | \u001b[0m3.0      \u001b[0m | \u001b[0m0.0      \u001b[0m | \u001b[0m0.001    \u001b[0m | \u001b[0m20.26    \u001b[0m | \u001b[0m10.0     \u001b[0m | \u001b[0m30.0     \u001b[0m |\n",
      "| \u001b[0m19       \u001b[0m | \u001b[0m0.9696   \u001b[0m | \u001b[0m0.5      \u001b[0m | \u001b[0m10.0     \u001b[0m | \u001b[0m0.0      \u001b[0m | \u001b[0m0.001    \u001b[0m | \u001b[0m50.0     \u001b[0m | \u001b[0m10.0     \u001b[0m | \u001b[0m23.32    \u001b[0m |\n",
      "| \u001b[0m20       \u001b[0m | \u001b[0m0.9686   \u001b[0m | \u001b[0m0.5      \u001b[0m | \u001b[0m3.0      \u001b[0m | \u001b[0m0.0      \u001b[0m | \u001b[0m1.0      \u001b[0m | \u001b[0m29.63    \u001b[0m | \u001b[0m0.0      \u001b[0m | \u001b[0m30.0     \u001b[0m |\n",
      "| \u001b[0m21       \u001b[0m | \u001b[0m0.9716   \u001b[0m | \u001b[0m0.5      \u001b[0m | \u001b[0m3.0      \u001b[0m | \u001b[0m0.0      \u001b[0m | \u001b[0m1.0      \u001b[0m | \u001b[0m34.21    \u001b[0m | \u001b[0m0.0      \u001b[0m | \u001b[0m0.0      \u001b[0m |\n"
     ]
    }
   ],
   "source": [
    "import warnings\n",
    "with warnings.catch_warnings():\n",
    "    warnings.simplefilter(\"ignore\")\n",
    "    optimizer.maximize(\n",
    "        init_points=5,\n",
    "        n_iter=100,\n",
    "    )"
   ]
  },
  {
   "cell_type": "code",
   "execution_count": null,
   "id": "2ad6bb5b",
   "metadata": {},
   "outputs": [],
   "source": []
  },
  {
   "cell_type": "code",
   "execution_count": null,
   "id": "72c95fc4",
   "metadata": {},
   "outputs": [],
   "source": []
  }
 ],
 "metadata": {
  "kernelspec": {
   "display_name": "Anaconda3 - 2021.11",
   "language": "python",
   "name": "python3-2021.11"
  },
  "language_info": {
   "codemirror_mode": {
    "name": "ipython",
    "version": 3
   },
   "file_extension": ".py",
   "mimetype": "text/x-python",
   "name": "python",
   "nbconvert_exporter": "python",
   "pygments_lexer": "ipython3",
   "version": "3.9.7"
  },
  "latex_envs": {
   "LaTeX_envs_menu_present": true,
   "autoclose": false,
   "autocomplete": true,
   "bibliofile": "biblio.bib",
   "cite_by": "apalike",
   "current_citInitial": 1,
   "eqLabelWithNumbers": true,
   "eqNumInitial": 1,
   "hotkeys": {
    "equation": "Ctrl-E",
    "itemize": "Ctrl-I"
   },
   "labels_anchors": false,
   "latex_user_defs": false,
   "report_style_numbering": false,
   "user_envs_cfg": false
  }
 },
 "nbformat": 4,
 "nbformat_minor": 5
}
