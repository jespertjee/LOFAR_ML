{
 "cells": [
  {
   "cell_type": "code",
   "execution_count": 132,
   "id": "b2ccd174",
   "metadata": {},
   "outputs": [],
   "source": [
    "import pandas as pd\n",
    "import numpy as np\n",
    "from sklearn.cluster import DBSCAN\n",
    "import matplotlib.pyplot as plt"
   ]
  },
  {
   "cell_type": "markdown",
   "id": "afdda5fd",
   "metadata": {},
   "source": [
    "## Importing data (just original for now)"
   ]
  },
  {
   "cell_type": "code",
   "execution_count": 133,
   "id": "b087e35f",
   "metadata": {},
   "outputs": [],
   "source": [
    "features_num = [\n",
    "    'Total_flux', 'Peak_flux', \n",
    "       'NUV_flux_corr', 'u_flux_corr', 'Bw_flux_corr', 'R_flux_corr',\n",
    "       'I_flux_corr', 'z_flux_corr', 'y_flux_corr',\n",
    "       'J_flux_corr', 'H_flux_corr', 'K_flux_corr', 'Ks_flux_corr',\n",
    "       'ch1_flux_corr', 'ch2_flux_corr', 'ch3_flux_corr', 'ch4_flux_corr',\n",
    "       'F_MIPS_24', 'F_PACS_100', 'F_PACS_160', 'F_SPIRE_250', 'F_SPIRE_350',\n",
    "       'F_SPIRE_500', 'Z_BEST',\n",
    "       'g_flux_corr', 'nb921_hsc_flux_corr'\n",
    "    ]\n",
    "y_column = \"Classification\"\n",
    "\n",
    "classes = ['jet-mode radio AGN/low-excitation radio galaxy', 'quasar-like radio AGN / high-excitation radio galaxy', \n",
    "           'radio-quiet AGN', 'star-forming galaxy']"
   ]
  },
  {
   "cell_type": "code",
   "execution_count": 134,
   "id": "3d276ed7",
   "metadata": {},
   "outputs": [],
   "source": [
    "data = pd.read_csv(\"../Data/Fangyou_data/Cleaned/combined_using_similar_columns.csv\")\n",
    "data['Source'] = 'Original'"
   ]
  },
  {
   "cell_type": "code",
   "execution_count": 135,
   "id": "bd35170c",
   "metadata": {},
   "outputs": [],
   "source": [
    "X = data[features_num]\n",
    "y = data[[y_column, 'Source', 'Xray', 'Opt_spec', 'IRAGN', 'Donley']]"
   ]
  },
  {
   "cell_type": "markdown",
   "id": "5cd6dcc1",
   "metadata": {},
   "source": [
    "## Filling nan's"
   ]
  },
  {
   "cell_type": "code",
   "execution_count": 136,
   "id": "7b5547a0",
   "metadata": {},
   "outputs": [],
   "source": [
    "# fill nans with 0s\n",
    "X_filled = X.fillna(0)"
   ]
  },
  {
   "cell_type": "markdown",
   "id": "0e68d8b7",
   "metadata": {},
   "source": [
    "## Normalisations"
   ]
  },
  {
   "cell_type": "code",
   "execution_count": 67,
   "id": "a5e2c05f",
   "metadata": {},
   "outputs": [],
   "source": [
    "from sklearn.preprocessing import MinMaxScaler, StandardScaler\n",
    "\n",
    "scaler = MinMaxScaler()\n",
    "X_filled = scaler.fit_transform(X_filled)"
   ]
  },
  {
   "cell_type": "markdown",
   "id": "6b280f74",
   "metadata": {},
   "source": [
    "## Running DBSCAN"
   ]
  },
  {
   "cell_type": "code",
   "execution_count": 137,
   "id": "25b7a122",
   "metadata": {},
   "outputs": [],
   "source": [
    "sample = X_filled.sample(10000)"
   ]
  },
  {
   "cell_type": "code",
   "execution_count": 142,
   "id": "928ec77e",
   "metadata": {
    "scrolled": true
   },
   "outputs": [
    {
     "name": "stdout",
     "output_type": "stream",
     "text": [
      "1.0 [10000]\n",
      "1002.0 [9905   22   65    8]\n",
      "2003.0 [8534 1303   21   39   18   22   13   22    9   10    9]\n",
      "3004.0 [6231 3681   10   10   12   24    8   16    8]\n",
      "4005.0 [4434 5535    8    9    8    6]\n",
      "5006.0 [3017 6965   11    7]\n",
      "6007.0 [2026 7939   11    8    9    7]\n",
      "7008.0 [1539 8454    7]\n",
      "8009.0 [1145 8837    5   13]\n",
      "9010.0 [ 905 9095]\n",
      "10011.0 [ 738 9251   11]\n",
      "11012.0 [ 603 9383   14]\n",
      "12013.0 [ 496 9494   10]\n",
      "13014.0 [ 435 9547   18]\n",
      "14015.0 [ 378 9622]\n",
      "15016.0 [ 325 9665   10]\n",
      "16017.0 [ 296 9704]\n",
      "17018.0 [ 272 9728]\n",
      "18019.0 [ 260 9740]\n",
      "19020.0 [ 228 9762   10]\n",
      "20021.0 [ 197 9778   10    7    8]\n",
      "21022.0 [ 178 9800   14    8]\n",
      "22023.0 [ 168 9818   14]\n",
      "23024.0 [ 157 9825   18]\n",
      "24025.0 [ 142 9840   18]\n",
      "25026.0 [ 129 9853   18]\n",
      "26027.0 [ 123 9858   19]\n",
      "27028.0 [ 121 9860   19]\n",
      "28029.0 [ 111 9870   19]\n",
      "29030.0 [ 104 9877   19]\n",
      "30031.0 [  99 9882   19]\n",
      "31032.0 [  91 9890   19]\n",
      "32033.0 [  83 9898   19]\n",
      "33034.0 [  79 9902   19]\n",
      "34035.0 [  76 9904   20]\n",
      "35036.0 [  72 9908   20]\n",
      "36037.0 [  70 9910   20]\n",
      "37038.0 [  69 9911   20]\n",
      "38039.0 [  65 9915   20]\n",
      "39040.0 [  64 9916   20]\n",
      "40041.0 [  63 9917   20]\n",
      "41042.0 [  63 9917   20]\n",
      "42043.0 [  63 9917   20]\n",
      "43044.0 [  63 9917   20]\n",
      "44045.0 [  63 9917   20]\n",
      "45046.0 [  63 9917   20]\n",
      "46047.0 [  62 9918   20]\n",
      "47048.0 [  58 9922   20]\n",
      "48049.0 [  53 9927   20]\n",
      "49050.0 [  52 9928   20]\n",
      "50051.0 [  52 9928   20]\n",
      "51052.0 [  52 9928   20]\n",
      "52053.0 [  51 9929   20]\n",
      "53054.0 [  50 9930   20]\n",
      "54055.0 [  48 9932   20]\n",
      "55056.0 [  47 9933   20]\n",
      "56057.0 [  45 9935   20]\n",
      "57058.0 [  45 9935   20]\n",
      "58059.0 [  45 9935   20]\n",
      "59060.0 [  44 9936   20]\n",
      "60061.0 [  43 9937   20]\n",
      "61062.0 [  40 9940   20]\n",
      "62063.0 [  38 9942   20]\n",
      "63064.0 [  37 9943   20]\n",
      "64065.0 [  37 9943   20]\n",
      "65066.0 [  37 9943   20]\n",
      "66067.0 [  36 9944   20]\n",
      "67068.0 [  34 9946   20]\n",
      "68069.0 [  34 9946   20]\n",
      "69070.0 [  32 9947   21]\n",
      "70071.0 [  31 9948   21]\n",
      "71072.0 [  30 9949   21]\n",
      "72073.0 [  30 9949   21]\n",
      "73074.0 [  29 9950   21]\n",
      "74075.0 [  27 9952   21]\n",
      "75076.0 [  26 9953   21]\n",
      "76077.0 [  26 9953   21]\n",
      "77078.0 [  26 9953   21]\n",
      "78079.0 [  26 9953   21]\n",
      "79080.0 [  25 9954   21]\n",
      "80081.0 [  25 9954   21]\n",
      "81082.0 [  25 9954   21]\n",
      "82083.0 [  25 9954   21]\n",
      "83084.0 [  24 9955   21]\n",
      "84085.0 [  23 9956   21]\n",
      "85086.0 [  23 9956   21]\n",
      "86087.0 [  23 9956   21]\n",
      "87088.0 [  23 9956   21]\n",
      "88089.0 [  22 9956   22]\n",
      "89090.0 [  22 9956   22]\n",
      "90091.0 [  22 9956   22]\n",
      "91092.0 [  22 9956   22]\n",
      "92093.0 [  22 9956   22]\n",
      "93094.0 [  22 9956   22]\n",
      "94095.0 [  21 9956   23]\n",
      "95096.0 [  21 9956   23]\n",
      "96097.0 [  21 9956   23]\n",
      "97098.0 [  21 9956   23]\n",
      "98099.0 [  21 9956   23]\n",
      "99100.0 [  21 9956   23]\n",
      "100101.0 [  21 9956   23]\n",
      "101102.0 [  21 9956   23]\n",
      "102103.0 [  21 9956   23]\n",
      "103104.0 [  19 9958   23]\n",
      "104105.0 [  19 9958   23]\n",
      "105106.0 [  19 9958   23]\n",
      "106107.0 [  19 9958   23]\n",
      "107108.0 [  19 9958   23]\n",
      "108109.0 [  19 9958   23]\n",
      "109110.0 [  19 9958   23]\n",
      "110111.0 [  19 9958   23]\n",
      "111112.0 [  18 9959   23]\n",
      "112113.0 [  17 9960   23]\n",
      "113114.0 [  17 9960   23]\n",
      "114115.0 [  17 9960   23]\n",
      "115116.0 [  17 9960   23]\n",
      "116117.0 [  16 9960   24]\n",
      "117118.0 [  16 9960   24]\n",
      "118119.0 [  16 9960   24]\n",
      "119120.0 [  16 9960   24]\n",
      "120121.0 [  16 9960   24]\n",
      "121122.0 [  16 9960   24]\n",
      "122123.0 [  16 9960   24]\n",
      "123124.0 [  16 9960   24]\n",
      "124125.0 [  16 9960   24]\n",
      "125126.0 [  16 9960   24]\n",
      "126127.0 [  15 9961   24]\n",
      "127128.0 [  15 9961   24]\n",
      "128129.0 [  15 9961   24]\n",
      "129130.0 [  15 9961   24]\n",
      "130131.0 [  15 9961   24]\n",
      "131132.0 [  15 9961   24]\n",
      "132133.0 [  14 9962   24]\n",
      "133134.0 [  13 9963   24]\n",
      "134135.0 [  13 9963   24]\n",
      "135136.0 [  13 9963   24]\n",
      "136137.0 [  13 9963   24]\n",
      "137138.0 [  13 9963   24]\n",
      "138139.0 [  13 9963   24]\n",
      "139140.0 [  13 9963   24]\n",
      "140141.0 [  13 9963   24]\n",
      "141142.0 [  13 9963   24]\n",
      "142143.0 [  13 9963   24]\n",
      "143144.0 [  13 9963   24]\n",
      "144145.0 [  13 9963   24]\n",
      "145146.0 [  13 9963   24]\n",
      "146147.0 [  13 9963   24]\n",
      "147148.0 [  13 9963   24]\n",
      "148149.0 [  13 9963   24]\n",
      "149150.0 [  13 9963   24]\n",
      "150151.0 [  13 9963   24]\n",
      "151152.0 [  13 9963   24]\n",
      "152153.0 [  13 9963   24]\n",
      "153154.0 [  13 9963   24]\n",
      "154155.0 [  13 9963   24]\n",
      "155156.0 [  13 9963   24]\n",
      "156157.0 [  13 9963   24]\n",
      "157158.0 [  13 9963   24]\n",
      "158159.0 [  13 9963   24]\n",
      "159160.0 [  13 9963   24]\n",
      "160161.0 [  13 9963   24]\n",
      "161162.0 [  13 9963   24]\n",
      "162163.0 [  13 9963   24]\n",
      "163164.0 [  13 9963   24]\n",
      "164165.0 [  13 9963   24]\n",
      "165166.0 [  13 9963   24]\n",
      "166167.0 [  12 9963   25]\n",
      "167168.0 [  12 9963   25]\n",
      "168169.0 [  12 9963   25]\n",
      "169170.0 [  12 9963   25]\n",
      "170171.0 [  12 9963   25]\n",
      "171172.0 [  12 9963   25]\n",
      "172173.0 [  12 9963   25]\n",
      "173174.0 [  12 9963   25]\n",
      "174175.0 [  11 9963   26]\n",
      "175176.0 [   8 9966   26]\n",
      "176177.0 [   8 9966   26]\n",
      "177178.0 [   8 9966   26]\n",
      "178179.0 [   8 9966   26]\n",
      "179180.0 [   8 9966   26]\n",
      "180181.0 [   8 9966   26]\n",
      "181182.0 [   8 9966   26]\n",
      "182183.0 [   7 9967   26]\n",
      "183184.0 [   7 9967   26]\n",
      "184185.0 [   7 9967   26]\n",
      "185186.0 [   7 9967   26]\n",
      "186187.0 [   7 9967   26]\n",
      "187188.0 [   7 9967   26]\n",
      "188189.0 [   7 9967   26]\n",
      "189190.0 [   7 9967   26]\n",
      "190191.0 [   7 9967   26]\n",
      "191192.0 [   7 9967   26]\n",
      "192193.0 [   7 9967   26]\n",
      "193194.0 [   7 9967   26]\n",
      "194195.0 [   7 9967   26]\n",
      "195196.0 [   7 9967   26]\n",
      "196197.0 [   7 9967   26]\n",
      "197198.0 [   7 9967   26]\n",
      "198199.0 [   7 9967   26]\n",
      "199200.0 [   7 9967   26]\n",
      "200201.0 [   7 9967   26]\n",
      "201202.0 [   7 9967   26]\n",
      "202203.0 [   7 9967   26]\n",
      "203204.0 [   7 9967   26]\n",
      "204205.0 [   6 9968   26]\n",
      "205206.0 [   6 9968   26]\n",
      "206207.0 [   6 9968   26]\n",
      "207208.0 [   6 9968   26]\n",
      "208209.0 [   6 9968   26]\n",
      "209210.0 [   6 9968   26]\n",
      "210211.0 [   6 9968   26]\n",
      "211212.0 [   6 9968   26]\n",
      "212213.0 [   6 9968   26]\n",
      "213214.0 [   6 9968   26]\n",
      "214215.0 [   6 9968   26]\n",
      "215216.0 [   5 9969   26]\n",
      "216217.0 [   5 9969   26]\n",
      "217218.0 [   5 9969   26]\n",
      "218219.0 [   5 9969   26]\n",
      "219220.0 [   5 9969   26]\n",
      "220221.0 [   5 9969   26]\n",
      "221222.0 [   5 9969   26]\n",
      "222223.0 [   5 9969   26]\n",
      "223224.0 [   5 9995]\n",
      "224225.0 [   5 9995]\n",
      "225226.0 [   5 9995]\n",
      "226227.0 [   5 9995]\n",
      "227228.0 [   5 9995]\n",
      "228229.0 [   5 9995]\n",
      "229230.0 [   5 9995]\n",
      "230231.0 [   5 9995]\n",
      "231232.0 [   5 9995]\n",
      "232233.0 [   5 9995]\n",
      "233234.0 [   5 9995]\n",
      "234235.0 [   5 9995]\n",
      "235236.0 [   5 9995]\n",
      "236237.0 [   5 9995]\n",
      "237238.0 [   5 9995]\n",
      "238239.0 [   5 9995]\n",
      "239240.0 [   5 9995]\n",
      "240241.0 [   5 9995]\n",
      "241242.0 [   5 9995]\n"
     ]
    },
    {
     "ename": "KeyboardInterrupt",
     "evalue": "",
     "output_type": "error",
     "traceback": [
      "\u001b[0;31m---------------------------------------------------------------------------\u001b[0m",
      "\u001b[0;31mKeyboardInterrupt\u001b[0m                         Traceback (most recent call last)",
      "\u001b[0;32m/var/lib/condor/execute/dir_349825/ipykernel_350502/2330151768.py\u001b[0m in \u001b[0;36m<module>\u001b[0;34m\u001b[0m\n\u001b[1;32m      1\u001b[0m \u001b[0;32mfor\u001b[0m \u001b[0mi\u001b[0m \u001b[0;32min\u001b[0m \u001b[0mnp\u001b[0m\u001b[0;34m.\u001b[0m\u001b[0mlinspace\u001b[0m\u001b[0;34m(\u001b[0m\u001b[0;36m1\u001b[0m\u001b[0;34m,\u001b[0m \u001b[0;36m10e5\u001b[0m\u001b[0;34m,\u001b[0m \u001b[0;36m1000\u001b[0m\u001b[0;34m)\u001b[0m\u001b[0;34m:\u001b[0m\u001b[0;34m\u001b[0m\u001b[0;34m\u001b[0m\u001b[0m\n\u001b[0;32m----> 2\u001b[0;31m     \u001b[0mclustering\u001b[0m \u001b[0;34m=\u001b[0m \u001b[0mDBSCAN\u001b[0m\u001b[0;34m(\u001b[0m\u001b[0meps\u001b[0m\u001b[0;34m=\u001b[0m\u001b[0mi\u001b[0m\u001b[0;34m,\u001b[0m \u001b[0mmin_samples\u001b[0m\u001b[0;34m=\u001b[0m\u001b[0;36m10\u001b[0m\u001b[0;34m)\u001b[0m\u001b[0;34m.\u001b[0m\u001b[0mfit\u001b[0m\u001b[0;34m(\u001b[0m\u001b[0msample\u001b[0m\u001b[0;34m)\u001b[0m\u001b[0;34m\u001b[0m\u001b[0;34m\u001b[0m\u001b[0m\n\u001b[0m\u001b[1;32m      3\u001b[0m     \u001b[0mprint\u001b[0m\u001b[0;34m(\u001b[0m\u001b[0mi\u001b[0m\u001b[0;34m,\u001b[0m \u001b[0mnp\u001b[0m\u001b[0;34m.\u001b[0m\u001b[0munique\u001b[0m\u001b[0;34m(\u001b[0m\u001b[0mclustering\u001b[0m\u001b[0;34m.\u001b[0m\u001b[0mlabels_\u001b[0m\u001b[0;34m,\u001b[0m \u001b[0mreturn_counts\u001b[0m\u001b[0;34m=\u001b[0m\u001b[0;32mTrue\u001b[0m\u001b[0;34m)\u001b[0m\u001b[0;34m[\u001b[0m\u001b[0;36m1\u001b[0m\u001b[0;34m]\u001b[0m\u001b[0;34m)\u001b[0m\u001b[0;34m\u001b[0m\u001b[0;34m\u001b[0m\u001b[0m\n",
      "\u001b[0;32m~/.local/lib/python3.9/site-packages/sklearn/cluster/_dbscan.py\u001b[0m in \u001b[0;36mfit\u001b[0;34m(self, X, y, sample_weight)\u001b[0m\n\u001b[1;32m    404\u001b[0m         \u001b[0mneighbors_model\u001b[0m\u001b[0;34m.\u001b[0m\u001b[0mfit\u001b[0m\u001b[0;34m(\u001b[0m\u001b[0mX\u001b[0m\u001b[0;34m)\u001b[0m\u001b[0;34m\u001b[0m\u001b[0;34m\u001b[0m\u001b[0m\n\u001b[1;32m    405\u001b[0m         \u001b[0;31m# This has worst case O(n^2) memory complexity\u001b[0m\u001b[0;34m\u001b[0m\u001b[0;34m\u001b[0m\u001b[0m\n\u001b[0;32m--> 406\u001b[0;31m         \u001b[0mneighborhoods\u001b[0m \u001b[0;34m=\u001b[0m \u001b[0mneighbors_model\u001b[0m\u001b[0;34m.\u001b[0m\u001b[0mradius_neighbors\u001b[0m\u001b[0;34m(\u001b[0m\u001b[0mX\u001b[0m\u001b[0;34m,\u001b[0m \u001b[0mreturn_distance\u001b[0m\u001b[0;34m=\u001b[0m\u001b[0;32mFalse\u001b[0m\u001b[0;34m)\u001b[0m\u001b[0;34m\u001b[0m\u001b[0;34m\u001b[0m\u001b[0m\n\u001b[0m\u001b[1;32m    407\u001b[0m \u001b[0;34m\u001b[0m\u001b[0m\n\u001b[1;32m    408\u001b[0m         \u001b[0;32mif\u001b[0m \u001b[0msample_weight\u001b[0m \u001b[0;32mis\u001b[0m \u001b[0;32mNone\u001b[0m\u001b[0;34m:\u001b[0m\u001b[0;34m\u001b[0m\u001b[0;34m\u001b[0m\u001b[0m\n",
      "\u001b[0;32m~/.local/lib/python3.9/site-packages/sklearn/neighbors/_base.py\u001b[0m in \u001b[0;36mradius_neighbors\u001b[0;34m(self, X, radius, return_distance, sort_results)\u001b[0m\n\u001b[1;32m   1095\u001b[0m \u001b[0;34m\u001b[0m\u001b[0m\n\u001b[1;32m   1096\u001b[0m         \u001b[0;32mif\u001b[0m \u001b[0muse_pairwise_distances_reductions\u001b[0m\u001b[0;34m:\u001b[0m\u001b[0;34m\u001b[0m\u001b[0;34m\u001b[0m\u001b[0m\n\u001b[0;32m-> 1097\u001b[0;31m             results = PairwiseDistancesRadiusNeighborhood.compute(\n\u001b[0m\u001b[1;32m   1098\u001b[0m                 \u001b[0mX\u001b[0m\u001b[0;34m=\u001b[0m\u001b[0mX\u001b[0m\u001b[0;34m,\u001b[0m\u001b[0;34m\u001b[0m\u001b[0;34m\u001b[0m\u001b[0m\n\u001b[1;32m   1099\u001b[0m                 \u001b[0mY\u001b[0m\u001b[0;34m=\u001b[0m\u001b[0mself\u001b[0m\u001b[0;34m.\u001b[0m\u001b[0m_fit_X\u001b[0m\u001b[0;34m,\u001b[0m\u001b[0;34m\u001b[0m\u001b[0;34m\u001b[0m\u001b[0m\n",
      "\u001b[0;32msklearn/metrics/_pairwise_distances_reduction.pyx\u001b[0m in \u001b[0;36msklearn.metrics._pairwise_distances_reduction.PairwiseDistancesRadiusNeighborhood.compute\u001b[0;34m()\u001b[0m\n",
      "\u001b[0;32m/Software/users/modules/7/software/anaconda3/2021.11/lib/python3.9/site-packages/threadpoolctl.py\u001b[0m in \u001b[0;36m__exit__\u001b[0;34m(self, type, value, traceback)\u001b[0m\n\u001b[1;32m    174\u001b[0m         \u001b[0;32mreturn\u001b[0m \u001b[0mself\u001b[0m\u001b[0;34m\u001b[0m\u001b[0;34m\u001b[0m\u001b[0m\n\u001b[1;32m    175\u001b[0m \u001b[0;34m\u001b[0m\u001b[0m\n\u001b[0;32m--> 176\u001b[0;31m     \u001b[0;32mdef\u001b[0m \u001b[0m__exit__\u001b[0m\u001b[0;34m(\u001b[0m\u001b[0mself\u001b[0m\u001b[0;34m,\u001b[0m \u001b[0mtype\u001b[0m\u001b[0;34m,\u001b[0m \u001b[0mvalue\u001b[0m\u001b[0;34m,\u001b[0m \u001b[0mtraceback\u001b[0m\u001b[0;34m)\u001b[0m\u001b[0;34m:\u001b[0m\u001b[0;34m\u001b[0m\u001b[0;34m\u001b[0m\u001b[0m\n\u001b[0m\u001b[1;32m    177\u001b[0m         \u001b[0mself\u001b[0m\u001b[0;34m.\u001b[0m\u001b[0munregister\u001b[0m\u001b[0;34m(\u001b[0m\u001b[0;34m)\u001b[0m\u001b[0;34m\u001b[0m\u001b[0;34m\u001b[0m\u001b[0m\n\u001b[1;32m    178\u001b[0m \u001b[0;34m\u001b[0m\u001b[0m\n",
      "\u001b[0;31mKeyboardInterrupt\u001b[0m: "
     ]
    }
   ],
   "source": [
    "for i in np.linspace(1, 10e5, 1000):\n",
    "    clustering = DBSCAN(eps=i, min_samples=10).fit(sample)\n",
    "    print(i, np.unique(clustering.labels_, return_counts=True)[1])"
   ]
  },
  {
   "cell_type": "code",
   "execution_count": 131,
   "id": "c388c93f",
   "metadata": {},
   "outputs": [
    {
     "data": {
      "text/plain": [
       "(array([-1,  0,  1]), array([ 58,  29, 913]))"
      ]
     },
     "execution_count": 131,
     "metadata": {},
     "output_type": "execute_result"
    }
   ],
   "source": []
  },
  {
   "cell_type": "code",
   "execution_count": 17,
   "id": "a11d542e",
   "metadata": {},
   "outputs": [
    {
     "data": {
      "text/plain": [
       "array([ -1518.60852215, -32356.93215005])"
      ]
     },
     "execution_count": 17,
     "metadata": {},
     "output_type": "execute_result"
    }
   ],
   "source": []
  },
  {
   "cell_type": "code",
   "execution_count": null,
   "id": "9ed10853",
   "metadata": {},
   "outputs": [],
   "source": []
  }
 ],
 "metadata": {
  "kernelspec": {
   "display_name": "Anaconda3 - 2021.11",
   "language": "python",
   "name": "python3-2021.11"
  },
  "language_info": {
   "codemirror_mode": {
    "name": "ipython",
    "version": 3
   },
   "file_extension": ".py",
   "mimetype": "text/x-python",
   "name": "python",
   "nbconvert_exporter": "python",
   "pygments_lexer": "ipython3",
   "version": "3.9.7"
  },
  "latex_envs": {
   "LaTeX_envs_menu_present": true,
   "autoclose": false,
   "autocomplete": true,
   "bibliofile": "biblio.bib",
   "cite_by": "apalike",
   "current_citInitial": 1,
   "eqLabelWithNumbers": true,
   "eqNumInitial": 1,
   "hotkeys": {
    "equation": "Ctrl-E",
    "itemize": "Ctrl-I"
   },
   "labels_anchors": false,
   "latex_user_defs": false,
   "report_style_numbering": false,
   "user_envs_cfg": false
  }
 },
 "nbformat": 4,
 "nbformat_minor": 5
}
