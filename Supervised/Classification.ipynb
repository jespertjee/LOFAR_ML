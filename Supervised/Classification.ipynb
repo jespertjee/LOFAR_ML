{
 "cells": [
  {
   "cell_type": "code",
   "execution_count": 2,
   "id": "3966d850",
   "metadata": {},
   "outputs": [
    {
     "name": "stderr",
     "output_type": "stream",
     "text": [
      "d:\\python\\python38\\lib\\site-packages\\xgboost\\compat.py:36: FutureWarning: pandas.Int64Index is deprecated and will be removed from pandas in a future version. Use pandas.Index with the appropriate dtype instead.\n",
      "  from pandas import MultiIndex, Int64Index\n"
     ]
    }
   ],
   "source": [
    "import pandas as pd\n",
    "import numpy as np\n",
    "\n",
    "from sklearn.ensemble import RandomForestClassifier\n",
    "from sklearn.metrics import accuracy_score, classification_report\n",
    "from sklearn.model_selection import train_test_split\n",
    "from sklearn.preprocessing import StandardScaler, OneHotEncoder\n",
    "from sklearn.impute import SimpleImputer\n",
    "from sklearn.pipeline import make_pipeline\n",
    "from sklearn.compose import make_column_transformer\n",
    "from sklearn import preprocessing\n",
    "from sklearn.linear_model import LinearRegression\n",
    "from sklearn.metrics import confusion_matrix, ConfusionMatrixDisplay\n",
    "from sklearn import svm\n",
    "\n",
    "import matplotlib.pyplot as plt\n",
    "\n",
    "from xgboost import XGBClassifier\n",
    "\n",
    "\n",
    "# Necessary to get names out\n",
    "SimpleImputer.get_feature_names_out = (lambda self, names=None:\n",
    "                                       self.feature_names_in_)"
   ]
  },
  {
   "cell_type": "code",
   "execution_count": 3,
   "id": "df4fdbb4",
   "metadata": {},
   "outputs": [],
   "source": [
    "def get_X_y(data):\n",
    "    \"\"\"\"\n",
    "    Returns the X and y of the data\n",
    "\n",
    "    :returns X, y\n",
    "    \"\"\"\n",
    "    return data.loc[:, data.columns != 'Classification'], data['Classification']\n",
    "\n"
   ]
  },
  {
   "cell_type": "code",
   "execution_count": 4,
   "id": "e17f7865",
   "metadata": {},
   "outputs": [],
   "source": [
    "# Creating the pipeline\n",
    "features_num = [\n",
    "    \"AGNfrac_af\", \"AGNfrac_af_16\", \"AGNfrac_cg_s\", \"AGNfrac_cg_s_16\", \"AGNfrac_cg_f\", \"AGNfrac_cg_f_16\", \n",
    "    \"Chi_sq_MpBp\", \"Chi_sq_AfCg\", \"Mass_conc\", \"SFR_conc\", \"Radio_excess\", \"Radio_excess_DJS\"\n",
    "]\n",
    "features_cat = [\n",
    "    \"Spitzer_SN\", \"Donley\", \"Lacy\", \"Stern\", \"Messias\", \"KI\", \"Ch2_Ch4\", \n",
    "    \"Ch4_24mu\", \"Xray\", \"Opt_spec\", \"Extended_radio\"\n",
    "]\n",
    "features_drop = [\n",
    "    \"Source_Name\", \"Radio_ID\", \"AGN_final\", \"IDOptical\", \"IDSpitzer\"\n",
    "]\n",
    "transformer_num = make_pipeline(\n",
    "    SimpleImputer(),  # there are a few missing values\n",
    "    StandardScaler(),\n",
    ")\n",
    "transformer_cat = make_pipeline(\n",
    "    SimpleImputer(strategy=\"most_frequent\"),\n",
    "    OneHotEncoder(handle_unknown='ignore'),\n",
    ")\n",
    "\n",
    "preprocessor = make_column_transformer(\n",
    "    (transformer_num, features_num),\n",
    "    (transformer_cat, features_cat),\n",
    ")"
   ]
  },
  {
   "cell_type": "code",
   "execution_count": 5,
   "id": "2a4b1b90",
   "metadata": {},
   "outputs": [
    {
     "name": "stderr",
     "output_type": "stream",
     "text": [
      "C:\\Users\\jespe\\AppData\\Local\\Temp\\ipykernel_10748\\22415563.py:1: DtypeWarning: Columns (30,31) have mixed types. Specify dtype option on import or set low_memory=False.\n",
      "  data = pd.read_csv(\"../Data/Cleaned/Combined_secure_class.csv\")\n"
     ]
    }
   ],
   "source": [
    "data = pd.read_csv(\"../Data/Cleaned/Combined_secure_class.csv\")\n",
    "X, y = get_X_y(data)\n",
    "X = X.drop(columns=features_drop)\n",
    "\n",
    "# Transforming y from categorical to numerical\n",
    "le = preprocessing.LabelEncoder()\n",
    "labels = np.unique(y)\n",
    "y = le.fit_transform(y)"
   ]
  },
  {
   "cell_type": "code",
   "execution_count": 6,
   "id": "d98bc4ca",
   "metadata": {},
   "outputs": [],
   "source": [
    "# Creating training and testing set\n",
    "X_train, X_test, y_train, y_test = train_test_split(X, y, train_size=0.7)"
   ]
  },
  {
   "cell_type": "code",
   "execution_count": null,
   "id": "dc03adda",
   "metadata": {},
   "outputs": [],
   "source": []
  },
  {
   "cell_type": "code",
   "execution_count": 7,
   "id": "30867cfc",
   "metadata": {},
   "outputs": [],
   "source": [
    "# Transforming the data\n",
    "X_train = preprocessor.fit_transform(X_train)\n",
    "X_test = preprocessor.transform(X_test)"
   ]
  },
  {
   "cell_type": "markdown",
   "id": "702603c7",
   "metadata": {},
   "source": [
    "# Random Forest"
   ]
  },
  {
   "cell_type": "code",
   "execution_count": 32,
   "id": "aad7365a",
   "metadata": {},
   "outputs": [
    {
     "data": {
      "text/plain": [
       "RandomForestClassifier(n_estimators=10)"
      ]
     },
     "execution_count": 32,
     "metadata": {},
     "output_type": "execute_result"
    }
   ],
   "source": [
    "clf = RandomForestClassifier(n_estimators=10, class_weight=None)\n",
    "clf.fit(X_train, y_train)"
   ]
  },
  {
   "cell_type": "code",
   "execution_count": 33,
   "id": "3d50c4db",
   "metadata": {},
   "outputs": [
    {
     "name": "stdout",
     "output_type": "stream",
     "text": [
      "                                                      precision    recall  f1-score   support\n",
      "\n",
      "      jet-mode radio AGN/low-excitation radio galaxy     0.9574    0.9814    0.9693      3824\n",
      "quasar-like radio AGN / high-excitation radio galaxy     0.8218    0.8623    0.8416       385\n",
      "                                     radio-quiet AGN     0.9304    0.9281    0.9293      2032\n",
      "                                 star-forming galaxy     0.9913    0.9849    0.9880     17042\n",
      "\n",
      "                                            accuracy                         0.9773     23283\n",
      "                                           macro avg     0.9252    0.9392    0.9320     23283\n",
      "                                        weighted avg     0.9776    0.9773    0.9774     23283\n",
      "\n"
     ]
    }
   ],
   "source": [
    "y_pred = clf.predict(X_test)\n",
    "print(classification_report(y_test, y_pred, target_names=labels, digits=4))"
   ]
  },
  {
   "cell_type": "code",
   "execution_count": null,
   "id": "4a8015d6",
   "metadata": {},
   "outputs": [],
   "source": []
  },
  {
   "cell_type": "code",
   "execution_count": 34,
   "id": "7c3c2acc",
   "metadata": {},
   "outputs": [
    {
     "data": {
      "text/plain": [
       "[]"
      ]
     },
     "execution_count": 34,
     "metadata": {},
     "output_type": "execute_result"
    },
    {
     "data": {
      "image/png": "[encoded data removed]",
      "text/plain": [
       "<Figure size 432x288 with 2 Axes>"
      ]
     },
     "metadata": {
      "needs_background": "light"
     },
     "output_type": "display_data"
    }
   ],
   "source": [
    "cm = confusion_matrix(y_test, y_pred, normalize='true')\n",
    "disp = ConfusionMatrixDisplay(confusion_matrix=cm, display_labels=labels)\n",
    "disp.plot()\n",
    "plt.xticks(rotation = 90)\n",
    "plt.plot()"
   ]
  },
  {
   "cell_type": "code",
   "execution_count": null,
   "id": "0ea857ac",
   "metadata": {},
   "outputs": [],
   "source": []
  },
  {
   "cell_type": "code",
   "execution_count": 35,
   "id": "e06242d9",
   "metadata": {},
   "outputs": [],
   "source": [
    "random_forest_feature_importance = pd.DataFrame(\n",
    "    np.array([preprocessor.get_feature_names_out(), clf.feature_importances_]).T,\n",
    "                                               columns=['Feature', 'Importance'])\n",
    "random_forest_feature_importance = random_forest_feature_importance.sort_values(by=['Importance'], ascending=False)"
   ]
  },
  {
   "cell_type": "code",
   "execution_count": 36,
   "id": "68cab372",
   "metadata": {},
   "outputs": [
    {
     "data": {
      "text/plain": [
       "[Text(0, 0, 'pipeline-1__Radio_excess'),\n",
       " Text(1, 0, 'pipeline-1__Radio_excess_DJS'),\n",
       " Text(2, 0, 'pipeline-1__AGNfrac_cg_s_16'),\n",
       " Text(3, 0, 'pipeline-1__AGNfrac_af_16'),\n",
       " Text(4, 0, 'pipeline-1__AGNfrac_af'),\n",
       " Text(5, 0, 'pipeline-1__SFR_conc'),\n",
       " Text(6, 0, 'pipeline-1__AGNfrac_cg_f_16'),\n",
       " Text(7, 0, 'pipeline-1__AGNfrac_cg_s'),\n",
       " Text(8, 0, 'pipeline-1__Chi_sq_MpBp'),\n",
       " Text(9, 0, 'pipeline-2__Extended_radio_0.0'),\n",
       " Text(10, 0, 'pipeline-1__Mass_conc'),\n",
       " Text(11, 0, 'pipeline-1__Chi_sq_AfCg'),\n",
       " Text(12, 0, 'pipeline-2__Extended_radio_1.0'),\n",
       " Text(13, 0, 'pipeline-2__Opt_spec_1.0'),\n",
       " Text(14, 0, 'pipeline-2__Opt_spec_0.0'),\n",
       " Text(15, 0, 'pipeline-1__AGNfrac_cg_f'),\n",
       " Text(16, 0, 'pipeline-2__Xray_0.0'),\n",
       " Text(17, 0, 'pipeline-2__Xray_1.0'),\n",
       " Text(18, 0, 'pipeline-2__Donley_0.0'),\n",
       " Text(19, 0, 'pipeline-2__Spitzer_SN_2.0'),\n",
       " Text(20, 0, 'pipeline-2__Messias_1.0'),\n",
       " Text(21, 0, 'pipeline-2__Lacy_1.0'),\n",
       " Text(22, 0, 'pipeline-2__KI_-99.0'),\n",
       " Text(23, 0, 'pipeline-2__Stern_1.0'),\n",
       " Text(24, 0, 'pipeline-2__KI_0.0'),\n",
       " Text(25, 0, 'pipeline-2__Lacy_0.0'),\n",
       " Text(26, 0, 'pipeline-2__Ch2_Ch4_-99.0'),\n",
       " Text(27, 0, 'pipeline-2__Ch4_24mu_1.0'),\n",
       " Text(28, 0, 'pipeline-2__Messias_0.0'),\n",
       " Text(29, 0, 'pipeline-2__Spitzer_SN_0.0'),\n",
       " Text(30, 0, 'pipeline-2__Stern_0.0'),\n",
       " Text(31, 0, 'pipeline-2__Ch2_Ch4_1.0'),\n",
       " Text(32, 0, 'pipeline-2__Ch2_Ch4_0.0'),\n",
       " Text(33, 0, 'pipeline-2__Donley_1.0'),\n",
       " Text(34, 0, 'pipeline-2__Spitzer_SN_1.0'),\n",
       " Text(35, 0, 'pipeline-2__Ch4_24mu_-99.0'),\n",
       " Text(36, 0, 'pipeline-2__KI_1.0'),\n",
       " Text(37, 0, 'pipeline-2__Ch4_24mu_0.0')]"
      ]
     },
     "execution_count": 36,
     "metadata": {},
     "output_type": "execute_result"
    },
    {
     "data": {
      "image/png": "[encoded data removed]",
      "text/plain": [
       "<Figure size 1440x720 with 1 Axes>"
      ]
     },
     "metadata": {
      "needs_background": "light"
     },
     "output_type": "display_data"
    }
   ],
   "source": [
    "ax = random_forest_feature_importance.plot(kind='bar', figsize=(20,10))\n",
    "ax.set_xticklabels(random_forest_feature_importance.Feature)"
   ]
  },
  {
   "cell_type": "code",
   "execution_count": 40,
   "id": "23d549ad",
   "metadata": {},
   "outputs": [
    {
     "data": {
      "text/html": [
       "<div>\n",
       "<style scoped>\n",
       "    .dataframe tbody tr th:only-of-type {\n",
       "        vertical-align: middle;\n",
       "    }\n",
       "\n",
       "    .dataframe tbody tr th {\n",
       "        vertical-align: top;\n",
       "    }\n",
       "\n",
       "    .dataframe thead th {\n",
       "        text-align: right;\n",
       "    }\n",
       "</style>\n",
       "<table border=\"1\" class=\"dataframe\">\n",
       "  <thead>\n",
       "    <tr style=\"text-align: right;\">\n",
       "      <th></th>\n",
       "      <th>index</th>\n",
       "      <th>Feature</th>\n",
       "      <th>Importance</th>\n",
       "      <th>cumulative_sum</th>\n",
       "    </tr>\n",
       "  </thead>\n",
       "  <tbody>\n",
       "    <tr>\n",
       "      <th>0</th>\n",
       "      <td>10</td>\n",
       "      <td>pipeline-1__Radio_excess</td>\n",
       "      <td>0.287643</td>\n",
       "      <td>0.287643</td>\n",
       "    </tr>\n",
       "    <tr>\n",
       "      <th>1</th>\n",
       "      <td>11</td>\n",
       "      <td>pipeline-1__Radio_excess_DJS</td>\n",
       "      <td>0.223837</td>\n",
       "      <td>0.51148</td>\n",
       "    </tr>\n",
       "    <tr>\n",
       "      <th>2</th>\n",
       "      <td>3</td>\n",
       "      <td>pipeline-1__AGNfrac_cg_s_16</td>\n",
       "      <td>0.084004</td>\n",
       "      <td>0.595485</td>\n",
       "    </tr>\n",
       "    <tr>\n",
       "      <th>3</th>\n",
       "      <td>1</td>\n",
       "      <td>pipeline-1__AGNfrac_af_16</td>\n",
       "      <td>0.069839</td>\n",
       "      <td>0.665323</td>\n",
       "    </tr>\n",
       "    <tr>\n",
       "      <th>4</th>\n",
       "      <td>0</td>\n",
       "      <td>pipeline-1__AGNfrac_af</td>\n",
       "      <td>0.055582</td>\n",
       "      <td>0.720905</td>\n",
       "    </tr>\n",
       "    <tr>\n",
       "      <th>5</th>\n",
       "      <td>9</td>\n",
       "      <td>pipeline-1__SFR_conc</td>\n",
       "      <td>0.044983</td>\n",
       "      <td>0.765888</td>\n",
       "    </tr>\n",
       "    <tr>\n",
       "      <th>6</th>\n",
       "      <td>5</td>\n",
       "      <td>pipeline-1__AGNfrac_cg_f_16</td>\n",
       "      <td>0.039791</td>\n",
       "      <td>0.805679</td>\n",
       "    </tr>\n",
       "    <tr>\n",
       "      <th>7</th>\n",
       "      <td>2</td>\n",
       "      <td>pipeline-1__AGNfrac_cg_s</td>\n",
       "      <td>0.036429</td>\n",
       "      <td>0.842108</td>\n",
       "    </tr>\n",
       "    <tr>\n",
       "      <th>8</th>\n",
       "      <td>6</td>\n",
       "      <td>pipeline-1__Chi_sq_MpBp</td>\n",
       "      <td>0.021147</td>\n",
       "      <td>0.863255</td>\n",
       "    </tr>\n",
       "    <tr>\n",
       "      <th>9</th>\n",
       "      <td>36</td>\n",
       "      <td>pipeline-2__Extended_radio_0.0</td>\n",
       "      <td>0.016855</td>\n",
       "      <td>0.88011</td>\n",
       "    </tr>\n",
       "    <tr>\n",
       "      <th>10</th>\n",
       "      <td>8</td>\n",
       "      <td>pipeline-1__Mass_conc</td>\n",
       "      <td>0.015729</td>\n",
       "      <td>0.895838</td>\n",
       "    </tr>\n",
       "    <tr>\n",
       "      <th>11</th>\n",
       "      <td>7</td>\n",
       "      <td>pipeline-1__Chi_sq_AfCg</td>\n",
       "      <td>0.014894</td>\n",
       "      <td>0.910732</td>\n",
       "    </tr>\n",
       "    <tr>\n",
       "      <th>12</th>\n",
       "      <td>37</td>\n",
       "      <td>pipeline-2__Extended_radio_1.0</td>\n",
       "      <td>0.014117</td>\n",
       "      <td>0.924849</td>\n",
       "    </tr>\n",
       "    <tr>\n",
       "      <th>13</th>\n",
       "      <td>35</td>\n",
       "      <td>pipeline-2__Opt_spec_1.0</td>\n",
       "      <td>0.012158</td>\n",
       "      <td>0.937007</td>\n",
       "    </tr>\n",
       "    <tr>\n",
       "      <th>14</th>\n",
       "      <td>34</td>\n",
       "      <td>pipeline-2__Opt_spec_0.0</td>\n",
       "      <td>0.01188</td>\n",
       "      <td>0.948887</td>\n",
       "    </tr>\n",
       "    <tr>\n",
       "      <th>15</th>\n",
       "      <td>4</td>\n",
       "      <td>pipeline-1__AGNfrac_cg_f</td>\n",
       "      <td>0.010558</td>\n",
       "      <td>0.959445</td>\n",
       "    </tr>\n",
       "    <tr>\n",
       "      <th>16</th>\n",
       "      <td>32</td>\n",
       "      <td>pipeline-2__Xray_0.0</td>\n",
       "      <td>0.004151</td>\n",
       "      <td>0.963597</td>\n",
       "    </tr>\n",
       "    <tr>\n",
       "      <th>17</th>\n",
       "      <td>33</td>\n",
       "      <td>pipeline-2__Xray_1.0</td>\n",
       "      <td>0.003691</td>\n",
       "      <td>0.967287</td>\n",
       "    </tr>\n",
       "    <tr>\n",
       "      <th>18</th>\n",
       "      <td>15</td>\n",
       "      <td>pipeline-2__Donley_0.0</td>\n",
       "      <td>0.003624</td>\n",
       "      <td>0.970911</td>\n",
       "    </tr>\n",
       "    <tr>\n",
       "      <th>19</th>\n",
       "      <td>14</td>\n",
       "      <td>pipeline-2__Spitzer_SN_2.0</td>\n",
       "      <td>0.003165</td>\n",
       "      <td>0.974076</td>\n",
       "    </tr>\n",
       "    <tr>\n",
       "      <th>20</th>\n",
       "      <td>22</td>\n",
       "      <td>pipeline-2__Messias_1.0</td>\n",
       "      <td>0.002827</td>\n",
       "      <td>0.976902</td>\n",
       "    </tr>\n",
       "    <tr>\n",
       "      <th>21</th>\n",
       "      <td>18</td>\n",
       "      <td>pipeline-2__Lacy_1.0</td>\n",
       "      <td>0.002457</td>\n",
       "      <td>0.979359</td>\n",
       "    </tr>\n",
       "    <tr>\n",
       "      <th>22</th>\n",
       "      <td>23</td>\n",
       "      <td>pipeline-2__KI_-99.0</td>\n",
       "      <td>0.00193</td>\n",
       "      <td>0.981289</td>\n",
       "    </tr>\n",
       "    <tr>\n",
       "      <th>23</th>\n",
       "      <td>20</td>\n",
       "      <td>pipeline-2__Stern_1.0</td>\n",
       "      <td>0.001882</td>\n",
       "      <td>0.983171</td>\n",
       "    </tr>\n",
       "    <tr>\n",
       "      <th>24</th>\n",
       "      <td>24</td>\n",
       "      <td>pipeline-2__KI_0.0</td>\n",
       "      <td>0.001795</td>\n",
       "      <td>0.984966</td>\n",
       "    </tr>\n",
       "    <tr>\n",
       "      <th>25</th>\n",
       "      <td>17</td>\n",
       "      <td>pipeline-2__Lacy_0.0</td>\n",
       "      <td>0.00167</td>\n",
       "      <td>0.986636</td>\n",
       "    </tr>\n",
       "    <tr>\n",
       "      <th>26</th>\n",
       "      <td>26</td>\n",
       "      <td>pipeline-2__Ch2_Ch4_-99.0</td>\n",
       "      <td>0.001606</td>\n",
       "      <td>0.988242</td>\n",
       "    </tr>\n",
       "    <tr>\n",
       "      <th>27</th>\n",
       "      <td>31</td>\n",
       "      <td>pipeline-2__Ch4_24mu_1.0</td>\n",
       "      <td>0.001567</td>\n",
       "      <td>0.989809</td>\n",
       "    </tr>\n",
       "    <tr>\n",
       "      <th>28</th>\n",
       "      <td>21</td>\n",
       "      <td>pipeline-2__Messias_0.0</td>\n",
       "      <td>0.001547</td>\n",
       "      <td>0.991356</td>\n",
       "    </tr>\n",
       "    <tr>\n",
       "      <th>29</th>\n",
       "      <td>12</td>\n",
       "      <td>pipeline-2__Spitzer_SN_0.0</td>\n",
       "      <td>0.001358</td>\n",
       "      <td>0.992714</td>\n",
       "    </tr>\n",
       "    <tr>\n",
       "      <th>30</th>\n",
       "      <td>19</td>\n",
       "      <td>pipeline-2__Stern_0.0</td>\n",
       "      <td>0.001228</td>\n",
       "      <td>0.993941</td>\n",
       "    </tr>\n",
       "    <tr>\n",
       "      <th>31</th>\n",
       "      <td>28</td>\n",
       "      <td>pipeline-2__Ch2_Ch4_1.0</td>\n",
       "      <td>0.00111</td>\n",
       "      <td>0.995051</td>\n",
       "    </tr>\n",
       "    <tr>\n",
       "      <th>32</th>\n",
       "      <td>27</td>\n",
       "      <td>pipeline-2__Ch2_Ch4_0.0</td>\n",
       "      <td>0.001077</td>\n",
       "      <td>0.996128</td>\n",
       "    </tr>\n",
       "    <tr>\n",
       "      <th>33</th>\n",
       "      <td>16</td>\n",
       "      <td>pipeline-2__Donley_1.0</td>\n",
       "      <td>0.001028</td>\n",
       "      <td>0.997156</td>\n",
       "    </tr>\n",
       "    <tr>\n",
       "      <th>34</th>\n",
       "      <td>13</td>\n",
       "      <td>pipeline-2__Spitzer_SN_1.0</td>\n",
       "      <td>0.001026</td>\n",
       "      <td>0.998182</td>\n",
       "    </tr>\n",
       "    <tr>\n",
       "      <th>35</th>\n",
       "      <td>29</td>\n",
       "      <td>pipeline-2__Ch4_24mu_-99.0</td>\n",
       "      <td>0.00098</td>\n",
       "      <td>0.999162</td>\n",
       "    </tr>\n",
       "    <tr>\n",
       "      <th>36</th>\n",
       "      <td>25</td>\n",
       "      <td>pipeline-2__KI_1.0</td>\n",
       "      <td>0.000638</td>\n",
       "      <td>0.999799</td>\n",
       "    </tr>\n",
       "    <tr>\n",
       "      <th>37</th>\n",
       "      <td>30</td>\n",
       "      <td>pipeline-2__Ch4_24mu_0.0</td>\n",
       "      <td>0.000201</td>\n",
       "      <td>1.0</td>\n",
       "    </tr>\n",
       "  </tbody>\n",
       "</table>\n",
       "</div>"
      ],
      "text/plain": [
       "    index                         Feature Importance cumulative_sum\n",
       "0      10        pipeline-1__Radio_excess   0.287643       0.287643\n",
       "1      11    pipeline-1__Radio_excess_DJS   0.223837        0.51148\n",
       "2       3     pipeline-1__AGNfrac_cg_s_16   0.084004       0.595485\n",
       "3       1       pipeline-1__AGNfrac_af_16   0.069839       0.665323\n",
       "4       0          pipeline-1__AGNfrac_af   0.055582       0.720905\n",
       "5       9            pipeline-1__SFR_conc   0.044983       0.765888\n",
       "6       5     pipeline-1__AGNfrac_cg_f_16   0.039791       0.805679\n",
       "7       2        pipeline-1__AGNfrac_cg_s   0.036429       0.842108\n",
       "8       6         pipeline-1__Chi_sq_MpBp   0.021147       0.863255\n",
       "9      36  pipeline-2__Extended_radio_0.0   0.016855        0.88011\n",
       "10      8           pipeline-1__Mass_conc   0.015729       0.895838\n",
       "11      7         pipeline-1__Chi_sq_AfCg   0.014894       0.910732\n",
       "12     37  pipeline-2__Extended_radio_1.0   0.014117       0.924849\n",
       "13     35        pipeline-2__Opt_spec_1.0   0.012158       0.937007\n",
       "14     34        pipeline-2__Opt_spec_0.0    0.01188       0.948887\n",
       "15      4        pipeline-1__AGNfrac_cg_f   0.010558       0.959445\n",
       "16     32            pipeline-2__Xray_0.0   0.004151       0.963597\n",
       "17     33            pipeline-2__Xray_1.0   0.003691       0.967287\n",
       "18     15          pipeline-2__Donley_0.0   0.003624       0.970911\n",
       "19     14      pipeline-2__Spitzer_SN_2.0   0.003165       0.974076\n",
       "20     22         pipeline-2__Messias_1.0   0.002827       0.976902\n",
       "21     18            pipeline-2__Lacy_1.0   0.002457       0.979359\n",
       "22     23            pipeline-2__KI_-99.0    0.00193       0.981289\n",
       "23     20           pipeline-2__Stern_1.0   0.001882       0.983171\n",
       "24     24              pipeline-2__KI_0.0   0.001795       0.984966\n",
       "25     17            pipeline-2__Lacy_0.0    0.00167       0.986636\n",
       "26     26       pipeline-2__Ch2_Ch4_-99.0   0.001606       0.988242\n",
       "27     31        pipeline-2__Ch4_24mu_1.0   0.001567       0.989809\n",
       "28     21         pipeline-2__Messias_0.0   0.001547       0.991356\n",
       "29     12      pipeline-2__Spitzer_SN_0.0   0.001358       0.992714\n",
       "30     19           pipeline-2__Stern_0.0   0.001228       0.993941\n",
       "31     28         pipeline-2__Ch2_Ch4_1.0    0.00111       0.995051\n",
       "32     27         pipeline-2__Ch2_Ch4_0.0   0.001077       0.996128\n",
       "33     16          pipeline-2__Donley_1.0   0.001028       0.997156\n",
       "34     13      pipeline-2__Spitzer_SN_1.0   0.001026       0.998182\n",
       "35     29      pipeline-2__Ch4_24mu_-99.0    0.00098       0.999162\n",
       "36     25              pipeline-2__KI_1.0   0.000638       0.999799\n",
       "37     30        pipeline-2__Ch4_24mu_0.0   0.000201            1.0"
      ]
     },
     "execution_count": 40,
     "metadata": {},
     "output_type": "execute_result"
    }
   ],
   "source": [
    "random_forest_feature_importance['cumulative_sum'] = random_forest_feature_importance['Importance'].cumsum()\n",
    "random_forest_feature_importance = random_forest_feature_importance.reset_index()\n",
    "random_forest_feature_importance"
   ]
  },
  {
   "cell_type": "markdown",
   "id": "379b6b7e",
   "metadata": {},
   "source": [
    "# XGBoost"
   ]
  },
  {
   "cell_type": "code",
   "execution_count": 25,
   "id": "dd9a7ddd",
   "metadata": {},
   "outputs": [
    {
     "name": "stdout",
     "output_type": "stream",
     "text": [
      "[22:04:33] WARNING: C:/Users/Administrator/workspace/xgboost-win64_release_1.5.1/src/learner.cc:1115: Starting in XGBoost 1.3.0, the default evaluation metric used with the objective 'multi:softprob' was changed from 'merror' to 'mlogloss'. Explicitly set eval_metric if you'd like to restore the old behavior.\n",
      "[0]\tvalidation_0-mlogloss:0.87766\n",
      "[1]\tvalidation_0-mlogloss:0.61495\n",
      "[2]\tvalidation_0-mlogloss:0.44870\n",
      "[3]\tvalidation_0-mlogloss:0.33641\n",
      "[4]\tvalidation_0-mlogloss:0.25755\n",
      "[5]\tvalidation_0-mlogloss:0.20154\n",
      "[6]\tvalidation_0-mlogloss:0.16099\n",
      "[7]\tvalidation_0-mlogloss:0.13147\n",
      "[8]\tvalidation_0-mlogloss:0.10976\n",
      "[9]\tvalidation_0-mlogloss:0.09378\n",
      "[10]\tvalidation_0-mlogloss:0.08193\n",
      "[11]\tvalidation_0-mlogloss:0.07279\n",
      "[12]\tvalidation_0-mlogloss:0.06580\n",
      "[13]\tvalidation_0-mlogloss:0.06064\n",
      "[14]\tvalidation_0-mlogloss:0.05667\n",
      "[15]\tvalidation_0-mlogloss:0.05380\n",
      "[16]\tvalidation_0-mlogloss:0.05142\n",
      "[17]\tvalidation_0-mlogloss:0.04954\n",
      "[18]\tvalidation_0-mlogloss:0.04813\n",
      "[19]\tvalidation_0-mlogloss:0.04692\n",
      "[20]\tvalidation_0-mlogloss:0.04590\n",
      "[21]\tvalidation_0-mlogloss:0.04494\n",
      "[22]\tvalidation_0-mlogloss:0.04440\n",
      "[23]\tvalidation_0-mlogloss:0.04400\n",
      "[24]\tvalidation_0-mlogloss:0.04357\n",
      "[25]\tvalidation_0-mlogloss:0.04327\n",
      "[26]\tvalidation_0-mlogloss:0.04311\n",
      "[27]\tvalidation_0-mlogloss:0.04283\n",
      "[28]\tvalidation_0-mlogloss:0.04259\n",
      "[29]\tvalidation_0-mlogloss:0.04227\n",
      "[30]\tvalidation_0-mlogloss:0.04211\n",
      "[31]\tvalidation_0-mlogloss:0.04202\n",
      "[32]\tvalidation_0-mlogloss:0.04181\n",
      "[33]\tvalidation_0-mlogloss:0.04173\n",
      "[34]\tvalidation_0-mlogloss:0.04166\n",
      "[35]\tvalidation_0-mlogloss:0.04164\n",
      "[36]\tvalidation_0-mlogloss:0.04148\n",
      "[37]\tvalidation_0-mlogloss:0.04140\n",
      "[38]\tvalidation_0-mlogloss:0.04135\n",
      "[39]\tvalidation_0-mlogloss:0.04126\n",
      "[40]\tvalidation_0-mlogloss:0.04123\n",
      "[41]\tvalidation_0-mlogloss:0.04121\n",
      "[42]\tvalidation_0-mlogloss:0.04117\n",
      "[43]\tvalidation_0-mlogloss:0.04107\n",
      "[44]\tvalidation_0-mlogloss:0.04107\n",
      "[45]\tvalidation_0-mlogloss:0.04110\n",
      "[46]\tvalidation_0-mlogloss:0.04107\n",
      "[47]\tvalidation_0-mlogloss:0.04107\n",
      "[48]\tvalidation_0-mlogloss:0.04107\n",
      "[49]\tvalidation_0-mlogloss:0.04117\n",
      "[50]\tvalidation_0-mlogloss:0.04118\n",
      "[51]\tvalidation_0-mlogloss:0.04103\n",
      "[52]\tvalidation_0-mlogloss:0.04097\n",
      "[53]\tvalidation_0-mlogloss:0.04095\n",
      "[54]\tvalidation_0-mlogloss:0.04097\n",
      "[55]\tvalidation_0-mlogloss:0.04091\n",
      "[56]\tvalidation_0-mlogloss:0.04090\n",
      "[57]\tvalidation_0-mlogloss:0.04076\n",
      "[58]\tvalidation_0-mlogloss:0.04066\n",
      "[59]\tvalidation_0-mlogloss:0.04063\n",
      "[60]\tvalidation_0-mlogloss:0.04064\n",
      "[61]\tvalidation_0-mlogloss:0.04064\n",
      "[62]\tvalidation_0-mlogloss:0.04067\n",
      "[63]\tvalidation_0-mlogloss:0.04076\n",
      "[64]\tvalidation_0-mlogloss:0.04076\n",
      "[65]\tvalidation_0-mlogloss:0.04074\n",
      "[66]\tvalidation_0-mlogloss:0.04075\n",
      "[67]\tvalidation_0-mlogloss:0.04081\n",
      "[68]\tvalidation_0-mlogloss:0.04083\n",
      "[69]\tvalidation_0-mlogloss:0.04081\n"
     ]
    },
    {
     "data": {
      "text/plain": [
       "XGBClassifier(base_score=0.5, booster='gbtree', colsample_bylevel=1,\n",
       "              colsample_bynode=1, colsample_bytree=1, enable_categorical=False,\n",
       "              gamma=0, gpu_id=-1, importance_type=None,\n",
       "              interaction_constraints='', learning_rate=0.300000012,\n",
       "              max_delta_step=0, max_depth=7, min_child_weight=1, missing=nan,\n",
       "              monotone_constraints='()', n_estimators=100, n_jobs=8,\n",
       "              num_parallel_tree=1, objective='multi:softprob', predictor='auto',\n",
       "              random_state=0, reg_alpha=0, reg_lambda=1, scale_pos_weight=None,\n",
       "              subsample=1, tree_method='exact', use_label_encoder=False,\n",
       "              validate_parameters=1, verbosity=None)"
      ]
     },
     "execution_count": 25,
     "metadata": {},
     "output_type": "execute_result"
    }
   ],
   "source": [
    "model = XGBClassifier(use_label_encoder=False, max_depth=7)\n",
    "model.fit(X_train, y_train, early_stopping_rounds=10, eval_set=[(X_test, y_test)], verbose=True)"
   ]
  },
  {
   "cell_type": "code",
   "execution_count": 26,
   "id": "7211bda7",
   "metadata": {},
   "outputs": [
    {
     "name": "stdout",
     "output_type": "stream",
     "text": [
      "                                                      precision    recall  f1-score   support\n",
      "\n",
      "      jet-mode radio AGN/low-excitation radio galaxy     0.9771    0.9827    0.9799      3824\n",
      "quasar-like radio AGN / high-excitation radio galaxy     0.8448    0.8909    0.8673       385\n",
      "                                     radio-quiet AGN     0.9459    0.9542    0.9500      2032\n",
      "                                 star-forming galaxy     0.9939    0.9903    0.9921     17042\n",
      "\n",
      "                                            accuracy                         0.9843     23283\n",
      "                                           macro avg     0.9404    0.9545    0.9473     23283\n",
      "                                        weighted avg     0.9845    0.9843    0.9844     23283\n",
      "\n"
     ]
    }
   ],
   "source": [
    "y_pred = model.predict(X_test)\n",
    "print(classification_report(y_test, y_pred, target_names=labels, digits=4))"
   ]
  },
  {
   "cell_type": "code",
   "execution_count": 27,
   "id": "5d70165e",
   "metadata": {},
   "outputs": [
    {
     "data": {
      "text/plain": [
       "[]"
      ]
     },
     "execution_count": 27,
     "metadata": {},
     "output_type": "execute_result"
    },
    {
     "data": {
      "image/png": "[encoded data removed]",
      "text/plain": [
       "<Figure size 432x288 with 2 Axes>"
      ]
     },
     "metadata": {
      "needs_background": "light"
     },
     "output_type": "display_data"
    }
   ],
   "source": [
    "cm = confusion_matrix(y_test, y_pred, normalize='true')\n",
    "disp = ConfusionMatrixDisplay(confusion_matrix=cm, display_labels=labels)\n",
    "disp.plot()\n",
    "plt.xticks(rotation = 90)\n",
    "plt.plot()"
   ]
  },
  {
   "cell_type": "code",
   "execution_count": 30,
   "id": "aae9af30",
   "metadata": {},
   "outputs": [],
   "source": [
    "xgboost_feature_importance = pd.DataFrame(\n",
    "    np.array([preprocessor.get_feature_names_out(), model.feature_importances_]).T,\n",
    "                                               columns=['Feature', 'Importance'])\n",
    "xgboost_feature_importance = xgboost_feature_importance.sort_values(by=['Importance'], ascending=False)"
   ]
  },
  {
   "cell_type": "code",
   "execution_count": 31,
   "id": "09f9fd03",
   "metadata": {},
   "outputs": [
    {
     "data": {
      "text/plain": [
       "[Text(0, 0, 'pipeline-1__Radio_excess'),\n",
       " Text(1, 0, 'pipeline-1__AGNfrac_af_16'),\n",
       " Text(2, 0, 'pipeline-1__AGNfrac_cg_s_16'),\n",
       " Text(3, 0, 'pipeline-2__Extended_radio_0.0'),\n",
       " Text(4, 0, 'pipeline-2__Opt_spec_0.0'),\n",
       " Text(5, 0, 'pipeline-2__Xray_0.0'),\n",
       " Text(6, 0, 'pipeline-2__Messias_0.0'),\n",
       " Text(7, 0, 'pipeline-2__Ch2_Ch4_-99.0'),\n",
       " Text(8, 0, 'pipeline-2__Spitzer_SN_0.0'),\n",
       " Text(9, 0, 'pipeline-2__Spitzer_SN_2.0'),\n",
       " Text(10, 0, 'pipeline-1__Chi_sq_MpBp'),\n",
       " Text(11, 0, 'pipeline-1__Chi_sq_AfCg'),\n",
       " Text(12, 0, 'pipeline-2__Lacy_0.0'),\n",
       " Text(13, 0, 'pipeline-2__KI_-99.0'),\n",
       " Text(14, 0, 'pipeline-2__Ch4_24mu_1.0'),\n",
       " Text(15, 0, 'pipeline-2__Ch2_Ch4_1.0'),\n",
       " Text(16, 0, 'pipeline-1__AGNfrac_cg_s'),\n",
       " Text(17, 0, 'pipeline-1__Radio_excess_DJS'),\n",
       " Text(18, 0, 'pipeline-2__Ch2_Ch4_0.0'),\n",
       " Text(19, 0, 'pipeline-1__SFR_conc'),\n",
       " Text(20, 0, 'pipeline-1__AGNfrac_af'),\n",
       " Text(21, 0, 'pipeline-2__Donley_0.0'),\n",
       " Text(22, 0, 'pipeline-2__Ch4_24mu_-99.0'),\n",
       " Text(23, 0, 'pipeline-1__AGNfrac_cg_f'),\n",
       " Text(24, 0, 'pipeline-1__Mass_conc'),\n",
       " Text(25, 0, 'pipeline-1__AGNfrac_cg_f_16'),\n",
       " Text(26, 0, 'pipeline-2__Spitzer_SN_1.0'),\n",
       " Text(27, 0, 'pipeline-2__KI_0.0'),\n",
       " Text(28, 0, 'pipeline-2__Stern_0.0'),\n",
       " Text(29, 0, 'pipeline-2__KI_1.0'),\n",
       " Text(30, 0, 'pipeline-2__Ch4_24mu_0.0'),\n",
       " Text(31, 0, 'pipeline-2__Messias_1.0'),\n",
       " Text(32, 0, 'pipeline-2__Stern_1.0'),\n",
       " Text(33, 0, 'pipeline-2__Xray_1.0'),\n",
       " Text(34, 0, 'pipeline-2__Lacy_1.0'),\n",
       " Text(35, 0, 'pipeline-2__Opt_spec_1.0'),\n",
       " Text(36, 0, 'pipeline-2__Donley_1.0'),\n",
       " Text(37, 0, 'pipeline-2__Extended_radio_1.0')]"
      ]
     },
     "execution_count": 31,
     "metadata": {},
     "output_type": "execute_result"
    },
    {
     "data": {
      "image/png": "[encoded data removed]",
      "text/plain": [
       "<Figure size 1440x720 with 1 Axes>"
      ]
     },
     "metadata": {
      "needs_background": "light"
     },
     "output_type": "display_data"
    }
   ],
   "source": [
    "ax = xgboost_feature_importance.plot(kind='bar', figsize=(20,10))\n",
    "ax.set_xticklabels(xgboost_feature_importance.Feature)"
   ]
  },
  {
   "cell_type": "code",
   "execution_count": 39,
   "id": "4614c616",
   "metadata": {},
   "outputs": [
    {
     "data": {
      "text/html": [
       "<div>\n",
       "<style scoped>\n",
       "    .dataframe tbody tr th:only-of-type {\n",
       "        vertical-align: middle;\n",
       "    }\n",
       "\n",
       "    .dataframe tbody tr th {\n",
       "        vertical-align: top;\n",
       "    }\n",
       "\n",
       "    .dataframe thead th {\n",
       "        text-align: right;\n",
       "    }\n",
       "</style>\n",
       "<table border=\"1\" class=\"dataframe\">\n",
       "  <thead>\n",
       "    <tr style=\"text-align: right;\">\n",
       "      <th></th>\n",
       "      <th>index</th>\n",
       "      <th>Feature</th>\n",
       "      <th>Importance</th>\n",
       "      <th>cumulative_sum</th>\n",
       "    </tr>\n",
       "  </thead>\n",
       "  <tbody>\n",
       "    <tr>\n",
       "      <th>0</th>\n",
       "      <td>10</td>\n",
       "      <td>pipeline-1__Radio_excess</td>\n",
       "      <td>0.336146</td>\n",
       "      <td>0.336146</td>\n",
       "    </tr>\n",
       "    <tr>\n",
       "      <th>1</th>\n",
       "      <td>1</td>\n",
       "      <td>pipeline-1__AGNfrac_af_16</td>\n",
       "      <td>0.184317</td>\n",
       "      <td>0.520463</td>\n",
       "    </tr>\n",
       "    <tr>\n",
       "      <th>2</th>\n",
       "      <td>3</td>\n",
       "      <td>pipeline-1__AGNfrac_cg_s_16</td>\n",
       "      <td>0.135927</td>\n",
       "      <td>0.65639</td>\n",
       "    </tr>\n",
       "    <tr>\n",
       "      <th>3</th>\n",
       "      <td>36</td>\n",
       "      <td>pipeline-2__Extended_radio_0.0</td>\n",
       "      <td>0.096027</td>\n",
       "      <td>0.752418</td>\n",
       "    </tr>\n",
       "    <tr>\n",
       "      <th>4</th>\n",
       "      <td>34</td>\n",
       "      <td>pipeline-2__Opt_spec_0.0</td>\n",
       "      <td>0.049935</td>\n",
       "      <td>0.802353</td>\n",
       "    </tr>\n",
       "    <tr>\n",
       "      <th>5</th>\n",
       "      <td>32</td>\n",
       "      <td>pipeline-2__Xray_0.0</td>\n",
       "      <td>0.023158</td>\n",
       "      <td>0.825511</td>\n",
       "    </tr>\n",
       "    <tr>\n",
       "      <th>6</th>\n",
       "      <td>21</td>\n",
       "      <td>pipeline-2__Messias_0.0</td>\n",
       "      <td>0.020303</td>\n",
       "      <td>0.845814</td>\n",
       "    </tr>\n",
       "    <tr>\n",
       "      <th>7</th>\n",
       "      <td>26</td>\n",
       "      <td>pipeline-2__Ch2_Ch4_-99.0</td>\n",
       "      <td>0.016767</td>\n",
       "      <td>0.862581</td>\n",
       "    </tr>\n",
       "    <tr>\n",
       "      <th>8</th>\n",
       "      <td>12</td>\n",
       "      <td>pipeline-2__Spitzer_SN_0.0</td>\n",
       "      <td>0.014518</td>\n",
       "      <td>0.877099</td>\n",
       "    </tr>\n",
       "    <tr>\n",
       "      <th>9</th>\n",
       "      <td>14</td>\n",
       "      <td>pipeline-2__Spitzer_SN_2.0</td>\n",
       "      <td>0.012301</td>\n",
       "      <td>0.8894</td>\n",
       "    </tr>\n",
       "    <tr>\n",
       "      <th>10</th>\n",
       "      <td>6</td>\n",
       "      <td>pipeline-1__Chi_sq_MpBp</td>\n",
       "      <td>0.011203</td>\n",
       "      <td>0.900603</td>\n",
       "    </tr>\n",
       "    <tr>\n",
       "      <th>11</th>\n",
       "      <td>7</td>\n",
       "      <td>pipeline-1__Chi_sq_AfCg</td>\n",
       "      <td>0.010939</td>\n",
       "      <td>0.911543</td>\n",
       "    </tr>\n",
       "    <tr>\n",
       "      <th>12</th>\n",
       "      <td>17</td>\n",
       "      <td>pipeline-2__Lacy_0.0</td>\n",
       "      <td>0.00983</td>\n",
       "      <td>0.921373</td>\n",
       "    </tr>\n",
       "    <tr>\n",
       "      <th>13</th>\n",
       "      <td>23</td>\n",
       "      <td>pipeline-2__KI_-99.0</td>\n",
       "      <td>0.009377</td>\n",
       "      <td>0.93075</td>\n",
       "    </tr>\n",
       "    <tr>\n",
       "      <th>14</th>\n",
       "      <td>31</td>\n",
       "      <td>pipeline-2__Ch4_24mu_1.0</td>\n",
       "      <td>0.007186</td>\n",
       "      <td>0.937935</td>\n",
       "    </tr>\n",
       "    <tr>\n",
       "      <th>15</th>\n",
       "      <td>28</td>\n",
       "      <td>pipeline-2__Ch2_Ch4_1.0</td>\n",
       "      <td>0.00683</td>\n",
       "      <td>0.944765</td>\n",
       "    </tr>\n",
       "    <tr>\n",
       "      <th>16</th>\n",
       "      <td>2</td>\n",
       "      <td>pipeline-1__AGNfrac_cg_s</td>\n",
       "      <td>0.00636</td>\n",
       "      <td>0.951125</td>\n",
       "    </tr>\n",
       "    <tr>\n",
       "      <th>17</th>\n",
       "      <td>11</td>\n",
       "      <td>pipeline-1__Radio_excess_DJS</td>\n",
       "      <td>0.005396</td>\n",
       "      <td>0.956522</td>\n",
       "    </tr>\n",
       "    <tr>\n",
       "      <th>18</th>\n",
       "      <td>27</td>\n",
       "      <td>pipeline-2__Ch2_Ch4_0.0</td>\n",
       "      <td>0.005258</td>\n",
       "      <td>0.96178</td>\n",
       "    </tr>\n",
       "    <tr>\n",
       "      <th>19</th>\n",
       "      <td>9</td>\n",
       "      <td>pipeline-1__SFR_conc</td>\n",
       "      <td>0.005</td>\n",
       "      <td>0.96678</td>\n",
       "    </tr>\n",
       "    <tr>\n",
       "      <th>20</th>\n",
       "      <td>0</td>\n",
       "      <td>pipeline-1__AGNfrac_af</td>\n",
       "      <td>0.00466</td>\n",
       "      <td>0.97144</td>\n",
       "    </tr>\n",
       "    <tr>\n",
       "      <th>21</th>\n",
       "      <td>15</td>\n",
       "      <td>pipeline-2__Donley_0.0</td>\n",
       "      <td>0.004625</td>\n",
       "      <td>0.976065</td>\n",
       "    </tr>\n",
       "    <tr>\n",
       "      <th>22</th>\n",
       "      <td>29</td>\n",
       "      <td>pipeline-2__Ch4_24mu_-99.0</td>\n",
       "      <td>0.004197</td>\n",
       "      <td>0.980262</td>\n",
       "    </tr>\n",
       "    <tr>\n",
       "      <th>23</th>\n",
       "      <td>4</td>\n",
       "      <td>pipeline-1__AGNfrac_cg_f</td>\n",
       "      <td>0.00365</td>\n",
       "      <td>0.983912</td>\n",
       "    </tr>\n",
       "    <tr>\n",
       "      <th>24</th>\n",
       "      <td>8</td>\n",
       "      <td>pipeline-1__Mass_conc</td>\n",
       "      <td>0.003319</td>\n",
       "      <td>0.987231</td>\n",
       "    </tr>\n",
       "    <tr>\n",
       "      <th>25</th>\n",
       "      <td>5</td>\n",
       "      <td>pipeline-1__AGNfrac_cg_f_16</td>\n",
       "      <td>0.003284</td>\n",
       "      <td>0.990515</td>\n",
       "    </tr>\n",
       "    <tr>\n",
       "      <th>26</th>\n",
       "      <td>13</td>\n",
       "      <td>pipeline-2__Spitzer_SN_1.0</td>\n",
       "      <td>0.002962</td>\n",
       "      <td>0.993477</td>\n",
       "    </tr>\n",
       "    <tr>\n",
       "      <th>27</th>\n",
       "      <td>24</td>\n",
       "      <td>pipeline-2__KI_0.0</td>\n",
       "      <td>0.002716</td>\n",
       "      <td>0.996193</td>\n",
       "    </tr>\n",
       "    <tr>\n",
       "      <th>28</th>\n",
       "      <td>19</td>\n",
       "      <td>pipeline-2__Stern_0.0</td>\n",
       "      <td>0.002143</td>\n",
       "      <td>0.998336</td>\n",
       "    </tr>\n",
       "    <tr>\n",
       "      <th>29</th>\n",
       "      <td>25</td>\n",
       "      <td>pipeline-2__KI_1.0</td>\n",
       "      <td>0.001664</td>\n",
       "      <td>1.0</td>\n",
       "    </tr>\n",
       "    <tr>\n",
       "      <th>30</th>\n",
       "      <td>30</td>\n",
       "      <td>pipeline-2__Ch4_24mu_0.0</td>\n",
       "      <td>0.0</td>\n",
       "      <td>1.0</td>\n",
       "    </tr>\n",
       "    <tr>\n",
       "      <th>31</th>\n",
       "      <td>22</td>\n",
       "      <td>pipeline-2__Messias_1.0</td>\n",
       "      <td>0.0</td>\n",
       "      <td>1.0</td>\n",
       "    </tr>\n",
       "    <tr>\n",
       "      <th>32</th>\n",
       "      <td>20</td>\n",
       "      <td>pipeline-2__Stern_1.0</td>\n",
       "      <td>0.0</td>\n",
       "      <td>1.0</td>\n",
       "    </tr>\n",
       "    <tr>\n",
       "      <th>33</th>\n",
       "      <td>33</td>\n",
       "      <td>pipeline-2__Xray_1.0</td>\n",
       "      <td>0.0</td>\n",
       "      <td>1.0</td>\n",
       "    </tr>\n",
       "    <tr>\n",
       "      <th>34</th>\n",
       "      <td>18</td>\n",
       "      <td>pipeline-2__Lacy_1.0</td>\n",
       "      <td>0.0</td>\n",
       "      <td>1.0</td>\n",
       "    </tr>\n",
       "    <tr>\n",
       "      <th>35</th>\n",
       "      <td>35</td>\n",
       "      <td>pipeline-2__Opt_spec_1.0</td>\n",
       "      <td>0.0</td>\n",
       "      <td>1.0</td>\n",
       "    </tr>\n",
       "    <tr>\n",
       "      <th>36</th>\n",
       "      <td>16</td>\n",
       "      <td>pipeline-2__Donley_1.0</td>\n",
       "      <td>0.0</td>\n",
       "      <td>1.0</td>\n",
       "    </tr>\n",
       "    <tr>\n",
       "      <th>37</th>\n",
       "      <td>37</td>\n",
       "      <td>pipeline-2__Extended_radio_1.0</td>\n",
       "      <td>0.0</td>\n",
       "      <td>1.0</td>\n",
       "    </tr>\n",
       "  </tbody>\n",
       "</table>\n",
       "</div>"
      ],
      "text/plain": [
       "    index                         Feature Importance cumulative_sum\n",
       "0      10        pipeline-1__Radio_excess   0.336146       0.336146\n",
       "1       1       pipeline-1__AGNfrac_af_16   0.184317       0.520463\n",
       "2       3     pipeline-1__AGNfrac_cg_s_16   0.135927        0.65639\n",
       "3      36  pipeline-2__Extended_radio_0.0   0.096027       0.752418\n",
       "4      34        pipeline-2__Opt_spec_0.0   0.049935       0.802353\n",
       "5      32            pipeline-2__Xray_0.0   0.023158       0.825511\n",
       "6      21         pipeline-2__Messias_0.0   0.020303       0.845814\n",
       "7      26       pipeline-2__Ch2_Ch4_-99.0   0.016767       0.862581\n",
       "8      12      pipeline-2__Spitzer_SN_0.0   0.014518       0.877099\n",
       "9      14      pipeline-2__Spitzer_SN_2.0   0.012301         0.8894\n",
       "10      6         pipeline-1__Chi_sq_MpBp   0.011203       0.900603\n",
       "11      7         pipeline-1__Chi_sq_AfCg   0.010939       0.911543\n",
       "12     17            pipeline-2__Lacy_0.0    0.00983       0.921373\n",
       "13     23            pipeline-2__KI_-99.0   0.009377        0.93075\n",
       "14     31        pipeline-2__Ch4_24mu_1.0   0.007186       0.937935\n",
       "15     28         pipeline-2__Ch2_Ch4_1.0    0.00683       0.944765\n",
       "16      2        pipeline-1__AGNfrac_cg_s    0.00636       0.951125\n",
       "17     11    pipeline-1__Radio_excess_DJS   0.005396       0.956522\n",
       "18     27         pipeline-2__Ch2_Ch4_0.0   0.005258        0.96178\n",
       "19      9            pipeline-1__SFR_conc      0.005        0.96678\n",
       "20      0          pipeline-1__AGNfrac_af    0.00466        0.97144\n",
       "21     15          pipeline-2__Donley_0.0   0.004625       0.976065\n",
       "22     29      pipeline-2__Ch4_24mu_-99.0   0.004197       0.980262\n",
       "23      4        pipeline-1__AGNfrac_cg_f    0.00365       0.983912\n",
       "24      8           pipeline-1__Mass_conc   0.003319       0.987231\n",
       "25      5     pipeline-1__AGNfrac_cg_f_16   0.003284       0.990515\n",
       "26     13      pipeline-2__Spitzer_SN_1.0   0.002962       0.993477\n",
       "27     24              pipeline-2__KI_0.0   0.002716       0.996193\n",
       "28     19           pipeline-2__Stern_0.0   0.002143       0.998336\n",
       "29     25              pipeline-2__KI_1.0   0.001664            1.0\n",
       "30     30        pipeline-2__Ch4_24mu_0.0        0.0            1.0\n",
       "31     22         pipeline-2__Messias_1.0        0.0            1.0\n",
       "32     20           pipeline-2__Stern_1.0        0.0            1.0\n",
       "33     33            pipeline-2__Xray_1.0        0.0            1.0\n",
       "34     18            pipeline-2__Lacy_1.0        0.0            1.0\n",
       "35     35        pipeline-2__Opt_spec_1.0        0.0            1.0\n",
       "36     16          pipeline-2__Donley_1.0        0.0            1.0\n",
       "37     37  pipeline-2__Extended_radio_1.0        0.0            1.0"
      ]
     },
     "execution_count": 39,
     "metadata": {},
     "output_type": "execute_result"
    }
   ],
   "source": [
    "xgboost_feature_importance['cumulative_sum'] = xgboost_feature_importance['Importance'].cumsum()\n",
    "xgboost_feature_importance = xgboost_feature_importance.reset_index()\n",
    "xgboost_feature_importance"
   ]
  },
  {
   "cell_type": "markdown",
   "id": "3468c389",
   "metadata": {},
   "source": [
    "# SVM"
   ]
  },
  {
   "cell_type": "code",
   "execution_count": 18,
   "id": "3e65259a",
   "metadata": {},
   "outputs": [
    {
     "data": {
      "text/plain": [
       "SVC()"
      ]
     },
     "execution_count": 18,
     "metadata": {},
     "output_type": "execute_result"
    }
   ],
   "source": [
    "clf = svm.SVC()\n",
    "clf.fit(X_train, y_train)"
   ]
  },
  {
   "cell_type": "code",
   "execution_count": 19,
   "id": "04c4fb16",
   "metadata": {},
   "outputs": [
    {
     "name": "stdout",
     "output_type": "stream",
     "text": [
      "                                                      precision    recall  f1-score   support\n",
      "\n",
      "      jet-mode radio AGN/low-excitation radio galaxy     0.9676    0.9446    0.9559      3824\n",
      "quasar-like radio AGN / high-excitation radio galaxy     0.8481    0.6961    0.7646       385\n",
      "                                     radio-quiet AGN     0.9085    0.9139    0.9112      2032\n",
      "                                 star-forming galaxy     0.9798    0.9883    0.9840     17042\n",
      "\n",
      "                                            accuracy                         0.9698     23283\n",
      "                                           macro avg     0.9260    0.8857    0.9039     23283\n",
      "                                        weighted avg     0.9694    0.9698    0.9694     23283\n",
      "\n"
     ]
    }
   ],
   "source": [
    "y_pred = clf.predict(X_test)\n",
    "print(classification_report(y_test, y_pred, target_names=labels, digits=4))"
   ]
  },
  {
   "cell_type": "code",
   "execution_count": 20,
   "id": "2434106c",
   "metadata": {},
   "outputs": [
    {
     "data": {
      "text/plain": [
       "[]"
      ]
     },
     "execution_count": 20,
     "metadata": {},
     "output_type": "execute_result"
    },
    {
     "data": {
      "image/png": "[encoded data removed]",
      "text/plain": [
       "<Figure size 432x288 with 2 Axes>"
      ]
     },
     "metadata": {
      "needs_background": "light"
     },
     "output_type": "display_data"
    }
   ],
   "source": [
    "cm = confusion_matrix(y_test, y_pred, normalize='true')\n",
    "disp = ConfusionMatrixDisplay(confusion_matrix=cm, display_labels=labels)\n",
    "disp.plot()\n",
    "plt.xticks(rotation = 90)\n",
    "plt.plot()"
   ]
  },
  {
   "cell_type": "markdown",
   "id": "192e4d95",
   "metadata": {},
   "source": [
    "# Single feature"
   ]
  },
  {
   "cell_type": "code",
   "execution_count": 49,
   "id": "0230eebc",
   "metadata": {},
   "outputs": [],
   "source": [
    "Radio_excess = X['Radio_excess']"
   ]
  },
  {
   "cell_type": "code",
   "execution_count": 50,
   "id": "607d2d17",
   "metadata": {},
   "outputs": [],
   "source": [
    "# Creating training and testing set\n",
    "X_train_re, X_test_re, y_train_re, y_test_re = train_test_split(Radio_excess, y, train_size=0.7)"
   ]
  },
  {
   "cell_type": "code",
   "execution_count": 51,
   "id": "6c5d2428",
   "metadata": {},
   "outputs": [
    {
     "name": "stdout",
     "output_type": "stream",
     "text": [
      "[22:30:05] WARNING: C:/Users/Administrator/workspace/xgboost-win64_release_1.5.1/src/learner.cc:1115: Starting in XGBoost 1.3.0, the default evaluation metric used with the objective 'multi:softprob' was changed from 'merror' to 'mlogloss'. Explicitly set eval_metric if you'd like to restore the old behavior.\n",
      "[0]\tvalidation_0-mlogloss:1.00103\n",
      "[1]\tvalidation_0-mlogloss:0.79868\n",
      "[2]\tvalidation_0-mlogloss:0.67361\n",
      "[3]\tvalidation_0-mlogloss:0.59199\n",
      "[4]\tvalidation_0-mlogloss:0.53721\n",
      "[5]\tvalidation_0-mlogloss:0.49980\n",
      "[6]\tvalidation_0-mlogloss:0.47374\n",
      "[7]\tvalidation_0-mlogloss:0.45536\n",
      "[8]\tvalidation_0-mlogloss:0.44205\n",
      "[9]\tvalidation_0-mlogloss:0.43220\n",
      "[10]\tvalidation_0-mlogloss:0.42477\n",
      "[11]\tvalidation_0-mlogloss:0.41903\n",
      "[12]\tvalidation_0-mlogloss:0.41452\n",
      "[13]\tvalidation_0-mlogloss:0.41091\n",
      "[14]\tvalidation_0-mlogloss:0.40800\n",
      "[15]\tvalidation_0-mlogloss:0.40564\n",
      "[16]\tvalidation_0-mlogloss:0.40375\n",
      "[17]\tvalidation_0-mlogloss:0.40221\n",
      "[18]\tvalidation_0-mlogloss:0.40097\n",
      "[19]\tvalidation_0-mlogloss:0.39996\n",
      "[20]\tvalidation_0-mlogloss:0.39911\n",
      "[21]\tvalidation_0-mlogloss:0.39846\n",
      "[22]\tvalidation_0-mlogloss:0.39792\n",
      "[23]\tvalidation_0-mlogloss:0.39749\n",
      "[24]\tvalidation_0-mlogloss:0.39716\n",
      "[25]\tvalidation_0-mlogloss:0.39691\n",
      "[26]\tvalidation_0-mlogloss:0.39672\n",
      "[27]\tvalidation_0-mlogloss:0.39660\n",
      "[28]\tvalidation_0-mlogloss:0.39649\n",
      "[29]\tvalidation_0-mlogloss:0.39642\n",
      "[30]\tvalidation_0-mlogloss:0.39639\n",
      "[31]\tvalidation_0-mlogloss:0.39640\n",
      "[32]\tvalidation_0-mlogloss:0.39641\n",
      "[33]\tvalidation_0-mlogloss:0.39647\n",
      "[34]\tvalidation_0-mlogloss:0.39647\n",
      "[35]\tvalidation_0-mlogloss:0.39648\n",
      "[36]\tvalidation_0-mlogloss:0.39650\n",
      "[37]\tvalidation_0-mlogloss:0.39653\n",
      "[38]\tvalidation_0-mlogloss:0.39653\n",
      "[39]\tvalidation_0-mlogloss:0.39654\n",
      "[40]\tvalidation_0-mlogloss:0.39656\n"
     ]
    },
    {
     "data": {
      "text/plain": [
       "XGBClassifier(base_score=0.5, booster='gbtree', colsample_bylevel=1,\n",
       "              colsample_bynode=1, colsample_bytree=1, enable_categorical=False,\n",
       "              gamma=0, gpu_id=-1, importance_type=None,\n",
       "              interaction_constraints='', learning_rate=0.300000012,\n",
       "              max_delta_step=0, max_depth=7, min_child_weight=1, missing=nan,\n",
       "              monotone_constraints='()', n_estimators=100, n_jobs=8,\n",
       "              num_parallel_tree=1, objective='multi:softprob', predictor='auto',\n",
       "              random_state=0, reg_alpha=0, reg_lambda=1, scale_pos_weight=None,\n",
       "              subsample=1, tree_method='exact', use_label_encoder=False,\n",
       "              validate_parameters=1, verbosity=None)"
      ]
     },
     "execution_count": 51,
     "metadata": {},
     "output_type": "execute_result"
    }
   ],
   "source": [
    "model = XGBClassifier(use_label_encoder=False, max_depth=7)\n",
    "model.fit(X_train_re, y_train_re, early_stopping_rounds=10, eval_set=[(X_test_re, y_test_re)], verbose=True)"
   ]
  },
  {
   "cell_type": "code",
   "execution_count": 48,
   "id": "2ac2a628",
   "metadata": {},
   "outputs": [
    {
     "name": "stdout",
     "output_type": "stream",
     "text": [
      "                                                      precision    recall  f1-score   support\n",
      "\n",
      "      jet-mode radio AGN/low-excitation radio galaxy     0.8622    0.9696    0.9128      3853\n",
      "quasar-like radio AGN / high-excitation radio galaxy     0.0000    0.0000    0.0000       424\n",
      "                                     radio-quiet AGN     0.4000    0.0010    0.0020      2042\n",
      "                                 star-forming galaxy     0.8868    0.9904    0.9358     16964\n",
      "\n",
      "                                            accuracy                         0.8821     23283\n",
      "                                           macro avg     0.5373    0.4903    0.4626     23283\n",
      "                                        weighted avg     0.8239    0.8821    0.8330     23283\n",
      "\n"
     ]
    },
    {
     "name": "stderr",
     "output_type": "stream",
     "text": [
      "d:\\python\\python38\\lib\\site-packages\\sklearn\\metrics\\_classification.py:1318: UndefinedMetricWarning: Precision and F-score are ill-defined and being set to 0.0 in labels with no predicted samples. Use `zero_division` parameter to control this behavior.\n",
      "  _warn_prf(average, modifier, msg_start, len(result))\n",
      "d:\\python\\python38\\lib\\site-packages\\sklearn\\metrics\\_classification.py:1318: UndefinedMetricWarning: Precision and F-score are ill-defined and being set to 0.0 in labels with no predicted samples. Use `zero_division` parameter to control this behavior.\n",
      "  _warn_prf(average, modifier, msg_start, len(result))\n",
      "d:\\python\\python38\\lib\\site-packages\\sklearn\\metrics\\_classification.py:1318: UndefinedMetricWarning: Precision and F-score are ill-defined and being set to 0.0 in labels with no predicted samples. Use `zero_division` parameter to control this behavior.\n",
      "  _warn_prf(average, modifier, msg_start, len(result))\n"
     ]
    }
   ],
   "source": [
    "y_pred = model.predict(X_test_re)\n",
    "print(classification_report(y_test_re, y_pred, target_names=labels, digits=4))"
   ]
  },
  {
   "cell_type": "code",
   "execution_count": 47,
   "id": "098524e2",
   "metadata": {},
   "outputs": [
    {
     "data": {
      "text/plain": [
       "array([0, 0, 0, ..., 3, 2, 2])"
      ]
     },
     "execution_count": 47,
     "metadata": {},
     "output_type": "execute_result"
    }
   ],
   "source": []
  },
  {
   "cell_type": "code",
   "execution_count": null,
   "id": "80e5d729",
   "metadata": {},
   "outputs": [],
   "source": []
  }
 ],
 "metadata": {
  "kernelspec": {
   "display_name": "Python 3",
   "language": "python",
   "name": "python3"
  },
  "language_info": {
   "codemirror_mode": {
    "name": "ipython",
    "version": 3
   },
   "file_extension": ".py",
   "mimetype": "text/x-python",
   "name": "python",
   "nbconvert_exporter": "python",
   "pygments_lexer": "ipython3",
   "version": "3.8.1"
  }
 },
 "nbformat": 4,
 "nbformat_minor": 5
}
