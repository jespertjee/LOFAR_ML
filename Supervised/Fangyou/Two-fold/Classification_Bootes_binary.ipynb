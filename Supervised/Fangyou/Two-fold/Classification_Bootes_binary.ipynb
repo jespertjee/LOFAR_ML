{
 "cells": [
  {
   "cell_type": "code",
   "execution_count": 1,
   "id": "7009f7f5",
   "metadata": {},
   "outputs": [
    {
     "name": "stderr",
     "output_type": "stream",
     "text": [
      "d:\\python\\python38\\lib\\site-packages\\xgboost\\compat.py:36: FutureWarning: pandas.Int64Index is deprecated and will be removed from pandas in a future version. Use pandas.Index with the appropriate dtype instead.\n",
      "  from pandas import MultiIndex, Int64Index\n"
     ]
    }
   ],
   "source": [
    "import pandas as pd\n",
    "import numpy as np\n",
    "\n",
    "from sklearn.ensemble import RandomForestClassifier\n",
    "from sklearn.metrics import accuracy_score, classification_report\n",
    "from sklearn.model_selection import train_test_split, GridSearchCV\n",
    "from sklearn.preprocessing import StandardScaler, OneHotEncoder, LabelEncoder\n",
    "from sklearn.impute import SimpleImputer, KNNImputer\n",
    "from sklearn.pipeline import make_pipeline\n",
    "from sklearn.compose import make_column_transformer\n",
    "from sklearn import preprocessing\n",
    "from sklearn.linear_model import LinearRegression\n",
    "from sklearn.metrics import confusion_matrix, ConfusionMatrixDisplay\n",
    "from sklearn import svm\n",
    "from sklearn.decomposition import PCA\n",
    "from sklearn.utils.class_weight import compute_class_weight\n",
    "from sklearn.linear_model import SGDClassifier\n",
    "\n",
    "\n",
    "import matplotlib.pyplot as plt\n",
    "\n",
    "from xgboost import XGBClassifier\n",
    "\n",
    "\n",
    "# Necessary to get names out\n",
    "SimpleImputer.get_feature_names_out = (lambda self, names=None:\n",
    "                                       self.feature_names_in_)"
   ]
  },
  {
   "cell_type": "code",
   "execution_count": 2,
   "id": "e76c6426",
   "metadata": {},
   "outputs": [],
   "source": [
    "features_num = [\n",
    "    \"Z_BEST\", \"z1_median\", \"u_f\", \"u_e\", \"u_e_raw\", \"Bw_f\", \"Bw_e\", \"Bw_e_raw\", \"R_f\", \"R_e\", \n",
    "    \"R_e_raw\", \"I_f\", \"I_e\", \"I_e_raw\", \"z_f\", \"z_e\", \"z_e_raw\", \"z_Subaru_f\", \"z_Subaru_e\", \n",
    "    \"z_Subaru_e_raw\", \"y_f\", \"y_e\", \"y_e_raw\", \"J_f\", \"J_e\", \"J_e_raw\", \"H_f\", \n",
    "    \"H_e\", \"H_e_raw\", \"K_f\", \"K_e\", \"K_e_raw\", \"Ks_f\", \"Ks_e\", \"Ks_e_raw\", \"ch1_f\", \"ch1_e\", \"ch1_e_raw\", \"ch2_f\", \n",
    "    \"ch2_e\", \"ch2_e_raw\", \"ch3_f\", \"ch3_e\", \"ch3_e_raw\", \"ch4_f\", \"ch4_e\", \"ch4_e_raw\", \"MIPS_24_f\", \n",
    "    \"MIPS_24_e\", \"MIPS_24_e_raw\", \"PACS_100_f\", \"PACS_100_e\", \"PACS_100_e_raw\", \"PACS_160_f\", \"PACS_160_e\", \n",
    "    \"PACS_160_e_raw\", \"SPIRE_250_f\", \"SPIRE_250_e\", \"SPIRE_250_e_raw\", \"SPIRE_350_f\", \"SPIRE_350_e\", \"SPIRE_350_e_raw\", \n",
    "    \"SPIRE_500_f\", \"SPIRE_500_e\", \"SPIRE_500_e_raw\"\n",
    "\n",
    "]\n",
    "features_cat_binary = [\n",
    "    \"FLAG_OVERLAP\", \"XID+_rerun_mips\", \"XID+_rerun_pacs\", \"XID+_rerun_SPIRE\", \"CHANGE_FLAG_ID\", \n",
    "    \"CHANGE_FLAG_ZBEST\", \"CHANGE_FLAG_DEEP\", \"CHANGE_FLAG_FIR\", \"FLAG_GOOD\"\n",
    "]\n",
    "features_cat_non_binary = [\n",
    "    \"FLAG_DEEP\"\n",
    "]\n",
    "features_drop = [\n",
    "    \"Source_Name\"\n",
    "]\n",
    "y_column = \"Classification\"\n",
    "\n",
    "classes = ['non-SFG', 'star-forming galaxy']"
   ]
  },
  {
   "cell_type": "code",
   "execution_count": 3,
   "id": "2afe97fa",
   "metadata": {},
   "outputs": [],
   "source": [
    "# Creating the pipeline\n",
    "transformer_num = make_pipeline(\n",
    "    SimpleImputer(strategy=\"mean\"),  # there are a few missing values\n",
    "    StandardScaler(),\n",
    ")\n",
    "# Almost all cat features are already binary, so don't have to be one-hot encoded\n",
    "transformer_cat_binary = make_pipeline(\n",
    "    SimpleImputer(strategy=\"most_frequent\"),\n",
    ")\n",
    "transformer_cat_non_binary = make_pipeline(\n",
    "    SimpleImputer(strategy=\"most_frequent\"),\n",
    "    OneHotEncoder(sparse=False)\n",
    ")\n",
    "\n",
    "preprocessor = make_column_transformer(\n",
    "    (transformer_num, features_num),\n",
    "    (transformer_cat_binary, features_cat_binary),\n",
    "    (transformer_cat_non_binary, features_cat_non_binary),\n",
    ")"
   ]
  },
  {
   "cell_type": "code",
   "execution_count": null,
   "id": "85055630",
   "metadata": {},
   "outputs": [],
   "source": []
  },
  {
   "cell_type": "code",
   "execution_count": 4,
   "id": "100ed971",
   "metadata": {},
   "outputs": [],
   "source": [
    "data = pd.read_csv(\"../../../Data/Fangyou_data/Cleaned/Bootes_clean.csv\")"
   ]
  },
  {
   "cell_type": "code",
   "execution_count": 5,
   "id": "a2a2cd79",
   "metadata": {},
   "outputs": [],
   "source": [
    "mapping = {\n",
    "    \"star-forming galaxy\": \"star-forming galaxy\",\n",
    "    \"jet-mode radio AGN/low-excitation radio galaxy\": \"non-SFG\",\n",
    "    \"quasar-like radio AGN / high-excitation radio galaxy\": \"non-SFG\",\n",
    "    \"radio-quiet AGN\": \"non-SFG\"\n",
    "}\n",
    "data[\"Classification\"] = data[\"Classification\"].map(mapping)"
   ]
  },
  {
   "cell_type": "code",
   "execution_count": null,
   "id": "7d64428e",
   "metadata": {},
   "outputs": [],
   "source": []
  },
  {
   "cell_type": "code",
   "execution_count": 6,
   "id": "f92da17c",
   "metadata": {},
   "outputs": [],
   "source": [
    "# Dropping required columns\n",
    "X = data.drop(columns=features_drop)\n",
    "X = X.drop(columns=y_column)\n",
    "y = data[y_column]"
   ]
  },
  {
   "cell_type": "code",
   "execution_count": 7,
   "id": "5e99b196",
   "metadata": {},
   "outputs": [],
   "source": [
    "# Transforming y to labels\n",
    "le = preprocessing.LabelEncoder()\n",
    "labels = np.unique(y)\n",
    "y = le.fit_transform(y)\n",
    "\n",
    "# Creating training and testing set\n",
    "X_train, X_test, y_train, y_test = train_test_split(X, y, train_size=0.7)"
   ]
  },
  {
   "cell_type": "code",
   "execution_count": 8,
   "id": "44fbbc51",
   "metadata": {},
   "outputs": [],
   "source": [
    "# Transforming the data\n",
    "X_train = preprocessor.fit_transform(X_train)\n",
    "X_test = preprocessor.transform(X_test)"
   ]
  },
  {
   "cell_type": "code",
   "execution_count": 9,
   "id": "5648614e",
   "metadata": {},
   "outputs": [],
   "source": [
    "# Class weights\n",
    "class_weight = compute_class_weight(class_weight='balanced', classes=np.unique(y_train), y=y_train)"
   ]
  },
  {
   "cell_type": "markdown",
   "id": "c8db3858",
   "metadata": {},
   "source": [
    "# PCA"
   ]
  },
  {
   "cell_type": "code",
   "execution_count": 10,
   "id": "9948ea48",
   "metadata": {},
   "outputs": [],
   "source": [
    "pca = PCA().fit(X_train)"
   ]
  },
  {
   "cell_type": "code",
   "execution_count": 11,
   "id": "3988db71",
   "metadata": {},
   "outputs": [
    {
     "data": {
      "image/png": "[encoded data removed]",
      "text/plain": [
       "<Figure size 720x720 with 1 Axes>"
      ]
     },
     "metadata": {
      "needs_background": "light"
     },
     "output_type": "display_data"
    }
   ],
   "source": [
    "explained_variance = pca.explained_variance_ratio_\n",
    "plt.figure(figsize=(10,10))\n",
    "plt.bar(range(len(explained_variance)),explained_variance)\n",
    "plt.title(\"Explained vaiance\")\n",
    "plt.show()"
   ]
  },
  {
   "cell_type": "code",
   "execution_count": 12,
   "id": "3e74e09a",
   "metadata": {},
   "outputs": [
    {
     "data": {
      "image/png": "[encoded data removed]",
      "text/plain": [
       "<Figure size 720x720 with 1 Axes>"
      ]
     },
     "metadata": {
      "needs_background": "light"
     },
     "output_type": "display_data"
    }
   ],
   "source": [
    "plt.figure(figsize=(10,10))\n",
    "plt.bar(range(len(explained_variance)),explained_variance.cumsum())\n",
    "plt.title(\"Explained cumulative variance\")\n",
    "plt.show()"
   ]
  },
  {
   "cell_type": "markdown",
   "id": "00922b7c",
   "metadata": {},
   "source": [
    "# Random forest"
   ]
  },
  {
   "cell_type": "code",
   "execution_count": null,
   "id": "1d9dd7cf",
   "metadata": {},
   "outputs": [],
   "source": []
  },
  {
   "cell_type": "code",
   "execution_count": 27,
   "id": "8bdad993",
   "metadata": {},
   "outputs": [
    {
     "data": {
      "text/plain": [
       "RandomForestClassifier(class_weight='balanced', n_estimators=500)"
      ]
     },
     "execution_count": 27,
     "metadata": {},
     "output_type": "execute_result"
    }
   ],
   "source": [
    "clf = RandomForestClassifier(n_estimators=500, class_weight=\"balanced\")\n",
    "clf.fit(X_train, y_train)"
   ]
  },
  {
   "cell_type": "code",
   "execution_count": 28,
   "id": "ad9d5306",
   "metadata": {},
   "outputs": [
    {
     "name": "stdout",
     "output_type": "stream",
     "text": [
      "                     precision    recall  f1-score   support\n",
      "\n",
      "            non-SFG     0.8449    0.6437    0.7307      1642\n",
      "star-forming galaxy     0.8562    0.9472    0.8994      3677\n",
      "\n",
      "           accuracy                         0.8535      5319\n",
      "          macro avg     0.8506    0.7955    0.8151      5319\n",
      "       weighted avg     0.8527    0.8535    0.8473      5319\n",
      "\n"
     ]
    }
   ],
   "source": [
    "y_pred = clf.predict(X_test)\n",
    "print(classification_report(y_test, y_pred, target_names=labels, digits=4))"
   ]
  },
  {
   "cell_type": "code",
   "execution_count": 29,
   "id": "ec6258dc",
   "metadata": {},
   "outputs": [
    {
     "data": {
      "text/plain": [
       "[]"
      ]
     },
     "execution_count": 29,
     "metadata": {},
     "output_type": "execute_result"
    },
    {
     "data": {
      "image/png": "[encoded data removed]",
      "text/plain": [
       "<Figure size 432x288 with 2 Axes>"
      ]
     },
     "metadata": {
      "needs_background": "light"
     },
     "output_type": "display_data"
    }
   ],
   "source": [
    "cm = confusion_matrix(y_test, y_pred, normalize='true')\n",
    "disp = ConfusionMatrixDisplay(confusion_matrix=cm, display_labels=labels)\n",
    "disp.plot()\n",
    "plt.xticks(rotation = 90)\n",
    "plt.plot()"
   ]
  },
  {
   "cell_type": "code",
   "execution_count": 30,
   "id": "328fa337",
   "metadata": {},
   "outputs": [],
   "source": [
    "random_forest_feature_importance = pd.DataFrame(\n",
    "    np.array([preprocessor.get_feature_names_out(), clf.feature_importances_]).T,\n",
    "                                               columns=['Feature', 'Importance'])\n",
    "random_forest_feature_importance = random_forest_feature_importance.sort_values(by=['Importance'], ascending=False)"
   ]
  },
  {
   "cell_type": "code",
   "execution_count": 31,
   "id": "54dc0572",
   "metadata": {},
   "outputs": [
    {
     "data": {
      "text/plain": [
       "[]"
      ]
     },
     "execution_count": 31,
     "metadata": {},
     "output_type": "execute_result"
    },
    {
     "data": {
      "image/png": "[encoded data removed]",
      "text/plain": [
       "<Figure size 1440x720 with 1 Axes>"
      ]
     },
     "metadata": {
      "needs_background": "light"
     },
     "output_type": "display_data"
    }
   ],
   "source": [
    "ax = random_forest_feature_importance.plot(kind='bar', figsize=(20,10))\n",
    "ax.set_xticklabels(random_forest_feature_importance.Feature)\n",
    "plt.plot()"
   ]
  },
  {
   "cell_type": "markdown",
   "id": "24e1e168",
   "metadata": {},
   "source": [
    "## Hyperparameter tuning"
   ]
  },
  {
   "cell_type": "code",
   "execution_count": 18,
   "id": "653ca696",
   "metadata": {},
   "outputs": [],
   "source": [
    "# Metrics for hyperparameter tuning\n",
    "metrics = {\"Accuracy\": \"accuracy\",\n",
    "          \"Balanced accuracy\": \"balanced_accuracy\",\n",
    "          \"F1 score\": \"f1_weighted\"}"
   ]
  },
  {
   "cell_type": "code",
   "execution_count": 19,
   "id": "55786020",
   "metadata": {},
   "outputs": [],
   "source": [
    "# Parameter space\n",
    "parameters = {\"n_estimators\": [10,20,50,100,150,200],\n",
    "             \"criterion\": [\"gini\", \"entropy\"],\n",
    "             \"max_depth\": [10,30,50,70],\n",
    "             \"min_samples_split\": [2,10,20],\n",
    "             }"
   ]
  },
  {
   "cell_type": "code",
   "execution_count": 20,
   "id": "2617386c",
   "metadata": {},
   "outputs": [
    {
     "name": "stdout",
     "output_type": "stream",
     "text": [
      "Fitting 2 folds for each of 144 candidates, totalling 288 fits\n"
     ]
    },
    {
     "name": "stderr",
     "output_type": "stream",
     "text": [
      "\n",
      "KeyboardInterrupt\n",
      "\n"
     ]
    }
   ],
   "source": [
    "random_forest = RandomForestClassifier()\n",
    "clf = GridSearchCV(estimator=random_forest, \n",
    "                   param_grid=parameters,\n",
    "                  scoring=metrics,\n",
    "                  refit=\"Accuracy\",\n",
    "                  return_train_score=True,\n",
    "                  n_jobs=-1,\n",
    "                  cv=2,\n",
    "                  verbose=4)\n",
    "\n",
    "clf.fit(X_train, y_train)"
   ]
  },
  {
   "cell_type": "code",
   "execution_count": null,
   "id": "04e3941d",
   "metadata": {},
   "outputs": [],
   "source": [
    "clf"
   ]
  },
  {
   "cell_type": "code",
   "execution_count": null,
   "id": "36b8dc1c",
   "metadata": {},
   "outputs": [],
   "source": [
    "y_pred = clf.predict(X_test)\n",
    "print(classification_report(y_test, y_pred, target_names=labels, digits=4))"
   ]
  },
  {
   "cell_type": "markdown",
   "id": "08062e81",
   "metadata": {},
   "source": [
    "# XGboost"
   ]
  },
  {
   "cell_type": "code",
   "execution_count": 21,
   "id": "474e6bb3",
   "metadata": {},
   "outputs": [
    {
     "name": "stdout",
     "output_type": "stream",
     "text": [
      "[22:27:13] WARNING: C:/Users/Administrator/workspace/xgboost-win64_release_1.5.1/src/learner.cc:1115: Starting in XGBoost 1.3.0, the default evaluation metric used with the objective 'binary:logistic' was changed from 'error' to 'logloss'. Explicitly set eval_metric if you'd like to restore the old behavior.\n",
      "[0]\tvalidation_0-logloss:0.57305\n",
      "[1]\tvalidation_0-logloss:0.50193\n",
      "[2]\tvalidation_0-logloss:0.45737\n",
      "[3]\tvalidation_0-logloss:0.42595\n",
      "[4]\tvalidation_0-logloss:0.40380\n",
      "[5]\tvalidation_0-logloss:0.38748\n",
      "[6]\tvalidation_0-logloss:0.37847\n",
      "[7]\tvalidation_0-logloss:0.37092\n",
      "[8]\tvalidation_0-logloss:0.36227\n",
      "[9]\tvalidation_0-logloss:0.35856\n",
      "[10]\tvalidation_0-logloss:0.35600\n",
      "[11]\tvalidation_0-logloss:0.35167\n",
      "[12]\tvalidation_0-logloss:0.35058\n",
      "[13]\tvalidation_0-logloss:0.34762\n",
      "[14]\tvalidation_0-logloss:0.34438\n",
      "[15]\tvalidation_0-logloss:0.34456\n",
      "[16]\tvalidation_0-logloss:0.34222\n",
      "[17]\tvalidation_0-logloss:0.34156\n",
      "[18]\tvalidation_0-logloss:0.34196\n",
      "[19]\tvalidation_0-logloss:0.34116\n",
      "[20]\tvalidation_0-logloss:0.33895\n",
      "[21]\tvalidation_0-logloss:0.33705\n",
      "[22]\tvalidation_0-logloss:0.33643\n",
      "[23]\tvalidation_0-logloss:0.33539\n",
      "[24]\tvalidation_0-logloss:0.33526\n",
      "[25]\tvalidation_0-logloss:0.33614\n",
      "[26]\tvalidation_0-logloss:0.33633\n",
      "[27]\tvalidation_0-logloss:0.33613\n",
      "[28]\tvalidation_0-logloss:0.33623\n",
      "[29]\tvalidation_0-logloss:0.33713\n",
      "[30]\tvalidation_0-logloss:0.33713\n",
      "[31]\tvalidation_0-logloss:0.33690\n",
      "[32]\tvalidation_0-logloss:0.33726\n",
      "[33]\tvalidation_0-logloss:0.33516\n",
      "[34]\tvalidation_0-logloss:0.33526\n",
      "[35]\tvalidation_0-logloss:0.33568\n",
      "[36]\tvalidation_0-logloss:0.33603\n",
      "[37]\tvalidation_0-logloss:0.33619\n",
      "[38]\tvalidation_0-logloss:0.33594\n",
      "[39]\tvalidation_0-logloss:0.33548\n",
      "[40]\tvalidation_0-logloss:0.33608\n",
      "[41]\tvalidation_0-logloss:0.33629\n",
      "[42]\tvalidation_0-logloss:0.33640\n"
     ]
    },
    {
     "data": {
      "text/plain": [
       "XGBClassifier(base_score=0.5, booster='gbtree', colsample_bylevel=1,\n",
       "              colsample_bynode=1, colsample_bytree=1, enable_categorical=False,\n",
       "              gamma=0, gpu_id=-1, importance_type=None,\n",
       "              interaction_constraints='', learning_rate=0.300000012,\n",
       "              max_delta_step=0, max_depth=7, min_child_weight=1, missing=nan,\n",
       "              monotone_constraints='()', n_estimators=100, n_jobs=8,\n",
       "              num_parallel_tree=1, predictor='auto', random_state=0,\n",
       "              reg_alpha=0, reg_lambda=1, scale_pos_weight=1, subsample=1,\n",
       "              tree_method='exact', use_label_encoder=False,\n",
       "              validate_parameters=1, verbosity=None)"
      ]
     },
     "execution_count": 21,
     "metadata": {},
     "output_type": "execute_result"
    }
   ],
   "source": [
    "model = XGBClassifier(use_label_encoder=False, max_depth=7)\n",
    "model.fit(X_train, y_train, early_stopping_rounds=10, eval_set=[(X_test, y_test)], verbose=True)"
   ]
  },
  {
   "cell_type": "code",
   "execution_count": null,
   "id": "de42e931",
   "metadata": {},
   "outputs": [],
   "source": []
  },
  {
   "cell_type": "code",
   "execution_count": 22,
   "id": "ec769968",
   "metadata": {},
   "outputs": [
    {
     "name": "stdout",
     "output_type": "stream",
     "text": [
      "                     precision    recall  f1-score   support\n",
      "\n",
      "            non-SFG     0.8044    0.7065    0.7523      1642\n",
      "star-forming galaxy     0.8757    0.9233    0.8989      3677\n",
      "\n",
      "           accuracy                         0.8564      5319\n",
      "          macro avg     0.8401    0.8149    0.8256      5319\n",
      "       weighted avg     0.8537    0.8564    0.8536      5319\n",
      "\n"
     ]
    }
   ],
   "source": [
    "y_pred = model.predict(X_test)\n",
    "print(classification_report(y_test, y_pred, target_names=labels, digits=4))"
   ]
  },
  {
   "cell_type": "code",
   "execution_count": 23,
   "id": "e43795df",
   "metadata": {},
   "outputs": [
    {
     "data": {
      "text/plain": [
       "[]"
      ]
     },
     "execution_count": 23,
     "metadata": {},
     "output_type": "execute_result"
    },
    {
     "data": {
      "image/png": "[encoded data removed]",
      "text/plain": [
       "<Figure size 432x288 with 2 Axes>"
      ]
     },
     "metadata": {
      "needs_background": "light"
     },
     "output_type": "display_data"
    }
   ],
   "source": [
    "cm = confusion_matrix(y_test, y_pred, normalize='true')\n",
    "disp = ConfusionMatrixDisplay(confusion_matrix=cm, display_labels=labels)\n",
    "disp.plot()\n",
    "plt.xticks(rotation = 90)\n",
    "plt.plot()"
   ]
  },
  {
   "cell_type": "markdown",
   "id": "8bc9dae8",
   "metadata": {},
   "source": [
    "# SVM"
   ]
  },
  {
   "cell_type": "code",
   "execution_count": 24,
   "id": "ade3195d",
   "metadata": {},
   "outputs": [
    {
     "data": {
      "text/plain": [
       "SVC(kernel='sigmoid')"
      ]
     },
     "execution_count": 24,
     "metadata": {},
     "output_type": "execute_result"
    }
   ],
   "source": [
    "clf = svm.SVC(kernel=\"sigmoid\")\n",
    "clf.fit(X_train, y_train)"
   ]
  },
  {
   "cell_type": "code",
   "execution_count": 25,
   "id": "7c73c724",
   "metadata": {},
   "outputs": [
    {
     "name": "stdout",
     "output_type": "stream",
     "text": [
      "                     precision    recall  f1-score   support\n",
      "\n",
      "            non-SFG     0.4367    0.4245    0.4305      1642\n",
      "star-forming galaxy     0.7462    0.7555    0.7508      3677\n",
      "\n",
      "           accuracy                         0.6533      5319\n",
      "          macro avg     0.5914    0.5900    0.5907      5319\n",
      "       weighted avg     0.6506    0.6533    0.6519      5319\n",
      "\n"
     ]
    }
   ],
   "source": [
    "y_pred = clf.predict(X_test)\n",
    "print(classification_report(y_test, y_pred, target_names=labels, digits=4))"
   ]
  },
  {
   "cell_type": "code",
   "execution_count": 26,
   "id": "9c365c3c",
   "metadata": {},
   "outputs": [
    {
     "data": {
      "text/plain": [
       "[]"
      ]
     },
     "execution_count": 26,
     "metadata": {},
     "output_type": "execute_result"
    },
    {
     "data": {
      "image/png": "[encoded data removed]",
      "text/plain": [
       "<Figure size 432x288 with 2 Axes>"
      ]
     },
     "metadata": {
      "needs_background": "light"
     },
     "output_type": "display_data"
    }
   ],
   "source": [
    "cm = confusion_matrix(y_test, y_pred, normalize='true')\n",
    "disp = ConfusionMatrixDisplay(confusion_matrix=cm, display_labels=labels)\n",
    "disp.plot()\n",
    "plt.xticks(rotation = 90)\n",
    "plt.plot()"
   ]
  },
  {
   "cell_type": "markdown",
   "id": "28cb844a",
   "metadata": {},
   "source": [
    "# DNN"
   ]
  },
  {
   "cell_type": "code",
   "execution_count": null,
   "id": "137c8cdf",
   "metadata": {},
   "outputs": [],
   "source": []
  },
  {
   "cell_type": "code",
   "execution_count": null,
   "id": "5f2c4233",
   "metadata": {},
   "outputs": [],
   "source": []
  },
  {
   "cell_type": "code",
   "execution_count": null,
   "id": "cfe2a8e8",
   "metadata": {},
   "outputs": [],
   "source": []
  },
  {
   "cell_type": "code",
   "execution_count": null,
   "id": "4aad379d",
   "metadata": {},
   "outputs": [],
   "source": []
  },
  {
   "cell_type": "code",
   "execution_count": null,
   "id": "37e9c433",
   "metadata": {},
   "outputs": [],
   "source": []
  },
  {
   "cell_type": "code",
   "execution_count": null,
   "id": "b46e30c9",
   "metadata": {},
   "outputs": [],
   "source": []
  }
 ],
 "metadata": {
  "kernelspec": {
   "display_name": "Python 3",
   "language": "python",
   "name": "python3"
  },
  "language_info": {
   "codemirror_mode": {
    "name": "ipython",
    "version": 3
   },
   "file_extension": ".py",
   "mimetype": "text/x-python",
   "name": "python",
   "nbconvert_exporter": "python",
   "pygments_lexer": "ipython3",
   "version": "3.8.1"
  }
 },
 "nbformat": 4,
 "nbformat_minor": 5
}
