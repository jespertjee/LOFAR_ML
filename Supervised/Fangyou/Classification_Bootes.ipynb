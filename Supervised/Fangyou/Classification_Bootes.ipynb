{
 "cells": [
  {
   "cell_type": "code",
   "execution_count": 1,
   "id": "f778d060",
   "metadata": {},
   "outputs": [
    {
     "name": "stderr",
     "output_type": "stream",
     "text": [
      "d:\\python\\python38\\lib\\site-packages\\xgboost\\compat.py:36: FutureWarning: pandas.Int64Index is deprecated and will be removed from pandas in a future version. Use pandas.Index with the appropriate dtype instead.\n",
      "  from pandas import MultiIndex, Int64Index\n"
     ]
    }
   ],
   "source": [
    "import pandas as pd\n",
    "import numpy as np\n",
    "\n",
    "from sklearn.ensemble import RandomForestClassifier\n",
    "from sklearn.metrics import accuracy_score, classification_report\n",
    "from sklearn.model_selection import train_test_split\n",
    "from sklearn.preprocessing import StandardScaler, OneHotEncoder\n",
    "from sklearn.impute import SimpleImputer\n",
    "from sklearn.pipeline import make_pipeline\n",
    "from sklearn.compose import make_column_transformer\n",
    "from sklearn import preprocessing\n",
    "from sklearn.linear_model import LinearRegression\n",
    "from sklearn.metrics import confusion_matrix, ConfusionMatrixDisplay\n",
    "from sklearn import svm\n",
    "\n",
    "import matplotlib.pyplot as plt\n",
    "\n",
    "from xgboost import XGBClassifier\n",
    "\n",
    "\n",
    "# Necessary to get names out\n",
    "SimpleImputer.get_feature_names_out = (lambda self, names=None:\n",
    "                                       self.feature_names_in_)"
   ]
  },
  {
   "cell_type": "code",
   "execution_count": null,
   "id": "8fc264e6",
   "metadata": {},
   "outputs": [],
   "source": []
  },
  {
   "cell_type": "code",
   "execution_count": 59,
   "id": "4a56eab6",
   "metadata": {},
   "outputs": [],
   "source": [
    "features_num = [\n",
    "    \"Z_BEST\", \"z1_median\", \"u_f\", \"u_e\", \"u_e_raw\", \"Bw_f\", \"Bw_e\", \"Bw_e_raw\", \"R_f\", \"R_e\", \n",
    "    \"R_e_raw\", \"I_f\", \"I_e\", \"I_e_raw\", \"z_f\", \"z_e\", \"z_e_raw\", \"z_Subaru_f\", \"z_Subaru_e\", \n",
    "    \"z_Subaru_e_raw\", \"y_f\", \"y_e\", \"y_e_raw\", \"J_f\", \"J_e\", \"J_e_raw\", \"H_f\", \n",
    "    \"H_e\", \"H_e_raw\", \"K_f\", \"K_e\", \"K_e_raw\", \"Ks_f\", \"Ks_e\", \"Ks_e_raw\", \"ch1_f\", \"ch1_e\", \"ch1_e_raw\", \"ch2_f\", \n",
    "    \"ch2_e\", \"ch2_e_raw\", \"ch3_f\", \"ch3_e\", \"ch3_e_raw\", \"ch4_f\", \"ch4_e\", \"ch4_e_raw\", \"MIPS_24_f\", \n",
    "    \"MIPS_24_e\", \"MIPS_24_e_raw\", \"PACS_100_f\", \"PACS_100_e\", \"PACS_100_e_raw\", \"PACS_160_f\", \"PACS_160_e\", \n",
    "    \"PACS_160_e_raw\", \"SPIRE_250_f\", \"SPIRE_250_e\", \"SPIRE_250_e_raw\", \"SPIRE_350_f\", \"SPIRE_350_e\", \"SPIRE_350_e_raw\", \n",
    "    \"SPIRE_500_f\", \"SPIRE_500_e\", \"SPIRE_500_e_raw\"\n",
    "\n",
    "]\n",
    "features_cat = [\n",
    "    \"FLAG_DEEP\", \"FLAG_OVERLAP\", \"XID+_rerun_mips\", \"XID+_rerun_pacs\", \"XID+_rerun_SPIRE\", \"CHANGE_FLAG_ID\", \n",
    "    \"CHANGE_FLAG_ZBEST\", \"CHANGE_FLAG_DEEP\", \"CHANGE_FLAG_FIR\", \"FLAG_GOOD\"\n",
    "]\n",
    "features_drop = [\n",
    "    \"Source_Name\"\n",
    "]\n",
    "y_column = \"Classification\"\n",
    "\n",
    "classes = ['jet-mode radio AGN/low-excitation radio galaxy', 'quasar-like radio AGN / high-excitation radio galaxy', \n",
    "           'radio-quiet AGN', 'star-forming galaxy']"
   ]
  },
  {
   "cell_type": "code",
   "execution_count": 69,
   "id": "e08acf9d",
   "metadata": {},
   "outputs": [],
   "source": [
    "imp_mean_num = SimpleImputer()\n",
    "imp_median_cat = SimpleImputer(strategy=\"most_frequent\")"
   ]
  },
  {
   "cell_type": "code",
   "execution_count": 70,
   "id": "ef699324",
   "metadata": {},
   "outputs": [],
   "source": [
    "data = pd.read_csv(\"../../Data/Fangyou_data/Cleaned/Bootes_clean.csv\")"
   ]
  },
  {
   "cell_type": "code",
   "execution_count": 71,
   "id": "8d82d1ee",
   "metadata": {},
   "outputs": [],
   "source": [
    "# Dropping required columns\n",
    "X = data.drop(columns=features_drop)\n",
    "X = X.drop(columns=y_column)\n",
    "y = data[y_column]\n",
    "\n",
    "# Transforming y to labels\n",
    "le = preprocessing.LabelEncoder()\n",
    "labels = np.unique(y)\n",
    "y = le.fit_transform(y)\n",
    "\n",
    "# Creating training and testing set\n",
    "X_train, X_test, y_train, y_test = train_test_split(X, y, train_size=0.7)"
   ]
  },
  {
   "cell_type": "code",
   "execution_count": 72,
   "id": "69964fa7",
   "metadata": {},
   "outputs": [],
   "source": [
    "# filling missing values for each class respectively\n",
    "for classification in classes:\n",
    "    condition = data['Classification'] == classification\n",
    "    \n",
    "    # Making sure we dont accidently train even the imputer to the test set\n",
    "    X_train.loc[condition, features_num] = imp_mean_num.fit_transform(X_train.loc[condition, features_num])\n",
    "    X_train.loc[condition, features_cat] = imp_median_cat.fit_transform(X_train.loc[condition, features_cat])\n",
    "    \n",
    "    # Note the difference, not fitting, just transforming\n",
    "    X_test.loc[condition, features_num] = imp_mean_num.transform(X_test.loc[condition, features_num])\n",
    "    X_test.loc[condition, features_cat] = imp_median_cat.transform(X_test.loc[condition, features_cat])"
   ]
  },
  {
   "cell_type": "code",
   "execution_count": 82,
   "id": "21716749",
   "metadata": {},
   "outputs": [
    {
     "data": {
      "text/plain": [
       "RandomForestClassifier(n_estimators=50)"
      ]
     },
     "execution_count": 82,
     "metadata": {},
     "output_type": "execute_result"
    }
   ],
   "source": [
    "clf = RandomForestClassifier(n_estimators=50, class_weight=None)\n",
    "clf.fit(X_train, y_train)"
   ]
  },
  {
   "cell_type": "code",
   "execution_count": 83,
   "id": "6d92cba4",
   "metadata": {},
   "outputs": [
    {
     "name": "stdout",
     "output_type": "stream",
     "text": [
      "                                                      precision    recall  f1-score   support\n",
      "\n",
      "      jet-mode radio AGN/low-excitation radio galaxy     0.9373    0.8233    0.8766       962\n",
      "quasar-like radio AGN / high-excitation radio galaxy     0.9394    0.2562    0.4026       121\n",
      "                                     radio-quiet AGN     0.8447    0.7542    0.7969       541\n",
      "                                 star-forming galaxy     0.9179    0.9832    0.9494      3695\n",
      "\n",
      "                                            accuracy                         0.9145      5319\n",
      "                                           macro avg     0.9098    0.7042    0.7564      5319\n",
      "                                        weighted avg     0.9144    0.9145    0.9083      5319\n",
      "\n"
     ]
    }
   ],
   "source": [
    "y_pred = clf.predict(X_test)\n",
    "print(classification_report(y_test, y_pred, target_names=labels, digits=4))"
   ]
  },
  {
   "cell_type": "code",
   "execution_count": 84,
   "id": "a9100a8e",
   "metadata": {},
   "outputs": [
    {
     "data": {
      "text/plain": [
       "[]"
      ]
     },
     "execution_count": 84,
     "metadata": {},
     "output_type": "execute_result"
    },
    {
     "data": {
      "image/png": "[encoded data removed]",
      "text/plain": [
       "<Figure size 432x288 with 2 Axes>"
      ]
     },
     "metadata": {
      "needs_background": "light"
     },
     "output_type": "display_data"
    }
   ],
   "source": [
    "cm = confusion_matrix(y_test, y_pred, normalize='true')\n",
    "disp = ConfusionMatrixDisplay(confusion_matrix=cm, display_labels=labels)\n",
    "disp.plot()\n",
    "plt.xticks(rotation = 90)\n",
    "plt.plot()"
   ]
  },
  {
   "cell_type": "code",
   "execution_count": 85,
   "id": "a8307bfd",
   "metadata": {},
   "outputs": [
    {
     "ename": "NameError",
     "evalue": "name 'preprocessor' is not defined",
     "output_type": "error",
     "traceback": [
      "\u001b[1;31m---------------------------------------------------------------------------\u001b[0m",
      "\u001b[1;31mNameError\u001b[0m                                 Traceback (most recent call last)",
      "Input \u001b[1;32mIn [85]\u001b[0m, in \u001b[0;36m<cell line: 1>\u001b[1;34m()\u001b[0m\n\u001b[0;32m      1\u001b[0m random_forest_feature_importance \u001b[38;5;241m=\u001b[39m pd\u001b[38;5;241m.\u001b[39mDataFrame(\n\u001b[1;32m----> 2\u001b[0m     np\u001b[38;5;241m.\u001b[39marray([\u001b[43mpreprocessor\u001b[49m\u001b[38;5;241m.\u001b[39mget_feature_names_out(), clf\u001b[38;5;241m.\u001b[39mfeature_importances_])\u001b[38;5;241m.\u001b[39mT,\n\u001b[0;32m      3\u001b[0m                                                columns\u001b[38;5;241m=\u001b[39m[\u001b[38;5;124m'\u001b[39m\u001b[38;5;124mFeature\u001b[39m\u001b[38;5;124m'\u001b[39m, \u001b[38;5;124m'\u001b[39m\u001b[38;5;124mImportance\u001b[39m\u001b[38;5;124m'\u001b[39m])\n\u001b[0;32m      4\u001b[0m random_forest_feature_importance \u001b[38;5;241m=\u001b[39m random_forest_feature_importance\u001b[38;5;241m.\u001b[39msort_values(by\u001b[38;5;241m=\u001b[39m[\u001b[38;5;124m'\u001b[39m\u001b[38;5;124mImportance\u001b[39m\u001b[38;5;124m'\u001b[39m], ascending\u001b[38;5;241m=\u001b[39m\u001b[38;5;28;01mFalse\u001b[39;00m)\n",
      "\u001b[1;31mNameError\u001b[0m: name 'preprocessor' is not defined"
     ]
    }
   ],
   "source": [
    "random_forest_feature_importance = pd.DataFrame(\n",
    "    np.array([preprocessor.get_feature_names_out(), clf.feature_importances_]).T,\n",
    "                                               columns=['Feature', 'Importance'])\n",
    "random_forest_feature_importance = random_forest_feature_importance.sort_values(by=['Importance'], ascending=False)"
   ]
  },
  {
   "cell_type": "code",
   "execution_count": null,
   "id": "f63e9286",
   "metadata": {},
   "outputs": [],
   "source": []
  }
 ],
 "metadata": {
  "kernelspec": {
   "display_name": "Python 3",
   "language": "python",
   "name": "python3"
  },
  "language_info": {
   "codemirror_mode": {
    "name": "ipython",
    "version": 3
   },
   "file_extension": ".py",
   "mimetype": "text/x-python",
   "name": "python",
   "nbconvert_exporter": "python",
   "pygments_lexer": "ipython3",
   "version": "3.8.1"
  }
 },
 "nbformat": 4,
 "nbformat_minor": 5
}
