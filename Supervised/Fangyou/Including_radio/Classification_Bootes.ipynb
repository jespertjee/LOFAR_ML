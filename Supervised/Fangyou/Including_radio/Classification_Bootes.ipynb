{
 "cells": [
  {
   "cell_type": "code",
   "execution_count": 121,
   "id": "7009f7f5",
   "metadata": {},
   "outputs": [],
   "source": [
    "import pandas as pd\n",
    "import numpy as np\n",
    "\n",
    "from sklearn.ensemble import RandomForestClassifier\n",
    "from sklearn.metrics import accuracy_score, classification_report\n",
    "from sklearn.model_selection import train_test_split, GridSearchCV\n",
    "from sklearn.preprocessing import StandardScaler, OneHotEncoder, LabelEncoder, OrdinalEncoder\n",
    "from sklearn.impute import SimpleImputer, KNNImputer\n",
    "from sklearn.pipeline import make_pipeline\n",
    "from sklearn.compose import make_column_transformer\n",
    "from sklearn import preprocessing\n",
    "from sklearn.linear_model import LinearRegression\n",
    "from sklearn.metrics import confusion_matrix, ConfusionMatrixDisplay\n",
    "from sklearn import svm\n",
    "from sklearn.decomposition import PCA\n",
    "from sklearn.utils.class_weight import compute_class_weight\n",
    "\n",
    "import matplotlib.pyplot as plt\n",
    "\n",
    "from xgboost import XGBClassifier\n",
    "\n",
    "from sklearn.experimental import enable_iterative_imputer\n",
    "from sklearn.impute import IterativeImputer\n",
    "\n",
    "# Necessary to get names out\n",
    "SimpleImputer.get_feature_names_out = (lambda self, names=None:\n",
    "                                       self.feature_names_in_)"
   ]
  },
  {
   "cell_type": "code",
   "execution_count": null,
   "id": "2f1b79ed",
   "metadata": {},
   "outputs": [],
   "source": []
  },
  {
   "cell_type": "code",
   "execution_count": 122,
   "id": "e76c6426",
   "metadata": {},
   "outputs": [],
   "source": [
    "features_num = [\n",
    "    \"RA\", \"DEC\", \"E_RA\", \"E_DEC\", \"Total_flux\", \"E_Total_flux\", \"Peak_flux\", \n",
    "    \"E_Peak_flux\", \"Maj\", \"Min\", \"PA\", \"E_Maj\", \"E_Min\", \"E_PA\", \"DC_Maj\", \n",
    "    \"DC_Min\", \"DC_PA\", \"Isl_rms\", \"lr_fin\", \"ALPHA_J2000\", \"DELTA_J2000\", \"EBV\", \n",
    "    \"NUV_flux_corr\", \"NUV_fluxerr_corr\", \"NUV_mag_corr\", \"NUV_magerr_corr\", \n",
    "    \"u_flux_corr\", \"u_fluxerr_corr\", \"u_mag_corr\", \"u_magerr_corr\", \n",
    "    \"Bw_flux_corr\", \"Bw_fluxerr_corr\", \"Bw_mag_corr\", \"Bw_magerr_corr\", \n",
    "    \"R_flux_corr\", \"R_fluxerr_corr\", \"R_mag_corr\", \"R_magerr_corr\", \"I_flux_corr\", \n",
    "    \"I_fluxerr_corr\", \"I_mag_corr\", \"I_magerr_corr\", \"z_flux_corr\", \"z_fluxerr_corr\", \n",
    "    \"z_mag_corr\", \"z_magerr_corr\", \"z_Subaru_flux_corr\", \"z_Subaru_fluxerr_corr\", \"z_Subaru_mag_corr\", \n",
    "    \"z_Subaru_magerr_corr\", \"y_flux_corr\", \"y_fluxerr_corr\", \"y_mag_corr\", \n",
    "    \"y_magerr_corr\", \"J_flux_corr\", \"J_fluxerr_corr\", \"J_mag_corr\", \n",
    "    \"J_magerr_corr\", \"H_flux_corr\", \"H_mag_corr\", \"H_magerr_corr\", \n",
    "    \"K_flux_corr\", \"K_fluxerr_corr\", \"K_mag_corr\", \"K_magerr_corr\",  \n",
    "    \"Ks_fluxerr_corr\", \"Ks_mag_corr\", \"Ks_magerr_corr\", \"ch1_flux_corr\",  \n",
    "    \"ch1_fluxerr_corr\", \"ch1_mag_corr\", \"ch1_magerr_corr\", \"ch2_flux_corr\", \n",
    "    \"ch2_fluxerr_corr\", \"ch2_mag_corr\", \"ch3_flux_corr\", \"ch3_fluxerr_corr\", \n",
    "    \"ch3_mag_corr\", \"ch3_magerr_corr\",  \"ch4_flux_corr\", \"ch4_fluxerr_corr\",  \n",
    "    \"ch4_magerr_corr\",  \"Separation\", \"CLASS_STAR\",  \n",
    "    \"F_MIPS_24\", \"FErr_MIPS_24_u\",  \"FErr_MIPS_24_l\", \"Bkg_MIPS_24\",  \n",
    "    \"Sig_conf_MIPS_24\", \"Rhat_MIPS_24\", \"n_eff_MIPS_24\", \"Pval_res_24\",  \n",
    "    \"F_PACS_100\", \"FErr_PACS_100_u\", \"FErr_PACS_100_l\", \"F_PACS_160\",  \n",
    "    \"FErr_PACS_160_u\", \"FErr_PACS_160_l\", \"Bkg_PACS_100\", \"Bkg_PACS_160\",  \n",
    "    \"Sig_conf_PACS_100\", \"Sig_conf_PACS_160\", \"Rhat_PACS_100\", \"Rhat_PACS_160\",  \n",
    "    \"n_eff_PACS_100\",  \"n_eff_PACS_160\",  \"Pval_res_100\",  \"Pval_res_160\",  \n",
    "    \"F_SPIRE_250\",  \"FErr_SPIRE_250_u\",  \"FErr_SPIRE_250_l\", \"F_SPIRE_350\", \n",
    "    \"FErr_SPIRE_350_u\", \"FErr_SPIRE_350_l\", \"F_SPIRE_500\", \"FErr_SPIRE_500_u\", \n",
    "    \"FErr_SPIRE_500_l\", \"Bkg_SPIRE_250\", \"Bkg_SPIRE_350\", \"Bkg_SPIRE_500\", \n",
    "    \"Sig_conf_SPIRE_250\", \"Sig_conf_SPIRE_350\", \"Sig_conf_SPIRE_500\", \n",
    "    \"Rhat_SPIRE_250\", \"Rhat_SPIRE_350\", \"Rhat_SPIRE_500\", \"n_eff_SPIRE_250\", \n",
    "    \"n_eff_SPIRE_500\", \"n_eff_SPIRE_350\", \"Pval_res_250\", \"Pval_res_350\", \n",
    "    \"Pval_res_500\", \"Z_BEST\", \"Z_BEST_SOURCE\", \"Z_SPEC\", \"Z_SOURCE\", \n",
    "    \"Z_QUAL\", \"RA_ZSPEC\", \"DEC_ZSPEC\", \"REL\", \"z1_median\", \"z1_min\", \n",
    "    \"z1_max\", \"z1_area\", \"z2_median\", \"z2_min\", \"z2_max\", \"z2_area\", \n",
    "    \"nfilt_eazy\", \"nfilt_atlas\", \"nfilt_ananna\", \"chi_r_best\", \n",
    "    \"chi_r_stellar\", \"zmodel\", \"chi_best\", \"Mass_median\", \n",
    "    \"Mass_l68\", \"Mass_u68\", \"Nfilts\", \"u_rest\", \"Bw_rest\", \"R_rest\", \n",
    "    \"I_rest\", \"z_rest\", \"z_Subaru_rest\", \"y_rest\", \"J_rest\", \"H_rest\", \n",
    "    \"K_rest\", \"Ks_rest\", \"ch1_rest\", \"ch2_rest\", \"ch3_rest\", \"ch4_rest\", \n",
    "    \"XrayFlux_0.5-2\", \"XrayHardness\", 'FUV_flux_corr', 'FUV_fluxerr_corr', \n",
    "    'FUV_mag_corr', 'FUV_magerr_corr', 'H_fluxerr_corr', 'Ks_flux_corr', \n",
    "    'ch2_magerr_corr', 'ch4_mag_corr'\n",
    "\n",
    "]\n",
    "\n",
    "not_sure_columns = [\n",
    "    \"AGN\", \"optAGN\", \"IRAGN\", \"AGN_ZSPEC\", \"XrayAGN\", \"ap_to_model_z_Subaru\", \n",
    "    \"ap_to_model_err_z_Subaru\", \"ap_to_model_z\", \"ap_to_model_err_z\", \n",
    "]\n",
    "\n",
    "not_using_columns = [\n",
    "    \"AGN_final\", \"RadioAGN_final\", \"FLAG_OVERLAP_RADIO\", \"NoID\", \"optRA\", \"optDec\", \"LGZ_Size\", \"LGZ_Width\",\n",
    "    'Source_Name', 'NoID', 'optRA', 'optDec', 'LGZ_Size', 'LGZ_Width', 'LGZ_PA', \n",
    "    'Assoc', 'Assoc_Qual', 'Art_prob', 'Blend_prob', 'Hostbroken_prob', 'Imagemissing_prob', \n",
    "    'Zoom_prob', 'FLAG_DEEP', 'ID_OPTICAL', 'ID_SPITZER', 'ID', \n",
    "    'help_id', 'RA_HELP', 'DEC_HELP', 'OBJID'\n",
    "]\n",
    "    \n",
    "\n",
    "features_cat_binary = [\n",
    "    \"flag_mips_24\", \"flag_PACS_100\", \"flag_PACS_160\", \"flag_spire_250\", \n",
    "    \"flag_spire_350\", \"flag_spire_500\", \"XID+_rerun_mips\", \"XID+_rerun_pacs\", \n",
    "    \"XID+_rerun_SPIRE\", \"Position_from\", \"FLAG_OVERLAP\"\n",
    "]\n",
    "features_cat_non_binary = [\n",
    "   \"S_Code\", \"FLAG_WORKFLOW\", \"Prefilter\", \"Created\", \"flag_clean_radio\", \"flag_clean\", \"stellar_type\"\n",
    "]\n",
    "y_column = \"Classification\"\n",
    "\n",
    "classes = ['jet-mode radio AGN/low-excitation radio galaxy', 'quasar-like radio AGN / high-excitation radio galaxy', \n",
    "           'radio-quiet AGN', 'star-forming galaxy']"
   ]
  },
  {
   "cell_type": "code",
   "execution_count": null,
   "id": "2afe97fa",
   "metadata": {},
   "outputs": [],
   "source": []
  },
  {
   "cell_type": "code",
   "execution_count": 123,
   "id": "100ed971",
   "metadata": {},
   "outputs": [],
   "source": [
    "data = pd.read_csv(\"../../../Data/Fangyou_data/Cleaned/Complete_Bootes_clean.csv\")"
   ]
  },
  {
   "cell_type": "code",
   "execution_count": 124,
   "id": "7e08f442",
   "metadata": {},
   "outputs": [
    {
     "data": {
      "text/plain": [
       "<AxesSubplot:>"
      ]
     },
     "execution_count": 124,
     "metadata": {},
     "output_type": "execute_result"
    },
    {
     "data": {
      "image/png": "[encoded data removed]",
      "text/plain": [
       "<Figure size 432x288 with 1 Axes>"
      ]
     },
     "metadata": {
      "needs_background": "light"
     },
     "output_type": "display_data"
    }
   ],
   "source": [
    "# Changing infinities into nan's\n",
    "data = data.replace([np.inf,-np.inf], np.nan)\n",
    "data['Classification'].value_counts().plot(kind='bar')"
   ]
  },
  {
   "cell_type": "code",
   "execution_count": 137,
   "id": "7952f776",
   "metadata": {},
   "outputs": [],
   "source": [
    "# Finding dropped columns\n",
    "new_data = data.dropna(thresh=17000, axis=1)\n",
    "new_columns = new_data.columns\n",
    "\n",
    "dropped_columns = []\n",
    "for column in data.columns:\n",
    "    if column not in new_columns:\n",
    "        dropped_columns.append(column)"
   ]
  },
  {
   "cell_type": "code",
   "execution_count": 138,
   "id": "3f5603e5",
   "metadata": {},
   "outputs": [],
   "source": [
    "for column in dropped_columns:\n",
    "    if column in features_num:\n",
    "        features_num.remove(column)\n",
    "    elif column in features_cat_binary:\n",
    "        features_cat_binary.remove(column)\n",
    "    elif column in features_cat_non_binary:\n",
    "        features_cat_non_binary.remove(column)"
   ]
  },
  {
   "cell_type": "code",
   "execution_count": 139,
   "id": "e85cc20c",
   "metadata": {},
   "outputs": [],
   "source": [
    "data = new_data"
   ]
  },
  {
   "cell_type": "code",
   "execution_count": null,
   "id": "0bd4f645",
   "metadata": {},
   "outputs": [],
   "source": []
  },
  {
   "cell_type": "code",
   "execution_count": 140,
   "id": "e4e40871",
   "metadata": {},
   "outputs": [],
   "source": [
    "# Creating the pipeline\n",
    "transformer_num = make_pipeline(\n",
    "    SimpleImputer(strategy=\"mean\"),  # there are a few missing values\n",
    "    StandardScaler(),\n",
    ")\n",
    "# Almost all cat features are already binary, so don't have to be one-hot encoded\n",
    "transformer_cat_binary = make_pipeline(\n",
    "    SimpleImputer(strategy=\"most_frequent\"),\n",
    ")\n",
    "transformer_cat_non_binary = make_pipeline(\n",
    "    SimpleImputer(strategy=\"most_frequent\"),\n",
    "    OneHotEncoder(sparse=False, handle_unknown='ignore')\n",
    ")\n",
    "\n",
    "preprocessor = make_column_transformer(\n",
    "    (transformer_num, features_num),\n",
    "    (transformer_cat_binary, features_cat_binary),\n",
    "    (transformer_cat_non_binary, features_cat_non_binary),\n",
    ")"
   ]
  },
  {
   "cell_type": "code",
   "execution_count": 141,
   "id": "f92da17c",
   "metadata": {},
   "outputs": [],
   "source": [
    "# Dropping required columns\n",
    "X = data\n",
    "y = data[y_column]"
   ]
  },
  {
   "cell_type": "code",
   "execution_count": 142,
   "id": "ec7577c1",
   "metadata": {},
   "outputs": [],
   "source": [
    "# Manually ordinally encoding, since we cannot use get_features_names out else\n",
    "X[features_cat_binary] = OrdinalEncoder().fit_transform(X[features_cat_binary])"
   ]
  },
  {
   "cell_type": "code",
   "execution_count": 143,
   "id": "5e99b196",
   "metadata": {},
   "outputs": [],
   "source": [
    "# Transforming y to labels\n",
    "le = preprocessing.LabelEncoder()\n",
    "labels = np.unique(y)\n",
    "y = le.fit_transform(y)\n",
    "\n",
    "# Creating training and testing set\n",
    "X_train, X_test, y_train, y_test = train_test_split(X, y, train_size=0.7)"
   ]
  },
  {
   "cell_type": "code",
   "execution_count": 144,
   "id": "44fbbc51",
   "metadata": {},
   "outputs": [],
   "source": [
    "# Transforming the data, data that isn't in any of the pipelines is dropped automatically\n",
    "X_train = preprocessor.fit_transform(X_train)\n",
    "X_test = preprocessor.transform(X_test)"
   ]
  },
  {
   "cell_type": "code",
   "execution_count": 145,
   "id": "5648614e",
   "metadata": {},
   "outputs": [],
   "source": [
    "# Class weights\n",
    "class_weight = compute_class_weight(class_weight='balanced', classes=np.unique(y_train), y=y_train)"
   ]
  },
  {
   "cell_type": "markdown",
   "id": "c8db3858",
   "metadata": {},
   "source": [
    "# PCA"
   ]
  },
  {
   "cell_type": "code",
   "execution_count": null,
   "id": "9948ea48",
   "metadata": {},
   "outputs": [],
   "source": []
  },
  {
   "cell_type": "code",
   "execution_count": null,
   "id": "3988db71",
   "metadata": {},
   "outputs": [],
   "source": []
  },
  {
   "cell_type": "code",
   "execution_count": null,
   "id": "3e74e09a",
   "metadata": {},
   "outputs": [],
   "source": []
  },
  {
   "cell_type": "markdown",
   "id": "00922b7c",
   "metadata": {},
   "source": [
    "# Random forest"
   ]
  },
  {
   "cell_type": "code",
   "execution_count": null,
   "id": "1d9dd7cf",
   "metadata": {},
   "outputs": [],
   "source": []
  },
  {
   "cell_type": "code",
   "execution_count": 146,
   "id": "8bdad993",
   "metadata": {},
   "outputs": [
    {
     "data": {
      "text/plain": [
       "RandomForestClassifier(class_weight='balanced')"
      ]
     },
     "execution_count": 146,
     "metadata": {},
     "output_type": "execute_result"
    }
   ],
   "source": [
    "clf = RandomForestClassifier(n_estimators=100, class_weight=\"balanced\")\n",
    "clf.fit(X_train, y_train)"
   ]
  },
  {
   "cell_type": "code",
   "execution_count": 147,
   "id": "ad9d5306",
   "metadata": {},
   "outputs": [
    {
     "name": "stdout",
     "output_type": "stream",
     "text": [
      "                                                      precision    recall  f1-score   support\n",
      "\n",
      "      jet-mode radio AGN/low-excitation radio galaxy     0.8802    0.6115    0.7216       973\n",
      "quasar-like radio AGN / high-excitation radio galaxy     0.7692    0.1724    0.2817       116\n",
      "                                     radio-quiet AGN     0.8195    0.4776    0.6035       580\n",
      "                                 star-forming galaxy     0.8320    0.9753    0.8980      3650\n",
      "\n",
      "                                            accuracy                         0.8370      5319\n",
      "                                           macro avg     0.8252    0.5592    0.6262      5319\n",
      "                                        weighted avg     0.8381    0.8370    0.8202      5319\n",
      "\n"
     ]
    }
   ],
   "source": [
    "y_pred = clf.predict(X_test)\n",
    "print(classification_report(y_test, y_pred, target_names=labels, digits=4))"
   ]
  },
  {
   "cell_type": "code",
   "execution_count": 148,
   "id": "ec6258dc",
   "metadata": {},
   "outputs": [
    {
     "data": {
      "text/plain": [
       "[]"
      ]
     },
     "execution_count": 148,
     "metadata": {},
     "output_type": "execute_result"
    },
    {
     "data": {
      "image/png": "[encoded data removed]",
      "text/plain": [
       "<Figure size 432x288 with 2 Axes>"
      ]
     },
     "metadata": {
      "needs_background": "light"
     },
     "output_type": "display_data"
    }
   ],
   "source": [
    "cm = confusion_matrix(y_test, y_pred, normalize='true')\n",
    "disp = ConfusionMatrixDisplay(confusion_matrix=cm, display_labels=labels)\n",
    "disp.plot()\n",
    "plt.xticks(rotation = 90)\n",
    "plt.plot()"
   ]
  },
  {
   "cell_type": "code",
   "execution_count": null,
   "id": "328fa337",
   "metadata": {},
   "outputs": [],
   "source": [
    "random_forest_feature_importance = pd.DataFrame(\n",
    "    np.array([preprocessor.get_feature_names_out(), clf.feature_importances_]).T,\n",
    "                                               columns=['Feature', 'Importance'])\n",
    "random_forest_feature_importance = random_forest_feature_importance.sort_values(by=['Importance'], ascending=False)"
   ]
  },
  {
   "cell_type": "code",
   "execution_count": null,
   "id": "24abe98b",
   "metadata": {},
   "outputs": [],
   "source": []
  },
  {
   "cell_type": "code",
   "execution_count": null,
   "id": "54dc0572",
   "metadata": {},
   "outputs": [],
   "source": [
    "ax = random_forest_feature_importance.plot(kind='bar', figsize=(40,10))\n",
    "ax.set_xticklabels(random_forest_feature_importance.Feature)\n",
    "plt.plot()"
   ]
  },
  {
   "cell_type": "code",
   "execution_count": null,
   "id": "e48b85de",
   "metadata": {},
   "outputs": [],
   "source": [
    "random_forest_feature_importance[\"Cumulative\"] = np.cumsum(random_forest_feature_importance[\"Importance\"])\n",
    "random_forest_feature_importance"
   ]
  },
  {
   "cell_type": "code",
   "execution_count": null,
   "id": "55ade20c",
   "metadata": {},
   "outputs": [],
   "source": [
    "random_forest_feature_importance.iloc[0:150,2]"
   ]
  },
  {
   "cell_type": "code",
   "execution_count": null,
   "id": "cdf1dea5",
   "metadata": {},
   "outputs": [],
   "source": [
    "ax = random_forest_feature_importance['Cumulative'].plot(kind='bar', figsize=(40,10))\n",
    "ax.set_xticklabels(random_forest_feature_importance.Feature)\n",
    "plt.plot()"
   ]
  },
  {
   "cell_type": "markdown",
   "id": "24e1e168",
   "metadata": {},
   "source": [
    "## Hyperparameter tuning"
   ]
  },
  {
   "cell_type": "code",
   "execution_count": 50,
   "id": "653ca696",
   "metadata": {},
   "outputs": [],
   "source": [
    "# Metrics for hyperparameter tuning\n",
    "metrics = {\"Accuracy\": \"accuracy\",\n",
    "          \"Balanced accuracy\": \"balanced_accuracy\",\n",
    "          \"F1 score\": \"f1_weighted\"}"
   ]
  },
  {
   "cell_type": "code",
   "execution_count": 51,
   "id": "55786020",
   "metadata": {},
   "outputs": [],
   "source": [
    "# Parameter space\n",
    "parameters = {\"n_estimators\": [10,20,50,100,150,200],\n",
    "             \"criterion\": [\"gini\", \"entropy\"],\n",
    "             \"max_depth\": [10,30,50,70],\n",
    "             \"min_samples_split\": [2,10,20],\n",
    "             }"
   ]
  },
  {
   "cell_type": "code",
   "execution_count": null,
   "id": "2617386c",
   "metadata": {},
   "outputs": [
    {
     "name": "stdout",
     "output_type": "stream",
     "text": [
      "Fitting 2 folds for each of 144 candidates, totalling 288 fits\n"
     ]
    },
    {
     "name": "stderr",
     "output_type": "stream",
     "text": [
      "\n",
      "KeyboardInterrupt\n",
      "\n"
     ]
    }
   ],
   "source": [
    "random_forest = RandomForestClassifier()\n",
    "clf = GridSearchCV(estimator=random_forest, \n",
    "                   param_grid=parameters,\n",
    "                  scoring=metrics,\n",
    "                  refit=\"Accuracy\",\n",
    "                  return_train_score=True,\n",
    "                  n_jobs=-1,\n",
    "                  cv=2,\n",
    "                  verbose=4)\n",
    "\n",
    "clf.fit(X_train, y_train)"
   ]
  },
  {
   "cell_type": "code",
   "execution_count": 53,
   "id": "04e3941d",
   "metadata": {},
   "outputs": [
    {
     "data": {
      "text/plain": [
       "GridSearchCV(cv=2, estimator=RandomForestClassifier(), n_jobs=-1,\n",
       "             param_grid={'criterion': ['gini', 'entropy'],\n",
       "                         'max_depth': [10, 30, 50, 70],\n",
       "                         'min_samples_split': [2, 10, 20],\n",
       "                         'n_estimators': [10, 20, 50, 100, 150, 200]},\n",
       "             refit='Accuracy', return_train_score=True,\n",
       "             scoring={'Accuracy': 'accuracy',\n",
       "                      'Balanced accuracy': 'balanced_accuracy',\n",
       "                      'F1 score': 'f1_weighted'},\n",
       "             verbose=4)"
      ]
     },
     "execution_count": 53,
     "metadata": {},
     "output_type": "execute_result"
    }
   ],
   "source": [
    "clf"
   ]
  },
  {
   "cell_type": "code",
   "execution_count": 54,
   "id": "36b8dc1c",
   "metadata": {},
   "outputs": [
    {
     "name": "stderr",
     "output_type": "stream",
     "text": [
      "\n",
      "KeyboardInterrupt\n",
      "\n"
     ]
    }
   ],
   "source": [
    "y_pred = clf.predict(X_test)\n",
    "print(classification_report(y_test, y_pred, target_names=labels, digits=4))"
   ]
  },
  {
   "cell_type": "markdown",
   "id": "08062e81",
   "metadata": {},
   "source": [
    "# XGboost"
   ]
  },
  {
   "cell_type": "code",
   "execution_count": 32,
   "id": "474e6bb3",
   "metadata": {},
   "outputs": [
    {
     "name": "stderr",
     "output_type": "stream",
     "text": [
      "C:\\Users\\jespe\\AppData\\Local\\Packages\\PythonSoftwareFoundation.Python.3.9_qbz5n2kfra8p0\\LocalCache\\local-packages\\Python39\\site-packages\\xgboost\\sklearn.py:793: UserWarning: `early_stopping_rounds` in `fit` method is deprecated for better compatibility with scikit-learn, use `early_stopping_rounds` in constructor or`set_params` instead.\n",
      "  warnings.warn(\n"
     ]
    },
    {
     "name": "stdout",
     "output_type": "stream",
     "text": [
      "[0]\tvalidation_0-mlogloss:1.04128\n",
      "[1]\tvalidation_0-mlogloss:0.85290\n",
      "[2]\tvalidation_0-mlogloss:0.72724\n",
      "[3]\tvalidation_0-mlogloss:0.63828\n",
      "[4]\tvalidation_0-mlogloss:0.57570\n",
      "[5]\tvalidation_0-mlogloss:0.52889\n",
      "[6]\tvalidation_0-mlogloss:0.49574\n",
      "[7]\tvalidation_0-mlogloss:0.47011\n",
      "[8]\tvalidation_0-mlogloss:0.45159\n",
      "[9]\tvalidation_0-mlogloss:0.43423\n",
      "[10]\tvalidation_0-mlogloss:0.42204\n",
      "[11]\tvalidation_0-mlogloss:0.41291\n",
      "[12]\tvalidation_0-mlogloss:0.40633\n",
      "[13]\tvalidation_0-mlogloss:0.39965\n",
      "[14]\tvalidation_0-mlogloss:0.39388\n",
      "[15]\tvalidation_0-mlogloss:0.38942\n",
      "[16]\tvalidation_0-mlogloss:0.38572\n",
      "[17]\tvalidation_0-mlogloss:0.38137\n",
      "[18]\tvalidation_0-mlogloss:0.37830\n",
      "[19]\tvalidation_0-mlogloss:0.37624\n",
      "[20]\tvalidation_0-mlogloss:0.37526\n",
      "[21]\tvalidation_0-mlogloss:0.37242\n",
      "[22]\tvalidation_0-mlogloss:0.37092\n",
      "[23]\tvalidation_0-mlogloss:0.37024\n",
      "[24]\tvalidation_0-mlogloss:0.37025\n",
      "[25]\tvalidation_0-mlogloss:0.36941\n",
      "[26]\tvalidation_0-mlogloss:0.36853\n",
      "[27]\tvalidation_0-mlogloss:0.36775\n",
      "[28]\tvalidation_0-mlogloss:0.36723\n",
      "[29]\tvalidation_0-mlogloss:0.36753\n",
      "[30]\tvalidation_0-mlogloss:0.36670\n",
      "[31]\tvalidation_0-mlogloss:0.36576\n",
      "[32]\tvalidation_0-mlogloss:0.36564\n",
      "[33]\tvalidation_0-mlogloss:0.36480\n",
      "[34]\tvalidation_0-mlogloss:0.36489\n",
      "[35]\tvalidation_0-mlogloss:0.36468\n",
      "[36]\tvalidation_0-mlogloss:0.36501\n",
      "[37]\tvalidation_0-mlogloss:0.36513\n",
      "[38]\tvalidation_0-mlogloss:0.36493\n",
      "[39]\tvalidation_0-mlogloss:0.36491\n",
      "[40]\tvalidation_0-mlogloss:0.36393\n",
      "[41]\tvalidation_0-mlogloss:0.36408\n",
      "[42]\tvalidation_0-mlogloss:0.36411\n",
      "[43]\tvalidation_0-mlogloss:0.36446\n",
      "[44]\tvalidation_0-mlogloss:0.36436\n",
      "[45]\tvalidation_0-mlogloss:0.36428\n",
      "[46]\tvalidation_0-mlogloss:0.36453\n",
      "[47]\tvalidation_0-mlogloss:0.36535\n",
      "[48]\tvalidation_0-mlogloss:0.36560\n",
      "[49]\tvalidation_0-mlogloss:0.36573\n",
      "[50]\tvalidation_0-mlogloss:0.36573\n"
     ]
    },
    {
     "data": {
      "text/plain": [
       "XGBClassifier(base_score=0.5, booster='gbtree', callbacks=None,\n",
       "              colsample_bylevel=1, colsample_bynode=1, colsample_bytree=1,\n",
       "              early_stopping_rounds=None, enable_categorical=False,\n",
       "              eval_metric=None, gamma=0, gpu_id=-1, grow_policy='depthwise',\n",
       "              importance_type=None, interaction_constraints='',\n",
       "              learning_rate=0.300000012, max_bin=256, max_cat_to_onehot=4,\n",
       "              max_delta_step=0, max_depth=7, max_leaves=0, min_child_weight=1,\n",
       "              missing=nan, monotone_constraints='()', n_estimators=100,\n",
       "              n_jobs=0, num_parallel_tree=1, objective='multi:softprob',\n",
       "              predictor='auto', random_state=0, reg_alpha=0, ...)"
      ]
     },
     "execution_count": 32,
     "metadata": {},
     "output_type": "execute_result"
    }
   ],
   "source": [
    "model = XGBClassifier(use_label_encoder=False, max_depth=7)\n",
    "model.fit(X_train, y_train, early_stopping_rounds=10, eval_set=[(X_test, y_test)], verbose=True)"
   ]
  },
  {
   "cell_type": "code",
   "execution_count": null,
   "id": "de42e931",
   "metadata": {},
   "outputs": [],
   "source": []
  },
  {
   "cell_type": "code",
   "execution_count": 33,
   "id": "ec769968",
   "metadata": {},
   "outputs": [
    {
     "name": "stdout",
     "output_type": "stream",
     "text": [
      "                                                      precision    recall  f1-score   support\n",
      "\n",
      "      jet-mode radio AGN/low-excitation radio galaxy     0.8677    0.7077    0.7796       992\n",
      "quasar-like radio AGN / high-excitation radio galaxy     0.7255    0.3217    0.4458       115\n",
      "                                     radio-quiet AGN     0.7780    0.6333    0.6983       570\n",
      "                                 star-forming galaxy     0.8746    0.9594    0.9150      3642\n",
      "\n",
      "                                            accuracy                         0.8637      5319\n",
      "                                           macro avg     0.8115    0.6555    0.7097      5319\n",
      "                                        weighted avg     0.8597    0.8637    0.8564      5319\n",
      "\n"
     ]
    }
   ],
   "source": [
    "y_pred = model.predict(X_test)\n",
    "print(classification_report(y_test, y_pred, target_names=labels, digits=4))"
   ]
  },
  {
   "cell_type": "code",
   "execution_count": 34,
   "id": "e43795df",
   "metadata": {},
   "outputs": [
    {
     "data": {
      "text/plain": [
       "[]"
      ]
     },
     "execution_count": 34,
     "metadata": {},
     "output_type": "execute_result"
    },
    {
     "data": {
      "image/png": "[encoded data removed]",
      "text/plain": [
       "<Figure size 432x288 with 2 Axes>"
      ]
     },
     "metadata": {
      "needs_background": "light"
     },
     "output_type": "display_data"
    }
   ],
   "source": [
    "cm = confusion_matrix(y_test, y_pred, normalize='true')\n",
    "disp = ConfusionMatrixDisplay(confusion_matrix=cm, display_labels=labels)\n",
    "disp.plot()\n",
    "plt.xticks(rotation = 90)\n",
    "plt.plot()"
   ]
  },
  {
   "cell_type": "markdown",
   "id": "8bc9dae8",
   "metadata": {},
   "source": [
    "# SVM"
   ]
  },
  {
   "cell_type": "code",
   "execution_count": 136,
   "id": "ade3195d",
   "metadata": {},
   "outputs": [
    {
     "data": {
      "text/plain": [
       "SVC()"
      ]
     },
     "execution_count": 136,
     "metadata": {},
     "output_type": "execute_result"
    }
   ],
   "source": [
    "clf = svm.SVC()\n",
    "clf.fit(X_train, y_train)"
   ]
  },
  {
   "cell_type": "code",
   "execution_count": 137,
   "id": "7c73c724",
   "metadata": {},
   "outputs": [
    {
     "name": "stdout",
     "output_type": "stream",
     "text": [
      "                                                      precision    recall  f1-score   support\n",
      "\n",
      "      jet-mode radio AGN/low-excitation radio galaxy     0.8652    0.6405    0.7361       982\n",
      "quasar-like radio AGN / high-excitation radio galaxy     1.0000    0.0403    0.0775       124\n",
      "                                     radio-quiet AGN     0.7959    0.4333    0.5612       540\n",
      "                                 star-forming galaxy     0.8355    0.9766    0.9006      3673\n",
      "\n",
      "                                            accuracy                         0.8376      5319\n",
      "                                           macro avg     0.8742    0.5227    0.5688      5319\n",
      "                                        weighted avg     0.8408    0.8376    0.8166      5319\n",
      "\n"
     ]
    }
   ],
   "source": [
    "y_pred = clf.predict(X_test)\n",
    "print(classification_report(y_test, y_pred, target_names=labels, digits=4))"
   ]
  },
  {
   "cell_type": "code",
   "execution_count": 138,
   "id": "9c365c3c",
   "metadata": {},
   "outputs": [
    {
     "data": {
      "text/plain": [
       "[]"
      ]
     },
     "execution_count": 138,
     "metadata": {},
     "output_type": "execute_result"
    },
    {
     "data": {
      "image/png": "[encoded data removed]",
      "text/plain": [
       "<Figure size 432x288 with 2 Axes>"
      ]
     },
     "metadata": {
      "needs_background": "light"
     },
     "output_type": "display_data"
    }
   ],
   "source": [
    "cm = confusion_matrix(y_test, y_pred, normalize='true')\n",
    "disp = ConfusionMatrixDisplay(confusion_matrix=cm, display_labels=labels)\n",
    "disp.plot()\n",
    "plt.xticks(rotation = 90)\n",
    "plt.plot()"
   ]
  },
  {
   "cell_type": "code",
   "execution_count": null,
   "id": "af3ab55f",
   "metadata": {},
   "outputs": [],
   "source": []
  },
  {
   "cell_type": "code",
   "execution_count": null,
   "id": "5b0ebbf0",
   "metadata": {},
   "outputs": [],
   "source": []
  },
  {
   "cell_type": "code",
   "execution_count": null,
   "id": "df8f3ba5",
   "metadata": {},
   "outputs": [],
   "source": []
  },
  {
   "cell_type": "code",
   "execution_count": null,
   "id": "809219aa",
   "metadata": {},
   "outputs": [],
   "source": []
  }
 ],
 "metadata": {
  "kernelspec": {
   "display_name": "Python 3 (ipykernel)",
   "language": "python",
   "name": "python3"
  },
  "language_info": {
   "codemirror_mode": {
    "name": "ipython",
    "version": 3
   },
   "file_extension": ".py",
   "mimetype": "text/x-python",
   "name": "python",
   "nbconvert_exporter": "python",
   "pygments_lexer": "ipython3",
   "version": "3.9.13"
  }
 },
 "nbformat": 4,
 "nbformat_minor": 5
}
