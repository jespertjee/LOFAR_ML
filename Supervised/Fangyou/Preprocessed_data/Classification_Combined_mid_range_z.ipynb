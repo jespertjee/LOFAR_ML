{
 "cells": [
  {
   "cell_type": "code",
   "execution_count": 1,
   "id": "fca4f926",
   "metadata": {},
   "outputs": [],
   "source": [
    "import pandas as pd\n",
    "import numpy as np\n",
    "from sklearn.impute import SimpleImputer\n",
    "from sklearn.model_selection import train_test_split, GridSearchCV, cross_val_score\n",
    "from sklearn.preprocessing import StandardScaler, OneHotEncoder, LabelEncoder, OrdinalEncoder, MinMaxScaler, RobustScaler, MaxAbsScaler\n",
    "from sklearn.ensemble import RandomForestClassifier\n",
    "from sklearn.metrics import accuracy_score, classification_report\n",
    "from sklearn.decomposition import PCA\n",
    "from sklearn.utils.class_weight import compute_class_weight\n",
    "\n",
    "from sklearn.metrics import confusion_matrix, ConfusionMatrixDisplay\n",
    "import matplotlib.pyplot as plt\n",
    "\n",
    "from xgboost import XGBClassifier\n",
    "import xgboost as xgb\n",
    "\n",
    "import tensorflow as tf\n",
    "from tensorflow import keras\n",
    "from tensorflow.keras import layers\n",
    "from keras.models import Sequential\n",
    "from keras.layers import Dense"
   ]
  },
  {
   "cell_type": "code",
   "execution_count": 2,
   "id": "cbbf3730",
   "metadata": {},
   "outputs": [],
   "source": [
    "\"\"\"\n",
    "features_num = [\n",
    "    'Total_flux', 'Peak_flux', \n",
    "       'NUV_flux_corr', 'u_flux_corr', 'Bw_flux_corr', 'R_flux_corr',\n",
    "       'I_flux_corr', 'z_flux_corr', 'z_Subaru_flux_corr', 'y_flux_corr',\n",
    "       'J_flux_corr', 'H_flux_corr', 'K_flux_corr', 'Ks_flux_corr',\n",
    "       'ch1_flux_corr', 'ch2_flux_corr', 'ch3_flux_corr', 'ch4_flux_corr',\n",
    "       'F_MIPS_24', 'F_PACS_100', 'F_PACS_160', 'F_SPIRE_250', 'F_SPIRE_350',\n",
    "       'F_SPIRE_500', 'Z_BEST', 'Mass_median', 'Mass_l68', 'Mass_u68',\n",
    "        'z_rcs_flux_corr', 'z_hsc_flux_corr', 'i_hsc_flux_corr',\n",
    "       'i_rcs_flux_corr', 'i_flux_corr', 'y_hsc_flux_corr', 'r_flux_corr',\n",
    "       'r_hsc_flux_corr', 'r_rcs_flux_corr', 'ch1_swire_flux_corr',\n",
    "       'ch2_swire_flux_corr', 'ch3_swire_flux_corr', 'ch4_swire_flux_corr',\n",
    "       'ch1_servs_flux_corr', 'ch2_servs_flux_corr', 'g_flux_corr',\n",
    "       'g_hsc_flux_corr', 'nb921_hsc_flux_corr', 'g_rcs_flux_corr'\n",
    "]\n",
    "\"\"\"\n",
    "features_num = [\n",
    "    'Total_flux', 'Peak_flux', \n",
    "       'NUV_flux_corr', 'u_flux_corr', 'Bw_flux_corr', 'R_flux_corr',\n",
    "       'I_flux_corr', 'z_flux_corr', 'z_Subaru_flux_corr', 'y_flux_corr',\n",
    "       'J_flux_corr', 'H_flux_corr', 'K_flux_corr', 'Ks_flux_corr',\n",
    "       'ch1_flux_corr', 'ch2_flux_corr', 'ch3_flux_corr', 'ch4_flux_corr',\n",
    "       'F_MIPS_24', 'F_PACS_100', 'F_PACS_160', 'F_SPIRE_250', 'F_SPIRE_350',\n",
    "       'F_SPIRE_500', 'Z_BEST', \n",
    "        'z_rcs_flux_corr', 'z_hsc_flux_corr', 'i_hsc_flux_corr',\n",
    "       'i_rcs_flux_corr', 'i_flux_corr', 'y_hsc_flux_corr', 'r_flux_corr',\n",
    "       'r_hsc_flux_corr', 'r_rcs_flux_corr', 'ch1_swire_flux_corr',\n",
    "       'ch2_swire_flux_corr', 'ch3_swire_flux_corr', 'ch4_swire_flux_corr',\n",
    "       'ch1_servs_flux_corr', 'ch2_servs_flux_corr', 'g_flux_corr',\n",
    "       'g_hsc_flux_corr', 'nb921_hsc_flux_corr', 'g_rcs_flux_corr'\n",
    "]\n",
    "y_column = \"Classification\"\n",
    "\n",
    "classes = ['jet-mode radio AGN/low-excitation radio galaxy', 'quasar-like radio AGN / high-excitation radio galaxy', \n",
    "           'radio-quiet AGN', 'star-forming galaxy']"
   ]
  },
  {
   "cell_type": "code",
   "execution_count": null,
   "id": "f32f2264",
   "metadata": {},
   "outputs": [],
   "source": []
  },
  {
   "cell_type": "code",
   "execution_count": 3,
   "id": "a6906da4",
   "metadata": {},
   "outputs": [],
   "source": [
    "data = pd.read_csv(\"../../../Data/Fangyou_data/Cleaned/combined_filled_preprocessed.csv\")"
   ]
  },
  {
   "cell_type": "code",
   "execution_count": 4,
   "id": "d4521d7b",
   "metadata": {},
   "outputs": [
    {
     "data": {
      "text/plain": [
       "Index(['Source_Name', 'Total_flux', 'Peak_flux', 'S_Code', 'EBV',\n",
       "       'FUV_flux_corr', 'NUV_flux_corr', 'u_flux_corr', 'Bw_flux_corr',\n",
       "       'R_flux_corr', 'I_flux_corr', 'z_flux_corr', 'z_Subaru_flux_corr',\n",
       "       'y_flux_corr', 'J_flux_corr', 'H_flux_corr', 'K_flux_corr',\n",
       "       'Ks_flux_corr', 'ch1_flux_corr', 'ch2_flux_corr', 'ch3_flux_corr',\n",
       "       'ch4_flux_corr', 'F_MIPS_24', 'F_PACS_100', 'F_PACS_160', 'F_SPIRE_250',\n",
       "       'F_SPIRE_350', 'F_SPIRE_500', 'Z_BEST', 'Mass_median', 'Mass_l68',\n",
       "       'Mass_u68', 'Source', 'AGN_final', 'RadioAGN_final', 'Classification',\n",
       "       'Radio_excess', 'AGNfrac_af', 'AGNfrac_af_16', 'AGNfrac_cg_s_16',\n",
       "       'Xray', 'Opt_spec', 'IRAGN', 'Extended_radio', 'z_rcs_flux_corr',\n",
       "       'z_hsc_flux_corr', 'i_hsc_flux_corr', 'i_rcs_flux_corr', 'i_flux_corr',\n",
       "       'y_hsc_flux_corr', 'r_flux_corr', 'r_hsc_flux_corr', 'r_rcs_flux_corr',\n",
       "       'ch1_swire_flux_corr', 'ch2_swire_flux_corr', 'ch3_swire_flux_corr',\n",
       "       'ch4_swire_flux_corr', 'ch1_servs_flux_corr', 'ch2_servs_flux_corr',\n",
       "       'g_flux_corr', 'g_hsc_flux_corr', 'nb921_hsc_flux_corr',\n",
       "       'g_rcs_flux_corr'],\n",
       "      dtype='object')"
      ]
     },
     "execution_count": 4,
     "metadata": {},
     "output_type": "execute_result"
    }
   ],
   "source": [
    "data.columns"
   ]
  },
  {
   "cell_type": "code",
   "execution_count": 5,
   "id": "2774538d",
   "metadata": {},
   "outputs": [
    {
     "data": {
      "text/plain": [
       "Source_Name            0\n",
       "Total_flux             0\n",
       "Peak_flux              0\n",
       "S_Code                 0\n",
       "EBV                    0\n",
       "                      ..\n",
       "ch2_servs_flux_corr    0\n",
       "g_flux_corr            0\n",
       "g_hsc_flux_corr        0\n",
       "nb921_hsc_flux_corr    0\n",
       "g_rcs_flux_corr        0\n",
       "Length: 63, dtype: int64"
      ]
     },
     "execution_count": 5,
     "metadata": {},
     "output_type": "execute_result"
    }
   ],
   "source": [
    "data.isna().sum()"
   ]
  },
  {
   "cell_type": "code",
   "execution_count": 244,
   "id": "7fbd1232",
   "metadata": {},
   "outputs": [
    {
     "name": "stdout",
     "output_type": "stream",
     "text": [
      "77609\n"
     ]
    }
   ],
   "source": [
    "X = data[features_num]\n",
    "y = data[np.append(y_column, ['Xray', 'Opt_spec', 'Extended_radio', 'IRAGN'])]\n",
    "print(len(X))"
   ]
  },
  {
   "cell_type": "code",
   "execution_count": 245,
   "id": "59cd4a5b",
   "metadata": {},
   "outputs": [
    {
     "name": "stdout",
     "output_type": "stream",
     "text": [
      "10184\n"
     ]
    }
   ],
   "source": [
    "# Selectin only certain Z\n",
    "z_min = 2.5\n",
    "z_max = 5\n",
    "#filt_z = ((X['Z_BEST']>z_min) & ((X['Z_BEST']<z_max)))\n",
    "filt_z = (X['Z_BEST']>z_min)\n",
    "                                 \n",
    "X = X[filt_z]\n",
    "y = y[filt_z]   \n",
    "print(len(X))"
   ]
  },
  {
   "cell_type": "code",
   "execution_count": 246,
   "id": "bcf1526a",
   "metadata": {},
   "outputs": [
    {
     "data": {
      "text/plain": [
       "0.015"
      ]
     },
     "execution_count": 246,
     "metadata": {},
     "output_type": "execute_result"
    }
   ],
   "source": [
    "0.15*0.1"
   ]
  },
  {
   "cell_type": "code",
   "execution_count": 247,
   "id": "11cc87a3",
   "metadata": {},
   "outputs": [],
   "source": [
    "le = LabelEncoder()\n",
    "labels = np.unique(y[y_column].astype(str))\n",
    "y[y_column] = le.fit_transform(y[y_column])"
   ]
  },
  {
   "cell_type": "code",
   "execution_count": 248,
   "id": "8216a47c",
   "metadata": {},
   "outputs": [],
   "source": [
    "# Creating training and testing set\n",
    "X_train, X_test, y_train, y_test = train_test_split(X, y, train_size=0.8, random_state=42)\n",
    "\n",
    "y_train_flags = y_train[['Xray', 'Opt_spec', 'Extended_radio', 'IRAGN']]\n",
    "y_test_flags = y_test[['Xray', 'Opt_spec', 'Extended_radio', 'IRAGN']]\n",
    "\n",
    "y_train = y_train.drop(columns=['Xray', 'Opt_spec', 'Extended_radio', 'IRAGN'])\n",
    "y_test = y_test.drop(columns=['Xray', 'Opt_spec', 'Extended_radio', 'IRAGN'])"
   ]
  },
  {
   "cell_type": "code",
   "execution_count": null,
   "id": "233e39fc",
   "metadata": {},
   "outputs": [],
   "source": []
  },
  {
   "cell_type": "code",
   "execution_count": 249,
   "id": "e969635a",
   "metadata": {},
   "outputs": [],
   "source": [
    "def one_hot(df, columns):\n",
    "    \"\"\"\n",
    "    One-hot encoding a certain column in a dataframe\n",
    "    \"\"\"\n",
    "    one_hot = pd.get_dummies(df[columns])\n",
    "    df = df.drop(columns=columns, axis = 1)\n",
    "    df = df.join(one_hot)\n",
    "    return df"
   ]
  },
  {
   "cell_type": "code",
   "execution_count": 250,
   "id": "bafd882e",
   "metadata": {},
   "outputs": [],
   "source": [
    "# Standard scaling the numerical data\n",
    "scaler = MinMaxScaler()\n",
    "\n",
    "# Transforming the categorical data\n",
    "X_train[features_num] = scaler.fit_transform(X_train[features_num])\n",
    "X_test[features_num] = scaler.transform(X_test[features_num])"
   ]
  },
  {
   "cell_type": "code",
   "execution_count": 251,
   "id": "c40ac41b",
   "metadata": {},
   "outputs": [],
   "source": [
    "from sklearn.utils import class_weight\n",
    "classes_weights = class_weight.compute_sample_weight(\n",
    "    class_weight='balanced',\n",
    "    y=y_train\n",
    ")"
   ]
  },
  {
   "cell_type": "markdown",
   "id": "df7caf58",
   "metadata": {},
   "source": [
    "# Lightgbm"
   ]
  },
  {
   "cell_type": "code",
   "execution_count": 252,
   "id": "b961b7af",
   "metadata": {},
   "outputs": [],
   "source": [
    "import lightgbm as lgb\n",
    "lightbm = lgb.LGBMClassifier(num_class=4, \n",
    "                             objective=\"multiclass\",  \n",
    "                             n_estimators=10000, \n",
    "                             class_weight=\"balanced\",\n",
    "                            early_stopping_round=50,\n",
    "                            eta=0.3,\n",
    "                            #verbose=-1,\n",
    "                            max_depth=9,\n",
    "                            num_leaves=150\n",
    "                            #min_data_in_leaf=0\n",
    "                            )"
   ]
  },
  {
   "cell_type": "code",
   "execution_count": 253,
   "id": "93d356ad",
   "metadata": {},
   "outputs": [
    {
     "data": {
      "text/plain": [
       "256"
      ]
     },
     "execution_count": 253,
     "metadata": {},
     "output_type": "execute_result"
    }
   ],
   "source": [
    "2**8"
   ]
  },
  {
   "cell_type": "code",
   "execution_count": 254,
   "id": "9d640b77",
   "metadata": {},
   "outputs": [
    {
     "name": "stderr",
     "output_type": "stream",
     "text": [
      "C:\\Users\\jespe\\AppData\\Local\\Packages\\PythonSoftwareFoundation.Python.3.9_qbz5n2kfra8p0\\LocalCache\\local-packages\\Python39\\site-packages\\sklearn\\preprocessing\\_label.py:98: DataConversionWarning: A column-vector y was passed when a 1d array was expected. Please change the shape of y to (n_samples, ), for example using ravel().\n",
      "  y = column_or_1d(y, warn=True)\n",
      "C:\\Users\\jespe\\AppData\\Local\\Packages\\PythonSoftwareFoundation.Python.3.9_qbz5n2kfra8p0\\LocalCache\\local-packages\\Python39\\site-packages\\sklearn\\preprocessing\\_label.py:133: DataConversionWarning: A column-vector y was passed when a 1d array was expected. Please change the shape of y to (n_samples, ), for example using ravel().\n",
      "  y = column_or_1d(y, warn=True)\n"
     ]
    },
    {
     "name": "stdout",
     "output_type": "stream",
     "text": [
      "[1]\ttraining's multi_logloss: 0.57688\tvalid_0's multi_logloss: 2.0927\n",
      "[2]\ttraining's multi_logloss: 0.482983\tvalid_0's multi_logloss: 1.82563\n",
      "[3]\ttraining's multi_logloss: 0.417327\tvalid_0's multi_logloss: 1.65386\n",
      "[4]\ttraining's multi_logloss: 0.364949\tvalid_0's multi_logloss: 1.51766\n",
      "[5]\ttraining's multi_logloss: 0.322369\tvalid_0's multi_logloss: 1.41422\n",
      "[6]\ttraining's multi_logloss: 0.28765\tvalid_0's multi_logloss: 1.32836\n",
      "[7]\ttraining's multi_logloss: 0.258658\tvalid_0's multi_logloss: 1.25946\n",
      "[8]\ttraining's multi_logloss: 0.233242\tvalid_0's multi_logloss: 1.197\n",
      "[9]\ttraining's multi_logloss: 0.211178\tvalid_0's multi_logloss: 1.14732\n",
      "[10]\ttraining's multi_logloss: 0.192492\tvalid_0's multi_logloss: 1.10457\n",
      "[11]\ttraining's multi_logloss: 0.175009\tvalid_0's multi_logloss: 1.06197\n",
      "[12]\ttraining's multi_logloss: 0.160081\tvalid_0's multi_logloss: 1.02563\n",
      "[13]\ttraining's multi_logloss: 0.146611\tvalid_0's multi_logloss: 0.99449\n",
      "[14]\ttraining's multi_logloss: 0.135067\tvalid_0's multi_logloss: 0.968964\n",
      "[15]\ttraining's multi_logloss: 0.12433\tvalid_0's multi_logloss: 0.943581\n",
      "[16]\ttraining's multi_logloss: 0.114927\tvalid_0's multi_logloss: 0.919491\n",
      "[17]\ttraining's multi_logloss: 0.106395\tvalid_0's multi_logloss: 0.897423\n",
      "[18]\ttraining's multi_logloss: 0.0989211\tvalid_0's multi_logloss: 0.879806\n",
      "[19]\ttraining's multi_logloss: 0.0921112\tvalid_0's multi_logloss: 0.864076\n",
      "[20]\ttraining's multi_logloss: 0.0860231\tvalid_0's multi_logloss: 0.844964\n",
      "[21]\ttraining's multi_logloss: 0.0808331\tvalid_0's multi_logloss: 0.82909\n",
      "[22]\ttraining's multi_logloss: 0.0758688\tvalid_0's multi_logloss: 0.814201\n",
      "[23]\ttraining's multi_logloss: 0.071313\tvalid_0's multi_logloss: 0.801399\n",
      "[24]\ttraining's multi_logloss: 0.0677614\tvalid_0's multi_logloss: 0.789666\n",
      "[25]\ttraining's multi_logloss: 0.063862\tvalid_0's multi_logloss: 0.777713\n",
      "[26]\ttraining's multi_logloss: 0.0609364\tvalid_0's multi_logloss: 0.76753\n",
      "[27]\ttraining's multi_logloss: 0.0579156\tvalid_0's multi_logloss: 0.757107\n",
      "[28]\ttraining's multi_logloss: 0.0552456\tvalid_0's multi_logloss: 0.74915\n",
      "[29]\ttraining's multi_logloss: 0.0526136\tvalid_0's multi_logloss: 0.741144\n",
      "[30]\ttraining's multi_logloss: 0.0500409\tvalid_0's multi_logloss: 0.732791\n",
      "[31]\ttraining's multi_logloss: 0.048441\tvalid_0's multi_logloss: 0.727041\n",
      "[32]\ttraining's multi_logloss: 0.0466148\tvalid_0's multi_logloss: 0.721103\n",
      "[33]\ttraining's multi_logloss: 0.0448773\tvalid_0's multi_logloss: 0.715667\n",
      "[34]\ttraining's multi_logloss: 0.0429074\tvalid_0's multi_logloss: 0.709328\n",
      "[35]\ttraining's multi_logloss: 0.0412371\tvalid_0's multi_logloss: 0.701791\n",
      "[36]\ttraining's multi_logloss: 0.0398352\tvalid_0's multi_logloss: 0.695973\n",
      "[37]\ttraining's multi_logloss: 0.0379833\tvalid_0's multi_logloss: 0.689104\n",
      "[38]\ttraining's multi_logloss: 0.0366501\tvalid_0's multi_logloss: 0.683203\n",
      "[39]\ttraining's multi_logloss: 0.0354626\tvalid_0's multi_logloss: 0.678268\n",
      "[40]\ttraining's multi_logloss: 0.033973\tvalid_0's multi_logloss: 0.671822\n",
      "[41]\ttraining's multi_logloss: 0.0329062\tvalid_0's multi_logloss: 0.667209\n",
      "[42]\ttraining's multi_logloss: 0.0319578\tvalid_0's multi_logloss: 0.662451\n",
      "[43]\ttraining's multi_logloss: 0.0309058\tvalid_0's multi_logloss: 0.658507\n",
      "[44]\ttraining's multi_logloss: 0.0298214\tvalid_0's multi_logloss: 0.65292\n",
      "[45]\ttraining's multi_logloss: 0.0291321\tvalid_0's multi_logloss: 0.64977\n",
      "[46]\ttraining's multi_logloss: 0.0283721\tvalid_0's multi_logloss: 0.646039\n",
      "[47]\ttraining's multi_logloss: 0.0274501\tvalid_0's multi_logloss: 0.641637\n",
      "[48]\ttraining's multi_logloss: 0.0266812\tvalid_0's multi_logloss: 0.63886\n",
      "[49]\ttraining's multi_logloss: 0.0259673\tvalid_0's multi_logloss: 0.635324\n",
      "[50]\ttraining's multi_logloss: 0.0252424\tvalid_0's multi_logloss: 0.632639\n",
      "[51]\ttraining's multi_logloss: 0.0242981\tvalid_0's multi_logloss: 0.628372\n",
      "[52]\ttraining's multi_logloss: 0.0236553\tvalid_0's multi_logloss: 0.625483\n",
      "[53]\ttraining's multi_logloss: 0.0227679\tvalid_0's multi_logloss: 0.621314\n",
      "[54]\ttraining's multi_logloss: 0.0219821\tvalid_0's multi_logloss: 0.618803\n",
      "[55]\ttraining's multi_logloss: 0.0211183\tvalid_0's multi_logloss: 0.61654\n",
      "[56]\ttraining's multi_logloss: 0.0202951\tvalid_0's multi_logloss: 0.613578\n",
      "[57]\ttraining's multi_logloss: 0.0197316\tvalid_0's multi_logloss: 0.611707\n",
      "[58]\ttraining's multi_logloss: 0.0191033\tvalid_0's multi_logloss: 0.609561\n",
      "[59]\ttraining's multi_logloss: 0.0186005\tvalid_0's multi_logloss: 0.607768\n",
      "[60]\ttraining's multi_logloss: 0.018155\tvalid_0's multi_logloss: 0.605547\n",
      "[61]\ttraining's multi_logloss: 0.0174709\tvalid_0's multi_logloss: 0.602244\n",
      "[62]\ttraining's multi_logloss: 0.0170663\tvalid_0's multi_logloss: 0.600625\n",
      "[63]\ttraining's multi_logloss: 0.0164305\tvalid_0's multi_logloss: 0.598622\n",
      "[64]\ttraining's multi_logloss: 0.0159118\tvalid_0's multi_logloss: 0.595966\n",
      "[65]\ttraining's multi_logloss: 0.0154968\tvalid_0's multi_logloss: 0.594235\n",
      "[66]\ttraining's multi_logloss: 0.0149281\tvalid_0's multi_logloss: 0.591355\n",
      "[67]\ttraining's multi_logloss: 0.0144437\tvalid_0's multi_logloss: 0.590076\n",
      "[68]\ttraining's multi_logloss: 0.0139382\tvalid_0's multi_logloss: 0.58798\n",
      "[69]\ttraining's multi_logloss: 0.013515\tvalid_0's multi_logloss: 0.585468\n",
      "[70]\ttraining's multi_logloss: 0.0131047\tvalid_0's multi_logloss: 0.584149\n",
      "[71]\ttraining's multi_logloss: 0.012585\tvalid_0's multi_logloss: 0.58206\n",
      "[72]\ttraining's multi_logloss: 0.0121639\tvalid_0's multi_logloss: 0.579971\n",
      "[73]\ttraining's multi_logloss: 0.0117072\tvalid_0's multi_logloss: 0.578341\n",
      "[74]\ttraining's multi_logloss: 0.0112531\tvalid_0's multi_logloss: 0.576727\n",
      "[75]\ttraining's multi_logloss: 0.0109856\tvalid_0's multi_logloss: 0.57533\n",
      "[76]\ttraining's multi_logloss: 0.0106995\tvalid_0's multi_logloss: 0.573958\n",
      "[77]\ttraining's multi_logloss: 0.0104703\tvalid_0's multi_logloss: 0.57423\n",
      "[78]\ttraining's multi_logloss: 0.0102132\tvalid_0's multi_logloss: 0.572911\n",
      "[79]\ttraining's multi_logloss: 0.00987324\tvalid_0's multi_logloss: 0.572752\n",
      "[80]\ttraining's multi_logloss: 0.00965932\tvalid_0's multi_logloss: 0.571673\n",
      "[81]\ttraining's multi_logloss: 0.00935218\tvalid_0's multi_logloss: 0.570685\n",
      "[82]\ttraining's multi_logloss: 0.00892185\tvalid_0's multi_logloss: 0.569726\n",
      "[83]\ttraining's multi_logloss: 0.00862678\tvalid_0's multi_logloss: 0.568415\n",
      "[84]\ttraining's multi_logloss: 0.0083274\tvalid_0's multi_logloss: 0.567324\n",
      "[85]\ttraining's multi_logloss: 0.00806716\tvalid_0's multi_logloss: 0.567724\n",
      "[86]\ttraining's multi_logloss: 0.00775301\tvalid_0's multi_logloss: 0.567159\n",
      "[87]\ttraining's multi_logloss: 0.00748392\tvalid_0's multi_logloss: 0.564983\n",
      "[88]\ttraining's multi_logloss: 0.0072562\tvalid_0's multi_logloss: 0.564761\n",
      "[89]\ttraining's multi_logloss: 0.00696022\tvalid_0's multi_logloss: 0.563557\n",
      "[90]\ttraining's multi_logloss: 0.00676611\tvalid_0's multi_logloss: 0.563406\n",
      "[91]\ttraining's multi_logloss: 0.00664687\tvalid_0's multi_logloss: 0.562956\n",
      "[92]\ttraining's multi_logloss: 0.00644599\tvalid_0's multi_logloss: 0.562141\n",
      "[93]\ttraining's multi_logloss: 0.00633266\tvalid_0's multi_logloss: 0.561709\n",
      "[94]\ttraining's multi_logloss: 0.0061604\tvalid_0's multi_logloss: 0.561262\n",
      "[95]\ttraining's multi_logloss: 0.00599381\tvalid_0's multi_logloss: 0.561712\n",
      "[96]\ttraining's multi_logloss: 0.0058385\tvalid_0's multi_logloss: 0.56256\n",
      "[97]\ttraining's multi_logloss: 0.00568065\tvalid_0's multi_logloss: 0.562963\n",
      "[98]\ttraining's multi_logloss: 0.00556314\tvalid_0's multi_logloss: 0.56286\n",
      "[99]\ttraining's multi_logloss: 0.0054207\tvalid_0's multi_logloss: 0.563243\n",
      "[100]\ttraining's multi_logloss: 0.00529073\tvalid_0's multi_logloss: 0.562839\n",
      "[101]\ttraining's multi_logloss: 0.0051666\tvalid_0's multi_logloss: 0.564152\n",
      "[102]\ttraining's multi_logloss: 0.00498256\tvalid_0's multi_logloss: 0.563213\n",
      "[103]\ttraining's multi_logloss: 0.0048542\tvalid_0's multi_logloss: 0.563541\n",
      "[104]\ttraining's multi_logloss: 0.00471399\tvalid_0's multi_logloss: 0.563661\n",
      "[105]\ttraining's multi_logloss: 0.00459949\tvalid_0's multi_logloss: 0.56357\n",
      "[106]\ttraining's multi_logloss: 0.00448837\tvalid_0's multi_logloss: 0.563978\n",
      "[107]\ttraining's multi_logloss: 0.00436569\tvalid_0's multi_logloss: 0.56337\n",
      "[108]\ttraining's multi_logloss: 0.00419384\tvalid_0's multi_logloss: 0.56297\n",
      "[109]\ttraining's multi_logloss: 0.00405396\tvalid_0's multi_logloss: 0.563082\n",
      "[110]\ttraining's multi_logloss: 0.00398324\tvalid_0's multi_logloss: 0.563448\n"
     ]
    },
    {
     "name": "stdout",
     "output_type": "stream",
     "text": [
      "[111]\ttraining's multi_logloss: 0.00386997\tvalid_0's multi_logloss: 0.563015\n",
      "[112]\ttraining's multi_logloss: 0.00381829\tvalid_0's multi_logloss: 0.563361\n",
      "[113]\ttraining's multi_logloss: 0.00374238\tvalid_0's multi_logloss: 0.563877\n",
      "[114]\ttraining's multi_logloss: 0.0036668\tvalid_0's multi_logloss: 0.564344\n",
      "[115]\ttraining's multi_logloss: 0.00355407\tvalid_0's multi_logloss: 0.564153\n",
      "[116]\ttraining's multi_logloss: 0.00348663\tvalid_0's multi_logloss: 0.56442\n",
      "[117]\ttraining's multi_logloss: 0.00338708\tvalid_0's multi_logloss: 0.563976\n",
      "[118]\ttraining's multi_logloss: 0.0032446\tvalid_0's multi_logloss: 0.564405\n",
      "[119]\ttraining's multi_logloss: 0.00314966\tvalid_0's multi_logloss: 0.563928\n",
      "[120]\ttraining's multi_logloss: 0.00305882\tvalid_0's multi_logloss: 0.564596\n",
      "[121]\ttraining's multi_logloss: 0.00296865\tvalid_0's multi_logloss: 0.565551\n",
      "[122]\ttraining's multi_logloss: 0.00292727\tvalid_0's multi_logloss: 0.566065\n",
      "[123]\ttraining's multi_logloss: 0.00284593\tvalid_0's multi_logloss: 0.566688\n",
      "[124]\ttraining's multi_logloss: 0.00281019\tvalid_0's multi_logloss: 0.567447\n",
      "[125]\ttraining's multi_logloss: 0.00273535\tvalid_0's multi_logloss: 0.568031\n",
      "[126]\ttraining's multi_logloss: 0.0026943\tvalid_0's multi_logloss: 0.568008\n",
      "[127]\ttraining's multi_logloss: 0.00263537\tvalid_0's multi_logloss: 0.568666\n",
      "[128]\ttraining's multi_logloss: 0.00258795\tvalid_0's multi_logloss: 0.568932\n",
      "[129]\ttraining's multi_logloss: 0.00255544\tvalid_0's multi_logloss: 0.569145\n",
      "[130]\ttraining's multi_logloss: 0.00249251\tvalid_0's multi_logloss: 0.56872\n",
      "[131]\ttraining's multi_logloss: 0.00239803\tvalid_0's multi_logloss: 0.568336\n",
      "[132]\ttraining's multi_logloss: 0.00230659\tvalid_0's multi_logloss: 0.568763\n",
      "[133]\ttraining's multi_logloss: 0.00226099\tvalid_0's multi_logloss: 0.56949\n",
      "[134]\ttraining's multi_logloss: 0.00219597\tvalid_0's multi_logloss: 0.5698\n",
      "[135]\ttraining's multi_logloss: 0.00211792\tvalid_0's multi_logloss: 0.570533\n",
      "[136]\ttraining's multi_logloss: 0.00208424\tvalid_0's multi_logloss: 0.571109\n",
      "[137]\ttraining's multi_logloss: 0.00201242\tvalid_0's multi_logloss: 0.571302\n",
      "[138]\ttraining's multi_logloss: 0.00196657\tvalid_0's multi_logloss: 0.573289\n",
      "[139]\ttraining's multi_logloss: 0.00189526\tvalid_0's multi_logloss: 0.573533\n",
      "[140]\ttraining's multi_logloss: 0.0018473\tvalid_0's multi_logloss: 0.574284\n",
      "[141]\ttraining's multi_logloss: 0.00180985\tvalid_0's multi_logloss: 0.575295\n",
      "[142]\ttraining's multi_logloss: 0.00177771\tvalid_0's multi_logloss: 0.576368\n",
      "[143]\ttraining's multi_logloss: 0.00170511\tvalid_0's multi_logloss: 0.577377\n",
      "[144]\ttraining's multi_logloss: 0.00165405\tvalid_0's multi_logloss: 0.577408\n"
     ]
    },
    {
     "data": {
      "text/html": [
       "<style>#sk-container-id-22 {color: black;background-color: white;}#sk-container-id-22 pre{padding: 0;}#sk-container-id-22 div.sk-toggleable {background-color: white;}#sk-container-id-22 label.sk-toggleable__label {cursor: pointer;display: block;width: 100%;margin-bottom: 0;padding: 0.3em;box-sizing: border-box;text-align: center;}#sk-container-id-22 label.sk-toggleable__label-arrow:before {content: \"▸\";float: left;margin-right: 0.25em;color: #696969;}#sk-container-id-22 label.sk-toggleable__label-arrow:hover:before {color: black;}#sk-container-id-22 div.sk-estimator:hover label.sk-toggleable__label-arrow:before {color: black;}#sk-container-id-22 div.sk-toggleable__content {max-height: 0;max-width: 0;overflow: hidden;text-align: left;background-color: #f0f8ff;}#sk-container-id-22 div.sk-toggleable__content pre {margin: 0.2em;color: black;border-radius: 0.25em;background-color: #f0f8ff;}#sk-container-id-22 input.sk-toggleable__control:checked~div.sk-toggleable__content {max-height: 200px;max-width: 100%;overflow: auto;}#sk-container-id-22 input.sk-toggleable__control:checked~label.sk-toggleable__label-arrow:before {content: \"▾\";}#sk-container-id-22 div.sk-estimator input.sk-toggleable__control:checked~label.sk-toggleable__label {background-color: #d4ebff;}#sk-container-id-22 div.sk-label input.sk-toggleable__control:checked~label.sk-toggleable__label {background-color: #d4ebff;}#sk-container-id-22 input.sk-hidden--visually {border: 0;clip: rect(1px 1px 1px 1px);clip: rect(1px, 1px, 1px, 1px);height: 1px;margin: -1px;overflow: hidden;padding: 0;position: absolute;width: 1px;}#sk-container-id-22 div.sk-estimator {font-family: monospace;background-color: #f0f8ff;border: 1px dotted black;border-radius: 0.25em;box-sizing: border-box;margin-bottom: 0.5em;}#sk-container-id-22 div.sk-estimator:hover {background-color: #d4ebff;}#sk-container-id-22 div.sk-parallel-item::after {content: \"\";width: 100%;border-bottom: 1px solid gray;flex-grow: 1;}#sk-container-id-22 div.sk-label:hover label.sk-toggleable__label {background-color: #d4ebff;}#sk-container-id-22 div.sk-serial::before {content: \"\";position: absolute;border-left: 1px solid gray;box-sizing: border-box;top: 0;bottom: 0;left: 50%;z-index: 0;}#sk-container-id-22 div.sk-serial {display: flex;flex-direction: column;align-items: center;background-color: white;padding-right: 0.2em;padding-left: 0.2em;position: relative;}#sk-container-id-22 div.sk-item {position: relative;z-index: 1;}#sk-container-id-22 div.sk-parallel {display: flex;align-items: stretch;justify-content: center;background-color: white;position: relative;}#sk-container-id-22 div.sk-item::before, #sk-container-id-22 div.sk-parallel-item::before {content: \"\";position: absolute;border-left: 1px solid gray;box-sizing: border-box;top: 0;bottom: 0;left: 50%;z-index: -1;}#sk-container-id-22 div.sk-parallel-item {display: flex;flex-direction: column;z-index: 1;position: relative;background-color: white;}#sk-container-id-22 div.sk-parallel-item:first-child::after {align-self: flex-end;width: 50%;}#sk-container-id-22 div.sk-parallel-item:last-child::after {align-self: flex-start;width: 50%;}#sk-container-id-22 div.sk-parallel-item:only-child::after {width: 0;}#sk-container-id-22 div.sk-dashed-wrapped {border: 1px dashed gray;margin: 0 0.4em 0.5em 0.4em;box-sizing: border-box;padding-bottom: 0.4em;background-color: white;}#sk-container-id-22 div.sk-label label {font-family: monospace;font-weight: bold;display: inline-block;line-height: 1.2em;}#sk-container-id-22 div.sk-label-container {text-align: center;}#sk-container-id-22 div.sk-container {/* jupyter's `normalize.less` sets `[hidden] { display: none; }` but bootstrap.min.css set `[hidden] { display: none !important; }` so we also need the `!important` here to be able to override the default hidden behavior on the sphinx rendered scikit-learn.org. See: https://github.com/scikit-learn/scikit-learn/issues/21755 */display: inline-block !important;position: relative;}#sk-container-id-22 div.sk-text-repr-fallback {display: none;}</style><div id=\"sk-container-id-22\" class=\"sk-top-container\"><div class=\"sk-text-repr-fallback\"><pre>LGBMClassifier(class_weight=&#x27;balanced&#x27;, early_stopping_round=50, eta=0.3,\n",
       "               max_depth=9, n_estimators=10000, num_class=4, num_leaves=150,\n",
       "               objective=&#x27;multiclass&#x27;)</pre><b>In a Jupyter environment, please rerun this cell to show the HTML representation or trust the notebook. <br />On GitHub, the HTML representation is unable to render, please try loading this page with nbviewer.org.</b></div><div class=\"sk-container\" hidden><div class=\"sk-item\"><div class=\"sk-estimator sk-toggleable\"><input class=\"sk-toggleable__control sk-hidden--visually\" id=\"sk-estimator-id-22\" type=\"checkbox\" checked><label for=\"sk-estimator-id-22\" class=\"sk-toggleable__label sk-toggleable__label-arrow\">LGBMClassifier</label><div class=\"sk-toggleable__content\"><pre>LGBMClassifier(class_weight=&#x27;balanced&#x27;, early_stopping_round=50, eta=0.3,\n",
       "               max_depth=9, n_estimators=10000, num_class=4, num_leaves=150,\n",
       "               objective=&#x27;multiclass&#x27;)</pre></div></div></div></div></div>"
      ],
      "text/plain": [
       "LGBMClassifier(class_weight='balanced', early_stopping_round=50, eta=0.3,\n",
       "               max_depth=9, n_estimators=10000, num_class=4, num_leaves=150,\n",
       "               objective='multiclass')"
      ]
     },
     "execution_count": 254,
     "metadata": {},
     "output_type": "execute_result"
    }
   ],
   "source": [
    "lightbm.fit(X_train, y_train, eval_set=[(X_test, y_test), (X_train, y_train)], sample_weight=classes_weights)"
   ]
  },
  {
   "cell_type": "code",
   "execution_count": 231,
   "id": "43079368",
   "metadata": {},
   "outputs": [],
   "source": [
    "cv_score_lgb = cross_val_score(lightbm, X_train, y_train, cv=32, n_jobs=-1, scoring=\"accuracy\")"
   ]
  },
  {
   "cell_type": "code",
   "execution_count": 232,
   "id": "754261f4",
   "metadata": {},
   "outputs": [
    {
     "name": "stdout",
     "output_type": "stream",
     "text": [
      "Cross-validated Accuracy: 0.87436 ± 0.01571\n"
     ]
    }
   ],
   "source": [
    "print(\"Cross-validated Accuracy:\", round(np.mean(cv_score_lgb), 5), \"±\", round(np.std(cv_score_lgb), 5))"
   ]
  },
  {
   "cell_type": "code",
   "execution_count": 151,
   "id": "ae2b9106",
   "metadata": {},
   "outputs": [
    {
     "name": "stdout",
     "output_type": "stream",
     "text": [
      "                                                      precision    recall  f1-score   support\n",
      "\n",
      "      jet-mode radio AGN/low-excitation radio galaxy     0.7189    0.8165    0.7646       545\n",
      "quasar-like radio AGN / high-excitation radio galaxy     0.4945    0.5000    0.4972        90\n",
      "                                     radio-quiet AGN     0.6818    0.8320    0.7495       631\n",
      "                                 star-forming galaxy     0.9057    0.8117    0.8561      2060\n",
      "\n",
      "                                            accuracy                         0.8079      3326\n",
      "                                           macro avg     0.7002    0.7400    0.7169      3326\n",
      "                                        weighted avg     0.8215    0.8079    0.8112      3326\n",
      "\n"
     ]
    }
   ],
   "source": [
    "y_pred = lightbm.predict(X_test)\n",
    "print(classification_report(y_test, y_pred, target_names=labels, digits=4))"
   ]
  },
  {
   "cell_type": "code",
   "execution_count": 160,
   "id": "ca6631e3",
   "metadata": {},
   "outputs": [
    {
     "data": {
      "text/plain": [
       "[]"
      ]
     },
     "execution_count": 160,
     "metadata": {},
     "output_type": "execute_result"
    },
    {
     "data": {
      "image/png": "[encoded data removed]",
      "text/plain": [
       "<Figure size 432x288 with 2 Axes>"
      ]
     },
     "metadata": {
      "needs_background": "light"
     },
     "output_type": "display_data"
    }
   ],
   "source": [
    "cm = confusion_matrix(y_test, y_pred, normalize='true')\n",
    "disp = ConfusionMatrixDisplay(confusion_matrix=cm, display_labels=labels)\n",
    "disp.plot()\n",
    "plt.xticks(rotation = 90)\n",
    "plt.plot()"
   ]
  },
  {
   "cell_type": "code",
   "execution_count": 174,
   "id": "8585eee7",
   "metadata": {},
   "outputs": [],
   "source": [
    "y_pred_xgb = model.predict(X_test)\n",
    "y_pred_lgb = lightbm.predict(X_test)"
   ]
  },
  {
   "cell_type": "code",
   "execution_count": 175,
   "id": "ce60fd9c",
   "metadata": {},
   "outputs": [],
   "source": [
    "y_pred_temp = y_pred_xgb.copy()\n",
    "y_pred_temp[y_pred_temp==0] = 0\n",
    "y_pred_temp[y_pred_lgb==0] = 0"
   ]
  },
  {
   "cell_type": "code",
   "execution_count": 176,
   "id": "1d5ff409",
   "metadata": {},
   "outputs": [
    {
     "name": "stdout",
     "output_type": "stream",
     "text": [
      "                                                      precision    recall  f1-score   support\n",
      "\n",
      "      jet-mode radio AGN/low-excitation radio galaxy     0.7663    0.8842    0.8210      2581\n",
      "quasar-like radio AGN / high-excitation radio galaxy     0.5628    0.4148    0.4776       270\n",
      "                                     radio-quiet AGN     0.7199    0.7942    0.7553      1356\n",
      "                                 star-forming galaxy     0.9537    0.9144    0.9337     11315\n",
      "\n",
      "                                            accuracy                         0.8902     15522\n",
      "                                           macro avg     0.7507    0.7519    0.7469     15522\n",
      "                                        weighted avg     0.8953    0.8902    0.8914     15522\n",
      "\n"
     ]
    }
   ],
   "source": [
    "print(classification_report(y_test, y_pred_temp, target_names=labels, digits=4))"
   ]
  },
  {
   "cell_type": "markdown",
   "id": "58090610",
   "metadata": {},
   "source": [
    "# XGBoost"
   ]
  },
  {
   "cell_type": "code",
   "execution_count": 237,
   "id": "cff6c270",
   "metadata": {},
   "outputs": [],
   "source": [
    "model = XGBClassifier(use_label_encoder=False, \n",
    "                      max_depth=8, \n",
    "                      reg_alpha=2, \n",
    "                      min_child_weight=2, \n",
    "                      #reg_lambda=3,\n",
    "                      eta=0.3, # Remember to reduce to 0.1 or 0.05 for better results\n",
    "                      tree_method='hist', # exact is more precies, but this is much faster\n",
    "                      objective='multi:softprob',\n",
    "                      n_estimators=8000,\n",
    "                      )"
   ]
  },
  {
   "cell_type": "code",
   "execution_count": 238,
   "id": "e4d86569",
   "metadata": {
    "scrolled": true
   },
   "outputs": [
    {
     "name": "stderr",
     "output_type": "stream",
     "text": [
      "C:\\Users\\jespe\\AppData\\Local\\Packages\\PythonSoftwareFoundation.Python.3.9_qbz5n2kfra8p0\\LocalCache\\local-packages\\Python39\\site-packages\\xgboost\\sklearn.py:793: UserWarning: `early_stopping_rounds` in `fit` method is deprecated for better compatibility with scikit-learn, use `early_stopping_rounds` in constructor or`set_params` instead.\n",
      "  warnings.warn(\n"
     ]
    },
    {
     "name": "stdout",
     "output_type": "stream",
     "text": [
      "[0]\tvalidation_0-mlogloss:1.09230\tvalidation_1-mlogloss:1.11085\n",
      "[1]\tvalidation_0-mlogloss:0.91588\tvalidation_1-mlogloss:0.94764\n",
      "[2]\tvalidation_0-mlogloss:0.79543\tvalidation_1-mlogloss:0.83877\n",
      "[3]\tvalidation_0-mlogloss:0.70814\tvalidation_1-mlogloss:0.76333\n",
      "[4]\tvalidation_0-mlogloss:0.63962\tvalidation_1-mlogloss:0.70428\n",
      "[5]\tvalidation_0-mlogloss:0.58696\tvalidation_1-mlogloss:0.65978\n",
      "[6]\tvalidation_0-mlogloss:0.54595\tvalidation_1-mlogloss:0.62607\n",
      "[7]\tvalidation_0-mlogloss:0.51290\tvalidation_1-mlogloss:0.59901\n",
      "[8]\tvalidation_0-mlogloss:0.48387\tvalidation_1-mlogloss:0.57698\n",
      "[9]\tvalidation_0-mlogloss:0.45734\tvalidation_1-mlogloss:0.55655\n",
      "[10]\tvalidation_0-mlogloss:0.43605\tvalidation_1-mlogloss:0.54168\n",
      "[11]\tvalidation_0-mlogloss:0.41605\tvalidation_1-mlogloss:0.52795\n",
      "[12]\tvalidation_0-mlogloss:0.39907\tvalidation_1-mlogloss:0.51707\n",
      "[13]\tvalidation_0-mlogloss:0.38419\tvalidation_1-mlogloss:0.50706\n",
      "[14]\tvalidation_0-mlogloss:0.37075\tvalidation_1-mlogloss:0.49834\n",
      "[15]\tvalidation_0-mlogloss:0.35829\tvalidation_1-mlogloss:0.48964\n",
      "[16]\tvalidation_0-mlogloss:0.34586\tvalidation_1-mlogloss:0.48159\n",
      "[17]\tvalidation_0-mlogloss:0.33610\tvalidation_1-mlogloss:0.47543\n",
      "[18]\tvalidation_0-mlogloss:0.32604\tvalidation_1-mlogloss:0.46873\n",
      "[19]\tvalidation_0-mlogloss:0.31826\tvalidation_1-mlogloss:0.46408\n",
      "[20]\tvalidation_0-mlogloss:0.30907\tvalidation_1-mlogloss:0.45899\n",
      "[21]\tvalidation_0-mlogloss:0.30005\tvalidation_1-mlogloss:0.45335\n",
      "[22]\tvalidation_0-mlogloss:0.29336\tvalidation_1-mlogloss:0.44950\n",
      "[23]\tvalidation_0-mlogloss:0.28700\tvalidation_1-mlogloss:0.44634\n",
      "[24]\tvalidation_0-mlogloss:0.28010\tvalidation_1-mlogloss:0.44333\n",
      "[25]\tvalidation_0-mlogloss:0.27131\tvalidation_1-mlogloss:0.43893\n",
      "[26]\tvalidation_0-mlogloss:0.26467\tvalidation_1-mlogloss:0.43614\n",
      "[27]\tvalidation_0-mlogloss:0.25766\tvalidation_1-mlogloss:0.43143\n",
      "[28]\tvalidation_0-mlogloss:0.25192\tvalidation_1-mlogloss:0.42830\n",
      "[29]\tvalidation_0-mlogloss:0.24454\tvalidation_1-mlogloss:0.42508\n",
      "[30]\tvalidation_0-mlogloss:0.23810\tvalidation_1-mlogloss:0.42215\n",
      "[31]\tvalidation_0-mlogloss:0.23202\tvalidation_1-mlogloss:0.41983\n",
      "[32]\tvalidation_0-mlogloss:0.22562\tvalidation_1-mlogloss:0.41713\n",
      "[33]\tvalidation_0-mlogloss:0.21976\tvalidation_1-mlogloss:0.41425\n",
      "[34]\tvalidation_0-mlogloss:0.21613\tvalidation_1-mlogloss:0.41274\n",
      "[35]\tvalidation_0-mlogloss:0.21082\tvalidation_1-mlogloss:0.40990\n",
      "[36]\tvalidation_0-mlogloss:0.20558\tvalidation_1-mlogloss:0.40821\n",
      "[37]\tvalidation_0-mlogloss:0.20170\tvalidation_1-mlogloss:0.40650\n",
      "[38]\tvalidation_0-mlogloss:0.19610\tvalidation_1-mlogloss:0.40494\n",
      "[39]\tvalidation_0-mlogloss:0.19165\tvalidation_1-mlogloss:0.40379\n",
      "[40]\tvalidation_0-mlogloss:0.18752\tvalidation_1-mlogloss:0.40217\n",
      "[41]\tvalidation_0-mlogloss:0.18394\tvalidation_1-mlogloss:0.40071\n",
      "[42]\tvalidation_0-mlogloss:0.17992\tvalidation_1-mlogloss:0.39939\n",
      "[43]\tvalidation_0-mlogloss:0.17562\tvalidation_1-mlogloss:0.39844\n",
      "[44]\tvalidation_0-mlogloss:0.17182\tvalidation_1-mlogloss:0.39719\n",
      "[45]\tvalidation_0-mlogloss:0.16843\tvalidation_1-mlogloss:0.39612\n",
      "[46]\tvalidation_0-mlogloss:0.16558\tvalidation_1-mlogloss:0.39555\n",
      "[47]\tvalidation_0-mlogloss:0.16256\tvalidation_1-mlogloss:0.39476\n",
      "[48]\tvalidation_0-mlogloss:0.15886\tvalidation_1-mlogloss:0.39366\n",
      "[49]\tvalidation_0-mlogloss:0.15582\tvalidation_1-mlogloss:0.39228\n",
      "[50]\tvalidation_0-mlogloss:0.15385\tvalidation_1-mlogloss:0.39157\n",
      "[51]\tvalidation_0-mlogloss:0.15044\tvalidation_1-mlogloss:0.38992\n",
      "[52]\tvalidation_0-mlogloss:0.14738\tvalidation_1-mlogloss:0.38896\n",
      "[53]\tvalidation_0-mlogloss:0.14421\tvalidation_1-mlogloss:0.38869\n",
      "[54]\tvalidation_0-mlogloss:0.14248\tvalidation_1-mlogloss:0.38845\n",
      "[55]\tvalidation_0-mlogloss:0.14010\tvalidation_1-mlogloss:0.38800\n",
      "[56]\tvalidation_0-mlogloss:0.13690\tvalidation_1-mlogloss:0.38711\n",
      "[57]\tvalidation_0-mlogloss:0.13482\tvalidation_1-mlogloss:0.38661\n",
      "[58]\tvalidation_0-mlogloss:0.13251\tvalidation_1-mlogloss:0.38571\n",
      "[59]\tvalidation_0-mlogloss:0.13056\tvalidation_1-mlogloss:0.38541\n",
      "[60]\tvalidation_0-mlogloss:0.12815\tvalidation_1-mlogloss:0.38531\n",
      "[61]\tvalidation_0-mlogloss:0.12521\tvalidation_1-mlogloss:0.38441\n",
      "[62]\tvalidation_0-mlogloss:0.12263\tvalidation_1-mlogloss:0.38402\n",
      "[63]\tvalidation_0-mlogloss:0.11982\tvalidation_1-mlogloss:0.38327\n",
      "[64]\tvalidation_0-mlogloss:0.11740\tvalidation_1-mlogloss:0.38315\n",
      "[65]\tvalidation_0-mlogloss:0.11545\tvalidation_1-mlogloss:0.38261\n",
      "[66]\tvalidation_0-mlogloss:0.11383\tvalidation_1-mlogloss:0.38180\n",
      "[67]\tvalidation_0-mlogloss:0.11167\tvalidation_1-mlogloss:0.38076\n",
      "[68]\tvalidation_0-mlogloss:0.10999\tvalidation_1-mlogloss:0.38043\n",
      "[69]\tvalidation_0-mlogloss:0.10819\tvalidation_1-mlogloss:0.38026\n",
      "[70]\tvalidation_0-mlogloss:0.10653\tvalidation_1-mlogloss:0.38013\n",
      "[71]\tvalidation_0-mlogloss:0.10478\tvalidation_1-mlogloss:0.37972\n",
      "[72]\tvalidation_0-mlogloss:0.10317\tvalidation_1-mlogloss:0.37914\n",
      "[73]\tvalidation_0-mlogloss:0.10155\tvalidation_1-mlogloss:0.37848\n",
      "[74]\tvalidation_0-mlogloss:0.10003\tvalidation_1-mlogloss:0.37848\n",
      "[75]\tvalidation_0-mlogloss:0.09827\tvalidation_1-mlogloss:0.37812\n",
      "[76]\tvalidation_0-mlogloss:0.09663\tvalidation_1-mlogloss:0.37787\n",
      "[77]\tvalidation_0-mlogloss:0.09535\tvalidation_1-mlogloss:0.37761\n",
      "[78]\tvalidation_0-mlogloss:0.09415\tvalidation_1-mlogloss:0.37732\n",
      "[79]\tvalidation_0-mlogloss:0.09260\tvalidation_1-mlogloss:0.37700\n",
      "[80]\tvalidation_0-mlogloss:0.09115\tvalidation_1-mlogloss:0.37672\n",
      "[81]\tvalidation_0-mlogloss:0.08985\tvalidation_1-mlogloss:0.37670\n",
      "[82]\tvalidation_0-mlogloss:0.08858\tvalidation_1-mlogloss:0.37654\n",
      "[83]\tvalidation_0-mlogloss:0.08748\tvalidation_1-mlogloss:0.37634\n",
      "[84]\tvalidation_0-mlogloss:0.08613\tvalidation_1-mlogloss:0.37610\n",
      "[85]\tvalidation_0-mlogloss:0.08523\tvalidation_1-mlogloss:0.37622\n",
      "[86]\tvalidation_0-mlogloss:0.08415\tvalidation_1-mlogloss:0.37604\n",
      "[87]\tvalidation_0-mlogloss:0.08302\tvalidation_1-mlogloss:0.37587\n",
      "[88]\tvalidation_0-mlogloss:0.08202\tvalidation_1-mlogloss:0.37591\n",
      "[89]\tvalidation_0-mlogloss:0.08126\tvalidation_1-mlogloss:0.37569\n",
      "[90]\tvalidation_0-mlogloss:0.08028\tvalidation_1-mlogloss:0.37532\n",
      "[91]\tvalidation_0-mlogloss:0.07927\tvalidation_1-mlogloss:0.37547\n",
      "[92]\tvalidation_0-mlogloss:0.07813\tvalidation_1-mlogloss:0.37535\n",
      "[93]\tvalidation_0-mlogloss:0.07710\tvalidation_1-mlogloss:0.37490\n",
      "[94]\tvalidation_0-mlogloss:0.07631\tvalidation_1-mlogloss:0.37517\n",
      "[95]\tvalidation_0-mlogloss:0.07564\tvalidation_1-mlogloss:0.37551\n",
      "[96]\tvalidation_0-mlogloss:0.07489\tvalidation_1-mlogloss:0.37531\n",
      "[97]\tvalidation_0-mlogloss:0.07404\tvalidation_1-mlogloss:0.37540\n",
      "[98]\tvalidation_0-mlogloss:0.07333\tvalidation_1-mlogloss:0.37517\n",
      "[99]\tvalidation_0-mlogloss:0.07272\tvalidation_1-mlogloss:0.37510\n",
      "[100]\tvalidation_0-mlogloss:0.07208\tvalidation_1-mlogloss:0.37532\n",
      "[101]\tvalidation_0-mlogloss:0.07122\tvalidation_1-mlogloss:0.37505\n",
      "[102]\tvalidation_0-mlogloss:0.07050\tvalidation_1-mlogloss:0.37485\n",
      "[103]\tvalidation_0-mlogloss:0.06963\tvalidation_1-mlogloss:0.37499\n",
      "[104]\tvalidation_0-mlogloss:0.06881\tvalidation_1-mlogloss:0.37489\n",
      "[105]\tvalidation_0-mlogloss:0.06812\tvalidation_1-mlogloss:0.37480\n",
      "[106]\tvalidation_0-mlogloss:0.06746\tvalidation_1-mlogloss:0.37467\n",
      "[107]\tvalidation_0-mlogloss:0.06682\tvalidation_1-mlogloss:0.37470\n",
      "[108]\tvalidation_0-mlogloss:0.06618\tvalidation_1-mlogloss:0.37507\n",
      "[109]\tvalidation_0-mlogloss:0.06547\tvalidation_1-mlogloss:0.37486\n",
      "[110]\tvalidation_0-mlogloss:0.06493\tvalidation_1-mlogloss:0.37502\n",
      "[111]\tvalidation_0-mlogloss:0.06445\tvalidation_1-mlogloss:0.37487\n",
      "[112]\tvalidation_0-mlogloss:0.06376\tvalidation_1-mlogloss:0.37469\n",
      "[113]\tvalidation_0-mlogloss:0.06309\tvalidation_1-mlogloss:0.37480\n",
      "[114]\tvalidation_0-mlogloss:0.06232\tvalidation_1-mlogloss:0.37501\n",
      "[115]\tvalidation_0-mlogloss:0.06177\tvalidation_1-mlogloss:0.37497\n",
      "[116]\tvalidation_0-mlogloss:0.06116\tvalidation_1-mlogloss:0.37506\n",
      "[117]\tvalidation_0-mlogloss:0.06069\tvalidation_1-mlogloss:0.37523\n",
      "[118]\tvalidation_0-mlogloss:0.06019\tvalidation_1-mlogloss:0.37529\n",
      "[119]\tvalidation_0-mlogloss:0.05975\tvalidation_1-mlogloss:0.37539\n",
      "[120]\tvalidation_0-mlogloss:0.05925\tvalidation_1-mlogloss:0.37550\n",
      "[121]\tvalidation_0-mlogloss:0.05883\tvalidation_1-mlogloss:0.37545\n",
      "[122]\tvalidation_0-mlogloss:0.05827\tvalidation_1-mlogloss:0.37546\n",
      "[123]\tvalidation_0-mlogloss:0.05778\tvalidation_1-mlogloss:0.37538\n",
      "[124]\tvalidation_0-mlogloss:0.05732\tvalidation_1-mlogloss:0.37555\n",
      "[125]\tvalidation_0-mlogloss:0.05684\tvalidation_1-mlogloss:0.37573\n"
     ]
    },
    {
     "name": "stdout",
     "output_type": "stream",
     "text": [
      "[126]\tvalidation_0-mlogloss:0.05640\tvalidation_1-mlogloss:0.37560\n",
      "[127]\tvalidation_0-mlogloss:0.05590\tvalidation_1-mlogloss:0.37561\n",
      "[128]\tvalidation_0-mlogloss:0.05538\tvalidation_1-mlogloss:0.37572\n",
      "[129]\tvalidation_0-mlogloss:0.05505\tvalidation_1-mlogloss:0.37577\n",
      "[130]\tvalidation_0-mlogloss:0.05458\tvalidation_1-mlogloss:0.37577\n",
      "[131]\tvalidation_0-mlogloss:0.05430\tvalidation_1-mlogloss:0.37592\n",
      "[132]\tvalidation_0-mlogloss:0.05384\tvalidation_1-mlogloss:0.37599\n",
      "[133]\tvalidation_0-mlogloss:0.05354\tvalidation_1-mlogloss:0.37617\n",
      "[134]\tvalidation_0-mlogloss:0.05309\tvalidation_1-mlogloss:0.37588\n",
      "[135]\tvalidation_0-mlogloss:0.05260\tvalidation_1-mlogloss:0.37584\n",
      "[136]\tvalidation_0-mlogloss:0.05229\tvalidation_1-mlogloss:0.37594\n",
      "[137]\tvalidation_0-mlogloss:0.05194\tvalidation_1-mlogloss:0.37646\n",
      "[138]\tvalidation_0-mlogloss:0.05150\tvalidation_1-mlogloss:0.37627\n",
      "[139]\tvalidation_0-mlogloss:0.05121\tvalidation_1-mlogloss:0.37636\n",
      "[140]\tvalidation_0-mlogloss:0.05094\tvalidation_1-mlogloss:0.37649\n",
      "[141]\tvalidation_0-mlogloss:0.05066\tvalidation_1-mlogloss:0.37635\n",
      "[142]\tvalidation_0-mlogloss:0.05034\tvalidation_1-mlogloss:0.37625\n",
      "[143]\tvalidation_0-mlogloss:0.05011\tvalidation_1-mlogloss:0.37660\n",
      "[144]\tvalidation_0-mlogloss:0.04972\tvalidation_1-mlogloss:0.37680\n",
      "[145]\tvalidation_0-mlogloss:0.04941\tvalidation_1-mlogloss:0.37701\n",
      "[146]\tvalidation_0-mlogloss:0.04907\tvalidation_1-mlogloss:0.37704\n",
      "[147]\tvalidation_0-mlogloss:0.04888\tvalidation_1-mlogloss:0.37727\n",
      "[148]\tvalidation_0-mlogloss:0.04862\tvalidation_1-mlogloss:0.37732\n",
      "[149]\tvalidation_0-mlogloss:0.04832\tvalidation_1-mlogloss:0.37746\n",
      "[150]\tvalidation_0-mlogloss:0.04803\tvalidation_1-mlogloss:0.37761\n",
      "[151]\tvalidation_0-mlogloss:0.04773\tvalidation_1-mlogloss:0.37760\n",
      "[152]\tvalidation_0-mlogloss:0.04739\tvalidation_1-mlogloss:0.37741\n",
      "[153]\tvalidation_0-mlogloss:0.04718\tvalidation_1-mlogloss:0.37756\n",
      "[154]\tvalidation_0-mlogloss:0.04684\tvalidation_1-mlogloss:0.37784\n",
      "[155]\tvalidation_0-mlogloss:0.04662\tvalidation_1-mlogloss:0.37797\n",
      "[156]\tvalidation_0-mlogloss:0.04643\tvalidation_1-mlogloss:0.37812\n"
     ]
    }
   ],
   "source": [
    "bst = model.fit(X_train, y_train, \n",
    "                eval_set=[(X_train, y_train), (X_test, y_test)], \n",
    "                early_stopping_rounds=50,\n",
    "                verbose=True, \n",
    "                sample_weight=classes_weights\n",
    "               ) # Maybe remove weight"
   ]
  },
  {
   "cell_type": "code",
   "execution_count": 239,
   "id": "0a663454",
   "metadata": {},
   "outputs": [
    {
     "name": "stdout",
     "output_type": "stream",
     "text": [
      "                                                      precision    recall  f1-score   support\n",
      "\n",
      "      jet-mode radio AGN/low-excitation radio galaxy     0.7814    0.8325    0.8061       949\n",
      "quasar-like radio AGN / high-excitation radio galaxy     0.5229    0.4831    0.5022       118\n",
      "                                     radio-quiet AGN     0.7088    0.8026    0.7528       831\n",
      "                                 star-forming galaxy     0.9190    0.8776    0.8978      3619\n",
      "\n",
      "                                            accuracy                         0.8501      5517\n",
      "                                           macro avg     0.7330    0.7489    0.7397      5517\n",
      "                                        weighted avg     0.8552    0.8501    0.8517      5517\n",
      "\n"
     ]
    }
   ],
   "source": [
    "y_pred = model.predict(X_test)\n",
    "print(classification_report(y_test, y_pred, target_names=labels, digits=4))"
   ]
  },
  {
   "cell_type": "code",
   "execution_count": 228,
   "id": "7d8375e7",
   "metadata": {},
   "outputs": [
    {
     "data": {
      "text/plain": [
       "[]"
      ]
     },
     "execution_count": 228,
     "metadata": {},
     "output_type": "execute_result"
    },
    {
     "data": {
      "image/png": "[encoded data removed]",
      "text/plain": [
       "<Figure size 432x288 with 2 Axes>"
      ]
     },
     "metadata": {
      "needs_background": "light"
     },
     "output_type": "display_data"
    }
   ],
   "source": [
    "cm = confusion_matrix(y_test, y_pred, normalize='true')\n",
    "disp = ConfusionMatrixDisplay(confusion_matrix=cm, display_labels=labels)\n",
    "disp.plot()\n",
    "plt.xticks(rotation = 90)\n",
    "plt.plot()"
   ]
  },
  {
   "cell_type": "markdown",
   "id": "8694539e",
   "metadata": {},
   "source": [
    "## Feature relevance"
   ]
  },
  {
   "cell_type": "code",
   "execution_count": null,
   "id": "fbe50647",
   "metadata": {},
   "outputs": [],
   "source": []
  },
  {
   "cell_type": "code",
   "execution_count": 224,
   "id": "e7bb9df5",
   "metadata": {},
   "outputs": [
    {
     "data": {
      "text/plain": [
       "<AxesSubplot:title={'center':'Feature importance'}, xlabel='F score', ylabel='Features'>"
      ]
     },
     "execution_count": 224,
     "metadata": {},
     "output_type": "execute_result"
    },
    {
     "data": {
      "image/png": "[encoded data removed]",
      "text/plain": [
       "<Figure size 720x720 with 1 Axes>"
      ]
     },
     "metadata": {
      "needs_background": "light"
     },
     "output_type": "display_data"
    }
   ],
   "source": [
    "fig, ax = plt.subplots(figsize=(10,10))\n",
    "xgb.plot_importance(model, ax=ax)"
   ]
  },
  {
   "cell_type": "markdown",
   "id": "a48a05d2",
   "metadata": {},
   "source": [
    "# DNN"
   ]
  },
  {
   "cell_type": "code",
   "execution_count": 108,
   "id": "bbd179ec",
   "metadata": {},
   "outputs": [],
   "source": [
    "model = keras.Sequential(\n",
    "    [\n",
    "        keras.layers.Dense(\n",
    "            256, activation=\"relu\", input_shape=(X_train.shape[1],)\n",
    "        ),\n",
    "        keras.layers.Dropout(0.3),\n",
    "        keras.layers.Dense(128, activation=\"relu\"),\n",
    "        keras.layers.Dropout(0.3),\n",
    "        keras.layers.Dense(64, activation=\"relu\"),\n",
    "        keras.layers.Dropout(0.3),\n",
    "        keras.layers.Dense(64, activation=\"relu\"),\n",
    "        keras.layers.Dropout(0.3),\n",
    "        keras.layers.Dense(4),\n",
    "    ]\n",
    ")"
   ]
  },
  {
   "cell_type": "code",
   "execution_count": 109,
   "id": "e4ffed7f",
   "metadata": {},
   "outputs": [],
   "source": [
    "model.compile(\n",
    "    loss=keras.losses.SparseCategoricalCrossentropy(from_logits=True),\n",
    "    optimizer=\"Adam\",\n",
    "    metrics=[\"accuracy\"],\n",
    ")"
   ]
  },
  {
   "cell_type": "code",
   "execution_count": 113,
   "id": "dea61ccd",
   "metadata": {},
   "outputs": [],
   "source": [
    "early_stopping = keras.callbacks.EarlyStopping(\n",
    "    patience=10,\n",
    "    restore_best_weights=True,\n",
    ")"
   ]
  },
  {
   "cell_type": "code",
   "execution_count": 114,
   "id": "e6349e8a",
   "metadata": {},
   "outputs": [
    {
     "name": "stdout",
     "output_type": "stream",
     "text": [
      "Epoch 1/1000\n",
      "148/148 [==============================] - 4s 12ms/step - loss: 1.0948 - accuracy: 0.5036 - val_loss: 1.0311 - val_accuracy: 0.5469\n",
      "Epoch 2/1000\n",
      "148/148 [==============================] - 1s 7ms/step - loss: 1.0355 - accuracy: 0.5292 - val_loss: 1.0039 - val_accuracy: 0.5528\n",
      "Epoch 3/1000\n",
      "148/148 [==============================] - 1s 7ms/step - loss: 1.0075 - accuracy: 0.5472 - val_loss: 0.9774 - val_accuracy: 0.5689\n",
      "Epoch 4/1000\n",
      "148/148 [==============================] - 1s 9ms/step - loss: 0.9728 - accuracy: 0.5673 - val_loss: 0.9595 - val_accuracy: 0.5647\n",
      "Epoch 5/1000\n",
      "148/148 [==============================] - 1s 8ms/step - loss: 0.9508 - accuracy: 0.5787 - val_loss: 0.9499 - val_accuracy: 0.5740\n",
      "Epoch 6/1000\n",
      "148/148 [==============================] - 1s 8ms/step - loss: 0.9516 - accuracy: 0.5658 - val_loss: 0.9316 - val_accuracy: 0.5833\n",
      "Epoch 7/1000\n",
      "148/148 [==============================] - 1s 7ms/step - loss: 0.9228 - accuracy: 0.5838 - val_loss: 0.9336 - val_accuracy: 0.5841\n",
      "Epoch 8/1000\n",
      "148/148 [==============================] - 1s 8ms/step - loss: 0.9188 - accuracy: 0.5888 - val_loss: 0.9393 - val_accuracy: 0.5875\n",
      "Epoch 9/1000\n",
      "148/148 [==============================] - 1s 7ms/step - loss: 0.9118 - accuracy: 0.6026 - val_loss: 0.9462 - val_accuracy: 0.5655\n",
      "Epoch 10/1000\n",
      "148/148 [==============================] - 1s 9ms/step - loss: 0.8993 - accuracy: 0.5950 - val_loss: 0.9251 - val_accuracy: 0.5926\n",
      "Epoch 11/1000\n",
      "148/148 [==============================] - 2s 10ms/step - loss: 0.8960 - accuracy: 0.6051 - val_loss: 0.9222 - val_accuracy: 0.5883\n",
      "Epoch 12/1000\n",
      "148/148 [==============================] - 1s 8ms/step - loss: 0.8989 - accuracy: 0.5945 - val_loss: 0.9050 - val_accuracy: 0.5985\n",
      "Epoch 13/1000\n",
      "148/148 [==============================] - 1s 9ms/step - loss: 0.8839 - accuracy: 0.6058 - val_loss: 0.9148 - val_accuracy: 0.5976\n",
      "Epoch 14/1000\n",
      "148/148 [==============================] - 1s 8ms/step - loss: 0.8823 - accuracy: 0.6115 - val_loss: 0.9198 - val_accuracy: 0.6061\n",
      "Epoch 15/1000\n",
      "148/148 [==============================] - 1s 10ms/step - loss: 0.8750 - accuracy: 0.6144 - val_loss: 0.9018 - val_accuracy: 0.6010\n",
      "Epoch 16/1000\n",
      "148/148 [==============================] - 1s 10ms/step - loss: 0.8770 - accuracy: 0.6098 - val_loss: 0.9224 - val_accuracy: 0.6061\n",
      "Epoch 17/1000\n",
      "148/148 [==============================] - 1s 9ms/step - loss: 0.8621 - accuracy: 0.6140 - val_loss: 0.9057 - val_accuracy: 0.5985\n",
      "Epoch 18/1000\n",
      "148/148 [==============================] - 1s 6ms/step - loss: 0.8681 - accuracy: 0.6144 - val_loss: 0.8991 - val_accuracy: 0.6137\n",
      "Epoch 19/1000\n",
      "148/148 [==============================] - 1s 6ms/step - loss: 0.8680 - accuracy: 0.6142 - val_loss: 0.8869 - val_accuracy: 0.6044\n",
      "Epoch 20/1000\n",
      "148/148 [==============================] - 2s 10ms/step - loss: 0.8708 - accuracy: 0.6138 - val_loss: 0.9227 - val_accuracy: 0.5740\n",
      "Epoch 21/1000\n",
      "148/148 [==============================] - 1s 10ms/step - loss: 0.8630 - accuracy: 0.6184 - val_loss: 0.9041 - val_accuracy: 0.5917\n",
      "Epoch 22/1000\n",
      "148/148 [==============================] - 1s 10ms/step - loss: 0.8563 - accuracy: 0.6235 - val_loss: 0.8951 - val_accuracy: 0.5968\n",
      "Epoch 23/1000\n",
      "148/148 [==============================] - 1s 10ms/step - loss: 0.8548 - accuracy: 0.6197 - val_loss: 0.9317 - val_accuracy: 0.5985\n",
      "Epoch 24/1000\n",
      "148/148 [==============================] - 1s 10ms/step - loss: 0.8544 - accuracy: 0.6208 - val_loss: 0.8840 - val_accuracy: 0.6078\n",
      "Epoch 25/1000\n",
      "148/148 [==============================] - 2s 10ms/step - loss: 0.8460 - accuracy: 0.6246 - val_loss: 0.8866 - val_accuracy: 0.6061\n",
      "Epoch 26/1000\n",
      "148/148 [==============================] - 1s 9ms/step - loss: 0.8456 - accuracy: 0.6242 - val_loss: 0.8929 - val_accuracy: 0.6078\n",
      "Epoch 27/1000\n",
      "148/148 [==============================] - 1s 6ms/step - loss: 0.8406 - accuracy: 0.6208 - val_loss: 0.9098 - val_accuracy: 0.5883\n",
      "Epoch 28/1000\n",
      "148/148 [==============================] - 1s 8ms/step - loss: 0.8372 - accuracy: 0.6347 - val_loss: 0.9168 - val_accuracy: 0.5926\n",
      "Epoch 29/1000\n",
      "148/148 [==============================] - 1s 7ms/step - loss: 0.8408 - accuracy: 0.6282 - val_loss: 0.8857 - val_accuracy: 0.6171\n",
      "Epoch 30/1000\n",
      "148/148 [==============================] - 2s 10ms/step - loss: 0.8386 - accuracy: 0.6229 - val_loss: 0.9047 - val_accuracy: 0.6078\n",
      "Epoch 31/1000\n",
      "148/148 [==============================] - 1s 7ms/step - loss: 0.8362 - accuracy: 0.6233 - val_loss: 0.8996 - val_accuracy: 0.6162\n",
      "Epoch 32/1000\n",
      "148/148 [==============================] - 1s 8ms/step - loss: 0.8331 - accuracy: 0.6311 - val_loss: 0.8780 - val_accuracy: 0.6095\n",
      "Epoch 33/1000\n",
      "148/148 [==============================] - 1s 10ms/step - loss: 0.8325 - accuracy: 0.6252 - val_loss: 0.8864 - val_accuracy: 0.6095\n",
      "Epoch 34/1000\n",
      "148/148 [==============================] - 1s 9ms/step - loss: 0.8302 - accuracy: 0.6233 - val_loss: 0.8969 - val_accuracy: 0.6188\n",
      "Epoch 35/1000\n",
      "148/148 [==============================] - 2s 10ms/step - loss: 0.8302 - accuracy: 0.6297 - val_loss: 0.8863 - val_accuracy: 0.6137\n",
      "Epoch 36/1000\n",
      "148/148 [==============================] - 1s 9ms/step - loss: 0.8305 - accuracy: 0.6297 - val_loss: 0.8911 - val_accuracy: 0.5976\n",
      "Epoch 37/1000\n",
      "148/148 [==============================] - 1s 9ms/step - loss: 0.8287 - accuracy: 0.6303 - val_loss: 0.8868 - val_accuracy: 0.5934\n",
      "Epoch 38/1000\n",
      "148/148 [==============================] - 1s 10ms/step - loss: 0.8302 - accuracy: 0.6269 - val_loss: 0.8711 - val_accuracy: 0.6128\n",
      "Epoch 39/1000\n",
      "148/148 [==============================] - 1s 10ms/step - loss: 0.8346 - accuracy: 0.6288 - val_loss: 0.8699 - val_accuracy: 0.6137\n",
      "Epoch 40/1000\n",
      "148/148 [==============================] - 1s 10ms/step - loss: 0.8253 - accuracy: 0.6290 - val_loss: 0.8937 - val_accuracy: 0.6052\n",
      "Epoch 41/1000\n",
      "148/148 [==============================] - 1s 10ms/step - loss: 0.8278 - accuracy: 0.6303 - val_loss: 0.8757 - val_accuracy: 0.6221\n",
      "Epoch 42/1000\n",
      "148/148 [==============================] - 1s 10ms/step - loss: 0.8212 - accuracy: 0.6265 - val_loss: 0.8878 - val_accuracy: 0.6044\n",
      "Epoch 43/1000\n",
      "148/148 [==============================] - 1s 9ms/step - loss: 0.8266 - accuracy: 0.6307 - val_loss: 0.8911 - val_accuracy: 0.6196\n",
      "Epoch 44/1000\n",
      "148/148 [==============================] - 1s 9ms/step - loss: 0.8210 - accuracy: 0.6318 - val_loss: 0.8861 - val_accuracy: 0.6154\n",
      "Epoch 45/1000\n",
      "148/148 [==============================] - 1s 8ms/step - loss: 0.8228 - accuracy: 0.6324 - val_loss: 0.8867 - val_accuracy: 0.6213\n",
      "Epoch 46/1000\n",
      "148/148 [==============================] - 2s 11ms/step - loss: 0.8196 - accuracy: 0.6343 - val_loss: 0.8650 - val_accuracy: 0.6103\n",
      "Epoch 47/1000\n",
      "148/148 [==============================] - 1s 10ms/step - loss: 0.8174 - accuracy: 0.6366 - val_loss: 0.8684 - val_accuracy: 0.6052\n",
      "Epoch 48/1000\n",
      "148/148 [==============================] - 2s 11ms/step - loss: 0.8234 - accuracy: 0.6332 - val_loss: 0.8641 - val_accuracy: 0.6095\n",
      "Epoch 49/1000\n",
      "148/148 [==============================] - 1s 9ms/step - loss: 0.8129 - accuracy: 0.6432 - val_loss: 0.8814 - val_accuracy: 0.6069\n",
      "Epoch 50/1000\n",
      "148/148 [==============================] - 1s 8ms/step - loss: 0.8187 - accuracy: 0.6373 - val_loss: 0.8888 - val_accuracy: 0.6112\n",
      "Epoch 51/1000\n",
      "148/148 [==============================] - 1s 10ms/step - loss: 0.8214 - accuracy: 0.6322 - val_loss: 0.8814 - val_accuracy: 0.6154\n",
      "Epoch 52/1000\n",
      "148/148 [==============================] - 1s 8ms/step - loss: 0.8182 - accuracy: 0.6383 - val_loss: 0.8800 - val_accuracy: 0.6036\n",
      "Epoch 53/1000\n",
      "148/148 [==============================] - 1s 7ms/step - loss: 0.8158 - accuracy: 0.6360 - val_loss: 0.8641 - val_accuracy: 0.6036\n",
      "Epoch 54/1000\n",
      "148/148 [==============================] - 1s 8ms/step - loss: 0.8148 - accuracy: 0.6400 - val_loss: 0.8939 - val_accuracy: 0.6128\n",
      "Epoch 55/1000\n",
      "148/148 [==============================] - 1s 8ms/step - loss: 0.8177 - accuracy: 0.6360 - val_loss: 0.8732 - val_accuracy: 0.6238\n",
      "Epoch 56/1000\n",
      "148/148 [==============================] - 1s 7ms/step - loss: 0.8081 - accuracy: 0.6400 - val_loss: 0.8920 - val_accuracy: 0.6145\n",
      "Epoch 57/1000\n"
     ]
    },
    {
     "name": "stdout",
     "output_type": "stream",
     "text": [
      "148/148 [==============================] - 1s 5ms/step - loss: 0.8149 - accuracy: 0.6377 - val_loss: 0.9120 - val_accuracy: 0.6128\n",
      "Epoch 58/1000\n",
      "148/148 [==============================] - 1s 5ms/step - loss: 0.8152 - accuracy: 0.6400 - val_loss: 0.8819 - val_accuracy: 0.6213\n"
     ]
    },
    {
     "data": {
      "text/plain": [
       "<keras.callbacks.History at 0x211d59a0400>"
      ]
     },
     "execution_count": 114,
     "metadata": {},
     "output_type": "execute_result"
    }
   ],
   "source": [
    "model.fit(\n",
    "    X_train,\n",
    "    y_train,\n",
    "    batch_size=32,\n",
    "    epochs=1000,\n",
    "    callbacks=[early_stopping],\n",
    "    validation_data=(X_test, y_test),\n",
    ")"
   ]
  },
  {
   "cell_type": "code",
   "execution_count": null,
   "id": "3c84b632",
   "metadata": {},
   "outputs": [],
   "source": []
  }
 ],
 "metadata": {
  "kernelspec": {
   "display_name": "Python 3 (ipykernel)",
   "language": "python",
   "name": "python3"
  },
  "language_info": {
   "codemirror_mode": {
    "name": "ipython",
    "version": 3
   },
   "file_extension": ".py",
   "mimetype": "text/x-python",
   "name": "python",
   "nbconvert_exporter": "python",
   "pygments_lexer": "ipython3",
   "version": "3.9.13"
  },
  "latex_envs": {
   "LaTeX_envs_menu_present": true,
   "autoclose": false,
   "autocomplete": true,
   "bibliofile": "biblio.bib",
   "cite_by": "apalike",
   "current_citInitial": 1,
   "eqLabelWithNumbers": true,
   "eqNumInitial": 1,
   "hotkeys": {
    "equation": "Ctrl-E",
    "itemize": "Ctrl-I"
   },
   "labels_anchors": false,
   "latex_user_defs": false,
   "report_style_numbering": false,
   "user_envs_cfg": false
  }
 },
 "nbformat": 4,
 "nbformat_minor": 5
}
