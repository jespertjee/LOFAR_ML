{
 "cells": [
  {
   "cell_type": "code",
   "execution_count": 1,
   "id": "573e57d6",
   "metadata": {},
   "outputs": [
    {
     "name": "stderr",
     "output_type": "stream",
     "text": [
      "/Users/users/karsten/.local/lib/python3.9/site-packages/tpot/builtins/__init__.py:36: UserWarning: Warning: optional dependency `torch` is not available. - skipping import of NN models.\n",
      "  warnings.warn(\"Warning: optional dependency `torch` is not available. - skipping import of NN models.\")\n"
     ]
    }
   ],
   "source": [
    "import pandas as pd\n",
    "import numpy as np\n",
    "from sklearn.impute import SimpleImputer\n",
    "from sklearn.model_selection import train_test_split, GridSearchCV, cross_val_score\n",
    "from sklearn.preprocessing import StandardScaler, OneHotEncoder, LabelEncoder, OrdinalEncoder, MinMaxScaler, RobustScaler, MaxAbsScaler\n",
    "from sklearn.ensemble import RandomForestClassifier\n",
    "from sklearn.metrics import accuracy_score, classification_report\n",
    "from sklearn.decomposition import PCA\n",
    "from sklearn.utils.class_weight import compute_class_weight\n",
    "\n",
    "\n",
    "from sklearn.metrics import confusion_matrix, ConfusionMatrixDisplay\n",
    "import matplotlib.pyplot as plt\n",
    "\n",
    "from xgboost import XGBClassifier, XGBRegressor\n",
    "import xgboost as xgb\n",
    "from tpot import TPOTClassifier"
   ]
  },
  {
   "cell_type": "code",
   "execution_count": 2,
   "id": "cb83e126",
   "metadata": {},
   "outputs": [],
   "source": [
    "features_num = [\n",
    "    'Total_flux', 'Peak_flux', \n",
    "       'NUV_flux_corr', 'u_flux_corr', 'Bw_flux_corr', 'R_flux_corr',\n",
    "       'I_flux_corr', 'z_flux_corr', 'y_flux_corr',\n",
    "       'J_flux_corr', 'H_flux_corr', 'K_flux_corr', 'Ks_flux_corr',\n",
    "       'ch1_flux_corr', 'ch2_flux_corr', 'ch3_flux_corr', 'ch4_flux_corr',\n",
    "       'F_MIPS_24', 'F_PACS_100', 'F_PACS_160', 'F_SPIRE_250', 'F_SPIRE_350',\n",
    "       'F_SPIRE_500', 'Z_BEST',\n",
    "       'g_flux_corr', 'nb921_hsc_flux_corr'\n",
    "    ]\n",
    "y_column = \"Classification\"\n",
    "\n",
    "classes = ['jet-mode radio AGN/low-excitation radio galaxy', 'quasar-like radio AGN / high-excitation radio galaxy', \n",
    "           'radio-quiet AGN', 'star-forming galaxy']"
   ]
  },
  {
   "cell_type": "code",
   "execution_count": 3,
   "id": "a92a92ff",
   "metadata": {},
   "outputs": [],
   "source": [
    "data = pd.read_csv(\"../../../Data/Fangyou_data/Cleaned/combined_using_similar_columns.csv\")\n",
    "data['Source'] = 'Original'"
   ]
  },
  {
   "cell_type": "code",
   "execution_count": 4,
   "id": "61005db1",
   "metadata": {},
   "outputs": [],
   "source": [
    "X = data[features_num]\n",
    "y = data[[y_column, 'Source', 'Xray', 'Opt_spec', 'IRAGN', 'Donley']]"
   ]
  },
  {
   "cell_type": "code",
   "execution_count": 5,
   "id": "17a658af",
   "metadata": {},
   "outputs": [
    {
     "name": "stderr",
     "output_type": "stream",
     "text": [
      "/var/lib/condor/execute/dir_3067959/ipykernel_3069726/2943677748.py:3: SettingWithCopyWarning: \n",
      "A value is trying to be set on a copy of a slice from a DataFrame.\n",
      "Try using .loc[row_indexer,col_indexer] = value instead\n",
      "\n",
      "See the caveats in the documentation: https://pandas.pydata.org/pandas-docs/stable/user_guide/indexing.html#returning-a-view-versus-a-copy\n",
      "  y[\"Classification\"] = le.fit_transform(y[\"Classification\"])\n"
     ]
    }
   ],
   "source": [
    "le = LabelEncoder()\n",
    "labels = np.unique(y[\"Classification\"].astype(str))\n",
    "y[\"Classification\"] = le.fit_transform(y[\"Classification\"])"
   ]
  },
  {
   "cell_type": "code",
   "execution_count": 6,
   "id": "3026d6a9",
   "metadata": {},
   "outputs": [
    {
     "name": "stderr",
     "output_type": "stream",
     "text": [
      "/var/lib/condor/execute/dir_3067959/ipykernel_3069726/975002904.py:3: SettingWithCopyWarning: \n",
      "A value is trying to be set on a copy of a slice from a DataFrame\n",
      "\n",
      "See the caveats in the documentation: https://pandas.pydata.org/pandas-docs/stable/user_guide/indexing.html#returning-a-view-versus-a-copy\n",
      "  y[c][y[c]==-1]=np.nan\n",
      "/Software/users/modules/7/software/anaconda3/2021.11/lib/python3.9/site-packages/pandas/core/generic.py:8870: SettingWithCopyWarning: \n",
      "A value is trying to be set on a copy of a slice from a DataFrame\n",
      "\n",
      "See the caveats in the documentation: https://pandas.pydata.org/pandas-docs/stable/user_guide/indexing.html#returning-a-view-versus-a-copy\n",
      "  return self._update_inplace(result)\n",
      "/var/lib/condor/execute/dir_3067959/ipykernel_3069726/975002904.py:4: SettingWithCopyWarning: \n",
      "A value is trying to be set on a copy of a slice from a DataFrame\n",
      "\n",
      "See the caveats in the documentation: https://pandas.pydata.org/pandas-docs/stable/user_guide/indexing.html#returning-a-view-versus-a-copy\n",
      "  y[c][y[c] == 1] = True\n",
      "/var/lib/condor/execute/dir_3067959/ipykernel_3069726/975002904.py:5: SettingWithCopyWarning: \n",
      "A value is trying to be set on a copy of a slice from a DataFrame\n",
      "\n",
      "See the caveats in the documentation: https://pandas.pydata.org/pandas-docs/stable/user_guide/indexing.html#returning-a-view-versus-a-copy\n",
      "  y[c][y[c] == 0] = False\n"
     ]
    }
   ],
   "source": [
    "# -1 in the LOFAR deep fields should become nans since they are factually nans\n",
    "for c in ['Xray', 'Opt_spec', 'IRAGN', 'Donley']:\n",
    "    y[c][y[c]==-1]=np.nan\n",
    "    y[c][y[c] == 1] = True\n",
    "    y[c][y[c] == 0] = False"
   ]
  },
  {
   "cell_type": "markdown",
   "id": "e3dcbbfa",
   "metadata": {},
   "source": [
    "## BH data"
   ]
  },
  {
   "cell_type": "code",
   "execution_count": 7,
   "id": "5c2c4186",
   "metadata": {},
   "outputs": [],
   "source": [
    "Best_Heckman_data = pd.read_csv(\"../../../Data/Best&Heckman/BestHeckman+SDSS+wise+LOFAR_better.csv\")\n",
    "Best_Heckman_data['Source'] = 'BH'"
   ]
  },
  {
   "cell_type": "code",
   "execution_count": 8,
   "id": "296d7b2a",
   "metadata": {},
   "outputs": [],
   "source": [
    "# Only selecting data with a classification\n",
    "Best_Heckman_data = Best_Heckman_data[Best_Heckman_data['Classification'] != 'Radio-loud AGN'] "
   ]
  },
  {
   "cell_type": "code",
   "execution_count": 9,
   "id": "58a6b253",
   "metadata": {},
   "outputs": [],
   "source": [
    "Best_Heckman_X = Best_Heckman_data[[c for c in Best_Heckman_data.columns if c != 'Classification']]\n",
    "Best_Heckman_y = Best_Heckman_data[['Classification', 'Source']]"
   ]
  },
  {
   "cell_type": "code",
   "execution_count": 10,
   "id": "2b6ef6e8",
   "metadata": {},
   "outputs": [
    {
     "name": "stderr",
     "output_type": "stream",
     "text": [
      "/var/lib/condor/execute/dir_3067959/ipykernel_3069726/4234724966.py:1: SettingWithCopyWarning: \n",
      "A value is trying to be set on a copy of a slice from a DataFrame.\n",
      "Try using .loc[row_indexer,col_indexer] = value instead\n",
      "\n",
      "See the caveats in the documentation: https://pandas.pydata.org/pandas-docs/stable/user_guide/indexing.html#returning-a-view-versus-a-copy\n",
      "  Best_Heckman_y['Classification'] = le.transform(Best_Heckman_y['Classification'])\n"
     ]
    }
   ],
   "source": [
    "Best_Heckman_y['Classification'] = le.transform(Best_Heckman_y['Classification'])"
   ]
  },
  {
   "cell_type": "code",
   "execution_count": 11,
   "id": "15f4bd5c",
   "metadata": {},
   "outputs": [],
   "source": [
    "y = pd.concat([y, Best_Heckman_y]).reset_index(drop=True)"
   ]
  },
  {
   "cell_type": "code",
   "execution_count": 12,
   "id": "e38c7136",
   "metadata": {},
   "outputs": [],
   "source": [
    "Best_Heckman_X = Best_Heckman_X[['Z_BEST', 'u_flux_corr',\n",
    "       'g_flux_corr', 'R_flux_corr', 'I_flux_corr', 'z_flux_corr', 'ch1_flux_corr', 'ch2_flux_corr',\n",
    "       'J_flux_corr', 'H_flux_corr', 'Ks_flux_corr', 'Peak_flux', 'Total_flux']]\n",
    "\n",
    "# Adding nans to missing columns\n",
    "Best_Heckman_X[['NUV_flux_corr', 'Bw_flux_corr', 'y_flux_corr', 'K_flux_corr', \n",
    "                'F_MIPS_24', 'F_PACS_100', 'F_PACS_160', 'F_SPIRE_250', 'F_SPIRE_350',\n",
    "                'F_SPIRE_500', 'nb921_hsc_flux_corr', 'ch3_flux_corr', 'ch4_flux_corr']] = np.nan"
   ]
  },
  {
   "cell_type": "code",
   "execution_count": 13,
   "id": "92d5e58d",
   "metadata": {},
   "outputs": [],
   "source": [
    "X = pd.concat([X, Best_Heckman_X]).reset_index(drop=True)"
   ]
  },
  {
   "cell_type": "markdown",
   "id": "6554d33d",
   "metadata": {},
   "source": [
    "### MIGHTEE data"
   ]
  },
  {
   "cell_type": "code",
   "execution_count": 14,
   "id": "a700bee9",
   "metadata": {},
   "outputs": [],
   "source": [
    "mightee_data = pd.read_csv(\"../../../Data/MIGHTEE/Classification/final_gaussian_radio_more.csv\")\n",
    "mightee_data['Source'] = 'MIGHTEE'"
   ]
  },
  {
   "cell_type": "code",
   "execution_count": 15,
   "id": "cbfd7fa0",
   "metadata": {},
   "outputs": [
    {
     "name": "stdout",
     "output_type": "stream",
     "text": [
      "Amount of rows: 4370\n"
     ]
    }
   ],
   "source": [
    "# Dropping nan classifications\n",
    "mightee_data = mightee_data[mightee_data['Classification'].notna()]\n",
    "\n",
    "# Dropping quasar-like radio AGN / high-excitation radio galaxy\n",
    "#mightee_data = mightee_data[mightee_data['Classification'] != 'star-forming galaxy']\n",
    "print(\"Amount of rows:\", len(mightee_data))"
   ]
  },
  {
   "cell_type": "code",
   "execution_count": 16,
   "id": "5ddf02ed",
   "metadata": {},
   "outputs": [],
   "source": [
    "mightee_X = mightee_data[[c for c in mightee_data.columns if c != 'Classification']]\n",
    "mightee_y = mightee_data[['Classification', 'Source', 'XAGN', 'midIRAGN', 'VLBAAGN', 'RLAGN', 'optAGN']]"
   ]
  },
  {
   "cell_type": "code",
   "execution_count": 17,
   "id": "fea4a372",
   "metadata": {},
   "outputs": [
    {
     "name": "stderr",
     "output_type": "stream",
     "text": [
      "/var/lib/condor/execute/dir_3067959/ipykernel_3069726/3228600438.py:1: SettingWithCopyWarning: \n",
      "A value is trying to be set on a copy of a slice from a DataFrame.\n",
      "Try using .loc[row_indexer,col_indexer] = value instead\n",
      "\n",
      "See the caveats in the documentation: https://pandas.pydata.org/pandas-docs/stable/user_guide/indexing.html#returning-a-view-versus-a-copy\n",
      "  mightee_y['Classification'] = le.transform(mightee_y['Classification'])\n"
     ]
    }
   ],
   "source": [
    "mightee_y['Classification'] = le.transform(mightee_y['Classification'])"
   ]
  },
  {
   "cell_type": "code",
   "execution_count": 18,
   "id": "c04d8fef",
   "metadata": {},
   "outputs": [],
   "source": [
    "mightee_X = mightee_X[['Z_BEST', 'ch1_flux_corr', 'ch2_flux_corr', 'ch3_flux_corr',\n",
    "       'ch4_flux_corr', 'F_MIPS_24', 'F_PACS_100', 'F_PACS_160',\n",
    "       'F_SPIRE_250', 'F_SPIRE_350', 'F_SPIRE_500', 'Ks_flux_corr',\n",
    "       'H_flux_corr', 'J_flux_corr', 'i_flux_corr', 'r_flux_corr',\n",
    "       'u_flux_corr', 'z_flux_corr', 'y_flux_corr', 'NUV_flux_corr',\n",
    "       #'FUV_flux_corr', \n",
    "                       'Total_flux', 'Peak_flux']]\n",
    "\n",
    "mightee_X[['I_flux_corr', 'R_flux_corr']] = mightee_X[['i_flux_corr', 'r_flux_corr']]\n",
    "mightee_X = mightee_X.drop(columns=['i_flux_corr', 'r_flux_corr'])\n",
    "\n",
    "# Adding nans to missing columns\n",
    "mightee_X[['Bw_flux_corr', 'K_flux_corr', 'g_flux_corr', 'nb921_hsc_flux_corr']] = np.nan\n",
    "\n",
    "# Changing order\n",
    "mightee_X = mightee_X[['Total_flux', 'Peak_flux', \n",
    "                       'NUV_flux_corr', 'u_flux_corr', \n",
    "                       'Bw_flux_corr', 'R_flux_corr', \n",
    "                       'I_flux_corr', 'z_flux_corr', \n",
    "                       'y_flux_corr', 'J_flux_corr', \n",
    "                       'H_flux_corr', 'K_flux_corr', \n",
    "                       'Ks_flux_corr', 'ch1_flux_corr', \n",
    "                       'ch2_flux_corr', 'ch3_flux_corr', \n",
    "                       'ch4_flux_corr', 'F_MIPS_24', 'F_PACS_100', \n",
    "                       'F_PACS_160', 'F_SPIRE_250', 'F_SPIRE_350', \n",
    "                       'F_SPIRE_500', 'Z_BEST', \n",
    "                       'g_flux_corr', 'nb921_hsc_flux_corr']]"
   ]
  },
  {
   "cell_type": "markdown",
   "id": "eb0cf49b",
   "metadata": {},
   "source": [
    "### Bayesian optimisation"
   ]
  },
  {
   "cell_type": "code",
   "execution_count": 19,
   "id": "93502218",
   "metadata": {},
   "outputs": [],
   "source": [
    "from bayes_opt import BayesianOptimization"
   ]
  },
  {
   "cell_type": "code",
   "execution_count": 20,
   "id": "a2c3ea27",
   "metadata": {},
   "outputs": [],
   "source": [
    "def optimise_xgboost(max_depth, \n",
    "                     reg_alpha, \n",
    "                     reg_lambda, \n",
    "                     min_child_weight, \n",
    "                     eta,\n",
    "                     max_delta_step,\n",
    "                     n_estimators):\n",
    "    # The algorithm gives floats, so we round them\n",
    "    n_estimators = int(n_estimators)\n",
    "    max_depth = int(max_depth)\n",
    "    \n",
    "    model = XGBClassifier(use_label_encoder=False, \n",
    "                      max_depth=max_depth, \n",
    "                      reg_alpha=reg_alpha,   \n",
    "                      min_child_weight=min_child_weight, \n",
    "                      reg_lambda=reg_lambda,\n",
    "                      max_delta_step=max_delta_step,\n",
    "                      eta=eta,\n",
    "                      tree_method='hist',\n",
    "                      #gpu_id=0,\n",
    "                      objective='multi:softprob',\n",
    "                      eval_metric =['merror'],\n",
    "                      nthread=8,\n",
    "                      n_estimators=n_estimators\n",
    "                      )\n",
    "\n",
    "    # Training the model, no early stopping\n",
    "    model.fit(X_train, y_train['Classification'], \n",
    "                verbose=False, \n",
    "               )\n",
    "\n",
    "    # Getting the accuracy and appending\n",
    "    y_pred = model.predict(mightee_X)\n",
    "    return accuracy_score(mightee_y['Classification'], y_pred)"
   ]
  },
  {
   "cell_type": "code",
   "execution_count": 21,
   "id": "0c56bcff",
   "metadata": {},
   "outputs": [],
   "source": [
    "# Bounded region of parameter space\n",
    "pbounds = {\n",
    "    'max_depth': (5, 20),\n",
    "    'reg_alpha': (0, 100),\n",
    "    'reg_lambda': (0, 100),\n",
    "    'min_child_weight': (0, 100),\n",
    "    'eta': (0.05, 0.6),\n",
    "    'max_delta_step': (0,100),\n",
    "    'n_estimators': (10,1000)\n",
    "}"
   ]
  },
  {
   "cell_type": "code",
   "execution_count": 22,
   "id": "f38a3bb4",
   "metadata": {},
   "outputs": [],
   "source": [
    "from sklearn.model_selection import StratifiedKFold\n",
    "\n",
    "# Getting k folds for cross validation\n",
    "X_train, X_test, y_train, y_test = train_test_split(X, y, train_size=0.8, stratify=y[['Source', 'Classification']], random_state=42)"
   ]
  },
  {
   "cell_type": "code",
   "execution_count": 23,
   "id": "5e96d8d4",
   "metadata": {},
   "outputs": [],
   "source": [
    "optimizer = BayesianOptimization(\n",
    "    f=optimise_xgboost,\n",
    "    pbounds=pbounds,\n",
    "    verbose=2, # verbose = 1 prints only when a maximum is observed, verbose = 0 is silent\n",
    "    random_state=42,\n",
    ")"
   ]
  },
  {
   "cell_type": "code",
   "execution_count": null,
   "id": "68ac13f2",
   "metadata": {
    "scrolled": true
   },
   "outputs": [
    {
     "name": "stdout",
     "output_type": "stream",
     "text": [
      "|   iter    |  target   |    eta    | max_de... | max_depth | min_ch... | n_esti... | reg_alpha | reg_la... |\n",
      "-------------------------------------------------------------------------------------------------------------\n",
      "| \u001b[0m1        \u001b[0m | \u001b[0m0.662    \u001b[0m | \u001b[0m0.256    \u001b[0m | \u001b[0m95.07    \u001b[0m | \u001b[0m15.98    \u001b[0m | \u001b[0m59.87    \u001b[0m | \u001b[0m164.5    \u001b[0m | \u001b[0m15.6     \u001b[0m | \u001b[0m5.808    \u001b[0m |\n",
      "| \u001b[95m2        \u001b[0m | \u001b[95m0.6714   \u001b[0m | \u001b[95m0.5264   \u001b[0m | \u001b[95m60.11    \u001b[0m | \u001b[95m15.62    \u001b[0m | \u001b[95m2.058    \u001b[0m | \u001b[95m970.2    \u001b[0m | \u001b[95m83.24    \u001b[0m | \u001b[95m21.23    \u001b[0m |\n",
      "| \u001b[0m3        \u001b[0m | \u001b[0m0.6677   \u001b[0m | \u001b[0m0.15     \u001b[0m | \u001b[0m18.34    \u001b[0m | \u001b[0m9.564    \u001b[0m | \u001b[0m52.48    \u001b[0m | \u001b[0m437.6    \u001b[0m | \u001b[0m29.12    \u001b[0m | \u001b[0m61.19    \u001b[0m |\n",
      "| \u001b[0m4        \u001b[0m | \u001b[0m0.6606   \u001b[0m | \u001b[0m0.1267   \u001b[0m | \u001b[0m29.21    \u001b[0m | \u001b[0m10.5     \u001b[0m | \u001b[0m45.61    \u001b[0m | \u001b[0m787.3    \u001b[0m | \u001b[0m19.97    \u001b[0m | \u001b[0m51.42    \u001b[0m |\n",
      "| \u001b[95m5        \u001b[0m | \u001b[95m0.6799   \u001b[0m | \u001b[95m0.3758   \u001b[0m | \u001b[95m4.645    \u001b[0m | \u001b[95m14.11    \u001b[0m | \u001b[95m17.05    \u001b[0m | \u001b[95m74.4     \u001b[0m | \u001b[95m94.89    \u001b[0m | \u001b[95m96.56    \u001b[0m |\n",
      "| \u001b[0m6        \u001b[0m | \u001b[0m0.6725   \u001b[0m | \u001b[0m0.4435   \u001b[0m | \u001b[0m10.96    \u001b[0m | \u001b[0m16.24    \u001b[0m | \u001b[0m13.59    \u001b[0m | \u001b[0m75.96    \u001b[0m | \u001b[0m97.61    \u001b[0m | \u001b[0m95.7     \u001b[0m |\n",
      "| \u001b[0m7        \u001b[0m | \u001b[0m0.6776   \u001b[0m | \u001b[0m0.497    \u001b[0m | \u001b[0m0.2218   \u001b[0m | \u001b[0m18.74    \u001b[0m | \u001b[0m12.83    \u001b[0m | \u001b[0m60.46    \u001b[0m | \u001b[0m99.52    \u001b[0m | \u001b[0m99.98    \u001b[0m |\n",
      "| \u001b[95m8        \u001b[0m | \u001b[95m0.686    \u001b[0m | \u001b[95m0.1412   \u001b[0m | \u001b[95m15.3     \u001b[0m | \u001b[95m13.37    \u001b[0m | \u001b[95m11.47    \u001b[0m | \u001b[95m74.5     \u001b[0m | \u001b[95m95.21    \u001b[0m | \u001b[95m95.88    \u001b[0m |\n",
      "| \u001b[0m9        \u001b[0m | \u001b[0m0.6856   \u001b[0m | \u001b[0m0.5908   \u001b[0m | \u001b[0m17.32    \u001b[0m | \u001b[0m16.02    \u001b[0m | \u001b[0m18.63    \u001b[0m | \u001b[0m78.73    \u001b[0m | \u001b[0m99.7     \u001b[0m | \u001b[0m88.76    \u001b[0m |\n",
      "| \u001b[0m10       \u001b[0m | \u001b[0m0.676    \u001b[0m | \u001b[0m0.3558   \u001b[0m | \u001b[0m90.37    \u001b[0m | \u001b[0m14.93    \u001b[0m | \u001b[0m23.05    \u001b[0m | \u001b[0m966.5    \u001b[0m | \u001b[0m39.61    \u001b[0m | \u001b[0m2.766    \u001b[0m |\n",
      "| \u001b[0m11       \u001b[0m | \u001b[0m0.6469   \u001b[0m | \u001b[0m0.495    \u001b[0m | \u001b[0m19.27    \u001b[0m | \u001b[0m17.76    \u001b[0m | \u001b[0m65.1     \u001b[0m | \u001b[0m666.4    \u001b[0m | \u001b[0m5.12     \u001b[0m | \u001b[0m41.88    \u001b[0m |\n",
      "| \u001b[0m12       \u001b[0m | \u001b[0m0.6764   \u001b[0m | \u001b[0m0.4344   \u001b[0m | \u001b[0m5.596    \u001b[0m | \u001b[0m16.61    \u001b[0m | \u001b[0m7.209    \u001b[0m | \u001b[0m59.04    \u001b[0m | \u001b[0m92.92    \u001b[0m | \u001b[0m94.02    \u001b[0m |\n",
      "| \u001b[0m13       \u001b[0m | \u001b[0m0.6764   \u001b[0m | \u001b[0m0.5792   \u001b[0m | \u001b[0m13.25    \u001b[0m | \u001b[0m7.284    \u001b[0m | \u001b[0m14.28    \u001b[0m | \u001b[0m79.92    \u001b[0m | \u001b[0m90.52    \u001b[0m | \u001b[0m81.87    \u001b[0m |\n",
      "| \u001b[0m14       \u001b[0m | \u001b[0m0.6778   \u001b[0m | \u001b[0m0.4698   \u001b[0m | \u001b[0m6.649    \u001b[0m | \u001b[0m14.86    \u001b[0m | \u001b[0m12.55    \u001b[0m | \u001b[0m57.51    \u001b[0m | \u001b[0m89.41    \u001b[0m | \u001b[0m92.83    \u001b[0m |\n",
      "| \u001b[0m15       \u001b[0m | \u001b[0m0.673    \u001b[0m | \u001b[0m0.08685  \u001b[0m | \u001b[0m95.27    \u001b[0m | \u001b[0m11.34    \u001b[0m | \u001b[0m20.66    \u001b[0m | \u001b[0m971.7    \u001b[0m | \u001b[0m39.56    \u001b[0m | \u001b[0m0.4509   \u001b[0m |\n",
      "| \u001b[0m16       \u001b[0m | \u001b[0m0.6712   \u001b[0m | \u001b[0m0.5909   \u001b[0m | \u001b[0m9.543    \u001b[0m | \u001b[0m19.68    \u001b[0m | \u001b[0m13.26    \u001b[0m | \u001b[0m53.64    \u001b[0m | \u001b[0m79.53    \u001b[0m | \u001b[0m93.99    \u001b[0m |\n",
      "| \u001b[0m17       \u001b[0m | \u001b[0m0.6803   \u001b[0m | \u001b[0m0.2563   \u001b[0m | \u001b[0m15.26    \u001b[0m | \u001b[0m10.34    \u001b[0m | \u001b[0m12.75    \u001b[0m | \u001b[0m69.85    \u001b[0m | \u001b[0m95.96    \u001b[0m | \u001b[0m91.48    \u001b[0m |\n",
      "| \u001b[0m18       \u001b[0m | \u001b[0m0.6741   \u001b[0m | \u001b[0m0.3985   \u001b[0m | \u001b[0m7.158    \u001b[0m | \u001b[0m12.83    \u001b[0m | \u001b[0m1.473    \u001b[0m | \u001b[0m61.47    \u001b[0m | \u001b[0m96.46    \u001b[0m | \u001b[0m99.68    \u001b[0m |\n",
      "| \u001b[95m19       \u001b[0m | \u001b[95m0.6904   \u001b[0m | \u001b[95m0.2792   \u001b[0m | \u001b[95m19.3     \u001b[0m | \u001b[95m6.253    \u001b[0m | \u001b[95m10.97    \u001b[0m | \u001b[95m70.64    \u001b[0m | \u001b[95m92.04    \u001b[0m | \u001b[95m80.89    \u001b[0m |\n",
      "| \u001b[0m20       \u001b[0m | \u001b[0m0.6696   \u001b[0m | \u001b[0m0.5963   \u001b[0m | \u001b[0m16.07    \u001b[0m | \u001b[0m11.86    \u001b[0m | \u001b[0m14.4     \u001b[0m | \u001b[0m73.5     \u001b[0m | \u001b[0m88.33    \u001b[0m | \u001b[0m84.38    \u001b[0m |\n",
      "| \u001b[0m21       \u001b[0m | \u001b[0m0.6787   \u001b[0m | \u001b[0m0.494    \u001b[0m | \u001b[0m8.404    \u001b[0m | \u001b[0m15.06    \u001b[0m | \u001b[0m29.35    \u001b[0m | \u001b[0m83.84    \u001b[0m | \u001b[0m99.19    \u001b[0m | \u001b[0m88.78    \u001b[0m |\n",
      "| \u001b[0m22       \u001b[0m | \u001b[0m0.66     \u001b[0m | \u001b[0m0.4201   \u001b[0m | \u001b[0m49.68    \u001b[0m | \u001b[0m13.3     \u001b[0m | \u001b[0m26.95    \u001b[0m | \u001b[0m426.6    \u001b[0m | \u001b[0m24.49    \u001b[0m | \u001b[0m99.12    \u001b[0m |\n",
      "| \u001b[0m23       \u001b[0m | \u001b[0m0.6716   \u001b[0m | \u001b[0m0.1205   \u001b[0m | \u001b[0m89.3     \u001b[0m | \u001b[0m18.38    \u001b[0m | \u001b[0m28.78    \u001b[0m | \u001b[0m965.9    \u001b[0m | \u001b[0m35.52    \u001b[0m | \u001b[0m2.202    \u001b[0m |\n",
      "| \u001b[0m24       \u001b[0m | \u001b[0m0.6812   \u001b[0m | \u001b[0m0.3839   \u001b[0m | \u001b[0m8.534    \u001b[0m | \u001b[0m18.04    \u001b[0m | \u001b[0m13.37    \u001b[0m | \u001b[0m82.16    \u001b[0m | \u001b[0m94.55    \u001b[0m | \u001b[0m78.45    \u001b[0m |\n",
      "| \u001b[0m25       \u001b[0m | \u001b[0m0.6856   \u001b[0m | \u001b[0m0.4193   \u001b[0m | \u001b[0m22.93    \u001b[0m | \u001b[0m6.48     \u001b[0m | \u001b[0m9.333    \u001b[0m | \u001b[0m72.67    \u001b[0m | \u001b[0m81.85    \u001b[0m | \u001b[0m73.0     \u001b[0m |\n",
      "| \u001b[95m26       \u001b[0m | \u001b[95m0.6911   \u001b[0m | \u001b[95m0.2727   \u001b[0m | \u001b[95m28.28    \u001b[0m | \u001b[95m5.771    \u001b[0m | \u001b[95m20.26    \u001b[0m | \u001b[95m69.68    \u001b[0m | \u001b[95m92.62    \u001b[0m | \u001b[95m73.43    \u001b[0m |\n",
      "| \u001b[0m27       \u001b[0m | \u001b[0m0.6822   \u001b[0m | \u001b[0m0.3759   \u001b[0m | \u001b[0m21.85    \u001b[0m | \u001b[0m10.12    \u001b[0m | \u001b[0m36.79    \u001b[0m | \u001b[0m450.6    \u001b[0m | \u001b[0m99.57    \u001b[0m | \u001b[0m57.86    \u001b[0m |\n",
      "| \u001b[0m28       \u001b[0m | \u001b[0m0.6842   \u001b[0m | \u001b[0m0.08451  \u001b[0m | \u001b[0m98.44    \u001b[0m | \u001b[0m8.462    \u001b[0m | \u001b[0m7.324    \u001b[0m | \u001b[0m991.1    \u001b[0m | \u001b[0m87.78    \u001b[0m | \u001b[0m88.56    \u001b[0m |\n",
      "| \u001b[0m29       \u001b[0m | \u001b[0m0.6693   \u001b[0m | \u001b[0m0.3668   \u001b[0m | \u001b[0m52.62    \u001b[0m | \u001b[0m12.21    \u001b[0m | \u001b[0m1.144    \u001b[0m | \u001b[0m489.6    \u001b[0m | \u001b[0m50.38    \u001b[0m | \u001b[0m2.968    \u001b[0m |\n",
      "| \u001b[0m30       \u001b[0m | \u001b[0m0.6712   \u001b[0m | \u001b[0m0.493    \u001b[0m | \u001b[0m98.94    \u001b[0m | \u001b[0m7.847    \u001b[0m | \u001b[0m15.58    \u001b[0m | \u001b[0m318.7    \u001b[0m | \u001b[0m40.79    \u001b[0m | \u001b[0m40.06    \u001b[0m |\n",
      "| \u001b[0m31       \u001b[0m | \u001b[0m0.6387   \u001b[0m | \u001b[0m0.5637   \u001b[0m | \u001b[0m68.85    \u001b[0m | \u001b[0m14.98    \u001b[0m | \u001b[0m85.62    \u001b[0m | \u001b[0m334.0    \u001b[0m | \u001b[0m0.1789   \u001b[0m | \u001b[0m64.73    \u001b[0m |\n",
      "| \u001b[0m32       \u001b[0m | \u001b[0m0.6593   \u001b[0m | \u001b[0m0.173    \u001b[0m | \u001b[0m41.59    \u001b[0m | \u001b[0m15.29    \u001b[0m | \u001b[0m47.2     \u001b[0m | \u001b[0m543.1    \u001b[0m | \u001b[0m18.91    \u001b[0m | \u001b[0m78.73    \u001b[0m |\n",
      "| \u001b[0m33       \u001b[0m | \u001b[0m0.6755   \u001b[0m | \u001b[0m0.2753   \u001b[0m | \u001b[0m13.12    \u001b[0m | \u001b[0m17.83    \u001b[0m | \u001b[0m5.395    \u001b[0m | \u001b[0m79.64    \u001b[0m | \u001b[0m89.42    \u001b[0m | \u001b[0m99.53    \u001b[0m |\n",
      "| \u001b[95m34       \u001b[0m | \u001b[95m0.6998   \u001b[0m | \u001b[95m0.174    \u001b[0m | \u001b[95m19.63    \u001b[0m | \u001b[95m5.817    \u001b[0m | \u001b[95m10.67    \u001b[0m | \u001b[95m79.66    \u001b[0m | \u001b[95m86.04    \u001b[0m | \u001b[95m67.71    \u001b[0m |\n",
      "| \u001b[0m35       \u001b[0m | \u001b[0m0.67     \u001b[0m | \u001b[0m0.4146   \u001b[0m | \u001b[0m64.29    \u001b[0m | \u001b[0m18.86    \u001b[0m | \u001b[0m45.36    \u001b[0m | \u001b[0m660.1    \u001b[0m | \u001b[0m41.94    \u001b[0m | \u001b[0m84.64    \u001b[0m |\n",
      "| \u001b[0m36       \u001b[0m | \u001b[0m0.6741   \u001b[0m | \u001b[0m0.2009   \u001b[0m | \u001b[0m79.17    \u001b[0m | \u001b[0m17.31    \u001b[0m | \u001b[0m97.66    \u001b[0m | \u001b[0m141.9    \u001b[0m | \u001b[0m27.22    \u001b[0m | \u001b[0m41.86    \u001b[0m |\n",
      "| \u001b[0m37       \u001b[0m | \u001b[0m0.6703   \u001b[0m | \u001b[0m0.5243   \u001b[0m | \u001b[0m70.7     \u001b[0m | \u001b[0m7.393    \u001b[0m | \u001b[0m74.11    \u001b[0m | \u001b[0m663.1    \u001b[0m | \u001b[0m32.35    \u001b[0m | \u001b[0m3.524    \u001b[0m |\n",
      "| \u001b[0m38       \u001b[0m | \u001b[0m0.6934   \u001b[0m | \u001b[0m0.05     \u001b[0m | \u001b[0m22.23    \u001b[0m | \u001b[0m5.0      \u001b[0m | \u001b[0m11.07    \u001b[0m | \u001b[0m75.96    \u001b[0m | \u001b[0m94.04    \u001b[0m | \u001b[0m69.58    \u001b[0m |\n",
      "| \u001b[0m39       \u001b[0m | \u001b[0m0.6863   \u001b[0m | \u001b[0m0.4272   \u001b[0m | \u001b[0m31.85    \u001b[0m | \u001b[0m7.089    \u001b[0m | \u001b[0m17.32    \u001b[0m | \u001b[0m75.55    \u001b[0m | \u001b[0m82.79    \u001b[0m | \u001b[0m86.49    \u001b[0m |\n",
      "| \u001b[0m40       \u001b[0m | \u001b[0m0.6835   \u001b[0m | \u001b[0m0.07472  \u001b[0m | \u001b[0m15.37    \u001b[0m | \u001b[0m11.56    \u001b[0m | \u001b[0m63.69    \u001b[0m | \u001b[0m133.1    \u001b[0m | \u001b[0m24.61    \u001b[0m | \u001b[0m5.798    \u001b[0m |\n",
      "| \u001b[0m41       \u001b[0m | \u001b[0m0.6835   \u001b[0m | \u001b[0m0.1131   \u001b[0m | \u001b[0m35.82    \u001b[0m | \u001b[0m18.51    \u001b[0m | \u001b[0m8.524    \u001b[0m | \u001b[0m65.1     \u001b[0m | \u001b[0m89.39    \u001b[0m | \u001b[0m70.75    \u001b[0m |\n",
      "| \u001b[0m42       \u001b[0m | \u001b[0m0.6819   \u001b[0m | \u001b[0m0.3735   \u001b[0m | \u001b[0m13.86    \u001b[0m | \u001b[0m11.35    \u001b[0m | \u001b[0m18.42    \u001b[0m | \u001b[0m103.0    \u001b[0m | \u001b[0m93.61    \u001b[0m | \u001b[0m65.98    \u001b[0m |\n",
      "| \u001b[0m43       \u001b[0m | \u001b[0m0.6783   \u001b[0m | \u001b[0m0.5457   \u001b[0m | \u001b[0m23.87    \u001b[0m | \u001b[0m11.48    \u001b[0m | \u001b[0m21.1     \u001b[0m | \u001b[0m86.18    \u001b[0m | \u001b[0m98.46    \u001b[0m | \u001b[0m71.84    \u001b[0m |\n",
      "| \u001b[0m44       \u001b[0m | \u001b[0m0.6517   \u001b[0m | \u001b[0m0.2994   \u001b[0m | \u001b[0m49.08    \u001b[0m | \u001b[0m17.51    \u001b[0m | \u001b[0m84.89    \u001b[0m | \u001b[0m366.0    \u001b[0m | \u001b[0m18.82    \u001b[0m | \u001b[0m87.17    \u001b[0m |\n"
     ]
    },
    {
     "name": "stdout",
     "output_type": "stream",
     "text": [
      "| \u001b[0m45       \u001b[0m | \u001b[0m0.6863   \u001b[0m | \u001b[0m0.5685   \u001b[0m | \u001b[0m64.49    \u001b[0m | \u001b[0m5.175    \u001b[0m | \u001b[0m73.87    \u001b[0m | \u001b[0m942.2    \u001b[0m | \u001b[0m60.68    \u001b[0m | \u001b[0m57.16    \u001b[0m |\n",
      "| \u001b[0m46       \u001b[0m | \u001b[0m0.6867   \u001b[0m | \u001b[0m0.3      \u001b[0m | \u001b[0m21.26    \u001b[0m | \u001b[0m5.41     \u001b[0m | \u001b[0m65.87    \u001b[0m | \u001b[0m294.6    \u001b[0m | \u001b[0m73.48    \u001b[0m | \u001b[0m91.96    \u001b[0m |\n",
      "| \u001b[0m47       \u001b[0m | \u001b[0m0.6712   \u001b[0m | \u001b[0m0.2476   \u001b[0m | \u001b[0m58.02    \u001b[0m | \u001b[0m16.56    \u001b[0m | \u001b[0m21.57    \u001b[0m | \u001b[0m971.8    \u001b[0m | \u001b[0m39.21    \u001b[0m | \u001b[0m65.33    \u001b[0m |\n"
     ]
    }
   ],
   "source": [
    "import warnings\n",
    "with warnings.catch_warnings():\n",
    "    warnings.simplefilter(\"ignore\")\n",
    "    optimizer.maximize(\n",
    "        init_points=5,\n",
    "        n_iter=100,\n",
    "    )"
   ]
  },
  {
   "cell_type": "code",
   "execution_count": null,
   "id": "28eaffb1",
   "metadata": {},
   "outputs": [],
   "source": []
  }
 ],
 "metadata": {
  "kernelspec": {
   "display_name": "Anaconda3 - 2021.11",
   "language": "python",
   "name": "python3-2021.11"
  },
  "language_info": {
   "codemirror_mode": {
    "name": "ipython",
    "version": 3
   },
   "file_extension": ".py",
   "mimetype": "text/x-python",
   "name": "python",
   "nbconvert_exporter": "python",
   "pygments_lexer": "ipython3",
   "version": "3.9.7"
  },
  "latex_envs": {
   "LaTeX_envs_menu_present": true,
   "autoclose": false,
   "autocomplete": true,
   "bibliofile": "biblio.bib",
   "cite_by": "apalike",
   "current_citInitial": 1,
   "eqLabelWithNumbers": true,
   "eqNumInitial": 1,
   "hotkeys": {
    "equation": "Ctrl-E",
    "itemize": "Ctrl-I"
   },
   "labels_anchors": false,
   "latex_user_defs": false,
   "report_style_numbering": false,
   "user_envs_cfg": false
  }
 },
 "nbformat": 4,
 "nbformat_minor": 5
}
