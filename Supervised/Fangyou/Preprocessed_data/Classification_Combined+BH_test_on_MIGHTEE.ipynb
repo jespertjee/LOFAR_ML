{
 "cells": [
  {
   "cell_type": "code",
   "execution_count": 1,
   "id": "573e57d6",
   "metadata": {},
   "outputs": [
    {
     "name": "stderr",
     "output_type": "stream",
     "text": [
      "/Users/users/karsten/.local/lib/python3.9/site-packages/tpot/builtins/__init__.py:36: UserWarning: Warning: optional dependency `torch` is not available. - skipping import of NN models.\n",
      "  warnings.warn(\"Warning: optional dependency `torch` is not available. - skipping import of NN models.\")\n"
     ]
    }
   ],
   "source": [
    "import pandas as pd\n",
    "import numpy as np\n",
    "from sklearn.impute import SimpleImputer\n",
    "from sklearn.model_selection import train_test_split, GridSearchCV, cross_val_score\n",
    "from sklearn.preprocessing import StandardScaler, OneHotEncoder, LabelEncoder, OrdinalEncoder, MinMaxScaler, RobustScaler, MaxAbsScaler\n",
    "from sklearn.ensemble import RandomForestClassifier\n",
    "from sklearn.metrics import accuracy_score, classification_report\n",
    "from sklearn.decomposition import PCA\n",
    "from sklearn.utils.class_weight import compute_class_weight\n",
    "\n",
    "\n",
    "from sklearn.metrics import confusion_matrix, ConfusionMatrixDisplay\n",
    "import matplotlib.pyplot as plt\n",
    "\n",
    "from xgboost import XGBClassifier, XGBRegressor\n",
    "import xgboost as xgb\n",
    "from tpot import TPOTClassifier"
   ]
  },
  {
   "cell_type": "code",
   "execution_count": 2,
   "id": "cb83e126",
   "metadata": {},
   "outputs": [],
   "source": [
    "features_num = [\n",
    "    'Total_flux', 'Peak_flux', \n",
    "       'NUV_flux_corr', 'u_flux_corr', 'Bw_flux_corr', 'R_flux_corr',\n",
    "       'I_flux_corr', 'z_flux_corr', 'y_flux_corr',\n",
    "       'J_flux_corr', 'H_flux_corr', 'K_flux_corr', 'Ks_flux_corr',\n",
    "       'ch1_flux_corr', 'ch2_flux_corr', 'ch3_flux_corr', 'ch4_flux_corr',\n",
    "       'F_MIPS_24', 'F_PACS_100', 'F_PACS_160', 'F_SPIRE_250', 'F_SPIRE_350',\n",
    "       'F_SPIRE_500', 'Z_BEST',\n",
    "       'g_flux_corr', 'nb921_hsc_flux_corr'\n",
    "    ]\n",
    "y_column = \"Classification\"\n",
    "\n",
    "classes = ['jet-mode radio AGN/low-excitation radio galaxy', 'quasar-like radio AGN / high-excitation radio galaxy', \n",
    "           'radio-quiet AGN', 'star-forming galaxy']"
   ]
  },
  {
   "cell_type": "code",
   "execution_count": 3,
   "id": "a92a92ff",
   "metadata": {},
   "outputs": [],
   "source": [
    "data = pd.read_csv(\"../../../Data/Fangyou_data/Cleaned/combined_using_similar_columns.csv\")\n",
    "data['Source'] = 'Original'"
   ]
  },
  {
   "cell_type": "code",
   "execution_count": 4,
   "id": "61005db1",
   "metadata": {},
   "outputs": [],
   "source": [
    "X = data[features_num]\n",
    "y = data[[y_column, 'Source', 'Xray', 'Opt_spec', 'IRAGN', 'Donley']]"
   ]
  },
  {
   "cell_type": "code",
   "execution_count": 5,
   "id": "17a658af",
   "metadata": {},
   "outputs": [
    {
     "name": "stderr",
     "output_type": "stream",
     "text": [
      "/var/lib/condor/execute/dir_2982445/ipykernel_2982542/2943677748.py:3: SettingWithCopyWarning: \n",
      "A value is trying to be set on a copy of a slice from a DataFrame.\n",
      "Try using .loc[row_indexer,col_indexer] = value instead\n",
      "\n",
      "See the caveats in the documentation: https://pandas.pydata.org/pandas-docs/stable/user_guide/indexing.html#returning-a-view-versus-a-copy\n",
      "  y[\"Classification\"] = le.fit_transform(y[\"Classification\"])\n"
     ]
    }
   ],
   "source": [
    "le = LabelEncoder()\n",
    "labels = np.unique(y[\"Classification\"].astype(str))\n",
    "y[\"Classification\"] = le.fit_transform(y[\"Classification\"])"
   ]
  },
  {
   "cell_type": "code",
   "execution_count": 6,
   "id": "3026d6a9",
   "metadata": {},
   "outputs": [
    {
     "name": "stderr",
     "output_type": "stream",
     "text": [
      "/var/lib/condor/execute/dir_2982445/ipykernel_2982542/975002904.py:3: SettingWithCopyWarning: \n",
      "A value is trying to be set on a copy of a slice from a DataFrame\n",
      "\n",
      "See the caveats in the documentation: https://pandas.pydata.org/pandas-docs/stable/user_guide/indexing.html#returning-a-view-versus-a-copy\n",
      "  y[c][y[c]==-1]=np.nan\n",
      "/Software/users/modules/7/software/anaconda3/2021.11/lib/python3.9/site-packages/pandas/core/generic.py:8870: SettingWithCopyWarning: \n",
      "A value is trying to be set on a copy of a slice from a DataFrame\n",
      "\n",
      "See the caveats in the documentation: https://pandas.pydata.org/pandas-docs/stable/user_guide/indexing.html#returning-a-view-versus-a-copy\n",
      "  return self._update_inplace(result)\n",
      "/var/lib/condor/execute/dir_2982445/ipykernel_2982542/975002904.py:4: SettingWithCopyWarning: \n",
      "A value is trying to be set on a copy of a slice from a DataFrame\n",
      "\n",
      "See the caveats in the documentation: https://pandas.pydata.org/pandas-docs/stable/user_guide/indexing.html#returning-a-view-versus-a-copy\n",
      "  y[c][y[c] == 1] = True\n",
      "/var/lib/condor/execute/dir_2982445/ipykernel_2982542/975002904.py:5: SettingWithCopyWarning: \n",
      "A value is trying to be set on a copy of a slice from a DataFrame\n",
      "\n",
      "See the caveats in the documentation: https://pandas.pydata.org/pandas-docs/stable/user_guide/indexing.html#returning-a-view-versus-a-copy\n",
      "  y[c][y[c] == 0] = False\n"
     ]
    }
   ],
   "source": [
    "# -1 in the LOFAR deep fields should become nans since they are factually nans\n",
    "for c in ['Xray', 'Opt_spec', 'IRAGN', 'Donley']:\n",
    "    y[c][y[c]==-1]=np.nan\n",
    "    y[c][y[c] == 1] = True\n",
    "    y[c][y[c] == 0] = False"
   ]
  },
  {
   "cell_type": "markdown",
   "id": "e3dcbbfa",
   "metadata": {},
   "source": [
    "## BH data"
   ]
  },
  {
   "cell_type": "code",
   "execution_count": 7,
   "id": "5c2c4186",
   "metadata": {},
   "outputs": [],
   "source": [
    "Best_Heckman_data = pd.read_csv(\"../../../Data/Best&Heckman/BestHeckman+SDSS+wise+LOFAR_better.csv\")\n",
    "Best_Heckman_data['Source'] = 'BH'"
   ]
  },
  {
   "cell_type": "code",
   "execution_count": 8,
   "id": "296d7b2a",
   "metadata": {},
   "outputs": [],
   "source": [
    "# Only selecting data with a classification\n",
    "Best_Heckman_data = Best_Heckman_data[Best_Heckman_data['Classification'] != 'Radio-loud AGN'] "
   ]
  },
  {
   "cell_type": "code",
   "execution_count": 9,
   "id": "58a6b253",
   "metadata": {},
   "outputs": [],
   "source": [
    "Best_Heckman_X = Best_Heckman_data[[c for c in Best_Heckman_data.columns if c != 'Classification']]\n",
    "Best_Heckman_y = Best_Heckman_data[['Classification', 'Source']]"
   ]
  },
  {
   "cell_type": "code",
   "execution_count": 10,
   "id": "2b6ef6e8",
   "metadata": {},
   "outputs": [
    {
     "name": "stderr",
     "output_type": "stream",
     "text": [
      "/var/lib/condor/execute/dir_2982445/ipykernel_2982542/4234724966.py:1: SettingWithCopyWarning: \n",
      "A value is trying to be set on a copy of a slice from a DataFrame.\n",
      "Try using .loc[row_indexer,col_indexer] = value instead\n",
      "\n",
      "See the caveats in the documentation: https://pandas.pydata.org/pandas-docs/stable/user_guide/indexing.html#returning-a-view-versus-a-copy\n",
      "  Best_Heckman_y['Classification'] = le.transform(Best_Heckman_y['Classification'])\n"
     ]
    }
   ],
   "source": [
    "Best_Heckman_y['Classification'] = le.transform(Best_Heckman_y['Classification'])"
   ]
  },
  {
   "cell_type": "code",
   "execution_count": 11,
   "id": "15f4bd5c",
   "metadata": {},
   "outputs": [],
   "source": [
    "y = pd.concat([y, Best_Heckman_y]).reset_index(drop=True)"
   ]
  },
  {
   "cell_type": "code",
   "execution_count": 12,
   "id": "e38c7136",
   "metadata": {},
   "outputs": [],
   "source": [
    "Best_Heckman_X = Best_Heckman_X[['Z_BEST', 'u_flux_corr',\n",
    "       'g_flux_corr', 'R_flux_corr', 'I_flux_corr', 'z_flux_corr', 'ch1_flux_corr', 'ch2_flux_corr',\n",
    "       'J_flux_corr', 'H_flux_corr', 'Ks_flux_corr', 'Peak_flux', 'Total_flux']]\n",
    "\n",
    "# Adding nans to missing columns\n",
    "Best_Heckman_X[['NUV_flux_corr', 'Bw_flux_corr', 'y_flux_corr', 'K_flux_corr', \n",
    "                'F_MIPS_24', 'F_PACS_100', 'F_PACS_160', 'F_SPIRE_250', 'F_SPIRE_350',\n",
    "                'F_SPIRE_500', 'nb921_hsc_flux_corr', 'ch3_flux_corr', 'ch4_flux_corr']] = np.nan"
   ]
  },
  {
   "cell_type": "code",
   "execution_count": 13,
   "id": "92d5e58d",
   "metadata": {},
   "outputs": [],
   "source": [
    "X = pd.concat([X, Best_Heckman_X]).reset_index(drop=True)"
   ]
  },
  {
   "cell_type": "markdown",
   "id": "6554d33d",
   "metadata": {},
   "source": [
    "### MIGHTEE data"
   ]
  },
  {
   "cell_type": "code",
   "execution_count": 14,
   "id": "a700bee9",
   "metadata": {},
   "outputs": [],
   "source": [
    "mightee_data = pd.read_csv(\"../../../Data/MIGHTEE/Classification/final_gaussian_radio_more.csv\")\n",
    "mightee_data['Source'] = 'MIGHTEE'"
   ]
  },
  {
   "cell_type": "code",
   "execution_count": 15,
   "id": "cbfd7fa0",
   "metadata": {},
   "outputs": [
    {
     "name": "stdout",
     "output_type": "stream",
     "text": [
      "Amount of rows: 4370\n"
     ]
    }
   ],
   "source": [
    "# Dropping nan classifications\n",
    "mightee_data = mightee_data[mightee_data['Classification'].notna()]\n",
    "\n",
    "# Dropping quasar-like radio AGN / high-excitation radio galaxy\n",
    "#mightee_data = mightee_data[mightee_data['Classification'] != 'star-forming galaxy']\n",
    "print(\"Amount of rows:\", len(mightee_data))"
   ]
  },
  {
   "cell_type": "code",
   "execution_count": 16,
   "id": "5ddf02ed",
   "metadata": {},
   "outputs": [],
   "source": [
    "mightee_X = mightee_data[[c for c in mightee_data.columns if c != 'Classification']]\n",
    "mightee_y = mightee_data[['Classification', 'Source', 'XAGN', 'midIRAGN', 'VLBAAGN', 'RLAGN', 'optAGN']]"
   ]
  },
  {
   "cell_type": "code",
   "execution_count": 17,
   "id": "fea4a372",
   "metadata": {},
   "outputs": [
    {
     "name": "stderr",
     "output_type": "stream",
     "text": [
      "/var/lib/condor/execute/dir_2982445/ipykernel_2982542/3228600438.py:1: SettingWithCopyWarning: \n",
      "A value is trying to be set on a copy of a slice from a DataFrame.\n",
      "Try using .loc[row_indexer,col_indexer] = value instead\n",
      "\n",
      "See the caveats in the documentation: https://pandas.pydata.org/pandas-docs/stable/user_guide/indexing.html#returning-a-view-versus-a-copy\n",
      "  mightee_y['Classification'] = le.transform(mightee_y['Classification'])\n"
     ]
    }
   ],
   "source": [
    "mightee_y['Classification'] = le.transform(mightee_y['Classification'])"
   ]
  },
  {
   "cell_type": "code",
   "execution_count": 18,
   "id": "c04d8fef",
   "metadata": {},
   "outputs": [],
   "source": [
    "mightee_X = mightee_X[['Z_BEST', 'ch1_flux_corr', 'ch2_flux_corr', 'ch3_flux_corr',\n",
    "       'ch4_flux_corr', 'F_MIPS_24', 'F_PACS_100', 'F_PACS_160',\n",
    "       'F_SPIRE_250', 'F_SPIRE_350', 'F_SPIRE_500', 'Ks_flux_corr',\n",
    "       'H_flux_corr', 'J_flux_corr', 'i_flux_corr', 'r_flux_corr',\n",
    "       'u_flux_corr', 'z_flux_corr', 'y_flux_corr', 'NUV_flux_corr',\n",
    "       #'FUV_flux_corr', \n",
    "                       'Total_flux', 'Peak_flux']]\n",
    "\n",
    "mightee_X[['I_flux_corr', 'R_flux_corr']] = mightee_X[['i_flux_corr', 'r_flux_corr']]\n",
    "mightee_X = mightee_X.drop(columns=['i_flux_corr', 'r_flux_corr'])\n",
    "\n",
    "# Adding nans to missing columns\n",
    "mightee_X[['Bw_flux_corr', 'K_flux_corr', 'g_flux_corr', 'nb921_hsc_flux_corr']] = np.nan\n",
    "\n",
    "# Changing order\n",
    "mightee_X = mightee_X[['Total_flux', 'Peak_flux', \n",
    "                       'NUV_flux_corr', 'u_flux_corr', \n",
    "                       'Bw_flux_corr', 'R_flux_corr', \n",
    "                       'I_flux_corr', 'z_flux_corr', \n",
    "                       'y_flux_corr', 'J_flux_corr', \n",
    "                       'H_flux_corr', 'K_flux_corr', \n",
    "                       'Ks_flux_corr', 'ch1_flux_corr', \n",
    "                       'ch2_flux_corr', 'ch3_flux_corr', \n",
    "                       'ch4_flux_corr', 'F_MIPS_24', 'F_PACS_100', \n",
    "                       'F_PACS_160', 'F_SPIRE_250', 'F_SPIRE_350', \n",
    "                       'F_SPIRE_500', 'Z_BEST', \n",
    "                       'g_flux_corr', 'nb921_hsc_flux_corr']]"
   ]
  },
  {
   "cell_type": "markdown",
   "id": "eb0cf49b",
   "metadata": {},
   "source": [
    "### Bayesian optimisation"
   ]
  },
  {
   "cell_type": "code",
   "execution_count": 40,
   "id": "93502218",
   "metadata": {},
   "outputs": [],
   "source": [
    "from bayes_opt import BayesianOptimization"
   ]
  },
  {
   "cell_type": "code",
   "execution_count": 41,
   "id": "a2c3ea27",
   "metadata": {},
   "outputs": [],
   "source": [
    "def optimise_xgboost(max_depth, \n",
    "                     reg_alpha, \n",
    "                     reg_lambda, \n",
    "                     min_child_weight, \n",
    "                     eta,\n",
    "                     max_delta_step,\n",
    "                     n_estimators):\n",
    "    # The algorithm gives floats, so we round them\n",
    "    n_estimators = int(n_estimators)\n",
    "    max_depth = int(max_depth)\n",
    "    \n",
    "    model = XGBClassifier(use_label_encoder=False, \n",
    "                      max_depth=max_depth, \n",
    "                      reg_alpha=reg_alpha,   \n",
    "                      min_child_weight=min_child_weight, \n",
    "                      reg_lambda=reg_lambda,\n",
    "                      max_delta_step=max_delta_step,\n",
    "                      eta=eta,\n",
    "                      tree_method='hist',\n",
    "                      #gpu_id=0,\n",
    "                      objective='multi:softprob',\n",
    "                      eval_metric =['merror'],\n",
    "                      nthread=8,\n",
    "                      n_estimators=n_estimators\n",
    "                      )\n",
    "\n",
    "    # Training the model, no early stopping\n",
    "    model.fit(X_train, y_train['Classification'], \n",
    "                verbose=False, \n",
    "               )\n",
    "\n",
    "    # Getting the accuracy and appending\n",
    "    y_pred = model.predict(mightee_X)\n",
    "    return accuracy_score(mightee_y['Classification'], y_pred)"
   ]
  },
  {
   "cell_type": "code",
   "execution_count": 42,
   "id": "0c56bcff",
   "metadata": {},
   "outputs": [],
   "source": [
    "# Bounded region of parameter space\n",
    "pbounds = {\n",
    "    'max_depth': (5, 20),\n",
    "    'reg_alpha': (0, 5),\n",
    "    'reg_lambda': (0, 10),\n",
    "    'min_child_weight': (0, 5),\n",
    "    'eta': (0.05, 0.6),\n",
    "    'max_delta_step': (0,10),\n",
    "    'n_estimators': (10,1000)\n",
    "}"
   ]
  },
  {
   "cell_type": "code",
   "execution_count": 43,
   "id": "f38a3bb4",
   "metadata": {},
   "outputs": [],
   "source": [
    "from sklearn.model_selection import StratifiedKFold\n",
    "\n",
    "# Getting k folds for cross validation\n",
    "X_train, X_test, y_train, y_test = train_test_split(X, y, train_size=0.8, stratify=y[['Source', 'Classification']], random_state=42)"
   ]
  },
  {
   "cell_type": "code",
   "execution_count": 44,
   "id": "5e96d8d4",
   "metadata": {},
   "outputs": [],
   "source": [
    "optimizer = BayesianOptimization(\n",
    "    f=optimise_xgboost,\n",
    "    pbounds=pbounds,\n",
    "    verbose=2, # verbose = 1 prints only when a maximum is observed, verbose = 0 is silent\n",
    "    random_state=42,\n",
    ")"
   ]
  },
  {
   "cell_type": "code",
   "execution_count": 45,
   "id": "68ac13f2",
   "metadata": {
    "scrolled": true
   },
   "outputs": [
    {
     "name": "stdout",
     "output_type": "stream",
     "text": [
      "|   iter    |  target   |    eta    | max_de... | max_depth | min_ch... | n_esti... | reg_alpha | reg_la... |\n",
      "-------------------------------------------------------------------------------------------------------------\n",
      "| \u001b[0m1        \u001b[0m | \u001b[0m0.6666   \u001b[0m | \u001b[0m0.256    \u001b[0m | \u001b[0m9.507    \u001b[0m | \u001b[0m15.98    \u001b[0m | \u001b[0m2.993    \u001b[0m | \u001b[0m164.5    \u001b[0m | \u001b[0m0.78     \u001b[0m | \u001b[0m0.5808   \u001b[0m |\n",
      "| \u001b[0m2        \u001b[0m | \u001b[0m0.6597   \u001b[0m | \u001b[0m0.5264   \u001b[0m | \u001b[0m6.011    \u001b[0m | \u001b[0m15.62    \u001b[0m | \u001b[0m0.1029   \u001b[0m | \u001b[0m970.2    \u001b[0m | \u001b[0m4.162    \u001b[0m | \u001b[0m2.123    \u001b[0m |\n",
      "| \u001b[0m3        \u001b[0m | \u001b[0m0.6561   \u001b[0m | \u001b[0m0.15     \u001b[0m | \u001b[0m1.834    \u001b[0m | \u001b[0m9.564    \u001b[0m | \u001b[0m2.624    \u001b[0m | \u001b[0m437.6    \u001b[0m | \u001b[0m1.456    \u001b[0m | \u001b[0m6.119    \u001b[0m |\n",
      "| \u001b[0m4        \u001b[0m | \u001b[0m0.6547   \u001b[0m | \u001b[0m0.1267   \u001b[0m | \u001b[0m2.921    \u001b[0m | \u001b[0m10.5     \u001b[0m | \u001b[0m2.28     \u001b[0m | \u001b[0m787.3    \u001b[0m | \u001b[0m0.9984   \u001b[0m | \u001b[0m5.142    \u001b[0m |\n",
      "| \u001b[95m5        \u001b[0m | \u001b[95m0.6677   \u001b[0m | \u001b[95m0.3758   \u001b[0m | \u001b[95m0.4645   \u001b[0m | \u001b[95m14.11    \u001b[0m | \u001b[95m0.8526   \u001b[0m | \u001b[95m74.4     \u001b[0m | \u001b[95m4.744    \u001b[0m | \u001b[95m9.656    \u001b[0m |\n",
      "| \u001b[95m6        \u001b[0m | \u001b[95m0.6721   \u001b[0m | \u001b[95m0.3571   \u001b[0m | \u001b[95m9.173    \u001b[0m | \u001b[95m10.87    \u001b[0m | \u001b[95m4.225    \u001b[0m | \u001b[95m10.24    \u001b[0m | \u001b[95m0.8426   \u001b[0m | \u001b[95m0.3042   \u001b[0m |\n",
      "| \u001b[0m7        \u001b[0m | \u001b[0m0.6613   \u001b[0m | \u001b[0m0.3379   \u001b[0m | \u001b[0m0.9816   \u001b[0m | \u001b[0m13.95    \u001b[0m | \u001b[0m0.02289  \u001b[0m | \u001b[0m71.81    \u001b[0m | \u001b[0m3.527    \u001b[0m | \u001b[0m8.096    \u001b[0m |\n",
      "| \u001b[0m8        \u001b[0m | \u001b[0m0.6643   \u001b[0m | \u001b[0m0.2841   \u001b[0m | \u001b[0m3.408    \u001b[0m | \u001b[0m18.57    \u001b[0m | \u001b[0m2.363    \u001b[0m | \u001b[0m943.2    \u001b[0m | \u001b[0m1.486    \u001b[0m | \u001b[0m6.804    \u001b[0m |\n",
      "| \u001b[0m9        \u001b[0m | \u001b[0m0.6572   \u001b[0m | \u001b[0m0.5992   \u001b[0m | \u001b[0m0.5117   \u001b[0m | \u001b[0m16.74    \u001b[0m | \u001b[0m3.712    \u001b[0m | \u001b[0m794.4    \u001b[0m | \u001b[0m1.746    \u001b[0m | \u001b[0m4.644    \u001b[0m |\n",
      "| \u001b[0m10       \u001b[0m | \u001b[0m0.6673   \u001b[0m | \u001b[0m0.3558   \u001b[0m | \u001b[0m9.037    \u001b[0m | \u001b[0m14.93    \u001b[0m | \u001b[0m1.153    \u001b[0m | \u001b[0m966.5    \u001b[0m | \u001b[0m1.981    \u001b[0m | \u001b[0m0.2766   \u001b[0m |\n",
      "| \u001b[0m11       \u001b[0m | \u001b[0m0.6574   \u001b[0m | \u001b[0m0.495    \u001b[0m | \u001b[0m1.927    \u001b[0m | \u001b[0m17.76    \u001b[0m | \u001b[0m3.255    \u001b[0m | \u001b[0m666.4    \u001b[0m | \u001b[0m0.256    \u001b[0m | \u001b[0m4.188    \u001b[0m |\n",
      "| \u001b[0m12       \u001b[0m | \u001b[0m0.6622   \u001b[0m | \u001b[0m0.4403   \u001b[0m | \u001b[0m6.315    \u001b[0m | \u001b[0m17.03    \u001b[0m | \u001b[0m3.37     \u001b[0m | \u001b[0m846.3    \u001b[0m | \u001b[0m1.078    \u001b[0m | \u001b[0m9.6      \u001b[0m |\n",
      "| \u001b[0m13       \u001b[0m | \u001b[0m0.66     \u001b[0m | \u001b[0m0.1155   \u001b[0m | \u001b[0m9.503    \u001b[0m | \u001b[0m19.53    \u001b[0m | \u001b[0m4.767    \u001b[0m | \u001b[0m925.6    \u001b[0m | \u001b[0m1.182    \u001b[0m | \u001b[0m4.214    \u001b[0m |\n",
      "| \u001b[0m14       \u001b[0m | \u001b[0m0.6609   \u001b[0m | \u001b[0m0.587    \u001b[0m | \u001b[0m6.999    \u001b[0m | \u001b[0m18.54    \u001b[0m | \u001b[0m2.223    \u001b[0m | \u001b[0m413.9    \u001b[0m | \u001b[0m1.202    \u001b[0m | \u001b[0m1.791    \u001b[0m |\n",
      "| \u001b[0m15       \u001b[0m | \u001b[0m0.6661   \u001b[0m | \u001b[0m0.2856   \u001b[0m | \u001b[0m3.273    \u001b[0m | \u001b[0m12.76    \u001b[0m | \u001b[0m4.907    \u001b[0m | \u001b[0m26.67    \u001b[0m | \u001b[0m4.453    \u001b[0m | \u001b[0m5.194    \u001b[0m |\n",
      "| \u001b[0m16       \u001b[0m | \u001b[0m0.6554   \u001b[0m | \u001b[0m0.05356  \u001b[0m | \u001b[0m4.829    \u001b[0m | \u001b[0m9.363    \u001b[0m | \u001b[0m2.932    \u001b[0m | \u001b[0m515.8    \u001b[0m | \u001b[0m0.7985   \u001b[0m | \u001b[0m9.664    \u001b[0m |\n",
      "| \u001b[0m17       \u001b[0m | \u001b[0m0.6604   \u001b[0m | \u001b[0m0.4777   \u001b[0m | \u001b[0m7.143    \u001b[0m | \u001b[0m13.98    \u001b[0m | \u001b[0m0.13     \u001b[0m | \u001b[0m447.7    \u001b[0m | \u001b[0m2.847    \u001b[0m | \u001b[0m6.757    \u001b[0m |\n",
      "| \u001b[0m18       \u001b[0m | \u001b[0m0.6451   \u001b[0m | \u001b[0m0.2355   \u001b[0m | \u001b[0m9.659    \u001b[0m | \u001b[0m6.419    \u001b[0m | \u001b[0m2.358    \u001b[0m | \u001b[0m973.1    \u001b[0m | \u001b[0m2.913    \u001b[0m | \u001b[0m7.826    \u001b[0m |\n",
      "| \u001b[95m19       \u001b[0m | \u001b[95m0.6755   \u001b[0m | \u001b[95m0.2374   \u001b[0m | \u001b[95m7.299    \u001b[0m | \u001b[95m11.68    \u001b[0m | \u001b[95m4.701    \u001b[0m | \u001b[95m11.01    \u001b[0m | \u001b[95m1.008    \u001b[0m | \u001b[95m4.013    \u001b[0m |\n",
      "| \u001b[95m20       \u001b[0m | \u001b[95m0.6828   \u001b[0m | \u001b[95m0.1047   \u001b[0m | \u001b[95m9.52     \u001b[0m | \u001b[95m13.0     \u001b[0m | \u001b[95m1.479    \u001b[0m | \u001b[95m13.91    \u001b[0m | \u001b[95m0.2434   \u001b[0m | \u001b[95m5.796    \u001b[0m |\n",
      "| \u001b[0m21       \u001b[0m | \u001b[0m0.6748   \u001b[0m | \u001b[0m0.09378  \u001b[0m | \u001b[0m8.858    \u001b[0m | \u001b[0m18.21    \u001b[0m | \u001b[0m1.304    \u001b[0m | \u001b[0m14.78    \u001b[0m | \u001b[0m0.08763  \u001b[0m | \u001b[0m5.111    \u001b[0m |\n",
      "| \u001b[0m22       \u001b[0m | \u001b[0m0.6675   \u001b[0m | \u001b[0m0.3431   \u001b[0m | \u001b[0m8.957    \u001b[0m | \u001b[0m9.204    \u001b[0m | \u001b[0m0.4483   \u001b[0m | \u001b[0m17.43    \u001b[0m | \u001b[0m2.978    \u001b[0m | \u001b[0m5.169    \u001b[0m |\n",
      "| \u001b[0m23       \u001b[0m | \u001b[0m0.6737   \u001b[0m | \u001b[0m0.2738   \u001b[0m | \u001b[0m6.668    \u001b[0m | \u001b[0m13.97    \u001b[0m | \u001b[0m0.4427   \u001b[0m | \u001b[0m11.84    \u001b[0m | \u001b[0m0.8855   \u001b[0m | \u001b[0m8.814    \u001b[0m |\n",
      "| \u001b[0m24       \u001b[0m | \u001b[0m0.6723   \u001b[0m | \u001b[0m0.3806   \u001b[0m | \u001b[0m8.947    \u001b[0m | \u001b[0m15.5     \u001b[0m | \u001b[0m2.392    \u001b[0m | \u001b[0m11.82    \u001b[0m | \u001b[0m3.2      \u001b[0m | \u001b[0m1.713    \u001b[0m |\n",
      "| \u001b[0m25       \u001b[0m | \u001b[0m0.673    \u001b[0m | \u001b[0m0.1866   \u001b[0m | \u001b[0m9.401    \u001b[0m | \u001b[0m14.94    \u001b[0m | \u001b[0m4.296    \u001b[0m | \u001b[0m14.52    \u001b[0m | \u001b[0m1.649    \u001b[0m | \u001b[0m5.447    \u001b[0m |\n",
      "| \u001b[0m26       \u001b[0m | \u001b[0m0.6762   \u001b[0m | \u001b[0m0.2708   \u001b[0m | \u001b[0m9.811    \u001b[0m | \u001b[0m14.58    \u001b[0m | \u001b[0m0.7156   \u001b[0m | \u001b[0m12.03    \u001b[0m | \u001b[0m3.175    \u001b[0m | \u001b[0m7.135    \u001b[0m |\n",
      "| \u001b[0m27       \u001b[0m | \u001b[0m0.6746   \u001b[0m | \u001b[0m0.469    \u001b[0m | \u001b[0m8.164    \u001b[0m | \u001b[0m6.169    \u001b[0m | \u001b[0m3.924    \u001b[0m | \u001b[0m14.52    \u001b[0m | \u001b[0m0.03732  \u001b[0m | \u001b[0m9.654    \u001b[0m |\n",
      "| \u001b[95m28       \u001b[0m | \u001b[95m0.6943   \u001b[0m | \u001b[95m0.2994   \u001b[0m | \u001b[95m6.986    \u001b[0m | \u001b[95m6.808    \u001b[0m | \u001b[95m1.887    \u001b[0m | \u001b[95m11.07    \u001b[0m | \u001b[95m0.4183   \u001b[0m | \u001b[95m5.484    \u001b[0m |\n",
      "| \u001b[0m29       \u001b[0m | \u001b[0m0.6826   \u001b[0m | \u001b[0m0.2368   \u001b[0m | \u001b[0m7.197    \u001b[0m | \u001b[0m7.576    \u001b[0m | \u001b[0m0.2652   \u001b[0m | \u001b[0m10.56    \u001b[0m | \u001b[0m2.562    \u001b[0m | \u001b[0m4.256    \u001b[0m |\n",
      "| \u001b[95m30       \u001b[0m | \u001b[95m0.6957   \u001b[0m | \u001b[95m0.3134   \u001b[0m | \u001b[95m9.401    \u001b[0m | \u001b[95m5.856    \u001b[0m | \u001b[95m1.217    \u001b[0m | \u001b[95m12.92    \u001b[0m | \u001b[95m1.154    \u001b[0m | \u001b[95m3.698    \u001b[0m |\n",
      "| \u001b[0m31       \u001b[0m | \u001b[0m0.6892   \u001b[0m | \u001b[0m0.5268   \u001b[0m | \u001b[0m5.111    \u001b[0m | \u001b[0m5.401    \u001b[0m | \u001b[0m2.235    \u001b[0m | \u001b[0m14.3     \u001b[0m | \u001b[0m3.375    \u001b[0m | \u001b[0m1.834    \u001b[0m |\n",
      "| \u001b[0m32       \u001b[0m | \u001b[0m0.6723   \u001b[0m | \u001b[0m0.1529   \u001b[0m | \u001b[0m6.484    \u001b[0m | \u001b[0m9.01     \u001b[0m | \u001b[0m1.904    \u001b[0m | \u001b[0m13.31    \u001b[0m | \u001b[0m0.07516  \u001b[0m | \u001b[0m3.059    \u001b[0m |\n",
      "| \u001b[0m33       \u001b[0m | \u001b[0m0.6847   \u001b[0m | \u001b[0m0.5718   \u001b[0m | \u001b[0m7.079    \u001b[0m | \u001b[0m5.471    \u001b[0m | \u001b[0m4.478    \u001b[0m | \u001b[0m13.63    \u001b[0m | \u001b[0m3.48     \u001b[0m | \u001b[0m5.827    \u001b[0m |\n",
      "| \u001b[0m34       \u001b[0m | \u001b[0m0.6947   \u001b[0m | \u001b[0m0.47     \u001b[0m | \u001b[0m9.612    \u001b[0m | \u001b[0m5.296    \u001b[0m | \u001b[0m2.629    \u001b[0m | \u001b[0m11.31    \u001b[0m | \u001b[0m2.816    \u001b[0m | \u001b[0m6.839    \u001b[0m |\n",
      "| \u001b[95m35       \u001b[0m | \u001b[95m0.6963   \u001b[0m | \u001b[95m0.3088   \u001b[0m | \u001b[95m9.159    \u001b[0m | \u001b[95m5.136    \u001b[0m | \u001b[95m2.916    \u001b[0m | \u001b[95m10.26    \u001b[0m | \u001b[95m3.206    \u001b[0m | \u001b[95m2.68     \u001b[0m |\n",
      "| \u001b[0m36       \u001b[0m | \u001b[0m0.6895   \u001b[0m | \u001b[0m0.4175   \u001b[0m | \u001b[0m0.5027   \u001b[0m | \u001b[0m5.25     \u001b[0m | \u001b[0m4.257    \u001b[0m | \u001b[0m15.83    \u001b[0m | \u001b[0m4.528    \u001b[0m | \u001b[0m4.5      \u001b[0m |\n",
      "| \u001b[0m37       \u001b[0m | \u001b[0m0.6881   \u001b[0m | \u001b[0m0.2382   \u001b[0m | \u001b[0m2.135    \u001b[0m | \u001b[0m6.443    \u001b[0m | \u001b[0m0.7276   \u001b[0m | \u001b[0m10.03    \u001b[0m | \u001b[0m3.242    \u001b[0m | \u001b[0m8.042    \u001b[0m |\n",
      "| \u001b[95m38       \u001b[0m | \u001b[95m0.6966   \u001b[0m | \u001b[95m0.6      \u001b[0m | \u001b[95m1.247    \u001b[0m | \u001b[95m5.0      \u001b[0m | \u001b[95m5.0      \u001b[0m | \u001b[95m10.0     \u001b[0m | \u001b[95m1.184    \u001b[0m | \u001b[95m3.796    \u001b[0m |\n",
      "| \u001b[0m39       \u001b[0m | \u001b[0m0.6776   \u001b[0m | \u001b[0m0.1364   \u001b[0m | \u001b[0m0.3737   \u001b[0m | \u001b[0m5.147    \u001b[0m | \u001b[0m1.017    \u001b[0m | \u001b[0m10.2     \u001b[0m | \u001b[0m4.399    \u001b[0m | \u001b[0m5.863    \u001b[0m |\n",
      "| \u001b[0m40       \u001b[0m | \u001b[0m0.6938   \u001b[0m | \u001b[0m0.08259  \u001b[0m | \u001b[0m1.258    \u001b[0m | \u001b[0m6.278    \u001b[0m | \u001b[0m3.936    \u001b[0m | \u001b[0m13.2     \u001b[0m | \u001b[0m2.562    \u001b[0m | \u001b[0m1.214    \u001b[0m |\n",
      "| \u001b[0m41       \u001b[0m | \u001b[0m0.6382   \u001b[0m | \u001b[0m0.3035   \u001b[0m | \u001b[0m0.04392  \u001b[0m | \u001b[0m5.657    \u001b[0m | \u001b[0m3.321    \u001b[0m | \u001b[0m17.4     \u001b[0m | \u001b[0m3.705    \u001b[0m | \u001b[0m0.1625   \u001b[0m |\n",
      "| \u001b[0m42       \u001b[0m | \u001b[0m0.6883   \u001b[0m | \u001b[0m0.098    \u001b[0m | \u001b[0m4.784    \u001b[0m | \u001b[0m6.313    \u001b[0m | \u001b[0m4.657    \u001b[0m | \u001b[0m10.51    \u001b[0m | \u001b[0m4.061    \u001b[0m | \u001b[0m4.602    \u001b[0m |\n",
      "| \u001b[0m43       \u001b[0m | \u001b[0m0.6833   \u001b[0m | \u001b[0m0.1987   \u001b[0m | \u001b[0m2.294    \u001b[0m | \u001b[0m7.057    \u001b[0m | \u001b[0m4.079    \u001b[0m | \u001b[0m14.57    \u001b[0m | \u001b[0m2.322    \u001b[0m | \u001b[0m8.589    \u001b[0m |\n",
      "| \u001b[0m44       \u001b[0m | \u001b[0m0.6961   \u001b[0m | \u001b[0m0.2478   \u001b[0m | \u001b[0m0.7859   \u001b[0m | \u001b[0m6.165    \u001b[0m | \u001b[0m1.994    \u001b[0m | \u001b[0m10.21    \u001b[0m | \u001b[0m3.519    \u001b[0m | \u001b[0m0.58     \u001b[0m |\n"
     ]
    },
    {
     "name": "stdout",
     "output_type": "stream",
     "text": [
      "| \u001b[0m45       \u001b[0m | \u001b[0m0.6744   \u001b[0m | \u001b[0m0.2236   \u001b[0m | \u001b[0m1.286    \u001b[0m | \u001b[0m10.09    \u001b[0m | \u001b[0m3.55     \u001b[0m | \u001b[0m10.47    \u001b[0m | \u001b[0m0.02673  \u001b[0m | \u001b[0m4.132    \u001b[0m |\n",
      "| \u001b[0m46       \u001b[0m | \u001b[0m0.686    \u001b[0m | \u001b[0m0.2024   \u001b[0m | \u001b[0m1.973    \u001b[0m | \u001b[0m6.101    \u001b[0m | \u001b[0m4.414    \u001b[0m | \u001b[0m12.22    \u001b[0m | \u001b[0m0.9135   \u001b[0m | \u001b[0m5.105    \u001b[0m |\n",
      "| \u001b[0m47       \u001b[0m | \u001b[0m0.6833   \u001b[0m | \u001b[0m0.3087   \u001b[0m | \u001b[0m9.208    \u001b[0m | \u001b[0m5.712    \u001b[0m | \u001b[0m0.4454   \u001b[0m | \u001b[0m12.67    \u001b[0m | \u001b[0m1.965    \u001b[0m | \u001b[0m8.173    \u001b[0m |\n",
      "| \u001b[95m48       \u001b[0m | \u001b[95m0.6998   \u001b[0m | \u001b[95m0.6      \u001b[0m | \u001b[95m3.375    \u001b[0m | \u001b[95m5.0      \u001b[0m | \u001b[95m4.664    \u001b[0m | \u001b[95m10.02    \u001b[0m | \u001b[95m1.985    \u001b[0m | \u001b[95m0.08594  \u001b[0m |\n",
      "| \u001b[0m49       \u001b[0m | \u001b[0m0.6643   \u001b[0m | \u001b[0m0.3202   \u001b[0m | \u001b[0m9.377    \u001b[0m | \u001b[0m16.15    \u001b[0m | \u001b[0m3.701    \u001b[0m | \u001b[0m301.6    \u001b[0m | \u001b[0m1.103    \u001b[0m | \u001b[0m0.7895   \u001b[0m |\n",
      "| \u001b[0m50       \u001b[0m | \u001b[0m0.6954   \u001b[0m | \u001b[0m0.2258   \u001b[0m | \u001b[0m7.977    \u001b[0m | \u001b[0m5.998    \u001b[0m | \u001b[0m1.631    \u001b[0m | \u001b[0m10.92    \u001b[0m | \u001b[0m0.2004   \u001b[0m | \u001b[0m1.136    \u001b[0m |\n",
      "| \u001b[0m51       \u001b[0m | \u001b[0m0.6703   \u001b[0m | \u001b[0m0.4691   \u001b[0m | \u001b[0m0.6535   \u001b[0m | \u001b[0m8.984    \u001b[0m | \u001b[0m4.504    \u001b[0m | \u001b[0m10.7     \u001b[0m | \u001b[0m3.941    \u001b[0m | \u001b[0m0.1581   \u001b[0m |\n",
      "| \u001b[0m52       \u001b[0m | \u001b[0m0.6835   \u001b[0m | \u001b[0m0.05135  \u001b[0m | \u001b[0m1.984    \u001b[0m | \u001b[0m7.659    \u001b[0m | \u001b[0m1.396    \u001b[0m | \u001b[0m10.09    \u001b[0m | \u001b[0m0.1364   \u001b[0m | \u001b[0m0.2752   \u001b[0m |\n",
      "| \u001b[0m53       \u001b[0m | \u001b[0m0.6499   \u001b[0m | \u001b[0m0.182    \u001b[0m | \u001b[0m4.353    \u001b[0m | \u001b[0m8.802    \u001b[0m | \u001b[0m1.798    \u001b[0m | \u001b[0m592.4    \u001b[0m | \u001b[0m0.4512   \u001b[0m | \u001b[0m9.56     \u001b[0m |\n",
      "| \u001b[0m54       \u001b[0m | \u001b[0m0.6879   \u001b[0m | \u001b[0m0.5145   \u001b[0m | \u001b[0m0.5494   \u001b[0m | \u001b[0m5.324    \u001b[0m | \u001b[0m2.168    \u001b[0m | \u001b[0m16.76    \u001b[0m | \u001b[0m4.922    \u001b[0m | \u001b[0m9.963    \u001b[0m |\n",
      "| \u001b[0m55       \u001b[0m | \u001b[0m0.6849   \u001b[0m | \u001b[0m0.06327  \u001b[0m | \u001b[0m4.547    \u001b[0m | \u001b[0m5.27     \u001b[0m | \u001b[0m4.618    \u001b[0m | \u001b[0m10.29    \u001b[0m | \u001b[0m0.05858  \u001b[0m | \u001b[0m2.513    \u001b[0m |\n",
      "| \u001b[0m56       \u001b[0m | \u001b[0m0.6664   \u001b[0m | \u001b[0m0.2749   \u001b[0m | \u001b[0m0.8452   \u001b[0m | \u001b[0m12.59    \u001b[0m | \u001b[0m0.2367   \u001b[0m | \u001b[0m233.1    \u001b[0m | \u001b[0m1.604    \u001b[0m | \u001b[0m6.258    \u001b[0m |\n",
      "| \u001b[0m57       \u001b[0m | \u001b[0m0.6675   \u001b[0m | \u001b[0m0.5874   \u001b[0m | \u001b[0m7.567    \u001b[0m | \u001b[0m6.01     \u001b[0m | \u001b[0m1.518    \u001b[0m | \u001b[0m11.61    \u001b[0m | \u001b[0m3.059    \u001b[0m | \u001b[0m0.7143   \u001b[0m |\n",
      "| \u001b[0m58       \u001b[0m | \u001b[0m0.6856   \u001b[0m | \u001b[0m0.05767  \u001b[0m | \u001b[0m5.347    \u001b[0m | \u001b[0m5.308    \u001b[0m | \u001b[0m0.5895   \u001b[0m | \u001b[0m11.18    \u001b[0m | \u001b[0m4.098    \u001b[0m | \u001b[0m5.993    \u001b[0m |\n",
      "| \u001b[0m59       \u001b[0m | \u001b[0m0.6847   \u001b[0m | \u001b[0m0.5401   \u001b[0m | \u001b[0m7.873    \u001b[0m | \u001b[0m5.334    \u001b[0m | \u001b[0m4.565    \u001b[0m | \u001b[0m11.91    \u001b[0m | \u001b[0m0.7576   \u001b[0m | \u001b[0m2.297    \u001b[0m |\n",
      "| \u001b[0m60       \u001b[0m | \u001b[0m0.6927   \u001b[0m | \u001b[0m0.22     \u001b[0m | \u001b[0m2.242    \u001b[0m | \u001b[0m5.11     \u001b[0m | \u001b[0m4.981    \u001b[0m | \u001b[0m13.18    \u001b[0m | \u001b[0m4.696    \u001b[0m | \u001b[0m9.951    \u001b[0m |\n",
      "| \u001b[0m61       \u001b[0m | \u001b[0m0.6879   \u001b[0m | \u001b[0m0.08652  \u001b[0m | \u001b[0m0.7397   \u001b[0m | \u001b[0m8.342    \u001b[0m | \u001b[0m4.917    \u001b[0m | \u001b[0m13.08    \u001b[0m | \u001b[0m4.629    \u001b[0m | \u001b[0m6.316    \u001b[0m |\n",
      "| \u001b[0m62       \u001b[0m | \u001b[0m0.684    \u001b[0m | \u001b[0m0.05235  \u001b[0m | \u001b[0m9.94     \u001b[0m | \u001b[0m7.732    \u001b[0m | \u001b[0m4.251    \u001b[0m | \u001b[0m10.47    \u001b[0m | \u001b[0m4.036    \u001b[0m | \u001b[0m9.353    \u001b[0m |\n",
      "| \u001b[0m63       \u001b[0m | \u001b[0m0.6753   \u001b[0m | \u001b[0m0.4306   \u001b[0m | \u001b[0m4.932    \u001b[0m | \u001b[0m8.562    \u001b[0m | \u001b[0m3.43     \u001b[0m | \u001b[0m10.99    \u001b[0m | \u001b[0m3.122    \u001b[0m | \u001b[0m9.854    \u001b[0m |\n",
      "| \u001b[0m64       \u001b[0m | \u001b[0m0.6874   \u001b[0m | \u001b[0m0.2734   \u001b[0m | \u001b[0m3.282    \u001b[0m | \u001b[0m6.076    \u001b[0m | \u001b[0m3.153    \u001b[0m | \u001b[0m12.8     \u001b[0m | \u001b[0m2.947    \u001b[0m | \u001b[0m3.701    \u001b[0m |\n",
      "| \u001b[0m65       \u001b[0m | \u001b[0m0.6906   \u001b[0m | \u001b[0m0.5004   \u001b[0m | \u001b[0m2.68     \u001b[0m | \u001b[0m5.774    \u001b[0m | \u001b[0m0.2433   \u001b[0m | \u001b[0m11.71    \u001b[0m | \u001b[0m0.4327   \u001b[0m | \u001b[0m3.079    \u001b[0m |\n",
      "| \u001b[0m66       \u001b[0m | \u001b[0m0.6364   \u001b[0m | \u001b[0m0.4717   \u001b[0m | \u001b[0m8.32     \u001b[0m | \u001b[0m5.404    \u001b[0m | \u001b[0m1.177    \u001b[0m | \u001b[0m726.5    \u001b[0m | \u001b[0m0.02599  \u001b[0m | \u001b[0m5.044    \u001b[0m |\n",
      "| \u001b[0m67       \u001b[0m | \u001b[0m0.6835   \u001b[0m | \u001b[0m0.549    \u001b[0m | \u001b[0m2.301    \u001b[0m | \u001b[0m5.682    \u001b[0m | \u001b[0m4.757    \u001b[0m | \u001b[0m11.95    \u001b[0m | \u001b[0m4.466    \u001b[0m | \u001b[0m3.346    \u001b[0m |\n",
      "| \u001b[0m68       \u001b[0m | \u001b[0m0.6796   \u001b[0m | \u001b[0m0.4099   \u001b[0m | \u001b[0m0.504    \u001b[0m | \u001b[0m8.409    \u001b[0m | \u001b[0m0.336    \u001b[0m | \u001b[0m16.12    \u001b[0m | \u001b[0m4.299    \u001b[0m | \u001b[0m7.715    \u001b[0m |\n",
      "| \u001b[0m69       \u001b[0m | \u001b[0m0.6867   \u001b[0m | \u001b[0m0.6      \u001b[0m | \u001b[0m0.0      \u001b[0m | \u001b[0m5.0      \u001b[0m | \u001b[0m5.0      \u001b[0m | \u001b[0m15.04    \u001b[0m | \u001b[0m5.0      \u001b[0m | \u001b[0m7.883    \u001b[0m |\n",
      "| \u001b[0m70       \u001b[0m | \u001b[0m0.6604   \u001b[0m | \u001b[0m0.09001  \u001b[0m | \u001b[0m4.473    \u001b[0m | \u001b[0m5.631    \u001b[0m | \u001b[0m2.863    \u001b[0m | \u001b[0m358.7    \u001b[0m | \u001b[0m4.38     \u001b[0m | \u001b[0m9.593    \u001b[0m |\n",
      "| \u001b[0m71       \u001b[0m | \u001b[0m0.6581   \u001b[0m | \u001b[0m0.2878   \u001b[0m | \u001b[0m0.1012   \u001b[0m | \u001b[0m5.044    \u001b[0m | \u001b[0m1.261    \u001b[0m | \u001b[0m17.23    \u001b[0m | \u001b[0m1.058    \u001b[0m | \u001b[0m8.245    \u001b[0m |\n",
      "| \u001b[0m72       \u001b[0m | \u001b[0m0.695    \u001b[0m | \u001b[0m0.2951   \u001b[0m | \u001b[0m9.025    \u001b[0m | \u001b[0m6.304    \u001b[0m | \u001b[0m3.072    \u001b[0m | \u001b[0m11.37    \u001b[0m | \u001b[0m4.967    \u001b[0m | \u001b[0m4.755    \u001b[0m |\n",
      "| \u001b[0m73       \u001b[0m | \u001b[0m0.6844   \u001b[0m | \u001b[0m0.05     \u001b[0m | \u001b[0m10.0     \u001b[0m | \u001b[0m5.0      \u001b[0m | \u001b[0m1.436    \u001b[0m | \u001b[0m10.0     \u001b[0m | \u001b[0m0.0      \u001b[0m | \u001b[0m3.912    \u001b[0m |\n",
      "| \u001b[0m74       \u001b[0m | \u001b[0m0.6792   \u001b[0m | \u001b[0m0.4828   \u001b[0m | \u001b[0m8.806    \u001b[0m | \u001b[0m7.074    \u001b[0m | \u001b[0m3.591    \u001b[0m | \u001b[0m10.84    \u001b[0m | \u001b[0m3.079    \u001b[0m | \u001b[0m4.167    \u001b[0m |\n",
      "| \u001b[0m75       \u001b[0m | \u001b[0m0.6943   \u001b[0m | \u001b[0m0.5776   \u001b[0m | \u001b[0m5.469    \u001b[0m | \u001b[0m5.647    \u001b[0m | \u001b[0m2.231    \u001b[0m | \u001b[0m10.28    \u001b[0m | \u001b[0m4.099    \u001b[0m | \u001b[0m8.731    \u001b[0m |\n",
      "| \u001b[0m76       \u001b[0m | \u001b[0m0.6801   \u001b[0m | \u001b[0m0.5827   \u001b[0m | \u001b[0m2.551    \u001b[0m | \u001b[0m6.493    \u001b[0m | \u001b[0m1.763    \u001b[0m | \u001b[0m12.85    \u001b[0m | \u001b[0m4.594    \u001b[0m | \u001b[0m8.133    \u001b[0m |\n",
      "| \u001b[0m77       \u001b[0m | \u001b[0m0.6995   \u001b[0m | \u001b[0m0.3945   \u001b[0m | \u001b[0m0.8712   \u001b[0m | \u001b[0m5.902    \u001b[0m | \u001b[0m4.868    \u001b[0m | \u001b[0m10.46    \u001b[0m | \u001b[0m0.6905   \u001b[0m | \u001b[0m8.719    \u001b[0m |\n",
      "| \u001b[0m78       \u001b[0m | \u001b[0m0.6819   \u001b[0m | \u001b[0m0.2419   \u001b[0m | \u001b[0m0.8432   \u001b[0m | \u001b[0m12.47    \u001b[0m | \u001b[0m4.483    \u001b[0m | \u001b[0m17.03    \u001b[0m | \u001b[0m3.884    \u001b[0m | \u001b[0m9.542    \u001b[0m |\n",
      "| \u001b[0m79       \u001b[0m | \u001b[0m0.6549   \u001b[0m | \u001b[0m0.3392   \u001b[0m | \u001b[0m1.286    \u001b[0m | \u001b[0m5.793    \u001b[0m | \u001b[0m4.951    \u001b[0m | \u001b[0m119.0    \u001b[0m | \u001b[0m3.174    \u001b[0m | \u001b[0m0.5697   \u001b[0m |\n",
      "| \u001b[0m80       \u001b[0m | \u001b[0m0.6487   \u001b[0m | \u001b[0m0.1261   \u001b[0m | \u001b[0m0.5875   \u001b[0m | \u001b[0m5.444    \u001b[0m | \u001b[0m0.987    \u001b[0m | \u001b[0m887.3    \u001b[0m | \u001b[0m4.15     \u001b[0m | \u001b[0m2.718    \u001b[0m |\n",
      "| \u001b[0m81       \u001b[0m | \u001b[0m0.6638   \u001b[0m | \u001b[0m0.1719   \u001b[0m | \u001b[0m1.542    \u001b[0m | \u001b[0m19.73    \u001b[0m | \u001b[0m3.831    \u001b[0m | \u001b[0m553.3    \u001b[0m | \u001b[0m2.336    \u001b[0m | \u001b[0m0.8533   \u001b[0m |\n",
      "| \u001b[0m82       \u001b[0m | \u001b[0m0.6632   \u001b[0m | \u001b[0m0.5595   \u001b[0m | \u001b[0m9.826    \u001b[0m | \u001b[0m16.54    \u001b[0m | \u001b[0m2.932    \u001b[0m | \u001b[0m629.5    \u001b[0m | \u001b[0m3.348    \u001b[0m | \u001b[0m0.6043   \u001b[0m |\n",
      "| \u001b[0m83       \u001b[0m | \u001b[0m0.6952   \u001b[0m | \u001b[0m0.5294   \u001b[0m | \u001b[0m3.651    \u001b[0m | \u001b[0m5.347    \u001b[0m | \u001b[0m1.706    \u001b[0m | \u001b[0m10.98    \u001b[0m | \u001b[0m2.049    \u001b[0m | \u001b[0m7.605    \u001b[0m |\n",
      "| \u001b[0m84       \u001b[0m | \u001b[0m0.6462   \u001b[0m | \u001b[0m0.3679   \u001b[0m | \u001b[0m5.567    \u001b[0m | \u001b[0m6.134    \u001b[0m | \u001b[0m4.215    \u001b[0m | \u001b[0m267.8    \u001b[0m | \u001b[0m4.883    \u001b[0m | \u001b[0m9.263    \u001b[0m |\n",
      "| \u001b[0m85       \u001b[0m | \u001b[0m0.646    \u001b[0m | \u001b[0m0.4123   \u001b[0m | \u001b[0m0.725    \u001b[0m | \u001b[0m5.3      \u001b[0m | \u001b[0m2.706    \u001b[0m | \u001b[0m197.4    \u001b[0m | \u001b[0m3.355    \u001b[0m | \u001b[0m1.113    \u001b[0m |\n",
      "| \u001b[0m86       \u001b[0m | \u001b[0m0.6918   \u001b[0m | \u001b[0m0.2328   \u001b[0m | \u001b[0m1.666    \u001b[0m | \u001b[0m5.441    \u001b[0m | \u001b[0m4.515    \u001b[0m | \u001b[0m10.16    \u001b[0m | \u001b[0m4.447    \u001b[0m | \u001b[0m7.261    \u001b[0m |\n",
      "| \u001b[0m87       \u001b[0m | \u001b[0m0.6382   \u001b[0m | \u001b[0m0.2344   \u001b[0m | \u001b[0m1.651    \u001b[0m | \u001b[0m6.006    \u001b[0m | \u001b[0m0.1937   \u001b[0m | \u001b[0m482.1    \u001b[0m | \u001b[0m0.05015  \u001b[0m | \u001b[0m0.1597   \u001b[0m |\n",
      "| \u001b[0m88       \u001b[0m | \u001b[0m0.6574   \u001b[0m | \u001b[0m0.3634   \u001b[0m | \u001b[0m9.344    \u001b[0m | \u001b[0m19.57    \u001b[0m | \u001b[0m4.517    \u001b[0m | \u001b[0m758.5    \u001b[0m | \u001b[0m4.318    \u001b[0m | \u001b[0m8.837    \u001b[0m |\n",
      "| \u001b[0m89       \u001b[0m | \u001b[0m0.6799   \u001b[0m | \u001b[0m0.5968   \u001b[0m | \u001b[0m4.09     \u001b[0m | \u001b[0m5.286    \u001b[0m | \u001b[0m2.953    \u001b[0m | \u001b[0m10.73    \u001b[0m | \u001b[0m0.06752  \u001b[0m | \u001b[0m0.2716   \u001b[0m |\n"
     ]
    },
    {
     "name": "stdout",
     "output_type": "stream",
     "text": [
      "| \u001b[0m90       \u001b[0m | \u001b[0m0.6492   \u001b[0m | \u001b[0m0.2386   \u001b[0m | \u001b[0m0.1665   \u001b[0m | \u001b[0m18.38    \u001b[0m | \u001b[0m2.365    \u001b[0m | \u001b[0m17.23    \u001b[0m | \u001b[0m4.209    \u001b[0m | \u001b[0m7.705    \u001b[0m |\n",
      "| \u001b[0m91       \u001b[0m | \u001b[0m0.6686   \u001b[0m | \u001b[0m0.4069   \u001b[0m | \u001b[0m4.545    \u001b[0m | \u001b[0m19.49    \u001b[0m | \u001b[0m0.2749   \u001b[0m | \u001b[0m330.9    \u001b[0m | \u001b[0m4.258    \u001b[0m | \u001b[0m8.79     \u001b[0m |\n",
      "| \u001b[0m92       \u001b[0m | \u001b[0m0.6879   \u001b[0m | \u001b[0m0.05     \u001b[0m | \u001b[0m2.005    \u001b[0m | \u001b[0m7.695    \u001b[0m | \u001b[0m5.0      \u001b[0m | \u001b[0m18.5     \u001b[0m | \u001b[0m5.0      \u001b[0m | \u001b[0m10.0     \u001b[0m |\n",
      "| \u001b[0m93       \u001b[0m | \u001b[0m0.6522   \u001b[0m | \u001b[0m0.08914  \u001b[0m | \u001b[0m0.7145   \u001b[0m | \u001b[0m5.292    \u001b[0m | \u001b[0m0.3936   \u001b[0m | \u001b[0m694.9    \u001b[0m | \u001b[0m3.917    \u001b[0m | \u001b[0m7.659    \u001b[0m |\n",
      "| \u001b[0m94       \u001b[0m | \u001b[0m0.6661   \u001b[0m | \u001b[0m0.1804   \u001b[0m | \u001b[0m9.776    \u001b[0m | \u001b[0m19.29    \u001b[0m | \u001b[0m2.488    \u001b[0m | \u001b[0m382.4    \u001b[0m | \u001b[0m4.179    \u001b[0m | \u001b[0m0.06438  \u001b[0m |\n",
      "| \u001b[0m95       \u001b[0m | \u001b[0m0.6723   \u001b[0m | \u001b[0m0.5776   \u001b[0m | \u001b[0m3.425    \u001b[0m | \u001b[0m6.536    \u001b[0m | \u001b[0m2.937    \u001b[0m | \u001b[0m10.73    \u001b[0m | \u001b[0m0.3107   \u001b[0m | \u001b[0m9.924    \u001b[0m |\n",
      "| \u001b[0m96       \u001b[0m | \u001b[0m0.6945   \u001b[0m | \u001b[0m0.1655   \u001b[0m | \u001b[0m1.168    \u001b[0m | \u001b[0m5.275    \u001b[0m | \u001b[0m0.04938  \u001b[0m | \u001b[0m12.15    \u001b[0m | \u001b[0m3.977    \u001b[0m | \u001b[0m0.7344   \u001b[0m |\n",
      "| \u001b[0m97       \u001b[0m | \u001b[0m0.6922   \u001b[0m | \u001b[0m0.2853   \u001b[0m | \u001b[0m5.732    \u001b[0m | \u001b[0m6.068    \u001b[0m | \u001b[0m1.227    \u001b[0m | \u001b[0m10.01    \u001b[0m | \u001b[0m0.5847   \u001b[0m | \u001b[0m5.599    \u001b[0m |\n",
      "| \u001b[0m98       \u001b[0m | \u001b[0m0.6954   \u001b[0m | \u001b[0m0.3443   \u001b[0m | \u001b[0m5.139    \u001b[0m | \u001b[0m5.219    \u001b[0m | \u001b[0m4.234    \u001b[0m | \u001b[0m10.28    \u001b[0m | \u001b[0m2.62     \u001b[0m | \u001b[0m6.167    \u001b[0m |\n",
      "| \u001b[0m99       \u001b[0m | \u001b[0m0.6373   \u001b[0m | \u001b[0m0.1401   \u001b[0m | \u001b[0m7.518    \u001b[0m | \u001b[0m5.089    \u001b[0m | \u001b[0m4.142    \u001b[0m | \u001b[0m822.9    \u001b[0m | \u001b[0m1.06     \u001b[0m | \u001b[0m0.4434   \u001b[0m |\n",
      "| \u001b[0m100      \u001b[0m | \u001b[0m0.6586   \u001b[0m | \u001b[0m0.4543   \u001b[0m | \u001b[0m6.248    \u001b[0m | \u001b[0m19.5     \u001b[0m | \u001b[0m4.646    \u001b[0m | \u001b[0m999.6    \u001b[0m | \u001b[0m0.1884   \u001b[0m | \u001b[0m4.069    \u001b[0m |\n",
      "| \u001b[0m101      \u001b[0m | \u001b[0m0.6586   \u001b[0m | \u001b[0m0.2118   \u001b[0m | \u001b[0m8.304    \u001b[0m | \u001b[0m18.68    \u001b[0m | \u001b[0m4.138    \u001b[0m | \u001b[0m99.04    \u001b[0m | \u001b[0m3.134    \u001b[0m | \u001b[0m9.735    \u001b[0m |\n",
      "| \u001b[0m102      \u001b[0m | \u001b[0m0.6629   \u001b[0m | \u001b[0m0.4327   \u001b[0m | \u001b[0m7.104    \u001b[0m | \u001b[0m19.97    \u001b[0m | \u001b[0m1.067    \u001b[0m | \u001b[0m141.1    \u001b[0m | \u001b[0m1.837    \u001b[0m | \u001b[0m6.969    \u001b[0m |\n",
      "| \u001b[0m103      \u001b[0m | \u001b[0m0.6986   \u001b[0m | \u001b[0m0.3154   \u001b[0m | \u001b[0m9.224    \u001b[0m | \u001b[0m5.107    \u001b[0m | \u001b[0m3.795    \u001b[0m | \u001b[0m17.5     \u001b[0m | \u001b[0m0.2509   \u001b[0m | \u001b[0m2.897    \u001b[0m |\n",
      "| \u001b[0m104      \u001b[0m | \u001b[0m0.6906   \u001b[0m | \u001b[0m0.07502  \u001b[0m | \u001b[0m9.302    \u001b[0m | \u001b[0m5.557    \u001b[0m | \u001b[0m0.5429   \u001b[0m | \u001b[0m21.29    \u001b[0m | \u001b[0m1.281    \u001b[0m | \u001b[0m0.7688   \u001b[0m |\n",
      "| \u001b[0m105      \u001b[0m | \u001b[0m0.6789   \u001b[0m | \u001b[0m0.2006   \u001b[0m | \u001b[0m9.936    \u001b[0m | \u001b[0m7.097    \u001b[0m | \u001b[0m3.293    \u001b[0m | \u001b[0m20.13    \u001b[0m | \u001b[0m0.1355   \u001b[0m | \u001b[0m1.939    \u001b[0m |\n",
      "=============================================================================================================\n"
     ]
    }
   ],
   "source": [
    "import warnings\n",
    "with warnings.catch_warnings():\n",
    "    warnings.simplefilter(\"ignore\")\n",
    "    optimizer.maximize(\n",
    "        init_points=5,\n",
    "        n_iter=100,\n",
    "    )"
   ]
  },
  {
   "cell_type": "code",
   "execution_count": null,
   "id": "28eaffb1",
   "metadata": {},
   "outputs": [],
   "source": []
  }
 ],
 "metadata": {
  "kernelspec": {
   "display_name": "Anaconda3 - 2021.11",
   "language": "python",
   "name": "python3-2021.11"
  },
  "language_info": {
   "codemirror_mode": {
    "name": "ipython",
    "version": 3
   },
   "file_extension": ".py",
   "mimetype": "text/x-python",
   "name": "python",
   "nbconvert_exporter": "python",
   "pygments_lexer": "ipython3",
   "version": "3.9.7"
  },
  "latex_envs": {
   "LaTeX_envs_menu_present": true,
   "autoclose": false,
   "autocomplete": true,
   "bibliofile": "biblio.bib",
   "cite_by": "apalike",
   "current_citInitial": 1,
   "eqLabelWithNumbers": true,
   "eqNumInitial": 1,
   "hotkeys": {
    "equation": "Ctrl-E",
    "itemize": "Ctrl-I"
   },
   "labels_anchors": false,
   "latex_user_defs": false,
   "report_style_numbering": false,
   "user_envs_cfg": false
  }
 },
 "nbformat": 4,
 "nbformat_minor": 5
}
