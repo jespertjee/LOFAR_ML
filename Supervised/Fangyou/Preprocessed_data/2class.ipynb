{
 "cells": [
  {
   "cell_type": "code",
   "execution_count": 1,
   "id": "573e57d6",
   "metadata": {},
   "outputs": [],
   "source": [
    "import pandas as pd\n",
    "import numpy as np\n",
    "from sklearn.impute import SimpleImputer\n",
    "from sklearn.model_selection import train_test_split, GridSearchCV, cross_val_score\n",
    "from sklearn.preprocessing import StandardScaler, OneHotEncoder, LabelEncoder, OrdinalEncoder, MinMaxScaler, RobustScaler, MaxAbsScaler\n",
    "from sklearn.ensemble import RandomForestClassifier\n",
    "from sklearn.metrics import accuracy_score, classification_report\n",
    "from sklearn.decomposition import PCA\n",
    "from sklearn.utils.class_weight import compute_class_weight\n",
    "\n",
    "\n",
    "from sklearn.metrics import confusion_matrix, ConfusionMatrixDisplay\n",
    "import matplotlib.pyplot as plt\n",
    "\n",
    "from xgboost import XGBClassifier, XGBRegressor\n",
    "import xgboost as xgb"
   ]
  },
  {
   "cell_type": "code",
   "execution_count": 2,
   "id": "cb83e126",
   "metadata": {},
   "outputs": [],
   "source": [
    "features_num = [\n",
    "    'Total_flux', 'Peak_flux', \n",
    "       'NUV_flux_corr', 'u_flux_corr', 'Bw_flux_corr', 'R_flux_corr',\n",
    "       'I_flux_corr', 'z_flux_corr', 'y_flux_corr',\n",
    "       'J_flux_corr', 'H_flux_corr', 'K_flux_corr', 'Ks_flux_corr',\n",
    "       'ch1_flux_corr', 'ch2_flux_corr', 'ch3_flux_corr', 'ch4_flux_corr',\n",
    "       'F_MIPS_24', 'F_PACS_100', 'F_PACS_160', 'F_SPIRE_250', 'F_SPIRE_350',\n",
    "       'F_SPIRE_500', 'Z_BEST',\n",
    "       'g_flux_corr', 'nb921_hsc_flux_corr'\n",
    "    ]\n",
    "y_column = \"Classification\"\n",
    "\n",
    "classes = ['jet-mode radio AGN/low-excitation radio galaxy', 'quasar-like radio AGN / high-excitation radio galaxy', \n",
    "           'radio-quiet AGN', 'star-forming galaxy']"
   ]
  },
  {
   "cell_type": "code",
   "execution_count": 3,
   "id": "a92a92ff",
   "metadata": {},
   "outputs": [],
   "source": [
    "data = pd.read_csv(\"../../../Data/Fangyou_data/Cleaned/combined_using_similar_columns.csv\")\n",
    "data['Source'] = 'Original'"
   ]
  },
  {
   "cell_type": "code",
   "execution_count": 4,
   "id": "61005db1",
   "metadata": {},
   "outputs": [],
   "source": [
    "X = data[features_num]\n",
    "y = data[[y_column, 'Source', 'Xray', 'Opt_spec', 'IRAGN', 'Donley']]"
   ]
  },
  {
   "cell_type": "code",
   "execution_count": 5,
   "id": "17a658af",
   "metadata": {},
   "outputs": [
    {
     "name": "stderr",
     "output_type": "stream",
     "text": [
      "/var/lib/condor/execute/dir_9432/ipykernel_9558/2943677748.py:3: SettingWithCopyWarning: \n",
      "A value is trying to be set on a copy of a slice from a DataFrame.\n",
      "Try using .loc[row_indexer,col_indexer] = value instead\n",
      "\n",
      "See the caveats in the documentation: https://pandas.pydata.org/pandas-docs/stable/user_guide/indexing.html#returning-a-view-versus-a-copy\n",
      "  y[\"Classification\"] = le.fit_transform(y[\"Classification\"])\n"
     ]
    }
   ],
   "source": [
    "le = LabelEncoder()\n",
    "labels = np.unique(y[\"Classification\"].astype(str))\n",
    "y[\"Classification\"] = le.fit_transform(y[\"Classification\"])"
   ]
  },
  {
   "cell_type": "markdown",
   "id": "e3dcbbfa",
   "metadata": {},
   "source": [
    "## BH data"
   ]
  },
  {
   "cell_type": "code",
   "execution_count": 6,
   "id": "5c2c4186",
   "metadata": {},
   "outputs": [],
   "source": [
    "Best_Heckman_data = pd.read_csv(\"../../../Data/Best&Heckman/BestHeckman+SDSS+wise+LOFAR_better_fixed_fluxes.csv\")\n",
    "Best_Heckman_data['Source'] = 'BH'"
   ]
  },
  {
   "cell_type": "code",
   "execution_count": 7,
   "id": "296d7b2a",
   "metadata": {},
   "outputs": [],
   "source": [
    "# Only selecting data with a classification\n",
    "Best_Heckman_data = Best_Heckman_data[Best_Heckman_data['Classification'] != 'Radio-loud AGN'] "
   ]
  },
  {
   "cell_type": "code",
   "execution_count": 8,
   "id": "58a6b253",
   "metadata": {},
   "outputs": [],
   "source": [
    "Best_Heckman_X = Best_Heckman_data[[c for c in Best_Heckman_data.columns if c != 'Classification']]\n",
    "Best_Heckman_y = Best_Heckman_data[['Classification', 'Source']]"
   ]
  },
  {
   "cell_type": "code",
   "execution_count": 9,
   "id": "2b6ef6e8",
   "metadata": {},
   "outputs": [
    {
     "name": "stderr",
     "output_type": "stream",
     "text": [
      "/var/lib/condor/execute/dir_9432/ipykernel_9558/4234724966.py:1: SettingWithCopyWarning: \n",
      "A value is trying to be set on a copy of a slice from a DataFrame.\n",
      "Try using .loc[row_indexer,col_indexer] = value instead\n",
      "\n",
      "See the caveats in the documentation: https://pandas.pydata.org/pandas-docs/stable/user_guide/indexing.html#returning-a-view-versus-a-copy\n",
      "  Best_Heckman_y['Classification'] = le.transform(Best_Heckman_y['Classification'])\n"
     ]
    }
   ],
   "source": [
    "Best_Heckman_y['Classification'] = le.transform(Best_Heckman_y['Classification'])"
   ]
  },
  {
   "cell_type": "code",
   "execution_count": 10,
   "id": "15f4bd5c",
   "metadata": {},
   "outputs": [],
   "source": [
    "y = pd.concat([y, Best_Heckman_y]).reset_index(drop=True)"
   ]
  },
  {
   "cell_type": "code",
   "execution_count": 11,
   "id": "e38c7136",
   "metadata": {},
   "outputs": [],
   "source": [
    "Best_Heckman_X = Best_Heckman_X[['Z_BEST', 'u_flux_corr',\n",
    "       'g_flux_corr', 'R_flux_corr', 'I_flux_corr', 'z_flux_corr', 'ch1_flux_corr', 'ch2_flux_corr',\n",
    "       'J_flux_corr', 'H_flux_corr', 'Ks_flux_corr', 'Peak_flux', 'Total_flux']]\n",
    "\n",
    "# Adding nans to missing columns\n",
    "Best_Heckman_X[['NUV_flux_corr', 'Bw_flux_corr', 'y_flux_corr', 'K_flux_corr', \n",
    "                'F_MIPS_24', 'F_PACS_100', 'F_PACS_160', 'F_SPIRE_250', 'F_SPIRE_350',\n",
    "                'F_SPIRE_500', 'nb921_hsc_flux_corr', 'ch3_flux_corr', 'ch4_flux_corr']] = np.nan"
   ]
  },
  {
   "cell_type": "code",
   "execution_count": 12,
   "id": "92d5e58d",
   "metadata": {},
   "outputs": [],
   "source": [
    "X = pd.concat([X, Best_Heckman_X]).reset_index(drop=True)"
   ]
  },
  {
   "cell_type": "markdown",
   "id": "6554d33d",
   "metadata": {},
   "source": [
    "### MIGHTEE data"
   ]
  },
  {
   "cell_type": "code",
   "execution_count": 13,
   "id": "a700bee9",
   "metadata": {},
   "outputs": [],
   "source": [
    "mightee_data = pd.read_csv(\"../../../Data/MIGHTEE/Classification/final_gaussian_radio_more.csv\")\n",
    "mightee_data['Source'] = 'MIGHTEE'"
   ]
  },
  {
   "cell_type": "code",
   "execution_count": 14,
   "id": "cbfd7fa0",
   "metadata": {},
   "outputs": [
    {
     "name": "stdout",
     "output_type": "stream",
     "text": [
      "Amount of rows: 4370\n"
     ]
    }
   ],
   "source": [
    "# Dropping nan classifications\n",
    "mightee_data = mightee_data[mightee_data['Classification'].notna()]\n",
    "\n",
    "# Dropping quasar-like radio AGN / high-excitation radio galaxy\n",
    "#mightee_data = mightee_data[mightee_data['Classification'] != 'star-forming galaxy']\n",
    "print(\"Amount of rows:\", len(mightee_data))"
   ]
  },
  {
   "cell_type": "code",
   "execution_count": 15,
   "id": "5ddf02ed",
   "metadata": {},
   "outputs": [],
   "source": [
    "mightee_X = mightee_data[[c for c in mightee_data.columns if c != 'Classification']]\n",
    "mightee_y = mightee_data[['Classification', 'Source', 'XAGN', 'midIRAGN', 'VLBAAGN', 'RLAGN', 'optAGN']]"
   ]
  },
  {
   "cell_type": "code",
   "execution_count": 16,
   "id": "fea4a372",
   "metadata": {},
   "outputs": [
    {
     "name": "stderr",
     "output_type": "stream",
     "text": [
      "/var/lib/condor/execute/dir_9432/ipykernel_9558/4111256676.py:1: SettingWithCopyWarning: \n",
      "A value is trying to be set on a copy of a slice from a DataFrame.\n",
      "Try using .loc[row_indexer,col_indexer] = value instead\n",
      "\n",
      "See the caveats in the documentation: https://pandas.pydata.org/pandas-docs/stable/user_guide/indexing.html#returning-a-view-versus-a-copy\n",
      "  mightee_y['Classification'] = le.transform(mightee_y['Classification'])\n"
     ]
    }
   ],
   "source": [
    "mightee_y['Classification'] = le.transform(mightee_y['Classification'])\n",
    "y = pd.concat([y, mightee_y]).reset_index(drop=True)"
   ]
  },
  {
   "cell_type": "code",
   "execution_count": 17,
   "id": "c04d8fef",
   "metadata": {},
   "outputs": [],
   "source": [
    "mightee_X = mightee_X[['Z_BEST', 'ch1_flux_corr', 'ch2_flux_corr', 'ch3_flux_corr',\n",
    "       'ch4_flux_corr', 'F_MIPS_24', 'F_PACS_100', 'F_PACS_160',\n",
    "       'F_SPIRE_250', 'F_SPIRE_350', 'F_SPIRE_500', 'Ks_flux_corr',\n",
    "       'H_flux_corr', 'J_flux_corr', 'i_flux_corr', 'r_flux_corr',\n",
    "       'u_flux_corr', 'z_flux_corr', 'y_flux_corr', 'NUV_flux_corr',\n",
    "       #'FUV_flux_corr', \n",
    "                       'Total_flux', 'Peak_flux']]\n",
    "\n",
    "mightee_X[['I_flux_corr', 'R_flux_corr']] = mightee_X[['i_flux_corr', 'r_flux_corr']]\n",
    "mightee_X = mightee_X.drop(columns=['i_flux_corr', 'r_flux_corr'])\n",
    "\n",
    "# Adding nans to missing columns\n",
    "mightee_X[['Bw_flux_corr', 'K_flux_corr', 'g_flux_corr', 'nb921_hsc_flux_corr']] = np.nan\n",
    "\n",
    "# Changing order\n",
    "mightee_X = mightee_X[['Total_flux', 'Peak_flux', \n",
    "                       'NUV_flux_corr', 'u_flux_corr', \n",
    "                       'Bw_flux_corr', 'R_flux_corr', \n",
    "                       'I_flux_corr', 'z_flux_corr', \n",
    "                       'y_flux_corr', 'J_flux_corr', \n",
    "                       'H_flux_corr', 'K_flux_corr', \n",
    "                       'Ks_flux_corr', 'ch1_flux_corr', \n",
    "                       'ch2_flux_corr', 'ch3_flux_corr', \n",
    "                       'ch4_flux_corr', 'F_MIPS_24', 'F_PACS_100', \n",
    "                       'F_PACS_160', 'F_SPIRE_250', 'F_SPIRE_350', \n",
    "                       'F_SPIRE_500', 'Z_BEST', \n",
    "                       'g_flux_corr', 'nb921_hsc_flux_corr']]"
   ]
  },
  {
   "cell_type": "code",
   "execution_count": 18,
   "id": "1b702f8b",
   "metadata": {},
   "outputs": [],
   "source": [
    "X = pd.concat([X, mightee_X]).reset_index(drop=True)"
   ]
  },
  {
   "cell_type": "markdown",
   "id": "30e8795d",
   "metadata": {},
   "source": [
    "# Add 2class columns"
   ]
  },
  {
   "cell_type": "code",
   "execution_count": 19,
   "id": "c0b2b69e",
   "metadata": {},
   "outputs": [],
   "source": [
    "def AGN(row):\n",
    "    \n",
    "    if row['Classification'] == 'jet-mode radio AGN/low-excitation radio galaxy':\n",
    "        return 1\n",
    "    elif row['Classification'] == 'quasar-like radio AGN / high-excitation radio galaxy':\n",
    "        return 1\n",
    "    elif row['Classification'] == 'radio-quiet AGN':\n",
    "        return 1\n",
    "    elif row['Classification'] == 'star-forming galaxy':\n",
    "        return 0"
   ]
  },
  {
   "cell_type": "code",
   "execution_count": 20,
   "id": "85f604fe",
   "metadata": {},
   "outputs": [],
   "source": [
    "# Temporarily relabelling it for function\n",
    "y['Classification'] = le.inverse_transform(y['Classification'])\n",
    "y['AGN'] =  y.apply(AGN, axis=1, result_type='expand')\n",
    "y['Classification'] = le.transform(y['Classification'])"
   ]
  },
  {
   "cell_type": "code",
   "execution_count": 21,
   "id": "53c7db6e",
   "metadata": {},
   "outputs": [
    {
     "data": {
      "text/html": [
       "<div>\n",
       "<style scoped>\n",
       "    .dataframe tbody tr th:only-of-type {\n",
       "        vertical-align: middle;\n",
       "    }\n",
       "\n",
       "    .dataframe tbody tr th {\n",
       "        vertical-align: top;\n",
       "    }\n",
       "\n",
       "    .dataframe thead th {\n",
       "        text-align: right;\n",
       "    }\n",
       "</style>\n",
       "<table border=\"1\" class=\"dataframe\">\n",
       "  <thead>\n",
       "    <tr style=\"text-align: right;\">\n",
       "      <th></th>\n",
       "      <th>Classification</th>\n",
       "      <th>Source</th>\n",
       "      <th>Xray</th>\n",
       "      <th>Opt_spec</th>\n",
       "      <th>IRAGN</th>\n",
       "      <th>Donley</th>\n",
       "      <th>XAGN</th>\n",
       "      <th>midIRAGN</th>\n",
       "      <th>VLBAAGN</th>\n",
       "      <th>RLAGN</th>\n",
       "      <th>optAGN</th>\n",
       "      <th>AGN</th>\n",
       "    </tr>\n",
       "  </thead>\n",
       "  <tbody>\n",
       "    <tr>\n",
       "      <th>0</th>\n",
       "      <td>3</td>\n",
       "      <td>Original</td>\n",
       "      <td>0.0</td>\n",
       "      <td>0.0</td>\n",
       "      <td>1.0</td>\n",
       "      <td>1.0</td>\n",
       "      <td>NaN</td>\n",
       "      <td>NaN</td>\n",
       "      <td>NaN</td>\n",
       "      <td>NaN</td>\n",
       "      <td>NaN</td>\n",
       "      <td>0</td>\n",
       "    </tr>\n",
       "    <tr>\n",
       "      <th>1</th>\n",
       "      <td>1</td>\n",
       "      <td>Original</td>\n",
       "      <td>0.0</td>\n",
       "      <td>0.0</td>\n",
       "      <td>0.0</td>\n",
       "      <td>0.0</td>\n",
       "      <td>NaN</td>\n",
       "      <td>NaN</td>\n",
       "      <td>NaN</td>\n",
       "      <td>NaN</td>\n",
       "      <td>NaN</td>\n",
       "      <td>1</td>\n",
       "    </tr>\n",
       "    <tr>\n",
       "      <th>2</th>\n",
       "      <td>3</td>\n",
       "      <td>Original</td>\n",
       "      <td>0.0</td>\n",
       "      <td>0.0</td>\n",
       "      <td>0.0</td>\n",
       "      <td>0.0</td>\n",
       "      <td>NaN</td>\n",
       "      <td>NaN</td>\n",
       "      <td>NaN</td>\n",
       "      <td>NaN</td>\n",
       "      <td>NaN</td>\n",
       "      <td>0</td>\n",
       "    </tr>\n",
       "    <tr>\n",
       "      <th>3</th>\n",
       "      <td>3</td>\n",
       "      <td>Original</td>\n",
       "      <td>0.0</td>\n",
       "      <td>0.0</td>\n",
       "      <td>0.0</td>\n",
       "      <td>0.0</td>\n",
       "      <td>NaN</td>\n",
       "      <td>NaN</td>\n",
       "      <td>NaN</td>\n",
       "      <td>NaN</td>\n",
       "      <td>NaN</td>\n",
       "      <td>0</td>\n",
       "    </tr>\n",
       "    <tr>\n",
       "      <th>4</th>\n",
       "      <td>2</td>\n",
       "      <td>Original</td>\n",
       "      <td>0.0</td>\n",
       "      <td>0.0</td>\n",
       "      <td>1.0</td>\n",
       "      <td>0.0</td>\n",
       "      <td>NaN</td>\n",
       "      <td>NaN</td>\n",
       "      <td>NaN</td>\n",
       "      <td>NaN</td>\n",
       "      <td>NaN</td>\n",
       "      <td>1</td>\n",
       "    </tr>\n",
       "    <tr>\n",
       "      <th>...</th>\n",
       "      <td>...</td>\n",
       "      <td>...</td>\n",
       "      <td>...</td>\n",
       "      <td>...</td>\n",
       "      <td>...</td>\n",
       "      <td>...</td>\n",
       "      <td>...</td>\n",
       "      <td>...</td>\n",
       "      <td>...</td>\n",
       "      <td>...</td>\n",
       "      <td>...</td>\n",
       "      <td>...</td>\n",
       "    </tr>\n",
       "    <tr>\n",
       "      <th>95136</th>\n",
       "      <td>3</td>\n",
       "      <td>MIGHTEE</td>\n",
       "      <td>NaN</td>\n",
       "      <td>NaN</td>\n",
       "      <td>NaN</td>\n",
       "      <td>NaN</td>\n",
       "      <td>False</td>\n",
       "      <td>False</td>\n",
       "      <td>False</td>\n",
       "      <td>False</td>\n",
       "      <td>False</td>\n",
       "      <td>0</td>\n",
       "    </tr>\n",
       "    <tr>\n",
       "      <th>95137</th>\n",
       "      <td>1</td>\n",
       "      <td>MIGHTEE</td>\n",
       "      <td>NaN</td>\n",
       "      <td>NaN</td>\n",
       "      <td>NaN</td>\n",
       "      <td>NaN</td>\n",
       "      <td>True</td>\n",
       "      <td>False</td>\n",
       "      <td>False</td>\n",
       "      <td>True</td>\n",
       "      <td>False</td>\n",
       "      <td>1</td>\n",
       "    </tr>\n",
       "    <tr>\n",
       "      <th>95138</th>\n",
       "      <td>3</td>\n",
       "      <td>MIGHTEE</td>\n",
       "      <td>NaN</td>\n",
       "      <td>NaN</td>\n",
       "      <td>NaN</td>\n",
       "      <td>NaN</td>\n",
       "      <td>False</td>\n",
       "      <td>False</td>\n",
       "      <td>False</td>\n",
       "      <td>False</td>\n",
       "      <td>False</td>\n",
       "      <td>0</td>\n",
       "    </tr>\n",
       "    <tr>\n",
       "      <th>95139</th>\n",
       "      <td>3</td>\n",
       "      <td>MIGHTEE</td>\n",
       "      <td>NaN</td>\n",
       "      <td>NaN</td>\n",
       "      <td>NaN</td>\n",
       "      <td>NaN</td>\n",
       "      <td>False</td>\n",
       "      <td>False</td>\n",
       "      <td>False</td>\n",
       "      <td>False</td>\n",
       "      <td>False</td>\n",
       "      <td>0</td>\n",
       "    </tr>\n",
       "    <tr>\n",
       "      <th>95140</th>\n",
       "      <td>3</td>\n",
       "      <td>MIGHTEE</td>\n",
       "      <td>NaN</td>\n",
       "      <td>NaN</td>\n",
       "      <td>NaN</td>\n",
       "      <td>NaN</td>\n",
       "      <td>False</td>\n",
       "      <td>False</td>\n",
       "      <td>False</td>\n",
       "      <td>False</td>\n",
       "      <td>False</td>\n",
       "      <td>0</td>\n",
       "    </tr>\n",
       "  </tbody>\n",
       "</table>\n",
       "<p>95141 rows × 12 columns</p>\n",
       "</div>"
      ],
      "text/plain": [
       "       Classification    Source  Xray  Opt_spec  IRAGN  Donley   XAGN  \\\n",
       "0                   3  Original   0.0       0.0    1.0     1.0    NaN   \n",
       "1                   1  Original   0.0       0.0    0.0     0.0    NaN   \n",
       "2                   3  Original   0.0       0.0    0.0     0.0    NaN   \n",
       "3                   3  Original   0.0       0.0    0.0     0.0    NaN   \n",
       "4                   2  Original   0.0       0.0    1.0     0.0    NaN   \n",
       "...               ...       ...   ...       ...    ...     ...    ...   \n",
       "95136               3   MIGHTEE   NaN       NaN    NaN     NaN  False   \n",
       "95137               1   MIGHTEE   NaN       NaN    NaN     NaN   True   \n",
       "95138               3   MIGHTEE   NaN       NaN    NaN     NaN  False   \n",
       "95139               3   MIGHTEE   NaN       NaN    NaN     NaN  False   \n",
       "95140               3   MIGHTEE   NaN       NaN    NaN     NaN  False   \n",
       "\n",
       "      midIRAGN VLBAAGN  RLAGN optAGN  AGN  \n",
       "0          NaN     NaN    NaN    NaN    0  \n",
       "1          NaN     NaN    NaN    NaN    1  \n",
       "2          NaN     NaN    NaN    NaN    0  \n",
       "3          NaN     NaN    NaN    NaN    0  \n",
       "4          NaN     NaN    NaN    NaN    1  \n",
       "...        ...     ...    ...    ...  ...  \n",
       "95136    False   False  False  False    0  \n",
       "95137    False   False   True  False    1  \n",
       "95138    False   False  False  False    0  \n",
       "95139    False   False  False  False    0  \n",
       "95140    False   False  False  False    0  \n",
       "\n",
       "[95141 rows x 12 columns]"
      ]
     },
     "execution_count": 21,
     "metadata": {},
     "output_type": "execute_result"
    }
   ],
   "source": [
    "y"
   ]
  },
  {
   "cell_type": "code",
   "execution_count": 22,
   "id": "619d3765",
   "metadata": {},
   "outputs": [],
   "source": [
    "X_train, X_test, y_train, y_test = train_test_split(X, y, train_size=0.8, stratify=y[['Source', 'AGN']], random_state=42)\n",
    "X_test, X_val, y_test, y_val = train_test_split(X_test, y_test, train_size=0.8, stratify=y_test[['Source', 'AGN']], random_state=42)"
   ]
  },
  {
   "cell_type": "markdown",
   "id": "c7e8570a",
   "metadata": {},
   "source": [
    "# Step 1: AGN or not"
   ]
  },
  {
   "cell_type": "code",
   "execution_count": 58,
   "id": "47239977",
   "metadata": {},
   "outputs": [],
   "source": [
    "from flaml import AutoML\n",
    "automl = AutoML()"
   ]
  },
  {
   "cell_type": "code",
   "execution_count": 60,
   "id": "8a5fcadd",
   "metadata": {
    "scrolled": true
   },
   "outputs": [
    {
     "name": "stderr",
     "output_type": "stream",
     "text": [
      "[flaml.automl: 02-03 11:52:01] {2390} INFO - task = classification\n",
      "[flaml.automl: 02-03 11:52:01] {2392} INFO - Data split method: stratified\n",
      "[flaml.automl: 02-03 11:52:01] {2396} INFO - Evaluation method: cv\n",
      "[flaml.automl: 02-03 11:52:01] {2465} INFO - Minimizing error metric: 1-accuracy\n",
      "[flaml.automl: 02-03 11:52:01] {2605} INFO - List of ML learners in AutoML Run: ['lgbm', 'rf', 'xgboost', 'extra_tree', 'xgb_limitdepth', 'lrl1']\n",
      "[flaml.automl: 02-03 11:52:01] {2897} INFO - iteration 0, current learner lgbm\n",
      "[flaml.automl: 02-03 11:52:02] {3025} INFO - Estimated sufficient time budget=10420s. Estimated necessary time budget=240s.\n",
      "[flaml.automl: 02-03 11:52:02] {3072} INFO -  at 1.7s,\testimator lgbm's best error=0.2563,\tbest estimator lgbm's best error=0.2563\n",
      "[flaml.automl: 02-03 11:52:02] {2897} INFO - iteration 1, current learner lgbm\n",
      "[flaml.automl: 02-03 11:52:03] {3072} INFO -  at 2.7s,\testimator lgbm's best error=0.2563,\tbest estimator lgbm's best error=0.2563\n",
      "[flaml.automl: 02-03 11:52:03] {2897} INFO - iteration 2, current learner lgbm\n",
      "[flaml.automl: 02-03 11:52:04] {3072} INFO -  at 3.4s,\testimator lgbm's best error=0.1919,\tbest estimator lgbm's best error=0.1919\n",
      "[flaml.automl: 02-03 11:52:04] {2897} INFO - iteration 3, current learner xgboost\n",
      "[flaml.automl: 02-03 11:52:04] {3072} INFO -  at 4.1s,\testimator xgboost's best error=0.2058,\tbest estimator lgbm's best error=0.1919\n",
      "[flaml.automl: 02-03 11:52:04] {2897} INFO - iteration 4, current learner lgbm\n",
      "[flaml.automl: 02-03 11:52:05] {3072} INFO -  at 4.9s,\testimator lgbm's best error=0.1616,\tbest estimator lgbm's best error=0.1616\n",
      "[flaml.automl: 02-03 11:52:05] {2897} INFO - iteration 5, current learner lgbm\n",
      "[flaml.automl: 02-03 11:52:06] {3072} INFO -  at 5.6s,\testimator lgbm's best error=0.1616,\tbest estimator lgbm's best error=0.1616\n",
      "[flaml.automl: 02-03 11:52:06] {2897} INFO - iteration 6, current learner lgbm\n",
      "[flaml.automl: 02-03 11:52:07] {3072} INFO -  at 6.4s,\testimator lgbm's best error=0.1495,\tbest estimator lgbm's best error=0.1495\n",
      "[flaml.automl: 02-03 11:52:07] {2897} INFO - iteration 7, current learner lgbm\n",
      "[flaml.automl: 02-03 11:52:07] {3072} INFO -  at 7.2s,\testimator lgbm's best error=0.1495,\tbest estimator lgbm's best error=0.1495\n",
      "[flaml.automl: 02-03 11:52:07] {2897} INFO - iteration 8, current learner lgbm\n",
      "[flaml.automl: 02-03 11:52:08] {3072} INFO -  at 7.9s,\testimator lgbm's best error=0.1495,\tbest estimator lgbm's best error=0.1495\n",
      "[flaml.automl: 02-03 11:52:08] {2897} INFO - iteration 9, current learner xgboost\n",
      "[flaml.automl: 02-03 11:52:09] {3072} INFO -  at 8.6s,\testimator xgboost's best error=0.1960,\tbest estimator lgbm's best error=0.1495\n",
      "[flaml.automl: 02-03 11:52:09] {2897} INFO - iteration 10, current learner lgbm\n",
      "[flaml.automl: 02-03 11:52:10] {3072} INFO -  at 9.7s,\testimator lgbm's best error=0.1396,\tbest estimator lgbm's best error=0.1396\n",
      "[flaml.automl: 02-03 11:52:10] {2897} INFO - iteration 11, current learner extra_tree\n",
      "[flaml.automl: 02-03 11:52:10] {3072} INFO -  at 10.1s,\testimator extra_tree's best error=0.3444,\tbest estimator lgbm's best error=0.1396\n",
      "[flaml.automl: 02-03 11:52:10] {2897} INFO - iteration 12, current learner extra_tree\n",
      "[flaml.automl: 02-03 11:52:11] {3072} INFO -  at 10.5s,\testimator extra_tree's best error=0.3218,\tbest estimator lgbm's best error=0.1396\n",
      "[flaml.automl: 02-03 11:52:11] {2897} INFO - iteration 13, current learner rf\n",
      "[flaml.automl: 02-03 11:52:13] {3072} INFO -  at 12.4s,\testimator rf's best error=0.2289,\tbest estimator lgbm's best error=0.1396\n",
      "[flaml.automl: 02-03 11:52:13] {2897} INFO - iteration 14, current learner rf\n",
      "[flaml.automl: 02-03 11:52:14] {3072} INFO -  at 13.8s,\testimator rf's best error=0.1879,\tbest estimator lgbm's best error=0.1396\n",
      "[flaml.automl: 02-03 11:52:14] {2897} INFO - iteration 15, current learner rf\n",
      "[flaml.automl: 02-03 11:52:15] {3072} INFO -  at 15.0s,\testimator rf's best error=0.1879,\tbest estimator lgbm's best error=0.1396\n",
      "[flaml.automl: 02-03 11:52:15] {2897} INFO - iteration 16, current learner lgbm\n",
      "[flaml.automl: 02-03 11:52:16] {3072} INFO -  at 16.1s,\testimator lgbm's best error=0.1396,\tbest estimator lgbm's best error=0.1396\n",
      "[flaml.automl: 02-03 11:52:16] {2897} INFO - iteration 17, current learner extra_tree\n",
      "[flaml.automl: 02-03 11:52:17] {3072} INFO -  at 16.5s,\testimator extra_tree's best error=0.3218,\tbest estimator lgbm's best error=0.1396\n",
      "[flaml.automl: 02-03 11:52:17] {2897} INFO - iteration 18, current learner lgbm\n",
      "[flaml.automl: 02-03 11:52:22] {3072} INFO -  at 21.4s,\testimator lgbm's best error=0.1000,\tbest estimator lgbm's best error=0.1000\n",
      "[flaml.automl: 02-03 11:52:22] {2897} INFO - iteration 19, current learner xgboost\n",
      "[flaml.automl: 02-03 11:52:22] {3072} INFO -  at 22.1s,\testimator xgboost's best error=0.1960,\tbest estimator lgbm's best error=0.1000\n",
      "[flaml.automl: 02-03 11:52:22] {2897} INFO - iteration 20, current learner lgbm\n",
      "[flaml.automl: 02-03 11:52:29] {3072} INFO -  at 28.9s,\testimator lgbm's best error=0.1000,\tbest estimator lgbm's best error=0.1000\n",
      "[flaml.automl: 02-03 11:52:29] {2897} INFO - iteration 21, current learner rf\n",
      "[flaml.automl: 02-03 11:52:31] {3072} INFO -  at 30.9s,\testimator rf's best error=0.1879,\tbest estimator lgbm's best error=0.1000\n",
      "[flaml.automl: 02-03 11:52:31] {2897} INFO - iteration 22, current learner lgbm\n",
      "[flaml.automl: 02-03 11:52:35] {3072} INFO -  at 35.1s,\testimator lgbm's best error=0.1000,\tbest estimator lgbm's best error=0.1000\n",
      "[flaml.automl: 02-03 11:52:35] {2897} INFO - iteration 23, current learner lgbm\n",
      "[flaml.automl: 02-03 11:52:39] {3072} INFO -  at 38.7s,\testimator lgbm's best error=0.1000,\tbest estimator lgbm's best error=0.1000\n",
      "[flaml.automl: 02-03 11:52:39] {2897} INFO - iteration 24, current learner extra_tree\n",
      "[flaml.automl: 02-03 11:52:39] {3072} INFO -  at 39.1s,\testimator extra_tree's best error=0.3218,\tbest estimator lgbm's best error=0.1000\n",
      "[flaml.automl: 02-03 11:52:39] {2897} INFO - iteration 25, current learner extra_tree\n",
      "[flaml.automl: 02-03 11:52:40] {3072} INFO -  at 39.6s,\testimator extra_tree's best error=0.2884,\tbest estimator lgbm's best error=0.1000\n",
      "[flaml.automl: 02-03 11:52:40] {2897} INFO - iteration 26, current learner rf\n",
      "[flaml.automl: 02-03 11:52:42] {3072} INFO -  at 42.3s,\testimator rf's best error=0.1792,\tbest estimator lgbm's best error=0.1000\n",
      "[flaml.automl: 02-03 11:52:42] {2897} INFO - iteration 27, current learner extra_tree\n",
      "[flaml.automl: 02-03 11:52:43] {3072} INFO -  at 42.8s,\testimator extra_tree's best error=0.2884,\tbest estimator lgbm's best error=0.1000\n",
      "[flaml.automl: 02-03 11:52:43] {2897} INFO - iteration 28, current learner extra_tree\n",
      "[flaml.automl: 02-03 11:52:44] {3072} INFO -  at 43.3s,\testimator extra_tree's best error=0.2384,\tbest estimator lgbm's best error=0.1000\n",
      "[flaml.automl: 02-03 11:52:44] {2897} INFO - iteration 29, current learner extra_tree\n",
      "[flaml.automl: 02-03 11:52:44] {3072} INFO -  at 44.2s,\testimator extra_tree's best error=0.2305,\tbest estimator lgbm's best error=0.1000\n",
      "[flaml.automl: 02-03 11:52:44] {2897} INFO - iteration 30, current learner lgbm\n",
      "[flaml.automl: 02-03 11:52:53] {3072} INFO -  at 52.3s,\testimator lgbm's best error=0.0971,\tbest estimator lgbm's best error=0.0971\n",
      "[flaml.automl: 02-03 11:52:53] {2897} INFO - iteration 31, current learner lgbm\n",
      "[flaml.automl: 02-03 11:53:11] {3072} INFO -  at 70.9s,\testimator lgbm's best error=0.0971,\tbest estimator lgbm's best error=0.0971\n",
      "[flaml.automl: 02-03 11:53:11] {2897} INFO - iteration 32, current learner lgbm\n",
      "[flaml.automl: 02-03 11:53:16] {3072} INFO -  at 75.8s,\testimator lgbm's best error=0.0971,\tbest estimator lgbm's best error=0.0971\n",
      "[flaml.automl: 02-03 11:53:16] {2897} INFO - iteration 33, current learner extra_tree\n",
      "[flaml.automl: 02-03 11:53:17] {3072} INFO -  at 76.3s,\testimator extra_tree's best error=0.2305,\tbest estimator lgbm's best error=0.0971\n",
      "[flaml.automl: 02-03 11:53:17] {2897} INFO - iteration 34, current learner lgbm\n",
      "[flaml.automl: 02-03 11:53:29] {3072} INFO -  at 88.6s,\testimator lgbm's best error=0.0971,\tbest estimator lgbm's best error=0.0971\n",
      "[flaml.automl: 02-03 11:53:29] {2897} INFO - iteration 35, current learner xgboost\n",
      "[flaml.automl: 02-03 11:53:30] {3072} INFO -  at 89.3s,\testimator xgboost's best error=0.1895,\tbest estimator lgbm's best error=0.0971\n"
     ]
    },
    {
     "name": "stderr",
     "output_type": "stream",
     "text": [
      "[flaml.automl: 02-03 11:53:30] {2897} INFO - iteration 36, current learner extra_tree\n",
      "[flaml.automl: 02-03 11:53:30] {3072} INFO -  at 89.8s,\testimator extra_tree's best error=0.2305,\tbest estimator lgbm's best error=0.0971\n",
      "[flaml.automl: 02-03 11:53:30] {2897} INFO - iteration 37, current learner xgboost\n",
      "[flaml.automl: 02-03 11:53:31] {3072} INFO -  at 90.6s,\testimator xgboost's best error=0.1858,\tbest estimator lgbm's best error=0.0971\n",
      "[flaml.automl: 02-03 11:53:31] {2897} INFO - iteration 38, current learner xgboost\n",
      "[flaml.automl: 02-03 11:53:31] {3072} INFO -  at 91.3s,\testimator xgboost's best error=0.1858,\tbest estimator lgbm's best error=0.0971\n",
      "[flaml.automl: 02-03 11:53:31] {2897} INFO - iteration 39, current learner lgbm\n",
      "[flaml.automl: 02-03 11:53:37] {3072} INFO -  at 96.4s,\testimator lgbm's best error=0.0971,\tbest estimator lgbm's best error=0.0971\n",
      "[flaml.automl: 02-03 11:53:37] {2897} INFO - iteration 40, current learner xgboost\n",
      "[flaml.automl: 02-03 11:53:37] {3072} INFO -  at 97.2s,\testimator xgboost's best error=0.1767,\tbest estimator lgbm's best error=0.0971\n",
      "[flaml.automl: 02-03 11:53:37] {2897} INFO - iteration 41, current learner extra_tree\n",
      "[flaml.automl: 02-03 11:53:38] {3072} INFO -  at 98.0s,\testimator extra_tree's best error=0.1897,\tbest estimator lgbm's best error=0.0971\n",
      "[flaml.automl: 02-03 11:53:38] {2897} INFO - iteration 42, current learner lgbm\n",
      "[flaml.automl: 02-03 11:53:41] {3072} INFO -  at 101.0s,\testimator lgbm's best error=0.0971,\tbest estimator lgbm's best error=0.0971\n",
      "[flaml.automl: 02-03 11:53:41] {2897} INFO - iteration 43, current learner extra_tree\n",
      "[flaml.automl: 02-03 11:53:42] {3072} INFO -  at 101.6s,\testimator extra_tree's best error=0.1897,\tbest estimator lgbm's best error=0.0971\n",
      "[flaml.automl: 02-03 11:53:42] {2897} INFO - iteration 44, current learner extra_tree\n",
      "[flaml.automl: 02-03 11:53:43] {3072} INFO -  at 102.8s,\testimator extra_tree's best error=0.1691,\tbest estimator lgbm's best error=0.0971\n",
      "[flaml.automl: 02-03 11:53:43] {2897} INFO - iteration 45, current learner extra_tree\n",
      "[flaml.automl: 02-03 11:53:44] {3072} INFO -  at 103.8s,\testimator extra_tree's best error=0.1596,\tbest estimator lgbm's best error=0.0971\n",
      "[flaml.automl: 02-03 11:53:44] {2897} INFO - iteration 46, current learner xgboost\n",
      "[flaml.automl: 02-03 11:53:45] {3072} INFO -  at 105.2s,\testimator xgboost's best error=0.1602,\tbest estimator lgbm's best error=0.0971\n",
      "[flaml.automl: 02-03 11:53:45] {2897} INFO - iteration 47, current learner extra_tree\n",
      "[flaml.automl: 02-03 11:53:47] {3072} INFO -  at 106.5s,\testimator extra_tree's best error=0.1596,\tbest estimator lgbm's best error=0.0971\n",
      "[flaml.automl: 02-03 11:53:47] {2897} INFO - iteration 48, current learner lgbm\n",
      "[flaml.automl: 02-03 11:54:17] {3072} INFO -  at 137.1s,\testimator lgbm's best error=0.0971,\tbest estimator lgbm's best error=0.0971\n",
      "[flaml.automl: 02-03 11:54:17] {2897} INFO - iteration 49, current learner xgboost\n",
      "[flaml.automl: 02-03 11:54:18] {3072} INFO -  at 138.0s,\testimator xgboost's best error=0.1602,\tbest estimator lgbm's best error=0.0971\n",
      "[flaml.automl: 02-03 11:54:18] {2897} INFO - iteration 50, current learner extra_tree\n",
      "[flaml.automl: 02-03 11:54:19] {3072} INFO -  at 139.2s,\testimator extra_tree's best error=0.1382,\tbest estimator lgbm's best error=0.0971\n",
      "[flaml.automl: 02-03 11:54:19] {2897} INFO - iteration 51, current learner xgboost\n",
      "[flaml.automl: 02-03 11:54:21] {3072} INFO -  at 141.0s,\testimator xgboost's best error=0.1326,\tbest estimator lgbm's best error=0.0971\n",
      "[flaml.automl: 02-03 11:54:21] {2897} INFO - iteration 52, current learner xgboost\n",
      "[flaml.automl: 02-03 11:54:23] {3072} INFO -  at 142.4s,\testimator xgboost's best error=0.1326,\tbest estimator lgbm's best error=0.0971\n",
      "[flaml.automl: 02-03 11:54:23] {2897} INFO - iteration 53, current learner xgboost\n",
      "[flaml.automl: 02-03 11:54:24] {3072} INFO -  at 143.4s,\testimator xgboost's best error=0.1326,\tbest estimator lgbm's best error=0.0971\n",
      "[flaml.automl: 02-03 11:54:24] {2897} INFO - iteration 54, current learner lgbm\n",
      "[flaml.automl: 02-03 11:54:32] {3072} INFO -  at 152.0s,\testimator lgbm's best error=0.0971,\tbest estimator lgbm's best error=0.0971\n",
      "[flaml.automl: 02-03 11:54:32] {2897} INFO - iteration 55, current learner extra_tree\n",
      "[flaml.automl: 02-03 11:54:33] {3072} INFO -  at 153.0s,\testimator extra_tree's best error=0.1382,\tbest estimator lgbm's best error=0.0971\n",
      "[flaml.automl: 02-03 11:54:33] {2897} INFO - iteration 56, current learner xgboost\n",
      "[flaml.automl: 02-03 11:54:36] {3072} INFO -  at 155.5s,\testimator xgboost's best error=0.1230,\tbest estimator lgbm's best error=0.0971\n",
      "[flaml.automl: 02-03 11:54:36] {2897} INFO - iteration 57, current learner xgboost\n",
      "[flaml.automl: 02-03 11:54:37] {3072} INFO -  at 157.0s,\testimator xgboost's best error=0.1223,\tbest estimator lgbm's best error=0.0971\n",
      "[flaml.automl: 02-03 11:54:37] {2897} INFO - iteration 58, current learner extra_tree\n",
      "[flaml.automl: 02-03 11:54:38] {3072} INFO -  at 157.9s,\testimator extra_tree's best error=0.1382,\tbest estimator lgbm's best error=0.0971\n",
      "[flaml.automl: 02-03 11:54:38] {2897} INFO - iteration 59, current learner lgbm\n",
      "[flaml.automl: 02-03 11:54:46] {3072} INFO -  at 165.6s,\testimator lgbm's best error=0.0971,\tbest estimator lgbm's best error=0.0971\n",
      "[flaml.automl: 02-03 11:54:46] {2897} INFO - iteration 60, current learner extra_tree\n",
      "[flaml.automl: 02-03 11:54:48] {3072} INFO -  at 167.4s,\testimator extra_tree's best error=0.1247,\tbest estimator lgbm's best error=0.0971\n",
      "[flaml.automl: 02-03 11:54:48] {2897} INFO - iteration 61, current learner rf\n",
      "[flaml.automl: 02-03 11:54:50] {3072} INFO -  at 170.1s,\testimator rf's best error=0.1792,\tbest estimator lgbm's best error=0.0971\n",
      "[flaml.automl: 02-03 11:54:50] {2897} INFO - iteration 62, current learner extra_tree\n",
      "[flaml.automl: 02-03 11:54:53] {3072} INFO -  at 172.7s,\testimator extra_tree's best error=0.1172,\tbest estimator lgbm's best error=0.0971\n",
      "[flaml.automl: 02-03 11:54:53] {2897} INFO - iteration 63, current learner extra_tree\n",
      "[flaml.automl: 02-03 11:54:55] {3072} INFO -  at 174.8s,\testimator extra_tree's best error=0.1172,\tbest estimator lgbm's best error=0.0971\n",
      "[flaml.automl: 02-03 11:54:55] {2897} INFO - iteration 64, current learner lgbm\n",
      "[flaml.automl: 02-03 11:55:03] {3072} INFO -  at 182.9s,\testimator lgbm's best error=0.0971,\tbest estimator lgbm's best error=0.0971\n",
      "[flaml.automl: 02-03 11:55:03] {2897} INFO - iteration 65, current learner xgboost\n",
      "[flaml.automl: 02-03 11:55:05] {3072} INFO -  at 184.9s,\testimator xgboost's best error=0.1223,\tbest estimator lgbm's best error=0.0971\n",
      "[flaml.automl: 02-03 11:55:05] {2897} INFO - iteration 66, current learner extra_tree\n",
      "[flaml.automl: 02-03 11:55:08] {3072} INFO -  at 187.7s,\testimator extra_tree's best error=0.1164,\tbest estimator lgbm's best error=0.0971\n",
      "[flaml.automl: 02-03 11:55:08] {2897} INFO - iteration 67, current learner xgb_limitdepth\n",
      "[flaml.automl: 02-03 11:55:11] {3072} INFO -  at 190.9s,\testimator xgb_limitdepth's best error=0.1285,\tbest estimator lgbm's best error=0.0971\n",
      "[flaml.automl: 02-03 11:55:11] {2897} INFO - iteration 68, current learner xgb_limitdepth\n",
      "[flaml.automl: 02-03 11:55:13] {3072} INFO -  at 193.1s,\testimator xgb_limitdepth's best error=0.1285,\tbest estimator lgbm's best error=0.0971\n",
      "[flaml.automl: 02-03 11:55:13] {2897} INFO - iteration 69, current learner rf\n",
      "[flaml.automl: 02-03 11:55:19] {3072} INFO -  at 198.7s,\testimator rf's best error=0.1643,\tbest estimator lgbm's best error=0.0971\n",
      "[flaml.automl: 02-03 11:55:19] {2897} INFO - iteration 70, current learner xgb_limitdepth\n",
      "[flaml.automl: 02-03 11:55:22] {3072} INFO -  at 202.1s,\testimator xgb_limitdepth's best error=0.1193,\tbest estimator lgbm's best error=0.0971\n",
      "[flaml.automl: 02-03 11:55:22] {2897} INFO - iteration 71, current learner xgb_limitdepth\n",
      "[flaml.automl: 02-03 11:55:25] {3072} INFO -  at 204.4s,\testimator xgb_limitdepth's best error=0.1193,\tbest estimator lgbm's best error=0.0971\n",
      "[flaml.automl: 02-03 11:55:25] {2897} INFO - iteration 72, current learner extra_tree\n",
      "[flaml.automl: 02-03 11:55:28] {3072} INFO -  at 207.4s,\testimator extra_tree's best error=0.1155,\tbest estimator lgbm's best error=0.0971\n",
      "[flaml.automl: 02-03 11:55:28] {2897} INFO - iteration 73, current learner xgb_limitdepth\n"
     ]
    },
    {
     "name": "stderr",
     "output_type": "stream",
     "text": [
      "[flaml.automl: 02-03 11:55:31] {3072} INFO -  at 211.2s,\testimator xgb_limitdepth's best error=0.1193,\tbest estimator lgbm's best error=0.0971\n",
      "[flaml.automl: 02-03 11:55:31] {2897} INFO - iteration 74, current learner extra_tree\n",
      "[flaml.automl: 02-03 11:55:35] {3072} INFO -  at 214.5s,\testimator extra_tree's best error=0.1155,\tbest estimator lgbm's best error=0.0971\n",
      "[flaml.automl: 02-03 11:55:35] {2897} INFO - iteration 75, current learner xgb_limitdepth\n",
      "[flaml.automl: 02-03 11:55:36] {3072} INFO -  at 216.0s,\testimator xgb_limitdepth's best error=0.1193,\tbest estimator lgbm's best error=0.0971\n",
      "[flaml.automl: 02-03 11:55:36] {2897} INFO - iteration 76, current learner lgbm\n",
      "[flaml.automl: 02-03 11:55:50] {3072} INFO -  at 229.4s,\testimator lgbm's best error=0.0971,\tbest estimator lgbm's best error=0.0971\n",
      "[flaml.automl: 02-03 11:55:50] {2897} INFO - iteration 77, current learner lgbm\n",
      "[flaml.automl: 02-03 11:56:11] {3072} INFO -  at 250.7s,\testimator lgbm's best error=0.0945,\tbest estimator lgbm's best error=0.0945\n",
      "[flaml.automl: 02-03 11:56:11] {2897} INFO - iteration 78, current learner xgb_limitdepth\n",
      "[flaml.automl: 02-03 11:56:18] {3072} INFO -  at 257.5s,\testimator xgb_limitdepth's best error=0.1182,\tbest estimator lgbm's best error=0.0945\n",
      "[flaml.automl: 02-03 11:56:18] {2897} INFO - iteration 79, current learner lgbm\n",
      "[flaml.automl: 02-03 11:56:29] {3072} INFO -  at 268.5s,\testimator lgbm's best error=0.0945,\tbest estimator lgbm's best error=0.0945\n",
      "[flaml.automl: 02-03 11:56:29] {2897} INFO - iteration 80, current learner lgbm\n",
      "[flaml.automl: 02-03 11:57:53] {3072} INFO -  at 352.8s,\testimator lgbm's best error=0.0931,\tbest estimator lgbm's best error=0.0931\n",
      "[flaml.automl: 02-03 11:57:53] {2897} INFO - iteration 81, current learner extra_tree\n",
      "[flaml.automl: 02-03 11:57:55] {3072} INFO -  at 355.1s,\testimator extra_tree's best error=0.1155,\tbest estimator lgbm's best error=0.0931\n",
      "[flaml.automl: 02-03 11:57:55] {2897} INFO - iteration 82, current learner rf\n",
      "[flaml.automl: 02-03 11:58:01] {3072} INFO -  at 360.5s,\testimator rf's best error=0.1477,\tbest estimator lgbm's best error=0.0931\n",
      "[flaml.automl: 02-03 11:58:01] {2897} INFO - iteration 83, current learner rf\n",
      "[flaml.automl: 02-03 11:58:04] {3072} INFO -  at 363.6s,\testimator rf's best error=0.1477,\tbest estimator lgbm's best error=0.0931\n",
      "[flaml.automl: 02-03 11:58:04] {2897} INFO - iteration 84, current learner rf\n",
      "[flaml.automl: 02-03 11:58:08] {3072} INFO -  at 367.8s,\testimator rf's best error=0.1477,\tbest estimator lgbm's best error=0.0931\n",
      "[flaml.automl: 02-03 11:58:08] {2897} INFO - iteration 85, current learner extra_tree\n",
      "[flaml.automl: 02-03 11:58:11] {3072} INFO -  at 370.4s,\testimator extra_tree's best error=0.1155,\tbest estimator lgbm's best error=0.0931\n",
      "[flaml.automl: 02-03 11:58:11] {2897} INFO - iteration 86, current learner rf\n",
      "[flaml.automl: 02-03 11:58:20] {3072} INFO -  at 379.7s,\testimator rf's best error=0.1262,\tbest estimator lgbm's best error=0.0931\n",
      "[flaml.automl: 02-03 11:58:20] {2897} INFO - iteration 87, current learner rf\n",
      "[flaml.automl: 02-03 11:58:23] {3072} INFO -  at 382.4s,\testimator rf's best error=0.1262,\tbest estimator lgbm's best error=0.0931\n",
      "[flaml.automl: 02-03 11:58:23] {2897} INFO - iteration 88, current learner rf\n",
      "[flaml.automl: 02-03 11:58:36] {3072} INFO -  at 395.7s,\testimator rf's best error=0.1206,\tbest estimator lgbm's best error=0.0931\n",
      "[flaml.automl: 02-03 11:58:36] {2897} INFO - iteration 89, current learner lgbm\n",
      "[flaml.automl: 02-03 11:58:57] {3072} INFO -  at 416.7s,\testimator lgbm's best error=0.0931,\tbest estimator lgbm's best error=0.0931\n",
      "[flaml.automl: 02-03 11:58:57] {2897} INFO - iteration 90, current learner extra_tree\n",
      "[flaml.automl: 02-03 11:59:00] {3072} INFO -  at 419.3s,\testimator extra_tree's best error=0.1155,\tbest estimator lgbm's best error=0.0931\n",
      "[flaml.automl: 02-03 11:59:00] {2897} INFO - iteration 91, current learner lgbm\n",
      "[flaml.automl: 02-03 11:59:24] {3072} INFO -  at 443.7s,\testimator lgbm's best error=0.0931,\tbest estimator lgbm's best error=0.0931\n",
      "[flaml.automl: 02-03 11:59:24] {2897} INFO - iteration 92, current learner xgb_limitdepth\n",
      "[flaml.automl: 02-03 11:59:33] {3072} INFO -  at 452.4s,\testimator xgb_limitdepth's best error=0.1130,\tbest estimator lgbm's best error=0.0931\n",
      "[flaml.automl: 02-03 11:59:33] {2897} INFO - iteration 93, current learner xgb_limitdepth\n",
      "[flaml.automl: 02-03 11:59:39] {3072} INFO -  at 459.1s,\testimator xgb_limitdepth's best error=0.1082,\tbest estimator lgbm's best error=0.0931\n",
      "[flaml.automl: 02-03 11:59:39] {2897} INFO - iteration 94, current learner xgb_limitdepth\n",
      "[flaml.automl: 02-03 11:59:48] {3072} INFO -  at 468.2s,\testimator xgb_limitdepth's best error=0.1037,\tbest estimator lgbm's best error=0.0931\n",
      "[flaml.automl: 02-03 11:59:48] {2897} INFO - iteration 95, current learner lgbm\n",
      "[flaml.automl: 02-03 12:01:32] {3072} INFO -  at 571.6s,\testimator lgbm's best error=0.0931,\tbest estimator lgbm's best error=0.0931\n",
      "[flaml.automl: 02-03 12:01:32] {2897} INFO - iteration 96, current learner xgb_limitdepth\n",
      "[flaml.automl: 02-03 12:01:38] {3072} INFO -  at 578.3s,\testimator xgb_limitdepth's best error=0.1037,\tbest estimator lgbm's best error=0.0931\n",
      "[flaml.automl: 02-03 12:01:38] {2897} INFO - iteration 97, current learner xgboost\n",
      "[flaml.automl: 02-03 12:01:39] {3072} INFO -  at 579.2s,\testimator xgboost's best error=0.1223,\tbest estimator lgbm's best error=0.0931\n",
      "[flaml.automl: 02-03 12:01:39] {2897} INFO - iteration 98, current learner xgb_limitdepth\n",
      "[flaml.automl: 02-03 12:01:43] {3072} INFO -  at 583.3s,\testimator xgb_limitdepth's best error=0.1037,\tbest estimator lgbm's best error=0.0931\n",
      "[flaml.automl: 02-03 12:01:43] {2897} INFO - iteration 99, current learner rf\n",
      "[flaml.automl: 02-03 12:01:56] {3072} INFO -  at 596.2s,\testimator rf's best error=0.1198,\tbest estimator lgbm's best error=0.0931\n",
      "[flaml.automl: 02-03 12:01:56] {2897} INFO - iteration 100, current learner lgbm\n",
      "[flaml.automl: 02-03 12:03:09] {3072} INFO -  at 668.3s,\testimator lgbm's best error=0.0931,\tbest estimator lgbm's best error=0.0931\n",
      "[flaml.automl: 02-03 12:03:09] {2897} INFO - iteration 101, current learner xgb_limitdepth\n",
      "[flaml.automl: 02-03 12:03:27] {3072} INFO -  at 686.6s,\testimator xgb_limitdepth's best error=0.0979,\tbest estimator lgbm's best error=0.0931\n",
      "[flaml.automl: 02-03 12:03:27] {2897} INFO - iteration 102, current learner xgb_limitdepth\n",
      "[flaml.automl: 02-03 12:03:34] {3072} INFO -  at 693.7s,\testimator xgb_limitdepth's best error=0.0979,\tbest estimator lgbm's best error=0.0931\n",
      "[flaml.automl: 02-03 12:03:34] {2897} INFO - iteration 103, current learner lgbm\n",
      "[flaml.automl: 02-03 12:04:53] {3072} INFO -  at 772.3s,\testimator lgbm's best error=0.0906,\tbest estimator lgbm's best error=0.0906\n",
      "[flaml.automl: 02-03 12:04:53] {2897} INFO - iteration 104, current learner xgb_limitdepth\n",
      "[flaml.automl: 02-03 12:05:31] {3072} INFO -  at 810.5s,\testimator xgb_limitdepth's best error=0.0958,\tbest estimator lgbm's best error=0.0906\n",
      "[flaml.automl: 02-03 12:05:31] {2897} INFO - iteration 105, current learner lrl1\n",
      "[flaml.automl: 02-03 12:05:44] {3072} INFO -  at 823.6s,\testimator lrl1's best error=0.3328,\tbest estimator lgbm's best error=0.0906\n",
      "[flaml.automl: 02-03 12:05:44] {2897} INFO - iteration 106, current learner lrl1\n",
      "[flaml.automl: 02-03 12:05:58] {3072} INFO -  at 837.4s,\testimator lrl1's best error=0.3328,\tbest estimator lgbm's best error=0.0906\n",
      "[flaml.automl: 02-03 12:05:58] {2897} INFO - iteration 107, current learner lrl1\n",
      "[flaml.automl: 02-03 12:06:10] {3072} INFO -  at 849.5s,\testimator lrl1's best error=0.3327,\tbest estimator lgbm's best error=0.0906\n",
      "[flaml.automl: 02-03 12:06:10] {2897} INFO - iteration 108, current learner xgb_limitdepth\n",
      "[flaml.automl: 02-03 12:06:33] {3072} INFO -  at 873.2s,\testimator xgb_limitdepth's best error=0.0958,\tbest estimator lgbm's best error=0.0906\n",
      "[flaml.automl: 02-03 12:06:33] {2897} INFO - iteration 109, current learner rf\n",
      "[flaml.automl: 02-03 12:06:41] {3072} INFO -  at 880.6s,\testimator rf's best error=0.1198,\tbest estimator lgbm's best error=0.0906\n",
      "[flaml.automl: 02-03 12:06:41] {2897} INFO - iteration 110, current learner xgb_limitdepth\n",
      "[flaml.automl: 02-03 12:07:54] {3072} INFO -  at 953.5s,\testimator xgb_limitdepth's best error=0.0942,\tbest estimator lgbm's best error=0.0906\n"
     ]
    },
    {
     "name": "stderr",
     "output_type": "stream",
     "text": [
      "[flaml.automl: 02-03 12:07:54] {2897} INFO - iteration 111, current learner xgboost\n",
      "[flaml.automl: 02-03 12:07:56] {3072} INFO -  at 956.3s,\testimator xgboost's best error=0.1047,\tbest estimator lgbm's best error=0.0906\n",
      "[flaml.automl: 02-03 12:07:56] {2897} INFO - iteration 112, current learner lgbm\n",
      "[flaml.automl: 02-03 12:09:49] {3072} INFO -  at 1069.0s,\testimator lgbm's best error=0.0906,\tbest estimator lgbm's best error=0.0906\n",
      "[flaml.automl: 02-03 12:09:49] {2897} INFO - iteration 113, current learner xgboost\n",
      "[flaml.automl: 02-03 12:09:50] {3072} INFO -  at 1070.0s,\testimator xgboost's best error=0.1047,\tbest estimator lgbm's best error=0.0906\n",
      "[flaml.automl: 02-03 12:09:50] {2897} INFO - iteration 114, current learner xgboost\n",
      "[flaml.automl: 02-03 12:10:01] {3072} INFO -  at 1080.5s,\testimator xgboost's best error=0.0976,\tbest estimator lgbm's best error=0.0906\n",
      "[flaml.automl: 02-03 12:10:01] {2897} INFO - iteration 115, current learner xgb_limitdepth\n",
      "[flaml.automl: 02-03 12:10:33] {3072} INFO -  at 1113.0s,\testimator xgb_limitdepth's best error=0.0942,\tbest estimator lgbm's best error=0.0906\n",
      "[flaml.automl: 02-03 12:10:33] {2897} INFO - iteration 116, current learner xgboost\n",
      "[flaml.automl: 02-03 12:10:35] {3072} INFO -  at 1114.7s,\testimator xgboost's best error=0.0976,\tbest estimator lgbm's best error=0.0906\n",
      "[flaml.automl: 02-03 12:10:35] {2897} INFO - iteration 117, current learner xgboost\n",
      "[flaml.automl: 02-03 12:10:57] {3072} INFO -  at 1136.9s,\testimator xgboost's best error=0.0959,\tbest estimator lgbm's best error=0.0906\n",
      "[flaml.automl: 02-03 12:10:57] {2897} INFO - iteration 118, current learner xgb_limitdepth\n",
      "[flaml.automl: 02-03 12:13:14] {3072} INFO -  at 1273.8s,\testimator xgb_limitdepth's best error=0.0914,\tbest estimator lgbm's best error=0.0906\n",
      "[flaml.automl: 02-03 12:13:14] {2897} INFO - iteration 119, current learner xgb_limitdepth\n",
      "[flaml.automl: 02-03 12:14:05] {3072} INFO -  at 1324.3s,\testimator xgb_limitdepth's best error=0.0914,\tbest estimator lgbm's best error=0.0906\n",
      "[flaml.automl: 02-03 12:14:05] {2897} INFO - iteration 120, current learner lgbm\n",
      "[flaml.automl: 02-03 12:15:31] {3072} INFO -  at 1410.4s,\testimator lgbm's best error=0.0906,\tbest estimator lgbm's best error=0.0906\n",
      "[flaml.automl: 02-03 12:15:31] {2897} INFO - iteration 121, current learner xgb_limitdepth\n",
      "[flaml.automl: 02-03 12:21:40] {3072} INFO -  at 1779.7s,\testimator xgb_limitdepth's best error=0.0914,\tbest estimator lgbm's best error=0.0906\n",
      "[flaml.automl: 02-03 12:21:40] {2897} INFO - iteration 122, current learner extra_tree\n",
      "[flaml.automl: 02-03 12:21:43] {3072} INFO -  at 1782.7s,\testimator extra_tree's best error=0.1155,\tbest estimator lgbm's best error=0.0906\n",
      "[flaml.automl: 02-03 12:21:43] {2897} INFO - iteration 123, current learner xgb_limitdepth\n",
      "[flaml.automl: 02-03 12:23:36] {3072} INFO -  at 1895.8s,\testimator xgb_limitdepth's best error=0.0914,\tbest estimator lgbm's best error=0.0906\n",
      "[flaml.automl: 02-03 12:23:36] {2897} INFO - iteration 124, current learner xgboost\n",
      "[flaml.automl: 02-03 12:23:56] {3072} INFO -  at 1916.0s,\testimator xgboost's best error=0.0959,\tbest estimator lgbm's best error=0.0906\n",
      "[flaml.automl: 02-03 12:23:56] {2897} INFO - iteration 125, current learner lgbm\n",
      "[flaml.automl: 02-03 12:26:27] {3072} INFO -  at 2066.6s,\testimator lgbm's best error=0.0906,\tbest estimator lgbm's best error=0.0906\n",
      "[flaml.automl: 02-03 12:26:27] {2897} INFO - iteration 126, current learner lgbm\n",
      "[flaml.automl: 02-03 12:26:40] {3072} INFO -  at 2080.2s,\testimator lgbm's best error=0.0906,\tbest estimator lgbm's best error=0.0906\n",
      "[flaml.automl: 02-03 12:26:40] {2897} INFO - iteration 127, current learner lgbm\n",
      "[flaml.automl: 02-03 12:29:31] {3072} INFO -  at 2250.7s,\testimator lgbm's best error=0.0900,\tbest estimator lgbm's best error=0.0900\n",
      "[flaml.automl: 02-03 12:29:31] {2897} INFO - iteration 128, current learner lgbm\n",
      "[flaml.automl: 02-03 12:31:05] {3072} INFO -  at 2344.5s,\testimator lgbm's best error=0.0900,\tbest estimator lgbm's best error=0.0900\n",
      "[flaml.automl: 02-03 12:31:05] {2897} INFO - iteration 129, current learner rf\n",
      "[flaml.automl: 02-03 12:31:28] {3072} INFO -  at 2367.4s,\testimator rf's best error=0.1198,\tbest estimator lgbm's best error=0.0900\n",
      "[flaml.automl: 02-03 12:31:28] {2897} INFO - iteration 130, current learner xgb_limitdepth\n",
      "[flaml.automl: 02-03 12:34:25] {3072} INFO -  at 2544.8s,\testimator xgb_limitdepth's best error=0.0914,\tbest estimator lgbm's best error=0.0900\n",
      "[flaml.automl: 02-03 12:34:25] {2897} INFO - iteration 131, current learner xgboost\n",
      "[flaml.automl: 02-03 12:34:39] {3072} INFO -  at 2559.2s,\testimator xgboost's best error=0.0959,\tbest estimator lgbm's best error=0.0900\n",
      "[flaml.automl: 02-03 12:34:39] {2897} INFO - iteration 132, current learner xgboost\n",
      "[flaml.automl: 02-03 12:34:51] {3072} INFO -  at 2570.7s,\testimator xgboost's best error=0.0959,\tbest estimator lgbm's best error=0.0900\n",
      "[flaml.automl: 02-03 12:34:51] {2897} INFO - iteration 133, current learner xgb_limitdepth\n",
      "[flaml.automl: 02-03 12:36:22] {3072} INFO -  at 2661.8s,\testimator xgb_limitdepth's best error=0.0914,\tbest estimator lgbm's best error=0.0900\n",
      "[flaml.automl: 02-03 12:36:22] {2897} INFO - iteration 134, current learner lgbm\n",
      "[flaml.automl: 02-03 12:41:44] {3072} INFO -  at 2983.5s,\testimator lgbm's best error=0.0900,\tbest estimator lgbm's best error=0.0900\n",
      "[flaml.automl: 02-03 12:41:44] {2897} INFO - iteration 135, current learner lgbm\n",
      "[flaml.automl: 02-03 12:42:05] {3072} INFO -  at 3005.2s,\testimator lgbm's best error=0.0900,\tbest estimator lgbm's best error=0.0900\n",
      "[flaml.automl: 02-03 12:42:05] {2897} INFO - iteration 136, current learner xgboost\n",
      "[flaml.automl: 02-03 12:42:40] {3072} INFO -  at 3040.0s,\testimator xgboost's best error=0.0959,\tbest estimator lgbm's best error=0.0900\n",
      "[flaml.automl: 02-03 12:42:40] {2897} INFO - iteration 137, current learner xgb_limitdepth\n",
      "[flaml.automl: 02-03 12:47:15] {3072} INFO -  at 3315.1s,\testimator xgb_limitdepth's best error=0.0914,\tbest estimator lgbm's best error=0.0900\n",
      "[flaml.automl: 02-03 12:47:15] {2897} INFO - iteration 138, current learner xgboost\n",
      "[flaml.automl: 02-03 12:47:24] {3072} INFO -  at 3323.6s,\testimator xgboost's best error=0.0959,\tbest estimator lgbm's best error=0.0900\n",
      "[flaml.automl: 02-03 12:47:24] {2897} INFO - iteration 139, current learner lgbm\n",
      "[flaml.automl: 02-03 12:47:54] {3072} INFO -  at 3354.0s,\testimator lgbm's best error=0.0900,\tbest estimator lgbm's best error=0.0900\n",
      "[flaml.automl: 02-03 12:47:54] {2897} INFO - iteration 140, current learner extra_tree\n",
      "[flaml.automl: 02-03 12:47:56] {3072} INFO -  at 3356.2s,\testimator extra_tree's best error=0.1155,\tbest estimator lgbm's best error=0.0900\n",
      "[flaml.automl: 02-03 12:47:56] {2897} INFO - iteration 141, current learner lgbm\n",
      "[flaml.automl: 02-03 12:52:06] {3072} INFO -  at 3605.8s,\testimator lgbm's best error=0.0900,\tbest estimator lgbm's best error=0.0900\n",
      "[flaml.automl: 02-03 12:52:42] {3335} INFO - retrain lgbm for 36.2s\n",
      "[flaml.automl: 02-03 12:52:42] {3342} INFO - retrained model: LGBMClassifier(colsample_bytree=0.5257775351753186,\n",
      "               learning_rate=0.05684579151656589, max_bin=1023,\n",
      "               min_child_samples=7, n_estimators=1763, n_jobs=8, num_leaves=195,\n",
      "               reg_alpha=0.0024157884589262766, reg_lambda=0.04557593091531773,\n",
      "               verbose=-1)\n",
      "[flaml.automl: 02-03 12:52:42] {2636} INFO - fit succeeded\n",
      "[flaml.automl: 02-03 12:52:42] {2637} INFO - Time taken to find the best model: 2250.737755537033\n"
     ]
    }
   ],
   "source": [
    "import warnings\n",
    "\n",
    "X_train, X_test, y_train, y_test = train_test_split(X, y['AGN'], train_size=0.8, stratify=y[['Source', 'AGN']], random_state=42)\n",
    "\n",
    "estimators = ['xgb_limitdepth']\n",
    "#estimators = ['extra_tree']\n",
    "\n",
    "with warnings.catch_warnings():\n",
    "    warnings.simplefilter(\"ignore\")\n",
    "\n",
    "    automl.fit(X_train, y_train, task=\"classification\", metric='accuracy',\n",
    "                                #X_val=X_val , y_val=y_val,\n",
    "                                #ensemble=True,\n",
    "                                #estimator_list=estimators, \n",
    "                                time_budget=3600, n_jobs=8,\n",
    "                                eval_method='cv',\n",
    "                                #log_file_name='general_extra_features3.log',\n",
    "                                #starting_points=automl.best_config_per_estimator\n",
    "              )"
   ]
  },
  {
   "cell_type": "code",
   "execution_count": 62,
   "id": "5e1e419d",
   "metadata": {},
   "outputs": [
    {
     "name": "stdout",
     "output_type": "stream",
     "text": [
      "              precision    recall  f1-score   support\n",
      "\n",
      "           0     0.9544    0.9125    0.9330     13042\n",
      "           1     0.8261    0.9051    0.8638      5987\n",
      "\n",
      "    accuracy                         0.9102     19029\n",
      "   macro avg     0.8903    0.9088    0.8984     19029\n",
      "weighted avg     0.9141    0.9102    0.9112     19029\n",
      "\n"
     ]
    }
   ],
   "source": [
    "print(classification_report(automl.predict(X_test), y_test, digits=4))"
   ]
  },
  {
   "cell_type": "markdown",
   "id": "b7ceaf81",
   "metadata": {},
   "source": [
    "## Rerunning autoML settings"
   ]
  },
  {
   "cell_type": "code",
   "execution_count": 84,
   "id": "2e7c80b9",
   "metadata": {},
   "outputs": [],
   "source": [
    "X_train, X_test, y_train, y_test = train_test_split(X, y, train_size=0.8, stratify=y[['Source', 'AGN']])\n",
    "X_test, X_val, y_test, y_val = train_test_split(X_test, y_test, train_size=0.8, stratify=y_test[['Source', 'AGN']])"
   ]
  },
  {
   "cell_type": "code",
   "execution_count": 77,
   "id": "bd7b362d",
   "metadata": {},
   "outputs": [
    {
     "ename": "NameError",
     "evalue": "name 'automl' is not defined",
     "output_type": "error",
     "traceback": [
      "\u001b[0;31m---------------------------------------------------------------------------\u001b[0m",
      "\u001b[0;31mNameError\u001b[0m                                 Traceback (most recent call last)",
      "\u001b[0;32m/var/lib/condor/execute/dir_19705/ipykernel_174029/652028097.py\u001b[0m in \u001b[0;36m<module>\u001b[0;34m\u001b[0m\n\u001b[0;32m----> 1\u001b[0;31m \u001b[0mautoml\u001b[0m\u001b[0;34m.\u001b[0m\u001b[0mbest_loss_per_estimator\u001b[0m\u001b[0;34m\u001b[0m\u001b[0;34m\u001b[0m\u001b[0m\n\u001b[0m",
      "\u001b[0;31mNameError\u001b[0m: name 'automl' is not defined"
     ]
    }
   ],
   "source": [
    "automl.best_loss_per_estimator"
   ]
  },
  {
   "cell_type": "code",
   "execution_count": 85,
   "id": "fc0a5eff",
   "metadata": {},
   "outputs": [
    {
     "ename": "NameError",
     "evalue": "name 'automl' is not defined",
     "output_type": "error",
     "traceback": [
      "\u001b[0;31m---------------------------------------------------------------------------\u001b[0m",
      "\u001b[0;31mNameError\u001b[0m                                 Traceback (most recent call last)",
      "\u001b[0;32m/var/lib/condor/execute/dir_19705/ipykernel_174029/181075984.py\u001b[0m in \u001b[0;36m<module>\u001b[0;34m\u001b[0m\n\u001b[0;32m----> 1\u001b[0;31m \u001b[0mautoml\u001b[0m\u001b[0;34m.\u001b[0m\u001b[0mbest_config_per_estimator\u001b[0m\u001b[0;34m[\u001b[0m\u001b[0;34m'xgb_limitdepth'\u001b[0m\u001b[0;34m]\u001b[0m\u001b[0;34m\u001b[0m\u001b[0;34m\u001b[0m\u001b[0m\n\u001b[0m",
      "\u001b[0;31mNameError\u001b[0m: name 'automl' is not defined"
     ]
    }
   ],
   "source": [
    "automl.best_config_per_estimator['xgb_limitdepth']"
   ]
  },
  {
   "cell_type": "code",
   "execution_count": 86,
   "id": "14c26e07",
   "metadata": {},
   "outputs": [],
   "source": [
    "model = XGBClassifier(use_label_encoder=False, \n",
    "                      max_depth=10,\n",
    "                     min_child_weight=0.7667675178010714,\n",
    "                     learning_rate=0.05800794560416693,\n",
    "                     subsample=0.8895588746662894,\n",
    "                     colsample_bylevel=0.47518959001130767,\n",
    "                     colsample_bytree=0.6845612830806885,\n",
    "                     reg_alpha=0.008568303724660307,\n",
    "                     reg_lambda=0.05299562944920838,\n",
    "                     eval_metric=['logloss', 'error'],\n",
    "                      nthread=8,\n",
    "                      n_estimators=10**5,\n",
    "                      random_state=42\n",
    "                      )"
   ]
  },
  {
   "cell_type": "code",
   "execution_count": 87,
   "id": "0ec7f930",
   "metadata": {},
   "outputs": [],
   "source": [
    "eval_set = [(X_train, y_train['AGN']), (X_val, y_val['AGN'])]"
   ]
  },
  {
   "cell_type": "code",
   "execution_count": 88,
   "id": "2d6425d1",
   "metadata": {
    "scrolled": true
   },
   "outputs": [
    {
     "name": "stdout",
     "output_type": "stream",
     "text": [
      "[0]\tvalidation_0-logloss:0.65851\tvalidation_0-error:0.13057\tvalidation_1-logloss:0.66083\tvalidation_1-error:0.16421\n",
      "[1]\tvalidation_0-logloss:0.62657\tvalidation_0-error:0.11059\tvalidation_1-logloss:0.63063\tvalidation_1-error:0.14057\n",
      "[2]\tvalidation_0-logloss:0.60177\tvalidation_0-error:0.11022\tvalidation_1-logloss:0.60759\tvalidation_1-error:0.13847\n",
      "[3]\tvalidation_0-logloss:0.57852\tvalidation_0-error:0.11271\tvalidation_1-logloss:0.58562\tvalidation_1-error:0.14057\n",
      "[4]\tvalidation_0-logloss:0.55390\tvalidation_0-error:0.10494\tvalidation_1-logloss:0.56238\tvalidation_1-error:0.13058\n",
      "[5]\tvalidation_0-logloss:0.53156\tvalidation_0-error:0.10042\tvalidation_1-logloss:0.54142\tvalidation_1-error:0.12638\n",
      "[6]\tvalidation_0-logloss:0.51372\tvalidation_0-error:0.10188\tvalidation_1-logloss:0.52525\tvalidation_1-error:0.12927\n",
      "[7]\tvalidation_0-logloss:0.49297\tvalidation_0-error:0.09632\tvalidation_1-logloss:0.50599\tvalidation_1-error:0.12480\n",
      "[8]\tvalidation_0-logloss:0.47556\tvalidation_0-error:0.09483\tvalidation_1-logloss:0.49013\tvalidation_1-error:0.12612\n",
      "[9]\tvalidation_0-logloss:0.45739\tvalidation_0-error:0.09005\tvalidation_1-logloss:0.47377\tvalidation_1-error:0.12323\n",
      "[10]\tvalidation_0-logloss:0.44141\tvalidation_0-error:0.08918\tvalidation_1-logloss:0.45915\tvalidation_1-error:0.11929\n",
      "[11]\tvalidation_0-logloss:0.42595\tvalidation_0-error:0.08721\tvalidation_1-logloss:0.44507\tvalidation_1-error:0.11955\n",
      "[12]\tvalidation_0-logloss:0.41294\tvalidation_0-error:0.08629\tvalidation_1-logloss:0.43358\tvalidation_1-error:0.12007\n",
      "[13]\tvalidation_0-logloss:0.40037\tvalidation_0-error:0.08561\tvalidation_1-logloss:0.42221\tvalidation_1-error:0.11718\n",
      "[14]\tvalidation_0-logloss:0.38928\tvalidation_0-error:0.08499\tvalidation_1-logloss:0.41260\tvalidation_1-error:0.11902\n",
      "[15]\tvalidation_0-logloss:0.37850\tvalidation_0-error:0.08377\tvalidation_1-logloss:0.40356\tvalidation_1-error:0.11771\n",
      "[16]\tvalidation_0-logloss:0.36859\tvalidation_0-error:0.08356\tvalidation_1-logloss:0.39481\tvalidation_1-error:0.11771\n",
      "[17]\tvalidation_0-logloss:0.35868\tvalidation_0-error:0.08292\tvalidation_1-logloss:0.38638\tvalidation_1-error:0.11902\n",
      "[18]\tvalidation_0-logloss:0.34964\tvalidation_0-error:0.08185\tvalidation_1-logloss:0.37845\tvalidation_1-error:0.11850\n",
      "[19]\tvalidation_0-logloss:0.34046\tvalidation_0-error:0.08056\tvalidation_1-logloss:0.37013\tvalidation_1-error:0.11534\n",
      "[20]\tvalidation_0-logloss:0.33311\tvalidation_0-error:0.07988\tvalidation_1-logloss:0.36368\tvalidation_1-error:0.11561\n",
      "[21]\tvalidation_0-logloss:0.32520\tvalidation_0-error:0.07871\tvalidation_1-logloss:0.35682\tvalidation_1-error:0.11429\n",
      "[22]\tvalidation_0-logloss:0.31792\tvalidation_0-error:0.07742\tvalidation_1-logloss:0.35083\tvalidation_1-error:0.11403\n",
      "[23]\tvalidation_0-logloss:0.31094\tvalidation_0-error:0.07662\tvalidation_1-logloss:0.34499\tvalidation_1-error:0.11587\n",
      "[24]\tvalidation_0-logloss:0.30485\tvalidation_0-error:0.07639\tvalidation_1-logloss:0.33977\tvalidation_1-error:0.11587\n",
      "[25]\tvalidation_0-logloss:0.29847\tvalidation_0-error:0.07562\tvalidation_1-logloss:0.33459\tvalidation_1-error:0.11403\n",
      "[26]\tvalidation_0-logloss:0.29246\tvalidation_0-error:0.07460\tvalidation_1-logloss:0.32983\tvalidation_1-error:0.11429\n",
      "[27]\tvalidation_0-logloss:0.28769\tvalidation_0-error:0.07472\tvalidation_1-logloss:0.32586\tvalidation_1-error:0.11429\n",
      "[28]\tvalidation_0-logloss:0.28306\tvalidation_0-error:0.07426\tvalidation_1-logloss:0.32234\tvalidation_1-error:0.11350\n",
      "[29]\tvalidation_0-logloss:0.27717\tvalidation_0-error:0.07338\tvalidation_1-logloss:0.31739\tvalidation_1-error:0.11088\n",
      "[30]\tvalidation_0-logloss:0.27212\tvalidation_0-error:0.07270\tvalidation_1-logloss:0.31352\tvalidation_1-error:0.11219\n",
      "[31]\tvalidation_0-logloss:0.26765\tvalidation_0-error:0.07226\tvalidation_1-logloss:0.31004\tvalidation_1-error:0.11219\n",
      "[32]\tvalidation_0-logloss:0.26309\tvalidation_0-error:0.07117\tvalidation_1-logloss:0.30623\tvalidation_1-error:0.11088\n",
      "[33]\tvalidation_0-logloss:0.25884\tvalidation_0-error:0.07076\tvalidation_1-logloss:0.30283\tvalidation_1-error:0.11062\n",
      "[34]\tvalidation_0-logloss:0.25457\tvalidation_0-error:0.06998\tvalidation_1-logloss:0.29949\tvalidation_1-error:0.10956\n",
      "[35]\tvalidation_0-logloss:0.25030\tvalidation_0-error:0.06887\tvalidation_1-logloss:0.29608\tvalidation_1-error:0.10878\n",
      "[36]\tvalidation_0-logloss:0.24596\tvalidation_0-error:0.06761\tvalidation_1-logloss:0.29309\tvalidation_1-error:0.10904\n",
      "[37]\tvalidation_0-logloss:0.24252\tvalidation_0-error:0.06714\tvalidation_1-logloss:0.29070\tvalidation_1-error:0.10851\n",
      "[38]\tvalidation_0-logloss:0.23899\tvalidation_0-error:0.06620\tvalidation_1-logloss:0.28873\tvalidation_1-error:0.10878\n",
      "[39]\tvalidation_0-logloss:0.23519\tvalidation_0-error:0.06548\tvalidation_1-logloss:0.28612\tvalidation_1-error:0.10773\n",
      "[40]\tvalidation_0-logloss:0.23158\tvalidation_0-error:0.06481\tvalidation_1-logloss:0.28377\tvalidation_1-error:0.10799\n",
      "[41]\tvalidation_0-logloss:0.22808\tvalidation_0-error:0.06396\tvalidation_1-logloss:0.28155\tvalidation_1-error:0.10720\n",
      "[42]\tvalidation_0-logloss:0.22487\tvalidation_0-error:0.06308\tvalidation_1-logloss:0.27934\tvalidation_1-error:0.10641\n",
      "[43]\tvalidation_0-logloss:0.22180\tvalidation_0-error:0.06236\tvalidation_1-logloss:0.27745\tvalidation_1-error:0.10562\n",
      "[44]\tvalidation_0-logloss:0.21889\tvalidation_0-error:0.06175\tvalidation_1-logloss:0.27527\tvalidation_1-error:0.10641\n",
      "[45]\tvalidation_0-logloss:0.21572\tvalidation_0-error:0.06091\tvalidation_1-logloss:0.27289\tvalidation_1-error:0.10562\n",
      "[46]\tvalidation_0-logloss:0.21242\tvalidation_0-error:0.06000\tvalidation_1-logloss:0.27104\tvalidation_1-error:0.10457\n",
      "[47]\tvalidation_0-logloss:0.20978\tvalidation_0-error:0.05949\tvalidation_1-logloss:0.26925\tvalidation_1-error:0.10247\n",
      "[48]\tvalidation_0-logloss:0.20707\tvalidation_0-error:0.05883\tvalidation_1-logloss:0.26797\tvalidation_1-error:0.10326\n",
      "[49]\tvalidation_0-logloss:0.20440\tvalidation_0-error:0.05816\tvalidation_1-logloss:0.26610\tvalidation_1-error:0.10168\n",
      "[50]\tvalidation_0-logloss:0.20203\tvalidation_0-error:0.05748\tvalidation_1-logloss:0.26443\tvalidation_1-error:0.10089\n",
      "[51]\tvalidation_0-logloss:0.19936\tvalidation_0-error:0.05636\tvalidation_1-logloss:0.26278\tvalidation_1-error:0.10142\n",
      "[52]\tvalidation_0-logloss:0.19770\tvalidation_0-error:0.05617\tvalidation_1-logloss:0.26171\tvalidation_1-error:0.10247\n",
      "[53]\tvalidation_0-logloss:0.19609\tvalidation_0-error:0.05592\tvalidation_1-logloss:0.26059\tvalidation_1-error:0.10221\n",
      "[54]\tvalidation_0-logloss:0.19380\tvalidation_0-error:0.05526\tvalidation_1-logloss:0.25911\tvalidation_1-error:0.10300\n",
      "[55]\tvalidation_0-logloss:0.19174\tvalidation_0-error:0.05442\tvalidation_1-logloss:0.25822\tvalidation_1-error:0.10168\n",
      "[56]\tvalidation_0-logloss:0.18949\tvalidation_0-error:0.05364\tvalidation_1-logloss:0.25690\tvalidation_1-error:0.10168\n",
      "[57]\tvalidation_0-logloss:0.18749\tvalidation_0-error:0.05288\tvalidation_1-logloss:0.25620\tvalidation_1-error:0.10247\n",
      "[58]\tvalidation_0-logloss:0.18626\tvalidation_0-error:0.05271\tvalidation_1-logloss:0.25551\tvalidation_1-error:0.10194\n",
      "[59]\tvalidation_0-logloss:0.18421\tvalidation_0-error:0.05251\tvalidation_1-logloss:0.25437\tvalidation_1-error:0.10247\n",
      "[60]\tvalidation_0-logloss:0.18220\tvalidation_0-error:0.05185\tvalidation_1-logloss:0.25330\tvalidation_1-error:0.10194\n",
      "[61]\tvalidation_0-logloss:0.17982\tvalidation_0-error:0.05095\tvalidation_1-logloss:0.25194\tvalidation_1-error:0.10168\n",
      "[62]\tvalidation_0-logloss:0.17792\tvalidation_0-error:0.05037\tvalidation_1-logloss:0.25067\tvalidation_1-error:0.09932\n",
      "[63]\tvalidation_0-logloss:0.17660\tvalidation_0-error:0.04982\tvalidation_1-logloss:0.25019\tvalidation_1-error:0.10116\n",
      "[64]\tvalidation_0-logloss:0.17470\tvalidation_0-error:0.04920\tvalidation_1-logloss:0.24919\tvalidation_1-error:0.09984\n",
      "[65]\tvalidation_0-logloss:0.17296\tvalidation_0-error:0.04855\tvalidation_1-logloss:0.24848\tvalidation_1-error:0.09879\n",
      "[66]\tvalidation_0-logloss:0.17098\tvalidation_0-error:0.04803\tvalidation_1-logloss:0.24757\tvalidation_1-error:0.09905\n",
      "[67]\tvalidation_0-logloss:0.16942\tvalidation_0-error:0.04734\tvalidation_1-logloss:0.24697\tvalidation_1-error:0.09879\n",
      "[68]\tvalidation_0-logloss:0.16803\tvalidation_0-error:0.04707\tvalidation_1-logloss:0.24654\tvalidation_1-error:0.09905\n",
      "[69]\tvalidation_0-logloss:0.16628\tvalidation_0-error:0.04633\tvalidation_1-logloss:0.24616\tvalidation_1-error:0.09984\n",
      "[70]\tvalidation_0-logloss:0.16505\tvalidation_0-error:0.04605\tvalidation_1-logloss:0.24578\tvalidation_1-error:0.10063\n"
     ]
    },
    {
     "name": "stdout",
     "output_type": "stream",
     "text": [
      "[71]\tvalidation_0-logloss:0.16352\tvalidation_0-error:0.04545\tvalidation_1-logloss:0.24498\tvalidation_1-error:0.10037\n",
      "[72]\tvalidation_0-logloss:0.16228\tvalidation_0-error:0.04512\tvalidation_1-logloss:0.24432\tvalidation_1-error:0.09905\n",
      "[73]\tvalidation_0-logloss:0.16122\tvalidation_0-error:0.04488\tvalidation_1-logloss:0.24369\tvalidation_1-error:0.09958\n",
      "[74]\tvalidation_0-logloss:0.15954\tvalidation_0-error:0.04429\tvalidation_1-logloss:0.24272\tvalidation_1-error:0.09958\n",
      "[75]\tvalidation_0-logloss:0.15858\tvalidation_0-error:0.04396\tvalidation_1-logloss:0.24250\tvalidation_1-error:0.09879\n",
      "[76]\tvalidation_0-logloss:0.15726\tvalidation_0-error:0.04347\tvalidation_1-logloss:0.24189\tvalidation_1-error:0.09958\n",
      "[77]\tvalidation_0-logloss:0.15640\tvalidation_0-error:0.04333\tvalidation_1-logloss:0.24140\tvalidation_1-error:0.09932\n",
      "[78]\tvalidation_0-logloss:0.15526\tvalidation_0-error:0.04286\tvalidation_1-logloss:0.24095\tvalidation_1-error:0.09853\n",
      "[79]\tvalidation_0-logloss:0.15425\tvalidation_0-error:0.04260\tvalidation_1-logloss:0.24059\tvalidation_1-error:0.09853\n",
      "[80]\tvalidation_0-logloss:0.15288\tvalidation_0-error:0.04192\tvalidation_1-logloss:0.24009\tvalidation_1-error:0.09827\n",
      "[81]\tvalidation_0-logloss:0.15207\tvalidation_0-error:0.04172\tvalidation_1-logloss:0.23971\tvalidation_1-error:0.09827\n",
      "[82]\tvalidation_0-logloss:0.15115\tvalidation_0-error:0.04127\tvalidation_1-logloss:0.23915\tvalidation_1-error:0.09853\n",
      "[83]\tvalidation_0-logloss:0.14980\tvalidation_0-error:0.04091\tvalidation_1-logloss:0.23881\tvalidation_1-error:0.09853\n",
      "[84]\tvalidation_0-logloss:0.14911\tvalidation_0-error:0.04073\tvalidation_1-logloss:0.23856\tvalidation_1-error:0.09879\n",
      "[85]\tvalidation_0-logloss:0.14853\tvalidation_0-error:0.04034\tvalidation_1-logloss:0.23833\tvalidation_1-error:0.09932\n",
      "[86]\tvalidation_0-logloss:0.14754\tvalidation_0-error:0.03995\tvalidation_1-logloss:0.23794\tvalidation_1-error:0.09853\n",
      "[87]\tvalidation_0-logloss:0.14616\tvalidation_0-error:0.03947\tvalidation_1-logloss:0.23740\tvalidation_1-error:0.09800\n",
      "[88]\tvalidation_0-logloss:0.14462\tvalidation_0-error:0.03884\tvalidation_1-logloss:0.23692\tvalidation_1-error:0.09853\n",
      "[89]\tvalidation_0-logloss:0.14352\tvalidation_0-error:0.03853\tvalidation_1-logloss:0.23609\tvalidation_1-error:0.09827\n",
      "[90]\tvalidation_0-logloss:0.14259\tvalidation_0-error:0.03835\tvalidation_1-logloss:0.23556\tvalidation_1-error:0.09853\n",
      "[91]\tvalidation_0-logloss:0.14159\tvalidation_0-error:0.03781\tvalidation_1-logloss:0.23528\tvalidation_1-error:0.09827\n",
      "[92]\tvalidation_0-logloss:0.14064\tvalidation_0-error:0.03755\tvalidation_1-logloss:0.23513\tvalidation_1-error:0.09800\n",
      "[93]\tvalidation_0-logloss:0.14009\tvalidation_0-error:0.03750\tvalidation_1-logloss:0.23478\tvalidation_1-error:0.09827\n",
      "[94]\tvalidation_0-logloss:0.13981\tvalidation_0-error:0.03741\tvalidation_1-logloss:0.23468\tvalidation_1-error:0.09853\n",
      "[95]\tvalidation_0-logloss:0.13919\tvalidation_0-error:0.03710\tvalidation_1-logloss:0.23434\tvalidation_1-error:0.09748\n",
      "[96]\tvalidation_0-logloss:0.13872\tvalidation_0-error:0.03696\tvalidation_1-logloss:0.23411\tvalidation_1-error:0.09800\n",
      "[97]\tvalidation_0-logloss:0.13799\tvalidation_0-error:0.03675\tvalidation_1-logloss:0.23377\tvalidation_1-error:0.09748\n",
      "[98]\tvalidation_0-logloss:0.13708\tvalidation_0-error:0.03658\tvalidation_1-logloss:0.23342\tvalidation_1-error:0.09905\n",
      "[99]\tvalidation_0-logloss:0.13600\tvalidation_0-error:0.03596\tvalidation_1-logloss:0.23321\tvalidation_1-error:0.09905\n",
      "[100]\tvalidation_0-logloss:0.13556\tvalidation_0-error:0.03568\tvalidation_1-logloss:0.23291\tvalidation_1-error:0.09879\n",
      "[101]\tvalidation_0-logloss:0.13425\tvalidation_0-error:0.03519\tvalidation_1-logloss:0.23260\tvalidation_1-error:0.09879\n",
      "[102]\tvalidation_0-logloss:0.13331\tvalidation_0-error:0.03490\tvalidation_1-logloss:0.23225\tvalidation_1-error:0.09879\n",
      "[103]\tvalidation_0-logloss:0.13278\tvalidation_0-error:0.03474\tvalidation_1-logloss:0.23215\tvalidation_1-error:0.09853\n",
      "[104]\tvalidation_0-logloss:0.13188\tvalidation_0-error:0.03432\tvalidation_1-logloss:0.23197\tvalidation_1-error:0.09774\n",
      "[105]\tvalidation_0-logloss:0.13141\tvalidation_0-error:0.03428\tvalidation_1-logloss:0.23182\tvalidation_1-error:0.09721\n",
      "[106]\tvalidation_0-logloss:0.13025\tvalidation_0-error:0.03375\tvalidation_1-logloss:0.23117\tvalidation_1-error:0.09774\n",
      "[107]\tvalidation_0-logloss:0.12974\tvalidation_0-error:0.03341\tvalidation_1-logloss:0.23082\tvalidation_1-error:0.09695\n",
      "[108]\tvalidation_0-logloss:0.12879\tvalidation_0-error:0.03319\tvalidation_1-logloss:0.23042\tvalidation_1-error:0.09616\n",
      "[109]\tvalidation_0-logloss:0.12823\tvalidation_0-error:0.03293\tvalidation_1-logloss:0.23023\tvalidation_1-error:0.09643\n",
      "[110]\tvalidation_0-logloss:0.12716\tvalidation_0-error:0.03252\tvalidation_1-logloss:0.22975\tvalidation_1-error:0.09590\n",
      "[111]\tvalidation_0-logloss:0.12638\tvalidation_0-error:0.03212\tvalidation_1-logloss:0.22936\tvalidation_1-error:0.09616\n",
      "[112]\tvalidation_0-logloss:0.12564\tvalidation_0-error:0.03177\tvalidation_1-logloss:0.22894\tvalidation_1-error:0.09511\n",
      "[113]\tvalidation_0-logloss:0.12467\tvalidation_0-error:0.03141\tvalidation_1-logloss:0.22851\tvalidation_1-error:0.09511\n",
      "[114]\tvalidation_0-logloss:0.12402\tvalidation_0-error:0.03085\tvalidation_1-logloss:0.22836\tvalidation_1-error:0.09485\n",
      "[115]\tvalidation_0-logloss:0.12345\tvalidation_0-error:0.03076\tvalidation_1-logloss:0.22809\tvalidation_1-error:0.09406\n",
      "[116]\tvalidation_0-logloss:0.12256\tvalidation_0-error:0.03032\tvalidation_1-logloss:0.22788\tvalidation_1-error:0.09433\n",
      "[117]\tvalidation_0-logloss:0.12200\tvalidation_0-error:0.03014\tvalidation_1-logloss:0.22791\tvalidation_1-error:0.09459\n",
      "[118]\tvalidation_0-logloss:0.12143\tvalidation_0-error:0.02993\tvalidation_1-logloss:0.22760\tvalidation_1-error:0.09406\n",
      "[119]\tvalidation_0-logloss:0.12085\tvalidation_0-error:0.02963\tvalidation_1-logloss:0.22722\tvalidation_1-error:0.09327\n",
      "[120]\tvalidation_0-logloss:0.12034\tvalidation_0-error:0.02938\tvalidation_1-logloss:0.22720\tvalidation_1-error:0.09406\n",
      "[121]\tvalidation_0-logloss:0.11948\tvalidation_0-error:0.02906\tvalidation_1-logloss:0.22699\tvalidation_1-error:0.09433\n",
      "[122]\tvalidation_0-logloss:0.11881\tvalidation_0-error:0.02872\tvalidation_1-logloss:0.22674\tvalidation_1-error:0.09327\n",
      "[123]\tvalidation_0-logloss:0.11803\tvalidation_0-error:0.02839\tvalidation_1-logloss:0.22670\tvalidation_1-error:0.09301\n",
      "[124]\tvalidation_0-logloss:0.11743\tvalidation_0-error:0.02805\tvalidation_1-logloss:0.22656\tvalidation_1-error:0.09327\n",
      "[125]\tvalidation_0-logloss:0.11678\tvalidation_0-error:0.02793\tvalidation_1-logloss:0.22643\tvalidation_1-error:0.09327\n",
      "[126]\tvalidation_0-logloss:0.11618\tvalidation_0-error:0.02771\tvalidation_1-logloss:0.22638\tvalidation_1-error:0.09380\n",
      "[127]\tvalidation_0-logloss:0.11550\tvalidation_0-error:0.02743\tvalidation_1-logloss:0.22631\tvalidation_1-error:0.09433\n",
      "[128]\tvalidation_0-logloss:0.11496\tvalidation_0-error:0.02713\tvalidation_1-logloss:0.22621\tvalidation_1-error:0.09380\n",
      "[129]\tvalidation_0-logloss:0.11403\tvalidation_0-error:0.02674\tvalidation_1-logloss:0.22581\tvalidation_1-error:0.09380\n",
      "[130]\tvalidation_0-logloss:0.11319\tvalidation_0-error:0.02618\tvalidation_1-logloss:0.22584\tvalidation_1-error:0.09301\n",
      "[131]\tvalidation_0-logloss:0.11271\tvalidation_0-error:0.02596\tvalidation_1-logloss:0.22587\tvalidation_1-error:0.09275\n",
      "[132]\tvalidation_0-logloss:0.11213\tvalidation_0-error:0.02562\tvalidation_1-logloss:0.22581\tvalidation_1-error:0.09301\n",
      "[133]\tvalidation_0-logloss:0.11168\tvalidation_0-error:0.02557\tvalidation_1-logloss:0.22560\tvalidation_1-error:0.09222\n",
      "[134]\tvalidation_0-logloss:0.11108\tvalidation_0-error:0.02525\tvalidation_1-logloss:0.22561\tvalidation_1-error:0.09196\n",
      "[135]\tvalidation_0-logloss:0.11066\tvalidation_0-error:0.02500\tvalidation_1-logloss:0.22560\tvalidation_1-error:0.09222\n",
      "[136]\tvalidation_0-logloss:0.11028\tvalidation_0-error:0.02483\tvalidation_1-logloss:0.22559\tvalidation_1-error:0.09249\n",
      "[137]\tvalidation_0-logloss:0.10998\tvalidation_0-error:0.02475\tvalidation_1-logloss:0.22552\tvalidation_1-error:0.09249\n",
      "[138]\tvalidation_0-logloss:0.10962\tvalidation_0-error:0.02481\tvalidation_1-logloss:0.22536\tvalidation_1-error:0.09301\n",
      "[139]\tvalidation_0-logloss:0.10940\tvalidation_0-error:0.02464\tvalidation_1-logloss:0.22527\tvalidation_1-error:0.09249\n",
      "[140]\tvalidation_0-logloss:0.10927\tvalidation_0-error:0.02465\tvalidation_1-logloss:0.22531\tvalidation_1-error:0.09275\n"
     ]
    },
    {
     "name": "stdout",
     "output_type": "stream",
     "text": [
      "[141]\tvalidation_0-logloss:0.10874\tvalidation_0-error:0.02441\tvalidation_1-logloss:0.22536\tvalidation_1-error:0.09354\n",
      "[142]\tvalidation_0-logloss:0.10838\tvalidation_0-error:0.02429\tvalidation_1-logloss:0.22519\tvalidation_1-error:0.09275\n",
      "[143]\tvalidation_0-logloss:0.10794\tvalidation_0-error:0.02398\tvalidation_1-logloss:0.22504\tvalidation_1-error:0.09249\n",
      "[144]\tvalidation_0-logloss:0.10758\tvalidation_0-error:0.02382\tvalidation_1-logloss:0.22500\tvalidation_1-error:0.09275\n",
      "[145]\tvalidation_0-logloss:0.10662\tvalidation_0-error:0.02340\tvalidation_1-logloss:0.22470\tvalidation_1-error:0.09380\n",
      "[146]\tvalidation_0-logloss:0.10580\tvalidation_0-error:0.02298\tvalidation_1-logloss:0.22447\tvalidation_1-error:0.09354\n",
      "[147]\tvalidation_0-logloss:0.10567\tvalidation_0-error:0.02306\tvalidation_1-logloss:0.22430\tvalidation_1-error:0.09433\n",
      "[148]\tvalidation_0-logloss:0.10498\tvalidation_0-error:0.02284\tvalidation_1-logloss:0.22408\tvalidation_1-error:0.09459\n",
      "[149]\tvalidation_0-logloss:0.10453\tvalidation_0-error:0.02264\tvalidation_1-logloss:0.22405\tvalidation_1-error:0.09406\n",
      "[150]\tvalidation_0-logloss:0.10409\tvalidation_0-error:0.02235\tvalidation_1-logloss:0.22395\tvalidation_1-error:0.09459\n",
      "[151]\tvalidation_0-logloss:0.10355\tvalidation_0-error:0.02206\tvalidation_1-logloss:0.22382\tvalidation_1-error:0.09433\n",
      "[152]\tvalidation_0-logloss:0.10310\tvalidation_0-error:0.02181\tvalidation_1-logloss:0.22367\tvalidation_1-error:0.09459\n",
      "[153]\tvalidation_0-logloss:0.10280\tvalidation_0-error:0.02168\tvalidation_1-logloss:0.22358\tvalidation_1-error:0.09406\n",
      "[154]\tvalidation_0-logloss:0.10201\tvalidation_0-error:0.02131\tvalidation_1-logloss:0.22325\tvalidation_1-error:0.09511\n",
      "[155]\tvalidation_0-logloss:0.10145\tvalidation_0-error:0.02109\tvalidation_1-logloss:0.22279\tvalidation_1-error:0.09433\n",
      "[156]\tvalidation_0-logloss:0.10104\tvalidation_0-error:0.02079\tvalidation_1-logloss:0.22272\tvalidation_1-error:0.09406\n",
      "[157]\tvalidation_0-logloss:0.10090\tvalidation_0-error:0.02076\tvalidation_1-logloss:0.22273\tvalidation_1-error:0.09433\n",
      "[158]\tvalidation_0-logloss:0.10064\tvalidation_0-error:0.02068\tvalidation_1-logloss:0.22269\tvalidation_1-error:0.09380\n",
      "[159]\tvalidation_0-logloss:0.10029\tvalidation_0-error:0.02057\tvalidation_1-logloss:0.22229\tvalidation_1-error:0.09354\n",
      "[160]\tvalidation_0-logloss:0.09945\tvalidation_0-error:0.02027\tvalidation_1-logloss:0.22218\tvalidation_1-error:0.09327\n",
      "[161]\tvalidation_0-logloss:0.09898\tvalidation_0-error:0.01997\tvalidation_1-logloss:0.22220\tvalidation_1-error:0.09433\n",
      "[162]\tvalidation_0-logloss:0.09841\tvalidation_0-error:0.01967\tvalidation_1-logloss:0.22221\tvalidation_1-error:0.09433\n",
      "[163]\tvalidation_0-logloss:0.09782\tvalidation_0-error:0.01948\tvalidation_1-logloss:0.22197\tvalidation_1-error:0.09459\n",
      "[164]\tvalidation_0-logloss:0.09757\tvalidation_0-error:0.01933\tvalidation_1-logloss:0.22200\tvalidation_1-error:0.09459\n",
      "[165]\tvalidation_0-logloss:0.09706\tvalidation_0-error:0.01910\tvalidation_1-logloss:0.22188\tvalidation_1-error:0.09380\n",
      "[166]\tvalidation_0-logloss:0.09671\tvalidation_0-error:0.01885\tvalidation_1-logloss:0.22170\tvalidation_1-error:0.09354\n",
      "[167]\tvalidation_0-logloss:0.09655\tvalidation_0-error:0.01880\tvalidation_1-logloss:0.22171\tvalidation_1-error:0.09327\n",
      "[168]\tvalidation_0-logloss:0.09612\tvalidation_0-error:0.01857\tvalidation_1-logloss:0.22181\tvalidation_1-error:0.09354\n",
      "[169]\tvalidation_0-logloss:0.09572\tvalidation_0-error:0.01839\tvalidation_1-logloss:0.22168\tvalidation_1-error:0.09301\n",
      "[170]\tvalidation_0-logloss:0.09541\tvalidation_0-error:0.01830\tvalidation_1-logloss:0.22148\tvalidation_1-error:0.09354\n",
      "[171]\tvalidation_0-logloss:0.09474\tvalidation_0-error:0.01804\tvalidation_1-logloss:0.22124\tvalidation_1-error:0.09327\n",
      "[172]\tvalidation_0-logloss:0.09444\tvalidation_0-error:0.01788\tvalidation_1-logloss:0.22133\tvalidation_1-error:0.09380\n",
      "[173]\tvalidation_0-logloss:0.09407\tvalidation_0-error:0.01783\tvalidation_1-logloss:0.22110\tvalidation_1-error:0.09354\n",
      "[174]\tvalidation_0-logloss:0.09355\tvalidation_0-error:0.01771\tvalidation_1-logloss:0.22103\tvalidation_1-error:0.09301\n",
      "[175]\tvalidation_0-logloss:0.09329\tvalidation_0-error:0.01750\tvalidation_1-logloss:0.22112\tvalidation_1-error:0.09327\n",
      "[176]\tvalidation_0-logloss:0.09276\tvalidation_0-error:0.01725\tvalidation_1-logloss:0.22087\tvalidation_1-error:0.09327\n",
      "[177]\tvalidation_0-logloss:0.09223\tvalidation_0-error:0.01699\tvalidation_1-logloss:0.22085\tvalidation_1-error:0.09196\n",
      "[178]\tvalidation_0-logloss:0.09206\tvalidation_0-error:0.01695\tvalidation_1-logloss:0.22081\tvalidation_1-error:0.09170\n",
      "[179]\tvalidation_0-logloss:0.09169\tvalidation_0-error:0.01671\tvalidation_1-logloss:0.22082\tvalidation_1-error:0.09222\n",
      "[180]\tvalidation_0-logloss:0.09117\tvalidation_0-error:0.01640\tvalidation_1-logloss:0.22067\tvalidation_1-error:0.09144\n",
      "[181]\tvalidation_0-logloss:0.09061\tvalidation_0-error:0.01629\tvalidation_1-logloss:0.22047\tvalidation_1-error:0.09196\n",
      "[182]\tvalidation_0-logloss:0.09019\tvalidation_0-error:0.01619\tvalidation_1-logloss:0.22034\tvalidation_1-error:0.09144\n",
      "[183]\tvalidation_0-logloss:0.08974\tvalidation_0-error:0.01591\tvalidation_1-logloss:0.22009\tvalidation_1-error:0.09091\n",
      "[184]\tvalidation_0-logloss:0.08962\tvalidation_0-error:0.01595\tvalidation_1-logloss:0.22005\tvalidation_1-error:0.09144\n",
      "[185]\tvalidation_0-logloss:0.08936\tvalidation_0-error:0.01592\tvalidation_1-logloss:0.22003\tvalidation_1-error:0.09170\n",
      "[186]\tvalidation_0-logloss:0.08900\tvalidation_0-error:0.01571\tvalidation_1-logloss:0.21993\tvalidation_1-error:0.09144\n",
      "[187]\tvalidation_0-logloss:0.08871\tvalidation_0-error:0.01552\tvalidation_1-logloss:0.21969\tvalidation_1-error:0.09170\n",
      "[188]\tvalidation_0-logloss:0.08858\tvalidation_0-error:0.01548\tvalidation_1-logloss:0.21966\tvalidation_1-error:0.09144\n",
      "[189]\tvalidation_0-logloss:0.08824\tvalidation_0-error:0.01524\tvalidation_1-logloss:0.21966\tvalidation_1-error:0.09170\n",
      "[190]\tvalidation_0-logloss:0.08780\tvalidation_0-error:0.01519\tvalidation_1-logloss:0.21961\tvalidation_1-error:0.09170\n",
      "[191]\tvalidation_0-logloss:0.08721\tvalidation_0-error:0.01485\tvalidation_1-logloss:0.21962\tvalidation_1-error:0.09196\n",
      "[192]\tvalidation_0-logloss:0.08690\tvalidation_0-error:0.01476\tvalidation_1-logloss:0.21957\tvalidation_1-error:0.09144\n",
      "[193]\tvalidation_0-logloss:0.08652\tvalidation_0-error:0.01462\tvalidation_1-logloss:0.21954\tvalidation_1-error:0.09144\n",
      "[194]\tvalidation_0-logloss:0.08611\tvalidation_0-error:0.01445\tvalidation_1-logloss:0.21940\tvalidation_1-error:0.09144\n",
      "[195]\tvalidation_0-logloss:0.08567\tvalidation_0-error:0.01439\tvalidation_1-logloss:0.21918\tvalidation_1-error:0.09144\n",
      "[196]\tvalidation_0-logloss:0.08531\tvalidation_0-error:0.01431\tvalidation_1-logloss:0.21923\tvalidation_1-error:0.09196\n",
      "[197]\tvalidation_0-logloss:0.08488\tvalidation_0-error:0.01402\tvalidation_1-logloss:0.21912\tvalidation_1-error:0.09170\n",
      "[198]\tvalidation_0-logloss:0.08449\tvalidation_0-error:0.01389\tvalidation_1-logloss:0.21923\tvalidation_1-error:0.09144\n",
      "[199]\tvalidation_0-logloss:0.08419\tvalidation_0-error:0.01370\tvalidation_1-logloss:0.21931\tvalidation_1-error:0.09144\n",
      "[200]\tvalidation_0-logloss:0.08378\tvalidation_0-error:0.01361\tvalidation_1-logloss:0.21928\tvalidation_1-error:0.09170\n",
      "[201]\tvalidation_0-logloss:0.08353\tvalidation_0-error:0.01356\tvalidation_1-logloss:0.21919\tvalidation_1-error:0.09170\n",
      "[202]\tvalidation_0-logloss:0.08332\tvalidation_0-error:0.01345\tvalidation_1-logloss:0.21910\tvalidation_1-error:0.09170\n",
      "[203]\tvalidation_0-logloss:0.08302\tvalidation_0-error:0.01337\tvalidation_1-logloss:0.21915\tvalidation_1-error:0.09170\n",
      "[204]\tvalidation_0-logloss:0.08272\tvalidation_0-error:0.01326\tvalidation_1-logloss:0.21934\tvalidation_1-error:0.09196\n",
      "[205]\tvalidation_0-logloss:0.08251\tvalidation_0-error:0.01326\tvalidation_1-logloss:0.21920\tvalidation_1-error:0.09196\n",
      "[206]\tvalidation_0-logloss:0.08219\tvalidation_0-error:0.01310\tvalidation_1-logloss:0.21931\tvalidation_1-error:0.09222\n",
      "[207]\tvalidation_0-logloss:0.08181\tvalidation_0-error:0.01291\tvalidation_1-logloss:0.21926\tvalidation_1-error:0.09275\n",
      "[208]\tvalidation_0-logloss:0.08166\tvalidation_0-error:0.01290\tvalidation_1-logloss:0.21929\tvalidation_1-error:0.09196\n",
      "[209]\tvalidation_0-logloss:0.08124\tvalidation_0-error:0.01273\tvalidation_1-logloss:0.21928\tvalidation_1-error:0.09222\n",
      "[210]\tvalidation_0-logloss:0.08093\tvalidation_0-error:0.01256\tvalidation_1-logloss:0.21899\tvalidation_1-error:0.09249\n"
     ]
    },
    {
     "name": "stdout",
     "output_type": "stream",
     "text": [
      "[211]\tvalidation_0-logloss:0.08053\tvalidation_0-error:0.01248\tvalidation_1-logloss:0.21895\tvalidation_1-error:0.09222\n",
      "[212]\tvalidation_0-logloss:0.08028\tvalidation_0-error:0.01239\tvalidation_1-logloss:0.21879\tvalidation_1-error:0.09196\n",
      "[213]\tvalidation_0-logloss:0.08011\tvalidation_0-error:0.01232\tvalidation_1-logloss:0.21876\tvalidation_1-error:0.09170\n",
      "[214]\tvalidation_0-logloss:0.07986\tvalidation_0-error:0.01230\tvalidation_1-logloss:0.21883\tvalidation_1-error:0.09196\n",
      "[215]\tvalidation_0-logloss:0.07940\tvalidation_0-error:0.01214\tvalidation_1-logloss:0.21869\tvalidation_1-error:0.09170\n",
      "[216]\tvalidation_0-logloss:0.07927\tvalidation_0-error:0.01217\tvalidation_1-logloss:0.21863\tvalidation_1-error:0.09170\n",
      "[217]\tvalidation_0-logloss:0.07912\tvalidation_0-error:0.01210\tvalidation_1-logloss:0.21865\tvalidation_1-error:0.09170\n",
      "[218]\tvalidation_0-logloss:0.07891\tvalidation_0-error:0.01205\tvalidation_1-logloss:0.21871\tvalidation_1-error:0.09170\n",
      "[219]\tvalidation_0-logloss:0.07861\tvalidation_0-error:0.01192\tvalidation_1-logloss:0.21871\tvalidation_1-error:0.09222\n",
      "[220]\tvalidation_0-logloss:0.07851\tvalidation_0-error:0.01189\tvalidation_1-logloss:0.21876\tvalidation_1-error:0.09222\n",
      "[221]\tvalidation_0-logloss:0.07818\tvalidation_0-error:0.01172\tvalidation_1-logloss:0.21863\tvalidation_1-error:0.09222\n",
      "[222]\tvalidation_0-logloss:0.07788\tvalidation_0-error:0.01168\tvalidation_1-logloss:0.21862\tvalidation_1-error:0.09222\n",
      "[223]\tvalidation_0-logloss:0.07759\tvalidation_0-error:0.01156\tvalidation_1-logloss:0.21872\tvalidation_1-error:0.09170\n",
      "[224]\tvalidation_0-logloss:0.07751\tvalidation_0-error:0.01155\tvalidation_1-logloss:0.21863\tvalidation_1-error:0.09196\n",
      "[225]\tvalidation_0-logloss:0.07731\tvalidation_0-error:0.01147\tvalidation_1-logloss:0.21860\tvalidation_1-error:0.09196\n",
      "[226]\tvalidation_0-logloss:0.07698\tvalidation_0-error:0.01135\tvalidation_1-logloss:0.21852\tvalidation_1-error:0.09249\n",
      "[227]\tvalidation_0-logloss:0.07651\tvalidation_0-error:0.01131\tvalidation_1-logloss:0.21840\tvalidation_1-error:0.09196\n",
      "[228]\tvalidation_0-logloss:0.07625\tvalidation_0-error:0.01127\tvalidation_1-logloss:0.21845\tvalidation_1-error:0.09144\n",
      "[229]\tvalidation_0-logloss:0.07603\tvalidation_0-error:0.01121\tvalidation_1-logloss:0.21841\tvalidation_1-error:0.09170\n",
      "[230]\tvalidation_0-logloss:0.07575\tvalidation_0-error:0.01105\tvalidation_1-logloss:0.21846\tvalidation_1-error:0.09144\n",
      "[231]\tvalidation_0-logloss:0.07532\tvalidation_0-error:0.01081\tvalidation_1-logloss:0.21849\tvalidation_1-error:0.09117\n",
      "[232]\tvalidation_0-logloss:0.07497\tvalidation_0-error:0.01069\tvalidation_1-logloss:0.21843\tvalidation_1-error:0.09170\n",
      "[233]\tvalidation_0-logloss:0.07489\tvalidation_0-error:0.01068\tvalidation_1-logloss:0.21841\tvalidation_1-error:0.09196\n"
     ]
    },
    {
     "data": {
      "text/html": [
       "<style>#sk-container-id-4 {color: black;background-color: white;}#sk-container-id-4 pre{padding: 0;}#sk-container-id-4 div.sk-toggleable {background-color: white;}#sk-container-id-4 label.sk-toggleable__label {cursor: pointer;display: block;width: 100%;margin-bottom: 0;padding: 0.3em;box-sizing: border-box;text-align: center;}#sk-container-id-4 label.sk-toggleable__label-arrow:before {content: \"▸\";float: left;margin-right: 0.25em;color: #696969;}#sk-container-id-4 label.sk-toggleable__label-arrow:hover:before {color: black;}#sk-container-id-4 div.sk-estimator:hover label.sk-toggleable__label-arrow:before {color: black;}#sk-container-id-4 div.sk-toggleable__content {max-height: 0;max-width: 0;overflow: hidden;text-align: left;background-color: #f0f8ff;}#sk-container-id-4 div.sk-toggleable__content pre {margin: 0.2em;color: black;border-radius: 0.25em;background-color: #f0f8ff;}#sk-container-id-4 input.sk-toggleable__control:checked~div.sk-toggleable__content {max-height: 200px;max-width: 100%;overflow: auto;}#sk-container-id-4 input.sk-toggleable__control:checked~label.sk-toggleable__label-arrow:before {content: \"▾\";}#sk-container-id-4 div.sk-estimator input.sk-toggleable__control:checked~label.sk-toggleable__label {background-color: #d4ebff;}#sk-container-id-4 div.sk-label input.sk-toggleable__control:checked~label.sk-toggleable__label {background-color: #d4ebff;}#sk-container-id-4 input.sk-hidden--visually {border: 0;clip: rect(1px 1px 1px 1px);clip: rect(1px, 1px, 1px, 1px);height: 1px;margin: -1px;overflow: hidden;padding: 0;position: absolute;width: 1px;}#sk-container-id-4 div.sk-estimator {font-family: monospace;background-color: #f0f8ff;border: 1px dotted black;border-radius: 0.25em;box-sizing: border-box;margin-bottom: 0.5em;}#sk-container-id-4 div.sk-estimator:hover {background-color: #d4ebff;}#sk-container-id-4 div.sk-parallel-item::after {content: \"\";width: 100%;border-bottom: 1px solid gray;flex-grow: 1;}#sk-container-id-4 div.sk-label:hover label.sk-toggleable__label {background-color: #d4ebff;}#sk-container-id-4 div.sk-serial::before {content: \"\";position: absolute;border-left: 1px solid gray;box-sizing: border-box;top: 0;bottom: 0;left: 50%;z-index: 0;}#sk-container-id-4 div.sk-serial {display: flex;flex-direction: column;align-items: center;background-color: white;padding-right: 0.2em;padding-left: 0.2em;position: relative;}#sk-container-id-4 div.sk-item {position: relative;z-index: 1;}#sk-container-id-4 div.sk-parallel {display: flex;align-items: stretch;justify-content: center;background-color: white;position: relative;}#sk-container-id-4 div.sk-item::before, #sk-container-id-4 div.sk-parallel-item::before {content: \"\";position: absolute;border-left: 1px solid gray;box-sizing: border-box;top: 0;bottom: 0;left: 50%;z-index: -1;}#sk-container-id-4 div.sk-parallel-item {display: flex;flex-direction: column;z-index: 1;position: relative;background-color: white;}#sk-container-id-4 div.sk-parallel-item:first-child::after {align-self: flex-end;width: 50%;}#sk-container-id-4 div.sk-parallel-item:last-child::after {align-self: flex-start;width: 50%;}#sk-container-id-4 div.sk-parallel-item:only-child::after {width: 0;}#sk-container-id-4 div.sk-dashed-wrapped {border: 1px dashed gray;margin: 0 0.4em 0.5em 0.4em;box-sizing: border-box;padding-bottom: 0.4em;background-color: white;}#sk-container-id-4 div.sk-label label {font-family: monospace;font-weight: bold;display: inline-block;line-height: 1.2em;}#sk-container-id-4 div.sk-label-container {text-align: center;}#sk-container-id-4 div.sk-container {/* jupyter's `normalize.less` sets `[hidden] { display: none; }` but bootstrap.min.css set `[hidden] { display: none !important; }` so we also need the `!important` here to be able to override the default hidden behavior on the sphinx rendered scikit-learn.org. See: https://github.com/scikit-learn/scikit-learn/issues/21755 */display: inline-block !important;position: relative;}#sk-container-id-4 div.sk-text-repr-fallback {display: none;}</style><div id=\"sk-container-id-4\" class=\"sk-top-container\"><div class=\"sk-text-repr-fallback\"><pre>XGBClassifier(base_score=0.5, booster=&#x27;gbtree&#x27;,\n",
       "              colsample_bylevel=0.47518959001130767, colsample_bynode=1,\n",
       "              colsample_bytree=0.6845612830806885,\n",
       "              eval_metric=[&#x27;logloss&#x27;, &#x27;error&#x27;], gamma=0, gpu_id=-1,\n",
       "              importance_type=&#x27;gain&#x27;, interaction_constraints=&#x27;&#x27;,\n",
       "              learning_rate=0.05800794560416693, max_delta_step=0, max_depth=10,\n",
       "              min_child_weight=0.7667675178010714, missing=nan,\n",
       "              monotone_constraints=&#x27;()&#x27;, n_estimators=100000, n_jobs=8,\n",
       "              nthread=8, num_parallel_tree=1, random_state=42,\n",
       "              reg_alpha=0.008568303724660307, reg_lambda=0.05299562944920838,\n",
       "              scale_pos_weight=1, subsample=0.8895588746662894,\n",
       "              tree_method=&#x27;exact&#x27;, use_label_encoder=False,\n",
       "              validate_parameters=1, verbosity=None)</pre><b>In a Jupyter environment, please rerun this cell to show the HTML representation or trust the notebook. <br />On GitHub, the HTML representation is unable to render, please try loading this page with nbviewer.org.</b></div><div class=\"sk-container\" hidden><div class=\"sk-item\"><div class=\"sk-estimator sk-toggleable\"><input class=\"sk-toggleable__control sk-hidden--visually\" id=\"sk-estimator-id-4\" type=\"checkbox\" checked><label for=\"sk-estimator-id-4\" class=\"sk-toggleable__label sk-toggleable__label-arrow\">XGBClassifier</label><div class=\"sk-toggleable__content\"><pre>XGBClassifier(base_score=0.5, booster=&#x27;gbtree&#x27;,\n",
       "              colsample_bylevel=0.47518959001130767, colsample_bynode=1,\n",
       "              colsample_bytree=0.6845612830806885,\n",
       "              eval_metric=[&#x27;logloss&#x27;, &#x27;error&#x27;], gamma=0, gpu_id=-1,\n",
       "              importance_type=&#x27;gain&#x27;, interaction_constraints=&#x27;&#x27;,\n",
       "              learning_rate=0.05800794560416693, max_delta_step=0, max_depth=10,\n",
       "              min_child_weight=0.7667675178010714, missing=nan,\n",
       "              monotone_constraints=&#x27;()&#x27;, n_estimators=100000, n_jobs=8,\n",
       "              nthread=8, num_parallel_tree=1, random_state=42,\n",
       "              reg_alpha=0.008568303724660307, reg_lambda=0.05299562944920838,\n",
       "              scale_pos_weight=1, subsample=0.8895588746662894,\n",
       "              tree_method=&#x27;exact&#x27;, use_label_encoder=False,\n",
       "              validate_parameters=1, verbosity=None)</pre></div></div></div></div></div>"
      ],
      "text/plain": [
       "XGBClassifier(base_score=0.5, booster='gbtree',\n",
       "              colsample_bylevel=0.47518959001130767, colsample_bynode=1,\n",
       "              colsample_bytree=0.6845612830806885,\n",
       "              eval_metric=['logloss', 'error'], gamma=0, gpu_id=-1,\n",
       "              importance_type='gain', interaction_constraints='',\n",
       "              learning_rate=0.05800794560416693, max_delta_step=0, max_depth=10,\n",
       "              min_child_weight=0.7667675178010714, missing=nan,\n",
       "              monotone_constraints='()', n_estimators=100000, n_jobs=8,\n",
       "              nthread=8, num_parallel_tree=1, random_state=42,\n",
       "              reg_alpha=0.008568303724660307, reg_lambda=0.05299562944920838,\n",
       "              scale_pos_weight=1, subsample=0.8895588746662894,\n",
       "              tree_method='exact', use_label_encoder=False,\n",
       "              validate_parameters=1, verbosity=None)"
      ]
     },
     "execution_count": 88,
     "metadata": {},
     "output_type": "execute_result"
    }
   ],
   "source": [
    "model.fit(X_train, y_train['AGN'], verbose=True, eval_set=eval_set, early_stopping_rounds=50)"
   ]
  },
  {
   "cell_type": "code",
   "execution_count": 89,
   "id": "0ad3e57b",
   "metadata": {},
   "outputs": [
    {
     "data": {
      "text/plain": [
       "<matplotlib.legend.Legend at 0x2b1d13f0db20>"
      ]
     },
     "execution_count": 89,
     "metadata": {},
     "output_type": "execute_result"
    },
    {
     "data": {
      "image/png": "[encoded data removed]",
      "text/plain": [
       "<Figure size 432x288 with 1 Axes>"
      ]
     },
     "metadata": {
      "needs_background": "light"
     },
     "output_type": "display_data"
    }
   ],
   "source": [
    "hist = model.evals_result()\n",
    "plt.plot(hist['validation_0']['logloss'], label='Train')\n",
    "plt.plot(hist['validation_1']['logloss'], label='Test')\n",
    "\n",
    "plt.xlabel('Epochs')\n",
    "plt.ylabel('Multiclass logloss')\n",
    "plt.legend()"
   ]
  },
  {
   "cell_type": "code",
   "execution_count": 90,
   "id": "587489d7",
   "metadata": {},
   "outputs": [
    {
     "name": "stdout",
     "output_type": "stream",
     "text": [
      "              precision    recall  f1-score   support\n",
      "\n",
      "           0     0.9477    0.9126    0.9298     10358\n",
      "           1     0.8276    0.8927    0.8589      4865\n",
      "\n",
      "    accuracy                         0.9063     15223\n",
      "   macro avg     0.8876    0.9027    0.8944     15223\n",
      "weighted avg     0.9093    0.9063    0.9072     15223\n",
      "\n"
     ]
    }
   ],
   "source": [
    "print(classification_report(model.predict(X_test), y_test['AGN'], digits=4))"
   ]
  },
  {
   "cell_type": "code",
   "execution_count": 91,
   "id": "886ad3ac",
   "metadata": {},
   "outputs": [
    {
     "name": "stdout",
     "output_type": "stream",
     "text": [
      "MIGHTEE\n",
      "              precision    recall  f1-score   support\n",
      "\n",
      "           0     0.8635    0.7735    0.8161       499\n",
      "           1     0.5534    0.6965    0.6167       201\n",
      "\n",
      "    accuracy                         0.7514       700\n",
      "   macro avg     0.7084    0.7350    0.7164       700\n",
      "weighted avg     0.7745    0.7514    0.7588       700\n",
      "\n"
     ]
    }
   ],
   "source": [
    "i=2\n",
    "\n",
    "filt = y_test['Source']==y_test.Source.unique()[i]\n",
    "print(y_test.Source.unique()[i])\n",
    "print(classification_report(model.predict(X_test[filt]), y_test['AGN'][filt], digits=4))"
   ]
  },
  {
   "cell_type": "code",
   "execution_count": 92,
   "id": "ffb80184",
   "metadata": {},
   "outputs": [
    {
     "name": "stdout",
     "output_type": "stream",
     "text": [
      "jet-mode radio AGN/low-excitation radio galaxy\n",
      "Accuracy= 0.8650963597430407\n",
      "---------------------------------------------------\n",
      "quasar-like radio AGN / high-excitation radio galaxy\n",
      "Accuracy= 0.9002932551319648\n",
      "---------------------------------------------------\n",
      "radio-quiet AGN\n",
      "Accuracy= 0.6865926558497011\n",
      "---------------------------------------------------\n",
      "star-forming galaxy\n",
      "Accuracy= 0.9476691729323308\n",
      "---------------------------------------------------\n"
     ]
    }
   ],
   "source": [
    "for i in range(4):\n",
    "\n",
    "    filt = y_test['Classification']==i\n",
    "    print(le.classes_[i])\n",
    "    print(\"Accuracy=\",accuracy_score(model.predict(X_test[filt]), y_test['AGN'][filt]))\n",
    "    print(\"---------------------------------------------------\")"
   ]
  },
  {
   "cell_type": "code",
   "execution_count": 37,
   "id": "3b04380a",
   "metadata": {},
   "outputs": [
    {
     "data": {
      "text/plain": [
       "array([3, 0, 1, 2])"
      ]
     },
     "execution_count": 37,
     "metadata": {},
     "output_type": "execute_result"
    }
   ],
   "source": [
    "y_test.Classification.unique()"
   ]
  },
  {
   "cell_type": "code",
   "execution_count": 82,
   "id": "a9545d1e",
   "metadata": {},
   "outputs": [],
   "source": [
    "shap_values = shap.TreeExplainer(model, check_additivity=False).shap_values(X_train, check_additivity=False)"
   ]
  },
  {
   "cell_type": "code",
   "execution_count": 83,
   "id": "eac87076",
   "metadata": {},
   "outputs": [
    {
     "data": {
      "image/png": "[encoded data removed]",
      "text/plain": [
       "<Figure size 576x856.8 with 2 Axes>"
      ]
     },
     "metadata": {
      "needs_background": "light"
     },
     "output_type": "display_data"
    }
   ],
   "source": [
    "shap.summary_plot(shap_values, X_train.rename(columns=mapping), class_names=labels, max_display=999, show=False)\n",
    "plt.title(\"Total Feature Relevance\")\n",
    "plt.tight_layout()"
   ]
  },
  {
   "cell_type": "markdown",
   "id": "101fb8d9",
   "metadata": {},
   "source": [
    "# Step 2: Subclasses"
   ]
  },
  {
   "cell_type": "code",
   "execution_count": 32,
   "id": "f4b9aca5",
   "metadata": {},
   "outputs": [],
   "source": [
    "y_sub = y[y.Classification!=3]\n",
    "X_sub = X[y.Classification!=3]\n",
    "X_train, X_test, y_train, y_test = train_test_split(X_sub, y_sub, train_size=0.8, stratify=y_sub[['Source', 'Classification']])\n",
    "X_test, X_val, y_test, y_val = train_test_split(X_test, y_test, train_size=0.8, stratify=y_test[['Source', 'Classification']])"
   ]
  },
  {
   "cell_type": "code",
   "execution_count": 26,
   "id": "1eb22aa4",
   "metadata": {
    "scrolled": true
   },
   "outputs": [
    {
     "name": "stderr",
     "output_type": "stream",
     "text": [
      "[flaml.automl: 02-08 16:00:19] {2390} INFO - task = classification\n",
      "[flaml.automl: 02-08 16:00:19] {2392} INFO - Data split method: stratified\n",
      "[flaml.automl: 02-08 16:00:19] {2396} INFO - Evaluation method: cv\n",
      "[flaml.automl: 02-08 16:00:19] {2465} INFO - Minimizing error metric: 1-accuracy\n",
      "[flaml.automl: 02-08 16:00:19] {2605} INFO - List of ML learners in AutoML Run: ['xgb_limitdepth']\n",
      "[flaml.automl: 02-08 16:00:19] {2897} INFO - iteration 0, current learner xgb_limitdepth\n",
      "[flaml.automl: 02-08 16:00:56] {3025} INFO - Estimated sufficient time budget=368116s. Estimated necessary time budget=368s.\n",
      "[flaml.automl: 02-08 16:00:56] {3072} INFO -  at 37.0s,\testimator xgb_limitdepth's best error=0.0894,\tbest estimator xgb_limitdepth's best error=0.0894\n",
      "[flaml.automl: 02-08 16:00:56] {2897} INFO - iteration 1, current learner xgb_limitdepth\n",
      "[flaml.automl: 02-08 16:01:29] {3072} INFO -  at 70.2s,\testimator xgb_limitdepth's best error=0.0894,\tbest estimator xgb_limitdepth's best error=0.0894\n",
      "[flaml.automl: 02-08 16:01:29] {2897} INFO - iteration 2, current learner xgb_limitdepth\n",
      "[flaml.automl: 02-08 16:02:09] {3072} INFO -  at 110.1s,\testimator xgb_limitdepth's best error=0.0853,\tbest estimator xgb_limitdepth's best error=0.0853\n",
      "[flaml.automl: 02-08 16:02:09] {2897} INFO - iteration 3, current learner xgb_limitdepth\n",
      "[flaml.automl: 02-08 16:02:42] {3072} INFO -  at 142.8s,\testimator xgb_limitdepth's best error=0.0853,\tbest estimator xgb_limitdepth's best error=0.0853\n",
      "[flaml.automl: 02-08 16:02:42] {2897} INFO - iteration 4, current learner xgb_limitdepth\n",
      "[flaml.automl: 02-08 16:03:28] {3072} INFO -  at 188.9s,\testimator xgb_limitdepth's best error=0.0853,\tbest estimator xgb_limitdepth's best error=0.0853\n",
      "[flaml.automl: 02-08 16:03:28] {2897} INFO - iteration 5, current learner xgb_limitdepth\n",
      "[flaml.automl: 02-08 16:03:41] {3072} INFO -  at 202.2s,\testimator xgb_limitdepth's best error=0.0853,\tbest estimator xgb_limitdepth's best error=0.0853\n",
      "[flaml.automl: 02-08 16:03:41] {2897} INFO - iteration 6, current learner xgb_limitdepth\n",
      "[flaml.automl: 02-08 16:05:33] {3072} INFO -  at 314.5s,\testimator xgb_limitdepth's best error=0.0853,\tbest estimator xgb_limitdepth's best error=0.0853\n",
      "[flaml.automl: 02-08 16:05:33] {2897} INFO - iteration 7, current learner xgb_limitdepth\n",
      "[flaml.automl: 02-08 16:06:42] {3072} INFO -  at 382.7s,\testimator xgb_limitdepth's best error=0.0843,\tbest estimator xgb_limitdepth's best error=0.0843\n",
      "[flaml.automl: 02-08 16:06:42] {2897} INFO - iteration 8, current learner xgb_limitdepth\n",
      "[flaml.automl: 02-08 16:07:22] {3072} INFO -  at 423.0s,\testimator xgb_limitdepth's best error=0.0843,\tbest estimator xgb_limitdepth's best error=0.0843\n",
      "[flaml.automl: 02-08 16:07:22] {2897} INFO - iteration 9, current learner xgb_limitdepth\n",
      "[flaml.automl: 02-08 16:08:38] {3072} INFO -  at 498.8s,\testimator xgb_limitdepth's best error=0.0820,\tbest estimator xgb_limitdepth's best error=0.0820\n",
      "[flaml.automl: 02-08 16:08:38] {2897} INFO - iteration 10, current learner xgb_limitdepth\n",
      "[flaml.automl: 02-08 16:09:46] {3072} INFO -  at 567.2s,\testimator xgb_limitdepth's best error=0.0820,\tbest estimator xgb_limitdepth's best error=0.0820\n",
      "[flaml.automl: 02-08 16:10:03] {3335} INFO - retrain xgb_limitdepth for 16.8s\n",
      "[flaml.automl: 02-08 16:10:03] {3342} INFO - retrained model: XGBClassifier(base_score=0.5, booster='gbtree',\n",
      "              colsample_bylevel=0.9088550158793876, colsample_bynode=1,\n",
      "              colsample_bytree=0.7967145599266738, gamma=0, gpu_id=-1,\n",
      "              importance_type='gain', interaction_constraints='',\n",
      "              learning_rate=1.0, max_delta_step=0, max_depth=7,\n",
      "              min_child_weight=0.7694377042261122, missing=nan,\n",
      "              monotone_constraints='()', n_estimators=20, n_jobs=8,\n",
      "              num_parallel_tree=1, objective='multi:softprob', random_state=0,\n",
      "              reg_alpha=0.058176484040363505, reg_lambda=4.081433281365178,\n",
      "              scale_pos_weight=None, subsample=1.0, tree_method='exact',\n",
      "              use_label_encoder=False, validate_parameters=1, verbosity=0)\n",
      "[flaml.automl: 02-08 16:10:03] {2636} INFO - fit succeeded\n",
      "[flaml.automl: 02-08 16:10:03] {2637} INFO - Time taken to find the best model: 498.7757182121277\n",
      "[flaml.automl: 02-08 16:10:03] {2648} WARNING - Time taken to find the best model is 83% of the provided time budget and not all estimators' hyperparameter search converged. Consider increasing the time budget.\n"
     ]
    }
   ],
   "source": [
    "import warnings\n",
    "\n",
    "X_train, X_test, y_train, y_test = train_test_split(X_sub, y_sub['Classification'], train_size=0.8, stratify=y_sub[['Source', 'Classification']], random_state=42)\n",
    "\n",
    "estimators = ['xgb_limitdepth']\n",
    "#estimators = ['extra_tree']\n",
    "\n",
    "with warnings.catch_warnings():\n",
    "    warnings.simplefilter(\"ignore\")\n",
    "\n",
    "    automl.fit(X_train, y_train, task=\"classification\", metric='accuracy',\n",
    "                                #X_val=X_val , y_val=y_val,\n",
    "                                #ensemble=True,\n",
    "                                estimator_list=estimators, \n",
    "                                time_budget=600, n_jobs=8,\n",
    "                                eval_method='cv',\n",
    "                                #log_file_name='general_extra_features3.log',\n",
    "                                #starting_points=automl.best_config_per_estimator\n",
    "              )"
   ]
  },
  {
   "cell_type": "code",
   "execution_count": 27,
   "id": "7a97d5d9",
   "metadata": {},
   "outputs": [
    {
     "data": {
      "text/plain": [
       "{'n_estimators': 20,\n",
       " 'max_depth': 7,\n",
       " 'min_child_weight': 0.7694377042261122,\n",
       " 'learning_rate': 1.0,\n",
       " 'subsample': 1.0,\n",
       " 'colsample_bylevel': 0.9088550158793876,\n",
       " 'colsample_bytree': 0.7967145599266738,\n",
       " 'reg_alpha': 0.058176484040363505,\n",
       " 'reg_lambda': 4.081433281365178}"
      ]
     },
     "execution_count": 27,
     "metadata": {},
     "output_type": "execute_result"
    }
   ],
   "source": [
    "automl.best_config_per_estimator['xgb_limitdepth']"
   ]
  },
  {
   "cell_type": "code",
   "execution_count": 65,
   "id": "50107fa3",
   "metadata": {},
   "outputs": [],
   "source": [
    "model = XGBClassifier(use_label_encoder=False, \n",
    "                      max_depth=5,\n",
    "                     #min_child_weight=0.7694377042261122,\n",
    "                     learning_rate=0.3,\n",
    "                      tree_method='hist',\n",
    "                     #reg_alpha=0.058176484040363505,\n",
    "                     #reg_lambda=4.081433281365178,\n",
    "                     eval_metric=['merror', 'mlogloss'],\n",
    "                      nthread=8,\n",
    "                      n_estimators=10**5,\n",
    "                      random_state=42\n",
    "                      )"
   ]
  },
  {
   "cell_type": "code",
   "execution_count": 66,
   "id": "2b10d204",
   "metadata": {},
   "outputs": [],
   "source": [
    "eval_set = [(X_train, y_train['Classification']), (X_val, y_val['Classification'])]"
   ]
  },
  {
   "cell_type": "code",
   "execution_count": 70,
   "id": "e71d0a9f",
   "metadata": {
    "scrolled": true
   },
   "outputs": [
    {
     "name": "stdout",
     "output_type": "stream",
     "text": [
      "[0]\tvalidation_0-merror:0.10546\tvalidation_0-mlogloss:0.80836\tvalidation_1-merror:0.11509\tvalidation_1-mlogloss:0.81208\n",
      "[1]\tvalidation_0-merror:0.10142\tvalidation_0-mlogloss:0.63901\tvalidation_1-merror:0.10213\tvalidation_1-mlogloss:0.64529\n",
      "[2]\tvalidation_0-merror:0.09616\tvalidation_0-mlogloss:0.52892\tvalidation_1-merror:0.09756\tvalidation_1-mlogloss:0.53696\n",
      "[3]\tvalidation_0-merror:0.09421\tvalidation_0-mlogloss:0.45164\tvalidation_1-merror:0.09451\tvalidation_1-mlogloss:0.46224\n",
      "[4]\tvalidation_0-merror:0.09094\tvalidation_0-mlogloss:0.39734\tvalidation_1-merror:0.09451\tvalidation_1-mlogloss:0.41045\n",
      "[5]\tvalidation_0-merror:0.08827\tvalidation_0-mlogloss:0.35747\tvalidation_1-merror:0.09146\tvalidation_1-mlogloss:0.37181\n",
      "[6]\tvalidation_0-merror:0.08598\tvalidation_0-mlogloss:0.32798\tvalidation_1-merror:0.08918\tvalidation_1-mlogloss:0.34437\n",
      "[7]\tvalidation_0-merror:0.08415\tvalidation_0-mlogloss:0.30536\tvalidation_1-merror:0.08841\tvalidation_1-mlogloss:0.32237\n",
      "[8]\tvalidation_0-merror:0.08240\tvalidation_0-mlogloss:0.28713\tvalidation_1-merror:0.08613\tvalidation_1-mlogloss:0.30546\n",
      "[9]\tvalidation_0-merror:0.07966\tvalidation_0-mlogloss:0.27100\tvalidation_1-merror:0.08841\tvalidation_1-mlogloss:0.29100\n",
      "[10]\tvalidation_0-merror:0.07817\tvalidation_0-mlogloss:0.25748\tvalidation_1-merror:0.08994\tvalidation_1-mlogloss:0.27898\n",
      "[11]\tvalidation_0-merror:0.07604\tvalidation_0-mlogloss:0.24657\tvalidation_1-merror:0.09146\tvalidation_1-mlogloss:0.27029\n",
      "[12]\tvalidation_0-merror:0.07409\tvalidation_0-mlogloss:0.23720\tvalidation_1-merror:0.08994\tvalidation_1-mlogloss:0.26317\n",
      "[13]\tvalidation_0-merror:0.07234\tvalidation_0-mlogloss:0.22948\tvalidation_1-merror:0.08765\tvalidation_1-mlogloss:0.25733\n",
      "[14]\tvalidation_0-merror:0.07085\tvalidation_0-mlogloss:0.22258\tvalidation_1-merror:0.08613\tvalidation_1-mlogloss:0.25289\n",
      "[15]\tvalidation_0-merror:0.06986\tvalidation_0-mlogloss:0.21658\tvalidation_1-merror:0.08232\tvalidation_1-mlogloss:0.24764\n",
      "[16]\tvalidation_0-merror:0.06898\tvalidation_0-mlogloss:0.21084\tvalidation_1-merror:0.08232\tvalidation_1-mlogloss:0.24397\n",
      "[17]\tvalidation_0-merror:0.06765\tvalidation_0-mlogloss:0.20597\tvalidation_1-merror:0.08460\tvalidation_1-mlogloss:0.23974\n",
      "[18]\tvalidation_0-merror:0.06559\tvalidation_0-mlogloss:0.20018\tvalidation_1-merror:0.08384\tvalidation_1-mlogloss:0.23618\n",
      "[19]\tvalidation_0-merror:0.06464\tvalidation_0-mlogloss:0.19572\tvalidation_1-merror:0.08308\tvalidation_1-mlogloss:0.23255\n",
      "[20]\tvalidation_0-merror:0.06357\tvalidation_0-mlogloss:0.19146\tvalidation_1-merror:0.08156\tvalidation_1-mlogloss:0.22795\n",
      "[21]\tvalidation_0-merror:0.06228\tvalidation_0-mlogloss:0.18750\tvalidation_1-merror:0.08003\tvalidation_1-mlogloss:0.22517\n",
      "[22]\tvalidation_0-merror:0.06102\tvalidation_0-mlogloss:0.18367\tvalidation_1-merror:0.08079\tvalidation_1-mlogloss:0.22265\n",
      "[23]\tvalidation_0-merror:0.06022\tvalidation_0-mlogloss:0.18030\tvalidation_1-merror:0.07927\tvalidation_1-mlogloss:0.22173\n",
      "[24]\tvalidation_0-merror:0.05885\tvalidation_0-mlogloss:0.17741\tvalidation_1-merror:0.08003\tvalidation_1-mlogloss:0.21979\n",
      "[25]\tvalidation_0-merror:0.05827\tvalidation_0-mlogloss:0.17462\tvalidation_1-merror:0.07851\tvalidation_1-mlogloss:0.21882\n",
      "[26]\tvalidation_0-merror:0.05721\tvalidation_0-mlogloss:0.17217\tvalidation_1-merror:0.07698\tvalidation_1-mlogloss:0.21782\n",
      "[27]\tvalidation_0-merror:0.05667\tvalidation_0-mlogloss:0.16947\tvalidation_1-merror:0.07774\tvalidation_1-mlogloss:0.21712\n",
      "[28]\tvalidation_0-merror:0.05526\tvalidation_0-mlogloss:0.16679\tvalidation_1-merror:0.07698\tvalidation_1-mlogloss:0.21601\n",
      "[29]\tvalidation_0-merror:0.05484\tvalidation_0-mlogloss:0.16494\tvalidation_1-merror:0.07698\tvalidation_1-mlogloss:0.21480\n",
      "[30]\tvalidation_0-merror:0.05435\tvalidation_0-mlogloss:0.16280\tvalidation_1-merror:0.07622\tvalidation_1-mlogloss:0.21312\n",
      "[31]\tvalidation_0-merror:0.05351\tvalidation_0-mlogloss:0.16024\tvalidation_1-merror:0.07546\tvalidation_1-mlogloss:0.21156\n",
      "[32]\tvalidation_0-merror:0.05248\tvalidation_0-mlogloss:0.15830\tvalidation_1-merror:0.07546\tvalidation_1-mlogloss:0.21105\n",
      "[33]\tvalidation_0-merror:0.05191\tvalidation_0-mlogloss:0.15650\tvalidation_1-merror:0.07546\tvalidation_1-mlogloss:0.21085\n",
      "[34]\tvalidation_0-merror:0.05172\tvalidation_0-mlogloss:0.15520\tvalidation_1-merror:0.07546\tvalidation_1-mlogloss:0.21026\n",
      "[35]\tvalidation_0-merror:0.05073\tvalidation_0-mlogloss:0.15309\tvalidation_1-merror:0.07546\tvalidation_1-mlogloss:0.20974\n",
      "[36]\tvalidation_0-merror:0.04955\tvalidation_0-mlogloss:0.15123\tvalidation_1-merror:0.07546\tvalidation_1-mlogloss:0.20947\n",
      "[37]\tvalidation_0-merror:0.04917\tvalidation_0-mlogloss:0.14932\tvalidation_1-merror:0.07469\tvalidation_1-mlogloss:0.20892\n",
      "[38]\tvalidation_0-merror:0.04821\tvalidation_0-mlogloss:0.14691\tvalidation_1-merror:0.07469\tvalidation_1-mlogloss:0.20755\n",
      "[39]\tvalidation_0-merror:0.04787\tvalidation_0-mlogloss:0.14471\tvalidation_1-merror:0.07393\tvalidation_1-mlogloss:0.20606\n",
      "[40]\tvalidation_0-merror:0.04684\tvalidation_0-mlogloss:0.14269\tvalidation_1-merror:0.07622\tvalidation_1-mlogloss:0.20513\n",
      "[41]\tvalidation_0-merror:0.04585\tvalidation_0-mlogloss:0.14110\tvalidation_1-merror:0.07469\tvalidation_1-mlogloss:0.20437\n",
      "[42]\tvalidation_0-merror:0.04535\tvalidation_0-mlogloss:0.13948\tvalidation_1-merror:0.07469\tvalidation_1-mlogloss:0.20319\n",
      "[43]\tvalidation_0-merror:0.04459\tvalidation_0-mlogloss:0.13745\tvalidation_1-merror:0.07317\tvalidation_1-mlogloss:0.20280\n",
      "[44]\tvalidation_0-merror:0.04440\tvalidation_0-mlogloss:0.13620\tvalidation_1-merror:0.07393\tvalidation_1-mlogloss:0.20261\n",
      "[45]\tvalidation_0-merror:0.04368\tvalidation_0-mlogloss:0.13530\tvalidation_1-merror:0.07317\tvalidation_1-mlogloss:0.20271\n",
      "[46]\tvalidation_0-merror:0.04299\tvalidation_0-mlogloss:0.13368\tvalidation_1-merror:0.07317\tvalidation_1-mlogloss:0.20210\n",
      "[47]\tvalidation_0-merror:0.04246\tvalidation_0-mlogloss:0.13210\tvalidation_1-merror:0.07469\tvalidation_1-mlogloss:0.20204\n",
      "[48]\tvalidation_0-merror:0.04204\tvalidation_0-mlogloss:0.13065\tvalidation_1-merror:0.07393\tvalidation_1-mlogloss:0.20137\n",
      "[49]\tvalidation_0-merror:0.04120\tvalidation_0-mlogloss:0.12888\tvalidation_1-merror:0.07241\tvalidation_1-mlogloss:0.20120\n",
      "[50]\tvalidation_0-merror:0.04086\tvalidation_0-mlogloss:0.12809\tvalidation_1-merror:0.07317\tvalidation_1-mlogloss:0.20088\n",
      "[51]\tvalidation_0-merror:0.04017\tvalidation_0-mlogloss:0.12642\tvalidation_1-merror:0.07241\tvalidation_1-mlogloss:0.20033\n",
      "[52]\tvalidation_0-merror:0.03975\tvalidation_0-mlogloss:0.12538\tvalidation_1-merror:0.07165\tvalidation_1-mlogloss:0.20045\n",
      "[53]\tvalidation_0-merror:0.03937\tvalidation_0-mlogloss:0.12424\tvalidation_1-merror:0.07393\tvalidation_1-mlogloss:0.20021\n",
      "[54]\tvalidation_0-merror:0.03891\tvalidation_0-mlogloss:0.12307\tvalidation_1-merror:0.07241\tvalidation_1-mlogloss:0.20004\n",
      "[55]\tvalidation_0-merror:0.03811\tvalidation_0-mlogloss:0.12132\tvalidation_1-merror:0.07012\tvalidation_1-mlogloss:0.19886\n",
      "[56]\tvalidation_0-merror:0.03746\tvalidation_0-mlogloss:0.11962\tvalidation_1-merror:0.07088\tvalidation_1-mlogloss:0.19842\n",
      "[57]\tvalidation_0-merror:0.03708\tvalidation_0-mlogloss:0.11856\tvalidation_1-merror:0.06936\tvalidation_1-mlogloss:0.19786\n",
      "[58]\tvalidation_0-merror:0.03628\tvalidation_0-mlogloss:0.11735\tvalidation_1-merror:0.07012\tvalidation_1-mlogloss:0.19795\n",
      "[59]\tvalidation_0-merror:0.03571\tvalidation_0-mlogloss:0.11648\tvalidation_1-merror:0.07088\tvalidation_1-mlogloss:0.19797\n",
      "[60]\tvalidation_0-merror:0.03529\tvalidation_0-mlogloss:0.11571\tvalidation_1-merror:0.07012\tvalidation_1-mlogloss:0.19783\n",
      "[61]\tvalidation_0-merror:0.03487\tvalidation_0-mlogloss:0.11485\tvalidation_1-merror:0.07012\tvalidation_1-mlogloss:0.19798\n",
      "[62]\tvalidation_0-merror:0.03468\tvalidation_0-mlogloss:0.11387\tvalidation_1-merror:0.07012\tvalidation_1-mlogloss:0.19850\n",
      "[63]\tvalidation_0-merror:0.03438\tvalidation_0-mlogloss:0.11281\tvalidation_1-merror:0.07012\tvalidation_1-mlogloss:0.19865\n",
      "[64]\tvalidation_0-merror:0.03361\tvalidation_0-mlogloss:0.11158\tvalidation_1-merror:0.07012\tvalidation_1-mlogloss:0.19826\n"
     ]
    },
    {
     "data": {
      "text/html": [
       "<style>#sk-container-id-7 {color: black;background-color: white;}#sk-container-id-7 pre{padding: 0;}#sk-container-id-7 div.sk-toggleable {background-color: white;}#sk-container-id-7 label.sk-toggleable__label {cursor: pointer;display: block;width: 100%;margin-bottom: 0;padding: 0.3em;box-sizing: border-box;text-align: center;}#sk-container-id-7 label.sk-toggleable__label-arrow:before {content: \"▸\";float: left;margin-right: 0.25em;color: #696969;}#sk-container-id-7 label.sk-toggleable__label-arrow:hover:before {color: black;}#sk-container-id-7 div.sk-estimator:hover label.sk-toggleable__label-arrow:before {color: black;}#sk-container-id-7 div.sk-toggleable__content {max-height: 0;max-width: 0;overflow: hidden;text-align: left;background-color: #f0f8ff;}#sk-container-id-7 div.sk-toggleable__content pre {margin: 0.2em;color: black;border-radius: 0.25em;background-color: #f0f8ff;}#sk-container-id-7 input.sk-toggleable__control:checked~div.sk-toggleable__content {max-height: 200px;max-width: 100%;overflow: auto;}#sk-container-id-7 input.sk-toggleable__control:checked~label.sk-toggleable__label-arrow:before {content: \"▾\";}#sk-container-id-7 div.sk-estimator input.sk-toggleable__control:checked~label.sk-toggleable__label {background-color: #d4ebff;}#sk-container-id-7 div.sk-label input.sk-toggleable__control:checked~label.sk-toggleable__label {background-color: #d4ebff;}#sk-container-id-7 input.sk-hidden--visually {border: 0;clip: rect(1px 1px 1px 1px);clip: rect(1px, 1px, 1px, 1px);height: 1px;margin: -1px;overflow: hidden;padding: 0;position: absolute;width: 1px;}#sk-container-id-7 div.sk-estimator {font-family: monospace;background-color: #f0f8ff;border: 1px dotted black;border-radius: 0.25em;box-sizing: border-box;margin-bottom: 0.5em;}#sk-container-id-7 div.sk-estimator:hover {background-color: #d4ebff;}#sk-container-id-7 div.sk-parallel-item::after {content: \"\";width: 100%;border-bottom: 1px solid gray;flex-grow: 1;}#sk-container-id-7 div.sk-label:hover label.sk-toggleable__label {background-color: #d4ebff;}#sk-container-id-7 div.sk-serial::before {content: \"\";position: absolute;border-left: 1px solid gray;box-sizing: border-box;top: 0;bottom: 0;left: 50%;z-index: 0;}#sk-container-id-7 div.sk-serial {display: flex;flex-direction: column;align-items: center;background-color: white;padding-right: 0.2em;padding-left: 0.2em;position: relative;}#sk-container-id-7 div.sk-item {position: relative;z-index: 1;}#sk-container-id-7 div.sk-parallel {display: flex;align-items: stretch;justify-content: center;background-color: white;position: relative;}#sk-container-id-7 div.sk-item::before, #sk-container-id-7 div.sk-parallel-item::before {content: \"\";position: absolute;border-left: 1px solid gray;box-sizing: border-box;top: 0;bottom: 0;left: 50%;z-index: -1;}#sk-container-id-7 div.sk-parallel-item {display: flex;flex-direction: column;z-index: 1;position: relative;background-color: white;}#sk-container-id-7 div.sk-parallel-item:first-child::after {align-self: flex-end;width: 50%;}#sk-container-id-7 div.sk-parallel-item:last-child::after {align-self: flex-start;width: 50%;}#sk-container-id-7 div.sk-parallel-item:only-child::after {width: 0;}#sk-container-id-7 div.sk-dashed-wrapped {border: 1px dashed gray;margin: 0 0.4em 0.5em 0.4em;box-sizing: border-box;padding-bottom: 0.4em;background-color: white;}#sk-container-id-7 div.sk-label label {font-family: monospace;font-weight: bold;display: inline-block;line-height: 1.2em;}#sk-container-id-7 div.sk-label-container {text-align: center;}#sk-container-id-7 div.sk-container {/* jupyter's `normalize.less` sets `[hidden] { display: none; }` but bootstrap.min.css set `[hidden] { display: none !important; }` so we also need the `!important` here to be able to override the default hidden behavior on the sphinx rendered scikit-learn.org. See: https://github.com/scikit-learn/scikit-learn/issues/21755 */display: inline-block !important;position: relative;}#sk-container-id-7 div.sk-text-repr-fallback {display: none;}</style><div id=\"sk-container-id-7\" class=\"sk-top-container\"><div class=\"sk-text-repr-fallback\"><pre>XGBClassifier(base_score=0.5, booster=&#x27;gbtree&#x27;, colsample_bylevel=1,\n",
       "              colsample_bynode=1, colsample_bytree=1,\n",
       "              eval_metric=[&#x27;merror&#x27;, &#x27;mlogloss&#x27;], gamma=0, gpu_id=-1,\n",
       "              importance_type=&#x27;gain&#x27;, interaction_constraints=&#x27;&#x27;,\n",
       "              learning_rate=0.3, max_delta_step=0, max_depth=5,\n",
       "              min_child_weight=1, missing=nan, monotone_constraints=&#x27;()&#x27;,\n",
       "              n_estimators=100000, n_jobs=8, nthread=8, num_parallel_tree=1,\n",
       "              objective=&#x27;multi:softprob&#x27;, random_state=42, reg_alpha=0,\n",
       "              reg_lambda=1, scale_pos_weight=None, subsample=1,\n",
       "              tree_method=&#x27;hist&#x27;, use_label_encoder=False,\n",
       "              validate_parameters=1, verbosity=None)</pre><b>In a Jupyter environment, please rerun this cell to show the HTML representation or trust the notebook. <br />On GitHub, the HTML representation is unable to render, please try loading this page with nbviewer.org.</b></div><div class=\"sk-container\" hidden><div class=\"sk-item\"><div class=\"sk-estimator sk-toggleable\"><input class=\"sk-toggleable__control sk-hidden--visually\" id=\"sk-estimator-id-7\" type=\"checkbox\" checked><label for=\"sk-estimator-id-7\" class=\"sk-toggleable__label sk-toggleable__label-arrow\">XGBClassifier</label><div class=\"sk-toggleable__content\"><pre>XGBClassifier(base_score=0.5, booster=&#x27;gbtree&#x27;, colsample_bylevel=1,\n",
       "              colsample_bynode=1, colsample_bytree=1,\n",
       "              eval_metric=[&#x27;merror&#x27;, &#x27;mlogloss&#x27;], gamma=0, gpu_id=-1,\n",
       "              importance_type=&#x27;gain&#x27;, interaction_constraints=&#x27;&#x27;,\n",
       "              learning_rate=0.3, max_delta_step=0, max_depth=5,\n",
       "              min_child_weight=1, missing=nan, monotone_constraints=&#x27;()&#x27;,\n",
       "              n_estimators=100000, n_jobs=8, nthread=8, num_parallel_tree=1,\n",
       "              objective=&#x27;multi:softprob&#x27;, random_state=42, reg_alpha=0,\n",
       "              reg_lambda=1, scale_pos_weight=None, subsample=1,\n",
       "              tree_method=&#x27;hist&#x27;, use_label_encoder=False,\n",
       "              validate_parameters=1, verbosity=None)</pre></div></div></div></div></div>"
      ],
      "text/plain": [
       "XGBClassifier(base_score=0.5, booster='gbtree', colsample_bylevel=1,\n",
       "              colsample_bynode=1, colsample_bytree=1,\n",
       "              eval_metric=['merror', 'mlogloss'], gamma=0, gpu_id=-1,\n",
       "              importance_type='gain', interaction_constraints='',\n",
       "              learning_rate=0.3, max_delta_step=0, max_depth=5,\n",
       "              min_child_weight=1, missing=nan, monotone_constraints='()',\n",
       "              n_estimators=100000, n_jobs=8, nthread=8, num_parallel_tree=1,\n",
       "              objective='multi:softprob', random_state=42, reg_alpha=0,\n",
       "              reg_lambda=1, scale_pos_weight=None, subsample=1,\n",
       "              tree_method='hist', use_label_encoder=False,\n",
       "              validate_parameters=1, verbosity=None)"
      ]
     },
     "execution_count": 70,
     "metadata": {},
     "output_type": "execute_result"
    }
   ],
   "source": [
    "model.fit(X_train, y_train['Classification'], verbose=True, eval_set=eval_set, early_stopping_rounds=5)"
   ]
  },
  {
   "cell_type": "code",
   "execution_count": 71,
   "id": "e78d3cbc",
   "metadata": {},
   "outputs": [
    {
     "data": {
      "text/plain": [
       "<matplotlib.legend.Legend at 0x2b4879d382b0>"
      ]
     },
     "execution_count": 71,
     "metadata": {},
     "output_type": "execute_result"
    },
    {
     "data": {
      "image/png": "[encoded data removed]",
      "text/plain": [
       "<Figure size 432x288 with 1 Axes>"
      ]
     },
     "metadata": {
      "needs_background": "light"
     },
     "output_type": "display_data"
    }
   ],
   "source": [
    "hist = model.evals_result()\n",
    "plt.plot(hist['validation_0']['mlogloss'], label='Train')\n",
    "plt.plot(hist['validation_1']['mlogloss'], label='Test')\n",
    "\n",
    "plt.xlabel('Epochs')\n",
    "plt.ylabel('Multiclass logloss')\n",
    "plt.legend()"
   ]
  },
  {
   "cell_type": "code",
   "execution_count": 72,
   "id": "e93abea9",
   "metadata": {},
   "outputs": [
    {
     "name": "stdout",
     "output_type": "stream",
     "text": [
      "              precision    recall  f1-score   support\n",
      "\n",
      "           0     0.9798    0.9421    0.9606      3904\n",
      "           1     0.3191    0.6325    0.4242       166\n",
      "           2     0.9193    0.9092    0.9142      1178\n",
      "\n",
      "    accuracy                         0.9249      5248\n",
      "   macro avg     0.7394    0.8279    0.7663      5248\n",
      "weighted avg     0.9453    0.9249    0.9332      5248\n",
      "\n"
     ]
    }
   ],
   "source": [
    "print(classification_report(model.predict(X_test), y_test['Classification'], digits=4))"
   ]
  },
  {
   "cell_type": "code",
   "execution_count": null,
   "id": "a92ecb37",
   "metadata": {},
   "outputs": [],
   "source": []
  }
 ],
 "metadata": {
  "@webio": {
   "lastCommId": null,
   "lastKernelId": null
  },
  "kernelspec": {
   "display_name": "Anaconda3 - 2021.11",
   "language": "python",
   "name": "python3-2021.11"
  },
  "language_info": {
   "codemirror_mode": {
    "name": "ipython",
    "version": 3
   },
   "file_extension": ".py",
   "mimetype": "text/x-python",
   "name": "python",
   "nbconvert_exporter": "python",
   "pygments_lexer": "ipython3",
   "version": "3.9.7"
  },
  "latex_envs": {
   "LaTeX_envs_menu_present": true,
   "autoclose": false,
   "autocomplete": true,
   "bibliofile": "biblio.bib",
   "cite_by": "apalike",
   "current_citInitial": 1,
   "eqLabelWithNumbers": true,
   "eqNumInitial": 1,
   "hotkeys": {
    "equation": "Ctrl-E",
    "itemize": "Ctrl-I"
   },
   "labels_anchors": false,
   "latex_user_defs": false,
   "report_style_numbering": false,
   "user_envs_cfg": false
  }
 },
 "nbformat": 4,
 "nbformat_minor": 5
}
