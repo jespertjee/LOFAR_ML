{
 "cells": [
  {
   "cell_type": "code",
   "execution_count": 1,
   "id": "1013c3c3",
   "metadata": {},
   "outputs": [
    {
     "name": "stderr",
     "output_type": "stream",
     "text": [
      "C:\\Users\\jespe\\AppData\\Local\\Packages\\PythonSoftwareFoundation.Python.3.9_qbz5n2kfra8p0\\LocalCache\\local-packages\\Python39\\site-packages\\xgboost\\compat.py:31: FutureWarning: pandas.Int64Index is deprecated and will be removed from pandas in a future version. Use pandas.Index with the appropriate dtype instead.\n",
      "  from pandas import MultiIndex, Int64Index\n"
     ]
    }
   ],
   "source": [
    "import pandas as pd\n",
    "import numpy as np\n",
    "from sklearn.impute import SimpleImputer\n",
    "from sklearn.model_selection import train_test_split, GridSearchCV, cross_val_score\n",
    "from sklearn.preprocessing import StandardScaler, OneHotEncoder, LabelEncoder, OrdinalEncoder, MinMaxScaler, RobustScaler, MaxAbsScaler\n",
    "from sklearn.ensemble import RandomForestClassifier\n",
    "from sklearn.metrics import accuracy_score, classification_report\n",
    "from sklearn.decomposition import PCA\n",
    "from sklearn.utils.class_weight import compute_class_weight\n",
    "\n",
    "from sklearn.metrics import confusion_matrix, ConfusionMatrixDisplay\n",
    "import matplotlib.pyplot as plt\n",
    "\n",
    "from xgboost import XGBClassifier, XGBRegressor\n",
    "import xgboost as xgb"
   ]
  },
  {
   "cell_type": "code",
   "execution_count": 2,
   "id": "645f2b22",
   "metadata": {},
   "outputs": [],
   "source": [
    "mightee_data = pd.read_csv(\"../../../Data/MIGHTEE/Classification/final_gaussian_radio.csv\")"
   ]
  },
  {
   "cell_type": "code",
   "execution_count": 3,
   "id": "73d5ab6a",
   "metadata": {},
   "outputs": [
    {
     "name": "stdout",
     "output_type": "stream",
     "text": [
      "Amount of rows: 4370\n"
     ]
    }
   ],
   "source": [
    "# Dropping nan classifications\n",
    "mightee_data = mightee_data[mightee_data['Classification'].notna()]\n",
    "print(\"Amount of rows:\", len(mightee_data))"
   ]
  },
  {
   "cell_type": "code",
   "execution_count": 4,
   "id": "adf74a5e",
   "metadata": {},
   "outputs": [],
   "source": [
    "X = mightee_data[[c for c in mightee_data.columns if c != 'Classification']]\n",
    "y = mightee_data['Classification']"
   ]
  },
  {
   "cell_type": "code",
   "execution_count": 5,
   "id": "5fa43cf7",
   "metadata": {},
   "outputs": [
    {
     "data": {
      "text/plain": [
       "Index(['Unnamed: 0', 'S_INT14', 'Z_BEST', 'S_PEAK14', 'ch1_flux_corr',\n",
       "       'ch2_flux_corr', 'ch3_flux_corr', 'ch4_flux_corr', 'F_MIPS_24',\n",
       "       'F_PACS_100', 'F_PACS_160', 'F_SPIRE_250', 'F_SPIRE_350', 'F_SPIRE_500',\n",
       "       'EBV', 'Ks_flux_corr', 'H_flux_corr', 'J_flux_corr', 'i_flux_corr',\n",
       "       'r_flux_corr', 'u_flux_corr', 'z_flux_corr', 'y_flux_corr',\n",
       "       'NUV_flux_corr', 'FUV_flux_corr', 'Total_flux', 'Peak_flux'],\n",
       "      dtype='object')"
      ]
     },
     "execution_count": 5,
     "metadata": {},
     "output_type": "execute_result"
    }
   ],
   "source": [
    "X.columns"
   ]
  },
  {
   "cell_type": "code",
   "execution_count": 6,
   "id": "63630ca7",
   "metadata": {},
   "outputs": [],
   "source": [
    "X = X[['Z_BEST', 'ch1_flux_corr', 'ch2_flux_corr', 'ch3_flux_corr',\n",
    "       'ch4_flux_corr', 'F_MIPS_24', 'F_PACS_100', 'F_PACS_160',\n",
    "       'F_SPIRE_250', 'F_SPIRE_350', 'F_SPIRE_500', 'Ks_flux_corr',\n",
    "       'H_flux_corr', 'J_flux_corr', 'i_flux_corr', 'r_flux_corr',\n",
    "       'u_flux_corr', 'z_flux_corr', 'y_flux_corr', 'NUV_flux_corr',\n",
    "       'FUV_flux_corr', 'Total_flux', 'Peak_flux', 'S_INT14', 'S_PEAK14']]"
   ]
  },
  {
   "cell_type": "code",
   "execution_count": 7,
   "id": "77d73f06",
   "metadata": {},
   "outputs": [],
   "source": [
    "le = LabelEncoder()\n",
    "labels = np.unique(y.astype(str))\n",
    "y = le.fit_transform(y)"
   ]
  },
  {
   "cell_type": "code",
   "execution_count": 8,
   "id": "4db91053",
   "metadata": {},
   "outputs": [],
   "source": [
    "X_train, X_test, y_train, y_test = train_test_split(X, y, train_size=0.8, stratify=y, random_state=42)"
   ]
  },
  {
   "cell_type": "code",
   "execution_count": 9,
   "id": "9de6140c",
   "metadata": {},
   "outputs": [
    {
     "data": {
      "text/plain": [
       "Index(['Z_BEST', 'ch1_flux_corr', 'ch2_flux_corr', 'ch3_flux_corr',\n",
       "       'ch4_flux_corr', 'F_MIPS_24', 'F_PACS_100', 'F_PACS_160', 'F_SPIRE_250',\n",
       "       'F_SPIRE_350', 'F_SPIRE_500', 'Ks_flux_corr', 'H_flux_corr',\n",
       "       'J_flux_corr', 'i_flux_corr', 'r_flux_corr', 'u_flux_corr',\n",
       "       'z_flux_corr', 'y_flux_corr', 'NUV_flux_corr', 'FUV_flux_corr',\n",
       "       'Total_flux', 'Peak_flux', 'S_INT14', 'S_PEAK14'],\n",
       "      dtype='object')"
      ]
     },
     "execution_count": 9,
     "metadata": {},
     "output_type": "execute_result"
    }
   ],
   "source": [
    "X_train.columns"
   ]
  },
  {
   "cell_type": "code",
   "execution_count": 249,
   "id": "276468c4",
   "metadata": {},
   "outputs": [],
   "source": [
    "from flaml import AutoML\n",
    "automl = AutoML()"
   ]
  },
  {
   "cell_type": "code",
   "execution_count": 251,
   "id": "464c5b07",
   "metadata": {
    "scrolled": true
   },
   "outputs": [
    {
     "name": "stderr",
     "output_type": "stream",
     "text": [
      "[flaml.automl: 10-18 13:41:16] {2390} INFO - task = classification\n",
      "[flaml.automl: 10-18 13:41:16] {2392} INFO - Data split method: stratified\n",
      "[flaml.automl: 10-18 13:41:16] {2396} INFO - Evaluation method: cv\n",
      "[flaml.automl: 10-18 13:41:16] {2465} INFO - Minimizing error metric: 1-accuracy\n",
      "[flaml.automl: 10-18 13:41:16] {2605} INFO - List of ML learners in AutoML Run: ['extra_tree']\n",
      "[flaml.automl: 10-18 13:41:16] {2897} INFO - iteration 0, current learner extra_tree\n",
      "[flaml.automl: 10-18 13:41:16] {3025} INFO - Estimated sufficient time budget=961s. Estimated necessary time budget=1s.\n",
      "[flaml.automl: 10-18 13:41:16] {3072} INFO -  at 0.1s,\testimator extra_tree's best error=0.4701,\tbest estimator extra_tree's best error=0.4701\n",
      "[flaml.automl: 10-18 13:41:16] {2897} INFO - iteration 1, current learner extra_tree\n",
      "[flaml.automl: 10-18 13:41:16] {3072} INFO -  at 0.3s,\testimator extra_tree's best error=0.3919,\tbest estimator extra_tree's best error=0.3919\n",
      "[flaml.automl: 10-18 13:41:16] {2897} INFO - iteration 2, current learner extra_tree\n",
      "[flaml.automl: 10-18 13:41:16] {3072} INFO -  at 0.4s,\testimator extra_tree's best error=0.3919,\tbest estimator extra_tree's best error=0.3919\n",
      "[flaml.automl: 10-18 13:41:16] {2897} INFO - iteration 3, current learner extra_tree\n",
      "[flaml.automl: 10-18 13:41:16] {3072} INFO -  at 0.6s,\testimator extra_tree's best error=0.3919,\tbest estimator extra_tree's best error=0.3919\n",
      "[flaml.automl: 10-18 13:41:16] {2897} INFO - iteration 4, current learner extra_tree\n",
      "[flaml.automl: 10-18 13:41:16] {3072} INFO -  at 0.7s,\testimator extra_tree's best error=0.3663,\tbest estimator extra_tree's best error=0.3663\n",
      "[flaml.automl: 10-18 13:41:16] {2897} INFO - iteration 5, current learner extra_tree\n",
      "[flaml.automl: 10-18 13:41:16] {3072} INFO -  at 0.9s,\testimator extra_tree's best error=0.3464,\tbest estimator extra_tree's best error=0.3464\n",
      "[flaml.automl: 10-18 13:41:16] {2897} INFO - iteration 6, current learner extra_tree\n",
      "[flaml.automl: 10-18 13:41:17] {3072} INFO -  at 1.0s,\testimator extra_tree's best error=0.3464,\tbest estimator extra_tree's best error=0.3464\n",
      "[flaml.automl: 10-18 13:41:17] {2897} INFO - iteration 7, current learner extra_tree\n",
      "[flaml.automl: 10-18 13:41:17] {3072} INFO -  at 1.2s,\testimator extra_tree's best error=0.3392,\tbest estimator extra_tree's best error=0.3392\n",
      "[flaml.automl: 10-18 13:41:17] {2897} INFO - iteration 8, current learner extra_tree\n",
      "[flaml.automl: 10-18 13:41:17] {3072} INFO -  at 1.4s,\testimator extra_tree's best error=0.3392,\tbest estimator extra_tree's best error=0.3392\n",
      "[flaml.automl: 10-18 13:41:17] {2897} INFO - iteration 9, current learner extra_tree\n",
      "[flaml.automl: 10-18 13:41:17] {3072} INFO -  at 1.6s,\testimator extra_tree's best error=0.3392,\tbest estimator extra_tree's best error=0.3392\n",
      "[flaml.automl: 10-18 13:41:17] {2897} INFO - iteration 10, current learner extra_tree\n",
      "[flaml.automl: 10-18 13:41:17] {3072} INFO -  at 1.8s,\testimator extra_tree's best error=0.2778,\tbest estimator extra_tree's best error=0.2778\n",
      "[flaml.automl: 10-18 13:41:17] {2897} INFO - iteration 11, current learner extra_tree\n",
      "[flaml.automl: 10-18 13:41:18] {3072} INFO -  at 2.0s,\testimator extra_tree's best error=0.2778,\tbest estimator extra_tree's best error=0.2778\n",
      "[flaml.automl: 10-18 13:41:18] {2897} INFO - iteration 12, current learner extra_tree\n",
      "[flaml.automl: 10-18 13:41:18] {3072} INFO -  at 2.2s,\testimator extra_tree's best error=0.2642,\tbest estimator extra_tree's best error=0.2642\n",
      "[flaml.automl: 10-18 13:41:18] {2897} INFO - iteration 13, current learner extra_tree\n",
      "[flaml.automl: 10-18 13:41:18] {3072} INFO -  at 2.4s,\testimator extra_tree's best error=0.2378,\tbest estimator extra_tree's best error=0.2378\n",
      "[flaml.automl: 10-18 13:41:18] {2897} INFO - iteration 14, current learner extra_tree\n",
      "[flaml.automl: 10-18 13:41:18] {3072} INFO -  at 2.7s,\testimator extra_tree's best error=0.2378,\tbest estimator extra_tree's best error=0.2378\n",
      "[flaml.automl: 10-18 13:41:18] {2897} INFO - iteration 15, current learner extra_tree\n",
      "[flaml.automl: 10-18 13:41:18] {3072} INFO -  at 2.9s,\testimator extra_tree's best error=0.2306,\tbest estimator extra_tree's best error=0.2306\n",
      "[flaml.automl: 10-18 13:41:18] {2897} INFO - iteration 16, current learner extra_tree\n",
      "[flaml.automl: 10-18 13:41:19] {3072} INFO -  at 3.0s,\testimator extra_tree's best error=0.2306,\tbest estimator extra_tree's best error=0.2306\n",
      "[flaml.automl: 10-18 13:41:19] {2897} INFO - iteration 17, current learner extra_tree\n",
      "[flaml.automl: 10-18 13:41:19] {3072} INFO -  at 3.2s,\testimator extra_tree's best error=0.2306,\tbest estimator extra_tree's best error=0.2306\n",
      "[flaml.automl: 10-18 13:41:19] {2897} INFO - iteration 18, current learner extra_tree\n",
      "[flaml.automl: 10-18 13:41:19] {3072} INFO -  at 3.5s,\testimator extra_tree's best error=0.2155,\tbest estimator extra_tree's best error=0.2155\n",
      "[flaml.automl: 10-18 13:41:19] {2897} INFO - iteration 19, current learner extra_tree\n",
      "[flaml.automl: 10-18 13:41:19] {3072} INFO -  at 3.8s,\testimator extra_tree's best error=0.2067,\tbest estimator extra_tree's best error=0.2067\n",
      "[flaml.automl: 10-18 13:41:19] {2897} INFO - iteration 20, current learner extra_tree\n",
      "[flaml.automl: 10-18 13:41:20] {3072} INFO -  at 4.0s,\testimator extra_tree's best error=0.2067,\tbest estimator extra_tree's best error=0.2067\n",
      "[flaml.automl: 10-18 13:41:20] {2897} INFO - iteration 21, current learner extra_tree\n",
      "[flaml.automl: 10-18 13:41:20] {3072} INFO -  at 4.2s,\testimator extra_tree's best error=0.2067,\tbest estimator extra_tree's best error=0.2067\n",
      "[flaml.automl: 10-18 13:41:20] {2897} INFO - iteration 22, current learner extra_tree\n",
      "[flaml.automl: 10-18 13:41:20] {3072} INFO -  at 4.5s,\testimator extra_tree's best error=0.2067,\tbest estimator extra_tree's best error=0.2067\n",
      "[flaml.automl: 10-18 13:41:20] {2897} INFO - iteration 23, current learner extra_tree\n",
      "[flaml.automl: 10-18 13:41:20] {3072} INFO -  at 4.9s,\testimator extra_tree's best error=0.2035,\tbest estimator extra_tree's best error=0.2035\n",
      "[flaml.automl: 10-18 13:41:20] {2897} INFO - iteration 24, current learner extra_tree\n",
      "[flaml.automl: 10-18 13:41:21] {3072} INFO -  at 5.1s,\testimator extra_tree's best error=0.2035,\tbest estimator extra_tree's best error=0.2035\n",
      "[flaml.automl: 10-18 13:41:21] {2897} INFO - iteration 25, current learner extra_tree\n",
      "[flaml.automl: 10-18 13:41:21] {3072} INFO -  at 5.5s,\testimator extra_tree's best error=0.2035,\tbest estimator extra_tree's best error=0.2035\n",
      "[flaml.automl: 10-18 13:41:21] {2897} INFO - iteration 26, current learner extra_tree\n",
      "[flaml.automl: 10-18 13:41:21] {3072} INFO -  at 5.9s,\testimator extra_tree's best error=0.2035,\tbest estimator extra_tree's best error=0.2035\n",
      "[flaml.automl: 10-18 13:41:21] {2897} INFO - iteration 27, current learner extra_tree\n",
      "[flaml.automl: 10-18 13:41:22] {3072} INFO -  at 6.3s,\testimator extra_tree's best error=0.2035,\tbest estimator extra_tree's best error=0.2035\n",
      "[flaml.automl: 10-18 13:41:22] {2897} INFO - iteration 28, current learner extra_tree\n",
      "[flaml.automl: 10-18 13:41:22] {3072} INFO -  at 6.6s,\testimator extra_tree's best error=0.2035,\tbest estimator extra_tree's best error=0.2035\n",
      "[flaml.automl: 10-18 13:41:22] {2897} INFO - iteration 29, current learner extra_tree\n",
      "[flaml.automl: 10-18 13:41:23] {3072} INFO -  at 7.0s,\testimator extra_tree's best error=0.2035,\tbest estimator extra_tree's best error=0.2035\n",
      "[flaml.automl: 10-18 13:41:23] {2897} INFO - iteration 30, current learner extra_tree\n",
      "[flaml.automl: 10-18 13:41:23] {3072} INFO -  at 7.4s,\testimator extra_tree's best error=0.2035,\tbest estimator extra_tree's best error=0.2035\n",
      "[flaml.automl: 10-18 13:41:23] {2897} INFO - iteration 31, current learner extra_tree\n",
      "[flaml.automl: 10-18 13:41:23] {3072} INFO -  at 7.9s,\testimator extra_tree's best error=0.2035,\tbest estimator extra_tree's best error=0.2035\n",
      "[flaml.automl: 10-18 13:41:23] {2897} INFO - iteration 32, current learner extra_tree\n",
      "[flaml.automl: 10-18 13:41:24] {3072} INFO -  at 8.2s,\testimator extra_tree's best error=0.2035,\tbest estimator extra_tree's best error=0.2035\n",
      "[flaml.automl: 10-18 13:41:24] {2897} INFO - iteration 33, current learner extra_tree\n",
      "[flaml.automl: 10-18 13:41:24] {3072} INFO -  at 8.5s,\testimator extra_tree's best error=0.2035,\tbest estimator extra_tree's best error=0.2035\n"
     ]
    },
    {
     "name": "stderr",
     "output_type": "stream",
     "text": [
      "[flaml.automl: 10-18 13:41:24] {2897} INFO - iteration 34, current learner extra_tree\n",
      "[flaml.automl: 10-18 13:41:24] {3072} INFO -  at 8.9s,\testimator extra_tree's best error=0.1995,\tbest estimator extra_tree's best error=0.1995\n",
      "[flaml.automl: 10-18 13:41:24] {2897} INFO - iteration 35, current learner extra_tree\n",
      "[flaml.automl: 10-18 13:41:25] {3072} INFO -  at 9.9s,\testimator extra_tree's best error=0.1995,\tbest estimator extra_tree's best error=0.1995\n",
      "[flaml.automl: 10-18 13:41:25] {2897} INFO - iteration 36, current learner extra_tree\n",
      "[flaml.automl: 10-18 13:41:26] {3072} INFO -  at 10.1s,\testimator extra_tree's best error=0.1995,\tbest estimator extra_tree's best error=0.1995\n",
      "[flaml.automl: 10-18 13:41:26] {2897} INFO - iteration 37, current learner extra_tree\n",
      "[flaml.automl: 10-18 13:41:26] {3072} INFO -  at 10.4s,\testimator extra_tree's best error=0.1995,\tbest estimator extra_tree's best error=0.1995\n",
      "[flaml.automl: 10-18 13:41:26] {2897} INFO - iteration 38, current learner extra_tree\n",
      "[flaml.automl: 10-18 13:41:27] {3072} INFO -  at 11.1s,\testimator extra_tree's best error=0.1995,\tbest estimator extra_tree's best error=0.1995\n",
      "[flaml.automl: 10-18 13:41:27] {2897} INFO - iteration 39, current learner extra_tree\n",
      "[flaml.automl: 10-18 13:41:27] {3072} INFO -  at 11.8s,\testimator extra_tree's best error=0.1995,\tbest estimator extra_tree's best error=0.1995\n",
      "[flaml.automl: 10-18 13:41:27] {2897} INFO - iteration 40, current learner extra_tree\n",
      "[flaml.automl: 10-18 13:41:28] {3072} INFO -  at 12.1s,\testimator extra_tree's best error=0.1995,\tbest estimator extra_tree's best error=0.1995\n",
      "[flaml.automl: 10-18 13:41:28] {2897} INFO - iteration 41, current learner extra_tree\n",
      "[flaml.automl: 10-18 13:41:28] {3072} INFO -  at 12.7s,\testimator extra_tree's best error=0.1995,\tbest estimator extra_tree's best error=0.1995\n",
      "[flaml.automl: 10-18 13:41:28] {2897} INFO - iteration 42, current learner extra_tree\n",
      "[flaml.automl: 10-18 13:41:29] {3072} INFO -  at 13.1s,\testimator extra_tree's best error=0.1995,\tbest estimator extra_tree's best error=0.1995\n",
      "[flaml.automl: 10-18 13:41:29] {2897} INFO - iteration 43, current learner extra_tree\n",
      "[flaml.automl: 10-18 13:41:30] {3072} INFO -  at 14.8s,\testimator extra_tree's best error=0.1995,\tbest estimator extra_tree's best error=0.1995\n",
      "[flaml.automl: 10-18 13:41:30] {2897} INFO - iteration 44, current learner extra_tree\n",
      "[flaml.automl: 10-18 13:41:31] {3072} INFO -  at 15.1s,\testimator extra_tree's best error=0.1995,\tbest estimator extra_tree's best error=0.1995\n",
      "[flaml.automl: 10-18 13:41:31] {2897} INFO - iteration 45, current learner extra_tree\n",
      "[flaml.automl: 10-18 13:41:31] {3072} INFO -  at 15.5s,\testimator extra_tree's best error=0.1995,\tbest estimator extra_tree's best error=0.1995\n",
      "[flaml.automl: 10-18 13:41:31] {2897} INFO - iteration 46, current learner extra_tree\n",
      "[flaml.automl: 10-18 13:41:31] {3072} INFO -  at 15.9s,\testimator extra_tree's best error=0.1995,\tbest estimator extra_tree's best error=0.1995\n",
      "[flaml.automl: 10-18 13:41:31] {2897} INFO - iteration 47, current learner extra_tree\n",
      "[flaml.automl: 10-18 13:41:32] {3072} INFO -  at 16.3s,\testimator extra_tree's best error=0.1995,\tbest estimator extra_tree's best error=0.1995\n",
      "[flaml.automl: 10-18 13:41:32] {2897} INFO - iteration 48, current learner extra_tree\n",
      "[flaml.automl: 10-18 13:41:32] {3072} INFO -  at 16.8s,\testimator extra_tree's best error=0.1995,\tbest estimator extra_tree's best error=0.1995\n",
      "[flaml.automl: 10-18 13:41:32] {2897} INFO - iteration 49, current learner extra_tree\n",
      "[flaml.automl: 10-18 13:41:33] {3072} INFO -  at 17.2s,\testimator extra_tree's best error=0.1995,\tbest estimator extra_tree's best error=0.1995\n",
      "[flaml.automl: 10-18 13:41:33] {2897} INFO - iteration 50, current learner extra_tree\n",
      "[flaml.automl: 10-18 13:41:33] {3072} INFO -  at 17.7s,\testimator extra_tree's best error=0.1995,\tbest estimator extra_tree's best error=0.1995\n",
      "[flaml.automl: 10-18 13:41:33] {2897} INFO - iteration 51, current learner extra_tree\n",
      "[flaml.automl: 10-18 13:41:34] {3072} INFO -  at 18.4s,\testimator extra_tree's best error=0.1995,\tbest estimator extra_tree's best error=0.1995\n",
      "[flaml.automl: 10-18 13:41:34] {2897} INFO - iteration 52, current learner extra_tree\n",
      "[flaml.automl: 10-18 13:41:34] {3072} INFO -  at 18.7s,\testimator extra_tree's best error=0.1995,\tbest estimator extra_tree's best error=0.1995\n",
      "[flaml.automl: 10-18 13:41:34] {2897} INFO - iteration 53, current learner extra_tree\n",
      "[flaml.automl: 10-18 13:41:35] {3072} INFO -  at 19.3s,\testimator extra_tree's best error=0.1995,\tbest estimator extra_tree's best error=0.1995\n",
      "[flaml.automl: 10-18 13:41:35] {2897} INFO - iteration 54, current learner extra_tree\n",
      "[flaml.automl: 10-18 13:41:35] {3072} INFO -  at 19.7s,\testimator extra_tree's best error=0.1995,\tbest estimator extra_tree's best error=0.1995\n",
      "[flaml.automl: 10-18 13:41:35] {2897} INFO - iteration 55, current learner extra_tree\n",
      "[flaml.automl: 10-18 13:41:36] {3072} INFO -  at 20.0s,\testimator extra_tree's best error=0.1995,\tbest estimator extra_tree's best error=0.1995\n",
      "[flaml.automl: 10-18 13:41:36] {2897} INFO - iteration 56, current learner extra_tree\n",
      "[flaml.automl: 10-18 13:41:36] {3072} INFO -  at 20.4s,\testimator extra_tree's best error=0.1995,\tbest estimator extra_tree's best error=0.1995\n",
      "[flaml.automl: 10-18 13:41:36] {2897} INFO - iteration 57, current learner extra_tree\n",
      "[flaml.automl: 10-18 13:41:36] {3072} INFO -  at 20.8s,\testimator extra_tree's best error=0.1995,\tbest estimator extra_tree's best error=0.1995\n",
      "[flaml.automl: 10-18 13:41:36] {2897} INFO - iteration 58, current learner extra_tree\n",
      "[flaml.automl: 10-18 13:41:37] {3072} INFO -  at 21.2s,\testimator extra_tree's best error=0.1995,\tbest estimator extra_tree's best error=0.1995\n",
      "[flaml.automl: 10-18 13:41:37] {2897} INFO - iteration 59, current learner extra_tree\n",
      "[flaml.automl: 10-18 13:41:37] {3072} INFO -  at 21.5s,\testimator extra_tree's best error=0.1995,\tbest estimator extra_tree's best error=0.1995\n",
      "[flaml.automl: 10-18 13:41:37] {2897} INFO - iteration 60, current learner extra_tree\n",
      "[flaml.automl: 10-18 13:41:37] {3072} INFO -  at 21.9s,\testimator extra_tree's best error=0.1995,\tbest estimator extra_tree's best error=0.1995\n",
      "[flaml.automl: 10-18 13:41:37] {2897} INFO - iteration 61, current learner extra_tree\n",
      "[flaml.automl: 10-18 13:41:38] {3072} INFO -  at 22.2s,\testimator extra_tree's best error=0.1995,\tbest estimator extra_tree's best error=0.1995\n",
      "[flaml.automl: 10-18 13:41:38] {2897} INFO - iteration 62, current learner extra_tree\n",
      "[flaml.automl: 10-18 13:41:38] {3072} INFO -  at 22.7s,\testimator extra_tree's best error=0.1995,\tbest estimator extra_tree's best error=0.1995\n",
      "[flaml.automl: 10-18 13:41:38] {2897} INFO - iteration 63, current learner extra_tree\n",
      "[flaml.automl: 10-18 13:41:39] {3072} INFO -  at 23.0s,\testimator extra_tree's best error=0.1995,\tbest estimator extra_tree's best error=0.1995\n",
      "[flaml.automl: 10-18 13:41:39] {2897} INFO - iteration 64, current learner extra_tree\n",
      "[flaml.automl: 10-18 13:41:39] {3072} INFO -  at 23.4s,\testimator extra_tree's best error=0.1995,\tbest estimator extra_tree's best error=0.1995\n",
      "[flaml.automl: 10-18 13:41:39] {2897} INFO - iteration 65, current learner extra_tree\n",
      "[flaml.automl: 10-18 13:41:39] {3072} INFO -  at 23.7s,\testimator extra_tree's best error=0.1995,\tbest estimator extra_tree's best error=0.1995\n",
      "[flaml.automl: 10-18 13:41:39] {2897} INFO - iteration 66, current learner extra_tree\n",
      "[flaml.automl: 10-18 13:41:40] {3072} INFO -  at 24.2s,\testimator extra_tree's best error=0.1995,\tbest estimator extra_tree's best error=0.1995\n",
      "[flaml.automl: 10-18 13:41:40] {2897} INFO - iteration 67, current learner extra_tree\n",
      "[flaml.automl: 10-18 13:41:40] {3072} INFO -  at 24.4s,\testimator extra_tree's best error=0.1995,\tbest estimator extra_tree's best error=0.1995\n",
      "[flaml.automl: 10-18 13:41:40] {2897} INFO - iteration 68, current learner extra_tree\n",
      "[flaml.automl: 10-18 13:41:41] {3072} INFO -  at 25.0s,\testimator extra_tree's best error=0.1995,\tbest estimator extra_tree's best error=0.1995\n",
      "[flaml.automl: 10-18 13:41:41] {2897} INFO - iteration 69, current learner extra_tree\n",
      "[flaml.automl: 10-18 13:41:41] {3072} INFO -  at 25.6s,\testimator extra_tree's best error=0.1995,\tbest estimator extra_tree's best error=0.1995\n"
     ]
    },
    {
     "name": "stderr",
     "output_type": "stream",
     "text": [
      "[flaml.automl: 10-18 13:41:41] {2897} INFO - iteration 70, current learner extra_tree\n",
      "[flaml.automl: 10-18 13:41:41] {3072} INFO -  at 25.8s,\testimator extra_tree's best error=0.1995,\tbest estimator extra_tree's best error=0.1995\n",
      "[flaml.automl: 10-18 13:41:41] {2897} INFO - iteration 71, current learner extra_tree\n",
      "[flaml.automl: 10-18 13:41:42] {3072} INFO -  at 26.1s,\testimator extra_tree's best error=0.1995,\tbest estimator extra_tree's best error=0.1995\n",
      "[flaml.automl: 10-18 13:41:42] {2897} INFO - iteration 72, current learner extra_tree\n",
      "[flaml.automl: 10-18 13:41:42] {3072} INFO -  at 26.6s,\testimator extra_tree's best error=0.1995,\tbest estimator extra_tree's best error=0.1995\n",
      "[flaml.automl: 10-18 13:41:42] {2897} INFO - iteration 73, current learner extra_tree\n",
      "[flaml.automl: 10-18 13:41:43] {3072} INFO -  at 27.0s,\testimator extra_tree's best error=0.1995,\tbest estimator extra_tree's best error=0.1995\n",
      "[flaml.automl: 10-18 13:41:43] {2897} INFO - iteration 74, current learner extra_tree\n",
      "[flaml.automl: 10-18 13:41:43] {3072} INFO -  at 27.3s,\testimator extra_tree's best error=0.1995,\tbest estimator extra_tree's best error=0.1995\n",
      "[flaml.automl: 10-18 13:41:43] {2897} INFO - iteration 75, current learner extra_tree\n",
      "[flaml.automl: 10-18 13:41:43] {3072} INFO -  at 27.6s,\testimator extra_tree's best error=0.1995,\tbest estimator extra_tree's best error=0.1995\n",
      "[flaml.automl: 10-18 13:41:43] {2897} INFO - iteration 76, current learner extra_tree\n",
      "[flaml.automl: 10-18 13:41:44] {3072} INFO -  at 28.0s,\testimator extra_tree's best error=0.1995,\tbest estimator extra_tree's best error=0.1995\n",
      "[flaml.automl: 10-18 13:41:44] {2897} INFO - iteration 77, current learner extra_tree\n",
      "[flaml.automl: 10-18 13:41:44] {3072} INFO -  at 28.4s,\testimator extra_tree's best error=0.1995,\tbest estimator extra_tree's best error=0.1995\n",
      "[flaml.automl: 10-18 13:41:44] {2897} INFO - iteration 78, current learner extra_tree\n",
      "[flaml.automl: 10-18 13:41:44] {3072} INFO -  at 28.7s,\testimator extra_tree's best error=0.1995,\tbest estimator extra_tree's best error=0.1995\n",
      "[flaml.automl: 10-18 13:41:44] {2897} INFO - iteration 79, current learner extra_tree\n",
      "[flaml.automl: 10-18 13:41:45] {3072} INFO -  at 29.2s,\testimator extra_tree's best error=0.1995,\tbest estimator extra_tree's best error=0.1995\n",
      "[flaml.automl: 10-18 13:41:45] {2897} INFO - iteration 80, current learner extra_tree\n",
      "[flaml.automl: 10-18 13:41:45] {3072} INFO -  at 29.4s,\testimator extra_tree's best error=0.1995,\tbest estimator extra_tree's best error=0.1995\n",
      "[flaml.automl: 10-18 13:41:45] {2897} INFO - iteration 81, current learner extra_tree\n",
      "[flaml.automl: 10-18 13:41:45] {3072} INFO -  at 29.7s,\testimator extra_tree's best error=0.1995,\tbest estimator extra_tree's best error=0.1995\n",
      "[flaml.automl: 10-18 13:41:45] {2897} INFO - iteration 82, current learner extra_tree\n",
      "[flaml.automl: 10-18 13:41:46] {3072} INFO -  at 30.2s,\testimator extra_tree's best error=0.1995,\tbest estimator extra_tree's best error=0.1995\n",
      "[flaml.automl: 10-18 13:41:46] {2897} INFO - iteration 83, current learner extra_tree\n",
      "[flaml.automl: 10-18 13:41:46] {3072} INFO -  at 30.4s,\testimator extra_tree's best error=0.1995,\tbest estimator extra_tree's best error=0.1995\n",
      "[flaml.automl: 10-18 13:41:46] {2897} INFO - iteration 84, current learner extra_tree\n",
      "[flaml.automl: 10-18 13:41:46] {3072} INFO -  at 30.9s,\testimator extra_tree's best error=0.1995,\tbest estimator extra_tree's best error=0.1995\n",
      "[flaml.automl: 10-18 13:41:46] {2897} INFO - iteration 85, current learner extra_tree\n",
      "[flaml.automl: 10-18 13:41:47] {3072} INFO -  at 31.4s,\testimator extra_tree's best error=0.1995,\tbest estimator extra_tree's best error=0.1995\n",
      "[flaml.automl: 10-18 13:41:47] {2897} INFO - iteration 86, current learner extra_tree\n",
      "[flaml.automl: 10-18 13:41:47] {3072} INFO -  at 31.7s,\testimator extra_tree's best error=0.1995,\tbest estimator extra_tree's best error=0.1995\n",
      "[flaml.automl: 10-18 13:41:47] {2897} INFO - iteration 87, current learner extra_tree\n",
      "[flaml.automl: 10-18 13:41:48] {3072} INFO -  at 32.0s,\testimator extra_tree's best error=0.1995,\tbest estimator extra_tree's best error=0.1995\n",
      "[flaml.automl: 10-18 13:41:48] {2897} INFO - iteration 88, current learner extra_tree\n",
      "[flaml.automl: 10-18 13:41:48] {3072} INFO -  at 32.4s,\testimator extra_tree's best error=0.1995,\tbest estimator extra_tree's best error=0.1995\n",
      "[flaml.automl: 10-18 13:41:48] {2897} INFO - iteration 89, current learner extra_tree\n",
      "[flaml.automl: 10-18 13:41:48] {3072} INFO -  at 32.6s,\testimator extra_tree's best error=0.1995,\tbest estimator extra_tree's best error=0.1995\n",
      "[flaml.automl: 10-18 13:41:48] {2897} INFO - iteration 90, current learner extra_tree\n",
      "[flaml.automl: 10-18 13:41:49] {3072} INFO -  at 33.1s,\testimator extra_tree's best error=0.1995,\tbest estimator extra_tree's best error=0.1995\n",
      "[flaml.automl: 10-18 13:41:49] {2897} INFO - iteration 91, current learner extra_tree\n",
      "[flaml.automl: 10-18 13:41:49] {3072} INFO -  at 33.4s,\testimator extra_tree's best error=0.1995,\tbest estimator extra_tree's best error=0.1995\n",
      "[flaml.automl: 10-18 13:41:49] {2897} INFO - iteration 92, current learner extra_tree\n",
      "[flaml.automl: 10-18 13:41:49] {3072} INFO -  at 33.8s,\testimator extra_tree's best error=0.1995,\tbest estimator extra_tree's best error=0.1995\n",
      "[flaml.automl: 10-18 13:41:49] {2897} INFO - iteration 93, current learner extra_tree\n",
      "[flaml.automl: 10-18 13:41:50] {3072} INFO -  at 34.1s,\testimator extra_tree's best error=0.1995,\tbest estimator extra_tree's best error=0.1995\n",
      "[flaml.automl: 10-18 13:41:50] {2897} INFO - iteration 94, current learner extra_tree\n",
      "[flaml.automl: 10-18 13:41:50] {3072} INFO -  at 34.6s,\testimator extra_tree's best error=0.1995,\tbest estimator extra_tree's best error=0.1995\n",
      "[flaml.automl: 10-18 13:41:50] {2897} INFO - iteration 95, current learner extra_tree\n",
      "[flaml.automl: 10-18 13:41:50] {3072} INFO -  at 34.9s,\testimator extra_tree's best error=0.1995,\tbest estimator extra_tree's best error=0.1995\n",
      "[flaml.automl: 10-18 13:41:50] {2897} INFO - iteration 96, current learner extra_tree\n",
      "[flaml.automl: 10-18 13:41:51] {3072} INFO -  at 35.3s,\testimator extra_tree's best error=0.1995,\tbest estimator extra_tree's best error=0.1995\n",
      "[flaml.automl: 10-18 13:41:51] {2897} INFO - iteration 97, current learner extra_tree\n",
      "[flaml.automl: 10-18 13:41:51] {3072} INFO -  at 35.5s,\testimator extra_tree's best error=0.1995,\tbest estimator extra_tree's best error=0.1995\n",
      "[flaml.automl: 10-18 13:41:51] {2897} INFO - iteration 98, current learner extra_tree\n",
      "[flaml.automl: 10-18 13:41:52] {3072} INFO -  at 36.0s,\testimator extra_tree's best error=0.1995,\tbest estimator extra_tree's best error=0.1995\n",
      "[flaml.automl: 10-18 13:41:52] {2897} INFO - iteration 99, current learner extra_tree\n",
      "[flaml.automl: 10-18 13:41:52] {3072} INFO -  at 36.5s,\testimator extra_tree's best error=0.1995,\tbest estimator extra_tree's best error=0.1995\n",
      "[flaml.automl: 10-18 13:41:52] {2897} INFO - iteration 100, current learner extra_tree\n",
      "[flaml.automl: 10-18 13:41:52] {3072} INFO -  at 36.7s,\testimator extra_tree's best error=0.1995,\tbest estimator extra_tree's best error=0.1995\n",
      "[flaml.automl: 10-18 13:41:52] {2897} INFO - iteration 101, current learner extra_tree\n",
      "[flaml.automl: 10-18 13:41:53] {3072} INFO -  at 37.2s,\testimator extra_tree's best error=0.1995,\tbest estimator extra_tree's best error=0.1995\n",
      "[flaml.automl: 10-18 13:41:53] {2897} INFO - iteration 102, current learner extra_tree\n",
      "[flaml.automl: 10-18 13:41:53] {3072} INFO -  at 37.5s,\testimator extra_tree's best error=0.1995,\tbest estimator extra_tree's best error=0.1995\n",
      "[flaml.automl: 10-18 13:41:53] {2897} INFO - iteration 103, current learner extra_tree\n",
      "[flaml.automl: 10-18 13:41:53] {3072} INFO -  at 37.9s,\testimator extra_tree's best error=0.1995,\tbest estimator extra_tree's best error=0.1995\n",
      "[flaml.automl: 10-18 13:41:53] {2897} INFO - iteration 104, current learner extra_tree\n",
      "[flaml.automl: 10-18 13:41:54] {3072} INFO -  at 38.2s,\testimator extra_tree's best error=0.1995,\tbest estimator extra_tree's best error=0.1995\n",
      "[flaml.automl: 10-18 13:41:54] {2897} INFO - iteration 105, current learner extra_tree\n",
      "[flaml.automl: 10-18 13:41:54] {3072} INFO -  at 38.7s,\testimator extra_tree's best error=0.1995,\tbest estimator extra_tree's best error=0.1995\n"
     ]
    },
    {
     "name": "stderr",
     "output_type": "stream",
     "text": [
      "[flaml.automl: 10-18 13:41:54] {2897} INFO - iteration 106, current learner extra_tree\n",
      "[flaml.automl: 10-18 13:41:54] {3072} INFO -  at 38.9s,\testimator extra_tree's best error=0.1995,\tbest estimator extra_tree's best error=0.1995\n",
      "[flaml.automl: 10-18 13:41:54] {2897} INFO - iteration 107, current learner extra_tree\n",
      "[flaml.automl: 10-18 13:41:55] {3072} INFO -  at 39.3s,\testimator extra_tree's best error=0.1995,\tbest estimator extra_tree's best error=0.1995\n",
      "[flaml.automl: 10-18 13:41:55] {2897} INFO - iteration 108, current learner extra_tree\n",
      "[flaml.automl: 10-18 13:41:55] {3072} INFO -  at 39.6s,\testimator extra_tree's best error=0.1995,\tbest estimator extra_tree's best error=0.1995\n",
      "[flaml.automl: 10-18 13:41:55] {2897} INFO - iteration 109, current learner extra_tree\n",
      "[flaml.automl: 10-18 13:41:56] {3072} INFO -  at 40.1s,\testimator extra_tree's best error=0.1995,\tbest estimator extra_tree's best error=0.1995\n",
      "[flaml.automl: 10-18 13:41:56] {2897} INFO - iteration 110, current learner extra_tree\n",
      "[flaml.automl: 10-18 13:41:56] {3072} INFO -  at 40.4s,\testimator extra_tree's best error=0.1995,\tbest estimator extra_tree's best error=0.1995\n",
      "[flaml.automl: 10-18 13:41:56] {2897} INFO - iteration 111, current learner extra_tree\n",
      "[flaml.automl: 10-18 13:41:56] {3072} INFO -  at 40.7s,\testimator extra_tree's best error=0.1995,\tbest estimator extra_tree's best error=0.1995\n",
      "[flaml.automl: 10-18 13:41:56] {2897} INFO - iteration 112, current learner extra_tree\n",
      "[flaml.automl: 10-18 13:41:57] {3072} INFO -  at 41.0s,\testimator extra_tree's best error=0.1995,\tbest estimator extra_tree's best error=0.1995\n",
      "[flaml.automl: 10-18 13:41:57] {2897} INFO - iteration 113, current learner extra_tree\n",
      "[flaml.automl: 10-18 13:41:57] {3072} INFO -  at 41.3s,\testimator extra_tree's best error=0.1995,\tbest estimator extra_tree's best error=0.1995\n",
      "[flaml.automl: 10-18 13:41:57] {2897} INFO - iteration 114, current learner extra_tree\n",
      "[flaml.automl: 10-18 13:41:57] {3072} INFO -  at 41.7s,\testimator extra_tree's best error=0.1995,\tbest estimator extra_tree's best error=0.1995\n",
      "[flaml.automl: 10-18 13:41:57] {2897} INFO - iteration 115, current learner extra_tree\n",
      "[flaml.automl: 10-18 13:41:58] {3072} INFO -  at 42.1s,\testimator extra_tree's best error=0.1995,\tbest estimator extra_tree's best error=0.1995\n",
      "[flaml.automl: 10-18 13:41:58] {2897} INFO - iteration 116, current learner extra_tree\n",
      "[flaml.automl: 10-18 13:41:58] {3072} INFO -  at 42.4s,\testimator extra_tree's best error=0.1995,\tbest estimator extra_tree's best error=0.1995\n",
      "[flaml.automl: 10-18 13:41:58] {2897} INFO - iteration 117, current learner extra_tree\n",
      "[flaml.automl: 10-18 13:41:58] {3072} INFO -  at 42.7s,\testimator extra_tree's best error=0.1995,\tbest estimator extra_tree's best error=0.1995\n",
      "[flaml.automl: 10-18 13:41:58] {2897} INFO - iteration 118, current learner extra_tree\n",
      "[flaml.automl: 10-18 13:41:59] {3072} INFO -  at 43.1s,\testimator extra_tree's best error=0.1995,\tbest estimator extra_tree's best error=0.1995\n",
      "[flaml.automl: 10-18 13:41:59] {2897} INFO - iteration 119, current learner extra_tree\n",
      "[flaml.automl: 10-18 13:41:59] {3072} INFO -  at 43.6s,\testimator extra_tree's best error=0.1995,\tbest estimator extra_tree's best error=0.1995\n",
      "[flaml.automl: 10-18 13:41:59] {2897} INFO - iteration 120, current learner extra_tree\n",
      "[flaml.automl: 10-18 13:41:59] {3072} INFO -  at 43.8s,\testimator extra_tree's best error=0.1995,\tbest estimator extra_tree's best error=0.1995\n",
      "[flaml.automl: 10-18 13:41:59] {2897} INFO - iteration 121, current learner extra_tree\n",
      "[flaml.automl: 10-18 13:42:00] {3072} INFO -  at 44.3s,\testimator extra_tree's best error=0.1995,\tbest estimator extra_tree's best error=0.1995\n",
      "[flaml.automl: 10-18 13:42:00] {2897} INFO - iteration 122, current learner extra_tree\n",
      "[flaml.automl: 10-18 13:42:00] {3072} INFO -  at 44.5s,\testimator extra_tree's best error=0.1995,\tbest estimator extra_tree's best error=0.1995\n",
      "[flaml.automl: 10-18 13:42:00] {2897} INFO - iteration 123, current learner extra_tree\n",
      "[flaml.automl: 10-18 13:42:00] {3072} INFO -  at 44.9s,\testimator extra_tree's best error=0.1995,\tbest estimator extra_tree's best error=0.1995\n",
      "[flaml.automl: 10-18 13:42:00] {2897} INFO - iteration 124, current learner extra_tree\n",
      "[flaml.automl: 10-18 13:42:01] {3072} INFO -  at 45.2s,\testimator extra_tree's best error=0.1995,\tbest estimator extra_tree's best error=0.1995\n",
      "[flaml.automl: 10-18 13:42:01] {2897} INFO - iteration 125, current learner extra_tree\n",
      "[flaml.automl: 10-18 13:42:01] {3072} INFO -  at 45.5s,\testimator extra_tree's best error=0.1979,\tbest estimator extra_tree's best error=0.1979\n",
      "[flaml.automl: 10-18 13:42:01] {2897} INFO - iteration 126, current learner extra_tree\n",
      "[flaml.automl: 10-18 13:42:01] {3072} INFO -  at 45.9s,\testimator extra_tree's best error=0.1979,\tbest estimator extra_tree's best error=0.1979\n",
      "[flaml.automl: 10-18 13:42:01] {2897} INFO - iteration 127, current learner extra_tree\n",
      "[flaml.automl: 10-18 13:42:02] {3072} INFO -  at 46.3s,\testimator extra_tree's best error=0.1979,\tbest estimator extra_tree's best error=0.1979\n",
      "[flaml.automl: 10-18 13:42:02] {2897} INFO - iteration 128, current learner extra_tree\n",
      "[flaml.automl: 10-18 13:42:02] {3072} INFO -  at 46.6s,\testimator extra_tree's best error=0.1971,\tbest estimator extra_tree's best error=0.1971\n",
      "[flaml.automl: 10-18 13:42:02] {2897} INFO - iteration 129, current learner extra_tree\n",
      "[flaml.automl: 10-18 13:42:03] {3072} INFO -  at 47.0s,\testimator extra_tree's best error=0.1971,\tbest estimator extra_tree's best error=0.1971\n",
      "[flaml.automl: 10-18 13:42:03] {2897} INFO - iteration 130, current learner extra_tree\n",
      "[flaml.automl: 10-18 13:42:03] {3072} INFO -  at 47.3s,\testimator extra_tree's best error=0.1971,\tbest estimator extra_tree's best error=0.1971\n",
      "[flaml.automl: 10-18 13:42:03] {2897} INFO - iteration 131, current learner extra_tree\n",
      "[flaml.automl: 10-18 13:42:03] {3072} INFO -  at 47.5s,\testimator extra_tree's best error=0.1971,\tbest estimator extra_tree's best error=0.1971\n",
      "[flaml.automl: 10-18 13:42:03] {2897} INFO - iteration 132, current learner extra_tree\n",
      "[flaml.automl: 10-18 13:42:04] {3072} INFO -  at 48.0s,\testimator extra_tree's best error=0.1971,\tbest estimator extra_tree's best error=0.1971\n",
      "[flaml.automl: 10-18 13:42:04] {2897} INFO - iteration 133, current learner extra_tree\n",
      "[flaml.automl: 10-18 13:42:04] {3072} INFO -  at 48.3s,\testimator extra_tree's best error=0.1971,\tbest estimator extra_tree's best error=0.1971\n",
      "[flaml.automl: 10-18 13:42:04] {2897} INFO - iteration 134, current learner extra_tree\n",
      "[flaml.automl: 10-18 13:42:04] {3072} INFO -  at 48.7s,\testimator extra_tree's best error=0.1971,\tbest estimator extra_tree's best error=0.1971\n",
      "[flaml.automl: 10-18 13:42:04] {2897} INFO - iteration 135, current learner extra_tree\n",
      "[flaml.automl: 10-18 13:42:05] {3072} INFO -  at 49.0s,\testimator extra_tree's best error=0.1971,\tbest estimator extra_tree's best error=0.1971\n",
      "[flaml.automl: 10-18 13:42:05] {2897} INFO - iteration 136, current learner extra_tree\n",
      "[flaml.automl: 10-18 13:42:05] {3072} INFO -  at 49.3s,\testimator extra_tree's best error=0.1971,\tbest estimator extra_tree's best error=0.1971\n",
      "[flaml.automl: 10-18 13:42:05] {2897} INFO - iteration 137, current learner extra_tree\n",
      "[flaml.automl: 10-18 13:42:05] {3072} INFO -  at 49.7s,\testimator extra_tree's best error=0.1971,\tbest estimator extra_tree's best error=0.1971\n",
      "[flaml.automl: 10-18 13:42:05] {2897} INFO - iteration 138, current learner extra_tree\n",
      "[flaml.automl: 10-18 13:42:05] {3072} INFO -  at 49.9s,\testimator extra_tree's best error=0.1971,\tbest estimator extra_tree's best error=0.1971\n",
      "[flaml.automl: 10-18 13:42:05] {2897} INFO - iteration 139, current learner extra_tree\n",
      "[flaml.automl: 10-18 13:42:06] {3072} INFO -  at 50.3s,\testimator extra_tree's best error=0.1971,\tbest estimator extra_tree's best error=0.1971\n",
      "[flaml.automl: 10-18 13:42:06] {2897} INFO - iteration 140, current learner extra_tree\n",
      "[flaml.automl: 10-18 13:42:06] {3072} INFO -  at 50.6s,\testimator extra_tree's best error=0.1971,\tbest estimator extra_tree's best error=0.1971\n",
      "[flaml.automl: 10-18 13:42:06] {2897} INFO - iteration 141, current learner extra_tree\n",
      "[flaml.automl: 10-18 13:42:06] {3072} INFO -  at 50.9s,\testimator extra_tree's best error=0.1971,\tbest estimator extra_tree's best error=0.1971\n"
     ]
    },
    {
     "name": "stderr",
     "output_type": "stream",
     "text": [
      "[flaml.automl: 10-18 13:42:06] {2897} INFO - iteration 142, current learner extra_tree\n",
      "[flaml.automl: 10-18 13:42:07] {3072} INFO -  at 51.3s,\testimator extra_tree's best error=0.1971,\tbest estimator extra_tree's best error=0.1971\n",
      "[flaml.automl: 10-18 13:42:07] {2897} INFO - iteration 143, current learner extra_tree\n",
      "[flaml.automl: 10-18 13:42:07] {3072} INFO -  at 51.6s,\testimator extra_tree's best error=0.1971,\tbest estimator extra_tree's best error=0.1971\n",
      "[flaml.automl: 10-18 13:42:07] {2897} INFO - iteration 144, current learner extra_tree\n",
      "[flaml.automl: 10-18 13:42:07] {3072} INFO -  at 51.9s,\testimator extra_tree's best error=0.1963,\tbest estimator extra_tree's best error=0.1963\n",
      "[flaml.automl: 10-18 13:42:07] {2897} INFO - iteration 145, current learner extra_tree\n",
      "[flaml.automl: 10-18 13:42:08] {3072} INFO -  at 52.2s,\testimator extra_tree's best error=0.1963,\tbest estimator extra_tree's best error=0.1963\n",
      "[flaml.automl: 10-18 13:42:08] {2897} INFO - iteration 146, current learner extra_tree\n",
      "[flaml.automl: 10-18 13:42:08] {3072} INFO -  at 52.7s,\testimator extra_tree's best error=0.1963,\tbest estimator extra_tree's best error=0.1963\n",
      "[flaml.automl: 10-18 13:42:08] {2897} INFO - iteration 147, current learner extra_tree\n",
      "[flaml.automl: 10-18 13:42:09] {3072} INFO -  at 53.2s,\testimator extra_tree's best error=0.1963,\tbest estimator extra_tree's best error=0.1963\n",
      "[flaml.automl: 10-18 13:42:09] {2897} INFO - iteration 148, current learner extra_tree\n",
      "[flaml.automl: 10-18 13:42:09] {3072} INFO -  at 53.5s,\testimator extra_tree's best error=0.1963,\tbest estimator extra_tree's best error=0.1963\n",
      "[flaml.automl: 10-18 13:42:09] {2897} INFO - iteration 149, current learner extra_tree\n",
      "[flaml.automl: 10-18 13:42:10] {3072} INFO -  at 54.0s,\testimator extra_tree's best error=0.1963,\tbest estimator extra_tree's best error=0.1963\n",
      "[flaml.automl: 10-18 13:42:10] {2897} INFO - iteration 150, current learner extra_tree\n",
      "[flaml.automl: 10-18 13:42:10] {3072} INFO -  at 54.3s,\testimator extra_tree's best error=0.1963,\tbest estimator extra_tree's best error=0.1963\n",
      "[flaml.automl: 10-18 13:42:10] {2897} INFO - iteration 151, current learner extra_tree\n",
      "[flaml.automl: 10-18 13:42:10] {3072} INFO -  at 54.6s,\testimator extra_tree's best error=0.1963,\tbest estimator extra_tree's best error=0.1963\n",
      "[flaml.automl: 10-18 13:42:10] {2897} INFO - iteration 152, current learner extra_tree\n",
      "[flaml.automl: 10-18 13:42:11] {3072} INFO -  at 55.0s,\testimator extra_tree's best error=0.1963,\tbest estimator extra_tree's best error=0.1963\n",
      "[flaml.automl: 10-18 13:42:11] {2897} INFO - iteration 153, current learner extra_tree\n",
      "[flaml.automl: 10-18 13:42:11] {3072} INFO -  at 55.2s,\testimator extra_tree's best error=0.1963,\tbest estimator extra_tree's best error=0.1963\n",
      "[flaml.automl: 10-18 13:42:11] {2897} INFO - iteration 154, current learner extra_tree\n",
      "[flaml.automl: 10-18 13:42:11] {3072} INFO -  at 55.7s,\testimator extra_tree's best error=0.1963,\tbest estimator extra_tree's best error=0.1963\n",
      "[flaml.automl: 10-18 13:42:11] {2897} INFO - iteration 155, current learner extra_tree\n",
      "[flaml.automl: 10-18 13:42:11] {3072} INFO -  at 55.9s,\testimator extra_tree's best error=0.1963,\tbest estimator extra_tree's best error=0.1963\n",
      "[flaml.automl: 10-18 13:42:11] {2897} INFO - iteration 156, current learner extra_tree\n",
      "[flaml.automl: 10-18 13:42:12] {3072} INFO -  at 56.4s,\testimator extra_tree's best error=0.1963,\tbest estimator extra_tree's best error=0.1963\n",
      "[flaml.automl: 10-18 13:42:12] {2897} INFO - iteration 157, current learner extra_tree\n",
      "[flaml.automl: 10-18 13:42:12] {3072} INFO -  at 56.9s,\testimator extra_tree's best error=0.1963,\tbest estimator extra_tree's best error=0.1963\n",
      "[flaml.automl: 10-18 13:42:12] {2897} INFO - iteration 158, current learner extra_tree\n",
      "[flaml.automl: 10-18 13:42:13] {3072} INFO -  at 57.2s,\testimator extra_tree's best error=0.1963,\tbest estimator extra_tree's best error=0.1963\n",
      "[flaml.automl: 10-18 13:42:13] {2897} INFO - iteration 159, current learner extra_tree\n",
      "[flaml.automl: 10-18 13:42:13] {3072} INFO -  at 57.6s,\testimator extra_tree's best error=0.1963,\tbest estimator extra_tree's best error=0.1963\n",
      "[flaml.automl: 10-18 13:42:13] {2897} INFO - iteration 160, current learner extra_tree\n",
      "[flaml.automl: 10-18 13:42:13] {3072} INFO -  at 57.9s,\testimator extra_tree's best error=0.1963,\tbest estimator extra_tree's best error=0.1963\n",
      "[flaml.automl: 10-18 13:42:13] {2897} INFO - iteration 161, current learner extra_tree\n",
      "[flaml.automl: 10-18 13:42:14] {3072} INFO -  at 58.4s,\testimator extra_tree's best error=0.1963,\tbest estimator extra_tree's best error=0.1963\n",
      "[flaml.automl: 10-18 13:42:14] {2897} INFO - iteration 162, current learner extra_tree\n",
      "[flaml.automl: 10-18 13:42:14] {3072} INFO -  at 58.7s,\testimator extra_tree's best error=0.1963,\tbest estimator extra_tree's best error=0.1963\n",
      "[flaml.automl: 10-18 13:42:14] {2897} INFO - iteration 163, current learner extra_tree\n",
      "[flaml.automl: 10-18 13:42:15] {3072} INFO -  at 59.1s,\testimator extra_tree's best error=0.1963,\tbest estimator extra_tree's best error=0.1963\n",
      "[flaml.automl: 10-18 13:42:15] {2897} INFO - iteration 164, current learner extra_tree\n",
      "[flaml.automl: 10-18 13:42:15] {3072} INFO -  at 59.3s,\testimator extra_tree's best error=0.1963,\tbest estimator extra_tree's best error=0.1963\n",
      "[flaml.automl: 10-18 13:42:15] {2897} INFO - iteration 165, current learner extra_tree\n",
      "[flaml.automl: 10-18 13:42:15] {3072} INFO -  at 59.6s,\testimator extra_tree's best error=0.1963,\tbest estimator extra_tree's best error=0.1963\n",
      "[flaml.automl: 10-18 13:42:15] {3335} INFO - retrain extra_tree for 0.1s\n",
      "[flaml.automl: 10-18 13:42:15] {3342} INFO - retrained model: ExtraTreesClassifier(criterion='entropy', max_features=0.40419141724747987,\n",
      "                     max_leaf_nodes=247, n_estimators=35, n_jobs=8)\n",
      "[flaml.automl: 10-18 13:42:15] {2636} INFO - fit succeeded\n",
      "[flaml.automl: 10-18 13:42:15] {2637} INFO - Time taken to find the best model: 51.93686270713806\n",
      "[flaml.automl: 10-18 13:42:15] {2648} WARNING - Time taken to find the best model is 87% of the provided time budget and not all estimators' hyperparameter search converged. Consider increasing the time budget.\n"
     ]
    }
   ],
   "source": [
    "import warnings\n",
    "\n",
    "estimators = ['xgb_limitdepth']\n",
    "#estimators = ['extra_tree']\n",
    "\n",
    "with warnings.catch_warnings():\n",
    "    warnings.simplefilter(\"ignore\")\n",
    "\n",
    "    automl.fit(X_train, y_train, task=\"classification\", metric='accuracy',\n",
    "                                #X_val=X_test , y_val=y_test.to_numpy(),\n",
    "                                #ensemble=True,\n",
    "                                estimator_list=['extra_tree'], \n",
    "                                time_budget=60, n_jobs=8, \n",
    "                                eval_method='cv',\n",
    "                                #log_file_name='general_extra_features3.log',\n",
    "                                #starting_points=automl.best_config_per_estimator\n",
    "              )"
   ]
  },
  {
   "cell_type": "code",
   "execution_count": 252,
   "id": "ce809fca",
   "metadata": {},
   "outputs": [
    {
     "name": "stdout",
     "output_type": "stream",
     "text": [
      "                                                      precision    recall  f1-score   support\n",
      "\n",
      "      jet-mode radio AGN/low-excitation radio galaxy     0.7059    0.4000    0.5106        30\n",
      "quasar-like radio AGN / high-excitation radio galaxy     0.5882    0.4082    0.4819        49\n",
      "                                     radio-quiet AGN     0.7500    0.7317    0.7407        82\n",
      "                                 star-forming galaxy     0.8087    0.9673    0.8810       153\n",
      "\n",
      "                                            accuracy                         0.7643       314\n",
      "                                           macro avg     0.7132    0.6268    0.6536       314\n",
      "                                        weighted avg     0.7492    0.7643    0.7467       314\n",
      "\n"
     ]
    }
   ],
   "source": [
    "y_pred = automl.predict(X_test)\n",
    "print(classification_report(y_test, y_pred, target_names=labels, digits=4))"
   ]
  },
  {
   "cell_type": "code",
   "execution_count": 238,
   "id": "7edec746",
   "metadata": {},
   "outputs": [],
   "source": [
    "from sklearn.ensemble import ExtraTreesClassifier\n",
    "\n",
    "clf = ExtraTreesClassifier(max_leaf_nodes=1000, n_estimators=100).fit(X_train_imp, y_train)"
   ]
  },
  {
   "cell_type": "code",
   "execution_count": 239,
   "id": "ddfb3dd0",
   "metadata": {},
   "outputs": [
    {
     "name": "stdout",
     "output_type": "stream",
     "text": [
      "                                                      precision    recall  f1-score   support\n",
      "\n",
      "      jet-mode radio AGN/low-excitation radio galaxy     0.6985    0.5135    0.5919       185\n",
      "quasar-like radio AGN / high-excitation radio galaxy     0.5000    0.0612    0.1091        49\n",
      "                                     radio-quiet AGN     0.8889    0.2927    0.4404        82\n",
      "                                 star-forming galaxy     0.7702    0.9731    0.8599       558\n",
      "\n",
      "                                            accuracy                         0.7609       874\n",
      "                                           macro avg     0.7144    0.4601    0.5003       874\n",
      "                                        weighted avg     0.7510    0.7609    0.7217       874\n",
      "\n"
     ]
    }
   ],
   "source": [
    "y_pred = clf.predict(X_test_imp)\n",
    "print(classification_report(y_test, y_pred, target_names=labels, digits=4))"
   ]
  },
  {
   "cell_type": "markdown",
   "id": "2d528bb7",
   "metadata": {},
   "source": [
    "## Random Forest"
   ]
  },
  {
   "cell_type": "code",
   "execution_count": 202,
   "id": "e30f699b",
   "metadata": {},
   "outputs": [],
   "source": [
    "from sklearn.impute import SimpleImputer\n",
    "\n",
    "imp_mean = SimpleImputer(missing_values=np.nan, strategy='mean')\n",
    "X_train_imp = imp_mean.fit_transform(X_train)\n",
    "X_test_imp = imp_mean.transform(X_test)"
   ]
  },
  {
   "cell_type": "code",
   "execution_count": 203,
   "id": "e02dfdc2",
   "metadata": {},
   "outputs": [],
   "source": [
    "from sklearn.ensemble import RandomForestClassifier\n",
    "\n",
    "clf = RandomForestClassifier(random_state=0, n_estimators=50, max_leaf_nodes=100).fit(X_train_imp, y_train)"
   ]
  },
  {
   "cell_type": "code",
   "execution_count": 204,
   "id": "b5e0e9ef",
   "metadata": {},
   "outputs": [
    {
     "name": "stdout",
     "output_type": "stream",
     "text": [
      "                                                      precision    recall  f1-score   support\n",
      "\n",
      "      jet-mode radio AGN/low-excitation radio galaxy     0.6781    0.5351    0.5982       185\n",
      "quasar-like radio AGN / high-excitation radio galaxy     0.8000    0.0816    0.1481        49\n",
      "                                     radio-quiet AGN     1.0000    0.1707    0.2917        82\n",
      "                                 star-forming galaxy     0.7616    0.9677    0.8524       558\n",
      "\n",
      "                                            accuracy                         0.7517       874\n",
      "                                           macro avg     0.8099    0.4388    0.4726       874\n",
      "                                        weighted avg     0.7685    0.7517    0.7065       874\n",
      "\n"
     ]
    }
   ],
   "source": [
    "y_pred = clf.predict(X_test_imp)\n",
    "print(classification_report(y_test, y_pred, target_names=labels, digits=4))"
   ]
  },
  {
   "cell_type": "code",
   "execution_count": 9,
   "id": "b3019b96",
   "metadata": {},
   "outputs": [],
   "source": [
    "from sklearn.svm import SVC\n",
    "def optimise_rf(n_estimators, max_leaf_nodes):\n",
    "    \n",
    "    clf = RandomForestClassifier(random_state=0, n_estimators=int(n_estimators), max_leaf_nodes=int(max_leaf_nodes), n_jobs=8).fit(X_train_imp, y_train)\n",
    "    \n",
    "    \n",
    "    y_pred = clf.predict(X_val_imp)\n",
    "    return accuracy_score(y_val, y_pred)\n",
    "\n",
    "def optimise_scv(C):\n",
    "    clf = SVC(random_state=0, C=C, kernel='poly').fit(X_train_imp, y_train)\n",
    "    \n",
    "    y_pred = clf.predict(X_val_imp)\n",
    "    return accuracy_score(y_val, y_pred)"
   ]
  },
  {
   "cell_type": "code",
   "execution_count": 32,
   "id": "e58a95e8",
   "metadata": {},
   "outputs": [],
   "source": [
    "from bayes_opt import BayesianOptimization"
   ]
  },
  {
   "cell_type": "code",
   "execution_count": 33,
   "id": "3350aad2",
   "metadata": {},
   "outputs": [],
   "source": [
    "# Bounded region of parameter space\n",
    "pbounds = {\n",
    "    'n_estimators': (1, 500),\n",
    "    'max_leaf_nodes': (2, 200),\n",
    "}\n",
    "pbounds = {\n",
    "    'C': (0.1, 50),\n",
    "}"
   ]
  },
  {
   "cell_type": "code",
   "execution_count": 11,
   "id": "774b7e4a",
   "metadata": {},
   "outputs": [],
   "source": [
    "X_test_imp, X_val_imp, y_test, y_val = train_test_split(X_test_imp, y_test, train_size=0.6, stratify=y_test, random_state=42)"
   ]
  },
  {
   "cell_type": "code",
   "execution_count": 34,
   "id": "8e67c606",
   "metadata": {},
   "outputs": [],
   "source": [
    "optimizer = BayesianOptimization(\n",
    "    f=optimise_scv,\n",
    "    pbounds=pbounds,\n",
    "    verbose=2, # verbose = 1 prints only when a maximum is observed, verbose = 0 is silent\n",
    "    random_state=42,\n",
    ")"
   ]
  },
  {
   "cell_type": "code",
   "execution_count": null,
   "id": "88b76676",
   "metadata": {
    "scrolled": true
   },
   "outputs": [],
   "source": [
    "import warnings\n",
    "with warnings.catch_warnings():\n",
    "    warnings.simplefilter(\"ignore\")\n",
    "    optimizer.maximize(\n",
    "        init_points=5,\n",
    "        n_iter=1000,\n",
    "    )"
   ]
  },
  {
   "cell_type": "code",
   "execution_count": null,
   "id": "47f5b568",
   "metadata": {},
   "outputs": [],
   "source": [
    "clf = SVC(random_state=0, C=1, kernel='linear').fit(X_train_imp, y_train)"
   ]
  },
  {
   "cell_type": "code",
   "execution_count": null,
   "id": "907a6465",
   "metadata": {},
   "outputs": [],
   "source": [
    "y_pred = clf.predict(X_val_imp)\n",
    "print(classification_report(y_val, y_pred, target_names=labels, digits=4))"
   ]
  },
  {
   "cell_type": "markdown",
   "id": "c039b4bf",
   "metadata": {},
   "source": [
    "## XGBoost"
   ]
  },
  {
   "cell_type": "code",
   "execution_count": 253,
   "id": "18edafdd",
   "metadata": {},
   "outputs": [],
   "source": [
    "X_train, X_test, y_train, y_test = train_test_split(X, y, train_size=0.8, stratify=y, random_state=42)\n",
    "X_test, X_val, y_test, y_val = train_test_split(X_test, y_test, train_size=0.8, stratify=y_test, random_state=42)"
   ]
  },
  {
   "cell_type": "code",
   "execution_count": 265,
   "id": "c8c5a6d3",
   "metadata": {},
   "outputs": [],
   "source": [
    "model = XGBClassifier(use_label_encoder=False, \n",
    "                      max_depth=3, \n",
    "                      #reg_alpha=1,   \n",
    "                      #min_child_weight=0.5, \n",
    "                      reg_lambda=5,\n",
    "                      #subsample=0.5,\n",
    "                      eta=0.1, # Remember to reduce to 0.1 or 0.05 for better results\n",
    "                      tree_method='exact', # exact is more precies, but this is much faster\n",
    "                      gpu_id=1,\n",
    "                      objective='multi:softprob',\n",
    "                      eval_metric =['merror'],\n",
    "                      nthread=8,\n",
    "                      n_estimators=500,\n",
    "                      )"
   ]
  },
  {
   "cell_type": "code",
   "execution_count": 266,
   "id": "fb5f416c",
   "metadata": {
    "scrolled": true
   },
   "outputs": [
    {
     "name": "stdout",
     "output_type": "stream",
     "text": [
      "[0]\tvalidation_0-merror:0.22222\n",
      "[1]\tvalidation_0-merror:0.25397\n",
      "[2]\tvalidation_0-merror:0.23810\n",
      "[3]\tvalidation_0-merror:0.25397\n",
      "[4]\tvalidation_0-merror:0.23810\n",
      "[5]\tvalidation_0-merror:0.23810\n",
      "[6]\tvalidation_0-merror:0.23810\n",
      "[7]\tvalidation_0-merror:0.23810\n",
      "[8]\tvalidation_0-merror:0.23810\n",
      "[9]\tvalidation_0-merror:0.23810\n",
      "[10]\tvalidation_0-merror:0.23810\n",
      "[11]\tvalidation_0-merror:0.23810\n",
      "[12]\tvalidation_0-merror:0.23810\n",
      "[13]\tvalidation_0-merror:0.23810\n"
     ]
    },
    {
     "name": "stderr",
     "output_type": "stream",
     "text": [
      "C:\\Users\\jespe\\AppData\\Local\\Packages\\PythonSoftwareFoundation.Python.3.9_qbz5n2kfra8p0\\LocalCache\\local-packages\\Python39\\site-packages\\xgboost\\data.py:192: FutureWarning: pandas.Int64Index is deprecated and will be removed from pandas in a future version. Use pandas.Index with the appropriate dtype instead.\n",
      "  from pandas import MultiIndex, Int64Index\n"
     ]
    },
    {
     "name": "stdout",
     "output_type": "stream",
     "text": [
      "[14]\tvalidation_0-merror:0.23810\n",
      "[15]\tvalidation_0-merror:0.23810\n",
      "[16]\tvalidation_0-merror:0.22222\n",
      "[17]\tvalidation_0-merror:0.22222\n",
      "[18]\tvalidation_0-merror:0.22222\n",
      "[19]\tvalidation_0-merror:0.22222\n"
     ]
    }
   ],
   "source": [
    "bst = model.fit(X_train, y_train, \n",
    "                eval_set=[\n",
    "                    (X_val, y_val),\n",
    "                ], \n",
    "                early_stopping_rounds=20,\n",
    "                verbose=True, \n",
    "                #sample_weight=classes_weights,\n",
    "               ) #"
   ]
  },
  {
   "cell_type": "code",
   "execution_count": 267,
   "id": "809e9599",
   "metadata": {},
   "outputs": [
    {
     "name": "stdout",
     "output_type": "stream",
     "text": [
      "                                                      precision    recall  f1-score   support\n",
      "\n",
      "      jet-mode radio AGN/low-excitation radio galaxy     0.7143    0.4167    0.5263        24\n",
      "quasar-like radio AGN / high-excitation radio galaxy     0.5714    0.6154    0.5926        39\n",
      "                                     radio-quiet AGN     0.7885    0.6212    0.6949        66\n",
      "                                 star-forming galaxy     0.8392    0.9836    0.9057       122\n",
      "\n",
      "                                            accuracy                         0.7769       251\n",
      "                                           macro avg     0.7283    0.6592    0.6799       251\n",
      "                                        weighted avg     0.7723    0.7769    0.7653       251\n",
      "\n"
     ]
    }
   ],
   "source": [
    "y_pred = model.predict(X_test)\n",
    "print(classification_report(y_test, y_pred, target_names=labels, digits=4))"
   ]
  },
  {
   "cell_type": "code",
   "execution_count": null,
   "id": "72d873bc",
   "metadata": {},
   "outputs": [],
   "source": []
  }
 ],
 "metadata": {
  "kernelspec": {
   "display_name": "Python 3 (ipykernel)",
   "language": "python",
   "name": "python3"
  },
  "language_info": {
   "codemirror_mode": {
    "name": "ipython",
    "version": 3
   },
   "file_extension": ".py",
   "mimetype": "text/x-python",
   "name": "python",
   "nbconvert_exporter": "python",
   "pygments_lexer": "ipython3",
   "version": "3.9.13"
  }
 },
 "nbformat": 4,
 "nbformat_minor": 5
}
