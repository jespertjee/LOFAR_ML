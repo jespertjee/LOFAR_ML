{
 "cells": [
  {
   "cell_type": "code",
   "execution_count": 30,
   "id": "1013c3c3",
   "metadata": {},
   "outputs": [],
   "source": [
    "import pandas as pd\n",
    "import numpy as np\n",
    "from sklearn.impute import SimpleImputer\n",
    "from sklearn.model_selection import train_test_split, GridSearchCV, cross_val_score\n",
    "from sklearn.preprocessing import StandardScaler, OneHotEncoder, LabelEncoder, OrdinalEncoder, MinMaxScaler, RobustScaler, MaxAbsScaler\n",
    "from sklearn.ensemble import RandomForestClassifier\n",
    "from sklearn.metrics import accuracy_score, classification_report\n",
    "from sklearn.decomposition import PCA\n",
    "from sklearn.utils.class_weight import compute_class_weight\n",
    "\n",
    "from sklearn.metrics import confusion_matrix, ConfusionMatrixDisplay\n",
    "import matplotlib.pyplot as plt\n",
    "\n",
    "from xgboost import XGBClassifier, XGBRegressor\n",
    "import xgboost as xgb"
   ]
  },
  {
   "cell_type": "code",
   "execution_count": 31,
   "id": "645f2b22",
   "metadata": {},
   "outputs": [],
   "source": [
    "mightee_data = pd.read_csv(\"../../../Data/MIGHTEE/Classification/final_gaussian_radio.csv\")"
   ]
  },
  {
   "cell_type": "code",
   "execution_count": 32,
   "id": "73d5ab6a",
   "metadata": {},
   "outputs": [
    {
     "name": "stdout",
     "output_type": "stream",
     "text": [
      "Amount of rows: 4370\n"
     ]
    }
   ],
   "source": [
    "# Dropping nan classifications\n",
    "mightee_data = mightee_data[mightee_data['Classification'].notna()]\n",
    "print(\"Amount of rows:\", len(mightee_data))"
   ]
  },
  {
   "cell_type": "code",
   "execution_count": 33,
   "id": "adf74a5e",
   "metadata": {},
   "outputs": [],
   "source": [
    "X = mightee_data[[c for c in mightee_data.columns if c != 'Classification']]\n",
    "y = mightee_data['Classification']"
   ]
  },
  {
   "cell_type": "code",
   "execution_count": 36,
   "id": "5fa43cf7",
   "metadata": {},
   "outputs": [
    {
     "data": {
      "text/plain": [
       "star-forming galaxy                                     2790\n",
       "jet-mode radio AGN/low-excitation radio galaxy           924\n",
       "radio-quiet AGN                                          410\n",
       "quasar-like radio AGN / high-excitation radio galaxy     246\n",
       "Name: Classification, dtype: int64"
      ]
     },
     "execution_count": 36,
     "metadata": {},
     "output_type": "execute_result"
    }
   ],
   "source": [
    "y.value_counts()"
   ]
  },
  {
   "cell_type": "code",
   "execution_count": 37,
   "id": "63630ca7",
   "metadata": {},
   "outputs": [],
   "source": [
    "X = X[['Z_BEST', 'ch1_flux_corr', 'ch2_flux_corr', 'ch3_flux_corr',\n",
    "       'ch4_flux_corr', 'F_MIPS_24', 'F_PACS_100', 'F_PACS_160',\n",
    "       'F_SPIRE_250', 'F_SPIRE_350', 'F_SPIRE_500', 'Ks_flux_corr',\n",
    "       'H_flux_corr', 'J_flux_corr', 'i_flux_corr', 'r_flux_corr',\n",
    "       'u_flux_corr', 'z_flux_corr', 'y_flux_corr', 'NUV_flux_corr',\n",
    "       'FUV_flux_corr', 'Total_flux', 'Peak_flux', 'S_INT14', 'S_PEAK14']]"
   ]
  },
  {
   "cell_type": "code",
   "execution_count": 38,
   "id": "77d73f06",
   "metadata": {},
   "outputs": [],
   "source": [
    "le = LabelEncoder()\n",
    "labels = np.unique(y.astype(str))\n",
    "y = le.fit_transform(y)"
   ]
  },
  {
   "cell_type": "code",
   "execution_count": null,
   "id": "d919a917",
   "metadata": {},
   "outputs": [],
   "source": []
  },
  {
   "cell_type": "markdown",
   "id": "c039b4bf",
   "metadata": {},
   "source": [
    "## XGBoost"
   ]
  },
  {
   "cell_type": "code",
   "execution_count": 39,
   "id": "18edafdd",
   "metadata": {},
   "outputs": [],
   "source": [
    "X_train, X_test, y_train, y_test = train_test_split(X, y, train_size=0.8, stratify=y, random_state=42)\n",
    "X_test, X_val, y_test, y_val = train_test_split(X_test, y_test, train_size=0.8, stratify=y_test, random_state=42)"
   ]
  },
  {
   "cell_type": "code",
   "execution_count": 50,
   "id": "c8c5a6d3",
   "metadata": {},
   "outputs": [],
   "source": [
    "model = XGBClassifier(use_label_encoder=False, \n",
    "                      max_depth=6, \n",
    "                      #reg_alpha=1,   \n",
    "                      #min_child_weight=0.5, \n",
    "                      reg_lambda=5,\n",
    "                      #subsample=0.5,\n",
    "                      eta=0.3, # Remember to reduce to 0.1 or 0.05 for better results\n",
    "                      tree_method='exact', # exact is more precies, but this is much faster\n",
    "                      gpu_id=1,\n",
    "                      objective='multi:softprob',\n",
    "                      eval_metric =['merror'],\n",
    "                      nthread=8,\n",
    "                      n_estimators=500,\n",
    "                      )"
   ]
  },
  {
   "cell_type": "code",
   "execution_count": 51,
   "id": "fb5f416c",
   "metadata": {
    "scrolled": true
   },
   "outputs": [
    {
     "name": "stdout",
     "output_type": "stream",
     "text": [
      "[10:32:17] WARNING: ../src/learner.cc:222: No visible GPU is found, setting `gpu_id` to -1\n",
      "[0]\tvalidation_0-merror:0.24571\n",
      "[1]\tvalidation_0-merror:0.25143\n",
      "[2]\tvalidation_0-merror:0.24571\n",
      "[3]\tvalidation_0-merror:0.22857\n",
      "[4]\tvalidation_0-merror:0.21714\n",
      "[5]\tvalidation_0-merror:0.22286\n",
      "[6]\tvalidation_0-merror:0.22857\n",
      "[7]\tvalidation_0-merror:0.22857\n",
      "[8]\tvalidation_0-merror:0.22286\n",
      "[9]\tvalidation_0-merror:0.22286\n",
      "[10]\tvalidation_0-merror:0.23429\n",
      "[11]\tvalidation_0-merror:0.22286\n",
      "[12]\tvalidation_0-merror:0.21714\n",
      "[13]\tvalidation_0-merror:0.21143\n",
      "[14]\tvalidation_0-merror:0.21714\n",
      "[15]\tvalidation_0-merror:0.21143\n",
      "[16]\tvalidation_0-merror:0.22286\n",
      "[17]\tvalidation_0-merror:0.22286\n",
      "[18]\tvalidation_0-merror:0.21714\n",
      "[19]\tvalidation_0-merror:0.22286\n",
      "[20]\tvalidation_0-merror:0.21143\n",
      "[21]\tvalidation_0-merror:0.21143\n",
      "[22]\tvalidation_0-merror:0.21714\n",
      "[23]\tvalidation_0-merror:0.22286\n",
      "[24]\tvalidation_0-merror:0.22286\n",
      "[25]\tvalidation_0-merror:0.22857\n",
      "[26]\tvalidation_0-merror:0.22286\n",
      "[27]\tvalidation_0-merror:0.22286\n",
      "[28]\tvalidation_0-merror:0.22857\n",
      "[29]\tvalidation_0-merror:0.24000\n",
      "[30]\tvalidation_0-merror:0.24000\n",
      "[31]\tvalidation_0-merror:0.22857\n",
      "[32]\tvalidation_0-merror:0.24000\n"
     ]
    }
   ],
   "source": [
    "bst = model.fit(X_train, y_train, \n",
    "                eval_set=[\n",
    "                    (X_val, y_val),\n",
    "                ], \n",
    "                early_stopping_rounds=20,\n",
    "                verbose=True, \n",
    "                #sample_weight=classes_weights,\n",
    "               ) #"
   ]
  },
  {
   "cell_type": "code",
   "execution_count": 52,
   "id": "809e9599",
   "metadata": {},
   "outputs": [
    {
     "name": "stdout",
     "output_type": "stream",
     "text": [
      "                                                      precision    recall  f1-score   support\n",
      "\n",
      "      jet-mode radio AGN/low-excitation radio galaxy     0.6613    0.5541    0.6029       148\n",
      "quasar-like radio AGN / high-excitation radio galaxy     0.4615    0.1538    0.2308        39\n",
      "                                     radio-quiet AGN     0.7812    0.3788    0.5102        66\n",
      "                                 star-forming galaxy     0.7981    0.9484    0.8668       446\n",
      "\n",
      "                                            accuracy                         0.7668       699\n",
      "                                           macro avg     0.6755    0.5088    0.5527       699\n",
      "                                        weighted avg     0.7488    0.7668    0.7418       699\n",
      "\n"
     ]
    }
   ],
   "source": [
    "y_pred = model.predict(X_test)\n",
    "print(classification_report(y_test, y_pred, target_names=labels, digits=4))"
   ]
  },
  {
   "cell_type": "code",
   "execution_count": 53,
   "id": "72d873bc",
   "metadata": {},
   "outputs": [
    {
     "data": {
      "text/plain": [
       "6"
      ]
     },
     "execution_count": 53,
     "metadata": {},
     "output_type": "execute_result"
    }
   ],
   "source": [
    "83-77"
   ]
  },
  {
   "cell_type": "code",
   "execution_count": null,
   "id": "ca48cc62",
   "metadata": {},
   "outputs": [],
   "source": []
  }
 ],
 "metadata": {
  "@webio": {
   "lastCommId": null,
   "lastKernelId": null
  },
  "kernelspec": {
   "display_name": "Anaconda3 - 2021.11",
   "language": "python",
   "name": "python3-2021.11"
  },
  "language_info": {
   "codemirror_mode": {
    "name": "ipython",
    "version": 3
   },
   "file_extension": ".py",
   "mimetype": "text/x-python",
   "name": "python",
   "nbconvert_exporter": "python",
   "pygments_lexer": "ipython3",
   "version": "3.9.7"
  },
  "latex_envs": {
   "LaTeX_envs_menu_present": true,
   "autoclose": false,
   "autocomplete": true,
   "bibliofile": "biblio.bib",
   "cite_by": "apalike",
   "current_citInitial": 1,
   "eqLabelWithNumbers": true,
   "eqNumInitial": 1,
   "hotkeys": {
    "equation": "Ctrl-E",
    "itemize": "Ctrl-I"
   },
   "labels_anchors": false,
   "latex_user_defs": false,
   "report_style_numbering": false,
   "user_envs_cfg": false
  }
 },
 "nbformat": 4,
 "nbformat_minor": 5
}
