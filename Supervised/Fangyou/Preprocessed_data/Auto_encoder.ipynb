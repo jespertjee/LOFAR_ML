{
 "cells": [
  {
   "cell_type": "code",
   "execution_count": 1,
   "id": "fca4f926",
   "metadata": {},
   "outputs": [],
   "source": [
    "import pandas as pd\n",
    "import numpy as np\n",
    "from sklearn.impute import SimpleImputer\n",
    "from sklearn.model_selection import train_test_split, GridSearchCV, cross_val_score\n",
    "from sklearn.preprocessing import StandardScaler, OneHotEncoder, LabelEncoder, OrdinalEncoder, MinMaxScaler\n",
    "from sklearn.ensemble import RandomForestClassifier\n",
    "from sklearn.metrics import accuracy_score, classification_report\n",
    "from sklearn.decomposition import PCA\n",
    "from sklearn.utils.class_weight import compute_class_weight\n",
    "\n",
    "from sklearn.metrics import confusion_matrix, ConfusionMatrixDisplay\n",
    "import matplotlib.pyplot as plt\n",
    "\n",
    "from xgboost import XGBClassifier\n",
    "import xgboost as xgb\n",
    "\n",
    "import tensorflow as tf\n",
    "from tensorflow import keras\n",
    "from tensorflow.keras import layers\n",
    "from keras.models import Sequential\n",
    "from keras.layers import Dense\n",
    "\n",
    "from sklearn.metrics import accuracy_score, precision_score, recall_score\n",
    "from tensorflow.keras import layers, losses\n",
    "from tensorflow.keras.models import Model"
   ]
  },
  {
   "cell_type": "code",
   "execution_count": 2,
   "id": "cbbf3730",
   "metadata": {},
   "outputs": [],
   "source": [
    "features_num = [\n",
    "    'Total_flux', 'Peak_flux', \n",
    "       'NUV_flux_corr', 'u_flux_corr', 'Bw_flux_corr', 'R_flux_corr',\n",
    "       'I_flux_corr', 'z_flux_corr', 'z_Subaru_flux_corr', 'y_flux_corr',\n",
    "       'J_flux_corr', 'H_flux_corr', 'K_flux_corr', 'Ks_flux_corr',\n",
    "       'ch1_flux_corr', 'ch2_flux_corr', 'ch3_flux_corr', 'ch4_flux_corr',\n",
    "       'F_MIPS_24', 'F_PACS_100', 'F_PACS_160', 'F_SPIRE_250', 'F_SPIRE_350',\n",
    "       'F_SPIRE_500', 'Z_BEST', 'Mass_median', 'Mass_l68', 'Mass_u68',\n",
    "        'z_rcs_flux_corr', 'z_hsc_flux_corr', 'i_hsc_flux_corr',\n",
    "       'i_rcs_flux_corr', 'i_flux_corr', 'y_hsc_flux_corr', 'r_flux_corr',\n",
    "       'r_hsc_flux_corr', 'r_rcs_flux_corr', 'ch1_swire_flux_corr',\n",
    "       'ch2_swire_flux_corr', 'ch3_swire_flux_corr', 'ch4_swire_flux_corr',\n",
    "       'ch1_servs_flux_corr', 'ch2_servs_flux_corr', 'g_flux_corr',\n",
    "       'g_hsc_flux_corr', 'nb921_hsc_flux_corr', 'g_rcs_flux_corr'\n",
    "]\n",
    "y_column = \"Classification\"\n",
    "\n",
    "classes = ['jet-mode radio AGN/low-excitation radio galaxy', 'quasar-like radio AGN / high-excitation radio galaxy', \n",
    "           'radio-quiet AGN', 'star-forming galaxy']"
   ]
  },
  {
   "cell_type": "code",
   "execution_count": null,
   "id": "f32f2264",
   "metadata": {},
   "outputs": [],
   "source": []
  },
  {
   "cell_type": "code",
   "execution_count": 3,
   "id": "a6906da4",
   "metadata": {},
   "outputs": [],
   "source": [
    "data = pd.read_csv(\"../../../Data/Fangyou_data/Cleaned/combined_filled_preprocessed.csv\")"
   ]
  },
  {
   "cell_type": "code",
   "execution_count": 4,
   "id": "d4521d7b",
   "metadata": {},
   "outputs": [
    {
     "data": {
      "text/plain": [
       "Index(['Source_Name', 'Total_flux', 'Peak_flux', 'S_Code', 'EBV',\n",
       "       'FUV_flux_corr', 'NUV_flux_corr', 'u_flux_corr', 'Bw_flux_corr',\n",
       "       'R_flux_corr', 'I_flux_corr', 'z_flux_corr', 'z_Subaru_flux_corr',\n",
       "       'y_flux_corr', 'J_flux_corr', 'H_flux_corr', 'K_flux_corr',\n",
       "       'Ks_flux_corr', 'ch1_flux_corr', 'ch2_flux_corr', 'ch3_flux_corr',\n",
       "       'ch4_flux_corr', 'F_MIPS_24', 'F_PACS_100', 'F_PACS_160', 'F_SPIRE_250',\n",
       "       'F_SPIRE_350', 'F_SPIRE_500', 'Z_BEST', 'Mass_median', 'Mass_l68',\n",
       "       'Mass_u68', 'Source', 'AGN_final', 'RadioAGN_final', 'Classification',\n",
       "       'Radio_excess', 'AGNfrac_af', 'AGNfrac_af_16', 'AGNfrac_cg_s_16',\n",
       "       'Xray', 'Opt_spec', 'Extended_radio', 'z_rcs_flux_corr',\n",
       "       'z_hsc_flux_corr', 'i_hsc_flux_corr', 'i_rcs_flux_corr', 'i_flux_corr',\n",
       "       'y_hsc_flux_corr', 'r_flux_corr', 'r_hsc_flux_corr', 'r_rcs_flux_corr',\n",
       "       'ch1_swire_flux_corr', 'ch2_swire_flux_corr', 'ch3_swire_flux_corr',\n",
       "       'ch4_swire_flux_corr', 'ch1_servs_flux_corr', 'ch2_servs_flux_corr',\n",
       "       'g_flux_corr', 'g_hsc_flux_corr', 'nb921_hsc_flux_corr',\n",
       "       'g_rcs_flux_corr'],\n",
       "      dtype='object')"
      ]
     },
     "execution_count": 4,
     "metadata": {},
     "output_type": "execute_result"
    }
   ],
   "source": [
    "data.columns"
   ]
  },
  {
   "cell_type": "code",
   "execution_count": 5,
   "id": "2774538d",
   "metadata": {},
   "outputs": [
    {
     "data": {
      "text/plain": [
       "Source_Name            0\n",
       "Total_flux             0\n",
       "Peak_flux              0\n",
       "S_Code                 0\n",
       "EBV                    0\n",
       "                      ..\n",
       "ch2_servs_flux_corr    0\n",
       "g_flux_corr            0\n",
       "g_hsc_flux_corr        0\n",
       "nb921_hsc_flux_corr    0\n",
       "g_rcs_flux_corr        0\n",
       "Length: 62, dtype: int64"
      ]
     },
     "execution_count": 5,
     "metadata": {},
     "output_type": "execute_result"
    }
   ],
   "source": [
    "data.isna().sum()"
   ]
  },
  {
   "cell_type": "code",
   "execution_count": 6,
   "id": "7fbd1232",
   "metadata": {},
   "outputs": [],
   "source": [
    "X = data[features_num]\n",
    "y = data[np.append(y_column, ['Xray', 'Opt_spec', 'Extended_radio'])]"
   ]
  },
  {
   "cell_type": "code",
   "execution_count": null,
   "id": "bcf1526a",
   "metadata": {},
   "outputs": [],
   "source": []
  },
  {
   "cell_type": "code",
   "execution_count": 7,
   "id": "11cc87a3",
   "metadata": {},
   "outputs": [
    {
     "name": "stderr",
     "output_type": "stream",
     "text": [
      "C:\\Users\\jespe\\AppData\\Local\\Temp\\ipykernel_18660\\2925652128.py:3: SettingWithCopyWarning: \n",
      "A value is trying to be set on a copy of a slice from a DataFrame.\n",
      "Try using .loc[row_indexer,col_indexer] = value instead\n",
      "\n",
      "See the caveats in the documentation: https://pandas.pydata.org/pandas-docs/stable/user_guide/indexing.html#returning-a-view-versus-a-copy\n",
      "  y[y_column] = le.fit_transform(y[y_column])\n"
     ]
    }
   ],
   "source": [
    "le = LabelEncoder()\n",
    "labels = np.unique(y[y_column].astype(str))\n",
    "y[y_column] = le.fit_transform(y[y_column])"
   ]
  },
  {
   "cell_type": "code",
   "execution_count": 8,
   "id": "8216a47c",
   "metadata": {},
   "outputs": [],
   "source": [
    "# Creating training and testing set\n",
    "X_train, X_test, y_train, y_test = train_test_split(X, y, train_size=0.8, random_state=42)\n",
    "\n",
    "y_train_flags = y_train[['Xray', 'Opt_spec', 'Extended_radio']]\n",
    "y_test_flags = y_test[['Xray', 'Opt_spec', 'Extended_radio']]\n",
    "\n",
    "y_train = y_train.drop(columns=['Xray', 'Opt_spec', 'Extended_radio'])\n",
    "y_test = y_test.drop(columns=['Xray', 'Opt_spec', 'Extended_radio'])"
   ]
  },
  {
   "cell_type": "code",
   "execution_count": null,
   "id": "233e39fc",
   "metadata": {},
   "outputs": [],
   "source": []
  },
  {
   "cell_type": "code",
   "execution_count": 12,
   "id": "e969635a",
   "metadata": {},
   "outputs": [],
   "source": [
    "def one_hot(df, columns):\n",
    "    \"\"\"\n",
    "    One-hot encoding a certain column in a dataframe\n",
    "    \"\"\"\n",
    "    one_hot = pd.get_dummies(df[columns])\n",
    "    df = df.drop(columns=columns, axis = 1)\n",
    "    df = df.join(one_hot)\n",
    "    return df"
   ]
  },
  {
   "cell_type": "code",
   "execution_count": 13,
   "id": "bafd882e",
   "metadata": {},
   "outputs": [],
   "source": [
    "# Imputing missing categorical features\n",
    "imp = SimpleImputer(strategy=\"most_frequent\")\n",
    "\n",
    "# Standard scaling the numerical data\n",
    "scaler = MinMaxScaler()\n",
    "\n",
    "# Transforming the categorical data\n",
    "X_train[features_num] = scaler.fit_transform(X_train[features_num])\n",
    "X_test[features_num] = scaler.transform(X_test[features_num])"
   ]
  },
  {
   "cell_type": "code",
   "execution_count": 14,
   "id": "c40ac41b",
   "metadata": {},
   "outputs": [],
   "source": [
    "from sklearn.utils import class_weight\n",
    "classes_weights = class_weight.compute_sample_weight(\n",
    "    class_weight='balanced',\n",
    "    y=y_train\n",
    ")"
   ]
  },
  {
   "cell_type": "markdown",
   "id": "e572568a",
   "metadata": {},
   "source": [
    "# Autoencoder"
   ]
  },
  {
   "cell_type": "code",
   "execution_count": 23,
   "id": "7b6cc84c",
   "metadata": {},
   "outputs": [],
   "source": [
    "from sklearn.ensemble import IsolationForest\n",
    "clf = IsolationForest(random_state=0).fit(X_train)"
   ]
  },
  {
   "cell_type": "code",
   "execution_count": 40,
   "id": "2900dcba",
   "metadata": {},
   "outputs": [],
   "source": [
    "outlier = clf.predict(X_train)"
   ]
  },
  {
   "cell_type": "code",
   "execution_count": 41,
   "id": "bc739b92",
   "metadata": {},
   "outputs": [
    {
     "name": "stderr",
     "output_type": "stream",
     "text": [
      "d:\\python\\python38\\lib\\site-packages\\xgboost\\sklearn.py:793: UserWarning: `early_stopping_rounds` in `fit` method is deprecated for better compatibility with scikit-learn, use `early_stopping_rounds` in constructor or`set_params` instead.\n",
      "  warnings.warn(\n"
     ]
    },
    {
     "name": "stdout",
     "output_type": "stream",
     "text": [
      "[22:04:21] WARNING: C:/Users/Administrator/workspace/xgboost-win64_release_1.6.0/src/learner.cc:627: \n",
      "Parameters: { \"class_weight\" } might not be used.\n",
      "\n",
      "  This could be a false alarm, with some parameters getting used by language bindings but\n",
      "  then being mistakenly passed down to XGBoost core, or some parameter actually being used\n",
      "  but getting flagged wrongly here. Please open an issue if you find any such cases.\n",
      "\n",
      "\n",
      "[0]\tvalidation_0-mlogloss:1.02726\n",
      "[1]\tvalidation_0-mlogloss:0.82670\n",
      "[2]\tvalidation_0-mlogloss:0.69657\n",
      "[3]\tvalidation_0-mlogloss:0.60553\n",
      "[4]\tvalidation_0-mlogloss:0.54042\n",
      "[5]\tvalidation_0-mlogloss:0.49261\n",
      "[6]\tvalidation_0-mlogloss:0.45589\n",
      "[7]\tvalidation_0-mlogloss:0.42801\n",
      "[8]\tvalidation_0-mlogloss:0.40616\n",
      "[9]\tvalidation_0-mlogloss:0.38836\n",
      "[10]\tvalidation_0-mlogloss:0.37394\n",
      "[11]\tvalidation_0-mlogloss:0.36192\n",
      "[12]\tvalidation_0-mlogloss:0.35293\n",
      "[13]\tvalidation_0-mlogloss:0.34499\n",
      "[14]\tvalidation_0-mlogloss:0.33880\n",
      "[15]\tvalidation_0-mlogloss:0.33308\n",
      "[16]\tvalidation_0-mlogloss:0.32845\n",
      "[17]\tvalidation_0-mlogloss:0.32410\n",
      "[18]\tvalidation_0-mlogloss:0.32000\n",
      "[19]\tvalidation_0-mlogloss:0.31645\n",
      "[20]\tvalidation_0-mlogloss:0.31346\n",
      "[21]\tvalidation_0-mlogloss:0.31133\n",
      "[22]\tvalidation_0-mlogloss:0.30869\n",
      "[23]\tvalidation_0-mlogloss:0.30664\n",
      "[24]\tvalidation_0-mlogloss:0.30448\n",
      "[25]\tvalidation_0-mlogloss:0.30301\n",
      "[26]\tvalidation_0-mlogloss:0.30165\n",
      "[27]\tvalidation_0-mlogloss:0.30005\n",
      "[28]\tvalidation_0-mlogloss:0.29839\n",
      "[29]\tvalidation_0-mlogloss:0.29721\n",
      "[30]\tvalidation_0-mlogloss:0.29628\n",
      "[31]\tvalidation_0-mlogloss:0.29523\n",
      "[32]\tvalidation_0-mlogloss:0.29401\n",
      "[33]\tvalidation_0-mlogloss:0.29260\n",
      "[34]\tvalidation_0-mlogloss:0.29189\n",
      "[35]\tvalidation_0-mlogloss:0.29131\n",
      "[36]\tvalidation_0-mlogloss:0.29070\n",
      "[37]\tvalidation_0-mlogloss:0.28981\n",
      "[38]\tvalidation_0-mlogloss:0.28891\n",
      "[39]\tvalidation_0-mlogloss:0.28838\n",
      "[40]\tvalidation_0-mlogloss:0.28752\n",
      "[41]\tvalidation_0-mlogloss:0.28696\n",
      "[42]\tvalidation_0-mlogloss:0.28647\n",
      "[43]\tvalidation_0-mlogloss:0.28555\n",
      "[44]\tvalidation_0-mlogloss:0.28521\n",
      "[45]\tvalidation_0-mlogloss:0.28449\n",
      "[46]\tvalidation_0-mlogloss:0.28396\n",
      "[47]\tvalidation_0-mlogloss:0.28310\n",
      "[48]\tvalidation_0-mlogloss:0.28282\n",
      "[49]\tvalidation_0-mlogloss:0.28236\n",
      "[50]\tvalidation_0-mlogloss:0.28170\n",
      "[51]\tvalidation_0-mlogloss:0.28124\n",
      "[52]\tvalidation_0-mlogloss:0.28057\n",
      "[53]\tvalidation_0-mlogloss:0.28027\n",
      "[54]\tvalidation_0-mlogloss:0.28003\n",
      "[55]\tvalidation_0-mlogloss:0.27979\n",
      "[56]\tvalidation_0-mlogloss:0.27955\n",
      "[57]\tvalidation_0-mlogloss:0.27937\n",
      "[58]\tvalidation_0-mlogloss:0.27892\n",
      "[59]\tvalidation_0-mlogloss:0.27875\n",
      "[60]\tvalidation_0-mlogloss:0.27844\n",
      "[61]\tvalidation_0-mlogloss:0.27805\n",
      "[62]\tvalidation_0-mlogloss:0.27795\n",
      "[63]\tvalidation_0-mlogloss:0.27761\n",
      "[64]\tvalidation_0-mlogloss:0.27746\n",
      "[65]\tvalidation_0-mlogloss:0.27737\n",
      "[66]\tvalidation_0-mlogloss:0.27729\n",
      "[67]\tvalidation_0-mlogloss:0.27695\n",
      "[68]\tvalidation_0-mlogloss:0.27693\n",
      "[69]\tvalidation_0-mlogloss:0.27682\n",
      "[70]\tvalidation_0-mlogloss:0.27679\n",
      "[71]\tvalidation_0-mlogloss:0.27670\n",
      "[72]\tvalidation_0-mlogloss:0.27647\n",
      "[73]\tvalidation_0-mlogloss:0.27634\n",
      "[74]\tvalidation_0-mlogloss:0.27625\n",
      "[75]\tvalidation_0-mlogloss:0.27605\n",
      "[76]\tvalidation_0-mlogloss:0.27596\n",
      "[77]\tvalidation_0-mlogloss:0.27605\n",
      "[78]\tvalidation_0-mlogloss:0.27592\n",
      "[79]\tvalidation_0-mlogloss:0.27585\n",
      "[80]\tvalidation_0-mlogloss:0.27566\n",
      "[81]\tvalidation_0-mlogloss:0.27570\n",
      "[82]\tvalidation_0-mlogloss:0.27569\n",
      "[83]\tvalidation_0-mlogloss:0.27570\n",
      "[84]\tvalidation_0-mlogloss:0.27557\n",
      "[85]\tvalidation_0-mlogloss:0.27558\n",
      "[86]\tvalidation_0-mlogloss:0.27552\n",
      "[87]\tvalidation_0-mlogloss:0.27558\n",
      "[88]\tvalidation_0-mlogloss:0.27550\n",
      "[89]\tvalidation_0-mlogloss:0.27570\n",
      "[90]\tvalidation_0-mlogloss:0.27557\n",
      "[91]\tvalidation_0-mlogloss:0.27584\n",
      "[92]\tvalidation_0-mlogloss:0.27570\n",
      "[93]\tvalidation_0-mlogloss:0.27570\n",
      "[94]\tvalidation_0-mlogloss:0.27583\n",
      "[95]\tvalidation_0-mlogloss:0.27565\n",
      "[96]\tvalidation_0-mlogloss:0.27568\n",
      "[97]\tvalidation_0-mlogloss:0.27565\n",
      "[98]\tvalidation_0-mlogloss:0.27557\n",
      "[99]\tvalidation_0-mlogloss:0.27553\n",
      "[100]\tvalidation_0-mlogloss:0.27562\n",
      "[101]\tvalidation_0-mlogloss:0.27556\n",
      "[102]\tvalidation_0-mlogloss:0.27570\n",
      "[103]\tvalidation_0-mlogloss:0.27563\n",
      "[104]\tvalidation_0-mlogloss:0.27574\n",
      "[105]\tvalidation_0-mlogloss:0.27566\n",
      "[106]\tvalidation_0-mlogloss:0.27574\n",
      "[107]\tvalidation_0-mlogloss:0.27566\n"
     ]
    }
   ],
   "source": [
    "model = XGBClassifier(use_label_encoder=False, \n",
    "                      max_depth=8, \n",
    "                      reg_alpha=3, \n",
    "                      min_child_weight=1, \n",
    "                      reg_lambda=5,\n",
    "                      gamma=0,\n",
    "                     eta=0.3, \n",
    "                      tree_method='hist',\n",
    "                     n_estimators=1000,\n",
    "                     class_weight='balanced')\n",
    "bst = model.fit(X_train[outlier==1], y_train[outlier==1], early_stopping_rounds=20, eval_set=[(X_test, y_test)], verbose=True,)"
   ]
  },
  {
   "cell_type": "code",
   "execution_count": 43,
   "id": "06ed3cdd",
   "metadata": {},
   "outputs": [],
   "source": [
    "outlier2 = clf.predict(X_test)"
   ]
  },
  {
   "cell_type": "code",
   "execution_count": 45,
   "id": "d52bed2e",
   "metadata": {},
   "outputs": [
    {
     "name": "stdout",
     "output_type": "stream",
     "text": [
      "                                                      precision    recall  f1-score   support\n",
      "\n",
      "      jet-mode radio AGN/low-excitation radio galaxy     0.8558    0.7959    0.8248      2342\n",
      "quasar-like radio AGN / high-excitation radio galaxy     0.6239    0.3174    0.4207       230\n",
      "                                     radio-quiet AGN     0.7664    0.6810    0.7212      1185\n",
      "                                 star-forming galaxy     0.9233    0.9591    0.9408     10556\n",
      "\n",
      "                                            accuracy                         0.8990     14313\n",
      "                                           macro avg     0.7924    0.6883    0.7269     14313\n",
      "                                        weighted avg     0.8945    0.8990    0.8953     14313\n",
      "\n"
     ]
    }
   ],
   "source": [
    "y_pred = model.predict(X_test[outlier2==1])\n",
    "print(classification_report(y_test[outlier2==1], y_pred, target_names=labels, digits=4))"
   ]
  },
  {
   "cell_type": "code",
   "execution_count": 39,
   "id": "587c595f",
   "metadata": {},
   "outputs": [
    {
     "name": "stdout",
     "output_type": "stream",
     "text": [
      "                                                      precision    recall  f1-score   support\n",
      "\n",
      "      jet-mode radio AGN/low-excitation radio galaxy     0.8592    0.7943    0.8254      2581\n",
      "quasar-like radio AGN / high-excitation radio galaxy     0.6714    0.3481    0.4585       270\n",
      "                                     radio-quiet AGN     0.7800    0.7035    0.7398      1356\n",
      "                                 star-forming galaxy     0.9223    0.9596    0.9406     11315\n",
      "\n",
      "                                            accuracy                         0.8991     15522\n",
      "                                           macro avg     0.8082    0.7014    0.7411     15522\n",
      "                                        weighted avg     0.8950    0.8991    0.8955     15522\n",
      "\n"
     ]
    }
   ],
   "source": [
    "y_pred = model.predict(X_test)\n",
    "print(classification_report(y_test, y_pred, target_names=labels, digits=4))"
   ]
  },
  {
   "cell_type": "code",
   "execution_count": null,
   "id": "34ee6b64",
   "metadata": {},
   "outputs": [],
   "source": []
  }
 ],
 "metadata": {
  "kernelspec": {
   "display_name": "Python 3",
   "language": "python",
   "name": "python3"
  },
  "language_info": {
   "codemirror_mode": {
    "name": "ipython",
    "version": 3
   },
   "file_extension": ".py",
   "mimetype": "text/x-python",
   "name": "python",
   "nbconvert_exporter": "python",
   "pygments_lexer": "ipython3",
   "version": "3.8.1"
  },
  "latex_envs": {
   "LaTeX_envs_menu_present": true,
   "autoclose": false,
   "autocomplete": true,
   "bibliofile": "biblio.bib",
   "cite_by": "apalike",
   "current_citInitial": 1,
   "eqLabelWithNumbers": true,
   "eqNumInitial": 1,
   "hotkeys": {
    "equation": "Ctrl-E",
    "itemize": "Ctrl-I"
   },
   "labels_anchors": false,
   "latex_user_defs": false,
   "report_style_numbering": false,
   "user_envs_cfg": false
  }
 },
 "nbformat": 4,
 "nbformat_minor": 5
}
