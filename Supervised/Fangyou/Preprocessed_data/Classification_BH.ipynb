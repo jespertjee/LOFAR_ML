{
 "cells": [
  {
   "cell_type": "code",
   "execution_count": 77,
   "id": "1013c3c3",
   "metadata": {},
   "outputs": [],
   "source": [
    "import pandas as pd\n",
    "import numpy as np\n",
    "from sklearn.impute import SimpleImputer\n",
    "from sklearn.model_selection import train_test_split, GridSearchCV, cross_val_score\n",
    "from sklearn.preprocessing import StandardScaler, OneHotEncoder, LabelEncoder, OrdinalEncoder, MinMaxScaler, RobustScaler, MaxAbsScaler\n",
    "from sklearn.ensemble import RandomForestClassifier\n",
    "from sklearn.metrics import accuracy_score, classification_report\n",
    "from sklearn.decomposition import PCA\n",
    "from sklearn.utils.class_weight import compute_class_weight\n",
    "\n",
    "from sklearn.metrics import confusion_matrix, ConfusionMatrixDisplay\n",
    "import matplotlib.pyplot as plt\n",
    "\n",
    "from xgboost import XGBClassifier, XGBRegressor\n",
    "import xgboost as xgb"
   ]
  },
  {
   "cell_type": "code",
   "execution_count": 78,
   "id": "645f2b22",
   "metadata": {},
   "outputs": [],
   "source": [
    "Best_Heckman_data = pd.read_csv(\"../../../Data/Best&Heckman/BestHeckman+SDSS+wise+LOFAR.csv\")"
   ]
  },
  {
   "cell_type": "code",
   "execution_count": 79,
   "id": "73d5ab6a",
   "metadata": {},
   "outputs": [],
   "source": [
    "# Only selecting data with a classification\n",
    "Best_Heckman_data = Best_Heckman_data[Best_Heckman_data['Classification'] != 'Radio-loud AGN'] "
   ]
  },
  {
   "cell_type": "code",
   "execution_count": 89,
   "id": "63630ca7",
   "metadata": {},
   "outputs": [],
   "source": [
    "X = Best_Heckman_data[[c for c in Best_Heckman_data.columns if c != 'Classification']]\n",
    "y = Best_Heckman_data['Classification']"
   ]
  },
  {
   "cell_type": "code",
   "execution_count": 90,
   "id": "b7a539d0",
   "metadata": {},
   "outputs": [
    {
     "data": {
      "text/plain": [
       "jet-mode radio AGN/low-excitation radio galaxy          9771\n",
       "star-forming galaxy                                     2913\n",
       "quasar-like radio AGN / high-excitation radio galaxy     478\n",
       "Name: Classification, dtype: int64"
      ]
     },
     "execution_count": 90,
     "metadata": {},
     "output_type": "execute_result"
    }
   ],
   "source": [
    "pd.Series(y).value_counts()"
   ]
  },
  {
   "cell_type": "code",
   "execution_count": 81,
   "id": "77d73f06",
   "metadata": {},
   "outputs": [],
   "source": [
    "le = LabelEncoder()\n",
    "labels = np.unique(y.astype(str))\n",
    "y = le.fit_transform(y)"
   ]
  },
  {
   "cell_type": "code",
   "execution_count": 82,
   "id": "4db91053",
   "metadata": {},
   "outputs": [],
   "source": [
    "X_train, X_test, y_train, y_test = train_test_split(X, y, train_size=0.8, stratify=y, random_state=42)"
   ]
  },
  {
   "cell_type": "code",
   "execution_count": 83,
   "id": "276468c4",
   "metadata": {},
   "outputs": [],
   "source": [
    "from flaml import AutoML\n",
    "automl = AutoML()"
   ]
  },
  {
   "cell_type": "code",
   "execution_count": 85,
   "id": "464c5b07",
   "metadata": {
    "scrolled": true
   },
   "outputs": [
    {
     "name": "stderr",
     "output_type": "stream",
     "text": [
      "[flaml.automl: 09-19 13:06:10] {2390} INFO - task = classification\n",
      "[flaml.automl: 09-19 13:06:10] {2392} INFO - Data split method: stratified\n",
      "[flaml.automl: 09-19 13:06:10] {2396} INFO - Evaluation method: cv\n",
      "[flaml.automl: 09-19 13:06:10] {2465} INFO - Minimizing error metric: 1-accuracy\n",
      "[flaml.automl: 09-19 13:06:10] {2605} INFO - List of ML learners in AutoML Run: ['lgbm', 'rf', 'catboost', 'xgboost', 'extra_tree', 'xgb_limitdepth', 'lrl1']\n",
      "[flaml.automl: 09-19 13:06:10] {2897} INFO - iteration 0, current learner lgbm\n",
      "[flaml.automl: 09-19 13:06:10] {3025} INFO - Estimated sufficient time budget=2730s. Estimated necessary time budget=67s.\n",
      "[flaml.automl: 09-19 13:06:10] {3072} INFO -  at 0.4s,\testimator lgbm's best error=0.2577,\tbest estimator lgbm's best error=0.2577\n",
      "[flaml.automl: 09-19 13:06:10] {2897} INFO - iteration 1, current learner lgbm\n",
      "[flaml.automl: 09-19 13:06:11] {3072} INFO -  at 0.6s,\testimator lgbm's best error=0.2577,\tbest estimator lgbm's best error=0.2577\n",
      "[flaml.automl: 09-19 13:06:11] {2897} INFO - iteration 2, current learner lgbm\n",
      "[flaml.automl: 09-19 13:06:11] {3072} INFO -  at 0.9s,\testimator lgbm's best error=0.2577,\tbest estimator lgbm's best error=0.2577\n",
      "[flaml.automl: 09-19 13:06:11] {2897} INFO - iteration 3, current learner xgboost\n",
      "[flaml.automl: 09-19 13:06:11] {3072} INFO -  at 1.2s,\testimator xgboost's best error=0.1242,\tbest estimator xgboost's best error=0.1242\n",
      "[flaml.automl: 09-19 13:06:11] {2897} INFO - iteration 4, current learner lgbm\n",
      "[flaml.automl: 09-19 13:06:12] {3072} INFO -  at 1.5s,\testimator lgbm's best error=0.2570,\tbest estimator xgboost's best error=0.1242\n",
      "[flaml.automl: 09-19 13:06:12] {2897} INFO - iteration 5, current learner xgboost\n",
      "[flaml.automl: 09-19 13:06:12] {3072} INFO -  at 1.8s,\testimator xgboost's best error=0.1242,\tbest estimator xgboost's best error=0.1242\n",
      "[flaml.automl: 09-19 13:06:12] {2897} INFO - iteration 6, current learner xgboost\n",
      "[flaml.automl: 09-19 13:06:12] {3072} INFO -  at 2.0s,\testimator xgboost's best error=0.1242,\tbest estimator xgboost's best error=0.1242\n",
      "[flaml.automl: 09-19 13:06:12] {2897} INFO - iteration 7, current learner extra_tree\n",
      "[flaml.automl: 09-19 13:06:12] {3072} INFO -  at 2.2s,\testimator extra_tree's best error=0.1813,\tbest estimator xgboost's best error=0.1242\n",
      "[flaml.automl: 09-19 13:06:12] {2897} INFO - iteration 8, current learner xgboost\n",
      "[flaml.automl: 09-19 13:06:13] {3072} INFO -  at 2.5s,\testimator xgboost's best error=0.1242,\tbest estimator xgboost's best error=0.1242\n",
      "[flaml.automl: 09-19 13:06:13] {2897} INFO - iteration 9, current learner extra_tree\n",
      "[flaml.automl: 09-19 13:06:13] {3072} INFO -  at 2.7s,\testimator extra_tree's best error=0.1562,\tbest estimator xgboost's best error=0.1242\n",
      "[flaml.automl: 09-19 13:06:13] {2897} INFO - iteration 10, current learner xgboost\n",
      "[flaml.automl: 09-19 13:06:13] {3072} INFO -  at 2.9s,\testimator xgboost's best error=0.1204,\tbest estimator xgboost's best error=0.1204\n",
      "[flaml.automl: 09-19 13:06:13] {2897} INFO - iteration 11, current learner extra_tree\n",
      "[flaml.automl: 09-19 13:06:13] {3072} INFO -  at 3.1s,\testimator extra_tree's best error=0.1562,\tbest estimator xgboost's best error=0.1204\n",
      "[flaml.automl: 09-19 13:06:13] {2897} INFO - iteration 12, current learner rf\n",
      "[flaml.automl: 09-19 13:06:13] {3072} INFO -  at 3.3s,\testimator rf's best error=0.1529,\tbest estimator xgboost's best error=0.1204\n",
      "[flaml.automl: 09-19 13:06:13] {2897} INFO - iteration 13, current learner rf\n",
      "[flaml.automl: 09-19 13:06:14] {3072} INFO -  at 3.6s,\testimator rf's best error=0.1154,\tbest estimator rf's best error=0.1154\n",
      "[flaml.automl: 09-19 13:06:14] {2897} INFO - iteration 14, current learner rf\n",
      "[flaml.automl: 09-19 13:06:14] {3072} INFO -  at 3.8s,\testimator rf's best error=0.1154,\tbest estimator rf's best error=0.1154\n",
      "[flaml.automl: 09-19 13:06:14] {2897} INFO - iteration 15, current learner rf\n",
      "[flaml.automl: 09-19 13:06:14] {3072} INFO -  at 4.2s,\testimator rf's best error=0.1154,\tbest estimator rf's best error=0.1154\n",
      "[flaml.automl: 09-19 13:06:14] {2897} INFO - iteration 16, current learner rf\n",
      "[flaml.automl: 09-19 13:06:15] {3072} INFO -  at 4.4s,\testimator rf's best error=0.1070,\tbest estimator rf's best error=0.1070\n",
      "[flaml.automl: 09-19 13:06:15] {2897} INFO - iteration 17, current learner extra_tree\n",
      "[flaml.automl: 09-19 13:06:15] {3072} INFO -  at 4.7s,\testimator extra_tree's best error=0.1562,\tbest estimator rf's best error=0.1070\n",
      "[flaml.automl: 09-19 13:06:15] {2897} INFO - iteration 18, current learner rf\n",
      "[flaml.automl: 09-19 13:06:15] {3072} INFO -  at 5.1s,\testimator rf's best error=0.1070,\tbest estimator rf's best error=0.1070\n",
      "[flaml.automl: 09-19 13:06:15] {2897} INFO - iteration 19, current learner rf\n",
      "[flaml.automl: 09-19 13:06:16] {3072} INFO -  at 5.5s,\testimator rf's best error=0.1039,\tbest estimator rf's best error=0.1039\n",
      "[flaml.automl: 09-19 13:06:16] {2897} INFO - iteration 20, current learner rf\n",
      "[flaml.automl: 09-19 13:06:16] {3072} INFO -  at 6.0s,\testimator rf's best error=0.0945,\tbest estimator rf's best error=0.0945\n",
      "[flaml.automl: 09-19 13:06:16] {2897} INFO - iteration 21, current learner rf\n",
      "[flaml.automl: 09-19 13:06:16] {3072} INFO -  at 6.4s,\testimator rf's best error=0.0945,\tbest estimator rf's best error=0.0945\n",
      "[flaml.automl: 09-19 13:06:16] {2897} INFO - iteration 22, current learner rf\n",
      "[flaml.automl: 09-19 13:06:17] {3072} INFO -  at 7.0s,\testimator rf's best error=0.0945,\tbest estimator rf's best error=0.0945\n",
      "[flaml.automl: 09-19 13:06:17] {2897} INFO - iteration 23, current learner rf\n",
      "[flaml.automl: 09-19 13:06:18] {3072} INFO -  at 8.0s,\testimator rf's best error=0.0813,\tbest estimator rf's best error=0.0813\n",
      "[flaml.automl: 09-19 13:06:18] {2897} INFO - iteration 24, current learner extra_tree\n",
      "[flaml.automl: 09-19 13:06:18] {3072} INFO -  at 8.1s,\testimator extra_tree's best error=0.1528,\tbest estimator rf's best error=0.0813\n",
      "[flaml.automl: 09-19 13:06:18] {2897} INFO - iteration 25, current learner extra_tree\n",
      "[flaml.automl: 09-19 13:06:18] {3072} INFO -  at 8.4s,\testimator extra_tree's best error=0.1528,\tbest estimator rf's best error=0.0813\n",
      "[flaml.automl: 09-19 13:06:18] {2897} INFO - iteration 26, current learner rf\n",
      "[flaml.automl: 09-19 13:06:19] {3072} INFO -  at 8.7s,\testimator rf's best error=0.0813,\tbest estimator rf's best error=0.0813\n",
      "[flaml.automl: 09-19 13:06:19] {2897} INFO - iteration 27, current learner rf\n",
      "[flaml.automl: 09-19 13:06:20] {3072} INFO -  at 9.8s,\testimator rf's best error=0.0792,\tbest estimator rf's best error=0.0792\n",
      "[flaml.automl: 09-19 13:06:20] {2897} INFO - iteration 28, current learner rf\n",
      "[flaml.automl: 09-19 13:06:21] {3072} INFO -  at 10.5s,\testimator rf's best error=0.0792,\tbest estimator rf's best error=0.0792\n",
      "[flaml.automl: 09-19 13:06:21] {2897} INFO - iteration 29, current learner rf\n",
      "[flaml.automl: 09-19 13:06:22] {3072} INFO -  at 11.8s,\testimator rf's best error=0.0792,\tbest estimator rf's best error=0.0792\n",
      "[flaml.automl: 09-19 13:06:22] {2897} INFO - iteration 30, current learner rf\n",
      "[flaml.automl: 09-19 13:06:23] {3072} INFO -  at 13.3s,\testimator rf's best error=0.0792,\tbest estimator rf's best error=0.0792\n",
      "[flaml.automl: 09-19 13:06:23] {2897} INFO - iteration 31, current learner rf\n",
      "[flaml.automl: 09-19 13:06:24] {3072} INFO -  at 14.1s,\testimator rf's best error=0.0792,\tbest estimator rf's best error=0.0792\n",
      "[flaml.automl: 09-19 13:06:24] {2897} INFO - iteration 32, current learner catboost\n",
      "[flaml.automl: 09-19 13:06:25] {3072} INFO -  at 14.9s,\testimator catboost's best error=0.1336,\tbest estimator rf's best error=0.0792\n",
      "[flaml.automl: 09-19 13:06:25] {2897} INFO - iteration 33, current learner catboost\n",
      "[flaml.automl: 09-19 13:06:26] {3072} INFO -  at 15.6s,\testimator catboost's best error=0.1336,\tbest estimator rf's best error=0.0792\n",
      "[flaml.automl: 09-19 13:06:26] {2897} INFO - iteration 34, current learner catboost\n",
      "[flaml.automl: 09-19 13:06:26] {3072} INFO -  at 16.4s,\testimator catboost's best error=0.1336,\tbest estimator rf's best error=0.0792\n",
      "[flaml.automl: 09-19 13:06:26] {2897} INFO - iteration 35, current learner rf\n",
      "[flaml.automl: 09-19 13:06:27] {3072} INFO -  at 16.9s,\testimator rf's best error=0.0792,\tbest estimator rf's best error=0.0792\n"
     ]
    },
    {
     "name": "stderr",
     "output_type": "stream",
     "text": [
      "[flaml.automl: 09-19 13:06:27] {2897} INFO - iteration 36, current learner catboost\n",
      "[flaml.automl: 09-19 13:06:28] {3072} INFO -  at 17.7s,\testimator catboost's best error=0.1336,\tbest estimator rf's best error=0.0792\n",
      "[flaml.automl: 09-19 13:06:28] {2897} INFO - iteration 37, current learner xgboost\n",
      "[flaml.automl: 09-19 13:06:28] {3072} INFO -  at 18.0s,\testimator xgboost's best error=0.1204,\tbest estimator rf's best error=0.0792\n",
      "[flaml.automl: 09-19 13:06:28] {2897} INFO - iteration 38, current learner catboost\n",
      "[flaml.automl: 09-19 13:06:29] {3072} INFO -  at 18.8s,\testimator catboost's best error=0.1336,\tbest estimator rf's best error=0.0792\n",
      "[flaml.automl: 09-19 13:06:29] {2897} INFO - iteration 39, current learner catboost\n",
      "[flaml.automl: 09-19 13:06:30] {3072} INFO -  at 19.6s,\testimator catboost's best error=0.1336,\tbest estimator rf's best error=0.0792\n",
      "[flaml.automl: 09-19 13:06:30] {2897} INFO - iteration 40, current learner rf\n",
      "[flaml.automl: 09-19 13:06:31] {3072} INFO -  at 21.1s,\testimator rf's best error=0.0792,\tbest estimator rf's best error=0.0792\n",
      "[flaml.automl: 09-19 13:06:31] {2897} INFO - iteration 41, current learner catboost\n",
      "[flaml.automl: 09-19 13:06:32] {3072} INFO -  at 21.8s,\testimator catboost's best error=0.1336,\tbest estimator rf's best error=0.0792\n",
      "[flaml.automl: 09-19 13:06:32] {2897} INFO - iteration 42, current learner catboost\n",
      "[flaml.automl: 09-19 13:06:33] {3072} INFO -  at 22.6s,\testimator catboost's best error=0.1336,\tbest estimator rf's best error=0.0792\n",
      "[flaml.automl: 09-19 13:06:33] {2897} INFO - iteration 43, current learner rf\n",
      "[flaml.automl: 09-19 13:06:34] {3072} INFO -  at 24.3s,\testimator rf's best error=0.0778,\tbest estimator rf's best error=0.0778\n",
      "[flaml.automl: 09-19 13:06:34] {2897} INFO - iteration 44, current learner catboost\n",
      "[flaml.automl: 09-19 13:06:35] {3072} INFO -  at 25.1s,\testimator catboost's best error=0.1336,\tbest estimator rf's best error=0.0778\n",
      "[flaml.automl: 09-19 13:06:35] {2897} INFO - iteration 45, current learner extra_tree\n",
      "[flaml.automl: 09-19 13:06:35] {3072} INFO -  at 25.2s,\testimator extra_tree's best error=0.1360,\tbest estimator rf's best error=0.0778\n",
      "[flaml.automl: 09-19 13:06:35] {2897} INFO - iteration 46, current learner extra_tree\n",
      "[flaml.automl: 09-19 13:06:36] {3072} INFO -  at 25.6s,\testimator extra_tree's best error=0.1231,\tbest estimator rf's best error=0.0778\n",
      "[flaml.automl: 09-19 13:06:36] {2897} INFO - iteration 47, current learner catboost\n",
      "[flaml.automl: 09-19 13:06:36] {3072} INFO -  at 26.3s,\testimator catboost's best error=0.1336,\tbest estimator rf's best error=0.0778\n",
      "[flaml.automl: 09-19 13:06:36] {2897} INFO - iteration 48, current learner extra_tree\n",
      "[flaml.automl: 09-19 13:06:37] {3072} INFO -  at 26.5s,\testimator extra_tree's best error=0.1231,\tbest estimator rf's best error=0.0778\n",
      "[flaml.automl: 09-19 13:06:37] {2897} INFO - iteration 49, current learner rf\n",
      "[flaml.automl: 09-19 13:06:38] {3072} INFO -  at 27.5s,\testimator rf's best error=0.0778,\tbest estimator rf's best error=0.0778\n",
      "[flaml.automl: 09-19 13:06:38] {2897} INFO - iteration 50, current learner catboost\n",
      "[flaml.automl: 09-19 13:06:38] {3072} INFO -  at 28.2s,\testimator catboost's best error=0.1336,\tbest estimator rf's best error=0.0778\n",
      "[flaml.automl: 09-19 13:06:38] {2897} INFO - iteration 51, current learner extra_tree\n",
      "[flaml.automl: 09-19 13:06:39] {3072} INFO -  at 28.4s,\testimator extra_tree's best error=0.1231,\tbest estimator rf's best error=0.0778\n",
      "[flaml.automl: 09-19 13:06:39] {2897} INFO - iteration 52, current learner catboost\n",
      "[flaml.automl: 09-19 13:06:39] {3072} INFO -  at 29.1s,\testimator catboost's best error=0.1336,\tbest estimator rf's best error=0.0778\n",
      "[flaml.automl: 09-19 13:06:39] {2897} INFO - iteration 53, current learner catboost\n",
      "[flaml.automl: 09-19 13:06:40] {3072} INFO -  at 29.8s,\testimator catboost's best error=0.1336,\tbest estimator rf's best error=0.0778\n",
      "[flaml.automl: 09-19 13:06:40] {2897} INFO - iteration 54, current learner rf\n",
      "[flaml.automl: 09-19 13:06:42] {3072} INFO -  at 31.8s,\testimator rf's best error=0.0778,\tbest estimator rf's best error=0.0778\n",
      "[flaml.automl: 09-19 13:06:42] {2897} INFO - iteration 55, current learner rf\n",
      "[flaml.automl: 09-19 13:06:43] {3072} INFO -  at 33.0s,\testimator rf's best error=0.0778,\tbest estimator rf's best error=0.0778\n",
      "[flaml.automl: 09-19 13:06:43] {2897} INFO - iteration 56, current learner extra_tree\n",
      "[flaml.automl: 09-19 13:06:43] {3072} INFO -  at 33.3s,\testimator extra_tree's best error=0.1017,\tbest estimator rf's best error=0.0778\n",
      "[flaml.automl: 09-19 13:06:43] {2897} INFO - iteration 57, current learner catboost\n",
      "[flaml.automl: 09-19 13:06:44] {3072} INFO -  at 34.0s,\testimator catboost's best error=0.1336,\tbest estimator rf's best error=0.0778\n",
      "[flaml.automl: 09-19 13:06:44] {2897} INFO - iteration 58, current learner catboost\n",
      "[flaml.automl: 09-19 13:06:45] {3072} INFO -  at 34.8s,\testimator catboost's best error=0.1336,\tbest estimator rf's best error=0.0778\n",
      "[flaml.automl: 09-19 13:06:45] {2897} INFO - iteration 59, current learner extra_tree\n",
      "[flaml.automl: 09-19 13:06:45] {3072} INFO -  at 35.1s,\testimator extra_tree's best error=0.1017,\tbest estimator rf's best error=0.0778\n",
      "[flaml.automl: 09-19 13:06:45] {2897} INFO - iteration 60, current learner rf\n",
      "[flaml.automl: 09-19 13:06:47] {3072} INFO -  at 36.7s,\testimator rf's best error=0.0778,\tbest estimator rf's best error=0.0778\n",
      "[flaml.automl: 09-19 13:06:47] {2897} INFO - iteration 61, current learner extra_tree\n",
      "[flaml.automl: 09-19 13:06:47] {3072} INFO -  at 37.1s,\testimator extra_tree's best error=0.0914,\tbest estimator rf's best error=0.0778\n",
      "[flaml.automl: 09-19 13:06:47] {2897} INFO - iteration 62, current learner rf\n",
      "[flaml.automl: 09-19 13:06:48] {3072} INFO -  at 38.4s,\testimator rf's best error=0.0778,\tbest estimator rf's best error=0.0778\n",
      "[flaml.automl: 09-19 13:06:48] {2897} INFO - iteration 63, current learner extra_tree\n",
      "[flaml.automl: 09-19 13:06:49] {3072} INFO -  at 38.6s,\testimator extra_tree's best error=0.0886,\tbest estimator rf's best error=0.0778\n",
      "[flaml.automl: 09-19 13:06:49] {2897} INFO - iteration 64, current learner extra_tree\n",
      "[flaml.automl: 09-19 13:06:49] {3072} INFO -  at 39.0s,\testimator extra_tree's best error=0.0886,\tbest estimator rf's best error=0.0778\n",
      "[flaml.automl: 09-19 13:06:49] {2897} INFO - iteration 65, current learner rf\n",
      "[flaml.automl: 09-19 13:06:51] {3072} INFO -  at 40.5s,\testimator rf's best error=0.0778,\tbest estimator rf's best error=0.0778\n",
      "[flaml.automl: 09-19 13:06:51] {2897} INFO - iteration 66, current learner catboost\n",
      "[flaml.automl: 09-19 13:06:51] {3072} INFO -  at 41.2s,\testimator catboost's best error=0.1336,\tbest estimator rf's best error=0.0778\n",
      "[flaml.automl: 09-19 13:06:51] {2897} INFO - iteration 67, current learner extra_tree\n",
      "[flaml.automl: 09-19 13:06:52] {3072} INFO -  at 41.5s,\testimator extra_tree's best error=0.0886,\tbest estimator rf's best error=0.0778\n",
      "[flaml.automl: 09-19 13:06:52] {2897} INFO - iteration 68, current learner catboost\n",
      "[flaml.automl: 09-19 13:06:52] {3072} INFO -  at 42.2s,\testimator catboost's best error=0.1336,\tbest estimator rf's best error=0.0778\n",
      "[flaml.automl: 09-19 13:06:52] {2897} INFO - iteration 69, current learner rf\n",
      "[flaml.automl: 09-19 13:06:54] {3072} INFO -  at 44.2s,\testimator rf's best error=0.0778,\tbest estimator rf's best error=0.0778\n",
      "[flaml.automl: 09-19 13:06:54] {2897} INFO - iteration 70, current learner xgboost\n",
      "[flaml.automl: 09-19 13:06:55] {3072} INFO -  at 44.5s,\testimator xgboost's best error=0.1184,\tbest estimator rf's best error=0.0778\n",
      "[flaml.automl: 09-19 13:06:55] {2897} INFO - iteration 71, current learner extra_tree\n",
      "[flaml.automl: 09-19 13:06:55] {3072} INFO -  at 44.7s,\testimator extra_tree's best error=0.0886,\tbest estimator rf's best error=0.0778\n",
      "[flaml.automl: 09-19 13:06:55] {2897} INFO - iteration 72, current learner catboost\n",
      "[flaml.automl: 09-19 13:06:56] {3072} INFO -  at 45.5s,\testimator catboost's best error=0.1336,\tbest estimator rf's best error=0.0778\n",
      "[flaml.automl: 09-19 13:06:56] {2897} INFO - iteration 73, current learner extra_tree\n",
      "[flaml.automl: 09-19 13:06:56] {3072} INFO -  at 45.7s,\testimator extra_tree's best error=0.0886,\tbest estimator rf's best error=0.0778\n"
     ]
    },
    {
     "name": "stderr",
     "output_type": "stream",
     "text": [
      "[flaml.automl: 09-19 13:06:56] {2897} INFO - iteration 74, current learner xgboost\n",
      "[flaml.automl: 09-19 13:06:56] {3072} INFO -  at 46.0s,\testimator xgboost's best error=0.1184,\tbest estimator rf's best error=0.0778\n",
      "[flaml.automl: 09-19 13:06:56] {2897} INFO - iteration 75, current learner extra_tree\n",
      "[flaml.automl: 09-19 13:06:56] {3072} INFO -  at 46.3s,\testimator extra_tree's best error=0.0848,\tbest estimator rf's best error=0.0778\n",
      "[flaml.automl: 09-19 13:06:56] {2897} INFO - iteration 76, current learner rf\n",
      "[flaml.automl: 09-19 13:06:59] {3072} INFO -  at 49.3s,\testimator rf's best error=0.0778,\tbest estimator rf's best error=0.0778\n",
      "[flaml.automl: 09-19 13:06:59] {2897} INFO - iteration 77, current learner rf\n",
      "[flaml.automl: 09-19 13:07:00] {3072} INFO -  at 50.3s,\testimator rf's best error=0.0778,\tbest estimator rf's best error=0.0778\n",
      "[flaml.automl: 09-19 13:07:00] {2897} INFO - iteration 78, current learner extra_tree\n",
      "[flaml.automl: 09-19 13:07:01] {3072} INFO -  at 50.6s,\testimator extra_tree's best error=0.0806,\tbest estimator rf's best error=0.0778\n",
      "[flaml.automl: 09-19 13:07:01] {2897} INFO - iteration 79, current learner extra_tree\n",
      "[flaml.automl: 09-19 13:07:01] {3072} INFO -  at 51.0s,\testimator extra_tree's best error=0.0806,\tbest estimator rf's best error=0.0778\n",
      "[flaml.automl: 09-19 13:07:01] {2897} INFO - iteration 80, current learner extra_tree\n",
      "[flaml.automl: 09-19 13:07:02] {3072} INFO -  at 51.5s,\testimator extra_tree's best error=0.0805,\tbest estimator rf's best error=0.0778\n",
      "[flaml.automl: 09-19 13:07:02] {2897} INFO - iteration 81, current learner extra_tree\n",
      "[flaml.automl: 09-19 13:07:02] {3072} INFO -  at 52.0s,\testimator extra_tree's best error=0.0805,\tbest estimator rf's best error=0.0778\n",
      "[flaml.automl: 09-19 13:07:02] {2897} INFO - iteration 82, current learner rf\n",
      "[flaml.automl: 09-19 13:07:05] {3072} INFO -  at 54.5s,\testimator rf's best error=0.0778,\tbest estimator rf's best error=0.0778\n",
      "[flaml.automl: 09-19 13:07:05] {2897} INFO - iteration 83, current learner catboost\n",
      "[flaml.automl: 09-19 13:07:05] {3072} INFO -  at 55.3s,\testimator catboost's best error=0.1336,\tbest estimator rf's best error=0.0778\n",
      "[flaml.automl: 09-19 13:07:05] {2897} INFO - iteration 84, current learner catboost\n",
      "[flaml.automl: 09-19 13:07:06] {3072} INFO -  at 56.0s,\testimator catboost's best error=0.1336,\tbest estimator rf's best error=0.0778\n",
      "[flaml.automl: 09-19 13:07:06] {2897} INFO - iteration 85, current learner xgboost\n",
      "[flaml.automl: 09-19 13:07:06] {3072} INFO -  at 56.3s,\testimator xgboost's best error=0.1115,\tbest estimator rf's best error=0.0778\n",
      "[flaml.automl: 09-19 13:07:06] {2897} INFO - iteration 86, current learner xgboost\n",
      "[flaml.automl: 09-19 13:07:07] {3072} INFO -  at 56.7s,\testimator xgboost's best error=0.1024,\tbest estimator rf's best error=0.0778\n",
      "[flaml.automl: 09-19 13:07:07] {2897} INFO - iteration 87, current learner xgboost\n",
      "[flaml.automl: 09-19 13:07:07] {3072} INFO -  at 57.0s,\testimator xgboost's best error=0.1024,\tbest estimator rf's best error=0.0778\n",
      "[flaml.automl: 09-19 13:07:07] {2897} INFO - iteration 88, current learner xgboost\n",
      "[flaml.automl: 09-19 13:07:07] {3072} INFO -  at 57.3s,\testimator xgboost's best error=0.1024,\tbest estimator rf's best error=0.0778\n",
      "[flaml.automl: 09-19 13:07:07] {2897} INFO - iteration 89, current learner catboost\n",
      "[flaml.automl: 09-19 13:07:08] {3072} INFO -  at 58.2s,\testimator catboost's best error=0.1336,\tbest estimator rf's best error=0.0778\n",
      "[flaml.automl: 09-19 13:07:08] {2897} INFO - iteration 90, current learner xgboost\n",
      "[flaml.automl: 09-19 13:07:09] {3072} INFO -  at 58.6s,\testimator xgboost's best error=0.0955,\tbest estimator rf's best error=0.0778\n",
      "[flaml.automl: 09-19 13:07:09] {2897} INFO - iteration 91, current learner xgboost\n",
      "[flaml.automl: 09-19 13:07:09] {3072} INFO -  at 59.2s,\testimator xgboost's best error=0.0955,\tbest estimator rf's best error=0.0778\n",
      "[flaml.automl: 09-19 13:07:09] {2897} INFO - iteration 92, current learner extra_tree\n",
      "[flaml.automl: 09-19 13:07:10] {3072} INFO -  at 59.8s,\testimator extra_tree's best error=0.0805,\tbest estimator rf's best error=0.0778\n",
      "[flaml.automl: 09-19 13:07:10] {2897} INFO - iteration 93, current learner xgb_limitdepth\n",
      "[flaml.automl: 09-19 13:07:10] {3072} INFO -  at 60.0s,\testimator xgb_limitdepth's best error=0.0962,\tbest estimator rf's best error=0.0778\n",
      "[flaml.automl: 09-19 13:07:11] {3335} INFO - retrain rf for 0.6s\n",
      "[flaml.automl: 09-19 13:07:11] {3342} INFO - retrained model: RandomForestClassifier(criterion='entropy', max_features=0.46244259058697984,\n",
      "                       max_leaf_nodes=238, n_estimators=15, n_jobs=8)\n",
      "[flaml.automl: 09-19 13:07:11] {2636} INFO - fit succeeded\n",
      "[flaml.automl: 09-19 13:07:11] {2637} INFO - Time taken to find the best model: 24.30670475959778\n"
     ]
    }
   ],
   "source": [
    "import warnings\n",
    "\n",
    "#estimators = ['xgb_limitdepth']\n",
    "#estimators = ['extra_tree']\n",
    "\n",
    "with warnings.catch_warnings():\n",
    "    warnings.simplefilter(\"ignore\")\n",
    "\n",
    "    automl.fit(X_train, y_train, task=\"classification\", metric='accuracy',\n",
    "                                #X_val=X_test , y_val=y_test.to_numpy(),\n",
    "                                #ensemble=True,\n",
    "                                #estimator_list=estimators, \n",
    "                                time_budget=60, n_jobs=8, \n",
    "                                eval_method='cv',\n",
    "                                #log_file_name='general_extra_features3.log',\n",
    "                                #starting_points=automl.best_config_per_estimator\n",
    "              )"
   ]
  },
  {
   "cell_type": "code",
   "execution_count": 86,
   "id": "ce809fca",
   "metadata": {},
   "outputs": [
    {
     "name": "stdout",
     "output_type": "stream",
     "text": [
      "                                                      precision    recall  f1-score   support\n",
      "\n",
      "      jet-mode radio AGN/low-excitation radio galaxy     0.9402    0.9724    0.9560      1955\n",
      "quasar-like radio AGN / high-excitation radio galaxy     0.5556    0.1053    0.1770        95\n",
      "                                 star-forming galaxy     0.8904    0.9057    0.8980       583\n",
      "\n",
      "                                            accuracy                         0.9263      2633\n",
      "                                           macro avg     0.7954    0.6611    0.6770      2633\n",
      "                                        weighted avg     0.9153    0.9263    0.9150      2633\n",
      "\n"
     ]
    }
   ],
   "source": [
    "y_pred = automl.predict(X_test)\n",
    "print(classification_report(y_test, y_pred, target_names=labels, digits=4))"
   ]
  },
  {
   "cell_type": "code",
   "execution_count": null,
   "id": "d00c1182",
   "metadata": {},
   "outputs": [],
   "source": []
  }
 ],
 "metadata": {
  "kernelspec": {
   "display_name": "Python 3 (ipykernel)",
   "language": "python",
   "name": "python3"
  },
  "language_info": {
   "codemirror_mode": {
    "name": "ipython",
    "version": 3
   },
   "file_extension": ".py",
   "mimetype": "text/x-python",
   "name": "python",
   "nbconvert_exporter": "python",
   "pygments_lexer": "ipython3",
   "version": "3.9.13"
  }
 },
 "nbformat": 4,
 "nbformat_minor": 5
}
