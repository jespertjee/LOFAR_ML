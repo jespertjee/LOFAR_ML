{
 "cells": [
  {
   "cell_type": "code",
   "execution_count": 109,
   "id": "fca4f926",
   "metadata": {},
   "outputs": [],
   "source": [
    "import pandas as pd\n",
    "import numpy as np\n",
    "from sklearn.impute import SimpleImputer\n",
    "from sklearn.model_selection import train_test_split, GridSearchCV, cross_val_score\n",
    "from sklearn.preprocessing import StandardScaler, OneHotEncoder, LabelEncoder, OrdinalEncoder, MinMaxScaler, RobustScaler, MaxAbsScaler\n",
    "from sklearn.ensemble import RandomForestClassifier\n",
    "from sklearn.metrics import accuracy_score, classification_report\n",
    "from sklearn.decomposition import PCA\n",
    "from sklearn.utils.class_weight import compute_class_weight\n",
    "\n",
    "from sklearn.metrics import confusion_matrix, ConfusionMatrixDisplay\n",
    "import matplotlib.pyplot as plt\n",
    "\n",
    "from xgboost import XGBClassifier\n",
    "import xgboost as xgb\n",
    "\n",
    "import tensorflow as tf\n",
    "from tensorflow import keras\n",
    "from tensorflow.keras import layers\n",
    "from keras.models import Sequential\n",
    "from keras.layers import Dense"
   ]
  },
  {
   "cell_type": "code",
   "execution_count": 110,
   "id": "cbbf3730",
   "metadata": {},
   "outputs": [],
   "source": [
    "\"\"\"\n",
    "features_num = [\n",
    "    'Total_flux', 'Peak_flux', \n",
    "       'NUV_flux_corr', 'u_flux_corr', 'Bw_flux_corr', 'R_flux_corr',\n",
    "       'I_flux_corr', 'z_flux_corr', 'z_Subaru_flux_corr', 'y_flux_corr',\n",
    "       'J_flux_corr', 'H_flux_corr', 'K_flux_corr', 'Ks_flux_corr',\n",
    "       'ch1_flux_corr', 'ch2_flux_corr', 'ch3_flux_corr', 'ch4_flux_corr',\n",
    "       'F_MIPS_24', 'F_PACS_100', 'F_PACS_160', 'F_SPIRE_250', 'F_SPIRE_350',\n",
    "       'F_SPIRE_500', 'Z_BEST', 'Mass_median', 'Mass_l68', 'Mass_u68',\n",
    "        'z_rcs_flux_corr', 'z_hsc_flux_corr', 'i_hsc_flux_corr',\n",
    "       'i_rcs_flux_corr', 'i_flux_corr', 'y_hsc_flux_corr', 'r_flux_corr',\n",
    "       'r_hsc_flux_corr', 'r_rcs_flux_corr', 'ch1_swire_flux_corr',\n",
    "       'ch2_swire_flux_corr', 'ch3_swire_flux_corr', 'ch4_swire_flux_corr',\n",
    "       'ch1_servs_flux_corr', 'ch2_servs_flux_corr', 'g_flux_corr',\n",
    "       'g_hsc_flux_corr', 'nb921_hsc_flux_corr', 'g_rcs_flux_corr'\n",
    "]\n",
    "\"\"\"\n",
    "\"\"\"\n",
    "features_num = [\n",
    "    'Total_flux', 'Peak_flux', \n",
    "       'NUV_flux_corr', 'u_flux_corr', 'Bw_flux_corr', 'R_flux_corr',\n",
    "       'I_flux_corr', 'z_flux_corr', 'z_Subaru_flux_corr', 'y_flux_corr',\n",
    "       'J_flux_corr', 'H_flux_corr', 'K_flux_corr', 'Ks_flux_corr',\n",
    "       'ch1_flux_corr', 'ch2_flux_corr', 'ch3_flux_corr', 'ch4_flux_corr',\n",
    "       'F_MIPS_24', 'F_PACS_100', 'F_PACS_160', 'F_SPIRE_250', 'F_SPIRE_350',\n",
    "       'F_SPIRE_500', 'Z_BEST', \n",
    "        'z_rcs_flux_corr', 'z_hsc_flux_corr', 'i_hsc_flux_corr',\n",
    "       'i_rcs_flux_corr', 'i_flux_corr', 'y_hsc_flux_corr', 'r_flux_corr',\n",
    "       'r_hsc_flux_corr', 'r_rcs_flux_corr', 'ch1_swire_flux_corr',\n",
    "       'ch2_swire_flux_corr', 'ch3_swire_flux_corr', 'ch4_swire_flux_corr',\n",
    "       'ch1_servs_flux_corr', 'ch2_servs_flux_corr', 'g_flux_corr',\n",
    "       'g_hsc_flux_corr', 'nb921_hsc_flux_corr', 'g_rcs_flux_corr'\n",
    "]\n",
    "\"\"\"\n",
    "features_num = [\n",
    "    'Total_flux', 'Peak_flux', \n",
    "       'NUV_flux_corr', 'u_flux_corr', 'Bw_flux_corr', 'R_flux_corr',\n",
    "       'I_flux_corr', 'z_flux_corr', 'y_flux_corr',\n",
    "       'J_flux_corr', 'H_flux_corr', 'K_flux_corr', 'Ks_flux_corr',\n",
    "       'ch1_flux_corr', 'ch2_flux_corr', 'ch3_flux_corr', 'ch4_flux_corr',\n",
    "       'F_MIPS_24', 'F_PACS_100', 'F_PACS_160', 'F_SPIRE_250', 'F_SPIRE_350',\n",
    "       'F_SPIRE_500', 'Z_BEST', 'r_rcs_flux_corr',\n",
    "       'g_flux_corr', 'nb921_hsc_flux_corr'\n",
    "]\n",
    "y_column = \"Classification\"\n",
    "\n",
    "classes = ['jet-mode radio AGN/low-excitation radio galaxy', 'quasar-like radio AGN / high-excitation radio galaxy', \n",
    "           'radio-quiet AGN', 'star-forming galaxy']"
   ]
  },
  {
   "cell_type": "code",
   "execution_count": null,
   "id": "f32f2264",
   "metadata": {},
   "outputs": [],
   "source": []
  },
  {
   "cell_type": "code",
   "execution_count": 111,
   "id": "a6906da4",
   "metadata": {},
   "outputs": [],
   "source": [
    "data = pd.read_csv(\"../../../Data/Fangyou_data/Cleaned/combined_filled_preprocessed.csv\")"
   ]
  },
  {
   "cell_type": "code",
   "execution_count": 112,
   "id": "d4521d7b",
   "metadata": {},
   "outputs": [
    {
     "data": {
      "text/plain": [
       "Index(['Source_Name', 'Total_flux', 'Peak_flux', 'S_Code', 'EBV',\n",
       "       'FUV_flux_corr', 'NUV_flux_corr', 'u_flux_corr', 'Bw_flux_corr',\n",
       "       'R_flux_corr', 'I_flux_corr', 'z_flux_corr', 'z_Subaru_flux_corr',\n",
       "       'y_flux_corr', 'J_flux_corr', 'H_flux_corr', 'K_flux_corr',\n",
       "       'Ks_flux_corr', 'ch1_flux_corr', 'ch2_flux_corr', 'ch3_flux_corr',\n",
       "       'ch4_flux_corr', 'F_MIPS_24', 'F_PACS_100', 'F_PACS_160', 'F_SPIRE_250',\n",
       "       'F_SPIRE_350', 'F_SPIRE_500', 'Z_BEST', 'Mass_median', 'Mass_l68',\n",
       "       'Mass_u68', 'Source', 'AGN_final', 'RadioAGN_final', 'Classification',\n",
       "       'Radio_excess', 'AGNfrac_af', 'AGNfrac_af_16', 'AGNfrac_cg_s_16',\n",
       "       'Xray', 'Opt_spec', 'IRAGN', 'Extended_radio', 'z_rcs_flux_corr',\n",
       "       'z_hsc_flux_corr', 'i_hsc_flux_corr', 'i_rcs_flux_corr', 'i_flux_corr',\n",
       "       'y_hsc_flux_corr', 'r_flux_corr', 'r_hsc_flux_corr', 'r_rcs_flux_corr',\n",
       "       'ch1_swire_flux_corr', 'ch2_swire_flux_corr', 'ch3_swire_flux_corr',\n",
       "       'ch4_swire_flux_corr', 'ch1_servs_flux_corr', 'ch2_servs_flux_corr',\n",
       "       'g_flux_corr', 'g_hsc_flux_corr', 'nb921_hsc_flux_corr',\n",
       "       'g_rcs_flux_corr'],\n",
       "      dtype='object')"
      ]
     },
     "execution_count": 112,
     "metadata": {},
     "output_type": "execute_result"
    }
   ],
   "source": [
    "data.columns"
   ]
  },
  {
   "cell_type": "code",
   "execution_count": 113,
   "id": "2774538d",
   "metadata": {},
   "outputs": [
    {
     "data": {
      "text/plain": [
       "Source_Name            0\n",
       "Total_flux             0\n",
       "Peak_flux              0\n",
       "S_Code                 0\n",
       "EBV                    0\n",
       "                      ..\n",
       "ch2_servs_flux_corr    0\n",
       "g_flux_corr            0\n",
       "g_hsc_flux_corr        0\n",
       "nb921_hsc_flux_corr    0\n",
       "g_rcs_flux_corr        0\n",
       "Length: 63, dtype: int64"
      ]
     },
     "execution_count": 113,
     "metadata": {},
     "output_type": "execute_result"
    }
   ],
   "source": [
    "data.isna().sum()"
   ]
  },
  {
   "cell_type": "code",
   "execution_count": 114,
   "id": "7fbd1232",
   "metadata": {},
   "outputs": [],
   "source": [
    "X = data[features_num]\n",
    "y = data[np.append(y_column, ['Xray', 'Opt_spec', 'Extended_radio', 'IRAGN'])]"
   ]
  },
  {
   "cell_type": "code",
   "execution_count": null,
   "id": "e5a4bff2",
   "metadata": {},
   "outputs": [],
   "source": []
  },
  {
   "cell_type": "code",
   "execution_count": null,
   "id": "59cd4a5b",
   "metadata": {},
   "outputs": [],
   "source": []
  },
  {
   "cell_type": "code",
   "execution_count": null,
   "id": "bcf1526a",
   "metadata": {},
   "outputs": [],
   "source": []
  },
  {
   "cell_type": "code",
   "execution_count": 115,
   "id": "11cc87a3",
   "metadata": {},
   "outputs": [
    {
     "name": "stderr",
     "output_type": "stream",
     "text": [
      "/var/lib/condor/execute/dir_442968/ipykernel_443786/2925652128.py:3: SettingWithCopyWarning: \n",
      "A value is trying to be set on a copy of a slice from a DataFrame.\n",
      "Try using .loc[row_indexer,col_indexer] = value instead\n",
      "\n",
      "See the caveats in the documentation: https://pandas.pydata.org/pandas-docs/stable/user_guide/indexing.html#returning-a-view-versus-a-copy\n",
      "  y[y_column] = le.fit_transform(y[y_column])\n"
     ]
    }
   ],
   "source": [
    "le = LabelEncoder()\n",
    "labels = np.unique(y[y_column].astype(str))\n",
    "y[y_column] = le.fit_transform(y[y_column])"
   ]
  },
  {
   "cell_type": "code",
   "execution_count": 116,
   "id": "8216a47c",
   "metadata": {},
   "outputs": [],
   "source": [
    "# Creating training and testing set\n",
    "X_train, X_test, y_train, y_test = train_test_split(X, y, train_size=0.8, random_state=42)\n",
    "\n",
    "y_train_flags = y_train[['Xray', 'Opt_spec', 'Extended_radio', 'IRAGN']]\n",
    "y_test_flags = y_test[['Xray', 'Opt_spec', 'Extended_radio', 'IRAGN']]\n",
    "\n",
    "y_train = y_train.drop(columns=['Xray', 'Opt_spec', 'Extended_radio', 'IRAGN'])\n",
    "y_test = y_test.drop(columns=['Xray', 'Opt_spec', 'Extended_radio', 'IRAGN'])"
   ]
  },
  {
   "cell_type": "code",
   "execution_count": null,
   "id": "233e39fc",
   "metadata": {},
   "outputs": [],
   "source": []
  },
  {
   "cell_type": "code",
   "execution_count": 117,
   "id": "e969635a",
   "metadata": {},
   "outputs": [],
   "source": [
    "def one_hot(df, columns):\n",
    "    \"\"\"\n",
    "    One-hot encoding a certain column in a dataframe\n",
    "    \"\"\"\n",
    "    one_hot = pd.get_dummies(df[columns])\n",
    "    df = df.drop(columns=columns, axis = 1)\n",
    "    df = df.join(one_hot)\n",
    "    return df"
   ]
  },
  {
   "cell_type": "code",
   "execution_count": 118,
   "id": "bafd882e",
   "metadata": {},
   "outputs": [],
   "source": [
    "# Standard scaling the numerical data\n",
    "scaler = MinMaxScaler()\n",
    "\n",
    "# Transforming the categorical data\n",
    "X_train[features_num] = scaler.fit_transform(X_train[features_num])\n",
    "X_test[features_num] = scaler.transform(X_test[features_num])"
   ]
  },
  {
   "cell_type": "code",
   "execution_count": 119,
   "id": "c40ac41b",
   "metadata": {},
   "outputs": [],
   "source": [
    "from sklearn.utils import class_weight\n",
    "classes_weights = class_weight.compute_sample_weight(\n",
    "    class_weight='balanced',\n",
    "    y=y_train\n",
    ")"
   ]
  },
  {
   "cell_type": "markdown",
   "id": "0057ca91",
   "metadata": {},
   "source": [
    "# Random forest"
   ]
  },
  {
   "cell_type": "code",
   "execution_count": 221,
   "id": "ee43fe00",
   "metadata": {},
   "outputs": [
    {
     "data": {
      "text/html": [
       "<style>#sk-container-id-14 {color: black;background-color: white;}#sk-container-id-14 pre{padding: 0;}#sk-container-id-14 div.sk-toggleable {background-color: white;}#sk-container-id-14 label.sk-toggleable__label {cursor: pointer;display: block;width: 100%;margin-bottom: 0;padding: 0.3em;box-sizing: border-box;text-align: center;}#sk-container-id-14 label.sk-toggleable__label-arrow:before {content: \"▸\";float: left;margin-right: 0.25em;color: #696969;}#sk-container-id-14 label.sk-toggleable__label-arrow:hover:before {color: black;}#sk-container-id-14 div.sk-estimator:hover label.sk-toggleable__label-arrow:before {color: black;}#sk-container-id-14 div.sk-toggleable__content {max-height: 0;max-width: 0;overflow: hidden;text-align: left;background-color: #f0f8ff;}#sk-container-id-14 div.sk-toggleable__content pre {margin: 0.2em;color: black;border-radius: 0.25em;background-color: #f0f8ff;}#sk-container-id-14 input.sk-toggleable__control:checked~div.sk-toggleable__content {max-height: 200px;max-width: 100%;overflow: auto;}#sk-container-id-14 input.sk-toggleable__control:checked~label.sk-toggleable__label-arrow:before {content: \"▾\";}#sk-container-id-14 div.sk-estimator input.sk-toggleable__control:checked~label.sk-toggleable__label {background-color: #d4ebff;}#sk-container-id-14 div.sk-label input.sk-toggleable__control:checked~label.sk-toggleable__label {background-color: #d4ebff;}#sk-container-id-14 input.sk-hidden--visually {border: 0;clip: rect(1px 1px 1px 1px);clip: rect(1px, 1px, 1px, 1px);height: 1px;margin: -1px;overflow: hidden;padding: 0;position: absolute;width: 1px;}#sk-container-id-14 div.sk-estimator {font-family: monospace;background-color: #f0f8ff;border: 1px dotted black;border-radius: 0.25em;box-sizing: border-box;margin-bottom: 0.5em;}#sk-container-id-14 div.sk-estimator:hover {background-color: #d4ebff;}#sk-container-id-14 div.sk-parallel-item::after {content: \"\";width: 100%;border-bottom: 1px solid gray;flex-grow: 1;}#sk-container-id-14 div.sk-label:hover label.sk-toggleable__label {background-color: #d4ebff;}#sk-container-id-14 div.sk-serial::before {content: \"\";position: absolute;border-left: 1px solid gray;box-sizing: border-box;top: 0;bottom: 0;left: 50%;z-index: 0;}#sk-container-id-14 div.sk-serial {display: flex;flex-direction: column;align-items: center;background-color: white;padding-right: 0.2em;padding-left: 0.2em;position: relative;}#sk-container-id-14 div.sk-item {position: relative;z-index: 1;}#sk-container-id-14 div.sk-parallel {display: flex;align-items: stretch;justify-content: center;background-color: white;position: relative;}#sk-container-id-14 div.sk-item::before, #sk-container-id-14 div.sk-parallel-item::before {content: \"\";position: absolute;border-left: 1px solid gray;box-sizing: border-box;top: 0;bottom: 0;left: 50%;z-index: -1;}#sk-container-id-14 div.sk-parallel-item {display: flex;flex-direction: column;z-index: 1;position: relative;background-color: white;}#sk-container-id-14 div.sk-parallel-item:first-child::after {align-self: flex-end;width: 50%;}#sk-container-id-14 div.sk-parallel-item:last-child::after {align-self: flex-start;width: 50%;}#sk-container-id-14 div.sk-parallel-item:only-child::after {width: 0;}#sk-container-id-14 div.sk-dashed-wrapped {border: 1px dashed gray;margin: 0 0.4em 0.5em 0.4em;box-sizing: border-box;padding-bottom: 0.4em;background-color: white;}#sk-container-id-14 div.sk-label label {font-family: monospace;font-weight: bold;display: inline-block;line-height: 1.2em;}#sk-container-id-14 div.sk-label-container {text-align: center;}#sk-container-id-14 div.sk-container {/* jupyter's `normalize.less` sets `[hidden] { display: none; }` but bootstrap.min.css set `[hidden] { display: none !important; }` so we also need the `!important` here to be able to override the default hidden behavior on the sphinx rendered scikit-learn.org. See: https://github.com/scikit-learn/scikit-learn/issues/21755 */display: inline-block !important;position: relative;}#sk-container-id-14 div.sk-text-repr-fallback {display: none;}</style><div id=\"sk-container-id-14\" class=\"sk-top-container\"><div class=\"sk-text-repr-fallback\"><pre>RandomForestClassifier(class_weight={0: 3, 1: 1000, 2: 1.5, 3: 0.5},\n",
       "                       max_features=None, n_estimators=200, n_jobs=-1,\n",
       "                       random_state=42)</pre><b>In a Jupyter environment, please rerun this cell to show the HTML representation or trust the notebook. <br />On GitHub, the HTML representation is unable to render, please try loading this page with nbviewer.org.</b></div><div class=\"sk-container\" hidden><div class=\"sk-item\"><div class=\"sk-estimator sk-toggleable\"><input class=\"sk-toggleable__control sk-hidden--visually\" id=\"sk-estimator-id-14\" type=\"checkbox\" checked><label for=\"sk-estimator-id-14\" class=\"sk-toggleable__label sk-toggleable__label-arrow\">RandomForestClassifier</label><div class=\"sk-toggleable__content\"><pre>RandomForestClassifier(class_weight={0: 3, 1: 1000, 2: 1.5, 3: 0.5},\n",
       "                       max_features=None, n_estimators=200, n_jobs=-1,\n",
       "                       random_state=42)</pre></div></div></div></div></div>"
      ],
      "text/plain": [
       "RandomForestClassifier(class_weight={0: 3, 1: 1000, 2: 1.5, 3: 0.5},\n",
       "                       max_features=None, n_estimators=200, n_jobs=-1,\n",
       "                       random_state=42)"
      ]
     },
     "execution_count": 221,
     "metadata": {},
     "output_type": "execute_result"
    }
   ],
   "source": [
    "clf = RandomForestClassifier(n_estimators=200, \n",
    "                             max_features=None,\n",
    "                             n_jobs=-1, \n",
    "                             class_weight={0: 3, 1: 1000, 2: 1.5, 3: 0.5},\n",
    "                             random_state=42)\n",
    "clf.fit(X_train, y_train)"
   ]
  },
  {
   "cell_type": "code",
   "execution_count": 195,
   "id": "0227ae9c",
   "metadata": {},
   "outputs": [],
   "source": [
    "cv_score = cross_val_score(clf, X_train, y_train, cv=32, n_jobs=-1, scoring=\"accuracy\")"
   ]
  },
  {
   "cell_type": "code",
   "execution_count": 196,
   "id": "536922d0",
   "metadata": {},
   "outputs": [
    {
     "name": "stdout",
     "output_type": "stream",
     "text": [
      "Cross-validated Accuracy: 0.83311 ± 0.01399\n"
     ]
    }
   ],
   "source": [
    "print(\"Cross-validated Accuracy:\", round(np.mean(cv_score), 5), \"±\", round(np.std(cv_score), 5))"
   ]
  },
  {
   "cell_type": "code",
   "execution_count": 222,
   "id": "88978b9e",
   "metadata": {},
   "outputs": [
    {
     "name": "stdout",
     "output_type": "stream",
     "text": [
      "                                                      precision    recall  f1-score   support\n",
      "\n",
      "      jet-mode radio AGN/low-excitation radio galaxy     0.8109    0.5498    0.6553      2581\n",
      "quasar-like radio AGN / high-excitation radio galaxy     0.4828    0.1556    0.2353       270\n",
      "                                     radio-quiet AGN     0.7609    0.5140    0.6136      1356\n",
      "                                 star-forming galaxy     0.8531    0.9627    0.9046     11315\n",
      "\n",
      "                                            accuracy                         0.8408     15522\n",
      "                                           macro avg     0.7269    0.5455    0.6022     15522\n",
      "                                        weighted avg     0.8316    0.8408    0.8261     15522\n",
      "\n"
     ]
    }
   ],
   "source": [
    "y_pred = clf.predict(X_test)\n",
    "print(classification_report(y_test, y_pred, target_names=labels, digits=4))"
   ]
  },
  {
   "cell_type": "code",
   "execution_count": null,
   "id": "643c7c76",
   "metadata": {},
   "outputs": [],
   "source": []
  },
  {
   "cell_type": "code",
   "execution_count": 77,
   "id": "64ef5975",
   "metadata": {},
   "outputs": [
    {
     "data": {
      "text/plain": [
       "[]"
      ]
     },
     "execution_count": 77,
     "metadata": {},
     "output_type": "execute_result"
    },
    {
     "data": {
      "image/png": "[encoded data removed]",
      "text/plain": [
       "<Figure size 432x288 with 2 Axes>"
      ]
     },
     "metadata": {
      "needs_background": "light"
     },
     "output_type": "display_data"
    }
   ],
   "source": [
    "cm = confusion_matrix(y_test, y_pred)\n",
    "disp = ConfusionMatrixDisplay(confusion_matrix=cm, display_labels=labels)\n",
    "disp.plot()\n",
    "plt.xticks(rotation = 90)\n",
    "plt.plot()"
   ]
  },
  {
   "cell_type": "code",
   "execution_count": null,
   "id": "3c9c27b2",
   "metadata": {},
   "outputs": [],
   "source": []
  },
  {
   "cell_type": "markdown",
   "id": "df7caf58",
   "metadata": {},
   "source": [
    "# Lightgbm"
   ]
  },
  {
   "cell_type": "code",
   "execution_count": 79,
   "id": "b961b7af",
   "metadata": {},
   "outputs": [
    {
     "ename": "ModuleNotFoundError",
     "evalue": "No module named 'lightgbm'",
     "output_type": "error",
     "traceback": [
      "\u001b[0;31m---------------------------------------------------------------------------\u001b[0m",
      "\u001b[0;31mModuleNotFoundError\u001b[0m                       Traceback (most recent call last)",
      "\u001b[0;32m/var/lib/condor/execute/dir_442968/ipykernel_443786/1969329509.py\u001b[0m in \u001b[0;36m<module>\u001b[0;34m\u001b[0m\n\u001b[0;32m----> 1\u001b[0;31m \u001b[0;32mimport\u001b[0m \u001b[0mlightgbm\u001b[0m \u001b[0;32mas\u001b[0m \u001b[0mlgb\u001b[0m\u001b[0;34m\u001b[0m\u001b[0;34m\u001b[0m\u001b[0m\n\u001b[0m\u001b[1;32m      2\u001b[0m lightbm = lgb.LGBMClassifier(num_class=4, \n\u001b[1;32m      3\u001b[0m                              \u001b[0mobjective\u001b[0m\u001b[0;34m=\u001b[0m\u001b[0;34m\"multiclass\"\u001b[0m\u001b[0;34m,\u001b[0m\u001b[0;34m\u001b[0m\u001b[0;34m\u001b[0m\u001b[0m\n\u001b[1;32m      4\u001b[0m                              \u001b[0mn_estimators\u001b[0m\u001b[0;34m=\u001b[0m\u001b[0;36m10000\u001b[0m\u001b[0;34m,\u001b[0m\u001b[0;34m\u001b[0m\u001b[0;34m\u001b[0m\u001b[0m\n\u001b[1;32m      5\u001b[0m                              \u001b[0mclass_weight\u001b[0m\u001b[0;34m=\u001b[0m\u001b[0;34m\"balanced\"\u001b[0m\u001b[0;34m,\u001b[0m\u001b[0;34m\u001b[0m\u001b[0;34m\u001b[0m\u001b[0m\n",
      "\u001b[0;31mModuleNotFoundError\u001b[0m: No module named 'lightgbm'"
     ]
    }
   ],
   "source": [
    "import lightgbm as lgb\n",
    "lightbm = lgb.LGBMClassifier(num_class=4, \n",
    "                             objective=\"multiclass\",  \n",
    "                             n_estimators=10000, \n",
    "                             class_weight=\"balanced\",\n",
    "                            early_stopping_round=50,\n",
    "                             eta=0.3,\n",
    "                            #verbose=-1,\n",
    "                            max_depth=9,\n",
    "                            num_leaves=400\n",
    "                            #min_data_in_leaf=0\n",
    "                            )"
   ]
  },
  {
   "cell_type": "code",
   "execution_count": 80,
   "id": "93d356ad",
   "metadata": {},
   "outputs": [
    {
     "data": {
      "text/plain": [
       "64"
      ]
     },
     "execution_count": 80,
     "metadata": {},
     "output_type": "execute_result"
    }
   ],
   "source": [
    "2**6"
   ]
  },
  {
   "cell_type": "code",
   "execution_count": 151,
   "id": "9d640b77",
   "metadata": {},
   "outputs": [
    {
     "name": "stderr",
     "output_type": "stream",
     "text": [
      "d:\\python\\python38\\lib\\site-packages\\sklearn\\preprocessing\\_label.py:98: DataConversionWarning: A column-vector y was passed when a 1d array was expected. Please change the shape of y to (n_samples, ), for example using ravel().\n",
      "  y = column_or_1d(y, warn=True)\n",
      "d:\\python\\python38\\lib\\site-packages\\sklearn\\preprocessing\\_label.py:133: DataConversionWarning: A column-vector y was passed when a 1d array was expected. Please change the shape of y to (n_samples, ), for example using ravel().\n",
      "  y = column_or_1d(y, warn=True)\n"
     ]
    },
    {
     "name": "stdout",
     "output_type": "stream",
     "text": [
      "[LightGBM] [Warning] learning_rate is set=0.1, eta=0.3 will be ignored. Current value: learning_rate=0.1\n",
      "[1]\ttraining's multi_logloss: 0.598529\tvalid_0's multi_logloss: 2.21117\n",
      "[2]\ttraining's multi_logloss: 0.511171\tvalid_0's multi_logloss: 1.97029\n",
      "[3]\ttraining's multi_logloss: 0.447387\tvalid_0's multi_logloss: 1.80528\n",
      "[4]\ttraining's multi_logloss: 0.395546\tvalid_0's multi_logloss: 1.67328\n",
      "[5]\ttraining's multi_logloss: 0.352844\tvalid_0's multi_logloss: 1.57497\n",
      "[6]\ttraining's multi_logloss: 0.317932\tvalid_0's multi_logloss: 1.49091\n",
      "[7]\ttraining's multi_logloss: 0.286716\tvalid_0's multi_logloss: 1.41857\n",
      "[8]\ttraining's multi_logloss: 0.260546\tvalid_0's multi_logloss: 1.35829\n",
      "[9]\ttraining's multi_logloss: 0.237289\tvalid_0's multi_logloss: 1.30468\n",
      "[10]\ttraining's multi_logloss: 0.217451\tvalid_0's multi_logloss: 1.26338\n",
      "[11]\ttraining's multi_logloss: 0.201334\tvalid_0's multi_logloss: 1.22388\n",
      "[12]\ttraining's multi_logloss: 0.18616\tvalid_0's multi_logloss: 1.18907\n",
      "[13]\ttraining's multi_logloss: 0.172012\tvalid_0's multi_logloss: 1.15557\n",
      "[14]\ttraining's multi_logloss: 0.160308\tvalid_0's multi_logloss: 1.12303\n",
      "[15]\ttraining's multi_logloss: 0.149402\tvalid_0's multi_logloss: 1.09502\n",
      "[16]\ttraining's multi_logloss: 0.140078\tvalid_0's multi_logloss: 1.07173\n",
      "[17]\ttraining's multi_logloss: 0.131938\tvalid_0's multi_logloss: 1.04569\n",
      "[18]\ttraining's multi_logloss: 0.124102\tvalid_0's multi_logloss: 1.02373\n",
      "[19]\ttraining's multi_logloss: 0.117229\tvalid_0's multi_logloss: 1.00449\n",
      "[20]\ttraining's multi_logloss: 0.11111\tvalid_0's multi_logloss: 0.984758\n",
      "[21]\ttraining's multi_logloss: 0.10522\tvalid_0's multi_logloss: 0.968644\n",
      "[22]\ttraining's multi_logloss: 0.100146\tvalid_0's multi_logloss: 0.949523\n",
      "[23]\ttraining's multi_logloss: 0.0951419\tvalid_0's multi_logloss: 0.931842\n",
      "[24]\ttraining's multi_logloss: 0.0905584\tvalid_0's multi_logloss: 0.917377\n",
      "[25]\ttraining's multi_logloss: 0.0866256\tvalid_0's multi_logloss: 0.900836\n",
      "[26]\ttraining's multi_logloss: 0.0829921\tvalid_0's multi_logloss: 0.888059\n",
      "[27]\ttraining's multi_logloss: 0.0793462\tvalid_0's multi_logloss: 0.871067\n",
      "[28]\ttraining's multi_logloss: 0.0765002\tvalid_0's multi_logloss: 0.858902\n",
      "[29]\ttraining's multi_logloss: 0.0733893\tvalid_0's multi_logloss: 0.843174\n",
      "[30]\ttraining's multi_logloss: 0.0703544\tvalid_0's multi_logloss: 0.8327\n",
      "[31]\ttraining's multi_logloss: 0.0678516\tvalid_0's multi_logloss: 0.819353\n",
      "[32]\ttraining's multi_logloss: 0.0652732\tvalid_0's multi_logloss: 0.806737\n",
      "[33]\ttraining's multi_logloss: 0.0628361\tvalid_0's multi_logloss: 0.794682\n",
      "[34]\ttraining's multi_logloss: 0.0605076\tvalid_0's multi_logloss: 0.782281\n",
      "[35]\ttraining's multi_logloss: 0.0588646\tvalid_0's multi_logloss: 0.772971\n",
      "[36]\ttraining's multi_logloss: 0.0569728\tvalid_0's multi_logloss: 0.764574\n",
      "[37]\ttraining's multi_logloss: 0.0552082\tvalid_0's multi_logloss: 0.753292\n",
      "[38]\ttraining's multi_logloss: 0.0535194\tvalid_0's multi_logloss: 0.745449\n",
      "[39]\ttraining's multi_logloss: 0.051749\tvalid_0's multi_logloss: 0.736239\n",
      "[40]\ttraining's multi_logloss: 0.0500998\tvalid_0's multi_logloss: 0.72723\n",
      "[41]\ttraining's multi_logloss: 0.0484328\tvalid_0's multi_logloss: 0.71962\n",
      "[42]\ttraining's multi_logloss: 0.0472762\tvalid_0's multi_logloss: 0.711138\n",
      "[43]\ttraining's multi_logloss: 0.0459168\tvalid_0's multi_logloss: 0.705298\n",
      "[44]\ttraining's multi_logloss: 0.0445524\tvalid_0's multi_logloss: 0.698141\n",
      "[45]\ttraining's multi_logloss: 0.043259\tvalid_0's multi_logloss: 0.689344\n",
      "[46]\ttraining's multi_logloss: 0.0418251\tvalid_0's multi_logloss: 0.682116\n",
      "[47]\ttraining's multi_logloss: 0.0407087\tvalid_0's multi_logloss: 0.672978\n",
      "[48]\ttraining's multi_logloss: 0.0396676\tvalid_0's multi_logloss: 0.666426\n",
      "[49]\ttraining's multi_logloss: 0.0382038\tvalid_0's multi_logloss: 0.655918\n",
      "[50]\ttraining's multi_logloss: 0.0370753\tvalid_0's multi_logloss: 0.64751\n",
      "[51]\ttraining's multi_logloss: 0.0358593\tvalid_0's multi_logloss: 0.641553\n",
      "[52]\ttraining's multi_logloss: 0.0349413\tvalid_0's multi_logloss: 0.636644\n",
      "[53]\ttraining's multi_logloss: 0.0339821\tvalid_0's multi_logloss: 0.630575\n",
      "[54]\ttraining's multi_logloss: 0.0330231\tvalid_0's multi_logloss: 0.625705\n",
      "[55]\ttraining's multi_logloss: 0.0322787\tvalid_0's multi_logloss: 0.621104\n",
      "[56]\ttraining's multi_logloss: 0.0313281\tvalid_0's multi_logloss: 0.614693\n",
      "[57]\ttraining's multi_logloss: 0.0305407\tvalid_0's multi_logloss: 0.609715\n",
      "[58]\ttraining's multi_logloss: 0.0297434\tvalid_0's multi_logloss: 0.605622\n",
      "[59]\ttraining's multi_logloss: 0.0292188\tvalid_0's multi_logloss: 0.601404\n",
      "[60]\ttraining's multi_logloss: 0.0284816\tvalid_0's multi_logloss: 0.596058\n",
      "[61]\ttraining's multi_logloss: 0.0277798\tvalid_0's multi_logloss: 0.592599\n",
      "[62]\ttraining's multi_logloss: 0.0269423\tvalid_0's multi_logloss: 0.586444\n",
      "[63]\ttraining's multi_logloss: 0.0262396\tvalid_0's multi_logloss: 0.581787\n",
      "[64]\ttraining's multi_logloss: 0.0257177\tvalid_0's multi_logloss: 0.57806\n",
      "[65]\ttraining's multi_logloss: 0.0249507\tvalid_0's multi_logloss: 0.572077\n",
      "[66]\ttraining's multi_logloss: 0.0243467\tvalid_0's multi_logloss: 0.566198\n",
      "[67]\ttraining's multi_logloss: 0.0238719\tvalid_0's multi_logloss: 0.562023\n",
      "[68]\ttraining's multi_logloss: 0.0233095\tvalid_0's multi_logloss: 0.556155\n",
      "[69]\ttraining's multi_logloss: 0.0226387\tvalid_0's multi_logloss: 0.55246\n",
      "[70]\ttraining's multi_logloss: 0.0220916\tvalid_0's multi_logloss: 0.546982\n",
      "[71]\ttraining's multi_logloss: 0.0215994\tvalid_0's multi_logloss: 0.543545\n",
      "[72]\ttraining's multi_logloss: 0.0210246\tvalid_0's multi_logloss: 0.538464\n",
      "[73]\ttraining's multi_logloss: 0.0206159\tvalid_0's multi_logloss: 0.535215\n",
      "[74]\ttraining's multi_logloss: 0.0202166\tvalid_0's multi_logloss: 0.532275\n",
      "[75]\ttraining's multi_logloss: 0.0198002\tvalid_0's multi_logloss: 0.528687\n",
      "[76]\ttraining's multi_logloss: 0.0194513\tvalid_0's multi_logloss: 0.52567\n",
      "[77]\ttraining's multi_logloss: 0.0190876\tvalid_0's multi_logloss: 0.52234\n",
      "[78]\ttraining's multi_logloss: 0.0187507\tvalid_0's multi_logloss: 0.520351\n",
      "[79]\ttraining's multi_logloss: 0.0184327\tvalid_0's multi_logloss: 0.517908\n",
      "[80]\ttraining's multi_logloss: 0.0180811\tvalid_0's multi_logloss: 0.515022\n",
      "[81]\ttraining's multi_logloss: 0.0178155\tvalid_0's multi_logloss: 0.512857\n",
      "[82]\ttraining's multi_logloss: 0.0174488\tvalid_0's multi_logloss: 0.508732\n",
      "[83]\ttraining's multi_logloss: 0.0171354\tvalid_0's multi_logloss: 0.50631\n",
      "[84]\ttraining's multi_logloss: 0.0168342\tvalid_0's multi_logloss: 0.504515\n",
      "[85]\ttraining's multi_logloss: 0.0164755\tvalid_0's multi_logloss: 0.50228\n",
      "[86]\ttraining's multi_logloss: 0.0161494\tvalid_0's multi_logloss: 0.499069\n",
      "[87]\ttraining's multi_logloss: 0.0158565\tvalid_0's multi_logloss: 0.4965\n",
      "[88]\ttraining's multi_logloss: 0.015515\tvalid_0's multi_logloss: 0.493369\n",
      "[89]\ttraining's multi_logloss: 0.0152232\tvalid_0's multi_logloss: 0.491333\n",
      "[90]\ttraining's multi_logloss: 0.0149551\tvalid_0's multi_logloss: 0.489169\n",
      "[91]\ttraining's multi_logloss: 0.0147209\tvalid_0's multi_logloss: 0.487517\n",
      "[92]\ttraining's multi_logloss: 0.0144058\tvalid_0's multi_logloss: 0.483731\n",
      "[93]\ttraining's multi_logloss: 0.0141077\tvalid_0's multi_logloss: 0.481188\n",
      "[94]\ttraining's multi_logloss: 0.0138483\tvalid_0's multi_logloss: 0.478146\n",
      "[95]\ttraining's multi_logloss: 0.013635\tvalid_0's multi_logloss: 0.475735\n",
      "[96]\ttraining's multi_logloss: 0.0133557\tvalid_0's multi_logloss: 0.473039\n",
      "[97]\ttraining's multi_logloss: 0.0131323\tvalid_0's multi_logloss: 0.470555\n",
      "[98]\ttraining's multi_logloss: 0.0128783\tvalid_0's multi_logloss: 0.468193\n",
      "[99]\ttraining's multi_logloss: 0.0127111\tvalid_0's multi_logloss: 0.466876\n",
      "[100]\ttraining's multi_logloss: 0.0125186\tvalid_0's multi_logloss: 0.465336\n",
      "[101]\ttraining's multi_logloss: 0.0123213\tvalid_0's multi_logloss: 0.463024\n",
      "[102]\ttraining's multi_logloss: 0.0120937\tvalid_0's multi_logloss: 0.460989\n",
      "[103]\ttraining's multi_logloss: 0.0118204\tvalid_0's multi_logloss: 0.45737\n",
      "[104]\ttraining's multi_logloss: 0.0116097\tvalid_0's multi_logloss: 0.455004\n",
      "[105]\ttraining's multi_logloss: 0.0114185\tvalid_0's multi_logloss: 0.452864\n",
      "[106]\ttraining's multi_logloss: 0.0112085\tvalid_0's multi_logloss: 0.45103\n",
      "[107]\ttraining's multi_logloss: 0.0110279\tvalid_0's multi_logloss: 0.449148\n",
      "[108]\ttraining's multi_logloss: 0.0108526\tvalid_0's multi_logloss: 0.447408\n",
      "[109]\ttraining's multi_logloss: 0.0106528\tvalid_0's multi_logloss: 0.445274\n"
     ]
    },
    {
     "name": "stdout",
     "output_type": "stream",
     "text": [
      "[110]\ttraining's multi_logloss: 0.0104751\tvalid_0's multi_logloss: 0.443404\n",
      "[111]\ttraining's multi_logloss: 0.010318\tvalid_0's multi_logloss: 0.441821\n",
      "[112]\ttraining's multi_logloss: 0.0101923\tvalid_0's multi_logloss: 0.440681\n",
      "[113]\ttraining's multi_logloss: 0.00998949\tvalid_0's multi_logloss: 0.438478\n",
      "[114]\ttraining's multi_logloss: 0.00977781\tvalid_0's multi_logloss: 0.436125\n",
      "[115]\ttraining's multi_logloss: 0.00959928\tvalid_0's multi_logloss: 0.434548\n",
      "[116]\ttraining's multi_logloss: 0.00946923\tvalid_0's multi_logloss: 0.43384\n",
      "[117]\ttraining's multi_logloss: 0.00929979\tvalid_0's multi_logloss: 0.431968\n",
      "[118]\ttraining's multi_logloss: 0.0091208\tvalid_0's multi_logloss: 0.430183\n",
      "[119]\ttraining's multi_logloss: 0.0089441\tvalid_0's multi_logloss: 0.42837\n",
      "[120]\ttraining's multi_logloss: 0.00881349\tvalid_0's multi_logloss: 0.427176\n",
      "[121]\ttraining's multi_logloss: 0.00867635\tvalid_0's multi_logloss: 0.425463\n",
      "[122]\ttraining's multi_logloss: 0.00856022\tvalid_0's multi_logloss: 0.424557\n",
      "[123]\ttraining's multi_logloss: 0.00842155\tvalid_0's multi_logloss: 0.423083\n",
      "[124]\ttraining's multi_logloss: 0.00828689\tvalid_0's multi_logloss: 0.422109\n",
      "[125]\ttraining's multi_logloss: 0.0081506\tvalid_0's multi_logloss: 0.420735\n",
      "[126]\ttraining's multi_logloss: 0.00800712\tvalid_0's multi_logloss: 0.419382\n",
      "[127]\ttraining's multi_logloss: 0.00785016\tvalid_0's multi_logloss: 0.417514\n",
      "[128]\ttraining's multi_logloss: 0.00777796\tvalid_0's multi_logloss: 0.416899\n",
      "[129]\ttraining's multi_logloss: 0.00766251\tvalid_0's multi_logloss: 0.415686\n",
      "[130]\ttraining's multi_logloss: 0.00754215\tvalid_0's multi_logloss: 0.414695\n",
      "[131]\ttraining's multi_logloss: 0.00744255\tvalid_0's multi_logloss: 0.41338\n",
      "[132]\ttraining's multi_logloss: 0.0073108\tvalid_0's multi_logloss: 0.411667\n",
      "[133]\ttraining's multi_logloss: 0.00718896\tvalid_0's multi_logloss: 0.410138\n",
      "[134]\ttraining's multi_logloss: 0.00707041\tvalid_0's multi_logloss: 0.408879\n",
      "[135]\ttraining's multi_logloss: 0.00696697\tvalid_0's multi_logloss: 0.40778\n",
      "[136]\ttraining's multi_logloss: 0.00683962\tvalid_0's multi_logloss: 0.406602\n",
      "[137]\ttraining's multi_logloss: 0.00672943\tvalid_0's multi_logloss: 0.405599\n",
      "[138]\ttraining's multi_logloss: 0.0066278\tvalid_0's multi_logloss: 0.404385\n",
      "[139]\ttraining's multi_logloss: 0.00654466\tvalid_0's multi_logloss: 0.40352\n",
      "[140]\ttraining's multi_logloss: 0.00646869\tvalid_0's multi_logloss: 0.402838\n",
      "[141]\ttraining's multi_logloss: 0.00636832\tvalid_0's multi_logloss: 0.401328\n",
      "[142]\ttraining's multi_logloss: 0.00630333\tvalid_0's multi_logloss: 0.400631\n",
      "[143]\ttraining's multi_logloss: 0.00621611\tvalid_0's multi_logloss: 0.399793\n",
      "[144]\ttraining's multi_logloss: 0.00612433\tvalid_0's multi_logloss: 0.398896\n",
      "[145]\ttraining's multi_logloss: 0.00604066\tvalid_0's multi_logloss: 0.398268\n",
      "[146]\ttraining's multi_logloss: 0.0059394\tvalid_0's multi_logloss: 0.397564\n",
      "[147]\ttraining's multi_logloss: 0.00585111\tvalid_0's multi_logloss: 0.39639\n",
      "[148]\ttraining's multi_logloss: 0.00575558\tvalid_0's multi_logloss: 0.395435\n",
      "[149]\ttraining's multi_logloss: 0.00563935\tvalid_0's multi_logloss: 0.394222\n",
      "[150]\ttraining's multi_logloss: 0.00556015\tvalid_0's multi_logloss: 0.393467\n",
      "[151]\ttraining's multi_logloss: 0.0054884\tvalid_0's multi_logloss: 0.392875\n",
      "[152]\ttraining's multi_logloss: 0.00539889\tvalid_0's multi_logloss: 0.391816\n",
      "[153]\ttraining's multi_logloss: 0.00531464\tvalid_0's multi_logloss: 0.390672\n",
      "[154]\ttraining's multi_logloss: 0.00522593\tvalid_0's multi_logloss: 0.389653\n",
      "[155]\ttraining's multi_logloss: 0.00514435\tvalid_0's multi_logloss: 0.388806\n",
      "[156]\ttraining's multi_logloss: 0.00506125\tvalid_0's multi_logloss: 0.388247\n",
      "[157]\ttraining's multi_logloss: 0.00500099\tvalid_0's multi_logloss: 0.387708\n",
      "[158]\ttraining's multi_logloss: 0.00493886\tvalid_0's multi_logloss: 0.387134\n",
      "[159]\ttraining's multi_logloss: 0.004868\tvalid_0's multi_logloss: 0.38674\n",
      "[160]\ttraining's multi_logloss: 0.00479235\tvalid_0's multi_logloss: 0.386\n",
      "[161]\ttraining's multi_logloss: 0.0047445\tvalid_0's multi_logloss: 0.385578\n",
      "[162]\ttraining's multi_logloss: 0.00468731\tvalid_0's multi_logloss: 0.385001\n",
      "[163]\ttraining's multi_logloss: 0.00463354\tvalid_0's multi_logloss: 0.384579\n",
      "[164]\ttraining's multi_logloss: 0.00456237\tvalid_0's multi_logloss: 0.383638\n",
      "[165]\ttraining's multi_logloss: 0.00449542\tvalid_0's multi_logloss: 0.383013\n",
      "[166]\ttraining's multi_logloss: 0.00442746\tvalid_0's multi_logloss: 0.382369\n",
      "[167]\ttraining's multi_logloss: 0.00436772\tvalid_0's multi_logloss: 0.381812\n",
      "[168]\ttraining's multi_logloss: 0.00431111\tvalid_0's multi_logloss: 0.381243\n",
      "[169]\ttraining's multi_logloss: 0.0042622\tvalid_0's multi_logloss: 0.380789\n",
      "[170]\ttraining's multi_logloss: 0.00420277\tvalid_0's multi_logloss: 0.380113\n",
      "[171]\ttraining's multi_logloss: 0.00415263\tvalid_0's multi_logloss: 0.379721\n",
      "[172]\ttraining's multi_logloss: 0.00407083\tvalid_0's multi_logloss: 0.378732\n",
      "[173]\ttraining's multi_logloss: 0.00399534\tvalid_0's multi_logloss: 0.377837\n",
      "[174]\ttraining's multi_logloss: 0.00394217\tvalid_0's multi_logloss: 0.377457\n",
      "[175]\ttraining's multi_logloss: 0.00387787\tvalid_0's multi_logloss: 0.37684\n",
      "[176]\ttraining's multi_logloss: 0.00383255\tvalid_0's multi_logloss: 0.376392\n",
      "[177]\ttraining's multi_logloss: 0.00377323\tvalid_0's multi_logloss: 0.37587\n",
      "[178]\ttraining's multi_logloss: 0.00370945\tvalid_0's multi_logloss: 0.375148\n",
      "[179]\ttraining's multi_logloss: 0.00365983\tvalid_0's multi_logloss: 0.374806\n",
      "[180]\ttraining's multi_logloss: 0.00361791\tvalid_0's multi_logloss: 0.374549\n",
      "[181]\ttraining's multi_logloss: 0.00357851\tvalid_0's multi_logloss: 0.374199\n",
      "[182]\ttraining's multi_logloss: 0.00351576\tvalid_0's multi_logloss: 0.373471\n",
      "[183]\ttraining's multi_logloss: 0.00348212\tvalid_0's multi_logloss: 0.373191\n",
      "[184]\ttraining's multi_logloss: 0.00344166\tvalid_0's multi_logloss: 0.373106\n",
      "[185]\ttraining's multi_logloss: 0.00338462\tvalid_0's multi_logloss: 0.372306\n",
      "[186]\ttraining's multi_logloss: 0.00334401\tvalid_0's multi_logloss: 0.372089\n",
      "[187]\ttraining's multi_logloss: 0.00328821\tvalid_0's multi_logloss: 0.371442\n",
      "[188]\ttraining's multi_logloss: 0.00324437\tvalid_0's multi_logloss: 0.371169\n",
      "[189]\ttraining's multi_logloss: 0.00320462\tvalid_0's multi_logloss: 0.37096\n",
      "[190]\ttraining's multi_logloss: 0.00317185\tvalid_0's multi_logloss: 0.370758\n",
      "[191]\ttraining's multi_logloss: 0.00312748\tvalid_0's multi_logloss: 0.370271\n",
      "[192]\ttraining's multi_logloss: 0.00308453\tvalid_0's multi_logloss: 0.36982\n",
      "[193]\ttraining's multi_logloss: 0.00304758\tvalid_0's multi_logloss: 0.369534\n",
      "[194]\ttraining's multi_logloss: 0.00301378\tvalid_0's multi_logloss: 0.369272\n",
      "[195]\ttraining's multi_logloss: 0.00297988\tvalid_0's multi_logloss: 0.369021\n",
      "[196]\ttraining's multi_logloss: 0.00292985\tvalid_0's multi_logloss: 0.368405\n",
      "[197]\ttraining's multi_logloss: 0.00289431\tvalid_0's multi_logloss: 0.368005\n",
      "[198]\ttraining's multi_logloss: 0.00285848\tvalid_0's multi_logloss: 0.367733\n",
      "[199]\ttraining's multi_logloss: 0.00282555\tvalid_0's multi_logloss: 0.36751\n",
      "[200]\ttraining's multi_logloss: 0.00278879\tvalid_0's multi_logloss: 0.367076\n",
      "[201]\ttraining's multi_logloss: 0.00275259\tvalid_0's multi_logloss: 0.366671\n",
      "[202]\ttraining's multi_logloss: 0.00272305\tvalid_0's multi_logloss: 0.366564\n",
      "[203]\ttraining's multi_logloss: 0.00268653\tvalid_0's multi_logloss: 0.366143\n",
      "[204]\ttraining's multi_logloss: 0.00264988\tvalid_0's multi_logloss: 0.365865\n",
      "[205]\ttraining's multi_logloss: 0.00261787\tvalid_0's multi_logloss: 0.365698\n",
      "[206]\ttraining's multi_logloss: 0.00258279\tvalid_0's multi_logloss: 0.365349\n",
      "[207]\ttraining's multi_logloss: 0.00254\tvalid_0's multi_logloss: 0.364963\n",
      "[208]\ttraining's multi_logloss: 0.00250123\tvalid_0's multi_logloss: 0.36474\n",
      "[209]\ttraining's multi_logloss: 0.00246251\tvalid_0's multi_logloss: 0.364346\n",
      "[210]\ttraining's multi_logloss: 0.00242878\tvalid_0's multi_logloss: 0.364112\n",
      "[211]\ttraining's multi_logloss: 0.00240238\tvalid_0's multi_logloss: 0.363998\n",
      "[212]\ttraining's multi_logloss: 0.00237504\tvalid_0's multi_logloss: 0.363847\n",
      "[213]\ttraining's multi_logloss: 0.00234727\tvalid_0's multi_logloss: 0.363494\n",
      "[214]\ttraining's multi_logloss: 0.00231556\tvalid_0's multi_logloss: 0.363167\n",
      "[215]\ttraining's multi_logloss: 0.0022798\tvalid_0's multi_logloss: 0.362845\n",
      "[216]\ttraining's multi_logloss: 0.00224899\tvalid_0's multi_logloss: 0.362578\n",
      "[217]\ttraining's multi_logloss: 0.00221825\tvalid_0's multi_logloss: 0.362344\n"
     ]
    },
    {
     "name": "stdout",
     "output_type": "stream",
     "text": [
      "[218]\ttraining's multi_logloss: 0.0021975\tvalid_0's multi_logloss: 0.362107\n",
      "[219]\ttraining's multi_logloss: 0.00216491\tvalid_0's multi_logloss: 0.361856\n",
      "[220]\ttraining's multi_logloss: 0.00213802\tvalid_0's multi_logloss: 0.361576\n",
      "[221]\ttraining's multi_logloss: 0.00210997\tvalid_0's multi_logloss: 0.361516\n",
      "[222]\ttraining's multi_logloss: 0.00208012\tvalid_0's multi_logloss: 0.361298\n",
      "[223]\ttraining's multi_logloss: 0.00205825\tvalid_0's multi_logloss: 0.361256\n",
      "[224]\ttraining's multi_logloss: 0.00203144\tvalid_0's multi_logloss: 0.361169\n",
      "[225]\ttraining's multi_logloss: 0.00200326\tvalid_0's multi_logloss: 0.360908\n",
      "[226]\ttraining's multi_logloss: 0.0019753\tvalid_0's multi_logloss: 0.360736\n",
      "[227]\ttraining's multi_logloss: 0.00195796\tvalid_0's multi_logloss: 0.36066\n",
      "[228]\ttraining's multi_logloss: 0.00191552\tvalid_0's multi_logloss: 0.360183\n",
      "[229]\ttraining's multi_logloss: 0.00189651\tvalid_0's multi_logloss: 0.360087\n",
      "[230]\ttraining's multi_logloss: 0.00188\tvalid_0's multi_logloss: 0.359991\n",
      "[231]\ttraining's multi_logloss: 0.001852\tvalid_0's multi_logloss: 0.359805\n",
      "[232]\ttraining's multi_logloss: 0.00182809\tvalid_0's multi_logloss: 0.359719\n",
      "[233]\ttraining's multi_logloss: 0.0018072\tvalid_0's multi_logloss: 0.359608\n",
      "[234]\ttraining's multi_logloss: 0.00178274\tvalid_0's multi_logloss: 0.359291\n",
      "[235]\ttraining's multi_logloss: 0.00175313\tvalid_0's multi_logloss: 0.359155\n",
      "[236]\ttraining's multi_logloss: 0.00172078\tvalid_0's multi_logloss: 0.358656\n",
      "[237]\ttraining's multi_logloss: 0.00169437\tvalid_0's multi_logloss: 0.358473\n",
      "[238]\ttraining's multi_logloss: 0.00167155\tvalid_0's multi_logloss: 0.358379\n",
      "[239]\ttraining's multi_logloss: 0.00165254\tvalid_0's multi_logloss: 0.358257\n",
      "[240]\ttraining's multi_logloss: 0.00162538\tvalid_0's multi_logloss: 0.358167\n",
      "[241]\ttraining's multi_logloss: 0.0016015\tvalid_0's multi_logloss: 0.358268\n",
      "[242]\ttraining's multi_logloss: 0.00157813\tvalid_0's multi_logloss: 0.35842\n",
      "[243]\ttraining's multi_logloss: 0.00156152\tvalid_0's multi_logloss: 0.35834\n",
      "[244]\ttraining's multi_logloss: 0.00154363\tvalid_0's multi_logloss: 0.358389\n",
      "[245]\ttraining's multi_logloss: 0.00151562\tvalid_0's multi_logloss: 0.357886\n",
      "[246]\ttraining's multi_logloss: 0.0014937\tvalid_0's multi_logloss: 0.357776\n",
      "[247]\ttraining's multi_logloss: 0.00147489\tvalid_0's multi_logloss: 0.357836\n",
      "[248]\ttraining's multi_logloss: 0.00145927\tvalid_0's multi_logloss: 0.357853\n",
      "[249]\ttraining's multi_logloss: 0.00143939\tvalid_0's multi_logloss: 0.358021\n",
      "[250]\ttraining's multi_logloss: 0.00142007\tvalid_0's multi_logloss: 0.357897\n",
      "[251]\ttraining's multi_logloss: 0.00139811\tvalid_0's multi_logloss: 0.35755\n",
      "[252]\ttraining's multi_logloss: 0.00137926\tvalid_0's multi_logloss: 0.357693\n",
      "[253]\ttraining's multi_logloss: 0.00135624\tvalid_0's multi_logloss: 0.357637\n",
      "[254]\ttraining's multi_logloss: 0.00133789\tvalid_0's multi_logloss: 0.357624\n",
      "[255]\ttraining's multi_logloss: 0.0013157\tvalid_0's multi_logloss: 0.357767\n",
      "[256]\ttraining's multi_logloss: 0.00129772\tvalid_0's multi_logloss: 0.357662\n",
      "[257]\ttraining's multi_logloss: 0.0012819\tvalid_0's multi_logloss: 0.357768\n",
      "[258]\ttraining's multi_logloss: 0.00126628\tvalid_0's multi_logloss: 0.35778\n",
      "[259]\ttraining's multi_logloss: 0.0012504\tvalid_0's multi_logloss: 0.357795\n",
      "[260]\ttraining's multi_logloss: 0.00123016\tvalid_0's multi_logloss: 0.357736\n",
      "[261]\ttraining's multi_logloss: 0.0012143\tvalid_0's multi_logloss: 0.357722\n",
      "[262]\ttraining's multi_logloss: 0.0011999\tvalid_0's multi_logloss: 0.357589\n",
      "[263]\ttraining's multi_logloss: 0.00118865\tvalid_0's multi_logloss: 0.357678\n",
      "[264]\ttraining's multi_logloss: 0.00117578\tvalid_0's multi_logloss: 0.357721\n",
      "[265]\ttraining's multi_logloss: 0.00115792\tvalid_0's multi_logloss: 0.357508\n",
      "[266]\ttraining's multi_logloss: 0.00114282\tvalid_0's multi_logloss: 0.357615\n",
      "[267]\ttraining's multi_logloss: 0.00112586\tvalid_0's multi_logloss: 0.357692\n",
      "[268]\ttraining's multi_logloss: 0.00111043\tvalid_0's multi_logloss: 0.357797\n",
      "[269]\ttraining's multi_logloss: 0.00109665\tvalid_0's multi_logloss: 0.35786\n",
      "[270]\ttraining's multi_logloss: 0.00107782\tvalid_0's multi_logloss: 0.357809\n",
      "[271]\ttraining's multi_logloss: 0.00106191\tvalid_0's multi_logloss: 0.357825\n",
      "[272]\ttraining's multi_logloss: 0.00104642\tvalid_0's multi_logloss: 0.357834\n",
      "[273]\ttraining's multi_logloss: 0.00103291\tvalid_0's multi_logloss: 0.357702\n",
      "[274]\ttraining's multi_logloss: 0.00101959\tvalid_0's multi_logloss: 0.35777\n",
      "[275]\ttraining's multi_logloss: 0.00100303\tvalid_0's multi_logloss: 0.357489\n",
      "[276]\ttraining's multi_logloss: 0.000986447\tvalid_0's multi_logloss: 0.357492\n",
      "[277]\ttraining's multi_logloss: 0.000971546\tvalid_0's multi_logloss: 0.35728\n",
      "[278]\ttraining's multi_logloss: 0.000960125\tvalid_0's multi_logloss: 0.357414\n",
      "[279]\ttraining's multi_logloss: 0.000946385\tvalid_0's multi_logloss: 0.357331\n",
      "[280]\ttraining's multi_logloss: 0.000935113\tvalid_0's multi_logloss: 0.35727\n",
      "[281]\ttraining's multi_logloss: 0.000922152\tvalid_0's multi_logloss: 0.357259\n",
      "[282]\ttraining's multi_logloss: 0.000907591\tvalid_0's multi_logloss: 0.357309\n",
      "[283]\ttraining's multi_logloss: 0.000892427\tvalid_0's multi_logloss: 0.357121\n",
      "[284]\ttraining's multi_logloss: 0.000881531\tvalid_0's multi_logloss: 0.357187\n",
      "[285]\ttraining's multi_logloss: 0.000866937\tvalid_0's multi_logloss: 0.357013\n",
      "[286]\ttraining's multi_logloss: 0.000857492\tvalid_0's multi_logloss: 0.35711\n",
      "[287]\ttraining's multi_logloss: 0.000844638\tvalid_0's multi_logloss: 0.35718\n",
      "[288]\ttraining's multi_logloss: 0.000833007\tvalid_0's multi_logloss: 0.357218\n",
      "[289]\ttraining's multi_logloss: 0.000826879\tvalid_0's multi_logloss: 0.357349\n",
      "[290]\ttraining's multi_logloss: 0.000813688\tvalid_0's multi_logloss: 0.357587\n",
      "[291]\ttraining's multi_logloss: 0.000803958\tvalid_0's multi_logloss: 0.357804\n",
      "[292]\ttraining's multi_logloss: 0.000793971\tvalid_0's multi_logloss: 0.357938\n",
      "[293]\ttraining's multi_logloss: 0.00078606\tvalid_0's multi_logloss: 0.358046\n",
      "[294]\ttraining's multi_logloss: 0.000777338\tvalid_0's multi_logloss: 0.358336\n",
      "[295]\ttraining's multi_logloss: 0.000766579\tvalid_0's multi_logloss: 0.3584\n",
      "[296]\ttraining's multi_logloss: 0.000757751\tvalid_0's multi_logloss: 0.35865\n",
      "[297]\ttraining's multi_logloss: 0.000747889\tvalid_0's multi_logloss: 0.358851\n",
      "[298]\ttraining's multi_logloss: 0.000734532\tvalid_0's multi_logloss: 0.358614\n",
      "[299]\ttraining's multi_logloss: 0.000721598\tvalid_0's multi_logloss: 0.358691\n",
      "[300]\ttraining's multi_logloss: 0.000712521\tvalid_0's multi_logloss: 0.35868\n",
      "[301]\ttraining's multi_logloss: 0.000701925\tvalid_0's multi_logloss: 0.358813\n",
      "[302]\ttraining's multi_logloss: 0.000692765\tvalid_0's multi_logloss: 0.358903\n",
      "[303]\ttraining's multi_logloss: 0.00068536\tvalid_0's multi_logloss: 0.359034\n",
      "[304]\ttraining's multi_logloss: 0.000677774\tvalid_0's multi_logloss: 0.358991\n",
      "[305]\ttraining's multi_logloss: 0.000668907\tvalid_0's multi_logloss: 0.359002\n",
      "[306]\ttraining's multi_logloss: 0.000657501\tvalid_0's multi_logloss: 0.358979\n",
      "[307]\ttraining's multi_logloss: 0.000645907\tvalid_0's multi_logloss: 0.358923\n",
      "[308]\ttraining's multi_logloss: 0.000635782\tvalid_0's multi_logloss: 0.359103\n",
      "[309]\ttraining's multi_logloss: 0.000623322\tvalid_0's multi_logloss: 0.359267\n",
      "[310]\ttraining's multi_logloss: 0.000615837\tvalid_0's multi_logloss: 0.359541\n",
      "[311]\ttraining's multi_logloss: 0.000607213\tvalid_0's multi_logloss: 0.359532\n",
      "[312]\ttraining's multi_logloss: 0.000597167\tvalid_0's multi_logloss: 0.359511\n",
      "[313]\ttraining's multi_logloss: 0.000588129\tvalid_0's multi_logloss: 0.359743\n",
      "[314]\ttraining's multi_logloss: 0.000581508\tvalid_0's multi_logloss: 0.359789\n",
      "[315]\ttraining's multi_logloss: 0.000572981\tvalid_0's multi_logloss: 0.360042\n",
      "[316]\ttraining's multi_logloss: 0.000565393\tvalid_0's multi_logloss: 0.359887\n",
      "[317]\ttraining's multi_logloss: 0.000558695\tvalid_0's multi_logloss: 0.360014\n",
      "[318]\ttraining's multi_logloss: 0.000549988\tvalid_0's multi_logloss: 0.36016\n",
      "[319]\ttraining's multi_logloss: 0.000542163\tvalid_0's multi_logloss: 0.360168\n",
      "[320]\ttraining's multi_logloss: 0.000536027\tvalid_0's multi_logloss: 0.360335\n",
      "[321]\ttraining's multi_logloss: 0.000529783\tvalid_0's multi_logloss: 0.360305\n",
      "[322]\ttraining's multi_logloss: 0.000523988\tvalid_0's multi_logloss: 0.36072\n",
      "[323]\ttraining's multi_logloss: 0.000515091\tvalid_0's multi_logloss: 0.360855\n",
      "[324]\ttraining's multi_logloss: 0.000509207\tvalid_0's multi_logloss: 0.361093\n",
      "[325]\ttraining's multi_logloss: 0.000501447\tvalid_0's multi_logloss: 0.361273\n",
      "[326]\ttraining's multi_logloss: 0.00049603\tvalid_0's multi_logloss: 0.361491\n"
     ]
    },
    {
     "name": "stdout",
     "output_type": "stream",
     "text": [
      "[327]\ttraining's multi_logloss: 0.000491224\tvalid_0's multi_logloss: 0.361564\n",
      "[328]\ttraining's multi_logloss: 0.000485137\tvalid_0's multi_logloss: 0.361733\n",
      "[329]\ttraining's multi_logloss: 0.000477417\tvalid_0's multi_logloss: 0.361745\n",
      "[330]\ttraining's multi_logloss: 0.000469415\tvalid_0's multi_logloss: 0.361808\n",
      "[331]\ttraining's multi_logloss: 0.000464373\tvalid_0's multi_logloss: 0.36207\n",
      "[332]\ttraining's multi_logloss: 0.000457262\tvalid_0's multi_logloss: 0.362225\n",
      "[333]\ttraining's multi_logloss: 0.000450959\tvalid_0's multi_logloss: 0.362537\n",
      "[334]\ttraining's multi_logloss: 0.000445419\tvalid_0's multi_logloss: 0.36283\n",
      "[335]\ttraining's multi_logloss: 0.000440238\tvalid_0's multi_logloss: 0.362969\n"
     ]
    },
    {
     "data": {
      "text/plain": [
       "LGBMClassifier(class_weight='balanced', early_stopping_round=50, eta=0.3,\n",
       "               max_depth=9, n_estimators=10000, num_class=4, num_leaves=400,\n",
       "               objective='multiclass')"
      ]
     },
     "execution_count": 151,
     "metadata": {},
     "output_type": "execute_result"
    }
   ],
   "source": [
    "lightbm.fit(X_train, y_train, eval_set=[(X_test, y_test), (X_train, y_train)], sample_weight=classes_weights)"
   ]
  },
  {
   "cell_type": "code",
   "execution_count": 231,
   "id": "43079368",
   "metadata": {},
   "outputs": [],
   "source": [
    "cv_score_lgb = cross_val_score(lightbm, X_train, y_train, cv=32, n_jobs=-1, scoring=\"accuracy\")"
   ]
  },
  {
   "cell_type": "code",
   "execution_count": 232,
   "id": "754261f4",
   "metadata": {},
   "outputs": [
    {
     "name": "stdout",
     "output_type": "stream",
     "text": [
      "Cross-validated Accuracy: 0.87436 ± 0.01571\n"
     ]
    }
   ],
   "source": [
    "print(\"Cross-validated Accuracy:\", round(np.mean(cv_score_lgb), 5), \"±\", round(np.std(cv_score_lgb), 5))"
   ]
  },
  {
   "cell_type": "code",
   "execution_count": 152,
   "id": "ae2b9106",
   "metadata": {},
   "outputs": [
    {
     "name": "stdout",
     "output_type": "stream",
     "text": [
      "                                                      precision    recall  f1-score   support\n",
      "\n",
      "      jet-mode radio AGN/low-excitation radio galaxy     0.7888    0.8566    0.8213      2581\n",
      "quasar-like radio AGN / high-excitation radio galaxy     0.5402    0.4481    0.4899       270\n",
      "                                     radio-quiet AGN     0.6850    0.8068    0.7409      1356\n",
      "                                 star-forming galaxy     0.9497    0.9147    0.9319     11315\n",
      "\n",
      "                                            accuracy                         0.8875     15522\n",
      "                                           macro avg     0.7409    0.7566    0.7460     15522\n",
      "                                        weighted avg     0.8927    0.8875    0.8891     15522\n",
      "\n"
     ]
    }
   ],
   "source": [
    "y_pred = lightbm.predict(X_test)\n",
    "print(classification_report(y_test, y_pred, target_names=labels, digits=4))"
   ]
  },
  {
   "cell_type": "code",
   "execution_count": 160,
   "id": "ca6631e3",
   "metadata": {},
   "outputs": [
    {
     "data": {
      "text/plain": [
       "[]"
      ]
     },
     "execution_count": 160,
     "metadata": {},
     "output_type": "execute_result"
    },
    {
     "data": {
      "image/png": "[encoded data removed]",
      "text/plain": [
       "<Figure size 432x288 with 2 Axes>"
      ]
     },
     "metadata": {
      "needs_background": "light"
     },
     "output_type": "display_data"
    }
   ],
   "source": [
    "cm = confusion_matrix(y_test, y_pred, normalize='true')\n",
    "disp = ConfusionMatrixDisplay(confusion_matrix=cm, display_labels=labels)\n",
    "disp.plot()\n",
    "plt.xticks(rotation = 90)\n",
    "plt.plot()"
   ]
  },
  {
   "cell_type": "code",
   "execution_count": 174,
   "id": "8585eee7",
   "metadata": {},
   "outputs": [],
   "source": [
    "y_pred_xgb = model.predict(X_test)\n",
    "y_pred_lgb = lightbm.predict(X_test)"
   ]
  },
  {
   "cell_type": "code",
   "execution_count": 175,
   "id": "ce60fd9c",
   "metadata": {},
   "outputs": [],
   "source": [
    "y_pred_temp = y_pred_xgb.copy()\n",
    "y_pred_temp[y_pred_temp==0] = 0\n",
    "y_pred_temp[y_pred_lgb==0] = 0"
   ]
  },
  {
   "cell_type": "code",
   "execution_count": 176,
   "id": "1d5ff409",
   "metadata": {},
   "outputs": [
    {
     "name": "stdout",
     "output_type": "stream",
     "text": [
      "                                                      precision    recall  f1-score   support\n",
      "\n",
      "      jet-mode radio AGN/low-excitation radio galaxy     0.7663    0.8842    0.8210      2581\n",
      "quasar-like radio AGN / high-excitation radio galaxy     0.5628    0.4148    0.4776       270\n",
      "                                     radio-quiet AGN     0.7199    0.7942    0.7553      1356\n",
      "                                 star-forming galaxy     0.9537    0.9144    0.9337     11315\n",
      "\n",
      "                                            accuracy                         0.8902     15522\n",
      "                                           macro avg     0.7507    0.7519    0.7469     15522\n",
      "                                        weighted avg     0.8953    0.8902    0.8914     15522\n",
      "\n"
     ]
    }
   ],
   "source": [
    "print(classification_report(y_test, y_pred_temp, target_names=labels, digits=4))"
   ]
  },
  {
   "cell_type": "markdown",
   "id": "58090610",
   "metadata": {},
   "source": [
    "# XGBoost"
   ]
  },
  {
   "cell_type": "code",
   "execution_count": 120,
   "id": "cff6c270",
   "metadata": {},
   "outputs": [],
   "source": [
    "model = XGBClassifier(use_label_encoder=False, \n",
    "                      max_depth=9, \n",
    "                      reg_alpha=0.5, \n",
    "                      min_child_weight=3, \n",
    "                      reg_lambda=3,\n",
    "                      eta=0.1, # Remember to reduce to 0.1 or 0.05 for better results\n",
    "                      tree_method='hist', # exact is more precies, but this is much faster\n",
    "                      objective='multi:softprob',\n",
    "                      n_estimators=8000,\n",
    "                      )"
   ]
  },
  {
   "cell_type": "code",
   "execution_count": 121,
   "id": "e4d86569",
   "metadata": {
    "scrolled": true
   },
   "outputs": [
    {
     "name": "stderr",
     "output_type": "stream",
     "text": [
      "/Users/users/karsten/.local/lib/python3.9/site-packages/xgboost/sklearn.py:793: UserWarning: `early_stopping_rounds` in `fit` method is deprecated for better compatibility with scikit-learn, use `early_stopping_rounds` in constructor or`set_params` instead.\n",
      "  warnings.warn(\n"
     ]
    },
    {
     "name": "stdout",
     "output_type": "stream",
     "text": [
      "[0]\tvalidation_0-mlogloss:1.27511\tvalidation_1-mlogloss:1.27926\n",
      "[1]\tvalidation_0-mlogloss:1.18256\tvalidation_1-mlogloss:1.19026\n",
      "[2]\tvalidation_0-mlogloss:1.10374\tvalidation_1-mlogloss:1.11545\n",
      "[3]\tvalidation_0-mlogloss:1.03493\tvalidation_1-mlogloss:1.05016\n",
      "[4]\tvalidation_0-mlogloss:0.97405\tvalidation_1-mlogloss:0.99229\n",
      "[5]\tvalidation_0-mlogloss:0.92086\tvalidation_1-mlogloss:0.94190\n",
      "[6]\tvalidation_0-mlogloss:0.87335\tvalidation_1-mlogloss:0.89710\n",
      "[7]\tvalidation_0-mlogloss:0.82979\tvalidation_1-mlogloss:0.85617\n",
      "[8]\tvalidation_0-mlogloss:0.79069\tvalidation_1-mlogloss:0.81956\n",
      "[9]\tvalidation_0-mlogloss:0.75540\tvalidation_1-mlogloss:0.78679\n",
      "[10]\tvalidation_0-mlogloss:0.72312\tvalidation_1-mlogloss:0.75702\n",
      "[11]\tvalidation_0-mlogloss:0.69403\tvalidation_1-mlogloss:0.73015\n",
      "[12]\tvalidation_0-mlogloss:0.66750\tvalidation_1-mlogloss:0.70563\n",
      "[13]\tvalidation_0-mlogloss:0.64331\tvalidation_1-mlogloss:0.68347\n",
      "[14]\tvalidation_0-mlogloss:0.62148\tvalidation_1-mlogloss:0.66359\n",
      "[15]\tvalidation_0-mlogloss:0.60105\tvalidation_1-mlogloss:0.64490\n",
      "[16]\tvalidation_0-mlogloss:0.58204\tvalidation_1-mlogloss:0.62789\n",
      "[17]\tvalidation_0-mlogloss:0.56381\tvalidation_1-mlogloss:0.61157\n",
      "[18]\tvalidation_0-mlogloss:0.54784\tvalidation_1-mlogloss:0.59724\n",
      "[19]\tvalidation_0-mlogloss:0.53266\tvalidation_1-mlogloss:0.58365\n",
      "[20]\tvalidation_0-mlogloss:0.51839\tvalidation_1-mlogloss:0.57107\n",
      "[21]\tvalidation_0-mlogloss:0.50471\tvalidation_1-mlogloss:0.55897\n",
      "[22]\tvalidation_0-mlogloss:0.49248\tvalidation_1-mlogloss:0.54833\n",
      "[23]\tvalidation_0-mlogloss:0.48074\tvalidation_1-mlogloss:0.53810\n",
      "[24]\tvalidation_0-mlogloss:0.47046\tvalidation_1-mlogloss:0.52935\n",
      "[25]\tvalidation_0-mlogloss:0.45995\tvalidation_1-mlogloss:0.52047\n",
      "[26]\tvalidation_0-mlogloss:0.45015\tvalidation_1-mlogloss:0.51234\n",
      "[27]\tvalidation_0-mlogloss:0.44051\tvalidation_1-mlogloss:0.50441\n",
      "[28]\tvalidation_0-mlogloss:0.43168\tvalidation_1-mlogloss:0.49719\n",
      "[29]\tvalidation_0-mlogloss:0.42317\tvalidation_1-mlogloss:0.49026\n",
      "[30]\tvalidation_0-mlogloss:0.41526\tvalidation_1-mlogloss:0.48395\n",
      "[31]\tvalidation_0-mlogloss:0.40764\tvalidation_1-mlogloss:0.47802\n",
      "[32]\tvalidation_0-mlogloss:0.40047\tvalidation_1-mlogloss:0.47240\n",
      "[33]\tvalidation_0-mlogloss:0.39315\tvalidation_1-mlogloss:0.46654\n",
      "[34]\tvalidation_0-mlogloss:0.38675\tvalidation_1-mlogloss:0.46157\n",
      "[35]\tvalidation_0-mlogloss:0.38082\tvalidation_1-mlogloss:0.45684\n",
      "[36]\tvalidation_0-mlogloss:0.37463\tvalidation_1-mlogloss:0.45187\n",
      "[37]\tvalidation_0-mlogloss:0.36919\tvalidation_1-mlogloss:0.44754\n",
      "[38]\tvalidation_0-mlogloss:0.36357\tvalidation_1-mlogloss:0.44307\n",
      "[39]\tvalidation_0-mlogloss:0.35834\tvalidation_1-mlogloss:0.43915\n",
      "[40]\tvalidation_0-mlogloss:0.35330\tvalidation_1-mlogloss:0.43516\n",
      "[41]\tvalidation_0-mlogloss:0.34836\tvalidation_1-mlogloss:0.43129\n",
      "[42]\tvalidation_0-mlogloss:0.34411\tvalidation_1-mlogloss:0.42829\n",
      "[43]\tvalidation_0-mlogloss:0.33926\tvalidation_1-mlogloss:0.42461\n",
      "[44]\tvalidation_0-mlogloss:0.33529\tvalidation_1-mlogloss:0.42167\n",
      "[45]\tvalidation_0-mlogloss:0.33083\tvalidation_1-mlogloss:0.41834\n",
      "[46]\tvalidation_0-mlogloss:0.32664\tvalidation_1-mlogloss:0.41521\n",
      "[47]\tvalidation_0-mlogloss:0.32274\tvalidation_1-mlogloss:0.41245\n",
      "[48]\tvalidation_0-mlogloss:0.31931\tvalidation_1-mlogloss:0.41007\n",
      "[49]\tvalidation_0-mlogloss:0.31564\tvalidation_1-mlogloss:0.40737\n",
      "[50]\tvalidation_0-mlogloss:0.31191\tvalidation_1-mlogloss:0.40482\n",
      "[51]\tvalidation_0-mlogloss:0.30847\tvalidation_1-mlogloss:0.40235\n",
      "[52]\tvalidation_0-mlogloss:0.30509\tvalidation_1-mlogloss:0.39988\n",
      "[53]\tvalidation_0-mlogloss:0.30130\tvalidation_1-mlogloss:0.39719\n",
      "[54]\tvalidation_0-mlogloss:0.29828\tvalidation_1-mlogloss:0.39495\n",
      "[55]\tvalidation_0-mlogloss:0.29529\tvalidation_1-mlogloss:0.39300\n",
      "[56]\tvalidation_0-mlogloss:0.29291\tvalidation_1-mlogloss:0.39139\n",
      "[57]\tvalidation_0-mlogloss:0.28975\tvalidation_1-mlogloss:0.38919\n",
      "[58]\tvalidation_0-mlogloss:0.28683\tvalidation_1-mlogloss:0.38728\n",
      "[59]\tvalidation_0-mlogloss:0.28407\tvalidation_1-mlogloss:0.38538\n",
      "[60]\tvalidation_0-mlogloss:0.28098\tvalidation_1-mlogloss:0.38328\n",
      "[61]\tvalidation_0-mlogloss:0.27798\tvalidation_1-mlogloss:0.38119\n",
      "[62]\tvalidation_0-mlogloss:0.27550\tvalidation_1-mlogloss:0.37958\n",
      "[63]\tvalidation_0-mlogloss:0.27332\tvalidation_1-mlogloss:0.37816\n",
      "[64]\tvalidation_0-mlogloss:0.27081\tvalidation_1-mlogloss:0.37642\n",
      "[65]\tvalidation_0-mlogloss:0.26866\tvalidation_1-mlogloss:0.37498\n",
      "[66]\tvalidation_0-mlogloss:0.26650\tvalidation_1-mlogloss:0.37361\n",
      "[67]\tvalidation_0-mlogloss:0.26387\tvalidation_1-mlogloss:0.37188\n",
      "[68]\tvalidation_0-mlogloss:0.26160\tvalidation_1-mlogloss:0.37045\n",
      "[69]\tvalidation_0-mlogloss:0.25871\tvalidation_1-mlogloss:0.36839\n",
      "[70]\tvalidation_0-mlogloss:0.25669\tvalidation_1-mlogloss:0.36707\n",
      "[71]\tvalidation_0-mlogloss:0.25451\tvalidation_1-mlogloss:0.36572\n",
      "[72]\tvalidation_0-mlogloss:0.25259\tvalidation_1-mlogloss:0.36444\n",
      "[73]\tvalidation_0-mlogloss:0.25064\tvalidation_1-mlogloss:0.36318\n",
      "[74]\tvalidation_0-mlogloss:0.24872\tvalidation_1-mlogloss:0.36196\n",
      "[75]\tvalidation_0-mlogloss:0.24671\tvalidation_1-mlogloss:0.36073\n",
      "[76]\tvalidation_0-mlogloss:0.24480\tvalidation_1-mlogloss:0.35943\n",
      "[77]\tvalidation_0-mlogloss:0.24281\tvalidation_1-mlogloss:0.35826\n",
      "[78]\tvalidation_0-mlogloss:0.24102\tvalidation_1-mlogloss:0.35706\n",
      "[79]\tvalidation_0-mlogloss:0.23926\tvalidation_1-mlogloss:0.35602\n",
      "[80]\tvalidation_0-mlogloss:0.23745\tvalidation_1-mlogloss:0.35482\n",
      "[81]\tvalidation_0-mlogloss:0.23563\tvalidation_1-mlogloss:0.35362\n",
      "[82]\tvalidation_0-mlogloss:0.23412\tvalidation_1-mlogloss:0.35265\n",
      "[83]\tvalidation_0-mlogloss:0.23282\tvalidation_1-mlogloss:0.35193\n",
      "[84]\tvalidation_0-mlogloss:0.23124\tvalidation_1-mlogloss:0.35107\n",
      "[85]\tvalidation_0-mlogloss:0.22991\tvalidation_1-mlogloss:0.35031\n",
      "[86]\tvalidation_0-mlogloss:0.22835\tvalidation_1-mlogloss:0.34947\n",
      "[87]\tvalidation_0-mlogloss:0.22647\tvalidation_1-mlogloss:0.34846\n",
      "[88]\tvalidation_0-mlogloss:0.22496\tvalidation_1-mlogloss:0.34760\n",
      "[89]\tvalidation_0-mlogloss:0.22318\tvalidation_1-mlogloss:0.34659\n",
      "[90]\tvalidation_0-mlogloss:0.22117\tvalidation_1-mlogloss:0.34536\n",
      "[91]\tvalidation_0-mlogloss:0.21946\tvalidation_1-mlogloss:0.34436\n",
      "[92]\tvalidation_0-mlogloss:0.21809\tvalidation_1-mlogloss:0.34364\n",
      "[93]\tvalidation_0-mlogloss:0.21699\tvalidation_1-mlogloss:0.34305\n",
      "[94]\tvalidation_0-mlogloss:0.21536\tvalidation_1-mlogloss:0.34209\n",
      "[95]\tvalidation_0-mlogloss:0.21396\tvalidation_1-mlogloss:0.34125\n",
      "[96]\tvalidation_0-mlogloss:0.21275\tvalidation_1-mlogloss:0.34054\n",
      "[97]\tvalidation_0-mlogloss:0.21124\tvalidation_1-mlogloss:0.33974\n",
      "[98]\tvalidation_0-mlogloss:0.21011\tvalidation_1-mlogloss:0.33922\n",
      "[99]\tvalidation_0-mlogloss:0.20888\tvalidation_1-mlogloss:0.33863\n",
      "[100]\tvalidation_0-mlogloss:0.20800\tvalidation_1-mlogloss:0.33816\n",
      "[101]\tvalidation_0-mlogloss:0.20692\tvalidation_1-mlogloss:0.33749\n",
      "[102]\tvalidation_0-mlogloss:0.20490\tvalidation_1-mlogloss:0.33634\n",
      "[103]\tvalidation_0-mlogloss:0.20345\tvalidation_1-mlogloss:0.33561\n",
      "[104]\tvalidation_0-mlogloss:0.20196\tvalidation_1-mlogloss:0.33468\n",
      "[105]\tvalidation_0-mlogloss:0.20031\tvalidation_1-mlogloss:0.33374\n",
      "[106]\tvalidation_0-mlogloss:0.19876\tvalidation_1-mlogloss:0.33282\n",
      "[107]\tvalidation_0-mlogloss:0.19788\tvalidation_1-mlogloss:0.33234\n",
      "[108]\tvalidation_0-mlogloss:0.19653\tvalidation_1-mlogloss:0.33169\n",
      "[109]\tvalidation_0-mlogloss:0.19553\tvalidation_1-mlogloss:0.33105\n",
      "[110]\tvalidation_0-mlogloss:0.19430\tvalidation_1-mlogloss:0.33048\n",
      "[111]\tvalidation_0-mlogloss:0.19289\tvalidation_1-mlogloss:0.32996\n",
      "[112]\tvalidation_0-mlogloss:0.19189\tvalidation_1-mlogloss:0.32931\n",
      "[113]\tvalidation_0-mlogloss:0.19047\tvalidation_1-mlogloss:0.32848\n",
      "[114]\tvalidation_0-mlogloss:0.18907\tvalidation_1-mlogloss:0.32780\n",
      "[115]\tvalidation_0-mlogloss:0.18769\tvalidation_1-mlogloss:0.32696\n",
      "[116]\tvalidation_0-mlogloss:0.18661\tvalidation_1-mlogloss:0.32631\n",
      "[117]\tvalidation_0-mlogloss:0.18513\tvalidation_1-mlogloss:0.32549\n",
      "[118]\tvalidation_0-mlogloss:0.18392\tvalidation_1-mlogloss:0.32476\n",
      "[119]\tvalidation_0-mlogloss:0.18270\tvalidation_1-mlogloss:0.32403\n",
      "[120]\tvalidation_0-mlogloss:0.18191\tvalidation_1-mlogloss:0.32373\n",
      "[121]\tvalidation_0-mlogloss:0.18077\tvalidation_1-mlogloss:0.32314\n",
      "[122]\tvalidation_0-mlogloss:0.17966\tvalidation_1-mlogloss:0.32260\n",
      "[123]\tvalidation_0-mlogloss:0.17827\tvalidation_1-mlogloss:0.32183\n",
      "[124]\tvalidation_0-mlogloss:0.17742\tvalidation_1-mlogloss:0.32142\n",
      "[125]\tvalidation_0-mlogloss:0.17608\tvalidation_1-mlogloss:0.32077\n"
     ]
    },
    {
     "name": "stdout",
     "output_type": "stream",
     "text": [
      "[126]\tvalidation_0-mlogloss:0.17495\tvalidation_1-mlogloss:0.32027\n",
      "[127]\tvalidation_0-mlogloss:0.17412\tvalidation_1-mlogloss:0.31987\n",
      "[128]\tvalidation_0-mlogloss:0.17264\tvalidation_1-mlogloss:0.31908\n",
      "[129]\tvalidation_0-mlogloss:0.17123\tvalidation_1-mlogloss:0.31839\n",
      "[130]\tvalidation_0-mlogloss:0.17038\tvalidation_1-mlogloss:0.31799\n",
      "[131]\tvalidation_0-mlogloss:0.16952\tvalidation_1-mlogloss:0.31761\n",
      "[132]\tvalidation_0-mlogloss:0.16868\tvalidation_1-mlogloss:0.31720\n",
      "[133]\tvalidation_0-mlogloss:0.16710\tvalidation_1-mlogloss:0.31644\n",
      "[134]\tvalidation_0-mlogloss:0.16606\tvalidation_1-mlogloss:0.31597\n",
      "[135]\tvalidation_0-mlogloss:0.16468\tvalidation_1-mlogloss:0.31517\n",
      "[136]\tvalidation_0-mlogloss:0.16403\tvalidation_1-mlogloss:0.31488\n",
      "[137]\tvalidation_0-mlogloss:0.16302\tvalidation_1-mlogloss:0.31444\n",
      "[138]\tvalidation_0-mlogloss:0.16230\tvalidation_1-mlogloss:0.31408\n",
      "[139]\tvalidation_0-mlogloss:0.16154\tvalidation_1-mlogloss:0.31378\n",
      "[140]\tvalidation_0-mlogloss:0.16056\tvalidation_1-mlogloss:0.31339\n",
      "[141]\tvalidation_0-mlogloss:0.15945\tvalidation_1-mlogloss:0.31284\n",
      "[142]\tvalidation_0-mlogloss:0.15882\tvalidation_1-mlogloss:0.31253\n",
      "[143]\tvalidation_0-mlogloss:0.15798\tvalidation_1-mlogloss:0.31222\n",
      "[144]\tvalidation_0-mlogloss:0.15685\tvalidation_1-mlogloss:0.31184\n",
      "[145]\tvalidation_0-mlogloss:0.15588\tvalidation_1-mlogloss:0.31144\n",
      "[146]\tvalidation_0-mlogloss:0.15474\tvalidation_1-mlogloss:0.31085\n",
      "[147]\tvalidation_0-mlogloss:0.15379\tvalidation_1-mlogloss:0.31035\n",
      "[148]\tvalidation_0-mlogloss:0.15281\tvalidation_1-mlogloss:0.30994\n",
      "[149]\tvalidation_0-mlogloss:0.15159\tvalidation_1-mlogloss:0.30940\n",
      "[150]\tvalidation_0-mlogloss:0.15075\tvalidation_1-mlogloss:0.30905\n",
      "[151]\tvalidation_0-mlogloss:0.14966\tvalidation_1-mlogloss:0.30857\n",
      "[152]\tvalidation_0-mlogloss:0.14865\tvalidation_1-mlogloss:0.30814\n",
      "[153]\tvalidation_0-mlogloss:0.14788\tvalidation_1-mlogloss:0.30782\n",
      "[154]\tvalidation_0-mlogloss:0.14713\tvalidation_1-mlogloss:0.30746\n",
      "[155]\tvalidation_0-mlogloss:0.14640\tvalidation_1-mlogloss:0.30711\n",
      "[156]\tvalidation_0-mlogloss:0.14564\tvalidation_1-mlogloss:0.30682\n",
      "[157]\tvalidation_0-mlogloss:0.14459\tvalidation_1-mlogloss:0.30643\n",
      "[158]\tvalidation_0-mlogloss:0.14392\tvalidation_1-mlogloss:0.30628\n",
      "[159]\tvalidation_0-mlogloss:0.14326\tvalidation_1-mlogloss:0.30599\n",
      "[160]\tvalidation_0-mlogloss:0.14260\tvalidation_1-mlogloss:0.30571\n",
      "[161]\tvalidation_0-mlogloss:0.14195\tvalidation_1-mlogloss:0.30550\n",
      "[162]\tvalidation_0-mlogloss:0.14097\tvalidation_1-mlogloss:0.30504\n",
      "[163]\tvalidation_0-mlogloss:0.14026\tvalidation_1-mlogloss:0.30478\n",
      "[164]\tvalidation_0-mlogloss:0.13929\tvalidation_1-mlogloss:0.30427\n",
      "[165]\tvalidation_0-mlogloss:0.13837\tvalidation_1-mlogloss:0.30392\n",
      "[166]\tvalidation_0-mlogloss:0.13756\tvalidation_1-mlogloss:0.30356\n",
      "[167]\tvalidation_0-mlogloss:0.13712\tvalidation_1-mlogloss:0.30340\n",
      "[168]\tvalidation_0-mlogloss:0.13627\tvalidation_1-mlogloss:0.30301\n",
      "[169]\tvalidation_0-mlogloss:0.13562\tvalidation_1-mlogloss:0.30275\n",
      "[170]\tvalidation_0-mlogloss:0.13477\tvalidation_1-mlogloss:0.30240\n",
      "[171]\tvalidation_0-mlogloss:0.13421\tvalidation_1-mlogloss:0.30219\n",
      "[172]\tvalidation_0-mlogloss:0.13341\tvalidation_1-mlogloss:0.30190\n",
      "[173]\tvalidation_0-mlogloss:0.13253\tvalidation_1-mlogloss:0.30164\n",
      "[174]\tvalidation_0-mlogloss:0.13201\tvalidation_1-mlogloss:0.30143\n",
      "[175]\tvalidation_0-mlogloss:0.13149\tvalidation_1-mlogloss:0.30117\n",
      "[176]\tvalidation_0-mlogloss:0.13054\tvalidation_1-mlogloss:0.30079\n",
      "[177]\tvalidation_0-mlogloss:0.13004\tvalidation_1-mlogloss:0.30067\n",
      "[178]\tvalidation_0-mlogloss:0.12931\tvalidation_1-mlogloss:0.30028\n",
      "[179]\tvalidation_0-mlogloss:0.12862\tvalidation_1-mlogloss:0.29998\n",
      "[180]\tvalidation_0-mlogloss:0.12764\tvalidation_1-mlogloss:0.29960\n",
      "[181]\tvalidation_0-mlogloss:0.12692\tvalidation_1-mlogloss:0.29931\n",
      "[182]\tvalidation_0-mlogloss:0.12608\tvalidation_1-mlogloss:0.29892\n",
      "[183]\tvalidation_0-mlogloss:0.12552\tvalidation_1-mlogloss:0.29870\n",
      "[184]\tvalidation_0-mlogloss:0.12480\tvalidation_1-mlogloss:0.29831\n",
      "[185]\tvalidation_0-mlogloss:0.12433\tvalidation_1-mlogloss:0.29815\n",
      "[186]\tvalidation_0-mlogloss:0.12340\tvalidation_1-mlogloss:0.29779\n",
      "[187]\tvalidation_0-mlogloss:0.12272\tvalidation_1-mlogloss:0.29753\n",
      "[188]\tvalidation_0-mlogloss:0.12193\tvalidation_1-mlogloss:0.29724\n",
      "[189]\tvalidation_0-mlogloss:0.12142\tvalidation_1-mlogloss:0.29713\n",
      "[190]\tvalidation_0-mlogloss:0.12047\tvalidation_1-mlogloss:0.29668\n",
      "[191]\tvalidation_0-mlogloss:0.11996\tvalidation_1-mlogloss:0.29657\n",
      "[192]\tvalidation_0-mlogloss:0.11921\tvalidation_1-mlogloss:0.29620\n",
      "[193]\tvalidation_0-mlogloss:0.11848\tvalidation_1-mlogloss:0.29595\n",
      "[194]\tvalidation_0-mlogloss:0.11786\tvalidation_1-mlogloss:0.29575\n",
      "[195]\tvalidation_0-mlogloss:0.11725\tvalidation_1-mlogloss:0.29551\n",
      "[196]\tvalidation_0-mlogloss:0.11652\tvalidation_1-mlogloss:0.29515\n",
      "[197]\tvalidation_0-mlogloss:0.11596\tvalidation_1-mlogloss:0.29492\n",
      "[198]\tvalidation_0-mlogloss:0.11526\tvalidation_1-mlogloss:0.29460\n",
      "[199]\tvalidation_0-mlogloss:0.11442\tvalidation_1-mlogloss:0.29422\n",
      "[200]\tvalidation_0-mlogloss:0.11380\tvalidation_1-mlogloss:0.29398\n",
      "[201]\tvalidation_0-mlogloss:0.11335\tvalidation_1-mlogloss:0.29380\n",
      "[202]\tvalidation_0-mlogloss:0.11279\tvalidation_1-mlogloss:0.29353\n",
      "[203]\tvalidation_0-mlogloss:0.11199\tvalidation_1-mlogloss:0.29326\n",
      "[204]\tvalidation_0-mlogloss:0.11123\tvalidation_1-mlogloss:0.29302\n",
      "[205]\tvalidation_0-mlogloss:0.11044\tvalidation_1-mlogloss:0.29276\n",
      "[206]\tvalidation_0-mlogloss:0.10992\tvalidation_1-mlogloss:0.29263\n",
      "[207]\tvalidation_0-mlogloss:0.10936\tvalidation_1-mlogloss:0.29240\n",
      "[208]\tvalidation_0-mlogloss:0.10868\tvalidation_1-mlogloss:0.29226\n",
      "[209]\tvalidation_0-mlogloss:0.10819\tvalidation_1-mlogloss:0.29200\n",
      "[210]\tvalidation_0-mlogloss:0.10774\tvalidation_1-mlogloss:0.29180\n",
      "[211]\tvalidation_0-mlogloss:0.10717\tvalidation_1-mlogloss:0.29160\n",
      "[212]\tvalidation_0-mlogloss:0.10679\tvalidation_1-mlogloss:0.29147\n",
      "[213]\tvalidation_0-mlogloss:0.10615\tvalidation_1-mlogloss:0.29119\n",
      "[214]\tvalidation_0-mlogloss:0.10555\tvalidation_1-mlogloss:0.29091\n",
      "[215]\tvalidation_0-mlogloss:0.10498\tvalidation_1-mlogloss:0.29065\n",
      "[216]\tvalidation_0-mlogloss:0.10457\tvalidation_1-mlogloss:0.29055\n",
      "[217]\tvalidation_0-mlogloss:0.10414\tvalidation_1-mlogloss:0.29037\n",
      "[218]\tvalidation_0-mlogloss:0.10381\tvalidation_1-mlogloss:0.29022\n",
      "[219]\tvalidation_0-mlogloss:0.10332\tvalidation_1-mlogloss:0.29010\n",
      "[220]\tvalidation_0-mlogloss:0.10298\tvalidation_1-mlogloss:0.28992\n",
      "[221]\tvalidation_0-mlogloss:0.10260\tvalidation_1-mlogloss:0.28975\n",
      "[222]\tvalidation_0-mlogloss:0.10213\tvalidation_1-mlogloss:0.28947\n",
      "[223]\tvalidation_0-mlogloss:0.10156\tvalidation_1-mlogloss:0.28932\n",
      "[224]\tvalidation_0-mlogloss:0.10085\tvalidation_1-mlogloss:0.28910\n",
      "[225]\tvalidation_0-mlogloss:0.10033\tvalidation_1-mlogloss:0.28895\n",
      "[226]\tvalidation_0-mlogloss:0.09969\tvalidation_1-mlogloss:0.28871\n",
      "[227]\tvalidation_0-mlogloss:0.09916\tvalidation_1-mlogloss:0.28852\n",
      "[228]\tvalidation_0-mlogloss:0.09860\tvalidation_1-mlogloss:0.28834\n",
      "[229]\tvalidation_0-mlogloss:0.09813\tvalidation_1-mlogloss:0.28812\n",
      "[230]\tvalidation_0-mlogloss:0.09759\tvalidation_1-mlogloss:0.28791\n",
      "[231]\tvalidation_0-mlogloss:0.09714\tvalidation_1-mlogloss:0.28779\n",
      "[232]\tvalidation_0-mlogloss:0.09665\tvalidation_1-mlogloss:0.28764\n",
      "[233]\tvalidation_0-mlogloss:0.09623\tvalidation_1-mlogloss:0.28752\n",
      "[234]\tvalidation_0-mlogloss:0.09581\tvalidation_1-mlogloss:0.28741\n",
      "[235]\tvalidation_0-mlogloss:0.09546\tvalidation_1-mlogloss:0.28735\n",
      "[236]\tvalidation_0-mlogloss:0.09510\tvalidation_1-mlogloss:0.28723\n",
      "[237]\tvalidation_0-mlogloss:0.09462\tvalidation_1-mlogloss:0.28704\n",
      "[238]\tvalidation_0-mlogloss:0.09418\tvalidation_1-mlogloss:0.28690\n",
      "[239]\tvalidation_0-mlogloss:0.09365\tvalidation_1-mlogloss:0.28671\n",
      "[240]\tvalidation_0-mlogloss:0.09334\tvalidation_1-mlogloss:0.28662\n",
      "[241]\tvalidation_0-mlogloss:0.09277\tvalidation_1-mlogloss:0.28652\n",
      "[242]\tvalidation_0-mlogloss:0.09241\tvalidation_1-mlogloss:0.28640\n",
      "[243]\tvalidation_0-mlogloss:0.09211\tvalidation_1-mlogloss:0.28630\n",
      "[244]\tvalidation_0-mlogloss:0.09175\tvalidation_1-mlogloss:0.28624\n",
      "[245]\tvalidation_0-mlogloss:0.09149\tvalidation_1-mlogloss:0.28616\n",
      "[246]\tvalidation_0-mlogloss:0.09122\tvalidation_1-mlogloss:0.28608\n",
      "[247]\tvalidation_0-mlogloss:0.09061\tvalidation_1-mlogloss:0.28582\n",
      "[248]\tvalidation_0-mlogloss:0.09021\tvalidation_1-mlogloss:0.28571\n",
      "[249]\tvalidation_0-mlogloss:0.08989\tvalidation_1-mlogloss:0.28567\n",
      "[250]\tvalidation_0-mlogloss:0.08949\tvalidation_1-mlogloss:0.28553\n"
     ]
    },
    {
     "name": "stdout",
     "output_type": "stream",
     "text": [
      "[251]\tvalidation_0-mlogloss:0.08901\tvalidation_1-mlogloss:0.28542\n",
      "[252]\tvalidation_0-mlogloss:0.08849\tvalidation_1-mlogloss:0.28525\n",
      "[253]\tvalidation_0-mlogloss:0.08807\tvalidation_1-mlogloss:0.28516\n",
      "[254]\tvalidation_0-mlogloss:0.08772\tvalidation_1-mlogloss:0.28506\n",
      "[255]\tvalidation_0-mlogloss:0.08731\tvalidation_1-mlogloss:0.28505\n",
      "[256]\tvalidation_0-mlogloss:0.08677\tvalidation_1-mlogloss:0.28487\n",
      "[257]\tvalidation_0-mlogloss:0.08632\tvalidation_1-mlogloss:0.28471\n",
      "[258]\tvalidation_0-mlogloss:0.08596\tvalidation_1-mlogloss:0.28457\n",
      "[259]\tvalidation_0-mlogloss:0.08551\tvalidation_1-mlogloss:0.28444\n",
      "[260]\tvalidation_0-mlogloss:0.08513\tvalidation_1-mlogloss:0.28433\n",
      "[261]\tvalidation_0-mlogloss:0.08476\tvalidation_1-mlogloss:0.28422\n",
      "[262]\tvalidation_0-mlogloss:0.08441\tvalidation_1-mlogloss:0.28414\n",
      "[263]\tvalidation_0-mlogloss:0.08406\tvalidation_1-mlogloss:0.28404\n",
      "[264]\tvalidation_0-mlogloss:0.08371\tvalidation_1-mlogloss:0.28400\n",
      "[265]\tvalidation_0-mlogloss:0.08321\tvalidation_1-mlogloss:0.28392\n",
      "[266]\tvalidation_0-mlogloss:0.08282\tvalidation_1-mlogloss:0.28391\n",
      "[267]\tvalidation_0-mlogloss:0.08255\tvalidation_1-mlogloss:0.28389\n",
      "[268]\tvalidation_0-mlogloss:0.08201\tvalidation_1-mlogloss:0.28368\n",
      "[269]\tvalidation_0-mlogloss:0.08155\tvalidation_1-mlogloss:0.28361\n",
      "[270]\tvalidation_0-mlogloss:0.08101\tvalidation_1-mlogloss:0.28352\n",
      "[271]\tvalidation_0-mlogloss:0.08071\tvalidation_1-mlogloss:0.28341\n",
      "[272]\tvalidation_0-mlogloss:0.08036\tvalidation_1-mlogloss:0.28331\n",
      "[273]\tvalidation_0-mlogloss:0.07998\tvalidation_1-mlogloss:0.28322\n",
      "[274]\tvalidation_0-mlogloss:0.07968\tvalidation_1-mlogloss:0.28319\n",
      "[275]\tvalidation_0-mlogloss:0.07923\tvalidation_1-mlogloss:0.28306\n",
      "[276]\tvalidation_0-mlogloss:0.07875\tvalidation_1-mlogloss:0.28297\n",
      "[277]\tvalidation_0-mlogloss:0.07835\tvalidation_1-mlogloss:0.28291\n",
      "[278]\tvalidation_0-mlogloss:0.07797\tvalidation_1-mlogloss:0.28285\n",
      "[279]\tvalidation_0-mlogloss:0.07761\tvalidation_1-mlogloss:0.28277\n",
      "[280]\tvalidation_0-mlogloss:0.07711\tvalidation_1-mlogloss:0.28263\n",
      "[281]\tvalidation_0-mlogloss:0.07658\tvalidation_1-mlogloss:0.28240\n",
      "[282]\tvalidation_0-mlogloss:0.07619\tvalidation_1-mlogloss:0.28230\n",
      "[283]\tvalidation_0-mlogloss:0.07575\tvalidation_1-mlogloss:0.28225\n",
      "[284]\tvalidation_0-mlogloss:0.07542\tvalidation_1-mlogloss:0.28225\n",
      "[285]\tvalidation_0-mlogloss:0.07504\tvalidation_1-mlogloss:0.28213\n",
      "[286]\tvalidation_0-mlogloss:0.07473\tvalidation_1-mlogloss:0.28208\n",
      "[287]\tvalidation_0-mlogloss:0.07442\tvalidation_1-mlogloss:0.28202\n",
      "[288]\tvalidation_0-mlogloss:0.07405\tvalidation_1-mlogloss:0.28195\n",
      "[289]\tvalidation_0-mlogloss:0.07360\tvalidation_1-mlogloss:0.28174\n",
      "[290]\tvalidation_0-mlogloss:0.07324\tvalidation_1-mlogloss:0.28171\n",
      "[291]\tvalidation_0-mlogloss:0.07295\tvalidation_1-mlogloss:0.28160\n",
      "[292]\tvalidation_0-mlogloss:0.07267\tvalidation_1-mlogloss:0.28161\n",
      "[293]\tvalidation_0-mlogloss:0.07231\tvalidation_1-mlogloss:0.28148\n",
      "[294]\tvalidation_0-mlogloss:0.07202\tvalidation_1-mlogloss:0.28146\n",
      "[295]\tvalidation_0-mlogloss:0.07169\tvalidation_1-mlogloss:0.28146\n",
      "[296]\tvalidation_0-mlogloss:0.07124\tvalidation_1-mlogloss:0.28123\n",
      "[297]\tvalidation_0-mlogloss:0.07098\tvalidation_1-mlogloss:0.28119\n",
      "[298]\tvalidation_0-mlogloss:0.07071\tvalidation_1-mlogloss:0.28114\n",
      "[299]\tvalidation_0-mlogloss:0.07051\tvalidation_1-mlogloss:0.28111\n",
      "[300]\tvalidation_0-mlogloss:0.07030\tvalidation_1-mlogloss:0.28106\n",
      "[301]\tvalidation_0-mlogloss:0.07006\tvalidation_1-mlogloss:0.28101\n",
      "[302]\tvalidation_0-mlogloss:0.06973\tvalidation_1-mlogloss:0.28097\n",
      "[303]\tvalidation_0-mlogloss:0.06953\tvalidation_1-mlogloss:0.28093\n",
      "[304]\tvalidation_0-mlogloss:0.06930\tvalidation_1-mlogloss:0.28085\n",
      "[305]\tvalidation_0-mlogloss:0.06894\tvalidation_1-mlogloss:0.28079\n",
      "[306]\tvalidation_0-mlogloss:0.06866\tvalidation_1-mlogloss:0.28078\n",
      "[307]\tvalidation_0-mlogloss:0.06836\tvalidation_1-mlogloss:0.28073\n",
      "[308]\tvalidation_0-mlogloss:0.06801\tvalidation_1-mlogloss:0.28069\n",
      "[309]\tvalidation_0-mlogloss:0.06771\tvalidation_1-mlogloss:0.28064\n",
      "[310]\tvalidation_0-mlogloss:0.06755\tvalidation_1-mlogloss:0.28063\n",
      "[311]\tvalidation_0-mlogloss:0.06731\tvalidation_1-mlogloss:0.28061\n",
      "[312]\tvalidation_0-mlogloss:0.06710\tvalidation_1-mlogloss:0.28058\n",
      "[313]\tvalidation_0-mlogloss:0.06690\tvalidation_1-mlogloss:0.28056\n",
      "[314]\tvalidation_0-mlogloss:0.06661\tvalidation_1-mlogloss:0.28059\n",
      "[315]\tvalidation_0-mlogloss:0.06635\tvalidation_1-mlogloss:0.28053\n",
      "[316]\tvalidation_0-mlogloss:0.06606\tvalidation_1-mlogloss:0.28052\n",
      "[317]\tvalidation_0-mlogloss:0.06580\tvalidation_1-mlogloss:0.28047\n",
      "[318]\tvalidation_0-mlogloss:0.06546\tvalidation_1-mlogloss:0.28036\n",
      "[319]\tvalidation_0-mlogloss:0.06516\tvalidation_1-mlogloss:0.28029\n",
      "[320]\tvalidation_0-mlogloss:0.06490\tvalidation_1-mlogloss:0.28027\n",
      "[321]\tvalidation_0-mlogloss:0.06454\tvalidation_1-mlogloss:0.28016\n",
      "[322]\tvalidation_0-mlogloss:0.06426\tvalidation_1-mlogloss:0.28011\n",
      "[323]\tvalidation_0-mlogloss:0.06396\tvalidation_1-mlogloss:0.27997\n",
      "[324]\tvalidation_0-mlogloss:0.06367\tvalidation_1-mlogloss:0.27992\n",
      "[325]\tvalidation_0-mlogloss:0.06338\tvalidation_1-mlogloss:0.27990\n",
      "[326]\tvalidation_0-mlogloss:0.06300\tvalidation_1-mlogloss:0.27978\n",
      "[327]\tvalidation_0-mlogloss:0.06268\tvalidation_1-mlogloss:0.27969\n",
      "[328]\tvalidation_0-mlogloss:0.06228\tvalidation_1-mlogloss:0.27959\n",
      "[329]\tvalidation_0-mlogloss:0.06205\tvalidation_1-mlogloss:0.27957\n",
      "[330]\tvalidation_0-mlogloss:0.06181\tvalidation_1-mlogloss:0.27947\n",
      "[331]\tvalidation_0-mlogloss:0.06158\tvalidation_1-mlogloss:0.27944\n",
      "[332]\tvalidation_0-mlogloss:0.06141\tvalidation_1-mlogloss:0.27943\n",
      "[333]\tvalidation_0-mlogloss:0.06118\tvalidation_1-mlogloss:0.27935\n",
      "[334]\tvalidation_0-mlogloss:0.06092\tvalidation_1-mlogloss:0.27936\n",
      "[335]\tvalidation_0-mlogloss:0.06071\tvalidation_1-mlogloss:0.27934\n",
      "[336]\tvalidation_0-mlogloss:0.06051\tvalidation_1-mlogloss:0.27931\n",
      "[337]\tvalidation_0-mlogloss:0.06032\tvalidation_1-mlogloss:0.27931\n",
      "[338]\tvalidation_0-mlogloss:0.06011\tvalidation_1-mlogloss:0.27927\n",
      "[339]\tvalidation_0-mlogloss:0.05990\tvalidation_1-mlogloss:0.27920\n",
      "[340]\tvalidation_0-mlogloss:0.05962\tvalidation_1-mlogloss:0.27919\n",
      "[341]\tvalidation_0-mlogloss:0.05938\tvalidation_1-mlogloss:0.27917\n",
      "[342]\tvalidation_0-mlogloss:0.05914\tvalidation_1-mlogloss:0.27914\n",
      "[343]\tvalidation_0-mlogloss:0.05891\tvalidation_1-mlogloss:0.27915\n",
      "[344]\tvalidation_0-mlogloss:0.05874\tvalidation_1-mlogloss:0.27912\n",
      "[345]\tvalidation_0-mlogloss:0.05852\tvalidation_1-mlogloss:0.27911\n",
      "[346]\tvalidation_0-mlogloss:0.05832\tvalidation_1-mlogloss:0.27905\n",
      "[347]\tvalidation_0-mlogloss:0.05810\tvalidation_1-mlogloss:0.27903\n",
      "[348]\tvalidation_0-mlogloss:0.05789\tvalidation_1-mlogloss:0.27902\n",
      "[349]\tvalidation_0-mlogloss:0.05772\tvalidation_1-mlogloss:0.27896\n",
      "[350]\tvalidation_0-mlogloss:0.05756\tvalidation_1-mlogloss:0.27893\n",
      "[351]\tvalidation_0-mlogloss:0.05733\tvalidation_1-mlogloss:0.27891\n",
      "[352]\tvalidation_0-mlogloss:0.05714\tvalidation_1-mlogloss:0.27892\n",
      "[353]\tvalidation_0-mlogloss:0.05695\tvalidation_1-mlogloss:0.27900\n",
      "[354]\tvalidation_0-mlogloss:0.05673\tvalidation_1-mlogloss:0.27903\n",
      "[355]\tvalidation_0-mlogloss:0.05654\tvalidation_1-mlogloss:0.27900\n",
      "[356]\tvalidation_0-mlogloss:0.05636\tvalidation_1-mlogloss:0.27900\n",
      "[357]\tvalidation_0-mlogloss:0.05616\tvalidation_1-mlogloss:0.27901\n",
      "[358]\tvalidation_0-mlogloss:0.05601\tvalidation_1-mlogloss:0.27896\n",
      "[359]\tvalidation_0-mlogloss:0.05572\tvalidation_1-mlogloss:0.27889\n",
      "[360]\tvalidation_0-mlogloss:0.05549\tvalidation_1-mlogloss:0.27888\n",
      "[361]\tvalidation_0-mlogloss:0.05531\tvalidation_1-mlogloss:0.27890\n",
      "[362]\tvalidation_0-mlogloss:0.05511\tvalidation_1-mlogloss:0.27886\n",
      "[363]\tvalidation_0-mlogloss:0.05496\tvalidation_1-mlogloss:0.27885\n",
      "[364]\tvalidation_0-mlogloss:0.05481\tvalidation_1-mlogloss:0.27890\n",
      "[365]\tvalidation_0-mlogloss:0.05461\tvalidation_1-mlogloss:0.27887\n",
      "[366]\tvalidation_0-mlogloss:0.05441\tvalidation_1-mlogloss:0.27886\n",
      "[367]\tvalidation_0-mlogloss:0.05423\tvalidation_1-mlogloss:0.27890\n",
      "[368]\tvalidation_0-mlogloss:0.05406\tvalidation_1-mlogloss:0.27889\n",
      "[369]\tvalidation_0-mlogloss:0.05385\tvalidation_1-mlogloss:0.27885\n",
      "[370]\tvalidation_0-mlogloss:0.05363\tvalidation_1-mlogloss:0.27881\n",
      "[371]\tvalidation_0-mlogloss:0.05343\tvalidation_1-mlogloss:0.27879\n",
      "[372]\tvalidation_0-mlogloss:0.05322\tvalidation_1-mlogloss:0.27883\n",
      "[373]\tvalidation_0-mlogloss:0.05296\tvalidation_1-mlogloss:0.27874\n",
      "[374]\tvalidation_0-mlogloss:0.05273\tvalidation_1-mlogloss:0.27874\n",
      "[375]\tvalidation_0-mlogloss:0.05252\tvalidation_1-mlogloss:0.27878\n"
     ]
    },
    {
     "name": "stdout",
     "output_type": "stream",
     "text": [
      "[376]\tvalidation_0-mlogloss:0.05236\tvalidation_1-mlogloss:0.27879\n",
      "[377]\tvalidation_0-mlogloss:0.05215\tvalidation_1-mlogloss:0.27878\n",
      "[378]\tvalidation_0-mlogloss:0.05191\tvalidation_1-mlogloss:0.27871\n",
      "[379]\tvalidation_0-mlogloss:0.05175\tvalidation_1-mlogloss:0.27870\n",
      "[380]\tvalidation_0-mlogloss:0.05158\tvalidation_1-mlogloss:0.27873\n",
      "[381]\tvalidation_0-mlogloss:0.05136\tvalidation_1-mlogloss:0.27868\n",
      "[382]\tvalidation_0-mlogloss:0.05112\tvalidation_1-mlogloss:0.27861\n",
      "[383]\tvalidation_0-mlogloss:0.05091\tvalidation_1-mlogloss:0.27858\n",
      "[384]\tvalidation_0-mlogloss:0.05066\tvalidation_1-mlogloss:0.27850\n",
      "[385]\tvalidation_0-mlogloss:0.05043\tvalidation_1-mlogloss:0.27842\n",
      "[386]\tvalidation_0-mlogloss:0.05026\tvalidation_1-mlogloss:0.27841\n",
      "[387]\tvalidation_0-mlogloss:0.05007\tvalidation_1-mlogloss:0.27845\n",
      "[388]\tvalidation_0-mlogloss:0.04993\tvalidation_1-mlogloss:0.27849\n",
      "[389]\tvalidation_0-mlogloss:0.04972\tvalidation_1-mlogloss:0.27845\n",
      "[390]\tvalidation_0-mlogloss:0.04947\tvalidation_1-mlogloss:0.27845\n",
      "[391]\tvalidation_0-mlogloss:0.04930\tvalidation_1-mlogloss:0.27850\n",
      "[392]\tvalidation_0-mlogloss:0.04908\tvalidation_1-mlogloss:0.27846\n",
      "[393]\tvalidation_0-mlogloss:0.04895\tvalidation_1-mlogloss:0.27847\n",
      "[394]\tvalidation_0-mlogloss:0.04876\tvalidation_1-mlogloss:0.27841\n",
      "[395]\tvalidation_0-mlogloss:0.04854\tvalidation_1-mlogloss:0.27832\n",
      "[396]\tvalidation_0-mlogloss:0.04840\tvalidation_1-mlogloss:0.27835\n",
      "[397]\tvalidation_0-mlogloss:0.04823\tvalidation_1-mlogloss:0.27833\n",
      "[398]\tvalidation_0-mlogloss:0.04806\tvalidation_1-mlogloss:0.27827\n",
      "[399]\tvalidation_0-mlogloss:0.04787\tvalidation_1-mlogloss:0.27826\n",
      "[400]\tvalidation_0-mlogloss:0.04772\tvalidation_1-mlogloss:0.27828\n",
      "[401]\tvalidation_0-mlogloss:0.04758\tvalidation_1-mlogloss:0.27827\n",
      "[402]\tvalidation_0-mlogloss:0.04743\tvalidation_1-mlogloss:0.27824\n",
      "[403]\tvalidation_0-mlogloss:0.04722\tvalidation_1-mlogloss:0.27820\n",
      "[404]\tvalidation_0-mlogloss:0.04708\tvalidation_1-mlogloss:0.27827\n",
      "[405]\tvalidation_0-mlogloss:0.04692\tvalidation_1-mlogloss:0.27832\n",
      "[406]\tvalidation_0-mlogloss:0.04675\tvalidation_1-mlogloss:0.27830\n",
      "[407]\tvalidation_0-mlogloss:0.04662\tvalidation_1-mlogloss:0.27831\n",
      "[408]\tvalidation_0-mlogloss:0.04646\tvalidation_1-mlogloss:0.27833\n",
      "[409]\tvalidation_0-mlogloss:0.04629\tvalidation_1-mlogloss:0.27829\n",
      "[410]\tvalidation_0-mlogloss:0.04608\tvalidation_1-mlogloss:0.27827\n",
      "[411]\tvalidation_0-mlogloss:0.04589\tvalidation_1-mlogloss:0.27825\n",
      "[412]\tvalidation_0-mlogloss:0.04570\tvalidation_1-mlogloss:0.27825\n",
      "[413]\tvalidation_0-mlogloss:0.04550\tvalidation_1-mlogloss:0.27822\n",
      "[414]\tvalidation_0-mlogloss:0.04534\tvalidation_1-mlogloss:0.27824\n",
      "[415]\tvalidation_0-mlogloss:0.04520\tvalidation_1-mlogloss:0.27819\n",
      "[416]\tvalidation_0-mlogloss:0.04505\tvalidation_1-mlogloss:0.27818\n",
      "[417]\tvalidation_0-mlogloss:0.04486\tvalidation_1-mlogloss:0.27819\n",
      "[418]\tvalidation_0-mlogloss:0.04473\tvalidation_1-mlogloss:0.27822\n",
      "[419]\tvalidation_0-mlogloss:0.04458\tvalidation_1-mlogloss:0.27828\n",
      "[420]\tvalidation_0-mlogloss:0.04442\tvalidation_1-mlogloss:0.27829\n",
      "[421]\tvalidation_0-mlogloss:0.04426\tvalidation_1-mlogloss:0.27831\n",
      "[422]\tvalidation_0-mlogloss:0.04414\tvalidation_1-mlogloss:0.27833\n",
      "[423]\tvalidation_0-mlogloss:0.04400\tvalidation_1-mlogloss:0.27833\n",
      "[424]\tvalidation_0-mlogloss:0.04389\tvalidation_1-mlogloss:0.27833\n",
      "[425]\tvalidation_0-mlogloss:0.04371\tvalidation_1-mlogloss:0.27843\n",
      "[426]\tvalidation_0-mlogloss:0.04361\tvalidation_1-mlogloss:0.27839\n",
      "[427]\tvalidation_0-mlogloss:0.04349\tvalidation_1-mlogloss:0.27845\n",
      "[428]\tvalidation_0-mlogloss:0.04339\tvalidation_1-mlogloss:0.27844\n",
      "[429]\tvalidation_0-mlogloss:0.04329\tvalidation_1-mlogloss:0.27844\n",
      "[430]\tvalidation_0-mlogloss:0.04311\tvalidation_1-mlogloss:0.27843\n",
      "[431]\tvalidation_0-mlogloss:0.04295\tvalidation_1-mlogloss:0.27843\n",
      "[432]\tvalidation_0-mlogloss:0.04284\tvalidation_1-mlogloss:0.27845\n",
      "[433]\tvalidation_0-mlogloss:0.04266\tvalidation_1-mlogloss:0.27844\n",
      "[434]\tvalidation_0-mlogloss:0.04254\tvalidation_1-mlogloss:0.27845\n",
      "[435]\tvalidation_0-mlogloss:0.04237\tvalidation_1-mlogloss:0.27849\n",
      "[436]\tvalidation_0-mlogloss:0.04227\tvalidation_1-mlogloss:0.27847\n",
      "[437]\tvalidation_0-mlogloss:0.04214\tvalidation_1-mlogloss:0.27846\n",
      "[438]\tvalidation_0-mlogloss:0.04196\tvalidation_1-mlogloss:0.27850\n",
      "[439]\tvalidation_0-mlogloss:0.04184\tvalidation_1-mlogloss:0.27854\n",
      "[440]\tvalidation_0-mlogloss:0.04171\tvalidation_1-mlogloss:0.27858\n",
      "[441]\tvalidation_0-mlogloss:0.04157\tvalidation_1-mlogloss:0.27859\n",
      "[442]\tvalidation_0-mlogloss:0.04137\tvalidation_1-mlogloss:0.27859\n",
      "[443]\tvalidation_0-mlogloss:0.04123\tvalidation_1-mlogloss:0.27856\n",
      "[444]\tvalidation_0-mlogloss:0.04108\tvalidation_1-mlogloss:0.27857\n",
      "[445]\tvalidation_0-mlogloss:0.04093\tvalidation_1-mlogloss:0.27854\n",
      "[446]\tvalidation_0-mlogloss:0.04080\tvalidation_1-mlogloss:0.27855\n",
      "[447]\tvalidation_0-mlogloss:0.04063\tvalidation_1-mlogloss:0.27858\n",
      "[448]\tvalidation_0-mlogloss:0.04049\tvalidation_1-mlogloss:0.27863\n",
      "[449]\tvalidation_0-mlogloss:0.04038\tvalidation_1-mlogloss:0.27863\n",
      "[450]\tvalidation_0-mlogloss:0.04023\tvalidation_1-mlogloss:0.27868\n",
      "[451]\tvalidation_0-mlogloss:0.04012\tvalidation_1-mlogloss:0.27872\n",
      "[452]\tvalidation_0-mlogloss:0.04001\tvalidation_1-mlogloss:0.27870\n",
      "[453]\tvalidation_0-mlogloss:0.03994\tvalidation_1-mlogloss:0.27873\n",
      "[454]\tvalidation_0-mlogloss:0.03984\tvalidation_1-mlogloss:0.27872\n",
      "[455]\tvalidation_0-mlogloss:0.03973\tvalidation_1-mlogloss:0.27873\n",
      "[456]\tvalidation_0-mlogloss:0.03959\tvalidation_1-mlogloss:0.27874\n",
      "[457]\tvalidation_0-mlogloss:0.03946\tvalidation_1-mlogloss:0.27876\n",
      "[458]\tvalidation_0-mlogloss:0.03934\tvalidation_1-mlogloss:0.27877\n",
      "[459]\tvalidation_0-mlogloss:0.03921\tvalidation_1-mlogloss:0.27882\n",
      "[460]\tvalidation_0-mlogloss:0.03909\tvalidation_1-mlogloss:0.27887\n",
      "[461]\tvalidation_0-mlogloss:0.03896\tvalidation_1-mlogloss:0.27889\n",
      "[462]\tvalidation_0-mlogloss:0.03885\tvalidation_1-mlogloss:0.27890\n",
      "[463]\tvalidation_0-mlogloss:0.03873\tvalidation_1-mlogloss:0.27888\n",
      "[464]\tvalidation_0-mlogloss:0.03861\tvalidation_1-mlogloss:0.27891\n",
      "[465]\tvalidation_0-mlogloss:0.03845\tvalidation_1-mlogloss:0.27894\n"
     ]
    }
   ],
   "source": [
    "bst = model.fit(X_train, y_train, \n",
    "                eval_set=[(X_train, y_train), (X_test, y_test)], \n",
    "                early_stopping_rounds=50,\n",
    "                verbose=True, \n",
    "                sample_weight=classes_weights\n",
    "               ) # Maybe remove weight"
   ]
  },
  {
   "cell_type": "code",
   "execution_count": 27,
   "id": "140ac6e1",
   "metadata": {},
   "outputs": [],
   "source": [
    "bst.save_model('combined_xgboost.json')"
   ]
  },
  {
   "cell_type": "code",
   "execution_count": null,
   "id": "7a5f721f",
   "metadata": {},
   "outputs": [],
   "source": []
  },
  {
   "cell_type": "code",
   "execution_count": null,
   "id": "8958208d",
   "metadata": {},
   "outputs": [],
   "source": []
  },
  {
   "cell_type": "code",
   "execution_count": 297,
   "id": "72fb8add",
   "metadata": {
    "scrolled": true
   },
   "outputs": [
    {
     "data": {
      "text/plain": [
       "[]"
      ]
     },
     "execution_count": 297,
     "metadata": {},
     "output_type": "execute_result"
    },
    {
     "data": {
      "image/png": "[encoded data removed]",
      "text/plain": [
       "<Figure size 432x288 with 1 Axes>"
      ]
     },
     "metadata": {
      "needs_background": "light"
     },
     "output_type": "display_data"
    }
   ],
   "source": [
    "errors_test = bst.evals_result()['validation_0']['merror']\n",
    "plt.plot(range(len(errors_test)), errors_test, label='test')\n",
    "errors_train = bst.evals_result()['validation_1']['merror']\n",
    "plt.plot(range(len(errors_train)), errors_train, label='train')\n",
    "plt.title('Error rate')\n",
    "plt.legend()\n",
    "plt.plot()"
   ]
  },
  {
   "cell_type": "code",
   "execution_count": 298,
   "id": "375859cc",
   "metadata": {},
   "outputs": [
    {
     "data": {
      "text/plain": [
       "[]"
      ]
     },
     "execution_count": 298,
     "metadata": {},
     "output_type": "execute_result"
    },
    {
     "data": {
      "image/png": "[encoded data removed]",
      "text/plain": [
       "<Figure size 432x288 with 1 Axes>"
      ]
     },
     "metadata": {
      "needs_background": "light"
     },
     "output_type": "display_data"
    }
   ],
   "source": [
    "errors_test = bst.evals_result()['validation_0']['auc']\n",
    "plt.plot(range(len(errors_test)), errors_test, label='test')\n",
    "errors_train = bst.evals_result()['validation_1']['auc']\n",
    "plt.plot(range(len(errors_train)), errors_train, label='train')\n",
    "plt.title('AUC')\n",
    "plt.legend()\n",
    "plt.plot()"
   ]
  },
  {
   "cell_type": "code",
   "execution_count": 28,
   "id": "dc731c16",
   "metadata": {},
   "outputs": [
    {
     "data": {
      "text/plain": [
       "8192"
      ]
     },
     "execution_count": 28,
     "metadata": {},
     "output_type": "execute_result"
    }
   ],
   "source": [
    "2**13"
   ]
  },
  {
   "cell_type": "code",
   "execution_count": 122,
   "id": "f49f47f4",
   "metadata": {},
   "outputs": [],
   "source": [
    "cross_val_model = XGBClassifier(use_label_encoder=False, \n",
    "                      max_depth=9, \n",
    "                      reg_alpha=0.5, \n",
    "                      min_child_weight=3, \n",
    "                      reg_lambda=3,\n",
    "                      eta=0.1,\n",
    "                      tree_method='hist', # exact is more precies, but this is much faster\n",
    "                      objective='multi:softprob',\n",
    "                      n_estimators=800,\n",
    "                      )"
   ]
  },
  {
   "cell_type": "code",
   "execution_count": 123,
   "id": "5dcfa811",
   "metadata": {},
   "outputs": [],
   "source": [
    "from sklearn.model_selection import StratifiedKFold\n",
    "skf = StratifiedKFold(n_splits=512)\n",
    "\n",
    "cv_score_xgb = cross_val_score(cross_val_model, X_train, y_train, cv=skf, n_jobs=64, scoring=\"accuracy\")"
   ]
  },
  {
   "cell_type": "code",
   "execution_count": 124,
   "id": "6932a336",
   "metadata": {},
   "outputs": [
    {
     "name": "stdout",
     "output_type": "stream",
     "text": [
      "[0.93442623 0.90163934 0.8852459  0.90163934 0.81967213 0.86065574\n",
      " 0.92622951 0.92622951 0.91803279 0.89344262 0.8852459  0.8852459\n",
      " 0.91803279 0.93442623 0.91803279 0.86065574 0.90163934 0.93442623\n",
      " 0.90163934 0.90163934 0.87704918 0.86885246 0.93442623 0.92622951\n",
      " 0.90163934 0.90983607 0.87704918 0.8852459  0.89344262 0.87704918\n",
      " 0.90983607 0.90163934 0.92622951 0.90163934 0.91803279 0.8852459\n",
      " 0.90983607 0.89344262 0.8852459  0.86885246 0.90163934 0.85245902\n",
      " 0.90983607 0.8852459  0.86065574 0.90983607 0.90163934 0.91803279\n",
      " 0.89344262 0.86885246 0.93442623 0.92622951 0.91803279 0.90163934\n",
      " 0.91803279 0.89344262 0.90983607 0.81967213 0.92622951 0.93442623\n",
      " 0.90983607 0.95081967 0.91803279 0.92622951 0.86065574 0.94262295\n",
      " 0.90983607 0.91803279 0.90983607 0.91803279 0.87704918 0.90163934\n",
      " 0.87704918 0.91803279 0.86885246 0.91803279 0.86065574 0.8852459\n",
      " 0.89344262 0.89344262 0.83606557 0.8442623  0.91803279 0.8852459\n",
      " 0.92622951 0.94262295 0.90983607 0.90163934 0.92622951 0.87704918\n",
      " 0.8852459  0.90163934 0.90983607 0.94262295 0.92622951 0.89344262\n",
      " 0.90163934 0.92622951 0.87704918 0.93442623 0.85245902 0.89344262\n",
      " 0.90163934 0.91803279 0.90163934 0.90983607 0.8852459  0.86885246\n",
      " 0.87704918 0.90163934 0.89344262 0.89344262 0.87704918 0.86065574\n",
      " 0.90983607 0.90983607 0.90163934 0.87704918 0.90983607 0.89344262\n",
      " 0.86885246 0.8852459  0.8852459  0.91803279 0.90983607 0.90163934\n",
      " 0.87704918 0.87704918 0.89344262 0.92622951 0.90983607 0.90163934\n",
      " 0.87704918 0.8852459  0.92622951 0.90082645 0.9338843  0.85950413\n",
      " 0.9338843  0.91735537 0.88429752 0.8677686  0.87603306 0.90082645\n",
      " 0.9338843  0.87603306 0.85123967 0.90082645 0.91735537 0.89256198\n",
      " 0.92561983 0.91735537 0.90909091 0.90082645 0.87603306 0.88429752\n",
      " 0.85950413 0.90909091 0.89256198 0.90909091 0.88429752 0.90909091\n",
      " 0.90909091 0.85950413 0.88429752 0.90082645 0.90082645 0.91735537\n",
      " 0.90909091 0.87603306 0.94214876 0.85950413 0.90082645 0.89256198\n",
      " 0.89256198 0.88429752 0.88429752 0.87603306 0.90082645 0.88429752\n",
      " 0.88429752 0.87603306 0.89256198 0.89256198 0.88429752 0.90082645\n",
      " 0.8677686  0.89256198 0.90082645 0.8677686  0.90909091 0.90909091\n",
      " 0.90909091 0.91735537 0.90909091 0.92561983 0.9338843  0.91735537\n",
      " 0.90909091 0.89256198 0.88429752 0.90909091 0.89256198 0.91735537\n",
      " 0.90082645 0.85950413 0.92561983 0.95041322 0.90909091 0.91735537\n",
      " 0.90082645 0.87603306 0.8677686  0.92561983 0.92561983 0.90909091\n",
      " 0.91735537 0.90082645 0.90082645 0.90082645 0.92561983 0.89256198\n",
      " 0.91735537 0.88429752 0.91735537 0.91735537 0.88429752 0.90909091\n",
      " 0.89256198 0.91735537 0.90082645 0.90082645 0.89256198 0.89256198\n",
      " 0.91735537 0.88429752 0.90082645 0.94214876 0.92561983 0.92561983\n",
      " 0.95041322 0.95041322 0.90082645 0.90082645 0.90909091 0.95041322\n",
      " 0.89256198 0.8677686  0.85950413 0.85123967 0.9338843  0.8677686\n",
      " 0.88429752 0.94214876 0.89256198 0.90082645 0.90909091 0.95041322\n",
      " 0.9338843  0.95041322 0.79338843 0.88429752 0.8677686  0.94214876\n",
      " 0.88429752 0.87603306 0.90082645 0.88429752 0.89256198 0.87603306\n",
      " 0.88429752 0.88429752 0.85950413 0.87603306 0.87603306 0.90082645\n",
      " 0.90082645 0.88429752 0.88429752 0.91735537 0.87603306 0.92561983\n",
      " 0.85950413 0.88429752 0.88429752 0.90082645 0.90082645 0.88429752\n",
      " 0.94214876 0.96694215 0.92561983 0.91735537 0.90909091 0.89256198\n",
      " 0.90082645 0.91735537 0.92561983 0.91735537 0.89256198 0.95041322\n",
      " 0.91735537 0.89256198 0.87603306 0.90082645 0.88429752 0.90082645\n",
      " 0.85950413 0.91735537 0.88429752 0.90082645 0.91735537 0.89256198\n",
      " 0.90909091 0.91735537 0.8677686  0.90082645 0.87603306 0.87603306\n",
      " 0.92561983 0.94214876 0.87603306 0.87603306 0.88429752 0.91735537\n",
      " 0.90909091 0.95867769 0.90082645 0.8677686  0.89256198 0.90082645\n",
      " 0.88429752 0.89256198 0.89256198 0.91735537 0.90909091 0.91735537\n",
      " 0.87603306 0.90082645 0.87603306 0.91735537 0.90909091 0.8677686\n",
      " 0.90082645 0.91735537 0.90909091 0.8677686  0.91735537 0.89256198\n",
      " 0.91735537 0.87603306 0.91735537 0.89256198 0.90082645 0.90909091\n",
      " 0.87603306 0.90909091 0.90082645 0.91735537 0.90909091 0.90909091\n",
      " 0.9338843  0.90082645 0.95041322 0.91735537 0.90082645 0.90909091\n",
      " 0.90082645 0.89256198 0.90082645 0.89256198 0.90909091 0.92561983\n",
      " 0.90082645 0.91735537 0.87603306 0.88429752 0.87603306 0.89256198\n",
      " 0.8677686  0.89256198 0.92561983 0.92561983 0.9338843  0.90909091\n",
      " 0.9338843  0.90909091 0.90909091 0.94214876 0.91735537 0.90082645\n",
      " 0.90909091 0.94214876 0.91735537 0.8677686  0.94214876 0.87603306\n",
      " 0.92561983 0.90909091 0.9338843  0.90909091 0.90909091 0.91735537\n",
      " 0.9338843  0.85123967 0.92561983 0.90082645 0.9338843  0.83471074\n",
      " 0.9338843  0.89256198 0.90082645 0.90082645 0.87603306 0.88429752\n",
      " 0.92561983 0.95041322 0.90909091 0.90082645 0.90909091 0.89256198\n",
      " 0.90082645 0.9338843  0.85950413 0.85950413 0.96694215 0.88429752\n",
      " 0.90909091 0.9338843  0.89256198 0.91735537 0.88429752 0.85950413\n",
      " 0.90909091 0.87603306 0.85950413 0.87603306 0.90909091 0.90082645\n",
      " 0.87603306 0.92561983 0.89256198 0.90909091 0.89256198 0.88429752\n",
      " 0.87603306 0.9338843  0.85950413 0.85123967 0.87603306 0.90082645\n",
      " 0.91735537 0.90082645 0.91735537 0.92561983 0.90082645 0.87603306\n",
      " 0.9338843  0.88429752 0.88429752 0.92561983 0.85123967 0.85950413\n",
      " 0.90909091 0.88429752 0.91735537 0.96694215 0.88429752 0.88429752\n",
      " 0.92561983 0.87603306 0.94214876 0.89256198 0.92561983 0.89256198\n",
      " 0.94214876 0.91735537 0.85950413 0.89256198 0.87603306 0.88429752\n",
      " 0.91735537 0.87603306 0.91735537 0.9338843  0.91735537 0.89256198\n",
      " 0.92561983 0.91735537 0.87603306 0.90909091 0.90909091 0.95041322\n",
      " 0.91735537 0.88429752 0.9338843  0.90909091 0.90909091 0.87603306\n",
      " 0.89256198 0.91735537 0.90082645 0.87603306 0.90909091 0.90909091\n",
      " 0.89256198 0.95041322 0.92561983 0.90909091 0.90082645 0.90082645\n",
      " 0.89256198 0.9338843 ]\n"
     ]
    }
   ],
   "source": [
    "print(cv_score_xgb)"
   ]
  },
  {
   "cell_type": "code",
   "execution_count": 125,
   "id": "f8e26ba3",
   "metadata": {},
   "outputs": [
    {
     "data": {
      "image/png": "[encoded data removed]",
      "text/plain": [
       "<Figure size 432x288 with 1 Axes>"
      ]
     },
     "metadata": {
      "needs_background": "light"
     },
     "output_type": "display_data"
    }
   ],
   "source": [
    "plt.hist(cv_score_xgb, bins=10)\n",
    "plt.grid()"
   ]
  },
  {
   "cell_type": "code",
   "execution_count": 126,
   "id": "19322b8a",
   "metadata": {},
   "outputs": [
    {
     "name": "stdout",
     "output_type": "stream",
     "text": [
      "Cross-validated Accuracy: 0.90089 ± 0.02438\n"
     ]
    }
   ],
   "source": [
    "print(\"Cross-validated Accuracy:\", round(np.mean(cv_score_xgb), 5), \"±\", round(np.std(cv_score_xgb), 5))"
   ]
  },
  {
   "cell_type": "markdown",
   "id": "e1670a9c",
   "metadata": {},
   "source": [
    "Cross-validated Accuracy: 0.90071 ± 0.0243"
   ]
  },
  {
   "cell_type": "code",
   "execution_count": 127,
   "id": "86581b58",
   "metadata": {},
   "outputs": [
    {
     "name": "stdout",
     "output_type": "stream",
     "text": [
      "                                                      precision    recall  f1-score   support\n",
      "\n",
      "      jet-mode radio AGN/low-excitation radio galaxy     0.8186    0.8442    0.8312      2581\n",
      "quasar-like radio AGN / high-excitation radio galaxy     0.5701    0.4519    0.5041       270\n",
      "                                     radio-quiet AGN     0.7197    0.8046    0.7597      1356\n",
      "                                 star-forming galaxy     0.9465    0.9310    0.9387     11315\n",
      "\n",
      "                                            accuracy                         0.8972     15522\n",
      "                                           macro avg     0.7637    0.7579    0.7584     15522\n",
      "                                        weighted avg     0.8988    0.8972    0.8976     15522\n",
      "\n"
     ]
    }
   ],
   "source": [
    "y_pred = model.predict(X_test)\n",
    "print(classification_report(y_test, y_pred, target_names=labels, digits=4))"
   ]
  },
  {
   "cell_type": "code",
   "execution_count": 106,
   "id": "4c76f86e",
   "metadata": {},
   "outputs": [
    {
     "data": {
      "text/plain": [
       "Classification\n",
       "3                 45325\n",
       "0                 10186\n",
       "2                  5514\n",
       "1                  1062\n",
       "dtype: int64"
      ]
     },
     "execution_count": 106,
     "metadata": {},
     "output_type": "execute_result"
    }
   ],
   "source": [
    "y_train.value_counts()"
   ]
  },
  {
   "cell_type": "code",
   "execution_count": 180,
   "id": "dafe7e74",
   "metadata": {},
   "outputs": [
    {
     "data": {
      "image/png": "[encoded data removed]",
      "text/plain": [
       "<Figure size 432x288 with 1 Axes>"
      ]
     },
     "metadata": {
      "needs_background": "light"
     },
     "output_type": "display_data"
    }
   ],
   "source": [
    "class_sizes = np.array([10186, 1062, 5514, 45325])\n",
    "F_scores = np.array([0.8312, 0.5041, 0.7597, 0.9387])\n",
    "plt.scatter(class_sizes, F_scores)\n",
    "plt.xlabel(\"Training size\")\n",
    "plt.ylabel(\"F-score\")\n",
    "plt.grid()\n",
    "plt.xscale(\"log\")\n",
    "plt.savefig(\"Sample_sizes.pdf\")"
   ]
  },
  {
   "cell_type": "code",
   "execution_count": 170,
   "id": "a65955ab",
   "metadata": {},
   "outputs": [
    {
     "name": "stderr",
     "output_type": "stream",
     "text": [
      "/var/lib/condor/execute/dir_442968/ipykernel_443786/4113404208.py:2: RuntimeWarning: divide by zero encountered in log\n",
      "  y = np.log(x)\n"
     ]
    },
    {
     "data": {
      "text/plain": [
       "[<matplotlib.lines.Line2D at 0x2ae01cd3c6a0>]"
      ]
     },
     "execution_count": 170,
     "metadata": {},
     "output_type": "execute_result"
    },
    {
     "data": {
      "image/png": "[encoded data removed]",
      "text/plain": [
       "<Figure size 432x288 with 1 Axes>"
      ]
     },
     "metadata": {
      "needs_background": "light"
     },
     "output_type": "display_data"
    }
   ],
   "source": [
    "x = np.linspace(0,1000,10**4)\n",
    "y = np.log(x)\n",
    "plt.plot(x,y)"
   ]
  },
  {
   "cell_type": "code",
   "execution_count": null,
   "id": "f4c29afe",
   "metadata": {},
   "outputs": [],
   "source": []
  },
  {
   "cell_type": "code",
   "execution_count": 16,
   "id": "0a663454",
   "metadata": {},
   "outputs": [
    {
     "name": "stdout",
     "output_type": "stream",
     "text": [
      "Data: 0.9802 ± 0.09751\n"
     ]
    }
   ],
   "source": [
    "test = [0.99 for i in range(99)]\n",
    "test.append(0.01)\n",
    "print(\"Data:\", round(np.mean(test), 5), \"±\", round(np.std(test), 5))"
   ]
  },
  {
   "cell_type": "code",
   "execution_count": 156,
   "id": "7d8375e7",
   "metadata": {},
   "outputs": [
    {
     "data": {
      "image/png": "[encoded data removed]",
      "text/plain": [
       "<Figure size 720x720 with 2 Axes>"
      ]
     },
     "metadata": {
      "needs_background": "light"
     },
     "output_type": "display_data"
    }
   ],
   "source": [
    "fig, axes = plt.subplots(1,2, figsize=(10,10))\n",
    "\n",
    "cm = confusion_matrix(y_test, y_pred, normalize='true')\n",
    "disp = ConfusionMatrixDisplay(confusion_matrix=cm, display_labels=labels)\n",
    "disp.plot(ax=axes[0], colorbar=False)\n",
    "\n",
    "cm = confusion_matrix(y_test, y_pred, normalize='pred')\n",
    "disp = ConfusionMatrixDisplay(confusion_matrix=cm, display_labels=labels)\n",
    "disp.plot(ax=axes[1], colorbar=False)\n",
    "axes[1].axes.get_yaxis().set_visible(False)\n",
    "for ax in axes:\n",
    "    for tick in ax.get_xticklabels():\n",
    "        tick.set_rotation(90)\n",
    "plt.tight_layout()\n",
    "plt.plot()\n",
    "fig.savefig(\"Confusion.pdf\")"
   ]
  },
  {
   "cell_type": "markdown",
   "id": "9020cbc2",
   "metadata": {},
   "source": [
    "## Redshift dependence"
   ]
  },
  {
   "cell_type": "code",
   "execution_count": 181,
   "id": "b3aac725",
   "metadata": {},
   "outputs": [],
   "source": [
    "redshifts = X.iloc[X_train['Z_BEST'].index]['Z_BEST']"
   ]
  },
  {
   "cell_type": "code",
   "execution_count": 182,
   "id": "adfe9158",
   "metadata": {},
   "outputs": [
    {
     "data": {
      "text/plain": [
       "<AxesSubplot:>"
      ]
     },
     "execution_count": 182,
     "metadata": {},
     "output_type": "execute_result"
    },
    {
     "data": {
      "image/png": "[encoded data removed]",
      "text/plain": [
       "<Figure size 432x288 with 1 Axes>"
      ]
     },
     "metadata": {
      "needs_background": "light"
     },
     "output_type": "display_data"
    }
   ],
   "source": [
    "redshifts.hist()"
   ]
  },
  {
   "cell_type": "code",
   "execution_count": 43,
   "id": "4a9a4d3f",
   "metadata": {},
   "outputs": [],
   "source": [
    "accuracy_for_z_larger = []\n",
    "accuracy_for_z_larger_std = []\n",
    "z_range = [0,1,2,3,4]\n",
    "for z in z_range:\n",
    "    cv_score = cross_val_score(cross_val_model, X_train[redshifts>z], y_train[redshifts>z], cv=8, n_jobs=-1, scoring=\"accuracy\")\n",
    "    \n",
    "    accuracy_for_z_larger.append(np.mean(cv_score))\n",
    "    accuracy_for_z_larger_std.append(np.std(cv_score))"
   ]
  },
  {
   "cell_type": "code",
   "execution_count": 44,
   "id": "ae5c29a1",
   "metadata": {},
   "outputs": [
    {
     "data": {
      "text/plain": [
       "<ErrorbarContainer object of 3 artists>"
      ]
     },
     "execution_count": 44,
     "metadata": {},
     "output_type": "execute_result"
    },
    {
     "data": {
      "image/png": "[encoded data removed]",
      "text/plain": [
       "<Figure size 432x288 with 1 Axes>"
      ]
     },
     "metadata": {
      "needs_background": "light"
     },
     "output_type": "display_data"
    }
   ],
   "source": [
    "plt.errorbar(z_range, accuracy_for_z_larger, yerr=accuracy_for_z_larger_std)"
   ]
  },
  {
   "cell_type": "code",
   "execution_count": 183,
   "id": "35186683",
   "metadata": {},
   "outputs": [
    {
     "name": "stdout",
     "output_type": "stream",
     "text": [
      "Working on redshift range 0-0.5\n",
      "Working on redshift range 0.5-1.0\n",
      "Working on redshift range 1-1.5\n",
      "Working on redshift range 1.5-2.0\n",
      "Working on redshift range 2-2.5\n",
      "Working on redshift range 2.5-3.0\n",
      "Working on redshift range 3-3.5\n",
      "Working on redshift range 3.5-4.0\n",
      "Working on redshift range 4-4.5\n",
      "Working on redshift range 4.5-5.0\n",
      "Working on redshift range 5-5.5\n"
     ]
    }
   ],
   "source": [
    "accuracy_for_z_inbetween = []\n",
    "accuracy_for_z_inbetween_std = []\n",
    "z_range = [0,0.5,1,1.5,2,2.5,3,3.5,4,4.5,5]\n",
    "for z in z_range:\n",
    "    print(f\"Working on redshift range {z}-{z+0.5}\")\n",
    "    filt = ((redshifts>z) & (redshifts<(z+0.5)))\n",
    "    cv_score = cross_val_score(cross_val_model, X_train[filt], y_train[filt], cv=8, n_jobs=-1, scoring=\"accuracy\")\n",
    "    \n",
    "    accuracy_for_z_inbetween.append(np.mean(cv_score))\n",
    "    accuracy_for_z_inbetween_std.append(np.std(cv_score))"
   ]
  },
  {
   "cell_type": "code",
   "execution_count": 194,
   "id": "cf6c2fcf",
   "metadata": {},
   "outputs": [],
   "source": [
    "counts = []\n",
    "z_range_counts = np.linspace(0,5,100)\n",
    "for z in z_range_counts:\n",
    "    filt = ((redshifts>z) & (redshifts<(z+0.5)))\n",
    "    counts.append(len(X_train[filt]))"
   ]
  },
  {
   "cell_type": "code",
   "execution_count": null,
   "id": "988fd5c5",
   "metadata": {},
   "outputs": [],
   "source": []
  },
  {
   "cell_type": "code",
   "execution_count": 210,
   "id": "d9ea6b8d",
   "metadata": {},
   "outputs": [
    {
     "data": {
      "image/png": "[encoded data removed]",
      "text/plain": [
       "<Figure size 720x720 with 2 Axes>"
      ]
     },
     "metadata": {
      "needs_background": "light"
     },
     "output_type": "display_data"
    }
   ],
   "source": [
    "fig, ax = plt.subplots(figsize=(10,10))\n",
    "ax.bar(z_range, accuracy_for_z_inbetween, yerr=accuracy_for_z_inbetween_std, width=0.5, label='Accuracy')\n",
    "ax.set_ylim(0.6,1)\n",
    "\n",
    "\n",
    "ax.set_xticks(np.arange(-0.25,5.5,0.5))\n",
    "ax.set_xticklabels(np.arange(0, 6, 0.5))\n",
    "ax.grid()\n",
    "ax.set_xlabel(\"Redshift\")\n",
    "ax.set_ylabel(\"Accuracy\")\n",
    "\n",
    "\n",
    "ax2=ax.twinx()\n",
    "ax2.plot(z_range_counts, counts, c='r', label='Counts')\n",
    "ax2.set_ylabel(\"Counts\")\n",
    "fig.legend()\n",
    "plt.show()\n",
    "fig.savefig(\"Redshifts.pdf\")"
   ]
  },
  {
   "cell_type": "code",
   "execution_count": null,
   "id": "e0a66cf2",
   "metadata": {},
   "outputs": [],
   "source": []
  },
  {
   "cell_type": "code",
   "execution_count": null,
   "id": "60a54ec9",
   "metadata": {},
   "outputs": [],
   "source": []
  },
  {
   "cell_type": "code",
   "execution_count": 76,
   "id": "bc91a0df",
   "metadata": {},
   "outputs": [],
   "source": [
    "accuracy_for_z_plus_1 = []\n",
    "z_range = np.linspace(0,6,100)\n",
    "for z in z_range:\n",
    "    y_pred = model.predict(X_test[(redshifts_test>z) & (redshifts_test<(z+1))])\n",
    "    accuracy_for_z_plus_1.append(accuracy_score(y_test[((redshifts_test>z) & (redshifts_test<(z+1)))], y_pred))"
   ]
  },
  {
   "cell_type": "code",
   "execution_count": 98,
   "id": "ba788bb6",
   "metadata": {},
   "outputs": [
    {
     "data": {
      "text/plain": [
       "<matplotlib.legend.Legend at 0x14cd2d1d610>"
      ]
     },
     "execution_count": 98,
     "metadata": {},
     "output_type": "execute_result"
    },
    {
     "data": {
      "image/png": "[encoded data removed]",
      "text/plain": [
       "<Figure size 720x720 with 2 Axes>"
      ]
     },
     "metadata": {
      "needs_background": "light"
     },
     "output_type": "display_data"
    }
   ],
   "source": [
    "fig,ax = plt.subplots(figsize=(10,10))\n",
    "ax.plot(z_range, accuracy_for_z_plus_1, label='Accuracy')\n",
    "ax.grid()\n",
    "ax.set_xlabel(\"Redshift bin z - z+1\")\n",
    "ax.set_ylabel(\"Accuracy\")\n",
    "ax.set_ylim(0.6,1)\n",
    "\n",
    "ax2=ax.twinx()\n",
    "ax2.plot(z_range, counts, c='r', label='Counts')\n",
    "ax2.set_ylabel(\"Counts\")\n",
    "#ax2.xscale('log')\n",
    "fig.legend()"
   ]
  },
  {
   "cell_type": "markdown",
   "id": "8694539e",
   "metadata": {},
   "source": [
    "## Feature relevance"
   ]
  },
  {
   "cell_type": "code",
   "execution_count": null,
   "id": "fbe50647",
   "metadata": {},
   "outputs": [],
   "source": []
  },
  {
   "cell_type": "code",
   "execution_count": 158,
   "id": "e7bb9df5",
   "metadata": {},
   "outputs": [
    {
     "data": {
      "image/png": "[encoded data removed]",
      "text/plain": [
       "<Figure size 720x720 with 1 Axes>"
      ]
     },
     "metadata": {
      "needs_background": "light"
     },
     "output_type": "display_data"
    }
   ],
   "source": [
    "fig, ax = plt.subplots(figsize=(10,10))\n",
    "xgb.plot_importance(model, ax=ax)\n",
    "fig.savefig(\"Feature_importance.pdf\")"
   ]
  },
  {
   "cell_type": "markdown",
   "id": "0d5ad516",
   "metadata": {},
   "source": [
    "## Flag marking"
   ]
  },
  {
   "cell_type": "code",
   "execution_count": 215,
   "id": "6d5f62cc",
   "metadata": {},
   "outputs": [],
   "source": [
    "y_pred = model.predict(X_test)\n",
    "y_pred = pd.DataFrame(y_pred, index=X_test.index, columns=['Prediction'])"
   ]
  },
  {
   "cell_type": "code",
   "execution_count": null,
   "id": "90f8c511",
   "metadata": {},
   "outputs": [],
   "source": []
  },
  {
   "cell_type": "code",
   "execution_count": 216,
   "id": "bc994eea",
   "metadata": {},
   "outputs": [],
   "source": [
    "Xray_all = []\n",
    "opt_spec_all = []\n",
    "ext_radio_all = []\n",
    "IR_all = []\n",
    "for j in range(4):\n",
    "    for i in range(4):\n",
    "        # Finding pandas dataframes for the squares in the confusion matrix\n",
    "        cm_square = y_pred[(y_test['Classification']==j) & (y_pred['Prediction']==i)]\n",
    "        flags = y_test_flags.loc[cm_square.index]\n",
    "\n",
    "        # Finding frequencies of flags\n",
    "        Xray_freq = sum(flags['Xray'])/len(flags['Xray'])\n",
    "        opt_spec_freq = sum(flags['Opt_spec'])/len(flags['Opt_spec'])\n",
    "        ext_radio_freq = sum(flags['Extended_radio'])/len(flags['Extended_radio'])\n",
    "        IR_freq = sum(flags['IRAGN'])/len(flags['IRAGN'])\n",
    "\n",
    "        Xray_all.append(Xray_freq)\n",
    "        opt_spec_all.append(opt_spec_freq)\n",
    "        ext_radio_all.append(ext_radio_freq)\n",
    "        IR_all.append(IR_freq)"
   ]
  },
  {
   "cell_type": "code",
   "execution_count": null,
   "id": "ad2fe610",
   "metadata": {},
   "outputs": [],
   "source": []
  },
  {
   "cell_type": "code",
   "execution_count": 217,
   "id": "8d76fc48",
   "metadata": {},
   "outputs": [
    {
     "data": {
      "image/png": "[encoded data removed]",
      "text/plain": [
       "<Figure size 1080x1080 with 4 Axes>"
      ]
     },
     "metadata": {
      "needs_background": "light"
     },
     "output_type": "display_data"
    }
   ],
   "source": [
    "x = np.arange(0,26,7)\n",
    "fig, axes = plt.subplots(4, 1, figsize=(15,15), sharex='all')\n",
    "for i, ax in enumerate(axes):\n",
    "    i0 = i*4\n",
    "    i1 = (i+1)*4\n",
    "    \n",
    "    ax.bar(x, Xray_all[i0:i1], label='X-ray')\n",
    "    # For setting the tick labels\n",
    "    ax.bar(x+1, opt_spec_all[i0:i1], label='Opt_spec', tick_label=labels)\n",
    "    ax.bar(x+2, ext_radio_all[i0:i1], label='Extended radio')\n",
    "    ax.bar(x+3, IR_all[i0:i1], label='MIR')\n",
    "    ax.tick_params(axis='x', labelrotation = 90)\n",
    "    ax.set_title(f'{labels[i]}')\n",
    "    ax.set_ylim(0,1)\n",
    "    ax.legend()\n",
    "plt.tight_layout()\n",
    "fig.savefig('Flags.pdf')"
   ]
  },
  {
   "cell_type": "code",
   "execution_count": null,
   "id": "9a806f35",
   "metadata": {},
   "outputs": [],
   "source": []
  },
  {
   "cell_type": "markdown",
   "id": "1bfb9a33",
   "metadata": {},
   "source": [
    "# Adaboost"
   ]
  },
  {
   "cell_type": "code",
   "execution_count": 197,
   "id": "619dbf6f",
   "metadata": {},
   "outputs": [],
   "source": [
    "from sklearn.ensemble import AdaBoostClassifier"
   ]
  },
  {
   "cell_type": "code",
   "execution_count": 207,
   "id": "e54586b1",
   "metadata": {},
   "outputs": [],
   "source": [
    "ada = AdaBoostClassifier(n_estimators=50, learning_rate=0.3, random_state=42)"
   ]
  },
  {
   "cell_type": "code",
   "execution_count": 208,
   "id": "04a9394c",
   "metadata": {},
   "outputs": [
    {
     "data": {
      "text/html": [
       "<style>#sk-container-id-13 {color: black;background-color: white;}#sk-container-id-13 pre{padding: 0;}#sk-container-id-13 div.sk-toggleable {background-color: white;}#sk-container-id-13 label.sk-toggleable__label {cursor: pointer;display: block;width: 100%;margin-bottom: 0;padding: 0.3em;box-sizing: border-box;text-align: center;}#sk-container-id-13 label.sk-toggleable__label-arrow:before {content: \"▸\";float: left;margin-right: 0.25em;color: #696969;}#sk-container-id-13 label.sk-toggleable__label-arrow:hover:before {color: black;}#sk-container-id-13 div.sk-estimator:hover label.sk-toggleable__label-arrow:before {color: black;}#sk-container-id-13 div.sk-toggleable__content {max-height: 0;max-width: 0;overflow: hidden;text-align: left;background-color: #f0f8ff;}#sk-container-id-13 div.sk-toggleable__content pre {margin: 0.2em;color: black;border-radius: 0.25em;background-color: #f0f8ff;}#sk-container-id-13 input.sk-toggleable__control:checked~div.sk-toggleable__content {max-height: 200px;max-width: 100%;overflow: auto;}#sk-container-id-13 input.sk-toggleable__control:checked~label.sk-toggleable__label-arrow:before {content: \"▾\";}#sk-container-id-13 div.sk-estimator input.sk-toggleable__control:checked~label.sk-toggleable__label {background-color: #d4ebff;}#sk-container-id-13 div.sk-label input.sk-toggleable__control:checked~label.sk-toggleable__label {background-color: #d4ebff;}#sk-container-id-13 input.sk-hidden--visually {border: 0;clip: rect(1px 1px 1px 1px);clip: rect(1px, 1px, 1px, 1px);height: 1px;margin: -1px;overflow: hidden;padding: 0;position: absolute;width: 1px;}#sk-container-id-13 div.sk-estimator {font-family: monospace;background-color: #f0f8ff;border: 1px dotted black;border-radius: 0.25em;box-sizing: border-box;margin-bottom: 0.5em;}#sk-container-id-13 div.sk-estimator:hover {background-color: #d4ebff;}#sk-container-id-13 div.sk-parallel-item::after {content: \"\";width: 100%;border-bottom: 1px solid gray;flex-grow: 1;}#sk-container-id-13 div.sk-label:hover label.sk-toggleable__label {background-color: #d4ebff;}#sk-container-id-13 div.sk-serial::before {content: \"\";position: absolute;border-left: 1px solid gray;box-sizing: border-box;top: 0;bottom: 0;left: 50%;z-index: 0;}#sk-container-id-13 div.sk-serial {display: flex;flex-direction: column;align-items: center;background-color: white;padding-right: 0.2em;padding-left: 0.2em;position: relative;}#sk-container-id-13 div.sk-item {position: relative;z-index: 1;}#sk-container-id-13 div.sk-parallel {display: flex;align-items: stretch;justify-content: center;background-color: white;position: relative;}#sk-container-id-13 div.sk-item::before, #sk-container-id-13 div.sk-parallel-item::before {content: \"\";position: absolute;border-left: 1px solid gray;box-sizing: border-box;top: 0;bottom: 0;left: 50%;z-index: -1;}#sk-container-id-13 div.sk-parallel-item {display: flex;flex-direction: column;z-index: 1;position: relative;background-color: white;}#sk-container-id-13 div.sk-parallel-item:first-child::after {align-self: flex-end;width: 50%;}#sk-container-id-13 div.sk-parallel-item:last-child::after {align-self: flex-start;width: 50%;}#sk-container-id-13 div.sk-parallel-item:only-child::after {width: 0;}#sk-container-id-13 div.sk-dashed-wrapped {border: 1px dashed gray;margin: 0 0.4em 0.5em 0.4em;box-sizing: border-box;padding-bottom: 0.4em;background-color: white;}#sk-container-id-13 div.sk-label label {font-family: monospace;font-weight: bold;display: inline-block;line-height: 1.2em;}#sk-container-id-13 div.sk-label-container {text-align: center;}#sk-container-id-13 div.sk-container {/* jupyter's `normalize.less` sets `[hidden] { display: none; }` but bootstrap.min.css set `[hidden] { display: none !important; }` so we also need the `!important` here to be able to override the default hidden behavior on the sphinx rendered scikit-learn.org. See: https://github.com/scikit-learn/scikit-learn/issues/21755 */display: inline-block !important;position: relative;}#sk-container-id-13 div.sk-text-repr-fallback {display: none;}</style><div id=\"sk-container-id-13\" class=\"sk-top-container\"><div class=\"sk-text-repr-fallback\"><pre>AdaBoostClassifier(learning_rate=0.3, random_state=42)</pre><b>In a Jupyter environment, please rerun this cell to show the HTML representation or trust the notebook. <br />On GitHub, the HTML representation is unable to render, please try loading this page with nbviewer.org.</b></div><div class=\"sk-container\" hidden><div class=\"sk-item\"><div class=\"sk-estimator sk-toggleable\"><input class=\"sk-toggleable__control sk-hidden--visually\" id=\"sk-estimator-id-13\" type=\"checkbox\" checked><label for=\"sk-estimator-id-13\" class=\"sk-toggleable__label sk-toggleable__label-arrow\">AdaBoostClassifier</label><div class=\"sk-toggleable__content\"><pre>AdaBoostClassifier(learning_rate=0.3, random_state=42)</pre></div></div></div></div></div>"
      ],
      "text/plain": [
       "AdaBoostClassifier(learning_rate=0.3, random_state=42)"
      ]
     },
     "execution_count": 208,
     "metadata": {},
     "output_type": "execute_result"
    }
   ],
   "source": [
    "ada.fit(X_train, y_train, sample_weight=classes_weights)"
   ]
  },
  {
   "cell_type": "code",
   "execution_count": 209,
   "id": "e0bf676b",
   "metadata": {},
   "outputs": [
    {
     "name": "stdout",
     "output_type": "stream",
     "text": [
      "                                                      precision    recall  f1-score   support\n",
      "\n",
      "      jet-mode radio AGN/low-excitation radio galaxy     0.4535    0.5478    0.4962     10186\n",
      "quasar-like radio AGN / high-excitation radio galaxy     0.1239    0.4896    0.1978      1062\n",
      "                                     radio-quiet AGN     0.4399    0.6761    0.5330      5514\n",
      "                                 star-forming galaxy     0.8776    0.7186    0.7902     45325\n",
      "\n",
      "                                            accuracy                         0.6829     62087\n",
      "                                           macro avg     0.4738    0.6080    0.5043     62087\n",
      "                                        weighted avg     0.7563    0.6829    0.7090     62087\n",
      "\n"
     ]
    }
   ],
   "source": [
    "y_pred = ada.predict(X_train)\n",
    "print(classification_report(y_train, y_pred, target_names=labels, digits=4))"
   ]
  },
  {
   "cell_type": "code",
   "execution_count": 210,
   "id": "61c899f0",
   "metadata": {},
   "outputs": [
    {
     "name": "stdout",
     "output_type": "stream",
     "text": [
      "                                                      precision    recall  f1-score   support\n",
      "\n",
      "      jet-mode radio AGN/low-excitation radio galaxy     0.4391    0.5339    0.4819      2581\n",
      "quasar-like radio AGN / high-excitation radio galaxy     0.1155    0.4667    0.1852       270\n",
      "                                     radio-quiet AGN     0.4225    0.6652    0.5168      1356\n",
      "                                 star-forming galaxy     0.8730    0.7066    0.7810     11315\n",
      "\n",
      "                                            accuracy                         0.6701     15522\n",
      "                                           macro avg     0.4625    0.5931    0.4912     15522\n",
      "                                        weighted avg     0.7483    0.6701    0.6978     15522\n",
      "\n"
     ]
    }
   ],
   "source": [
    "y_pred = ada.predict(X_test)\n",
    "print(classification_report(y_test, y_pred, target_names=labels, digits=4))"
   ]
  },
  {
   "cell_type": "markdown",
   "id": "ebd3626a",
   "metadata": {},
   "source": [
    "# DNN"
   ]
  },
  {
   "cell_type": "code",
   "execution_count": 28,
   "id": "b91985c1",
   "metadata": {},
   "outputs": [],
   "source": [
    "class_weight = compute_class_weight(class_weight='balanced', classes=np.unique(y_train), y=y_train)\n",
    "class_weight_dic = {i:class_weight[i] for i in range(4)}"
   ]
  },
  {
   "cell_type": "code",
   "execution_count": 70,
   "id": "db3f38ca",
   "metadata": {},
   "outputs": [],
   "source": [
    "model = keras.Sequential(\n",
    "    [\n",
    "        keras.layers.Dense(\n",
    "            256, activation=\"relu\", input_shape=(X_train.shape[1],)\n",
    "        ),\n",
    "        keras.layers.Dropout(0.3),\n",
    "        keras.layers.Dense(128, activation=\"relu\"),\n",
    "        keras.layers.Dropout(0.3),\n",
    "        keras.layers.Dense(64, activation=\"relu\"),\n",
    "        keras.layers.Dropout(0.3),\n",
    "        keras.layers.Dense(64, activation=\"relu\"),\n",
    "        keras.layers.Dropout(0.3),\n",
    "        keras.layers.Dense(4),\n",
    "    ]\n",
    ")"
   ]
  },
  {
   "cell_type": "code",
   "execution_count": null,
   "id": "df4bcf59",
   "metadata": {},
   "outputs": [],
   "source": []
  },
  {
   "cell_type": "code",
   "execution_count": 71,
   "id": "c6d54148",
   "metadata": {},
   "outputs": [],
   "source": [
    "model.compile(\n",
    "    loss=keras.losses.SparseCategoricalCrossentropy(from_logits=True),\n",
    "    optimizer=\"Adam\",\n",
    "    metrics=[\"accuracy\"],\n",
    ")"
   ]
  },
  {
   "cell_type": "code",
   "execution_count": 72,
   "id": "b473b39d",
   "metadata": {},
   "outputs": [],
   "source": [
    "early_stopping = keras.callbacks.EarlyStopping(\n",
    "    patience=10,\n",
    "    restore_best_weights=True,\n",
    ")"
   ]
  },
  {
   "cell_type": "code",
   "execution_count": 74,
   "id": "f6f9dbb1",
   "metadata": {},
   "outputs": [
    {
     "name": "stdout",
     "output_type": "stream",
     "text": [
      "Epoch 1/1000\n",
      "1941/1941 [==============================] - 5s 2ms/step - loss: 1.2237 - accuracy: 0.5100 - val_loss: 1.1177 - val_accuracy: 0.6102\n",
      "Epoch 2/1000\n",
      "1941/1941 [==============================] - 5s 2ms/step - loss: 1.1852 - accuracy: 0.5153 - val_loss: 1.1890 - val_accuracy: 0.2875\n",
      "Epoch 3/1000\n",
      "1047/1941 [===============>..............] - ETA: 2s - loss: 1.1610 - accuracy: 0.5283"
     ]
    },
    {
     "ename": "KeyboardInterrupt",
     "evalue": "",
     "output_type": "error",
     "traceback": [
      "\u001b[1;31m---------------------------------------------------------------------------\u001b[0m",
      "\u001b[1;31mKeyboardInterrupt\u001b[0m                         Traceback (most recent call last)",
      "Input \u001b[1;32mIn [74]\u001b[0m, in \u001b[0;36m<cell line: 1>\u001b[1;34m()\u001b[0m\n\u001b[1;32m----> 1\u001b[0m \u001b[43mmodel\u001b[49m\u001b[38;5;241;43m.\u001b[39;49m\u001b[43mfit\u001b[49m\u001b[43m(\u001b[49m\n\u001b[0;32m      2\u001b[0m \u001b[43m    \u001b[49m\u001b[43mX_train\u001b[49m\u001b[43m,\u001b[49m\n\u001b[0;32m      3\u001b[0m \u001b[43m    \u001b[49m\u001b[43my_train\u001b[49m\u001b[43m,\u001b[49m\n\u001b[0;32m      4\u001b[0m \u001b[43m    \u001b[49m\u001b[43mbatch_size\u001b[49m\u001b[38;5;241;43m=\u001b[39;49m\u001b[38;5;241;43m32\u001b[39;49m\u001b[43m,\u001b[49m\n\u001b[0;32m      5\u001b[0m \u001b[43m    \u001b[49m\u001b[43mepochs\u001b[49m\u001b[38;5;241;43m=\u001b[39;49m\u001b[38;5;241;43m1000\u001b[39;49m\u001b[43m,\u001b[49m\n\u001b[0;32m      6\u001b[0m \u001b[43m    \u001b[49m\u001b[43mcallbacks\u001b[49m\u001b[38;5;241;43m=\u001b[39;49m\u001b[43m[\u001b[49m\u001b[43mearly_stopping\u001b[49m\u001b[43m]\u001b[49m\u001b[43m,\u001b[49m\n\u001b[0;32m      7\u001b[0m \u001b[43m    \u001b[49m\u001b[43mvalidation_data\u001b[49m\u001b[38;5;241;43m=\u001b[39;49m\u001b[43m(\u001b[49m\u001b[43mX_test\u001b[49m\u001b[43m,\u001b[49m\u001b[43m \u001b[49m\u001b[43my_test\u001b[49m\u001b[43m)\u001b[49m\u001b[43m,\u001b[49m\n\u001b[0;32m      8\u001b[0m \u001b[43m    \u001b[49m\u001b[43mclass_weight\u001b[49m\u001b[38;5;241;43m=\u001b[39;49m\u001b[43mclass_weight_dic\u001b[49m\u001b[43m,\u001b[49m\n\u001b[0;32m      9\u001b[0m \u001b[43m)\u001b[49m\n",
      "File \u001b[1;32m~\\AppData\\Local\\Packages\\PythonSoftwareFoundation.Python.3.9_qbz5n2kfra8p0\\LocalCache\\local-packages\\Python39\\site-packages\\keras\\engine\\training.py:1184\u001b[0m, in \u001b[0;36mModel.fit\u001b[1;34m(self, x, y, batch_size, epochs, verbose, callbacks, validation_split, validation_data, shuffle, class_weight, sample_weight, initial_epoch, steps_per_epoch, validation_steps, validation_batch_size, validation_freq, max_queue_size, workers, use_multiprocessing)\u001b[0m\n\u001b[0;32m   1177\u001b[0m \u001b[38;5;28;01mwith\u001b[39;00m tf\u001b[38;5;241m.\u001b[39mprofiler\u001b[38;5;241m.\u001b[39mexperimental\u001b[38;5;241m.\u001b[39mTrace(\n\u001b[0;32m   1178\u001b[0m     \u001b[38;5;124m'\u001b[39m\u001b[38;5;124mtrain\u001b[39m\u001b[38;5;124m'\u001b[39m,\n\u001b[0;32m   1179\u001b[0m     epoch_num\u001b[38;5;241m=\u001b[39mepoch,\n\u001b[0;32m   1180\u001b[0m     step_num\u001b[38;5;241m=\u001b[39mstep,\n\u001b[0;32m   1181\u001b[0m     batch_size\u001b[38;5;241m=\u001b[39mbatch_size,\n\u001b[0;32m   1182\u001b[0m     _r\u001b[38;5;241m=\u001b[39m\u001b[38;5;241m1\u001b[39m):\n\u001b[0;32m   1183\u001b[0m   callbacks\u001b[38;5;241m.\u001b[39mon_train_batch_begin(step)\n\u001b[1;32m-> 1184\u001b[0m   tmp_logs \u001b[38;5;241m=\u001b[39m \u001b[38;5;28;43mself\u001b[39;49m\u001b[38;5;241;43m.\u001b[39;49m\u001b[43mtrain_function\u001b[49m\u001b[43m(\u001b[49m\u001b[43miterator\u001b[49m\u001b[43m)\u001b[49m\n\u001b[0;32m   1185\u001b[0m   \u001b[38;5;28;01mif\u001b[39;00m data_handler\u001b[38;5;241m.\u001b[39mshould_sync:\n\u001b[0;32m   1186\u001b[0m     context\u001b[38;5;241m.\u001b[39masync_wait()\n",
      "File \u001b[1;32m~\\AppData\\Local\\Packages\\PythonSoftwareFoundation.Python.3.9_qbz5n2kfra8p0\\LocalCache\\local-packages\\Python39\\site-packages\\tensorflow\\python\\eager\\def_function.py:885\u001b[0m, in \u001b[0;36mFunction.__call__\u001b[1;34m(self, *args, **kwds)\u001b[0m\n\u001b[0;32m    882\u001b[0m compiler \u001b[38;5;241m=\u001b[39m \u001b[38;5;124m\"\u001b[39m\u001b[38;5;124mxla\u001b[39m\u001b[38;5;124m\"\u001b[39m \u001b[38;5;28;01mif\u001b[39;00m \u001b[38;5;28mself\u001b[39m\u001b[38;5;241m.\u001b[39m_jit_compile \u001b[38;5;28;01melse\u001b[39;00m \u001b[38;5;124m\"\u001b[39m\u001b[38;5;124mnonXla\u001b[39m\u001b[38;5;124m\"\u001b[39m\n\u001b[0;32m    884\u001b[0m \u001b[38;5;28;01mwith\u001b[39;00m OptionalXlaContext(\u001b[38;5;28mself\u001b[39m\u001b[38;5;241m.\u001b[39m_jit_compile):\n\u001b[1;32m--> 885\u001b[0m   result \u001b[38;5;241m=\u001b[39m \u001b[38;5;28mself\u001b[39m\u001b[38;5;241m.\u001b[39m_call(\u001b[38;5;241m*\u001b[39margs, \u001b[38;5;241m*\u001b[39m\u001b[38;5;241m*\u001b[39mkwds)\n\u001b[0;32m    887\u001b[0m new_tracing_count \u001b[38;5;241m=\u001b[39m \u001b[38;5;28mself\u001b[39m\u001b[38;5;241m.\u001b[39mexperimental_get_tracing_count()\n\u001b[0;32m    888\u001b[0m without_tracing \u001b[38;5;241m=\u001b[39m (tracing_count \u001b[38;5;241m==\u001b[39m new_tracing_count)\n",
      "File \u001b[1;32m~\\AppData\\Local\\Packages\\PythonSoftwareFoundation.Python.3.9_qbz5n2kfra8p0\\LocalCache\\local-packages\\Python39\\site-packages\\tensorflow\\python\\eager\\def_function.py:917\u001b[0m, in \u001b[0;36mFunction._call\u001b[1;34m(self, *args, **kwds)\u001b[0m\n\u001b[0;32m    914\u001b[0m   \u001b[38;5;28mself\u001b[39m\u001b[38;5;241m.\u001b[39m_lock\u001b[38;5;241m.\u001b[39mrelease()\n\u001b[0;32m    915\u001b[0m   \u001b[38;5;66;03m# In this case we have created variables on the first call, so we run the\u001b[39;00m\n\u001b[0;32m    916\u001b[0m   \u001b[38;5;66;03m# defunned version which is guaranteed to never create variables.\u001b[39;00m\n\u001b[1;32m--> 917\u001b[0m   \u001b[38;5;28;01mreturn\u001b[39;00m \u001b[38;5;28mself\u001b[39m\u001b[38;5;241m.\u001b[39m_stateless_fn(\u001b[38;5;241m*\u001b[39margs, \u001b[38;5;241m*\u001b[39m\u001b[38;5;241m*\u001b[39mkwds)  \u001b[38;5;66;03m# pylint: disable=not-callable\u001b[39;00m\n\u001b[0;32m    918\u001b[0m \u001b[38;5;28;01melif\u001b[39;00m \u001b[38;5;28mself\u001b[39m\u001b[38;5;241m.\u001b[39m_stateful_fn \u001b[38;5;129;01mis\u001b[39;00m \u001b[38;5;129;01mnot\u001b[39;00m \u001b[38;5;28;01mNone\u001b[39;00m:\n\u001b[0;32m    919\u001b[0m   \u001b[38;5;66;03m# Release the lock early so that multiple threads can perform the call\u001b[39;00m\n\u001b[0;32m    920\u001b[0m   \u001b[38;5;66;03m# in parallel.\u001b[39;00m\n\u001b[0;32m    921\u001b[0m   \u001b[38;5;28mself\u001b[39m\u001b[38;5;241m.\u001b[39m_lock\u001b[38;5;241m.\u001b[39mrelease()\n",
      "File \u001b[1;32m~\\AppData\\Local\\Packages\\PythonSoftwareFoundation.Python.3.9_qbz5n2kfra8p0\\LocalCache\\local-packages\\Python39\\site-packages\\tensorflow\\python\\eager\\function.py:3039\u001b[0m, in \u001b[0;36mFunction.__call__\u001b[1;34m(self, *args, **kwargs)\u001b[0m\n\u001b[0;32m   3036\u001b[0m \u001b[38;5;28;01mwith\u001b[39;00m \u001b[38;5;28mself\u001b[39m\u001b[38;5;241m.\u001b[39m_lock:\n\u001b[0;32m   3037\u001b[0m   (graph_function,\n\u001b[0;32m   3038\u001b[0m    filtered_flat_args) \u001b[38;5;241m=\u001b[39m \u001b[38;5;28mself\u001b[39m\u001b[38;5;241m.\u001b[39m_maybe_define_function(args, kwargs)\n\u001b[1;32m-> 3039\u001b[0m \u001b[38;5;28;01mreturn\u001b[39;00m \u001b[43mgraph_function\u001b[49m\u001b[38;5;241;43m.\u001b[39;49m\u001b[43m_call_flat\u001b[49m\u001b[43m(\u001b[49m\n\u001b[0;32m   3040\u001b[0m \u001b[43m    \u001b[49m\u001b[43mfiltered_flat_args\u001b[49m\u001b[43m,\u001b[49m\u001b[43m \u001b[49m\u001b[43mcaptured_inputs\u001b[49m\u001b[38;5;241;43m=\u001b[39;49m\u001b[43mgraph_function\u001b[49m\u001b[38;5;241;43m.\u001b[39;49m\u001b[43mcaptured_inputs\u001b[49m\u001b[43m)\u001b[49m\n",
      "File \u001b[1;32m~\\AppData\\Local\\Packages\\PythonSoftwareFoundation.Python.3.9_qbz5n2kfra8p0\\LocalCache\\local-packages\\Python39\\site-packages\\tensorflow\\python\\eager\\function.py:1963\u001b[0m, in \u001b[0;36mConcreteFunction._call_flat\u001b[1;34m(self, args, captured_inputs, cancellation_manager)\u001b[0m\n\u001b[0;32m   1959\u001b[0m possible_gradient_type \u001b[38;5;241m=\u001b[39m gradients_util\u001b[38;5;241m.\u001b[39mPossibleTapeGradientTypes(args)\n\u001b[0;32m   1960\u001b[0m \u001b[38;5;28;01mif\u001b[39;00m (possible_gradient_type \u001b[38;5;241m==\u001b[39m gradients_util\u001b[38;5;241m.\u001b[39mPOSSIBLE_GRADIENT_TYPES_NONE\n\u001b[0;32m   1961\u001b[0m     \u001b[38;5;129;01mand\u001b[39;00m executing_eagerly):\n\u001b[0;32m   1962\u001b[0m   \u001b[38;5;66;03m# No tape is watching; skip to running the function.\u001b[39;00m\n\u001b[1;32m-> 1963\u001b[0m   \u001b[38;5;28;01mreturn\u001b[39;00m \u001b[38;5;28mself\u001b[39m\u001b[38;5;241m.\u001b[39m_build_call_outputs(\u001b[38;5;28;43mself\u001b[39;49m\u001b[38;5;241;43m.\u001b[39;49m\u001b[43m_inference_function\u001b[49m\u001b[38;5;241;43m.\u001b[39;49m\u001b[43mcall\u001b[49m\u001b[43m(\u001b[49m\n\u001b[0;32m   1964\u001b[0m \u001b[43m      \u001b[49m\u001b[43mctx\u001b[49m\u001b[43m,\u001b[49m\u001b[43m \u001b[49m\u001b[43margs\u001b[49m\u001b[43m,\u001b[49m\u001b[43m \u001b[49m\u001b[43mcancellation_manager\u001b[49m\u001b[38;5;241;43m=\u001b[39;49m\u001b[43mcancellation_manager\u001b[49m\u001b[43m)\u001b[49m)\n\u001b[0;32m   1965\u001b[0m forward_backward \u001b[38;5;241m=\u001b[39m \u001b[38;5;28mself\u001b[39m\u001b[38;5;241m.\u001b[39m_select_forward_and_backward_functions(\n\u001b[0;32m   1966\u001b[0m     args,\n\u001b[0;32m   1967\u001b[0m     possible_gradient_type,\n\u001b[0;32m   1968\u001b[0m     executing_eagerly)\n\u001b[0;32m   1969\u001b[0m forward_function, args_with_tangents \u001b[38;5;241m=\u001b[39m forward_backward\u001b[38;5;241m.\u001b[39mforward()\n",
      "File \u001b[1;32m~\\AppData\\Local\\Packages\\PythonSoftwareFoundation.Python.3.9_qbz5n2kfra8p0\\LocalCache\\local-packages\\Python39\\site-packages\\tensorflow\\python\\eager\\function.py:591\u001b[0m, in \u001b[0;36m_EagerDefinedFunction.call\u001b[1;34m(self, ctx, args, cancellation_manager)\u001b[0m\n\u001b[0;32m    589\u001b[0m \u001b[38;5;28;01mwith\u001b[39;00m _InterpolateFunctionError(\u001b[38;5;28mself\u001b[39m):\n\u001b[0;32m    590\u001b[0m   \u001b[38;5;28;01mif\u001b[39;00m cancellation_manager \u001b[38;5;129;01mis\u001b[39;00m \u001b[38;5;28;01mNone\u001b[39;00m:\n\u001b[1;32m--> 591\u001b[0m     outputs \u001b[38;5;241m=\u001b[39m \u001b[43mexecute\u001b[49m\u001b[38;5;241;43m.\u001b[39;49m\u001b[43mexecute\u001b[49m\u001b[43m(\u001b[49m\n\u001b[0;32m    592\u001b[0m \u001b[43m        \u001b[49m\u001b[38;5;28;43mstr\u001b[39;49m\u001b[43m(\u001b[49m\u001b[38;5;28;43mself\u001b[39;49m\u001b[38;5;241;43m.\u001b[39;49m\u001b[43msignature\u001b[49m\u001b[38;5;241;43m.\u001b[39;49m\u001b[43mname\u001b[49m\u001b[43m)\u001b[49m\u001b[43m,\u001b[49m\n\u001b[0;32m    593\u001b[0m \u001b[43m        \u001b[49m\u001b[43mnum_outputs\u001b[49m\u001b[38;5;241;43m=\u001b[39;49m\u001b[38;5;28;43mself\u001b[39;49m\u001b[38;5;241;43m.\u001b[39;49m\u001b[43m_num_outputs\u001b[49m\u001b[43m,\u001b[49m\n\u001b[0;32m    594\u001b[0m \u001b[43m        \u001b[49m\u001b[43minputs\u001b[49m\u001b[38;5;241;43m=\u001b[39;49m\u001b[43margs\u001b[49m\u001b[43m,\u001b[49m\n\u001b[0;32m    595\u001b[0m \u001b[43m        \u001b[49m\u001b[43mattrs\u001b[49m\u001b[38;5;241;43m=\u001b[39;49m\u001b[43mattrs\u001b[49m\u001b[43m,\u001b[49m\n\u001b[0;32m    596\u001b[0m \u001b[43m        \u001b[49m\u001b[43mctx\u001b[49m\u001b[38;5;241;43m=\u001b[39;49m\u001b[43mctx\u001b[49m\u001b[43m)\u001b[49m\n\u001b[0;32m    597\u001b[0m   \u001b[38;5;28;01melse\u001b[39;00m:\n\u001b[0;32m    598\u001b[0m     outputs \u001b[38;5;241m=\u001b[39m execute\u001b[38;5;241m.\u001b[39mexecute_with_cancellation(\n\u001b[0;32m    599\u001b[0m         \u001b[38;5;28mstr\u001b[39m(\u001b[38;5;28mself\u001b[39m\u001b[38;5;241m.\u001b[39msignature\u001b[38;5;241m.\u001b[39mname),\n\u001b[0;32m    600\u001b[0m         num_outputs\u001b[38;5;241m=\u001b[39m\u001b[38;5;28mself\u001b[39m\u001b[38;5;241m.\u001b[39m_num_outputs,\n\u001b[1;32m   (...)\u001b[0m\n\u001b[0;32m    603\u001b[0m         ctx\u001b[38;5;241m=\u001b[39mctx,\n\u001b[0;32m    604\u001b[0m         cancellation_manager\u001b[38;5;241m=\u001b[39mcancellation_manager)\n",
      "File \u001b[1;32m~\\AppData\\Local\\Packages\\PythonSoftwareFoundation.Python.3.9_qbz5n2kfra8p0\\LocalCache\\local-packages\\Python39\\site-packages\\tensorflow\\python\\eager\\execute.py:59\u001b[0m, in \u001b[0;36mquick_execute\u001b[1;34m(op_name, num_outputs, inputs, attrs, ctx, name)\u001b[0m\n\u001b[0;32m     57\u001b[0m \u001b[38;5;28;01mtry\u001b[39;00m:\n\u001b[0;32m     58\u001b[0m   ctx\u001b[38;5;241m.\u001b[39mensure_initialized()\n\u001b[1;32m---> 59\u001b[0m   tensors \u001b[38;5;241m=\u001b[39m \u001b[43mpywrap_tfe\u001b[49m\u001b[38;5;241;43m.\u001b[39;49m\u001b[43mTFE_Py_Execute\u001b[49m\u001b[43m(\u001b[49m\u001b[43mctx\u001b[49m\u001b[38;5;241;43m.\u001b[39;49m\u001b[43m_handle\u001b[49m\u001b[43m,\u001b[49m\u001b[43m \u001b[49m\u001b[43mdevice_name\u001b[49m\u001b[43m,\u001b[49m\u001b[43m \u001b[49m\u001b[43mop_name\u001b[49m\u001b[43m,\u001b[49m\n\u001b[0;32m     60\u001b[0m \u001b[43m                                      \u001b[49m\u001b[43minputs\u001b[49m\u001b[43m,\u001b[49m\u001b[43m \u001b[49m\u001b[43mattrs\u001b[49m\u001b[43m,\u001b[49m\u001b[43m \u001b[49m\u001b[43mnum_outputs\u001b[49m\u001b[43m)\u001b[49m\n\u001b[0;32m     61\u001b[0m \u001b[38;5;28;01mexcept\u001b[39;00m core\u001b[38;5;241m.\u001b[39m_NotOkStatusException \u001b[38;5;28;01mas\u001b[39;00m e:\n\u001b[0;32m     62\u001b[0m   \u001b[38;5;28;01mif\u001b[39;00m name \u001b[38;5;129;01mis\u001b[39;00m \u001b[38;5;129;01mnot\u001b[39;00m \u001b[38;5;28;01mNone\u001b[39;00m:\n",
      "\u001b[1;31mKeyboardInterrupt\u001b[0m: "
     ]
    }
   ],
   "source": [
    "model.fit(\n",
    "    X_train,\n",
    "    y_train,\n",
    "    batch_size=32,\n",
    "    epochs=1000,\n",
    "    callbacks=[early_stopping],\n",
    "    validation_data=(X_test, y_test),\n",
    "    class_weight=class_weight_dic,\n",
    ")"
   ]
  },
  {
   "cell_type": "markdown",
   "id": "d5274d32",
   "metadata": {},
   "source": [
    "# SVM"
   ]
  },
  {
   "cell_type": "code",
   "execution_count": null,
   "id": "03796d6d",
   "metadata": {},
   "outputs": [],
   "source": [
    "from sklearn.svm import SVC"
   ]
  },
  {
   "cell_type": "code",
   "execution_count": null,
   "id": "76717448",
   "metadata": {},
   "outputs": [],
   "source": []
  },
  {
   "cell_type": "code",
   "execution_count": null,
   "id": "7ad98eee",
   "metadata": {},
   "outputs": [],
   "source": [
    "clf = SVC(class_weight='balanced')\n",
    "clf.fit(X_train, y_train)"
   ]
  },
  {
   "cell_type": "code",
   "execution_count": null,
   "id": "750f49b4",
   "metadata": {},
   "outputs": [],
   "source": [
    "y_pred = clf.predict(X_test)\n",
    "print(classification_report(y_test, y_pred, digits=4))"
   ]
  },
  {
   "cell_type": "code",
   "execution_count": null,
   "id": "03981cab",
   "metadata": {},
   "outputs": [],
   "source": [
    "cm = confusion_matrix(y_test, y_pred, normalize='true')\n",
    "disp = ConfusionMatrixDisplay(confusion_matrix=cm, display_labels=labels)\n",
    "disp.plot()\n",
    "plt.xticks(rotation = 90)\n",
    "plt.plot()"
   ]
  },
  {
   "cell_type": "markdown",
   "id": "25edde62",
   "metadata": {},
   "source": [
    "# temp"
   ]
  },
  {
   "cell_type": "code",
   "execution_count": 23,
   "id": "86b02bf8",
   "metadata": {},
   "outputs": [],
   "source": [
    "from sklearn.gaussian_process import GaussianProcessClassifier"
   ]
  },
  {
   "cell_type": "code",
   "execution_count": 24,
   "id": "6a3ba4b2",
   "metadata": {},
   "outputs": [
    {
     "name": "stderr",
     "output_type": "stream",
     "text": [
      "d:\\python\\python38\\lib\\site-packages\\sklearn\\utils\\validation.py:993: DataConversionWarning: A column-vector y was passed when a 1d array was expected. Please change the shape of y to (n_samples, ), for example using ravel().\n",
      "  y = column_or_1d(y, warn=True)\n"
     ]
    },
    {
     "ename": "MemoryError",
     "evalue": "Unable to allocate 14.4 GiB for an array with shape (1927366741,) and data type float64",
     "output_type": "error",
     "traceback": [
      "\u001b[1;31m---------------------------------------------------------------------------\u001b[0m",
      "\u001b[1;31mMemoryError\u001b[0m                               Traceback (most recent call last)",
      "Input \u001b[1;32mIn [24]\u001b[0m, in \u001b[0;36m<cell line: 1>\u001b[1;34m()\u001b[0m\n\u001b[1;32m----> 1\u001b[0m gpc \u001b[38;5;241m=\u001b[39m \u001b[43mGaussianProcessClassifier\u001b[49m\u001b[43m(\u001b[49m\u001b[43mrandom_state\u001b[49m\u001b[38;5;241;43m=\u001b[39;49m\u001b[38;5;241;43m0\u001b[39;49m\u001b[43m)\u001b[49m\u001b[38;5;241;43m.\u001b[39;49m\u001b[43mfit\u001b[49m\u001b[43m(\u001b[49m\u001b[43mX_train\u001b[49m\u001b[43m,\u001b[49m\u001b[43m \u001b[49m\u001b[43my_train\u001b[49m\u001b[43m)\u001b[49m\n",
      "File \u001b[1;32md:\\python\\python38\\lib\\site-packages\\sklearn\\gaussian_process\\_gpc.py:715\u001b[0m, in \u001b[0;36mGaussianProcessClassifier.fit\u001b[1;34m(self, X, y)\u001b[0m\n\u001b[0;32m    712\u001b[0m     \u001b[38;5;28;01melse\u001b[39;00m:\n\u001b[0;32m    713\u001b[0m         \u001b[38;5;28;01mraise\u001b[39;00m \u001b[38;5;167;01mValueError\u001b[39;00m(\u001b[38;5;124m\"\u001b[39m\u001b[38;5;124mUnknown multi-class mode \u001b[39m\u001b[38;5;132;01m%s\u001b[39;00m\u001b[38;5;124m\"\u001b[39m \u001b[38;5;241m%\u001b[39m \u001b[38;5;28mself\u001b[39m\u001b[38;5;241m.\u001b[39mmulti_class)\n\u001b[1;32m--> 715\u001b[0m \u001b[38;5;28;43mself\u001b[39;49m\u001b[38;5;241;43m.\u001b[39;49m\u001b[43mbase_estimator_\u001b[49m\u001b[38;5;241;43m.\u001b[39;49m\u001b[43mfit\u001b[49m\u001b[43m(\u001b[49m\u001b[43mX\u001b[49m\u001b[43m,\u001b[49m\u001b[43m \u001b[49m\u001b[43my\u001b[49m\u001b[43m)\u001b[49m\n\u001b[0;32m    717\u001b[0m \u001b[38;5;28;01mif\u001b[39;00m \u001b[38;5;28mself\u001b[39m\u001b[38;5;241m.\u001b[39mn_classes_ \u001b[38;5;241m>\u001b[39m \u001b[38;5;241m2\u001b[39m:\n\u001b[0;32m    718\u001b[0m     \u001b[38;5;28mself\u001b[39m\u001b[38;5;241m.\u001b[39mlog_marginal_likelihood_value_ \u001b[38;5;241m=\u001b[39m np\u001b[38;5;241m.\u001b[39mmean(\n\u001b[0;32m    719\u001b[0m         [\n\u001b[0;32m    720\u001b[0m             estimator\u001b[38;5;241m.\u001b[39mlog_marginal_likelihood()\n\u001b[0;32m    721\u001b[0m             \u001b[38;5;28;01mfor\u001b[39;00m estimator \u001b[38;5;129;01min\u001b[39;00m \u001b[38;5;28mself\u001b[39m\u001b[38;5;241m.\u001b[39mbase_estimator_\u001b[38;5;241m.\u001b[39mestimators_\n\u001b[0;32m    722\u001b[0m         ]\n\u001b[0;32m    723\u001b[0m     )\n",
      "File \u001b[1;32md:\\python\\python38\\lib\\site-packages\\sklearn\\multiclass.py:337\u001b[0m, in \u001b[0;36mOneVsRestClassifier.fit\u001b[1;34m(self, X, y)\u001b[0m\n\u001b[0;32m    333\u001b[0m columns \u001b[38;5;241m=\u001b[39m (col\u001b[38;5;241m.\u001b[39mtoarray()\u001b[38;5;241m.\u001b[39mravel() \u001b[38;5;28;01mfor\u001b[39;00m col \u001b[38;5;129;01min\u001b[39;00m Y\u001b[38;5;241m.\u001b[39mT)\n\u001b[0;32m    334\u001b[0m \u001b[38;5;66;03m# In cases where individual estimators are very fast to train setting\u001b[39;00m\n\u001b[0;32m    335\u001b[0m \u001b[38;5;66;03m# n_jobs > 1 in can results in slower performance due to the overhead\u001b[39;00m\n\u001b[0;32m    336\u001b[0m \u001b[38;5;66;03m# of spawning threads.  See joblib issue #112.\u001b[39;00m\n\u001b[1;32m--> 337\u001b[0m \u001b[38;5;28mself\u001b[39m\u001b[38;5;241m.\u001b[39mestimators_ \u001b[38;5;241m=\u001b[39m \u001b[43mParallel\u001b[49m\u001b[43m(\u001b[49m\u001b[43mn_jobs\u001b[49m\u001b[38;5;241;43m=\u001b[39;49m\u001b[38;5;28;43mself\u001b[39;49m\u001b[38;5;241;43m.\u001b[39;49m\u001b[43mn_jobs\u001b[49m\u001b[43m)\u001b[49m\u001b[43m(\u001b[49m\n\u001b[0;32m    338\u001b[0m \u001b[43m    \u001b[49m\u001b[43mdelayed\u001b[49m\u001b[43m(\u001b[49m\u001b[43m_fit_binary\u001b[49m\u001b[43m)\u001b[49m\u001b[43m(\u001b[49m\n\u001b[0;32m    339\u001b[0m \u001b[43m        \u001b[49m\u001b[38;5;28;43mself\u001b[39;49m\u001b[38;5;241;43m.\u001b[39;49m\u001b[43mestimator\u001b[49m\u001b[43m,\u001b[49m\n\u001b[0;32m    340\u001b[0m \u001b[43m        \u001b[49m\u001b[43mX\u001b[49m\u001b[43m,\u001b[49m\n\u001b[0;32m    341\u001b[0m \u001b[43m        \u001b[49m\u001b[43mcolumn\u001b[49m\u001b[43m,\u001b[49m\n\u001b[0;32m    342\u001b[0m \u001b[43m        \u001b[49m\u001b[43mclasses\u001b[49m\u001b[38;5;241;43m=\u001b[39;49m\u001b[43m[\u001b[49m\n\u001b[0;32m    343\u001b[0m \u001b[43m            \u001b[49m\u001b[38;5;124;43m\"\u001b[39;49m\u001b[38;5;124;43mnot \u001b[39;49m\u001b[38;5;132;43;01m%s\u001b[39;49;00m\u001b[38;5;124;43m\"\u001b[39;49m\u001b[43m \u001b[49m\u001b[38;5;241;43m%\u001b[39;49m\u001b[43m \u001b[49m\u001b[38;5;28;43mself\u001b[39;49m\u001b[38;5;241;43m.\u001b[39;49m\u001b[43mlabel_binarizer_\u001b[49m\u001b[38;5;241;43m.\u001b[39;49m\u001b[43mclasses_\u001b[49m\u001b[43m[\u001b[49m\u001b[43mi\u001b[49m\u001b[43m]\u001b[49m\u001b[43m,\u001b[49m\n\u001b[0;32m    344\u001b[0m \u001b[43m            \u001b[49m\u001b[38;5;28;43mself\u001b[39;49m\u001b[38;5;241;43m.\u001b[39;49m\u001b[43mlabel_binarizer_\u001b[49m\u001b[38;5;241;43m.\u001b[39;49m\u001b[43mclasses_\u001b[49m\u001b[43m[\u001b[49m\u001b[43mi\u001b[49m\u001b[43m]\u001b[49m\u001b[43m,\u001b[49m\n\u001b[0;32m    345\u001b[0m \u001b[43m        \u001b[49m\u001b[43m]\u001b[49m\u001b[43m,\u001b[49m\n\u001b[0;32m    346\u001b[0m \u001b[43m    \u001b[49m\u001b[43m)\u001b[49m\n\u001b[0;32m    347\u001b[0m \u001b[43m    \u001b[49m\u001b[38;5;28;43;01mfor\u001b[39;49;00m\u001b[43m \u001b[49m\u001b[43mi\u001b[49m\u001b[43m,\u001b[49m\u001b[43m \u001b[49m\u001b[43mcolumn\u001b[49m\u001b[43m \u001b[49m\u001b[38;5;129;43;01min\u001b[39;49;00m\u001b[43m \u001b[49m\u001b[38;5;28;43menumerate\u001b[39;49m\u001b[43m(\u001b[49m\u001b[43mcolumns\u001b[49m\u001b[43m)\u001b[49m\n\u001b[0;32m    348\u001b[0m \u001b[43m\u001b[49m\u001b[43m)\u001b[49m\n\u001b[0;32m    350\u001b[0m \u001b[38;5;28;01mif\u001b[39;00m \u001b[38;5;28mhasattr\u001b[39m(\u001b[38;5;28mself\u001b[39m\u001b[38;5;241m.\u001b[39mestimators_[\u001b[38;5;241m0\u001b[39m], \u001b[38;5;124m\"\u001b[39m\u001b[38;5;124mn_features_in_\u001b[39m\u001b[38;5;124m\"\u001b[39m):\n\u001b[0;32m    351\u001b[0m     \u001b[38;5;28mself\u001b[39m\u001b[38;5;241m.\u001b[39mn_features_in_ \u001b[38;5;241m=\u001b[39m \u001b[38;5;28mself\u001b[39m\u001b[38;5;241m.\u001b[39mestimators_[\u001b[38;5;241m0\u001b[39m]\u001b[38;5;241m.\u001b[39mn_features_in_\n",
      "File \u001b[1;32md:\\python\\python38\\lib\\site-packages\\joblib\\parallel.py:1043\u001b[0m, in \u001b[0;36mParallel.__call__\u001b[1;34m(self, iterable)\u001b[0m\n\u001b[0;32m   1034\u001b[0m \u001b[38;5;28;01mtry\u001b[39;00m:\n\u001b[0;32m   1035\u001b[0m     \u001b[38;5;66;03m# Only set self._iterating to True if at least a batch\u001b[39;00m\n\u001b[0;32m   1036\u001b[0m     \u001b[38;5;66;03m# was dispatched. In particular this covers the edge\u001b[39;00m\n\u001b[1;32m   (...)\u001b[0m\n\u001b[0;32m   1040\u001b[0m     \u001b[38;5;66;03m# was very quick and its callback already dispatched all the\u001b[39;00m\n\u001b[0;32m   1041\u001b[0m     \u001b[38;5;66;03m# remaining jobs.\u001b[39;00m\n\u001b[0;32m   1042\u001b[0m     \u001b[38;5;28mself\u001b[39m\u001b[38;5;241m.\u001b[39m_iterating \u001b[38;5;241m=\u001b[39m \u001b[38;5;28;01mFalse\u001b[39;00m\n\u001b[1;32m-> 1043\u001b[0m     \u001b[38;5;28;01mif\u001b[39;00m \u001b[38;5;28;43mself\u001b[39;49m\u001b[38;5;241;43m.\u001b[39;49m\u001b[43mdispatch_one_batch\u001b[49m\u001b[43m(\u001b[49m\u001b[43miterator\u001b[49m\u001b[43m)\u001b[49m:\n\u001b[0;32m   1044\u001b[0m         \u001b[38;5;28mself\u001b[39m\u001b[38;5;241m.\u001b[39m_iterating \u001b[38;5;241m=\u001b[39m \u001b[38;5;28mself\u001b[39m\u001b[38;5;241m.\u001b[39m_original_iterator \u001b[38;5;129;01mis\u001b[39;00m \u001b[38;5;129;01mnot\u001b[39;00m \u001b[38;5;28;01mNone\u001b[39;00m\n\u001b[0;32m   1046\u001b[0m     \u001b[38;5;28;01mwhile\u001b[39;00m \u001b[38;5;28mself\u001b[39m\u001b[38;5;241m.\u001b[39mdispatch_one_batch(iterator):\n",
      "File \u001b[1;32md:\\python\\python38\\lib\\site-packages\\joblib\\parallel.py:861\u001b[0m, in \u001b[0;36mParallel.dispatch_one_batch\u001b[1;34m(self, iterator)\u001b[0m\n\u001b[0;32m    859\u001b[0m     \u001b[38;5;28;01mreturn\u001b[39;00m \u001b[38;5;28;01mFalse\u001b[39;00m\n\u001b[0;32m    860\u001b[0m \u001b[38;5;28;01melse\u001b[39;00m:\n\u001b[1;32m--> 861\u001b[0m     \u001b[38;5;28;43mself\u001b[39;49m\u001b[38;5;241;43m.\u001b[39;49m\u001b[43m_dispatch\u001b[49m\u001b[43m(\u001b[49m\u001b[43mtasks\u001b[49m\u001b[43m)\u001b[49m\n\u001b[0;32m    862\u001b[0m     \u001b[38;5;28;01mreturn\u001b[39;00m \u001b[38;5;28;01mTrue\u001b[39;00m\n",
      "File \u001b[1;32md:\\python\\python38\\lib\\site-packages\\joblib\\parallel.py:779\u001b[0m, in \u001b[0;36mParallel._dispatch\u001b[1;34m(self, batch)\u001b[0m\n\u001b[0;32m    777\u001b[0m \u001b[38;5;28;01mwith\u001b[39;00m \u001b[38;5;28mself\u001b[39m\u001b[38;5;241m.\u001b[39m_lock:\n\u001b[0;32m    778\u001b[0m     job_idx \u001b[38;5;241m=\u001b[39m \u001b[38;5;28mlen\u001b[39m(\u001b[38;5;28mself\u001b[39m\u001b[38;5;241m.\u001b[39m_jobs)\n\u001b[1;32m--> 779\u001b[0m     job \u001b[38;5;241m=\u001b[39m \u001b[38;5;28;43mself\u001b[39;49m\u001b[38;5;241;43m.\u001b[39;49m\u001b[43m_backend\u001b[49m\u001b[38;5;241;43m.\u001b[39;49m\u001b[43mapply_async\u001b[49m\u001b[43m(\u001b[49m\u001b[43mbatch\u001b[49m\u001b[43m,\u001b[49m\u001b[43m \u001b[49m\u001b[43mcallback\u001b[49m\u001b[38;5;241;43m=\u001b[39;49m\u001b[43mcb\u001b[49m\u001b[43m)\u001b[49m\n\u001b[0;32m    780\u001b[0m     \u001b[38;5;66;03m# A job can complete so quickly than its callback is\u001b[39;00m\n\u001b[0;32m    781\u001b[0m     \u001b[38;5;66;03m# called before we get here, causing self._jobs to\u001b[39;00m\n\u001b[0;32m    782\u001b[0m     \u001b[38;5;66;03m# grow. To ensure correct results ordering, .insert is\u001b[39;00m\n\u001b[0;32m    783\u001b[0m     \u001b[38;5;66;03m# used (rather than .append) in the following line\u001b[39;00m\n\u001b[0;32m    784\u001b[0m     \u001b[38;5;28mself\u001b[39m\u001b[38;5;241m.\u001b[39m_jobs\u001b[38;5;241m.\u001b[39minsert(job_idx, job)\n",
      "File \u001b[1;32md:\\python\\python38\\lib\\site-packages\\joblib\\_parallel_backends.py:208\u001b[0m, in \u001b[0;36mSequentialBackend.apply_async\u001b[1;34m(self, func, callback)\u001b[0m\n\u001b[0;32m    206\u001b[0m \u001b[38;5;28;01mdef\u001b[39;00m \u001b[38;5;21mapply_async\u001b[39m(\u001b[38;5;28mself\u001b[39m, func, callback\u001b[38;5;241m=\u001b[39m\u001b[38;5;28;01mNone\u001b[39;00m):\n\u001b[0;32m    207\u001b[0m     \u001b[38;5;124;03m\"\"\"Schedule a func to be run\"\"\"\u001b[39;00m\n\u001b[1;32m--> 208\u001b[0m     result \u001b[38;5;241m=\u001b[39m \u001b[43mImmediateResult\u001b[49m\u001b[43m(\u001b[49m\u001b[43mfunc\u001b[49m\u001b[43m)\u001b[49m\n\u001b[0;32m    209\u001b[0m     \u001b[38;5;28;01mif\u001b[39;00m callback:\n\u001b[0;32m    210\u001b[0m         callback(result)\n",
      "File \u001b[1;32md:\\python\\python38\\lib\\site-packages\\joblib\\_parallel_backends.py:572\u001b[0m, in \u001b[0;36mImmediateResult.__init__\u001b[1;34m(self, batch)\u001b[0m\n\u001b[0;32m    569\u001b[0m \u001b[38;5;28;01mdef\u001b[39;00m \u001b[38;5;21m__init__\u001b[39m(\u001b[38;5;28mself\u001b[39m, batch):\n\u001b[0;32m    570\u001b[0m     \u001b[38;5;66;03m# Don't delay the application, to avoid keeping the input\u001b[39;00m\n\u001b[0;32m    571\u001b[0m     \u001b[38;5;66;03m# arguments in memory\u001b[39;00m\n\u001b[1;32m--> 572\u001b[0m     \u001b[38;5;28mself\u001b[39m\u001b[38;5;241m.\u001b[39mresults \u001b[38;5;241m=\u001b[39m \u001b[43mbatch\u001b[49m\u001b[43m(\u001b[49m\u001b[43m)\u001b[49m\n",
      "File \u001b[1;32md:\\python\\python38\\lib\\site-packages\\joblib\\parallel.py:262\u001b[0m, in \u001b[0;36mBatchedCalls.__call__\u001b[1;34m(self)\u001b[0m\n\u001b[0;32m    258\u001b[0m \u001b[38;5;28;01mdef\u001b[39;00m \u001b[38;5;21m__call__\u001b[39m(\u001b[38;5;28mself\u001b[39m):\n\u001b[0;32m    259\u001b[0m     \u001b[38;5;66;03m# Set the default nested backend to self._backend but do not set the\u001b[39;00m\n\u001b[0;32m    260\u001b[0m     \u001b[38;5;66;03m# change the default number of processes to -1\u001b[39;00m\n\u001b[0;32m    261\u001b[0m     \u001b[38;5;28;01mwith\u001b[39;00m parallel_backend(\u001b[38;5;28mself\u001b[39m\u001b[38;5;241m.\u001b[39m_backend, n_jobs\u001b[38;5;241m=\u001b[39m\u001b[38;5;28mself\u001b[39m\u001b[38;5;241m.\u001b[39m_n_jobs):\n\u001b[1;32m--> 262\u001b[0m         \u001b[38;5;28;01mreturn\u001b[39;00m [func(\u001b[38;5;241m*\u001b[39margs, \u001b[38;5;241m*\u001b[39m\u001b[38;5;241m*\u001b[39mkwargs)\n\u001b[0;32m    263\u001b[0m                 \u001b[38;5;28;01mfor\u001b[39;00m func, args, kwargs \u001b[38;5;129;01min\u001b[39;00m \u001b[38;5;28mself\u001b[39m\u001b[38;5;241m.\u001b[39mitems]\n",
      "File \u001b[1;32md:\\python\\python38\\lib\\site-packages\\joblib\\parallel.py:262\u001b[0m, in \u001b[0;36m<listcomp>\u001b[1;34m(.0)\u001b[0m\n\u001b[0;32m    258\u001b[0m \u001b[38;5;28;01mdef\u001b[39;00m \u001b[38;5;21m__call__\u001b[39m(\u001b[38;5;28mself\u001b[39m):\n\u001b[0;32m    259\u001b[0m     \u001b[38;5;66;03m# Set the default nested backend to self._backend but do not set the\u001b[39;00m\n\u001b[0;32m    260\u001b[0m     \u001b[38;5;66;03m# change the default number of processes to -1\u001b[39;00m\n\u001b[0;32m    261\u001b[0m     \u001b[38;5;28;01mwith\u001b[39;00m parallel_backend(\u001b[38;5;28mself\u001b[39m\u001b[38;5;241m.\u001b[39m_backend, n_jobs\u001b[38;5;241m=\u001b[39m\u001b[38;5;28mself\u001b[39m\u001b[38;5;241m.\u001b[39m_n_jobs):\n\u001b[1;32m--> 262\u001b[0m         \u001b[38;5;28;01mreturn\u001b[39;00m [\u001b[43mfunc\u001b[49m\u001b[43m(\u001b[49m\u001b[38;5;241;43m*\u001b[39;49m\u001b[43margs\u001b[49m\u001b[43m,\u001b[49m\u001b[43m \u001b[49m\u001b[38;5;241;43m*\u001b[39;49m\u001b[38;5;241;43m*\u001b[39;49m\u001b[43mkwargs\u001b[49m\u001b[43m)\u001b[49m\n\u001b[0;32m    263\u001b[0m                 \u001b[38;5;28;01mfor\u001b[39;00m func, args, kwargs \u001b[38;5;129;01min\u001b[39;00m \u001b[38;5;28mself\u001b[39m\u001b[38;5;241m.\u001b[39mitems]\n",
      "File \u001b[1;32md:\\python\\python38\\lib\\site-packages\\sklearn\\utils\\fixes.py:216\u001b[0m, in \u001b[0;36m_FuncWrapper.__call__\u001b[1;34m(self, *args, **kwargs)\u001b[0m\n\u001b[0;32m    214\u001b[0m \u001b[38;5;28;01mdef\u001b[39;00m \u001b[38;5;21m__call__\u001b[39m(\u001b[38;5;28mself\u001b[39m, \u001b[38;5;241m*\u001b[39margs, \u001b[38;5;241m*\u001b[39m\u001b[38;5;241m*\u001b[39mkwargs):\n\u001b[0;32m    215\u001b[0m     \u001b[38;5;28;01mwith\u001b[39;00m config_context(\u001b[38;5;241m*\u001b[39m\u001b[38;5;241m*\u001b[39m\u001b[38;5;28mself\u001b[39m\u001b[38;5;241m.\u001b[39mconfig):\n\u001b[1;32m--> 216\u001b[0m         \u001b[38;5;28;01mreturn\u001b[39;00m \u001b[38;5;28;43mself\u001b[39;49m\u001b[38;5;241;43m.\u001b[39;49m\u001b[43mfunction\u001b[49m\u001b[43m(\u001b[49m\u001b[38;5;241;43m*\u001b[39;49m\u001b[43margs\u001b[49m\u001b[43m,\u001b[49m\u001b[43m \u001b[49m\u001b[38;5;241;43m*\u001b[39;49m\u001b[38;5;241;43m*\u001b[39;49m\u001b[43mkwargs\u001b[49m\u001b[43m)\u001b[49m\n",
      "File \u001b[1;32md:\\python\\python38\\lib\\site-packages\\sklearn\\multiclass.py:85\u001b[0m, in \u001b[0;36m_fit_binary\u001b[1;34m(estimator, X, y, classes)\u001b[0m\n\u001b[0;32m     83\u001b[0m \u001b[38;5;28;01melse\u001b[39;00m:\n\u001b[0;32m     84\u001b[0m     estimator \u001b[38;5;241m=\u001b[39m clone(estimator)\n\u001b[1;32m---> 85\u001b[0m     \u001b[43mestimator\u001b[49m\u001b[38;5;241;43m.\u001b[39;49m\u001b[43mfit\u001b[49m\u001b[43m(\u001b[49m\u001b[43mX\u001b[49m\u001b[43m,\u001b[49m\u001b[43m \u001b[49m\u001b[43my\u001b[49m\u001b[43m)\u001b[49m\n\u001b[0;32m     86\u001b[0m \u001b[38;5;28;01mreturn\u001b[39;00m estimator\n",
      "File \u001b[1;32md:\\python\\python38\\lib\\site-packages\\sklearn\\gaussian_process\\_gpc.py:251\u001b[0m, in \u001b[0;36m_BinaryGaussianProcessClassifierLaplace.fit\u001b[1;34m(self, X, y)\u001b[0m\n\u001b[0;32m    249\u001b[0m     \u001b[38;5;28mself\u001b[39m\u001b[38;5;241m.\u001b[39mlog_marginal_likelihood_value_ \u001b[38;5;241m=\u001b[39m \u001b[38;5;241m-\u001b[39mnp\u001b[38;5;241m.\u001b[39mmin(lml_values)\n\u001b[0;32m    250\u001b[0m \u001b[38;5;28;01melse\u001b[39;00m:\n\u001b[1;32m--> 251\u001b[0m     \u001b[38;5;28mself\u001b[39m\u001b[38;5;241m.\u001b[39mlog_marginal_likelihood_value_ \u001b[38;5;241m=\u001b[39m \u001b[38;5;28;43mself\u001b[39;49m\u001b[38;5;241;43m.\u001b[39;49m\u001b[43mlog_marginal_likelihood\u001b[49m\u001b[43m(\u001b[49m\n\u001b[0;32m    252\u001b[0m \u001b[43m        \u001b[49m\u001b[38;5;28;43mself\u001b[39;49m\u001b[38;5;241;43m.\u001b[39;49m\u001b[43mkernel_\u001b[49m\u001b[38;5;241;43m.\u001b[39;49m\u001b[43mtheta\u001b[49m\n\u001b[0;32m    253\u001b[0m \u001b[43m    \u001b[49m\u001b[43m)\u001b[49m\n\u001b[0;32m    255\u001b[0m \u001b[38;5;66;03m# Precompute quantities required for predictions which are independent\u001b[39;00m\n\u001b[0;32m    256\u001b[0m \u001b[38;5;66;03m# of actual query points\u001b[39;00m\n\u001b[0;32m    257\u001b[0m K \u001b[38;5;241m=\u001b[39m \u001b[38;5;28mself\u001b[39m\u001b[38;5;241m.\u001b[39mkernel_(\u001b[38;5;28mself\u001b[39m\u001b[38;5;241m.\u001b[39mX_train_)\n",
      "File \u001b[1;32md:\\python\\python38\\lib\\site-packages\\sklearn\\gaussian_process\\_gpc.py:376\u001b[0m, in \u001b[0;36m_BinaryGaussianProcessClassifierLaplace.log_marginal_likelihood\u001b[1;34m(self, theta, eval_gradient, clone_kernel)\u001b[0m\n\u001b[0;32m    374\u001b[0m     K, K_gradient \u001b[38;5;241m=\u001b[39m kernel(\u001b[38;5;28mself\u001b[39m\u001b[38;5;241m.\u001b[39mX_train_, eval_gradient\u001b[38;5;241m=\u001b[39m\u001b[38;5;28;01mTrue\u001b[39;00m)\n\u001b[0;32m    375\u001b[0m \u001b[38;5;28;01melse\u001b[39;00m:\n\u001b[1;32m--> 376\u001b[0m     K \u001b[38;5;241m=\u001b[39m \u001b[43mkernel\u001b[49m\u001b[43m(\u001b[49m\u001b[38;5;28;43mself\u001b[39;49m\u001b[38;5;241;43m.\u001b[39;49m\u001b[43mX_train_\u001b[49m\u001b[43m)\u001b[49m\n\u001b[0;32m    378\u001b[0m \u001b[38;5;66;03m# Compute log-marginal-likelihood Z and also store some temporaries\u001b[39;00m\n\u001b[0;32m    379\u001b[0m \u001b[38;5;66;03m# which can be reused for computing Z's gradient\u001b[39;00m\n\u001b[0;32m    380\u001b[0m Z, (pi, W_sr, L, b, a) \u001b[38;5;241m=\u001b[39m \u001b[38;5;28mself\u001b[39m\u001b[38;5;241m.\u001b[39m_posterior_mode(K, return_temporaries\u001b[38;5;241m=\u001b[39m\u001b[38;5;28;01mTrue\u001b[39;00m)\n",
      "File \u001b[1;32md:\\python\\python38\\lib\\site-packages\\sklearn\\gaussian_process\\kernels.py:946\u001b[0m, in \u001b[0;36mProduct.__call__\u001b[1;34m(self, X, Y, eval_gradient)\u001b[0m\n\u001b[0;32m    942\u001b[0m     \u001b[38;5;28;01mreturn\u001b[39;00m K1 \u001b[38;5;241m*\u001b[39m K2, np\u001b[38;5;241m.\u001b[39mdstack(\n\u001b[0;32m    943\u001b[0m         (K1_gradient \u001b[38;5;241m*\u001b[39m K2[:, :, np\u001b[38;5;241m.\u001b[39mnewaxis], K2_gradient \u001b[38;5;241m*\u001b[39m K1[:, :, np\u001b[38;5;241m.\u001b[39mnewaxis])\n\u001b[0;32m    944\u001b[0m     )\n\u001b[0;32m    945\u001b[0m \u001b[38;5;28;01melse\u001b[39;00m:\n\u001b[1;32m--> 946\u001b[0m     \u001b[38;5;28;01mreturn\u001b[39;00m \u001b[38;5;28mself\u001b[39m\u001b[38;5;241m.\u001b[39mk1(X, Y) \u001b[38;5;241m*\u001b[39m \u001b[38;5;28;43mself\u001b[39;49m\u001b[38;5;241;43m.\u001b[39;49m\u001b[43mk2\u001b[49m\u001b[43m(\u001b[49m\u001b[43mX\u001b[49m\u001b[43m,\u001b[49m\u001b[43m \u001b[49m\u001b[43mY\u001b[49m\u001b[43m)\u001b[49m\n",
      "File \u001b[1;32md:\\python\\python38\\lib\\site-packages\\sklearn\\gaussian_process\\kernels.py:1536\u001b[0m, in \u001b[0;36mRBF.__call__\u001b[1;34m(self, X, Y, eval_gradient)\u001b[0m\n\u001b[0;32m   1534\u001b[0m length_scale \u001b[38;5;241m=\u001b[39m _check_length_scale(X, \u001b[38;5;28mself\u001b[39m\u001b[38;5;241m.\u001b[39mlength_scale)\n\u001b[0;32m   1535\u001b[0m \u001b[38;5;28;01mif\u001b[39;00m Y \u001b[38;5;129;01mis\u001b[39;00m \u001b[38;5;28;01mNone\u001b[39;00m:\n\u001b[1;32m-> 1536\u001b[0m     dists \u001b[38;5;241m=\u001b[39m \u001b[43mpdist\u001b[49m\u001b[43m(\u001b[49m\u001b[43mX\u001b[49m\u001b[43m \u001b[49m\u001b[38;5;241;43m/\u001b[39;49m\u001b[43m \u001b[49m\u001b[43mlength_scale\u001b[49m\u001b[43m,\u001b[49m\u001b[43m \u001b[49m\u001b[43mmetric\u001b[49m\u001b[38;5;241;43m=\u001b[39;49m\u001b[38;5;124;43m\"\u001b[39;49m\u001b[38;5;124;43msqeuclidean\u001b[39;49m\u001b[38;5;124;43m\"\u001b[39;49m\u001b[43m)\u001b[49m\n\u001b[0;32m   1537\u001b[0m     K \u001b[38;5;241m=\u001b[39m np\u001b[38;5;241m.\u001b[39mexp(\u001b[38;5;241m-\u001b[39m\u001b[38;5;241m0.5\u001b[39m \u001b[38;5;241m*\u001b[39m dists)\n\u001b[0;32m   1538\u001b[0m     \u001b[38;5;66;03m# convert from upper-triangular matrix to square matrix\u001b[39;00m\n",
      "File \u001b[1;32md:\\python\\python38\\lib\\site-packages\\scipy\\spatial\\distance.py:2251\u001b[0m, in \u001b[0;36mpdist\u001b[1;34m(X, metric, out, **kwargs)\u001b[0m\n\u001b[0;32m   2249\u001b[0m \u001b[38;5;28;01mif\u001b[39;00m metric_info \u001b[38;5;129;01mis\u001b[39;00m \u001b[38;5;129;01mnot\u001b[39;00m \u001b[38;5;28;01mNone\u001b[39;00m:\n\u001b[0;32m   2250\u001b[0m     pdist_fn \u001b[38;5;241m=\u001b[39m metric_info\u001b[38;5;241m.\u001b[39mpdist_func\n\u001b[1;32m-> 2251\u001b[0m     \u001b[38;5;28;01mreturn\u001b[39;00m \u001b[43mpdist_fn\u001b[49m\u001b[43m(\u001b[49m\u001b[43mX\u001b[49m\u001b[43m,\u001b[49m\u001b[43m \u001b[49m\u001b[43mout\u001b[49m\u001b[38;5;241;43m=\u001b[39;49m\u001b[43mout\u001b[49m\u001b[43m,\u001b[49m\u001b[43m \u001b[49m\u001b[38;5;241;43m*\u001b[39;49m\u001b[38;5;241;43m*\u001b[39;49m\u001b[43mkwargs\u001b[49m\u001b[43m)\u001b[49m\n\u001b[0;32m   2252\u001b[0m \u001b[38;5;28;01melif\u001b[39;00m mstr\u001b[38;5;241m.\u001b[39mstartswith(\u001b[38;5;124m\"\u001b[39m\u001b[38;5;124mtest_\u001b[39m\u001b[38;5;124m\"\u001b[39m):\n\u001b[0;32m   2253\u001b[0m     metric_info \u001b[38;5;241m=\u001b[39m _TEST_METRICS\u001b[38;5;241m.\u001b[39mget(mstr, \u001b[38;5;28;01mNone\u001b[39;00m)\n",
      "\u001b[1;31mMemoryError\u001b[0m: Unable to allocate 14.4 GiB for an array with shape (1927366741,) and data type float64"
     ]
    }
   ],
   "source": [
    "gpc = GaussianProcessClassifier(random_state=0).fit(X_train, y_train)"
   ]
  },
  {
   "cell_type": "code",
   "execution_count": null,
   "id": "4d6a7a62",
   "metadata": {},
   "outputs": [],
   "source": [
    "y_pred = gpc.predict(X_test)\n",
    "print(classification_report(y_test, y_pred, digits=4))"
   ]
  },
  {
   "cell_type": "code",
   "execution_count": 37,
   "id": "1e64ac77",
   "metadata": {},
   "outputs": [],
   "source": [
    "from sklearn.tree import DecisionTreeClassifier\n",
    "clf = DecisionTreeClassifier(random_state=0, max_depth=8).fit(X_train, y_train)"
   ]
  },
  {
   "cell_type": "code",
   "execution_count": 38,
   "id": "15319ce8",
   "metadata": {},
   "outputs": [
    {
     "name": "stdout",
     "output_type": "stream",
     "text": [
      "              precision    recall  f1-score   support\n",
      "\n",
      "           0     0.7918    0.3905    0.5231      2581\n",
      "           1     0.4298    0.1815    0.2552       270\n",
      "           2     0.6592    0.3481    0.4556      1356\n",
      "           3     0.8138    0.9651    0.8830     11315\n",
      "\n",
      "    accuracy                         0.8020     15522\n",
      "   macro avg     0.6737    0.4713    0.5292     15522\n",
      "weighted avg     0.7899    0.8020    0.7749     15522\n",
      "\n"
     ]
    }
   ],
   "source": [
    "y_pred = clf.predict(X_test)\n",
    "print(classification_report(y_test, y_pred, digits=4))"
   ]
  },
  {
   "cell_type": "code",
   "execution_count": null,
   "id": "d32d36b9",
   "metadata": {},
   "outputs": [],
   "source": []
  }
 ],
 "metadata": {
  "kernelspec": {
   "display_name": "Anaconda3 - 2021.11",
   "language": "python",
   "name": "python3-2021.11"
  },
  "language_info": {
   "codemirror_mode": {
    "name": "ipython",
    "version": 3
   },
   "file_extension": ".py",
   "mimetype": "text/x-python",
   "name": "python",
   "nbconvert_exporter": "python",
   "pygments_lexer": "ipython3",
   "version": "3.9.7"
  },
  "latex_envs": {
   "LaTeX_envs_menu_present": true,
   "autoclose": false,
   "autocomplete": true,
   "bibliofile": "biblio.bib",
   "cite_by": "apalike",
   "current_citInitial": 1,
   "eqLabelWithNumbers": true,
   "eqNumInitial": 1,
   "hotkeys": {
    "equation": "Ctrl-E",
    "itemize": "Ctrl-I"
   },
   "labels_anchors": false,
   "latex_user_defs": false,
   "report_style_numbering": false,
   "user_envs_cfg": false
  }
 },
 "nbformat": 4,
 "nbformat_minor": 5
}
