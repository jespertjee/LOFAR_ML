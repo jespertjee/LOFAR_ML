{
 "cells": [
  {
   "cell_type": "code",
   "execution_count": 117,
   "id": "fca4f926",
   "metadata": {},
   "outputs": [],
   "source": [
    "import pandas as pd\n",
    "import numpy as np\n",
    "from sklearn.impute import SimpleImputer\n",
    "from sklearn.model_selection import train_test_split, GridSearchCV, cross_val_score\n",
    "from sklearn.preprocessing import StandardScaler, OneHotEncoder, LabelEncoder, OrdinalEncoder, MinMaxScaler\n",
    "from sklearn.ensemble import RandomForestClassifier\n",
    "from sklearn.metrics import accuracy_score, classification_report\n",
    "from sklearn.decomposition import PCA\n",
    "from sklearn.utils.class_weight import compute_class_weight\n",
    "\n",
    "from sklearn.metrics import confusion_matrix, ConfusionMatrixDisplay\n",
    "import matplotlib.pyplot as plt\n",
    "\n",
    "from xgboost import XGBClassifier\n",
    "import xgboost as xgb\n",
    "\n",
    "import tensorflow as tf\n",
    "from tensorflow import keras\n",
    "from tensorflow.keras import layers\n",
    "from keras.models import Sequential\n",
    "from keras.layers import Dense"
   ]
  },
  {
   "cell_type": "code",
   "execution_count": 118,
   "id": "cbbf3730",
   "metadata": {},
   "outputs": [],
   "source": [
    "features_num = [\n",
    "    'Total_flux', 'Peak_flux', \n",
    "       'NUV_flux_corr', 'u_flux_corr', 'Bw_flux_corr', 'R_flux_corr',\n",
    "       'I_flux_corr', 'z_flux_corr', 'z_Subaru_flux_corr', 'y_flux_corr',\n",
    "       'J_flux_corr', 'H_flux_corr', 'K_flux_corr', 'Ks_flux_corr',\n",
    "       'ch1_flux_corr', 'ch2_flux_corr', 'ch3_flux_corr', 'ch4_flux_corr',\n",
    "       'F_MIPS_24', 'F_PACS_100', 'F_PACS_160', 'F_SPIRE_250', 'F_SPIRE_350',\n",
    "       'F_SPIRE_500', 'Z_BEST', 'Mass_median', 'Mass_l68', 'Mass_u68',\n",
    "        'z_rcs_flux_corr', 'z_hsc_flux_corr', 'i_hsc_flux_corr',\n",
    "       'i_rcs_flux_corr', 'i_flux_corr', 'y_hsc_flux_corr', 'r_flux_corr',\n",
    "       'r_hsc_flux_corr', 'r_rcs_flux_corr', 'ch1_swire_flux_corr',\n",
    "       'ch2_swire_flux_corr', 'ch3_swire_flux_corr', 'ch4_swire_flux_corr',\n",
    "       'ch1_servs_flux_corr', 'ch2_servs_flux_corr', 'g_flux_corr',\n",
    "       'g_hsc_flux_corr', 'nb921_hsc_flux_corr', 'g_rcs_flux_corr'\n",
    "]\n",
    "y_column = \"Classification\"\n",
    "\n",
    "classes = ['jet-mode radio AGN/low-excitation radio galaxy', 'quasar-like radio AGN / high-excitation radio galaxy', \n",
    "           'radio-quiet AGN', 'star-forming galaxy']"
   ]
  },
  {
   "cell_type": "code",
   "execution_count": null,
   "id": "f32f2264",
   "metadata": {},
   "outputs": [],
   "source": []
  },
  {
   "cell_type": "code",
   "execution_count": 119,
   "id": "a6906da4",
   "metadata": {},
   "outputs": [],
   "source": [
    "data = pd.read_csv(\"../../../Data/Fangyou_data/Cleaned/combined_filled_preprocessed.csv\")"
   ]
  },
  {
   "cell_type": "code",
   "execution_count": 120,
   "id": "d4521d7b",
   "metadata": {},
   "outputs": [
    {
     "data": {
      "text/plain": [
       "Index(['Source_Name', 'Total_flux', 'Peak_flux', 'S_Code', 'EBV',\n",
       "       'FUV_flux_corr', 'NUV_flux_corr', 'u_flux_corr', 'Bw_flux_corr',\n",
       "       'R_flux_corr', 'I_flux_corr', 'z_flux_corr', 'z_Subaru_flux_corr',\n",
       "       'y_flux_corr', 'J_flux_corr', 'H_flux_corr', 'K_flux_corr',\n",
       "       'Ks_flux_corr', 'ch1_flux_corr', 'ch2_flux_corr', 'ch3_flux_corr',\n",
       "       'ch4_flux_corr', 'F_MIPS_24', 'F_PACS_100', 'F_PACS_160', 'F_SPIRE_250',\n",
       "       'F_SPIRE_350', 'F_SPIRE_500', 'Z_BEST', 'Mass_median', 'Mass_l68',\n",
       "       'Mass_u68', 'Source', 'AGN_final', 'RadioAGN_final', 'Classification',\n",
       "       'Radio_excess', 'AGNfrac_af', 'AGNfrac_af_16', 'AGNfrac_cg_s_16',\n",
       "       'Xray', 'Opt_spec', 'Extended_radio', 'z_rcs_flux_corr',\n",
       "       'z_hsc_flux_corr', 'i_hsc_flux_corr', 'i_rcs_flux_corr', 'i_flux_corr',\n",
       "       'y_hsc_flux_corr', 'r_flux_corr', 'r_hsc_flux_corr', 'r_rcs_flux_corr',\n",
       "       'ch1_swire_flux_corr', 'ch2_swire_flux_corr', 'ch3_swire_flux_corr',\n",
       "       'ch4_swire_flux_corr', 'ch1_servs_flux_corr', 'ch2_servs_flux_corr',\n",
       "       'g_flux_corr', 'g_hsc_flux_corr', 'nb921_hsc_flux_corr',\n",
       "       'g_rcs_flux_corr'],\n",
       "      dtype='object')"
      ]
     },
     "execution_count": 120,
     "metadata": {},
     "output_type": "execute_result"
    }
   ],
   "source": [
    "data.columns"
   ]
  },
  {
   "cell_type": "code",
   "execution_count": 121,
   "id": "2774538d",
   "metadata": {},
   "outputs": [
    {
     "data": {
      "text/plain": [
       "Source_Name            0\n",
       "Total_flux             0\n",
       "Peak_flux              0\n",
       "S_Code                 0\n",
       "EBV                    0\n",
       "                      ..\n",
       "ch2_servs_flux_corr    0\n",
       "g_flux_corr            0\n",
       "g_hsc_flux_corr        0\n",
       "nb921_hsc_flux_corr    0\n",
       "g_rcs_flux_corr        0\n",
       "Length: 62, dtype: int64"
      ]
     },
     "execution_count": 121,
     "metadata": {},
     "output_type": "execute_result"
    }
   ],
   "source": [
    "data.isna().sum()"
   ]
  },
  {
   "cell_type": "code",
   "execution_count": 122,
   "id": "7fbd1232",
   "metadata": {},
   "outputs": [],
   "source": [
    "X = data[features_num]\n",
    "y = data[np.append(y_column, ['Xray', 'Opt_spec', 'Extended_radio'])]"
   ]
  },
  {
   "cell_type": "code",
   "execution_count": null,
   "id": "bcf1526a",
   "metadata": {},
   "outputs": [],
   "source": []
  },
  {
   "cell_type": "code",
   "execution_count": 123,
   "id": "11cc87a3",
   "metadata": {},
   "outputs": [
    {
     "name": "stderr",
     "output_type": "stream",
     "text": [
      "C:\\Users\\jespe\\AppData\\Local\\Temp\\ipykernel_14216\\2925652128.py:3: SettingWithCopyWarning: \n",
      "A value is trying to be set on a copy of a slice from a DataFrame.\n",
      "Try using .loc[row_indexer,col_indexer] = value instead\n",
      "\n",
      "See the caveats in the documentation: https://pandas.pydata.org/pandas-docs/stable/user_guide/indexing.html#returning-a-view-versus-a-copy\n",
      "  y[y_column] = le.fit_transform(y[y_column])\n"
     ]
    }
   ],
   "source": [
    "le = LabelEncoder()\n",
    "labels = np.unique(y[y_column].astype(str))\n",
    "y[y_column] = le.fit_transform(y[y_column])"
   ]
  },
  {
   "cell_type": "code",
   "execution_count": 124,
   "id": "8216a47c",
   "metadata": {},
   "outputs": [],
   "source": [
    "# Creating training and testing set\n",
    "X_train, X_test, y_train, y_test = train_test_split(X, y, train_size=0.8, random_state=42)\n",
    "\n",
    "y_train_flags = y_train[['Xray', 'Opt_spec', 'Extended_radio']]\n",
    "y_test_flags = y_test[['Xray', 'Opt_spec', 'Extended_radio']]\n",
    "\n",
    "y_train = y_train.drop(columns=['Xray', 'Opt_spec', 'Extended_radio'])\n",
    "y_test = y_test.drop(columns=['Xray', 'Opt_spec', 'Extended_radio'])"
   ]
  },
  {
   "cell_type": "code",
   "execution_count": null,
   "id": "233e39fc",
   "metadata": {},
   "outputs": [],
   "source": []
  },
  {
   "cell_type": "code",
   "execution_count": 125,
   "id": "e969635a",
   "metadata": {},
   "outputs": [],
   "source": [
    "def one_hot(df, columns):\n",
    "    \"\"\"\n",
    "    One-hot encoding a certain column in a dataframe\n",
    "    \"\"\"\n",
    "    one_hot = pd.get_dummies(df[columns])\n",
    "    df = df.drop(columns=columns, axis = 1)\n",
    "    df = df.join(one_hot)\n",
    "    return df"
   ]
  },
  {
   "cell_type": "code",
   "execution_count": 126,
   "id": "bafd882e",
   "metadata": {},
   "outputs": [],
   "source": [
    "# Imputing missing categorical features\n",
    "imp = SimpleImputer(strategy=\"most_frequent\")\n",
    "\n",
    "# Standard scaling the numerical data\n",
    "scaler = MinMaxScaler()\n",
    "\n",
    "# Transforming the categorical data\n",
    "X_train[features_num] = scaler.fit_transform(X_train[features_num])\n",
    "X_test[features_num] = scaler.transform(X_test[features_num])"
   ]
  },
  {
   "cell_type": "code",
   "execution_count": 127,
   "id": "c40ac41b",
   "metadata": {},
   "outputs": [],
   "source": [
    "from sklearn.utils import class_weight\n",
    "classes_weights = class_weight.compute_sample_weight(\n",
    "    class_weight='balanced',\n",
    "    y=y_train\n",
    ")"
   ]
  },
  {
   "cell_type": "markdown",
   "id": "0057ca91",
   "metadata": {},
   "source": [
    "# Random forest"
   ]
  },
  {
   "cell_type": "code",
   "execution_count": 221,
   "id": "ee43fe00",
   "metadata": {},
   "outputs": [
    {
     "data": {
      "text/html": [
       "<style>#sk-container-id-14 {color: black;background-color: white;}#sk-container-id-14 pre{padding: 0;}#sk-container-id-14 div.sk-toggleable {background-color: white;}#sk-container-id-14 label.sk-toggleable__label {cursor: pointer;display: block;width: 100%;margin-bottom: 0;padding: 0.3em;box-sizing: border-box;text-align: center;}#sk-container-id-14 label.sk-toggleable__label-arrow:before {content: \"▸\";float: left;margin-right: 0.25em;color: #696969;}#sk-container-id-14 label.sk-toggleable__label-arrow:hover:before {color: black;}#sk-container-id-14 div.sk-estimator:hover label.sk-toggleable__label-arrow:before {color: black;}#sk-container-id-14 div.sk-toggleable__content {max-height: 0;max-width: 0;overflow: hidden;text-align: left;background-color: #f0f8ff;}#sk-container-id-14 div.sk-toggleable__content pre {margin: 0.2em;color: black;border-radius: 0.25em;background-color: #f0f8ff;}#sk-container-id-14 input.sk-toggleable__control:checked~div.sk-toggleable__content {max-height: 200px;max-width: 100%;overflow: auto;}#sk-container-id-14 input.sk-toggleable__control:checked~label.sk-toggleable__label-arrow:before {content: \"▾\";}#sk-container-id-14 div.sk-estimator input.sk-toggleable__control:checked~label.sk-toggleable__label {background-color: #d4ebff;}#sk-container-id-14 div.sk-label input.sk-toggleable__control:checked~label.sk-toggleable__label {background-color: #d4ebff;}#sk-container-id-14 input.sk-hidden--visually {border: 0;clip: rect(1px 1px 1px 1px);clip: rect(1px, 1px, 1px, 1px);height: 1px;margin: -1px;overflow: hidden;padding: 0;position: absolute;width: 1px;}#sk-container-id-14 div.sk-estimator {font-family: monospace;background-color: #f0f8ff;border: 1px dotted black;border-radius: 0.25em;box-sizing: border-box;margin-bottom: 0.5em;}#sk-container-id-14 div.sk-estimator:hover {background-color: #d4ebff;}#sk-container-id-14 div.sk-parallel-item::after {content: \"\";width: 100%;border-bottom: 1px solid gray;flex-grow: 1;}#sk-container-id-14 div.sk-label:hover label.sk-toggleable__label {background-color: #d4ebff;}#sk-container-id-14 div.sk-serial::before {content: \"\";position: absolute;border-left: 1px solid gray;box-sizing: border-box;top: 0;bottom: 0;left: 50%;z-index: 0;}#sk-container-id-14 div.sk-serial {display: flex;flex-direction: column;align-items: center;background-color: white;padding-right: 0.2em;padding-left: 0.2em;position: relative;}#sk-container-id-14 div.sk-item {position: relative;z-index: 1;}#sk-container-id-14 div.sk-parallel {display: flex;align-items: stretch;justify-content: center;background-color: white;position: relative;}#sk-container-id-14 div.sk-item::before, #sk-container-id-14 div.sk-parallel-item::before {content: \"\";position: absolute;border-left: 1px solid gray;box-sizing: border-box;top: 0;bottom: 0;left: 50%;z-index: -1;}#sk-container-id-14 div.sk-parallel-item {display: flex;flex-direction: column;z-index: 1;position: relative;background-color: white;}#sk-container-id-14 div.sk-parallel-item:first-child::after {align-self: flex-end;width: 50%;}#sk-container-id-14 div.sk-parallel-item:last-child::after {align-self: flex-start;width: 50%;}#sk-container-id-14 div.sk-parallel-item:only-child::after {width: 0;}#sk-container-id-14 div.sk-dashed-wrapped {border: 1px dashed gray;margin: 0 0.4em 0.5em 0.4em;box-sizing: border-box;padding-bottom: 0.4em;background-color: white;}#sk-container-id-14 div.sk-label label {font-family: monospace;font-weight: bold;display: inline-block;line-height: 1.2em;}#sk-container-id-14 div.sk-label-container {text-align: center;}#sk-container-id-14 div.sk-container {/* jupyter's `normalize.less` sets `[hidden] { display: none; }` but bootstrap.min.css set `[hidden] { display: none !important; }` so we also need the `!important` here to be able to override the default hidden behavior on the sphinx rendered scikit-learn.org. See: https://github.com/scikit-learn/scikit-learn/issues/21755 */display: inline-block !important;position: relative;}#sk-container-id-14 div.sk-text-repr-fallback {display: none;}</style><div id=\"sk-container-id-14\" class=\"sk-top-container\"><div class=\"sk-text-repr-fallback\"><pre>RandomForestClassifier(class_weight={0: 3, 1: 1000, 2: 1.5, 3: 0.5},\n",
       "                       max_features=None, n_estimators=200, n_jobs=-1,\n",
       "                       random_state=42)</pre><b>In a Jupyter environment, please rerun this cell to show the HTML representation or trust the notebook. <br />On GitHub, the HTML representation is unable to render, please try loading this page with nbviewer.org.</b></div><div class=\"sk-container\" hidden><div class=\"sk-item\"><div class=\"sk-estimator sk-toggleable\"><input class=\"sk-toggleable__control sk-hidden--visually\" id=\"sk-estimator-id-14\" type=\"checkbox\" checked><label for=\"sk-estimator-id-14\" class=\"sk-toggleable__label sk-toggleable__label-arrow\">RandomForestClassifier</label><div class=\"sk-toggleable__content\"><pre>RandomForestClassifier(class_weight={0: 3, 1: 1000, 2: 1.5, 3: 0.5},\n",
       "                       max_features=None, n_estimators=200, n_jobs=-1,\n",
       "                       random_state=42)</pre></div></div></div></div></div>"
      ],
      "text/plain": [
       "RandomForestClassifier(class_weight={0: 3, 1: 1000, 2: 1.5, 3: 0.5},\n",
       "                       max_features=None, n_estimators=200, n_jobs=-1,\n",
       "                       random_state=42)"
      ]
     },
     "execution_count": 221,
     "metadata": {},
     "output_type": "execute_result"
    }
   ],
   "source": [
    "clf = RandomForestClassifier(n_estimators=200, \n",
    "                             max_features=None,\n",
    "                             n_jobs=-1, \n",
    "                             class_weight={0: 3, 1: 1000, 2: 1.5, 3: 0.5},\n",
    "                             random_state=42)\n",
    "clf.fit(X_train, y_train)"
   ]
  },
  {
   "cell_type": "code",
   "execution_count": 195,
   "id": "0227ae9c",
   "metadata": {},
   "outputs": [],
   "source": [
    "cv_score = cross_val_score(clf, X_train, y_train, cv=32, n_jobs=-1, scoring=\"accuracy\")"
   ]
  },
  {
   "cell_type": "code",
   "execution_count": 196,
   "id": "536922d0",
   "metadata": {},
   "outputs": [
    {
     "name": "stdout",
     "output_type": "stream",
     "text": [
      "Cross-validated Accuracy: 0.83311 ± 0.01399\n"
     ]
    }
   ],
   "source": [
    "print(\"Cross-validated Accuracy:\", round(np.mean(cv_score), 5), \"±\", round(np.std(cv_score), 5))"
   ]
  },
  {
   "cell_type": "code",
   "execution_count": 222,
   "id": "88978b9e",
   "metadata": {},
   "outputs": [
    {
     "name": "stdout",
     "output_type": "stream",
     "text": [
      "                                                      precision    recall  f1-score   support\n",
      "\n",
      "      jet-mode radio AGN/low-excitation radio galaxy     0.8109    0.5498    0.6553      2581\n",
      "quasar-like radio AGN / high-excitation radio galaxy     0.4828    0.1556    0.2353       270\n",
      "                                     radio-quiet AGN     0.7609    0.5140    0.6136      1356\n",
      "                                 star-forming galaxy     0.8531    0.9627    0.9046     11315\n",
      "\n",
      "                                            accuracy                         0.8408     15522\n",
      "                                           macro avg     0.7269    0.5455    0.6022     15522\n",
      "                                        weighted avg     0.8316    0.8408    0.8261     15522\n",
      "\n"
     ]
    }
   ],
   "source": [
    "y_pred = clf.predict(X_test)\n",
    "print(classification_report(y_test, y_pred, target_names=labels, digits=4))"
   ]
  },
  {
   "cell_type": "code",
   "execution_count": 77,
   "id": "64ef5975",
   "metadata": {},
   "outputs": [
    {
     "data": {
      "text/plain": [
       "[]"
      ]
     },
     "execution_count": 77,
     "metadata": {},
     "output_type": "execute_result"
    },
    {
     "data": {
      "image/png": "[encoded data removed]",
      "text/plain": [
       "<Figure size 432x288 with 2 Axes>"
      ]
     },
     "metadata": {
      "needs_background": "light"
     },
     "output_type": "display_data"
    }
   ],
   "source": [
    "cm = confusion_matrix(y_test, y_pred)\n",
    "disp = ConfusionMatrixDisplay(confusion_matrix=cm, display_labels=labels)\n",
    "disp.plot()\n",
    "plt.xticks(rotation = 90)\n",
    "plt.plot()"
   ]
  },
  {
   "cell_type": "code",
   "execution_count": null,
   "id": "3c9c27b2",
   "metadata": {},
   "outputs": [],
   "source": []
  },
  {
   "cell_type": "markdown",
   "id": "df7caf58",
   "metadata": {},
   "source": [
    "# Lightgbm"
   ]
  },
  {
   "cell_type": "code",
   "execution_count": 303,
   "id": "b961b7af",
   "metadata": {},
   "outputs": [],
   "source": [
    "import lightgbm as lgb\n",
    "lightbm = lgb.LGBMClassifier(num_class=4, \n",
    "                             objective=\"multiclass\",  \n",
    "                             n_estimators=10000, \n",
    "                             class_weight=\"balanced\",\n",
    "                            early_stopping_round=50,\n",
    "                            verbose=-1,\n",
    "                            max_depth=8,\n",
    "                            num_leaves=70,\n",
    "                            min_data_in_leaf=0)"
   ]
  },
  {
   "cell_type": "code",
   "execution_count": null,
   "id": "93d356ad",
   "metadata": {},
   "outputs": [],
   "source": []
  },
  {
   "cell_type": "code",
   "execution_count": 304,
   "id": "9d640b77",
   "metadata": {},
   "outputs": [
    {
     "name": "stderr",
     "output_type": "stream",
     "text": [
      "d:\\python\\python38\\lib\\site-packages\\sklearn\\preprocessing\\_label.py:98: DataConversionWarning: A column-vector y was passed when a 1d array was expected. Please change the shape of y to (n_samples, ), for example using ravel().\n",
      "  y = column_or_1d(y, warn=True)\n",
      "d:\\python\\python38\\lib\\site-packages\\sklearn\\preprocessing\\_label.py:133: DataConversionWarning: A column-vector y was passed when a 1d array was expected. Please change the shape of y to (n_samples, ), for example using ravel().\n",
      "  y = column_or_1d(y, warn=True)\n"
     ]
    },
    {
     "name": "stdout",
     "output_type": "stream",
     "text": [
      "[LightGBM] [Warning] min_data_in_leaf is set=0, min_child_samples=20 will be ignored. Current value: min_data_in_leaf=0\n",
      "[1]\ttraining's multi_logloss: 0.621214\tvalid_0's multi_logloss: 2.46531\n",
      "[2]\ttraining's multi_logloss: 0.54254\tvalid_0's multi_logloss: 2.20184\n",
      "[3]\ttraining's multi_logloss: 0.487323\tvalid_0's multi_logloss: 2.04417\n",
      "[4]\ttraining's multi_logloss: 0.443127\tvalid_0's multi_logloss: 1.92053\n",
      "[5]\ttraining's multi_logloss: 0.406148\tvalid_0's multi_logloss: 1.82627\n",
      "[6]\ttraining's multi_logloss: 0.375405\tvalid_0's multi_logloss: 1.75141\n",
      "[7]\ttraining's multi_logloss: 0.34849\tvalid_0's multi_logloss: 1.68196\n",
      "[8]\ttraining's multi_logloss: 0.325295\tvalid_0's multi_logloss: 1.62312\n",
      "[9]\ttraining's multi_logloss: 0.305011\tvalid_0's multi_logloss: 1.57126\n",
      "[10]\ttraining's multi_logloss: 0.286661\tvalid_0's multi_logloss: 1.52537\n",
      "[11]\ttraining's multi_logloss: 0.270408\tvalid_0's multi_logloss: 1.48559\n",
      "[12]\ttraining's multi_logloss: 0.255715\tvalid_0's multi_logloss: 1.45094\n",
      "[13]\ttraining's multi_logloss: 0.242861\tvalid_0's multi_logloss: 1.41946\n",
      "[14]\ttraining's multi_logloss: 0.23101\tvalid_0's multi_logloss: 1.39234\n",
      "[15]\ttraining's multi_logloss: 0.220613\tvalid_0's multi_logloss: 1.36724\n",
      "[16]\ttraining's multi_logloss: 0.210473\tvalid_0's multi_logloss: 1.33984\n",
      "[17]\ttraining's multi_logloss: 0.201061\tvalid_0's multi_logloss: 1.31762\n",
      "[18]\ttraining's multi_logloss: 0.192572\tvalid_0's multi_logloss: 1.29679\n",
      "[19]\ttraining's multi_logloss: 0.184871\tvalid_0's multi_logloss: 1.2742\n",
      "[20]\ttraining's multi_logloss: 0.177413\tvalid_0's multi_logloss: 1.25544\n",
      "[21]\ttraining's multi_logloss: 0.17023\tvalid_0's multi_logloss: 1.23504\n",
      "[22]\ttraining's multi_logloss: 0.163796\tvalid_0's multi_logloss: 1.21602\n",
      "[23]\ttraining's multi_logloss: 0.158376\tvalid_0's multi_logloss: 1.20175\n",
      "[24]\ttraining's multi_logloss: 0.152924\tvalid_0's multi_logloss: 1.18719\n",
      "[25]\ttraining's multi_logloss: 0.147734\tvalid_0's multi_logloss: 1.17721\n",
      "[26]\ttraining's multi_logloss: 0.143181\tvalid_0's multi_logloss: 1.16137\n",
      "[27]\ttraining's multi_logloss: 0.138948\tvalid_0's multi_logloss: 1.14641\n",
      "[28]\ttraining's multi_logloss: 0.134475\tvalid_0's multi_logloss: 1.13679\n",
      "[29]\ttraining's multi_logloss: 0.130388\tvalid_0's multi_logloss: 1.12525\n",
      "[30]\ttraining's multi_logloss: 0.126394\tvalid_0's multi_logloss: 1.11298\n",
      "[31]\ttraining's multi_logloss: 0.122903\tvalid_0's multi_logloss: 1.09892\n",
      "[32]\ttraining's multi_logloss: 0.120118\tvalid_0's multi_logloss: 1.08752\n",
      "[33]\ttraining's multi_logloss: 0.11688\tvalid_0's multi_logloss: 1.07681\n",
      "[34]\ttraining's multi_logloss: 0.113242\tvalid_0's multi_logloss: 1.06506\n",
      "[35]\ttraining's multi_logloss: 0.110618\tvalid_0's multi_logloss: 1.05748\n",
      "[36]\ttraining's multi_logloss: 0.107843\tvalid_0's multi_logloss: 1.04474\n",
      "[37]\ttraining's multi_logloss: 0.104596\tvalid_0's multi_logloss: 1.03428\n",
      "[38]\ttraining's multi_logloss: 0.10195\tvalid_0's multi_logloss: 1.02699\n",
      "[39]\ttraining's multi_logloss: 0.0990773\tvalid_0's multi_logloss: 1.01797\n",
      "[40]\ttraining's multi_logloss: 0.0965192\tvalid_0's multi_logloss: 1.01097\n",
      "[41]\ttraining's multi_logloss: 0.0943432\tvalid_0's multi_logloss: 0.999719\n",
      "[42]\ttraining's multi_logloss: 0.0923394\tvalid_0's multi_logloss: 0.997205\n",
      "[43]\ttraining's multi_logloss: 0.0900856\tvalid_0's multi_logloss: 0.992699\n",
      "[44]\ttraining's multi_logloss: 0.0879228\tvalid_0's multi_logloss: 0.985099\n",
      "[45]\ttraining's multi_logloss: 0.0862242\tvalid_0's multi_logloss: 0.977988\n",
      "[46]\ttraining's multi_logloss: 0.084387\tvalid_0's multi_logloss: 0.970774\n",
      "[47]\ttraining's multi_logloss: 0.0824722\tvalid_0's multi_logloss: 0.96308\n",
      "[48]\ttraining's multi_logloss: 0.0803987\tvalid_0's multi_logloss: 0.956285\n",
      "[49]\ttraining's multi_logloss: 0.0788961\tvalid_0's multi_logloss: 0.951449\n",
      "[50]\ttraining's multi_logloss: 0.0771174\tvalid_0's multi_logloss: 0.945462\n",
      "[51]\ttraining's multi_logloss: 0.0754579\tvalid_0's multi_logloss: 0.937087\n",
      "[52]\ttraining's multi_logloss: 0.0738925\tvalid_0's multi_logloss: 0.931525\n",
      "[53]\ttraining's multi_logloss: 0.0724795\tvalid_0's multi_logloss: 0.92802\n",
      "[54]\ttraining's multi_logloss: 0.0708747\tvalid_0's multi_logloss: 0.923005\n",
      "[55]\ttraining's multi_logloss: 0.0697784\tvalid_0's multi_logloss: 0.917043\n",
      "[56]\ttraining's multi_logloss: 0.068222\tvalid_0's multi_logloss: 0.912894\n",
      "[57]\ttraining's multi_logloss: 0.0670562\tvalid_0's multi_logloss: 0.90871\n",
      "[58]\ttraining's multi_logloss: 0.0659879\tvalid_0's multi_logloss: 0.905134\n",
      "[59]\ttraining's multi_logloss: 0.0647713\tvalid_0's multi_logloss: 0.900667\n",
      "[60]\ttraining's multi_logloss: 0.0635344\tvalid_0's multi_logloss: 0.89475\n",
      "[61]\ttraining's multi_logloss: 0.0624711\tvalid_0's multi_logloss: 0.888503\n",
      "[62]\ttraining's multi_logloss: 0.0616255\tvalid_0's multi_logloss: 0.887326\n",
      "[63]\ttraining's multi_logloss: 0.0601995\tvalid_0's multi_logloss: 0.882688\n",
      "[64]\ttraining's multi_logloss: 0.0590997\tvalid_0's multi_logloss: 0.878695\n",
      "[65]\ttraining's multi_logloss: 0.0583853\tvalid_0's multi_logloss: 0.876582\n",
      "[66]\ttraining's multi_logloss: 0.0571416\tvalid_0's multi_logloss: 0.872123\n",
      "[67]\ttraining's multi_logloss: 0.0562096\tvalid_0's multi_logloss: 0.867935\n",
      "[68]\ttraining's multi_logloss: 0.0551322\tvalid_0's multi_logloss: 0.864932\n",
      "[69]\ttraining's multi_logloss: 0.0541542\tvalid_0's multi_logloss: 0.86042\n",
      "[70]\ttraining's multi_logloss: 0.0531182\tvalid_0's multi_logloss: 0.856915\n",
      "[71]\ttraining's multi_logloss: 0.0521236\tvalid_0's multi_logloss: 0.852034\n",
      "[72]\ttraining's multi_logloss: 0.0512935\tvalid_0's multi_logloss: 0.848231\n",
      "[73]\ttraining's multi_logloss: 0.0505949\tvalid_0's multi_logloss: 0.843886\n",
      "[74]\ttraining's multi_logloss: 0.0496533\tvalid_0's multi_logloss: 0.839011\n",
      "[75]\ttraining's multi_logloss: 0.0487407\tvalid_0's multi_logloss: 0.836198\n",
      "[76]\ttraining's multi_logloss: 0.0479917\tvalid_0's multi_logloss: 0.832334\n",
      "[77]\ttraining's multi_logloss: 0.047134\tvalid_0's multi_logloss: 0.828073\n",
      "[78]\ttraining's multi_logloss: 0.0462449\tvalid_0's multi_logloss: 0.823562\n",
      "[79]\ttraining's multi_logloss: 0.0454403\tvalid_0's multi_logloss: 0.820184\n",
      "[80]\ttraining's multi_logloss: 0.0447824\tvalid_0's multi_logloss: 0.816668\n",
      "[81]\ttraining's multi_logloss: 0.0439666\tvalid_0's multi_logloss: 0.813286\n",
      "[82]\ttraining's multi_logloss: 0.0433897\tvalid_0's multi_logloss: 0.810154\n",
      "[83]\ttraining's multi_logloss: 0.0427767\tvalid_0's multi_logloss: 0.808005\n",
      "[84]\ttraining's multi_logloss: 0.0421245\tvalid_0's multi_logloss: 0.804321\n",
      "[85]\ttraining's multi_logloss: 0.0414889\tvalid_0's multi_logloss: 0.801957\n",
      "[86]\ttraining's multi_logloss: 0.0409807\tvalid_0's multi_logloss: 0.799144\n",
      "[87]\ttraining's multi_logloss: 0.0402674\tvalid_0's multi_logloss: 0.794708\n",
      "[88]\ttraining's multi_logloss: 0.0396224\tvalid_0's multi_logloss: 0.79099\n",
      "[89]\ttraining's multi_logloss: 0.0391049\tvalid_0's multi_logloss: 0.788224\n",
      "[90]\ttraining's multi_logloss: 0.0384786\tvalid_0's multi_logloss: 0.783705\n",
      "[91]\ttraining's multi_logloss: 0.0378733\tvalid_0's multi_logloss: 0.779175\n",
      "[92]\ttraining's multi_logloss: 0.0370843\tvalid_0's multi_logloss: 0.773965\n",
      "[93]\ttraining's multi_logloss: 0.0365296\tvalid_0's multi_logloss: 0.769434\n",
      "[94]\ttraining's multi_logloss: 0.0359228\tvalid_0's multi_logloss: 0.767026\n",
      "[95]\ttraining's multi_logloss: 0.0353379\tvalid_0's multi_logloss: 0.766241\n",
      "[96]\ttraining's multi_logloss: 0.0348618\tvalid_0's multi_logloss: 0.764298\n",
      "[97]\ttraining's multi_logloss: 0.0343983\tvalid_0's multi_logloss: 0.760721\n",
      "[98]\ttraining's multi_logloss: 0.0339265\tvalid_0's multi_logloss: 0.7592\n",
      "[99]\ttraining's multi_logloss: 0.033366\tvalid_0's multi_logloss: 0.75659\n",
      "[100]\ttraining's multi_logloss: 0.0327532\tvalid_0's multi_logloss: 0.752754\n",
      "[101]\ttraining's multi_logloss: 0.0322905\tvalid_0's multi_logloss: 0.750606\n",
      "[102]\ttraining's multi_logloss: 0.0317762\tvalid_0's multi_logloss: 0.748404\n",
      "[103]\ttraining's multi_logloss: 0.0313629\tvalid_0's multi_logloss: 0.745042\n",
      "[104]\ttraining's multi_logloss: 0.0310204\tvalid_0's multi_logloss: 0.743521\n",
      "[105]\ttraining's multi_logloss: 0.0306373\tvalid_0's multi_logloss: 0.741706\n",
      "[106]\ttraining's multi_logloss: 0.0300934\tvalid_0's multi_logloss: 0.737754\n",
      "[107]\ttraining's multi_logloss: 0.0297694\tvalid_0's multi_logloss: 0.737013\n",
      "[108]\ttraining's multi_logloss: 0.0293608\tvalid_0's multi_logloss: 0.73503\n",
      "[109]\ttraining's multi_logloss: 0.0290066\tvalid_0's multi_logloss: 0.732506\n",
      "[110]\ttraining's multi_logloss: 0.0286851\tvalid_0's multi_logloss: 0.730105\n"
     ]
    },
    {
     "name": "stdout",
     "output_type": "stream",
     "text": [
      "[111]\ttraining's multi_logloss: 0.0282929\tvalid_0's multi_logloss: 0.727329\n",
      "[112]\ttraining's multi_logloss: 0.0278508\tvalid_0's multi_logloss: 0.723878\n",
      "[113]\ttraining's multi_logloss: 0.0274589\tvalid_0's multi_logloss: 0.722028\n",
      "[114]\ttraining's multi_logloss: 0.0270368\tvalid_0's multi_logloss: 0.718741\n",
      "[115]\ttraining's multi_logloss: 0.0266404\tvalid_0's multi_logloss: 0.714822\n",
      "[116]\ttraining's multi_logloss: 0.0263269\tvalid_0's multi_logloss: 0.711649\n",
      "[117]\ttraining's multi_logloss: 0.0260426\tvalid_0's multi_logloss: 0.709255\n",
      "[118]\ttraining's multi_logloss: 0.0258029\tvalid_0's multi_logloss: 0.708832\n",
      "[119]\ttraining's multi_logloss: 0.0254505\tvalid_0's multi_logloss: 0.707542\n",
      "[120]\ttraining's multi_logloss: 0.0251294\tvalid_0's multi_logloss: 0.705074\n",
      "[121]\ttraining's multi_logloss: 0.0248019\tvalid_0's multi_logloss: 0.702345\n",
      "[122]\ttraining's multi_logloss: 0.0245414\tvalid_0's multi_logloss: 0.700488\n",
      "[123]\ttraining's multi_logloss: 0.0242265\tvalid_0's multi_logloss: 0.6984\n",
      "[124]\ttraining's multi_logloss: 0.023939\tvalid_0's multi_logloss: 0.696496\n",
      "[125]\ttraining's multi_logloss: 0.0236312\tvalid_0's multi_logloss: 0.693922\n",
      "[126]\ttraining's multi_logloss: 0.0233098\tvalid_0's multi_logloss: 0.691215\n",
      "[127]\ttraining's multi_logloss: 0.0229224\tvalid_0's multi_logloss: 0.688782\n",
      "[128]\ttraining's multi_logloss: 0.0227029\tvalid_0's multi_logloss: 0.686798\n",
      "[129]\ttraining's multi_logloss: 0.0224318\tvalid_0's multi_logloss: 0.684467\n",
      "[130]\ttraining's multi_logloss: 0.022185\tvalid_0's multi_logloss: 0.684219\n",
      "[131]\ttraining's multi_logloss: 0.0218724\tvalid_0's multi_logloss: 0.681021\n",
      "[132]\ttraining's multi_logloss: 0.0216015\tvalid_0's multi_logloss: 0.679047\n",
      "[133]\ttraining's multi_logloss: 0.0213371\tvalid_0's multi_logloss: 0.676549\n",
      "[134]\ttraining's multi_logloss: 0.0210506\tvalid_0's multi_logloss: 0.674108\n",
      "[135]\ttraining's multi_logloss: 0.0208065\tvalid_0's multi_logloss: 0.671849\n",
      "[136]\ttraining's multi_logloss: 0.0205598\tvalid_0's multi_logloss: 0.669741\n",
      "[137]\ttraining's multi_logloss: 0.0202724\tvalid_0's multi_logloss: 0.667811\n",
      "[138]\ttraining's multi_logloss: 0.0200125\tvalid_0's multi_logloss: 0.665831\n",
      "[139]\ttraining's multi_logloss: 0.0197554\tvalid_0's multi_logloss: 0.66435\n",
      "[140]\ttraining's multi_logloss: 0.0194913\tvalid_0's multi_logloss: 0.661903\n",
      "[141]\ttraining's multi_logloss: 0.0193136\tvalid_0's multi_logloss: 0.660439\n",
      "[142]\ttraining's multi_logloss: 0.0191079\tvalid_0's multi_logloss: 0.65921\n",
      "[143]\ttraining's multi_logloss: 0.018875\tvalid_0's multi_logloss: 0.657177\n",
      "[144]\ttraining's multi_logloss: 0.0186287\tvalid_0's multi_logloss: 0.655046\n",
      "[145]\ttraining's multi_logloss: 0.0184241\tvalid_0's multi_logloss: 0.652957\n",
      "[146]\ttraining's multi_logloss: 0.0182218\tvalid_0's multi_logloss: 0.650898\n",
      "[147]\ttraining's multi_logloss: 0.0181034\tvalid_0's multi_logloss: 0.650077\n",
      "[148]\ttraining's multi_logloss: 0.017947\tvalid_0's multi_logloss: 0.64935\n",
      "[149]\ttraining's multi_logloss: 0.0177335\tvalid_0's multi_logloss: 0.647381\n",
      "[150]\ttraining's multi_logloss: 0.0175584\tvalid_0's multi_logloss: 0.645976\n",
      "[151]\ttraining's multi_logloss: 0.0174291\tvalid_0's multi_logloss: 0.645076\n",
      "[152]\ttraining's multi_logloss: 0.0172404\tvalid_0's multi_logloss: 0.644164\n",
      "[153]\ttraining's multi_logloss: 0.0170646\tvalid_0's multi_logloss: 0.642582\n",
      "[154]\ttraining's multi_logloss: 0.0169031\tvalid_0's multi_logloss: 0.640336\n",
      "[155]\ttraining's multi_logloss: 0.0170999\tvalid_0's multi_logloss: 0.638649\n",
      "[156]\ttraining's multi_logloss: 0.0166012\tvalid_0's multi_logloss: 0.639343\n",
      "[157]\ttraining's multi_logloss: 0.0164778\tvalid_0's multi_logloss: 0.637933\n",
      "[158]\ttraining's multi_logloss: 0.016323\tvalid_0's multi_logloss: 0.635851\n",
      "[159]\ttraining's multi_logloss: 0.0161229\tvalid_0's multi_logloss: 0.633355\n",
      "[160]\ttraining's multi_logloss: 0.0159492\tvalid_0's multi_logloss: 0.631721\n",
      "[161]\ttraining's multi_logloss: 0.0157444\tvalid_0's multi_logloss: 0.629656\n",
      "[162]\ttraining's multi_logloss: 0.0155863\tvalid_0's multi_logloss: 0.628265\n",
      "[163]\ttraining's multi_logloss: 0.0153942\tvalid_0's multi_logloss: 0.626447\n",
      "[164]\ttraining's multi_logloss: 0.0151787\tvalid_0's multi_logloss: 0.624811\n",
      "[165]\ttraining's multi_logloss: 0.0150346\tvalid_0's multi_logloss: 0.623339\n",
      "[166]\ttraining's multi_logloss: 0.0148609\tvalid_0's multi_logloss: 0.621504\n",
      "[167]\ttraining's multi_logloss: 0.0146873\tvalid_0's multi_logloss: 0.619977\n",
      "[168]\ttraining's multi_logloss: 0.0145314\tvalid_0's multi_logloss: 0.618138\n",
      "[169]\ttraining's multi_logloss: 0.0144001\tvalid_0's multi_logloss: 0.616468\n",
      "[170]\ttraining's multi_logloss: 0.0141988\tvalid_0's multi_logloss: 0.613941\n",
      "[171]\ttraining's multi_logloss: 0.0140673\tvalid_0's multi_logloss: 0.613013\n",
      "[172]\ttraining's multi_logloss: 0.0138949\tvalid_0's multi_logloss: 0.611409\n",
      "[173]\ttraining's multi_logloss: 0.0137598\tvalid_0's multi_logloss: 0.610267\n",
      "[174]\ttraining's multi_logloss: 0.0136322\tvalid_0's multi_logloss: 0.608779\n",
      "[175]\ttraining's multi_logloss: 0.0135118\tvalid_0's multi_logloss: 0.607556\n",
      "[176]\ttraining's multi_logloss: 0.0133553\tvalid_0's multi_logloss: 0.606166\n",
      "[177]\ttraining's multi_logloss: 0.0132486\tvalid_0's multi_logloss: 0.605074\n",
      "[178]\ttraining's multi_logloss: 0.013089\tvalid_0's multi_logloss: 0.603515\n",
      "[179]\ttraining's multi_logloss: 0.0129719\tvalid_0's multi_logloss: 0.602323\n",
      "[180]\ttraining's multi_logloss: 0.0128386\tvalid_0's multi_logloss: 0.601278\n",
      "[181]\ttraining's multi_logloss: 0.0127274\tvalid_0's multi_logloss: 0.600129\n",
      "[182]\ttraining's multi_logloss: 0.0125953\tvalid_0's multi_logloss: 0.598106\n",
      "[183]\ttraining's multi_logloss: 0.0124862\tvalid_0's multi_logloss: 0.597073\n",
      "[184]\ttraining's multi_logloss: 0.0123665\tvalid_0's multi_logloss: 0.596092\n",
      "[185]\ttraining's multi_logloss: 0.0122811\tvalid_0's multi_logloss: 0.59523\n",
      "[186]\ttraining's multi_logloss: 0.0121757\tvalid_0's multi_logloss: 0.594466\n",
      "[187]\ttraining's multi_logloss: 0.0120852\tvalid_0's multi_logloss: 0.593609\n",
      "[188]\ttraining's multi_logloss: 0.0119965\tvalid_0's multi_logloss: 0.592715\n",
      "[189]\ttraining's multi_logloss: 0.0118704\tvalid_0's multi_logloss: 0.591561\n",
      "[190]\ttraining's multi_logloss: 0.0117662\tvalid_0's multi_logloss: 0.590688\n",
      "[191]\ttraining's multi_logloss: 0.0116618\tvalid_0's multi_logloss: 0.58939\n",
      "[192]\ttraining's multi_logloss: 0.0115867\tvalid_0's multi_logloss: 0.588746\n",
      "[193]\ttraining's multi_logloss: 0.0114534\tvalid_0's multi_logloss: 0.588435\n",
      "[194]\ttraining's multi_logloss: 0.0113336\tvalid_0's multi_logloss: 0.587342\n",
      "[195]\ttraining's multi_logloss: 0.0112484\tvalid_0's multi_logloss: 0.586116\n",
      "[196]\ttraining's multi_logloss: 0.0111305\tvalid_0's multi_logloss: 0.585224\n",
      "[197]\ttraining's multi_logloss: 0.0110127\tvalid_0's multi_logloss: 0.584103\n",
      "[198]\ttraining's multi_logloss: 0.0108944\tvalid_0's multi_logloss: 0.583078\n",
      "[199]\ttraining's multi_logloss: 0.0107741\tvalid_0's multi_logloss: 0.58164\n",
      "[200]\ttraining's multi_logloss: 0.0106512\tvalid_0's multi_logloss: 0.580245\n",
      "[201]\ttraining's multi_logloss: 0.0108449\tvalid_0's multi_logloss: 0.580497\n",
      "[202]\ttraining's multi_logloss: 0.0104565\tvalid_0's multi_logloss: 0.579435\n",
      "[203]\ttraining's multi_logloss: 0.0103504\tvalid_0's multi_logloss: 0.578699\n",
      "[204]\ttraining's multi_logloss: 0.0102429\tvalid_0's multi_logloss: 0.577497\n",
      "[205]\ttraining's multi_logloss: 0.0101571\tvalid_0's multi_logloss: 0.576412\n",
      "[206]\ttraining's multi_logloss: 0.0100501\tvalid_0's multi_logloss: 0.575566\n",
      "[207]\ttraining's multi_logloss: 0.00997858\tvalid_0's multi_logloss: 0.575109\n",
      "[208]\ttraining's multi_logloss: 0.00990096\tvalid_0's multi_logloss: 0.574247\n",
      "[209]\ttraining's multi_logloss: 0.00980795\tvalid_0's multi_logloss: 0.573199\n",
      "[210]\ttraining's multi_logloss: 0.00971233\tvalid_0's multi_logloss: 0.572009\n",
      "[211]\ttraining's multi_logloss: 0.00964495\tvalid_0's multi_logloss: 0.571146\n",
      "[212]\ttraining's multi_logloss: 0.00956755\tvalid_0's multi_logloss: 0.570127\n",
      "[213]\ttraining's multi_logloss: 0.00949058\tvalid_0's multi_logloss: 0.569327\n",
      "[214]\ttraining's multi_logloss: 0.00942153\tvalid_0's multi_logloss: 0.568507\n",
      "[215]\ttraining's multi_logloss: 0.00934367\tvalid_0's multi_logloss: 0.567866\n",
      "[216]\ttraining's multi_logloss: 0.00925815\tvalid_0's multi_logloss: 0.567078\n",
      "[217]\ttraining's multi_logloss: 0.00915926\tvalid_0's multi_logloss: 0.566162\n",
      "[218]\ttraining's multi_logloss: 0.00907052\tvalid_0's multi_logloss: 0.564961\n",
      "[219]\ttraining's multi_logloss: 0.00899258\tvalid_0's multi_logloss: 0.564074\n"
     ]
    },
    {
     "name": "stdout",
     "output_type": "stream",
     "text": [
      "[220]\ttraining's multi_logloss: 0.00892004\tvalid_0's multi_logloss: 0.563315\n",
      "[221]\ttraining's multi_logloss: 0.00886483\tvalid_0's multi_logloss: 0.56275\n",
      "[222]\ttraining's multi_logloss: 0.00877667\tvalid_0's multi_logloss: 0.561666\n",
      "[223]\ttraining's multi_logloss: 0.00870686\tvalid_0's multi_logloss: 0.560984\n",
      "[224]\ttraining's multi_logloss: 0.00863085\tvalid_0's multi_logloss: 0.560113\n",
      "[225]\ttraining's multi_logloss: 0.00855843\tvalid_0's multi_logloss: 0.559733\n",
      "[226]\ttraining's multi_logloss: 0.00847138\tvalid_0's multi_logloss: 0.558862\n",
      "[227]\ttraining's multi_logloss: 0.00840087\tvalid_0's multi_logloss: 0.557947\n",
      "[228]\ttraining's multi_logloss: 0.0083054\tvalid_0's multi_logloss: 0.556477\n",
      "[229]\ttraining's multi_logloss: 0.00824976\tvalid_0's multi_logloss: 0.556061\n",
      "[230]\ttraining's multi_logloss: 0.00816767\tvalid_0's multi_logloss: 0.554729\n",
      "[231]\ttraining's multi_logloss: 0.00809414\tvalid_0's multi_logloss: 0.554027\n",
      "[232]\ttraining's multi_logloss: 0.00803385\tvalid_0's multi_logloss: 0.553536\n",
      "[233]\ttraining's multi_logloss: 0.00794644\tvalid_0's multi_logloss: 0.552144\n",
      "[234]\ttraining's multi_logloss: 0.00787714\tvalid_0's multi_logloss: 0.551594\n",
      "[235]\ttraining's multi_logloss: 0.00782404\tvalid_0's multi_logloss: 0.551082\n",
      "[236]\ttraining's multi_logloss: 0.00776621\tvalid_0's multi_logloss: 0.550379\n",
      "[237]\ttraining's multi_logloss: 0.00769657\tvalid_0's multi_logloss: 0.549495\n",
      "[238]\ttraining's multi_logloss: 0.00762629\tvalid_0's multi_logloss: 0.549249\n",
      "[239]\ttraining's multi_logloss: 0.00755268\tvalid_0's multi_logloss: 0.548391\n",
      "[240]\ttraining's multi_logloss: 0.00747089\tvalid_0's multi_logloss: 0.547315\n",
      "[241]\ttraining's multi_logloss: 0.00740869\tvalid_0's multi_logloss: 0.546288\n",
      "[242]\ttraining's multi_logloss: 0.00732816\tvalid_0's multi_logloss: 0.545327\n",
      "[243]\ttraining's multi_logloss: 0.007255\tvalid_0's multi_logloss: 0.544404\n",
      "[244]\ttraining's multi_logloss: 0.00721452\tvalid_0's multi_logloss: 0.544015\n",
      "[245]\ttraining's multi_logloss: 0.00715513\tvalid_0's multi_logloss: 0.543453\n",
      "[246]\ttraining's multi_logloss: 0.00709476\tvalid_0's multi_logloss: 0.542703\n",
      "[247]\ttraining's multi_logloss: 0.00707382\tvalid_0's multi_logloss: 0.541952\n",
      "[248]\ttraining's multi_logloss: 0.0070115\tvalid_0's multi_logloss: 0.540821\n",
      "[249]\ttraining's multi_logloss: 0.00695444\tvalid_0's multi_logloss: 0.540214\n",
      "[250]\ttraining's multi_logloss: 0.00689867\tvalid_0's multi_logloss: 0.539531\n",
      "[251]\ttraining's multi_logloss: 0.00683518\tvalid_0's multi_logloss: 0.538653\n",
      "[252]\ttraining's multi_logloss: 0.00677822\tvalid_0's multi_logloss: 0.537952\n",
      "[253]\ttraining's multi_logloss: 0.00672041\tvalid_0's multi_logloss: 0.537337\n",
      "[254]\ttraining's multi_logloss: 0.00665227\tvalid_0's multi_logloss: 0.536301\n",
      "[255]\ttraining's multi_logloss: 0.00660136\tvalid_0's multi_logloss: 0.53577\n",
      "[256]\ttraining's multi_logloss: 0.00653859\tvalid_0's multi_logloss: 0.534734\n",
      "[257]\ttraining's multi_logloss: 0.00647127\tvalid_0's multi_logloss: 0.53388\n",
      "[258]\ttraining's multi_logloss: 0.0064093\tvalid_0's multi_logloss: 0.533073\n",
      "[259]\ttraining's multi_logloss: 0.00635509\tvalid_0's multi_logloss: 0.532553\n",
      "[260]\ttraining's multi_logloss: 0.00631338\tvalid_0's multi_logloss: 0.532144\n",
      "[261]\ttraining's multi_logloss: 0.00627464\tvalid_0's multi_logloss: 0.531841\n",
      "[262]\ttraining's multi_logloss: 0.00622229\tvalid_0's multi_logloss: 0.531215\n",
      "[263]\ttraining's multi_logloss: 0.00616798\tvalid_0's multi_logloss: 0.5305\n",
      "[264]\ttraining's multi_logloss: 0.00612486\tvalid_0's multi_logloss: 0.529955\n",
      "[265]\ttraining's multi_logloss: 0.00607178\tvalid_0's multi_logloss: 0.52937\n",
      "[266]\ttraining's multi_logloss: 0.00601375\tvalid_0's multi_logloss: 0.528711\n",
      "[267]\ttraining's multi_logloss: 0.00596082\tvalid_0's multi_logloss: 0.52794\n",
      "[268]\ttraining's multi_logloss: 0.00591124\tvalid_0's multi_logloss: 0.527214\n",
      "[269]\ttraining's multi_logloss: 0.00586083\tvalid_0's multi_logloss: 0.526588\n",
      "[270]\ttraining's multi_logloss: 0.00580969\tvalid_0's multi_logloss: 0.525901\n",
      "[271]\ttraining's multi_logloss: 0.00576263\tvalid_0's multi_logloss: 0.52513\n",
      "[272]\ttraining's multi_logloss: 0.0056975\tvalid_0's multi_logloss: 0.524502\n",
      "[273]\ttraining's multi_logloss: 0.00564922\tvalid_0's multi_logloss: 0.524135\n",
      "[274]\ttraining's multi_logloss: 0.00559946\tvalid_0's multi_logloss: 0.523508\n",
      "[275]\ttraining's multi_logloss: 0.00558169\tvalid_0's multi_logloss: 0.524393\n",
      "[276]\ttraining's multi_logloss: 0.00552743\tvalid_0's multi_logloss: 0.523945\n",
      "[277]\ttraining's multi_logloss: 0.00547968\tvalid_0's multi_logloss: 0.523518\n",
      "[278]\ttraining's multi_logloss: 0.00543444\tvalid_0's multi_logloss: 0.523001\n",
      "[279]\ttraining's multi_logloss: 0.00538106\tvalid_0's multi_logloss: 0.522442\n",
      "[280]\ttraining's multi_logloss: 0.00533693\tvalid_0's multi_logloss: 0.52196\n",
      "[281]\ttraining's multi_logloss: 0.00529442\tvalid_0's multi_logloss: 0.52124\n",
      "[282]\ttraining's multi_logloss: 0.00524786\tvalid_0's multi_logloss: 0.520731\n",
      "[283]\ttraining's multi_logloss: 0.00520043\tvalid_0's multi_logloss: 0.520161\n",
      "[284]\ttraining's multi_logloss: 0.00515039\tvalid_0's multi_logloss: 0.520133\n",
      "[285]\ttraining's multi_logloss: 0.00510611\tvalid_0's multi_logloss: 0.51957\n",
      "[286]\ttraining's multi_logloss: 0.0050582\tvalid_0's multi_logloss: 0.518946\n",
      "[287]\ttraining's multi_logloss: 0.00501282\tvalid_0's multi_logloss: 0.518519\n",
      "[288]\ttraining's multi_logloss: 0.00497506\tvalid_0's multi_logloss: 0.518085\n",
      "[289]\ttraining's multi_logloss: 0.00493464\tvalid_0's multi_logloss: 0.517534\n",
      "[290]\ttraining's multi_logloss: 0.00489534\tvalid_0's multi_logloss: 0.517132\n",
      "[291]\ttraining's multi_logloss: 0.00485892\tvalid_0's multi_logloss: 0.516651\n",
      "[292]\ttraining's multi_logloss: 0.00482209\tvalid_0's multi_logloss: 0.516243\n",
      "[293]\ttraining's multi_logloss: 0.00478559\tvalid_0's multi_logloss: 0.515885\n",
      "[294]\ttraining's multi_logloss: 0.00474865\tvalid_0's multi_logloss: 0.515361\n",
      "[295]\ttraining's multi_logloss: 0.00476733\tvalid_0's multi_logloss: 0.51477\n",
      "[296]\ttraining's multi_logloss: 0.0047112\tvalid_0's multi_logloss: 0.51447\n",
      "[297]\ttraining's multi_logloss: 0.00467734\tvalid_0's multi_logloss: 0.514277\n",
      "[298]\ttraining's multi_logloss: 0.0046449\tvalid_0's multi_logloss: 0.513978\n",
      "[299]\ttraining's multi_logloss: 0.00461471\tvalid_0's multi_logloss: 0.513498\n",
      "[300]\ttraining's multi_logloss: 0.00457818\tvalid_0's multi_logloss: 0.513051\n",
      "[301]\ttraining's multi_logloss: 0.00454388\tvalid_0's multi_logloss: 0.512677\n",
      "[302]\ttraining's multi_logloss: 0.00450691\tvalid_0's multi_logloss: 0.512245\n",
      "[303]\ttraining's multi_logloss: 0.00446583\tvalid_0's multi_logloss: 0.511666\n",
      "[304]\ttraining's multi_logloss: 0.0044346\tvalid_0's multi_logloss: 0.511193\n",
      "[305]\ttraining's multi_logloss: 0.00440156\tvalid_0's multi_logloss: 0.510697\n",
      "[306]\ttraining's multi_logloss: 0.00436494\tvalid_0's multi_logloss: 0.510098\n",
      "[307]\ttraining's multi_logloss: 0.00430927\tvalid_0's multi_logloss: 0.509175\n",
      "[308]\ttraining's multi_logloss: 0.0042702\tvalid_0's multi_logloss: 0.508907\n",
      "[309]\ttraining's multi_logloss: 0.00423383\tvalid_0's multi_logloss: 0.508248\n",
      "[310]\ttraining's multi_logloss: 0.00419229\tvalid_0's multi_logloss: 0.507547\n",
      "[311]\ttraining's multi_logloss: 0.00415515\tvalid_0's multi_logloss: 0.507014\n",
      "[312]\ttraining's multi_logloss: 0.00412269\tvalid_0's multi_logloss: 0.506687\n",
      "[313]\ttraining's multi_logloss: 0.00408615\tvalid_0's multi_logloss: 0.506237\n",
      "[314]\ttraining's multi_logloss: 0.00404581\tvalid_0's multi_logloss: 0.50581\n",
      "[315]\ttraining's multi_logloss: 0.00401098\tvalid_0's multi_logloss: 0.505303\n",
      "[316]\ttraining's multi_logloss: 0.0039807\tvalid_0's multi_logloss: 0.505009\n",
      "[317]\ttraining's multi_logloss: 0.00394589\tvalid_0's multi_logloss: 0.504731\n",
      "[318]\ttraining's multi_logloss: 0.00391568\tvalid_0's multi_logloss: 0.504441\n",
      "[319]\ttraining's multi_logloss: 0.00387582\tvalid_0's multi_logloss: 0.503884\n",
      "[320]\ttraining's multi_logloss: 0.00384461\tvalid_0's multi_logloss: 0.503475\n",
      "[321]\ttraining's multi_logloss: 0.00381746\tvalid_0's multi_logloss: 0.503148\n",
      "[322]\ttraining's multi_logloss: 0.0037813\tvalid_0's multi_logloss: 0.502915\n",
      "[323]\ttraining's multi_logloss: 0.00375959\tvalid_0's multi_logloss: 0.502682\n",
      "[324]\ttraining's multi_logloss: 0.00373108\tvalid_0's multi_logloss: 0.502352\n",
      "[325]\ttraining's multi_logloss: 0.00369974\tvalid_0's multi_logloss: 0.502079\n",
      "[326]\ttraining's multi_logloss: 0.0036665\tvalid_0's multi_logloss: 0.501626\n",
      "[327]\ttraining's multi_logloss: 0.00364031\tvalid_0's multi_logloss: 0.501223\n",
      "[328]\ttraining's multi_logloss: 0.00360716\tvalid_0's multi_logloss: 0.500727\n"
     ]
    },
    {
     "name": "stdout",
     "output_type": "stream",
     "text": [
      "[329]\ttraining's multi_logloss: 0.00358413\tvalid_0's multi_logloss: 0.500528\n",
      "[330]\ttraining's multi_logloss: 0.0035628\tvalid_0's multi_logloss: 0.500324\n",
      "[331]\ttraining's multi_logloss: 0.00354269\tvalid_0's multi_logloss: 0.500327\n",
      "[332]\ttraining's multi_logloss: 0.00351566\tvalid_0's multi_logloss: 0.499934\n",
      "[333]\ttraining's multi_logloss: 0.00348314\tvalid_0's multi_logloss: 0.49969\n",
      "[334]\ttraining's multi_logloss: 0.00345988\tvalid_0's multi_logloss: 0.499308\n",
      "[335]\ttraining's multi_logloss: 0.00343417\tvalid_0's multi_logloss: 0.498829\n",
      "[336]\ttraining's multi_logloss: 0.00340641\tvalid_0's multi_logloss: 0.498503\n",
      "[337]\ttraining's multi_logloss: 0.00338044\tvalid_0's multi_logloss: 0.498282\n",
      "[338]\ttraining's multi_logloss: 0.00335683\tvalid_0's multi_logloss: 0.497859\n",
      "[339]\ttraining's multi_logloss: 0.00332659\tvalid_0's multi_logloss: 0.49755\n",
      "[340]\ttraining's multi_logloss: 0.00330644\tvalid_0's multi_logloss: 0.497311\n",
      "[341]\ttraining's multi_logloss: 0.00328187\tvalid_0's multi_logloss: 0.497015\n",
      "[342]\ttraining's multi_logloss: 0.00326001\tvalid_0's multi_logloss: 0.496797\n",
      "[343]\ttraining's multi_logloss: 0.00323333\tvalid_0's multi_logloss: 0.496509\n",
      "[344]\ttraining's multi_logloss: 0.00321596\tvalid_0's multi_logloss: 0.496267\n",
      "[345]\ttraining's multi_logloss: 0.00319123\tvalid_0's multi_logloss: 0.49566\n",
      "[346]\ttraining's multi_logloss: 0.00316617\tvalid_0's multi_logloss: 0.495356\n",
      "[347]\ttraining's multi_logloss: 0.00314436\tvalid_0's multi_logloss: 0.495081\n",
      "[348]\ttraining's multi_logloss: 0.00312201\tvalid_0's multi_logloss: 0.494868\n",
      "[349]\ttraining's multi_logloss: 0.00309761\tvalid_0's multi_logloss: 0.494366\n",
      "[350]\ttraining's multi_logloss: 0.00308188\tvalid_0's multi_logloss: 0.494314\n",
      "[351]\ttraining's multi_logloss: 0.00305895\tvalid_0's multi_logloss: 0.494103\n",
      "[352]\ttraining's multi_logloss: 0.00303173\tvalid_0's multi_logloss: 0.493621\n",
      "[353]\ttraining's multi_logloss: 0.00300954\tvalid_0's multi_logloss: 0.493268\n",
      "[354]\ttraining's multi_logloss: 0.00298501\tvalid_0's multi_logloss: 0.49304\n",
      "[355]\ttraining's multi_logloss: 0.00295887\tvalid_0's multi_logloss: 0.493195\n",
      "[356]\ttraining's multi_logloss: 0.00293556\tvalid_0's multi_logloss: 0.492848\n",
      "[357]\ttraining's multi_logloss: 0.00291002\tvalid_0's multi_logloss: 0.492452\n",
      "[358]\ttraining's multi_logloss: 0.00288677\tvalid_0's multi_logloss: 0.492195\n",
      "[359]\ttraining's multi_logloss: 0.00286831\tvalid_0's multi_logloss: 0.492086\n",
      "[360]\ttraining's multi_logloss: 0.00284698\tvalid_0's multi_logloss: 0.491842\n",
      "[361]\ttraining's multi_logloss: 0.00282839\tvalid_0's multi_logloss: 0.491597\n",
      "[362]\ttraining's multi_logloss: 0.00281422\tvalid_0's multi_logloss: 0.491474\n",
      "[363]\ttraining's multi_logloss: 0.00279378\tvalid_0's multi_logloss: 0.491192\n",
      "[364]\ttraining's multi_logloss: 0.00277575\tvalid_0's multi_logloss: 0.491061\n",
      "[365]\ttraining's multi_logloss: 0.00275813\tvalid_0's multi_logloss: 0.49094\n",
      "[366]\ttraining's multi_logloss: 0.00273597\tvalid_0's multi_logloss: 0.490549\n",
      "[367]\ttraining's multi_logloss: 0.00271897\tvalid_0's multi_logloss: 0.490354\n",
      "[368]\ttraining's multi_logloss: 0.00269779\tvalid_0's multi_logloss: 0.490087\n",
      "[369]\ttraining's multi_logloss: 0.00267683\tvalid_0's multi_logloss: 0.48979\n",
      "[370]\ttraining's multi_logloss: 0.00265675\tvalid_0's multi_logloss: 0.48958\n",
      "[371]\ttraining's multi_logloss: 0.00263703\tvalid_0's multi_logloss: 0.489287\n",
      "[372]\ttraining's multi_logloss: 0.00261601\tvalid_0's multi_logloss: 0.488971\n",
      "[373]\ttraining's multi_logloss: 0.00259427\tvalid_0's multi_logloss: 0.488784\n",
      "[374]\ttraining's multi_logloss: 0.00257316\tvalid_0's multi_logloss: 0.48846\n",
      "[375]\ttraining's multi_logloss: 0.0025559\tvalid_0's multi_logloss: 0.488304\n",
      "[376]\ttraining's multi_logloss: 0.00253604\tvalid_0's multi_logloss: 0.487856\n",
      "[377]\ttraining's multi_logloss: 0.00251389\tvalid_0's multi_logloss: 0.48784\n",
      "[378]\ttraining's multi_logloss: 0.00249646\tvalid_0's multi_logloss: 0.487646\n",
      "[379]\ttraining's multi_logloss: 0.00247505\tvalid_0's multi_logloss: 0.487275\n",
      "[380]\ttraining's multi_logloss: 0.00245919\tvalid_0's multi_logloss: 0.487148\n",
      "[381]\ttraining's multi_logloss: 0.00243778\tvalid_0's multi_logloss: 0.486919\n",
      "[382]\ttraining's multi_logloss: 0.00242332\tvalid_0's multi_logloss: 0.486876\n",
      "[383]\ttraining's multi_logloss: 0.00240458\tvalid_0's multi_logloss: 0.486788\n",
      "[384]\ttraining's multi_logloss: 0.00238537\tvalid_0's multi_logloss: 0.486536\n",
      "[385]\ttraining's multi_logloss: 0.00236944\tvalid_0's multi_logloss: 0.486243\n",
      "[386]\ttraining's multi_logloss: 0.00235126\tvalid_0's multi_logloss: 0.486059\n",
      "[387]\ttraining's multi_logloss: 0.00233306\tvalid_0's multi_logloss: 0.485874\n",
      "[388]\ttraining's multi_logloss: 0.00231415\tvalid_0's multi_logloss: 0.485668\n",
      "[389]\ttraining's multi_logloss: 0.00229871\tvalid_0's multi_logloss: 0.48559\n",
      "[390]\ttraining's multi_logloss: 0.00228127\tvalid_0's multi_logloss: 0.485416\n",
      "[391]\ttraining's multi_logloss: 0.00226694\tvalid_0's multi_logloss: 0.485246\n",
      "[392]\ttraining's multi_logloss: 0.00225255\tvalid_0's multi_logloss: 0.485007\n",
      "[393]\ttraining's multi_logloss: 0.00223601\tvalid_0's multi_logloss: 0.484694\n",
      "[394]\ttraining's multi_logloss: 0.00221919\tvalid_0's multi_logloss: 0.484534\n",
      "[395]\ttraining's multi_logloss: 0.00220579\tvalid_0's multi_logloss: 0.484401\n",
      "[396]\ttraining's multi_logloss: 0.00218801\tvalid_0's multi_logloss: 0.48426\n",
      "[397]\ttraining's multi_logloss: 0.00217506\tvalid_0's multi_logloss: 0.484121\n",
      "[398]\ttraining's multi_logloss: 0.00215889\tvalid_0's multi_logloss: 0.483862\n",
      "[399]\ttraining's multi_logloss: 0.00214094\tvalid_0's multi_logloss: 0.483549\n",
      "[400]\ttraining's multi_logloss: 0.00212154\tvalid_0's multi_logloss: 0.483328\n",
      "[401]\ttraining's multi_logloss: 0.002104\tvalid_0's multi_logloss: 0.483243\n",
      "[402]\ttraining's multi_logloss: 0.00218788\tvalid_0's multi_logloss: 0.483838\n",
      "[403]\ttraining's multi_logloss: 0.00214792\tvalid_0's multi_logloss: 0.483893\n",
      "[404]\ttraining's multi_logloss: 0.002122\tvalid_0's multi_logloss: 0.483841\n",
      "[405]\ttraining's multi_logloss: 0.00218983\tvalid_0's multi_logloss: 0.483925\n",
      "[406]\ttraining's multi_logloss: 0.00213078\tvalid_0's multi_logloss: 0.483629\n",
      "[407]\ttraining's multi_logloss: 0.00210239\tvalid_0's multi_logloss: 0.483517\n",
      "[408]\ttraining's multi_logloss: 0.00208045\tvalid_0's multi_logloss: 0.483404\n",
      "[409]\ttraining's multi_logloss: 0.00205894\tvalid_0's multi_logloss: 0.483389\n",
      "[410]\ttraining's multi_logloss: 0.00209461\tvalid_0's multi_logloss: 0.48448\n",
      "[411]\ttraining's multi_logloss: 0.00205472\tvalid_0's multi_logloss: 0.484255\n",
      "[412]\ttraining's multi_logloss: 0.00202758\tvalid_0's multi_logloss: 0.484206\n",
      "[413]\ttraining's multi_logloss: 0.00200446\tvalid_0's multi_logloss: 0.484082\n",
      "[414]\ttraining's multi_logloss: 0.00198107\tvalid_0's multi_logloss: 0.483958\n",
      "[415]\ttraining's multi_logloss: 0.00196147\tvalid_0's multi_logloss: 0.483616\n",
      "[416]\ttraining's multi_logloss: 0.00194057\tvalid_0's multi_logloss: 0.483664\n",
      "[417]\ttraining's multi_logloss: 0.0019211\tvalid_0's multi_logloss: 0.483574\n",
      "[418]\ttraining's multi_logloss: 0.00190027\tvalid_0's multi_logloss: 0.483295\n",
      "[419]\ttraining's multi_logloss: 0.00188601\tvalid_0's multi_logloss: 0.483207\n",
      "[420]\ttraining's multi_logloss: 0.0018693\tvalid_0's multi_logloss: 0.482986\n",
      "[421]\ttraining's multi_logloss: 0.00185604\tvalid_0's multi_logloss: 0.482982\n",
      "[422]\ttraining's multi_logloss: 0.00184393\tvalid_0's multi_logloss: 0.482837\n"
     ]
    },
    {
     "ename": "KeyboardInterrupt",
     "evalue": "",
     "output_type": "error",
     "traceback": [
      "\u001b[1;31m---------------------------------------------------------------------------\u001b[0m",
      "\u001b[1;31mKeyboardInterrupt\u001b[0m                         Traceback (most recent call last)",
      "Input \u001b[1;32mIn [304]\u001b[0m, in \u001b[0;36m<cell line: 1>\u001b[1;34m()\u001b[0m\n\u001b[1;32m----> 1\u001b[0m \u001b[43mlightbm\u001b[49m\u001b[38;5;241;43m.\u001b[39;49m\u001b[43mfit\u001b[49m\u001b[43m(\u001b[49m\u001b[43mX_train\u001b[49m\u001b[43m,\u001b[49m\u001b[43m \u001b[49m\u001b[43my_train\u001b[49m\u001b[43m,\u001b[49m\u001b[43m \u001b[49m\u001b[43meval_set\u001b[49m\u001b[38;5;241;43m=\u001b[39;49m\u001b[43m[\u001b[49m\u001b[43m(\u001b[49m\u001b[43mX_test\u001b[49m\u001b[43m,\u001b[49m\u001b[43m \u001b[49m\u001b[43my_test\u001b[49m\u001b[43m)\u001b[49m\u001b[43m,\u001b[49m\u001b[43m \u001b[49m\u001b[43m(\u001b[49m\u001b[43mX_train\u001b[49m\u001b[43m,\u001b[49m\u001b[43m \u001b[49m\u001b[43my_train\u001b[49m\u001b[43m)\u001b[49m\u001b[43m]\u001b[49m\u001b[43m,\u001b[49m\u001b[43m \u001b[49m\u001b[43msample_weight\u001b[49m\u001b[38;5;241;43m=\u001b[39;49m\u001b[43mclasses_weights\u001b[49m\u001b[43m)\u001b[49m\n",
      "File \u001b[1;32md:\\python\\python38\\lib\\site-packages\\lightgbm\\sklearn.py:967\u001b[0m, in \u001b[0;36mLGBMClassifier.fit\u001b[1;34m(self, X, y, sample_weight, init_score, eval_set, eval_names, eval_sample_weight, eval_class_weight, eval_init_score, eval_metric, early_stopping_rounds, verbose, feature_name, categorical_feature, callbacks, init_model)\u001b[0m\n\u001b[0;32m    964\u001b[0m         \u001b[38;5;28;01melse\u001b[39;00m:\n\u001b[0;32m    965\u001b[0m             valid_sets[i] \u001b[38;5;241m=\u001b[39m (valid_x, \u001b[38;5;28mself\u001b[39m\u001b[38;5;241m.\u001b[39m_le\u001b[38;5;241m.\u001b[39mtransform(valid_y))\n\u001b[1;32m--> 967\u001b[0m \u001b[38;5;28;43msuper\u001b[39;49m\u001b[43m(\u001b[49m\u001b[43m)\u001b[49m\u001b[38;5;241;43m.\u001b[39;49m\u001b[43mfit\u001b[49m\u001b[43m(\u001b[49m\u001b[43mX\u001b[49m\u001b[43m,\u001b[49m\u001b[43m \u001b[49m\u001b[43m_y\u001b[49m\u001b[43m,\u001b[49m\u001b[43m \u001b[49m\u001b[43msample_weight\u001b[49m\u001b[38;5;241;43m=\u001b[39;49m\u001b[43msample_weight\u001b[49m\u001b[43m,\u001b[49m\u001b[43m \u001b[49m\u001b[43minit_score\u001b[49m\u001b[38;5;241;43m=\u001b[39;49m\u001b[43minit_score\u001b[49m\u001b[43m,\u001b[49m\u001b[43m \u001b[49m\u001b[43meval_set\u001b[49m\u001b[38;5;241;43m=\u001b[39;49m\u001b[43mvalid_sets\u001b[49m\u001b[43m,\u001b[49m\n\u001b[0;32m    968\u001b[0m \u001b[43m            \u001b[49m\u001b[43meval_names\u001b[49m\u001b[38;5;241;43m=\u001b[39;49m\u001b[43meval_names\u001b[49m\u001b[43m,\u001b[49m\u001b[43m \u001b[49m\u001b[43meval_sample_weight\u001b[49m\u001b[38;5;241;43m=\u001b[39;49m\u001b[43meval_sample_weight\u001b[49m\u001b[43m,\u001b[49m\n\u001b[0;32m    969\u001b[0m \u001b[43m            \u001b[49m\u001b[43meval_class_weight\u001b[49m\u001b[38;5;241;43m=\u001b[39;49m\u001b[43meval_class_weight\u001b[49m\u001b[43m,\u001b[49m\u001b[43m \u001b[49m\u001b[43meval_init_score\u001b[49m\u001b[38;5;241;43m=\u001b[39;49m\u001b[43meval_init_score\u001b[49m\u001b[43m,\u001b[49m\n\u001b[0;32m    970\u001b[0m \u001b[43m            \u001b[49m\u001b[43meval_metric\u001b[49m\u001b[38;5;241;43m=\u001b[39;49m\u001b[43meval_metric\u001b[49m\u001b[43m,\u001b[49m\u001b[43m \u001b[49m\u001b[43mearly_stopping_rounds\u001b[49m\u001b[38;5;241;43m=\u001b[39;49m\u001b[43mearly_stopping_rounds\u001b[49m\u001b[43m,\u001b[49m\n\u001b[0;32m    971\u001b[0m \u001b[43m            \u001b[49m\u001b[43mverbose\u001b[49m\u001b[38;5;241;43m=\u001b[39;49m\u001b[43mverbose\u001b[49m\u001b[43m,\u001b[49m\u001b[43m \u001b[49m\u001b[43mfeature_name\u001b[49m\u001b[38;5;241;43m=\u001b[39;49m\u001b[43mfeature_name\u001b[49m\u001b[43m,\u001b[49m\u001b[43m \u001b[49m\u001b[43mcategorical_feature\u001b[49m\u001b[38;5;241;43m=\u001b[39;49m\u001b[43mcategorical_feature\u001b[49m\u001b[43m,\u001b[49m\n\u001b[0;32m    972\u001b[0m \u001b[43m            \u001b[49m\u001b[43mcallbacks\u001b[49m\u001b[38;5;241;43m=\u001b[39;49m\u001b[43mcallbacks\u001b[49m\u001b[43m,\u001b[49m\u001b[43m \u001b[49m\u001b[43minit_model\u001b[49m\u001b[38;5;241;43m=\u001b[39;49m\u001b[43minit_model\u001b[49m\u001b[43m)\u001b[49m\n\u001b[0;32m    973\u001b[0m \u001b[38;5;28;01mreturn\u001b[39;00m \u001b[38;5;28mself\u001b[39m\n",
      "File \u001b[1;32md:\\python\\python38\\lib\\site-packages\\lightgbm\\sklearn.py:748\u001b[0m, in \u001b[0;36mLGBMModel.fit\u001b[1;34m(self, X, y, sample_weight, init_score, group, eval_set, eval_names, eval_sample_weight, eval_class_weight, eval_init_score, eval_group, eval_metric, early_stopping_rounds, verbose, feature_name, categorical_feature, callbacks, init_model)\u001b[0m\n\u001b[0;32m    745\u001b[0m evals_result \u001b[38;5;241m=\u001b[39m {}\n\u001b[0;32m    746\u001b[0m callbacks\u001b[38;5;241m.\u001b[39mappend(record_evaluation(evals_result))\n\u001b[1;32m--> 748\u001b[0m \u001b[38;5;28mself\u001b[39m\u001b[38;5;241m.\u001b[39m_Booster \u001b[38;5;241m=\u001b[39m \u001b[43mtrain\u001b[49m\u001b[43m(\u001b[49m\n\u001b[0;32m    749\u001b[0m \u001b[43m    \u001b[49m\u001b[43mparams\u001b[49m\u001b[38;5;241;43m=\u001b[39;49m\u001b[43mparams\u001b[49m\u001b[43m,\u001b[49m\n\u001b[0;32m    750\u001b[0m \u001b[43m    \u001b[49m\u001b[43mtrain_set\u001b[49m\u001b[38;5;241;43m=\u001b[39;49m\u001b[43mtrain_set\u001b[49m\u001b[43m,\u001b[49m\n\u001b[0;32m    751\u001b[0m \u001b[43m    \u001b[49m\u001b[43mnum_boost_round\u001b[49m\u001b[38;5;241;43m=\u001b[39;49m\u001b[38;5;28;43mself\u001b[39;49m\u001b[38;5;241;43m.\u001b[39;49m\u001b[43mn_estimators\u001b[49m\u001b[43m,\u001b[49m\n\u001b[0;32m    752\u001b[0m \u001b[43m    \u001b[49m\u001b[43mvalid_sets\u001b[49m\u001b[38;5;241;43m=\u001b[39;49m\u001b[43mvalid_sets\u001b[49m\u001b[43m,\u001b[49m\n\u001b[0;32m    753\u001b[0m \u001b[43m    \u001b[49m\u001b[43mvalid_names\u001b[49m\u001b[38;5;241;43m=\u001b[39;49m\u001b[43meval_names\u001b[49m\u001b[43m,\u001b[49m\n\u001b[0;32m    754\u001b[0m \u001b[43m    \u001b[49m\u001b[43mfobj\u001b[49m\u001b[38;5;241;43m=\u001b[39;49m\u001b[38;5;28;43mself\u001b[39;49m\u001b[38;5;241;43m.\u001b[39;49m\u001b[43m_fobj\u001b[49m\u001b[43m,\u001b[49m\n\u001b[0;32m    755\u001b[0m \u001b[43m    \u001b[49m\u001b[43mfeval\u001b[49m\u001b[38;5;241;43m=\u001b[39;49m\u001b[43meval_metrics_callable\u001b[49m\u001b[43m,\u001b[49m\n\u001b[0;32m    756\u001b[0m \u001b[43m    \u001b[49m\u001b[43minit_model\u001b[49m\u001b[38;5;241;43m=\u001b[39;49m\u001b[43minit_model\u001b[49m\u001b[43m,\u001b[49m\n\u001b[0;32m    757\u001b[0m \u001b[43m    \u001b[49m\u001b[43mfeature_name\u001b[49m\u001b[38;5;241;43m=\u001b[39;49m\u001b[43mfeature_name\u001b[49m\u001b[43m,\u001b[49m\n\u001b[0;32m    758\u001b[0m \u001b[43m    \u001b[49m\u001b[43mcallbacks\u001b[49m\u001b[38;5;241;43m=\u001b[39;49m\u001b[43mcallbacks\u001b[49m\n\u001b[0;32m    759\u001b[0m \u001b[43m\u001b[49m\u001b[43m)\u001b[49m\n\u001b[0;32m    761\u001b[0m \u001b[38;5;28;01mif\u001b[39;00m evals_result:\n\u001b[0;32m    762\u001b[0m     \u001b[38;5;28mself\u001b[39m\u001b[38;5;241m.\u001b[39m_evals_result \u001b[38;5;241m=\u001b[39m evals_result\n",
      "File \u001b[1;32md:\\python\\python38\\lib\\site-packages\\lightgbm\\engine.py:292\u001b[0m, in \u001b[0;36mtrain\u001b[1;34m(params, train_set, num_boost_round, valid_sets, valid_names, fobj, feval, init_model, feature_name, categorical_feature, early_stopping_rounds, evals_result, verbose_eval, learning_rates, keep_training_booster, callbacks)\u001b[0m\n\u001b[0;32m    284\u001b[0m \u001b[38;5;28;01mfor\u001b[39;00m cb \u001b[38;5;129;01min\u001b[39;00m callbacks_before_iter:\n\u001b[0;32m    285\u001b[0m     cb(callback\u001b[38;5;241m.\u001b[39mCallbackEnv(model\u001b[38;5;241m=\u001b[39mbooster,\n\u001b[0;32m    286\u001b[0m                             params\u001b[38;5;241m=\u001b[39mparams,\n\u001b[0;32m    287\u001b[0m                             iteration\u001b[38;5;241m=\u001b[39mi,\n\u001b[0;32m    288\u001b[0m                             begin_iteration\u001b[38;5;241m=\u001b[39minit_iteration,\n\u001b[0;32m    289\u001b[0m                             end_iteration\u001b[38;5;241m=\u001b[39minit_iteration \u001b[38;5;241m+\u001b[39m num_boost_round,\n\u001b[0;32m    290\u001b[0m                             evaluation_result_list\u001b[38;5;241m=\u001b[39m\u001b[38;5;28;01mNone\u001b[39;00m))\n\u001b[1;32m--> 292\u001b[0m \u001b[43mbooster\u001b[49m\u001b[38;5;241;43m.\u001b[39;49m\u001b[43mupdate\u001b[49m\u001b[43m(\u001b[49m\u001b[43mfobj\u001b[49m\u001b[38;5;241;43m=\u001b[39;49m\u001b[43mfobj\u001b[49m\u001b[43m)\u001b[49m\n\u001b[0;32m    294\u001b[0m evaluation_result_list \u001b[38;5;241m=\u001b[39m []\n\u001b[0;32m    295\u001b[0m \u001b[38;5;66;03m# check evaluation result.\u001b[39;00m\n",
      "File \u001b[1;32md:\\python\\python38\\lib\\site-packages\\lightgbm\\basic.py:3021\u001b[0m, in \u001b[0;36mBooster.update\u001b[1;34m(self, train_set, fobj)\u001b[0m\n\u001b[0;32m   3019\u001b[0m \u001b[38;5;28;01mif\u001b[39;00m \u001b[38;5;28mself\u001b[39m\u001b[38;5;241m.\u001b[39m__set_objective_to_none:\n\u001b[0;32m   3020\u001b[0m     \u001b[38;5;28;01mraise\u001b[39;00m LightGBMError(\u001b[38;5;124m'\u001b[39m\u001b[38;5;124mCannot update due to null objective function.\u001b[39m\u001b[38;5;124m'\u001b[39m)\n\u001b[1;32m-> 3021\u001b[0m _safe_call(\u001b[43m_LIB\u001b[49m\u001b[38;5;241;43m.\u001b[39;49m\u001b[43mLGBM_BoosterUpdateOneIter\u001b[49m\u001b[43m(\u001b[49m\n\u001b[0;32m   3022\u001b[0m \u001b[43m    \u001b[49m\u001b[38;5;28;43mself\u001b[39;49m\u001b[38;5;241;43m.\u001b[39;49m\u001b[43mhandle\u001b[49m\u001b[43m,\u001b[49m\n\u001b[0;32m   3023\u001b[0m \u001b[43m    \u001b[49m\u001b[43mctypes\u001b[49m\u001b[38;5;241;43m.\u001b[39;49m\u001b[43mbyref\u001b[49m\u001b[43m(\u001b[49m\u001b[43mis_finished\u001b[49m\u001b[43m)\u001b[49m\u001b[43m)\u001b[49m)\n\u001b[0;32m   3024\u001b[0m \u001b[38;5;28mself\u001b[39m\u001b[38;5;241m.\u001b[39m__is_predicted_cur_iter \u001b[38;5;241m=\u001b[39m [\u001b[38;5;28;01mFalse\u001b[39;00m \u001b[38;5;28;01mfor\u001b[39;00m _ \u001b[38;5;129;01min\u001b[39;00m \u001b[38;5;28mrange\u001b[39m(\u001b[38;5;28mself\u001b[39m\u001b[38;5;241m.\u001b[39m__num_dataset)]\n\u001b[0;32m   3025\u001b[0m \u001b[38;5;28;01mreturn\u001b[39;00m is_finished\u001b[38;5;241m.\u001b[39mvalue \u001b[38;5;241m==\u001b[39m \u001b[38;5;241m1\u001b[39m\n",
      "\u001b[1;31mKeyboardInterrupt\u001b[0m: "
     ]
    }
   ],
   "source": [
    "lightbm.fit(X_train, y_train, eval_set=[(X_test, y_test), (X_train, y_train)], sample_weight=classes_weights)"
   ]
  },
  {
   "cell_type": "code",
   "execution_count": 231,
   "id": "43079368",
   "metadata": {},
   "outputs": [],
   "source": [
    "cv_score_lgb = cross_val_score(lightbm, X_train, y_train, cv=32, n_jobs=-1, scoring=\"accuracy\")"
   ]
  },
  {
   "cell_type": "code",
   "execution_count": 232,
   "id": "754261f4",
   "metadata": {},
   "outputs": [
    {
     "name": "stdout",
     "output_type": "stream",
     "text": [
      "Cross-validated Accuracy: 0.87436 ± 0.01571\n"
     ]
    }
   ],
   "source": [
    "print(\"Cross-validated Accuracy:\", round(np.mean(cv_score_lgb), 5), \"±\", round(np.std(cv_score_lgb), 5))"
   ]
  },
  {
   "cell_type": "code",
   "execution_count": 226,
   "id": "ae2b9106",
   "metadata": {},
   "outputs": [
    {
     "name": "stderr",
     "output_type": "stream",
     "text": [
      "C:\\Users\\jespe\\AppData\\Local\\Packages\\PythonSoftwareFoundation.Python.3.9_qbz5n2kfra8p0\\LocalCache\\local-packages\\Python39\\site-packages\\pandas\\core\\internals\\blocks.py:402: RuntimeWarning: divide by zero encountered in log10\n",
      "  result = func(self.values, **kwargs)\n",
      "C:\\Users\\jespe\\AppData\\Local\\Packages\\PythonSoftwareFoundation.Python.3.9_qbz5n2kfra8p0\\LocalCache\\local-packages\\Python39\\site-packages\\pandas\\core\\internals\\blocks.py:402: RuntimeWarning: invalid value encountered in log10\n",
      "  result = func(self.values, **kwargs)\n"
     ]
    },
    {
     "name": "stdout",
     "output_type": "stream",
     "text": [
      "                                                      precision    recall  f1-score   support\n",
      "\n",
      "      jet-mode radio AGN/low-excitation radio galaxy     0.7767    0.8694    0.8205      2581\n",
      "quasar-like radio AGN / high-excitation radio galaxy     0.5247    0.4333    0.4746       270\n",
      "                                     radio-quiet AGN     0.6689    0.8105    0.7329      1356\n",
      "                                 star-forming galaxy     0.9525    0.9064    0.9289     11315\n",
      "\n",
      "                                            accuracy                         0.8836     15522\n",
      "                                           macro avg     0.7307    0.7549    0.7392     15522\n",
      "                                        weighted avg     0.8911    0.8836    0.8858     15522\n",
      "\n"
     ]
    }
   ],
   "source": [
    "y_pred = lightbm.predict(X_test)\n",
    "print(classification_report(y_test, y_pred, target_names=labels, digits=4))"
   ]
  },
  {
   "cell_type": "code",
   "execution_count": 29,
   "id": "ca6631e3",
   "metadata": {},
   "outputs": [
    {
     "data": {
      "text/plain": [
       "[]"
      ]
     },
     "execution_count": 29,
     "metadata": {},
     "output_type": "execute_result"
    },
    {
     "data": {
      "image/png": "[encoded data removed]",
      "text/plain": [
       "<Figure size 432x288 with 2 Axes>"
      ]
     },
     "metadata": {
      "needs_background": "light"
     },
     "output_type": "display_data"
    }
   ],
   "source": [
    "cm = confusion_matrix(y_test, y_pred)\n",
    "disp = ConfusionMatrixDisplay(confusion_matrix=cm, display_labels=labels)\n",
    "disp.plot()\n",
    "plt.xticks(rotation = 90)\n",
    "plt.plot()"
   ]
  },
  {
   "cell_type": "markdown",
   "id": "58090610",
   "metadata": {},
   "source": [
    "# XGBoost"
   ]
  },
  {
   "cell_type": "code",
   "execution_count": 309,
   "id": "cff6c270",
   "metadata": {},
   "outputs": [],
   "source": [
    "model = XGBClassifier(use_label_encoder=False, \n",
    "                      max_depth=8, \n",
    "                      reg_alpha=0, \n",
    "                      min_child_weight=0, \n",
    "                      reg_lambda=1,\n",
    "                      eta=0.1,\n",
    "                      subsample=1, # 1 normally\n",
    "                      colsample_bytree=1, # 1 normally\n",
    "                      tree_method='hist', # exact is more precies, but this is much faster\n",
    "                      eval_metric=['merror'],\n",
    "                      objective='multi:softprob',\n",
    "                      n_estimators=8000,\n",
    "                      )"
   ]
  },
  {
   "cell_type": "code",
   "execution_count": 310,
   "id": "e4d86569",
   "metadata": {
    "scrolled": true
   },
   "outputs": [
    {
     "name": "stdout",
     "output_type": "stream",
     "text": [
      "[0]\tvalidation_0-merror:0.21054\tvalidation_1-merror:0.19229\n",
      "[1]\tvalidation_0-merror:0.20352\tvalidation_1-merror:0.18468\n",
      "[2]\tvalidation_0-merror:0.19875\tvalidation_1-merror:0.17830\n",
      "[3]\tvalidation_0-merror:0.19521\tvalidation_1-merror:0.17318\n",
      "[4]\tvalidation_0-merror:0.19289\tvalidation_1-merror:0.16936\n",
      "[5]\tvalidation_0-merror:0.19147\tvalidation_1-merror:0.16580\n",
      "[6]\tvalidation_0-merror:0.18773\tvalidation_1-merror:0.16393\n",
      "[7]\tvalidation_0-merror:0.18767\tvalidation_1-merror:0.16229\n",
      "[8]\tvalidation_0-merror:0.18522\tvalidation_1-merror:0.16000\n",
      "[9]\tvalidation_0-merror:0.18284\tvalidation_1-merror:0.15846\n",
      "[10]\tvalidation_0-merror:0.18252\tvalidation_1-merror:0.15530\n",
      "[11]\tvalidation_0-merror:0.18226\tvalidation_1-merror:0.15354\n",
      "[12]\tvalidation_0-merror:0.18026\tvalidation_1-merror:0.15258\n",
      "[13]\tvalidation_0-merror:0.17962\tvalidation_1-merror:0.15106\n",
      "[14]\tvalidation_0-merror:0.17936\tvalidation_1-merror:0.15026\n",
      "[15]\tvalidation_0-merror:0.17659\tvalidation_1-merror:0.14841\n",
      "[16]\tvalidation_0-merror:0.17569\tvalidation_1-merror:0.14676\n",
      "[17]\tvalidation_0-merror:0.17581\tvalidation_1-merror:0.14596\n",
      "[18]\tvalidation_0-merror:0.17433\tvalidation_1-merror:0.14401\n",
      "[19]\tvalidation_0-merror:0.17453\tvalidation_1-merror:0.14267\n",
      "[20]\tvalidation_0-merror:0.17375\tvalidation_1-merror:0.14137\n",
      "[21]\tvalidation_0-merror:0.17195\tvalidation_1-merror:0.13951\n",
      "[22]\tvalidation_0-merror:0.17163\tvalidation_1-merror:0.13814\n",
      "[23]\tvalidation_0-merror:0.16924\tvalidation_1-merror:0.13634\n",
      "[24]\tvalidation_0-merror:0.16795\tvalidation_1-merror:0.13526\n",
      "[25]\tvalidation_0-merror:0.16770\tvalidation_1-merror:0.13364\n",
      "[26]\tvalidation_0-merror:0.16667\tvalidation_1-merror:0.13161\n",
      "[27]\tvalidation_0-merror:0.16512\tvalidation_1-merror:0.12985\n",
      "[28]\tvalidation_0-merror:0.16461\tvalidation_1-merror:0.12818\n",
      "[29]\tvalidation_0-merror:0.16364\tvalidation_1-merror:0.12701\n",
      "[30]\tvalidation_0-merror:0.16280\tvalidation_1-merror:0.12610\n",
      "[31]\tvalidation_0-merror:0.16306\tvalidation_1-merror:0.12499\n",
      "[32]\tvalidation_0-merror:0.16293\tvalidation_1-merror:0.12373\n",
      "[33]\tvalidation_0-merror:0.16177\tvalidation_1-merror:0.12244\n",
      "[34]\tvalidation_0-merror:0.16042\tvalidation_1-merror:0.12119\n",
      "[35]\tvalidation_0-merror:0.15952\tvalidation_1-merror:0.12003\n",
      "[36]\tvalidation_0-merror:0.15926\tvalidation_1-merror:0.11909\n",
      "[37]\tvalidation_0-merror:0.15868\tvalidation_1-merror:0.11790\n",
      "[38]\tvalidation_0-merror:0.15758\tvalidation_1-merror:0.11668\n",
      "[39]\tvalidation_0-merror:0.15700\tvalidation_1-merror:0.11553\n",
      "[40]\tvalidation_0-merror:0.15700\tvalidation_1-merror:0.11452\n",
      "[41]\tvalidation_0-merror:0.15565\tvalidation_1-merror:0.11336\n",
      "[42]\tvalidation_0-merror:0.15546\tvalidation_1-merror:0.11252\n",
      "[43]\tvalidation_0-merror:0.15468\tvalidation_1-merror:0.11151\n",
      "[44]\tvalidation_0-merror:0.15475\tvalidation_1-merror:0.11041\n",
      "[45]\tvalidation_0-merror:0.15404\tvalidation_1-merror:0.10912\n",
      "[46]\tvalidation_0-merror:0.15307\tvalidation_1-merror:0.10804\n",
      "[47]\tvalidation_0-merror:0.15217\tvalidation_1-merror:0.10704\n",
      "[48]\tvalidation_0-merror:0.15198\tvalidation_1-merror:0.10619\n",
      "[49]\tvalidation_0-merror:0.15179\tvalidation_1-merror:0.10516\n",
      "[50]\tvalidation_0-merror:0.15127\tvalidation_1-merror:0.10447\n",
      "[51]\tvalidation_0-merror:0.15063\tvalidation_1-merror:0.10332\n",
      "[52]\tvalidation_0-merror:0.15024\tvalidation_1-merror:0.10258\n",
      "[53]\tvalidation_0-merror:0.14998\tvalidation_1-merror:0.10126\n",
      "[54]\tvalidation_0-merror:0.14966\tvalidation_1-merror:0.10049\n",
      "[55]\tvalidation_0-merror:0.14927\tvalidation_1-merror:0.09936\n",
      "[56]\tvalidation_0-merror:0.14837\tvalidation_1-merror:0.09865\n",
      "[57]\tvalidation_0-merror:0.14837\tvalidation_1-merror:0.09812\n",
      "[58]\tvalidation_0-merror:0.14785\tvalidation_1-merror:0.09738\n",
      "[59]\tvalidation_0-merror:0.14689\tvalidation_1-merror:0.09628\n",
      "[60]\tvalidation_0-merror:0.14663\tvalidation_1-merror:0.09529\n",
      "[61]\tvalidation_0-merror:0.14611\tvalidation_1-merror:0.09445\n",
      "[62]\tvalidation_0-merror:0.14586\tvalidation_1-merror:0.09343\n",
      "[63]\tvalidation_0-merror:0.14534\tvalidation_1-merror:0.09253\n",
      "[64]\tvalidation_0-merror:0.14483\tvalidation_1-merror:0.09169\n",
      "[65]\tvalidation_0-merror:0.14463\tvalidation_1-merror:0.09079\n",
      "[66]\tvalidation_0-merror:0.14405\tvalidation_1-merror:0.08970\n",
      "[67]\tvalidation_0-merror:0.14322\tvalidation_1-merror:0.08881\n",
      "[68]\tvalidation_0-merror:0.14264\tvalidation_1-merror:0.08794\n",
      "[69]\tvalidation_0-merror:0.14238\tvalidation_1-merror:0.08691\n",
      "[70]\tvalidation_0-merror:0.14186\tvalidation_1-merror:0.08557\n",
      "[71]\tvalidation_0-merror:0.14180\tvalidation_1-merror:0.08465\n",
      "[72]\tvalidation_0-merror:0.14058\tvalidation_1-merror:0.08361\n",
      "[73]\tvalidation_0-merror:0.14006\tvalidation_1-merror:0.08306\n",
      "[74]\tvalidation_0-merror:0.14019\tvalidation_1-merror:0.08248\n",
      "[75]\tvalidation_0-merror:0.13948\tvalidation_1-merror:0.08145\n",
      "[76]\tvalidation_0-merror:0.13896\tvalidation_1-merror:0.08076\n",
      "[77]\tvalidation_0-merror:0.13871\tvalidation_1-merror:0.08018\n",
      "[78]\tvalidation_0-merror:0.13819\tvalidation_1-merror:0.07937\n",
      "[79]\tvalidation_0-merror:0.13806\tvalidation_1-merror:0.07844\n",
      "[80]\tvalidation_0-merror:0.13755\tvalidation_1-merror:0.07746\n",
      "[81]\tvalidation_0-merror:0.13697\tvalidation_1-merror:0.07660\n",
      "[82]\tvalidation_0-merror:0.13652\tvalidation_1-merror:0.07578\n",
      "[83]\tvalidation_0-merror:0.13600\tvalidation_1-merror:0.07485\n",
      "[84]\tvalidation_0-merror:0.13594\tvalidation_1-merror:0.07401\n",
      "[85]\tvalidation_0-merror:0.13536\tvalidation_1-merror:0.07320\n",
      "[86]\tvalidation_0-merror:0.13536\tvalidation_1-merror:0.07245\n",
      "[87]\tvalidation_0-merror:0.13478\tvalidation_1-merror:0.07179\n",
      "[88]\tvalidation_0-merror:0.13420\tvalidation_1-merror:0.07103\n",
      "[89]\tvalidation_0-merror:0.13413\tvalidation_1-merror:0.07026\n",
      "[90]\tvalidation_0-merror:0.13394\tvalidation_1-merror:0.06964\n",
      "[91]\tvalidation_0-merror:0.13375\tvalidation_1-merror:0.06926\n",
      "[92]\tvalidation_0-merror:0.13323\tvalidation_1-merror:0.06828\n",
      "[93]\tvalidation_0-merror:0.13278\tvalidation_1-merror:0.06771\n",
      "[94]\tvalidation_0-merror:0.13246\tvalidation_1-merror:0.06679\n",
      "[95]\tvalidation_0-merror:0.13214\tvalidation_1-merror:0.06631\n",
      "[96]\tvalidation_0-merror:0.13220\tvalidation_1-merror:0.06573\n",
      "[97]\tvalidation_0-merror:0.13175\tvalidation_1-merror:0.06538\n",
      "[98]\tvalidation_0-merror:0.13091\tvalidation_1-merror:0.06486\n",
      "[99]\tvalidation_0-merror:0.13059\tvalidation_1-merror:0.06438\n",
      "[100]\tvalidation_0-merror:0.13001\tvalidation_1-merror:0.06336\n",
      "[101]\tvalidation_0-merror:0.12982\tvalidation_1-merror:0.06275\n",
      "[102]\tvalidation_0-merror:0.12995\tvalidation_1-merror:0.06228\n",
      "[103]\tvalidation_0-merror:0.13014\tvalidation_1-merror:0.06175\n",
      "[104]\tvalidation_0-merror:0.12956\tvalidation_1-merror:0.06112\n",
      "[105]\tvalidation_0-merror:0.12962\tvalidation_1-merror:0.06082\n",
      "[106]\tvalidation_0-merror:0.12943\tvalidation_1-merror:0.06019\n",
      "[107]\tvalidation_0-merror:0.12911\tvalidation_1-merror:0.05930\n",
      "[108]\tvalidation_0-merror:0.12904\tvalidation_1-merror:0.05879\n",
      "[109]\tvalidation_0-merror:0.12866\tvalidation_1-merror:0.05843\n",
      "[110]\tvalidation_0-merror:0.12827\tvalidation_1-merror:0.05798\n",
      "[111]\tvalidation_0-merror:0.12788\tvalidation_1-merror:0.05660\n",
      "[112]\tvalidation_0-merror:0.12782\tvalidation_1-merror:0.05623\n",
      "[113]\tvalidation_0-merror:0.12795\tvalidation_1-merror:0.05549\n",
      "[114]\tvalidation_0-merror:0.12724\tvalidation_1-merror:0.05521\n",
      "[115]\tvalidation_0-merror:0.12672\tvalidation_1-merror:0.05499\n",
      "[116]\tvalidation_0-merror:0.12647\tvalidation_1-merror:0.05410\n",
      "[117]\tvalidation_0-merror:0.12660\tvalidation_1-merror:0.05365\n",
      "[118]\tvalidation_0-merror:0.12589\tvalidation_1-merror:0.05302\n",
      "[119]\tvalidation_0-merror:0.12550\tvalidation_1-merror:0.05239\n",
      "[120]\tvalidation_0-merror:0.12518\tvalidation_1-merror:0.05196\n",
      "[121]\tvalidation_0-merror:0.12550\tvalidation_1-merror:0.05125\n",
      "[122]\tvalidation_0-merror:0.12524\tvalidation_1-merror:0.05078\n",
      "[123]\tvalidation_0-merror:0.12466\tvalidation_1-merror:0.04980\n",
      "[124]\tvalidation_0-merror:0.12498\tvalidation_1-merror:0.04937\n",
      "[125]\tvalidation_0-merror:0.12505\tvalidation_1-merror:0.04874\n",
      "[126]\tvalidation_0-merror:0.12505\tvalidation_1-merror:0.04843\n",
      "[127]\tvalidation_0-merror:0.12466\tvalidation_1-merror:0.04784\n",
      "[128]\tvalidation_0-merror:0.12505\tvalidation_1-merror:0.04706\n",
      "[129]\tvalidation_0-merror:0.12485\tvalidation_1-merror:0.04676\n",
      "[130]\tvalidation_0-merror:0.12427\tvalidation_1-merror:0.04619\n",
      "[131]\tvalidation_0-merror:0.12427\tvalidation_1-merror:0.04561\n",
      "[132]\tvalidation_0-merror:0.12427\tvalidation_1-merror:0.04516\n",
      "[133]\tvalidation_0-merror:0.12395\tvalidation_1-merror:0.04481\n"
     ]
    },
    {
     "name": "stdout",
     "output_type": "stream",
     "text": [
      "[134]\tvalidation_0-merror:0.12363\tvalidation_1-merror:0.04441\n",
      "[135]\tvalidation_0-merror:0.12402\tvalidation_1-merror:0.04391\n",
      "[136]\tvalidation_0-merror:0.12382\tvalidation_1-merror:0.04341\n",
      "[137]\tvalidation_0-merror:0.12337\tvalidation_1-merror:0.04302\n",
      "[138]\tvalidation_0-merror:0.12350\tvalidation_1-merror:0.04270\n",
      "[139]\tvalidation_0-merror:0.12369\tvalidation_1-merror:0.04202\n",
      "[140]\tvalidation_0-merror:0.12305\tvalidation_1-merror:0.04160\n",
      "[141]\tvalidation_0-merror:0.12286\tvalidation_1-merror:0.04138\n",
      "[142]\tvalidation_0-merror:0.12215\tvalidation_1-merror:0.04099\n",
      "[143]\tvalidation_0-merror:0.12208\tvalidation_1-merror:0.04027\n",
      "[144]\tvalidation_0-merror:0.12183\tvalidation_1-merror:0.04017\n",
      "[145]\tvalidation_0-merror:0.12189\tvalidation_1-merror:0.03969\n",
      "[146]\tvalidation_0-merror:0.12138\tvalidation_1-merror:0.03904\n",
      "[147]\tvalidation_0-merror:0.12170\tvalidation_1-merror:0.03857\n",
      "[148]\tvalidation_0-merror:0.12131\tvalidation_1-merror:0.03816\n",
      "[149]\tvalidation_0-merror:0.12131\tvalidation_1-merror:0.03795\n",
      "[150]\tvalidation_0-merror:0.12073\tvalidation_1-merror:0.03730\n",
      "[151]\tvalidation_0-merror:0.12028\tvalidation_1-merror:0.03683\n",
      "[152]\tvalidation_0-merror:0.12041\tvalidation_1-merror:0.03653\n",
      "[153]\tvalidation_0-merror:0.12034\tvalidation_1-merror:0.03610\n",
      "[154]\tvalidation_0-merror:0.12009\tvalidation_1-merror:0.03574\n",
      "[155]\tvalidation_0-merror:0.12028\tvalidation_1-merror:0.03529\n",
      "[156]\tvalidation_0-merror:0.12028\tvalidation_1-merror:0.03481\n",
      "[157]\tvalidation_0-merror:0.12060\tvalidation_1-merror:0.03432\n",
      "[158]\tvalidation_0-merror:0.12047\tvalidation_1-merror:0.03429\n",
      "[159]\tvalidation_0-merror:0.12067\tvalidation_1-merror:0.03384\n",
      "[160]\tvalidation_0-merror:0.12028\tvalidation_1-merror:0.03316\n",
      "[161]\tvalidation_0-merror:0.12009\tvalidation_1-merror:0.03289\n",
      "[162]\tvalidation_0-merror:0.11944\tvalidation_1-merror:0.03229\n",
      "[163]\tvalidation_0-merror:0.11951\tvalidation_1-merror:0.03194\n",
      "[164]\tvalidation_0-merror:0.11944\tvalidation_1-merror:0.03159\n",
      "[165]\tvalidation_0-merror:0.11912\tvalidation_1-merror:0.03113\n",
      "[166]\tvalidation_0-merror:0.11912\tvalidation_1-merror:0.03073\n",
      "[167]\tvalidation_0-merror:0.11861\tvalidation_1-merror:0.03051\n",
      "[168]\tvalidation_0-merror:0.11809\tvalidation_1-merror:0.03005\n",
      "[169]\tvalidation_0-merror:0.11815\tvalidation_1-merror:0.02965\n",
      "[170]\tvalidation_0-merror:0.11796\tvalidation_1-merror:0.02925\n",
      "[171]\tvalidation_0-merror:0.11828\tvalidation_1-merror:0.02890\n",
      "[172]\tvalidation_0-merror:0.11796\tvalidation_1-merror:0.02846\n",
      "[173]\tvalidation_0-merror:0.11770\tvalidation_1-merror:0.02812\n",
      "[174]\tvalidation_0-merror:0.11712\tvalidation_1-merror:0.02798\n",
      "[175]\tvalidation_0-merror:0.11712\tvalidation_1-merror:0.02761\n",
      "[176]\tvalidation_0-merror:0.11680\tvalidation_1-merror:0.02730\n",
      "[177]\tvalidation_0-merror:0.11687\tvalidation_1-merror:0.02683\n",
      "[178]\tvalidation_0-merror:0.11700\tvalidation_1-merror:0.02656\n",
      "[179]\tvalidation_0-merror:0.11674\tvalidation_1-merror:0.02584\n",
      "[180]\tvalidation_0-merror:0.11674\tvalidation_1-merror:0.02555\n",
      "[181]\tvalidation_0-merror:0.11629\tvalidation_1-merror:0.02495\n",
      "[182]\tvalidation_0-merror:0.11590\tvalidation_1-merror:0.02461\n",
      "[183]\tvalidation_0-merror:0.11545\tvalidation_1-merror:0.02429\n",
      "[184]\tvalidation_0-merror:0.11545\tvalidation_1-merror:0.02402\n",
      "[185]\tvalidation_0-merror:0.11532\tvalidation_1-merror:0.02380\n",
      "[186]\tvalidation_0-merror:0.11487\tvalidation_1-merror:0.02366\n",
      "[187]\tvalidation_0-merror:0.11487\tvalidation_1-merror:0.02348\n",
      "[188]\tvalidation_0-merror:0.11487\tvalidation_1-merror:0.02332\n",
      "[189]\tvalidation_0-merror:0.11481\tvalidation_1-merror:0.02314\n",
      "[190]\tvalidation_0-merror:0.11442\tvalidation_1-merror:0.02290\n",
      "[191]\tvalidation_0-merror:0.11442\tvalidation_1-merror:0.02261\n",
      "[192]\tvalidation_0-merror:0.11397\tvalidation_1-merror:0.02242\n",
      "[193]\tvalidation_0-merror:0.11390\tvalidation_1-merror:0.02211\n",
      "[194]\tvalidation_0-merror:0.11339\tvalidation_1-merror:0.02192\n",
      "[195]\tvalidation_0-merror:0.11371\tvalidation_1-merror:0.02179\n",
      "[196]\tvalidation_0-merror:0.11326\tvalidation_1-merror:0.02157\n",
      "[197]\tvalidation_0-merror:0.11358\tvalidation_1-merror:0.02107\n",
      "[198]\tvalidation_0-merror:0.11358\tvalidation_1-merror:0.02055\n",
      "[199]\tvalidation_0-merror:0.11364\tvalidation_1-merror:0.02034\n",
      "[200]\tvalidation_0-merror:0.11326\tvalidation_1-merror:0.02004\n",
      "[201]\tvalidation_0-merror:0.11358\tvalidation_1-merror:0.01981\n",
      "[202]\tvalidation_0-merror:0.11339\tvalidation_1-merror:0.01960\n",
      "[203]\tvalidation_0-merror:0.11326\tvalidation_1-merror:0.01939\n",
      "[204]\tvalidation_0-merror:0.11319\tvalidation_1-merror:0.01915\n",
      "[205]\tvalidation_0-merror:0.11332\tvalidation_1-merror:0.01886\n",
      "[206]\tvalidation_0-merror:0.11300\tvalidation_1-merror:0.01839\n",
      "[207]\tvalidation_0-merror:0.11281\tvalidation_1-merror:0.01833\n",
      "[208]\tvalidation_0-merror:0.11255\tvalidation_1-merror:0.01804\n",
      "[209]\tvalidation_0-merror:0.11249\tvalidation_1-merror:0.01757\n",
      "[210]\tvalidation_0-merror:0.11261\tvalidation_1-merror:0.01733\n",
      "[211]\tvalidation_0-merror:0.11249\tvalidation_1-merror:0.01719\n",
      "[212]\tvalidation_0-merror:0.11229\tvalidation_1-merror:0.01701\n",
      "[213]\tvalidation_0-merror:0.11242\tvalidation_1-merror:0.01653\n",
      "[214]\tvalidation_0-merror:0.11171\tvalidation_1-merror:0.01648\n",
      "[215]\tvalidation_0-merror:0.11203\tvalidation_1-merror:0.01622\n",
      "[216]\tvalidation_0-merror:0.11203\tvalidation_1-merror:0.01606\n",
      "[217]\tvalidation_0-merror:0.11178\tvalidation_1-merror:0.01578\n",
      "[218]\tvalidation_0-merror:0.11139\tvalidation_1-merror:0.01543\n",
      "[219]\tvalidation_0-merror:0.11113\tvalidation_1-merror:0.01530\n",
      "[220]\tvalidation_0-merror:0.11081\tvalidation_1-merror:0.01506\n",
      "[221]\tvalidation_0-merror:0.11100\tvalidation_1-merror:0.01487\n",
      "[222]\tvalidation_0-merror:0.11081\tvalidation_1-merror:0.01472\n",
      "[223]\tvalidation_0-merror:0.11094\tvalidation_1-merror:0.01456\n",
      "[224]\tvalidation_0-merror:0.11062\tvalidation_1-merror:0.01425\n",
      "[225]\tvalidation_0-merror:0.11075\tvalidation_1-merror:0.01422\n",
      "[226]\tvalidation_0-merror:0.11030\tvalidation_1-merror:0.01400\n",
      "[227]\tvalidation_0-merror:0.10978\tvalidation_1-merror:0.01387\n",
      "[228]\tvalidation_0-merror:0.11004\tvalidation_1-merror:0.01367\n",
      "[229]\tvalidation_0-merror:0.11017\tvalidation_1-merror:0.01348\n",
      "[230]\tvalidation_0-merror:0.11004\tvalidation_1-merror:0.01321\n",
      "[231]\tvalidation_0-merror:0.11004\tvalidation_1-merror:0.01284\n",
      "[232]\tvalidation_0-merror:0.10991\tvalidation_1-merror:0.01277\n",
      "[233]\tvalidation_0-merror:0.11004\tvalidation_1-merror:0.01253\n",
      "[234]\tvalidation_0-merror:0.10971\tvalidation_1-merror:0.01245\n",
      "[235]\tvalidation_0-merror:0.10959\tvalidation_1-merror:0.01221\n",
      "[236]\tvalidation_0-merror:0.10959\tvalidation_1-merror:0.01208\n",
      "[237]\tvalidation_0-merror:0.10965\tvalidation_1-merror:0.01200\n",
      "[238]\tvalidation_0-merror:0.10901\tvalidation_1-merror:0.01160\n",
      "[239]\tvalidation_0-merror:0.10881\tvalidation_1-merror:0.01155\n",
      "[240]\tvalidation_0-merror:0.10907\tvalidation_1-merror:0.01142\n",
      "[241]\tvalidation_0-merror:0.10901\tvalidation_1-merror:0.01126\n",
      "[242]\tvalidation_0-merror:0.10868\tvalidation_1-merror:0.01111\n",
      "[243]\tvalidation_0-merror:0.10843\tvalidation_1-merror:0.01094\n",
      "[244]\tvalidation_0-merror:0.10868\tvalidation_1-merror:0.01082\n",
      "[245]\tvalidation_0-merror:0.10875\tvalidation_1-merror:0.01068\n",
      "[246]\tvalidation_0-merror:0.10856\tvalidation_1-merror:0.01042\n",
      "[247]\tvalidation_0-merror:0.10811\tvalidation_1-merror:0.01013\n",
      "[248]\tvalidation_0-merror:0.10817\tvalidation_1-merror:0.00999\n",
      "[249]\tvalidation_0-merror:0.10811\tvalidation_1-merror:0.00987\n",
      "[250]\tvalidation_0-merror:0.10785\tvalidation_1-merror:0.00978\n",
      "[251]\tvalidation_0-merror:0.10759\tvalidation_1-merror:0.00958\n",
      "[252]\tvalidation_0-merror:0.10752\tvalidation_1-merror:0.00949\n",
      "[253]\tvalidation_0-merror:0.10778\tvalidation_1-merror:0.00934\n",
      "[254]\tvalidation_0-merror:0.10727\tvalidation_1-merror:0.00928\n",
      "[255]\tvalidation_0-merror:0.10759\tvalidation_1-merror:0.00916\n",
      "[256]\tvalidation_0-merror:0.10778\tvalidation_1-merror:0.00887\n",
      "[257]\tvalidation_0-merror:0.10746\tvalidation_1-merror:0.00878\n",
      "[258]\tvalidation_0-merror:0.10759\tvalidation_1-merror:0.00849\n",
      "[259]\tvalidation_0-merror:0.10765\tvalidation_1-merror:0.00849\n",
      "[260]\tvalidation_0-merror:0.10740\tvalidation_1-merror:0.00836\n",
      "[261]\tvalidation_0-merror:0.10720\tvalidation_1-merror:0.00820\n",
      "[262]\tvalidation_0-merror:0.10740\tvalidation_1-merror:0.00786\n",
      "[263]\tvalidation_0-merror:0.10727\tvalidation_1-merror:0.00783\n",
      "[264]\tvalidation_0-merror:0.10752\tvalidation_1-merror:0.00768\n",
      "[265]\tvalidation_0-merror:0.10727\tvalidation_1-merror:0.00757\n",
      "[266]\tvalidation_0-merror:0.10727\tvalidation_1-merror:0.00754\n"
     ]
    },
    {
     "name": "stdout",
     "output_type": "stream",
     "text": [
      "[267]\tvalidation_0-merror:0.10740\tvalidation_1-merror:0.00747\n",
      "[268]\tvalidation_0-merror:0.10746\tvalidation_1-merror:0.00741\n",
      "[269]\tvalidation_0-merror:0.10740\tvalidation_1-merror:0.00713\n",
      "[270]\tvalidation_0-merror:0.10688\tvalidation_1-merror:0.00696\n",
      "[271]\tvalidation_0-merror:0.10675\tvalidation_1-merror:0.00678\n",
      "[272]\tvalidation_0-merror:0.10656\tvalidation_1-merror:0.00665\n",
      "[273]\tvalidation_0-merror:0.10669\tvalidation_1-merror:0.00659\n",
      "[274]\tvalidation_0-merror:0.10630\tvalidation_1-merror:0.00651\n",
      "[275]\tvalidation_0-merror:0.10624\tvalidation_1-merror:0.00641\n",
      "[276]\tvalidation_0-merror:0.10649\tvalidation_1-merror:0.00636\n",
      "[277]\tvalidation_0-merror:0.10656\tvalidation_1-merror:0.00626\n",
      "[278]\tvalidation_0-merror:0.10617\tvalidation_1-merror:0.00617\n",
      "[279]\tvalidation_0-merror:0.10662\tvalidation_1-merror:0.00609\n",
      "[280]\tvalidation_0-merror:0.10643\tvalidation_1-merror:0.00596\n",
      "[281]\tvalidation_0-merror:0.10649\tvalidation_1-merror:0.00594\n",
      "[282]\tvalidation_0-merror:0.10617\tvalidation_1-merror:0.00586\n",
      "[283]\tvalidation_0-merror:0.10637\tvalidation_1-merror:0.00581\n",
      "[284]\tvalidation_0-merror:0.10617\tvalidation_1-merror:0.00575\n",
      "[285]\tvalidation_0-merror:0.10617\tvalidation_1-merror:0.00570\n",
      "[286]\tvalidation_0-merror:0.10617\tvalidation_1-merror:0.00562\n",
      "[287]\tvalidation_0-merror:0.10630\tvalidation_1-merror:0.00556\n",
      "[288]\tvalidation_0-merror:0.10604\tvalidation_1-merror:0.00544\n",
      "[289]\tvalidation_0-merror:0.10630\tvalidation_1-merror:0.00530\n",
      "[290]\tvalidation_0-merror:0.10630\tvalidation_1-merror:0.00519\n",
      "[291]\tvalidation_0-merror:0.10669\tvalidation_1-merror:0.00501\n",
      "[292]\tvalidation_0-merror:0.10662\tvalidation_1-merror:0.00496\n",
      "[293]\tvalidation_0-merror:0.10643\tvalidation_1-merror:0.00485\n",
      "[294]\tvalidation_0-merror:0.10624\tvalidation_1-merror:0.00470\n",
      "[295]\tvalidation_0-merror:0.10572\tvalidation_1-merror:0.00457\n",
      "[296]\tvalidation_0-merror:0.10604\tvalidation_1-merror:0.00456\n",
      "[297]\tvalidation_0-merror:0.10611\tvalidation_1-merror:0.00449\n",
      "[298]\tvalidation_0-merror:0.10585\tvalidation_1-merror:0.00440\n",
      "[299]\tvalidation_0-merror:0.10579\tvalidation_1-merror:0.00417\n",
      "[300]\tvalidation_0-merror:0.10579\tvalidation_1-merror:0.00414\n",
      "[301]\tvalidation_0-merror:0.10540\tvalidation_1-merror:0.00399\n",
      "[302]\tvalidation_0-merror:0.10553\tvalidation_1-merror:0.00395\n",
      "[303]\tvalidation_0-merror:0.10559\tvalidation_1-merror:0.00383\n",
      "[304]\tvalidation_0-merror:0.10527\tvalidation_1-merror:0.00377\n",
      "[305]\tvalidation_0-merror:0.10508\tvalidation_1-merror:0.00366\n",
      "[306]\tvalidation_0-merror:0.10469\tvalidation_1-merror:0.00353\n",
      "[307]\tvalidation_0-merror:0.10476\tvalidation_1-merror:0.00346\n",
      "[308]\tvalidation_0-merror:0.10508\tvalidation_1-merror:0.00340\n",
      "[309]\tvalidation_0-merror:0.10508\tvalidation_1-merror:0.00343\n",
      "[310]\tvalidation_0-merror:0.10508\tvalidation_1-merror:0.00333\n",
      "[311]\tvalidation_0-merror:0.10482\tvalidation_1-merror:0.00320\n",
      "[312]\tvalidation_0-merror:0.10469\tvalidation_1-merror:0.00314\n",
      "[313]\tvalidation_0-merror:0.10443\tvalidation_1-merror:0.00304\n",
      "[314]\tvalidation_0-merror:0.10450\tvalidation_1-merror:0.00303\n",
      "[315]\tvalidation_0-merror:0.10450\tvalidation_1-merror:0.00293\n",
      "[316]\tvalidation_0-merror:0.10469\tvalidation_1-merror:0.00288\n",
      "[317]\tvalidation_0-merror:0.10450\tvalidation_1-merror:0.00285\n",
      "[318]\tvalidation_0-merror:0.10495\tvalidation_1-merror:0.00274\n",
      "[319]\tvalidation_0-merror:0.10476\tvalidation_1-merror:0.00266\n",
      "[320]\tvalidation_0-merror:0.10450\tvalidation_1-merror:0.00259\n",
      "[321]\tvalidation_0-merror:0.10424\tvalidation_1-merror:0.00253\n",
      "[322]\tvalidation_0-merror:0.10456\tvalidation_1-merror:0.00253\n",
      "[323]\tvalidation_0-merror:0.10463\tvalidation_1-merror:0.00243\n",
      "[324]\tvalidation_0-merror:0.10424\tvalidation_1-merror:0.00242\n",
      "[325]\tvalidation_0-merror:0.10398\tvalidation_1-merror:0.00242\n",
      "[326]\tvalidation_0-merror:0.10398\tvalidation_1-merror:0.00238\n",
      "[327]\tvalidation_0-merror:0.10411\tvalidation_1-merror:0.00230\n",
      "[328]\tvalidation_0-merror:0.10411\tvalidation_1-merror:0.00230\n",
      "[329]\tvalidation_0-merror:0.10398\tvalidation_1-merror:0.00222\n",
      "[330]\tvalidation_0-merror:0.10398\tvalidation_1-merror:0.00219\n",
      "[331]\tvalidation_0-merror:0.10372\tvalidation_1-merror:0.00216\n",
      "[332]\tvalidation_0-merror:0.10398\tvalidation_1-merror:0.00203\n",
      "[333]\tvalidation_0-merror:0.10424\tvalidation_1-merror:0.00200\n",
      "[334]\tvalidation_0-merror:0.10392\tvalidation_1-merror:0.00198\n",
      "[335]\tvalidation_0-merror:0.10366\tvalidation_1-merror:0.00190\n",
      "[336]\tvalidation_0-merror:0.10366\tvalidation_1-merror:0.00187\n",
      "[337]\tvalidation_0-merror:0.10385\tvalidation_1-merror:0.00184\n",
      "[338]\tvalidation_0-merror:0.10398\tvalidation_1-merror:0.00179\n",
      "[339]\tvalidation_0-merror:0.10392\tvalidation_1-merror:0.00179\n",
      "[340]\tvalidation_0-merror:0.10366\tvalidation_1-merror:0.00177\n",
      "[341]\tvalidation_0-merror:0.10385\tvalidation_1-merror:0.00179\n",
      "[342]\tvalidation_0-merror:0.10366\tvalidation_1-merror:0.00176\n",
      "[343]\tvalidation_0-merror:0.10347\tvalidation_1-merror:0.00169\n",
      "[344]\tvalidation_0-merror:0.10353\tvalidation_1-merror:0.00163\n",
      "[345]\tvalidation_0-merror:0.10347\tvalidation_1-merror:0.00163\n",
      "[346]\tvalidation_0-merror:0.10347\tvalidation_1-merror:0.00161\n",
      "[347]\tvalidation_0-merror:0.10334\tvalidation_1-merror:0.00148\n",
      "[348]\tvalidation_0-merror:0.10353\tvalidation_1-merror:0.00140\n",
      "[349]\tvalidation_0-merror:0.10347\tvalidation_1-merror:0.00138\n",
      "[350]\tvalidation_0-merror:0.10385\tvalidation_1-merror:0.00132\n",
      "[351]\tvalidation_0-merror:0.10340\tvalidation_1-merror:0.00129\n",
      "[352]\tvalidation_0-merror:0.10353\tvalidation_1-merror:0.00127\n",
      "[353]\tvalidation_0-merror:0.10366\tvalidation_1-merror:0.00122\n",
      "[354]\tvalidation_0-merror:0.10392\tvalidation_1-merror:0.00122\n",
      "[355]\tvalidation_0-merror:0.10379\tvalidation_1-merror:0.00122\n",
      "[356]\tvalidation_0-merror:0.10360\tvalidation_1-merror:0.00122\n",
      "[357]\tvalidation_0-merror:0.10353\tvalidation_1-merror:0.00118\n",
      "[358]\tvalidation_0-merror:0.10366\tvalidation_1-merror:0.00110\n",
      "[359]\tvalidation_0-merror:0.10340\tvalidation_1-merror:0.00108\n",
      "[360]\tvalidation_0-merror:0.10366\tvalidation_1-merror:0.00105\n",
      "[361]\tvalidation_0-merror:0.10366\tvalidation_1-merror:0.00103\n",
      "[362]\tvalidation_0-merror:0.10360\tvalidation_1-merror:0.00100\n",
      "[363]\tvalidation_0-merror:0.10360\tvalidation_1-merror:0.00095\n",
      "[364]\tvalidation_0-merror:0.10366\tvalidation_1-merror:0.00093\n",
      "[365]\tvalidation_0-merror:0.10379\tvalidation_1-merror:0.00087\n",
      "[366]\tvalidation_0-merror:0.10347\tvalidation_1-merror:0.00087\n",
      "[367]\tvalidation_0-merror:0.10360\tvalidation_1-merror:0.00084\n",
      "[368]\tvalidation_0-merror:0.10340\tvalidation_1-merror:0.00084\n",
      "[369]\tvalidation_0-merror:0.10321\tvalidation_1-merror:0.00081\n",
      "[370]\tvalidation_0-merror:0.10321\tvalidation_1-merror:0.00082\n",
      "[371]\tvalidation_0-merror:0.10347\tvalidation_1-merror:0.00077\n",
      "[372]\tvalidation_0-merror:0.10340\tvalidation_1-merror:0.00077\n",
      "[373]\tvalidation_0-merror:0.10366\tvalidation_1-merror:0.00077\n",
      "[374]\tvalidation_0-merror:0.10366\tvalidation_1-merror:0.00076\n",
      "[375]\tvalidation_0-merror:0.10385\tvalidation_1-merror:0.00072\n",
      "[376]\tvalidation_0-merror:0.10372\tvalidation_1-merror:0.00074\n",
      "[377]\tvalidation_0-merror:0.10379\tvalidation_1-merror:0.00071\n",
      "[378]\tvalidation_0-merror:0.10353\tvalidation_1-merror:0.00071\n",
      "[379]\tvalidation_0-merror:0.10360\tvalidation_1-merror:0.00068\n",
      "[380]\tvalidation_0-merror:0.10372\tvalidation_1-merror:0.00066\n",
      "[381]\tvalidation_0-merror:0.10372\tvalidation_1-merror:0.00064\n",
      "[382]\tvalidation_0-merror:0.10385\tvalidation_1-merror:0.00063\n",
      "[383]\tvalidation_0-merror:0.10379\tvalidation_1-merror:0.00058\n",
      "[384]\tvalidation_0-merror:0.10392\tvalidation_1-merror:0.00055\n",
      "[385]\tvalidation_0-merror:0.10353\tvalidation_1-merror:0.00058\n",
      "[386]\tvalidation_0-merror:0.10366\tvalidation_1-merror:0.00058\n",
      "[387]\tvalidation_0-merror:0.10411\tvalidation_1-merror:0.00053\n",
      "[388]\tvalidation_0-merror:0.10379\tvalidation_1-merror:0.00048\n",
      "[389]\tvalidation_0-merror:0.10379\tvalidation_1-merror:0.00048\n",
      "[390]\tvalidation_0-merror:0.10411\tvalidation_1-merror:0.00048\n",
      "[391]\tvalidation_0-merror:0.10385\tvalidation_1-merror:0.00048\n",
      "[392]\tvalidation_0-merror:0.10392\tvalidation_1-merror:0.00048\n",
      "[393]\tvalidation_0-merror:0.10411\tvalidation_1-merror:0.00048\n",
      "[394]\tvalidation_0-merror:0.10372\tvalidation_1-merror:0.00045\n",
      "[395]\tvalidation_0-merror:0.10385\tvalidation_1-merror:0.00042\n",
      "[396]\tvalidation_0-merror:0.10405\tvalidation_1-merror:0.00037\n",
      "[397]\tvalidation_0-merror:0.10366\tvalidation_1-merror:0.00037\n",
      "[398]\tvalidation_0-merror:0.10392\tvalidation_1-merror:0.00035\n",
      "[399]\tvalidation_0-merror:0.10385\tvalidation_1-merror:0.00034\n"
     ]
    },
    {
     "name": "stdout",
     "output_type": "stream",
     "text": [
      "[400]\tvalidation_0-merror:0.10379\tvalidation_1-merror:0.00034\n",
      "[401]\tvalidation_0-merror:0.10347\tvalidation_1-merror:0.00034\n",
      "[402]\tvalidation_0-merror:0.10353\tvalidation_1-merror:0.00034\n",
      "[403]\tvalidation_0-merror:0.10366\tvalidation_1-merror:0.00034\n",
      "[404]\tvalidation_0-merror:0.10347\tvalidation_1-merror:0.00032\n",
      "[405]\tvalidation_0-merror:0.10340\tvalidation_1-merror:0.00034\n",
      "[406]\tvalidation_0-merror:0.10340\tvalidation_1-merror:0.00034\n",
      "[407]\tvalidation_0-merror:0.10327\tvalidation_1-merror:0.00029\n",
      "[408]\tvalidation_0-merror:0.10347\tvalidation_1-merror:0.00027\n",
      "[409]\tvalidation_0-merror:0.10372\tvalidation_1-merror:0.00027\n",
      "[410]\tvalidation_0-merror:0.10372\tvalidation_1-merror:0.00024\n",
      "[411]\tvalidation_0-merror:0.10392\tvalidation_1-merror:0.00021\n",
      "[412]\tvalidation_0-merror:0.10366\tvalidation_1-merror:0.00022\n",
      "[413]\tvalidation_0-merror:0.10366\tvalidation_1-merror:0.00022\n",
      "[414]\tvalidation_0-merror:0.10353\tvalidation_1-merror:0.00021\n",
      "[415]\tvalidation_0-merror:0.10340\tvalidation_1-merror:0.00018\n",
      "[416]\tvalidation_0-merror:0.10360\tvalidation_1-merror:0.00015\n",
      "[417]\tvalidation_0-merror:0.10366\tvalidation_1-merror:0.00015\n",
      "[418]\tvalidation_0-merror:0.10353\tvalidation_1-merror:0.00015\n",
      "[419]\tvalidation_0-merror:0.10334\tvalidation_1-merror:0.00015\n",
      "[420]\tvalidation_0-merror:0.10301\tvalidation_1-merror:0.00013\n",
      "[421]\tvalidation_0-merror:0.10289\tvalidation_1-merror:0.00013\n",
      "[422]\tvalidation_0-merror:0.10321\tvalidation_1-merror:0.00013\n",
      "[423]\tvalidation_0-merror:0.10314\tvalidation_1-merror:0.00010\n",
      "[424]\tvalidation_0-merror:0.10321\tvalidation_1-merror:0.00010\n",
      "[425]\tvalidation_0-merror:0.10321\tvalidation_1-merror:0.00010\n",
      "[426]\tvalidation_0-merror:0.10308\tvalidation_1-merror:0.00011\n",
      "[427]\tvalidation_0-merror:0.10314\tvalidation_1-merror:0.00010\n",
      "[428]\tvalidation_0-merror:0.10340\tvalidation_1-merror:0.00006\n",
      "[429]\tvalidation_0-merror:0.10314\tvalidation_1-merror:0.00006\n",
      "[430]\tvalidation_0-merror:0.10327\tvalidation_1-merror:0.00006\n",
      "[431]\tvalidation_0-merror:0.10301\tvalidation_1-merror:0.00006\n",
      "[432]\tvalidation_0-merror:0.10301\tvalidation_1-merror:0.00006\n",
      "[433]\tvalidation_0-merror:0.10308\tvalidation_1-merror:0.00005\n",
      "[434]\tvalidation_0-merror:0.10321\tvalidation_1-merror:0.00005\n",
      "[435]\tvalidation_0-merror:0.10314\tvalidation_1-merror:0.00005\n",
      "[436]\tvalidation_0-merror:0.10314\tvalidation_1-merror:0.00005\n",
      "[437]\tvalidation_0-merror:0.10308\tvalidation_1-merror:0.00005\n",
      "[438]\tvalidation_0-merror:0.10334\tvalidation_1-merror:0.00005\n",
      "[439]\tvalidation_0-merror:0.10308\tvalidation_1-merror:0.00005\n",
      "[440]\tvalidation_0-merror:0.10327\tvalidation_1-merror:0.00005\n",
      "[441]\tvalidation_0-merror:0.10295\tvalidation_1-merror:0.00005\n",
      "[442]\tvalidation_0-merror:0.10295\tvalidation_1-merror:0.00005\n",
      "[443]\tvalidation_0-merror:0.10276\tvalidation_1-merror:0.00005\n",
      "[444]\tvalidation_0-merror:0.10282\tvalidation_1-merror:0.00005\n",
      "[445]\tvalidation_0-merror:0.10269\tvalidation_1-merror:0.00005\n",
      "[446]\tvalidation_0-merror:0.10263\tvalidation_1-merror:0.00005\n",
      "[447]\tvalidation_0-merror:0.10269\tvalidation_1-merror:0.00005\n",
      "[448]\tvalidation_0-merror:0.10263\tvalidation_1-merror:0.00005\n",
      "[449]\tvalidation_0-merror:0.10243\tvalidation_1-merror:0.00005\n",
      "[450]\tvalidation_0-merror:0.10237\tvalidation_1-merror:0.00005\n",
      "[451]\tvalidation_0-merror:0.10250\tvalidation_1-merror:0.00005\n",
      "[452]\tvalidation_0-merror:0.10243\tvalidation_1-merror:0.00005\n",
      "[453]\tvalidation_0-merror:0.10218\tvalidation_1-merror:0.00005\n",
      "[454]\tvalidation_0-merror:0.10250\tvalidation_1-merror:0.00005\n",
      "[455]\tvalidation_0-merror:0.10276\tvalidation_1-merror:0.00005\n",
      "[456]\tvalidation_0-merror:0.10269\tvalidation_1-merror:0.00002\n",
      "[457]\tvalidation_0-merror:0.10231\tvalidation_1-merror:0.00002\n",
      "[458]\tvalidation_0-merror:0.10224\tvalidation_1-merror:0.00002\n",
      "[459]\tvalidation_0-merror:0.10224\tvalidation_1-merror:0.00002\n",
      "[460]\tvalidation_0-merror:0.10224\tvalidation_1-merror:0.00002\n",
      "[461]\tvalidation_0-merror:0.10250\tvalidation_1-merror:0.00002\n",
      "[462]\tvalidation_0-merror:0.10282\tvalidation_1-merror:0.00000\n",
      "[463]\tvalidation_0-merror:0.10250\tvalidation_1-merror:0.00000\n",
      "[464]\tvalidation_0-merror:0.10224\tvalidation_1-merror:0.00000\n",
      "[465]\tvalidation_0-merror:0.10250\tvalidation_1-merror:0.00000\n",
      "[466]\tvalidation_0-merror:0.10243\tvalidation_1-merror:0.00000\n",
      "[467]\tvalidation_0-merror:0.10231\tvalidation_1-merror:0.00000\n",
      "[468]\tvalidation_0-merror:0.10224\tvalidation_1-merror:0.00000\n",
      "[469]\tvalidation_0-merror:0.10231\tvalidation_1-merror:0.00000\n",
      "[470]\tvalidation_0-merror:0.10250\tvalidation_1-merror:0.00000\n",
      "[471]\tvalidation_0-merror:0.10218\tvalidation_1-merror:0.00000\n",
      "[472]\tvalidation_0-merror:0.10243\tvalidation_1-merror:0.00000\n",
      "[473]\tvalidation_0-merror:0.10237\tvalidation_1-merror:0.00000\n",
      "[474]\tvalidation_0-merror:0.10205\tvalidation_1-merror:0.00000\n",
      "[475]\tvalidation_0-merror:0.10237\tvalidation_1-merror:0.00000\n",
      "[476]\tvalidation_0-merror:0.10218\tvalidation_1-merror:0.00000\n",
      "[477]\tvalidation_0-merror:0.10218\tvalidation_1-merror:0.00000\n",
      "[478]\tvalidation_0-merror:0.10198\tvalidation_1-merror:0.00000\n",
      "[479]\tvalidation_0-merror:0.10173\tvalidation_1-merror:0.00000\n",
      "[480]\tvalidation_0-merror:0.10179\tvalidation_1-merror:0.00000\n",
      "[481]\tvalidation_0-merror:0.10192\tvalidation_1-merror:0.00000\n",
      "[482]\tvalidation_0-merror:0.10192\tvalidation_1-merror:0.00000\n",
      "[483]\tvalidation_0-merror:0.10198\tvalidation_1-merror:0.00000\n",
      "[484]\tvalidation_0-merror:0.10218\tvalidation_1-merror:0.00000\n",
      "[485]\tvalidation_0-merror:0.10192\tvalidation_1-merror:0.00000\n",
      "[486]\tvalidation_0-merror:0.10211\tvalidation_1-merror:0.00000\n",
      "[487]\tvalidation_0-merror:0.10243\tvalidation_1-merror:0.00000\n",
      "[488]\tvalidation_0-merror:0.10192\tvalidation_1-merror:0.00000\n",
      "[489]\tvalidation_0-merror:0.10179\tvalidation_1-merror:0.00000\n",
      "[490]\tvalidation_0-merror:0.10160\tvalidation_1-merror:0.00000\n",
      "[491]\tvalidation_0-merror:0.10128\tvalidation_1-merror:0.00000\n",
      "[492]\tvalidation_0-merror:0.10192\tvalidation_1-merror:0.00000\n",
      "[493]\tvalidation_0-merror:0.10160\tvalidation_1-merror:0.00000\n",
      "[494]\tvalidation_0-merror:0.10121\tvalidation_1-merror:0.00000\n",
      "[495]\tvalidation_0-merror:0.10121\tvalidation_1-merror:0.00000\n",
      "[496]\tvalidation_0-merror:0.10134\tvalidation_1-merror:0.00000\n",
      "[497]\tvalidation_0-merror:0.10115\tvalidation_1-merror:0.00000\n",
      "[498]\tvalidation_0-merror:0.10147\tvalidation_1-merror:0.00000\n",
      "[499]\tvalidation_0-merror:0.10153\tvalidation_1-merror:0.00000\n",
      "[500]\tvalidation_0-merror:0.10147\tvalidation_1-merror:0.00000\n",
      "[501]\tvalidation_0-merror:0.10128\tvalidation_1-merror:0.00000\n",
      "[502]\tvalidation_0-merror:0.10166\tvalidation_1-merror:0.00000\n",
      "[503]\tvalidation_0-merror:0.10173\tvalidation_1-merror:0.00000\n",
      "[504]\tvalidation_0-merror:0.10134\tvalidation_1-merror:0.00000\n",
      "[505]\tvalidation_0-merror:0.10128\tvalidation_1-merror:0.00000\n",
      "[506]\tvalidation_0-merror:0.10128\tvalidation_1-merror:0.00000\n",
      "[507]\tvalidation_0-merror:0.10128\tvalidation_1-merror:0.00000\n",
      "[508]\tvalidation_0-merror:0.10134\tvalidation_1-merror:0.00000\n",
      "[509]\tvalidation_0-merror:0.10121\tvalidation_1-merror:0.00000\n",
      "[510]\tvalidation_0-merror:0.10115\tvalidation_1-merror:0.00000\n",
      "[511]\tvalidation_0-merror:0.10108\tvalidation_1-merror:0.00000\n",
      "[512]\tvalidation_0-merror:0.10102\tvalidation_1-merror:0.00000\n",
      "[513]\tvalidation_0-merror:0.10121\tvalidation_1-merror:0.00000\n",
      "[514]\tvalidation_0-merror:0.10134\tvalidation_1-merror:0.00000\n",
      "[515]\tvalidation_0-merror:0.10115\tvalidation_1-merror:0.00000\n",
      "[516]\tvalidation_0-merror:0.10121\tvalidation_1-merror:0.00000\n",
      "[517]\tvalidation_0-merror:0.10108\tvalidation_1-merror:0.00000\n",
      "[518]\tvalidation_0-merror:0.10128\tvalidation_1-merror:0.00000\n",
      "[519]\tvalidation_0-merror:0.10115\tvalidation_1-merror:0.00000\n",
      "[520]\tvalidation_0-merror:0.10108\tvalidation_1-merror:0.00000\n",
      "[521]\tvalidation_0-merror:0.10121\tvalidation_1-merror:0.00000\n",
      "[522]\tvalidation_0-merror:0.10115\tvalidation_1-merror:0.00000\n",
      "[523]\tvalidation_0-merror:0.10095\tvalidation_1-merror:0.00000\n",
      "[524]\tvalidation_0-merror:0.10102\tvalidation_1-merror:0.00000\n",
      "[525]\tvalidation_0-merror:0.10115\tvalidation_1-merror:0.00000\n",
      "[526]\tvalidation_0-merror:0.10134\tvalidation_1-merror:0.00000\n",
      "[527]\tvalidation_0-merror:0.10134\tvalidation_1-merror:0.00000\n",
      "[528]\tvalidation_0-merror:0.10070\tvalidation_1-merror:0.00000\n",
      "[529]\tvalidation_0-merror:0.10115\tvalidation_1-merror:0.00000\n",
      "[530]\tvalidation_0-merror:0.10115\tvalidation_1-merror:0.00000\n",
      "[531]\tvalidation_0-merror:0.10147\tvalidation_1-merror:0.00000\n",
      "[532]\tvalidation_0-merror:0.10128\tvalidation_1-merror:0.00000\n"
     ]
    },
    {
     "name": "stdout",
     "output_type": "stream",
     "text": [
      "[533]\tvalidation_0-merror:0.10095\tvalidation_1-merror:0.00000\n",
      "[534]\tvalidation_0-merror:0.10134\tvalidation_1-merror:0.00000\n",
      "[535]\tvalidation_0-merror:0.10134\tvalidation_1-merror:0.00000\n",
      "[536]\tvalidation_0-merror:0.10121\tvalidation_1-merror:0.00000\n",
      "[537]\tvalidation_0-merror:0.10134\tvalidation_1-merror:0.00000\n",
      "[538]\tvalidation_0-merror:0.10128\tvalidation_1-merror:0.00000\n",
      "[539]\tvalidation_0-merror:0.10134\tvalidation_1-merror:0.00000\n",
      "[540]\tvalidation_0-merror:0.10128\tvalidation_1-merror:0.00000\n",
      "[541]\tvalidation_0-merror:0.10121\tvalidation_1-merror:0.00000\n",
      "[542]\tvalidation_0-merror:0.10121\tvalidation_1-merror:0.00000\n",
      "[543]\tvalidation_0-merror:0.10121\tvalidation_1-merror:0.00000\n",
      "[544]\tvalidation_0-merror:0.10102\tvalidation_1-merror:0.00000\n",
      "[545]\tvalidation_0-merror:0.10095\tvalidation_1-merror:0.00000\n",
      "[546]\tvalidation_0-merror:0.10063\tvalidation_1-merror:0.00000\n",
      "[547]\tvalidation_0-merror:0.10095\tvalidation_1-merror:0.00000\n",
      "[548]\tvalidation_0-merror:0.10115\tvalidation_1-merror:0.00000\n",
      "[549]\tvalidation_0-merror:0.10089\tvalidation_1-merror:0.00000\n",
      "[550]\tvalidation_0-merror:0.10089\tvalidation_1-merror:0.00000\n",
      "[551]\tvalidation_0-merror:0.10095\tvalidation_1-merror:0.00000\n",
      "[552]\tvalidation_0-merror:0.10082\tvalidation_1-merror:0.00000\n",
      "[553]\tvalidation_0-merror:0.10108\tvalidation_1-merror:0.00000\n",
      "[554]\tvalidation_0-merror:0.10082\tvalidation_1-merror:0.00000\n",
      "[555]\tvalidation_0-merror:0.10095\tvalidation_1-merror:0.00000\n",
      "[556]\tvalidation_0-merror:0.10108\tvalidation_1-merror:0.00000\n",
      "[557]\tvalidation_0-merror:0.10095\tvalidation_1-merror:0.00000\n",
      "[558]\tvalidation_0-merror:0.10108\tvalidation_1-merror:0.00000\n",
      "[559]\tvalidation_0-merror:0.10102\tvalidation_1-merror:0.00000\n",
      "[560]\tvalidation_0-merror:0.10050\tvalidation_1-merror:0.00000\n",
      "[561]\tvalidation_0-merror:0.10082\tvalidation_1-merror:0.00000\n",
      "[562]\tvalidation_0-merror:0.10089\tvalidation_1-merror:0.00000\n",
      "[563]\tvalidation_0-merror:0.10076\tvalidation_1-merror:0.00000\n",
      "[564]\tvalidation_0-merror:0.10076\tvalidation_1-merror:0.00000\n",
      "[565]\tvalidation_0-merror:0.10076\tvalidation_1-merror:0.00000\n",
      "[566]\tvalidation_0-merror:0.10057\tvalidation_1-merror:0.00000\n",
      "[567]\tvalidation_0-merror:0.10037\tvalidation_1-merror:0.00000\n",
      "[568]\tvalidation_0-merror:0.10031\tvalidation_1-merror:0.00000\n",
      "[569]\tvalidation_0-merror:0.10031\tvalidation_1-merror:0.00000\n",
      "[570]\tvalidation_0-merror:0.10025\tvalidation_1-merror:0.00000\n",
      "[571]\tvalidation_0-merror:0.10037\tvalidation_1-merror:0.00000\n",
      "[572]\tvalidation_0-merror:0.10031\tvalidation_1-merror:0.00000\n",
      "[573]\tvalidation_0-merror:0.10037\tvalidation_1-merror:0.00000\n",
      "[574]\tvalidation_0-merror:0.10031\tvalidation_1-merror:0.00000\n",
      "[575]\tvalidation_0-merror:0.10031\tvalidation_1-merror:0.00000\n",
      "[576]\tvalidation_0-merror:0.10050\tvalidation_1-merror:0.00000\n",
      "[577]\tvalidation_0-merror:0.10063\tvalidation_1-merror:0.00000\n",
      "[578]\tvalidation_0-merror:0.10050\tvalidation_1-merror:0.00000\n",
      "[579]\tvalidation_0-merror:0.10070\tvalidation_1-merror:0.00000\n",
      "[580]\tvalidation_0-merror:0.10057\tvalidation_1-merror:0.00000\n",
      "[581]\tvalidation_0-merror:0.10063\tvalidation_1-merror:0.00000\n",
      "[582]\tvalidation_0-merror:0.10076\tvalidation_1-merror:0.00000\n",
      "[583]\tvalidation_0-merror:0.10076\tvalidation_1-merror:0.00000\n",
      "[584]\tvalidation_0-merror:0.10082\tvalidation_1-merror:0.00000\n",
      "[585]\tvalidation_0-merror:0.10057\tvalidation_1-merror:0.00000\n",
      "[586]\tvalidation_0-merror:0.10089\tvalidation_1-merror:0.00000\n",
      "[587]\tvalidation_0-merror:0.10115\tvalidation_1-merror:0.00000\n",
      "[588]\tvalidation_0-merror:0.10108\tvalidation_1-merror:0.00000\n",
      "[589]\tvalidation_0-merror:0.10134\tvalidation_1-merror:0.00000\n",
      "[590]\tvalidation_0-merror:0.10134\tvalidation_1-merror:0.00000\n",
      "[591]\tvalidation_0-merror:0.10108\tvalidation_1-merror:0.00000\n",
      "[592]\tvalidation_0-merror:0.10108\tvalidation_1-merror:0.00000\n",
      "[593]\tvalidation_0-merror:0.10102\tvalidation_1-merror:0.00000\n",
      "[594]\tvalidation_0-merror:0.10082\tvalidation_1-merror:0.00000\n",
      "[595]\tvalidation_0-merror:0.10089\tvalidation_1-merror:0.00000\n",
      "[596]\tvalidation_0-merror:0.10089\tvalidation_1-merror:0.00000\n",
      "[597]\tvalidation_0-merror:0.10102\tvalidation_1-merror:0.00000\n",
      "[598]\tvalidation_0-merror:0.10082\tvalidation_1-merror:0.00000\n",
      "[599]\tvalidation_0-merror:0.10082\tvalidation_1-merror:0.00000\n",
      "[600]\tvalidation_0-merror:0.10102\tvalidation_1-merror:0.00000\n",
      "[601]\tvalidation_0-merror:0.10102\tvalidation_1-merror:0.00000\n",
      "[602]\tvalidation_0-merror:0.10095\tvalidation_1-merror:0.00000\n",
      "[603]\tvalidation_0-merror:0.10121\tvalidation_1-merror:0.00000\n",
      "[604]\tvalidation_0-merror:0.10128\tvalidation_1-merror:0.00000\n"
     ]
    },
    {
     "ename": "KeyboardInterrupt",
     "evalue": "",
     "output_type": "error",
     "traceback": [
      "\u001b[1;31m---------------------------------------------------------------------------\u001b[0m",
      "\u001b[1;31mKeyboardInterrupt\u001b[0m                         Traceback (most recent call last)",
      "Input \u001b[1;32mIn [310]\u001b[0m, in \u001b[0;36m<cell line: 1>\u001b[1;34m()\u001b[0m\n\u001b[1;32m----> 1\u001b[0m bst \u001b[38;5;241m=\u001b[39m \u001b[43mmodel\u001b[49m\u001b[38;5;241;43m.\u001b[39;49m\u001b[43mfit\u001b[49m\u001b[43m(\u001b[49m\u001b[43mX_train\u001b[49m\u001b[43m,\u001b[49m\u001b[43m \u001b[49m\u001b[43my_train\u001b[49m\u001b[43m,\u001b[49m\u001b[43m \u001b[49m\n\u001b[0;32m      2\u001b[0m \u001b[43m                \u001b[49m\u001b[43meval_set\u001b[49m\u001b[38;5;241;43m=\u001b[39;49m\u001b[43m[\u001b[49m\u001b[43m(\u001b[49m\u001b[43mX_test\u001b[49m\u001b[43m,\u001b[49m\u001b[43m \u001b[49m\u001b[43my_test\u001b[49m\u001b[43m)\u001b[49m\u001b[43m,\u001b[49m\u001b[43m \u001b[49m\u001b[43m(\u001b[49m\u001b[43mX_train\u001b[49m\u001b[43m,\u001b[49m\u001b[43m \u001b[49m\u001b[43my_train\u001b[49m\u001b[43m)\u001b[49m\u001b[43m]\u001b[49m\u001b[43m,\u001b[49m\u001b[43m \u001b[49m\n\u001b[0;32m      3\u001b[0m \u001b[43m                \u001b[49m\u001b[43mearly_stopping_rounds\u001b[49m\u001b[38;5;241;43m=\u001b[39;49m\u001b[38;5;241;43m200\u001b[39;49m\u001b[43m,\u001b[49m\n\u001b[0;32m      4\u001b[0m \u001b[43m                \u001b[49m\u001b[43mverbose\u001b[49m\u001b[38;5;241;43m=\u001b[39;49m\u001b[38;5;28;43;01mTrue\u001b[39;49;00m\u001b[43m,\u001b[49m\u001b[43m \u001b[49m\n\u001b[0;32m      5\u001b[0m \u001b[43m                \u001b[49m\u001b[43msample_weight\u001b[49m\u001b[38;5;241;43m=\u001b[39;49m\u001b[43mclasses_weights\u001b[49m\n\u001b[0;32m      6\u001b[0m \u001b[43m               \u001b[49m\u001b[43m)\u001b[49m\n",
      "File \u001b[1;32md:\\python\\python38\\lib\\site-packages\\xgboost\\core.py:506\u001b[0m, in \u001b[0;36m_deprecate_positional_args.<locals>.inner_f\u001b[1;34m(*args, **kwargs)\u001b[0m\n\u001b[0;32m    504\u001b[0m \u001b[38;5;28;01mfor\u001b[39;00m k, arg \u001b[38;5;129;01min\u001b[39;00m \u001b[38;5;28mzip\u001b[39m(sig\u001b[38;5;241m.\u001b[39mparameters, args):\n\u001b[0;32m    505\u001b[0m     kwargs[k] \u001b[38;5;241m=\u001b[39m arg\n\u001b[1;32m--> 506\u001b[0m \u001b[38;5;28;01mreturn\u001b[39;00m \u001b[43mf\u001b[49m\u001b[43m(\u001b[49m\u001b[38;5;241;43m*\u001b[39;49m\u001b[38;5;241;43m*\u001b[39;49m\u001b[43mkwargs\u001b[49m\u001b[43m)\u001b[49m\n",
      "File \u001b[1;32md:\\python\\python38\\lib\\site-packages\\xgboost\\sklearn.py:1250\u001b[0m, in \u001b[0;36mXGBClassifier.fit\u001b[1;34m(self, X, y, sample_weight, base_margin, eval_set, eval_metric, early_stopping_rounds, verbose, xgb_model, sample_weight_eval_set, base_margin_eval_set, feature_weights, callbacks)\u001b[0m\n\u001b[0;32m   1230\u001b[0m model, feval, params \u001b[38;5;241m=\u001b[39m \u001b[38;5;28mself\u001b[39m\u001b[38;5;241m.\u001b[39m_configure_fit(xgb_model, eval_metric, params)\n\u001b[0;32m   1231\u001b[0m train_dmatrix, evals \u001b[38;5;241m=\u001b[39m _wrap_evaluation_matrices(\n\u001b[0;32m   1232\u001b[0m     missing\u001b[38;5;241m=\u001b[39m\u001b[38;5;28mself\u001b[39m\u001b[38;5;241m.\u001b[39mmissing,\n\u001b[0;32m   1233\u001b[0m     X\u001b[38;5;241m=\u001b[39mX,\n\u001b[1;32m   (...)\u001b[0m\n\u001b[0;32m   1247\u001b[0m     label_transform\u001b[38;5;241m=\u001b[39mlabel_transform,\n\u001b[0;32m   1248\u001b[0m )\n\u001b[1;32m-> 1250\u001b[0m \u001b[38;5;28mself\u001b[39m\u001b[38;5;241m.\u001b[39m_Booster \u001b[38;5;241m=\u001b[39m \u001b[43mtrain\u001b[49m\u001b[43m(\u001b[49m\n\u001b[0;32m   1251\u001b[0m \u001b[43m    \u001b[49m\u001b[43mparams\u001b[49m\u001b[43m,\u001b[49m\n\u001b[0;32m   1252\u001b[0m \u001b[43m    \u001b[49m\u001b[43mtrain_dmatrix\u001b[49m\u001b[43m,\u001b[49m\n\u001b[0;32m   1253\u001b[0m \u001b[43m    \u001b[49m\u001b[38;5;28;43mself\u001b[39;49m\u001b[38;5;241;43m.\u001b[39;49m\u001b[43mget_num_boosting_rounds\u001b[49m\u001b[43m(\u001b[49m\u001b[43m)\u001b[49m\u001b[43m,\u001b[49m\n\u001b[0;32m   1254\u001b[0m \u001b[43m    \u001b[49m\u001b[43mevals\u001b[49m\u001b[38;5;241;43m=\u001b[39;49m\u001b[43mevals\u001b[49m\u001b[43m,\u001b[49m\n\u001b[0;32m   1255\u001b[0m \u001b[43m    \u001b[49m\u001b[43mearly_stopping_rounds\u001b[49m\u001b[38;5;241;43m=\u001b[39;49m\u001b[43mearly_stopping_rounds\u001b[49m\u001b[43m,\u001b[49m\n\u001b[0;32m   1256\u001b[0m \u001b[43m    \u001b[49m\u001b[43mevals_result\u001b[49m\u001b[38;5;241;43m=\u001b[39;49m\u001b[43mevals_result\u001b[49m\u001b[43m,\u001b[49m\n\u001b[0;32m   1257\u001b[0m \u001b[43m    \u001b[49m\u001b[43mobj\u001b[49m\u001b[38;5;241;43m=\u001b[39;49m\u001b[43mobj\u001b[49m\u001b[43m,\u001b[49m\n\u001b[0;32m   1258\u001b[0m \u001b[43m    \u001b[49m\u001b[43mfeval\u001b[49m\u001b[38;5;241;43m=\u001b[39;49m\u001b[43mfeval\u001b[49m\u001b[43m,\u001b[49m\n\u001b[0;32m   1259\u001b[0m \u001b[43m    \u001b[49m\u001b[43mverbose_eval\u001b[49m\u001b[38;5;241;43m=\u001b[39;49m\u001b[43mverbose\u001b[49m\u001b[43m,\u001b[49m\n\u001b[0;32m   1260\u001b[0m \u001b[43m    \u001b[49m\u001b[43mxgb_model\u001b[49m\u001b[38;5;241;43m=\u001b[39;49m\u001b[43mmodel\u001b[49m\u001b[43m,\u001b[49m\n\u001b[0;32m   1261\u001b[0m \u001b[43m    \u001b[49m\u001b[43mcallbacks\u001b[49m\u001b[38;5;241;43m=\u001b[39;49m\u001b[43mcallbacks\u001b[49m\u001b[43m,\u001b[49m\n\u001b[0;32m   1262\u001b[0m \u001b[43m\u001b[49m\u001b[43m)\u001b[49m\n\u001b[0;32m   1264\u001b[0m \u001b[38;5;28;01mif\u001b[39;00m \u001b[38;5;129;01mnot\u001b[39;00m callable(\u001b[38;5;28mself\u001b[39m\u001b[38;5;241m.\u001b[39mobjective):\n\u001b[0;32m   1265\u001b[0m     \u001b[38;5;28mself\u001b[39m\u001b[38;5;241m.\u001b[39mobjective \u001b[38;5;241m=\u001b[39m params[\u001b[38;5;124m\"\u001b[39m\u001b[38;5;124mobjective\u001b[39m\u001b[38;5;124m\"\u001b[39m]\n",
      "File \u001b[1;32md:\\python\\python38\\lib\\site-packages\\xgboost\\training.py:188\u001b[0m, in \u001b[0;36mtrain\u001b[1;34m(params, dtrain, num_boost_round, evals, obj, feval, maximize, early_stopping_rounds, evals_result, verbose_eval, xgb_model, callbacks)\u001b[0m\n\u001b[0;32m    115\u001b[0m \u001b[38;5;28;01mdef\u001b[39;00m \u001b[38;5;21mtrain\u001b[39m(params, dtrain, num_boost_round\u001b[38;5;241m=\u001b[39m\u001b[38;5;241m10\u001b[39m, evals\u001b[38;5;241m=\u001b[39m(), obj\u001b[38;5;241m=\u001b[39m\u001b[38;5;28;01mNone\u001b[39;00m, feval\u001b[38;5;241m=\u001b[39m\u001b[38;5;28;01mNone\u001b[39;00m,\n\u001b[0;32m    116\u001b[0m           maximize\u001b[38;5;241m=\u001b[39m\u001b[38;5;28;01mNone\u001b[39;00m, early_stopping_rounds\u001b[38;5;241m=\u001b[39m\u001b[38;5;28;01mNone\u001b[39;00m, evals_result\u001b[38;5;241m=\u001b[39m\u001b[38;5;28;01mNone\u001b[39;00m,\n\u001b[0;32m    117\u001b[0m           verbose_eval\u001b[38;5;241m=\u001b[39m\u001b[38;5;28;01mTrue\u001b[39;00m, xgb_model\u001b[38;5;241m=\u001b[39m\u001b[38;5;28;01mNone\u001b[39;00m, callbacks\u001b[38;5;241m=\u001b[39m\u001b[38;5;28;01mNone\u001b[39;00m):\n\u001b[0;32m    118\u001b[0m     \u001b[38;5;66;03m# pylint: disable=too-many-statements,too-many-branches, attribute-defined-outside-init\u001b[39;00m\n\u001b[0;32m    119\u001b[0m     \u001b[38;5;124;03m\"\"\"Train a booster with given parameters.\u001b[39;00m\n\u001b[0;32m    120\u001b[0m \n\u001b[0;32m    121\u001b[0m \u001b[38;5;124;03m    Parameters\u001b[39;00m\n\u001b[1;32m   (...)\u001b[0m\n\u001b[0;32m    186\u001b[0m \u001b[38;5;124;03m    Booster : a trained booster model\u001b[39;00m\n\u001b[0;32m    187\u001b[0m \u001b[38;5;124;03m    \"\"\"\u001b[39;00m\n\u001b[1;32m--> 188\u001b[0m     bst \u001b[38;5;241m=\u001b[39m \u001b[43m_train_internal\u001b[49m\u001b[43m(\u001b[49m\u001b[43mparams\u001b[49m\u001b[43m,\u001b[49m\u001b[43m \u001b[49m\u001b[43mdtrain\u001b[49m\u001b[43m,\u001b[49m\n\u001b[0;32m    189\u001b[0m \u001b[43m                          \u001b[49m\u001b[43mnum_boost_round\u001b[49m\u001b[38;5;241;43m=\u001b[39;49m\u001b[43mnum_boost_round\u001b[49m\u001b[43m,\u001b[49m\n\u001b[0;32m    190\u001b[0m \u001b[43m                          \u001b[49m\u001b[43mevals\u001b[49m\u001b[38;5;241;43m=\u001b[39;49m\u001b[43mevals\u001b[49m\u001b[43m,\u001b[49m\n\u001b[0;32m    191\u001b[0m \u001b[43m                          \u001b[49m\u001b[43mobj\u001b[49m\u001b[38;5;241;43m=\u001b[39;49m\u001b[43mobj\u001b[49m\u001b[43m,\u001b[49m\u001b[43m \u001b[49m\u001b[43mfeval\u001b[49m\u001b[38;5;241;43m=\u001b[39;49m\u001b[43mfeval\u001b[49m\u001b[43m,\u001b[49m\n\u001b[0;32m    192\u001b[0m \u001b[43m                          \u001b[49m\u001b[43mxgb_model\u001b[49m\u001b[38;5;241;43m=\u001b[39;49m\u001b[43mxgb_model\u001b[49m\u001b[43m,\u001b[49m\u001b[43m \u001b[49m\u001b[43mcallbacks\u001b[49m\u001b[38;5;241;43m=\u001b[39;49m\u001b[43mcallbacks\u001b[49m\u001b[43m,\u001b[49m\n\u001b[0;32m    193\u001b[0m \u001b[43m                          \u001b[49m\u001b[43mverbose_eval\u001b[49m\u001b[38;5;241;43m=\u001b[39;49m\u001b[43mverbose_eval\u001b[49m\u001b[43m,\u001b[49m\n\u001b[0;32m    194\u001b[0m \u001b[43m                          \u001b[49m\u001b[43mevals_result\u001b[49m\u001b[38;5;241;43m=\u001b[39;49m\u001b[43mevals_result\u001b[49m\u001b[43m,\u001b[49m\n\u001b[0;32m    195\u001b[0m \u001b[43m                          \u001b[49m\u001b[43mmaximize\u001b[49m\u001b[38;5;241;43m=\u001b[39;49m\u001b[43mmaximize\u001b[49m\u001b[43m,\u001b[49m\n\u001b[0;32m    196\u001b[0m \u001b[43m                          \u001b[49m\u001b[43mearly_stopping_rounds\u001b[49m\u001b[38;5;241;43m=\u001b[39;49m\u001b[43mearly_stopping_rounds\u001b[49m\u001b[43m)\u001b[49m\n\u001b[0;32m    197\u001b[0m     \u001b[38;5;28;01mreturn\u001b[39;00m bst\n",
      "File \u001b[1;32md:\\python\\python38\\lib\\site-packages\\xgboost\\training.py:81\u001b[0m, in \u001b[0;36m_train_internal\u001b[1;34m(params, dtrain, num_boost_round, evals, obj, feval, xgb_model, callbacks, evals_result, maximize, verbose_eval, early_stopping_rounds)\u001b[0m\n\u001b[0;32m     79\u001b[0m \u001b[38;5;28;01mif\u001b[39;00m callbacks\u001b[38;5;241m.\u001b[39mbefore_iteration(bst, i, dtrain, evals):\n\u001b[0;32m     80\u001b[0m     \u001b[38;5;28;01mbreak\u001b[39;00m\n\u001b[1;32m---> 81\u001b[0m \u001b[43mbst\u001b[49m\u001b[38;5;241;43m.\u001b[39;49m\u001b[43mupdate\u001b[49m\u001b[43m(\u001b[49m\u001b[43mdtrain\u001b[49m\u001b[43m,\u001b[49m\u001b[43m \u001b[49m\u001b[43mi\u001b[49m\u001b[43m,\u001b[49m\u001b[43m \u001b[49m\u001b[43mobj\u001b[49m\u001b[43m)\u001b[49m\n\u001b[0;32m     82\u001b[0m \u001b[38;5;28;01mif\u001b[39;00m callbacks\u001b[38;5;241m.\u001b[39mafter_iteration(bst, i, dtrain, evals):\n\u001b[0;32m     83\u001b[0m     \u001b[38;5;28;01mbreak\u001b[39;00m\n",
      "File \u001b[1;32md:\\python\\python38\\lib\\site-packages\\xgboost\\core.py:1680\u001b[0m, in \u001b[0;36mBooster.update\u001b[1;34m(self, dtrain, iteration, fobj)\u001b[0m\n\u001b[0;32m   1677\u001b[0m \u001b[38;5;28mself\u001b[39m\u001b[38;5;241m.\u001b[39m_validate_features(dtrain)\n\u001b[0;32m   1679\u001b[0m \u001b[38;5;28;01mif\u001b[39;00m fobj \u001b[38;5;129;01mis\u001b[39;00m \u001b[38;5;28;01mNone\u001b[39;00m:\n\u001b[1;32m-> 1680\u001b[0m     _check_call(\u001b[43m_LIB\u001b[49m\u001b[38;5;241;43m.\u001b[39;49m\u001b[43mXGBoosterUpdateOneIter\u001b[49m\u001b[43m(\u001b[49m\u001b[38;5;28;43mself\u001b[39;49m\u001b[38;5;241;43m.\u001b[39;49m\u001b[43mhandle\u001b[49m\u001b[43m,\u001b[49m\n\u001b[0;32m   1681\u001b[0m \u001b[43m                                            \u001b[49m\u001b[43mctypes\u001b[49m\u001b[38;5;241;43m.\u001b[39;49m\u001b[43mc_int\u001b[49m\u001b[43m(\u001b[49m\u001b[43miteration\u001b[49m\u001b[43m)\u001b[49m\u001b[43m,\u001b[49m\n\u001b[0;32m   1682\u001b[0m \u001b[43m                                            \u001b[49m\u001b[43mdtrain\u001b[49m\u001b[38;5;241;43m.\u001b[39;49m\u001b[43mhandle\u001b[49m\u001b[43m)\u001b[49m)\n\u001b[0;32m   1683\u001b[0m \u001b[38;5;28;01melse\u001b[39;00m:\n\u001b[0;32m   1684\u001b[0m     pred \u001b[38;5;241m=\u001b[39m \u001b[38;5;28mself\u001b[39m\u001b[38;5;241m.\u001b[39mpredict(dtrain, output_margin\u001b[38;5;241m=\u001b[39m\u001b[38;5;28;01mTrue\u001b[39;00m, training\u001b[38;5;241m=\u001b[39m\u001b[38;5;28;01mTrue\u001b[39;00m)\n",
      "\u001b[1;31mKeyboardInterrupt\u001b[0m: "
     ]
    }
   ],
   "source": [
    "bst = model.fit(X_train, y_train, \n",
    "                eval_set=[(X_test, y_test), (X_train, y_train)], \n",
    "                early_stopping_rounds=200,\n",
    "                verbose=True, \n",
    "                sample_weight=classes_weights\n",
    "               ) # Maybe remove weight"
   ]
  },
  {
   "cell_type": "code",
   "execution_count": 23,
   "id": "140ac6e1",
   "metadata": {},
   "outputs": [],
   "source": [
    "bst.save_model('combined_xgboost.json')"
   ]
  },
  {
   "cell_type": "code",
   "execution_count": null,
   "id": "7a5f721f",
   "metadata": {},
   "outputs": [],
   "source": []
  },
  {
   "cell_type": "code",
   "execution_count": null,
   "id": "8958208d",
   "metadata": {},
   "outputs": [],
   "source": []
  },
  {
   "cell_type": "code",
   "execution_count": 297,
   "id": "72fb8add",
   "metadata": {
    "scrolled": true
   },
   "outputs": [
    {
     "data": {
      "text/plain": [
       "[]"
      ]
     },
     "execution_count": 297,
     "metadata": {},
     "output_type": "execute_result"
    },
    {
     "data": {
      "image/png": "[encoded data removed]",
      "text/plain": [
       "<Figure size 432x288 with 1 Axes>"
      ]
     },
     "metadata": {
      "needs_background": "light"
     },
     "output_type": "display_data"
    }
   ],
   "source": [
    "errors_test = bst.evals_result()['validation_0']['merror']\n",
    "plt.plot(range(len(errors_test)), errors_test, label='test')\n",
    "errors_train = bst.evals_result()['validation_1']['merror']\n",
    "plt.plot(range(len(errors_train)), errors_train, label='train')\n",
    "plt.title('Error rate')\n",
    "plt.legend()\n",
    "plt.plot()"
   ]
  },
  {
   "cell_type": "code",
   "execution_count": 298,
   "id": "375859cc",
   "metadata": {},
   "outputs": [
    {
     "data": {
      "text/plain": [
       "[]"
      ]
     },
     "execution_count": 298,
     "metadata": {},
     "output_type": "execute_result"
    },
    {
     "data": {
      "image/png": "[encoded data removed]",
      "text/plain": [
       "<Figure size 432x288 with 1 Axes>"
      ]
     },
     "metadata": {
      "needs_background": "light"
     },
     "output_type": "display_data"
    }
   ],
   "source": [
    "errors_test = bst.evals_result()['validation_0']['auc']\n",
    "plt.plot(range(len(errors_test)), errors_test, label='test')\n",
    "errors_train = bst.evals_result()['validation_1']['auc']\n",
    "plt.plot(range(len(errors_train)), errors_train, label='train')\n",
    "plt.title('AUC')\n",
    "plt.legend()\n",
    "plt.plot()"
   ]
  },
  {
   "cell_type": "code",
   "execution_count": 139,
   "id": "f49f47f4",
   "metadata": {},
   "outputs": [],
   "source": [
    "cross_val_model = XGBClassifier(use_label_encoder=False, \n",
    "                      max_depth=7, \n",
    "                      reg_alpha=0, \n",
    "                      min_child_weight=0, \n",
    "                      reg_lambda=1,\n",
    "                      eta=0.1,\n",
    "                      subsample=1, # 1 normally\n",
    "                      colsample_bytree=1, # 1 normally\n",
    "                      tree_method='hist', # exact is more precies, but this is much faster\n",
    "                      eval_metric=['merror', 'auc'],\n",
    "                      objective='multi:softprob',\n",
    "                      n_estimators=1000)"
   ]
  },
  {
   "cell_type": "code",
   "execution_count": 140,
   "id": "5dcfa811",
   "metadata": {},
   "outputs": [
    {
     "ename": "KeyboardInterrupt",
     "evalue": "",
     "output_type": "error",
     "traceback": [
      "\u001b[1;31m---------------------------------------------------------------------------\u001b[0m",
      "\u001b[1;31mKeyboardInterrupt\u001b[0m                         Traceback (most recent call last)",
      "Input \u001b[1;32mIn [140]\u001b[0m, in \u001b[0;36m<cell line: 1>\u001b[1;34m()\u001b[0m\n\u001b[1;32m----> 1\u001b[0m cv_score_xgb \u001b[38;5;241m=\u001b[39m \u001b[43mcross_val_score\u001b[49m\u001b[43m(\u001b[49m\u001b[43mcross_val_model\u001b[49m\u001b[43m,\u001b[49m\u001b[43m \u001b[49m\u001b[43mX_train\u001b[49m\u001b[43m,\u001b[49m\u001b[43m \u001b[49m\u001b[43my_train\u001b[49m\u001b[43m,\u001b[49m\u001b[43m \u001b[49m\u001b[43mcv\u001b[49m\u001b[38;5;241;43m=\u001b[39;49m\u001b[38;5;241;43m8\u001b[39;49m\u001b[43m,\u001b[49m\u001b[43m \u001b[49m\u001b[43mn_jobs\u001b[49m\u001b[38;5;241;43m=\u001b[39;49m\u001b[38;5;241;43m-\u001b[39;49m\u001b[38;5;241;43m1\u001b[39;49m\u001b[43m,\u001b[49m\u001b[43m \u001b[49m\u001b[43mscoring\u001b[49m\u001b[38;5;241;43m=\u001b[39;49m\u001b[38;5;124;43m\"\u001b[39;49m\u001b[38;5;124;43maccuracy\u001b[39;49m\u001b[38;5;124;43m\"\u001b[39;49m\u001b[43m)\u001b[49m\n",
      "File \u001b[1;32md:\\python\\python38\\lib\\site-packages\\sklearn\\model_selection\\_validation.py:509\u001b[0m, in \u001b[0;36mcross_val_score\u001b[1;34m(estimator, X, y, groups, scoring, cv, n_jobs, verbose, fit_params, pre_dispatch, error_score)\u001b[0m\n\u001b[0;32m    506\u001b[0m \u001b[38;5;66;03m# To ensure multimetric format is not supported\u001b[39;00m\n\u001b[0;32m    507\u001b[0m scorer \u001b[38;5;241m=\u001b[39m check_scoring(estimator, scoring\u001b[38;5;241m=\u001b[39mscoring)\n\u001b[1;32m--> 509\u001b[0m cv_results \u001b[38;5;241m=\u001b[39m \u001b[43mcross_validate\u001b[49m\u001b[43m(\u001b[49m\n\u001b[0;32m    510\u001b[0m \u001b[43m    \u001b[49m\u001b[43mestimator\u001b[49m\u001b[38;5;241;43m=\u001b[39;49m\u001b[43mestimator\u001b[49m\u001b[43m,\u001b[49m\n\u001b[0;32m    511\u001b[0m \u001b[43m    \u001b[49m\u001b[43mX\u001b[49m\u001b[38;5;241;43m=\u001b[39;49m\u001b[43mX\u001b[49m\u001b[43m,\u001b[49m\n\u001b[0;32m    512\u001b[0m \u001b[43m    \u001b[49m\u001b[43my\u001b[49m\u001b[38;5;241;43m=\u001b[39;49m\u001b[43my\u001b[49m\u001b[43m,\u001b[49m\n\u001b[0;32m    513\u001b[0m \u001b[43m    \u001b[49m\u001b[43mgroups\u001b[49m\u001b[38;5;241;43m=\u001b[39;49m\u001b[43mgroups\u001b[49m\u001b[43m,\u001b[49m\n\u001b[0;32m    514\u001b[0m \u001b[43m    \u001b[49m\u001b[43mscoring\u001b[49m\u001b[38;5;241;43m=\u001b[39;49m\u001b[43m{\u001b[49m\u001b[38;5;124;43m\"\u001b[39;49m\u001b[38;5;124;43mscore\u001b[39;49m\u001b[38;5;124;43m\"\u001b[39;49m\u001b[43m:\u001b[49m\u001b[43m \u001b[49m\u001b[43mscorer\u001b[49m\u001b[43m}\u001b[49m\u001b[43m,\u001b[49m\n\u001b[0;32m    515\u001b[0m \u001b[43m    \u001b[49m\u001b[43mcv\u001b[49m\u001b[38;5;241;43m=\u001b[39;49m\u001b[43mcv\u001b[49m\u001b[43m,\u001b[49m\n\u001b[0;32m    516\u001b[0m \u001b[43m    \u001b[49m\u001b[43mn_jobs\u001b[49m\u001b[38;5;241;43m=\u001b[39;49m\u001b[43mn_jobs\u001b[49m\u001b[43m,\u001b[49m\n\u001b[0;32m    517\u001b[0m \u001b[43m    \u001b[49m\u001b[43mverbose\u001b[49m\u001b[38;5;241;43m=\u001b[39;49m\u001b[43mverbose\u001b[49m\u001b[43m,\u001b[49m\n\u001b[0;32m    518\u001b[0m \u001b[43m    \u001b[49m\u001b[43mfit_params\u001b[49m\u001b[38;5;241;43m=\u001b[39;49m\u001b[43mfit_params\u001b[49m\u001b[43m,\u001b[49m\n\u001b[0;32m    519\u001b[0m \u001b[43m    \u001b[49m\u001b[43mpre_dispatch\u001b[49m\u001b[38;5;241;43m=\u001b[39;49m\u001b[43mpre_dispatch\u001b[49m\u001b[43m,\u001b[49m\n\u001b[0;32m    520\u001b[0m \u001b[43m    \u001b[49m\u001b[43merror_score\u001b[49m\u001b[38;5;241;43m=\u001b[39;49m\u001b[43merror_score\u001b[49m\u001b[43m,\u001b[49m\n\u001b[0;32m    521\u001b[0m \u001b[43m\u001b[49m\u001b[43m)\u001b[49m\n\u001b[0;32m    522\u001b[0m \u001b[38;5;28;01mreturn\u001b[39;00m cv_results[\u001b[38;5;124m\"\u001b[39m\u001b[38;5;124mtest_score\u001b[39m\u001b[38;5;124m\"\u001b[39m]\n",
      "File \u001b[1;32md:\\python\\python38\\lib\\site-packages\\sklearn\\model_selection\\_validation.py:267\u001b[0m, in \u001b[0;36mcross_validate\u001b[1;34m(estimator, X, y, groups, scoring, cv, n_jobs, verbose, fit_params, pre_dispatch, return_train_score, return_estimator, error_score)\u001b[0m\n\u001b[0;32m    264\u001b[0m \u001b[38;5;66;03m# We clone the estimator to make sure that all the folds are\u001b[39;00m\n\u001b[0;32m    265\u001b[0m \u001b[38;5;66;03m# independent, and that it is pickle-able.\u001b[39;00m\n\u001b[0;32m    266\u001b[0m parallel \u001b[38;5;241m=\u001b[39m Parallel(n_jobs\u001b[38;5;241m=\u001b[39mn_jobs, verbose\u001b[38;5;241m=\u001b[39mverbose, pre_dispatch\u001b[38;5;241m=\u001b[39mpre_dispatch)\n\u001b[1;32m--> 267\u001b[0m results \u001b[38;5;241m=\u001b[39m \u001b[43mparallel\u001b[49m\u001b[43m(\u001b[49m\n\u001b[0;32m    268\u001b[0m \u001b[43m    \u001b[49m\u001b[43mdelayed\u001b[49m\u001b[43m(\u001b[49m\u001b[43m_fit_and_score\u001b[49m\u001b[43m)\u001b[49m\u001b[43m(\u001b[49m\n\u001b[0;32m    269\u001b[0m \u001b[43m        \u001b[49m\u001b[43mclone\u001b[49m\u001b[43m(\u001b[49m\u001b[43mestimator\u001b[49m\u001b[43m)\u001b[49m\u001b[43m,\u001b[49m\n\u001b[0;32m    270\u001b[0m \u001b[43m        \u001b[49m\u001b[43mX\u001b[49m\u001b[43m,\u001b[49m\n\u001b[0;32m    271\u001b[0m \u001b[43m        \u001b[49m\u001b[43my\u001b[49m\u001b[43m,\u001b[49m\n\u001b[0;32m    272\u001b[0m \u001b[43m        \u001b[49m\u001b[43mscorers\u001b[49m\u001b[43m,\u001b[49m\n\u001b[0;32m    273\u001b[0m \u001b[43m        \u001b[49m\u001b[43mtrain\u001b[49m\u001b[43m,\u001b[49m\n\u001b[0;32m    274\u001b[0m \u001b[43m        \u001b[49m\u001b[43mtest\u001b[49m\u001b[43m,\u001b[49m\n\u001b[0;32m    275\u001b[0m \u001b[43m        \u001b[49m\u001b[43mverbose\u001b[49m\u001b[43m,\u001b[49m\n\u001b[0;32m    276\u001b[0m \u001b[43m        \u001b[49m\u001b[38;5;28;43;01mNone\u001b[39;49;00m\u001b[43m,\u001b[49m\n\u001b[0;32m    277\u001b[0m \u001b[43m        \u001b[49m\u001b[43mfit_params\u001b[49m\u001b[43m,\u001b[49m\n\u001b[0;32m    278\u001b[0m \u001b[43m        \u001b[49m\u001b[43mreturn_train_score\u001b[49m\u001b[38;5;241;43m=\u001b[39;49m\u001b[43mreturn_train_score\u001b[49m\u001b[43m,\u001b[49m\n\u001b[0;32m    279\u001b[0m \u001b[43m        \u001b[49m\u001b[43mreturn_times\u001b[49m\u001b[38;5;241;43m=\u001b[39;49m\u001b[38;5;28;43;01mTrue\u001b[39;49;00m\u001b[43m,\u001b[49m\n\u001b[0;32m    280\u001b[0m \u001b[43m        \u001b[49m\u001b[43mreturn_estimator\u001b[49m\u001b[38;5;241;43m=\u001b[39;49m\u001b[43mreturn_estimator\u001b[49m\u001b[43m,\u001b[49m\n\u001b[0;32m    281\u001b[0m \u001b[43m        \u001b[49m\u001b[43merror_score\u001b[49m\u001b[38;5;241;43m=\u001b[39;49m\u001b[43merror_score\u001b[49m\u001b[43m,\u001b[49m\n\u001b[0;32m    282\u001b[0m \u001b[43m    \u001b[49m\u001b[43m)\u001b[49m\n\u001b[0;32m    283\u001b[0m \u001b[43m    \u001b[49m\u001b[38;5;28;43;01mfor\u001b[39;49;00m\u001b[43m \u001b[49m\u001b[43mtrain\u001b[49m\u001b[43m,\u001b[49m\u001b[43m \u001b[49m\u001b[43mtest\u001b[49m\u001b[43m \u001b[49m\u001b[38;5;129;43;01min\u001b[39;49;00m\u001b[43m \u001b[49m\u001b[43mcv\u001b[49m\u001b[38;5;241;43m.\u001b[39;49m\u001b[43msplit\u001b[49m\u001b[43m(\u001b[49m\u001b[43mX\u001b[49m\u001b[43m,\u001b[49m\u001b[43m \u001b[49m\u001b[43my\u001b[49m\u001b[43m,\u001b[49m\u001b[43m \u001b[49m\u001b[43mgroups\u001b[49m\u001b[43m)\u001b[49m\n\u001b[0;32m    284\u001b[0m \u001b[43m\u001b[49m\u001b[43m)\u001b[49m\n\u001b[0;32m    286\u001b[0m _warn_about_fit_failures(results, error_score)\n\u001b[0;32m    288\u001b[0m \u001b[38;5;66;03m# For callabe scoring, the return type is only know after calling. If the\u001b[39;00m\n\u001b[0;32m    289\u001b[0m \u001b[38;5;66;03m# return type is a dictionary, the error scores can now be inserted with\u001b[39;00m\n\u001b[0;32m    290\u001b[0m \u001b[38;5;66;03m# the correct key.\u001b[39;00m\n",
      "File \u001b[1;32md:\\python\\python38\\lib\\site-packages\\joblib\\parallel.py:1056\u001b[0m, in \u001b[0;36mParallel.__call__\u001b[1;34m(self, iterable)\u001b[0m\n\u001b[0;32m   1053\u001b[0m     \u001b[38;5;28mself\u001b[39m\u001b[38;5;241m.\u001b[39m_iterating \u001b[38;5;241m=\u001b[39m \u001b[38;5;28;01mFalse\u001b[39;00m\n\u001b[0;32m   1055\u001b[0m \u001b[38;5;28;01mwith\u001b[39;00m \u001b[38;5;28mself\u001b[39m\u001b[38;5;241m.\u001b[39m_backend\u001b[38;5;241m.\u001b[39mretrieval_context():\n\u001b[1;32m-> 1056\u001b[0m     \u001b[38;5;28;43mself\u001b[39;49m\u001b[38;5;241;43m.\u001b[39;49m\u001b[43mretrieve\u001b[49m\u001b[43m(\u001b[49m\u001b[43m)\u001b[49m\n\u001b[0;32m   1057\u001b[0m \u001b[38;5;66;03m# Make sure that we get a last message telling us we are done\u001b[39;00m\n\u001b[0;32m   1058\u001b[0m elapsed_time \u001b[38;5;241m=\u001b[39m time\u001b[38;5;241m.\u001b[39mtime() \u001b[38;5;241m-\u001b[39m \u001b[38;5;28mself\u001b[39m\u001b[38;5;241m.\u001b[39m_start_time\n",
      "File \u001b[1;32md:\\python\\python38\\lib\\site-packages\\joblib\\parallel.py:935\u001b[0m, in \u001b[0;36mParallel.retrieve\u001b[1;34m(self)\u001b[0m\n\u001b[0;32m    933\u001b[0m \u001b[38;5;28;01mtry\u001b[39;00m:\n\u001b[0;32m    934\u001b[0m     \u001b[38;5;28;01mif\u001b[39;00m \u001b[38;5;28mgetattr\u001b[39m(\u001b[38;5;28mself\u001b[39m\u001b[38;5;241m.\u001b[39m_backend, \u001b[38;5;124m'\u001b[39m\u001b[38;5;124msupports_timeout\u001b[39m\u001b[38;5;124m'\u001b[39m, \u001b[38;5;28;01mFalse\u001b[39;00m):\n\u001b[1;32m--> 935\u001b[0m         \u001b[38;5;28mself\u001b[39m\u001b[38;5;241m.\u001b[39m_output\u001b[38;5;241m.\u001b[39mextend(\u001b[43mjob\u001b[49m\u001b[38;5;241;43m.\u001b[39;49m\u001b[43mget\u001b[49m\u001b[43m(\u001b[49m\u001b[43mtimeout\u001b[49m\u001b[38;5;241;43m=\u001b[39;49m\u001b[38;5;28;43mself\u001b[39;49m\u001b[38;5;241;43m.\u001b[39;49m\u001b[43mtimeout\u001b[49m\u001b[43m)\u001b[49m)\n\u001b[0;32m    936\u001b[0m     \u001b[38;5;28;01melse\u001b[39;00m:\n\u001b[0;32m    937\u001b[0m         \u001b[38;5;28mself\u001b[39m\u001b[38;5;241m.\u001b[39m_output\u001b[38;5;241m.\u001b[39mextend(job\u001b[38;5;241m.\u001b[39mget())\n",
      "File \u001b[1;32md:\\python\\python38\\lib\\site-packages\\joblib\\_parallel_backends.py:542\u001b[0m, in \u001b[0;36mLokyBackend.wrap_future_result\u001b[1;34m(future, timeout)\u001b[0m\n\u001b[0;32m    539\u001b[0m \u001b[38;5;124;03m\"\"\"Wrapper for Future.result to implement the same behaviour as\u001b[39;00m\n\u001b[0;32m    540\u001b[0m \u001b[38;5;124;03mAsyncResults.get from multiprocessing.\"\"\"\u001b[39;00m\n\u001b[0;32m    541\u001b[0m \u001b[38;5;28;01mtry\u001b[39;00m:\n\u001b[1;32m--> 542\u001b[0m     \u001b[38;5;28;01mreturn\u001b[39;00m \u001b[43mfuture\u001b[49m\u001b[38;5;241;43m.\u001b[39;49m\u001b[43mresult\u001b[49m\u001b[43m(\u001b[49m\u001b[43mtimeout\u001b[49m\u001b[38;5;241;43m=\u001b[39;49m\u001b[43mtimeout\u001b[49m\u001b[43m)\u001b[49m\n\u001b[0;32m    543\u001b[0m \u001b[38;5;28;01mexcept\u001b[39;00m CfTimeoutError \u001b[38;5;28;01mas\u001b[39;00m e:\n\u001b[0;32m    544\u001b[0m     \u001b[38;5;28;01mraise\u001b[39;00m \u001b[38;5;167;01mTimeoutError\u001b[39;00m \u001b[38;5;28;01mfrom\u001b[39;00m \u001b[38;5;21;01me\u001b[39;00m\n",
      "File \u001b[1;32md:\\python\\python38\\lib\\concurrent\\futures\\_base.py:434\u001b[0m, in \u001b[0;36mFuture.result\u001b[1;34m(self, timeout)\u001b[0m\n\u001b[0;32m    431\u001b[0m \u001b[38;5;28;01melif\u001b[39;00m \u001b[38;5;28mself\u001b[39m\u001b[38;5;241m.\u001b[39m_state \u001b[38;5;241m==\u001b[39m FINISHED:\n\u001b[0;32m    432\u001b[0m     \u001b[38;5;28;01mreturn\u001b[39;00m \u001b[38;5;28mself\u001b[39m\u001b[38;5;241m.\u001b[39m__get_result()\n\u001b[1;32m--> 434\u001b[0m \u001b[38;5;28;43mself\u001b[39;49m\u001b[38;5;241;43m.\u001b[39;49m\u001b[43m_condition\u001b[49m\u001b[38;5;241;43m.\u001b[39;49m\u001b[43mwait\u001b[49m\u001b[43m(\u001b[49m\u001b[43mtimeout\u001b[49m\u001b[43m)\u001b[49m\n\u001b[0;32m    436\u001b[0m \u001b[38;5;28;01mif\u001b[39;00m \u001b[38;5;28mself\u001b[39m\u001b[38;5;241m.\u001b[39m_state \u001b[38;5;129;01min\u001b[39;00m [CANCELLED, CANCELLED_AND_NOTIFIED]:\n\u001b[0;32m    437\u001b[0m     \u001b[38;5;28;01mraise\u001b[39;00m CancelledError()\n",
      "File \u001b[1;32md:\\python\\python38\\lib\\threading.py:302\u001b[0m, in \u001b[0;36mCondition.wait\u001b[1;34m(self, timeout)\u001b[0m\n\u001b[0;32m    300\u001b[0m \u001b[38;5;28;01mtry\u001b[39;00m:    \u001b[38;5;66;03m# restore state no matter what (e.g., KeyboardInterrupt)\u001b[39;00m\n\u001b[0;32m    301\u001b[0m     \u001b[38;5;28;01mif\u001b[39;00m timeout \u001b[38;5;129;01mis\u001b[39;00m \u001b[38;5;28;01mNone\u001b[39;00m:\n\u001b[1;32m--> 302\u001b[0m         \u001b[43mwaiter\u001b[49m\u001b[38;5;241;43m.\u001b[39;49m\u001b[43macquire\u001b[49m\u001b[43m(\u001b[49m\u001b[43m)\u001b[49m\n\u001b[0;32m    303\u001b[0m         gotit \u001b[38;5;241m=\u001b[39m \u001b[38;5;28;01mTrue\u001b[39;00m\n\u001b[0;32m    304\u001b[0m     \u001b[38;5;28;01melse\u001b[39;00m:\n",
      "\u001b[1;31mKeyboardInterrupt\u001b[0m: "
     ]
    }
   ],
   "source": [
    "cv_score_xgb = cross_val_score(cross_val_model, X_train, y_train, cv=8, n_jobs=-1, scoring=\"accuracy\")"
   ]
  },
  {
   "cell_type": "code",
   "execution_count": null,
   "id": "19322b8a",
   "metadata": {},
   "outputs": [],
   "source": [
    "print(\"Cross-validated Accuracy:\", round(np.mean(cv_score_xgb), 5), \"±\", round(np.std(cv_score_xgb), 5))"
   ]
  },
  {
   "cell_type": "code",
   "execution_count": 299,
   "id": "86581b58",
   "metadata": {},
   "outputs": [
    {
     "name": "stdout",
     "output_type": "stream",
     "text": [
      "                                                      precision    recall  f1-score   support\n",
      "\n",
      "      jet-mode radio AGN/low-excitation radio galaxy     0.8342    0.8346    0.8344      2581\n",
      "quasar-like radio AGN / high-excitation radio galaxy     0.5829    0.4037    0.4770       270\n",
      "                                     radio-quiet AGN     0.7321    0.7861    0.7582      1356\n",
      "                                 star-forming galaxy     0.9414    0.9399    0.9407     11315\n",
      "\n",
      "                                            accuracy                         0.8996     15522\n",
      "                                           macro avg     0.7727    0.7411    0.7526     15522\n",
      "                                        weighted avg     0.8991    0.8996    0.8990     15522\n",
      "\n"
     ]
    }
   ],
   "source": [
    "y_pred = model.predict(X_test)\n",
    "print(classification_report(y_test, y_pred, target_names=labels, digits=4))"
   ]
  },
  {
   "cell_type": "code",
   "execution_count": null,
   "id": "0a663454",
   "metadata": {},
   "outputs": [],
   "source": []
  },
  {
   "cell_type": "code",
   "execution_count": 300,
   "id": "7d8375e7",
   "metadata": {},
   "outputs": [
    {
     "data": {
      "text/plain": [
       "[]"
      ]
     },
     "execution_count": 300,
     "metadata": {},
     "output_type": "execute_result"
    },
    {
     "data": {
      "image/png": "[encoded data removed]",
      "text/plain": [
       "<Figure size 432x288 with 2 Axes>"
      ]
     },
     "metadata": {
      "needs_background": "light"
     },
     "output_type": "display_data"
    }
   ],
   "source": [
    "cm = confusion_matrix(y_test, y_pred, normalize='true')\n",
    "disp = ConfusionMatrixDisplay(confusion_matrix=cm, display_labels=labels)\n",
    "disp.plot()\n",
    "plt.xticks(rotation = 90)\n",
    "plt.plot()"
   ]
  },
  {
   "cell_type": "code",
   "execution_count": 116,
   "id": "e7bb9df5",
   "metadata": {},
   "outputs": [
    {
     "data": {
      "text/plain": [
       "<AxesSubplot:title={'center':'Feature importance'}, xlabel='F score', ylabel='Features'>"
      ]
     },
     "execution_count": 116,
     "metadata": {},
     "output_type": "execute_result"
    },
    {
     "data": {
      "image/png": "[encoded data removed]",
      "text/plain": [
       "<Figure size 720x720 with 1 Axes>"
      ]
     },
     "metadata": {
      "needs_background": "light"
     },
     "output_type": "display_data"
    }
   ],
   "source": [
    "fig, ax = plt.subplots(figsize=(10,10))\n",
    "xgb.plot_importance(model, ax=ax)"
   ]
  },
  {
   "cell_type": "markdown",
   "id": "0d5ad516",
   "metadata": {},
   "source": [
    "## Flag marking"
   ]
  },
  {
   "cell_type": "code",
   "execution_count": 189,
   "id": "6d5f62cc",
   "metadata": {},
   "outputs": [
    {
     "name": "stderr",
     "output_type": "stream",
     "text": [
      "d:\\python\\python38\\lib\\site-packages\\xgboost\\data.py:262: FutureWarning: pandas.Int64Index is deprecated and will be removed from pandas in a future version. Use pandas.Index with the appropriate dtype instead.\n",
      "  elif isinstance(data.columns, (pd.Int64Index, pd.RangeIndex)):\n"
     ]
    }
   ],
   "source": [
    "y_pred = model.predict(X_test)\n",
    "y_pred = pd.DataFrame(y_pred, index=X_test.index, columns=['Prediction'])"
   ]
  },
  {
   "cell_type": "code",
   "execution_count": null,
   "id": "90f8c511",
   "metadata": {},
   "outputs": [],
   "source": []
  },
  {
   "cell_type": "code",
   "execution_count": 228,
   "id": "bc994eea",
   "metadata": {},
   "outputs": [],
   "source": [
    "Xray_all = []\n",
    "opt_spec_all = []\n",
    "ext_radio_all = []\n",
    "for j in range(4):\n",
    "    for i in range(4):\n",
    "        # Finding pandas dataframes for the squares in the confusion matrix\n",
    "        cm_square = y_pred[(y_test['Classification']==j) & (y_pred['Prediction']==i)]\n",
    "        flags = y_test_flags.loc[cm_square.index]\n",
    "\n",
    "        # Finding frequencies of flags\n",
    "        Xray_freq = sum(flags['Xray'])/len(flags['Xray'])\n",
    "        opt_spec_freq = sum(flags['Opt_spec'])/len(flags['Opt_spec'])\n",
    "        ext_radio_freq = sum(flags['Extended_radio'])/len(flags['Extended_radio'])\n",
    "\n",
    "        Xray_all.append(Xray_freq)\n",
    "        opt_spec_all.append(opt_spec_freq)\n",
    "        ext_radio_all.append(ext_radio_freq)"
   ]
  },
  {
   "cell_type": "code",
   "execution_count": 263,
   "id": "c534058a",
   "metadata": {},
   "outputs": [
    {
     "data": {
      "text/plain": [
       "[0.0, 0.0, 0.0, 0.0]"
      ]
     },
     "execution_count": 263,
     "metadata": {},
     "output_type": "execute_result"
    }
   ],
   "source": [
    "ext_radio_all[12:16]"
   ]
  },
  {
   "cell_type": "code",
   "execution_count": 261,
   "id": "8d76fc48",
   "metadata": {},
   "outputs": [
    {
     "data": {
      "image/png": "[encoded data removed]",
      "text/plain": [
       "<Figure size 720x1440 with 4 Axes>"
      ]
     },
     "metadata": {
      "needs_background": "light"
     },
     "output_type": "display_data"
    }
   ],
   "source": [
    "x = np.arange(0,16,4)\n",
    "fig, axes = plt.subplots(4, 1, figsize=(10,20))\n",
    "for i, ax in enumerate(axes):\n",
    "    i0 = i*4\n",
    "    i1 = (i+1)*4\n",
    "    \n",
    "    ax.bar(x, Xray_all[i0:i1], label='X-ray')\n",
    "    # For setting the tick labels\n",
    "    if i==3:\n",
    "        ax.bar(x+1, opt_spec_all[i0:i1], label='Opt_spec', tick_label=labels)\n",
    "    else:\n",
    "        ax.bar(x+1, opt_spec_all[i0:i1], label='Opt_spec')\n",
    "        ax.get_xaxis().set_visible(False)\n",
    "    ax.bar(x+2, ext_radio_all[i0:i1], label='Extended radio')\n",
    "    ax.tick_params(axis='x', labelrotation = 90)\n",
    "    ax.set_title(f'Flags for the classification of {labels[i]}')\n",
    "    ax.legend()\n",
    "plt.tight_layout()\n",
    "fig.savefig('Flags.png')"
   ]
  },
  {
   "cell_type": "markdown",
   "id": "1bfb9a33",
   "metadata": {},
   "source": [
    "# Adaboost"
   ]
  },
  {
   "cell_type": "code",
   "execution_count": 197,
   "id": "619dbf6f",
   "metadata": {},
   "outputs": [],
   "source": [
    "from sklearn.ensemble import AdaBoostClassifier"
   ]
  },
  {
   "cell_type": "code",
   "execution_count": 207,
   "id": "e54586b1",
   "metadata": {},
   "outputs": [],
   "source": [
    "ada = AdaBoostClassifier(n_estimators=50, learning_rate=0.3, random_state=42)"
   ]
  },
  {
   "cell_type": "code",
   "execution_count": 208,
   "id": "04a9394c",
   "metadata": {},
   "outputs": [
    {
     "data": {
      "text/html": [
       "<style>#sk-container-id-13 {color: black;background-color: white;}#sk-container-id-13 pre{padding: 0;}#sk-container-id-13 div.sk-toggleable {background-color: white;}#sk-container-id-13 label.sk-toggleable__label {cursor: pointer;display: block;width: 100%;margin-bottom: 0;padding: 0.3em;box-sizing: border-box;text-align: center;}#sk-container-id-13 label.sk-toggleable__label-arrow:before {content: \"▸\";float: left;margin-right: 0.25em;color: #696969;}#sk-container-id-13 label.sk-toggleable__label-arrow:hover:before {color: black;}#sk-container-id-13 div.sk-estimator:hover label.sk-toggleable__label-arrow:before {color: black;}#sk-container-id-13 div.sk-toggleable__content {max-height: 0;max-width: 0;overflow: hidden;text-align: left;background-color: #f0f8ff;}#sk-container-id-13 div.sk-toggleable__content pre {margin: 0.2em;color: black;border-radius: 0.25em;background-color: #f0f8ff;}#sk-container-id-13 input.sk-toggleable__control:checked~div.sk-toggleable__content {max-height: 200px;max-width: 100%;overflow: auto;}#sk-container-id-13 input.sk-toggleable__control:checked~label.sk-toggleable__label-arrow:before {content: \"▾\";}#sk-container-id-13 div.sk-estimator input.sk-toggleable__control:checked~label.sk-toggleable__label {background-color: #d4ebff;}#sk-container-id-13 div.sk-label input.sk-toggleable__control:checked~label.sk-toggleable__label {background-color: #d4ebff;}#sk-container-id-13 input.sk-hidden--visually {border: 0;clip: rect(1px 1px 1px 1px);clip: rect(1px, 1px, 1px, 1px);height: 1px;margin: -1px;overflow: hidden;padding: 0;position: absolute;width: 1px;}#sk-container-id-13 div.sk-estimator {font-family: monospace;background-color: #f0f8ff;border: 1px dotted black;border-radius: 0.25em;box-sizing: border-box;margin-bottom: 0.5em;}#sk-container-id-13 div.sk-estimator:hover {background-color: #d4ebff;}#sk-container-id-13 div.sk-parallel-item::after {content: \"\";width: 100%;border-bottom: 1px solid gray;flex-grow: 1;}#sk-container-id-13 div.sk-label:hover label.sk-toggleable__label {background-color: #d4ebff;}#sk-container-id-13 div.sk-serial::before {content: \"\";position: absolute;border-left: 1px solid gray;box-sizing: border-box;top: 0;bottom: 0;left: 50%;z-index: 0;}#sk-container-id-13 div.sk-serial {display: flex;flex-direction: column;align-items: center;background-color: white;padding-right: 0.2em;padding-left: 0.2em;position: relative;}#sk-container-id-13 div.sk-item {position: relative;z-index: 1;}#sk-container-id-13 div.sk-parallel {display: flex;align-items: stretch;justify-content: center;background-color: white;position: relative;}#sk-container-id-13 div.sk-item::before, #sk-container-id-13 div.sk-parallel-item::before {content: \"\";position: absolute;border-left: 1px solid gray;box-sizing: border-box;top: 0;bottom: 0;left: 50%;z-index: -1;}#sk-container-id-13 div.sk-parallel-item {display: flex;flex-direction: column;z-index: 1;position: relative;background-color: white;}#sk-container-id-13 div.sk-parallel-item:first-child::after {align-self: flex-end;width: 50%;}#sk-container-id-13 div.sk-parallel-item:last-child::after {align-self: flex-start;width: 50%;}#sk-container-id-13 div.sk-parallel-item:only-child::after {width: 0;}#sk-container-id-13 div.sk-dashed-wrapped {border: 1px dashed gray;margin: 0 0.4em 0.5em 0.4em;box-sizing: border-box;padding-bottom: 0.4em;background-color: white;}#sk-container-id-13 div.sk-label label {font-family: monospace;font-weight: bold;display: inline-block;line-height: 1.2em;}#sk-container-id-13 div.sk-label-container {text-align: center;}#sk-container-id-13 div.sk-container {/* jupyter's `normalize.less` sets `[hidden] { display: none; }` but bootstrap.min.css set `[hidden] { display: none !important; }` so we also need the `!important` here to be able to override the default hidden behavior on the sphinx rendered scikit-learn.org. See: https://github.com/scikit-learn/scikit-learn/issues/21755 */display: inline-block !important;position: relative;}#sk-container-id-13 div.sk-text-repr-fallback {display: none;}</style><div id=\"sk-container-id-13\" class=\"sk-top-container\"><div class=\"sk-text-repr-fallback\"><pre>AdaBoostClassifier(learning_rate=0.3, random_state=42)</pre><b>In a Jupyter environment, please rerun this cell to show the HTML representation or trust the notebook. <br />On GitHub, the HTML representation is unable to render, please try loading this page with nbviewer.org.</b></div><div class=\"sk-container\" hidden><div class=\"sk-item\"><div class=\"sk-estimator sk-toggleable\"><input class=\"sk-toggleable__control sk-hidden--visually\" id=\"sk-estimator-id-13\" type=\"checkbox\" checked><label for=\"sk-estimator-id-13\" class=\"sk-toggleable__label sk-toggleable__label-arrow\">AdaBoostClassifier</label><div class=\"sk-toggleable__content\"><pre>AdaBoostClassifier(learning_rate=0.3, random_state=42)</pre></div></div></div></div></div>"
      ],
      "text/plain": [
       "AdaBoostClassifier(learning_rate=0.3, random_state=42)"
      ]
     },
     "execution_count": 208,
     "metadata": {},
     "output_type": "execute_result"
    }
   ],
   "source": [
    "ada.fit(X_train, y_train, sample_weight=classes_weights)"
   ]
  },
  {
   "cell_type": "code",
   "execution_count": 209,
   "id": "e0bf676b",
   "metadata": {},
   "outputs": [
    {
     "name": "stdout",
     "output_type": "stream",
     "text": [
      "                                                      precision    recall  f1-score   support\n",
      "\n",
      "      jet-mode radio AGN/low-excitation radio galaxy     0.4535    0.5478    0.4962     10186\n",
      "quasar-like radio AGN / high-excitation radio galaxy     0.1239    0.4896    0.1978      1062\n",
      "                                     radio-quiet AGN     0.4399    0.6761    0.5330      5514\n",
      "                                 star-forming galaxy     0.8776    0.7186    0.7902     45325\n",
      "\n",
      "                                            accuracy                         0.6829     62087\n",
      "                                           macro avg     0.4738    0.6080    0.5043     62087\n",
      "                                        weighted avg     0.7563    0.6829    0.7090     62087\n",
      "\n"
     ]
    }
   ],
   "source": [
    "y_pred = ada.predict(X_train)\n",
    "print(classification_report(y_train, y_pred, target_names=labels, digits=4))"
   ]
  },
  {
   "cell_type": "code",
   "execution_count": 210,
   "id": "61c899f0",
   "metadata": {},
   "outputs": [
    {
     "name": "stdout",
     "output_type": "stream",
     "text": [
      "                                                      precision    recall  f1-score   support\n",
      "\n",
      "      jet-mode radio AGN/low-excitation radio galaxy     0.4391    0.5339    0.4819      2581\n",
      "quasar-like radio AGN / high-excitation radio galaxy     0.1155    0.4667    0.1852       270\n",
      "                                     radio-quiet AGN     0.4225    0.6652    0.5168      1356\n",
      "                                 star-forming galaxy     0.8730    0.7066    0.7810     11315\n",
      "\n",
      "                                            accuracy                         0.6701     15522\n",
      "                                           macro avg     0.4625    0.5931    0.4912     15522\n",
      "                                        weighted avg     0.7483    0.6701    0.6978     15522\n",
      "\n"
     ]
    }
   ],
   "source": [
    "y_pred = ada.predict(X_test)\n",
    "print(classification_report(y_test, y_pred, target_names=labels, digits=4))"
   ]
  },
  {
   "cell_type": "markdown",
   "id": "ebd3626a",
   "metadata": {},
   "source": [
    "# DNN"
   ]
  },
  {
   "cell_type": "code",
   "execution_count": 28,
   "id": "b91985c1",
   "metadata": {},
   "outputs": [],
   "source": [
    "class_weight = compute_class_weight(class_weight='balanced', classes=np.unique(y_train), y=y_train)\n",
    "class_weight_dic = {i:class_weight[i] for i in range(4)}"
   ]
  },
  {
   "cell_type": "code",
   "execution_count": 70,
   "id": "db3f38ca",
   "metadata": {},
   "outputs": [],
   "source": [
    "model = keras.Sequential(\n",
    "    [\n",
    "        keras.layers.Dense(\n",
    "            256, activation=\"relu\", input_shape=(X_train.shape[1],)\n",
    "        ),\n",
    "        keras.layers.Dropout(0.3),\n",
    "        keras.layers.Dense(128, activation=\"relu\"),\n",
    "        keras.layers.Dropout(0.3),\n",
    "        keras.layers.Dense(64, activation=\"relu\"),\n",
    "        keras.layers.Dropout(0.3),\n",
    "        keras.layers.Dense(64, activation=\"relu\"),\n",
    "        keras.layers.Dropout(0.3),\n",
    "        keras.layers.Dense(4),\n",
    "    ]\n",
    ")"
   ]
  },
  {
   "cell_type": "code",
   "execution_count": null,
   "id": "df4bcf59",
   "metadata": {},
   "outputs": [],
   "source": []
  },
  {
   "cell_type": "code",
   "execution_count": 71,
   "id": "c6d54148",
   "metadata": {},
   "outputs": [],
   "source": [
    "model.compile(\n",
    "    loss=keras.losses.SparseCategoricalCrossentropy(from_logits=True),\n",
    "    optimizer=\"Adam\",\n",
    "    metrics=[\"accuracy\"],\n",
    ")"
   ]
  },
  {
   "cell_type": "code",
   "execution_count": 72,
   "id": "b473b39d",
   "metadata": {},
   "outputs": [],
   "source": [
    "early_stopping = keras.callbacks.EarlyStopping(\n",
    "    patience=10,\n",
    "    restore_best_weights=True,\n",
    ")"
   ]
  },
  {
   "cell_type": "code",
   "execution_count": 74,
   "id": "f6f9dbb1",
   "metadata": {},
   "outputs": [
    {
     "name": "stdout",
     "output_type": "stream",
     "text": [
      "Epoch 1/1000\n",
      "1941/1941 [==============================] - 5s 2ms/step - loss: 1.2237 - accuracy: 0.5100 - val_loss: 1.1177 - val_accuracy: 0.6102\n",
      "Epoch 2/1000\n",
      "1941/1941 [==============================] - 5s 2ms/step - loss: 1.1852 - accuracy: 0.5153 - val_loss: 1.1890 - val_accuracy: 0.2875\n",
      "Epoch 3/1000\n",
      "1047/1941 [===============>..............] - ETA: 2s - loss: 1.1610 - accuracy: 0.5283"
     ]
    },
    {
     "ename": "KeyboardInterrupt",
     "evalue": "",
     "output_type": "error",
     "traceback": [
      "\u001b[1;31m---------------------------------------------------------------------------\u001b[0m",
      "\u001b[1;31mKeyboardInterrupt\u001b[0m                         Traceback (most recent call last)",
      "Input \u001b[1;32mIn [74]\u001b[0m, in \u001b[0;36m<cell line: 1>\u001b[1;34m()\u001b[0m\n\u001b[1;32m----> 1\u001b[0m \u001b[43mmodel\u001b[49m\u001b[38;5;241;43m.\u001b[39;49m\u001b[43mfit\u001b[49m\u001b[43m(\u001b[49m\n\u001b[0;32m      2\u001b[0m \u001b[43m    \u001b[49m\u001b[43mX_train\u001b[49m\u001b[43m,\u001b[49m\n\u001b[0;32m      3\u001b[0m \u001b[43m    \u001b[49m\u001b[43my_train\u001b[49m\u001b[43m,\u001b[49m\n\u001b[0;32m      4\u001b[0m \u001b[43m    \u001b[49m\u001b[43mbatch_size\u001b[49m\u001b[38;5;241;43m=\u001b[39;49m\u001b[38;5;241;43m32\u001b[39;49m\u001b[43m,\u001b[49m\n\u001b[0;32m      5\u001b[0m \u001b[43m    \u001b[49m\u001b[43mepochs\u001b[49m\u001b[38;5;241;43m=\u001b[39;49m\u001b[38;5;241;43m1000\u001b[39;49m\u001b[43m,\u001b[49m\n\u001b[0;32m      6\u001b[0m \u001b[43m    \u001b[49m\u001b[43mcallbacks\u001b[49m\u001b[38;5;241;43m=\u001b[39;49m\u001b[43m[\u001b[49m\u001b[43mearly_stopping\u001b[49m\u001b[43m]\u001b[49m\u001b[43m,\u001b[49m\n\u001b[0;32m      7\u001b[0m \u001b[43m    \u001b[49m\u001b[43mvalidation_data\u001b[49m\u001b[38;5;241;43m=\u001b[39;49m\u001b[43m(\u001b[49m\u001b[43mX_test\u001b[49m\u001b[43m,\u001b[49m\u001b[43m \u001b[49m\u001b[43my_test\u001b[49m\u001b[43m)\u001b[49m\u001b[43m,\u001b[49m\n\u001b[0;32m      8\u001b[0m \u001b[43m    \u001b[49m\u001b[43mclass_weight\u001b[49m\u001b[38;5;241;43m=\u001b[39;49m\u001b[43mclass_weight_dic\u001b[49m\u001b[43m,\u001b[49m\n\u001b[0;32m      9\u001b[0m \u001b[43m)\u001b[49m\n",
      "File \u001b[1;32m~\\AppData\\Local\\Packages\\PythonSoftwareFoundation.Python.3.9_qbz5n2kfra8p0\\LocalCache\\local-packages\\Python39\\site-packages\\keras\\engine\\training.py:1184\u001b[0m, in \u001b[0;36mModel.fit\u001b[1;34m(self, x, y, batch_size, epochs, verbose, callbacks, validation_split, validation_data, shuffle, class_weight, sample_weight, initial_epoch, steps_per_epoch, validation_steps, validation_batch_size, validation_freq, max_queue_size, workers, use_multiprocessing)\u001b[0m\n\u001b[0;32m   1177\u001b[0m \u001b[38;5;28;01mwith\u001b[39;00m tf\u001b[38;5;241m.\u001b[39mprofiler\u001b[38;5;241m.\u001b[39mexperimental\u001b[38;5;241m.\u001b[39mTrace(\n\u001b[0;32m   1178\u001b[0m     \u001b[38;5;124m'\u001b[39m\u001b[38;5;124mtrain\u001b[39m\u001b[38;5;124m'\u001b[39m,\n\u001b[0;32m   1179\u001b[0m     epoch_num\u001b[38;5;241m=\u001b[39mepoch,\n\u001b[0;32m   1180\u001b[0m     step_num\u001b[38;5;241m=\u001b[39mstep,\n\u001b[0;32m   1181\u001b[0m     batch_size\u001b[38;5;241m=\u001b[39mbatch_size,\n\u001b[0;32m   1182\u001b[0m     _r\u001b[38;5;241m=\u001b[39m\u001b[38;5;241m1\u001b[39m):\n\u001b[0;32m   1183\u001b[0m   callbacks\u001b[38;5;241m.\u001b[39mon_train_batch_begin(step)\n\u001b[1;32m-> 1184\u001b[0m   tmp_logs \u001b[38;5;241m=\u001b[39m \u001b[38;5;28;43mself\u001b[39;49m\u001b[38;5;241;43m.\u001b[39;49m\u001b[43mtrain_function\u001b[49m\u001b[43m(\u001b[49m\u001b[43miterator\u001b[49m\u001b[43m)\u001b[49m\n\u001b[0;32m   1185\u001b[0m   \u001b[38;5;28;01mif\u001b[39;00m data_handler\u001b[38;5;241m.\u001b[39mshould_sync:\n\u001b[0;32m   1186\u001b[0m     context\u001b[38;5;241m.\u001b[39masync_wait()\n",
      "File \u001b[1;32m~\\AppData\\Local\\Packages\\PythonSoftwareFoundation.Python.3.9_qbz5n2kfra8p0\\LocalCache\\local-packages\\Python39\\site-packages\\tensorflow\\python\\eager\\def_function.py:885\u001b[0m, in \u001b[0;36mFunction.__call__\u001b[1;34m(self, *args, **kwds)\u001b[0m\n\u001b[0;32m    882\u001b[0m compiler \u001b[38;5;241m=\u001b[39m \u001b[38;5;124m\"\u001b[39m\u001b[38;5;124mxla\u001b[39m\u001b[38;5;124m\"\u001b[39m \u001b[38;5;28;01mif\u001b[39;00m \u001b[38;5;28mself\u001b[39m\u001b[38;5;241m.\u001b[39m_jit_compile \u001b[38;5;28;01melse\u001b[39;00m \u001b[38;5;124m\"\u001b[39m\u001b[38;5;124mnonXla\u001b[39m\u001b[38;5;124m\"\u001b[39m\n\u001b[0;32m    884\u001b[0m \u001b[38;5;28;01mwith\u001b[39;00m OptionalXlaContext(\u001b[38;5;28mself\u001b[39m\u001b[38;5;241m.\u001b[39m_jit_compile):\n\u001b[1;32m--> 885\u001b[0m   result \u001b[38;5;241m=\u001b[39m \u001b[38;5;28mself\u001b[39m\u001b[38;5;241m.\u001b[39m_call(\u001b[38;5;241m*\u001b[39margs, \u001b[38;5;241m*\u001b[39m\u001b[38;5;241m*\u001b[39mkwds)\n\u001b[0;32m    887\u001b[0m new_tracing_count \u001b[38;5;241m=\u001b[39m \u001b[38;5;28mself\u001b[39m\u001b[38;5;241m.\u001b[39mexperimental_get_tracing_count()\n\u001b[0;32m    888\u001b[0m without_tracing \u001b[38;5;241m=\u001b[39m (tracing_count \u001b[38;5;241m==\u001b[39m new_tracing_count)\n",
      "File \u001b[1;32m~\\AppData\\Local\\Packages\\PythonSoftwareFoundation.Python.3.9_qbz5n2kfra8p0\\LocalCache\\local-packages\\Python39\\site-packages\\tensorflow\\python\\eager\\def_function.py:917\u001b[0m, in \u001b[0;36mFunction._call\u001b[1;34m(self, *args, **kwds)\u001b[0m\n\u001b[0;32m    914\u001b[0m   \u001b[38;5;28mself\u001b[39m\u001b[38;5;241m.\u001b[39m_lock\u001b[38;5;241m.\u001b[39mrelease()\n\u001b[0;32m    915\u001b[0m   \u001b[38;5;66;03m# In this case we have created variables on the first call, so we run the\u001b[39;00m\n\u001b[0;32m    916\u001b[0m   \u001b[38;5;66;03m# defunned version which is guaranteed to never create variables.\u001b[39;00m\n\u001b[1;32m--> 917\u001b[0m   \u001b[38;5;28;01mreturn\u001b[39;00m \u001b[38;5;28mself\u001b[39m\u001b[38;5;241m.\u001b[39m_stateless_fn(\u001b[38;5;241m*\u001b[39margs, \u001b[38;5;241m*\u001b[39m\u001b[38;5;241m*\u001b[39mkwds)  \u001b[38;5;66;03m# pylint: disable=not-callable\u001b[39;00m\n\u001b[0;32m    918\u001b[0m \u001b[38;5;28;01melif\u001b[39;00m \u001b[38;5;28mself\u001b[39m\u001b[38;5;241m.\u001b[39m_stateful_fn \u001b[38;5;129;01mis\u001b[39;00m \u001b[38;5;129;01mnot\u001b[39;00m \u001b[38;5;28;01mNone\u001b[39;00m:\n\u001b[0;32m    919\u001b[0m   \u001b[38;5;66;03m# Release the lock early so that multiple threads can perform the call\u001b[39;00m\n\u001b[0;32m    920\u001b[0m   \u001b[38;5;66;03m# in parallel.\u001b[39;00m\n\u001b[0;32m    921\u001b[0m   \u001b[38;5;28mself\u001b[39m\u001b[38;5;241m.\u001b[39m_lock\u001b[38;5;241m.\u001b[39mrelease()\n",
      "File \u001b[1;32m~\\AppData\\Local\\Packages\\PythonSoftwareFoundation.Python.3.9_qbz5n2kfra8p0\\LocalCache\\local-packages\\Python39\\site-packages\\tensorflow\\python\\eager\\function.py:3039\u001b[0m, in \u001b[0;36mFunction.__call__\u001b[1;34m(self, *args, **kwargs)\u001b[0m\n\u001b[0;32m   3036\u001b[0m \u001b[38;5;28;01mwith\u001b[39;00m \u001b[38;5;28mself\u001b[39m\u001b[38;5;241m.\u001b[39m_lock:\n\u001b[0;32m   3037\u001b[0m   (graph_function,\n\u001b[0;32m   3038\u001b[0m    filtered_flat_args) \u001b[38;5;241m=\u001b[39m \u001b[38;5;28mself\u001b[39m\u001b[38;5;241m.\u001b[39m_maybe_define_function(args, kwargs)\n\u001b[1;32m-> 3039\u001b[0m \u001b[38;5;28;01mreturn\u001b[39;00m \u001b[43mgraph_function\u001b[49m\u001b[38;5;241;43m.\u001b[39;49m\u001b[43m_call_flat\u001b[49m\u001b[43m(\u001b[49m\n\u001b[0;32m   3040\u001b[0m \u001b[43m    \u001b[49m\u001b[43mfiltered_flat_args\u001b[49m\u001b[43m,\u001b[49m\u001b[43m \u001b[49m\u001b[43mcaptured_inputs\u001b[49m\u001b[38;5;241;43m=\u001b[39;49m\u001b[43mgraph_function\u001b[49m\u001b[38;5;241;43m.\u001b[39;49m\u001b[43mcaptured_inputs\u001b[49m\u001b[43m)\u001b[49m\n",
      "File \u001b[1;32m~\\AppData\\Local\\Packages\\PythonSoftwareFoundation.Python.3.9_qbz5n2kfra8p0\\LocalCache\\local-packages\\Python39\\site-packages\\tensorflow\\python\\eager\\function.py:1963\u001b[0m, in \u001b[0;36mConcreteFunction._call_flat\u001b[1;34m(self, args, captured_inputs, cancellation_manager)\u001b[0m\n\u001b[0;32m   1959\u001b[0m possible_gradient_type \u001b[38;5;241m=\u001b[39m gradients_util\u001b[38;5;241m.\u001b[39mPossibleTapeGradientTypes(args)\n\u001b[0;32m   1960\u001b[0m \u001b[38;5;28;01mif\u001b[39;00m (possible_gradient_type \u001b[38;5;241m==\u001b[39m gradients_util\u001b[38;5;241m.\u001b[39mPOSSIBLE_GRADIENT_TYPES_NONE\n\u001b[0;32m   1961\u001b[0m     \u001b[38;5;129;01mand\u001b[39;00m executing_eagerly):\n\u001b[0;32m   1962\u001b[0m   \u001b[38;5;66;03m# No tape is watching; skip to running the function.\u001b[39;00m\n\u001b[1;32m-> 1963\u001b[0m   \u001b[38;5;28;01mreturn\u001b[39;00m \u001b[38;5;28mself\u001b[39m\u001b[38;5;241m.\u001b[39m_build_call_outputs(\u001b[38;5;28;43mself\u001b[39;49m\u001b[38;5;241;43m.\u001b[39;49m\u001b[43m_inference_function\u001b[49m\u001b[38;5;241;43m.\u001b[39;49m\u001b[43mcall\u001b[49m\u001b[43m(\u001b[49m\n\u001b[0;32m   1964\u001b[0m \u001b[43m      \u001b[49m\u001b[43mctx\u001b[49m\u001b[43m,\u001b[49m\u001b[43m \u001b[49m\u001b[43margs\u001b[49m\u001b[43m,\u001b[49m\u001b[43m \u001b[49m\u001b[43mcancellation_manager\u001b[49m\u001b[38;5;241;43m=\u001b[39;49m\u001b[43mcancellation_manager\u001b[49m\u001b[43m)\u001b[49m)\n\u001b[0;32m   1965\u001b[0m forward_backward \u001b[38;5;241m=\u001b[39m \u001b[38;5;28mself\u001b[39m\u001b[38;5;241m.\u001b[39m_select_forward_and_backward_functions(\n\u001b[0;32m   1966\u001b[0m     args,\n\u001b[0;32m   1967\u001b[0m     possible_gradient_type,\n\u001b[0;32m   1968\u001b[0m     executing_eagerly)\n\u001b[0;32m   1969\u001b[0m forward_function, args_with_tangents \u001b[38;5;241m=\u001b[39m forward_backward\u001b[38;5;241m.\u001b[39mforward()\n",
      "File \u001b[1;32m~\\AppData\\Local\\Packages\\PythonSoftwareFoundation.Python.3.9_qbz5n2kfra8p0\\LocalCache\\local-packages\\Python39\\site-packages\\tensorflow\\python\\eager\\function.py:591\u001b[0m, in \u001b[0;36m_EagerDefinedFunction.call\u001b[1;34m(self, ctx, args, cancellation_manager)\u001b[0m\n\u001b[0;32m    589\u001b[0m \u001b[38;5;28;01mwith\u001b[39;00m _InterpolateFunctionError(\u001b[38;5;28mself\u001b[39m):\n\u001b[0;32m    590\u001b[0m   \u001b[38;5;28;01mif\u001b[39;00m cancellation_manager \u001b[38;5;129;01mis\u001b[39;00m \u001b[38;5;28;01mNone\u001b[39;00m:\n\u001b[1;32m--> 591\u001b[0m     outputs \u001b[38;5;241m=\u001b[39m \u001b[43mexecute\u001b[49m\u001b[38;5;241;43m.\u001b[39;49m\u001b[43mexecute\u001b[49m\u001b[43m(\u001b[49m\n\u001b[0;32m    592\u001b[0m \u001b[43m        \u001b[49m\u001b[38;5;28;43mstr\u001b[39;49m\u001b[43m(\u001b[49m\u001b[38;5;28;43mself\u001b[39;49m\u001b[38;5;241;43m.\u001b[39;49m\u001b[43msignature\u001b[49m\u001b[38;5;241;43m.\u001b[39;49m\u001b[43mname\u001b[49m\u001b[43m)\u001b[49m\u001b[43m,\u001b[49m\n\u001b[0;32m    593\u001b[0m \u001b[43m        \u001b[49m\u001b[43mnum_outputs\u001b[49m\u001b[38;5;241;43m=\u001b[39;49m\u001b[38;5;28;43mself\u001b[39;49m\u001b[38;5;241;43m.\u001b[39;49m\u001b[43m_num_outputs\u001b[49m\u001b[43m,\u001b[49m\n\u001b[0;32m    594\u001b[0m \u001b[43m        \u001b[49m\u001b[43minputs\u001b[49m\u001b[38;5;241;43m=\u001b[39;49m\u001b[43margs\u001b[49m\u001b[43m,\u001b[49m\n\u001b[0;32m    595\u001b[0m \u001b[43m        \u001b[49m\u001b[43mattrs\u001b[49m\u001b[38;5;241;43m=\u001b[39;49m\u001b[43mattrs\u001b[49m\u001b[43m,\u001b[49m\n\u001b[0;32m    596\u001b[0m \u001b[43m        \u001b[49m\u001b[43mctx\u001b[49m\u001b[38;5;241;43m=\u001b[39;49m\u001b[43mctx\u001b[49m\u001b[43m)\u001b[49m\n\u001b[0;32m    597\u001b[0m   \u001b[38;5;28;01melse\u001b[39;00m:\n\u001b[0;32m    598\u001b[0m     outputs \u001b[38;5;241m=\u001b[39m execute\u001b[38;5;241m.\u001b[39mexecute_with_cancellation(\n\u001b[0;32m    599\u001b[0m         \u001b[38;5;28mstr\u001b[39m(\u001b[38;5;28mself\u001b[39m\u001b[38;5;241m.\u001b[39msignature\u001b[38;5;241m.\u001b[39mname),\n\u001b[0;32m    600\u001b[0m         num_outputs\u001b[38;5;241m=\u001b[39m\u001b[38;5;28mself\u001b[39m\u001b[38;5;241m.\u001b[39m_num_outputs,\n\u001b[1;32m   (...)\u001b[0m\n\u001b[0;32m    603\u001b[0m         ctx\u001b[38;5;241m=\u001b[39mctx,\n\u001b[0;32m    604\u001b[0m         cancellation_manager\u001b[38;5;241m=\u001b[39mcancellation_manager)\n",
      "File \u001b[1;32m~\\AppData\\Local\\Packages\\PythonSoftwareFoundation.Python.3.9_qbz5n2kfra8p0\\LocalCache\\local-packages\\Python39\\site-packages\\tensorflow\\python\\eager\\execute.py:59\u001b[0m, in \u001b[0;36mquick_execute\u001b[1;34m(op_name, num_outputs, inputs, attrs, ctx, name)\u001b[0m\n\u001b[0;32m     57\u001b[0m \u001b[38;5;28;01mtry\u001b[39;00m:\n\u001b[0;32m     58\u001b[0m   ctx\u001b[38;5;241m.\u001b[39mensure_initialized()\n\u001b[1;32m---> 59\u001b[0m   tensors \u001b[38;5;241m=\u001b[39m \u001b[43mpywrap_tfe\u001b[49m\u001b[38;5;241;43m.\u001b[39;49m\u001b[43mTFE_Py_Execute\u001b[49m\u001b[43m(\u001b[49m\u001b[43mctx\u001b[49m\u001b[38;5;241;43m.\u001b[39;49m\u001b[43m_handle\u001b[49m\u001b[43m,\u001b[49m\u001b[43m \u001b[49m\u001b[43mdevice_name\u001b[49m\u001b[43m,\u001b[49m\u001b[43m \u001b[49m\u001b[43mop_name\u001b[49m\u001b[43m,\u001b[49m\n\u001b[0;32m     60\u001b[0m \u001b[43m                                      \u001b[49m\u001b[43minputs\u001b[49m\u001b[43m,\u001b[49m\u001b[43m \u001b[49m\u001b[43mattrs\u001b[49m\u001b[43m,\u001b[49m\u001b[43m \u001b[49m\u001b[43mnum_outputs\u001b[49m\u001b[43m)\u001b[49m\n\u001b[0;32m     61\u001b[0m \u001b[38;5;28;01mexcept\u001b[39;00m core\u001b[38;5;241m.\u001b[39m_NotOkStatusException \u001b[38;5;28;01mas\u001b[39;00m e:\n\u001b[0;32m     62\u001b[0m   \u001b[38;5;28;01mif\u001b[39;00m name \u001b[38;5;129;01mis\u001b[39;00m \u001b[38;5;129;01mnot\u001b[39;00m \u001b[38;5;28;01mNone\u001b[39;00m:\n",
      "\u001b[1;31mKeyboardInterrupt\u001b[0m: "
     ]
    }
   ],
   "source": [
    "model.fit(\n",
    "    X_train,\n",
    "    y_train,\n",
    "    batch_size=32,\n",
    "    epochs=1000,\n",
    "    callbacks=[early_stopping],\n",
    "    validation_data=(X_test, y_test),\n",
    "    class_weight=class_weight_dic,\n",
    ")"
   ]
  },
  {
   "cell_type": "markdown",
   "id": "d5274d32",
   "metadata": {},
   "source": [
    "# SVM"
   ]
  },
  {
   "cell_type": "code",
   "execution_count": 431,
   "id": "03796d6d",
   "metadata": {},
   "outputs": [],
   "source": [
    "from sklearn.svm import SVC"
   ]
  },
  {
   "cell_type": "code",
   "execution_count": 429,
   "id": "76717448",
   "metadata": {},
   "outputs": [],
   "source": [
    "new_y_train = y_train\n",
    "new_y_train[new_y_train['Classification']>1] = 0\n",
    "\n",
    "new_y_test = y_test\n",
    "new_y_test[new_y_test['Classification']>1] = 0"
   ]
  },
  {
   "cell_type": "code",
   "execution_count": 439,
   "id": "7ad98eee",
   "metadata": {},
   "outputs": [
    {
     "data": {
      "text/plain": [
       "SVC(class_weight='balanced')"
      ]
     },
     "execution_count": 439,
     "metadata": {},
     "output_type": "execute_result"
    }
   ],
   "source": [
    "clf = SVC(class_weight='balanced')\n",
    "clf.fit(X_train, new_y_train.values.flatten())"
   ]
  },
  {
   "cell_type": "code",
   "execution_count": 440,
   "id": "750f49b4",
   "metadata": {},
   "outputs": [
    {
     "name": "stdout",
     "output_type": "stream",
     "text": [
      "              precision    recall  f1-score   support\n",
      "\n",
      "           0     0.9890    0.5771    0.7289     15252\n",
      "           1     0.0260    0.6370    0.0499       270\n",
      "\n",
      "    accuracy                         0.5781     15522\n",
      "   macro avg     0.5075    0.6071    0.3894     15522\n",
      "weighted avg     0.9722    0.5781    0.7171     15522\n",
      "\n"
     ]
    }
   ],
   "source": [
    "y_pred = clf.predict(X_test)\n",
    "print(classification_report(new_y_test, y_pred, digits=4))"
   ]
  },
  {
   "cell_type": "code",
   "execution_count": 441,
   "id": "03981cab",
   "metadata": {},
   "outputs": [
    {
     "data": {
      "text/plain": [
       "[]"
      ]
     },
     "execution_count": 441,
     "metadata": {},
     "output_type": "execute_result"
    },
    {
     "data": {
      "image/png": "[encoded data removed]",
      "text/plain": [
       "<Figure size 432x288 with 2 Axes>"
      ]
     },
     "metadata": {
      "needs_background": "light"
     },
     "output_type": "display_data"
    }
   ],
   "source": [
    "cm = confusion_matrix(new_y_test, y_pred)\n",
    "disp = ConfusionMatrixDisplay(confusion_matrix=cm)\n",
    "disp.plot()\n",
    "plt.xticks(rotation = 90)\n",
    "plt.plot()"
   ]
  },
  {
   "cell_type": "code",
   "execution_count": null,
   "id": "2a6f568f",
   "metadata": {},
   "outputs": [],
   "source": []
  }
 ],
 "metadata": {
  "kernelspec": {
   "display_name": "Python 3",
   "language": "python",
   "name": "python3"
  },
  "language_info": {
   "codemirror_mode": {
    "name": "ipython",
    "version": 3
   },
   "file_extension": ".py",
   "mimetype": "text/x-python",
   "name": "python",
   "nbconvert_exporter": "python",
   "pygments_lexer": "ipython3",
   "version": "3.8.1"
  },
  "latex_envs": {
   "LaTeX_envs_menu_present": true,
   "autoclose": false,
   "autocomplete": true,
   "bibliofile": "biblio.bib",
   "cite_by": "apalike",
   "current_citInitial": 1,
   "eqLabelWithNumbers": true,
   "eqNumInitial": 1,
   "hotkeys": {
    "equation": "Ctrl-E",
    "itemize": "Ctrl-I"
   },
   "labels_anchors": false,
   "latex_user_defs": false,
   "report_style_numbering": false,
   "user_envs_cfg": false
  }
 },
 "nbformat": 4,
 "nbformat_minor": 5
}
