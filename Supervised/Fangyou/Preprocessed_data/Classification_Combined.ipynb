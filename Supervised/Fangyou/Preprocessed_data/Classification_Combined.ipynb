{
 "cells": [
  {
   "cell_type": "code",
   "execution_count": 1,
   "id": "fca4f926",
   "metadata": {},
   "outputs": [],
   "source": [
    "import pandas as pd\n",
    "import numpy as np\n",
    "from sklearn.impute import SimpleImputer\n",
    "from sklearn.model_selection import train_test_split, GridSearchCV, cross_val_score\n",
    "from sklearn.preprocessing import StandardScaler, OneHotEncoder, LabelEncoder, OrdinalEncoder, MinMaxScaler\n",
    "from sklearn.ensemble import RandomForestClassifier\n",
    "from sklearn.metrics import accuracy_score, classification_report\n",
    "from sklearn.decomposition import PCA\n",
    "from sklearn.utils.class_weight import compute_class_weight\n",
    "\n",
    "from sklearn.metrics import confusion_matrix, ConfusionMatrixDisplay\n",
    "import matplotlib.pyplot as plt\n",
    "\n",
    "from xgboost import XGBClassifier\n",
    "import xgboost as xgb\n",
    "\n",
    "import tensorflow as tf\n",
    "from tensorflow import keras\n",
    "from tensorflow.keras import layers\n",
    "from keras.models import Sequential\n",
    "from keras.layers import Dense"
   ]
  },
  {
   "cell_type": "code",
   "execution_count": 7,
   "id": "cbbf3730",
   "metadata": {},
   "outputs": [],
   "source": [
    "features_num = [\n",
    "    'Total_flux', 'Peak_flux', 'EBV', \n",
    "       'NUV_flux_corr', 'u_flux_corr', 'Bw_flux_corr', 'R_flux_corr',\n",
    "       'I_flux_corr', 'z_flux_corr', 'z_Subaru_flux_corr', 'y_flux_corr',\n",
    "       'J_flux_corr', 'H_flux_corr', 'K_flux_corr', 'Ks_flux_corr',\n",
    "       'ch1_flux_corr', 'ch2_flux_corr', 'ch3_flux_corr', 'ch4_flux_corr',\n",
    "       'F_MIPS_24', 'F_PACS_100', 'F_PACS_160', 'F_SPIRE_250', 'F_SPIRE_350',\n",
    "       'F_SPIRE_500', 'Z_BEST', 'Mass_median', 'Mass_l68', 'Mass_u68',\n",
    "        'z_rcs_flux_corr', 'z_hsc_flux_corr', 'i_hsc_flux_corr',\n",
    "       'i_rcs_flux_corr', 'i_flux_corr', 'y_hsc_flux_corr', 'r_flux_corr',\n",
    "       'r_hsc_flux_corr', 'r_rcs_flux_corr', 'ch1_swire_flux_corr',\n",
    "       'ch2_swire_flux_corr', 'ch3_swire_flux_corr', 'ch4_swire_flux_corr',\n",
    "       'ch1_servs_flux_corr', 'ch2_servs_flux_corr', 'g_flux_corr',\n",
    "       'g_hsc_flux_corr', 'nb921_hsc_flux_corr', 'g_rcs_flux_corr'\n",
    "]\n",
    "    \n",
    "\n",
    "features_cat = [\n",
    "   \"S_Code\"\n",
    "]\n",
    "y_column = \"Classification\"\n",
    "\n",
    "classes = ['jet-mode radio AGN/low-excitation radio galaxy', 'quasar-like radio AGN / high-excitation radio galaxy', \n",
    "           'radio-quiet AGN', 'star-forming galaxy']"
   ]
  },
  {
   "cell_type": "code",
   "execution_count": 4,
   "id": "a6906da4",
   "metadata": {},
   "outputs": [],
   "source": [
    "data = pd.read_csv(\"../../../Data/Fangyou_data/Cleaned/combined_filled_preprocessed.csv\")"
   ]
  },
  {
   "cell_type": "code",
   "execution_count": 6,
   "id": "d4521d7b",
   "metadata": {},
   "outputs": [
    {
     "data": {
      "text/plain": [
       "Index(['Source_Name', 'Total_flux', 'Peak_flux', 'S_Code', 'EBV',\n",
       "       'FUV_flux_corr', 'NUV_flux_corr', 'u_flux_corr', 'Bw_flux_corr',\n",
       "       'R_flux_corr', 'I_flux_corr', 'z_flux_corr', 'z_Subaru_flux_corr',\n",
       "       'y_flux_corr', 'J_flux_corr', 'H_flux_corr', 'K_flux_corr',\n",
       "       'Ks_flux_corr', 'ch1_flux_corr', 'ch2_flux_corr', 'ch3_flux_corr',\n",
       "       'ch4_flux_corr', 'F_MIPS_24', 'F_PACS_100', 'F_PACS_160', 'F_SPIRE_250',\n",
       "       'F_SPIRE_350', 'F_SPIRE_500', 'Z_BEST', 'Mass_median', 'Mass_l68',\n",
       "       'Mass_u68', 'Source', 'AGN_final', 'RadioAGN_final', 'Classification',\n",
       "       'Radio_excess', 'AGNfrac_af', 'AGNfrac_af_16', 'AGNfrac_cg_s_16',\n",
       "       'z_rcs_flux_corr', 'z_hsc_flux_corr', 'i_hsc_flux_corr',\n",
       "       'i_rcs_flux_corr', 'i_flux_corr', 'y_hsc_flux_corr', 'r_flux_corr',\n",
       "       'r_hsc_flux_corr', 'r_rcs_flux_corr', 'ch1_swire_flux_corr',\n",
       "       'ch2_swire_flux_corr', 'ch3_swire_flux_corr', 'ch4_swire_flux_corr',\n",
       "       'ch1_servs_flux_corr', 'ch2_servs_flux_corr', 'g_flux_corr',\n",
       "       'g_hsc_flux_corr', 'nb921_hsc_flux_corr', 'g_rcs_flux_corr'],\n",
       "      dtype='object')"
      ]
     },
     "execution_count": 6,
     "metadata": {},
     "output_type": "execute_result"
    }
   ],
   "source": [
    "data.columns"
   ]
  },
  {
   "cell_type": "code",
   "execution_count": 8,
   "id": "2774538d",
   "metadata": {},
   "outputs": [
    {
     "data": {
      "text/plain": [
       "Source_Name            0\n",
       "Total_flux             0\n",
       "Peak_flux              0\n",
       "S_Code                 0\n",
       "EBV                    0\n",
       "FUV_flux_corr          0\n",
       "NUV_flux_corr          0\n",
       "u_flux_corr            0\n",
       "Bw_flux_corr           0\n",
       "R_flux_corr            0\n",
       "I_flux_corr            0\n",
       "z_flux_corr            0\n",
       "z_Subaru_flux_corr     0\n",
       "y_flux_corr            0\n",
       "J_flux_corr            0\n",
       "H_flux_corr            0\n",
       "K_flux_corr            0\n",
       "Ks_flux_corr           0\n",
       "ch1_flux_corr          0\n",
       "ch2_flux_corr          0\n",
       "ch3_flux_corr          0\n",
       "ch4_flux_corr          0\n",
       "F_MIPS_24              0\n",
       "F_PACS_100             0\n",
       "F_PACS_160             0\n",
       "F_SPIRE_250            0\n",
       "F_SPIRE_350            0\n",
       "F_SPIRE_500            0\n",
       "Z_BEST                 0\n",
       "Mass_median            0\n",
       "Mass_l68               0\n",
       "Mass_u68               0\n",
       "Source                 0\n",
       "AGN_final              0\n",
       "RadioAGN_final         0\n",
       "Classification         0\n",
       "Radio_excess           0\n",
       "AGNfrac_af             0\n",
       "AGNfrac_af_16          0\n",
       "AGNfrac_cg_s_16        0\n",
       "z_rcs_flux_corr        0\n",
       "z_hsc_flux_corr        0\n",
       "i_hsc_flux_corr        0\n",
       "i_rcs_flux_corr        0\n",
       "i_flux_corr            0\n",
       "y_hsc_flux_corr        0\n",
       "r_flux_corr            0\n",
       "r_hsc_flux_corr        0\n",
       "r_rcs_flux_corr        0\n",
       "ch1_swire_flux_corr    0\n",
       "ch2_swire_flux_corr    0\n",
       "ch3_swire_flux_corr    0\n",
       "ch4_swire_flux_corr    0\n",
       "ch1_servs_flux_corr    0\n",
       "ch2_servs_flux_corr    0\n",
       "g_flux_corr            0\n",
       "g_hsc_flux_corr        0\n",
       "nb921_hsc_flux_corr    0\n",
       "g_rcs_flux_corr        0\n",
       "dtype: int64"
      ]
     },
     "execution_count": 8,
     "metadata": {},
     "output_type": "execute_result"
    }
   ],
   "source": [
    "data.isna().sum()"
   ]
  },
  {
   "cell_type": "code",
   "execution_count": 9,
   "id": "7fbd1232",
   "metadata": {},
   "outputs": [],
   "source": [
    "X = data[np.append(features_num, features_cat)]\n",
    "y = data[y_column]"
   ]
  },
  {
   "cell_type": "code",
   "execution_count": null,
   "id": "bcf1526a",
   "metadata": {},
   "outputs": [],
   "source": []
  },
  {
   "cell_type": "code",
   "execution_count": 10,
   "id": "11cc87a3",
   "metadata": {},
   "outputs": [],
   "source": [
    "le = LabelEncoder()\n",
    "labels = np.unique(y.astype(str))\n",
    "y = le.fit_transform(y)"
   ]
  },
  {
   "cell_type": "code",
   "execution_count": 11,
   "id": "8216a47c",
   "metadata": {},
   "outputs": [],
   "source": [
    "# Creating training and testing set\n",
    "X_train, X_test, y_train, y_test = train_test_split(X, y, train_size=0.8, random_state=42)"
   ]
  },
  {
   "cell_type": "code",
   "execution_count": 12,
   "id": "e969635a",
   "metadata": {},
   "outputs": [],
   "source": [
    "def one_hot(df, columns):\n",
    "    \"\"\"\n",
    "    One-hot encoding a certain column in a dataframe\n",
    "    \"\"\"\n",
    "    one_hot = pd.get_dummies(df[columns])\n",
    "    df = df.drop(columns=columns, axis = 1)\n",
    "    df = df.join(one_hot)\n",
    "    return df"
   ]
  },
  {
   "cell_type": "code",
   "execution_count": 13,
   "id": "bafd882e",
   "metadata": {},
   "outputs": [],
   "source": [
    "# Imputing missing categorical features\n",
    "imp = SimpleImputer(strategy=\"most_frequent\")\n",
    "\n",
    "# Transforming the categorical data\n",
    "X_train[features_cat] = imp.fit_transform(X_train[features_cat])\n",
    "X_test[features_cat] = imp.transform(X_test[features_cat])\n",
    "\n",
    "# One-hot encoding categorical features\n",
    "X_train = one_hot(X_train, features_cat)\n",
    "X_test = one_hot(X_test, features_cat)\n",
    "\n",
    "# Standard scaling the numerical data\n",
    "scaler = MinMaxScaler()\n",
    "\n",
    "# Transforming the categorical data\n",
    "X_train[features_num] = scaler.fit_transform(X_train[features_num])\n",
    "X_test[features_num] = scaler.transform(X_test[features_num])"
   ]
  },
  {
   "cell_type": "markdown",
   "id": "0057ca91",
   "metadata": {},
   "source": [
    "# Random forest"
   ]
  },
  {
   "cell_type": "code",
   "execution_count": 14,
   "id": "ee43fe00",
   "metadata": {},
   "outputs": [
    {
     "data": {
      "text/html": [
       "<style>#sk-container-id-1 {color: black;background-color: white;}#sk-container-id-1 pre{padding: 0;}#sk-container-id-1 div.sk-toggleable {background-color: white;}#sk-container-id-1 label.sk-toggleable__label {cursor: pointer;display: block;width: 100%;margin-bottom: 0;padding: 0.3em;box-sizing: border-box;text-align: center;}#sk-container-id-1 label.sk-toggleable__label-arrow:before {content: \"▸\";float: left;margin-right: 0.25em;color: #696969;}#sk-container-id-1 label.sk-toggleable__label-arrow:hover:before {color: black;}#sk-container-id-1 div.sk-estimator:hover label.sk-toggleable__label-arrow:before {color: black;}#sk-container-id-1 div.sk-toggleable__content {max-height: 0;max-width: 0;overflow: hidden;text-align: left;background-color: #f0f8ff;}#sk-container-id-1 div.sk-toggleable__content pre {margin: 0.2em;color: black;border-radius: 0.25em;background-color: #f0f8ff;}#sk-container-id-1 input.sk-toggleable__control:checked~div.sk-toggleable__content {max-height: 200px;max-width: 100%;overflow: auto;}#sk-container-id-1 input.sk-toggleable__control:checked~label.sk-toggleable__label-arrow:before {content: \"▾\";}#sk-container-id-1 div.sk-estimator input.sk-toggleable__control:checked~label.sk-toggleable__label {background-color: #d4ebff;}#sk-container-id-1 div.sk-label input.sk-toggleable__control:checked~label.sk-toggleable__label {background-color: #d4ebff;}#sk-container-id-1 input.sk-hidden--visually {border: 0;clip: rect(1px 1px 1px 1px);clip: rect(1px, 1px, 1px, 1px);height: 1px;margin: -1px;overflow: hidden;padding: 0;position: absolute;width: 1px;}#sk-container-id-1 div.sk-estimator {font-family: monospace;background-color: #f0f8ff;border: 1px dotted black;border-radius: 0.25em;box-sizing: border-box;margin-bottom: 0.5em;}#sk-container-id-1 div.sk-estimator:hover {background-color: #d4ebff;}#sk-container-id-1 div.sk-parallel-item::after {content: \"\";width: 100%;border-bottom: 1px solid gray;flex-grow: 1;}#sk-container-id-1 div.sk-label:hover label.sk-toggleable__label {background-color: #d4ebff;}#sk-container-id-1 div.sk-serial::before {content: \"\";position: absolute;border-left: 1px solid gray;box-sizing: border-box;top: 0;bottom: 0;left: 50%;z-index: 0;}#sk-container-id-1 div.sk-serial {display: flex;flex-direction: column;align-items: center;background-color: white;padding-right: 0.2em;padding-left: 0.2em;position: relative;}#sk-container-id-1 div.sk-item {position: relative;z-index: 1;}#sk-container-id-1 div.sk-parallel {display: flex;align-items: stretch;justify-content: center;background-color: white;position: relative;}#sk-container-id-1 div.sk-item::before, #sk-container-id-1 div.sk-parallel-item::before {content: \"\";position: absolute;border-left: 1px solid gray;box-sizing: border-box;top: 0;bottom: 0;left: 50%;z-index: -1;}#sk-container-id-1 div.sk-parallel-item {display: flex;flex-direction: column;z-index: 1;position: relative;background-color: white;}#sk-container-id-1 div.sk-parallel-item:first-child::after {align-self: flex-end;width: 50%;}#sk-container-id-1 div.sk-parallel-item:last-child::after {align-self: flex-start;width: 50%;}#sk-container-id-1 div.sk-parallel-item:only-child::after {width: 0;}#sk-container-id-1 div.sk-dashed-wrapped {border: 1px dashed gray;margin: 0 0.4em 0.5em 0.4em;box-sizing: border-box;padding-bottom: 0.4em;background-color: white;}#sk-container-id-1 div.sk-label label {font-family: monospace;font-weight: bold;display: inline-block;line-height: 1.2em;}#sk-container-id-1 div.sk-label-container {text-align: center;}#sk-container-id-1 div.sk-container {/* jupyter's `normalize.less` sets `[hidden] { display: none; }` but bootstrap.min.css set `[hidden] { display: none !important; }` so we also need the `!important` here to be able to override the default hidden behavior on the sphinx rendered scikit-learn.org. See: https://github.com/scikit-learn/scikit-learn/issues/21755 */display: inline-block !important;position: relative;}#sk-container-id-1 div.sk-text-repr-fallback {display: none;}</style><div id=\"sk-container-id-1\" class=\"sk-top-container\"><div class=\"sk-text-repr-fallback\"><pre>RandomForestClassifier(class_weight=&#x27;balanced&#x27;, max_features=None,\n",
       "                       n_estimators=50, n_jobs=-1, random_state=42)</pre><b>In a Jupyter environment, please rerun this cell to show the HTML representation or trust the notebook. <br />On GitHub, the HTML representation is unable to render, please try loading this page with nbviewer.org.</b></div><div class=\"sk-container\" hidden><div class=\"sk-item\"><div class=\"sk-estimator sk-toggleable\"><input class=\"sk-toggleable__control sk-hidden--visually\" id=\"sk-estimator-id-1\" type=\"checkbox\" checked><label for=\"sk-estimator-id-1\" class=\"sk-toggleable__label sk-toggleable__label-arrow\">RandomForestClassifier</label><div class=\"sk-toggleable__content\"><pre>RandomForestClassifier(class_weight=&#x27;balanced&#x27;, max_features=None,\n",
       "                       n_estimators=50, n_jobs=-1, random_state=42)</pre></div></div></div></div></div>"
      ],
      "text/plain": [
       "RandomForestClassifier(class_weight='balanced', max_features=None,\n",
       "                       n_estimators=50, n_jobs=-1, random_state=42)"
      ]
     },
     "execution_count": 14,
     "metadata": {},
     "output_type": "execute_result"
    }
   ],
   "source": [
    "clf = RandomForestClassifier(n_estimators=50, \n",
    "                             max_features=None,\n",
    "                             n_jobs=-1, \n",
    "                             class_weight=\"balanced\", \n",
    "                             random_state=42)\n",
    "clf.fit(X_train, y_train)"
   ]
  },
  {
   "cell_type": "code",
   "execution_count": 195,
   "id": "0227ae9c",
   "metadata": {},
   "outputs": [],
   "source": [
    "cv_score = cross_val_score(clf, X_train, y_train, cv=32, n_jobs=-1, scoring=\"accuracy\")"
   ]
  },
  {
   "cell_type": "code",
   "execution_count": 196,
   "id": "536922d0",
   "metadata": {},
   "outputs": [
    {
     "name": "stdout",
     "output_type": "stream",
     "text": [
      "Cross-validated Accuracy: 0.83311 ± 0.01399\n"
     ]
    }
   ],
   "source": [
    "print(\"Cross-validated Accuracy:\", round(np.mean(cv_score), 5), \"±\", round(np.std(cv_score), 5))"
   ]
  },
  {
   "cell_type": "code",
   "execution_count": 15,
   "id": "88978b9e",
   "metadata": {},
   "outputs": [
    {
     "name": "stdout",
     "output_type": "stream",
     "text": [
      "                                                      precision    recall  f1-score   support\n",
      "\n",
      "      jet-mode radio AGN/low-excitation radio galaxy     0.7948    0.5688    0.6631      2581\n",
      "quasar-like radio AGN / high-excitation radio galaxy     0.5055    0.1704    0.2548       270\n",
      "                                     radio-quiet AGN     0.7060    0.5509    0.6189      1356\n",
      "                                 star-forming galaxy     0.8587    0.9506    0.9023     11315\n",
      "\n",
      "                                            accuracy                         0.8386     15522\n",
      "                                           macro avg     0.7163    0.5602    0.6098     15522\n",
      "                                        weighted avg     0.8286    0.8386    0.8265     15522\n",
      "\n"
     ]
    }
   ],
   "source": [
    "y_pred = clf.predict(X_test)\n",
    "print(classification_report(y_test, y_pred, target_names=labels, digits=4))"
   ]
  },
  {
   "cell_type": "code",
   "execution_count": 211,
   "id": "64ef5975",
   "metadata": {},
   "outputs": [
    {
     "data": {
      "text/plain": [
       "[]"
      ]
     },
     "execution_count": 211,
     "metadata": {},
     "output_type": "execute_result"
    },
    {
     "data": {
      "image/png": "[encoded data removed]",
      "text/plain": [
       "<Figure size 432x288 with 2 Axes>"
      ]
     },
     "metadata": {
      "needs_background": "light"
     },
     "output_type": "display_data"
    }
   ],
   "source": [
    "cm = confusion_matrix(y_test, y_pred)\n",
    "disp = ConfusionMatrixDisplay(confusion_matrix=cm, display_labels=labels)\n",
    "disp.plot()\n",
    "plt.xticks(rotation = 90)\n",
    "plt.plot()"
   ]
  },
  {
   "cell_type": "code",
   "execution_count": null,
   "id": "3c9c27b2",
   "metadata": {},
   "outputs": [],
   "source": []
  },
  {
   "cell_type": "markdown",
   "id": "df7caf58",
   "metadata": {},
   "source": [
    "# Lightgbm"
   ]
  },
  {
   "cell_type": "code",
   "execution_count": 229,
   "id": "b961b7af",
   "metadata": {},
   "outputs": [],
   "source": [
    "import lightgbm as lgb\n",
    "lightbm = lgb.LGBMClassifier(num_class=4, \n",
    "                             objective=\"multiclass\",  \n",
    "                             n_estimators=200, \n",
    "                             class_weight=\"balanced\",\n",
    "                             max_depth=7, \n",
    "                             num_leaves=32, \n",
    "                             min_child_samples=5,\n",
    "                             reg_alpha=1,\n",
    "                             reg_lambda=2)"
   ]
  },
  {
   "cell_type": "code",
   "execution_count": 230,
   "id": "9d640b77",
   "metadata": {},
   "outputs": [
    {
     "data": {
      "text/html": [
       "<style>#sk-container-id-29 {color: black;background-color: white;}#sk-container-id-29 pre{padding: 0;}#sk-container-id-29 div.sk-toggleable {background-color: white;}#sk-container-id-29 label.sk-toggleable__label {cursor: pointer;display: block;width: 100%;margin-bottom: 0;padding: 0.3em;box-sizing: border-box;text-align: center;}#sk-container-id-29 label.sk-toggleable__label-arrow:before {content: \"▸\";float: left;margin-right: 0.25em;color: #696969;}#sk-container-id-29 label.sk-toggleable__label-arrow:hover:before {color: black;}#sk-container-id-29 div.sk-estimator:hover label.sk-toggleable__label-arrow:before {color: black;}#sk-container-id-29 div.sk-toggleable__content {max-height: 0;max-width: 0;overflow: hidden;text-align: left;background-color: #f0f8ff;}#sk-container-id-29 div.sk-toggleable__content pre {margin: 0.2em;color: black;border-radius: 0.25em;background-color: #f0f8ff;}#sk-container-id-29 input.sk-toggleable__control:checked~div.sk-toggleable__content {max-height: 200px;max-width: 100%;overflow: auto;}#sk-container-id-29 input.sk-toggleable__control:checked~label.sk-toggleable__label-arrow:before {content: \"▾\";}#sk-container-id-29 div.sk-estimator input.sk-toggleable__control:checked~label.sk-toggleable__label {background-color: #d4ebff;}#sk-container-id-29 div.sk-label input.sk-toggleable__control:checked~label.sk-toggleable__label {background-color: #d4ebff;}#sk-container-id-29 input.sk-hidden--visually {border: 0;clip: rect(1px 1px 1px 1px);clip: rect(1px, 1px, 1px, 1px);height: 1px;margin: -1px;overflow: hidden;padding: 0;position: absolute;width: 1px;}#sk-container-id-29 div.sk-estimator {font-family: monospace;background-color: #f0f8ff;border: 1px dotted black;border-radius: 0.25em;box-sizing: border-box;margin-bottom: 0.5em;}#sk-container-id-29 div.sk-estimator:hover {background-color: #d4ebff;}#sk-container-id-29 div.sk-parallel-item::after {content: \"\";width: 100%;border-bottom: 1px solid gray;flex-grow: 1;}#sk-container-id-29 div.sk-label:hover label.sk-toggleable__label {background-color: #d4ebff;}#sk-container-id-29 div.sk-serial::before {content: \"\";position: absolute;border-left: 1px solid gray;box-sizing: border-box;top: 0;bottom: 0;left: 50%;z-index: 0;}#sk-container-id-29 div.sk-serial {display: flex;flex-direction: column;align-items: center;background-color: white;padding-right: 0.2em;padding-left: 0.2em;position: relative;}#sk-container-id-29 div.sk-item {position: relative;z-index: 1;}#sk-container-id-29 div.sk-parallel {display: flex;align-items: stretch;justify-content: center;background-color: white;position: relative;}#sk-container-id-29 div.sk-item::before, #sk-container-id-29 div.sk-parallel-item::before {content: \"\";position: absolute;border-left: 1px solid gray;box-sizing: border-box;top: 0;bottom: 0;left: 50%;z-index: -1;}#sk-container-id-29 div.sk-parallel-item {display: flex;flex-direction: column;z-index: 1;position: relative;background-color: white;}#sk-container-id-29 div.sk-parallel-item:first-child::after {align-self: flex-end;width: 50%;}#sk-container-id-29 div.sk-parallel-item:last-child::after {align-self: flex-start;width: 50%;}#sk-container-id-29 div.sk-parallel-item:only-child::after {width: 0;}#sk-container-id-29 div.sk-dashed-wrapped {border: 1px dashed gray;margin: 0 0.4em 0.5em 0.4em;box-sizing: border-box;padding-bottom: 0.4em;background-color: white;}#sk-container-id-29 div.sk-label label {font-family: monospace;font-weight: bold;display: inline-block;line-height: 1.2em;}#sk-container-id-29 div.sk-label-container {text-align: center;}#sk-container-id-29 div.sk-container {/* jupyter's `normalize.less` sets `[hidden] { display: none; }` but bootstrap.min.css set `[hidden] { display: none !important; }` so we also need the `!important` here to be able to override the default hidden behavior on the sphinx rendered scikit-learn.org. See: https://github.com/scikit-learn/scikit-learn/issues/21755 */display: inline-block !important;position: relative;}#sk-container-id-29 div.sk-text-repr-fallback {display: none;}</style><div id=\"sk-container-id-29\" class=\"sk-top-container\"><div class=\"sk-text-repr-fallback\"><pre>LGBMClassifier(class_weight=&#x27;balanced&#x27;, max_depth=8, min_child_samples=5,\n",
       "               n_estimators=200, num_class=4, num_leaves=32,\n",
       "               objective=&#x27;multiclass&#x27;, reg_alpha=1, reg_lambda=2)</pre><b>In a Jupyter environment, please rerun this cell to show the HTML representation or trust the notebook. <br />On GitHub, the HTML representation is unable to render, please try loading this page with nbviewer.org.</b></div><div class=\"sk-container\" hidden><div class=\"sk-item\"><div class=\"sk-estimator sk-toggleable\"><input class=\"sk-toggleable__control sk-hidden--visually\" id=\"sk-estimator-id-29\" type=\"checkbox\" checked><label for=\"sk-estimator-id-29\" class=\"sk-toggleable__label sk-toggleable__label-arrow\">LGBMClassifier</label><div class=\"sk-toggleable__content\"><pre>LGBMClassifier(class_weight=&#x27;balanced&#x27;, max_depth=8, min_child_samples=5,\n",
       "               n_estimators=200, num_class=4, num_leaves=32,\n",
       "               objective=&#x27;multiclass&#x27;, reg_alpha=1, reg_lambda=2)</pre></div></div></div></div></div>"
      ],
      "text/plain": [
       "LGBMClassifier(class_weight='balanced', max_depth=8, min_child_samples=5,\n",
       "               n_estimators=200, num_class=4, num_leaves=32,\n",
       "               objective='multiclass', reg_alpha=1, reg_lambda=2)"
      ]
     },
     "execution_count": 230,
     "metadata": {},
     "output_type": "execute_result"
    }
   ],
   "source": [
    "lightbm.fit(X_train, y_train)"
   ]
  },
  {
   "cell_type": "code",
   "execution_count": 231,
   "id": "43079368",
   "metadata": {},
   "outputs": [],
   "source": [
    "cv_score_lgb = cross_val_score(lightbm, X_train, y_train, cv=32, n_jobs=-1, scoring=\"accuracy\")"
   ]
  },
  {
   "cell_type": "code",
   "execution_count": 232,
   "id": "754261f4",
   "metadata": {},
   "outputs": [
    {
     "name": "stdout",
     "output_type": "stream",
     "text": [
      "Cross-validated Accuracy: 0.87436 ± 0.01571\n"
     ]
    }
   ],
   "source": [
    "print(\"Cross-validated Accuracy:\", round(np.mean(cv_score_lgb), 5), \"±\", round(np.std(cv_score_lgb), 5))"
   ]
  },
  {
   "cell_type": "code",
   "execution_count": 233,
   "id": "ae2b9106",
   "metadata": {},
   "outputs": [
    {
     "name": "stdout",
     "output_type": "stream",
     "text": [
      "                                                      precision    recall  f1-score   support\n",
      "\n",
      "      jet-mode radio AGN/low-excitation radio galaxy     0.8178    0.8604    0.8386       652\n",
      "quasar-like radio AGN / high-excitation radio galaxy     0.5536    0.3444    0.4247        90\n",
      "                                     radio-quiet AGN     0.6752    0.8220    0.7414       354\n",
      "                                 star-forming galaxy     0.9410    0.9114    0.9260      2450\n",
      "\n",
      "                                            accuracy                         0.8787      3546\n",
      "                                           macro avg     0.7469    0.7346    0.7327      3546\n",
      "                                        weighted avg     0.8820    0.8787    0.8788      3546\n",
      "\n"
     ]
    }
   ],
   "source": [
    "y_pred = lightbm.predict(X_test)\n",
    "print(classification_report(y_test, y_pred, target_names=labels, digits=4))"
   ]
  },
  {
   "cell_type": "code",
   "execution_count": 234,
   "id": "ca6631e3",
   "metadata": {},
   "outputs": [
    {
     "data": {
      "text/plain": [
       "[]"
      ]
     },
     "execution_count": 234,
     "metadata": {},
     "output_type": "execute_result"
    },
    {
     "data": {
      "image/png": "[encoded data removed]",
      "text/plain": [
       "<Figure size 432x288 with 2 Axes>"
      ]
     },
     "metadata": {
      "needs_background": "light"
     },
     "output_type": "display_data"
    }
   ],
   "source": [
    "cm = confusion_matrix(y_test, y_pred)\n",
    "disp = ConfusionMatrixDisplay(confusion_matrix=cm, display_labels=labels)\n",
    "disp.plot()\n",
    "plt.xticks(rotation = 90)\n",
    "plt.plot()"
   ]
  },
  {
   "cell_type": "markdown",
   "id": "58090610",
   "metadata": {},
   "source": [
    "# XGBoost"
   ]
  },
  {
   "cell_type": "code",
   "execution_count": 20,
   "id": "e4d86569",
   "metadata": {
    "scrolled": true
   },
   "outputs": [
    {
     "name": "stdout",
     "output_type": "stream",
     "text": [
      "[0]\tvalidation_0-auc:0.91264\n",
      "[1]\tvalidation_0-auc:0.92477\n",
      "[2]\tvalidation_0-auc:0.93374\n",
      "[3]\tvalidation_0-auc:0.93741\n",
      "[4]\tvalidation_0-auc:0.94173\n",
      "[5]\tvalidation_0-auc:0.94487\n",
      "[6]\tvalidation_0-auc:0.94779\n",
      "[7]\tvalidation_0-auc:0.94990\n",
      "[8]\tvalidation_0-auc:0.95176\n",
      "[9]\tvalidation_0-auc:0.95378\n",
      "[10]\tvalidation_0-auc:0.95502\n",
      "[11]\tvalidation_0-auc:0.95612\n",
      "[12]\tvalidation_0-auc:0.95681\n",
      "[13]\tvalidation_0-auc:0.95772\n",
      "[14]\tvalidation_0-auc:0.95873\n",
      "[15]\tvalidation_0-auc:0.95950\n",
      "[16]\tvalidation_0-auc:0.96019\n",
      "[17]\tvalidation_0-auc:0.96082\n",
      "[18]\tvalidation_0-auc:0.96125\n",
      "[19]\tvalidation_0-auc:0.96177\n",
      "[20]\tvalidation_0-auc:0.96228\n",
      "[21]\tvalidation_0-auc:0.96258\n",
      "[22]\tvalidation_0-auc:0.96279\n",
      "[23]\tvalidation_0-auc:0.96330\n",
      "[24]\tvalidation_0-auc:0.96375\n",
      "[25]\tvalidation_0-auc:0.96402\n",
      "[26]\tvalidation_0-auc:0.96419\n",
      "[27]\tvalidation_0-auc:0.96433\n",
      "[28]\tvalidation_0-auc:0.96461\n",
      "[29]\tvalidation_0-auc:0.96481\n",
      "[30]\tvalidation_0-auc:0.96510\n",
      "[31]\tvalidation_0-auc:0.96521\n",
      "[32]\tvalidation_0-auc:0.96534\n",
      "[33]\tvalidation_0-auc:0.96540\n",
      "[34]\tvalidation_0-auc:0.96557\n",
      "[35]\tvalidation_0-auc:0.96564\n",
      "[36]\tvalidation_0-auc:0.96577\n",
      "[37]\tvalidation_0-auc:0.96587\n",
      "[38]\tvalidation_0-auc:0.96593\n",
      "[39]\tvalidation_0-auc:0.96590\n",
      "[40]\tvalidation_0-auc:0.96599\n",
      "[41]\tvalidation_0-auc:0.96604\n",
      "[42]\tvalidation_0-auc:0.96610\n",
      "[43]\tvalidation_0-auc:0.96615\n",
      "[44]\tvalidation_0-auc:0.96620\n",
      "[45]\tvalidation_0-auc:0.96626\n",
      "[46]\tvalidation_0-auc:0.96632\n",
      "[47]\tvalidation_0-auc:0.96638\n",
      "[48]\tvalidation_0-auc:0.96647\n",
      "[49]\tvalidation_0-auc:0.96653\n",
      "[50]\tvalidation_0-auc:0.96650\n",
      "[51]\tvalidation_0-auc:0.96658\n",
      "[52]\tvalidation_0-auc:0.96668\n",
      "[53]\tvalidation_0-auc:0.96671\n",
      "[54]\tvalidation_0-auc:0.96672\n",
      "[55]\tvalidation_0-auc:0.96683\n",
      "[56]\tvalidation_0-auc:0.96685\n",
      "[57]\tvalidation_0-auc:0.96685\n",
      "[58]\tvalidation_0-auc:0.96693\n",
      "[59]\tvalidation_0-auc:0.96700\n",
      "[60]\tvalidation_0-auc:0.96699\n",
      "[61]\tvalidation_0-auc:0.96701\n",
      "[62]\tvalidation_0-auc:0.96701\n",
      "[63]\tvalidation_0-auc:0.96708\n",
      "[64]\tvalidation_0-auc:0.96717\n",
      "[65]\tvalidation_0-auc:0.96716\n",
      "[66]\tvalidation_0-auc:0.96723\n",
      "[67]\tvalidation_0-auc:0.96732\n",
      "[68]\tvalidation_0-auc:0.96739\n",
      "[69]\tvalidation_0-auc:0.96741\n",
      "[70]\tvalidation_0-auc:0.96747\n",
      "[71]\tvalidation_0-auc:0.96752\n",
      "[72]\tvalidation_0-auc:0.96757\n",
      "[73]\tvalidation_0-auc:0.96761\n",
      "[74]\tvalidation_0-auc:0.96768\n",
      "[75]\tvalidation_0-auc:0.96772\n",
      "[76]\tvalidation_0-auc:0.96776\n",
      "[77]\tvalidation_0-auc:0.96784\n",
      "[78]\tvalidation_0-auc:0.96791\n",
      "[79]\tvalidation_0-auc:0.96795\n",
      "[80]\tvalidation_0-auc:0.96794\n",
      "[81]\tvalidation_0-auc:0.96799\n",
      "[82]\tvalidation_0-auc:0.96802\n",
      "[83]\tvalidation_0-auc:0.96799\n",
      "[84]\tvalidation_0-auc:0.96797\n",
      "[85]\tvalidation_0-auc:0.96799\n",
      "[86]\tvalidation_0-auc:0.96801\n",
      "[87]\tvalidation_0-auc:0.96802\n",
      "[88]\tvalidation_0-auc:0.96806\n",
      "[89]\tvalidation_0-auc:0.96812\n",
      "[90]\tvalidation_0-auc:0.96814\n",
      "[91]\tvalidation_0-auc:0.96814\n",
      "[92]\tvalidation_0-auc:0.96817\n",
      "[93]\tvalidation_0-auc:0.96816\n",
      "[94]\tvalidation_0-auc:0.96814\n",
      "[95]\tvalidation_0-auc:0.96813\n",
      "[96]\tvalidation_0-auc:0.96812\n",
      "[97]\tvalidation_0-auc:0.96813\n",
      "[98]\tvalidation_0-auc:0.96817\n",
      "[99]\tvalidation_0-auc:0.96820\n",
      "[100]\tvalidation_0-auc:0.96819\n",
      "[101]\tvalidation_0-auc:0.96818\n",
      "[102]\tvalidation_0-auc:0.96823\n",
      "[103]\tvalidation_0-auc:0.96825\n",
      "[104]\tvalidation_0-auc:0.96827\n",
      "[105]\tvalidation_0-auc:0.96825\n",
      "[106]\tvalidation_0-auc:0.96831\n",
      "[107]\tvalidation_0-auc:0.96833\n",
      "[108]\tvalidation_0-auc:0.96831\n",
      "[109]\tvalidation_0-auc:0.96829\n",
      "[110]\tvalidation_0-auc:0.96831\n",
      "[111]\tvalidation_0-auc:0.96831\n",
      "[112]\tvalidation_0-auc:0.96833\n",
      "[113]\tvalidation_0-auc:0.96834\n",
      "[114]\tvalidation_0-auc:0.96834\n",
      "[115]\tvalidation_0-auc:0.96832\n",
      "[116]\tvalidation_0-auc:0.96836\n",
      "[117]\tvalidation_0-auc:0.96839\n",
      "[118]\tvalidation_0-auc:0.96839\n",
      "[119]\tvalidation_0-auc:0.96841\n",
      "[120]\tvalidation_0-auc:0.96841\n",
      "[121]\tvalidation_0-auc:0.96843\n",
      "[122]\tvalidation_0-auc:0.96843\n",
      "[123]\tvalidation_0-auc:0.96846\n",
      "[124]\tvalidation_0-auc:0.96846\n",
      "[125]\tvalidation_0-auc:0.96848\n",
      "[126]\tvalidation_0-auc:0.96850\n",
      "[127]\tvalidation_0-auc:0.96849\n",
      "[128]\tvalidation_0-auc:0.96851\n",
      "[129]\tvalidation_0-auc:0.96854\n",
      "[130]\tvalidation_0-auc:0.96853\n",
      "[131]\tvalidation_0-auc:0.96858\n",
      "[132]\tvalidation_0-auc:0.96857\n",
      "[133]\tvalidation_0-auc:0.96856\n",
      "[134]\tvalidation_0-auc:0.96859\n",
      "[135]\tvalidation_0-auc:0.96861\n",
      "[136]\tvalidation_0-auc:0.96862\n",
      "[137]\tvalidation_0-auc:0.96861\n",
      "[138]\tvalidation_0-auc:0.96861\n",
      "[139]\tvalidation_0-auc:0.96862\n",
      "[140]\tvalidation_0-auc:0.96861\n",
      "[141]\tvalidation_0-auc:0.96861\n",
      "[142]\tvalidation_0-auc:0.96861\n",
      "[143]\tvalidation_0-auc:0.96862\n",
      "[144]\tvalidation_0-auc:0.96862\n",
      "[145]\tvalidation_0-auc:0.96861\n",
      "[146]\tvalidation_0-auc:0.96861\n",
      "[147]\tvalidation_0-auc:0.96863\n",
      "[148]\tvalidation_0-auc:0.96864\n",
      "[149]\tvalidation_0-auc:0.96865\n",
      "[150]\tvalidation_0-auc:0.96866\n",
      "[151]\tvalidation_0-auc:0.96867\n",
      "[152]\tvalidation_0-auc:0.96867\n",
      "[153]\tvalidation_0-auc:0.96868\n",
      "[154]\tvalidation_0-auc:0.96868\n",
      "[155]\tvalidation_0-auc:0.96873\n",
      "[156]\tvalidation_0-auc:0.96875\n",
      "[157]\tvalidation_0-auc:0.96875\n",
      "[158]\tvalidation_0-auc:0.96877\n",
      "[159]\tvalidation_0-auc:0.96879\n",
      "[160]\tvalidation_0-auc:0.96879\n",
      "[161]\tvalidation_0-auc:0.96879\n",
      "[162]\tvalidation_0-auc:0.96881\n",
      "[163]\tvalidation_0-auc:0.96882\n",
      "[164]\tvalidation_0-auc:0.96884\n",
      "[165]\tvalidation_0-auc:0.96885\n",
      "[166]\tvalidation_0-auc:0.96888\n",
      "[167]\tvalidation_0-auc:0.96889\n",
      "[168]\tvalidation_0-auc:0.96888\n",
      "[169]\tvalidation_0-auc:0.96890\n",
      "[170]\tvalidation_0-auc:0.96891\n",
      "[171]\tvalidation_0-auc:0.96889\n",
      "[172]\tvalidation_0-auc:0.96890\n",
      "[173]\tvalidation_0-auc:0.96889\n",
      "[174]\tvalidation_0-auc:0.96886\n",
      "[175]\tvalidation_0-auc:0.96887\n",
      "[176]\tvalidation_0-auc:0.96889\n",
      "[177]\tvalidation_0-auc:0.96888\n",
      "[178]\tvalidation_0-auc:0.96890\n",
      "[179]\tvalidation_0-auc:0.96891\n",
      "[180]\tvalidation_0-auc:0.96890\n",
      "[181]\tvalidation_0-auc:0.96891\n",
      "[182]\tvalidation_0-auc:0.96891\n",
      "[183]\tvalidation_0-auc:0.96894\n",
      "[184]\tvalidation_0-auc:0.96897\n",
      "[185]\tvalidation_0-auc:0.96899\n",
      "[186]\tvalidation_0-auc:0.96901\n",
      "[187]\tvalidation_0-auc:0.96901\n",
      "[188]\tvalidation_0-auc:0.96903\n",
      "[189]\tvalidation_0-auc:0.96902\n",
      "[190]\tvalidation_0-auc:0.96900\n",
      "[191]\tvalidation_0-auc:0.96901\n",
      "[192]\tvalidation_0-auc:0.96900\n",
      "[193]\tvalidation_0-auc:0.96900\n",
      "[194]\tvalidation_0-auc:0.96900\n",
      "[195]\tvalidation_0-auc:0.96902\n",
      "[196]\tvalidation_0-auc:0.96903\n",
      "[197]\tvalidation_0-auc:0.96901\n",
      "[198]\tvalidation_0-auc:0.96900\n",
      "[199]\tvalidation_0-auc:0.96900\n",
      "[200]\tvalidation_0-auc:0.96900\n",
      "[201]\tvalidation_0-auc:0.96901\n",
      "[202]\tvalidation_0-auc:0.96901\n",
      "[203]\tvalidation_0-auc:0.96903\n",
      "[204]\tvalidation_0-auc:0.96903\n",
      "[205]\tvalidation_0-auc:0.96905\n",
      "[206]\tvalidation_0-auc:0.96908\n",
      "[207]\tvalidation_0-auc:0.96910\n",
      "[208]\tvalidation_0-auc:0.96910\n",
      "[209]\tvalidation_0-auc:0.96909\n",
      "[210]\tvalidation_0-auc:0.96909\n",
      "[211]\tvalidation_0-auc:0.96910\n",
      "[212]\tvalidation_0-auc:0.96909\n",
      "[213]\tvalidation_0-auc:0.96909\n",
      "[214]\tvalidation_0-auc:0.96910\n",
      "[215]\tvalidation_0-auc:0.96910\n",
      "[216]\tvalidation_0-auc:0.96909\n",
      "[217]\tvalidation_0-auc:0.96910\n",
      "[218]\tvalidation_0-auc:0.96910\n",
      "[219]\tvalidation_0-auc:0.96910\n",
      "[220]\tvalidation_0-auc:0.96912\n",
      "[221]\tvalidation_0-auc:0.96912\n",
      "[222]\tvalidation_0-auc:0.96911\n",
      "[223]\tvalidation_0-auc:0.96911\n",
      "[224]\tvalidation_0-auc:0.96912\n",
      "[225]\tvalidation_0-auc:0.96915\n",
      "[226]\tvalidation_0-auc:0.96916\n",
      "[227]\tvalidation_0-auc:0.96916\n",
      "[228]\tvalidation_0-auc:0.96915\n",
      "[229]\tvalidation_0-auc:0.96917\n",
      "[230]\tvalidation_0-auc:0.96917\n",
      "[231]\tvalidation_0-auc:0.96918\n",
      "[232]\tvalidation_0-auc:0.96918\n",
      "[233]\tvalidation_0-auc:0.96920\n",
      "[234]\tvalidation_0-auc:0.96921\n",
      "[235]\tvalidation_0-auc:0.96920\n",
      "[236]\tvalidation_0-auc:0.96918\n",
      "[237]\tvalidation_0-auc:0.96918\n",
      "[238]\tvalidation_0-auc:0.96918\n",
      "[239]\tvalidation_0-auc:0.96918\n",
      "[240]\tvalidation_0-auc:0.96919\n",
      "[241]\tvalidation_0-auc:0.96921\n",
      "[242]\tvalidation_0-auc:0.96922\n",
      "[243]\tvalidation_0-auc:0.96922\n",
      "[244]\tvalidation_0-auc:0.96922\n",
      "[245]\tvalidation_0-auc:0.96919\n",
      "[246]\tvalidation_0-auc:0.96920\n",
      "[247]\tvalidation_0-auc:0.96920\n",
      "[248]\tvalidation_0-auc:0.96920\n",
      "[249]\tvalidation_0-auc:0.96921\n",
      "[250]\tvalidation_0-auc:0.96921\n",
      "[251]\tvalidation_0-auc:0.96921\n",
      "[252]\tvalidation_0-auc:0.96920\n",
      "[253]\tvalidation_0-auc:0.96921\n",
      "[254]\tvalidation_0-auc:0.96921\n",
      "[255]\tvalidation_0-auc:0.96923\n",
      "[256]\tvalidation_0-auc:0.96924\n",
      "[257]\tvalidation_0-auc:0.96924\n",
      "[258]\tvalidation_0-auc:0.96923\n",
      "[259]\tvalidation_0-auc:0.96924\n",
      "[260]\tvalidation_0-auc:0.96926\n",
      "[261]\tvalidation_0-auc:0.96926\n",
      "[262]\tvalidation_0-auc:0.96927\n",
      "[263]\tvalidation_0-auc:0.96927\n",
      "[264]\tvalidation_0-auc:0.96926\n",
      "[265]\tvalidation_0-auc:0.96926\n",
      "[266]\tvalidation_0-auc:0.96926\n",
      "[267]\tvalidation_0-auc:0.96926\n"
     ]
    },
    {
     "name": "stdout",
     "output_type": "stream",
     "text": [
      "[268]\tvalidation_0-auc:0.96928\n",
      "[269]\tvalidation_0-auc:0.96927\n",
      "[270]\tvalidation_0-auc:0.96927\n",
      "[271]\tvalidation_0-auc:0.96928\n",
      "[272]\tvalidation_0-auc:0.96928\n",
      "[273]\tvalidation_0-auc:0.96929\n",
      "[274]\tvalidation_0-auc:0.96930\n",
      "[275]\tvalidation_0-auc:0.96929\n",
      "[276]\tvalidation_0-auc:0.96928\n",
      "[277]\tvalidation_0-auc:0.96929\n",
      "[278]\tvalidation_0-auc:0.96929\n",
      "[279]\tvalidation_0-auc:0.96930\n",
      "[280]\tvalidation_0-auc:0.96929\n",
      "[281]\tvalidation_0-auc:0.96929\n",
      "[282]\tvalidation_0-auc:0.96928\n",
      "[283]\tvalidation_0-auc:0.96928\n",
      "[284]\tvalidation_0-auc:0.96928\n",
      "[285]\tvalidation_0-auc:0.96928\n",
      "[286]\tvalidation_0-auc:0.96928\n",
      "[287]\tvalidation_0-auc:0.96927\n",
      "[288]\tvalidation_0-auc:0.96928\n",
      "[289]\tvalidation_0-auc:0.96927\n",
      "[290]\tvalidation_0-auc:0.96928\n",
      "[291]\tvalidation_0-auc:0.96928\n",
      "[292]\tvalidation_0-auc:0.96927\n",
      "[293]\tvalidation_0-auc:0.96926\n",
      "[294]\tvalidation_0-auc:0.96926\n",
      "[295]\tvalidation_0-auc:0.96927\n",
      "[296]\tvalidation_0-auc:0.96928\n",
      "[297]\tvalidation_0-auc:0.96928\n",
      "[298]\tvalidation_0-auc:0.96928\n"
     ]
    }
   ],
   "source": [
    "model = XGBClassifier(use_label_encoder=False, \n",
    "                      max_depth=10, \n",
    "                      reg_alpha=0, \n",
    "                      min_child_weight=0.2, \n",
    "                      reg_lambda=3,\n",
    "                      gamma=0,\n",
    "                      eta=0.3,\n",
    "                      tree_method='exact',\n",
    "                      eval_metric='auc',\n",
    "                      n_estimators=1000, )\n",
    "bst = model.fit(X_train, y_train, early_stopping_rounds=20, eval_set=[(X_test, y_test)], verbose=True,)"
   ]
  },
  {
   "cell_type": "code",
   "execution_count": 225,
   "id": "5dcfa811",
   "metadata": {},
   "outputs": [],
   "source": [
    "cv_score_xgb = cross_val_score(model, X_train, y_train, cv=8, n_jobs=-1, scoring=\"accuracy\")"
   ]
  },
  {
   "cell_type": "code",
   "execution_count": 123,
   "id": "19322b8a",
   "metadata": {},
   "outputs": [
    {
     "ename": "NameError",
     "evalue": "name 'cv_score_xgb' is not defined",
     "output_type": "error",
     "traceback": [
      "\u001b[1;31m---------------------------------------------------------------------------\u001b[0m",
      "\u001b[1;31mNameError\u001b[0m                                 Traceback (most recent call last)",
      "Input \u001b[1;32mIn [123]\u001b[0m, in \u001b[0;36m<cell line: 1>\u001b[1;34m()\u001b[0m\n\u001b[1;32m----> 1\u001b[0m \u001b[38;5;28mprint\u001b[39m(\u001b[38;5;124m\"\u001b[39m\u001b[38;5;124mCross-validated Accuracy:\u001b[39m\u001b[38;5;124m\"\u001b[39m, \u001b[38;5;28mround\u001b[39m(np\u001b[38;5;241m.\u001b[39mmean(\u001b[43mcv_score_xgb\u001b[49m), \u001b[38;5;241m5\u001b[39m), \u001b[38;5;124m\"\u001b[39m\u001b[38;5;124m±\u001b[39m\u001b[38;5;124m\"\u001b[39m, \u001b[38;5;28mround\u001b[39m(np\u001b[38;5;241m.\u001b[39mstd(cv_score_xgb), \u001b[38;5;241m5\u001b[39m))\n",
      "\u001b[1;31mNameError\u001b[0m: name 'cv_score_xgb' is not defined"
     ]
    }
   ],
   "source": [
    "print(\"Cross-validated Accuracy:\", round(np.mean(cv_score_xgb), 5), \"±\", round(np.std(cv_score_xgb), 5))"
   ]
  },
  {
   "cell_type": "code",
   "execution_count": 21,
   "id": "86581b58",
   "metadata": {},
   "outputs": [
    {
     "name": "stdout",
     "output_type": "stream",
     "text": [
      "                                                      precision    recall  f1-score   support\n",
      "\n",
      "      jet-mode radio AGN/low-excitation radio galaxy     0.8720    0.7865    0.8271      2581\n",
      "quasar-like radio AGN / high-excitation radio galaxy     0.7054    0.3370    0.4561       270\n",
      "                                     radio-quiet AGN     0.7820    0.6932    0.7349      1356\n",
      "                                 star-forming galaxy     0.9193    0.9639    0.9411     11315\n",
      "\n",
      "                                            accuracy                         0.8998     15522\n",
      "                                           macro avg     0.8197    0.6952    0.7398     15522\n",
      "                                        weighted avg     0.8957    0.8998    0.8957     15522\n",
      "\n"
     ]
    }
   ],
   "source": [
    "y_pred = model.predict(X_test)\n",
    "print(classification_report(y_test, y_pred, target_names=labels, digits=4))"
   ]
  },
  {
   "cell_type": "code",
   "execution_count": 22,
   "id": "7d8375e7",
   "metadata": {},
   "outputs": [
    {
     "data": {
      "text/plain": [
       "[]"
      ]
     },
     "execution_count": 22,
     "metadata": {},
     "output_type": "execute_result"
    },
    {
     "data": {
      "image/png": "[encoded data removed]",
      "text/plain": [
       "<Figure size 432x288 with 2 Axes>"
      ]
     },
     "metadata": {
      "needs_background": "light"
     },
     "output_type": "display_data"
    }
   ],
   "source": [
    "cm = confusion_matrix(y_test, y_pred)\n",
    "disp = ConfusionMatrixDisplay(confusion_matrix=cm, display_labels=labels)\n",
    "disp.plot()\n",
    "plt.xticks(rotation = 90)\n",
    "plt.plot()"
   ]
  },
  {
   "cell_type": "markdown",
   "id": "53c337c6",
   "metadata": {},
   "source": [
    "## Hyperparameter fitting"
   ]
  },
  {
   "cell_type": "code",
   "execution_count": 10,
   "id": "fd8c987f",
   "metadata": {},
   "outputs": [
    {
     "data": {
      "text/plain": [
       "192"
      ]
     },
     "execution_count": 10,
     "metadata": {},
     "output_type": "execute_result"
    }
   ],
   "source": [
    "import multiprocessing\n",
    "\n",
    "multiprocessing.cpu_count()"
   ]
  },
  {
   "cell_type": "code",
   "execution_count": 11,
   "id": "c3b0e011",
   "metadata": {},
   "outputs": [],
   "source": [
    "from sklearn.utils import class_weight\n",
    "classes_weights = class_weight.compute_sample_weight(\n",
    "    class_weight='balanced',\n",
    "    y=y_train\n",
    ")"
   ]
  },
  {
   "cell_type": "code",
   "execution_count": 12,
   "id": "a407d17d",
   "metadata": {},
   "outputs": [],
   "source": [
    "model = XGBClassifier(use_label_encoder=False, \n",
    "                      max_depth=8, \n",
    "                      reg_alpha=3, \n",
    "                      min_child_weight=0, \n",
    "                      reg_lambda=5,\n",
    "                      gamma=0,\n",
    "                      eta=0.2,\n",
    "                      tree_method='exact',\n",
    "                      eval_metric='auc',\n",
    "                      n_estimators=1000, \n",
    "                      early_stopping_rounds=30,)\n",
    "bst = model.fit(X_train, y_train, \n",
    "                verbose=0, \n",
    "                eval_set=[(X_test, y_test)], \n",
    "                sample_weight=classes_weights)"
   ]
  },
  {
   "cell_type": "code",
   "execution_count": 12,
   "id": "8dfdd1cc",
   "metadata": {},
   "outputs": [],
   "source": [
    "# Metrics for hyperparameter tuning\n",
    "metrics = {\"Accuracy\": \"accuracy\",\n",
    "          \"Balanced accuracy\": \"balanced_accuracy\",\n",
    "          \"F1 score\": \"f1_weighted\"}"
   ]
  },
  {
   "cell_type": "code",
   "execution_count": 13,
   "id": "7d8cd487",
   "metadata": {},
   "outputs": [],
   "source": [
    "# Parameter space\n",
    "parameters = { \n",
    "         \"max_depth\": [8,9,10,11],\n",
    "         \"reg_alpha\": [0,1,3,5,10], \n",
    "        \"reg_lambda\": [0,1,3,5,10],\n",
    "        \"gamma\": [0,0.5,3],\n",
    "        \"eta\": [0.1, 0.3],\n",
    "        \"min_child_weight\": [0, 0.2, 0.5, 1]}"
   ]
  },
  {
   "cell_type": "code",
   "execution_count": 14,
   "id": "158aac6e",
   "metadata": {},
   "outputs": [],
   "source": [
    "model = XGBClassifier(use_label_encoder=False,\n",
    "                      tree_method='exact',\n",
    "                      eval_metric='auc',\n",
    "                      n_estimators=1000, \n",
    "                      early_stopping_rounds=30,)"
   ]
  },
  {
   "cell_type": "code",
   "execution_count": 16,
   "id": "aba06dcd",
   "metadata": {},
   "outputs": [
    {
     "name": "stdout",
     "output_type": "stream",
     "text": [
      "Fitting 3 folds for each of 2400 candidates, totalling 7200 fits\n"
     ]
    },
    {
     "name": "stderr",
     "output_type": "stream",
     "text": [
      "/Software/users/modules/7/software/anaconda3/2021.11/lib/python3.9/site-packages/joblib/externals/loky/process_executor.py:702: UserWarning: A worker stopped while some jobs were given to the executor. This can be caused by a too short worker timeout or by a memory leak.\n",
      "  warnings.warn(\n"
     ]
    }
   ],
   "source": [
    "clf = GridSearchCV(estimator=model, \n",
    "                   param_grid=parameters,\n",
    "                  scoring=metrics,\n",
    "                  refit=\"Accuracy\",\n",
    "                  return_train_score=True,\n",
    "                  n_jobs=128,\n",
    "                  cv=3,\n",
    "                  verbose=1)\n",
    "\n",
    "grid = clf.fit(X_train, y_train, eval_set=[(X_test, y_test)], verbose=0)"
   ]
  },
  {
   "cell_type": "code",
   "execution_count": 17,
   "id": "3b5e3858",
   "metadata": {},
   "outputs": [
    {
     "data": {
      "text/plain": [
       "({'eta': 0.1,\n",
       "  'gamma': 0,\n",
       "  'max_depth': 10,\n",
       "  'min_child_weight': 0.2,\n",
       "  'reg_alpha': 0,\n",
       "  'reg_lambda': 3},\n",
       " 0.8753438593213124)"
      ]
     },
     "execution_count": 17,
     "metadata": {},
     "output_type": "execute_result"
    }
   ],
   "source": [
    "clf.best_params_, clf.best_score_"
   ]
  },
  {
   "cell_type": "code",
   "execution_count": null,
   "id": "d5da500e",
   "metadata": {},
   "outputs": [],
   "source": [
    "({'eta': 0.1,\n",
    "  'gamma': 0,\n",
    "  'max_depth': 10,\n",
    "  'min_child_weight': 0.2,\n",
    "  'reg_alpha': 0,\n",
    "  'reg_lambda': 3},\n",
    " 0.8753438593213124)"
   ]
  },
  {
   "cell_type": "code",
   "execution_count": 25,
   "id": "a86f15ec",
   "metadata": {},
   "outputs": [],
   "source": [
    "model = XGBClassifier(use_label_encoder=False, \n",
    "                      max_depth=10, \n",
    "                      reg_alpha=0, \n",
    "                      min_child_weight=0.2, \n",
    "                      reg_lambda=3,\n",
    "                      gamma=0,\n",
    "                      eta=0.1,\n",
    "                      tree_method='exact',\n",
    "                      eval_metric='auc',\n",
    "                      n_estimators=200, )"
   ]
  },
  {
   "cell_type": "code",
   "execution_count": null,
   "id": "b64e379a",
   "metadata": {},
   "outputs": [],
   "source": []
  },
  {
   "cell_type": "code",
   "execution_count": 27,
   "id": "1f656ab9",
   "metadata": {},
   "outputs": [],
   "source": [
    "cv_score_xgb = cross_val_score(model, X_train, y_train, cv=8,  n_jobs=8, scoring=\"accuracy\")"
   ]
  },
  {
   "cell_type": "code",
   "execution_count": 28,
   "id": "3102f2d8",
   "metadata": {},
   "outputs": [
    {
     "name": "stdout",
     "output_type": "stream",
     "text": [
      "Cross-validated Accuracy: 0.87577 ± 0.00963\n"
     ]
    }
   ],
   "source": [
    "print(\"Cross-validated Accuracy:\", round(np.mean(cv_score_xgb), 5), \"±\", round(np.std(cv_score_xgb), 5))"
   ]
  },
  {
   "cell_type": "code",
   "execution_count": 10,
   "id": "872004e9",
   "metadata": {},
   "outputs": [
    {
     "data": {
      "text/html": [
       "<style>#sk-container-id-1 {color: black;background-color: white;}#sk-container-id-1 pre{padding: 0;}#sk-container-id-1 div.sk-toggleable {background-color: white;}#sk-container-id-1 label.sk-toggleable__label {cursor: pointer;display: block;width: 100%;margin-bottom: 0;padding: 0.3em;box-sizing: border-box;text-align: center;}#sk-container-id-1 label.sk-toggleable__label-arrow:before {content: \"▸\";float: left;margin-right: 0.25em;color: #696969;}#sk-container-id-1 label.sk-toggleable__label-arrow:hover:before {color: black;}#sk-container-id-1 div.sk-estimator:hover label.sk-toggleable__label-arrow:before {color: black;}#sk-container-id-1 div.sk-toggleable__content {max-height: 0;max-width: 0;overflow: hidden;text-align: left;background-color: #f0f8ff;}#sk-container-id-1 div.sk-toggleable__content pre {margin: 0.2em;color: black;border-radius: 0.25em;background-color: #f0f8ff;}#sk-container-id-1 input.sk-toggleable__control:checked~div.sk-toggleable__content {max-height: 200px;max-width: 100%;overflow: auto;}#sk-container-id-1 input.sk-toggleable__control:checked~label.sk-toggleable__label-arrow:before {content: \"▾\";}#sk-container-id-1 div.sk-estimator input.sk-toggleable__control:checked~label.sk-toggleable__label {background-color: #d4ebff;}#sk-container-id-1 div.sk-label input.sk-toggleable__control:checked~label.sk-toggleable__label {background-color: #d4ebff;}#sk-container-id-1 input.sk-hidden--visually {border: 0;clip: rect(1px 1px 1px 1px);clip: rect(1px, 1px, 1px, 1px);height: 1px;margin: -1px;overflow: hidden;padding: 0;position: absolute;width: 1px;}#sk-container-id-1 div.sk-estimator {font-family: monospace;background-color: #f0f8ff;border: 1px dotted black;border-radius: 0.25em;box-sizing: border-box;margin-bottom: 0.5em;}#sk-container-id-1 div.sk-estimator:hover {background-color: #d4ebff;}#sk-container-id-1 div.sk-parallel-item::after {content: \"\";width: 100%;border-bottom: 1px solid gray;flex-grow: 1;}#sk-container-id-1 div.sk-label:hover label.sk-toggleable__label {background-color: #d4ebff;}#sk-container-id-1 div.sk-serial::before {content: \"\";position: absolute;border-left: 1px solid gray;box-sizing: border-box;top: 0;bottom: 0;left: 50%;z-index: 0;}#sk-container-id-1 div.sk-serial {display: flex;flex-direction: column;align-items: center;background-color: white;padding-right: 0.2em;padding-left: 0.2em;position: relative;}#sk-container-id-1 div.sk-item {position: relative;z-index: 1;}#sk-container-id-1 div.sk-parallel {display: flex;align-items: stretch;justify-content: center;background-color: white;position: relative;}#sk-container-id-1 div.sk-item::before, #sk-container-id-1 div.sk-parallel-item::before {content: \"\";position: absolute;border-left: 1px solid gray;box-sizing: border-box;top: 0;bottom: 0;left: 50%;z-index: -1;}#sk-container-id-1 div.sk-parallel-item {display: flex;flex-direction: column;z-index: 1;position: relative;background-color: white;}#sk-container-id-1 div.sk-parallel-item:first-child::after {align-self: flex-end;width: 50%;}#sk-container-id-1 div.sk-parallel-item:last-child::after {align-self: flex-start;width: 50%;}#sk-container-id-1 div.sk-parallel-item:only-child::after {width: 0;}#sk-container-id-1 div.sk-dashed-wrapped {border: 1px dashed gray;margin: 0 0.4em 0.5em 0.4em;box-sizing: border-box;padding-bottom: 0.4em;background-color: white;}#sk-container-id-1 div.sk-label label {font-family: monospace;font-weight: bold;display: inline-block;line-height: 1.2em;}#sk-container-id-1 div.sk-label-container {text-align: center;}#sk-container-id-1 div.sk-container {/* jupyter's `normalize.less` sets `[hidden] { display: none; }` but bootstrap.min.css set `[hidden] { display: none !important; }` so we also need the `!important` here to be able to override the default hidden behavior on the sphinx rendered scikit-learn.org. See: https://github.com/scikit-learn/scikit-learn/issues/21755 */display: inline-block !important;position: relative;}#sk-container-id-1 div.sk-text-repr-fallback {display: none;}</style><div id=\"sk-container-id-1\" class=\"sk-top-container\"><div class=\"sk-text-repr-fallback\"><pre>XGBClassifier(base_score=0.5, booster=&#x27;gbtree&#x27;, callbacks=None,\n",
       "              colsample_bylevel=1, colsample_bynode=1, colsample_bytree=1,\n",
       "              early_stopping_rounds=None, enable_categorical=False, eta=0.1,\n",
       "              eval_metric=&#x27;auc&#x27;, gamma=0, gpu_id=-1, grow_policy=&#x27;depthwise&#x27;,\n",
       "              importance_type=None, interaction_constraints=&#x27;&#x27;,\n",
       "              learning_rate=0.100000001, max_bin=256, max_cat_to_onehot=4,\n",
       "              max_delta_step=0, max_depth=10, max_leaves=0,\n",
       "              min_child_weight=0.2, missing=nan, monotone_constraints=&#x27;()&#x27;,\n",
       "              n_estimators=1000, n_jobs=0, num_parallel_tree=1,\n",
       "              objective=&#x27;multi:softprob&#x27;, predictor=&#x27;auto&#x27;, random_state=0, ...)</pre><b>In a Jupyter environment, please rerun this cell to show the HTML representation or trust the notebook. <br />On GitHub, the HTML representation is unable to render, please try loading this page with nbviewer.org.</b></div><div class=\"sk-container\" hidden><div class=\"sk-item\"><div class=\"sk-estimator sk-toggleable\"><input class=\"sk-toggleable__control sk-hidden--visually\" id=\"sk-estimator-id-1\" type=\"checkbox\" checked><label for=\"sk-estimator-id-1\" class=\"sk-toggleable__label sk-toggleable__label-arrow\">XGBClassifier</label><div class=\"sk-toggleable__content\"><pre>XGBClassifier(base_score=0.5, booster=&#x27;gbtree&#x27;, callbacks=None,\n",
       "              colsample_bylevel=1, colsample_bynode=1, colsample_bytree=1,\n",
       "              early_stopping_rounds=None, enable_categorical=False, eta=0.1,\n",
       "              eval_metric=&#x27;auc&#x27;, gamma=0, gpu_id=-1, grow_policy=&#x27;depthwise&#x27;,\n",
       "              importance_type=None, interaction_constraints=&#x27;&#x27;,\n",
       "              learning_rate=0.100000001, max_bin=256, max_cat_to_onehot=4,\n",
       "              max_delta_step=0, max_depth=10, max_leaves=0,\n",
       "              min_child_weight=0.2, missing=nan, monotone_constraints=&#x27;()&#x27;,\n",
       "              n_estimators=1000, n_jobs=0, num_parallel_tree=1,\n",
       "              objective=&#x27;multi:softprob&#x27;, predictor=&#x27;auto&#x27;, random_state=0, ...)</pre></div></div></div></div></div>"
      ],
      "text/plain": [
       "XGBClassifier(base_score=0.5, booster='gbtree', callbacks=None,\n",
       "              colsample_bylevel=1, colsample_bynode=1, colsample_bytree=1,\n",
       "              early_stopping_rounds=None, enable_categorical=False, eta=0.1,\n",
       "              eval_metric='auc', gamma=0, gpu_id=-1, grow_policy='depthwise',\n",
       "              importance_type=None, interaction_constraints='',\n",
       "              learning_rate=0.100000001, max_bin=256, max_cat_to_onehot=4,\n",
       "              max_delta_step=0, max_depth=10, max_leaves=0,\n",
       "              min_child_weight=0.2, missing=nan, monotone_constraints='()',\n",
       "              n_estimators=1000, n_jobs=0, num_parallel_tree=1,\n",
       "              objective='multi:softprob', predictor='auto', random_state=0, ...)"
      ]
     },
     "execution_count": 10,
     "metadata": {},
     "output_type": "execute_result"
    }
   ],
   "source": [
    "model = XGBClassifier(use_label_encoder=False, \n",
    "                      max_depth=10, \n",
    "                      reg_alpha=0, \n",
    "                      min_child_weight=0.2, \n",
    "                      reg_lambda=3,\n",
    "                      gamma=0,\n",
    "                      eta=0.1,\n",
    "                      tree_method='exact',\n",
    "                      eval_metric='auc',\n",
    "                      n_estimators=1000, )\n",
    "model.fit(X_train, y_train, eval_set=[(X_test, y_test)], verbose=0)"
   ]
  },
  {
   "cell_type": "code",
   "execution_count": 11,
   "id": "a9417db2",
   "metadata": {},
   "outputs": [
    {
     "name": "stdout",
     "output_type": "stream",
     "text": [
      "                                                      precision    recall  f1-score   support\n",
      "\n",
      "      jet-mode radio AGN/low-excitation radio galaxy     0.8880    0.8267    0.8562       652\n",
      "quasar-like radio AGN / high-excitation radio galaxy     0.7419    0.2556    0.3802        90\n",
      "                                     radio-quiet AGN     0.7823    0.7006    0.7392       354\n",
      "                                 star-forming galaxy     0.9112    0.9637    0.9367      2450\n",
      "\n",
      "                                            accuracy                         0.8942      3546\n",
      "                                           macro avg     0.8309    0.6866    0.7281      3546\n",
      "                                        weighted avg     0.8898    0.8942    0.8881      3546\n",
      "\n"
     ]
    }
   ],
   "source": [
    "y_pred = model.predict(X_test)\n",
    "print(classification_report(y_test, y_pred, target_names=labels, digits=4))"
   ]
  },
  {
   "cell_type": "code",
   "execution_count": 21,
   "id": "6db1de23",
   "metadata": {},
   "outputs": [
    {
     "data": {
      "text/plain": [
       "<AxesSubplot:title={'center':'Feature importance'}, xlabel='F score', ylabel='Features'>"
      ]
     },
     "execution_count": 21,
     "metadata": {},
     "output_type": "execute_result"
    },
    {
     "data": {
      "image/png": "[encoded data removed]",
      "text/plain": [
       "<Figure size 720x720 with 1 Axes>"
      ]
     },
     "metadata": {
      "needs_background": "light"
     },
     "output_type": "display_data"
    }
   ],
   "source": [
    "fig, ax = plt.subplots(figsize=(10,10))\n",
    "xgb.plot_importance(model, ax=ax)"
   ]
  },
  {
   "cell_type": "code",
   "execution_count": null,
   "id": "b2fc9e2c",
   "metadata": {},
   "outputs": [],
   "source": []
  },
  {
   "cell_type": "markdown",
   "id": "ebd3626a",
   "metadata": {},
   "source": [
    "# DNN"
   ]
  },
  {
   "cell_type": "code",
   "execution_count": 101,
   "id": "b91985c1",
   "metadata": {},
   "outputs": [],
   "source": [
    "class_weight = compute_class_weight(class_weight='balanced', classes=np.unique(y_train), y=y_train)\n",
    "class_weight_dic = {i:class_weight[i] for i in range(4)}"
   ]
  },
  {
   "cell_type": "code",
   "execution_count": 102,
   "id": "db3f38ca",
   "metadata": {},
   "outputs": [],
   "source": [
    "model = keras.Sequential(\n",
    "    [\n",
    "        keras.layers.Dense(\n",
    "            256, activation=\"relu\", input_shape=(X_train.shape[1],)\n",
    "        ),\n",
    "        keras.layers.Dense(128, activation=\"relu\"),\n",
    "        keras.layers.Dropout(0.3),\n",
    "        keras.layers.Dense(64, activation=\"relu\"),\n",
    "        keras.layers.Dropout(0.3),\n",
    "        keras.layers.Dense(4),\n",
    "    ]\n",
    ")"
   ]
  },
  {
   "cell_type": "code",
   "execution_count": null,
   "id": "df4bcf59",
   "metadata": {},
   "outputs": [],
   "source": []
  },
  {
   "cell_type": "code",
   "execution_count": 111,
   "id": "c6d54148",
   "metadata": {},
   "outputs": [],
   "source": [
    "model.compile(\n",
    "    loss=keras.losses.SparseCategoricalCrossentropy(from_logits=True),\n",
    "    optimizer=\"Adam\",\n",
    "    metrics=[\"accuracy\"],\n",
    ")"
   ]
  },
  {
   "cell_type": "code",
   "execution_count": 112,
   "id": "f6f9dbb1",
   "metadata": {},
   "outputs": [
    {
     "name": "stdout",
     "output_type": "stream",
     "text": [
      "Epoch 1/100\n",
      "444/444 - 3s - loss: 0.8535 - accuracy: 0.7154 - val_loss: 0.7869 - val_accuracy: 0.7296\n",
      "Epoch 2/100\n",
      "444/444 - 1s - loss: 0.7909 - accuracy: 0.7235 - val_loss: 0.7466 - val_accuracy: 0.7363\n",
      "Epoch 3/100\n",
      "444/444 - 2s - loss: 0.7408 - accuracy: 0.7431 - val_loss: 0.6982 - val_accuracy: 0.7569\n",
      "Epoch 4/100\n",
      "444/444 - 2s - loss: 0.6953 - accuracy: 0.7575 - val_loss: 0.6416 - val_accuracy: 0.7716\n",
      "Epoch 5/100\n",
      "444/444 - 2s - loss: 0.6683 - accuracy: 0.7661 - val_loss: 0.6750 - val_accuracy: 0.7685\n",
      "Epoch 6/100\n",
      "444/444 - 2s - loss: 0.6485 - accuracy: 0.7723 - val_loss: 0.6811 - val_accuracy: 0.7733\n",
      "Epoch 7/100\n",
      "444/444 - 2s - loss: 0.6283 - accuracy: 0.7752 - val_loss: 0.5903 - val_accuracy: 0.7924\n",
      "Epoch 8/100\n",
      "444/444 - 2s - loss: 0.6231 - accuracy: 0.7803 - val_loss: 0.5956 - val_accuracy: 0.7879\n",
      "Epoch 9/100\n",
      "444/444 - 2s - loss: 0.6096 - accuracy: 0.7857 - val_loss: 0.5849 - val_accuracy: 0.7939\n",
      "Epoch 10/100\n",
      "444/444 - 2s - loss: 0.6006 - accuracy: 0.7864 - val_loss: 0.5810 - val_accuracy: 0.7953\n",
      "Epoch 11/100\n",
      "444/444 - 2s - loss: 0.5930 - accuracy: 0.7923 - val_loss: 0.5715 - val_accuracy: 0.7961\n",
      "Epoch 12/100\n",
      "444/444 - 2s - loss: 0.5896 - accuracy: 0.7912 - val_loss: 0.6133 - val_accuracy: 0.7707\n",
      "Epoch 13/100\n",
      "444/444 - 2s - loss: 0.5784 - accuracy: 0.7985 - val_loss: 0.5639 - val_accuracy: 0.8029\n",
      "Epoch 14/100\n",
      "444/444 - 2s - loss: 0.5728 - accuracy: 0.7981 - val_loss: 0.5480 - val_accuracy: 0.8012\n",
      "Epoch 15/100\n",
      "444/444 - 2s - loss: 0.5678 - accuracy: 0.8005 - val_loss: 0.5594 - val_accuracy: 0.8037\n",
      "Epoch 16/100\n",
      "444/444 - 2s - loss: 0.5533 - accuracy: 0.8067 - val_loss: 0.5366 - val_accuracy: 0.8088\n",
      "Epoch 17/100\n",
      "444/444 - 2s - loss: 0.5485 - accuracy: 0.8069 - val_loss: 0.5548 - val_accuracy: 0.7989\n",
      "Epoch 18/100\n",
      "444/444 - 2s - loss: 0.5533 - accuracy: 0.8053 - val_loss: 0.5839 - val_accuracy: 0.7955\n",
      "Epoch 19/100\n",
      "444/444 - 2s - loss: 0.5521 - accuracy: 0.8024 - val_loss: 0.5237 - val_accuracy: 0.8147\n",
      "Epoch 20/100\n",
      "444/444 - 2s - loss: 0.5388 - accuracy: 0.8106 - val_loss: 0.5108 - val_accuracy: 0.8187\n",
      "Epoch 21/100\n",
      "444/444 - 2s - loss: 0.5377 - accuracy: 0.8117 - val_loss: 0.5376 - val_accuracy: 0.8080\n",
      "Epoch 22/100\n",
      "444/444 - 2s - loss: 0.5391 - accuracy: 0.8102 - val_loss: 0.5617 - val_accuracy: 0.8068\n",
      "Epoch 23/100\n",
      "444/444 - 2s - loss: 0.5283 - accuracy: 0.8115 - val_loss: 0.5117 - val_accuracy: 0.8192\n",
      "Epoch 24/100\n",
      "444/444 - 2s - loss: 0.5237 - accuracy: 0.8137 - val_loss: 0.5474 - val_accuracy: 0.8063\n",
      "Epoch 25/100\n",
      "444/444 - 2s - loss: 0.5221 - accuracy: 0.8166 - val_loss: 0.5631 - val_accuracy: 0.7829\n",
      "Epoch 26/100\n",
      "444/444 - 2s - loss: 0.5203 - accuracy: 0.8145 - val_loss: 0.5108 - val_accuracy: 0.8218\n",
      "Epoch 27/100\n",
      "444/444 - 2s - loss: 0.5093 - accuracy: 0.8187 - val_loss: 0.4944 - val_accuracy: 0.8226\n",
      "Epoch 28/100\n",
      "444/444 - 2s - loss: 0.5169 - accuracy: 0.8159 - val_loss: 0.5106 - val_accuracy: 0.8237\n",
      "Epoch 29/100\n",
      "444/444 - 2s - loss: 0.5129 - accuracy: 0.8201 - val_loss: 0.5101 - val_accuracy: 0.8246\n",
      "Epoch 30/100\n",
      "444/444 - 2s - loss: 0.5111 - accuracy: 0.8172 - val_loss: 0.4930 - val_accuracy: 0.8268\n",
      "Epoch 31/100\n",
      "444/444 - 2s - loss: 0.5044 - accuracy: 0.8194 - val_loss: 0.4970 - val_accuracy: 0.8232\n",
      "Epoch 32/100\n",
      "444/444 - 2s - loss: 0.5011 - accuracy: 0.8191 - val_loss: 0.4979 - val_accuracy: 0.8209\n",
      "Epoch 33/100\n",
      "444/444 - 2s - loss: 0.5084 - accuracy: 0.8175 - val_loss: 0.4828 - val_accuracy: 0.8226\n",
      "Epoch 34/100\n",
      "444/444 - 2s - loss: 0.4945 - accuracy: 0.8242 - val_loss: 0.5039 - val_accuracy: 0.8218\n",
      "Epoch 35/100\n",
      "444/444 - 2s - loss: 0.4963 - accuracy: 0.8205 - val_loss: 0.4862 - val_accuracy: 0.8198\n",
      "Epoch 36/100\n",
      "444/444 - 2s - loss: 0.5009 - accuracy: 0.8215 - val_loss: 0.5285 - val_accuracy: 0.8096\n",
      "Epoch 37/100\n",
      "444/444 - 2s - loss: 0.4876 - accuracy: 0.8225 - val_loss: 0.4967 - val_accuracy: 0.8263\n",
      "Epoch 38/100\n",
      "444/444 - 2s - loss: 0.4953 - accuracy: 0.8198 - val_loss: 0.4988 - val_accuracy: 0.8252\n",
      "Epoch 39/100\n",
      "444/444 - 2s - loss: 0.4855 - accuracy: 0.8262 - val_loss: 0.5021 - val_accuracy: 0.8305\n",
      "Epoch 40/100\n",
      "444/444 - 2s - loss: 0.4873 - accuracy: 0.8230 - val_loss: 0.5162 - val_accuracy: 0.8136\n",
      "Epoch 41/100\n",
      "444/444 - 2s - loss: 0.4787 - accuracy: 0.8273 - val_loss: 0.4982 - val_accuracy: 0.8308\n",
      "Epoch 42/100\n",
      "444/444 - 2s - loss: 0.4809 - accuracy: 0.8270 - val_loss: 0.5258 - val_accuracy: 0.8314\n",
      "Epoch 43/100\n",
      "444/444 - 2s - loss: 0.4865 - accuracy: 0.8241 - val_loss: 0.4718 - val_accuracy: 0.8370\n",
      "Epoch 44/100\n",
      "444/444 - 2s - loss: 0.4735 - accuracy: 0.8311 - val_loss: 0.4780 - val_accuracy: 0.8333\n",
      "Epoch 45/100\n",
      "444/444 - 2s - loss: 0.4766 - accuracy: 0.8270 - val_loss: 0.4831 - val_accuracy: 0.8305\n",
      "Epoch 46/100\n",
      "444/444 - 2s - loss: 0.4751 - accuracy: 0.8301 - val_loss: 0.4795 - val_accuracy: 0.8294\n",
      "Epoch 47/100\n",
      "444/444 - 2s - loss: 0.4863 - accuracy: 0.8256 - val_loss: 0.4751 - val_accuracy: 0.8263\n",
      "Epoch 48/100\n",
      "444/444 - 2s - loss: 0.4738 - accuracy: 0.8278 - val_loss: 0.5362 - val_accuracy: 0.8178\n",
      "Epoch 49/100\n",
      "444/444 - 2s - loss: 0.4759 - accuracy: 0.8269 - val_loss: 0.4805 - val_accuracy: 0.8333\n",
      "Epoch 50/100\n",
      "444/444 - 2s - loss: 0.4767 - accuracy: 0.8243 - val_loss: 0.4960 - val_accuracy: 0.8192\n",
      "Epoch 51/100\n",
      "444/444 - 2s - loss: 0.4656 - accuracy: 0.8295 - val_loss: 0.4868 - val_accuracy: 0.8215\n",
      "Epoch 52/100\n",
      "444/444 - 2s - loss: 0.4696 - accuracy: 0.8292 - val_loss: 0.4796 - val_accuracy: 0.8364\n",
      "Epoch 53/100\n",
      "444/444 - 2s - loss: 0.4576 - accuracy: 0.8333 - val_loss: 0.4655 - val_accuracy: 0.8328\n",
      "Epoch 54/100\n",
      "444/444 - 2s - loss: 0.4669 - accuracy: 0.8297 - val_loss: 0.4946 - val_accuracy: 0.8331\n",
      "Epoch 55/100\n",
      "444/444 - 2s - loss: 0.4662 - accuracy: 0.8319 - val_loss: 0.4876 - val_accuracy: 0.8328\n",
      "Epoch 56/100\n",
      "444/444 - 2s - loss: 0.4642 - accuracy: 0.8318 - val_loss: 0.4735 - val_accuracy: 0.8381\n",
      "Epoch 57/100\n",
      "444/444 - 2s - loss: 0.4589 - accuracy: 0.8307 - val_loss: 0.4772 - val_accuracy: 0.8285\n",
      "Epoch 58/100\n",
      "444/444 - 2s - loss: 0.4611 - accuracy: 0.8298 - val_loss: 0.4673 - val_accuracy: 0.8325\n",
      "Epoch 59/100\n",
      "444/444 - 2s - loss: 0.4543 - accuracy: 0.8342 - val_loss: 0.4963 - val_accuracy: 0.8263\n",
      "Epoch 60/100\n",
      "444/444 - 2s - loss: 0.4529 - accuracy: 0.8349 - val_loss: 0.4997 - val_accuracy: 0.8322\n",
      "Epoch 61/100\n",
      "444/444 - 2s - loss: 0.4549 - accuracy: 0.8318 - val_loss: 0.5122 - val_accuracy: 0.8316\n",
      "Epoch 62/100\n",
      "444/444 - 2s - loss: 0.4585 - accuracy: 0.8313 - val_loss: 0.4809 - val_accuracy: 0.8260\n",
      "Epoch 63/100\n",
      "444/444 - 2s - loss: 0.4575 - accuracy: 0.8309 - val_loss: 0.5450 - val_accuracy: 0.8158\n",
      "Epoch 64/100\n",
      "444/444 - 2s - loss: 0.4563 - accuracy: 0.8317 - val_loss: 0.4720 - val_accuracy: 0.8285\n",
      "Epoch 65/100\n",
      "444/444 - 2s - loss: 0.4494 - accuracy: 0.8344 - val_loss: 0.4880 - val_accuracy: 0.8350\n",
      "Epoch 66/100\n",
      "444/444 - 2s - loss: 0.4569 - accuracy: 0.8331 - val_loss: 0.4775 - val_accuracy: 0.8390\n",
      "Epoch 67/100\n",
      "444/444 - 2s - loss: 0.4520 - accuracy: 0.8345 - val_loss: 0.4689 - val_accuracy: 0.8370\n",
      "Epoch 68/100\n",
      "444/444 - 2s - loss: 0.4522 - accuracy: 0.8314 - val_loss: 0.4671 - val_accuracy: 0.8367\n",
      "Epoch 69/100\n",
      "444/444 - 2s - loss: 0.4510 - accuracy: 0.8330 - val_loss: 0.4864 - val_accuracy: 0.8299\n",
      "Epoch 70/100\n",
      "444/444 - 2s - loss: 0.4472 - accuracy: 0.8343 - val_loss: 0.4760 - val_accuracy: 0.8353\n",
      "Epoch 71/100\n",
      "444/444 - 2s - loss: 0.4478 - accuracy: 0.8361 - val_loss: 0.4707 - val_accuracy: 0.8342\n",
      "Epoch 72/100\n",
      "444/444 - 2s - loss: 0.4475 - accuracy: 0.8361 - val_loss: 0.4889 - val_accuracy: 0.8387\n",
      "Epoch 73/100\n",
      "444/444 - 2s - loss: 0.4500 - accuracy: 0.8337 - val_loss: 0.4712 - val_accuracy: 0.8356\n",
      "Epoch 74/100\n",
      "444/444 - 2s - loss: 0.4483 - accuracy: 0.8333 - val_loss: 0.4605 - val_accuracy: 0.8353\n",
      "Epoch 75/100\n",
      "444/444 - 2s - loss: 0.4453 - accuracy: 0.8360 - val_loss: 0.4918 - val_accuracy: 0.8299\n",
      "Epoch 76/100\n",
      "444/444 - 2s - loss: 0.4442 - accuracy: 0.8371 - val_loss: 0.4647 - val_accuracy: 0.8387\n",
      "Epoch 77/100\n",
      "444/444 - 3s - loss: 0.4323 - accuracy: 0.8370 - val_loss: 0.5159 - val_accuracy: 0.8226\n",
      "Epoch 78/100\n",
      "444/444 - 2s - loss: 0.4446 - accuracy: 0.8350 - val_loss: 0.4851 - val_accuracy: 0.8229\n",
      "Epoch 79/100\n",
      "444/444 - 2s - loss: 0.4436 - accuracy: 0.8354 - val_loss: 0.4681 - val_accuracy: 0.8311\n",
      "Epoch 80/100\n",
      "444/444 - 2s - loss: 0.4400 - accuracy: 0.8363 - val_loss: 0.4966 - val_accuracy: 0.8331\n",
      "Epoch 81/100\n",
      "444/444 - 2s - loss: 0.4414 - accuracy: 0.8372 - val_loss: 0.5054 - val_accuracy: 0.8240\n"
     ]
    },
    {
     "name": "stdout",
     "output_type": "stream",
     "text": [
      "Epoch 82/100\n",
      "444/444 - 2s - loss: 0.4393 - accuracy: 0.8372 - val_loss: 0.4694 - val_accuracy: 0.8314\n",
      "Epoch 83/100\n",
      "444/444 - 2s - loss: 0.4377 - accuracy: 0.8366 - val_loss: 0.4751 - val_accuracy: 0.8283\n",
      "Epoch 84/100\n",
      "444/444 - 2s - loss: 0.4345 - accuracy: 0.8373 - val_loss: 0.5005 - val_accuracy: 0.8342\n",
      "Epoch 85/100\n",
      "444/444 - 2s - loss: 0.4369 - accuracy: 0.8395 - val_loss: 0.4677 - val_accuracy: 0.8387\n",
      "Epoch 86/100\n",
      "444/444 - 2s - loss: 0.4323 - accuracy: 0.8398 - val_loss: 0.4919 - val_accuracy: 0.8345\n",
      "Epoch 87/100\n",
      "444/444 - 2s - loss: 0.4322 - accuracy: 0.8409 - val_loss: 0.4966 - val_accuracy: 0.8316\n",
      "Epoch 88/100\n",
      "444/444 - 2s - loss: 0.4362 - accuracy: 0.8373 - val_loss: 0.4786 - val_accuracy: 0.8370\n",
      "Epoch 89/100\n",
      "444/444 - 2s - loss: 0.4297 - accuracy: 0.8399 - val_loss: 0.4814 - val_accuracy: 0.8356\n",
      "Epoch 90/100\n",
      "444/444 - 2s - loss: 0.4345 - accuracy: 0.8378 - val_loss: 0.4899 - val_accuracy: 0.8333\n",
      "Epoch 91/100\n",
      "444/444 - 2s - loss: 0.4369 - accuracy: 0.8372 - val_loss: 0.4686 - val_accuracy: 0.8359\n",
      "Epoch 92/100\n",
      "444/444 - 2s - loss: 0.4279 - accuracy: 0.8385 - val_loss: 0.5042 - val_accuracy: 0.8229\n",
      "Epoch 93/100\n",
      "444/444 - 2s - loss: 0.4319 - accuracy: 0.8408 - val_loss: 0.4776 - val_accuracy: 0.8387\n",
      "Epoch 94/100\n",
      "444/444 - 2s - loss: 0.4365 - accuracy: 0.8380 - val_loss: 0.4753 - val_accuracy: 0.8373\n",
      "Epoch 95/100\n",
      "444/444 - 2s - loss: 0.4317 - accuracy: 0.8397 - val_loss: 0.5083 - val_accuracy: 0.8297\n",
      "Epoch 96/100\n",
      "444/444 - 2s - loss: 0.4298 - accuracy: 0.8405 - val_loss: 0.5148 - val_accuracy: 0.8232\n",
      "Epoch 97/100\n",
      "444/444 - 2s - loss: 0.4303 - accuracy: 0.8385 - val_loss: 0.4881 - val_accuracy: 0.8395\n",
      "Epoch 98/100\n",
      "444/444 - 2s - loss: 0.4333 - accuracy: 0.8373 - val_loss: 0.5119 - val_accuracy: 0.8280\n",
      "Epoch 99/100\n",
      "444/444 - 2s - loss: 0.4270 - accuracy: 0.8430 - val_loss: 0.4999 - val_accuracy: 0.8283\n",
      "Epoch 100/100\n",
      "444/444 - 2s - loss: 0.4277 - accuracy: 0.8378 - val_loss: 0.4847 - val_accuracy: 0.8359\n"
     ]
    },
    {
     "data": {
      "text/plain": [
       "<keras.callbacks.History at 0x2a824ea0310>"
      ]
     },
     "execution_count": 112,
     "metadata": {},
     "output_type": "execute_result"
    }
   ],
   "source": [
    "model.fit(\n",
    "    X_train,\n",
    "    y_train,\n",
    "    batch_size=32,\n",
    "    epochs=100,\n",
    "    verbose=2,\n",
    "    #callbacks=callbacks,\n",
    "    validation_data=(X_test, y_test),\n",
    "    #class_weight=class_weight_dic,\n",
    ")"
   ]
  },
  {
   "cell_type": "code",
   "execution_count": null,
   "id": "c0113e76",
   "metadata": {},
   "outputs": [],
   "source": []
  },
  {
   "cell_type": "code",
   "execution_count": null,
   "id": "03796d6d",
   "metadata": {},
   "outputs": [],
   "source": []
  }
 ],
 "metadata": {
  "kernelspec": {
   "display_name": "Python 3 (ipykernel)",
   "language": "python",
   "name": "python3"
  },
  "language_info": {
   "codemirror_mode": {
    "name": "ipython",
    "version": 3
   },
   "file_extension": ".py",
   "mimetype": "text/x-python",
   "name": "python",
   "nbconvert_exporter": "python",
   "pygments_lexer": "ipython3",
   "version": "3.9.13"
  },
  "latex_envs": {
   "LaTeX_envs_menu_present": true,
   "autoclose": false,
   "autocomplete": true,
   "bibliofile": "biblio.bib",
   "cite_by": "apalike",
   "current_citInitial": 1,
   "eqLabelWithNumbers": true,
   "eqNumInitial": 1,
   "hotkeys": {
    "equation": "Ctrl-E",
    "itemize": "Ctrl-I"
   },
   "labels_anchors": false,
   "latex_user_defs": false,
   "report_style_numbering": false,
   "user_envs_cfg": false
  }
 },
 "nbformat": 4,
 "nbformat_minor": 5
}
