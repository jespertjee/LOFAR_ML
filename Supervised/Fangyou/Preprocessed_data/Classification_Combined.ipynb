{
 "cells": [
  {
   "cell_type": "code",
   "execution_count": 55,
   "id": "fca4f926",
   "metadata": {},
   "outputs": [],
   "source": [
    "import pandas as pd\n",
    "import numpy as np\n",
    "from sklearn.impute import SimpleImputer\n",
    "from sklearn.model_selection import train_test_split, GridSearchCV, cross_val_score\n",
    "from sklearn.preprocessing import StandardScaler, OneHotEncoder, LabelEncoder, OrdinalEncoder, MinMaxScaler, RobustScaler, MaxAbsScaler\n",
    "from sklearn.ensemble import RandomForestClassifier\n",
    "from sklearn.metrics import accuracy_score, classification_report\n",
    "from sklearn.decomposition import PCA\n",
    "from sklearn.utils.class_weight import compute_class_weight\n",
    "\n",
    "from sklearn.metrics import confusion_matrix, ConfusionMatrixDisplay\n",
    "import matplotlib.pyplot as plt\n",
    "\n",
    "from xgboost import XGBClassifier\n",
    "import xgboost as xgb\n",
    "\n",
    "import tensorflow as tf\n",
    "from tensorflow import keras\n",
    "from tensorflow.keras import layers\n",
    "from keras.models import Sequential\n",
    "from keras.layers import Dense"
   ]
  },
  {
   "cell_type": "code",
   "execution_count": 56,
   "id": "cbbf3730",
   "metadata": {},
   "outputs": [],
   "source": [
    "\"\"\"\n",
    "features_num = [\n",
    "    'Total_flux', 'Peak_flux', \n",
    "       'NUV_flux_corr', 'u_flux_corr', 'Bw_flux_corr', 'R_flux_corr',\n",
    "       'I_flux_corr', 'z_flux_corr', 'z_Subaru_flux_corr', 'y_flux_corr',\n",
    "       'J_flux_corr', 'H_flux_corr', 'K_flux_corr', 'Ks_flux_corr',\n",
    "       'ch1_flux_corr', 'ch2_flux_corr', 'ch3_flux_corr', 'ch4_flux_corr',\n",
    "       'F_MIPS_24', 'F_PACS_100', 'F_PACS_160', 'F_SPIRE_250', 'F_SPIRE_350',\n",
    "       'F_SPIRE_500', 'Z_BEST', 'Mass_median', 'Mass_l68', 'Mass_u68',\n",
    "        'z_rcs_flux_corr', 'z_hsc_flux_corr', 'i_hsc_flux_corr',\n",
    "       'i_rcs_flux_corr', 'i_flux_corr', 'y_hsc_flux_corr', 'r_flux_corr',\n",
    "       'r_hsc_flux_corr', 'r_rcs_flux_corr', 'ch1_swire_flux_corr',\n",
    "       'ch2_swire_flux_corr', 'ch3_swire_flux_corr', 'ch4_swire_flux_corr',\n",
    "       'ch1_servs_flux_corr', 'ch2_servs_flux_corr', 'g_flux_corr',\n",
    "       'g_hsc_flux_corr', 'nb921_hsc_flux_corr', 'g_rcs_flux_corr'\n",
    "]\n",
    "\"\"\"\n",
    "features_num = [\n",
    "    'Total_flux', 'Peak_flux', \n",
    "       'NUV_flux_corr', 'u_flux_corr', 'Bw_flux_corr', 'R_flux_corr',\n",
    "       'I_flux_corr', 'z_flux_corr', 'z_Subaru_flux_corr', 'y_flux_corr',\n",
    "       'J_flux_corr', 'H_flux_corr', 'K_flux_corr', 'Ks_flux_corr',\n",
    "       'ch1_flux_corr', 'ch2_flux_corr', 'ch3_flux_corr', 'ch4_flux_corr',\n",
    "       'F_MIPS_24', 'F_PACS_100', 'F_PACS_160', 'F_SPIRE_250', 'F_SPIRE_350',\n",
    "       'F_SPIRE_500', 'Z_BEST', \n",
    "        'z_rcs_flux_corr', 'z_hsc_flux_corr', 'i_hsc_flux_corr',\n",
    "       'i_rcs_flux_corr', 'i_flux_corr', 'y_hsc_flux_corr', 'r_flux_corr',\n",
    "       'r_hsc_flux_corr', 'r_rcs_flux_corr', 'ch1_swire_flux_corr',\n",
    "       'ch2_swire_flux_corr', 'ch3_swire_flux_corr', 'ch4_swire_flux_corr',\n",
    "       'ch1_servs_flux_corr', 'ch2_servs_flux_corr', 'g_flux_corr',\n",
    "       'g_hsc_flux_corr', 'nb921_hsc_flux_corr', 'g_rcs_flux_corr'\n",
    "]\n",
    "y_column = \"Classification\"\n",
    "\n",
    "classes = ['jet-mode radio AGN/low-excitation radio galaxy', 'quasar-like radio AGN / high-excitation radio galaxy', \n",
    "           'radio-quiet AGN', 'star-forming galaxy']"
   ]
  },
  {
   "cell_type": "code",
   "execution_count": null,
   "id": "f32f2264",
   "metadata": {},
   "outputs": [],
   "source": []
  },
  {
   "cell_type": "code",
   "execution_count": 57,
   "id": "a6906da4",
   "metadata": {},
   "outputs": [],
   "source": [
    "data = pd.read_csv(\"../../../Data/Fangyou_data/Cleaned/combined_filled_preprocessed.csv\")"
   ]
  },
  {
   "cell_type": "code",
   "execution_count": 58,
   "id": "d4521d7b",
   "metadata": {},
   "outputs": [
    {
     "data": {
      "text/plain": [
       "Index(['Source_Name', 'Total_flux', 'Peak_flux', 'S_Code', 'EBV',\n",
       "       'FUV_flux_corr', 'NUV_flux_corr', 'u_flux_corr', 'Bw_flux_corr',\n",
       "       'R_flux_corr', 'I_flux_corr', 'z_flux_corr', 'z_Subaru_flux_corr',\n",
       "       'y_flux_corr', 'J_flux_corr', 'H_flux_corr', 'K_flux_corr',\n",
       "       'Ks_flux_corr', 'ch1_flux_corr', 'ch2_flux_corr', 'ch3_flux_corr',\n",
       "       'ch4_flux_corr', 'F_MIPS_24', 'F_PACS_100', 'F_PACS_160', 'F_SPIRE_250',\n",
       "       'F_SPIRE_350', 'F_SPIRE_500', 'Z_BEST', 'Mass_median', 'Mass_l68',\n",
       "       'Mass_u68', 'Source', 'AGN_final', 'RadioAGN_final', 'Classification',\n",
       "       'Radio_excess', 'AGNfrac_af', 'AGNfrac_af_16', 'AGNfrac_cg_s_16',\n",
       "       'Xray', 'Opt_spec', 'IRAGN', 'Extended_radio', 'z_rcs_flux_corr',\n",
       "       'z_hsc_flux_corr', 'i_hsc_flux_corr', 'i_rcs_flux_corr', 'i_flux_corr',\n",
       "       'y_hsc_flux_corr', 'r_flux_corr', 'r_hsc_flux_corr', 'r_rcs_flux_corr',\n",
       "       'ch1_swire_flux_corr', 'ch2_swire_flux_corr', 'ch3_swire_flux_corr',\n",
       "       'ch4_swire_flux_corr', 'ch1_servs_flux_corr', 'ch2_servs_flux_corr',\n",
       "       'g_flux_corr', 'g_hsc_flux_corr', 'nb921_hsc_flux_corr',\n",
       "       'g_rcs_flux_corr'],\n",
       "      dtype='object')"
      ]
     },
     "execution_count": 58,
     "metadata": {},
     "output_type": "execute_result"
    }
   ],
   "source": [
    "data.columns"
   ]
  },
  {
   "cell_type": "code",
   "execution_count": 59,
   "id": "2774538d",
   "metadata": {},
   "outputs": [
    {
     "data": {
      "text/plain": [
       "Source_Name            0\n",
       "Total_flux             0\n",
       "Peak_flux              0\n",
       "S_Code                 0\n",
       "EBV                    0\n",
       "                      ..\n",
       "ch2_servs_flux_corr    0\n",
       "g_flux_corr            0\n",
       "g_hsc_flux_corr        0\n",
       "nb921_hsc_flux_corr    0\n",
       "g_rcs_flux_corr        0\n",
       "Length: 63, dtype: int64"
      ]
     },
     "execution_count": 59,
     "metadata": {},
     "output_type": "execute_result"
    }
   ],
   "source": [
    "data.isna().sum()"
   ]
  },
  {
   "cell_type": "code",
   "execution_count": 60,
   "id": "7fbd1232",
   "metadata": {},
   "outputs": [],
   "source": [
    "X = data[features_num]\n",
    "y = data[np.append(y_column, ['Xray', 'Opt_spec', 'Extended_radio', 'IRAGN'])]"
   ]
  },
  {
   "cell_type": "code",
   "execution_count": null,
   "id": "59cd4a5b",
   "metadata": {},
   "outputs": [],
   "source": []
  },
  {
   "cell_type": "code",
   "execution_count": null,
   "id": "bcf1526a",
   "metadata": {},
   "outputs": [],
   "source": []
  },
  {
   "cell_type": "code",
   "execution_count": 61,
   "id": "11cc87a3",
   "metadata": {},
   "outputs": [
    {
     "name": "stderr",
     "output_type": "stream",
     "text": [
      "C:\\Users\\jespe\\AppData\\Local\\Temp\\ipykernel_12676\\2925652128.py:3: SettingWithCopyWarning: \n",
      "A value is trying to be set on a copy of a slice from a DataFrame.\n",
      "Try using .loc[row_indexer,col_indexer] = value instead\n",
      "\n",
      "See the caveats in the documentation: https://pandas.pydata.org/pandas-docs/stable/user_guide/indexing.html#returning-a-view-versus-a-copy\n",
      "  y[y_column] = le.fit_transform(y[y_column])\n"
     ]
    }
   ],
   "source": [
    "le = LabelEncoder()\n",
    "labels = np.unique(y[y_column].astype(str))\n",
    "y[y_column] = le.fit_transform(y[y_column])"
   ]
  },
  {
   "cell_type": "code",
   "execution_count": 62,
   "id": "8216a47c",
   "metadata": {},
   "outputs": [],
   "source": [
    "# Creating training and testing set\n",
    "X_train, X_test, y_train, y_test = train_test_split(X, y, train_size=0.8, random_state=42)\n",
    "\n",
    "y_train_flags = y_train[['Xray', 'Opt_spec', 'Extended_radio', 'IRAGN']]\n",
    "y_test_flags = y_test[['Xray', 'Opt_spec', 'Extended_radio', 'IRAGN']]\n",
    "\n",
    "y_train = y_train.drop(columns=['Xray', 'Opt_spec', 'Extended_radio', 'IRAGN'])\n",
    "y_test = y_test.drop(columns=['Xray', 'Opt_spec', 'Extended_radio', 'IRAGN'])"
   ]
  },
  {
   "cell_type": "code",
   "execution_count": null,
   "id": "233e39fc",
   "metadata": {},
   "outputs": [],
   "source": []
  },
  {
   "cell_type": "code",
   "execution_count": 63,
   "id": "e969635a",
   "metadata": {},
   "outputs": [],
   "source": [
    "def one_hot(df, columns):\n",
    "    \"\"\"\n",
    "    One-hot encoding a certain column in a dataframe\n",
    "    \"\"\"\n",
    "    one_hot = pd.get_dummies(df[columns])\n",
    "    df = df.drop(columns=columns, axis = 1)\n",
    "    df = df.join(one_hot)\n",
    "    return df"
   ]
  },
  {
   "cell_type": "code",
   "execution_count": 64,
   "id": "bafd882e",
   "metadata": {},
   "outputs": [],
   "source": [
    "# Standard scaling the numerical data\n",
    "scaler = MinMaxScaler()\n",
    "\n",
    "# Transforming the categorical data\n",
    "X_train[features_num] = scaler.fit_transform(X_train[features_num])\n",
    "X_test[features_num] = scaler.transform(X_test[features_num])"
   ]
  },
  {
   "cell_type": "code",
   "execution_count": 65,
   "id": "c40ac41b",
   "metadata": {},
   "outputs": [],
   "source": [
    "from sklearn.utils import class_weight\n",
    "classes_weights = class_weight.compute_sample_weight(\n",
    "    class_weight='balanced',\n",
    "    y=y_train\n",
    ")"
   ]
  },
  {
   "cell_type": "markdown",
   "id": "0057ca91",
   "metadata": {},
   "source": [
    "# Random forest"
   ]
  },
  {
   "cell_type": "code",
   "execution_count": 221,
   "id": "ee43fe00",
   "metadata": {},
   "outputs": [
    {
     "data": {
      "text/html": [
       "<style>#sk-container-id-14 {color: black;background-color: white;}#sk-container-id-14 pre{padding: 0;}#sk-container-id-14 div.sk-toggleable {background-color: white;}#sk-container-id-14 label.sk-toggleable__label {cursor: pointer;display: block;width: 100%;margin-bottom: 0;padding: 0.3em;box-sizing: border-box;text-align: center;}#sk-container-id-14 label.sk-toggleable__label-arrow:before {content: \"▸\";float: left;margin-right: 0.25em;color: #696969;}#sk-container-id-14 label.sk-toggleable__label-arrow:hover:before {color: black;}#sk-container-id-14 div.sk-estimator:hover label.sk-toggleable__label-arrow:before {color: black;}#sk-container-id-14 div.sk-toggleable__content {max-height: 0;max-width: 0;overflow: hidden;text-align: left;background-color: #f0f8ff;}#sk-container-id-14 div.sk-toggleable__content pre {margin: 0.2em;color: black;border-radius: 0.25em;background-color: #f0f8ff;}#sk-container-id-14 input.sk-toggleable__control:checked~div.sk-toggleable__content {max-height: 200px;max-width: 100%;overflow: auto;}#sk-container-id-14 input.sk-toggleable__control:checked~label.sk-toggleable__label-arrow:before {content: \"▾\";}#sk-container-id-14 div.sk-estimator input.sk-toggleable__control:checked~label.sk-toggleable__label {background-color: #d4ebff;}#sk-container-id-14 div.sk-label input.sk-toggleable__control:checked~label.sk-toggleable__label {background-color: #d4ebff;}#sk-container-id-14 input.sk-hidden--visually {border: 0;clip: rect(1px 1px 1px 1px);clip: rect(1px, 1px, 1px, 1px);height: 1px;margin: -1px;overflow: hidden;padding: 0;position: absolute;width: 1px;}#sk-container-id-14 div.sk-estimator {font-family: monospace;background-color: #f0f8ff;border: 1px dotted black;border-radius: 0.25em;box-sizing: border-box;margin-bottom: 0.5em;}#sk-container-id-14 div.sk-estimator:hover {background-color: #d4ebff;}#sk-container-id-14 div.sk-parallel-item::after {content: \"\";width: 100%;border-bottom: 1px solid gray;flex-grow: 1;}#sk-container-id-14 div.sk-label:hover label.sk-toggleable__label {background-color: #d4ebff;}#sk-container-id-14 div.sk-serial::before {content: \"\";position: absolute;border-left: 1px solid gray;box-sizing: border-box;top: 0;bottom: 0;left: 50%;z-index: 0;}#sk-container-id-14 div.sk-serial {display: flex;flex-direction: column;align-items: center;background-color: white;padding-right: 0.2em;padding-left: 0.2em;position: relative;}#sk-container-id-14 div.sk-item {position: relative;z-index: 1;}#sk-container-id-14 div.sk-parallel {display: flex;align-items: stretch;justify-content: center;background-color: white;position: relative;}#sk-container-id-14 div.sk-item::before, #sk-container-id-14 div.sk-parallel-item::before {content: \"\";position: absolute;border-left: 1px solid gray;box-sizing: border-box;top: 0;bottom: 0;left: 50%;z-index: -1;}#sk-container-id-14 div.sk-parallel-item {display: flex;flex-direction: column;z-index: 1;position: relative;background-color: white;}#sk-container-id-14 div.sk-parallel-item:first-child::after {align-self: flex-end;width: 50%;}#sk-container-id-14 div.sk-parallel-item:last-child::after {align-self: flex-start;width: 50%;}#sk-container-id-14 div.sk-parallel-item:only-child::after {width: 0;}#sk-container-id-14 div.sk-dashed-wrapped {border: 1px dashed gray;margin: 0 0.4em 0.5em 0.4em;box-sizing: border-box;padding-bottom: 0.4em;background-color: white;}#sk-container-id-14 div.sk-label label {font-family: monospace;font-weight: bold;display: inline-block;line-height: 1.2em;}#sk-container-id-14 div.sk-label-container {text-align: center;}#sk-container-id-14 div.sk-container {/* jupyter's `normalize.less` sets `[hidden] { display: none; }` but bootstrap.min.css set `[hidden] { display: none !important; }` so we also need the `!important` here to be able to override the default hidden behavior on the sphinx rendered scikit-learn.org. See: https://github.com/scikit-learn/scikit-learn/issues/21755 */display: inline-block !important;position: relative;}#sk-container-id-14 div.sk-text-repr-fallback {display: none;}</style><div id=\"sk-container-id-14\" class=\"sk-top-container\"><div class=\"sk-text-repr-fallback\"><pre>RandomForestClassifier(class_weight={0: 3, 1: 1000, 2: 1.5, 3: 0.5},\n",
       "                       max_features=None, n_estimators=200, n_jobs=-1,\n",
       "                       random_state=42)</pre><b>In a Jupyter environment, please rerun this cell to show the HTML representation or trust the notebook. <br />On GitHub, the HTML representation is unable to render, please try loading this page with nbviewer.org.</b></div><div class=\"sk-container\" hidden><div class=\"sk-item\"><div class=\"sk-estimator sk-toggleable\"><input class=\"sk-toggleable__control sk-hidden--visually\" id=\"sk-estimator-id-14\" type=\"checkbox\" checked><label for=\"sk-estimator-id-14\" class=\"sk-toggleable__label sk-toggleable__label-arrow\">RandomForestClassifier</label><div class=\"sk-toggleable__content\"><pre>RandomForestClassifier(class_weight={0: 3, 1: 1000, 2: 1.5, 3: 0.5},\n",
       "                       max_features=None, n_estimators=200, n_jobs=-1,\n",
       "                       random_state=42)</pre></div></div></div></div></div>"
      ],
      "text/plain": [
       "RandomForestClassifier(class_weight={0: 3, 1: 1000, 2: 1.5, 3: 0.5},\n",
       "                       max_features=None, n_estimators=200, n_jobs=-1,\n",
       "                       random_state=42)"
      ]
     },
     "execution_count": 221,
     "metadata": {},
     "output_type": "execute_result"
    }
   ],
   "source": [
    "clf = RandomForestClassifier(n_estimators=200, \n",
    "                             max_features=None,\n",
    "                             n_jobs=-1, \n",
    "                             class_weight={0: 3, 1: 1000, 2: 1.5, 3: 0.5},\n",
    "                             random_state=42)\n",
    "clf.fit(X_train, y_train)"
   ]
  },
  {
   "cell_type": "code",
   "execution_count": 195,
   "id": "0227ae9c",
   "metadata": {},
   "outputs": [],
   "source": [
    "cv_score = cross_val_score(clf, X_train, y_train, cv=32, n_jobs=-1, scoring=\"accuracy\")"
   ]
  },
  {
   "cell_type": "code",
   "execution_count": 196,
   "id": "536922d0",
   "metadata": {},
   "outputs": [
    {
     "name": "stdout",
     "output_type": "stream",
     "text": [
      "Cross-validated Accuracy: 0.83311 ± 0.01399\n"
     ]
    }
   ],
   "source": [
    "print(\"Cross-validated Accuracy:\", round(np.mean(cv_score), 5), \"±\", round(np.std(cv_score), 5))"
   ]
  },
  {
   "cell_type": "code",
   "execution_count": 222,
   "id": "88978b9e",
   "metadata": {},
   "outputs": [
    {
     "name": "stdout",
     "output_type": "stream",
     "text": [
      "                                                      precision    recall  f1-score   support\n",
      "\n",
      "      jet-mode radio AGN/low-excitation radio galaxy     0.8109    0.5498    0.6553      2581\n",
      "quasar-like radio AGN / high-excitation radio galaxy     0.4828    0.1556    0.2353       270\n",
      "                                     radio-quiet AGN     0.7609    0.5140    0.6136      1356\n",
      "                                 star-forming galaxy     0.8531    0.9627    0.9046     11315\n",
      "\n",
      "                                            accuracy                         0.8408     15522\n",
      "                                           macro avg     0.7269    0.5455    0.6022     15522\n",
      "                                        weighted avg     0.8316    0.8408    0.8261     15522\n",
      "\n"
     ]
    }
   ],
   "source": [
    "y_pred = clf.predict(X_test)\n",
    "print(classification_report(y_test, y_pred, target_names=labels, digits=4))"
   ]
  },
  {
   "cell_type": "code",
   "execution_count": 77,
   "id": "64ef5975",
   "metadata": {},
   "outputs": [
    {
     "data": {
      "text/plain": [
       "[]"
      ]
     },
     "execution_count": 77,
     "metadata": {},
     "output_type": "execute_result"
    },
    {
     "data": {
      "image/png": "[encoded data removed]",
      "text/plain": [
       "<Figure size 432x288 with 2 Axes>"
      ]
     },
     "metadata": {
      "needs_background": "light"
     },
     "output_type": "display_data"
    }
   ],
   "source": [
    "cm = confusion_matrix(y_test, y_pred)\n",
    "disp = ConfusionMatrixDisplay(confusion_matrix=cm, display_labels=labels)\n",
    "disp.plot()\n",
    "plt.xticks(rotation = 90)\n",
    "plt.plot()"
   ]
  },
  {
   "cell_type": "code",
   "execution_count": null,
   "id": "3c9c27b2",
   "metadata": {},
   "outputs": [],
   "source": []
  },
  {
   "cell_type": "markdown",
   "id": "df7caf58",
   "metadata": {},
   "source": [
    "# Lightgbm"
   ]
  },
  {
   "cell_type": "code",
   "execution_count": 149,
   "id": "b961b7af",
   "metadata": {},
   "outputs": [],
   "source": [
    "import lightgbm as lgb\n",
    "lightbm = lgb.LGBMClassifier(num_class=4, \n",
    "                             objective=\"multiclass\",  \n",
    "                             n_estimators=10000, \n",
    "                             class_weight=\"balanced\",\n",
    "                            early_stopping_round=50,\n",
    "                             eta=0.3,\n",
    "                            #verbose=-1,\n",
    "                            max_depth=9,\n",
    "                            num_leaves=400\n",
    "                            #min_data_in_leaf=0\n",
    "                            )"
   ]
  },
  {
   "cell_type": "code",
   "execution_count": 150,
   "id": "93d356ad",
   "metadata": {},
   "outputs": [
    {
     "data": {
      "text/plain": [
       "64"
      ]
     },
     "execution_count": 150,
     "metadata": {},
     "output_type": "execute_result"
    }
   ],
   "source": [
    "2**6"
   ]
  },
  {
   "cell_type": "code",
   "execution_count": 151,
   "id": "9d640b77",
   "metadata": {},
   "outputs": [
    {
     "name": "stderr",
     "output_type": "stream",
     "text": [
      "d:\\python\\python38\\lib\\site-packages\\sklearn\\preprocessing\\_label.py:98: DataConversionWarning: A column-vector y was passed when a 1d array was expected. Please change the shape of y to (n_samples, ), for example using ravel().\n",
      "  y = column_or_1d(y, warn=True)\n",
      "d:\\python\\python38\\lib\\site-packages\\sklearn\\preprocessing\\_label.py:133: DataConversionWarning: A column-vector y was passed when a 1d array was expected. Please change the shape of y to (n_samples, ), for example using ravel().\n",
      "  y = column_or_1d(y, warn=True)\n"
     ]
    },
    {
     "name": "stdout",
     "output_type": "stream",
     "text": [
      "[LightGBM] [Warning] learning_rate is set=0.1, eta=0.3 will be ignored. Current value: learning_rate=0.1\n",
      "[1]\ttraining's multi_logloss: 0.598529\tvalid_0's multi_logloss: 2.21117\n",
      "[2]\ttraining's multi_logloss: 0.511171\tvalid_0's multi_logloss: 1.97029\n",
      "[3]\ttraining's multi_logloss: 0.447387\tvalid_0's multi_logloss: 1.80528\n",
      "[4]\ttraining's multi_logloss: 0.395546\tvalid_0's multi_logloss: 1.67328\n",
      "[5]\ttraining's multi_logloss: 0.352844\tvalid_0's multi_logloss: 1.57497\n",
      "[6]\ttraining's multi_logloss: 0.317932\tvalid_0's multi_logloss: 1.49091\n",
      "[7]\ttraining's multi_logloss: 0.286716\tvalid_0's multi_logloss: 1.41857\n",
      "[8]\ttraining's multi_logloss: 0.260546\tvalid_0's multi_logloss: 1.35829\n",
      "[9]\ttraining's multi_logloss: 0.237289\tvalid_0's multi_logloss: 1.30468\n",
      "[10]\ttraining's multi_logloss: 0.217451\tvalid_0's multi_logloss: 1.26338\n",
      "[11]\ttraining's multi_logloss: 0.201334\tvalid_0's multi_logloss: 1.22388\n",
      "[12]\ttraining's multi_logloss: 0.18616\tvalid_0's multi_logloss: 1.18907\n",
      "[13]\ttraining's multi_logloss: 0.172012\tvalid_0's multi_logloss: 1.15557\n",
      "[14]\ttraining's multi_logloss: 0.160308\tvalid_0's multi_logloss: 1.12303\n",
      "[15]\ttraining's multi_logloss: 0.149402\tvalid_0's multi_logloss: 1.09502\n",
      "[16]\ttraining's multi_logloss: 0.140078\tvalid_0's multi_logloss: 1.07173\n",
      "[17]\ttraining's multi_logloss: 0.131938\tvalid_0's multi_logloss: 1.04569\n",
      "[18]\ttraining's multi_logloss: 0.124102\tvalid_0's multi_logloss: 1.02373\n",
      "[19]\ttraining's multi_logloss: 0.117229\tvalid_0's multi_logloss: 1.00449\n",
      "[20]\ttraining's multi_logloss: 0.11111\tvalid_0's multi_logloss: 0.984758\n",
      "[21]\ttraining's multi_logloss: 0.10522\tvalid_0's multi_logloss: 0.968644\n",
      "[22]\ttraining's multi_logloss: 0.100146\tvalid_0's multi_logloss: 0.949523\n",
      "[23]\ttraining's multi_logloss: 0.0951419\tvalid_0's multi_logloss: 0.931842\n",
      "[24]\ttraining's multi_logloss: 0.0905584\tvalid_0's multi_logloss: 0.917377\n",
      "[25]\ttraining's multi_logloss: 0.0866256\tvalid_0's multi_logloss: 0.900836\n",
      "[26]\ttraining's multi_logloss: 0.0829921\tvalid_0's multi_logloss: 0.888059\n",
      "[27]\ttraining's multi_logloss: 0.0793462\tvalid_0's multi_logloss: 0.871067\n",
      "[28]\ttraining's multi_logloss: 0.0765002\tvalid_0's multi_logloss: 0.858902\n",
      "[29]\ttraining's multi_logloss: 0.0733893\tvalid_0's multi_logloss: 0.843174\n",
      "[30]\ttraining's multi_logloss: 0.0703544\tvalid_0's multi_logloss: 0.8327\n",
      "[31]\ttraining's multi_logloss: 0.0678516\tvalid_0's multi_logloss: 0.819353\n",
      "[32]\ttraining's multi_logloss: 0.0652732\tvalid_0's multi_logloss: 0.806737\n",
      "[33]\ttraining's multi_logloss: 0.0628361\tvalid_0's multi_logloss: 0.794682\n",
      "[34]\ttraining's multi_logloss: 0.0605076\tvalid_0's multi_logloss: 0.782281\n",
      "[35]\ttraining's multi_logloss: 0.0588646\tvalid_0's multi_logloss: 0.772971\n",
      "[36]\ttraining's multi_logloss: 0.0569728\tvalid_0's multi_logloss: 0.764574\n",
      "[37]\ttraining's multi_logloss: 0.0552082\tvalid_0's multi_logloss: 0.753292\n",
      "[38]\ttraining's multi_logloss: 0.0535194\tvalid_0's multi_logloss: 0.745449\n",
      "[39]\ttraining's multi_logloss: 0.051749\tvalid_0's multi_logloss: 0.736239\n",
      "[40]\ttraining's multi_logloss: 0.0500998\tvalid_0's multi_logloss: 0.72723\n",
      "[41]\ttraining's multi_logloss: 0.0484328\tvalid_0's multi_logloss: 0.71962\n",
      "[42]\ttraining's multi_logloss: 0.0472762\tvalid_0's multi_logloss: 0.711138\n",
      "[43]\ttraining's multi_logloss: 0.0459168\tvalid_0's multi_logloss: 0.705298\n",
      "[44]\ttraining's multi_logloss: 0.0445524\tvalid_0's multi_logloss: 0.698141\n",
      "[45]\ttraining's multi_logloss: 0.043259\tvalid_0's multi_logloss: 0.689344\n",
      "[46]\ttraining's multi_logloss: 0.0418251\tvalid_0's multi_logloss: 0.682116\n",
      "[47]\ttraining's multi_logloss: 0.0407087\tvalid_0's multi_logloss: 0.672978\n",
      "[48]\ttraining's multi_logloss: 0.0396676\tvalid_0's multi_logloss: 0.666426\n",
      "[49]\ttraining's multi_logloss: 0.0382038\tvalid_0's multi_logloss: 0.655918\n",
      "[50]\ttraining's multi_logloss: 0.0370753\tvalid_0's multi_logloss: 0.64751\n",
      "[51]\ttraining's multi_logloss: 0.0358593\tvalid_0's multi_logloss: 0.641553\n",
      "[52]\ttraining's multi_logloss: 0.0349413\tvalid_0's multi_logloss: 0.636644\n",
      "[53]\ttraining's multi_logloss: 0.0339821\tvalid_0's multi_logloss: 0.630575\n",
      "[54]\ttraining's multi_logloss: 0.0330231\tvalid_0's multi_logloss: 0.625705\n",
      "[55]\ttraining's multi_logloss: 0.0322787\tvalid_0's multi_logloss: 0.621104\n",
      "[56]\ttraining's multi_logloss: 0.0313281\tvalid_0's multi_logloss: 0.614693\n",
      "[57]\ttraining's multi_logloss: 0.0305407\tvalid_0's multi_logloss: 0.609715\n",
      "[58]\ttraining's multi_logloss: 0.0297434\tvalid_0's multi_logloss: 0.605622\n",
      "[59]\ttraining's multi_logloss: 0.0292188\tvalid_0's multi_logloss: 0.601404\n",
      "[60]\ttraining's multi_logloss: 0.0284816\tvalid_0's multi_logloss: 0.596058\n",
      "[61]\ttraining's multi_logloss: 0.0277798\tvalid_0's multi_logloss: 0.592599\n",
      "[62]\ttraining's multi_logloss: 0.0269423\tvalid_0's multi_logloss: 0.586444\n",
      "[63]\ttraining's multi_logloss: 0.0262396\tvalid_0's multi_logloss: 0.581787\n",
      "[64]\ttraining's multi_logloss: 0.0257177\tvalid_0's multi_logloss: 0.57806\n",
      "[65]\ttraining's multi_logloss: 0.0249507\tvalid_0's multi_logloss: 0.572077\n",
      "[66]\ttraining's multi_logloss: 0.0243467\tvalid_0's multi_logloss: 0.566198\n",
      "[67]\ttraining's multi_logloss: 0.0238719\tvalid_0's multi_logloss: 0.562023\n",
      "[68]\ttraining's multi_logloss: 0.0233095\tvalid_0's multi_logloss: 0.556155\n",
      "[69]\ttraining's multi_logloss: 0.0226387\tvalid_0's multi_logloss: 0.55246\n",
      "[70]\ttraining's multi_logloss: 0.0220916\tvalid_0's multi_logloss: 0.546982\n",
      "[71]\ttraining's multi_logloss: 0.0215994\tvalid_0's multi_logloss: 0.543545\n",
      "[72]\ttraining's multi_logloss: 0.0210246\tvalid_0's multi_logloss: 0.538464\n",
      "[73]\ttraining's multi_logloss: 0.0206159\tvalid_0's multi_logloss: 0.535215\n",
      "[74]\ttraining's multi_logloss: 0.0202166\tvalid_0's multi_logloss: 0.532275\n",
      "[75]\ttraining's multi_logloss: 0.0198002\tvalid_0's multi_logloss: 0.528687\n",
      "[76]\ttraining's multi_logloss: 0.0194513\tvalid_0's multi_logloss: 0.52567\n",
      "[77]\ttraining's multi_logloss: 0.0190876\tvalid_0's multi_logloss: 0.52234\n",
      "[78]\ttraining's multi_logloss: 0.0187507\tvalid_0's multi_logloss: 0.520351\n",
      "[79]\ttraining's multi_logloss: 0.0184327\tvalid_0's multi_logloss: 0.517908\n",
      "[80]\ttraining's multi_logloss: 0.0180811\tvalid_0's multi_logloss: 0.515022\n",
      "[81]\ttraining's multi_logloss: 0.0178155\tvalid_0's multi_logloss: 0.512857\n",
      "[82]\ttraining's multi_logloss: 0.0174488\tvalid_0's multi_logloss: 0.508732\n",
      "[83]\ttraining's multi_logloss: 0.0171354\tvalid_0's multi_logloss: 0.50631\n",
      "[84]\ttraining's multi_logloss: 0.0168342\tvalid_0's multi_logloss: 0.504515\n",
      "[85]\ttraining's multi_logloss: 0.0164755\tvalid_0's multi_logloss: 0.50228\n",
      "[86]\ttraining's multi_logloss: 0.0161494\tvalid_0's multi_logloss: 0.499069\n",
      "[87]\ttraining's multi_logloss: 0.0158565\tvalid_0's multi_logloss: 0.4965\n",
      "[88]\ttraining's multi_logloss: 0.015515\tvalid_0's multi_logloss: 0.493369\n",
      "[89]\ttraining's multi_logloss: 0.0152232\tvalid_0's multi_logloss: 0.491333\n",
      "[90]\ttraining's multi_logloss: 0.0149551\tvalid_0's multi_logloss: 0.489169\n",
      "[91]\ttraining's multi_logloss: 0.0147209\tvalid_0's multi_logloss: 0.487517\n",
      "[92]\ttraining's multi_logloss: 0.0144058\tvalid_0's multi_logloss: 0.483731\n",
      "[93]\ttraining's multi_logloss: 0.0141077\tvalid_0's multi_logloss: 0.481188\n",
      "[94]\ttraining's multi_logloss: 0.0138483\tvalid_0's multi_logloss: 0.478146\n",
      "[95]\ttraining's multi_logloss: 0.013635\tvalid_0's multi_logloss: 0.475735\n",
      "[96]\ttraining's multi_logloss: 0.0133557\tvalid_0's multi_logloss: 0.473039\n",
      "[97]\ttraining's multi_logloss: 0.0131323\tvalid_0's multi_logloss: 0.470555\n",
      "[98]\ttraining's multi_logloss: 0.0128783\tvalid_0's multi_logloss: 0.468193\n",
      "[99]\ttraining's multi_logloss: 0.0127111\tvalid_0's multi_logloss: 0.466876\n",
      "[100]\ttraining's multi_logloss: 0.0125186\tvalid_0's multi_logloss: 0.465336\n",
      "[101]\ttraining's multi_logloss: 0.0123213\tvalid_0's multi_logloss: 0.463024\n",
      "[102]\ttraining's multi_logloss: 0.0120937\tvalid_0's multi_logloss: 0.460989\n",
      "[103]\ttraining's multi_logloss: 0.0118204\tvalid_0's multi_logloss: 0.45737\n",
      "[104]\ttraining's multi_logloss: 0.0116097\tvalid_0's multi_logloss: 0.455004\n",
      "[105]\ttraining's multi_logloss: 0.0114185\tvalid_0's multi_logloss: 0.452864\n",
      "[106]\ttraining's multi_logloss: 0.0112085\tvalid_0's multi_logloss: 0.45103\n",
      "[107]\ttraining's multi_logloss: 0.0110279\tvalid_0's multi_logloss: 0.449148\n",
      "[108]\ttraining's multi_logloss: 0.0108526\tvalid_0's multi_logloss: 0.447408\n",
      "[109]\ttraining's multi_logloss: 0.0106528\tvalid_0's multi_logloss: 0.445274\n"
     ]
    },
    {
     "name": "stdout",
     "output_type": "stream",
     "text": [
      "[110]\ttraining's multi_logloss: 0.0104751\tvalid_0's multi_logloss: 0.443404\n",
      "[111]\ttraining's multi_logloss: 0.010318\tvalid_0's multi_logloss: 0.441821\n",
      "[112]\ttraining's multi_logloss: 0.0101923\tvalid_0's multi_logloss: 0.440681\n",
      "[113]\ttraining's multi_logloss: 0.00998949\tvalid_0's multi_logloss: 0.438478\n",
      "[114]\ttraining's multi_logloss: 0.00977781\tvalid_0's multi_logloss: 0.436125\n",
      "[115]\ttraining's multi_logloss: 0.00959928\tvalid_0's multi_logloss: 0.434548\n",
      "[116]\ttraining's multi_logloss: 0.00946923\tvalid_0's multi_logloss: 0.43384\n",
      "[117]\ttraining's multi_logloss: 0.00929979\tvalid_0's multi_logloss: 0.431968\n",
      "[118]\ttraining's multi_logloss: 0.0091208\tvalid_0's multi_logloss: 0.430183\n",
      "[119]\ttraining's multi_logloss: 0.0089441\tvalid_0's multi_logloss: 0.42837\n",
      "[120]\ttraining's multi_logloss: 0.00881349\tvalid_0's multi_logloss: 0.427176\n",
      "[121]\ttraining's multi_logloss: 0.00867635\tvalid_0's multi_logloss: 0.425463\n",
      "[122]\ttraining's multi_logloss: 0.00856022\tvalid_0's multi_logloss: 0.424557\n",
      "[123]\ttraining's multi_logloss: 0.00842155\tvalid_0's multi_logloss: 0.423083\n",
      "[124]\ttraining's multi_logloss: 0.00828689\tvalid_0's multi_logloss: 0.422109\n",
      "[125]\ttraining's multi_logloss: 0.0081506\tvalid_0's multi_logloss: 0.420735\n",
      "[126]\ttraining's multi_logloss: 0.00800712\tvalid_0's multi_logloss: 0.419382\n",
      "[127]\ttraining's multi_logloss: 0.00785016\tvalid_0's multi_logloss: 0.417514\n",
      "[128]\ttraining's multi_logloss: 0.00777796\tvalid_0's multi_logloss: 0.416899\n",
      "[129]\ttraining's multi_logloss: 0.00766251\tvalid_0's multi_logloss: 0.415686\n",
      "[130]\ttraining's multi_logloss: 0.00754215\tvalid_0's multi_logloss: 0.414695\n",
      "[131]\ttraining's multi_logloss: 0.00744255\tvalid_0's multi_logloss: 0.41338\n",
      "[132]\ttraining's multi_logloss: 0.0073108\tvalid_0's multi_logloss: 0.411667\n",
      "[133]\ttraining's multi_logloss: 0.00718896\tvalid_0's multi_logloss: 0.410138\n",
      "[134]\ttraining's multi_logloss: 0.00707041\tvalid_0's multi_logloss: 0.408879\n",
      "[135]\ttraining's multi_logloss: 0.00696697\tvalid_0's multi_logloss: 0.40778\n",
      "[136]\ttraining's multi_logloss: 0.00683962\tvalid_0's multi_logloss: 0.406602\n",
      "[137]\ttraining's multi_logloss: 0.00672943\tvalid_0's multi_logloss: 0.405599\n",
      "[138]\ttraining's multi_logloss: 0.0066278\tvalid_0's multi_logloss: 0.404385\n",
      "[139]\ttraining's multi_logloss: 0.00654466\tvalid_0's multi_logloss: 0.40352\n",
      "[140]\ttraining's multi_logloss: 0.00646869\tvalid_0's multi_logloss: 0.402838\n",
      "[141]\ttraining's multi_logloss: 0.00636832\tvalid_0's multi_logloss: 0.401328\n",
      "[142]\ttraining's multi_logloss: 0.00630333\tvalid_0's multi_logloss: 0.400631\n",
      "[143]\ttraining's multi_logloss: 0.00621611\tvalid_0's multi_logloss: 0.399793\n",
      "[144]\ttraining's multi_logloss: 0.00612433\tvalid_0's multi_logloss: 0.398896\n",
      "[145]\ttraining's multi_logloss: 0.00604066\tvalid_0's multi_logloss: 0.398268\n",
      "[146]\ttraining's multi_logloss: 0.0059394\tvalid_0's multi_logloss: 0.397564\n",
      "[147]\ttraining's multi_logloss: 0.00585111\tvalid_0's multi_logloss: 0.39639\n",
      "[148]\ttraining's multi_logloss: 0.00575558\tvalid_0's multi_logloss: 0.395435\n",
      "[149]\ttraining's multi_logloss: 0.00563935\tvalid_0's multi_logloss: 0.394222\n",
      "[150]\ttraining's multi_logloss: 0.00556015\tvalid_0's multi_logloss: 0.393467\n",
      "[151]\ttraining's multi_logloss: 0.0054884\tvalid_0's multi_logloss: 0.392875\n",
      "[152]\ttraining's multi_logloss: 0.00539889\tvalid_0's multi_logloss: 0.391816\n",
      "[153]\ttraining's multi_logloss: 0.00531464\tvalid_0's multi_logloss: 0.390672\n",
      "[154]\ttraining's multi_logloss: 0.00522593\tvalid_0's multi_logloss: 0.389653\n",
      "[155]\ttraining's multi_logloss: 0.00514435\tvalid_0's multi_logloss: 0.388806\n",
      "[156]\ttraining's multi_logloss: 0.00506125\tvalid_0's multi_logloss: 0.388247\n",
      "[157]\ttraining's multi_logloss: 0.00500099\tvalid_0's multi_logloss: 0.387708\n",
      "[158]\ttraining's multi_logloss: 0.00493886\tvalid_0's multi_logloss: 0.387134\n",
      "[159]\ttraining's multi_logloss: 0.004868\tvalid_0's multi_logloss: 0.38674\n",
      "[160]\ttraining's multi_logloss: 0.00479235\tvalid_0's multi_logloss: 0.386\n",
      "[161]\ttraining's multi_logloss: 0.0047445\tvalid_0's multi_logloss: 0.385578\n",
      "[162]\ttraining's multi_logloss: 0.00468731\tvalid_0's multi_logloss: 0.385001\n",
      "[163]\ttraining's multi_logloss: 0.00463354\tvalid_0's multi_logloss: 0.384579\n",
      "[164]\ttraining's multi_logloss: 0.00456237\tvalid_0's multi_logloss: 0.383638\n",
      "[165]\ttraining's multi_logloss: 0.00449542\tvalid_0's multi_logloss: 0.383013\n",
      "[166]\ttraining's multi_logloss: 0.00442746\tvalid_0's multi_logloss: 0.382369\n",
      "[167]\ttraining's multi_logloss: 0.00436772\tvalid_0's multi_logloss: 0.381812\n",
      "[168]\ttraining's multi_logloss: 0.00431111\tvalid_0's multi_logloss: 0.381243\n",
      "[169]\ttraining's multi_logloss: 0.0042622\tvalid_0's multi_logloss: 0.380789\n",
      "[170]\ttraining's multi_logloss: 0.00420277\tvalid_0's multi_logloss: 0.380113\n",
      "[171]\ttraining's multi_logloss: 0.00415263\tvalid_0's multi_logloss: 0.379721\n",
      "[172]\ttraining's multi_logloss: 0.00407083\tvalid_0's multi_logloss: 0.378732\n",
      "[173]\ttraining's multi_logloss: 0.00399534\tvalid_0's multi_logloss: 0.377837\n",
      "[174]\ttraining's multi_logloss: 0.00394217\tvalid_0's multi_logloss: 0.377457\n",
      "[175]\ttraining's multi_logloss: 0.00387787\tvalid_0's multi_logloss: 0.37684\n",
      "[176]\ttraining's multi_logloss: 0.00383255\tvalid_0's multi_logloss: 0.376392\n",
      "[177]\ttraining's multi_logloss: 0.00377323\tvalid_0's multi_logloss: 0.37587\n",
      "[178]\ttraining's multi_logloss: 0.00370945\tvalid_0's multi_logloss: 0.375148\n",
      "[179]\ttraining's multi_logloss: 0.00365983\tvalid_0's multi_logloss: 0.374806\n",
      "[180]\ttraining's multi_logloss: 0.00361791\tvalid_0's multi_logloss: 0.374549\n",
      "[181]\ttraining's multi_logloss: 0.00357851\tvalid_0's multi_logloss: 0.374199\n",
      "[182]\ttraining's multi_logloss: 0.00351576\tvalid_0's multi_logloss: 0.373471\n",
      "[183]\ttraining's multi_logloss: 0.00348212\tvalid_0's multi_logloss: 0.373191\n",
      "[184]\ttraining's multi_logloss: 0.00344166\tvalid_0's multi_logloss: 0.373106\n",
      "[185]\ttraining's multi_logloss: 0.00338462\tvalid_0's multi_logloss: 0.372306\n",
      "[186]\ttraining's multi_logloss: 0.00334401\tvalid_0's multi_logloss: 0.372089\n",
      "[187]\ttraining's multi_logloss: 0.00328821\tvalid_0's multi_logloss: 0.371442\n",
      "[188]\ttraining's multi_logloss: 0.00324437\tvalid_0's multi_logloss: 0.371169\n",
      "[189]\ttraining's multi_logloss: 0.00320462\tvalid_0's multi_logloss: 0.37096\n",
      "[190]\ttraining's multi_logloss: 0.00317185\tvalid_0's multi_logloss: 0.370758\n",
      "[191]\ttraining's multi_logloss: 0.00312748\tvalid_0's multi_logloss: 0.370271\n",
      "[192]\ttraining's multi_logloss: 0.00308453\tvalid_0's multi_logloss: 0.36982\n",
      "[193]\ttraining's multi_logloss: 0.00304758\tvalid_0's multi_logloss: 0.369534\n",
      "[194]\ttraining's multi_logloss: 0.00301378\tvalid_0's multi_logloss: 0.369272\n",
      "[195]\ttraining's multi_logloss: 0.00297988\tvalid_0's multi_logloss: 0.369021\n",
      "[196]\ttraining's multi_logloss: 0.00292985\tvalid_0's multi_logloss: 0.368405\n",
      "[197]\ttraining's multi_logloss: 0.00289431\tvalid_0's multi_logloss: 0.368005\n",
      "[198]\ttraining's multi_logloss: 0.00285848\tvalid_0's multi_logloss: 0.367733\n",
      "[199]\ttraining's multi_logloss: 0.00282555\tvalid_0's multi_logloss: 0.36751\n",
      "[200]\ttraining's multi_logloss: 0.00278879\tvalid_0's multi_logloss: 0.367076\n",
      "[201]\ttraining's multi_logloss: 0.00275259\tvalid_0's multi_logloss: 0.366671\n",
      "[202]\ttraining's multi_logloss: 0.00272305\tvalid_0's multi_logloss: 0.366564\n",
      "[203]\ttraining's multi_logloss: 0.00268653\tvalid_0's multi_logloss: 0.366143\n",
      "[204]\ttraining's multi_logloss: 0.00264988\tvalid_0's multi_logloss: 0.365865\n",
      "[205]\ttraining's multi_logloss: 0.00261787\tvalid_0's multi_logloss: 0.365698\n",
      "[206]\ttraining's multi_logloss: 0.00258279\tvalid_0's multi_logloss: 0.365349\n",
      "[207]\ttraining's multi_logloss: 0.00254\tvalid_0's multi_logloss: 0.364963\n",
      "[208]\ttraining's multi_logloss: 0.00250123\tvalid_0's multi_logloss: 0.36474\n",
      "[209]\ttraining's multi_logloss: 0.00246251\tvalid_0's multi_logloss: 0.364346\n",
      "[210]\ttraining's multi_logloss: 0.00242878\tvalid_0's multi_logloss: 0.364112\n",
      "[211]\ttraining's multi_logloss: 0.00240238\tvalid_0's multi_logloss: 0.363998\n",
      "[212]\ttraining's multi_logloss: 0.00237504\tvalid_0's multi_logloss: 0.363847\n",
      "[213]\ttraining's multi_logloss: 0.00234727\tvalid_0's multi_logloss: 0.363494\n",
      "[214]\ttraining's multi_logloss: 0.00231556\tvalid_0's multi_logloss: 0.363167\n",
      "[215]\ttraining's multi_logloss: 0.0022798\tvalid_0's multi_logloss: 0.362845\n",
      "[216]\ttraining's multi_logloss: 0.00224899\tvalid_0's multi_logloss: 0.362578\n",
      "[217]\ttraining's multi_logloss: 0.00221825\tvalid_0's multi_logloss: 0.362344\n"
     ]
    },
    {
     "name": "stdout",
     "output_type": "stream",
     "text": [
      "[218]\ttraining's multi_logloss: 0.0021975\tvalid_0's multi_logloss: 0.362107\n",
      "[219]\ttraining's multi_logloss: 0.00216491\tvalid_0's multi_logloss: 0.361856\n",
      "[220]\ttraining's multi_logloss: 0.00213802\tvalid_0's multi_logloss: 0.361576\n",
      "[221]\ttraining's multi_logloss: 0.00210997\tvalid_0's multi_logloss: 0.361516\n",
      "[222]\ttraining's multi_logloss: 0.00208012\tvalid_0's multi_logloss: 0.361298\n",
      "[223]\ttraining's multi_logloss: 0.00205825\tvalid_0's multi_logloss: 0.361256\n",
      "[224]\ttraining's multi_logloss: 0.00203144\tvalid_0's multi_logloss: 0.361169\n",
      "[225]\ttraining's multi_logloss: 0.00200326\tvalid_0's multi_logloss: 0.360908\n",
      "[226]\ttraining's multi_logloss: 0.0019753\tvalid_0's multi_logloss: 0.360736\n",
      "[227]\ttraining's multi_logloss: 0.00195796\tvalid_0's multi_logloss: 0.36066\n",
      "[228]\ttraining's multi_logloss: 0.00191552\tvalid_0's multi_logloss: 0.360183\n",
      "[229]\ttraining's multi_logloss: 0.00189651\tvalid_0's multi_logloss: 0.360087\n",
      "[230]\ttraining's multi_logloss: 0.00188\tvalid_0's multi_logloss: 0.359991\n",
      "[231]\ttraining's multi_logloss: 0.001852\tvalid_0's multi_logloss: 0.359805\n",
      "[232]\ttraining's multi_logloss: 0.00182809\tvalid_0's multi_logloss: 0.359719\n",
      "[233]\ttraining's multi_logloss: 0.0018072\tvalid_0's multi_logloss: 0.359608\n",
      "[234]\ttraining's multi_logloss: 0.00178274\tvalid_0's multi_logloss: 0.359291\n",
      "[235]\ttraining's multi_logloss: 0.00175313\tvalid_0's multi_logloss: 0.359155\n",
      "[236]\ttraining's multi_logloss: 0.00172078\tvalid_0's multi_logloss: 0.358656\n",
      "[237]\ttraining's multi_logloss: 0.00169437\tvalid_0's multi_logloss: 0.358473\n",
      "[238]\ttraining's multi_logloss: 0.00167155\tvalid_0's multi_logloss: 0.358379\n",
      "[239]\ttraining's multi_logloss: 0.00165254\tvalid_0's multi_logloss: 0.358257\n",
      "[240]\ttraining's multi_logloss: 0.00162538\tvalid_0's multi_logloss: 0.358167\n",
      "[241]\ttraining's multi_logloss: 0.0016015\tvalid_0's multi_logloss: 0.358268\n",
      "[242]\ttraining's multi_logloss: 0.00157813\tvalid_0's multi_logloss: 0.35842\n",
      "[243]\ttraining's multi_logloss: 0.00156152\tvalid_0's multi_logloss: 0.35834\n",
      "[244]\ttraining's multi_logloss: 0.00154363\tvalid_0's multi_logloss: 0.358389\n",
      "[245]\ttraining's multi_logloss: 0.00151562\tvalid_0's multi_logloss: 0.357886\n",
      "[246]\ttraining's multi_logloss: 0.0014937\tvalid_0's multi_logloss: 0.357776\n",
      "[247]\ttraining's multi_logloss: 0.00147489\tvalid_0's multi_logloss: 0.357836\n",
      "[248]\ttraining's multi_logloss: 0.00145927\tvalid_0's multi_logloss: 0.357853\n",
      "[249]\ttraining's multi_logloss: 0.00143939\tvalid_0's multi_logloss: 0.358021\n",
      "[250]\ttraining's multi_logloss: 0.00142007\tvalid_0's multi_logloss: 0.357897\n",
      "[251]\ttraining's multi_logloss: 0.00139811\tvalid_0's multi_logloss: 0.35755\n",
      "[252]\ttraining's multi_logloss: 0.00137926\tvalid_0's multi_logloss: 0.357693\n",
      "[253]\ttraining's multi_logloss: 0.00135624\tvalid_0's multi_logloss: 0.357637\n",
      "[254]\ttraining's multi_logloss: 0.00133789\tvalid_0's multi_logloss: 0.357624\n",
      "[255]\ttraining's multi_logloss: 0.0013157\tvalid_0's multi_logloss: 0.357767\n",
      "[256]\ttraining's multi_logloss: 0.00129772\tvalid_0's multi_logloss: 0.357662\n",
      "[257]\ttraining's multi_logloss: 0.0012819\tvalid_0's multi_logloss: 0.357768\n",
      "[258]\ttraining's multi_logloss: 0.00126628\tvalid_0's multi_logloss: 0.35778\n",
      "[259]\ttraining's multi_logloss: 0.0012504\tvalid_0's multi_logloss: 0.357795\n",
      "[260]\ttraining's multi_logloss: 0.00123016\tvalid_0's multi_logloss: 0.357736\n",
      "[261]\ttraining's multi_logloss: 0.0012143\tvalid_0's multi_logloss: 0.357722\n",
      "[262]\ttraining's multi_logloss: 0.0011999\tvalid_0's multi_logloss: 0.357589\n",
      "[263]\ttraining's multi_logloss: 0.00118865\tvalid_0's multi_logloss: 0.357678\n",
      "[264]\ttraining's multi_logloss: 0.00117578\tvalid_0's multi_logloss: 0.357721\n",
      "[265]\ttraining's multi_logloss: 0.00115792\tvalid_0's multi_logloss: 0.357508\n",
      "[266]\ttraining's multi_logloss: 0.00114282\tvalid_0's multi_logloss: 0.357615\n",
      "[267]\ttraining's multi_logloss: 0.00112586\tvalid_0's multi_logloss: 0.357692\n",
      "[268]\ttraining's multi_logloss: 0.00111043\tvalid_0's multi_logloss: 0.357797\n",
      "[269]\ttraining's multi_logloss: 0.00109665\tvalid_0's multi_logloss: 0.35786\n",
      "[270]\ttraining's multi_logloss: 0.00107782\tvalid_0's multi_logloss: 0.357809\n",
      "[271]\ttraining's multi_logloss: 0.00106191\tvalid_0's multi_logloss: 0.357825\n",
      "[272]\ttraining's multi_logloss: 0.00104642\tvalid_0's multi_logloss: 0.357834\n",
      "[273]\ttraining's multi_logloss: 0.00103291\tvalid_0's multi_logloss: 0.357702\n",
      "[274]\ttraining's multi_logloss: 0.00101959\tvalid_0's multi_logloss: 0.35777\n",
      "[275]\ttraining's multi_logloss: 0.00100303\tvalid_0's multi_logloss: 0.357489\n",
      "[276]\ttraining's multi_logloss: 0.000986447\tvalid_0's multi_logloss: 0.357492\n",
      "[277]\ttraining's multi_logloss: 0.000971546\tvalid_0's multi_logloss: 0.35728\n",
      "[278]\ttraining's multi_logloss: 0.000960125\tvalid_0's multi_logloss: 0.357414\n",
      "[279]\ttraining's multi_logloss: 0.000946385\tvalid_0's multi_logloss: 0.357331\n",
      "[280]\ttraining's multi_logloss: 0.000935113\tvalid_0's multi_logloss: 0.35727\n",
      "[281]\ttraining's multi_logloss: 0.000922152\tvalid_0's multi_logloss: 0.357259\n",
      "[282]\ttraining's multi_logloss: 0.000907591\tvalid_0's multi_logloss: 0.357309\n",
      "[283]\ttraining's multi_logloss: 0.000892427\tvalid_0's multi_logloss: 0.357121\n",
      "[284]\ttraining's multi_logloss: 0.000881531\tvalid_0's multi_logloss: 0.357187\n",
      "[285]\ttraining's multi_logloss: 0.000866937\tvalid_0's multi_logloss: 0.357013\n",
      "[286]\ttraining's multi_logloss: 0.000857492\tvalid_0's multi_logloss: 0.35711\n",
      "[287]\ttraining's multi_logloss: 0.000844638\tvalid_0's multi_logloss: 0.35718\n",
      "[288]\ttraining's multi_logloss: 0.000833007\tvalid_0's multi_logloss: 0.357218\n",
      "[289]\ttraining's multi_logloss: 0.000826879\tvalid_0's multi_logloss: 0.357349\n",
      "[290]\ttraining's multi_logloss: 0.000813688\tvalid_0's multi_logloss: 0.357587\n",
      "[291]\ttraining's multi_logloss: 0.000803958\tvalid_0's multi_logloss: 0.357804\n",
      "[292]\ttraining's multi_logloss: 0.000793971\tvalid_0's multi_logloss: 0.357938\n",
      "[293]\ttraining's multi_logloss: 0.00078606\tvalid_0's multi_logloss: 0.358046\n",
      "[294]\ttraining's multi_logloss: 0.000777338\tvalid_0's multi_logloss: 0.358336\n",
      "[295]\ttraining's multi_logloss: 0.000766579\tvalid_0's multi_logloss: 0.3584\n",
      "[296]\ttraining's multi_logloss: 0.000757751\tvalid_0's multi_logloss: 0.35865\n",
      "[297]\ttraining's multi_logloss: 0.000747889\tvalid_0's multi_logloss: 0.358851\n",
      "[298]\ttraining's multi_logloss: 0.000734532\tvalid_0's multi_logloss: 0.358614\n",
      "[299]\ttraining's multi_logloss: 0.000721598\tvalid_0's multi_logloss: 0.358691\n",
      "[300]\ttraining's multi_logloss: 0.000712521\tvalid_0's multi_logloss: 0.35868\n",
      "[301]\ttraining's multi_logloss: 0.000701925\tvalid_0's multi_logloss: 0.358813\n",
      "[302]\ttraining's multi_logloss: 0.000692765\tvalid_0's multi_logloss: 0.358903\n",
      "[303]\ttraining's multi_logloss: 0.00068536\tvalid_0's multi_logloss: 0.359034\n",
      "[304]\ttraining's multi_logloss: 0.000677774\tvalid_0's multi_logloss: 0.358991\n",
      "[305]\ttraining's multi_logloss: 0.000668907\tvalid_0's multi_logloss: 0.359002\n",
      "[306]\ttraining's multi_logloss: 0.000657501\tvalid_0's multi_logloss: 0.358979\n",
      "[307]\ttraining's multi_logloss: 0.000645907\tvalid_0's multi_logloss: 0.358923\n",
      "[308]\ttraining's multi_logloss: 0.000635782\tvalid_0's multi_logloss: 0.359103\n",
      "[309]\ttraining's multi_logloss: 0.000623322\tvalid_0's multi_logloss: 0.359267\n",
      "[310]\ttraining's multi_logloss: 0.000615837\tvalid_0's multi_logloss: 0.359541\n",
      "[311]\ttraining's multi_logloss: 0.000607213\tvalid_0's multi_logloss: 0.359532\n",
      "[312]\ttraining's multi_logloss: 0.000597167\tvalid_0's multi_logloss: 0.359511\n",
      "[313]\ttraining's multi_logloss: 0.000588129\tvalid_0's multi_logloss: 0.359743\n",
      "[314]\ttraining's multi_logloss: 0.000581508\tvalid_0's multi_logloss: 0.359789\n",
      "[315]\ttraining's multi_logloss: 0.000572981\tvalid_0's multi_logloss: 0.360042\n",
      "[316]\ttraining's multi_logloss: 0.000565393\tvalid_0's multi_logloss: 0.359887\n",
      "[317]\ttraining's multi_logloss: 0.000558695\tvalid_0's multi_logloss: 0.360014\n",
      "[318]\ttraining's multi_logloss: 0.000549988\tvalid_0's multi_logloss: 0.36016\n",
      "[319]\ttraining's multi_logloss: 0.000542163\tvalid_0's multi_logloss: 0.360168\n",
      "[320]\ttraining's multi_logloss: 0.000536027\tvalid_0's multi_logloss: 0.360335\n",
      "[321]\ttraining's multi_logloss: 0.000529783\tvalid_0's multi_logloss: 0.360305\n",
      "[322]\ttraining's multi_logloss: 0.000523988\tvalid_0's multi_logloss: 0.36072\n",
      "[323]\ttraining's multi_logloss: 0.000515091\tvalid_0's multi_logloss: 0.360855\n",
      "[324]\ttraining's multi_logloss: 0.000509207\tvalid_0's multi_logloss: 0.361093\n",
      "[325]\ttraining's multi_logloss: 0.000501447\tvalid_0's multi_logloss: 0.361273\n",
      "[326]\ttraining's multi_logloss: 0.00049603\tvalid_0's multi_logloss: 0.361491\n"
     ]
    },
    {
     "name": "stdout",
     "output_type": "stream",
     "text": [
      "[327]\ttraining's multi_logloss: 0.000491224\tvalid_0's multi_logloss: 0.361564\n",
      "[328]\ttraining's multi_logloss: 0.000485137\tvalid_0's multi_logloss: 0.361733\n",
      "[329]\ttraining's multi_logloss: 0.000477417\tvalid_0's multi_logloss: 0.361745\n",
      "[330]\ttraining's multi_logloss: 0.000469415\tvalid_0's multi_logloss: 0.361808\n",
      "[331]\ttraining's multi_logloss: 0.000464373\tvalid_0's multi_logloss: 0.36207\n",
      "[332]\ttraining's multi_logloss: 0.000457262\tvalid_0's multi_logloss: 0.362225\n",
      "[333]\ttraining's multi_logloss: 0.000450959\tvalid_0's multi_logloss: 0.362537\n",
      "[334]\ttraining's multi_logloss: 0.000445419\tvalid_0's multi_logloss: 0.36283\n",
      "[335]\ttraining's multi_logloss: 0.000440238\tvalid_0's multi_logloss: 0.362969\n"
     ]
    },
    {
     "data": {
      "text/plain": [
       "LGBMClassifier(class_weight='balanced', early_stopping_round=50, eta=0.3,\n",
       "               max_depth=9, n_estimators=10000, num_class=4, num_leaves=400,\n",
       "               objective='multiclass')"
      ]
     },
     "execution_count": 151,
     "metadata": {},
     "output_type": "execute_result"
    }
   ],
   "source": [
    "lightbm.fit(X_train, y_train, eval_set=[(X_test, y_test), (X_train, y_train)], sample_weight=classes_weights)"
   ]
  },
  {
   "cell_type": "code",
   "execution_count": 231,
   "id": "43079368",
   "metadata": {},
   "outputs": [],
   "source": [
    "cv_score_lgb = cross_val_score(lightbm, X_train, y_train, cv=32, n_jobs=-1, scoring=\"accuracy\")"
   ]
  },
  {
   "cell_type": "code",
   "execution_count": 232,
   "id": "754261f4",
   "metadata": {},
   "outputs": [
    {
     "name": "stdout",
     "output_type": "stream",
     "text": [
      "Cross-validated Accuracy: 0.87436 ± 0.01571\n"
     ]
    }
   ],
   "source": [
    "print(\"Cross-validated Accuracy:\", round(np.mean(cv_score_lgb), 5), \"±\", round(np.std(cv_score_lgb), 5))"
   ]
  },
  {
   "cell_type": "code",
   "execution_count": 152,
   "id": "ae2b9106",
   "metadata": {},
   "outputs": [
    {
     "name": "stdout",
     "output_type": "stream",
     "text": [
      "                                                      precision    recall  f1-score   support\n",
      "\n",
      "      jet-mode radio AGN/low-excitation radio galaxy     0.7888    0.8566    0.8213      2581\n",
      "quasar-like radio AGN / high-excitation radio galaxy     0.5402    0.4481    0.4899       270\n",
      "                                     radio-quiet AGN     0.6850    0.8068    0.7409      1356\n",
      "                                 star-forming galaxy     0.9497    0.9147    0.9319     11315\n",
      "\n",
      "                                            accuracy                         0.8875     15522\n",
      "                                           macro avg     0.7409    0.7566    0.7460     15522\n",
      "                                        weighted avg     0.8927    0.8875    0.8891     15522\n",
      "\n"
     ]
    }
   ],
   "source": [
    "y_pred = lightbm.predict(X_test)\n",
    "print(classification_report(y_test, y_pred, target_names=labels, digits=4))"
   ]
  },
  {
   "cell_type": "code",
   "execution_count": 160,
   "id": "ca6631e3",
   "metadata": {},
   "outputs": [
    {
     "data": {
      "text/plain": [
       "[]"
      ]
     },
     "execution_count": 160,
     "metadata": {},
     "output_type": "execute_result"
    },
    {
     "data": {
      "image/png": "[encoded data removed]",
      "text/plain": [
       "<Figure size 432x288 with 2 Axes>"
      ]
     },
     "metadata": {
      "needs_background": "light"
     },
     "output_type": "display_data"
    }
   ],
   "source": [
    "cm = confusion_matrix(y_test, y_pred, normalize='true')\n",
    "disp = ConfusionMatrixDisplay(confusion_matrix=cm, display_labels=labels)\n",
    "disp.plot()\n",
    "plt.xticks(rotation = 90)\n",
    "plt.plot()"
   ]
  },
  {
   "cell_type": "code",
   "execution_count": 174,
   "id": "8585eee7",
   "metadata": {},
   "outputs": [],
   "source": [
    "y_pred_xgb = model.predict(X_test)\n",
    "y_pred_lgb = lightbm.predict(X_test)"
   ]
  },
  {
   "cell_type": "code",
   "execution_count": 175,
   "id": "ce60fd9c",
   "metadata": {},
   "outputs": [],
   "source": [
    "y_pred_temp = y_pred_xgb.copy()\n",
    "y_pred_temp[y_pred_temp==0] = 0\n",
    "y_pred_temp[y_pred_lgb==0] = 0"
   ]
  },
  {
   "cell_type": "code",
   "execution_count": 176,
   "id": "1d5ff409",
   "metadata": {},
   "outputs": [
    {
     "name": "stdout",
     "output_type": "stream",
     "text": [
      "                                                      precision    recall  f1-score   support\n",
      "\n",
      "      jet-mode radio AGN/low-excitation radio galaxy     0.7663    0.8842    0.8210      2581\n",
      "quasar-like radio AGN / high-excitation radio galaxy     0.5628    0.4148    0.4776       270\n",
      "                                     radio-quiet AGN     0.7199    0.7942    0.7553      1356\n",
      "                                 star-forming galaxy     0.9537    0.9144    0.9337     11315\n",
      "\n",
      "                                            accuracy                         0.8902     15522\n",
      "                                           macro avg     0.7507    0.7519    0.7469     15522\n",
      "                                        weighted avg     0.8953    0.8902    0.8914     15522\n",
      "\n"
     ]
    }
   ],
   "source": [
    "print(classification_report(y_test, y_pred_temp, target_names=labels, digits=4))"
   ]
  },
  {
   "cell_type": "markdown",
   "id": "58090610",
   "metadata": {},
   "source": [
    "# XGBoost"
   ]
  },
  {
   "cell_type": "code",
   "execution_count": 66,
   "id": "cff6c270",
   "metadata": {},
   "outputs": [],
   "source": [
    "model = XGBClassifier(use_label_encoder=False, \n",
    "                      max_depth=9, \n",
    "                      reg_alpha=0.5, \n",
    "                      min_child_weight=3, \n",
    "                      reg_lambda=3,\n",
    "                      eta=0.1, # Remember to reduce to 0.1 or 0.05 for better results\n",
    "                      tree_method='hist', # exact is more precies, but this is much faster\n",
    "                      objective='multi:softprob',\n",
    "                      n_estimators=8000,\n",
    "                      )"
   ]
  },
  {
   "cell_type": "code",
   "execution_count": 67,
   "id": "e4d86569",
   "metadata": {
    "scrolled": true
   },
   "outputs": [
    {
     "name": "stderr",
     "output_type": "stream",
     "text": [
      "d:\\python\\python38\\lib\\site-packages\\xgboost\\sklearn.py:793: UserWarning: `early_stopping_rounds` in `fit` method is deprecated for better compatibility with scikit-learn, use `early_stopping_rounds` in constructor or`set_params` instead.\n",
      "  warnings.warn(\n"
     ]
    },
    {
     "name": "stdout",
     "output_type": "stream",
     "text": [
      "[0]\tvalidation_0-mlogloss:1.28283\tvalidation_1-mlogloss:1.28774\n",
      "[1]\tvalidation_0-mlogloss:1.19635\tvalidation_1-mlogloss:1.20539\n",
      "[2]\tvalidation_0-mlogloss:1.12156\tvalidation_1-mlogloss:1.13467\n",
      "[3]\tvalidation_0-mlogloss:1.05685\tvalidation_1-mlogloss:1.07351\n",
      "[4]\tvalidation_0-mlogloss:0.99993\tvalidation_1-mlogloss:1.02013\n",
      "[5]\tvalidation_0-mlogloss:0.94905\tvalidation_1-mlogloss:0.97202\n",
      "[6]\tvalidation_0-mlogloss:0.90299\tvalidation_1-mlogloss:0.92922\n",
      "[7]\tvalidation_0-mlogloss:0.86155\tvalidation_1-mlogloss:0.89059\n",
      "[8]\tvalidation_0-mlogloss:0.82542\tvalidation_1-mlogloss:0.85729\n",
      "[9]\tvalidation_0-mlogloss:0.79229\tvalidation_1-mlogloss:0.82679\n",
      "[10]\tvalidation_0-mlogloss:0.76175\tvalidation_1-mlogloss:0.79896\n",
      "[11]\tvalidation_0-mlogloss:0.73417\tvalidation_1-mlogloss:0.77398\n",
      "[12]\tvalidation_0-mlogloss:0.70926\tvalidation_1-mlogloss:0.75147\n",
      "[13]\tvalidation_0-mlogloss:0.68623\tvalidation_1-mlogloss:0.73068\n",
      "[14]\tvalidation_0-mlogloss:0.66455\tvalidation_1-mlogloss:0.71104\n",
      "[15]\tvalidation_0-mlogloss:0.64480\tvalidation_1-mlogloss:0.69340\n",
      "[16]\tvalidation_0-mlogloss:0.62695\tvalidation_1-mlogloss:0.67752\n",
      "[17]\tvalidation_0-mlogloss:0.61031\tvalidation_1-mlogloss:0.66274\n",
      "[18]\tvalidation_0-mlogloss:0.59453\tvalidation_1-mlogloss:0.64892\n",
      "[19]\tvalidation_0-mlogloss:0.57971\tvalidation_1-mlogloss:0.63594\n",
      "[20]\tvalidation_0-mlogloss:0.56623\tvalidation_1-mlogloss:0.62411\n",
      "[21]\tvalidation_0-mlogloss:0.55321\tvalidation_1-mlogloss:0.61294\n",
      "[22]\tvalidation_0-mlogloss:0.54099\tvalidation_1-mlogloss:0.60246\n",
      "[23]\tvalidation_0-mlogloss:0.52918\tvalidation_1-mlogloss:0.59274\n",
      "[24]\tvalidation_0-mlogloss:0.51787\tvalidation_1-mlogloss:0.58333\n",
      "[25]\tvalidation_0-mlogloss:0.50765\tvalidation_1-mlogloss:0.57472\n",
      "[26]\tvalidation_0-mlogloss:0.49762\tvalidation_1-mlogloss:0.56634\n",
      "[27]\tvalidation_0-mlogloss:0.48842\tvalidation_1-mlogloss:0.55893\n",
      "[28]\tvalidation_0-mlogloss:0.47932\tvalidation_1-mlogloss:0.55158\n",
      "[29]\tvalidation_0-mlogloss:0.47164\tvalidation_1-mlogloss:0.54524\n",
      "[30]\tvalidation_0-mlogloss:0.46391\tvalidation_1-mlogloss:0.53925\n",
      "[31]\tvalidation_0-mlogloss:0.45632\tvalidation_1-mlogloss:0.53324\n",
      "[32]\tvalidation_0-mlogloss:0.44971\tvalidation_1-mlogloss:0.52809\n",
      "[33]\tvalidation_0-mlogloss:0.44253\tvalidation_1-mlogloss:0.52231\n",
      "[34]\tvalidation_0-mlogloss:0.43672\tvalidation_1-mlogloss:0.51779\n",
      "[35]\tvalidation_0-mlogloss:0.43050\tvalidation_1-mlogloss:0.51276\n",
      "[36]\tvalidation_0-mlogloss:0.42415\tvalidation_1-mlogloss:0.50788\n",
      "[37]\tvalidation_0-mlogloss:0.41849\tvalidation_1-mlogloss:0.50352\n",
      "[38]\tvalidation_0-mlogloss:0.41322\tvalidation_1-mlogloss:0.49939\n",
      "[39]\tvalidation_0-mlogloss:0.40795\tvalidation_1-mlogloss:0.49529\n",
      "[40]\tvalidation_0-mlogloss:0.40321\tvalidation_1-mlogloss:0.49185\n",
      "[41]\tvalidation_0-mlogloss:0.39847\tvalidation_1-mlogloss:0.48835\n",
      "[42]\tvalidation_0-mlogloss:0.39391\tvalidation_1-mlogloss:0.48514\n",
      "[43]\tvalidation_0-mlogloss:0.38929\tvalidation_1-mlogloss:0.48184\n",
      "[44]\tvalidation_0-mlogloss:0.38463\tvalidation_1-mlogloss:0.47841\n",
      "[45]\tvalidation_0-mlogloss:0.38104\tvalidation_1-mlogloss:0.47582\n",
      "[46]\tvalidation_0-mlogloss:0.37677\tvalidation_1-mlogloss:0.47267\n",
      "[47]\tvalidation_0-mlogloss:0.37274\tvalidation_1-mlogloss:0.46969\n",
      "[48]\tvalidation_0-mlogloss:0.36877\tvalidation_1-mlogloss:0.46697\n",
      "[49]\tvalidation_0-mlogloss:0.36471\tvalidation_1-mlogloss:0.46420\n",
      "[50]\tvalidation_0-mlogloss:0.36076\tvalidation_1-mlogloss:0.46157\n",
      "[51]\tvalidation_0-mlogloss:0.35724\tvalidation_1-mlogloss:0.45916\n",
      "[52]\tvalidation_0-mlogloss:0.35345\tvalidation_1-mlogloss:0.45650\n",
      "[53]\tvalidation_0-mlogloss:0.34987\tvalidation_1-mlogloss:0.45403\n",
      "[54]\tvalidation_0-mlogloss:0.34640\tvalidation_1-mlogloss:0.45176\n",
      "[55]\tvalidation_0-mlogloss:0.34305\tvalidation_1-mlogloss:0.44950\n",
      "[56]\tvalidation_0-mlogloss:0.33933\tvalidation_1-mlogloss:0.44716\n",
      "[57]\tvalidation_0-mlogloss:0.33656\tvalidation_1-mlogloss:0.44527\n",
      "[58]\tvalidation_0-mlogloss:0.33329\tvalidation_1-mlogloss:0.44321\n",
      "[59]\tvalidation_0-mlogloss:0.32989\tvalidation_1-mlogloss:0.44099\n",
      "[60]\tvalidation_0-mlogloss:0.32728\tvalidation_1-mlogloss:0.43942\n",
      "[61]\tvalidation_0-mlogloss:0.32400\tvalidation_1-mlogloss:0.43741\n",
      "[62]\tvalidation_0-mlogloss:0.32070\tvalidation_1-mlogloss:0.43532\n",
      "[63]\tvalidation_0-mlogloss:0.31822\tvalidation_1-mlogloss:0.43368\n",
      "[64]\tvalidation_0-mlogloss:0.31553\tvalidation_1-mlogloss:0.43192\n",
      "[65]\tvalidation_0-mlogloss:0.31324\tvalidation_1-mlogloss:0.43058\n",
      "[66]\tvalidation_0-mlogloss:0.31020\tvalidation_1-mlogloss:0.42880\n",
      "[67]\tvalidation_0-mlogloss:0.30818\tvalidation_1-mlogloss:0.42740\n",
      "[68]\tvalidation_0-mlogloss:0.30520\tvalidation_1-mlogloss:0.42568\n",
      "[69]\tvalidation_0-mlogloss:0.30298\tvalidation_1-mlogloss:0.42442\n",
      "[70]\tvalidation_0-mlogloss:0.30078\tvalidation_1-mlogloss:0.42300\n",
      "[71]\tvalidation_0-mlogloss:0.29843\tvalidation_1-mlogloss:0.42176\n",
      "[72]\tvalidation_0-mlogloss:0.29628\tvalidation_1-mlogloss:0.42040\n",
      "[73]\tvalidation_0-mlogloss:0.29398\tvalidation_1-mlogloss:0.41892\n",
      "[74]\tvalidation_0-mlogloss:0.29132\tvalidation_1-mlogloss:0.41737\n",
      "[75]\tvalidation_0-mlogloss:0.28935\tvalidation_1-mlogloss:0.41617\n",
      "[76]\tvalidation_0-mlogloss:0.28736\tvalidation_1-mlogloss:0.41506\n",
      "[77]\tvalidation_0-mlogloss:0.28562\tvalidation_1-mlogloss:0.41404\n",
      "[78]\tvalidation_0-mlogloss:0.28378\tvalidation_1-mlogloss:0.41306\n",
      "[79]\tvalidation_0-mlogloss:0.28231\tvalidation_1-mlogloss:0.41222\n",
      "[80]\tvalidation_0-mlogloss:0.28044\tvalidation_1-mlogloss:0.41105\n",
      "[81]\tvalidation_0-mlogloss:0.27884\tvalidation_1-mlogloss:0.41019\n",
      "[82]\tvalidation_0-mlogloss:0.27694\tvalidation_1-mlogloss:0.40917\n",
      "[83]\tvalidation_0-mlogloss:0.27472\tvalidation_1-mlogloss:0.40784\n",
      "[84]\tvalidation_0-mlogloss:0.27318\tvalidation_1-mlogloss:0.40702\n",
      "[85]\tvalidation_0-mlogloss:0.27107\tvalidation_1-mlogloss:0.40574\n",
      "[86]\tvalidation_0-mlogloss:0.26945\tvalidation_1-mlogloss:0.40474\n",
      "[87]\tvalidation_0-mlogloss:0.26760\tvalidation_1-mlogloss:0.40367\n",
      "[88]\tvalidation_0-mlogloss:0.26594\tvalidation_1-mlogloss:0.40284\n",
      "[89]\tvalidation_0-mlogloss:0.26494\tvalidation_1-mlogloss:0.40227\n",
      "[90]\tvalidation_0-mlogloss:0.26277\tvalidation_1-mlogloss:0.40111\n",
      "[91]\tvalidation_0-mlogloss:0.26128\tvalidation_1-mlogloss:0.40032\n",
      "[92]\tvalidation_0-mlogloss:0.25941\tvalidation_1-mlogloss:0.39932\n",
      "[93]\tvalidation_0-mlogloss:0.25766\tvalidation_1-mlogloss:0.39834\n",
      "[94]\tvalidation_0-mlogloss:0.25565\tvalidation_1-mlogloss:0.39714\n",
      "[95]\tvalidation_0-mlogloss:0.25394\tvalidation_1-mlogloss:0.39618\n",
      "[96]\tvalidation_0-mlogloss:0.25231\tvalidation_1-mlogloss:0.39534\n",
      "[97]\tvalidation_0-mlogloss:0.25048\tvalidation_1-mlogloss:0.39436\n",
      "[98]\tvalidation_0-mlogloss:0.24887\tvalidation_1-mlogloss:0.39351\n",
      "[99]\tvalidation_0-mlogloss:0.24696\tvalidation_1-mlogloss:0.39231\n",
      "[100]\tvalidation_0-mlogloss:0.24475\tvalidation_1-mlogloss:0.39096\n",
      "[101]\tvalidation_0-mlogloss:0.24341\tvalidation_1-mlogloss:0.39023\n",
      "[102]\tvalidation_0-mlogloss:0.24187\tvalidation_1-mlogloss:0.38953\n",
      "[103]\tvalidation_0-mlogloss:0.24061\tvalidation_1-mlogloss:0.38884\n",
      "[104]\tvalidation_0-mlogloss:0.23927\tvalidation_1-mlogloss:0.38826\n",
      "[105]\tvalidation_0-mlogloss:0.23792\tvalidation_1-mlogloss:0.38756\n",
      "[106]\tvalidation_0-mlogloss:0.23673\tvalidation_1-mlogloss:0.38701\n",
      "[107]\tvalidation_0-mlogloss:0.23556\tvalidation_1-mlogloss:0.38650\n",
      "[108]\tvalidation_0-mlogloss:0.23432\tvalidation_1-mlogloss:0.38573\n",
      "[109]\tvalidation_0-mlogloss:0.23323\tvalidation_1-mlogloss:0.38529\n",
      "[110]\tvalidation_0-mlogloss:0.23189\tvalidation_1-mlogloss:0.38457\n",
      "[111]\tvalidation_0-mlogloss:0.23069\tvalidation_1-mlogloss:0.38401\n",
      "[112]\tvalidation_0-mlogloss:0.22958\tvalidation_1-mlogloss:0.38351\n",
      "[113]\tvalidation_0-mlogloss:0.22834\tvalidation_1-mlogloss:0.38292\n",
      "[114]\tvalidation_0-mlogloss:0.22721\tvalidation_1-mlogloss:0.38235\n",
      "[115]\tvalidation_0-mlogloss:0.22619\tvalidation_1-mlogloss:0.38187\n",
      "[116]\tvalidation_0-mlogloss:0.22500\tvalidation_1-mlogloss:0.38123\n",
      "[117]\tvalidation_0-mlogloss:0.22345\tvalidation_1-mlogloss:0.38032\n",
      "[118]\tvalidation_0-mlogloss:0.22224\tvalidation_1-mlogloss:0.37971\n",
      "[119]\tvalidation_0-mlogloss:0.22094\tvalidation_1-mlogloss:0.37917\n",
      "[120]\tvalidation_0-mlogloss:0.21985\tvalidation_1-mlogloss:0.37857\n",
      "[121]\tvalidation_0-mlogloss:0.21864\tvalidation_1-mlogloss:0.37811\n",
      "[122]\tvalidation_0-mlogloss:0.21743\tvalidation_1-mlogloss:0.37747\n",
      "[123]\tvalidation_0-mlogloss:0.21649\tvalidation_1-mlogloss:0.37706\n",
      "[124]\tvalidation_0-mlogloss:0.21533\tvalidation_1-mlogloss:0.37659\n",
      "[125]\tvalidation_0-mlogloss:0.21442\tvalidation_1-mlogloss:0.37616\n"
     ]
    },
    {
     "name": "stdout",
     "output_type": "stream",
     "text": [
      "[126]\tvalidation_0-mlogloss:0.21303\tvalidation_1-mlogloss:0.37549\n",
      "[127]\tvalidation_0-mlogloss:0.21218\tvalidation_1-mlogloss:0.37501\n",
      "[128]\tvalidation_0-mlogloss:0.21107\tvalidation_1-mlogloss:0.37450\n",
      "[129]\tvalidation_0-mlogloss:0.21011\tvalidation_1-mlogloss:0.37401\n",
      "[130]\tvalidation_0-mlogloss:0.20804\tvalidation_1-mlogloss:0.37301\n",
      "[131]\tvalidation_0-mlogloss:0.20732\tvalidation_1-mlogloss:0.37270\n",
      "[132]\tvalidation_0-mlogloss:0.20633\tvalidation_1-mlogloss:0.37219\n",
      "[133]\tvalidation_0-mlogloss:0.20522\tvalidation_1-mlogloss:0.37156\n",
      "[134]\tvalidation_0-mlogloss:0.20433\tvalidation_1-mlogloss:0.37114\n",
      "[135]\tvalidation_0-mlogloss:0.20279\tvalidation_1-mlogloss:0.37039\n",
      "[136]\tvalidation_0-mlogloss:0.20192\tvalidation_1-mlogloss:0.37009\n",
      "[137]\tvalidation_0-mlogloss:0.20064\tvalidation_1-mlogloss:0.36955\n",
      "[138]\tvalidation_0-mlogloss:0.19912\tvalidation_1-mlogloss:0.36882\n",
      "[139]\tvalidation_0-mlogloss:0.19800\tvalidation_1-mlogloss:0.36825\n",
      "[140]\tvalidation_0-mlogloss:0.19703\tvalidation_1-mlogloss:0.36784\n",
      "[141]\tvalidation_0-mlogloss:0.19609\tvalidation_1-mlogloss:0.36732\n",
      "[142]\tvalidation_0-mlogloss:0.19504\tvalidation_1-mlogloss:0.36671\n",
      "[143]\tvalidation_0-mlogloss:0.19441\tvalidation_1-mlogloss:0.36641\n",
      "[144]\tvalidation_0-mlogloss:0.19349\tvalidation_1-mlogloss:0.36599\n",
      "[145]\tvalidation_0-mlogloss:0.19262\tvalidation_1-mlogloss:0.36558\n",
      "[146]\tvalidation_0-mlogloss:0.19136\tvalidation_1-mlogloss:0.36491\n",
      "[147]\tvalidation_0-mlogloss:0.19038\tvalidation_1-mlogloss:0.36455\n",
      "[148]\tvalidation_0-mlogloss:0.18920\tvalidation_1-mlogloss:0.36393\n",
      "[149]\tvalidation_0-mlogloss:0.18812\tvalidation_1-mlogloss:0.36338\n",
      "[150]\tvalidation_0-mlogloss:0.18704\tvalidation_1-mlogloss:0.36281\n",
      "[151]\tvalidation_0-mlogloss:0.18601\tvalidation_1-mlogloss:0.36240\n",
      "[152]\tvalidation_0-mlogloss:0.18507\tvalidation_1-mlogloss:0.36193\n",
      "[153]\tvalidation_0-mlogloss:0.18414\tvalidation_1-mlogloss:0.36151\n",
      "[154]\tvalidation_0-mlogloss:0.18310\tvalidation_1-mlogloss:0.36102\n",
      "[155]\tvalidation_0-mlogloss:0.18216\tvalidation_1-mlogloss:0.36064\n",
      "[156]\tvalidation_0-mlogloss:0.18108\tvalidation_1-mlogloss:0.36024\n",
      "[157]\tvalidation_0-mlogloss:0.18025\tvalidation_1-mlogloss:0.35994\n",
      "[158]\tvalidation_0-mlogloss:0.17925\tvalidation_1-mlogloss:0.35941\n",
      "[159]\tvalidation_0-mlogloss:0.17859\tvalidation_1-mlogloss:0.35905\n",
      "[160]\tvalidation_0-mlogloss:0.17748\tvalidation_1-mlogloss:0.35859\n",
      "[161]\tvalidation_0-mlogloss:0.17604\tvalidation_1-mlogloss:0.35792\n",
      "[162]\tvalidation_0-mlogloss:0.17516\tvalidation_1-mlogloss:0.35755\n",
      "[163]\tvalidation_0-mlogloss:0.17463\tvalidation_1-mlogloss:0.35729\n",
      "[164]\tvalidation_0-mlogloss:0.17370\tvalidation_1-mlogloss:0.35679\n",
      "[165]\tvalidation_0-mlogloss:0.17308\tvalidation_1-mlogloss:0.35656\n",
      "[166]\tvalidation_0-mlogloss:0.17206\tvalidation_1-mlogloss:0.35604\n",
      "[167]\tvalidation_0-mlogloss:0.17134\tvalidation_1-mlogloss:0.35567\n",
      "[168]\tvalidation_0-mlogloss:0.17047\tvalidation_1-mlogloss:0.35539\n",
      "[169]\tvalidation_0-mlogloss:0.16971\tvalidation_1-mlogloss:0.35498\n",
      "[170]\tvalidation_0-mlogloss:0.16912\tvalidation_1-mlogloss:0.35483\n",
      "[171]\tvalidation_0-mlogloss:0.16845\tvalidation_1-mlogloss:0.35458\n",
      "[172]\tvalidation_0-mlogloss:0.16737\tvalidation_1-mlogloss:0.35411\n",
      "[173]\tvalidation_0-mlogloss:0.16691\tvalidation_1-mlogloss:0.35379\n",
      "[174]\tvalidation_0-mlogloss:0.16577\tvalidation_1-mlogloss:0.35326\n",
      "[175]\tvalidation_0-mlogloss:0.16519\tvalidation_1-mlogloss:0.35298\n",
      "[176]\tvalidation_0-mlogloss:0.16437\tvalidation_1-mlogloss:0.35254\n",
      "[177]\tvalidation_0-mlogloss:0.16362\tvalidation_1-mlogloss:0.35225\n",
      "[178]\tvalidation_0-mlogloss:0.16283\tvalidation_1-mlogloss:0.35199\n",
      "[179]\tvalidation_0-mlogloss:0.16212\tvalidation_1-mlogloss:0.35174\n",
      "[180]\tvalidation_0-mlogloss:0.16129\tvalidation_1-mlogloss:0.35133\n",
      "[181]\tvalidation_0-mlogloss:0.16063\tvalidation_1-mlogloss:0.35114\n",
      "[182]\tvalidation_0-mlogloss:0.16016\tvalidation_1-mlogloss:0.35102\n",
      "[183]\tvalidation_0-mlogloss:0.15944\tvalidation_1-mlogloss:0.35076\n",
      "[184]\tvalidation_0-mlogloss:0.15864\tvalidation_1-mlogloss:0.35045\n",
      "[185]\tvalidation_0-mlogloss:0.15786\tvalidation_1-mlogloss:0.35008\n",
      "[186]\tvalidation_0-mlogloss:0.15715\tvalidation_1-mlogloss:0.34972\n",
      "[187]\tvalidation_0-mlogloss:0.15648\tvalidation_1-mlogloss:0.34941\n",
      "[188]\tvalidation_0-mlogloss:0.15567\tvalidation_1-mlogloss:0.34917\n",
      "[189]\tvalidation_0-mlogloss:0.15491\tvalidation_1-mlogloss:0.34884\n",
      "[190]\tvalidation_0-mlogloss:0.15412\tvalidation_1-mlogloss:0.34851\n",
      "[191]\tvalidation_0-mlogloss:0.15368\tvalidation_1-mlogloss:0.34830\n",
      "[192]\tvalidation_0-mlogloss:0.15285\tvalidation_1-mlogloss:0.34802\n",
      "[193]\tvalidation_0-mlogloss:0.15225\tvalidation_1-mlogloss:0.34784\n",
      "[194]\tvalidation_0-mlogloss:0.15127\tvalidation_1-mlogloss:0.34739\n",
      "[195]\tvalidation_0-mlogloss:0.15039\tvalidation_1-mlogloss:0.34698\n",
      "[196]\tvalidation_0-mlogloss:0.14982\tvalidation_1-mlogloss:0.34677\n",
      "[197]\tvalidation_0-mlogloss:0.14892\tvalidation_1-mlogloss:0.34645\n",
      "[198]\tvalidation_0-mlogloss:0.14827\tvalidation_1-mlogloss:0.34614\n",
      "[199]\tvalidation_0-mlogloss:0.14714\tvalidation_1-mlogloss:0.34549\n",
      "[200]\tvalidation_0-mlogloss:0.14635\tvalidation_1-mlogloss:0.34524\n",
      "[201]\tvalidation_0-mlogloss:0.14542\tvalidation_1-mlogloss:0.34482\n",
      "[202]\tvalidation_0-mlogloss:0.14487\tvalidation_1-mlogloss:0.34463\n",
      "[203]\tvalidation_0-mlogloss:0.14391\tvalidation_1-mlogloss:0.34420\n",
      "[204]\tvalidation_0-mlogloss:0.14310\tvalidation_1-mlogloss:0.34385\n",
      "[205]\tvalidation_0-mlogloss:0.14245\tvalidation_1-mlogloss:0.34361\n",
      "[206]\tvalidation_0-mlogloss:0.14163\tvalidation_1-mlogloss:0.34321\n",
      "[207]\tvalidation_0-mlogloss:0.14101\tvalidation_1-mlogloss:0.34284\n",
      "[208]\tvalidation_0-mlogloss:0.14055\tvalidation_1-mlogloss:0.34264\n",
      "[209]\tvalidation_0-mlogloss:0.13971\tvalidation_1-mlogloss:0.34230\n",
      "[210]\tvalidation_0-mlogloss:0.13909\tvalidation_1-mlogloss:0.34210\n",
      "[211]\tvalidation_0-mlogloss:0.13869\tvalidation_1-mlogloss:0.34199\n",
      "[212]\tvalidation_0-mlogloss:0.13785\tvalidation_1-mlogloss:0.34166\n",
      "[213]\tvalidation_0-mlogloss:0.13696\tvalidation_1-mlogloss:0.34133\n",
      "[214]\tvalidation_0-mlogloss:0.13614\tvalidation_1-mlogloss:0.34097\n",
      "[215]\tvalidation_0-mlogloss:0.13562\tvalidation_1-mlogloss:0.34080\n",
      "[216]\tvalidation_0-mlogloss:0.13514\tvalidation_1-mlogloss:0.34064\n",
      "[217]\tvalidation_0-mlogloss:0.13488\tvalidation_1-mlogloss:0.34055\n",
      "[218]\tvalidation_0-mlogloss:0.13435\tvalidation_1-mlogloss:0.34037\n",
      "[219]\tvalidation_0-mlogloss:0.13376\tvalidation_1-mlogloss:0.34012\n",
      "[220]\tvalidation_0-mlogloss:0.13317\tvalidation_1-mlogloss:0.33991\n",
      "[221]\tvalidation_0-mlogloss:0.13255\tvalidation_1-mlogloss:0.33963\n",
      "[222]\tvalidation_0-mlogloss:0.13206\tvalidation_1-mlogloss:0.33941\n",
      "[223]\tvalidation_0-mlogloss:0.13097\tvalidation_1-mlogloss:0.33899\n",
      "[224]\tvalidation_0-mlogloss:0.13032\tvalidation_1-mlogloss:0.33868\n",
      "[225]\tvalidation_0-mlogloss:0.12963\tvalidation_1-mlogloss:0.33844\n",
      "[226]\tvalidation_0-mlogloss:0.12920\tvalidation_1-mlogloss:0.33823\n",
      "[227]\tvalidation_0-mlogloss:0.12851\tvalidation_1-mlogloss:0.33796\n",
      "[228]\tvalidation_0-mlogloss:0.12789\tvalidation_1-mlogloss:0.33773\n",
      "[229]\tvalidation_0-mlogloss:0.12706\tvalidation_1-mlogloss:0.33738\n",
      "[230]\tvalidation_0-mlogloss:0.12651\tvalidation_1-mlogloss:0.33716\n",
      "[231]\tvalidation_0-mlogloss:0.12582\tvalidation_1-mlogloss:0.33690\n",
      "[232]\tvalidation_0-mlogloss:0.12530\tvalidation_1-mlogloss:0.33673\n",
      "[233]\tvalidation_0-mlogloss:0.12470\tvalidation_1-mlogloss:0.33655\n",
      "[234]\tvalidation_0-mlogloss:0.12405\tvalidation_1-mlogloss:0.33627\n",
      "[235]\tvalidation_0-mlogloss:0.12348\tvalidation_1-mlogloss:0.33604\n",
      "[236]\tvalidation_0-mlogloss:0.12285\tvalidation_1-mlogloss:0.33582\n",
      "[237]\tvalidation_0-mlogloss:0.12230\tvalidation_1-mlogloss:0.33565\n",
      "[238]\tvalidation_0-mlogloss:0.12190\tvalidation_1-mlogloss:0.33552\n",
      "[239]\tvalidation_0-mlogloss:0.12121\tvalidation_1-mlogloss:0.33517\n",
      "[240]\tvalidation_0-mlogloss:0.12077\tvalidation_1-mlogloss:0.33509\n",
      "[241]\tvalidation_0-mlogloss:0.11990\tvalidation_1-mlogloss:0.33482\n",
      "[242]\tvalidation_0-mlogloss:0.11935\tvalidation_1-mlogloss:0.33465\n",
      "[243]\tvalidation_0-mlogloss:0.11888\tvalidation_1-mlogloss:0.33445\n",
      "[244]\tvalidation_0-mlogloss:0.11858\tvalidation_1-mlogloss:0.33436\n",
      "[245]\tvalidation_0-mlogloss:0.11788\tvalidation_1-mlogloss:0.33411\n",
      "[246]\tvalidation_0-mlogloss:0.11743\tvalidation_1-mlogloss:0.33397\n",
      "[247]\tvalidation_0-mlogloss:0.11687\tvalidation_1-mlogloss:0.33376\n",
      "[248]\tvalidation_0-mlogloss:0.11648\tvalidation_1-mlogloss:0.33361\n",
      "[249]\tvalidation_0-mlogloss:0.11598\tvalidation_1-mlogloss:0.33345\n",
      "[250]\tvalidation_0-mlogloss:0.11559\tvalidation_1-mlogloss:0.33337\n"
     ]
    },
    {
     "name": "stdout",
     "output_type": "stream",
     "text": [
      "[251]\tvalidation_0-mlogloss:0.11490\tvalidation_1-mlogloss:0.33308\n",
      "[252]\tvalidation_0-mlogloss:0.11467\tvalidation_1-mlogloss:0.33304\n",
      "[253]\tvalidation_0-mlogloss:0.11416\tvalidation_1-mlogloss:0.33280\n",
      "[254]\tvalidation_0-mlogloss:0.11371\tvalidation_1-mlogloss:0.33260\n",
      "[255]\tvalidation_0-mlogloss:0.11322\tvalidation_1-mlogloss:0.33250\n",
      "[256]\tvalidation_0-mlogloss:0.11282\tvalidation_1-mlogloss:0.33238\n",
      "[257]\tvalidation_0-mlogloss:0.11246\tvalidation_1-mlogloss:0.33228\n",
      "[258]\tvalidation_0-mlogloss:0.11211\tvalidation_1-mlogloss:0.33214\n",
      "[259]\tvalidation_0-mlogloss:0.11159\tvalidation_1-mlogloss:0.33202\n",
      "[260]\tvalidation_0-mlogloss:0.11107\tvalidation_1-mlogloss:0.33186\n",
      "[261]\tvalidation_0-mlogloss:0.11076\tvalidation_1-mlogloss:0.33180\n",
      "[262]\tvalidation_0-mlogloss:0.11031\tvalidation_1-mlogloss:0.33174\n",
      "[263]\tvalidation_0-mlogloss:0.10988\tvalidation_1-mlogloss:0.33162\n",
      "[264]\tvalidation_0-mlogloss:0.10951\tvalidation_1-mlogloss:0.33151\n",
      "[265]\tvalidation_0-mlogloss:0.10914\tvalidation_1-mlogloss:0.33141\n",
      "[266]\tvalidation_0-mlogloss:0.10864\tvalidation_1-mlogloss:0.33122\n",
      "[267]\tvalidation_0-mlogloss:0.10825\tvalidation_1-mlogloss:0.33109\n",
      "[268]\tvalidation_0-mlogloss:0.10767\tvalidation_1-mlogloss:0.33091\n",
      "[269]\tvalidation_0-mlogloss:0.10712\tvalidation_1-mlogloss:0.33070\n",
      "[270]\tvalidation_0-mlogloss:0.10661\tvalidation_1-mlogloss:0.33049\n",
      "[271]\tvalidation_0-mlogloss:0.10609\tvalidation_1-mlogloss:0.33024\n",
      "[272]\tvalidation_0-mlogloss:0.10551\tvalidation_1-mlogloss:0.32999\n",
      "[273]\tvalidation_0-mlogloss:0.10516\tvalidation_1-mlogloss:0.32992\n",
      "[274]\tvalidation_0-mlogloss:0.10465\tvalidation_1-mlogloss:0.32970\n",
      "[275]\tvalidation_0-mlogloss:0.10433\tvalidation_1-mlogloss:0.32963\n",
      "[276]\tvalidation_0-mlogloss:0.10379\tvalidation_1-mlogloss:0.32952\n",
      "[277]\tvalidation_0-mlogloss:0.10332\tvalidation_1-mlogloss:0.32938\n",
      "[278]\tvalidation_0-mlogloss:0.10296\tvalidation_1-mlogloss:0.32929\n",
      "[279]\tvalidation_0-mlogloss:0.10224\tvalidation_1-mlogloss:0.32903\n",
      "[280]\tvalidation_0-mlogloss:0.10172\tvalidation_1-mlogloss:0.32886\n",
      "[281]\tvalidation_0-mlogloss:0.10139\tvalidation_1-mlogloss:0.32878\n",
      "[282]\tvalidation_0-mlogloss:0.10120\tvalidation_1-mlogloss:0.32878\n",
      "[283]\tvalidation_0-mlogloss:0.10085\tvalidation_1-mlogloss:0.32866\n",
      "[284]\tvalidation_0-mlogloss:0.10045\tvalidation_1-mlogloss:0.32860\n",
      "[285]\tvalidation_0-mlogloss:0.10013\tvalidation_1-mlogloss:0.32843\n",
      "[286]\tvalidation_0-mlogloss:0.09969\tvalidation_1-mlogloss:0.32825\n",
      "[287]\tvalidation_0-mlogloss:0.09928\tvalidation_1-mlogloss:0.32815\n",
      "[288]\tvalidation_0-mlogloss:0.09888\tvalidation_1-mlogloss:0.32796\n",
      "[289]\tvalidation_0-mlogloss:0.09838\tvalidation_1-mlogloss:0.32786\n",
      "[290]\tvalidation_0-mlogloss:0.09809\tvalidation_1-mlogloss:0.32779\n",
      "[291]\tvalidation_0-mlogloss:0.09776\tvalidation_1-mlogloss:0.32763\n",
      "[292]\tvalidation_0-mlogloss:0.09736\tvalidation_1-mlogloss:0.32748\n",
      "[293]\tvalidation_0-mlogloss:0.09695\tvalidation_1-mlogloss:0.32737\n",
      "[294]\tvalidation_0-mlogloss:0.09647\tvalidation_1-mlogloss:0.32718\n",
      "[295]\tvalidation_0-mlogloss:0.09612\tvalidation_1-mlogloss:0.32717\n",
      "[296]\tvalidation_0-mlogloss:0.09577\tvalidation_1-mlogloss:0.32714\n",
      "[297]\tvalidation_0-mlogloss:0.09528\tvalidation_1-mlogloss:0.32699\n",
      "[298]\tvalidation_0-mlogloss:0.09481\tvalidation_1-mlogloss:0.32687\n",
      "[299]\tvalidation_0-mlogloss:0.09444\tvalidation_1-mlogloss:0.32675\n",
      "[300]\tvalidation_0-mlogloss:0.09403\tvalidation_1-mlogloss:0.32664\n",
      "[301]\tvalidation_0-mlogloss:0.09367\tvalidation_1-mlogloss:0.32659\n",
      "[302]\tvalidation_0-mlogloss:0.09333\tvalidation_1-mlogloss:0.32650\n",
      "[303]\tvalidation_0-mlogloss:0.09297\tvalidation_1-mlogloss:0.32640\n",
      "[304]\tvalidation_0-mlogloss:0.09246\tvalidation_1-mlogloss:0.32625\n",
      "[305]\tvalidation_0-mlogloss:0.09217\tvalidation_1-mlogloss:0.32616\n",
      "[306]\tvalidation_0-mlogloss:0.09173\tvalidation_1-mlogloss:0.32596\n",
      "[307]\tvalidation_0-mlogloss:0.09114\tvalidation_1-mlogloss:0.32572\n",
      "[308]\tvalidation_0-mlogloss:0.09080\tvalidation_1-mlogloss:0.32558\n",
      "[309]\tvalidation_0-mlogloss:0.09028\tvalidation_1-mlogloss:0.32542\n",
      "[310]\tvalidation_0-mlogloss:0.08984\tvalidation_1-mlogloss:0.32530\n",
      "[311]\tvalidation_0-mlogloss:0.08946\tvalidation_1-mlogloss:0.32521\n",
      "[312]\tvalidation_0-mlogloss:0.08900\tvalidation_1-mlogloss:0.32508\n",
      "[313]\tvalidation_0-mlogloss:0.08871\tvalidation_1-mlogloss:0.32502\n",
      "[314]\tvalidation_0-mlogloss:0.08838\tvalidation_1-mlogloss:0.32494\n",
      "[315]\tvalidation_0-mlogloss:0.08808\tvalidation_1-mlogloss:0.32487\n",
      "[316]\tvalidation_0-mlogloss:0.08773\tvalidation_1-mlogloss:0.32480\n",
      "[317]\tvalidation_0-mlogloss:0.08736\tvalidation_1-mlogloss:0.32466\n",
      "[318]\tvalidation_0-mlogloss:0.08695\tvalidation_1-mlogloss:0.32450\n",
      "[319]\tvalidation_0-mlogloss:0.08663\tvalidation_1-mlogloss:0.32439\n",
      "[320]\tvalidation_0-mlogloss:0.08624\tvalidation_1-mlogloss:0.32435\n",
      "[321]\tvalidation_0-mlogloss:0.08605\tvalidation_1-mlogloss:0.32433\n",
      "[322]\tvalidation_0-mlogloss:0.08574\tvalidation_1-mlogloss:0.32426\n",
      "[323]\tvalidation_0-mlogloss:0.08526\tvalidation_1-mlogloss:0.32413\n",
      "[324]\tvalidation_0-mlogloss:0.08487\tvalidation_1-mlogloss:0.32403\n",
      "[325]\tvalidation_0-mlogloss:0.08448\tvalidation_1-mlogloss:0.32393\n",
      "[326]\tvalidation_0-mlogloss:0.08415\tvalidation_1-mlogloss:0.32384\n",
      "[327]\tvalidation_0-mlogloss:0.08379\tvalidation_1-mlogloss:0.32374\n",
      "[328]\tvalidation_0-mlogloss:0.08346\tvalidation_1-mlogloss:0.32367\n",
      "[329]\tvalidation_0-mlogloss:0.08309\tvalidation_1-mlogloss:0.32356\n",
      "[330]\tvalidation_0-mlogloss:0.08277\tvalidation_1-mlogloss:0.32347\n",
      "[331]\tvalidation_0-mlogloss:0.08262\tvalidation_1-mlogloss:0.32342\n",
      "[332]\tvalidation_0-mlogloss:0.08220\tvalidation_1-mlogloss:0.32328\n",
      "[333]\tvalidation_0-mlogloss:0.08185\tvalidation_1-mlogloss:0.32317\n",
      "[334]\tvalidation_0-mlogloss:0.08159\tvalidation_1-mlogloss:0.32310\n",
      "[335]\tvalidation_0-mlogloss:0.08129\tvalidation_1-mlogloss:0.32300\n",
      "[336]\tvalidation_0-mlogloss:0.08097\tvalidation_1-mlogloss:0.32297\n",
      "[337]\tvalidation_0-mlogloss:0.08068\tvalidation_1-mlogloss:0.32286\n",
      "[338]\tvalidation_0-mlogloss:0.08035\tvalidation_1-mlogloss:0.32279\n",
      "[339]\tvalidation_0-mlogloss:0.07999\tvalidation_1-mlogloss:0.32263\n",
      "[340]\tvalidation_0-mlogloss:0.07963\tvalidation_1-mlogloss:0.32255\n",
      "[341]\tvalidation_0-mlogloss:0.07924\tvalidation_1-mlogloss:0.32246\n",
      "[342]\tvalidation_0-mlogloss:0.07886\tvalidation_1-mlogloss:0.32230\n",
      "[343]\tvalidation_0-mlogloss:0.07856\tvalidation_1-mlogloss:0.32222\n",
      "[344]\tvalidation_0-mlogloss:0.07821\tvalidation_1-mlogloss:0.32220\n",
      "[345]\tvalidation_0-mlogloss:0.07789\tvalidation_1-mlogloss:0.32211\n",
      "[346]\tvalidation_0-mlogloss:0.07765\tvalidation_1-mlogloss:0.32211\n",
      "[347]\tvalidation_0-mlogloss:0.07724\tvalidation_1-mlogloss:0.32201\n",
      "[348]\tvalidation_0-mlogloss:0.07686\tvalidation_1-mlogloss:0.32200\n",
      "[349]\tvalidation_0-mlogloss:0.07645\tvalidation_1-mlogloss:0.32201\n",
      "[350]\tvalidation_0-mlogloss:0.07620\tvalidation_1-mlogloss:0.32198\n",
      "[351]\tvalidation_0-mlogloss:0.07583\tvalidation_1-mlogloss:0.32187\n",
      "[352]\tvalidation_0-mlogloss:0.07557\tvalidation_1-mlogloss:0.32180\n",
      "[353]\tvalidation_0-mlogloss:0.07531\tvalidation_1-mlogloss:0.32175\n",
      "[354]\tvalidation_0-mlogloss:0.07505\tvalidation_1-mlogloss:0.32170\n",
      "[355]\tvalidation_0-mlogloss:0.07472\tvalidation_1-mlogloss:0.32165\n",
      "[356]\tvalidation_0-mlogloss:0.07444\tvalidation_1-mlogloss:0.32160\n",
      "[357]\tvalidation_0-mlogloss:0.07416\tvalidation_1-mlogloss:0.32152\n",
      "[358]\tvalidation_0-mlogloss:0.07389\tvalidation_1-mlogloss:0.32147\n",
      "[359]\tvalidation_0-mlogloss:0.07366\tvalidation_1-mlogloss:0.32141\n",
      "[360]\tvalidation_0-mlogloss:0.07342\tvalidation_1-mlogloss:0.32134\n",
      "[361]\tvalidation_0-mlogloss:0.07304\tvalidation_1-mlogloss:0.32132\n",
      "[362]\tvalidation_0-mlogloss:0.07276\tvalidation_1-mlogloss:0.32130\n",
      "[363]\tvalidation_0-mlogloss:0.07245\tvalidation_1-mlogloss:0.32117\n",
      "[364]\tvalidation_0-mlogloss:0.07206\tvalidation_1-mlogloss:0.32115\n",
      "[365]\tvalidation_0-mlogloss:0.07176\tvalidation_1-mlogloss:0.32110\n",
      "[366]\tvalidation_0-mlogloss:0.07154\tvalidation_1-mlogloss:0.32110\n",
      "[367]\tvalidation_0-mlogloss:0.07126\tvalidation_1-mlogloss:0.32108\n",
      "[368]\tvalidation_0-mlogloss:0.07092\tvalidation_1-mlogloss:0.32107\n",
      "[369]\tvalidation_0-mlogloss:0.07061\tvalidation_1-mlogloss:0.32091\n",
      "[370]\tvalidation_0-mlogloss:0.07038\tvalidation_1-mlogloss:0.32086\n",
      "[371]\tvalidation_0-mlogloss:0.07012\tvalidation_1-mlogloss:0.32078\n",
      "[372]\tvalidation_0-mlogloss:0.06991\tvalidation_1-mlogloss:0.32070\n",
      "[373]\tvalidation_0-mlogloss:0.06964\tvalidation_1-mlogloss:0.32062\n",
      "[374]\tvalidation_0-mlogloss:0.06933\tvalidation_1-mlogloss:0.32060\n",
      "[375]\tvalidation_0-mlogloss:0.06911\tvalidation_1-mlogloss:0.32051\n"
     ]
    },
    {
     "name": "stdout",
     "output_type": "stream",
     "text": [
      "[376]\tvalidation_0-mlogloss:0.06889\tvalidation_1-mlogloss:0.32051\n",
      "[377]\tvalidation_0-mlogloss:0.06858\tvalidation_1-mlogloss:0.32045\n",
      "[378]\tvalidation_0-mlogloss:0.06832\tvalidation_1-mlogloss:0.32043\n",
      "[379]\tvalidation_0-mlogloss:0.06814\tvalidation_1-mlogloss:0.32044\n",
      "[380]\tvalidation_0-mlogloss:0.06791\tvalidation_1-mlogloss:0.32044\n",
      "[381]\tvalidation_0-mlogloss:0.06764\tvalidation_1-mlogloss:0.32045\n",
      "[382]\tvalidation_0-mlogloss:0.06736\tvalidation_1-mlogloss:0.32054\n",
      "[383]\tvalidation_0-mlogloss:0.06710\tvalidation_1-mlogloss:0.32054\n",
      "[384]\tvalidation_0-mlogloss:0.06684\tvalidation_1-mlogloss:0.32051\n",
      "[385]\tvalidation_0-mlogloss:0.06658\tvalidation_1-mlogloss:0.32049\n",
      "[386]\tvalidation_0-mlogloss:0.06625\tvalidation_1-mlogloss:0.32044\n",
      "[387]\tvalidation_0-mlogloss:0.06608\tvalidation_1-mlogloss:0.32049\n",
      "[388]\tvalidation_0-mlogloss:0.06585\tvalidation_1-mlogloss:0.32046\n",
      "[389]\tvalidation_0-mlogloss:0.06561\tvalidation_1-mlogloss:0.32041\n",
      "[390]\tvalidation_0-mlogloss:0.06534\tvalidation_1-mlogloss:0.32042\n",
      "[391]\tvalidation_0-mlogloss:0.06506\tvalidation_1-mlogloss:0.32036\n",
      "[392]\tvalidation_0-mlogloss:0.06472\tvalidation_1-mlogloss:0.32025\n",
      "[393]\tvalidation_0-mlogloss:0.06443\tvalidation_1-mlogloss:0.32021\n",
      "[394]\tvalidation_0-mlogloss:0.06416\tvalidation_1-mlogloss:0.32018\n",
      "[395]\tvalidation_0-mlogloss:0.06392\tvalidation_1-mlogloss:0.32012\n",
      "[396]\tvalidation_0-mlogloss:0.06371\tvalidation_1-mlogloss:0.32014\n",
      "[397]\tvalidation_0-mlogloss:0.06348\tvalidation_1-mlogloss:0.32005\n",
      "[398]\tvalidation_0-mlogloss:0.06324\tvalidation_1-mlogloss:0.32001\n",
      "[399]\tvalidation_0-mlogloss:0.06296\tvalidation_1-mlogloss:0.31993\n",
      "[400]\tvalidation_0-mlogloss:0.06270\tvalidation_1-mlogloss:0.31991\n",
      "[401]\tvalidation_0-mlogloss:0.06239\tvalidation_1-mlogloss:0.31982\n",
      "[402]\tvalidation_0-mlogloss:0.06222\tvalidation_1-mlogloss:0.31982\n",
      "[403]\tvalidation_0-mlogloss:0.06203\tvalidation_1-mlogloss:0.31979\n",
      "[404]\tvalidation_0-mlogloss:0.06175\tvalidation_1-mlogloss:0.31971\n",
      "[405]\tvalidation_0-mlogloss:0.06152\tvalidation_1-mlogloss:0.31963\n",
      "[406]\tvalidation_0-mlogloss:0.06129\tvalidation_1-mlogloss:0.31961\n",
      "[407]\tvalidation_0-mlogloss:0.06105\tvalidation_1-mlogloss:0.31964\n",
      "[408]\tvalidation_0-mlogloss:0.06082\tvalidation_1-mlogloss:0.31967\n",
      "[409]\tvalidation_0-mlogloss:0.06067\tvalidation_1-mlogloss:0.31966\n",
      "[410]\tvalidation_0-mlogloss:0.06046\tvalidation_1-mlogloss:0.31964\n",
      "[411]\tvalidation_0-mlogloss:0.06024\tvalidation_1-mlogloss:0.31962\n",
      "[412]\tvalidation_0-mlogloss:0.06007\tvalidation_1-mlogloss:0.31964\n",
      "[413]\tvalidation_0-mlogloss:0.05987\tvalidation_1-mlogloss:0.31963\n",
      "[414]\tvalidation_0-mlogloss:0.05972\tvalidation_1-mlogloss:0.31962\n",
      "[415]\tvalidation_0-mlogloss:0.05956\tvalidation_1-mlogloss:0.31961\n",
      "[416]\tvalidation_0-mlogloss:0.05935\tvalidation_1-mlogloss:0.31959\n",
      "[417]\tvalidation_0-mlogloss:0.05909\tvalidation_1-mlogloss:0.31957\n",
      "[418]\tvalidation_0-mlogloss:0.05885\tvalidation_1-mlogloss:0.31954\n",
      "[419]\tvalidation_0-mlogloss:0.05862\tvalidation_1-mlogloss:0.31954\n",
      "[420]\tvalidation_0-mlogloss:0.05844\tvalidation_1-mlogloss:0.31962\n",
      "[421]\tvalidation_0-mlogloss:0.05826\tvalidation_1-mlogloss:0.31962\n",
      "[422]\tvalidation_0-mlogloss:0.05810\tvalidation_1-mlogloss:0.31957\n",
      "[423]\tvalidation_0-mlogloss:0.05786\tvalidation_1-mlogloss:0.31959\n",
      "[424]\tvalidation_0-mlogloss:0.05768\tvalidation_1-mlogloss:0.31957\n",
      "[425]\tvalidation_0-mlogloss:0.05750\tvalidation_1-mlogloss:0.31955\n",
      "[426]\tvalidation_0-mlogloss:0.05740\tvalidation_1-mlogloss:0.31958\n",
      "[427]\tvalidation_0-mlogloss:0.05717\tvalidation_1-mlogloss:0.31961\n",
      "[428]\tvalidation_0-mlogloss:0.05697\tvalidation_1-mlogloss:0.31967\n",
      "[429]\tvalidation_0-mlogloss:0.05680\tvalidation_1-mlogloss:0.31969\n",
      "[430]\tvalidation_0-mlogloss:0.05659\tvalidation_1-mlogloss:0.31965\n",
      "[431]\tvalidation_0-mlogloss:0.05647\tvalidation_1-mlogloss:0.31963\n",
      "[432]\tvalidation_0-mlogloss:0.05628\tvalidation_1-mlogloss:0.31959\n",
      "[433]\tvalidation_0-mlogloss:0.05617\tvalidation_1-mlogloss:0.31961\n",
      "[434]\tvalidation_0-mlogloss:0.05602\tvalidation_1-mlogloss:0.31964\n",
      "[435]\tvalidation_0-mlogloss:0.05585\tvalidation_1-mlogloss:0.31958\n",
      "[436]\tvalidation_0-mlogloss:0.05566\tvalidation_1-mlogloss:0.31964\n",
      "[437]\tvalidation_0-mlogloss:0.05554\tvalidation_1-mlogloss:0.31960\n",
      "[438]\tvalidation_0-mlogloss:0.05537\tvalidation_1-mlogloss:0.31964\n",
      "[439]\tvalidation_0-mlogloss:0.05516\tvalidation_1-mlogloss:0.31964\n",
      "[440]\tvalidation_0-mlogloss:0.05501\tvalidation_1-mlogloss:0.31961\n",
      "[441]\tvalidation_0-mlogloss:0.05488\tvalidation_1-mlogloss:0.31960\n",
      "[442]\tvalidation_0-mlogloss:0.05477\tvalidation_1-mlogloss:0.31956\n",
      "[443]\tvalidation_0-mlogloss:0.05457\tvalidation_1-mlogloss:0.31959\n",
      "[444]\tvalidation_0-mlogloss:0.05435\tvalidation_1-mlogloss:0.31957\n",
      "[445]\tvalidation_0-mlogloss:0.05425\tvalidation_1-mlogloss:0.31960\n",
      "[446]\tvalidation_0-mlogloss:0.05408\tvalidation_1-mlogloss:0.31963\n",
      "[447]\tvalidation_0-mlogloss:0.05383\tvalidation_1-mlogloss:0.31966\n",
      "[448]\tvalidation_0-mlogloss:0.05370\tvalidation_1-mlogloss:0.31966\n",
      "[449]\tvalidation_0-mlogloss:0.05356\tvalidation_1-mlogloss:0.31964\n",
      "[450]\tvalidation_0-mlogloss:0.05342\tvalidation_1-mlogloss:0.31964\n",
      "[451]\tvalidation_0-mlogloss:0.05323\tvalidation_1-mlogloss:0.31967\n",
      "[452]\tvalidation_0-mlogloss:0.05310\tvalidation_1-mlogloss:0.31967\n",
      "[453]\tvalidation_0-mlogloss:0.05292\tvalidation_1-mlogloss:0.31972\n",
      "[454]\tvalidation_0-mlogloss:0.05273\tvalidation_1-mlogloss:0.31970\n",
      "[455]\tvalidation_0-mlogloss:0.05254\tvalidation_1-mlogloss:0.31969\n",
      "[456]\tvalidation_0-mlogloss:0.05238\tvalidation_1-mlogloss:0.31968\n",
      "[457]\tvalidation_0-mlogloss:0.05223\tvalidation_1-mlogloss:0.31965\n",
      "[458]\tvalidation_0-mlogloss:0.05203\tvalidation_1-mlogloss:0.31968\n",
      "[459]\tvalidation_0-mlogloss:0.05184\tvalidation_1-mlogloss:0.31969\n",
      "[460]\tvalidation_0-mlogloss:0.05169\tvalidation_1-mlogloss:0.31972\n",
      "[461]\tvalidation_0-mlogloss:0.05151\tvalidation_1-mlogloss:0.31969\n",
      "[462]\tvalidation_0-mlogloss:0.05134\tvalidation_1-mlogloss:0.31960\n",
      "[463]\tvalidation_0-mlogloss:0.05117\tvalidation_1-mlogloss:0.31961\n",
      "[464]\tvalidation_0-mlogloss:0.05099\tvalidation_1-mlogloss:0.31962\n",
      "[465]\tvalidation_0-mlogloss:0.05080\tvalidation_1-mlogloss:0.31968\n",
      "[466]\tvalidation_0-mlogloss:0.05066\tvalidation_1-mlogloss:0.31974\n",
      "[467]\tvalidation_0-mlogloss:0.05048\tvalidation_1-mlogloss:0.31970\n",
      "[468]\tvalidation_0-mlogloss:0.05037\tvalidation_1-mlogloss:0.31969\n"
     ]
    }
   ],
   "source": [
    "bst = model.fit(X_train, y_train, \n",
    "                eval_set=[(X_train, y_train), (X_test, y_test)], \n",
    "                early_stopping_rounds=50,\n",
    "                verbose=True, \n",
    "                sample_weight=classes_weights\n",
    "               ) # Maybe remove weight"
   ]
  },
  {
   "cell_type": "code",
   "execution_count": 27,
   "id": "140ac6e1",
   "metadata": {},
   "outputs": [],
   "source": [
    "bst.save_model('combined_xgboost.json')"
   ]
  },
  {
   "cell_type": "code",
   "execution_count": null,
   "id": "7a5f721f",
   "metadata": {},
   "outputs": [],
   "source": []
  },
  {
   "cell_type": "code",
   "execution_count": null,
   "id": "8958208d",
   "metadata": {},
   "outputs": [],
   "source": []
  },
  {
   "cell_type": "code",
   "execution_count": 297,
   "id": "72fb8add",
   "metadata": {
    "scrolled": true
   },
   "outputs": [
    {
     "data": {
      "text/plain": [
       "[]"
      ]
     },
     "execution_count": 297,
     "metadata": {},
     "output_type": "execute_result"
    },
    {
     "data": {
      "image/png": "[encoded data removed]",
      "text/plain": [
       "<Figure size 432x288 with 1 Axes>"
      ]
     },
     "metadata": {
      "needs_background": "light"
     },
     "output_type": "display_data"
    }
   ],
   "source": [
    "errors_test = bst.evals_result()['validation_0']['merror']\n",
    "plt.plot(range(len(errors_test)), errors_test, label='test')\n",
    "errors_train = bst.evals_result()['validation_1']['merror']\n",
    "plt.plot(range(len(errors_train)), errors_train, label='train')\n",
    "plt.title('Error rate')\n",
    "plt.legend()\n",
    "plt.plot()"
   ]
  },
  {
   "cell_type": "code",
   "execution_count": 298,
   "id": "375859cc",
   "metadata": {},
   "outputs": [
    {
     "data": {
      "text/plain": [
       "[]"
      ]
     },
     "execution_count": 298,
     "metadata": {},
     "output_type": "execute_result"
    },
    {
     "data": {
      "image/png": "[encoded data removed]",
      "text/plain": [
       "<Figure size 432x288 with 1 Axes>"
      ]
     },
     "metadata": {
      "needs_background": "light"
     },
     "output_type": "display_data"
    }
   ],
   "source": [
    "errors_test = bst.evals_result()['validation_0']['auc']\n",
    "plt.plot(range(len(errors_test)), errors_test, label='test')\n",
    "errors_train = bst.evals_result()['validation_1']['auc']\n",
    "plt.plot(range(len(errors_train)), errors_train, label='train')\n",
    "plt.title('AUC')\n",
    "plt.legend()\n",
    "plt.plot()"
   ]
  },
  {
   "cell_type": "code",
   "execution_count": 83,
   "id": "f49f47f4",
   "metadata": {},
   "outputs": [],
   "source": [
    "cross_val_model = XGBClassifier(use_label_encoder=False, \n",
    "                      max_depth=9, \n",
    "                      reg_alpha=0.5, \n",
    "                      min_child_weight=3, \n",
    "                      reg_lambda=3,\n",
    "                      eta=0.1,\n",
    "                      tree_method='hist', # exact is more precies, but this is much faster\n",
    "                      objective='multi:softprob',\n",
    "                      n_estimators=800,\n",
    "                      )"
   ]
  },
  {
   "cell_type": "code",
   "execution_count": 84,
   "id": "5dcfa811",
   "metadata": {},
   "outputs": [],
   "source": [
    "cv_score_xgb = cross_val_score(cross_val_model, X_train, y_train, cv=8, n_jobs=-1, scoring=\"accuracy\")"
   ]
  },
  {
   "cell_type": "code",
   "execution_count": 94,
   "id": "6932a336",
   "metadata": {},
   "outputs": [
    {
     "name": "stdout",
     "output_type": "stream",
     "text": [
      "[0.89923979 0.8966628  0.89704935 0.90439376 0.89756475 0.90323412\n",
      " 0.89923979 0.90244845]\n"
     ]
    }
   ],
   "source": [
    "print(cv_score_xgb)"
   ]
  },
  {
   "cell_type": "code",
   "execution_count": 85,
   "id": "19322b8a",
   "metadata": {},
   "outputs": [
    {
     "name": "stdout",
     "output_type": "stream",
     "text": [
      "Cross-validated Accuracy: 0.89998 ± 0.0028\n"
     ]
    }
   ],
   "source": [
    "print(\"Cross-validated Accuracy:\", round(np.mean(cv_score_xgb), 5), \"±\", round(np.std(cv_score_xgb), 5))"
   ]
  },
  {
   "cell_type": "code",
   "execution_count": 28,
   "id": "86581b58",
   "metadata": {},
   "outputs": [
    {
     "name": "stdout",
     "output_type": "stream",
     "text": [
      "                                                      precision    recall  f1-score   support\n",
      "\n",
      "      jet-mode radio AGN/low-excitation radio galaxy     0.8185    0.8473    0.8327      2581\n",
      "quasar-like radio AGN / high-excitation radio galaxy     0.5640    0.4407    0.4948       270\n",
      "                                     radio-quiet AGN     0.7211    0.7972    0.7573      1356\n",
      "                                 star-forming galaxy     0.9459    0.9312    0.9385     11315\n",
      "\n",
      "                                            accuracy                         0.8970     15522\n",
      "                                           macro avg     0.7624    0.7541    0.7558     15522\n",
      "                                        weighted avg     0.8984    0.8970    0.8974     15522\n",
      "\n"
     ]
    }
   ],
   "source": [
    "y_pred = model.predict(X_test)\n",
    "print(classification_report(y_test, y_pred, target_names=labels, digits=4))"
   ]
  },
  {
   "cell_type": "code",
   "execution_count": 93,
   "id": "0a663454",
   "metadata": {},
   "outputs": [
    {
     "name": "stdout",
     "output_type": "stream",
     "text": [
      "Data: 0.9802 ± 0.09751\n"
     ]
    }
   ],
   "source": [
    "test = [0.99 for i in range(99)]\n",
    "test.append(0.01)\n",
    "print(\"Data:\", round(np.mean(test), 5), \"±\", round(np.std(test), 5))"
   ]
  },
  {
   "cell_type": "code",
   "execution_count": 29,
   "id": "7d8375e7",
   "metadata": {},
   "outputs": [
    {
     "data": {
      "text/plain": [
       "[]"
      ]
     },
     "execution_count": 29,
     "metadata": {},
     "output_type": "execute_result"
    },
    {
     "data": {
      "image/png": "[encoded data removed]",
      "text/plain": [
       "<Figure size 432x288 with 2 Axes>"
      ]
     },
     "metadata": {
      "needs_background": "light"
     },
     "output_type": "display_data"
    }
   ],
   "source": [
    "cm = confusion_matrix(y_test, y_pred, normalize='true')\n",
    "disp = ConfusionMatrixDisplay(confusion_matrix=cm, display_labels=labels)\n",
    "disp.plot()\n",
    "plt.xticks(rotation = 90)\n",
    "plt.plot()"
   ]
  },
  {
   "cell_type": "code",
   "execution_count": 30,
   "id": "e7bb9df5",
   "metadata": {},
   "outputs": [
    {
     "data": {
      "text/plain": [
       "<AxesSubplot:title={'center':'Feature importance'}, xlabel='F score', ylabel='Features'>"
      ]
     },
     "execution_count": 30,
     "metadata": {},
     "output_type": "execute_result"
    },
    {
     "data": {
      "image/png": "[encoded data removed]",
      "text/plain": [
       "<Figure size 720x720 with 1 Axes>"
      ]
     },
     "metadata": {
      "needs_background": "light"
     },
     "output_type": "display_data"
    }
   ],
   "source": [
    "fig, ax = plt.subplots(figsize=(10,10))\n",
    "xgb.plot_importance(model, ax=ax)"
   ]
  },
  {
   "cell_type": "markdown",
   "id": "0d5ad516",
   "metadata": {},
   "source": [
    "## Flag marking"
   ]
  },
  {
   "cell_type": "code",
   "execution_count": 31,
   "id": "6d5f62cc",
   "metadata": {},
   "outputs": [],
   "source": [
    "y_pred = model.predict(X_test)\n",
    "y_pred = pd.DataFrame(y_pred, index=X_test.index, columns=['Prediction'])"
   ]
  },
  {
   "cell_type": "code",
   "execution_count": null,
   "id": "90f8c511",
   "metadata": {},
   "outputs": [],
   "source": []
  },
  {
   "cell_type": "code",
   "execution_count": 32,
   "id": "bc994eea",
   "metadata": {},
   "outputs": [],
   "source": [
    "Xray_all = []\n",
    "opt_spec_all = []\n",
    "ext_radio_all = []\n",
    "IR_all = []\n",
    "for j in range(4):\n",
    "    for i in range(4):\n",
    "        # Finding pandas dataframes for the squares in the confusion matrix\n",
    "        cm_square = y_pred[(y_test['Classification']==j) & (y_pred['Prediction']==i)]\n",
    "        flags = y_test_flags.loc[cm_square.index]\n",
    "\n",
    "        # Finding frequencies of flags\n",
    "        Xray_freq = sum(flags['Xray'])/len(flags['Xray'])\n",
    "        opt_spec_freq = sum(flags['Opt_spec'])/len(flags['Opt_spec'])\n",
    "        ext_radio_freq = sum(flags['Extended_radio'])/len(flags['Extended_radio'])\n",
    "        IR_freq = sum(flags['IRAGN'])/len(flags['IRAGN'])\n",
    "\n",
    "        Xray_all.append(Xray_freq)\n",
    "        opt_spec_all.append(opt_spec_freq)\n",
    "        ext_radio_all.append(ext_radio_freq)\n",
    "        IR_all.append(IR_freq)"
   ]
  },
  {
   "cell_type": "code",
   "execution_count": 63,
   "id": "ad2fe610",
   "metadata": {},
   "outputs": [
    {
     "data": {
      "text/plain": [
       "array([ 0,  7, 14, 21])"
      ]
     },
     "execution_count": 63,
     "metadata": {},
     "output_type": "execute_result"
    }
   ],
   "source": [
    "np.arange(0,26,7)"
   ]
  },
  {
   "cell_type": "code",
   "execution_count": 68,
   "id": "8d76fc48",
   "metadata": {},
   "outputs": [
    {
     "data": {
      "image/png": "[encoded data removed]",
      "text/plain": [
       "<Figure size 1080x1080 with 4 Axes>"
      ]
     },
     "metadata": {
      "needs_background": "light"
     },
     "output_type": "display_data"
    }
   ],
   "source": [
    "x = np.arange(0,26,7)\n",
    "fig, axes = plt.subplots(4, 1, figsize=(15,15), sharex='all')\n",
    "for i, ax in enumerate(axes):\n",
    "    i0 = i*4\n",
    "    i1 = (i+1)*4\n",
    "    \n",
    "    ax.bar(x, Xray_all[i0:i1], label='X-ray')\n",
    "    # For setting the tick labels\n",
    "    ax.bar(x+1, opt_spec_all[i0:i1], label='Opt_spec', tick_label=labels)\n",
    "    ax.bar(x+2, ext_radio_all[i0:i1], label='Extended radio')\n",
    "    ax.bar(x+3, IR_all[i0:i1], label='MIR')\n",
    "    ax.tick_params(axis='x', labelrotation = 90)\n",
    "    ax.set_title(f'Classified as {labels[i]}')\n",
    "    ax.set_ylim(0,1)\n",
    "    ax.legend()\n",
    "plt.tight_layout()\n",
    "fig.savefig('Flags.png')"
   ]
  },
  {
   "cell_type": "code",
   "execution_count": null,
   "id": "ffec4754",
   "metadata": {},
   "outputs": [],
   "source": []
  },
  {
   "cell_type": "markdown",
   "id": "1bfb9a33",
   "metadata": {},
   "source": [
    "# Adaboost"
   ]
  },
  {
   "cell_type": "code",
   "execution_count": 197,
   "id": "619dbf6f",
   "metadata": {},
   "outputs": [],
   "source": [
    "from sklearn.ensemble import AdaBoostClassifier"
   ]
  },
  {
   "cell_type": "code",
   "execution_count": 207,
   "id": "e54586b1",
   "metadata": {},
   "outputs": [],
   "source": [
    "ada = AdaBoostClassifier(n_estimators=50, learning_rate=0.3, random_state=42)"
   ]
  },
  {
   "cell_type": "code",
   "execution_count": 208,
   "id": "04a9394c",
   "metadata": {},
   "outputs": [
    {
     "data": {
      "text/html": [
       "<style>#sk-container-id-13 {color: black;background-color: white;}#sk-container-id-13 pre{padding: 0;}#sk-container-id-13 div.sk-toggleable {background-color: white;}#sk-container-id-13 label.sk-toggleable__label {cursor: pointer;display: block;width: 100%;margin-bottom: 0;padding: 0.3em;box-sizing: border-box;text-align: center;}#sk-container-id-13 label.sk-toggleable__label-arrow:before {content: \"▸\";float: left;margin-right: 0.25em;color: #696969;}#sk-container-id-13 label.sk-toggleable__label-arrow:hover:before {color: black;}#sk-container-id-13 div.sk-estimator:hover label.sk-toggleable__label-arrow:before {color: black;}#sk-container-id-13 div.sk-toggleable__content {max-height: 0;max-width: 0;overflow: hidden;text-align: left;background-color: #f0f8ff;}#sk-container-id-13 div.sk-toggleable__content pre {margin: 0.2em;color: black;border-radius: 0.25em;background-color: #f0f8ff;}#sk-container-id-13 input.sk-toggleable__control:checked~div.sk-toggleable__content {max-height: 200px;max-width: 100%;overflow: auto;}#sk-container-id-13 input.sk-toggleable__control:checked~label.sk-toggleable__label-arrow:before {content: \"▾\";}#sk-container-id-13 div.sk-estimator input.sk-toggleable__control:checked~label.sk-toggleable__label {background-color: #d4ebff;}#sk-container-id-13 div.sk-label input.sk-toggleable__control:checked~label.sk-toggleable__label {background-color: #d4ebff;}#sk-container-id-13 input.sk-hidden--visually {border: 0;clip: rect(1px 1px 1px 1px);clip: rect(1px, 1px, 1px, 1px);height: 1px;margin: -1px;overflow: hidden;padding: 0;position: absolute;width: 1px;}#sk-container-id-13 div.sk-estimator {font-family: monospace;background-color: #f0f8ff;border: 1px dotted black;border-radius: 0.25em;box-sizing: border-box;margin-bottom: 0.5em;}#sk-container-id-13 div.sk-estimator:hover {background-color: #d4ebff;}#sk-container-id-13 div.sk-parallel-item::after {content: \"\";width: 100%;border-bottom: 1px solid gray;flex-grow: 1;}#sk-container-id-13 div.sk-label:hover label.sk-toggleable__label {background-color: #d4ebff;}#sk-container-id-13 div.sk-serial::before {content: \"\";position: absolute;border-left: 1px solid gray;box-sizing: border-box;top: 0;bottom: 0;left: 50%;z-index: 0;}#sk-container-id-13 div.sk-serial {display: flex;flex-direction: column;align-items: center;background-color: white;padding-right: 0.2em;padding-left: 0.2em;position: relative;}#sk-container-id-13 div.sk-item {position: relative;z-index: 1;}#sk-container-id-13 div.sk-parallel {display: flex;align-items: stretch;justify-content: center;background-color: white;position: relative;}#sk-container-id-13 div.sk-item::before, #sk-container-id-13 div.sk-parallel-item::before {content: \"\";position: absolute;border-left: 1px solid gray;box-sizing: border-box;top: 0;bottom: 0;left: 50%;z-index: -1;}#sk-container-id-13 div.sk-parallel-item {display: flex;flex-direction: column;z-index: 1;position: relative;background-color: white;}#sk-container-id-13 div.sk-parallel-item:first-child::after {align-self: flex-end;width: 50%;}#sk-container-id-13 div.sk-parallel-item:last-child::after {align-self: flex-start;width: 50%;}#sk-container-id-13 div.sk-parallel-item:only-child::after {width: 0;}#sk-container-id-13 div.sk-dashed-wrapped {border: 1px dashed gray;margin: 0 0.4em 0.5em 0.4em;box-sizing: border-box;padding-bottom: 0.4em;background-color: white;}#sk-container-id-13 div.sk-label label {font-family: monospace;font-weight: bold;display: inline-block;line-height: 1.2em;}#sk-container-id-13 div.sk-label-container {text-align: center;}#sk-container-id-13 div.sk-container {/* jupyter's `normalize.less` sets `[hidden] { display: none; }` but bootstrap.min.css set `[hidden] { display: none !important; }` so we also need the `!important` here to be able to override the default hidden behavior on the sphinx rendered scikit-learn.org. See: https://github.com/scikit-learn/scikit-learn/issues/21755 */display: inline-block !important;position: relative;}#sk-container-id-13 div.sk-text-repr-fallback {display: none;}</style><div id=\"sk-container-id-13\" class=\"sk-top-container\"><div class=\"sk-text-repr-fallback\"><pre>AdaBoostClassifier(learning_rate=0.3, random_state=42)</pre><b>In a Jupyter environment, please rerun this cell to show the HTML representation or trust the notebook. <br />On GitHub, the HTML representation is unable to render, please try loading this page with nbviewer.org.</b></div><div class=\"sk-container\" hidden><div class=\"sk-item\"><div class=\"sk-estimator sk-toggleable\"><input class=\"sk-toggleable__control sk-hidden--visually\" id=\"sk-estimator-id-13\" type=\"checkbox\" checked><label for=\"sk-estimator-id-13\" class=\"sk-toggleable__label sk-toggleable__label-arrow\">AdaBoostClassifier</label><div class=\"sk-toggleable__content\"><pre>AdaBoostClassifier(learning_rate=0.3, random_state=42)</pre></div></div></div></div></div>"
      ],
      "text/plain": [
       "AdaBoostClassifier(learning_rate=0.3, random_state=42)"
      ]
     },
     "execution_count": 208,
     "metadata": {},
     "output_type": "execute_result"
    }
   ],
   "source": [
    "ada.fit(X_train, y_train, sample_weight=classes_weights)"
   ]
  },
  {
   "cell_type": "code",
   "execution_count": 209,
   "id": "e0bf676b",
   "metadata": {},
   "outputs": [
    {
     "name": "stdout",
     "output_type": "stream",
     "text": [
      "                                                      precision    recall  f1-score   support\n",
      "\n",
      "      jet-mode radio AGN/low-excitation radio galaxy     0.4535    0.5478    0.4962     10186\n",
      "quasar-like radio AGN / high-excitation radio galaxy     0.1239    0.4896    0.1978      1062\n",
      "                                     radio-quiet AGN     0.4399    0.6761    0.5330      5514\n",
      "                                 star-forming galaxy     0.8776    0.7186    0.7902     45325\n",
      "\n",
      "                                            accuracy                         0.6829     62087\n",
      "                                           macro avg     0.4738    0.6080    0.5043     62087\n",
      "                                        weighted avg     0.7563    0.6829    0.7090     62087\n",
      "\n"
     ]
    }
   ],
   "source": [
    "y_pred = ada.predict(X_train)\n",
    "print(classification_report(y_train, y_pred, target_names=labels, digits=4))"
   ]
  },
  {
   "cell_type": "code",
   "execution_count": 210,
   "id": "61c899f0",
   "metadata": {},
   "outputs": [
    {
     "name": "stdout",
     "output_type": "stream",
     "text": [
      "                                                      precision    recall  f1-score   support\n",
      "\n",
      "      jet-mode radio AGN/low-excitation radio galaxy     0.4391    0.5339    0.4819      2581\n",
      "quasar-like radio AGN / high-excitation radio galaxy     0.1155    0.4667    0.1852       270\n",
      "                                     radio-quiet AGN     0.4225    0.6652    0.5168      1356\n",
      "                                 star-forming galaxy     0.8730    0.7066    0.7810     11315\n",
      "\n",
      "                                            accuracy                         0.6701     15522\n",
      "                                           macro avg     0.4625    0.5931    0.4912     15522\n",
      "                                        weighted avg     0.7483    0.6701    0.6978     15522\n",
      "\n"
     ]
    }
   ],
   "source": [
    "y_pred = ada.predict(X_test)\n",
    "print(classification_report(y_test, y_pred, target_names=labels, digits=4))"
   ]
  },
  {
   "cell_type": "markdown",
   "id": "ebd3626a",
   "metadata": {},
   "source": [
    "# DNN"
   ]
  },
  {
   "cell_type": "code",
   "execution_count": 28,
   "id": "b91985c1",
   "metadata": {},
   "outputs": [],
   "source": [
    "class_weight = compute_class_weight(class_weight='balanced', classes=np.unique(y_train), y=y_train)\n",
    "class_weight_dic = {i:class_weight[i] for i in range(4)}"
   ]
  },
  {
   "cell_type": "code",
   "execution_count": 70,
   "id": "db3f38ca",
   "metadata": {},
   "outputs": [],
   "source": [
    "model = keras.Sequential(\n",
    "    [\n",
    "        keras.layers.Dense(\n",
    "            256, activation=\"relu\", input_shape=(X_train.shape[1],)\n",
    "        ),\n",
    "        keras.layers.Dropout(0.3),\n",
    "        keras.layers.Dense(128, activation=\"relu\"),\n",
    "        keras.layers.Dropout(0.3),\n",
    "        keras.layers.Dense(64, activation=\"relu\"),\n",
    "        keras.layers.Dropout(0.3),\n",
    "        keras.layers.Dense(64, activation=\"relu\"),\n",
    "        keras.layers.Dropout(0.3),\n",
    "        keras.layers.Dense(4),\n",
    "    ]\n",
    ")"
   ]
  },
  {
   "cell_type": "code",
   "execution_count": null,
   "id": "df4bcf59",
   "metadata": {},
   "outputs": [],
   "source": []
  },
  {
   "cell_type": "code",
   "execution_count": 71,
   "id": "c6d54148",
   "metadata": {},
   "outputs": [],
   "source": [
    "model.compile(\n",
    "    loss=keras.losses.SparseCategoricalCrossentropy(from_logits=True),\n",
    "    optimizer=\"Adam\",\n",
    "    metrics=[\"accuracy\"],\n",
    ")"
   ]
  },
  {
   "cell_type": "code",
   "execution_count": 72,
   "id": "b473b39d",
   "metadata": {},
   "outputs": [],
   "source": [
    "early_stopping = keras.callbacks.EarlyStopping(\n",
    "    patience=10,\n",
    "    restore_best_weights=True,\n",
    ")"
   ]
  },
  {
   "cell_type": "code",
   "execution_count": 74,
   "id": "f6f9dbb1",
   "metadata": {},
   "outputs": [
    {
     "name": "stdout",
     "output_type": "stream",
     "text": [
      "Epoch 1/1000\n",
      "1941/1941 [==============================] - 5s 2ms/step - loss: 1.2237 - accuracy: 0.5100 - val_loss: 1.1177 - val_accuracy: 0.6102\n",
      "Epoch 2/1000\n",
      "1941/1941 [==============================] - 5s 2ms/step - loss: 1.1852 - accuracy: 0.5153 - val_loss: 1.1890 - val_accuracy: 0.2875\n",
      "Epoch 3/1000\n",
      "1047/1941 [===============>..............] - ETA: 2s - loss: 1.1610 - accuracy: 0.5283"
     ]
    },
    {
     "ename": "KeyboardInterrupt",
     "evalue": "",
     "output_type": "error",
     "traceback": [
      "\u001b[1;31m---------------------------------------------------------------------------\u001b[0m",
      "\u001b[1;31mKeyboardInterrupt\u001b[0m                         Traceback (most recent call last)",
      "Input \u001b[1;32mIn [74]\u001b[0m, in \u001b[0;36m<cell line: 1>\u001b[1;34m()\u001b[0m\n\u001b[1;32m----> 1\u001b[0m \u001b[43mmodel\u001b[49m\u001b[38;5;241;43m.\u001b[39;49m\u001b[43mfit\u001b[49m\u001b[43m(\u001b[49m\n\u001b[0;32m      2\u001b[0m \u001b[43m    \u001b[49m\u001b[43mX_train\u001b[49m\u001b[43m,\u001b[49m\n\u001b[0;32m      3\u001b[0m \u001b[43m    \u001b[49m\u001b[43my_train\u001b[49m\u001b[43m,\u001b[49m\n\u001b[0;32m      4\u001b[0m \u001b[43m    \u001b[49m\u001b[43mbatch_size\u001b[49m\u001b[38;5;241;43m=\u001b[39;49m\u001b[38;5;241;43m32\u001b[39;49m\u001b[43m,\u001b[49m\n\u001b[0;32m      5\u001b[0m \u001b[43m    \u001b[49m\u001b[43mepochs\u001b[49m\u001b[38;5;241;43m=\u001b[39;49m\u001b[38;5;241;43m1000\u001b[39;49m\u001b[43m,\u001b[49m\n\u001b[0;32m      6\u001b[0m \u001b[43m    \u001b[49m\u001b[43mcallbacks\u001b[49m\u001b[38;5;241;43m=\u001b[39;49m\u001b[43m[\u001b[49m\u001b[43mearly_stopping\u001b[49m\u001b[43m]\u001b[49m\u001b[43m,\u001b[49m\n\u001b[0;32m      7\u001b[0m \u001b[43m    \u001b[49m\u001b[43mvalidation_data\u001b[49m\u001b[38;5;241;43m=\u001b[39;49m\u001b[43m(\u001b[49m\u001b[43mX_test\u001b[49m\u001b[43m,\u001b[49m\u001b[43m \u001b[49m\u001b[43my_test\u001b[49m\u001b[43m)\u001b[49m\u001b[43m,\u001b[49m\n\u001b[0;32m      8\u001b[0m \u001b[43m    \u001b[49m\u001b[43mclass_weight\u001b[49m\u001b[38;5;241;43m=\u001b[39;49m\u001b[43mclass_weight_dic\u001b[49m\u001b[43m,\u001b[49m\n\u001b[0;32m      9\u001b[0m \u001b[43m)\u001b[49m\n",
      "File \u001b[1;32m~\\AppData\\Local\\Packages\\PythonSoftwareFoundation.Python.3.9_qbz5n2kfra8p0\\LocalCache\\local-packages\\Python39\\site-packages\\keras\\engine\\training.py:1184\u001b[0m, in \u001b[0;36mModel.fit\u001b[1;34m(self, x, y, batch_size, epochs, verbose, callbacks, validation_split, validation_data, shuffle, class_weight, sample_weight, initial_epoch, steps_per_epoch, validation_steps, validation_batch_size, validation_freq, max_queue_size, workers, use_multiprocessing)\u001b[0m\n\u001b[0;32m   1177\u001b[0m \u001b[38;5;28;01mwith\u001b[39;00m tf\u001b[38;5;241m.\u001b[39mprofiler\u001b[38;5;241m.\u001b[39mexperimental\u001b[38;5;241m.\u001b[39mTrace(\n\u001b[0;32m   1178\u001b[0m     \u001b[38;5;124m'\u001b[39m\u001b[38;5;124mtrain\u001b[39m\u001b[38;5;124m'\u001b[39m,\n\u001b[0;32m   1179\u001b[0m     epoch_num\u001b[38;5;241m=\u001b[39mepoch,\n\u001b[0;32m   1180\u001b[0m     step_num\u001b[38;5;241m=\u001b[39mstep,\n\u001b[0;32m   1181\u001b[0m     batch_size\u001b[38;5;241m=\u001b[39mbatch_size,\n\u001b[0;32m   1182\u001b[0m     _r\u001b[38;5;241m=\u001b[39m\u001b[38;5;241m1\u001b[39m):\n\u001b[0;32m   1183\u001b[0m   callbacks\u001b[38;5;241m.\u001b[39mon_train_batch_begin(step)\n\u001b[1;32m-> 1184\u001b[0m   tmp_logs \u001b[38;5;241m=\u001b[39m \u001b[38;5;28;43mself\u001b[39;49m\u001b[38;5;241;43m.\u001b[39;49m\u001b[43mtrain_function\u001b[49m\u001b[43m(\u001b[49m\u001b[43miterator\u001b[49m\u001b[43m)\u001b[49m\n\u001b[0;32m   1185\u001b[0m   \u001b[38;5;28;01mif\u001b[39;00m data_handler\u001b[38;5;241m.\u001b[39mshould_sync:\n\u001b[0;32m   1186\u001b[0m     context\u001b[38;5;241m.\u001b[39masync_wait()\n",
      "File \u001b[1;32m~\\AppData\\Local\\Packages\\PythonSoftwareFoundation.Python.3.9_qbz5n2kfra8p0\\LocalCache\\local-packages\\Python39\\site-packages\\tensorflow\\python\\eager\\def_function.py:885\u001b[0m, in \u001b[0;36mFunction.__call__\u001b[1;34m(self, *args, **kwds)\u001b[0m\n\u001b[0;32m    882\u001b[0m compiler \u001b[38;5;241m=\u001b[39m \u001b[38;5;124m\"\u001b[39m\u001b[38;5;124mxla\u001b[39m\u001b[38;5;124m\"\u001b[39m \u001b[38;5;28;01mif\u001b[39;00m \u001b[38;5;28mself\u001b[39m\u001b[38;5;241m.\u001b[39m_jit_compile \u001b[38;5;28;01melse\u001b[39;00m \u001b[38;5;124m\"\u001b[39m\u001b[38;5;124mnonXla\u001b[39m\u001b[38;5;124m\"\u001b[39m\n\u001b[0;32m    884\u001b[0m \u001b[38;5;28;01mwith\u001b[39;00m OptionalXlaContext(\u001b[38;5;28mself\u001b[39m\u001b[38;5;241m.\u001b[39m_jit_compile):\n\u001b[1;32m--> 885\u001b[0m   result \u001b[38;5;241m=\u001b[39m \u001b[38;5;28mself\u001b[39m\u001b[38;5;241m.\u001b[39m_call(\u001b[38;5;241m*\u001b[39margs, \u001b[38;5;241m*\u001b[39m\u001b[38;5;241m*\u001b[39mkwds)\n\u001b[0;32m    887\u001b[0m new_tracing_count \u001b[38;5;241m=\u001b[39m \u001b[38;5;28mself\u001b[39m\u001b[38;5;241m.\u001b[39mexperimental_get_tracing_count()\n\u001b[0;32m    888\u001b[0m without_tracing \u001b[38;5;241m=\u001b[39m (tracing_count \u001b[38;5;241m==\u001b[39m new_tracing_count)\n",
      "File \u001b[1;32m~\\AppData\\Local\\Packages\\PythonSoftwareFoundation.Python.3.9_qbz5n2kfra8p0\\LocalCache\\local-packages\\Python39\\site-packages\\tensorflow\\python\\eager\\def_function.py:917\u001b[0m, in \u001b[0;36mFunction._call\u001b[1;34m(self, *args, **kwds)\u001b[0m\n\u001b[0;32m    914\u001b[0m   \u001b[38;5;28mself\u001b[39m\u001b[38;5;241m.\u001b[39m_lock\u001b[38;5;241m.\u001b[39mrelease()\n\u001b[0;32m    915\u001b[0m   \u001b[38;5;66;03m# In this case we have created variables on the first call, so we run the\u001b[39;00m\n\u001b[0;32m    916\u001b[0m   \u001b[38;5;66;03m# defunned version which is guaranteed to never create variables.\u001b[39;00m\n\u001b[1;32m--> 917\u001b[0m   \u001b[38;5;28;01mreturn\u001b[39;00m \u001b[38;5;28mself\u001b[39m\u001b[38;5;241m.\u001b[39m_stateless_fn(\u001b[38;5;241m*\u001b[39margs, \u001b[38;5;241m*\u001b[39m\u001b[38;5;241m*\u001b[39mkwds)  \u001b[38;5;66;03m# pylint: disable=not-callable\u001b[39;00m\n\u001b[0;32m    918\u001b[0m \u001b[38;5;28;01melif\u001b[39;00m \u001b[38;5;28mself\u001b[39m\u001b[38;5;241m.\u001b[39m_stateful_fn \u001b[38;5;129;01mis\u001b[39;00m \u001b[38;5;129;01mnot\u001b[39;00m \u001b[38;5;28;01mNone\u001b[39;00m:\n\u001b[0;32m    919\u001b[0m   \u001b[38;5;66;03m# Release the lock early so that multiple threads can perform the call\u001b[39;00m\n\u001b[0;32m    920\u001b[0m   \u001b[38;5;66;03m# in parallel.\u001b[39;00m\n\u001b[0;32m    921\u001b[0m   \u001b[38;5;28mself\u001b[39m\u001b[38;5;241m.\u001b[39m_lock\u001b[38;5;241m.\u001b[39mrelease()\n",
      "File \u001b[1;32m~\\AppData\\Local\\Packages\\PythonSoftwareFoundation.Python.3.9_qbz5n2kfra8p0\\LocalCache\\local-packages\\Python39\\site-packages\\tensorflow\\python\\eager\\function.py:3039\u001b[0m, in \u001b[0;36mFunction.__call__\u001b[1;34m(self, *args, **kwargs)\u001b[0m\n\u001b[0;32m   3036\u001b[0m \u001b[38;5;28;01mwith\u001b[39;00m \u001b[38;5;28mself\u001b[39m\u001b[38;5;241m.\u001b[39m_lock:\n\u001b[0;32m   3037\u001b[0m   (graph_function,\n\u001b[0;32m   3038\u001b[0m    filtered_flat_args) \u001b[38;5;241m=\u001b[39m \u001b[38;5;28mself\u001b[39m\u001b[38;5;241m.\u001b[39m_maybe_define_function(args, kwargs)\n\u001b[1;32m-> 3039\u001b[0m \u001b[38;5;28;01mreturn\u001b[39;00m \u001b[43mgraph_function\u001b[49m\u001b[38;5;241;43m.\u001b[39;49m\u001b[43m_call_flat\u001b[49m\u001b[43m(\u001b[49m\n\u001b[0;32m   3040\u001b[0m \u001b[43m    \u001b[49m\u001b[43mfiltered_flat_args\u001b[49m\u001b[43m,\u001b[49m\u001b[43m \u001b[49m\u001b[43mcaptured_inputs\u001b[49m\u001b[38;5;241;43m=\u001b[39;49m\u001b[43mgraph_function\u001b[49m\u001b[38;5;241;43m.\u001b[39;49m\u001b[43mcaptured_inputs\u001b[49m\u001b[43m)\u001b[49m\n",
      "File \u001b[1;32m~\\AppData\\Local\\Packages\\PythonSoftwareFoundation.Python.3.9_qbz5n2kfra8p0\\LocalCache\\local-packages\\Python39\\site-packages\\tensorflow\\python\\eager\\function.py:1963\u001b[0m, in \u001b[0;36mConcreteFunction._call_flat\u001b[1;34m(self, args, captured_inputs, cancellation_manager)\u001b[0m\n\u001b[0;32m   1959\u001b[0m possible_gradient_type \u001b[38;5;241m=\u001b[39m gradients_util\u001b[38;5;241m.\u001b[39mPossibleTapeGradientTypes(args)\n\u001b[0;32m   1960\u001b[0m \u001b[38;5;28;01mif\u001b[39;00m (possible_gradient_type \u001b[38;5;241m==\u001b[39m gradients_util\u001b[38;5;241m.\u001b[39mPOSSIBLE_GRADIENT_TYPES_NONE\n\u001b[0;32m   1961\u001b[0m     \u001b[38;5;129;01mand\u001b[39;00m executing_eagerly):\n\u001b[0;32m   1962\u001b[0m   \u001b[38;5;66;03m# No tape is watching; skip to running the function.\u001b[39;00m\n\u001b[1;32m-> 1963\u001b[0m   \u001b[38;5;28;01mreturn\u001b[39;00m \u001b[38;5;28mself\u001b[39m\u001b[38;5;241m.\u001b[39m_build_call_outputs(\u001b[38;5;28;43mself\u001b[39;49m\u001b[38;5;241;43m.\u001b[39;49m\u001b[43m_inference_function\u001b[49m\u001b[38;5;241;43m.\u001b[39;49m\u001b[43mcall\u001b[49m\u001b[43m(\u001b[49m\n\u001b[0;32m   1964\u001b[0m \u001b[43m      \u001b[49m\u001b[43mctx\u001b[49m\u001b[43m,\u001b[49m\u001b[43m \u001b[49m\u001b[43margs\u001b[49m\u001b[43m,\u001b[49m\u001b[43m \u001b[49m\u001b[43mcancellation_manager\u001b[49m\u001b[38;5;241;43m=\u001b[39;49m\u001b[43mcancellation_manager\u001b[49m\u001b[43m)\u001b[49m)\n\u001b[0;32m   1965\u001b[0m forward_backward \u001b[38;5;241m=\u001b[39m \u001b[38;5;28mself\u001b[39m\u001b[38;5;241m.\u001b[39m_select_forward_and_backward_functions(\n\u001b[0;32m   1966\u001b[0m     args,\n\u001b[0;32m   1967\u001b[0m     possible_gradient_type,\n\u001b[0;32m   1968\u001b[0m     executing_eagerly)\n\u001b[0;32m   1969\u001b[0m forward_function, args_with_tangents \u001b[38;5;241m=\u001b[39m forward_backward\u001b[38;5;241m.\u001b[39mforward()\n",
      "File \u001b[1;32m~\\AppData\\Local\\Packages\\PythonSoftwareFoundation.Python.3.9_qbz5n2kfra8p0\\LocalCache\\local-packages\\Python39\\site-packages\\tensorflow\\python\\eager\\function.py:591\u001b[0m, in \u001b[0;36m_EagerDefinedFunction.call\u001b[1;34m(self, ctx, args, cancellation_manager)\u001b[0m\n\u001b[0;32m    589\u001b[0m \u001b[38;5;28;01mwith\u001b[39;00m _InterpolateFunctionError(\u001b[38;5;28mself\u001b[39m):\n\u001b[0;32m    590\u001b[0m   \u001b[38;5;28;01mif\u001b[39;00m cancellation_manager \u001b[38;5;129;01mis\u001b[39;00m \u001b[38;5;28;01mNone\u001b[39;00m:\n\u001b[1;32m--> 591\u001b[0m     outputs \u001b[38;5;241m=\u001b[39m \u001b[43mexecute\u001b[49m\u001b[38;5;241;43m.\u001b[39;49m\u001b[43mexecute\u001b[49m\u001b[43m(\u001b[49m\n\u001b[0;32m    592\u001b[0m \u001b[43m        \u001b[49m\u001b[38;5;28;43mstr\u001b[39;49m\u001b[43m(\u001b[49m\u001b[38;5;28;43mself\u001b[39;49m\u001b[38;5;241;43m.\u001b[39;49m\u001b[43msignature\u001b[49m\u001b[38;5;241;43m.\u001b[39;49m\u001b[43mname\u001b[49m\u001b[43m)\u001b[49m\u001b[43m,\u001b[49m\n\u001b[0;32m    593\u001b[0m \u001b[43m        \u001b[49m\u001b[43mnum_outputs\u001b[49m\u001b[38;5;241;43m=\u001b[39;49m\u001b[38;5;28;43mself\u001b[39;49m\u001b[38;5;241;43m.\u001b[39;49m\u001b[43m_num_outputs\u001b[49m\u001b[43m,\u001b[49m\n\u001b[0;32m    594\u001b[0m \u001b[43m        \u001b[49m\u001b[43minputs\u001b[49m\u001b[38;5;241;43m=\u001b[39;49m\u001b[43margs\u001b[49m\u001b[43m,\u001b[49m\n\u001b[0;32m    595\u001b[0m \u001b[43m        \u001b[49m\u001b[43mattrs\u001b[49m\u001b[38;5;241;43m=\u001b[39;49m\u001b[43mattrs\u001b[49m\u001b[43m,\u001b[49m\n\u001b[0;32m    596\u001b[0m \u001b[43m        \u001b[49m\u001b[43mctx\u001b[49m\u001b[38;5;241;43m=\u001b[39;49m\u001b[43mctx\u001b[49m\u001b[43m)\u001b[49m\n\u001b[0;32m    597\u001b[0m   \u001b[38;5;28;01melse\u001b[39;00m:\n\u001b[0;32m    598\u001b[0m     outputs \u001b[38;5;241m=\u001b[39m execute\u001b[38;5;241m.\u001b[39mexecute_with_cancellation(\n\u001b[0;32m    599\u001b[0m         \u001b[38;5;28mstr\u001b[39m(\u001b[38;5;28mself\u001b[39m\u001b[38;5;241m.\u001b[39msignature\u001b[38;5;241m.\u001b[39mname),\n\u001b[0;32m    600\u001b[0m         num_outputs\u001b[38;5;241m=\u001b[39m\u001b[38;5;28mself\u001b[39m\u001b[38;5;241m.\u001b[39m_num_outputs,\n\u001b[1;32m   (...)\u001b[0m\n\u001b[0;32m    603\u001b[0m         ctx\u001b[38;5;241m=\u001b[39mctx,\n\u001b[0;32m    604\u001b[0m         cancellation_manager\u001b[38;5;241m=\u001b[39mcancellation_manager)\n",
      "File \u001b[1;32m~\\AppData\\Local\\Packages\\PythonSoftwareFoundation.Python.3.9_qbz5n2kfra8p0\\LocalCache\\local-packages\\Python39\\site-packages\\tensorflow\\python\\eager\\execute.py:59\u001b[0m, in \u001b[0;36mquick_execute\u001b[1;34m(op_name, num_outputs, inputs, attrs, ctx, name)\u001b[0m\n\u001b[0;32m     57\u001b[0m \u001b[38;5;28;01mtry\u001b[39;00m:\n\u001b[0;32m     58\u001b[0m   ctx\u001b[38;5;241m.\u001b[39mensure_initialized()\n\u001b[1;32m---> 59\u001b[0m   tensors \u001b[38;5;241m=\u001b[39m \u001b[43mpywrap_tfe\u001b[49m\u001b[38;5;241;43m.\u001b[39;49m\u001b[43mTFE_Py_Execute\u001b[49m\u001b[43m(\u001b[49m\u001b[43mctx\u001b[49m\u001b[38;5;241;43m.\u001b[39;49m\u001b[43m_handle\u001b[49m\u001b[43m,\u001b[49m\u001b[43m \u001b[49m\u001b[43mdevice_name\u001b[49m\u001b[43m,\u001b[49m\u001b[43m \u001b[49m\u001b[43mop_name\u001b[49m\u001b[43m,\u001b[49m\n\u001b[0;32m     60\u001b[0m \u001b[43m                                      \u001b[49m\u001b[43minputs\u001b[49m\u001b[43m,\u001b[49m\u001b[43m \u001b[49m\u001b[43mattrs\u001b[49m\u001b[43m,\u001b[49m\u001b[43m \u001b[49m\u001b[43mnum_outputs\u001b[49m\u001b[43m)\u001b[49m\n\u001b[0;32m     61\u001b[0m \u001b[38;5;28;01mexcept\u001b[39;00m core\u001b[38;5;241m.\u001b[39m_NotOkStatusException \u001b[38;5;28;01mas\u001b[39;00m e:\n\u001b[0;32m     62\u001b[0m   \u001b[38;5;28;01mif\u001b[39;00m name \u001b[38;5;129;01mis\u001b[39;00m \u001b[38;5;129;01mnot\u001b[39;00m \u001b[38;5;28;01mNone\u001b[39;00m:\n",
      "\u001b[1;31mKeyboardInterrupt\u001b[0m: "
     ]
    }
   ],
   "source": [
    "model.fit(\n",
    "    X_train,\n",
    "    y_train,\n",
    "    batch_size=32,\n",
    "    epochs=1000,\n",
    "    callbacks=[early_stopping],\n",
    "    validation_data=(X_test, y_test),\n",
    "    class_weight=class_weight_dic,\n",
    ")"
   ]
  },
  {
   "cell_type": "markdown",
   "id": "d5274d32",
   "metadata": {},
   "source": [
    "# SVM"
   ]
  },
  {
   "cell_type": "code",
   "execution_count": null,
   "id": "03796d6d",
   "metadata": {},
   "outputs": [],
   "source": [
    "from sklearn.svm import SVC"
   ]
  },
  {
   "cell_type": "code",
   "execution_count": null,
   "id": "76717448",
   "metadata": {},
   "outputs": [],
   "source": []
  },
  {
   "cell_type": "code",
   "execution_count": null,
   "id": "7ad98eee",
   "metadata": {},
   "outputs": [],
   "source": [
    "clf = SVC(class_weight='balanced')\n",
    "clf.fit(X_train, y_train)"
   ]
  },
  {
   "cell_type": "code",
   "execution_count": null,
   "id": "750f49b4",
   "metadata": {},
   "outputs": [],
   "source": [
    "y_pred = clf.predict(X_test)\n",
    "print(classification_report(y_test, y_pred, digits=4))"
   ]
  },
  {
   "cell_type": "code",
   "execution_count": null,
   "id": "03981cab",
   "metadata": {},
   "outputs": [],
   "source": [
    "cm = confusion_matrix(y_test, y_pred, normalize='true')\n",
    "disp = ConfusionMatrixDisplay(confusion_matrix=cm, display_labels=labels)\n",
    "disp.plot()\n",
    "plt.xticks(rotation = 90)\n",
    "plt.plot()"
   ]
  },
  {
   "cell_type": "markdown",
   "id": "25edde62",
   "metadata": {},
   "source": [
    "# temp"
   ]
  },
  {
   "cell_type": "code",
   "execution_count": 23,
   "id": "86b02bf8",
   "metadata": {},
   "outputs": [],
   "source": [
    "from sklearn.gaussian_process import GaussianProcessClassifier"
   ]
  },
  {
   "cell_type": "code",
   "execution_count": 24,
   "id": "6a3ba4b2",
   "metadata": {},
   "outputs": [
    {
     "name": "stderr",
     "output_type": "stream",
     "text": [
      "d:\\python\\python38\\lib\\site-packages\\sklearn\\utils\\validation.py:993: DataConversionWarning: A column-vector y was passed when a 1d array was expected. Please change the shape of y to (n_samples, ), for example using ravel().\n",
      "  y = column_or_1d(y, warn=True)\n"
     ]
    },
    {
     "ename": "MemoryError",
     "evalue": "Unable to allocate 14.4 GiB for an array with shape (1927366741,) and data type float64",
     "output_type": "error",
     "traceback": [
      "\u001b[1;31m---------------------------------------------------------------------------\u001b[0m",
      "\u001b[1;31mMemoryError\u001b[0m                               Traceback (most recent call last)",
      "Input \u001b[1;32mIn [24]\u001b[0m, in \u001b[0;36m<cell line: 1>\u001b[1;34m()\u001b[0m\n\u001b[1;32m----> 1\u001b[0m gpc \u001b[38;5;241m=\u001b[39m \u001b[43mGaussianProcessClassifier\u001b[49m\u001b[43m(\u001b[49m\u001b[43mrandom_state\u001b[49m\u001b[38;5;241;43m=\u001b[39;49m\u001b[38;5;241;43m0\u001b[39;49m\u001b[43m)\u001b[49m\u001b[38;5;241;43m.\u001b[39;49m\u001b[43mfit\u001b[49m\u001b[43m(\u001b[49m\u001b[43mX_train\u001b[49m\u001b[43m,\u001b[49m\u001b[43m \u001b[49m\u001b[43my_train\u001b[49m\u001b[43m)\u001b[49m\n",
      "File \u001b[1;32md:\\python\\python38\\lib\\site-packages\\sklearn\\gaussian_process\\_gpc.py:715\u001b[0m, in \u001b[0;36mGaussianProcessClassifier.fit\u001b[1;34m(self, X, y)\u001b[0m\n\u001b[0;32m    712\u001b[0m     \u001b[38;5;28;01melse\u001b[39;00m:\n\u001b[0;32m    713\u001b[0m         \u001b[38;5;28;01mraise\u001b[39;00m \u001b[38;5;167;01mValueError\u001b[39;00m(\u001b[38;5;124m\"\u001b[39m\u001b[38;5;124mUnknown multi-class mode \u001b[39m\u001b[38;5;132;01m%s\u001b[39;00m\u001b[38;5;124m\"\u001b[39m \u001b[38;5;241m%\u001b[39m \u001b[38;5;28mself\u001b[39m\u001b[38;5;241m.\u001b[39mmulti_class)\n\u001b[1;32m--> 715\u001b[0m \u001b[38;5;28;43mself\u001b[39;49m\u001b[38;5;241;43m.\u001b[39;49m\u001b[43mbase_estimator_\u001b[49m\u001b[38;5;241;43m.\u001b[39;49m\u001b[43mfit\u001b[49m\u001b[43m(\u001b[49m\u001b[43mX\u001b[49m\u001b[43m,\u001b[49m\u001b[43m \u001b[49m\u001b[43my\u001b[49m\u001b[43m)\u001b[49m\n\u001b[0;32m    717\u001b[0m \u001b[38;5;28;01mif\u001b[39;00m \u001b[38;5;28mself\u001b[39m\u001b[38;5;241m.\u001b[39mn_classes_ \u001b[38;5;241m>\u001b[39m \u001b[38;5;241m2\u001b[39m:\n\u001b[0;32m    718\u001b[0m     \u001b[38;5;28mself\u001b[39m\u001b[38;5;241m.\u001b[39mlog_marginal_likelihood_value_ \u001b[38;5;241m=\u001b[39m np\u001b[38;5;241m.\u001b[39mmean(\n\u001b[0;32m    719\u001b[0m         [\n\u001b[0;32m    720\u001b[0m             estimator\u001b[38;5;241m.\u001b[39mlog_marginal_likelihood()\n\u001b[0;32m    721\u001b[0m             \u001b[38;5;28;01mfor\u001b[39;00m estimator \u001b[38;5;129;01min\u001b[39;00m \u001b[38;5;28mself\u001b[39m\u001b[38;5;241m.\u001b[39mbase_estimator_\u001b[38;5;241m.\u001b[39mestimators_\n\u001b[0;32m    722\u001b[0m         ]\n\u001b[0;32m    723\u001b[0m     )\n",
      "File \u001b[1;32md:\\python\\python38\\lib\\site-packages\\sklearn\\multiclass.py:337\u001b[0m, in \u001b[0;36mOneVsRestClassifier.fit\u001b[1;34m(self, X, y)\u001b[0m\n\u001b[0;32m    333\u001b[0m columns \u001b[38;5;241m=\u001b[39m (col\u001b[38;5;241m.\u001b[39mtoarray()\u001b[38;5;241m.\u001b[39mravel() \u001b[38;5;28;01mfor\u001b[39;00m col \u001b[38;5;129;01min\u001b[39;00m Y\u001b[38;5;241m.\u001b[39mT)\n\u001b[0;32m    334\u001b[0m \u001b[38;5;66;03m# In cases where individual estimators are very fast to train setting\u001b[39;00m\n\u001b[0;32m    335\u001b[0m \u001b[38;5;66;03m# n_jobs > 1 in can results in slower performance due to the overhead\u001b[39;00m\n\u001b[0;32m    336\u001b[0m \u001b[38;5;66;03m# of spawning threads.  See joblib issue #112.\u001b[39;00m\n\u001b[1;32m--> 337\u001b[0m \u001b[38;5;28mself\u001b[39m\u001b[38;5;241m.\u001b[39mestimators_ \u001b[38;5;241m=\u001b[39m \u001b[43mParallel\u001b[49m\u001b[43m(\u001b[49m\u001b[43mn_jobs\u001b[49m\u001b[38;5;241;43m=\u001b[39;49m\u001b[38;5;28;43mself\u001b[39;49m\u001b[38;5;241;43m.\u001b[39;49m\u001b[43mn_jobs\u001b[49m\u001b[43m)\u001b[49m\u001b[43m(\u001b[49m\n\u001b[0;32m    338\u001b[0m \u001b[43m    \u001b[49m\u001b[43mdelayed\u001b[49m\u001b[43m(\u001b[49m\u001b[43m_fit_binary\u001b[49m\u001b[43m)\u001b[49m\u001b[43m(\u001b[49m\n\u001b[0;32m    339\u001b[0m \u001b[43m        \u001b[49m\u001b[38;5;28;43mself\u001b[39;49m\u001b[38;5;241;43m.\u001b[39;49m\u001b[43mestimator\u001b[49m\u001b[43m,\u001b[49m\n\u001b[0;32m    340\u001b[0m \u001b[43m        \u001b[49m\u001b[43mX\u001b[49m\u001b[43m,\u001b[49m\n\u001b[0;32m    341\u001b[0m \u001b[43m        \u001b[49m\u001b[43mcolumn\u001b[49m\u001b[43m,\u001b[49m\n\u001b[0;32m    342\u001b[0m \u001b[43m        \u001b[49m\u001b[43mclasses\u001b[49m\u001b[38;5;241;43m=\u001b[39;49m\u001b[43m[\u001b[49m\n\u001b[0;32m    343\u001b[0m \u001b[43m            \u001b[49m\u001b[38;5;124;43m\"\u001b[39;49m\u001b[38;5;124;43mnot \u001b[39;49m\u001b[38;5;132;43;01m%s\u001b[39;49;00m\u001b[38;5;124;43m\"\u001b[39;49m\u001b[43m \u001b[49m\u001b[38;5;241;43m%\u001b[39;49m\u001b[43m \u001b[49m\u001b[38;5;28;43mself\u001b[39;49m\u001b[38;5;241;43m.\u001b[39;49m\u001b[43mlabel_binarizer_\u001b[49m\u001b[38;5;241;43m.\u001b[39;49m\u001b[43mclasses_\u001b[49m\u001b[43m[\u001b[49m\u001b[43mi\u001b[49m\u001b[43m]\u001b[49m\u001b[43m,\u001b[49m\n\u001b[0;32m    344\u001b[0m \u001b[43m            \u001b[49m\u001b[38;5;28;43mself\u001b[39;49m\u001b[38;5;241;43m.\u001b[39;49m\u001b[43mlabel_binarizer_\u001b[49m\u001b[38;5;241;43m.\u001b[39;49m\u001b[43mclasses_\u001b[49m\u001b[43m[\u001b[49m\u001b[43mi\u001b[49m\u001b[43m]\u001b[49m\u001b[43m,\u001b[49m\n\u001b[0;32m    345\u001b[0m \u001b[43m        \u001b[49m\u001b[43m]\u001b[49m\u001b[43m,\u001b[49m\n\u001b[0;32m    346\u001b[0m \u001b[43m    \u001b[49m\u001b[43m)\u001b[49m\n\u001b[0;32m    347\u001b[0m \u001b[43m    \u001b[49m\u001b[38;5;28;43;01mfor\u001b[39;49;00m\u001b[43m \u001b[49m\u001b[43mi\u001b[49m\u001b[43m,\u001b[49m\u001b[43m \u001b[49m\u001b[43mcolumn\u001b[49m\u001b[43m \u001b[49m\u001b[38;5;129;43;01min\u001b[39;49;00m\u001b[43m \u001b[49m\u001b[38;5;28;43menumerate\u001b[39;49m\u001b[43m(\u001b[49m\u001b[43mcolumns\u001b[49m\u001b[43m)\u001b[49m\n\u001b[0;32m    348\u001b[0m \u001b[43m\u001b[49m\u001b[43m)\u001b[49m\n\u001b[0;32m    350\u001b[0m \u001b[38;5;28;01mif\u001b[39;00m \u001b[38;5;28mhasattr\u001b[39m(\u001b[38;5;28mself\u001b[39m\u001b[38;5;241m.\u001b[39mestimators_[\u001b[38;5;241m0\u001b[39m], \u001b[38;5;124m\"\u001b[39m\u001b[38;5;124mn_features_in_\u001b[39m\u001b[38;5;124m\"\u001b[39m):\n\u001b[0;32m    351\u001b[0m     \u001b[38;5;28mself\u001b[39m\u001b[38;5;241m.\u001b[39mn_features_in_ \u001b[38;5;241m=\u001b[39m \u001b[38;5;28mself\u001b[39m\u001b[38;5;241m.\u001b[39mestimators_[\u001b[38;5;241m0\u001b[39m]\u001b[38;5;241m.\u001b[39mn_features_in_\n",
      "File \u001b[1;32md:\\python\\python38\\lib\\site-packages\\joblib\\parallel.py:1043\u001b[0m, in \u001b[0;36mParallel.__call__\u001b[1;34m(self, iterable)\u001b[0m\n\u001b[0;32m   1034\u001b[0m \u001b[38;5;28;01mtry\u001b[39;00m:\n\u001b[0;32m   1035\u001b[0m     \u001b[38;5;66;03m# Only set self._iterating to True if at least a batch\u001b[39;00m\n\u001b[0;32m   1036\u001b[0m     \u001b[38;5;66;03m# was dispatched. In particular this covers the edge\u001b[39;00m\n\u001b[1;32m   (...)\u001b[0m\n\u001b[0;32m   1040\u001b[0m     \u001b[38;5;66;03m# was very quick and its callback already dispatched all the\u001b[39;00m\n\u001b[0;32m   1041\u001b[0m     \u001b[38;5;66;03m# remaining jobs.\u001b[39;00m\n\u001b[0;32m   1042\u001b[0m     \u001b[38;5;28mself\u001b[39m\u001b[38;5;241m.\u001b[39m_iterating \u001b[38;5;241m=\u001b[39m \u001b[38;5;28;01mFalse\u001b[39;00m\n\u001b[1;32m-> 1043\u001b[0m     \u001b[38;5;28;01mif\u001b[39;00m \u001b[38;5;28;43mself\u001b[39;49m\u001b[38;5;241;43m.\u001b[39;49m\u001b[43mdispatch_one_batch\u001b[49m\u001b[43m(\u001b[49m\u001b[43miterator\u001b[49m\u001b[43m)\u001b[49m:\n\u001b[0;32m   1044\u001b[0m         \u001b[38;5;28mself\u001b[39m\u001b[38;5;241m.\u001b[39m_iterating \u001b[38;5;241m=\u001b[39m \u001b[38;5;28mself\u001b[39m\u001b[38;5;241m.\u001b[39m_original_iterator \u001b[38;5;129;01mis\u001b[39;00m \u001b[38;5;129;01mnot\u001b[39;00m \u001b[38;5;28;01mNone\u001b[39;00m\n\u001b[0;32m   1046\u001b[0m     \u001b[38;5;28;01mwhile\u001b[39;00m \u001b[38;5;28mself\u001b[39m\u001b[38;5;241m.\u001b[39mdispatch_one_batch(iterator):\n",
      "File \u001b[1;32md:\\python\\python38\\lib\\site-packages\\joblib\\parallel.py:861\u001b[0m, in \u001b[0;36mParallel.dispatch_one_batch\u001b[1;34m(self, iterator)\u001b[0m\n\u001b[0;32m    859\u001b[0m     \u001b[38;5;28;01mreturn\u001b[39;00m \u001b[38;5;28;01mFalse\u001b[39;00m\n\u001b[0;32m    860\u001b[0m \u001b[38;5;28;01melse\u001b[39;00m:\n\u001b[1;32m--> 861\u001b[0m     \u001b[38;5;28;43mself\u001b[39;49m\u001b[38;5;241;43m.\u001b[39;49m\u001b[43m_dispatch\u001b[49m\u001b[43m(\u001b[49m\u001b[43mtasks\u001b[49m\u001b[43m)\u001b[49m\n\u001b[0;32m    862\u001b[0m     \u001b[38;5;28;01mreturn\u001b[39;00m \u001b[38;5;28;01mTrue\u001b[39;00m\n",
      "File \u001b[1;32md:\\python\\python38\\lib\\site-packages\\joblib\\parallel.py:779\u001b[0m, in \u001b[0;36mParallel._dispatch\u001b[1;34m(self, batch)\u001b[0m\n\u001b[0;32m    777\u001b[0m \u001b[38;5;28;01mwith\u001b[39;00m \u001b[38;5;28mself\u001b[39m\u001b[38;5;241m.\u001b[39m_lock:\n\u001b[0;32m    778\u001b[0m     job_idx \u001b[38;5;241m=\u001b[39m \u001b[38;5;28mlen\u001b[39m(\u001b[38;5;28mself\u001b[39m\u001b[38;5;241m.\u001b[39m_jobs)\n\u001b[1;32m--> 779\u001b[0m     job \u001b[38;5;241m=\u001b[39m \u001b[38;5;28;43mself\u001b[39;49m\u001b[38;5;241;43m.\u001b[39;49m\u001b[43m_backend\u001b[49m\u001b[38;5;241;43m.\u001b[39;49m\u001b[43mapply_async\u001b[49m\u001b[43m(\u001b[49m\u001b[43mbatch\u001b[49m\u001b[43m,\u001b[49m\u001b[43m \u001b[49m\u001b[43mcallback\u001b[49m\u001b[38;5;241;43m=\u001b[39;49m\u001b[43mcb\u001b[49m\u001b[43m)\u001b[49m\n\u001b[0;32m    780\u001b[0m     \u001b[38;5;66;03m# A job can complete so quickly than its callback is\u001b[39;00m\n\u001b[0;32m    781\u001b[0m     \u001b[38;5;66;03m# called before we get here, causing self._jobs to\u001b[39;00m\n\u001b[0;32m    782\u001b[0m     \u001b[38;5;66;03m# grow. To ensure correct results ordering, .insert is\u001b[39;00m\n\u001b[0;32m    783\u001b[0m     \u001b[38;5;66;03m# used (rather than .append) in the following line\u001b[39;00m\n\u001b[0;32m    784\u001b[0m     \u001b[38;5;28mself\u001b[39m\u001b[38;5;241m.\u001b[39m_jobs\u001b[38;5;241m.\u001b[39minsert(job_idx, job)\n",
      "File \u001b[1;32md:\\python\\python38\\lib\\site-packages\\joblib\\_parallel_backends.py:208\u001b[0m, in \u001b[0;36mSequentialBackend.apply_async\u001b[1;34m(self, func, callback)\u001b[0m\n\u001b[0;32m    206\u001b[0m \u001b[38;5;28;01mdef\u001b[39;00m \u001b[38;5;21mapply_async\u001b[39m(\u001b[38;5;28mself\u001b[39m, func, callback\u001b[38;5;241m=\u001b[39m\u001b[38;5;28;01mNone\u001b[39;00m):\n\u001b[0;32m    207\u001b[0m     \u001b[38;5;124;03m\"\"\"Schedule a func to be run\"\"\"\u001b[39;00m\n\u001b[1;32m--> 208\u001b[0m     result \u001b[38;5;241m=\u001b[39m \u001b[43mImmediateResult\u001b[49m\u001b[43m(\u001b[49m\u001b[43mfunc\u001b[49m\u001b[43m)\u001b[49m\n\u001b[0;32m    209\u001b[0m     \u001b[38;5;28;01mif\u001b[39;00m callback:\n\u001b[0;32m    210\u001b[0m         callback(result)\n",
      "File \u001b[1;32md:\\python\\python38\\lib\\site-packages\\joblib\\_parallel_backends.py:572\u001b[0m, in \u001b[0;36mImmediateResult.__init__\u001b[1;34m(self, batch)\u001b[0m\n\u001b[0;32m    569\u001b[0m \u001b[38;5;28;01mdef\u001b[39;00m \u001b[38;5;21m__init__\u001b[39m(\u001b[38;5;28mself\u001b[39m, batch):\n\u001b[0;32m    570\u001b[0m     \u001b[38;5;66;03m# Don't delay the application, to avoid keeping the input\u001b[39;00m\n\u001b[0;32m    571\u001b[0m     \u001b[38;5;66;03m# arguments in memory\u001b[39;00m\n\u001b[1;32m--> 572\u001b[0m     \u001b[38;5;28mself\u001b[39m\u001b[38;5;241m.\u001b[39mresults \u001b[38;5;241m=\u001b[39m \u001b[43mbatch\u001b[49m\u001b[43m(\u001b[49m\u001b[43m)\u001b[49m\n",
      "File \u001b[1;32md:\\python\\python38\\lib\\site-packages\\joblib\\parallel.py:262\u001b[0m, in \u001b[0;36mBatchedCalls.__call__\u001b[1;34m(self)\u001b[0m\n\u001b[0;32m    258\u001b[0m \u001b[38;5;28;01mdef\u001b[39;00m \u001b[38;5;21m__call__\u001b[39m(\u001b[38;5;28mself\u001b[39m):\n\u001b[0;32m    259\u001b[0m     \u001b[38;5;66;03m# Set the default nested backend to self._backend but do not set the\u001b[39;00m\n\u001b[0;32m    260\u001b[0m     \u001b[38;5;66;03m# change the default number of processes to -1\u001b[39;00m\n\u001b[0;32m    261\u001b[0m     \u001b[38;5;28;01mwith\u001b[39;00m parallel_backend(\u001b[38;5;28mself\u001b[39m\u001b[38;5;241m.\u001b[39m_backend, n_jobs\u001b[38;5;241m=\u001b[39m\u001b[38;5;28mself\u001b[39m\u001b[38;5;241m.\u001b[39m_n_jobs):\n\u001b[1;32m--> 262\u001b[0m         \u001b[38;5;28;01mreturn\u001b[39;00m [func(\u001b[38;5;241m*\u001b[39margs, \u001b[38;5;241m*\u001b[39m\u001b[38;5;241m*\u001b[39mkwargs)\n\u001b[0;32m    263\u001b[0m                 \u001b[38;5;28;01mfor\u001b[39;00m func, args, kwargs \u001b[38;5;129;01min\u001b[39;00m \u001b[38;5;28mself\u001b[39m\u001b[38;5;241m.\u001b[39mitems]\n",
      "File \u001b[1;32md:\\python\\python38\\lib\\site-packages\\joblib\\parallel.py:262\u001b[0m, in \u001b[0;36m<listcomp>\u001b[1;34m(.0)\u001b[0m\n\u001b[0;32m    258\u001b[0m \u001b[38;5;28;01mdef\u001b[39;00m \u001b[38;5;21m__call__\u001b[39m(\u001b[38;5;28mself\u001b[39m):\n\u001b[0;32m    259\u001b[0m     \u001b[38;5;66;03m# Set the default nested backend to self._backend but do not set the\u001b[39;00m\n\u001b[0;32m    260\u001b[0m     \u001b[38;5;66;03m# change the default number of processes to -1\u001b[39;00m\n\u001b[0;32m    261\u001b[0m     \u001b[38;5;28;01mwith\u001b[39;00m parallel_backend(\u001b[38;5;28mself\u001b[39m\u001b[38;5;241m.\u001b[39m_backend, n_jobs\u001b[38;5;241m=\u001b[39m\u001b[38;5;28mself\u001b[39m\u001b[38;5;241m.\u001b[39m_n_jobs):\n\u001b[1;32m--> 262\u001b[0m         \u001b[38;5;28;01mreturn\u001b[39;00m [\u001b[43mfunc\u001b[49m\u001b[43m(\u001b[49m\u001b[38;5;241;43m*\u001b[39;49m\u001b[43margs\u001b[49m\u001b[43m,\u001b[49m\u001b[43m \u001b[49m\u001b[38;5;241;43m*\u001b[39;49m\u001b[38;5;241;43m*\u001b[39;49m\u001b[43mkwargs\u001b[49m\u001b[43m)\u001b[49m\n\u001b[0;32m    263\u001b[0m                 \u001b[38;5;28;01mfor\u001b[39;00m func, args, kwargs \u001b[38;5;129;01min\u001b[39;00m \u001b[38;5;28mself\u001b[39m\u001b[38;5;241m.\u001b[39mitems]\n",
      "File \u001b[1;32md:\\python\\python38\\lib\\site-packages\\sklearn\\utils\\fixes.py:216\u001b[0m, in \u001b[0;36m_FuncWrapper.__call__\u001b[1;34m(self, *args, **kwargs)\u001b[0m\n\u001b[0;32m    214\u001b[0m \u001b[38;5;28;01mdef\u001b[39;00m \u001b[38;5;21m__call__\u001b[39m(\u001b[38;5;28mself\u001b[39m, \u001b[38;5;241m*\u001b[39margs, \u001b[38;5;241m*\u001b[39m\u001b[38;5;241m*\u001b[39mkwargs):\n\u001b[0;32m    215\u001b[0m     \u001b[38;5;28;01mwith\u001b[39;00m config_context(\u001b[38;5;241m*\u001b[39m\u001b[38;5;241m*\u001b[39m\u001b[38;5;28mself\u001b[39m\u001b[38;5;241m.\u001b[39mconfig):\n\u001b[1;32m--> 216\u001b[0m         \u001b[38;5;28;01mreturn\u001b[39;00m \u001b[38;5;28;43mself\u001b[39;49m\u001b[38;5;241;43m.\u001b[39;49m\u001b[43mfunction\u001b[49m\u001b[43m(\u001b[49m\u001b[38;5;241;43m*\u001b[39;49m\u001b[43margs\u001b[49m\u001b[43m,\u001b[49m\u001b[43m \u001b[49m\u001b[38;5;241;43m*\u001b[39;49m\u001b[38;5;241;43m*\u001b[39;49m\u001b[43mkwargs\u001b[49m\u001b[43m)\u001b[49m\n",
      "File \u001b[1;32md:\\python\\python38\\lib\\site-packages\\sklearn\\multiclass.py:85\u001b[0m, in \u001b[0;36m_fit_binary\u001b[1;34m(estimator, X, y, classes)\u001b[0m\n\u001b[0;32m     83\u001b[0m \u001b[38;5;28;01melse\u001b[39;00m:\n\u001b[0;32m     84\u001b[0m     estimator \u001b[38;5;241m=\u001b[39m clone(estimator)\n\u001b[1;32m---> 85\u001b[0m     \u001b[43mestimator\u001b[49m\u001b[38;5;241;43m.\u001b[39;49m\u001b[43mfit\u001b[49m\u001b[43m(\u001b[49m\u001b[43mX\u001b[49m\u001b[43m,\u001b[49m\u001b[43m \u001b[49m\u001b[43my\u001b[49m\u001b[43m)\u001b[49m\n\u001b[0;32m     86\u001b[0m \u001b[38;5;28;01mreturn\u001b[39;00m estimator\n",
      "File \u001b[1;32md:\\python\\python38\\lib\\site-packages\\sklearn\\gaussian_process\\_gpc.py:251\u001b[0m, in \u001b[0;36m_BinaryGaussianProcessClassifierLaplace.fit\u001b[1;34m(self, X, y)\u001b[0m\n\u001b[0;32m    249\u001b[0m     \u001b[38;5;28mself\u001b[39m\u001b[38;5;241m.\u001b[39mlog_marginal_likelihood_value_ \u001b[38;5;241m=\u001b[39m \u001b[38;5;241m-\u001b[39mnp\u001b[38;5;241m.\u001b[39mmin(lml_values)\n\u001b[0;32m    250\u001b[0m \u001b[38;5;28;01melse\u001b[39;00m:\n\u001b[1;32m--> 251\u001b[0m     \u001b[38;5;28mself\u001b[39m\u001b[38;5;241m.\u001b[39mlog_marginal_likelihood_value_ \u001b[38;5;241m=\u001b[39m \u001b[38;5;28;43mself\u001b[39;49m\u001b[38;5;241;43m.\u001b[39;49m\u001b[43mlog_marginal_likelihood\u001b[49m\u001b[43m(\u001b[49m\n\u001b[0;32m    252\u001b[0m \u001b[43m        \u001b[49m\u001b[38;5;28;43mself\u001b[39;49m\u001b[38;5;241;43m.\u001b[39;49m\u001b[43mkernel_\u001b[49m\u001b[38;5;241;43m.\u001b[39;49m\u001b[43mtheta\u001b[49m\n\u001b[0;32m    253\u001b[0m \u001b[43m    \u001b[49m\u001b[43m)\u001b[49m\n\u001b[0;32m    255\u001b[0m \u001b[38;5;66;03m# Precompute quantities required for predictions which are independent\u001b[39;00m\n\u001b[0;32m    256\u001b[0m \u001b[38;5;66;03m# of actual query points\u001b[39;00m\n\u001b[0;32m    257\u001b[0m K \u001b[38;5;241m=\u001b[39m \u001b[38;5;28mself\u001b[39m\u001b[38;5;241m.\u001b[39mkernel_(\u001b[38;5;28mself\u001b[39m\u001b[38;5;241m.\u001b[39mX_train_)\n",
      "File \u001b[1;32md:\\python\\python38\\lib\\site-packages\\sklearn\\gaussian_process\\_gpc.py:376\u001b[0m, in \u001b[0;36m_BinaryGaussianProcessClassifierLaplace.log_marginal_likelihood\u001b[1;34m(self, theta, eval_gradient, clone_kernel)\u001b[0m\n\u001b[0;32m    374\u001b[0m     K, K_gradient \u001b[38;5;241m=\u001b[39m kernel(\u001b[38;5;28mself\u001b[39m\u001b[38;5;241m.\u001b[39mX_train_, eval_gradient\u001b[38;5;241m=\u001b[39m\u001b[38;5;28;01mTrue\u001b[39;00m)\n\u001b[0;32m    375\u001b[0m \u001b[38;5;28;01melse\u001b[39;00m:\n\u001b[1;32m--> 376\u001b[0m     K \u001b[38;5;241m=\u001b[39m \u001b[43mkernel\u001b[49m\u001b[43m(\u001b[49m\u001b[38;5;28;43mself\u001b[39;49m\u001b[38;5;241;43m.\u001b[39;49m\u001b[43mX_train_\u001b[49m\u001b[43m)\u001b[49m\n\u001b[0;32m    378\u001b[0m \u001b[38;5;66;03m# Compute log-marginal-likelihood Z and also store some temporaries\u001b[39;00m\n\u001b[0;32m    379\u001b[0m \u001b[38;5;66;03m# which can be reused for computing Z's gradient\u001b[39;00m\n\u001b[0;32m    380\u001b[0m Z, (pi, W_sr, L, b, a) \u001b[38;5;241m=\u001b[39m \u001b[38;5;28mself\u001b[39m\u001b[38;5;241m.\u001b[39m_posterior_mode(K, return_temporaries\u001b[38;5;241m=\u001b[39m\u001b[38;5;28;01mTrue\u001b[39;00m)\n",
      "File \u001b[1;32md:\\python\\python38\\lib\\site-packages\\sklearn\\gaussian_process\\kernels.py:946\u001b[0m, in \u001b[0;36mProduct.__call__\u001b[1;34m(self, X, Y, eval_gradient)\u001b[0m\n\u001b[0;32m    942\u001b[0m     \u001b[38;5;28;01mreturn\u001b[39;00m K1 \u001b[38;5;241m*\u001b[39m K2, np\u001b[38;5;241m.\u001b[39mdstack(\n\u001b[0;32m    943\u001b[0m         (K1_gradient \u001b[38;5;241m*\u001b[39m K2[:, :, np\u001b[38;5;241m.\u001b[39mnewaxis], K2_gradient \u001b[38;5;241m*\u001b[39m K1[:, :, np\u001b[38;5;241m.\u001b[39mnewaxis])\n\u001b[0;32m    944\u001b[0m     )\n\u001b[0;32m    945\u001b[0m \u001b[38;5;28;01melse\u001b[39;00m:\n\u001b[1;32m--> 946\u001b[0m     \u001b[38;5;28;01mreturn\u001b[39;00m \u001b[38;5;28mself\u001b[39m\u001b[38;5;241m.\u001b[39mk1(X, Y) \u001b[38;5;241m*\u001b[39m \u001b[38;5;28;43mself\u001b[39;49m\u001b[38;5;241;43m.\u001b[39;49m\u001b[43mk2\u001b[49m\u001b[43m(\u001b[49m\u001b[43mX\u001b[49m\u001b[43m,\u001b[49m\u001b[43m \u001b[49m\u001b[43mY\u001b[49m\u001b[43m)\u001b[49m\n",
      "File \u001b[1;32md:\\python\\python38\\lib\\site-packages\\sklearn\\gaussian_process\\kernels.py:1536\u001b[0m, in \u001b[0;36mRBF.__call__\u001b[1;34m(self, X, Y, eval_gradient)\u001b[0m\n\u001b[0;32m   1534\u001b[0m length_scale \u001b[38;5;241m=\u001b[39m _check_length_scale(X, \u001b[38;5;28mself\u001b[39m\u001b[38;5;241m.\u001b[39mlength_scale)\n\u001b[0;32m   1535\u001b[0m \u001b[38;5;28;01mif\u001b[39;00m Y \u001b[38;5;129;01mis\u001b[39;00m \u001b[38;5;28;01mNone\u001b[39;00m:\n\u001b[1;32m-> 1536\u001b[0m     dists \u001b[38;5;241m=\u001b[39m \u001b[43mpdist\u001b[49m\u001b[43m(\u001b[49m\u001b[43mX\u001b[49m\u001b[43m \u001b[49m\u001b[38;5;241;43m/\u001b[39;49m\u001b[43m \u001b[49m\u001b[43mlength_scale\u001b[49m\u001b[43m,\u001b[49m\u001b[43m \u001b[49m\u001b[43mmetric\u001b[49m\u001b[38;5;241;43m=\u001b[39;49m\u001b[38;5;124;43m\"\u001b[39;49m\u001b[38;5;124;43msqeuclidean\u001b[39;49m\u001b[38;5;124;43m\"\u001b[39;49m\u001b[43m)\u001b[49m\n\u001b[0;32m   1537\u001b[0m     K \u001b[38;5;241m=\u001b[39m np\u001b[38;5;241m.\u001b[39mexp(\u001b[38;5;241m-\u001b[39m\u001b[38;5;241m0.5\u001b[39m \u001b[38;5;241m*\u001b[39m dists)\n\u001b[0;32m   1538\u001b[0m     \u001b[38;5;66;03m# convert from upper-triangular matrix to square matrix\u001b[39;00m\n",
      "File \u001b[1;32md:\\python\\python38\\lib\\site-packages\\scipy\\spatial\\distance.py:2251\u001b[0m, in \u001b[0;36mpdist\u001b[1;34m(X, metric, out, **kwargs)\u001b[0m\n\u001b[0;32m   2249\u001b[0m \u001b[38;5;28;01mif\u001b[39;00m metric_info \u001b[38;5;129;01mis\u001b[39;00m \u001b[38;5;129;01mnot\u001b[39;00m \u001b[38;5;28;01mNone\u001b[39;00m:\n\u001b[0;32m   2250\u001b[0m     pdist_fn \u001b[38;5;241m=\u001b[39m metric_info\u001b[38;5;241m.\u001b[39mpdist_func\n\u001b[1;32m-> 2251\u001b[0m     \u001b[38;5;28;01mreturn\u001b[39;00m \u001b[43mpdist_fn\u001b[49m\u001b[43m(\u001b[49m\u001b[43mX\u001b[49m\u001b[43m,\u001b[49m\u001b[43m \u001b[49m\u001b[43mout\u001b[49m\u001b[38;5;241;43m=\u001b[39;49m\u001b[43mout\u001b[49m\u001b[43m,\u001b[49m\u001b[43m \u001b[49m\u001b[38;5;241;43m*\u001b[39;49m\u001b[38;5;241;43m*\u001b[39;49m\u001b[43mkwargs\u001b[49m\u001b[43m)\u001b[49m\n\u001b[0;32m   2252\u001b[0m \u001b[38;5;28;01melif\u001b[39;00m mstr\u001b[38;5;241m.\u001b[39mstartswith(\u001b[38;5;124m\"\u001b[39m\u001b[38;5;124mtest_\u001b[39m\u001b[38;5;124m\"\u001b[39m):\n\u001b[0;32m   2253\u001b[0m     metric_info \u001b[38;5;241m=\u001b[39m _TEST_METRICS\u001b[38;5;241m.\u001b[39mget(mstr, \u001b[38;5;28;01mNone\u001b[39;00m)\n",
      "\u001b[1;31mMemoryError\u001b[0m: Unable to allocate 14.4 GiB for an array with shape (1927366741,) and data type float64"
     ]
    }
   ],
   "source": [
    "gpc = GaussianProcessClassifier(random_state=0).fit(X_train, y_train)"
   ]
  },
  {
   "cell_type": "code",
   "execution_count": null,
   "id": "4d6a7a62",
   "metadata": {},
   "outputs": [],
   "source": [
    "y_pred = gpc.predict(X_test)\n",
    "print(classification_report(y_test, y_pred, digits=4))"
   ]
  },
  {
   "cell_type": "code",
   "execution_count": 37,
   "id": "1e64ac77",
   "metadata": {},
   "outputs": [],
   "source": [
    "from sklearn.tree import DecisionTreeClassifier\n",
    "clf = DecisionTreeClassifier(random_state=0, max_depth=8).fit(X_train, y_train)"
   ]
  },
  {
   "cell_type": "code",
   "execution_count": 38,
   "id": "15319ce8",
   "metadata": {},
   "outputs": [
    {
     "name": "stdout",
     "output_type": "stream",
     "text": [
      "              precision    recall  f1-score   support\n",
      "\n",
      "           0     0.7918    0.3905    0.5231      2581\n",
      "           1     0.4298    0.1815    0.2552       270\n",
      "           2     0.6592    0.3481    0.4556      1356\n",
      "           3     0.8138    0.9651    0.8830     11315\n",
      "\n",
      "    accuracy                         0.8020     15522\n",
      "   macro avg     0.6737    0.4713    0.5292     15522\n",
      "weighted avg     0.7899    0.8020    0.7749     15522\n",
      "\n"
     ]
    }
   ],
   "source": [
    "y_pred = clf.predict(X_test)\n",
    "print(classification_report(y_test, y_pred, digits=4))"
   ]
  },
  {
   "cell_type": "code",
   "execution_count": null,
   "id": "d32d36b9",
   "metadata": {},
   "outputs": [],
   "source": []
  }
 ],
 "metadata": {
  "kernelspec": {
   "display_name": "Python 3",
   "language": "python",
   "name": "python3"
  },
  "language_info": {
   "codemirror_mode": {
    "name": "ipython",
    "version": 3
   },
   "file_extension": ".py",
   "mimetype": "text/x-python",
   "name": "python",
   "nbconvert_exporter": "python",
   "pygments_lexer": "ipython3",
   "version": "3.8.1"
  },
  "latex_envs": {
   "LaTeX_envs_menu_present": true,
   "autoclose": false,
   "autocomplete": true,
   "bibliofile": "biblio.bib",
   "cite_by": "apalike",
   "current_citInitial": 1,
   "eqLabelWithNumbers": true,
   "eqNumInitial": 1,
   "hotkeys": {
    "equation": "Ctrl-E",
    "itemize": "Ctrl-I"
   },
   "labels_anchors": false,
   "latex_user_defs": false,
   "report_style_numbering": false,
   "user_envs_cfg": false
  }
 },
 "nbformat": 4,
 "nbformat_minor": 5
}
