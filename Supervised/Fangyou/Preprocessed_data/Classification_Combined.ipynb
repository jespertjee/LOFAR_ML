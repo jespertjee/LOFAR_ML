{
 "cells": [
  {
   "cell_type": "code",
   "execution_count": 1,
   "id": "fca4f926",
   "metadata": {},
   "outputs": [],
   "source": [
    "import pandas as pd\n",
    "import numpy as np\n",
    "from sklearn.impute import SimpleImputer\n",
    "from sklearn.model_selection import train_test_split, GridSearchCV, cross_val_score\n",
    "from sklearn.preprocessing import StandardScaler, OneHotEncoder, LabelEncoder, OrdinalEncoder, MinMaxScaler, RobustScaler, MaxAbsScaler\n",
    "from sklearn.ensemble import RandomForestClassifier\n",
    "from sklearn.metrics import accuracy_score, classification_report\n",
    "from sklearn.decomposition import PCA\n",
    "from sklearn.utils.class_weight import compute_class_weight\n",
    "\n",
    "from sklearn.metrics import confusion_matrix, ConfusionMatrixDisplay\n",
    "import matplotlib.pyplot as plt\n",
    "\n",
    "from xgboost import XGBClassifier, XGBRegressor\n",
    "import xgboost as xgb"
   ]
  },
  {
   "cell_type": "code",
   "execution_count": 2,
   "id": "cbbf3730",
   "metadata": {},
   "outputs": [],
   "source": [
    "features_num = [\n",
    "    'Total_flux', 'Peak_flux', \n",
    "       'NUV_flux_corr', 'u_flux_corr', 'Bw_flux_corr', 'R_flux_corr',\n",
    "       'I_flux_corr', 'z_flux_corr', 'y_flux_corr',\n",
    "       'J_flux_corr', 'H_flux_corr', 'K_flux_corr', 'Ks_flux_corr',\n",
    "       'ch1_flux_corr', 'ch2_flux_corr', 'ch3_flux_corr', 'ch4_flux_corr',\n",
    "       'F_MIPS_24', 'F_PACS_100', 'F_PACS_160', 'F_SPIRE_250', 'F_SPIRE_350',\n",
    "       'F_SPIRE_500', 'Z_BEST', 'r_rcs_flux_corr',\n",
    "       'g_flux_corr', 'nb921_hsc_flux_corr'\n",
    "    ]\n",
    "y_column = \"Classification\"\n",
    "\n",
    "classes = ['jet-mode radio AGN/low-excitation radio galaxy', 'quasar-like radio AGN / high-excitation radio galaxy', \n",
    "           'radio-quiet AGN', 'star-forming galaxy']"
   ]
  },
  {
   "cell_type": "code",
   "execution_count": 3,
   "id": "a6906da4",
   "metadata": {},
   "outputs": [],
   "source": [
    "data = pd.read_csv(\"../../../Data/Fangyou_data/Cleaned/combined_using_similar_columns.csv\")"
   ]
  },
  {
   "cell_type": "code",
   "execution_count": 4,
   "id": "f8daa8d2",
   "metadata": {},
   "outputs": [
    {
     "data": {
      "text/plain": [
       "star-forming galaxy                                     56640\n",
       "jet-mode radio AGN/low-excitation radio galaxy          12767\n",
       "radio-quiet AGN                                          6870\n",
       "quasar-like radio AGN / high-excitation radio galaxy     1332\n",
       "Name: Classification, dtype: int64"
      ]
     },
     "execution_count": 4,
     "metadata": {},
     "output_type": "execute_result"
    }
   ],
   "source": [
    "data.Classification.value_counts()"
   ]
  },
  {
   "cell_type": "code",
   "execution_count": 5,
   "id": "7fbd1232",
   "metadata": {},
   "outputs": [],
   "source": [
    "X = data[features_num]\n",
    "y = data[np.append(y_column, ['Xray', 'Opt_spec', 'Extended_radio', 'IRAGN'])]"
   ]
  },
  {
   "cell_type": "code",
   "execution_count": 6,
   "id": "11cc87a3",
   "metadata": {},
   "outputs": [
    {
     "name": "stderr",
     "output_type": "stream",
     "text": [
      "/var/lib/condor/execute/dir_572056/ipykernel_574034/2925652128.py:3: SettingWithCopyWarning: \n",
      "A value is trying to be set on a copy of a slice from a DataFrame.\n",
      "Try using .loc[row_indexer,col_indexer] = value instead\n",
      "\n",
      "See the caveats in the documentation: https://pandas.pydata.org/pandas-docs/stable/user_guide/indexing.html#returning-a-view-versus-a-copy\n",
      "  y[y_column] = le.fit_transform(y[y_column])\n"
     ]
    }
   ],
   "source": [
    "le = LabelEncoder()\n",
    "labels = np.unique(y[y_column].astype(str))\n",
    "y[y_column] = le.fit_transform(y[y_column])"
   ]
  },
  {
   "cell_type": "code",
   "execution_count": 7,
   "id": "5deae280",
   "metadata": {},
   "outputs": [
    {
     "data": {
      "text/plain": [
       "array(['jet-mode radio AGN/low-excitation radio galaxy',\n",
       "       'quasar-like radio AGN / high-excitation radio galaxy',\n",
       "       'radio-quiet AGN', 'star-forming galaxy'], dtype=object)"
      ]
     },
     "execution_count": 7,
     "metadata": {},
     "output_type": "execute_result"
    }
   ],
   "source": [
    "labels"
   ]
  },
  {
   "cell_type": "markdown",
   "id": "d2f42f54",
   "metadata": {},
   "source": [
    "# Weights"
   ]
  },
  {
   "cell_type": "code",
   "execution_count": 9,
   "id": "186064fb",
   "metadata": {},
   "outputs": [],
   "source": [
    "from sklearn.utils import class_weight\n",
    "classes_weights = class_weight.compute_sample_weight(\n",
    "    class_weight='balanced',\n",
    "    y=y_train\n",
    ")"
   ]
  },
  {
   "cell_type": "markdown",
   "id": "58090610",
   "metadata": {},
   "source": [
    "# XGBoost"
   ]
  },
  {
   "cell_type": "code",
   "execution_count": 12,
   "id": "4e988e1d",
   "metadata": {
    "scrolled": true
   },
   "outputs": [],
   "source": [
    "X_train, X_test, y_train, y_test = train_test_split(X, y['Classification'], train_size=0.8, stratify=y['Classification'], random_state=42)\n",
    "X_test, X_val, y_test, y_val = train_test_split(X_test, y_test, train_size=0.8, stratify=y_test, random_state=42)"
   ]
  },
  {
   "cell_type": "code",
   "execution_count": 32,
   "id": "2671699f",
   "metadata": {},
   "outputs": [],
   "source": [
    "model = XGBClassifier(use_label_encoder=False, \n",
    "                      max_depth=5, \n",
    "                      #reg_alpha=1,   \n",
    "                      #min_child_weight=0.5, \n",
    "                      reg_lambda=5,\n",
    "                      #subsample=0.5,\n",
    "                      eta=0.1, # Remember to reduce to 0.1 or 0.05 for better results\n",
    "                      tree_method='hist', # exact is more precies, but this is much faster\n",
    "                      gpu_id=1,\n",
    "                      objective='multi:softprob',\n",
    "                      eval_metric =['merror'],\n",
    "                      nthread=8,\n",
    "                      n_estimators=500,\n",
    "                      )"
   ]
  },
  {
   "cell_type": "code",
   "execution_count": 33,
   "id": "426f0675",
   "metadata": {
    "scrolled": true
   },
   "outputs": [
    {
     "name": "stdout",
     "output_type": "stream",
     "text": [
      "[10:37:58] WARNING: ../src/learner.cc:222: No visible GPU is found, setting `gpu_id` to -1\n",
      "[0]\tvalidation_0-merror:0.16586\n",
      "[1]\tvalidation_0-merror:0.15974\n",
      "[2]\tvalidation_0-merror:0.15813\n",
      "[3]\tvalidation_0-merror:0.15781\n",
      "[4]\tvalidation_0-merror:0.15652\n",
      "[5]\tvalidation_0-merror:0.15588\n",
      "[6]\tvalidation_0-merror:0.15394\n",
      "[7]\tvalidation_0-merror:0.15362\n",
      "[8]\tvalidation_0-merror:0.15394\n",
      "[9]\tvalidation_0-merror:0.15040\n",
      "[10]\tvalidation_0-merror:0.14911\n",
      "[11]\tvalidation_0-merror:0.14718\n",
      "[12]\tvalidation_0-merror:0.14718\n",
      "[13]\tvalidation_0-merror:0.14718\n",
      "[14]\tvalidation_0-merror:0.14686\n",
      "[15]\tvalidation_0-merror:0.14622\n",
      "[16]\tvalidation_0-merror:0.14622\n",
      "[17]\tvalidation_0-merror:0.14461\n",
      "[18]\tvalidation_0-merror:0.14396\n",
      "[19]\tvalidation_0-merror:0.14396\n",
      "[20]\tvalidation_0-merror:0.14267\n",
      "[21]\tvalidation_0-merror:0.14300\n",
      "[22]\tvalidation_0-merror:0.14203\n",
      "[23]\tvalidation_0-merror:0.14010\n",
      "[24]\tvalidation_0-merror:0.14106\n",
      "[25]\tvalidation_0-merror:0.13978\n",
      "[26]\tvalidation_0-merror:0.13688\n",
      "[27]\tvalidation_0-merror:0.13559\n",
      "[28]\tvalidation_0-merror:0.13559\n",
      "[29]\tvalidation_0-merror:0.13365\n",
      "[30]\tvalidation_0-merror:0.13204\n",
      "[31]\tvalidation_0-merror:0.13204\n",
      "[32]\tvalidation_0-merror:0.13140\n",
      "[33]\tvalidation_0-merror:0.13108\n",
      "[34]\tvalidation_0-merror:0.13011\n",
      "[35]\tvalidation_0-merror:0.12979\n",
      "[36]\tvalidation_0-merror:0.12947\n",
      "[37]\tvalidation_0-merror:0.12786\n",
      "[38]\tvalidation_0-merror:0.12625\n",
      "[39]\tvalidation_0-merror:0.12593\n",
      "[40]\tvalidation_0-merror:0.12593\n",
      "[41]\tvalidation_0-merror:0.12496\n",
      "[42]\tvalidation_0-merror:0.12593\n",
      "[43]\tvalidation_0-merror:0.12367\n",
      "[44]\tvalidation_0-merror:0.12335\n",
      "[45]\tvalidation_0-merror:0.12335\n",
      "[46]\tvalidation_0-merror:0.12270\n",
      "[47]\tvalidation_0-merror:0.12109\n",
      "[48]\tvalidation_0-merror:0.12270\n",
      "[49]\tvalidation_0-merror:0.12270\n",
      "[50]\tvalidation_0-merror:0.12238\n",
      "[51]\tvalidation_0-merror:0.12206\n",
      "[52]\tvalidation_0-merror:0.12109\n",
      "[53]\tvalidation_0-merror:0.12109\n",
      "[54]\tvalidation_0-merror:0.12109\n",
      "[55]\tvalidation_0-merror:0.12013\n",
      "[56]\tvalidation_0-merror:0.11981\n",
      "[57]\tvalidation_0-merror:0.11916\n",
      "[58]\tvalidation_0-merror:0.11916\n",
      "[59]\tvalidation_0-merror:0.11884\n",
      "[60]\tvalidation_0-merror:0.11852\n",
      "[61]\tvalidation_0-merror:0.11852\n",
      "[62]\tvalidation_0-merror:0.11820\n",
      "[63]\tvalidation_0-merror:0.11787\n",
      "[64]\tvalidation_0-merror:0.11723\n",
      "[65]\tvalidation_0-merror:0.11755\n",
      "[66]\tvalidation_0-merror:0.11659\n",
      "[67]\tvalidation_0-merror:0.11691\n",
      "[68]\tvalidation_0-merror:0.11659\n",
      "[69]\tvalidation_0-merror:0.11626\n",
      "[70]\tvalidation_0-merror:0.11594\n",
      "[71]\tvalidation_0-merror:0.11530\n",
      "[72]\tvalidation_0-merror:0.11562\n",
      "[73]\tvalidation_0-merror:0.11498\n",
      "[74]\tvalidation_0-merror:0.11433\n",
      "[75]\tvalidation_0-merror:0.11369\n",
      "[76]\tvalidation_0-merror:0.11401\n",
      "[77]\tvalidation_0-merror:0.11337\n",
      "[78]\tvalidation_0-merror:0.11304\n",
      "[79]\tvalidation_0-merror:0.11369\n",
      "[80]\tvalidation_0-merror:0.11401\n",
      "[81]\tvalidation_0-merror:0.11369\n",
      "[82]\tvalidation_0-merror:0.11401\n",
      "[83]\tvalidation_0-merror:0.11304\n",
      "[84]\tvalidation_0-merror:0.11272\n",
      "[85]\tvalidation_0-merror:0.11304\n",
      "[86]\tvalidation_0-merror:0.11272\n",
      "[87]\tvalidation_0-merror:0.11208\n",
      "[88]\tvalidation_0-merror:0.11047\n",
      "[89]\tvalidation_0-merror:0.11047\n",
      "[90]\tvalidation_0-merror:0.11079\n",
      "[91]\tvalidation_0-merror:0.11079\n",
      "[92]\tvalidation_0-merror:0.11079\n",
      "[93]\tvalidation_0-merror:0.11111\n",
      "[94]\tvalidation_0-merror:0.11143\n",
      "[95]\tvalidation_0-merror:0.11111\n",
      "[96]\tvalidation_0-merror:0.11079\n",
      "[97]\tvalidation_0-merror:0.11111\n",
      "[98]\tvalidation_0-merror:0.11175\n",
      "[99]\tvalidation_0-merror:0.11111\n",
      "[100]\tvalidation_0-merror:0.10982\n",
      "[101]\tvalidation_0-merror:0.10982\n",
      "[102]\tvalidation_0-merror:0.10982\n",
      "[103]\tvalidation_0-merror:0.10918\n",
      "[104]\tvalidation_0-merror:0.10950\n",
      "[105]\tvalidation_0-merror:0.10886\n",
      "[106]\tvalidation_0-merror:0.10918\n",
      "[107]\tvalidation_0-merror:0.10918\n",
      "[108]\tvalidation_0-merror:0.10918\n",
      "[109]\tvalidation_0-merror:0.10950\n",
      "[110]\tvalidation_0-merror:0.10886\n",
      "[111]\tvalidation_0-merror:0.10918\n",
      "[112]\tvalidation_0-merror:0.10821\n",
      "[113]\tvalidation_0-merror:0.10821\n",
      "[114]\tvalidation_0-merror:0.10789\n",
      "[115]\tvalidation_0-merror:0.10854\n",
      "[116]\tvalidation_0-merror:0.10886\n",
      "[117]\tvalidation_0-merror:0.10886\n",
      "[118]\tvalidation_0-merror:0.10821\n",
      "[119]\tvalidation_0-merror:0.10821\n",
      "[120]\tvalidation_0-merror:0.10789\n",
      "[121]\tvalidation_0-merror:0.10789\n",
      "[122]\tvalidation_0-merror:0.10725\n",
      "[123]\tvalidation_0-merror:0.10725\n",
      "[124]\tvalidation_0-merror:0.10725\n",
      "[125]\tvalidation_0-merror:0.10692\n",
      "[126]\tvalidation_0-merror:0.10725\n",
      "[127]\tvalidation_0-merror:0.10725\n",
      "[128]\tvalidation_0-merror:0.10692\n",
      "[129]\tvalidation_0-merror:0.10725\n",
      "[130]\tvalidation_0-merror:0.10692\n",
      "[131]\tvalidation_0-merror:0.10660\n",
      "[132]\tvalidation_0-merror:0.10660\n",
      "[133]\tvalidation_0-merror:0.10692\n",
      "[134]\tvalidation_0-merror:0.10628\n",
      "[135]\tvalidation_0-merror:0.10596\n",
      "[136]\tvalidation_0-merror:0.10564\n",
      "[137]\tvalidation_0-merror:0.10660\n",
      "[138]\tvalidation_0-merror:0.10596\n",
      "[139]\tvalidation_0-merror:0.10499\n",
      "[140]\tvalidation_0-merror:0.10564\n",
      "[141]\tvalidation_0-merror:0.10531\n",
      "[142]\tvalidation_0-merror:0.10499\n",
      "[143]\tvalidation_0-merror:0.10467\n",
      "[144]\tvalidation_0-merror:0.10467\n",
      "[145]\tvalidation_0-merror:0.10435\n",
      "[146]\tvalidation_0-merror:0.10403\n",
      "[147]\tvalidation_0-merror:0.10403\n",
      "[148]\tvalidation_0-merror:0.10403\n",
      "[149]\tvalidation_0-merror:0.10370\n",
      "[150]\tvalidation_0-merror:0.10370\n",
      "[151]\tvalidation_0-merror:0.10338\n",
      "[152]\tvalidation_0-merror:0.10338\n",
      "[153]\tvalidation_0-merror:0.10306\n",
      "[154]\tvalidation_0-merror:0.10338\n",
      "[155]\tvalidation_0-merror:0.10338\n",
      "[156]\tvalidation_0-merror:0.10370\n",
      "[157]\tvalidation_0-merror:0.10338\n",
      "[158]\tvalidation_0-merror:0.10274\n",
      "[159]\tvalidation_0-merror:0.10306\n",
      "[160]\tvalidation_0-merror:0.10338\n",
      "[161]\tvalidation_0-merror:0.10370\n",
      "[162]\tvalidation_0-merror:0.10403\n",
      "[163]\tvalidation_0-merror:0.10403\n",
      "[164]\tvalidation_0-merror:0.10435\n",
      "[165]\tvalidation_0-merror:0.10435\n",
      "[166]\tvalidation_0-merror:0.10338\n",
      "[167]\tvalidation_0-merror:0.10306\n",
      "[168]\tvalidation_0-merror:0.10306\n",
      "[169]\tvalidation_0-merror:0.10338\n",
      "[170]\tvalidation_0-merror:0.10306\n",
      "[171]\tvalidation_0-merror:0.10242\n",
      "[172]\tvalidation_0-merror:0.10242\n",
      "[173]\tvalidation_0-merror:0.10242\n",
      "[174]\tvalidation_0-merror:0.10242\n",
      "[175]\tvalidation_0-merror:0.10242\n",
      "[176]\tvalidation_0-merror:0.10242\n",
      "[177]\tvalidation_0-merror:0.10242\n",
      "[178]\tvalidation_0-merror:0.10242\n",
      "[179]\tvalidation_0-merror:0.10242\n",
      "[180]\tvalidation_0-merror:0.10242\n",
      "[181]\tvalidation_0-merror:0.10209\n",
      "[182]\tvalidation_0-merror:0.10177\n",
      "[183]\tvalidation_0-merror:0.10242\n",
      "[184]\tvalidation_0-merror:0.10274\n",
      "[185]\tvalidation_0-merror:0.10242\n",
      "[186]\tvalidation_0-merror:0.10242\n",
      "[187]\tvalidation_0-merror:0.10209\n",
      "[188]\tvalidation_0-merror:0.10209\n",
      "[189]\tvalidation_0-merror:0.10209\n",
      "[190]\tvalidation_0-merror:0.10242\n",
      "[191]\tvalidation_0-merror:0.10177\n",
      "[192]\tvalidation_0-merror:0.10209\n",
      "[193]\tvalidation_0-merror:0.10242\n",
      "[194]\tvalidation_0-merror:0.10209\n",
      "[195]\tvalidation_0-merror:0.10242\n",
      "[196]\tvalidation_0-merror:0.10242\n",
      "[197]\tvalidation_0-merror:0.10209\n",
      "[198]\tvalidation_0-merror:0.10177\n",
      "[199]\tvalidation_0-merror:0.10145\n",
      "[200]\tvalidation_0-merror:0.10177\n",
      "[201]\tvalidation_0-merror:0.10209\n",
      "[202]\tvalidation_0-merror:0.10242\n",
      "[203]\tvalidation_0-merror:0.10145\n",
      "[204]\tvalidation_0-merror:0.10177\n",
      "[205]\tvalidation_0-merror:0.10081\n",
      "[206]\tvalidation_0-merror:0.10113\n",
      "[207]\tvalidation_0-merror:0.10113\n",
      "[208]\tvalidation_0-merror:0.10177\n",
      "[209]\tvalidation_0-merror:0.10081\n",
      "[210]\tvalidation_0-merror:0.10081\n",
      "[211]\tvalidation_0-merror:0.10113\n",
      "[212]\tvalidation_0-merror:0.10145\n",
      "[213]\tvalidation_0-merror:0.10177\n",
      "[214]\tvalidation_0-merror:0.10177\n",
      "[215]\tvalidation_0-merror:0.10177\n",
      "[216]\tvalidation_0-merror:0.10177\n",
      "[217]\tvalidation_0-merror:0.10145\n",
      "[218]\tvalidation_0-merror:0.10145\n",
      "[219]\tvalidation_0-merror:0.10081\n",
      "[220]\tvalidation_0-merror:0.10081\n",
      "[221]\tvalidation_0-merror:0.10081\n",
      "[222]\tvalidation_0-merror:0.10113\n",
      "[223]\tvalidation_0-merror:0.10113\n",
      "[224]\tvalidation_0-merror:0.10048\n",
      "[225]\tvalidation_0-merror:0.10081\n",
      "[226]\tvalidation_0-merror:0.10081\n",
      "[227]\tvalidation_0-merror:0.10081\n",
      "[228]\tvalidation_0-merror:0.10113\n",
      "[229]\tvalidation_0-merror:0.10081\n",
      "[230]\tvalidation_0-merror:0.10081\n",
      "[231]\tvalidation_0-merror:0.10081\n",
      "[232]\tvalidation_0-merror:0.10016\n",
      "[233]\tvalidation_0-merror:0.10048\n",
      "[234]\tvalidation_0-merror:0.10081\n",
      "[235]\tvalidation_0-merror:0.10048\n",
      "[236]\tvalidation_0-merror:0.10081\n",
      "[237]\tvalidation_0-merror:0.10048\n",
      "[238]\tvalidation_0-merror:0.10016\n",
      "[239]\tvalidation_0-merror:0.10048\n",
      "[240]\tvalidation_0-merror:0.10048\n",
      "[241]\tvalidation_0-merror:0.10016\n"
     ]
    },
    {
     "name": "stdout",
     "output_type": "stream",
     "text": [
      "[242]\tvalidation_0-merror:0.10016\n",
      "[243]\tvalidation_0-merror:0.09984\n",
      "[244]\tvalidation_0-merror:0.10016\n",
      "[245]\tvalidation_0-merror:0.09984\n",
      "[246]\tvalidation_0-merror:0.10016\n",
      "[247]\tvalidation_0-merror:0.09984\n",
      "[248]\tvalidation_0-merror:0.09984\n",
      "[249]\tvalidation_0-merror:0.09984\n",
      "[250]\tvalidation_0-merror:0.09984\n",
      "[251]\tvalidation_0-merror:0.09984\n",
      "[252]\tvalidation_0-merror:0.09952\n",
      "[253]\tvalidation_0-merror:0.10016\n",
      "[254]\tvalidation_0-merror:0.10016\n",
      "[255]\tvalidation_0-merror:0.09952\n",
      "[256]\tvalidation_0-merror:0.09984\n",
      "[257]\tvalidation_0-merror:0.09920\n",
      "[258]\tvalidation_0-merror:0.09952\n",
      "[259]\tvalidation_0-merror:0.09952\n",
      "[260]\tvalidation_0-merror:0.09887\n",
      "[261]\tvalidation_0-merror:0.09952\n",
      "[262]\tvalidation_0-merror:0.09920\n",
      "[263]\tvalidation_0-merror:0.09791\n",
      "[264]\tvalidation_0-merror:0.09759\n",
      "[265]\tvalidation_0-merror:0.09759\n",
      "[266]\tvalidation_0-merror:0.09791\n",
      "[267]\tvalidation_0-merror:0.09791\n",
      "[268]\tvalidation_0-merror:0.09726\n",
      "[269]\tvalidation_0-merror:0.09726\n",
      "[270]\tvalidation_0-merror:0.09759\n",
      "[271]\tvalidation_0-merror:0.09759\n",
      "[272]\tvalidation_0-merror:0.09726\n",
      "[273]\tvalidation_0-merror:0.09662\n",
      "[274]\tvalidation_0-merror:0.09630\n",
      "[275]\tvalidation_0-merror:0.09662\n",
      "[276]\tvalidation_0-merror:0.09662\n",
      "[277]\tvalidation_0-merror:0.09662\n",
      "[278]\tvalidation_0-merror:0.09694\n",
      "[279]\tvalidation_0-merror:0.09662\n",
      "[280]\tvalidation_0-merror:0.09726\n",
      "[281]\tvalidation_0-merror:0.09694\n",
      "[282]\tvalidation_0-merror:0.09759\n",
      "[283]\tvalidation_0-merror:0.09726\n",
      "[284]\tvalidation_0-merror:0.09694\n",
      "[285]\tvalidation_0-merror:0.09597\n",
      "[286]\tvalidation_0-merror:0.09662\n",
      "[287]\tvalidation_0-merror:0.09597\n",
      "[288]\tvalidation_0-merror:0.09597\n",
      "[289]\tvalidation_0-merror:0.09662\n",
      "[290]\tvalidation_0-merror:0.09630\n",
      "[291]\tvalidation_0-merror:0.09597\n",
      "[292]\tvalidation_0-merror:0.09597\n",
      "[293]\tvalidation_0-merror:0.09597\n",
      "[294]\tvalidation_0-merror:0.09565\n",
      "[295]\tvalidation_0-merror:0.09565\n",
      "[296]\tvalidation_0-merror:0.09565\n",
      "[297]\tvalidation_0-merror:0.09565\n",
      "[298]\tvalidation_0-merror:0.09597\n",
      "[299]\tvalidation_0-merror:0.09533\n",
      "[300]\tvalidation_0-merror:0.09501\n",
      "[301]\tvalidation_0-merror:0.09533\n",
      "[302]\tvalidation_0-merror:0.09565\n",
      "[303]\tvalidation_0-merror:0.09565\n",
      "[304]\tvalidation_0-merror:0.09662\n",
      "[305]\tvalidation_0-merror:0.09630\n",
      "[306]\tvalidation_0-merror:0.09565\n",
      "[307]\tvalidation_0-merror:0.09597\n",
      "[308]\tvalidation_0-merror:0.09630\n",
      "[309]\tvalidation_0-merror:0.09662\n",
      "[310]\tvalidation_0-merror:0.09565\n",
      "[311]\tvalidation_0-merror:0.09565\n",
      "[312]\tvalidation_0-merror:0.09565\n",
      "[313]\tvalidation_0-merror:0.09565\n",
      "[314]\tvalidation_0-merror:0.09565\n",
      "[315]\tvalidation_0-merror:0.09597\n",
      "[316]\tvalidation_0-merror:0.09565\n",
      "[317]\tvalidation_0-merror:0.09565\n",
      "[318]\tvalidation_0-merror:0.09597\n",
      "[319]\tvalidation_0-merror:0.09630\n",
      "[320]\tvalidation_0-merror:0.09630\n"
     ]
    }
   ],
   "source": [
    "bst = model.fit(X_train, y_train, \n",
    "                eval_set=[\n",
    "                    (X_val, y_val),\n",
    "                ], \n",
    "                early_stopping_rounds=20,\n",
    "                verbose=True, \n",
    "                #sample_weight=classes_weights,\n",
    "               ) #"
   ]
  },
  {
   "cell_type": "code",
   "execution_count": 34,
   "id": "b354488e",
   "metadata": {},
   "outputs": [
    {
     "name": "stdout",
     "output_type": "stream",
     "text": [
      "                                                      precision    recall  f1-score   support\n",
      "\n",
      "      jet-mode radio AGN/low-excitation radio galaxy     0.8676    0.7763    0.8194      2043\n",
      "quasar-like radio AGN / high-excitation radio galaxy     0.6154    0.3380    0.4364       213\n",
      "                                     radio-quiet AGN     0.7683    0.6606    0.7104      1099\n",
      "                                 star-forming galaxy     0.9148    0.9617    0.9377      9062\n",
      "\n",
      "                                            accuracy                         0.8939     12417\n",
      "                                           macro avg     0.7915    0.6842    0.7260     12417\n",
      "                                        weighted avg     0.8889    0.8939    0.8895     12417\n",
      "\n"
     ]
    }
   ],
   "source": [
    "y_pred = model.predict(X_test)\n",
    "print(classification_report(y_test, y_pred, target_names=labels, digits=4))"
   ]
  },
  {
   "cell_type": "markdown",
   "id": "9e4fa76d",
   "metadata": {},
   "source": [
    "# Now try rescaling to MIGHTEE size"
   ]
  },
  {
   "cell_type": "code",
   "execution_count": 68,
   "id": "6bee2743",
   "metadata": {},
   "outputs": [],
   "source": [
    "LERG = y[y['Classification']==0].sample(924).index\n",
    "HERG = y[y['Classification']==1].sample(246).index\n",
    "RQ = y[y['Classification']==2].sample(410).index\n",
    "SFG = y[y['Classification']==3].sample(2790).index\n",
    "\n",
    "all_index = LERG.append([HERG, RQ, SFG])"
   ]
  },
  {
   "cell_type": "code",
   "execution_count": 69,
   "id": "143e815d",
   "metadata": {},
   "outputs": [],
   "source": [
    "small_y = y.iloc[all_index]\n",
    "small_X = X.iloc[all_index]"
   ]
  },
  {
   "cell_type": "code",
   "execution_count": 70,
   "id": "9722113b",
   "metadata": {},
   "outputs": [
    {
     "data": {
      "text/plain": [
       "4370"
      ]
     },
     "execution_count": 70,
     "metadata": {},
     "output_type": "execute_result"
    }
   ],
   "source": [
    "len(small_y)"
   ]
  },
  {
   "cell_type": "code",
   "execution_count": 74,
   "id": "bd05431a",
   "metadata": {
    "scrolled": true
   },
   "outputs": [],
   "source": [
    "X_train, X_test, y_train, y_test = train_test_split(small_X, small_y['Classification'], train_size=0.8, stratify=small_y['Classification'], random_state=42)\n",
    "X_test, X_val, y_test, y_val = train_test_split(X_test, y_test, train_size=0.8, stratify=y_test, random_state=42)"
   ]
  },
  {
   "cell_type": "code",
   "execution_count": 104,
   "id": "469fa51e",
   "metadata": {},
   "outputs": [],
   "source": [
    "model = XGBClassifier(use_label_encoder=False, \n",
    "                      max_depth=6, \n",
    "                      #reg_alpha=1,   \n",
    "                      #min_child_weight=0.5, \n",
    "                      reg_lambda=5,\n",
    "                      #subsample=0.5,\n",
    "                      eta=0.05, # Remember to reduce to 0.1 or 0.05 for better results\n",
    "                      tree_method='hist', # exact is more precies, but this is much faster\n",
    "                      gpu_id=1,\n",
    "                      objective='multi:softprob',\n",
    "                      eval_metric =['merror'],\n",
    "                      nthread=8,\n",
    "                      n_estimators=500,\n",
    "                      )"
   ]
  },
  {
   "cell_type": "code",
   "execution_count": 105,
   "id": "258ac860",
   "metadata": {
    "scrolled": true
   },
   "outputs": [
    {
     "name": "stdout",
     "output_type": "stream",
     "text": [
      "[0]\tvalidation_0-merror:0.19429\n",
      "[1]\tvalidation_0-merror:0.18857\n",
      "[2]\tvalidation_0-merror:0.17143\n",
      "[3]\tvalidation_0-merror:0.17714\n",
      "[4]\tvalidation_0-merror:0.16000\n",
      "[5]\tvalidation_0-merror:0.17143\n",
      "[6]\tvalidation_0-merror:0.17143\n",
      "[7]\tvalidation_0-merror:0.17143\n",
      "[8]\tvalidation_0-merror:0.16571\n",
      "[9]\tvalidation_0-merror:0.17143\n",
      "[10]\tvalidation_0-merror:0.17143\n",
      "[11]\tvalidation_0-merror:0.17714\n",
      "[12]\tvalidation_0-merror:0.17143\n",
      "[13]\tvalidation_0-merror:0.17143\n",
      "[14]\tvalidation_0-merror:0.17143\n",
      "[15]\tvalidation_0-merror:0.17143\n",
      "[16]\tvalidation_0-merror:0.16571\n",
      "[17]\tvalidation_0-merror:0.17143\n",
      "[18]\tvalidation_0-merror:0.16000\n",
      "[19]\tvalidation_0-merror:0.16000\n",
      "[20]\tvalidation_0-merror:0.16000\n",
      "[21]\tvalidation_0-merror:0.16571\n",
      "[22]\tvalidation_0-merror:0.16000\n",
      "[23]\tvalidation_0-merror:0.14857\n",
      "[24]\tvalidation_0-merror:0.14857\n",
      "[25]\tvalidation_0-merror:0.15429\n",
      "[26]\tvalidation_0-merror:0.15429\n",
      "[27]\tvalidation_0-merror:0.15429\n",
      "[28]\tvalidation_0-merror:0.15429\n",
      "[29]\tvalidation_0-merror:0.15429\n",
      "[30]\tvalidation_0-merror:0.15429\n",
      "[31]\tvalidation_0-merror:0.14857\n",
      "[32]\tvalidation_0-merror:0.14857\n",
      "[33]\tvalidation_0-merror:0.14857\n",
      "[34]\tvalidation_0-merror:0.14286\n",
      "[35]\tvalidation_0-merror:0.13714\n",
      "[36]\tvalidation_0-merror:0.13714\n",
      "[37]\tvalidation_0-merror:0.13143\n",
      "[38]\tvalidation_0-merror:0.13143\n",
      "[39]\tvalidation_0-merror:0.13143\n",
      "[40]\tvalidation_0-merror:0.13143\n",
      "[41]\tvalidation_0-merror:0.13143\n",
      "[42]\tvalidation_0-merror:0.13714\n",
      "[43]\tvalidation_0-merror:0.13714\n",
      "[44]\tvalidation_0-merror:0.13714\n",
      "[45]\tvalidation_0-merror:0.14286\n",
      "[46]\tvalidation_0-merror:0.14286\n",
      "[47]\tvalidation_0-merror:0.13714\n",
      "[48]\tvalidation_0-merror:0.13714\n",
      "[49]\tvalidation_0-merror:0.13714\n",
      "[50]\tvalidation_0-merror:0.13714\n",
      "[51]\tvalidation_0-merror:0.13714\n",
      "[52]\tvalidation_0-merror:0.13714\n",
      "[53]\tvalidation_0-merror:0.13714\n",
      "[54]\tvalidation_0-merror:0.13714\n",
      "[55]\tvalidation_0-merror:0.13714\n",
      "[56]\tvalidation_0-merror:0.14286\n",
      "[57]\tvalidation_0-merror:0.14286\n"
     ]
    }
   ],
   "source": [
    "bst = model.fit(X_train, y_train, \n",
    "                eval_set=[\n",
    "                    (X_val, y_val),\n",
    "                ], \n",
    "                early_stopping_rounds=20,\n",
    "                verbose=True, \n",
    "                #sample_weight=classes_weights,\n",
    "               ) #"
   ]
  },
  {
   "cell_type": "code",
   "execution_count": 106,
   "id": "0aa49576",
   "metadata": {},
   "outputs": [
    {
     "name": "stdout",
     "output_type": "stream",
     "text": [
      "                                                      precision    recall  f1-score   support\n",
      "\n",
      "      jet-mode radio AGN/low-excitation radio galaxy     0.8346    0.7500    0.7900       148\n",
      "quasar-like radio AGN / high-excitation radio galaxy     0.6957    0.4103    0.5161        39\n",
      "                                     radio-quiet AGN     0.6905    0.4394    0.5370        66\n",
      "                                 star-forming galaxy     0.8503    0.9552    0.8997       446\n",
      "\n",
      "                                            accuracy                         0.8326       699\n",
      "                                           macro avg     0.7678    0.6387    0.6857       699\n",
      "                                        weighted avg     0.8233    0.8326    0.8208       699\n",
      "\n"
     ]
    }
   ],
   "source": [
    "y_pred = model.predict(X_test)\n",
    "print(classification_report(y_test, y_pred, target_names=labels, digits=4))"
   ]
  }
 ],
 "metadata": {
  "@webio": {
   "lastCommId": null,
   "lastKernelId": null
  },
  "kernelspec": {
   "display_name": "Anaconda3 - 2021.11",
   "language": "python",
   "name": "python3-2021.11"
  },
  "language_info": {
   "codemirror_mode": {
    "name": "ipython",
    "version": 3
   },
   "file_extension": ".py",
   "mimetype": "text/x-python",
   "name": "python",
   "nbconvert_exporter": "python",
   "pygments_lexer": "ipython3",
   "version": "3.9.7"
  },
  "latex_envs": {
   "LaTeX_envs_menu_present": true,
   "autoclose": false,
   "autocomplete": true,
   "bibliofile": "biblio.bib",
   "cite_by": "apalike",
   "current_citInitial": 1,
   "eqLabelWithNumbers": true,
   "eqNumInitial": 1,
   "hotkeys": {
    "equation": "Ctrl-E",
    "itemize": "Ctrl-I"
   },
   "labels_anchors": false,
   "latex_user_defs": false,
   "report_style_numbering": false,
   "user_envs_cfg": false
  }
 },
 "nbformat": 4,
 "nbformat_minor": 5
}
