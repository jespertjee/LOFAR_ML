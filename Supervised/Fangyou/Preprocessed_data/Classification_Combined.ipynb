{
 "cells": [
  {
   "cell_type": "code",
   "execution_count": 1,
   "id": "fca4f926",
   "metadata": {},
   "outputs": [],
   "source": [
    "import pandas as pd\n",
    "import numpy as np\n",
    "from sklearn.impute import SimpleImputer\n",
    "from sklearn.model_selection import train_test_split, GridSearchCV, cross_val_score\n",
    "from sklearn.preprocessing import StandardScaler, OneHotEncoder, LabelEncoder, OrdinalEncoder, MinMaxScaler, RobustScaler, MaxAbsScaler\n",
    "from sklearn.ensemble import RandomForestClassifier\n",
    "from sklearn.metrics import accuracy_score, classification_report\n",
    "from sklearn.decomposition import PCA\n",
    "from sklearn.utils.class_weight import compute_class_weight\n",
    "\n",
    "from sklearn.metrics import confusion_matrix, ConfusionMatrixDisplay\n",
    "import matplotlib.pyplot as plt\n",
    "\n",
    "from xgboost import XGBClassifier\n",
    "import xgboost as xgb\n",
    "\n",
    "import tensorflow as tf\n",
    "from tensorflow import keras\n",
    "from tensorflow.keras import layers\n",
    "from keras.models import Sequential\n",
    "from keras.layers import Dense"
   ]
  },
  {
   "cell_type": "code",
   "execution_count": 2,
   "id": "cbbf3730",
   "metadata": {},
   "outputs": [],
   "source": [
    "\"\"\"\n",
    "features_num = [\n",
    "    'Total_flux', 'Peak_flux', \n",
    "       'NUV_flux_corr', 'u_flux_corr', 'Bw_flux_corr', 'R_flux_corr',\n",
    "       'I_flux_corr', 'z_flux_corr', 'z_Subaru_flux_corr', 'y_flux_corr',\n",
    "       'J_flux_corr', 'H_flux_corr', 'K_flux_corr', 'Ks_flux_corr',\n",
    "       'ch1_flux_corr', 'ch2_flux_corr', 'ch3_flux_corr', 'ch4_flux_corr',\n",
    "       'F_MIPS_24', 'F_PACS_100', 'F_PACS_160', 'F_SPIRE_250', 'F_SPIRE_350',\n",
    "       'F_SPIRE_500', 'Z_BEST', 'Mass_median', 'Mass_l68', 'Mass_u68',\n",
    "        'z_rcs_flux_corr', 'z_hsc_flux_corr', 'i_hsc_flux_corr',\n",
    "       'i_rcs_flux_corr', 'i_flux_corr', 'y_hsc_flux_corr', 'r_flux_corr',\n",
    "       'r_hsc_flux_corr', 'r_rcs_flux_corr', 'ch1_swire_flux_corr',\n",
    "       'ch2_swire_flux_corr', 'ch3_swire_flux_corr', 'ch4_swire_flux_corr',\n",
    "       'ch1_servs_flux_corr', 'ch2_servs_flux_corr', 'g_flux_corr',\n",
    "       'g_hsc_flux_corr', 'nb921_hsc_flux_corr', 'g_rcs_flux_corr'\n",
    "]\n",
    "\"\"\"\n",
    "features_num = [\n",
    "    'Total_flux', 'Peak_flux', \n",
    "       'NUV_flux_corr', 'u_flux_corr', 'Bw_flux_corr', 'R_flux_corr',\n",
    "       'I_flux_corr', 'z_flux_corr', 'z_Subaru_flux_corr', 'y_flux_corr',\n",
    "       'J_flux_corr', 'H_flux_corr', 'K_flux_corr', 'Ks_flux_corr',\n",
    "       'ch1_flux_corr', 'ch2_flux_corr', 'ch3_flux_corr', 'ch4_flux_corr',\n",
    "       'F_MIPS_24', 'F_PACS_100', 'F_PACS_160', 'F_SPIRE_250', 'F_SPIRE_350',\n",
    "       'F_SPIRE_500', 'Z_BEST', \n",
    "        'z_rcs_flux_corr', 'z_hsc_flux_corr', 'i_hsc_flux_corr',\n",
    "       'i_rcs_flux_corr', 'i_flux_corr', 'y_hsc_flux_corr', 'r_flux_corr',\n",
    "       'r_hsc_flux_corr', 'r_rcs_flux_corr', 'ch1_swire_flux_corr',\n",
    "       'ch2_swire_flux_corr', 'ch3_swire_flux_corr', 'ch4_swire_flux_corr',\n",
    "       'ch1_servs_flux_corr', 'ch2_servs_flux_corr', 'g_flux_corr',\n",
    "       'g_hsc_flux_corr', 'nb921_hsc_flux_corr', 'g_rcs_flux_corr'\n",
    "]\n",
    "y_column = \"Classification\"\n",
    "\n",
    "classes = ['jet-mode radio AGN/low-excitation radio galaxy', 'quasar-like radio AGN / high-excitation radio galaxy', \n",
    "           'radio-quiet AGN', 'star-forming galaxy']"
   ]
  },
  {
   "cell_type": "code",
   "execution_count": null,
   "id": "f32f2264",
   "metadata": {},
   "outputs": [],
   "source": []
  },
  {
   "cell_type": "code",
   "execution_count": 3,
   "id": "a6906da4",
   "metadata": {},
   "outputs": [],
   "source": [
    "data = pd.read_csv(\"../../../Data/Fangyou_data/Cleaned/combined_filled_preprocessed.csv\")"
   ]
  },
  {
   "cell_type": "code",
   "execution_count": 4,
   "id": "d4521d7b",
   "metadata": {},
   "outputs": [
    {
     "data": {
      "text/plain": [
       "Index(['Source_Name', 'Total_flux', 'Peak_flux', 'S_Code', 'EBV',\n",
       "       'FUV_flux_corr', 'NUV_flux_corr', 'u_flux_corr', 'Bw_flux_corr',\n",
       "       'R_flux_corr', 'I_flux_corr', 'z_flux_corr', 'z_Subaru_flux_corr',\n",
       "       'y_flux_corr', 'J_flux_corr', 'H_flux_corr', 'K_flux_corr',\n",
       "       'Ks_flux_corr', 'ch1_flux_corr', 'ch2_flux_corr', 'ch3_flux_corr',\n",
       "       'ch4_flux_corr', 'F_MIPS_24', 'F_PACS_100', 'F_PACS_160', 'F_SPIRE_250',\n",
       "       'F_SPIRE_350', 'F_SPIRE_500', 'Z_BEST', 'Mass_median', 'Mass_l68',\n",
       "       'Mass_u68', 'Source', 'AGN_final', 'RadioAGN_final', 'Classification',\n",
       "       'Radio_excess', 'AGNfrac_af', 'AGNfrac_af_16', 'AGNfrac_cg_s_16',\n",
       "       'Xray', 'Opt_spec', 'IRAGN', 'Extended_radio', 'z_rcs_flux_corr',\n",
       "       'z_hsc_flux_corr', 'i_hsc_flux_corr', 'i_rcs_flux_corr', 'i_flux_corr',\n",
       "       'y_hsc_flux_corr', 'r_flux_corr', 'r_hsc_flux_corr', 'r_rcs_flux_corr',\n",
       "       'ch1_swire_flux_corr', 'ch2_swire_flux_corr', 'ch3_swire_flux_corr',\n",
       "       'ch4_swire_flux_corr', 'ch1_servs_flux_corr', 'ch2_servs_flux_corr',\n",
       "       'g_flux_corr', 'g_hsc_flux_corr', 'nb921_hsc_flux_corr',\n",
       "       'g_rcs_flux_corr'],\n",
       "      dtype='object')"
      ]
     },
     "execution_count": 4,
     "metadata": {},
     "output_type": "execute_result"
    }
   ],
   "source": [
    "data.columns"
   ]
  },
  {
   "cell_type": "code",
   "execution_count": 5,
   "id": "2774538d",
   "metadata": {},
   "outputs": [
    {
     "data": {
      "text/plain": [
       "Source_Name            0\n",
       "Total_flux             0\n",
       "Peak_flux              0\n",
       "S_Code                 0\n",
       "EBV                    0\n",
       "                      ..\n",
       "ch2_servs_flux_corr    0\n",
       "g_flux_corr            0\n",
       "g_hsc_flux_corr        0\n",
       "nb921_hsc_flux_corr    0\n",
       "g_rcs_flux_corr        0\n",
       "Length: 63, dtype: int64"
      ]
     },
     "execution_count": 5,
     "metadata": {},
     "output_type": "execute_result"
    }
   ],
   "source": [
    "data.isna().sum()"
   ]
  },
  {
   "cell_type": "code",
   "execution_count": 58,
   "id": "7fbd1232",
   "metadata": {},
   "outputs": [],
   "source": [
    "X = data[features_num]\n",
    "y = data[np.append(y_column, ['Xray', 'Opt_spec', 'Extended_radio', 'IRAGN'])]"
   ]
  },
  {
   "cell_type": "code",
   "execution_count": null,
   "id": "e5a4bff2",
   "metadata": {},
   "outputs": [],
   "source": []
  },
  {
   "cell_type": "code",
   "execution_count": null,
   "id": "59cd4a5b",
   "metadata": {},
   "outputs": [],
   "source": []
  },
  {
   "cell_type": "code",
   "execution_count": null,
   "id": "bcf1526a",
   "metadata": {},
   "outputs": [],
   "source": []
  },
  {
   "cell_type": "code",
   "execution_count": 62,
   "id": "11cc87a3",
   "metadata": {},
   "outputs": [
    {
     "name": "stderr",
     "output_type": "stream",
     "text": [
      "C:\\Users\\jespe\\AppData\\Local\\Temp\\ipykernel_22184\\2925652128.py:3: SettingWithCopyWarning: \n",
      "A value is trying to be set on a copy of a slice from a DataFrame.\n",
      "Try using .loc[row_indexer,col_indexer] = value instead\n",
      "\n",
      "See the caveats in the documentation: https://pandas.pydata.org/pandas-docs/stable/user_guide/indexing.html#returning-a-view-versus-a-copy\n",
      "  y[y_column] = le.fit_transform(y[y_column])\n"
     ]
    }
   ],
   "source": [
    "le = LabelEncoder()\n",
    "labels = np.unique(y[y_column].astype(str))\n",
    "y[y_column] = le.fit_transform(y[y_column])"
   ]
  },
  {
   "cell_type": "code",
   "execution_count": 63,
   "id": "8216a47c",
   "metadata": {},
   "outputs": [],
   "source": [
    "# Creating training and testing set\n",
    "X_train, X_test, y_train, y_test = train_test_split(X, y, train_size=0.8, random_state=42)\n",
    "\n",
    "y_train_flags = y_train[['Xray', 'Opt_spec', 'Extended_radio', 'IRAGN']]\n",
    "y_test_flags = y_test[['Xray', 'Opt_spec', 'Extended_radio', 'IRAGN']]\n",
    "\n",
    "y_train = y_train.drop(columns=['Xray', 'Opt_spec', 'Extended_radio', 'IRAGN'])\n",
    "y_test = y_test.drop(columns=['Xray', 'Opt_spec', 'Extended_radio', 'IRAGN'])"
   ]
  },
  {
   "cell_type": "code",
   "execution_count": null,
   "id": "233e39fc",
   "metadata": {},
   "outputs": [],
   "source": []
  },
  {
   "cell_type": "code",
   "execution_count": 64,
   "id": "e969635a",
   "metadata": {},
   "outputs": [],
   "source": [
    "def one_hot(df, columns):\n",
    "    \"\"\"\n",
    "    One-hot encoding a certain column in a dataframe\n",
    "    \"\"\"\n",
    "    one_hot = pd.get_dummies(df[columns])\n",
    "    df = df.drop(columns=columns, axis = 1)\n",
    "    df = df.join(one_hot)\n",
    "    return df"
   ]
  },
  {
   "cell_type": "code",
   "execution_count": 65,
   "id": "bafd882e",
   "metadata": {},
   "outputs": [],
   "source": [
    "# Standard scaling the numerical data\n",
    "scaler = MinMaxScaler()\n",
    "\n",
    "# Transforming the categorical data\n",
    "X_train[features_num] = scaler.fit_transform(X_train[features_num])\n",
    "X_test[features_num] = scaler.transform(X_test[features_num])"
   ]
  },
  {
   "cell_type": "code",
   "execution_count": 66,
   "id": "c40ac41b",
   "metadata": {},
   "outputs": [],
   "source": [
    "from sklearn.utils import class_weight\n",
    "classes_weights = class_weight.compute_sample_weight(\n",
    "    class_weight='balanced',\n",
    "    y=y_train\n",
    ")"
   ]
  },
  {
   "cell_type": "markdown",
   "id": "0057ca91",
   "metadata": {},
   "source": [
    "# Random forest"
   ]
  },
  {
   "cell_type": "code",
   "execution_count": 221,
   "id": "ee43fe00",
   "metadata": {},
   "outputs": [
    {
     "data": {
      "text/html": [
       "<style>#sk-container-id-14 {color: black;background-color: white;}#sk-container-id-14 pre{padding: 0;}#sk-container-id-14 div.sk-toggleable {background-color: white;}#sk-container-id-14 label.sk-toggleable__label {cursor: pointer;display: block;width: 100%;margin-bottom: 0;padding: 0.3em;box-sizing: border-box;text-align: center;}#sk-container-id-14 label.sk-toggleable__label-arrow:before {content: \"▸\";float: left;margin-right: 0.25em;color: #696969;}#sk-container-id-14 label.sk-toggleable__label-arrow:hover:before {color: black;}#sk-container-id-14 div.sk-estimator:hover label.sk-toggleable__label-arrow:before {color: black;}#sk-container-id-14 div.sk-toggleable__content {max-height: 0;max-width: 0;overflow: hidden;text-align: left;background-color: #f0f8ff;}#sk-container-id-14 div.sk-toggleable__content pre {margin: 0.2em;color: black;border-radius: 0.25em;background-color: #f0f8ff;}#sk-container-id-14 input.sk-toggleable__control:checked~div.sk-toggleable__content {max-height: 200px;max-width: 100%;overflow: auto;}#sk-container-id-14 input.sk-toggleable__control:checked~label.sk-toggleable__label-arrow:before {content: \"▾\";}#sk-container-id-14 div.sk-estimator input.sk-toggleable__control:checked~label.sk-toggleable__label {background-color: #d4ebff;}#sk-container-id-14 div.sk-label input.sk-toggleable__control:checked~label.sk-toggleable__label {background-color: #d4ebff;}#sk-container-id-14 input.sk-hidden--visually {border: 0;clip: rect(1px 1px 1px 1px);clip: rect(1px, 1px, 1px, 1px);height: 1px;margin: -1px;overflow: hidden;padding: 0;position: absolute;width: 1px;}#sk-container-id-14 div.sk-estimator {font-family: monospace;background-color: #f0f8ff;border: 1px dotted black;border-radius: 0.25em;box-sizing: border-box;margin-bottom: 0.5em;}#sk-container-id-14 div.sk-estimator:hover {background-color: #d4ebff;}#sk-container-id-14 div.sk-parallel-item::after {content: \"\";width: 100%;border-bottom: 1px solid gray;flex-grow: 1;}#sk-container-id-14 div.sk-label:hover label.sk-toggleable__label {background-color: #d4ebff;}#sk-container-id-14 div.sk-serial::before {content: \"\";position: absolute;border-left: 1px solid gray;box-sizing: border-box;top: 0;bottom: 0;left: 50%;z-index: 0;}#sk-container-id-14 div.sk-serial {display: flex;flex-direction: column;align-items: center;background-color: white;padding-right: 0.2em;padding-left: 0.2em;position: relative;}#sk-container-id-14 div.sk-item {position: relative;z-index: 1;}#sk-container-id-14 div.sk-parallel {display: flex;align-items: stretch;justify-content: center;background-color: white;position: relative;}#sk-container-id-14 div.sk-item::before, #sk-container-id-14 div.sk-parallel-item::before {content: \"\";position: absolute;border-left: 1px solid gray;box-sizing: border-box;top: 0;bottom: 0;left: 50%;z-index: -1;}#sk-container-id-14 div.sk-parallel-item {display: flex;flex-direction: column;z-index: 1;position: relative;background-color: white;}#sk-container-id-14 div.sk-parallel-item:first-child::after {align-self: flex-end;width: 50%;}#sk-container-id-14 div.sk-parallel-item:last-child::after {align-self: flex-start;width: 50%;}#sk-container-id-14 div.sk-parallel-item:only-child::after {width: 0;}#sk-container-id-14 div.sk-dashed-wrapped {border: 1px dashed gray;margin: 0 0.4em 0.5em 0.4em;box-sizing: border-box;padding-bottom: 0.4em;background-color: white;}#sk-container-id-14 div.sk-label label {font-family: monospace;font-weight: bold;display: inline-block;line-height: 1.2em;}#sk-container-id-14 div.sk-label-container {text-align: center;}#sk-container-id-14 div.sk-container {/* jupyter's `normalize.less` sets `[hidden] { display: none; }` but bootstrap.min.css set `[hidden] { display: none !important; }` so we also need the `!important` here to be able to override the default hidden behavior on the sphinx rendered scikit-learn.org. See: https://github.com/scikit-learn/scikit-learn/issues/21755 */display: inline-block !important;position: relative;}#sk-container-id-14 div.sk-text-repr-fallback {display: none;}</style><div id=\"sk-container-id-14\" class=\"sk-top-container\"><div class=\"sk-text-repr-fallback\"><pre>RandomForestClassifier(class_weight={0: 3, 1: 1000, 2: 1.5, 3: 0.5},\n",
       "                       max_features=None, n_estimators=200, n_jobs=-1,\n",
       "                       random_state=42)</pre><b>In a Jupyter environment, please rerun this cell to show the HTML representation or trust the notebook. <br />On GitHub, the HTML representation is unable to render, please try loading this page with nbviewer.org.</b></div><div class=\"sk-container\" hidden><div class=\"sk-item\"><div class=\"sk-estimator sk-toggleable\"><input class=\"sk-toggleable__control sk-hidden--visually\" id=\"sk-estimator-id-14\" type=\"checkbox\" checked><label for=\"sk-estimator-id-14\" class=\"sk-toggleable__label sk-toggleable__label-arrow\">RandomForestClassifier</label><div class=\"sk-toggleable__content\"><pre>RandomForestClassifier(class_weight={0: 3, 1: 1000, 2: 1.5, 3: 0.5},\n",
       "                       max_features=None, n_estimators=200, n_jobs=-1,\n",
       "                       random_state=42)</pre></div></div></div></div></div>"
      ],
      "text/plain": [
       "RandomForestClassifier(class_weight={0: 3, 1: 1000, 2: 1.5, 3: 0.5},\n",
       "                       max_features=None, n_estimators=200, n_jobs=-1,\n",
       "                       random_state=42)"
      ]
     },
     "execution_count": 221,
     "metadata": {},
     "output_type": "execute_result"
    }
   ],
   "source": [
    "clf = RandomForestClassifier(n_estimators=200, \n",
    "                             max_features=None,\n",
    "                             n_jobs=-1, \n",
    "                             class_weight={0: 3, 1: 1000, 2: 1.5, 3: 0.5},\n",
    "                             random_state=42)\n",
    "clf.fit(X_train, y_train)"
   ]
  },
  {
   "cell_type": "code",
   "execution_count": 195,
   "id": "0227ae9c",
   "metadata": {},
   "outputs": [],
   "source": [
    "cv_score = cross_val_score(clf, X_train, y_train, cv=32, n_jobs=-1, scoring=\"accuracy\")"
   ]
  },
  {
   "cell_type": "code",
   "execution_count": 196,
   "id": "536922d0",
   "metadata": {},
   "outputs": [
    {
     "name": "stdout",
     "output_type": "stream",
     "text": [
      "Cross-validated Accuracy: 0.83311 ± 0.01399\n"
     ]
    }
   ],
   "source": [
    "print(\"Cross-validated Accuracy:\", round(np.mean(cv_score), 5), \"±\", round(np.std(cv_score), 5))"
   ]
  },
  {
   "cell_type": "code",
   "execution_count": 222,
   "id": "88978b9e",
   "metadata": {},
   "outputs": [
    {
     "name": "stdout",
     "output_type": "stream",
     "text": [
      "                                                      precision    recall  f1-score   support\n",
      "\n",
      "      jet-mode radio AGN/low-excitation radio galaxy     0.8109    0.5498    0.6553      2581\n",
      "quasar-like radio AGN / high-excitation radio galaxy     0.4828    0.1556    0.2353       270\n",
      "                                     radio-quiet AGN     0.7609    0.5140    0.6136      1356\n",
      "                                 star-forming galaxy     0.8531    0.9627    0.9046     11315\n",
      "\n",
      "                                            accuracy                         0.8408     15522\n",
      "                                           macro avg     0.7269    0.5455    0.6022     15522\n",
      "                                        weighted avg     0.8316    0.8408    0.8261     15522\n",
      "\n"
     ]
    }
   ],
   "source": [
    "y_pred = clf.predict(X_test)\n",
    "print(classification_report(y_test, y_pred, target_names=labels, digits=4))"
   ]
  },
  {
   "cell_type": "code",
   "execution_count": null,
   "id": "643c7c76",
   "metadata": {},
   "outputs": [],
   "source": []
  },
  {
   "cell_type": "code",
   "execution_count": 77,
   "id": "64ef5975",
   "metadata": {},
   "outputs": [
    {
     "data": {
      "text/plain": [
       "[]"
      ]
     },
     "execution_count": 77,
     "metadata": {},
     "output_type": "execute_result"
    },
    {
     "data": {
      "image/png": "[encoded data removed]",
      "text/plain": [
       "<Figure size 432x288 with 2 Axes>"
      ]
     },
     "metadata": {
      "needs_background": "light"
     },
     "output_type": "display_data"
    }
   ],
   "source": [
    "cm = confusion_matrix(y_test, y_pred)\n",
    "disp = ConfusionMatrixDisplay(confusion_matrix=cm, display_labels=labels)\n",
    "disp.plot()\n",
    "plt.xticks(rotation = 90)\n",
    "plt.plot()"
   ]
  },
  {
   "cell_type": "code",
   "execution_count": null,
   "id": "3c9c27b2",
   "metadata": {},
   "outputs": [],
   "source": []
  },
  {
   "cell_type": "markdown",
   "id": "df7caf58",
   "metadata": {},
   "source": [
    "# Lightgbm"
   ]
  },
  {
   "cell_type": "code",
   "execution_count": 149,
   "id": "b961b7af",
   "metadata": {},
   "outputs": [],
   "source": [
    "import lightgbm as lgb\n",
    "lightbm = lgb.LGBMClassifier(num_class=4, \n",
    "                             objective=\"multiclass\",  \n",
    "                             n_estimators=10000, \n",
    "                             class_weight=\"balanced\",\n",
    "                            early_stopping_round=50,\n",
    "                             eta=0.3,\n",
    "                            #verbose=-1,\n",
    "                            max_depth=9,\n",
    "                            num_leaves=400\n",
    "                            #min_data_in_leaf=0\n",
    "                            )"
   ]
  },
  {
   "cell_type": "code",
   "execution_count": 150,
   "id": "93d356ad",
   "metadata": {},
   "outputs": [
    {
     "data": {
      "text/plain": [
       "64"
      ]
     },
     "execution_count": 150,
     "metadata": {},
     "output_type": "execute_result"
    }
   ],
   "source": [
    "2**6"
   ]
  },
  {
   "cell_type": "code",
   "execution_count": 151,
   "id": "9d640b77",
   "metadata": {},
   "outputs": [
    {
     "name": "stderr",
     "output_type": "stream",
     "text": [
      "d:\\python\\python38\\lib\\site-packages\\sklearn\\preprocessing\\_label.py:98: DataConversionWarning: A column-vector y was passed when a 1d array was expected. Please change the shape of y to (n_samples, ), for example using ravel().\n",
      "  y = column_or_1d(y, warn=True)\n",
      "d:\\python\\python38\\lib\\site-packages\\sklearn\\preprocessing\\_label.py:133: DataConversionWarning: A column-vector y was passed when a 1d array was expected. Please change the shape of y to (n_samples, ), for example using ravel().\n",
      "  y = column_or_1d(y, warn=True)\n"
     ]
    },
    {
     "name": "stdout",
     "output_type": "stream",
     "text": [
      "[LightGBM] [Warning] learning_rate is set=0.1, eta=0.3 will be ignored. Current value: learning_rate=0.1\n",
      "[1]\ttraining's multi_logloss: 0.598529\tvalid_0's multi_logloss: 2.21117\n",
      "[2]\ttraining's multi_logloss: 0.511171\tvalid_0's multi_logloss: 1.97029\n",
      "[3]\ttraining's multi_logloss: 0.447387\tvalid_0's multi_logloss: 1.80528\n",
      "[4]\ttraining's multi_logloss: 0.395546\tvalid_0's multi_logloss: 1.67328\n",
      "[5]\ttraining's multi_logloss: 0.352844\tvalid_0's multi_logloss: 1.57497\n",
      "[6]\ttraining's multi_logloss: 0.317932\tvalid_0's multi_logloss: 1.49091\n",
      "[7]\ttraining's multi_logloss: 0.286716\tvalid_0's multi_logloss: 1.41857\n",
      "[8]\ttraining's multi_logloss: 0.260546\tvalid_0's multi_logloss: 1.35829\n",
      "[9]\ttraining's multi_logloss: 0.237289\tvalid_0's multi_logloss: 1.30468\n",
      "[10]\ttraining's multi_logloss: 0.217451\tvalid_0's multi_logloss: 1.26338\n",
      "[11]\ttraining's multi_logloss: 0.201334\tvalid_0's multi_logloss: 1.22388\n",
      "[12]\ttraining's multi_logloss: 0.18616\tvalid_0's multi_logloss: 1.18907\n",
      "[13]\ttraining's multi_logloss: 0.172012\tvalid_0's multi_logloss: 1.15557\n",
      "[14]\ttraining's multi_logloss: 0.160308\tvalid_0's multi_logloss: 1.12303\n",
      "[15]\ttraining's multi_logloss: 0.149402\tvalid_0's multi_logloss: 1.09502\n",
      "[16]\ttraining's multi_logloss: 0.140078\tvalid_0's multi_logloss: 1.07173\n",
      "[17]\ttraining's multi_logloss: 0.131938\tvalid_0's multi_logloss: 1.04569\n",
      "[18]\ttraining's multi_logloss: 0.124102\tvalid_0's multi_logloss: 1.02373\n",
      "[19]\ttraining's multi_logloss: 0.117229\tvalid_0's multi_logloss: 1.00449\n",
      "[20]\ttraining's multi_logloss: 0.11111\tvalid_0's multi_logloss: 0.984758\n",
      "[21]\ttraining's multi_logloss: 0.10522\tvalid_0's multi_logloss: 0.968644\n",
      "[22]\ttraining's multi_logloss: 0.100146\tvalid_0's multi_logloss: 0.949523\n",
      "[23]\ttraining's multi_logloss: 0.0951419\tvalid_0's multi_logloss: 0.931842\n",
      "[24]\ttraining's multi_logloss: 0.0905584\tvalid_0's multi_logloss: 0.917377\n",
      "[25]\ttraining's multi_logloss: 0.0866256\tvalid_0's multi_logloss: 0.900836\n",
      "[26]\ttraining's multi_logloss: 0.0829921\tvalid_0's multi_logloss: 0.888059\n",
      "[27]\ttraining's multi_logloss: 0.0793462\tvalid_0's multi_logloss: 0.871067\n",
      "[28]\ttraining's multi_logloss: 0.0765002\tvalid_0's multi_logloss: 0.858902\n",
      "[29]\ttraining's multi_logloss: 0.0733893\tvalid_0's multi_logloss: 0.843174\n",
      "[30]\ttraining's multi_logloss: 0.0703544\tvalid_0's multi_logloss: 0.8327\n",
      "[31]\ttraining's multi_logloss: 0.0678516\tvalid_0's multi_logloss: 0.819353\n",
      "[32]\ttraining's multi_logloss: 0.0652732\tvalid_0's multi_logloss: 0.806737\n",
      "[33]\ttraining's multi_logloss: 0.0628361\tvalid_0's multi_logloss: 0.794682\n",
      "[34]\ttraining's multi_logloss: 0.0605076\tvalid_0's multi_logloss: 0.782281\n",
      "[35]\ttraining's multi_logloss: 0.0588646\tvalid_0's multi_logloss: 0.772971\n",
      "[36]\ttraining's multi_logloss: 0.0569728\tvalid_0's multi_logloss: 0.764574\n",
      "[37]\ttraining's multi_logloss: 0.0552082\tvalid_0's multi_logloss: 0.753292\n",
      "[38]\ttraining's multi_logloss: 0.0535194\tvalid_0's multi_logloss: 0.745449\n",
      "[39]\ttraining's multi_logloss: 0.051749\tvalid_0's multi_logloss: 0.736239\n",
      "[40]\ttraining's multi_logloss: 0.0500998\tvalid_0's multi_logloss: 0.72723\n",
      "[41]\ttraining's multi_logloss: 0.0484328\tvalid_0's multi_logloss: 0.71962\n",
      "[42]\ttraining's multi_logloss: 0.0472762\tvalid_0's multi_logloss: 0.711138\n",
      "[43]\ttraining's multi_logloss: 0.0459168\tvalid_0's multi_logloss: 0.705298\n",
      "[44]\ttraining's multi_logloss: 0.0445524\tvalid_0's multi_logloss: 0.698141\n",
      "[45]\ttraining's multi_logloss: 0.043259\tvalid_0's multi_logloss: 0.689344\n",
      "[46]\ttraining's multi_logloss: 0.0418251\tvalid_0's multi_logloss: 0.682116\n",
      "[47]\ttraining's multi_logloss: 0.0407087\tvalid_0's multi_logloss: 0.672978\n",
      "[48]\ttraining's multi_logloss: 0.0396676\tvalid_0's multi_logloss: 0.666426\n",
      "[49]\ttraining's multi_logloss: 0.0382038\tvalid_0's multi_logloss: 0.655918\n",
      "[50]\ttraining's multi_logloss: 0.0370753\tvalid_0's multi_logloss: 0.64751\n",
      "[51]\ttraining's multi_logloss: 0.0358593\tvalid_0's multi_logloss: 0.641553\n",
      "[52]\ttraining's multi_logloss: 0.0349413\tvalid_0's multi_logloss: 0.636644\n",
      "[53]\ttraining's multi_logloss: 0.0339821\tvalid_0's multi_logloss: 0.630575\n",
      "[54]\ttraining's multi_logloss: 0.0330231\tvalid_0's multi_logloss: 0.625705\n",
      "[55]\ttraining's multi_logloss: 0.0322787\tvalid_0's multi_logloss: 0.621104\n",
      "[56]\ttraining's multi_logloss: 0.0313281\tvalid_0's multi_logloss: 0.614693\n",
      "[57]\ttraining's multi_logloss: 0.0305407\tvalid_0's multi_logloss: 0.609715\n",
      "[58]\ttraining's multi_logloss: 0.0297434\tvalid_0's multi_logloss: 0.605622\n",
      "[59]\ttraining's multi_logloss: 0.0292188\tvalid_0's multi_logloss: 0.601404\n",
      "[60]\ttraining's multi_logloss: 0.0284816\tvalid_0's multi_logloss: 0.596058\n",
      "[61]\ttraining's multi_logloss: 0.0277798\tvalid_0's multi_logloss: 0.592599\n",
      "[62]\ttraining's multi_logloss: 0.0269423\tvalid_0's multi_logloss: 0.586444\n",
      "[63]\ttraining's multi_logloss: 0.0262396\tvalid_0's multi_logloss: 0.581787\n",
      "[64]\ttraining's multi_logloss: 0.0257177\tvalid_0's multi_logloss: 0.57806\n",
      "[65]\ttraining's multi_logloss: 0.0249507\tvalid_0's multi_logloss: 0.572077\n",
      "[66]\ttraining's multi_logloss: 0.0243467\tvalid_0's multi_logloss: 0.566198\n",
      "[67]\ttraining's multi_logloss: 0.0238719\tvalid_0's multi_logloss: 0.562023\n",
      "[68]\ttraining's multi_logloss: 0.0233095\tvalid_0's multi_logloss: 0.556155\n",
      "[69]\ttraining's multi_logloss: 0.0226387\tvalid_0's multi_logloss: 0.55246\n",
      "[70]\ttraining's multi_logloss: 0.0220916\tvalid_0's multi_logloss: 0.546982\n",
      "[71]\ttraining's multi_logloss: 0.0215994\tvalid_0's multi_logloss: 0.543545\n",
      "[72]\ttraining's multi_logloss: 0.0210246\tvalid_0's multi_logloss: 0.538464\n",
      "[73]\ttraining's multi_logloss: 0.0206159\tvalid_0's multi_logloss: 0.535215\n",
      "[74]\ttraining's multi_logloss: 0.0202166\tvalid_0's multi_logloss: 0.532275\n",
      "[75]\ttraining's multi_logloss: 0.0198002\tvalid_0's multi_logloss: 0.528687\n",
      "[76]\ttraining's multi_logloss: 0.0194513\tvalid_0's multi_logloss: 0.52567\n",
      "[77]\ttraining's multi_logloss: 0.0190876\tvalid_0's multi_logloss: 0.52234\n",
      "[78]\ttraining's multi_logloss: 0.0187507\tvalid_0's multi_logloss: 0.520351\n",
      "[79]\ttraining's multi_logloss: 0.0184327\tvalid_0's multi_logloss: 0.517908\n",
      "[80]\ttraining's multi_logloss: 0.0180811\tvalid_0's multi_logloss: 0.515022\n",
      "[81]\ttraining's multi_logloss: 0.0178155\tvalid_0's multi_logloss: 0.512857\n",
      "[82]\ttraining's multi_logloss: 0.0174488\tvalid_0's multi_logloss: 0.508732\n",
      "[83]\ttraining's multi_logloss: 0.0171354\tvalid_0's multi_logloss: 0.50631\n",
      "[84]\ttraining's multi_logloss: 0.0168342\tvalid_0's multi_logloss: 0.504515\n",
      "[85]\ttraining's multi_logloss: 0.0164755\tvalid_0's multi_logloss: 0.50228\n",
      "[86]\ttraining's multi_logloss: 0.0161494\tvalid_0's multi_logloss: 0.499069\n",
      "[87]\ttraining's multi_logloss: 0.0158565\tvalid_0's multi_logloss: 0.4965\n",
      "[88]\ttraining's multi_logloss: 0.015515\tvalid_0's multi_logloss: 0.493369\n",
      "[89]\ttraining's multi_logloss: 0.0152232\tvalid_0's multi_logloss: 0.491333\n",
      "[90]\ttraining's multi_logloss: 0.0149551\tvalid_0's multi_logloss: 0.489169\n",
      "[91]\ttraining's multi_logloss: 0.0147209\tvalid_0's multi_logloss: 0.487517\n",
      "[92]\ttraining's multi_logloss: 0.0144058\tvalid_0's multi_logloss: 0.483731\n",
      "[93]\ttraining's multi_logloss: 0.0141077\tvalid_0's multi_logloss: 0.481188\n",
      "[94]\ttraining's multi_logloss: 0.0138483\tvalid_0's multi_logloss: 0.478146\n",
      "[95]\ttraining's multi_logloss: 0.013635\tvalid_0's multi_logloss: 0.475735\n",
      "[96]\ttraining's multi_logloss: 0.0133557\tvalid_0's multi_logloss: 0.473039\n",
      "[97]\ttraining's multi_logloss: 0.0131323\tvalid_0's multi_logloss: 0.470555\n",
      "[98]\ttraining's multi_logloss: 0.0128783\tvalid_0's multi_logloss: 0.468193\n",
      "[99]\ttraining's multi_logloss: 0.0127111\tvalid_0's multi_logloss: 0.466876\n",
      "[100]\ttraining's multi_logloss: 0.0125186\tvalid_0's multi_logloss: 0.465336\n",
      "[101]\ttraining's multi_logloss: 0.0123213\tvalid_0's multi_logloss: 0.463024\n",
      "[102]\ttraining's multi_logloss: 0.0120937\tvalid_0's multi_logloss: 0.460989\n",
      "[103]\ttraining's multi_logloss: 0.0118204\tvalid_0's multi_logloss: 0.45737\n",
      "[104]\ttraining's multi_logloss: 0.0116097\tvalid_0's multi_logloss: 0.455004\n",
      "[105]\ttraining's multi_logloss: 0.0114185\tvalid_0's multi_logloss: 0.452864\n",
      "[106]\ttraining's multi_logloss: 0.0112085\tvalid_0's multi_logloss: 0.45103\n",
      "[107]\ttraining's multi_logloss: 0.0110279\tvalid_0's multi_logloss: 0.449148\n",
      "[108]\ttraining's multi_logloss: 0.0108526\tvalid_0's multi_logloss: 0.447408\n",
      "[109]\ttraining's multi_logloss: 0.0106528\tvalid_0's multi_logloss: 0.445274\n"
     ]
    },
    {
     "name": "stdout",
     "output_type": "stream",
     "text": [
      "[110]\ttraining's multi_logloss: 0.0104751\tvalid_0's multi_logloss: 0.443404\n",
      "[111]\ttraining's multi_logloss: 0.010318\tvalid_0's multi_logloss: 0.441821\n",
      "[112]\ttraining's multi_logloss: 0.0101923\tvalid_0's multi_logloss: 0.440681\n",
      "[113]\ttraining's multi_logloss: 0.00998949\tvalid_0's multi_logloss: 0.438478\n",
      "[114]\ttraining's multi_logloss: 0.00977781\tvalid_0's multi_logloss: 0.436125\n",
      "[115]\ttraining's multi_logloss: 0.00959928\tvalid_0's multi_logloss: 0.434548\n",
      "[116]\ttraining's multi_logloss: 0.00946923\tvalid_0's multi_logloss: 0.43384\n",
      "[117]\ttraining's multi_logloss: 0.00929979\tvalid_0's multi_logloss: 0.431968\n",
      "[118]\ttraining's multi_logloss: 0.0091208\tvalid_0's multi_logloss: 0.430183\n",
      "[119]\ttraining's multi_logloss: 0.0089441\tvalid_0's multi_logloss: 0.42837\n",
      "[120]\ttraining's multi_logloss: 0.00881349\tvalid_0's multi_logloss: 0.427176\n",
      "[121]\ttraining's multi_logloss: 0.00867635\tvalid_0's multi_logloss: 0.425463\n",
      "[122]\ttraining's multi_logloss: 0.00856022\tvalid_0's multi_logloss: 0.424557\n",
      "[123]\ttraining's multi_logloss: 0.00842155\tvalid_0's multi_logloss: 0.423083\n",
      "[124]\ttraining's multi_logloss: 0.00828689\tvalid_0's multi_logloss: 0.422109\n",
      "[125]\ttraining's multi_logloss: 0.0081506\tvalid_0's multi_logloss: 0.420735\n",
      "[126]\ttraining's multi_logloss: 0.00800712\tvalid_0's multi_logloss: 0.419382\n",
      "[127]\ttraining's multi_logloss: 0.00785016\tvalid_0's multi_logloss: 0.417514\n",
      "[128]\ttraining's multi_logloss: 0.00777796\tvalid_0's multi_logloss: 0.416899\n",
      "[129]\ttraining's multi_logloss: 0.00766251\tvalid_0's multi_logloss: 0.415686\n",
      "[130]\ttraining's multi_logloss: 0.00754215\tvalid_0's multi_logloss: 0.414695\n",
      "[131]\ttraining's multi_logloss: 0.00744255\tvalid_0's multi_logloss: 0.41338\n",
      "[132]\ttraining's multi_logloss: 0.0073108\tvalid_0's multi_logloss: 0.411667\n",
      "[133]\ttraining's multi_logloss: 0.00718896\tvalid_0's multi_logloss: 0.410138\n",
      "[134]\ttraining's multi_logloss: 0.00707041\tvalid_0's multi_logloss: 0.408879\n",
      "[135]\ttraining's multi_logloss: 0.00696697\tvalid_0's multi_logloss: 0.40778\n",
      "[136]\ttraining's multi_logloss: 0.00683962\tvalid_0's multi_logloss: 0.406602\n",
      "[137]\ttraining's multi_logloss: 0.00672943\tvalid_0's multi_logloss: 0.405599\n",
      "[138]\ttraining's multi_logloss: 0.0066278\tvalid_0's multi_logloss: 0.404385\n",
      "[139]\ttraining's multi_logloss: 0.00654466\tvalid_0's multi_logloss: 0.40352\n",
      "[140]\ttraining's multi_logloss: 0.00646869\tvalid_0's multi_logloss: 0.402838\n",
      "[141]\ttraining's multi_logloss: 0.00636832\tvalid_0's multi_logloss: 0.401328\n",
      "[142]\ttraining's multi_logloss: 0.00630333\tvalid_0's multi_logloss: 0.400631\n",
      "[143]\ttraining's multi_logloss: 0.00621611\tvalid_0's multi_logloss: 0.399793\n",
      "[144]\ttraining's multi_logloss: 0.00612433\tvalid_0's multi_logloss: 0.398896\n",
      "[145]\ttraining's multi_logloss: 0.00604066\tvalid_0's multi_logloss: 0.398268\n",
      "[146]\ttraining's multi_logloss: 0.0059394\tvalid_0's multi_logloss: 0.397564\n",
      "[147]\ttraining's multi_logloss: 0.00585111\tvalid_0's multi_logloss: 0.39639\n",
      "[148]\ttraining's multi_logloss: 0.00575558\tvalid_0's multi_logloss: 0.395435\n",
      "[149]\ttraining's multi_logloss: 0.00563935\tvalid_0's multi_logloss: 0.394222\n",
      "[150]\ttraining's multi_logloss: 0.00556015\tvalid_0's multi_logloss: 0.393467\n",
      "[151]\ttraining's multi_logloss: 0.0054884\tvalid_0's multi_logloss: 0.392875\n",
      "[152]\ttraining's multi_logloss: 0.00539889\tvalid_0's multi_logloss: 0.391816\n",
      "[153]\ttraining's multi_logloss: 0.00531464\tvalid_0's multi_logloss: 0.390672\n",
      "[154]\ttraining's multi_logloss: 0.00522593\tvalid_0's multi_logloss: 0.389653\n",
      "[155]\ttraining's multi_logloss: 0.00514435\tvalid_0's multi_logloss: 0.388806\n",
      "[156]\ttraining's multi_logloss: 0.00506125\tvalid_0's multi_logloss: 0.388247\n",
      "[157]\ttraining's multi_logloss: 0.00500099\tvalid_0's multi_logloss: 0.387708\n",
      "[158]\ttraining's multi_logloss: 0.00493886\tvalid_0's multi_logloss: 0.387134\n",
      "[159]\ttraining's multi_logloss: 0.004868\tvalid_0's multi_logloss: 0.38674\n",
      "[160]\ttraining's multi_logloss: 0.00479235\tvalid_0's multi_logloss: 0.386\n",
      "[161]\ttraining's multi_logloss: 0.0047445\tvalid_0's multi_logloss: 0.385578\n",
      "[162]\ttraining's multi_logloss: 0.00468731\tvalid_0's multi_logloss: 0.385001\n",
      "[163]\ttraining's multi_logloss: 0.00463354\tvalid_0's multi_logloss: 0.384579\n",
      "[164]\ttraining's multi_logloss: 0.00456237\tvalid_0's multi_logloss: 0.383638\n",
      "[165]\ttraining's multi_logloss: 0.00449542\tvalid_0's multi_logloss: 0.383013\n",
      "[166]\ttraining's multi_logloss: 0.00442746\tvalid_0's multi_logloss: 0.382369\n",
      "[167]\ttraining's multi_logloss: 0.00436772\tvalid_0's multi_logloss: 0.381812\n",
      "[168]\ttraining's multi_logloss: 0.00431111\tvalid_0's multi_logloss: 0.381243\n",
      "[169]\ttraining's multi_logloss: 0.0042622\tvalid_0's multi_logloss: 0.380789\n",
      "[170]\ttraining's multi_logloss: 0.00420277\tvalid_0's multi_logloss: 0.380113\n",
      "[171]\ttraining's multi_logloss: 0.00415263\tvalid_0's multi_logloss: 0.379721\n",
      "[172]\ttraining's multi_logloss: 0.00407083\tvalid_0's multi_logloss: 0.378732\n",
      "[173]\ttraining's multi_logloss: 0.00399534\tvalid_0's multi_logloss: 0.377837\n",
      "[174]\ttraining's multi_logloss: 0.00394217\tvalid_0's multi_logloss: 0.377457\n",
      "[175]\ttraining's multi_logloss: 0.00387787\tvalid_0's multi_logloss: 0.37684\n",
      "[176]\ttraining's multi_logloss: 0.00383255\tvalid_0's multi_logloss: 0.376392\n",
      "[177]\ttraining's multi_logloss: 0.00377323\tvalid_0's multi_logloss: 0.37587\n",
      "[178]\ttraining's multi_logloss: 0.00370945\tvalid_0's multi_logloss: 0.375148\n",
      "[179]\ttraining's multi_logloss: 0.00365983\tvalid_0's multi_logloss: 0.374806\n",
      "[180]\ttraining's multi_logloss: 0.00361791\tvalid_0's multi_logloss: 0.374549\n",
      "[181]\ttraining's multi_logloss: 0.00357851\tvalid_0's multi_logloss: 0.374199\n",
      "[182]\ttraining's multi_logloss: 0.00351576\tvalid_0's multi_logloss: 0.373471\n",
      "[183]\ttraining's multi_logloss: 0.00348212\tvalid_0's multi_logloss: 0.373191\n",
      "[184]\ttraining's multi_logloss: 0.00344166\tvalid_0's multi_logloss: 0.373106\n",
      "[185]\ttraining's multi_logloss: 0.00338462\tvalid_0's multi_logloss: 0.372306\n",
      "[186]\ttraining's multi_logloss: 0.00334401\tvalid_0's multi_logloss: 0.372089\n",
      "[187]\ttraining's multi_logloss: 0.00328821\tvalid_0's multi_logloss: 0.371442\n",
      "[188]\ttraining's multi_logloss: 0.00324437\tvalid_0's multi_logloss: 0.371169\n",
      "[189]\ttraining's multi_logloss: 0.00320462\tvalid_0's multi_logloss: 0.37096\n",
      "[190]\ttraining's multi_logloss: 0.00317185\tvalid_0's multi_logloss: 0.370758\n",
      "[191]\ttraining's multi_logloss: 0.00312748\tvalid_0's multi_logloss: 0.370271\n",
      "[192]\ttraining's multi_logloss: 0.00308453\tvalid_0's multi_logloss: 0.36982\n",
      "[193]\ttraining's multi_logloss: 0.00304758\tvalid_0's multi_logloss: 0.369534\n",
      "[194]\ttraining's multi_logloss: 0.00301378\tvalid_0's multi_logloss: 0.369272\n",
      "[195]\ttraining's multi_logloss: 0.00297988\tvalid_0's multi_logloss: 0.369021\n",
      "[196]\ttraining's multi_logloss: 0.00292985\tvalid_0's multi_logloss: 0.368405\n",
      "[197]\ttraining's multi_logloss: 0.00289431\tvalid_0's multi_logloss: 0.368005\n",
      "[198]\ttraining's multi_logloss: 0.00285848\tvalid_0's multi_logloss: 0.367733\n",
      "[199]\ttraining's multi_logloss: 0.00282555\tvalid_0's multi_logloss: 0.36751\n",
      "[200]\ttraining's multi_logloss: 0.00278879\tvalid_0's multi_logloss: 0.367076\n",
      "[201]\ttraining's multi_logloss: 0.00275259\tvalid_0's multi_logloss: 0.366671\n",
      "[202]\ttraining's multi_logloss: 0.00272305\tvalid_0's multi_logloss: 0.366564\n",
      "[203]\ttraining's multi_logloss: 0.00268653\tvalid_0's multi_logloss: 0.366143\n",
      "[204]\ttraining's multi_logloss: 0.00264988\tvalid_0's multi_logloss: 0.365865\n",
      "[205]\ttraining's multi_logloss: 0.00261787\tvalid_0's multi_logloss: 0.365698\n",
      "[206]\ttraining's multi_logloss: 0.00258279\tvalid_0's multi_logloss: 0.365349\n",
      "[207]\ttraining's multi_logloss: 0.00254\tvalid_0's multi_logloss: 0.364963\n",
      "[208]\ttraining's multi_logloss: 0.00250123\tvalid_0's multi_logloss: 0.36474\n",
      "[209]\ttraining's multi_logloss: 0.00246251\tvalid_0's multi_logloss: 0.364346\n",
      "[210]\ttraining's multi_logloss: 0.00242878\tvalid_0's multi_logloss: 0.364112\n",
      "[211]\ttraining's multi_logloss: 0.00240238\tvalid_0's multi_logloss: 0.363998\n",
      "[212]\ttraining's multi_logloss: 0.00237504\tvalid_0's multi_logloss: 0.363847\n",
      "[213]\ttraining's multi_logloss: 0.00234727\tvalid_0's multi_logloss: 0.363494\n",
      "[214]\ttraining's multi_logloss: 0.00231556\tvalid_0's multi_logloss: 0.363167\n",
      "[215]\ttraining's multi_logloss: 0.0022798\tvalid_0's multi_logloss: 0.362845\n",
      "[216]\ttraining's multi_logloss: 0.00224899\tvalid_0's multi_logloss: 0.362578\n",
      "[217]\ttraining's multi_logloss: 0.00221825\tvalid_0's multi_logloss: 0.362344\n"
     ]
    },
    {
     "name": "stdout",
     "output_type": "stream",
     "text": [
      "[218]\ttraining's multi_logloss: 0.0021975\tvalid_0's multi_logloss: 0.362107\n",
      "[219]\ttraining's multi_logloss: 0.00216491\tvalid_0's multi_logloss: 0.361856\n",
      "[220]\ttraining's multi_logloss: 0.00213802\tvalid_0's multi_logloss: 0.361576\n",
      "[221]\ttraining's multi_logloss: 0.00210997\tvalid_0's multi_logloss: 0.361516\n",
      "[222]\ttraining's multi_logloss: 0.00208012\tvalid_0's multi_logloss: 0.361298\n",
      "[223]\ttraining's multi_logloss: 0.00205825\tvalid_0's multi_logloss: 0.361256\n",
      "[224]\ttraining's multi_logloss: 0.00203144\tvalid_0's multi_logloss: 0.361169\n",
      "[225]\ttraining's multi_logloss: 0.00200326\tvalid_0's multi_logloss: 0.360908\n",
      "[226]\ttraining's multi_logloss: 0.0019753\tvalid_0's multi_logloss: 0.360736\n",
      "[227]\ttraining's multi_logloss: 0.00195796\tvalid_0's multi_logloss: 0.36066\n",
      "[228]\ttraining's multi_logloss: 0.00191552\tvalid_0's multi_logloss: 0.360183\n",
      "[229]\ttraining's multi_logloss: 0.00189651\tvalid_0's multi_logloss: 0.360087\n",
      "[230]\ttraining's multi_logloss: 0.00188\tvalid_0's multi_logloss: 0.359991\n",
      "[231]\ttraining's multi_logloss: 0.001852\tvalid_0's multi_logloss: 0.359805\n",
      "[232]\ttraining's multi_logloss: 0.00182809\tvalid_0's multi_logloss: 0.359719\n",
      "[233]\ttraining's multi_logloss: 0.0018072\tvalid_0's multi_logloss: 0.359608\n",
      "[234]\ttraining's multi_logloss: 0.00178274\tvalid_0's multi_logloss: 0.359291\n",
      "[235]\ttraining's multi_logloss: 0.00175313\tvalid_0's multi_logloss: 0.359155\n",
      "[236]\ttraining's multi_logloss: 0.00172078\tvalid_0's multi_logloss: 0.358656\n",
      "[237]\ttraining's multi_logloss: 0.00169437\tvalid_0's multi_logloss: 0.358473\n",
      "[238]\ttraining's multi_logloss: 0.00167155\tvalid_0's multi_logloss: 0.358379\n",
      "[239]\ttraining's multi_logloss: 0.00165254\tvalid_0's multi_logloss: 0.358257\n",
      "[240]\ttraining's multi_logloss: 0.00162538\tvalid_0's multi_logloss: 0.358167\n",
      "[241]\ttraining's multi_logloss: 0.0016015\tvalid_0's multi_logloss: 0.358268\n",
      "[242]\ttraining's multi_logloss: 0.00157813\tvalid_0's multi_logloss: 0.35842\n",
      "[243]\ttraining's multi_logloss: 0.00156152\tvalid_0's multi_logloss: 0.35834\n",
      "[244]\ttraining's multi_logloss: 0.00154363\tvalid_0's multi_logloss: 0.358389\n",
      "[245]\ttraining's multi_logloss: 0.00151562\tvalid_0's multi_logloss: 0.357886\n",
      "[246]\ttraining's multi_logloss: 0.0014937\tvalid_0's multi_logloss: 0.357776\n",
      "[247]\ttraining's multi_logloss: 0.00147489\tvalid_0's multi_logloss: 0.357836\n",
      "[248]\ttraining's multi_logloss: 0.00145927\tvalid_0's multi_logloss: 0.357853\n",
      "[249]\ttraining's multi_logloss: 0.00143939\tvalid_0's multi_logloss: 0.358021\n",
      "[250]\ttraining's multi_logloss: 0.00142007\tvalid_0's multi_logloss: 0.357897\n",
      "[251]\ttraining's multi_logloss: 0.00139811\tvalid_0's multi_logloss: 0.35755\n",
      "[252]\ttraining's multi_logloss: 0.00137926\tvalid_0's multi_logloss: 0.357693\n",
      "[253]\ttraining's multi_logloss: 0.00135624\tvalid_0's multi_logloss: 0.357637\n",
      "[254]\ttraining's multi_logloss: 0.00133789\tvalid_0's multi_logloss: 0.357624\n",
      "[255]\ttraining's multi_logloss: 0.0013157\tvalid_0's multi_logloss: 0.357767\n",
      "[256]\ttraining's multi_logloss: 0.00129772\tvalid_0's multi_logloss: 0.357662\n",
      "[257]\ttraining's multi_logloss: 0.0012819\tvalid_0's multi_logloss: 0.357768\n",
      "[258]\ttraining's multi_logloss: 0.00126628\tvalid_0's multi_logloss: 0.35778\n",
      "[259]\ttraining's multi_logloss: 0.0012504\tvalid_0's multi_logloss: 0.357795\n",
      "[260]\ttraining's multi_logloss: 0.00123016\tvalid_0's multi_logloss: 0.357736\n",
      "[261]\ttraining's multi_logloss: 0.0012143\tvalid_0's multi_logloss: 0.357722\n",
      "[262]\ttraining's multi_logloss: 0.0011999\tvalid_0's multi_logloss: 0.357589\n",
      "[263]\ttraining's multi_logloss: 0.00118865\tvalid_0's multi_logloss: 0.357678\n",
      "[264]\ttraining's multi_logloss: 0.00117578\tvalid_0's multi_logloss: 0.357721\n",
      "[265]\ttraining's multi_logloss: 0.00115792\tvalid_0's multi_logloss: 0.357508\n",
      "[266]\ttraining's multi_logloss: 0.00114282\tvalid_0's multi_logloss: 0.357615\n",
      "[267]\ttraining's multi_logloss: 0.00112586\tvalid_0's multi_logloss: 0.357692\n",
      "[268]\ttraining's multi_logloss: 0.00111043\tvalid_0's multi_logloss: 0.357797\n",
      "[269]\ttraining's multi_logloss: 0.00109665\tvalid_0's multi_logloss: 0.35786\n",
      "[270]\ttraining's multi_logloss: 0.00107782\tvalid_0's multi_logloss: 0.357809\n",
      "[271]\ttraining's multi_logloss: 0.00106191\tvalid_0's multi_logloss: 0.357825\n",
      "[272]\ttraining's multi_logloss: 0.00104642\tvalid_0's multi_logloss: 0.357834\n",
      "[273]\ttraining's multi_logloss: 0.00103291\tvalid_0's multi_logloss: 0.357702\n",
      "[274]\ttraining's multi_logloss: 0.00101959\tvalid_0's multi_logloss: 0.35777\n",
      "[275]\ttraining's multi_logloss: 0.00100303\tvalid_0's multi_logloss: 0.357489\n",
      "[276]\ttraining's multi_logloss: 0.000986447\tvalid_0's multi_logloss: 0.357492\n",
      "[277]\ttraining's multi_logloss: 0.000971546\tvalid_0's multi_logloss: 0.35728\n",
      "[278]\ttraining's multi_logloss: 0.000960125\tvalid_0's multi_logloss: 0.357414\n",
      "[279]\ttraining's multi_logloss: 0.000946385\tvalid_0's multi_logloss: 0.357331\n",
      "[280]\ttraining's multi_logloss: 0.000935113\tvalid_0's multi_logloss: 0.35727\n",
      "[281]\ttraining's multi_logloss: 0.000922152\tvalid_0's multi_logloss: 0.357259\n",
      "[282]\ttraining's multi_logloss: 0.000907591\tvalid_0's multi_logloss: 0.357309\n",
      "[283]\ttraining's multi_logloss: 0.000892427\tvalid_0's multi_logloss: 0.357121\n",
      "[284]\ttraining's multi_logloss: 0.000881531\tvalid_0's multi_logloss: 0.357187\n",
      "[285]\ttraining's multi_logloss: 0.000866937\tvalid_0's multi_logloss: 0.357013\n",
      "[286]\ttraining's multi_logloss: 0.000857492\tvalid_0's multi_logloss: 0.35711\n",
      "[287]\ttraining's multi_logloss: 0.000844638\tvalid_0's multi_logloss: 0.35718\n",
      "[288]\ttraining's multi_logloss: 0.000833007\tvalid_0's multi_logloss: 0.357218\n",
      "[289]\ttraining's multi_logloss: 0.000826879\tvalid_0's multi_logloss: 0.357349\n",
      "[290]\ttraining's multi_logloss: 0.000813688\tvalid_0's multi_logloss: 0.357587\n",
      "[291]\ttraining's multi_logloss: 0.000803958\tvalid_0's multi_logloss: 0.357804\n",
      "[292]\ttraining's multi_logloss: 0.000793971\tvalid_0's multi_logloss: 0.357938\n",
      "[293]\ttraining's multi_logloss: 0.00078606\tvalid_0's multi_logloss: 0.358046\n",
      "[294]\ttraining's multi_logloss: 0.000777338\tvalid_0's multi_logloss: 0.358336\n",
      "[295]\ttraining's multi_logloss: 0.000766579\tvalid_0's multi_logloss: 0.3584\n",
      "[296]\ttraining's multi_logloss: 0.000757751\tvalid_0's multi_logloss: 0.35865\n",
      "[297]\ttraining's multi_logloss: 0.000747889\tvalid_0's multi_logloss: 0.358851\n",
      "[298]\ttraining's multi_logloss: 0.000734532\tvalid_0's multi_logloss: 0.358614\n",
      "[299]\ttraining's multi_logloss: 0.000721598\tvalid_0's multi_logloss: 0.358691\n",
      "[300]\ttraining's multi_logloss: 0.000712521\tvalid_0's multi_logloss: 0.35868\n",
      "[301]\ttraining's multi_logloss: 0.000701925\tvalid_0's multi_logloss: 0.358813\n",
      "[302]\ttraining's multi_logloss: 0.000692765\tvalid_0's multi_logloss: 0.358903\n",
      "[303]\ttraining's multi_logloss: 0.00068536\tvalid_0's multi_logloss: 0.359034\n",
      "[304]\ttraining's multi_logloss: 0.000677774\tvalid_0's multi_logloss: 0.358991\n",
      "[305]\ttraining's multi_logloss: 0.000668907\tvalid_0's multi_logloss: 0.359002\n",
      "[306]\ttraining's multi_logloss: 0.000657501\tvalid_0's multi_logloss: 0.358979\n",
      "[307]\ttraining's multi_logloss: 0.000645907\tvalid_0's multi_logloss: 0.358923\n",
      "[308]\ttraining's multi_logloss: 0.000635782\tvalid_0's multi_logloss: 0.359103\n",
      "[309]\ttraining's multi_logloss: 0.000623322\tvalid_0's multi_logloss: 0.359267\n",
      "[310]\ttraining's multi_logloss: 0.000615837\tvalid_0's multi_logloss: 0.359541\n",
      "[311]\ttraining's multi_logloss: 0.000607213\tvalid_0's multi_logloss: 0.359532\n",
      "[312]\ttraining's multi_logloss: 0.000597167\tvalid_0's multi_logloss: 0.359511\n",
      "[313]\ttraining's multi_logloss: 0.000588129\tvalid_0's multi_logloss: 0.359743\n",
      "[314]\ttraining's multi_logloss: 0.000581508\tvalid_0's multi_logloss: 0.359789\n",
      "[315]\ttraining's multi_logloss: 0.000572981\tvalid_0's multi_logloss: 0.360042\n",
      "[316]\ttraining's multi_logloss: 0.000565393\tvalid_0's multi_logloss: 0.359887\n",
      "[317]\ttraining's multi_logloss: 0.000558695\tvalid_0's multi_logloss: 0.360014\n",
      "[318]\ttraining's multi_logloss: 0.000549988\tvalid_0's multi_logloss: 0.36016\n",
      "[319]\ttraining's multi_logloss: 0.000542163\tvalid_0's multi_logloss: 0.360168\n",
      "[320]\ttraining's multi_logloss: 0.000536027\tvalid_0's multi_logloss: 0.360335\n",
      "[321]\ttraining's multi_logloss: 0.000529783\tvalid_0's multi_logloss: 0.360305\n",
      "[322]\ttraining's multi_logloss: 0.000523988\tvalid_0's multi_logloss: 0.36072\n",
      "[323]\ttraining's multi_logloss: 0.000515091\tvalid_0's multi_logloss: 0.360855\n",
      "[324]\ttraining's multi_logloss: 0.000509207\tvalid_0's multi_logloss: 0.361093\n",
      "[325]\ttraining's multi_logloss: 0.000501447\tvalid_0's multi_logloss: 0.361273\n",
      "[326]\ttraining's multi_logloss: 0.00049603\tvalid_0's multi_logloss: 0.361491\n"
     ]
    },
    {
     "name": "stdout",
     "output_type": "stream",
     "text": [
      "[327]\ttraining's multi_logloss: 0.000491224\tvalid_0's multi_logloss: 0.361564\n",
      "[328]\ttraining's multi_logloss: 0.000485137\tvalid_0's multi_logloss: 0.361733\n",
      "[329]\ttraining's multi_logloss: 0.000477417\tvalid_0's multi_logloss: 0.361745\n",
      "[330]\ttraining's multi_logloss: 0.000469415\tvalid_0's multi_logloss: 0.361808\n",
      "[331]\ttraining's multi_logloss: 0.000464373\tvalid_0's multi_logloss: 0.36207\n",
      "[332]\ttraining's multi_logloss: 0.000457262\tvalid_0's multi_logloss: 0.362225\n",
      "[333]\ttraining's multi_logloss: 0.000450959\tvalid_0's multi_logloss: 0.362537\n",
      "[334]\ttraining's multi_logloss: 0.000445419\tvalid_0's multi_logloss: 0.36283\n",
      "[335]\ttraining's multi_logloss: 0.000440238\tvalid_0's multi_logloss: 0.362969\n"
     ]
    },
    {
     "data": {
      "text/plain": [
       "LGBMClassifier(class_weight='balanced', early_stopping_round=50, eta=0.3,\n",
       "               max_depth=9, n_estimators=10000, num_class=4, num_leaves=400,\n",
       "               objective='multiclass')"
      ]
     },
     "execution_count": 151,
     "metadata": {},
     "output_type": "execute_result"
    }
   ],
   "source": [
    "lightbm.fit(X_train, y_train, eval_set=[(X_test, y_test), (X_train, y_train)], sample_weight=classes_weights)"
   ]
  },
  {
   "cell_type": "code",
   "execution_count": 231,
   "id": "43079368",
   "metadata": {},
   "outputs": [],
   "source": [
    "cv_score_lgb = cross_val_score(lightbm, X_train, y_train, cv=32, n_jobs=-1, scoring=\"accuracy\")"
   ]
  },
  {
   "cell_type": "code",
   "execution_count": 232,
   "id": "754261f4",
   "metadata": {},
   "outputs": [
    {
     "name": "stdout",
     "output_type": "stream",
     "text": [
      "Cross-validated Accuracy: 0.87436 ± 0.01571\n"
     ]
    }
   ],
   "source": [
    "print(\"Cross-validated Accuracy:\", round(np.mean(cv_score_lgb), 5), \"±\", round(np.std(cv_score_lgb), 5))"
   ]
  },
  {
   "cell_type": "code",
   "execution_count": 152,
   "id": "ae2b9106",
   "metadata": {},
   "outputs": [
    {
     "name": "stdout",
     "output_type": "stream",
     "text": [
      "                                                      precision    recall  f1-score   support\n",
      "\n",
      "      jet-mode radio AGN/low-excitation radio galaxy     0.7888    0.8566    0.8213      2581\n",
      "quasar-like radio AGN / high-excitation radio galaxy     0.5402    0.4481    0.4899       270\n",
      "                                     radio-quiet AGN     0.6850    0.8068    0.7409      1356\n",
      "                                 star-forming galaxy     0.9497    0.9147    0.9319     11315\n",
      "\n",
      "                                            accuracy                         0.8875     15522\n",
      "                                           macro avg     0.7409    0.7566    0.7460     15522\n",
      "                                        weighted avg     0.8927    0.8875    0.8891     15522\n",
      "\n"
     ]
    }
   ],
   "source": [
    "y_pred = lightbm.predict(X_test)\n",
    "print(classification_report(y_test, y_pred, target_names=labels, digits=4))"
   ]
  },
  {
   "cell_type": "code",
   "execution_count": 160,
   "id": "ca6631e3",
   "metadata": {},
   "outputs": [
    {
     "data": {
      "text/plain": [
       "[]"
      ]
     },
     "execution_count": 160,
     "metadata": {},
     "output_type": "execute_result"
    },
    {
     "data": {
      "image/png": "[encoded data removed]",
      "text/plain": [
       "<Figure size 432x288 with 2 Axes>"
      ]
     },
     "metadata": {
      "needs_background": "light"
     },
     "output_type": "display_data"
    }
   ],
   "source": [
    "cm = confusion_matrix(y_test, y_pred, normalize='true')\n",
    "disp = ConfusionMatrixDisplay(confusion_matrix=cm, display_labels=labels)\n",
    "disp.plot()\n",
    "plt.xticks(rotation = 90)\n",
    "plt.plot()"
   ]
  },
  {
   "cell_type": "code",
   "execution_count": 174,
   "id": "8585eee7",
   "metadata": {},
   "outputs": [],
   "source": [
    "y_pred_xgb = model.predict(X_test)\n",
    "y_pred_lgb = lightbm.predict(X_test)"
   ]
  },
  {
   "cell_type": "code",
   "execution_count": 175,
   "id": "ce60fd9c",
   "metadata": {},
   "outputs": [],
   "source": [
    "y_pred_temp = y_pred_xgb.copy()\n",
    "y_pred_temp[y_pred_temp==0] = 0\n",
    "y_pred_temp[y_pred_lgb==0] = 0"
   ]
  },
  {
   "cell_type": "code",
   "execution_count": 176,
   "id": "1d5ff409",
   "metadata": {},
   "outputs": [
    {
     "name": "stdout",
     "output_type": "stream",
     "text": [
      "                                                      precision    recall  f1-score   support\n",
      "\n",
      "      jet-mode radio AGN/low-excitation radio galaxy     0.7663    0.8842    0.8210      2581\n",
      "quasar-like radio AGN / high-excitation radio galaxy     0.5628    0.4148    0.4776       270\n",
      "                                     radio-quiet AGN     0.7199    0.7942    0.7553      1356\n",
      "                                 star-forming galaxy     0.9537    0.9144    0.9337     11315\n",
      "\n",
      "                                            accuracy                         0.8902     15522\n",
      "                                           macro avg     0.7507    0.7519    0.7469     15522\n",
      "                                        weighted avg     0.8953    0.8902    0.8914     15522\n",
      "\n"
     ]
    }
   ],
   "source": [
    "print(classification_report(y_test, y_pred_temp, target_names=labels, digits=4))"
   ]
  },
  {
   "cell_type": "markdown",
   "id": "58090610",
   "metadata": {},
   "source": [
    "# XGBoost"
   ]
  },
  {
   "cell_type": "code",
   "execution_count": 67,
   "id": "cff6c270",
   "metadata": {},
   "outputs": [],
   "source": [
    "model = XGBClassifier(use_label_encoder=False, \n",
    "                      max_depth=9, \n",
    "                      reg_alpha=0.5, \n",
    "                      min_child_weight=3, \n",
    "                      reg_lambda=3,\n",
    "                      eta=0.1, # Remember to reduce to 0.1 or 0.05 for better results\n",
    "                      tree_method='hist', # exact is more precies, but this is much faster\n",
    "                      objective='multi:softprob',\n",
    "                      n_estimators=8000,\n",
    "                      )"
   ]
  },
  {
   "cell_type": "code",
   "execution_count": 68,
   "id": "e4d86569",
   "metadata": {
    "scrolled": true
   },
   "outputs": [
    {
     "name": "stderr",
     "output_type": "stream",
     "text": [
      "C:\\Users\\jespe\\AppData\\Local\\Packages\\PythonSoftwareFoundation.Python.3.9_qbz5n2kfra8p0\\LocalCache\\local-packages\\Python39\\site-packages\\xgboost\\sklearn.py:793: UserWarning: `early_stopping_rounds` in `fit` method is deprecated for better compatibility with scikit-learn, use `early_stopping_rounds` in constructor or`set_params` instead.\n",
      "  warnings.warn(\n"
     ]
    },
    {
     "name": "stdout",
     "output_type": "stream",
     "text": [
      "[0]\tvalidation_0-mlogloss:1.27521\tvalidation_1-mlogloss:1.27937\n",
      "[1]\tvalidation_0-mlogloss:1.18238\tvalidation_1-mlogloss:1.19036\n",
      "[2]\tvalidation_0-mlogloss:1.10329\tvalidation_1-mlogloss:1.11505\n",
      "[3]\tvalidation_0-mlogloss:1.03376\tvalidation_1-mlogloss:1.04886\n",
      "[4]\tvalidation_0-mlogloss:0.97268\tvalidation_1-mlogloss:0.99095\n",
      "[5]\tvalidation_0-mlogloss:0.91917\tvalidation_1-mlogloss:0.94034\n",
      "[6]\tvalidation_0-mlogloss:0.87149\tvalidation_1-mlogloss:0.89549\n",
      "[7]\tvalidation_0-mlogloss:0.82872\tvalidation_1-mlogloss:0.85590\n",
      "[8]\tvalidation_0-mlogloss:0.78958\tvalidation_1-mlogloss:0.81914\n",
      "[9]\tvalidation_0-mlogloss:0.75393\tvalidation_1-mlogloss:0.78610\n",
      "[10]\tvalidation_0-mlogloss:0.72154\tvalidation_1-mlogloss:0.75619\n",
      "[11]\tvalidation_0-mlogloss:0.69233\tvalidation_1-mlogloss:0.72917\n",
      "[12]\tvalidation_0-mlogloss:0.66587\tvalidation_1-mlogloss:0.70480\n",
      "[13]\tvalidation_0-mlogloss:0.64159\tvalidation_1-mlogloss:0.68265\n",
      "[14]\tvalidation_0-mlogloss:0.61958\tvalidation_1-mlogloss:0.66280\n",
      "[15]\tvalidation_0-mlogloss:0.59954\tvalidation_1-mlogloss:0.64470\n",
      "[16]\tvalidation_0-mlogloss:0.58037\tvalidation_1-mlogloss:0.62734\n",
      "[17]\tvalidation_0-mlogloss:0.56237\tvalidation_1-mlogloss:0.61131\n",
      "[18]\tvalidation_0-mlogloss:0.54605\tvalidation_1-mlogloss:0.59684\n",
      "[19]\tvalidation_0-mlogloss:0.53108\tvalidation_1-mlogloss:0.58352\n",
      "[20]\tvalidation_0-mlogloss:0.51694\tvalidation_1-mlogloss:0.57097\n",
      "[21]\tvalidation_0-mlogloss:0.50382\tvalidation_1-mlogloss:0.55948\n",
      "[22]\tvalidation_0-mlogloss:0.49137\tvalidation_1-mlogloss:0.54867\n",
      "[23]\tvalidation_0-mlogloss:0.47977\tvalidation_1-mlogloss:0.53883\n",
      "[24]\tvalidation_0-mlogloss:0.46899\tvalidation_1-mlogloss:0.52968\n",
      "[25]\tvalidation_0-mlogloss:0.45831\tvalidation_1-mlogloss:0.52062\n",
      "[26]\tvalidation_0-mlogloss:0.44859\tvalidation_1-mlogloss:0.51258\n",
      "[27]\tvalidation_0-mlogloss:0.43893\tvalidation_1-mlogloss:0.50447\n",
      "[28]\tvalidation_0-mlogloss:0.43030\tvalidation_1-mlogloss:0.49732\n",
      "[29]\tvalidation_0-mlogloss:0.42175\tvalidation_1-mlogloss:0.49030\n",
      "[30]\tvalidation_0-mlogloss:0.41391\tvalidation_1-mlogloss:0.48393\n",
      "[31]\tvalidation_0-mlogloss:0.40561\tvalidation_1-mlogloss:0.47754\n",
      "[32]\tvalidation_0-mlogloss:0.39883\tvalidation_1-mlogloss:0.47222\n",
      "[33]\tvalidation_0-mlogloss:0.39172\tvalidation_1-mlogloss:0.46640\n",
      "[34]\tvalidation_0-mlogloss:0.38528\tvalidation_1-mlogloss:0.46123\n",
      "[35]\tvalidation_0-mlogloss:0.37926\tvalidation_1-mlogloss:0.45652\n",
      "[36]\tvalidation_0-mlogloss:0.37356\tvalidation_1-mlogloss:0.45215\n",
      "[37]\tvalidation_0-mlogloss:0.36739\tvalidation_1-mlogloss:0.44729\n",
      "[38]\tvalidation_0-mlogloss:0.36183\tvalidation_1-mlogloss:0.44283\n",
      "[39]\tvalidation_0-mlogloss:0.35662\tvalidation_1-mlogloss:0.43884\n",
      "[40]\tvalidation_0-mlogloss:0.35136\tvalidation_1-mlogloss:0.43488\n",
      "[41]\tvalidation_0-mlogloss:0.34635\tvalidation_1-mlogloss:0.43117\n",
      "[42]\tvalidation_0-mlogloss:0.34153\tvalidation_1-mlogloss:0.42730\n",
      "[43]\tvalidation_0-mlogloss:0.33681\tvalidation_1-mlogloss:0.42393\n",
      "[44]\tvalidation_0-mlogloss:0.33251\tvalidation_1-mlogloss:0.42052\n",
      "[45]\tvalidation_0-mlogloss:0.32802\tvalidation_1-mlogloss:0.41720\n",
      "[46]\tvalidation_0-mlogloss:0.32379\tvalidation_1-mlogloss:0.41418\n",
      "[47]\tvalidation_0-mlogloss:0.31989\tvalidation_1-mlogloss:0.41120\n",
      "[48]\tvalidation_0-mlogloss:0.31612\tvalidation_1-mlogloss:0.40838\n",
      "[49]\tvalidation_0-mlogloss:0.31226\tvalidation_1-mlogloss:0.40554\n",
      "[50]\tvalidation_0-mlogloss:0.30867\tvalidation_1-mlogloss:0.40306\n",
      "[51]\tvalidation_0-mlogloss:0.30550\tvalidation_1-mlogloss:0.40082\n",
      "[52]\tvalidation_0-mlogloss:0.30211\tvalidation_1-mlogloss:0.39830\n",
      "[53]\tvalidation_0-mlogloss:0.29882\tvalidation_1-mlogloss:0.39593\n",
      "[54]\tvalidation_0-mlogloss:0.29600\tvalidation_1-mlogloss:0.39395\n",
      "[55]\tvalidation_0-mlogloss:0.29337\tvalidation_1-mlogloss:0.39221\n",
      "[56]\tvalidation_0-mlogloss:0.29076\tvalidation_1-mlogloss:0.39034\n",
      "[57]\tvalidation_0-mlogloss:0.28777\tvalidation_1-mlogloss:0.38825\n",
      "[58]\tvalidation_0-mlogloss:0.28470\tvalidation_1-mlogloss:0.38616\n",
      "[59]\tvalidation_0-mlogloss:0.28209\tvalidation_1-mlogloss:0.38434\n",
      "[60]\tvalidation_0-mlogloss:0.27921\tvalidation_1-mlogloss:0.38242\n",
      "[61]\tvalidation_0-mlogloss:0.27673\tvalidation_1-mlogloss:0.38068\n",
      "[62]\tvalidation_0-mlogloss:0.27392\tvalidation_1-mlogloss:0.37884\n",
      "[63]\tvalidation_0-mlogloss:0.27135\tvalidation_1-mlogloss:0.37704\n",
      "[64]\tvalidation_0-mlogloss:0.26902\tvalidation_1-mlogloss:0.37543\n",
      "[65]\tvalidation_0-mlogloss:0.26646\tvalidation_1-mlogloss:0.37356\n",
      "[66]\tvalidation_0-mlogloss:0.26395\tvalidation_1-mlogloss:0.37209\n",
      "[67]\tvalidation_0-mlogloss:0.26192\tvalidation_1-mlogloss:0.37075\n",
      "[68]\tvalidation_0-mlogloss:0.25962\tvalidation_1-mlogloss:0.36939\n",
      "[69]\tvalidation_0-mlogloss:0.25723\tvalidation_1-mlogloss:0.36782\n",
      "[70]\tvalidation_0-mlogloss:0.25526\tvalidation_1-mlogloss:0.36658\n",
      "[71]\tvalidation_0-mlogloss:0.25296\tvalidation_1-mlogloss:0.36497\n",
      "[72]\tvalidation_0-mlogloss:0.25070\tvalidation_1-mlogloss:0.36357\n",
      "[73]\tvalidation_0-mlogloss:0.24875\tvalidation_1-mlogloss:0.36243\n",
      "[74]\tvalidation_0-mlogloss:0.24642\tvalidation_1-mlogloss:0.36079\n",
      "[75]\tvalidation_0-mlogloss:0.24418\tvalidation_1-mlogloss:0.35944\n",
      "[76]\tvalidation_0-mlogloss:0.24248\tvalidation_1-mlogloss:0.35856\n",
      "[77]\tvalidation_0-mlogloss:0.24040\tvalidation_1-mlogloss:0.35722\n",
      "[78]\tvalidation_0-mlogloss:0.23811\tvalidation_1-mlogloss:0.35578\n",
      "[79]\tvalidation_0-mlogloss:0.23636\tvalidation_1-mlogloss:0.35458\n",
      "[80]\tvalidation_0-mlogloss:0.23414\tvalidation_1-mlogloss:0.35329\n",
      "[81]\tvalidation_0-mlogloss:0.23225\tvalidation_1-mlogloss:0.35216\n",
      "[82]\tvalidation_0-mlogloss:0.23037\tvalidation_1-mlogloss:0.35106\n",
      "[83]\tvalidation_0-mlogloss:0.22861\tvalidation_1-mlogloss:0.34991\n",
      "[84]\tvalidation_0-mlogloss:0.22706\tvalidation_1-mlogloss:0.34916\n",
      "[85]\tvalidation_0-mlogloss:0.22575\tvalidation_1-mlogloss:0.34835\n",
      "[86]\tvalidation_0-mlogloss:0.22368\tvalidation_1-mlogloss:0.34709\n",
      "[87]\tvalidation_0-mlogloss:0.22210\tvalidation_1-mlogloss:0.34615\n",
      "[88]\tvalidation_0-mlogloss:0.22023\tvalidation_1-mlogloss:0.34516\n",
      "[89]\tvalidation_0-mlogloss:0.21875\tvalidation_1-mlogloss:0.34428\n",
      "[90]\tvalidation_0-mlogloss:0.21735\tvalidation_1-mlogloss:0.34354\n",
      "[91]\tvalidation_0-mlogloss:0.21555\tvalidation_1-mlogloss:0.34250\n",
      "[92]\tvalidation_0-mlogloss:0.21423\tvalidation_1-mlogloss:0.34169\n",
      "[93]\tvalidation_0-mlogloss:0.21274\tvalidation_1-mlogloss:0.34085\n",
      "[94]\tvalidation_0-mlogloss:0.21149\tvalidation_1-mlogloss:0.34029\n",
      "[95]\tvalidation_0-mlogloss:0.21029\tvalidation_1-mlogloss:0.33963\n",
      "[96]\tvalidation_0-mlogloss:0.20891\tvalidation_1-mlogloss:0.33887\n",
      "[97]\tvalidation_0-mlogloss:0.20722\tvalidation_1-mlogloss:0.33801\n",
      "[98]\tvalidation_0-mlogloss:0.20575\tvalidation_1-mlogloss:0.33716\n",
      "[99]\tvalidation_0-mlogloss:0.20388\tvalidation_1-mlogloss:0.33621\n",
      "[100]\tvalidation_0-mlogloss:0.20244\tvalidation_1-mlogloss:0.33528\n",
      "[101]\tvalidation_0-mlogloss:0.20074\tvalidation_1-mlogloss:0.33442\n",
      "[102]\tvalidation_0-mlogloss:0.19862\tvalidation_1-mlogloss:0.33322\n",
      "[103]\tvalidation_0-mlogloss:0.19748\tvalidation_1-mlogloss:0.33264\n",
      "[104]\tvalidation_0-mlogloss:0.19639\tvalidation_1-mlogloss:0.33194\n",
      "[105]\tvalidation_0-mlogloss:0.19491\tvalidation_1-mlogloss:0.33121\n",
      "[106]\tvalidation_0-mlogloss:0.19312\tvalidation_1-mlogloss:0.33022\n",
      "[107]\tvalidation_0-mlogloss:0.19206\tvalidation_1-mlogloss:0.32959\n",
      "[108]\tvalidation_0-mlogloss:0.19076\tvalidation_1-mlogloss:0.32893\n",
      "[109]\tvalidation_0-mlogloss:0.18936\tvalidation_1-mlogloss:0.32829\n",
      "[110]\tvalidation_0-mlogloss:0.18742\tvalidation_1-mlogloss:0.32718\n",
      "[111]\tvalidation_0-mlogloss:0.18549\tvalidation_1-mlogloss:0.32627\n",
      "[112]\tvalidation_0-mlogloss:0.18390\tvalidation_1-mlogloss:0.32525\n",
      "[113]\tvalidation_0-mlogloss:0.18284\tvalidation_1-mlogloss:0.32466\n",
      "[114]\tvalidation_0-mlogloss:0.18161\tvalidation_1-mlogloss:0.32407\n",
      "[115]\tvalidation_0-mlogloss:0.17992\tvalidation_1-mlogloss:0.32327\n",
      "[116]\tvalidation_0-mlogloss:0.17861\tvalidation_1-mlogloss:0.32251\n",
      "[117]\tvalidation_0-mlogloss:0.17741\tvalidation_1-mlogloss:0.32191\n",
      "[118]\tvalidation_0-mlogloss:0.17576\tvalidation_1-mlogloss:0.32106\n",
      "[119]\tvalidation_0-mlogloss:0.17469\tvalidation_1-mlogloss:0.32052\n",
      "[120]\tvalidation_0-mlogloss:0.17384\tvalidation_1-mlogloss:0.32005\n",
      "[121]\tvalidation_0-mlogloss:0.17283\tvalidation_1-mlogloss:0.31955\n",
      "[122]\tvalidation_0-mlogloss:0.17185\tvalidation_1-mlogloss:0.31906\n",
      "[123]\tvalidation_0-mlogloss:0.17071\tvalidation_1-mlogloss:0.31848\n",
      "[124]\tvalidation_0-mlogloss:0.16967\tvalidation_1-mlogloss:0.31797\n",
      "[125]\tvalidation_0-mlogloss:0.16849\tvalidation_1-mlogloss:0.31740\n"
     ]
    },
    {
     "name": "stdout",
     "output_type": "stream",
     "text": [
      "[126]\tvalidation_0-mlogloss:0.16737\tvalidation_1-mlogloss:0.31684\n",
      "[127]\tvalidation_0-mlogloss:0.16621\tvalidation_1-mlogloss:0.31624\n",
      "[128]\tvalidation_0-mlogloss:0.16503\tvalidation_1-mlogloss:0.31571\n",
      "[129]\tvalidation_0-mlogloss:0.16418\tvalidation_1-mlogloss:0.31533\n",
      "[130]\tvalidation_0-mlogloss:0.16314\tvalidation_1-mlogloss:0.31478\n",
      "[131]\tvalidation_0-mlogloss:0.16205\tvalidation_1-mlogloss:0.31430\n",
      "[132]\tvalidation_0-mlogloss:0.16139\tvalidation_1-mlogloss:0.31403\n",
      "[133]\tvalidation_0-mlogloss:0.16071\tvalidation_1-mlogloss:0.31373\n",
      "[134]\tvalidation_0-mlogloss:0.15957\tvalidation_1-mlogloss:0.31310\n",
      "[135]\tvalidation_0-mlogloss:0.15863\tvalidation_1-mlogloss:0.31270\n",
      "[136]\tvalidation_0-mlogloss:0.15769\tvalidation_1-mlogloss:0.31227\n",
      "[137]\tvalidation_0-mlogloss:0.15653\tvalidation_1-mlogloss:0.31166\n",
      "[138]\tvalidation_0-mlogloss:0.15574\tvalidation_1-mlogloss:0.31132\n",
      "[139]\tvalidation_0-mlogloss:0.15455\tvalidation_1-mlogloss:0.31070\n",
      "[140]\tvalidation_0-mlogloss:0.15358\tvalidation_1-mlogloss:0.31024\n",
      "[141]\tvalidation_0-mlogloss:0.15241\tvalidation_1-mlogloss:0.30967\n",
      "[142]\tvalidation_0-mlogloss:0.15161\tvalidation_1-mlogloss:0.30932\n",
      "[143]\tvalidation_0-mlogloss:0.15076\tvalidation_1-mlogloss:0.30888\n",
      "[144]\tvalidation_0-mlogloss:0.14955\tvalidation_1-mlogloss:0.30834\n",
      "[145]\tvalidation_0-mlogloss:0.14870\tvalidation_1-mlogloss:0.30786\n",
      "[146]\tvalidation_0-mlogloss:0.14782\tvalidation_1-mlogloss:0.30752\n",
      "[147]\tvalidation_0-mlogloss:0.14676\tvalidation_1-mlogloss:0.30707\n",
      "[148]\tvalidation_0-mlogloss:0.14581\tvalidation_1-mlogloss:0.30658\n",
      "[149]\tvalidation_0-mlogloss:0.14496\tvalidation_1-mlogloss:0.30624\n",
      "[150]\tvalidation_0-mlogloss:0.14396\tvalidation_1-mlogloss:0.30566\n",
      "[151]\tvalidation_0-mlogloss:0.14307\tvalidation_1-mlogloss:0.30517\n",
      "[152]\tvalidation_0-mlogloss:0.14206\tvalidation_1-mlogloss:0.30471\n",
      "[153]\tvalidation_0-mlogloss:0.14122\tvalidation_1-mlogloss:0.30433\n",
      "[154]\tvalidation_0-mlogloss:0.14044\tvalidation_1-mlogloss:0.30403\n",
      "[155]\tvalidation_0-mlogloss:0.13952\tvalidation_1-mlogloss:0.30366\n",
      "[156]\tvalidation_0-mlogloss:0.13883\tvalidation_1-mlogloss:0.30335\n",
      "[157]\tvalidation_0-mlogloss:0.13825\tvalidation_1-mlogloss:0.30315\n",
      "[158]\tvalidation_0-mlogloss:0.13737\tvalidation_1-mlogloss:0.30274\n",
      "[159]\tvalidation_0-mlogloss:0.13645\tvalidation_1-mlogloss:0.30231\n",
      "[160]\tvalidation_0-mlogloss:0.13577\tvalidation_1-mlogloss:0.30193\n",
      "[161]\tvalidation_0-mlogloss:0.13493\tvalidation_1-mlogloss:0.30164\n",
      "[162]\tvalidation_0-mlogloss:0.13436\tvalidation_1-mlogloss:0.30134\n",
      "[163]\tvalidation_0-mlogloss:0.13372\tvalidation_1-mlogloss:0.30107\n",
      "[164]\tvalidation_0-mlogloss:0.13294\tvalidation_1-mlogloss:0.30071\n",
      "[165]\tvalidation_0-mlogloss:0.13228\tvalidation_1-mlogloss:0.30043\n",
      "[166]\tvalidation_0-mlogloss:0.13160\tvalidation_1-mlogloss:0.30021\n",
      "[167]\tvalidation_0-mlogloss:0.13094\tvalidation_1-mlogloss:0.29988\n",
      "[168]\tvalidation_0-mlogloss:0.13046\tvalidation_1-mlogloss:0.29970\n",
      "[169]\tvalidation_0-mlogloss:0.12966\tvalidation_1-mlogloss:0.29941\n",
      "[170]\tvalidation_0-mlogloss:0.12884\tvalidation_1-mlogloss:0.29911\n",
      "[171]\tvalidation_0-mlogloss:0.12810\tvalidation_1-mlogloss:0.29872\n",
      "[172]\tvalidation_0-mlogloss:0.12722\tvalidation_1-mlogloss:0.29833\n",
      "[173]\tvalidation_0-mlogloss:0.12616\tvalidation_1-mlogloss:0.29786\n",
      "[174]\tvalidation_0-mlogloss:0.12536\tvalidation_1-mlogloss:0.29745\n",
      "[175]\tvalidation_0-mlogloss:0.12487\tvalidation_1-mlogloss:0.29724\n",
      "[176]\tvalidation_0-mlogloss:0.12418\tvalidation_1-mlogloss:0.29696\n",
      "[177]\tvalidation_0-mlogloss:0.12381\tvalidation_1-mlogloss:0.29679\n",
      "[178]\tvalidation_0-mlogloss:0.12315\tvalidation_1-mlogloss:0.29645\n",
      "[179]\tvalidation_0-mlogloss:0.12254\tvalidation_1-mlogloss:0.29626\n",
      "[180]\tvalidation_0-mlogloss:0.12186\tvalidation_1-mlogloss:0.29594\n",
      "[181]\tvalidation_0-mlogloss:0.12138\tvalidation_1-mlogloss:0.29572\n",
      "[182]\tvalidation_0-mlogloss:0.12047\tvalidation_1-mlogloss:0.29535\n",
      "[183]\tvalidation_0-mlogloss:0.12004\tvalidation_1-mlogloss:0.29518\n",
      "[184]\tvalidation_0-mlogloss:0.11941\tvalidation_1-mlogloss:0.29487\n",
      "[185]\tvalidation_0-mlogloss:0.11889\tvalidation_1-mlogloss:0.29467\n",
      "[186]\tvalidation_0-mlogloss:0.11837\tvalidation_1-mlogloss:0.29446\n",
      "[187]\tvalidation_0-mlogloss:0.11784\tvalidation_1-mlogloss:0.29426\n",
      "[188]\tvalidation_0-mlogloss:0.11709\tvalidation_1-mlogloss:0.29399\n",
      "[189]\tvalidation_0-mlogloss:0.11653\tvalidation_1-mlogloss:0.29375\n",
      "[190]\tvalidation_0-mlogloss:0.11595\tvalidation_1-mlogloss:0.29350\n",
      "[191]\tvalidation_0-mlogloss:0.11552\tvalidation_1-mlogloss:0.29329\n",
      "[192]\tvalidation_0-mlogloss:0.11492\tvalidation_1-mlogloss:0.29307\n",
      "[193]\tvalidation_0-mlogloss:0.11454\tvalidation_1-mlogloss:0.29292\n",
      "[194]\tvalidation_0-mlogloss:0.11386\tvalidation_1-mlogloss:0.29260\n",
      "[195]\tvalidation_0-mlogloss:0.11327\tvalidation_1-mlogloss:0.29236\n",
      "[196]\tvalidation_0-mlogloss:0.11263\tvalidation_1-mlogloss:0.29210\n",
      "[197]\tvalidation_0-mlogloss:0.11200\tvalidation_1-mlogloss:0.29186\n",
      "[198]\tvalidation_0-mlogloss:0.11130\tvalidation_1-mlogloss:0.29162\n",
      "[199]\tvalidation_0-mlogloss:0.11072\tvalidation_1-mlogloss:0.29138\n",
      "[200]\tvalidation_0-mlogloss:0.11004\tvalidation_1-mlogloss:0.29115\n",
      "[201]\tvalidation_0-mlogloss:0.10944\tvalidation_1-mlogloss:0.29089\n",
      "[202]\tvalidation_0-mlogloss:0.10880\tvalidation_1-mlogloss:0.29049\n",
      "[203]\tvalidation_0-mlogloss:0.10817\tvalidation_1-mlogloss:0.29024\n",
      "[204]\tvalidation_0-mlogloss:0.10744\tvalidation_1-mlogloss:0.28997\n",
      "[205]\tvalidation_0-mlogloss:0.10672\tvalidation_1-mlogloss:0.28970\n",
      "[206]\tvalidation_0-mlogloss:0.10614\tvalidation_1-mlogloss:0.28949\n",
      "[207]\tvalidation_0-mlogloss:0.10550\tvalidation_1-mlogloss:0.28925\n",
      "[208]\tvalidation_0-mlogloss:0.10487\tvalidation_1-mlogloss:0.28900\n",
      "[209]\tvalidation_0-mlogloss:0.10444\tvalidation_1-mlogloss:0.28884\n",
      "[210]\tvalidation_0-mlogloss:0.10377\tvalidation_1-mlogloss:0.28861\n",
      "[211]\tvalidation_0-mlogloss:0.10336\tvalidation_1-mlogloss:0.28847\n",
      "[212]\tvalidation_0-mlogloss:0.10276\tvalidation_1-mlogloss:0.28828\n",
      "[213]\tvalidation_0-mlogloss:0.10235\tvalidation_1-mlogloss:0.28809\n",
      "[214]\tvalidation_0-mlogloss:0.10190\tvalidation_1-mlogloss:0.28789\n",
      "[215]\tvalidation_0-mlogloss:0.10143\tvalidation_1-mlogloss:0.28779\n",
      "[216]\tvalidation_0-mlogloss:0.10081\tvalidation_1-mlogloss:0.28762\n",
      "[217]\tvalidation_0-mlogloss:0.10016\tvalidation_1-mlogloss:0.28741\n",
      "[218]\tvalidation_0-mlogloss:0.09966\tvalidation_1-mlogloss:0.28720\n",
      "[219]\tvalidation_0-mlogloss:0.09922\tvalidation_1-mlogloss:0.28705\n",
      "[220]\tvalidation_0-mlogloss:0.09877\tvalidation_1-mlogloss:0.28694\n",
      "[221]\tvalidation_0-mlogloss:0.09829\tvalidation_1-mlogloss:0.28678\n",
      "[222]\tvalidation_0-mlogloss:0.09766\tvalidation_1-mlogloss:0.28656\n",
      "[223]\tvalidation_0-mlogloss:0.09723\tvalidation_1-mlogloss:0.28644\n",
      "[224]\tvalidation_0-mlogloss:0.09677\tvalidation_1-mlogloss:0.28625\n",
      "[225]\tvalidation_0-mlogloss:0.09640\tvalidation_1-mlogloss:0.28617\n",
      "[226]\tvalidation_0-mlogloss:0.09586\tvalidation_1-mlogloss:0.28594\n",
      "[227]\tvalidation_0-mlogloss:0.09543\tvalidation_1-mlogloss:0.28580\n",
      "[228]\tvalidation_0-mlogloss:0.09493\tvalidation_1-mlogloss:0.28569\n",
      "[229]\tvalidation_0-mlogloss:0.09436\tvalidation_1-mlogloss:0.28548\n",
      "[230]\tvalidation_0-mlogloss:0.09371\tvalidation_1-mlogloss:0.28524\n",
      "[231]\tvalidation_0-mlogloss:0.09309\tvalidation_1-mlogloss:0.28497\n",
      "[232]\tvalidation_0-mlogloss:0.09270\tvalidation_1-mlogloss:0.28492\n",
      "[233]\tvalidation_0-mlogloss:0.09216\tvalidation_1-mlogloss:0.28464\n",
      "[234]\tvalidation_0-mlogloss:0.09166\tvalidation_1-mlogloss:0.28448\n",
      "[235]\tvalidation_0-mlogloss:0.09128\tvalidation_1-mlogloss:0.28443\n",
      "[236]\tvalidation_0-mlogloss:0.09080\tvalidation_1-mlogloss:0.28433\n",
      "[237]\tvalidation_0-mlogloss:0.09036\tvalidation_1-mlogloss:0.28424\n",
      "[238]\tvalidation_0-mlogloss:0.08990\tvalidation_1-mlogloss:0.28402\n",
      "[239]\tvalidation_0-mlogloss:0.08940\tvalidation_1-mlogloss:0.28387\n",
      "[240]\tvalidation_0-mlogloss:0.08904\tvalidation_1-mlogloss:0.28381\n",
      "[241]\tvalidation_0-mlogloss:0.08871\tvalidation_1-mlogloss:0.28373\n",
      "[242]\tvalidation_0-mlogloss:0.08834\tvalidation_1-mlogloss:0.28364\n",
      "[243]\tvalidation_0-mlogloss:0.08789\tvalidation_1-mlogloss:0.28348\n",
      "[244]\tvalidation_0-mlogloss:0.08742\tvalidation_1-mlogloss:0.28340\n",
      "[245]\tvalidation_0-mlogloss:0.08704\tvalidation_1-mlogloss:0.28332\n",
      "[246]\tvalidation_0-mlogloss:0.08654\tvalidation_1-mlogloss:0.28319\n",
      "[247]\tvalidation_0-mlogloss:0.08611\tvalidation_1-mlogloss:0.28305\n",
      "[248]\tvalidation_0-mlogloss:0.08558\tvalidation_1-mlogloss:0.28286\n",
      "[249]\tvalidation_0-mlogloss:0.08491\tvalidation_1-mlogloss:0.28274\n",
      "[250]\tvalidation_0-mlogloss:0.08445\tvalidation_1-mlogloss:0.28257\n"
     ]
    },
    {
     "name": "stdout",
     "output_type": "stream",
     "text": [
      "[251]\tvalidation_0-mlogloss:0.08396\tvalidation_1-mlogloss:0.28241\n",
      "[252]\tvalidation_0-mlogloss:0.08349\tvalidation_1-mlogloss:0.28221\n",
      "[253]\tvalidation_0-mlogloss:0.08311\tvalidation_1-mlogloss:0.28208\n",
      "[254]\tvalidation_0-mlogloss:0.08257\tvalidation_1-mlogloss:0.28198\n",
      "[255]\tvalidation_0-mlogloss:0.08230\tvalidation_1-mlogloss:0.28187\n",
      "[256]\tvalidation_0-mlogloss:0.08186\tvalidation_1-mlogloss:0.28180\n",
      "[257]\tvalidation_0-mlogloss:0.08147\tvalidation_1-mlogloss:0.28171\n",
      "[258]\tvalidation_0-mlogloss:0.08106\tvalidation_1-mlogloss:0.28162\n",
      "[259]\tvalidation_0-mlogloss:0.08072\tvalidation_1-mlogloss:0.28156\n",
      "[260]\tvalidation_0-mlogloss:0.08031\tvalidation_1-mlogloss:0.28142\n",
      "[261]\tvalidation_0-mlogloss:0.07994\tvalidation_1-mlogloss:0.28132\n",
      "[262]\tvalidation_0-mlogloss:0.07958\tvalidation_1-mlogloss:0.28123\n",
      "[263]\tvalidation_0-mlogloss:0.07930\tvalidation_1-mlogloss:0.28117\n",
      "[264]\tvalidation_0-mlogloss:0.07888\tvalidation_1-mlogloss:0.28110\n",
      "[265]\tvalidation_0-mlogloss:0.07862\tvalidation_1-mlogloss:0.28107\n",
      "[266]\tvalidation_0-mlogloss:0.07821\tvalidation_1-mlogloss:0.28091\n",
      "[267]\tvalidation_0-mlogloss:0.07769\tvalidation_1-mlogloss:0.28078\n",
      "[268]\tvalidation_0-mlogloss:0.07738\tvalidation_1-mlogloss:0.28068\n",
      "[269]\tvalidation_0-mlogloss:0.07699\tvalidation_1-mlogloss:0.28053\n",
      "[270]\tvalidation_0-mlogloss:0.07676\tvalidation_1-mlogloss:0.28051\n",
      "[271]\tvalidation_0-mlogloss:0.07629\tvalidation_1-mlogloss:0.28033\n",
      "[272]\tvalidation_0-mlogloss:0.07600\tvalidation_1-mlogloss:0.28027\n",
      "[273]\tvalidation_0-mlogloss:0.07562\tvalidation_1-mlogloss:0.28013\n",
      "[274]\tvalidation_0-mlogloss:0.07524\tvalidation_1-mlogloss:0.28010\n",
      "[275]\tvalidation_0-mlogloss:0.07493\tvalidation_1-mlogloss:0.28003\n",
      "[276]\tvalidation_0-mlogloss:0.07449\tvalidation_1-mlogloss:0.27993\n",
      "[277]\tvalidation_0-mlogloss:0.07422\tvalidation_1-mlogloss:0.27982\n",
      "[278]\tvalidation_0-mlogloss:0.07400\tvalidation_1-mlogloss:0.27976\n",
      "[279]\tvalidation_0-mlogloss:0.07376\tvalidation_1-mlogloss:0.27973\n",
      "[280]\tvalidation_0-mlogloss:0.07356\tvalidation_1-mlogloss:0.27965\n",
      "[281]\tvalidation_0-mlogloss:0.07336\tvalidation_1-mlogloss:0.27963\n",
      "[282]\tvalidation_0-mlogloss:0.07310\tvalidation_1-mlogloss:0.27958\n",
      "[283]\tvalidation_0-mlogloss:0.07268\tvalidation_1-mlogloss:0.27947\n",
      "[284]\tvalidation_0-mlogloss:0.07225\tvalidation_1-mlogloss:0.27942\n",
      "[285]\tvalidation_0-mlogloss:0.07194\tvalidation_1-mlogloss:0.27936\n",
      "[286]\tvalidation_0-mlogloss:0.07163\tvalidation_1-mlogloss:0.27924\n",
      "[287]\tvalidation_0-mlogloss:0.07139\tvalidation_1-mlogloss:0.27917\n",
      "[288]\tvalidation_0-mlogloss:0.07113\tvalidation_1-mlogloss:0.27910\n",
      "[289]\tvalidation_0-mlogloss:0.07073\tvalidation_1-mlogloss:0.27903\n",
      "[290]\tvalidation_0-mlogloss:0.07042\tvalidation_1-mlogloss:0.27891\n",
      "[291]\tvalidation_0-mlogloss:0.07012\tvalidation_1-mlogloss:0.27884\n",
      "[292]\tvalidation_0-mlogloss:0.06970\tvalidation_1-mlogloss:0.27872\n",
      "[293]\tvalidation_0-mlogloss:0.06933\tvalidation_1-mlogloss:0.27862\n",
      "[294]\tvalidation_0-mlogloss:0.06889\tvalidation_1-mlogloss:0.27850\n",
      "[295]\tvalidation_0-mlogloss:0.06858\tvalidation_1-mlogloss:0.27843\n",
      "[296]\tvalidation_0-mlogloss:0.06821\tvalidation_1-mlogloss:0.27834\n",
      "[297]\tvalidation_0-mlogloss:0.06795\tvalidation_1-mlogloss:0.27832\n",
      "[298]\tvalidation_0-mlogloss:0.06746\tvalidation_1-mlogloss:0.27817\n",
      "[299]\tvalidation_0-mlogloss:0.06715\tvalidation_1-mlogloss:0.27812\n",
      "[300]\tvalidation_0-mlogloss:0.06690\tvalidation_1-mlogloss:0.27812\n",
      "[301]\tvalidation_0-mlogloss:0.06657\tvalidation_1-mlogloss:0.27800\n",
      "[302]\tvalidation_0-mlogloss:0.06629\tvalidation_1-mlogloss:0.27796\n",
      "[303]\tvalidation_0-mlogloss:0.06609\tvalidation_1-mlogloss:0.27791\n",
      "[304]\tvalidation_0-mlogloss:0.06578\tvalidation_1-mlogloss:0.27786\n",
      "[305]\tvalidation_0-mlogloss:0.06551\tvalidation_1-mlogloss:0.27777\n",
      "[306]\tvalidation_0-mlogloss:0.06519\tvalidation_1-mlogloss:0.27775\n",
      "[307]\tvalidation_0-mlogloss:0.06483\tvalidation_1-mlogloss:0.27770\n",
      "[308]\tvalidation_0-mlogloss:0.06452\tvalidation_1-mlogloss:0.27765\n",
      "[309]\tvalidation_0-mlogloss:0.06420\tvalidation_1-mlogloss:0.27757\n",
      "[310]\tvalidation_0-mlogloss:0.06394\tvalidation_1-mlogloss:0.27749\n",
      "[311]\tvalidation_0-mlogloss:0.06363\tvalidation_1-mlogloss:0.27744\n",
      "[312]\tvalidation_0-mlogloss:0.06331\tvalidation_1-mlogloss:0.27734\n",
      "[313]\tvalidation_0-mlogloss:0.06308\tvalidation_1-mlogloss:0.27731\n",
      "[314]\tvalidation_0-mlogloss:0.06282\tvalidation_1-mlogloss:0.27726\n",
      "[315]\tvalidation_0-mlogloss:0.06259\tvalidation_1-mlogloss:0.27721\n",
      "[316]\tvalidation_0-mlogloss:0.06234\tvalidation_1-mlogloss:0.27711\n",
      "[317]\tvalidation_0-mlogloss:0.06204\tvalidation_1-mlogloss:0.27702\n",
      "[318]\tvalidation_0-mlogloss:0.06183\tvalidation_1-mlogloss:0.27700\n",
      "[319]\tvalidation_0-mlogloss:0.06150\tvalidation_1-mlogloss:0.27700\n",
      "[320]\tvalidation_0-mlogloss:0.06129\tvalidation_1-mlogloss:0.27700\n",
      "[321]\tvalidation_0-mlogloss:0.06102\tvalidation_1-mlogloss:0.27698\n",
      "[322]\tvalidation_0-mlogloss:0.06072\tvalidation_1-mlogloss:0.27698\n",
      "[323]\tvalidation_0-mlogloss:0.06051\tvalidation_1-mlogloss:0.27699\n",
      "[324]\tvalidation_0-mlogloss:0.06023\tvalidation_1-mlogloss:0.27694\n",
      "[325]\tvalidation_0-mlogloss:0.05995\tvalidation_1-mlogloss:0.27689\n",
      "[326]\tvalidation_0-mlogloss:0.05973\tvalidation_1-mlogloss:0.27684\n",
      "[327]\tvalidation_0-mlogloss:0.05952\tvalidation_1-mlogloss:0.27679\n",
      "[328]\tvalidation_0-mlogloss:0.05926\tvalidation_1-mlogloss:0.27677\n",
      "[329]\tvalidation_0-mlogloss:0.05911\tvalidation_1-mlogloss:0.27677\n",
      "[330]\tvalidation_0-mlogloss:0.05881\tvalidation_1-mlogloss:0.27681\n",
      "[331]\tvalidation_0-mlogloss:0.05855\tvalidation_1-mlogloss:0.27679\n",
      "[332]\tvalidation_0-mlogloss:0.05824\tvalidation_1-mlogloss:0.27666\n",
      "[333]\tvalidation_0-mlogloss:0.05800\tvalidation_1-mlogloss:0.27670\n",
      "[334]\tvalidation_0-mlogloss:0.05772\tvalidation_1-mlogloss:0.27663\n",
      "[335]\tvalidation_0-mlogloss:0.05745\tvalidation_1-mlogloss:0.27660\n",
      "[336]\tvalidation_0-mlogloss:0.05725\tvalidation_1-mlogloss:0.27661\n",
      "[337]\tvalidation_0-mlogloss:0.05707\tvalidation_1-mlogloss:0.27659\n",
      "[338]\tvalidation_0-mlogloss:0.05686\tvalidation_1-mlogloss:0.27657\n",
      "[339]\tvalidation_0-mlogloss:0.05660\tvalidation_1-mlogloss:0.27652\n",
      "[340]\tvalidation_0-mlogloss:0.05640\tvalidation_1-mlogloss:0.27648\n",
      "[341]\tvalidation_0-mlogloss:0.05609\tvalidation_1-mlogloss:0.27646\n",
      "[342]\tvalidation_0-mlogloss:0.05590\tvalidation_1-mlogloss:0.27647\n",
      "[343]\tvalidation_0-mlogloss:0.05566\tvalidation_1-mlogloss:0.27647\n",
      "[344]\tvalidation_0-mlogloss:0.05539\tvalidation_1-mlogloss:0.27637\n",
      "[345]\tvalidation_0-mlogloss:0.05514\tvalidation_1-mlogloss:0.27638\n",
      "[346]\tvalidation_0-mlogloss:0.05493\tvalidation_1-mlogloss:0.27634\n",
      "[347]\tvalidation_0-mlogloss:0.05469\tvalidation_1-mlogloss:0.27630\n",
      "[348]\tvalidation_0-mlogloss:0.05451\tvalidation_1-mlogloss:0.27630\n",
      "[349]\tvalidation_0-mlogloss:0.05430\tvalidation_1-mlogloss:0.27624\n",
      "[350]\tvalidation_0-mlogloss:0.05406\tvalidation_1-mlogloss:0.27623\n",
      "[351]\tvalidation_0-mlogloss:0.05382\tvalidation_1-mlogloss:0.27619\n",
      "[352]\tvalidation_0-mlogloss:0.05361\tvalidation_1-mlogloss:0.27617\n",
      "[353]\tvalidation_0-mlogloss:0.05343\tvalidation_1-mlogloss:0.27616\n",
      "[354]\tvalidation_0-mlogloss:0.05318\tvalidation_1-mlogloss:0.27609\n",
      "[355]\tvalidation_0-mlogloss:0.05300\tvalidation_1-mlogloss:0.27609\n",
      "[356]\tvalidation_0-mlogloss:0.05285\tvalidation_1-mlogloss:0.27611\n",
      "[357]\tvalidation_0-mlogloss:0.05268\tvalidation_1-mlogloss:0.27612\n",
      "[358]\tvalidation_0-mlogloss:0.05251\tvalidation_1-mlogloss:0.27616\n",
      "[359]\tvalidation_0-mlogloss:0.05237\tvalidation_1-mlogloss:0.27616\n",
      "[360]\tvalidation_0-mlogloss:0.05211\tvalidation_1-mlogloss:0.27617\n",
      "[361]\tvalidation_0-mlogloss:0.05193\tvalidation_1-mlogloss:0.27615\n",
      "[362]\tvalidation_0-mlogloss:0.05164\tvalidation_1-mlogloss:0.27612\n",
      "[363]\tvalidation_0-mlogloss:0.05141\tvalidation_1-mlogloss:0.27612\n",
      "[364]\tvalidation_0-mlogloss:0.05123\tvalidation_1-mlogloss:0.27613\n",
      "[365]\tvalidation_0-mlogloss:0.05097\tvalidation_1-mlogloss:0.27604\n",
      "[366]\tvalidation_0-mlogloss:0.05079\tvalidation_1-mlogloss:0.27600\n",
      "[367]\tvalidation_0-mlogloss:0.05064\tvalidation_1-mlogloss:0.27596\n",
      "[368]\tvalidation_0-mlogloss:0.05053\tvalidation_1-mlogloss:0.27598\n",
      "[369]\tvalidation_0-mlogloss:0.05035\tvalidation_1-mlogloss:0.27598\n",
      "[370]\tvalidation_0-mlogloss:0.05009\tvalidation_1-mlogloss:0.27595\n",
      "[371]\tvalidation_0-mlogloss:0.04993\tvalidation_1-mlogloss:0.27602\n",
      "[372]\tvalidation_0-mlogloss:0.04978\tvalidation_1-mlogloss:0.27597\n",
      "[373]\tvalidation_0-mlogloss:0.04955\tvalidation_1-mlogloss:0.27594\n",
      "[374]\tvalidation_0-mlogloss:0.04939\tvalidation_1-mlogloss:0.27594\n",
      "[375]\tvalidation_0-mlogloss:0.04923\tvalidation_1-mlogloss:0.27595\n"
     ]
    },
    {
     "name": "stdout",
     "output_type": "stream",
     "text": [
      "[376]\tvalidation_0-mlogloss:0.04907\tvalidation_1-mlogloss:0.27590\n",
      "[377]\tvalidation_0-mlogloss:0.04895\tvalidation_1-mlogloss:0.27586\n",
      "[378]\tvalidation_0-mlogloss:0.04881\tvalidation_1-mlogloss:0.27583\n",
      "[379]\tvalidation_0-mlogloss:0.04864\tvalidation_1-mlogloss:0.27581\n",
      "[380]\tvalidation_0-mlogloss:0.04845\tvalidation_1-mlogloss:0.27576\n",
      "[381]\tvalidation_0-mlogloss:0.04827\tvalidation_1-mlogloss:0.27582\n",
      "[382]\tvalidation_0-mlogloss:0.04810\tvalidation_1-mlogloss:0.27581\n",
      "[383]\tvalidation_0-mlogloss:0.04791\tvalidation_1-mlogloss:0.27578\n",
      "[384]\tvalidation_0-mlogloss:0.04775\tvalidation_1-mlogloss:0.27578\n",
      "[385]\tvalidation_0-mlogloss:0.04760\tvalidation_1-mlogloss:0.27577\n",
      "[386]\tvalidation_0-mlogloss:0.04739\tvalidation_1-mlogloss:0.27575\n",
      "[387]\tvalidation_0-mlogloss:0.04723\tvalidation_1-mlogloss:0.27575\n",
      "[388]\tvalidation_0-mlogloss:0.04707\tvalidation_1-mlogloss:0.27579\n",
      "[389]\tvalidation_0-mlogloss:0.04688\tvalidation_1-mlogloss:0.27575\n",
      "[390]\tvalidation_0-mlogloss:0.04675\tvalidation_1-mlogloss:0.27579\n",
      "[391]\tvalidation_0-mlogloss:0.04655\tvalidation_1-mlogloss:0.27579\n",
      "[392]\tvalidation_0-mlogloss:0.04633\tvalidation_1-mlogloss:0.27579\n",
      "[393]\tvalidation_0-mlogloss:0.04612\tvalidation_1-mlogloss:0.27576\n",
      "[394]\tvalidation_0-mlogloss:0.04590\tvalidation_1-mlogloss:0.27578\n",
      "[395]\tvalidation_0-mlogloss:0.04573\tvalidation_1-mlogloss:0.27579\n",
      "[396]\tvalidation_0-mlogloss:0.04557\tvalidation_1-mlogloss:0.27584\n",
      "[397]\tvalidation_0-mlogloss:0.04540\tvalidation_1-mlogloss:0.27584\n",
      "[398]\tvalidation_0-mlogloss:0.04518\tvalidation_1-mlogloss:0.27582\n",
      "[399]\tvalidation_0-mlogloss:0.04497\tvalidation_1-mlogloss:0.27580\n",
      "[400]\tvalidation_0-mlogloss:0.04482\tvalidation_1-mlogloss:0.27582\n",
      "[401]\tvalidation_0-mlogloss:0.04462\tvalidation_1-mlogloss:0.27585\n",
      "[402]\tvalidation_0-mlogloss:0.04443\tvalidation_1-mlogloss:0.27588\n",
      "[403]\tvalidation_0-mlogloss:0.04427\tvalidation_1-mlogloss:0.27586\n",
      "[404]\tvalidation_0-mlogloss:0.04407\tvalidation_1-mlogloss:0.27581\n",
      "[405]\tvalidation_0-mlogloss:0.04392\tvalidation_1-mlogloss:0.27584\n",
      "[406]\tvalidation_0-mlogloss:0.04375\tvalidation_1-mlogloss:0.27587\n",
      "[407]\tvalidation_0-mlogloss:0.04359\tvalidation_1-mlogloss:0.27583\n",
      "[408]\tvalidation_0-mlogloss:0.04343\tvalidation_1-mlogloss:0.27583\n",
      "[409]\tvalidation_0-mlogloss:0.04328\tvalidation_1-mlogloss:0.27589\n",
      "[410]\tvalidation_0-mlogloss:0.04315\tvalidation_1-mlogloss:0.27588\n",
      "[411]\tvalidation_0-mlogloss:0.04296\tvalidation_1-mlogloss:0.27592\n",
      "[412]\tvalidation_0-mlogloss:0.04282\tvalidation_1-mlogloss:0.27589\n",
      "[413]\tvalidation_0-mlogloss:0.04262\tvalidation_1-mlogloss:0.27592\n",
      "[414]\tvalidation_0-mlogloss:0.04244\tvalidation_1-mlogloss:0.27591\n",
      "[415]\tvalidation_0-mlogloss:0.04231\tvalidation_1-mlogloss:0.27593\n",
      "[416]\tvalidation_0-mlogloss:0.04215\tvalidation_1-mlogloss:0.27593\n",
      "[417]\tvalidation_0-mlogloss:0.04200\tvalidation_1-mlogloss:0.27593\n",
      "[418]\tvalidation_0-mlogloss:0.04188\tvalidation_1-mlogloss:0.27598\n",
      "[419]\tvalidation_0-mlogloss:0.04172\tvalidation_1-mlogloss:0.27600\n",
      "[420]\tvalidation_0-mlogloss:0.04157\tvalidation_1-mlogloss:0.27603\n",
      "[421]\tvalidation_0-mlogloss:0.04144\tvalidation_1-mlogloss:0.27610\n",
      "[422]\tvalidation_0-mlogloss:0.04132\tvalidation_1-mlogloss:0.27611\n",
      "[423]\tvalidation_0-mlogloss:0.04112\tvalidation_1-mlogloss:0.27614\n",
      "[424]\tvalidation_0-mlogloss:0.04096\tvalidation_1-mlogloss:0.27615\n",
      "[425]\tvalidation_0-mlogloss:0.04083\tvalidation_1-mlogloss:0.27616\n",
      "[426]\tvalidation_0-mlogloss:0.04068\tvalidation_1-mlogloss:0.27618\n",
      "[427]\tvalidation_0-mlogloss:0.04052\tvalidation_1-mlogloss:0.27622\n",
      "[428]\tvalidation_0-mlogloss:0.04036\tvalidation_1-mlogloss:0.27624\n",
      "[429]\tvalidation_0-mlogloss:0.04022\tvalidation_1-mlogloss:0.27627\n",
      "[430]\tvalidation_0-mlogloss:0.04009\tvalidation_1-mlogloss:0.27628\n",
      "[431]\tvalidation_0-mlogloss:0.03999\tvalidation_1-mlogloss:0.27633\n",
      "[432]\tvalidation_0-mlogloss:0.03987\tvalidation_1-mlogloss:0.27636\n",
      "[433]\tvalidation_0-mlogloss:0.03973\tvalidation_1-mlogloss:0.27639\n",
      "[434]\tvalidation_0-mlogloss:0.03959\tvalidation_1-mlogloss:0.27637\n",
      "[435]\tvalidation_0-mlogloss:0.03949\tvalidation_1-mlogloss:0.27639\n",
      "[436]\tvalidation_0-mlogloss:0.03935\tvalidation_1-mlogloss:0.27638\n"
     ]
    }
   ],
   "source": [
    "bst = model.fit(X_train, y_train, \n",
    "                eval_set=[(X_train, y_train), (X_test, y_test)], \n",
    "                early_stopping_rounds=50,\n",
    "                verbose=True, \n",
    "                sample_weight=classes_weights\n",
    "               ) # Maybe remove weight"
   ]
  },
  {
   "cell_type": "code",
   "execution_count": 27,
   "id": "140ac6e1",
   "metadata": {},
   "outputs": [],
   "source": [
    "bst.save_model('combined_xgboost.json')"
   ]
  },
  {
   "cell_type": "code",
   "execution_count": null,
   "id": "7a5f721f",
   "metadata": {},
   "outputs": [],
   "source": []
  },
  {
   "cell_type": "code",
   "execution_count": null,
   "id": "8958208d",
   "metadata": {},
   "outputs": [],
   "source": []
  },
  {
   "cell_type": "code",
   "execution_count": 297,
   "id": "72fb8add",
   "metadata": {
    "scrolled": true
   },
   "outputs": [
    {
     "data": {
      "text/plain": [
       "[]"
      ]
     },
     "execution_count": 297,
     "metadata": {},
     "output_type": "execute_result"
    },
    {
     "data": {
      "image/png": "[encoded data removed]",
      "text/plain": [
       "<Figure size 432x288 with 1 Axes>"
      ]
     },
     "metadata": {
      "needs_background": "light"
     },
     "output_type": "display_data"
    }
   ],
   "source": [
    "errors_test = bst.evals_result()['validation_0']['merror']\n",
    "plt.plot(range(len(errors_test)), errors_test, label='test')\n",
    "errors_train = bst.evals_result()['validation_1']['merror']\n",
    "plt.plot(range(len(errors_train)), errors_train, label='train')\n",
    "plt.title('Error rate')\n",
    "plt.legend()\n",
    "plt.plot()"
   ]
  },
  {
   "cell_type": "code",
   "execution_count": 298,
   "id": "375859cc",
   "metadata": {},
   "outputs": [
    {
     "data": {
      "text/plain": [
       "[]"
      ]
     },
     "execution_count": 298,
     "metadata": {},
     "output_type": "execute_result"
    },
    {
     "data": {
      "image/png": "[encoded data removed]",
      "text/plain": [
       "<Figure size 432x288 with 1 Axes>"
      ]
     },
     "metadata": {
      "needs_background": "light"
     },
     "output_type": "display_data"
    }
   ],
   "source": [
    "errors_test = bst.evals_result()['validation_0']['auc']\n",
    "plt.plot(range(len(errors_test)), errors_test, label='test')\n",
    "errors_train = bst.evals_result()['validation_1']['auc']\n",
    "plt.plot(range(len(errors_train)), errors_train, label='train')\n",
    "plt.title('AUC')\n",
    "plt.legend()\n",
    "plt.plot()"
   ]
  },
  {
   "cell_type": "code",
   "execution_count": 13,
   "id": "f49f47f4",
   "metadata": {},
   "outputs": [],
   "source": [
    "cross_val_model = XGBClassifier(use_label_encoder=False, \n",
    "                      max_depth=9, \n",
    "                      reg_alpha=0.5, \n",
    "                      min_child_weight=3, \n",
    "                      reg_lambda=3,\n",
    "                      eta=0.1,\n",
    "                      tree_method='hist', # exact is more precies, but this is much faster\n",
    "                      objective='multi:softprob',\n",
    "                      n_estimators=800,\n",
    "                      )"
   ]
  },
  {
   "cell_type": "code",
   "execution_count": 19,
   "id": "5dcfa811",
   "metadata": {},
   "outputs": [],
   "source": [
    "cv_score_xgb = cross_val_score(cross_val_model, X_train, y_train, cv=8, n_jobs=-1, scoring=\"accuracy\")"
   ]
  },
  {
   "cell_type": "code",
   "execution_count": 20,
   "id": "6932a336",
   "metadata": {},
   "outputs": [
    {
     "name": "stdout",
     "output_type": "stream",
     "text": [
      "[0.89923979 0.8974359  0.8976936  0.90516686 0.89795129 0.90323412\n",
      " 0.90001288 0.90231959]\n"
     ]
    }
   ],
   "source": [
    "print(cv_score_xgb)"
   ]
  },
  {
   "cell_type": "code",
   "execution_count": 21,
   "id": "19322b8a",
   "metadata": {},
   "outputs": [
    {
     "name": "stdout",
     "output_type": "stream",
     "text": [
      "Cross-validated Accuracy: 0.90038 ± 0.00269\n"
     ]
    }
   ],
   "source": [
    "print(\"Cross-validated Accuracy:\", round(np.mean(cv_score_xgb), 5), \"±\", round(np.std(cv_score_xgb), 5))"
   ]
  },
  {
   "cell_type": "code",
   "execution_count": 15,
   "id": "86581b58",
   "metadata": {},
   "outputs": [
    {
     "name": "stdout",
     "output_type": "stream",
     "text": [
      "                                                      precision    recall  f1-score   support\n",
      "\n",
      "      jet-mode radio AGN/low-excitation radio galaxy     0.8185    0.8473    0.8327      2581\n",
      "quasar-like radio AGN / high-excitation radio galaxy     0.5640    0.4407    0.4948       270\n",
      "                                     radio-quiet AGN     0.7211    0.7972    0.7573      1356\n",
      "                                 star-forming galaxy     0.9459    0.9312    0.9385     11315\n",
      "\n",
      "                                            accuracy                         0.8970     15522\n",
      "                                           macro avg     0.7624    0.7541    0.7558     15522\n",
      "                                        weighted avg     0.8984    0.8970    0.8974     15522\n",
      "\n"
     ]
    }
   ],
   "source": [
    "y_pred = model.predict(X_test)\n",
    "print(classification_report(y_test, y_pred, target_names=labels, digits=4))"
   ]
  },
  {
   "cell_type": "code",
   "execution_count": 31,
   "id": "dafe7e74",
   "metadata": {},
   "outputs": [],
   "source": []
  },
  {
   "cell_type": "code",
   "execution_count": null,
   "id": "a65955ab",
   "metadata": {},
   "outputs": [],
   "source": []
  },
  {
   "cell_type": "code",
   "execution_count": null,
   "id": "f4c29afe",
   "metadata": {},
   "outputs": [],
   "source": []
  },
  {
   "cell_type": "code",
   "execution_count": 16,
   "id": "0a663454",
   "metadata": {},
   "outputs": [
    {
     "name": "stdout",
     "output_type": "stream",
     "text": [
      "Data: 0.9802 ± 0.09751\n"
     ]
    }
   ],
   "source": [
    "test = [0.99 for i in range(99)]\n",
    "test.append(0.01)\n",
    "print(\"Data:\", round(np.mean(test), 5), \"±\", round(np.std(test), 5))"
   ]
  },
  {
   "cell_type": "code",
   "execution_count": 17,
   "id": "7d8375e7",
   "metadata": {},
   "outputs": [
    {
     "data": {
      "text/plain": [
       "[]"
      ]
     },
     "execution_count": 17,
     "metadata": {},
     "output_type": "execute_result"
    },
    {
     "data": {
      "image/png": "[encoded data removed]",
      "text/plain": [
       "<Figure size 432x288 with 2 Axes>"
      ]
     },
     "metadata": {
      "needs_background": "light"
     },
     "output_type": "display_data"
    }
   ],
   "source": [
    "cm = confusion_matrix(y_test, y_pred, normalize='true')\n",
    "disp = ConfusionMatrixDisplay(confusion_matrix=cm, display_labels=labels)\n",
    "disp.plot()\n",
    "plt.xticks(rotation = 90)\n",
    "plt.plot()"
   ]
  },
  {
   "cell_type": "markdown",
   "id": "9020cbc2",
   "metadata": {},
   "source": [
    "## Redshift dependence"
   ]
  },
  {
   "cell_type": "code",
   "execution_count": 14,
   "id": "b3aac725",
   "metadata": {},
   "outputs": [],
   "source": [
    "redshifts = X.iloc[X_train['Z_BEST'].index]['Z_BEST']"
   ]
  },
  {
   "cell_type": "code",
   "execution_count": 15,
   "id": "adfe9158",
   "metadata": {},
   "outputs": [
    {
     "data": {
      "text/plain": [
       "<AxesSubplot:>"
      ]
     },
     "execution_count": 15,
     "metadata": {},
     "output_type": "execute_result"
    },
    {
     "data": {
      "image/png": "[encoded data removed]",
      "text/plain": [
       "<Figure size 432x288 with 1 Axes>"
      ]
     },
     "metadata": {
      "needs_background": "light"
     },
     "output_type": "display_data"
    }
   ],
   "source": [
    "redshifts.hist()"
   ]
  },
  {
   "cell_type": "code",
   "execution_count": 43,
   "id": "4a9a4d3f",
   "metadata": {},
   "outputs": [],
   "source": [
    "accuracy_for_z_larger = []\n",
    "accuracy_for_z_larger_std = []\n",
    "z_range = [0,1,2,3,4]\n",
    "for z in z_range:\n",
    "    cv_score = cross_val_score(cross_val_model, X_train[redshifts>z], y_train[redshifts>z], cv=8, n_jobs=-1, scoring=\"accuracy\")\n",
    "    \n",
    "    accuracy_for_z_larger.append(np.mean(cv_score))\n",
    "    accuracy_for_z_larger_std.append(np.std(cv_score))"
   ]
  },
  {
   "cell_type": "code",
   "execution_count": 44,
   "id": "ae5c29a1",
   "metadata": {},
   "outputs": [
    {
     "data": {
      "text/plain": [
       "<ErrorbarContainer object of 3 artists>"
      ]
     },
     "execution_count": 44,
     "metadata": {},
     "output_type": "execute_result"
    },
    {
     "data": {
      "image/png": "[encoded data removed]",
      "text/plain": [
       "<Figure size 432x288 with 1 Axes>"
      ]
     },
     "metadata": {
      "needs_background": "light"
     },
     "output_type": "display_data"
    }
   ],
   "source": [
    "plt.errorbar(z_range, accuracy_for_z_larger, yerr=accuracy_for_z_larger_std)"
   ]
  },
  {
   "cell_type": "code",
   "execution_count": 126,
   "id": "35186683",
   "metadata": {},
   "outputs": [
    {
     "name": "stdout",
     "output_type": "stream",
     "text": [
      "Working on redshift range 0-0.5\n",
      "Working on redshift range 0.5-1.0\n",
      "Working on redshift range 1-1.5\n",
      "Working on redshift range 1.5-2.0\n",
      "Working on redshift range 2-2.5\n",
      "Working on redshift range 2.5-3.0\n",
      "Working on redshift range 3-3.5\n",
      "Working on redshift range 3.5-4.0\n",
      "Working on redshift range 4-4.5\n",
      "Working on redshift range 4.5-5.0\n",
      "Working on redshift range 5-5.5\n",
      "Working on redshift range 5.5-6.0\n"
     ]
    },
    {
     "name": "stderr",
     "output_type": "stream",
     "text": [
      "C:\\Users\\jespe\\AppData\\Local\\Packages\\PythonSoftwareFoundation.Python.3.9_qbz5n2kfra8p0\\LocalCache\\local-packages\\Python39\\site-packages\\sklearn\\model_selection\\_split.py:680: UserWarning: The least populated class in y has only 1 members, which is less than n_splits=8.\n",
      "  warnings.warn(\n",
      "C:\\Users\\jespe\\AppData\\Local\\Packages\\PythonSoftwareFoundation.Python.3.9_qbz5n2kfra8p0\\LocalCache\\local-packages\\Python39\\site-packages\\sklearn\\model_selection\\_validation.py:378: FitFailedWarning: \n",
      "1 fits failed out of a total of 8.\n",
      "The score on these train-test partitions for these parameters will be set to nan.\n",
      "If these failures are not expected, you can try to debug them by setting error_score='raise'.\n",
      "\n",
      "Below are more details about the failures:\n",
      "--------------------------------------------------------------------------------\n",
      "1 fits failed with the following error:\n",
      "Traceback (most recent call last):\n",
      "  File \"C:\\Users\\jespe\\AppData\\Local\\Packages\\PythonSoftwareFoundation.Python.3.9_qbz5n2kfra8p0\\LocalCache\\local-packages\\Python39\\site-packages\\sklearn\\model_selection\\_validation.py\", line 686, in _fit_and_score\n",
      "    estimator.fit(X_train, y_train, **fit_params)\n",
      "  File \"C:\\Users\\jespe\\AppData\\Local\\Packages\\PythonSoftwareFoundation.Python.3.9_qbz5n2kfra8p0\\LocalCache\\local-packages\\Python39\\site-packages\\xgboost\\core.py\", line 532, in inner_f\n",
      "    return f(**kwargs)\n",
      "  File \"C:\\Users\\jespe\\AppData\\Local\\Packages\\PythonSoftwareFoundation.Python.3.9_qbz5n2kfra8p0\\LocalCache\\local-packages\\Python39\\site-packages\\xgboost\\sklearn.py\", line 1357, in fit\n",
      "    raise ValueError(\n",
      "ValueError: Invalid classes inferred from unique values of `y`.  Expected: [0 1 2], got [0 2 3]\n",
      "\n",
      "  warnings.warn(some_fits_failed_message, FitFailedWarning)\n"
     ]
    }
   ],
   "source": [
    "accuracy_for_z_inbetween = []\n",
    "accuracy_for_z_inbetween_std = []\n",
    "z_range = [0,0.5,1,1.5,2,2.5,3,3.5,4,4.5,5]\n",
    "for z in z_range:\n",
    "    print(f\"Working on redshift range {z}-{z+0.5}\")\n",
    "    filt = ((redshifts>z) & (redshifts<(z+0.5)))\n",
    "    cv_score = cross_val_score(cross_val_model, X_train[filt], y_train[filt], cv=8, n_jobs=-1, scoring=\"accuracy\")\n",
    "    \n",
    "    accuracy_for_z_inbetween.append(np.mean(cv_score))\n",
    "    accuracy_for_z_inbetween_std.append(np.std(cv_score))"
   ]
  },
  {
   "cell_type": "code",
   "execution_count": 134,
   "id": "d9ea6b8d",
   "metadata": {},
   "outputs": [
    {
     "data": {
      "image/png": "[encoded data removed]",
      "text/plain": [
       "<Figure size 720x720 with 1 Axes>"
      ]
     },
     "metadata": {
      "needs_background": "light"
     },
     "output_type": "display_data"
    }
   ],
   "source": [
    "fig, ax = plt.subplots(figsize=(10,10))\n",
    "ax.bar(z_range, accuracy_for_z_inbetween, yerr=accuracy_for_z_inbetween_std, width=0.5)\n",
    "ax.set_ylim(0.6,1)\n",
    "\n",
    "\n",
    "ax.set_xticks(np.arange(-0.25,5.5,0.5))\n",
    "ax.set_xticklabels(np.arange(0, 6, 0.5))\n",
    "ax.grid()\n",
    "ax.set_xlabel(\"Redshift\")\n",
    "ax.set_ylabel(\"Accuracy\")\n",
    "plt.show()"
   ]
  },
  {
   "cell_type": "code",
   "execution_count": 124,
   "id": "e0a66cf2",
   "metadata": {},
   "outputs": [
    {
     "data": {
      "text/plain": [
       "55"
      ]
     },
     "execution_count": 124,
     "metadata": {},
     "output_type": "execute_result"
    }
   ],
   "source": [
    "len(X['Z_BEST'][X['Z_BEST']>6])"
   ]
  },
  {
   "cell_type": "code",
   "execution_count": 102,
   "id": "60a54ec9",
   "metadata": {},
   "outputs": [
    {
     "data": {
      "text/plain": [
       "array([-0.25,  0.25,  0.75,  1.25,  1.75,  2.25,  2.75,  3.25,  3.75,\n",
       "        4.25,  4.75])"
      ]
     },
     "execution_count": 102,
     "metadata": {},
     "output_type": "execute_result"
    }
   ],
   "source": [
    "np.array(z_range)-0.25"
   ]
  },
  {
   "cell_type": "code",
   "execution_count": 76,
   "id": "4ea89624",
   "metadata": {},
   "outputs": [
    {
     "data": {
      "text/plain": [
       "Text(0.5, 0, 'Redshift bin z - z+1')"
      ]
     },
     "execution_count": 76,
     "metadata": {},
     "output_type": "execute_result"
    },
    {
     "data": {
      "image/png": "[encoded data removed]",
      "text/plain": [
       "<Figure size 432x288 with 1 Axes>"
      ]
     },
     "metadata": {
      "needs_background": "light"
     },
     "output_type": "display_data"
    }
   ],
   "source": [
    "plt.errorbar(z_range, accuracy_for_z_inbetween, yerr=accuracy_for_z_inbetween_std)\n",
    "plt.grid()\n",
    "plt.ylabel('Accuracy')\n",
    "plt.xlabel('Redshift bin z - z+1')"
   ]
  },
  {
   "cell_type": "code",
   "execution_count": 63,
   "id": "fc29a0dc",
   "metadata": {},
   "outputs": [],
   "source": [
    "redshifts_test = X.iloc[X_test['Z_BEST'].index]['Z_BEST']"
   ]
  },
  {
   "cell_type": "code",
   "execution_count": 76,
   "id": "bc91a0df",
   "metadata": {},
   "outputs": [],
   "source": [
    "accuracy_for_z_plus_1 = []\n",
    "z_range = np.linspace(0,6,100)\n",
    "for z in z_range:\n",
    "    y_pred = model.predict(X_test[(redshifts_test>z) & (redshifts_test<(z+1))])\n",
    "    accuracy_for_z_plus_1.append(accuracy_score(y_test[((redshifts_test>z) & (redshifts_test<(z+1)))], y_pred))"
   ]
  },
  {
   "cell_type": "code",
   "execution_count": 98,
   "id": "ba788bb6",
   "metadata": {},
   "outputs": [
    {
     "data": {
      "text/plain": [
       "<matplotlib.legend.Legend at 0x14cd2d1d610>"
      ]
     },
     "execution_count": 98,
     "metadata": {},
     "output_type": "execute_result"
    },
    {
     "data": {
      "image/png": "[encoded data removed]",
      "text/plain": [
       "<Figure size 720x720 with 2 Axes>"
      ]
     },
     "metadata": {
      "needs_background": "light"
     },
     "output_type": "display_data"
    }
   ],
   "source": [
    "fig,ax = plt.subplots(figsize=(10,10))\n",
    "ax.plot(z_range, accuracy_for_z_plus_1, label='Accuracy')\n",
    "ax.grid()\n",
    "ax.set_xlabel(\"Redshift bin z - z+1\")\n",
    "ax.set_ylabel(\"Accuracy\")\n",
    "ax.set_ylim(0.6,1)\n",
    "\n",
    "ax2=ax.twinx()\n",
    "ax2.plot(z_range, counts, c='r', label='Counts')\n",
    "ax2.set_ylabel(\"Counts\")\n",
    "#ax2.xscale('log')\n",
    "fig.legend()"
   ]
  },
  {
   "cell_type": "markdown",
   "id": "8694539e",
   "metadata": {},
   "source": [
    "## Feature relevance"
   ]
  },
  {
   "cell_type": "code",
   "execution_count": null,
   "id": "fbe50647",
   "metadata": {},
   "outputs": [],
   "source": []
  },
  {
   "cell_type": "code",
   "execution_count": null,
   "id": "e7bb9df5",
   "metadata": {},
   "outputs": [],
   "source": [
    "fig, ax = plt.subplots(figsize=(10,10))\n",
    "xgb.plot_importance(model, ax=ax)"
   ]
  },
  {
   "cell_type": "markdown",
   "id": "0d5ad516",
   "metadata": {},
   "source": [
    "## Flag marking"
   ]
  },
  {
   "cell_type": "code",
   "execution_count": 69,
   "id": "6d5f62cc",
   "metadata": {},
   "outputs": [],
   "source": [
    "y_pred = model.predict(X_test)\n",
    "y_pred = pd.DataFrame(y_pred, index=X_test.index, columns=['Prediction'])"
   ]
  },
  {
   "cell_type": "code",
   "execution_count": null,
   "id": "90f8c511",
   "metadata": {},
   "outputs": [],
   "source": []
  },
  {
   "cell_type": "code",
   "execution_count": 70,
   "id": "bc994eea",
   "metadata": {},
   "outputs": [],
   "source": [
    "Xray_all = []\n",
    "opt_spec_all = []\n",
    "ext_radio_all = []\n",
    "IR_all = []\n",
    "for j in range(4):\n",
    "    for i in range(4):\n",
    "        # Finding pandas dataframes for the squares in the confusion matrix\n",
    "        cm_square = y_pred[(y_test['Classification']==j) & (y_pred['Prediction']==i)]\n",
    "        flags = y_test_flags.loc[cm_square.index]\n",
    "\n",
    "        # Finding frequencies of flags\n",
    "        Xray_freq = sum(flags['Xray'])/len(flags['Xray'])\n",
    "        opt_spec_freq = sum(flags['Opt_spec'])/len(flags['Opt_spec'])\n",
    "        ext_radio_freq = sum(flags['Extended_radio'])/len(flags['Extended_radio'])\n",
    "        IR_freq = sum(flags['IRAGN'])/len(flags['IRAGN'])\n",
    "\n",
    "        Xray_all.append(Xray_freq)\n",
    "        opt_spec_all.append(opt_spec_freq)\n",
    "        ext_radio_all.append(ext_radio_freq)\n",
    "        IR_all.append(IR_freq)"
   ]
  },
  {
   "cell_type": "code",
   "execution_count": null,
   "id": "ad2fe610",
   "metadata": {},
   "outputs": [],
   "source": []
  },
  {
   "cell_type": "code",
   "execution_count": 72,
   "id": "8d76fc48",
   "metadata": {},
   "outputs": [
    {
     "data": {
      "image/png": "[encoded data removed]",
      "text/plain": [
       "<Figure size 1080x1080 with 4 Axes>"
      ]
     },
     "metadata": {
      "needs_background": "light"
     },
     "output_type": "display_data"
    }
   ],
   "source": [
    "x = np.arange(0,26,7)\n",
    "fig, axes = plt.subplots(4, 1, figsize=(15,15), sharex='all')\n",
    "for i, ax in enumerate(axes):\n",
    "    i0 = i*4\n",
    "    i1 = (i+1)*4\n",
    "    \n",
    "    ax.bar(x, Xray_all[i0:i1], label='X-ray')\n",
    "    # For setting the tick labels\n",
    "    ax.bar(x+1, opt_spec_all[i0:i1], label='Opt_spec', tick_label=labels)\n",
    "    ax.bar(x+2, ext_radio_all[i0:i1], label='Extended radio')\n",
    "    ax.bar(x+3, IR_all[i0:i1], label='MIR')\n",
    "    ax.tick_params(axis='x', labelrotation = 90)\n",
    "    ax.set_title(f'{labels[i]}')\n",
    "    ax.set_ylim(0,1)\n",
    "    ax.legend()\n",
    "plt.tight_layout()\n",
    "fig.savefig('Flags.png')"
   ]
  },
  {
   "cell_type": "code",
   "execution_count": null,
   "id": "ffec4754",
   "metadata": {},
   "outputs": [],
   "source": []
  },
  {
   "cell_type": "markdown",
   "id": "1bfb9a33",
   "metadata": {},
   "source": [
    "# Adaboost"
   ]
  },
  {
   "cell_type": "code",
   "execution_count": 197,
   "id": "619dbf6f",
   "metadata": {},
   "outputs": [],
   "source": [
    "from sklearn.ensemble import AdaBoostClassifier"
   ]
  },
  {
   "cell_type": "code",
   "execution_count": 207,
   "id": "e54586b1",
   "metadata": {},
   "outputs": [],
   "source": [
    "ada = AdaBoostClassifier(n_estimators=50, learning_rate=0.3, random_state=42)"
   ]
  },
  {
   "cell_type": "code",
   "execution_count": 208,
   "id": "04a9394c",
   "metadata": {},
   "outputs": [
    {
     "data": {
      "text/html": [
       "<style>#sk-container-id-13 {color: black;background-color: white;}#sk-container-id-13 pre{padding: 0;}#sk-container-id-13 div.sk-toggleable {background-color: white;}#sk-container-id-13 label.sk-toggleable__label {cursor: pointer;display: block;width: 100%;margin-bottom: 0;padding: 0.3em;box-sizing: border-box;text-align: center;}#sk-container-id-13 label.sk-toggleable__label-arrow:before {content: \"▸\";float: left;margin-right: 0.25em;color: #696969;}#sk-container-id-13 label.sk-toggleable__label-arrow:hover:before {color: black;}#sk-container-id-13 div.sk-estimator:hover label.sk-toggleable__label-arrow:before {color: black;}#sk-container-id-13 div.sk-toggleable__content {max-height: 0;max-width: 0;overflow: hidden;text-align: left;background-color: #f0f8ff;}#sk-container-id-13 div.sk-toggleable__content pre {margin: 0.2em;color: black;border-radius: 0.25em;background-color: #f0f8ff;}#sk-container-id-13 input.sk-toggleable__control:checked~div.sk-toggleable__content {max-height: 200px;max-width: 100%;overflow: auto;}#sk-container-id-13 input.sk-toggleable__control:checked~label.sk-toggleable__label-arrow:before {content: \"▾\";}#sk-container-id-13 div.sk-estimator input.sk-toggleable__control:checked~label.sk-toggleable__label {background-color: #d4ebff;}#sk-container-id-13 div.sk-label input.sk-toggleable__control:checked~label.sk-toggleable__label {background-color: #d4ebff;}#sk-container-id-13 input.sk-hidden--visually {border: 0;clip: rect(1px 1px 1px 1px);clip: rect(1px, 1px, 1px, 1px);height: 1px;margin: -1px;overflow: hidden;padding: 0;position: absolute;width: 1px;}#sk-container-id-13 div.sk-estimator {font-family: monospace;background-color: #f0f8ff;border: 1px dotted black;border-radius: 0.25em;box-sizing: border-box;margin-bottom: 0.5em;}#sk-container-id-13 div.sk-estimator:hover {background-color: #d4ebff;}#sk-container-id-13 div.sk-parallel-item::after {content: \"\";width: 100%;border-bottom: 1px solid gray;flex-grow: 1;}#sk-container-id-13 div.sk-label:hover label.sk-toggleable__label {background-color: #d4ebff;}#sk-container-id-13 div.sk-serial::before {content: \"\";position: absolute;border-left: 1px solid gray;box-sizing: border-box;top: 0;bottom: 0;left: 50%;z-index: 0;}#sk-container-id-13 div.sk-serial {display: flex;flex-direction: column;align-items: center;background-color: white;padding-right: 0.2em;padding-left: 0.2em;position: relative;}#sk-container-id-13 div.sk-item {position: relative;z-index: 1;}#sk-container-id-13 div.sk-parallel {display: flex;align-items: stretch;justify-content: center;background-color: white;position: relative;}#sk-container-id-13 div.sk-item::before, #sk-container-id-13 div.sk-parallel-item::before {content: \"\";position: absolute;border-left: 1px solid gray;box-sizing: border-box;top: 0;bottom: 0;left: 50%;z-index: -1;}#sk-container-id-13 div.sk-parallel-item {display: flex;flex-direction: column;z-index: 1;position: relative;background-color: white;}#sk-container-id-13 div.sk-parallel-item:first-child::after {align-self: flex-end;width: 50%;}#sk-container-id-13 div.sk-parallel-item:last-child::after {align-self: flex-start;width: 50%;}#sk-container-id-13 div.sk-parallel-item:only-child::after {width: 0;}#sk-container-id-13 div.sk-dashed-wrapped {border: 1px dashed gray;margin: 0 0.4em 0.5em 0.4em;box-sizing: border-box;padding-bottom: 0.4em;background-color: white;}#sk-container-id-13 div.sk-label label {font-family: monospace;font-weight: bold;display: inline-block;line-height: 1.2em;}#sk-container-id-13 div.sk-label-container {text-align: center;}#sk-container-id-13 div.sk-container {/* jupyter's `normalize.less` sets `[hidden] { display: none; }` but bootstrap.min.css set `[hidden] { display: none !important; }` so we also need the `!important` here to be able to override the default hidden behavior on the sphinx rendered scikit-learn.org. See: https://github.com/scikit-learn/scikit-learn/issues/21755 */display: inline-block !important;position: relative;}#sk-container-id-13 div.sk-text-repr-fallback {display: none;}</style><div id=\"sk-container-id-13\" class=\"sk-top-container\"><div class=\"sk-text-repr-fallback\"><pre>AdaBoostClassifier(learning_rate=0.3, random_state=42)</pre><b>In a Jupyter environment, please rerun this cell to show the HTML representation or trust the notebook. <br />On GitHub, the HTML representation is unable to render, please try loading this page with nbviewer.org.</b></div><div class=\"sk-container\" hidden><div class=\"sk-item\"><div class=\"sk-estimator sk-toggleable\"><input class=\"sk-toggleable__control sk-hidden--visually\" id=\"sk-estimator-id-13\" type=\"checkbox\" checked><label for=\"sk-estimator-id-13\" class=\"sk-toggleable__label sk-toggleable__label-arrow\">AdaBoostClassifier</label><div class=\"sk-toggleable__content\"><pre>AdaBoostClassifier(learning_rate=0.3, random_state=42)</pre></div></div></div></div></div>"
      ],
      "text/plain": [
       "AdaBoostClassifier(learning_rate=0.3, random_state=42)"
      ]
     },
     "execution_count": 208,
     "metadata": {},
     "output_type": "execute_result"
    }
   ],
   "source": [
    "ada.fit(X_train, y_train, sample_weight=classes_weights)"
   ]
  },
  {
   "cell_type": "code",
   "execution_count": 209,
   "id": "e0bf676b",
   "metadata": {},
   "outputs": [
    {
     "name": "stdout",
     "output_type": "stream",
     "text": [
      "                                                      precision    recall  f1-score   support\n",
      "\n",
      "      jet-mode radio AGN/low-excitation radio galaxy     0.4535    0.5478    0.4962     10186\n",
      "quasar-like radio AGN / high-excitation radio galaxy     0.1239    0.4896    0.1978      1062\n",
      "                                     radio-quiet AGN     0.4399    0.6761    0.5330      5514\n",
      "                                 star-forming galaxy     0.8776    0.7186    0.7902     45325\n",
      "\n",
      "                                            accuracy                         0.6829     62087\n",
      "                                           macro avg     0.4738    0.6080    0.5043     62087\n",
      "                                        weighted avg     0.7563    0.6829    0.7090     62087\n",
      "\n"
     ]
    }
   ],
   "source": [
    "y_pred = ada.predict(X_train)\n",
    "print(classification_report(y_train, y_pred, target_names=labels, digits=4))"
   ]
  },
  {
   "cell_type": "code",
   "execution_count": 210,
   "id": "61c899f0",
   "metadata": {},
   "outputs": [
    {
     "name": "stdout",
     "output_type": "stream",
     "text": [
      "                                                      precision    recall  f1-score   support\n",
      "\n",
      "      jet-mode radio AGN/low-excitation radio galaxy     0.4391    0.5339    0.4819      2581\n",
      "quasar-like radio AGN / high-excitation radio galaxy     0.1155    0.4667    0.1852       270\n",
      "                                     radio-quiet AGN     0.4225    0.6652    0.5168      1356\n",
      "                                 star-forming galaxy     0.8730    0.7066    0.7810     11315\n",
      "\n",
      "                                            accuracy                         0.6701     15522\n",
      "                                           macro avg     0.4625    0.5931    0.4912     15522\n",
      "                                        weighted avg     0.7483    0.6701    0.6978     15522\n",
      "\n"
     ]
    }
   ],
   "source": [
    "y_pred = ada.predict(X_test)\n",
    "print(classification_report(y_test, y_pred, target_names=labels, digits=4))"
   ]
  },
  {
   "cell_type": "markdown",
   "id": "ebd3626a",
   "metadata": {},
   "source": [
    "# DNN"
   ]
  },
  {
   "cell_type": "code",
   "execution_count": 28,
   "id": "b91985c1",
   "metadata": {},
   "outputs": [],
   "source": [
    "class_weight = compute_class_weight(class_weight='balanced', classes=np.unique(y_train), y=y_train)\n",
    "class_weight_dic = {i:class_weight[i] for i in range(4)}"
   ]
  },
  {
   "cell_type": "code",
   "execution_count": 70,
   "id": "db3f38ca",
   "metadata": {},
   "outputs": [],
   "source": [
    "model = keras.Sequential(\n",
    "    [\n",
    "        keras.layers.Dense(\n",
    "            256, activation=\"relu\", input_shape=(X_train.shape[1],)\n",
    "        ),\n",
    "        keras.layers.Dropout(0.3),\n",
    "        keras.layers.Dense(128, activation=\"relu\"),\n",
    "        keras.layers.Dropout(0.3),\n",
    "        keras.layers.Dense(64, activation=\"relu\"),\n",
    "        keras.layers.Dropout(0.3),\n",
    "        keras.layers.Dense(64, activation=\"relu\"),\n",
    "        keras.layers.Dropout(0.3),\n",
    "        keras.layers.Dense(4),\n",
    "    ]\n",
    ")"
   ]
  },
  {
   "cell_type": "code",
   "execution_count": null,
   "id": "df4bcf59",
   "metadata": {},
   "outputs": [],
   "source": []
  },
  {
   "cell_type": "code",
   "execution_count": 71,
   "id": "c6d54148",
   "metadata": {},
   "outputs": [],
   "source": [
    "model.compile(\n",
    "    loss=keras.losses.SparseCategoricalCrossentropy(from_logits=True),\n",
    "    optimizer=\"Adam\",\n",
    "    metrics=[\"accuracy\"],\n",
    ")"
   ]
  },
  {
   "cell_type": "code",
   "execution_count": 72,
   "id": "b473b39d",
   "metadata": {},
   "outputs": [],
   "source": [
    "early_stopping = keras.callbacks.EarlyStopping(\n",
    "    patience=10,\n",
    "    restore_best_weights=True,\n",
    ")"
   ]
  },
  {
   "cell_type": "code",
   "execution_count": 74,
   "id": "f6f9dbb1",
   "metadata": {},
   "outputs": [
    {
     "name": "stdout",
     "output_type": "stream",
     "text": [
      "Epoch 1/1000\n",
      "1941/1941 [==============================] - 5s 2ms/step - loss: 1.2237 - accuracy: 0.5100 - val_loss: 1.1177 - val_accuracy: 0.6102\n",
      "Epoch 2/1000\n",
      "1941/1941 [==============================] - 5s 2ms/step - loss: 1.1852 - accuracy: 0.5153 - val_loss: 1.1890 - val_accuracy: 0.2875\n",
      "Epoch 3/1000\n",
      "1047/1941 [===============>..............] - ETA: 2s - loss: 1.1610 - accuracy: 0.5283"
     ]
    },
    {
     "ename": "KeyboardInterrupt",
     "evalue": "",
     "output_type": "error",
     "traceback": [
      "\u001b[1;31m---------------------------------------------------------------------------\u001b[0m",
      "\u001b[1;31mKeyboardInterrupt\u001b[0m                         Traceback (most recent call last)",
      "Input \u001b[1;32mIn [74]\u001b[0m, in \u001b[0;36m<cell line: 1>\u001b[1;34m()\u001b[0m\n\u001b[1;32m----> 1\u001b[0m \u001b[43mmodel\u001b[49m\u001b[38;5;241;43m.\u001b[39;49m\u001b[43mfit\u001b[49m\u001b[43m(\u001b[49m\n\u001b[0;32m      2\u001b[0m \u001b[43m    \u001b[49m\u001b[43mX_train\u001b[49m\u001b[43m,\u001b[49m\n\u001b[0;32m      3\u001b[0m \u001b[43m    \u001b[49m\u001b[43my_train\u001b[49m\u001b[43m,\u001b[49m\n\u001b[0;32m      4\u001b[0m \u001b[43m    \u001b[49m\u001b[43mbatch_size\u001b[49m\u001b[38;5;241;43m=\u001b[39;49m\u001b[38;5;241;43m32\u001b[39;49m\u001b[43m,\u001b[49m\n\u001b[0;32m      5\u001b[0m \u001b[43m    \u001b[49m\u001b[43mepochs\u001b[49m\u001b[38;5;241;43m=\u001b[39;49m\u001b[38;5;241;43m1000\u001b[39;49m\u001b[43m,\u001b[49m\n\u001b[0;32m      6\u001b[0m \u001b[43m    \u001b[49m\u001b[43mcallbacks\u001b[49m\u001b[38;5;241;43m=\u001b[39;49m\u001b[43m[\u001b[49m\u001b[43mearly_stopping\u001b[49m\u001b[43m]\u001b[49m\u001b[43m,\u001b[49m\n\u001b[0;32m      7\u001b[0m \u001b[43m    \u001b[49m\u001b[43mvalidation_data\u001b[49m\u001b[38;5;241;43m=\u001b[39;49m\u001b[43m(\u001b[49m\u001b[43mX_test\u001b[49m\u001b[43m,\u001b[49m\u001b[43m \u001b[49m\u001b[43my_test\u001b[49m\u001b[43m)\u001b[49m\u001b[43m,\u001b[49m\n\u001b[0;32m      8\u001b[0m \u001b[43m    \u001b[49m\u001b[43mclass_weight\u001b[49m\u001b[38;5;241;43m=\u001b[39;49m\u001b[43mclass_weight_dic\u001b[49m\u001b[43m,\u001b[49m\n\u001b[0;32m      9\u001b[0m \u001b[43m)\u001b[49m\n",
      "File \u001b[1;32m~\\AppData\\Local\\Packages\\PythonSoftwareFoundation.Python.3.9_qbz5n2kfra8p0\\LocalCache\\local-packages\\Python39\\site-packages\\keras\\engine\\training.py:1184\u001b[0m, in \u001b[0;36mModel.fit\u001b[1;34m(self, x, y, batch_size, epochs, verbose, callbacks, validation_split, validation_data, shuffle, class_weight, sample_weight, initial_epoch, steps_per_epoch, validation_steps, validation_batch_size, validation_freq, max_queue_size, workers, use_multiprocessing)\u001b[0m\n\u001b[0;32m   1177\u001b[0m \u001b[38;5;28;01mwith\u001b[39;00m tf\u001b[38;5;241m.\u001b[39mprofiler\u001b[38;5;241m.\u001b[39mexperimental\u001b[38;5;241m.\u001b[39mTrace(\n\u001b[0;32m   1178\u001b[0m     \u001b[38;5;124m'\u001b[39m\u001b[38;5;124mtrain\u001b[39m\u001b[38;5;124m'\u001b[39m,\n\u001b[0;32m   1179\u001b[0m     epoch_num\u001b[38;5;241m=\u001b[39mepoch,\n\u001b[0;32m   1180\u001b[0m     step_num\u001b[38;5;241m=\u001b[39mstep,\n\u001b[0;32m   1181\u001b[0m     batch_size\u001b[38;5;241m=\u001b[39mbatch_size,\n\u001b[0;32m   1182\u001b[0m     _r\u001b[38;5;241m=\u001b[39m\u001b[38;5;241m1\u001b[39m):\n\u001b[0;32m   1183\u001b[0m   callbacks\u001b[38;5;241m.\u001b[39mon_train_batch_begin(step)\n\u001b[1;32m-> 1184\u001b[0m   tmp_logs \u001b[38;5;241m=\u001b[39m \u001b[38;5;28;43mself\u001b[39;49m\u001b[38;5;241;43m.\u001b[39;49m\u001b[43mtrain_function\u001b[49m\u001b[43m(\u001b[49m\u001b[43miterator\u001b[49m\u001b[43m)\u001b[49m\n\u001b[0;32m   1185\u001b[0m   \u001b[38;5;28;01mif\u001b[39;00m data_handler\u001b[38;5;241m.\u001b[39mshould_sync:\n\u001b[0;32m   1186\u001b[0m     context\u001b[38;5;241m.\u001b[39masync_wait()\n",
      "File \u001b[1;32m~\\AppData\\Local\\Packages\\PythonSoftwareFoundation.Python.3.9_qbz5n2kfra8p0\\LocalCache\\local-packages\\Python39\\site-packages\\tensorflow\\python\\eager\\def_function.py:885\u001b[0m, in \u001b[0;36mFunction.__call__\u001b[1;34m(self, *args, **kwds)\u001b[0m\n\u001b[0;32m    882\u001b[0m compiler \u001b[38;5;241m=\u001b[39m \u001b[38;5;124m\"\u001b[39m\u001b[38;5;124mxla\u001b[39m\u001b[38;5;124m\"\u001b[39m \u001b[38;5;28;01mif\u001b[39;00m \u001b[38;5;28mself\u001b[39m\u001b[38;5;241m.\u001b[39m_jit_compile \u001b[38;5;28;01melse\u001b[39;00m \u001b[38;5;124m\"\u001b[39m\u001b[38;5;124mnonXla\u001b[39m\u001b[38;5;124m\"\u001b[39m\n\u001b[0;32m    884\u001b[0m \u001b[38;5;28;01mwith\u001b[39;00m OptionalXlaContext(\u001b[38;5;28mself\u001b[39m\u001b[38;5;241m.\u001b[39m_jit_compile):\n\u001b[1;32m--> 885\u001b[0m   result \u001b[38;5;241m=\u001b[39m \u001b[38;5;28mself\u001b[39m\u001b[38;5;241m.\u001b[39m_call(\u001b[38;5;241m*\u001b[39margs, \u001b[38;5;241m*\u001b[39m\u001b[38;5;241m*\u001b[39mkwds)\n\u001b[0;32m    887\u001b[0m new_tracing_count \u001b[38;5;241m=\u001b[39m \u001b[38;5;28mself\u001b[39m\u001b[38;5;241m.\u001b[39mexperimental_get_tracing_count()\n\u001b[0;32m    888\u001b[0m without_tracing \u001b[38;5;241m=\u001b[39m (tracing_count \u001b[38;5;241m==\u001b[39m new_tracing_count)\n",
      "File \u001b[1;32m~\\AppData\\Local\\Packages\\PythonSoftwareFoundation.Python.3.9_qbz5n2kfra8p0\\LocalCache\\local-packages\\Python39\\site-packages\\tensorflow\\python\\eager\\def_function.py:917\u001b[0m, in \u001b[0;36mFunction._call\u001b[1;34m(self, *args, **kwds)\u001b[0m\n\u001b[0;32m    914\u001b[0m   \u001b[38;5;28mself\u001b[39m\u001b[38;5;241m.\u001b[39m_lock\u001b[38;5;241m.\u001b[39mrelease()\n\u001b[0;32m    915\u001b[0m   \u001b[38;5;66;03m# In this case we have created variables on the first call, so we run the\u001b[39;00m\n\u001b[0;32m    916\u001b[0m   \u001b[38;5;66;03m# defunned version which is guaranteed to never create variables.\u001b[39;00m\n\u001b[1;32m--> 917\u001b[0m   \u001b[38;5;28;01mreturn\u001b[39;00m \u001b[38;5;28mself\u001b[39m\u001b[38;5;241m.\u001b[39m_stateless_fn(\u001b[38;5;241m*\u001b[39margs, \u001b[38;5;241m*\u001b[39m\u001b[38;5;241m*\u001b[39mkwds)  \u001b[38;5;66;03m# pylint: disable=not-callable\u001b[39;00m\n\u001b[0;32m    918\u001b[0m \u001b[38;5;28;01melif\u001b[39;00m \u001b[38;5;28mself\u001b[39m\u001b[38;5;241m.\u001b[39m_stateful_fn \u001b[38;5;129;01mis\u001b[39;00m \u001b[38;5;129;01mnot\u001b[39;00m \u001b[38;5;28;01mNone\u001b[39;00m:\n\u001b[0;32m    919\u001b[0m   \u001b[38;5;66;03m# Release the lock early so that multiple threads can perform the call\u001b[39;00m\n\u001b[0;32m    920\u001b[0m   \u001b[38;5;66;03m# in parallel.\u001b[39;00m\n\u001b[0;32m    921\u001b[0m   \u001b[38;5;28mself\u001b[39m\u001b[38;5;241m.\u001b[39m_lock\u001b[38;5;241m.\u001b[39mrelease()\n",
      "File \u001b[1;32m~\\AppData\\Local\\Packages\\PythonSoftwareFoundation.Python.3.9_qbz5n2kfra8p0\\LocalCache\\local-packages\\Python39\\site-packages\\tensorflow\\python\\eager\\function.py:3039\u001b[0m, in \u001b[0;36mFunction.__call__\u001b[1;34m(self, *args, **kwargs)\u001b[0m\n\u001b[0;32m   3036\u001b[0m \u001b[38;5;28;01mwith\u001b[39;00m \u001b[38;5;28mself\u001b[39m\u001b[38;5;241m.\u001b[39m_lock:\n\u001b[0;32m   3037\u001b[0m   (graph_function,\n\u001b[0;32m   3038\u001b[0m    filtered_flat_args) \u001b[38;5;241m=\u001b[39m \u001b[38;5;28mself\u001b[39m\u001b[38;5;241m.\u001b[39m_maybe_define_function(args, kwargs)\n\u001b[1;32m-> 3039\u001b[0m \u001b[38;5;28;01mreturn\u001b[39;00m \u001b[43mgraph_function\u001b[49m\u001b[38;5;241;43m.\u001b[39;49m\u001b[43m_call_flat\u001b[49m\u001b[43m(\u001b[49m\n\u001b[0;32m   3040\u001b[0m \u001b[43m    \u001b[49m\u001b[43mfiltered_flat_args\u001b[49m\u001b[43m,\u001b[49m\u001b[43m \u001b[49m\u001b[43mcaptured_inputs\u001b[49m\u001b[38;5;241;43m=\u001b[39;49m\u001b[43mgraph_function\u001b[49m\u001b[38;5;241;43m.\u001b[39;49m\u001b[43mcaptured_inputs\u001b[49m\u001b[43m)\u001b[49m\n",
      "File \u001b[1;32m~\\AppData\\Local\\Packages\\PythonSoftwareFoundation.Python.3.9_qbz5n2kfra8p0\\LocalCache\\local-packages\\Python39\\site-packages\\tensorflow\\python\\eager\\function.py:1963\u001b[0m, in \u001b[0;36mConcreteFunction._call_flat\u001b[1;34m(self, args, captured_inputs, cancellation_manager)\u001b[0m\n\u001b[0;32m   1959\u001b[0m possible_gradient_type \u001b[38;5;241m=\u001b[39m gradients_util\u001b[38;5;241m.\u001b[39mPossibleTapeGradientTypes(args)\n\u001b[0;32m   1960\u001b[0m \u001b[38;5;28;01mif\u001b[39;00m (possible_gradient_type \u001b[38;5;241m==\u001b[39m gradients_util\u001b[38;5;241m.\u001b[39mPOSSIBLE_GRADIENT_TYPES_NONE\n\u001b[0;32m   1961\u001b[0m     \u001b[38;5;129;01mand\u001b[39;00m executing_eagerly):\n\u001b[0;32m   1962\u001b[0m   \u001b[38;5;66;03m# No tape is watching; skip to running the function.\u001b[39;00m\n\u001b[1;32m-> 1963\u001b[0m   \u001b[38;5;28;01mreturn\u001b[39;00m \u001b[38;5;28mself\u001b[39m\u001b[38;5;241m.\u001b[39m_build_call_outputs(\u001b[38;5;28;43mself\u001b[39;49m\u001b[38;5;241;43m.\u001b[39;49m\u001b[43m_inference_function\u001b[49m\u001b[38;5;241;43m.\u001b[39;49m\u001b[43mcall\u001b[49m\u001b[43m(\u001b[49m\n\u001b[0;32m   1964\u001b[0m \u001b[43m      \u001b[49m\u001b[43mctx\u001b[49m\u001b[43m,\u001b[49m\u001b[43m \u001b[49m\u001b[43margs\u001b[49m\u001b[43m,\u001b[49m\u001b[43m \u001b[49m\u001b[43mcancellation_manager\u001b[49m\u001b[38;5;241;43m=\u001b[39;49m\u001b[43mcancellation_manager\u001b[49m\u001b[43m)\u001b[49m)\n\u001b[0;32m   1965\u001b[0m forward_backward \u001b[38;5;241m=\u001b[39m \u001b[38;5;28mself\u001b[39m\u001b[38;5;241m.\u001b[39m_select_forward_and_backward_functions(\n\u001b[0;32m   1966\u001b[0m     args,\n\u001b[0;32m   1967\u001b[0m     possible_gradient_type,\n\u001b[0;32m   1968\u001b[0m     executing_eagerly)\n\u001b[0;32m   1969\u001b[0m forward_function, args_with_tangents \u001b[38;5;241m=\u001b[39m forward_backward\u001b[38;5;241m.\u001b[39mforward()\n",
      "File \u001b[1;32m~\\AppData\\Local\\Packages\\PythonSoftwareFoundation.Python.3.9_qbz5n2kfra8p0\\LocalCache\\local-packages\\Python39\\site-packages\\tensorflow\\python\\eager\\function.py:591\u001b[0m, in \u001b[0;36m_EagerDefinedFunction.call\u001b[1;34m(self, ctx, args, cancellation_manager)\u001b[0m\n\u001b[0;32m    589\u001b[0m \u001b[38;5;28;01mwith\u001b[39;00m _InterpolateFunctionError(\u001b[38;5;28mself\u001b[39m):\n\u001b[0;32m    590\u001b[0m   \u001b[38;5;28;01mif\u001b[39;00m cancellation_manager \u001b[38;5;129;01mis\u001b[39;00m \u001b[38;5;28;01mNone\u001b[39;00m:\n\u001b[1;32m--> 591\u001b[0m     outputs \u001b[38;5;241m=\u001b[39m \u001b[43mexecute\u001b[49m\u001b[38;5;241;43m.\u001b[39;49m\u001b[43mexecute\u001b[49m\u001b[43m(\u001b[49m\n\u001b[0;32m    592\u001b[0m \u001b[43m        \u001b[49m\u001b[38;5;28;43mstr\u001b[39;49m\u001b[43m(\u001b[49m\u001b[38;5;28;43mself\u001b[39;49m\u001b[38;5;241;43m.\u001b[39;49m\u001b[43msignature\u001b[49m\u001b[38;5;241;43m.\u001b[39;49m\u001b[43mname\u001b[49m\u001b[43m)\u001b[49m\u001b[43m,\u001b[49m\n\u001b[0;32m    593\u001b[0m \u001b[43m        \u001b[49m\u001b[43mnum_outputs\u001b[49m\u001b[38;5;241;43m=\u001b[39;49m\u001b[38;5;28;43mself\u001b[39;49m\u001b[38;5;241;43m.\u001b[39;49m\u001b[43m_num_outputs\u001b[49m\u001b[43m,\u001b[49m\n\u001b[0;32m    594\u001b[0m \u001b[43m        \u001b[49m\u001b[43minputs\u001b[49m\u001b[38;5;241;43m=\u001b[39;49m\u001b[43margs\u001b[49m\u001b[43m,\u001b[49m\n\u001b[0;32m    595\u001b[0m \u001b[43m        \u001b[49m\u001b[43mattrs\u001b[49m\u001b[38;5;241;43m=\u001b[39;49m\u001b[43mattrs\u001b[49m\u001b[43m,\u001b[49m\n\u001b[0;32m    596\u001b[0m \u001b[43m        \u001b[49m\u001b[43mctx\u001b[49m\u001b[38;5;241;43m=\u001b[39;49m\u001b[43mctx\u001b[49m\u001b[43m)\u001b[49m\n\u001b[0;32m    597\u001b[0m   \u001b[38;5;28;01melse\u001b[39;00m:\n\u001b[0;32m    598\u001b[0m     outputs \u001b[38;5;241m=\u001b[39m execute\u001b[38;5;241m.\u001b[39mexecute_with_cancellation(\n\u001b[0;32m    599\u001b[0m         \u001b[38;5;28mstr\u001b[39m(\u001b[38;5;28mself\u001b[39m\u001b[38;5;241m.\u001b[39msignature\u001b[38;5;241m.\u001b[39mname),\n\u001b[0;32m    600\u001b[0m         num_outputs\u001b[38;5;241m=\u001b[39m\u001b[38;5;28mself\u001b[39m\u001b[38;5;241m.\u001b[39m_num_outputs,\n\u001b[1;32m   (...)\u001b[0m\n\u001b[0;32m    603\u001b[0m         ctx\u001b[38;5;241m=\u001b[39mctx,\n\u001b[0;32m    604\u001b[0m         cancellation_manager\u001b[38;5;241m=\u001b[39mcancellation_manager)\n",
      "File \u001b[1;32m~\\AppData\\Local\\Packages\\PythonSoftwareFoundation.Python.3.9_qbz5n2kfra8p0\\LocalCache\\local-packages\\Python39\\site-packages\\tensorflow\\python\\eager\\execute.py:59\u001b[0m, in \u001b[0;36mquick_execute\u001b[1;34m(op_name, num_outputs, inputs, attrs, ctx, name)\u001b[0m\n\u001b[0;32m     57\u001b[0m \u001b[38;5;28;01mtry\u001b[39;00m:\n\u001b[0;32m     58\u001b[0m   ctx\u001b[38;5;241m.\u001b[39mensure_initialized()\n\u001b[1;32m---> 59\u001b[0m   tensors \u001b[38;5;241m=\u001b[39m \u001b[43mpywrap_tfe\u001b[49m\u001b[38;5;241;43m.\u001b[39;49m\u001b[43mTFE_Py_Execute\u001b[49m\u001b[43m(\u001b[49m\u001b[43mctx\u001b[49m\u001b[38;5;241;43m.\u001b[39;49m\u001b[43m_handle\u001b[49m\u001b[43m,\u001b[49m\u001b[43m \u001b[49m\u001b[43mdevice_name\u001b[49m\u001b[43m,\u001b[49m\u001b[43m \u001b[49m\u001b[43mop_name\u001b[49m\u001b[43m,\u001b[49m\n\u001b[0;32m     60\u001b[0m \u001b[43m                                      \u001b[49m\u001b[43minputs\u001b[49m\u001b[43m,\u001b[49m\u001b[43m \u001b[49m\u001b[43mattrs\u001b[49m\u001b[43m,\u001b[49m\u001b[43m \u001b[49m\u001b[43mnum_outputs\u001b[49m\u001b[43m)\u001b[49m\n\u001b[0;32m     61\u001b[0m \u001b[38;5;28;01mexcept\u001b[39;00m core\u001b[38;5;241m.\u001b[39m_NotOkStatusException \u001b[38;5;28;01mas\u001b[39;00m e:\n\u001b[0;32m     62\u001b[0m   \u001b[38;5;28;01mif\u001b[39;00m name \u001b[38;5;129;01mis\u001b[39;00m \u001b[38;5;129;01mnot\u001b[39;00m \u001b[38;5;28;01mNone\u001b[39;00m:\n",
      "\u001b[1;31mKeyboardInterrupt\u001b[0m: "
     ]
    }
   ],
   "source": [
    "model.fit(\n",
    "    X_train,\n",
    "    y_train,\n",
    "    batch_size=32,\n",
    "    epochs=1000,\n",
    "    callbacks=[early_stopping],\n",
    "    validation_data=(X_test, y_test),\n",
    "    class_weight=class_weight_dic,\n",
    ")"
   ]
  },
  {
   "cell_type": "markdown",
   "id": "d5274d32",
   "metadata": {},
   "source": [
    "# SVM"
   ]
  },
  {
   "cell_type": "code",
   "execution_count": null,
   "id": "03796d6d",
   "metadata": {},
   "outputs": [],
   "source": [
    "from sklearn.svm import SVC"
   ]
  },
  {
   "cell_type": "code",
   "execution_count": null,
   "id": "76717448",
   "metadata": {},
   "outputs": [],
   "source": []
  },
  {
   "cell_type": "code",
   "execution_count": null,
   "id": "7ad98eee",
   "metadata": {},
   "outputs": [],
   "source": [
    "clf = SVC(class_weight='balanced')\n",
    "clf.fit(X_train, y_train)"
   ]
  },
  {
   "cell_type": "code",
   "execution_count": null,
   "id": "750f49b4",
   "metadata": {},
   "outputs": [],
   "source": [
    "y_pred = clf.predict(X_test)\n",
    "print(classification_report(y_test, y_pred, digits=4))"
   ]
  },
  {
   "cell_type": "code",
   "execution_count": null,
   "id": "03981cab",
   "metadata": {},
   "outputs": [],
   "source": [
    "cm = confusion_matrix(y_test, y_pred, normalize='true')\n",
    "disp = ConfusionMatrixDisplay(confusion_matrix=cm, display_labels=labels)\n",
    "disp.plot()\n",
    "plt.xticks(rotation = 90)\n",
    "plt.plot()"
   ]
  },
  {
   "cell_type": "markdown",
   "id": "25edde62",
   "metadata": {},
   "source": [
    "# temp"
   ]
  },
  {
   "cell_type": "code",
   "execution_count": 23,
   "id": "86b02bf8",
   "metadata": {},
   "outputs": [],
   "source": [
    "from sklearn.gaussian_process import GaussianProcessClassifier"
   ]
  },
  {
   "cell_type": "code",
   "execution_count": 24,
   "id": "6a3ba4b2",
   "metadata": {},
   "outputs": [
    {
     "name": "stderr",
     "output_type": "stream",
     "text": [
      "d:\\python\\python38\\lib\\site-packages\\sklearn\\utils\\validation.py:993: DataConversionWarning: A column-vector y was passed when a 1d array was expected. Please change the shape of y to (n_samples, ), for example using ravel().\n",
      "  y = column_or_1d(y, warn=True)\n"
     ]
    },
    {
     "ename": "MemoryError",
     "evalue": "Unable to allocate 14.4 GiB for an array with shape (1927366741,) and data type float64",
     "output_type": "error",
     "traceback": [
      "\u001b[1;31m---------------------------------------------------------------------------\u001b[0m",
      "\u001b[1;31mMemoryError\u001b[0m                               Traceback (most recent call last)",
      "Input \u001b[1;32mIn [24]\u001b[0m, in \u001b[0;36m<cell line: 1>\u001b[1;34m()\u001b[0m\n\u001b[1;32m----> 1\u001b[0m gpc \u001b[38;5;241m=\u001b[39m \u001b[43mGaussianProcessClassifier\u001b[49m\u001b[43m(\u001b[49m\u001b[43mrandom_state\u001b[49m\u001b[38;5;241;43m=\u001b[39;49m\u001b[38;5;241;43m0\u001b[39;49m\u001b[43m)\u001b[49m\u001b[38;5;241;43m.\u001b[39;49m\u001b[43mfit\u001b[49m\u001b[43m(\u001b[49m\u001b[43mX_train\u001b[49m\u001b[43m,\u001b[49m\u001b[43m \u001b[49m\u001b[43my_train\u001b[49m\u001b[43m)\u001b[49m\n",
      "File \u001b[1;32md:\\python\\python38\\lib\\site-packages\\sklearn\\gaussian_process\\_gpc.py:715\u001b[0m, in \u001b[0;36mGaussianProcessClassifier.fit\u001b[1;34m(self, X, y)\u001b[0m\n\u001b[0;32m    712\u001b[0m     \u001b[38;5;28;01melse\u001b[39;00m:\n\u001b[0;32m    713\u001b[0m         \u001b[38;5;28;01mraise\u001b[39;00m \u001b[38;5;167;01mValueError\u001b[39;00m(\u001b[38;5;124m\"\u001b[39m\u001b[38;5;124mUnknown multi-class mode \u001b[39m\u001b[38;5;132;01m%s\u001b[39;00m\u001b[38;5;124m\"\u001b[39m \u001b[38;5;241m%\u001b[39m \u001b[38;5;28mself\u001b[39m\u001b[38;5;241m.\u001b[39mmulti_class)\n\u001b[1;32m--> 715\u001b[0m \u001b[38;5;28;43mself\u001b[39;49m\u001b[38;5;241;43m.\u001b[39;49m\u001b[43mbase_estimator_\u001b[49m\u001b[38;5;241;43m.\u001b[39;49m\u001b[43mfit\u001b[49m\u001b[43m(\u001b[49m\u001b[43mX\u001b[49m\u001b[43m,\u001b[49m\u001b[43m \u001b[49m\u001b[43my\u001b[49m\u001b[43m)\u001b[49m\n\u001b[0;32m    717\u001b[0m \u001b[38;5;28;01mif\u001b[39;00m \u001b[38;5;28mself\u001b[39m\u001b[38;5;241m.\u001b[39mn_classes_ \u001b[38;5;241m>\u001b[39m \u001b[38;5;241m2\u001b[39m:\n\u001b[0;32m    718\u001b[0m     \u001b[38;5;28mself\u001b[39m\u001b[38;5;241m.\u001b[39mlog_marginal_likelihood_value_ \u001b[38;5;241m=\u001b[39m np\u001b[38;5;241m.\u001b[39mmean(\n\u001b[0;32m    719\u001b[0m         [\n\u001b[0;32m    720\u001b[0m             estimator\u001b[38;5;241m.\u001b[39mlog_marginal_likelihood()\n\u001b[0;32m    721\u001b[0m             \u001b[38;5;28;01mfor\u001b[39;00m estimator \u001b[38;5;129;01min\u001b[39;00m \u001b[38;5;28mself\u001b[39m\u001b[38;5;241m.\u001b[39mbase_estimator_\u001b[38;5;241m.\u001b[39mestimators_\n\u001b[0;32m    722\u001b[0m         ]\n\u001b[0;32m    723\u001b[0m     )\n",
      "File \u001b[1;32md:\\python\\python38\\lib\\site-packages\\sklearn\\multiclass.py:337\u001b[0m, in \u001b[0;36mOneVsRestClassifier.fit\u001b[1;34m(self, X, y)\u001b[0m\n\u001b[0;32m    333\u001b[0m columns \u001b[38;5;241m=\u001b[39m (col\u001b[38;5;241m.\u001b[39mtoarray()\u001b[38;5;241m.\u001b[39mravel() \u001b[38;5;28;01mfor\u001b[39;00m col \u001b[38;5;129;01min\u001b[39;00m Y\u001b[38;5;241m.\u001b[39mT)\n\u001b[0;32m    334\u001b[0m \u001b[38;5;66;03m# In cases where individual estimators are very fast to train setting\u001b[39;00m\n\u001b[0;32m    335\u001b[0m \u001b[38;5;66;03m# n_jobs > 1 in can results in slower performance due to the overhead\u001b[39;00m\n\u001b[0;32m    336\u001b[0m \u001b[38;5;66;03m# of spawning threads.  See joblib issue #112.\u001b[39;00m\n\u001b[1;32m--> 337\u001b[0m \u001b[38;5;28mself\u001b[39m\u001b[38;5;241m.\u001b[39mestimators_ \u001b[38;5;241m=\u001b[39m \u001b[43mParallel\u001b[49m\u001b[43m(\u001b[49m\u001b[43mn_jobs\u001b[49m\u001b[38;5;241;43m=\u001b[39;49m\u001b[38;5;28;43mself\u001b[39;49m\u001b[38;5;241;43m.\u001b[39;49m\u001b[43mn_jobs\u001b[49m\u001b[43m)\u001b[49m\u001b[43m(\u001b[49m\n\u001b[0;32m    338\u001b[0m \u001b[43m    \u001b[49m\u001b[43mdelayed\u001b[49m\u001b[43m(\u001b[49m\u001b[43m_fit_binary\u001b[49m\u001b[43m)\u001b[49m\u001b[43m(\u001b[49m\n\u001b[0;32m    339\u001b[0m \u001b[43m        \u001b[49m\u001b[38;5;28;43mself\u001b[39;49m\u001b[38;5;241;43m.\u001b[39;49m\u001b[43mestimator\u001b[49m\u001b[43m,\u001b[49m\n\u001b[0;32m    340\u001b[0m \u001b[43m        \u001b[49m\u001b[43mX\u001b[49m\u001b[43m,\u001b[49m\n\u001b[0;32m    341\u001b[0m \u001b[43m        \u001b[49m\u001b[43mcolumn\u001b[49m\u001b[43m,\u001b[49m\n\u001b[0;32m    342\u001b[0m \u001b[43m        \u001b[49m\u001b[43mclasses\u001b[49m\u001b[38;5;241;43m=\u001b[39;49m\u001b[43m[\u001b[49m\n\u001b[0;32m    343\u001b[0m \u001b[43m            \u001b[49m\u001b[38;5;124;43m\"\u001b[39;49m\u001b[38;5;124;43mnot \u001b[39;49m\u001b[38;5;132;43;01m%s\u001b[39;49;00m\u001b[38;5;124;43m\"\u001b[39;49m\u001b[43m \u001b[49m\u001b[38;5;241;43m%\u001b[39;49m\u001b[43m \u001b[49m\u001b[38;5;28;43mself\u001b[39;49m\u001b[38;5;241;43m.\u001b[39;49m\u001b[43mlabel_binarizer_\u001b[49m\u001b[38;5;241;43m.\u001b[39;49m\u001b[43mclasses_\u001b[49m\u001b[43m[\u001b[49m\u001b[43mi\u001b[49m\u001b[43m]\u001b[49m\u001b[43m,\u001b[49m\n\u001b[0;32m    344\u001b[0m \u001b[43m            \u001b[49m\u001b[38;5;28;43mself\u001b[39;49m\u001b[38;5;241;43m.\u001b[39;49m\u001b[43mlabel_binarizer_\u001b[49m\u001b[38;5;241;43m.\u001b[39;49m\u001b[43mclasses_\u001b[49m\u001b[43m[\u001b[49m\u001b[43mi\u001b[49m\u001b[43m]\u001b[49m\u001b[43m,\u001b[49m\n\u001b[0;32m    345\u001b[0m \u001b[43m        \u001b[49m\u001b[43m]\u001b[49m\u001b[43m,\u001b[49m\n\u001b[0;32m    346\u001b[0m \u001b[43m    \u001b[49m\u001b[43m)\u001b[49m\n\u001b[0;32m    347\u001b[0m \u001b[43m    \u001b[49m\u001b[38;5;28;43;01mfor\u001b[39;49;00m\u001b[43m \u001b[49m\u001b[43mi\u001b[49m\u001b[43m,\u001b[49m\u001b[43m \u001b[49m\u001b[43mcolumn\u001b[49m\u001b[43m \u001b[49m\u001b[38;5;129;43;01min\u001b[39;49;00m\u001b[43m \u001b[49m\u001b[38;5;28;43menumerate\u001b[39;49m\u001b[43m(\u001b[49m\u001b[43mcolumns\u001b[49m\u001b[43m)\u001b[49m\n\u001b[0;32m    348\u001b[0m \u001b[43m\u001b[49m\u001b[43m)\u001b[49m\n\u001b[0;32m    350\u001b[0m \u001b[38;5;28;01mif\u001b[39;00m \u001b[38;5;28mhasattr\u001b[39m(\u001b[38;5;28mself\u001b[39m\u001b[38;5;241m.\u001b[39mestimators_[\u001b[38;5;241m0\u001b[39m], \u001b[38;5;124m\"\u001b[39m\u001b[38;5;124mn_features_in_\u001b[39m\u001b[38;5;124m\"\u001b[39m):\n\u001b[0;32m    351\u001b[0m     \u001b[38;5;28mself\u001b[39m\u001b[38;5;241m.\u001b[39mn_features_in_ \u001b[38;5;241m=\u001b[39m \u001b[38;5;28mself\u001b[39m\u001b[38;5;241m.\u001b[39mestimators_[\u001b[38;5;241m0\u001b[39m]\u001b[38;5;241m.\u001b[39mn_features_in_\n",
      "File \u001b[1;32md:\\python\\python38\\lib\\site-packages\\joblib\\parallel.py:1043\u001b[0m, in \u001b[0;36mParallel.__call__\u001b[1;34m(self, iterable)\u001b[0m\n\u001b[0;32m   1034\u001b[0m \u001b[38;5;28;01mtry\u001b[39;00m:\n\u001b[0;32m   1035\u001b[0m     \u001b[38;5;66;03m# Only set self._iterating to True if at least a batch\u001b[39;00m\n\u001b[0;32m   1036\u001b[0m     \u001b[38;5;66;03m# was dispatched. In particular this covers the edge\u001b[39;00m\n\u001b[1;32m   (...)\u001b[0m\n\u001b[0;32m   1040\u001b[0m     \u001b[38;5;66;03m# was very quick and its callback already dispatched all the\u001b[39;00m\n\u001b[0;32m   1041\u001b[0m     \u001b[38;5;66;03m# remaining jobs.\u001b[39;00m\n\u001b[0;32m   1042\u001b[0m     \u001b[38;5;28mself\u001b[39m\u001b[38;5;241m.\u001b[39m_iterating \u001b[38;5;241m=\u001b[39m \u001b[38;5;28;01mFalse\u001b[39;00m\n\u001b[1;32m-> 1043\u001b[0m     \u001b[38;5;28;01mif\u001b[39;00m \u001b[38;5;28;43mself\u001b[39;49m\u001b[38;5;241;43m.\u001b[39;49m\u001b[43mdispatch_one_batch\u001b[49m\u001b[43m(\u001b[49m\u001b[43miterator\u001b[49m\u001b[43m)\u001b[49m:\n\u001b[0;32m   1044\u001b[0m         \u001b[38;5;28mself\u001b[39m\u001b[38;5;241m.\u001b[39m_iterating \u001b[38;5;241m=\u001b[39m \u001b[38;5;28mself\u001b[39m\u001b[38;5;241m.\u001b[39m_original_iterator \u001b[38;5;129;01mis\u001b[39;00m \u001b[38;5;129;01mnot\u001b[39;00m \u001b[38;5;28;01mNone\u001b[39;00m\n\u001b[0;32m   1046\u001b[0m     \u001b[38;5;28;01mwhile\u001b[39;00m \u001b[38;5;28mself\u001b[39m\u001b[38;5;241m.\u001b[39mdispatch_one_batch(iterator):\n",
      "File \u001b[1;32md:\\python\\python38\\lib\\site-packages\\joblib\\parallel.py:861\u001b[0m, in \u001b[0;36mParallel.dispatch_one_batch\u001b[1;34m(self, iterator)\u001b[0m\n\u001b[0;32m    859\u001b[0m     \u001b[38;5;28;01mreturn\u001b[39;00m \u001b[38;5;28;01mFalse\u001b[39;00m\n\u001b[0;32m    860\u001b[0m \u001b[38;5;28;01melse\u001b[39;00m:\n\u001b[1;32m--> 861\u001b[0m     \u001b[38;5;28;43mself\u001b[39;49m\u001b[38;5;241;43m.\u001b[39;49m\u001b[43m_dispatch\u001b[49m\u001b[43m(\u001b[49m\u001b[43mtasks\u001b[49m\u001b[43m)\u001b[49m\n\u001b[0;32m    862\u001b[0m     \u001b[38;5;28;01mreturn\u001b[39;00m \u001b[38;5;28;01mTrue\u001b[39;00m\n",
      "File \u001b[1;32md:\\python\\python38\\lib\\site-packages\\joblib\\parallel.py:779\u001b[0m, in \u001b[0;36mParallel._dispatch\u001b[1;34m(self, batch)\u001b[0m\n\u001b[0;32m    777\u001b[0m \u001b[38;5;28;01mwith\u001b[39;00m \u001b[38;5;28mself\u001b[39m\u001b[38;5;241m.\u001b[39m_lock:\n\u001b[0;32m    778\u001b[0m     job_idx \u001b[38;5;241m=\u001b[39m \u001b[38;5;28mlen\u001b[39m(\u001b[38;5;28mself\u001b[39m\u001b[38;5;241m.\u001b[39m_jobs)\n\u001b[1;32m--> 779\u001b[0m     job \u001b[38;5;241m=\u001b[39m \u001b[38;5;28;43mself\u001b[39;49m\u001b[38;5;241;43m.\u001b[39;49m\u001b[43m_backend\u001b[49m\u001b[38;5;241;43m.\u001b[39;49m\u001b[43mapply_async\u001b[49m\u001b[43m(\u001b[49m\u001b[43mbatch\u001b[49m\u001b[43m,\u001b[49m\u001b[43m \u001b[49m\u001b[43mcallback\u001b[49m\u001b[38;5;241;43m=\u001b[39;49m\u001b[43mcb\u001b[49m\u001b[43m)\u001b[49m\n\u001b[0;32m    780\u001b[0m     \u001b[38;5;66;03m# A job can complete so quickly than its callback is\u001b[39;00m\n\u001b[0;32m    781\u001b[0m     \u001b[38;5;66;03m# called before we get here, causing self._jobs to\u001b[39;00m\n\u001b[0;32m    782\u001b[0m     \u001b[38;5;66;03m# grow. To ensure correct results ordering, .insert is\u001b[39;00m\n\u001b[0;32m    783\u001b[0m     \u001b[38;5;66;03m# used (rather than .append) in the following line\u001b[39;00m\n\u001b[0;32m    784\u001b[0m     \u001b[38;5;28mself\u001b[39m\u001b[38;5;241m.\u001b[39m_jobs\u001b[38;5;241m.\u001b[39minsert(job_idx, job)\n",
      "File \u001b[1;32md:\\python\\python38\\lib\\site-packages\\joblib\\_parallel_backends.py:208\u001b[0m, in \u001b[0;36mSequentialBackend.apply_async\u001b[1;34m(self, func, callback)\u001b[0m\n\u001b[0;32m    206\u001b[0m \u001b[38;5;28;01mdef\u001b[39;00m \u001b[38;5;21mapply_async\u001b[39m(\u001b[38;5;28mself\u001b[39m, func, callback\u001b[38;5;241m=\u001b[39m\u001b[38;5;28;01mNone\u001b[39;00m):\n\u001b[0;32m    207\u001b[0m     \u001b[38;5;124;03m\"\"\"Schedule a func to be run\"\"\"\u001b[39;00m\n\u001b[1;32m--> 208\u001b[0m     result \u001b[38;5;241m=\u001b[39m \u001b[43mImmediateResult\u001b[49m\u001b[43m(\u001b[49m\u001b[43mfunc\u001b[49m\u001b[43m)\u001b[49m\n\u001b[0;32m    209\u001b[0m     \u001b[38;5;28;01mif\u001b[39;00m callback:\n\u001b[0;32m    210\u001b[0m         callback(result)\n",
      "File \u001b[1;32md:\\python\\python38\\lib\\site-packages\\joblib\\_parallel_backends.py:572\u001b[0m, in \u001b[0;36mImmediateResult.__init__\u001b[1;34m(self, batch)\u001b[0m\n\u001b[0;32m    569\u001b[0m \u001b[38;5;28;01mdef\u001b[39;00m \u001b[38;5;21m__init__\u001b[39m(\u001b[38;5;28mself\u001b[39m, batch):\n\u001b[0;32m    570\u001b[0m     \u001b[38;5;66;03m# Don't delay the application, to avoid keeping the input\u001b[39;00m\n\u001b[0;32m    571\u001b[0m     \u001b[38;5;66;03m# arguments in memory\u001b[39;00m\n\u001b[1;32m--> 572\u001b[0m     \u001b[38;5;28mself\u001b[39m\u001b[38;5;241m.\u001b[39mresults \u001b[38;5;241m=\u001b[39m \u001b[43mbatch\u001b[49m\u001b[43m(\u001b[49m\u001b[43m)\u001b[49m\n",
      "File \u001b[1;32md:\\python\\python38\\lib\\site-packages\\joblib\\parallel.py:262\u001b[0m, in \u001b[0;36mBatchedCalls.__call__\u001b[1;34m(self)\u001b[0m\n\u001b[0;32m    258\u001b[0m \u001b[38;5;28;01mdef\u001b[39;00m \u001b[38;5;21m__call__\u001b[39m(\u001b[38;5;28mself\u001b[39m):\n\u001b[0;32m    259\u001b[0m     \u001b[38;5;66;03m# Set the default nested backend to self._backend but do not set the\u001b[39;00m\n\u001b[0;32m    260\u001b[0m     \u001b[38;5;66;03m# change the default number of processes to -1\u001b[39;00m\n\u001b[0;32m    261\u001b[0m     \u001b[38;5;28;01mwith\u001b[39;00m parallel_backend(\u001b[38;5;28mself\u001b[39m\u001b[38;5;241m.\u001b[39m_backend, n_jobs\u001b[38;5;241m=\u001b[39m\u001b[38;5;28mself\u001b[39m\u001b[38;5;241m.\u001b[39m_n_jobs):\n\u001b[1;32m--> 262\u001b[0m         \u001b[38;5;28;01mreturn\u001b[39;00m [func(\u001b[38;5;241m*\u001b[39margs, \u001b[38;5;241m*\u001b[39m\u001b[38;5;241m*\u001b[39mkwargs)\n\u001b[0;32m    263\u001b[0m                 \u001b[38;5;28;01mfor\u001b[39;00m func, args, kwargs \u001b[38;5;129;01min\u001b[39;00m \u001b[38;5;28mself\u001b[39m\u001b[38;5;241m.\u001b[39mitems]\n",
      "File \u001b[1;32md:\\python\\python38\\lib\\site-packages\\joblib\\parallel.py:262\u001b[0m, in \u001b[0;36m<listcomp>\u001b[1;34m(.0)\u001b[0m\n\u001b[0;32m    258\u001b[0m \u001b[38;5;28;01mdef\u001b[39;00m \u001b[38;5;21m__call__\u001b[39m(\u001b[38;5;28mself\u001b[39m):\n\u001b[0;32m    259\u001b[0m     \u001b[38;5;66;03m# Set the default nested backend to self._backend but do not set the\u001b[39;00m\n\u001b[0;32m    260\u001b[0m     \u001b[38;5;66;03m# change the default number of processes to -1\u001b[39;00m\n\u001b[0;32m    261\u001b[0m     \u001b[38;5;28;01mwith\u001b[39;00m parallel_backend(\u001b[38;5;28mself\u001b[39m\u001b[38;5;241m.\u001b[39m_backend, n_jobs\u001b[38;5;241m=\u001b[39m\u001b[38;5;28mself\u001b[39m\u001b[38;5;241m.\u001b[39m_n_jobs):\n\u001b[1;32m--> 262\u001b[0m         \u001b[38;5;28;01mreturn\u001b[39;00m [\u001b[43mfunc\u001b[49m\u001b[43m(\u001b[49m\u001b[38;5;241;43m*\u001b[39;49m\u001b[43margs\u001b[49m\u001b[43m,\u001b[49m\u001b[43m \u001b[49m\u001b[38;5;241;43m*\u001b[39;49m\u001b[38;5;241;43m*\u001b[39;49m\u001b[43mkwargs\u001b[49m\u001b[43m)\u001b[49m\n\u001b[0;32m    263\u001b[0m                 \u001b[38;5;28;01mfor\u001b[39;00m func, args, kwargs \u001b[38;5;129;01min\u001b[39;00m \u001b[38;5;28mself\u001b[39m\u001b[38;5;241m.\u001b[39mitems]\n",
      "File \u001b[1;32md:\\python\\python38\\lib\\site-packages\\sklearn\\utils\\fixes.py:216\u001b[0m, in \u001b[0;36m_FuncWrapper.__call__\u001b[1;34m(self, *args, **kwargs)\u001b[0m\n\u001b[0;32m    214\u001b[0m \u001b[38;5;28;01mdef\u001b[39;00m \u001b[38;5;21m__call__\u001b[39m(\u001b[38;5;28mself\u001b[39m, \u001b[38;5;241m*\u001b[39margs, \u001b[38;5;241m*\u001b[39m\u001b[38;5;241m*\u001b[39mkwargs):\n\u001b[0;32m    215\u001b[0m     \u001b[38;5;28;01mwith\u001b[39;00m config_context(\u001b[38;5;241m*\u001b[39m\u001b[38;5;241m*\u001b[39m\u001b[38;5;28mself\u001b[39m\u001b[38;5;241m.\u001b[39mconfig):\n\u001b[1;32m--> 216\u001b[0m         \u001b[38;5;28;01mreturn\u001b[39;00m \u001b[38;5;28;43mself\u001b[39;49m\u001b[38;5;241;43m.\u001b[39;49m\u001b[43mfunction\u001b[49m\u001b[43m(\u001b[49m\u001b[38;5;241;43m*\u001b[39;49m\u001b[43margs\u001b[49m\u001b[43m,\u001b[49m\u001b[43m \u001b[49m\u001b[38;5;241;43m*\u001b[39;49m\u001b[38;5;241;43m*\u001b[39;49m\u001b[43mkwargs\u001b[49m\u001b[43m)\u001b[49m\n",
      "File \u001b[1;32md:\\python\\python38\\lib\\site-packages\\sklearn\\multiclass.py:85\u001b[0m, in \u001b[0;36m_fit_binary\u001b[1;34m(estimator, X, y, classes)\u001b[0m\n\u001b[0;32m     83\u001b[0m \u001b[38;5;28;01melse\u001b[39;00m:\n\u001b[0;32m     84\u001b[0m     estimator \u001b[38;5;241m=\u001b[39m clone(estimator)\n\u001b[1;32m---> 85\u001b[0m     \u001b[43mestimator\u001b[49m\u001b[38;5;241;43m.\u001b[39;49m\u001b[43mfit\u001b[49m\u001b[43m(\u001b[49m\u001b[43mX\u001b[49m\u001b[43m,\u001b[49m\u001b[43m \u001b[49m\u001b[43my\u001b[49m\u001b[43m)\u001b[49m\n\u001b[0;32m     86\u001b[0m \u001b[38;5;28;01mreturn\u001b[39;00m estimator\n",
      "File \u001b[1;32md:\\python\\python38\\lib\\site-packages\\sklearn\\gaussian_process\\_gpc.py:251\u001b[0m, in \u001b[0;36m_BinaryGaussianProcessClassifierLaplace.fit\u001b[1;34m(self, X, y)\u001b[0m\n\u001b[0;32m    249\u001b[0m     \u001b[38;5;28mself\u001b[39m\u001b[38;5;241m.\u001b[39mlog_marginal_likelihood_value_ \u001b[38;5;241m=\u001b[39m \u001b[38;5;241m-\u001b[39mnp\u001b[38;5;241m.\u001b[39mmin(lml_values)\n\u001b[0;32m    250\u001b[0m \u001b[38;5;28;01melse\u001b[39;00m:\n\u001b[1;32m--> 251\u001b[0m     \u001b[38;5;28mself\u001b[39m\u001b[38;5;241m.\u001b[39mlog_marginal_likelihood_value_ \u001b[38;5;241m=\u001b[39m \u001b[38;5;28;43mself\u001b[39;49m\u001b[38;5;241;43m.\u001b[39;49m\u001b[43mlog_marginal_likelihood\u001b[49m\u001b[43m(\u001b[49m\n\u001b[0;32m    252\u001b[0m \u001b[43m        \u001b[49m\u001b[38;5;28;43mself\u001b[39;49m\u001b[38;5;241;43m.\u001b[39;49m\u001b[43mkernel_\u001b[49m\u001b[38;5;241;43m.\u001b[39;49m\u001b[43mtheta\u001b[49m\n\u001b[0;32m    253\u001b[0m \u001b[43m    \u001b[49m\u001b[43m)\u001b[49m\n\u001b[0;32m    255\u001b[0m \u001b[38;5;66;03m# Precompute quantities required for predictions which are independent\u001b[39;00m\n\u001b[0;32m    256\u001b[0m \u001b[38;5;66;03m# of actual query points\u001b[39;00m\n\u001b[0;32m    257\u001b[0m K \u001b[38;5;241m=\u001b[39m \u001b[38;5;28mself\u001b[39m\u001b[38;5;241m.\u001b[39mkernel_(\u001b[38;5;28mself\u001b[39m\u001b[38;5;241m.\u001b[39mX_train_)\n",
      "File \u001b[1;32md:\\python\\python38\\lib\\site-packages\\sklearn\\gaussian_process\\_gpc.py:376\u001b[0m, in \u001b[0;36m_BinaryGaussianProcessClassifierLaplace.log_marginal_likelihood\u001b[1;34m(self, theta, eval_gradient, clone_kernel)\u001b[0m\n\u001b[0;32m    374\u001b[0m     K, K_gradient \u001b[38;5;241m=\u001b[39m kernel(\u001b[38;5;28mself\u001b[39m\u001b[38;5;241m.\u001b[39mX_train_, eval_gradient\u001b[38;5;241m=\u001b[39m\u001b[38;5;28;01mTrue\u001b[39;00m)\n\u001b[0;32m    375\u001b[0m \u001b[38;5;28;01melse\u001b[39;00m:\n\u001b[1;32m--> 376\u001b[0m     K \u001b[38;5;241m=\u001b[39m \u001b[43mkernel\u001b[49m\u001b[43m(\u001b[49m\u001b[38;5;28;43mself\u001b[39;49m\u001b[38;5;241;43m.\u001b[39;49m\u001b[43mX_train_\u001b[49m\u001b[43m)\u001b[49m\n\u001b[0;32m    378\u001b[0m \u001b[38;5;66;03m# Compute log-marginal-likelihood Z and also store some temporaries\u001b[39;00m\n\u001b[0;32m    379\u001b[0m \u001b[38;5;66;03m# which can be reused for computing Z's gradient\u001b[39;00m\n\u001b[0;32m    380\u001b[0m Z, (pi, W_sr, L, b, a) \u001b[38;5;241m=\u001b[39m \u001b[38;5;28mself\u001b[39m\u001b[38;5;241m.\u001b[39m_posterior_mode(K, return_temporaries\u001b[38;5;241m=\u001b[39m\u001b[38;5;28;01mTrue\u001b[39;00m)\n",
      "File \u001b[1;32md:\\python\\python38\\lib\\site-packages\\sklearn\\gaussian_process\\kernels.py:946\u001b[0m, in \u001b[0;36mProduct.__call__\u001b[1;34m(self, X, Y, eval_gradient)\u001b[0m\n\u001b[0;32m    942\u001b[0m     \u001b[38;5;28;01mreturn\u001b[39;00m K1 \u001b[38;5;241m*\u001b[39m K2, np\u001b[38;5;241m.\u001b[39mdstack(\n\u001b[0;32m    943\u001b[0m         (K1_gradient \u001b[38;5;241m*\u001b[39m K2[:, :, np\u001b[38;5;241m.\u001b[39mnewaxis], K2_gradient \u001b[38;5;241m*\u001b[39m K1[:, :, np\u001b[38;5;241m.\u001b[39mnewaxis])\n\u001b[0;32m    944\u001b[0m     )\n\u001b[0;32m    945\u001b[0m \u001b[38;5;28;01melse\u001b[39;00m:\n\u001b[1;32m--> 946\u001b[0m     \u001b[38;5;28;01mreturn\u001b[39;00m \u001b[38;5;28mself\u001b[39m\u001b[38;5;241m.\u001b[39mk1(X, Y) \u001b[38;5;241m*\u001b[39m \u001b[38;5;28;43mself\u001b[39;49m\u001b[38;5;241;43m.\u001b[39;49m\u001b[43mk2\u001b[49m\u001b[43m(\u001b[49m\u001b[43mX\u001b[49m\u001b[43m,\u001b[49m\u001b[43m \u001b[49m\u001b[43mY\u001b[49m\u001b[43m)\u001b[49m\n",
      "File \u001b[1;32md:\\python\\python38\\lib\\site-packages\\sklearn\\gaussian_process\\kernels.py:1536\u001b[0m, in \u001b[0;36mRBF.__call__\u001b[1;34m(self, X, Y, eval_gradient)\u001b[0m\n\u001b[0;32m   1534\u001b[0m length_scale \u001b[38;5;241m=\u001b[39m _check_length_scale(X, \u001b[38;5;28mself\u001b[39m\u001b[38;5;241m.\u001b[39mlength_scale)\n\u001b[0;32m   1535\u001b[0m \u001b[38;5;28;01mif\u001b[39;00m Y \u001b[38;5;129;01mis\u001b[39;00m \u001b[38;5;28;01mNone\u001b[39;00m:\n\u001b[1;32m-> 1536\u001b[0m     dists \u001b[38;5;241m=\u001b[39m \u001b[43mpdist\u001b[49m\u001b[43m(\u001b[49m\u001b[43mX\u001b[49m\u001b[43m \u001b[49m\u001b[38;5;241;43m/\u001b[39;49m\u001b[43m \u001b[49m\u001b[43mlength_scale\u001b[49m\u001b[43m,\u001b[49m\u001b[43m \u001b[49m\u001b[43mmetric\u001b[49m\u001b[38;5;241;43m=\u001b[39;49m\u001b[38;5;124;43m\"\u001b[39;49m\u001b[38;5;124;43msqeuclidean\u001b[39;49m\u001b[38;5;124;43m\"\u001b[39;49m\u001b[43m)\u001b[49m\n\u001b[0;32m   1537\u001b[0m     K \u001b[38;5;241m=\u001b[39m np\u001b[38;5;241m.\u001b[39mexp(\u001b[38;5;241m-\u001b[39m\u001b[38;5;241m0.5\u001b[39m \u001b[38;5;241m*\u001b[39m dists)\n\u001b[0;32m   1538\u001b[0m     \u001b[38;5;66;03m# convert from upper-triangular matrix to square matrix\u001b[39;00m\n",
      "File \u001b[1;32md:\\python\\python38\\lib\\site-packages\\scipy\\spatial\\distance.py:2251\u001b[0m, in \u001b[0;36mpdist\u001b[1;34m(X, metric, out, **kwargs)\u001b[0m\n\u001b[0;32m   2249\u001b[0m \u001b[38;5;28;01mif\u001b[39;00m metric_info \u001b[38;5;129;01mis\u001b[39;00m \u001b[38;5;129;01mnot\u001b[39;00m \u001b[38;5;28;01mNone\u001b[39;00m:\n\u001b[0;32m   2250\u001b[0m     pdist_fn \u001b[38;5;241m=\u001b[39m metric_info\u001b[38;5;241m.\u001b[39mpdist_func\n\u001b[1;32m-> 2251\u001b[0m     \u001b[38;5;28;01mreturn\u001b[39;00m \u001b[43mpdist_fn\u001b[49m\u001b[43m(\u001b[49m\u001b[43mX\u001b[49m\u001b[43m,\u001b[49m\u001b[43m \u001b[49m\u001b[43mout\u001b[49m\u001b[38;5;241;43m=\u001b[39;49m\u001b[43mout\u001b[49m\u001b[43m,\u001b[49m\u001b[43m \u001b[49m\u001b[38;5;241;43m*\u001b[39;49m\u001b[38;5;241;43m*\u001b[39;49m\u001b[43mkwargs\u001b[49m\u001b[43m)\u001b[49m\n\u001b[0;32m   2252\u001b[0m \u001b[38;5;28;01melif\u001b[39;00m mstr\u001b[38;5;241m.\u001b[39mstartswith(\u001b[38;5;124m\"\u001b[39m\u001b[38;5;124mtest_\u001b[39m\u001b[38;5;124m\"\u001b[39m):\n\u001b[0;32m   2253\u001b[0m     metric_info \u001b[38;5;241m=\u001b[39m _TEST_METRICS\u001b[38;5;241m.\u001b[39mget(mstr, \u001b[38;5;28;01mNone\u001b[39;00m)\n",
      "\u001b[1;31mMemoryError\u001b[0m: Unable to allocate 14.4 GiB for an array with shape (1927366741,) and data type float64"
     ]
    }
   ],
   "source": [
    "gpc = GaussianProcessClassifier(random_state=0).fit(X_train, y_train)"
   ]
  },
  {
   "cell_type": "code",
   "execution_count": null,
   "id": "4d6a7a62",
   "metadata": {},
   "outputs": [],
   "source": [
    "y_pred = gpc.predict(X_test)\n",
    "print(classification_report(y_test, y_pred, digits=4))"
   ]
  },
  {
   "cell_type": "code",
   "execution_count": 37,
   "id": "1e64ac77",
   "metadata": {},
   "outputs": [],
   "source": [
    "from sklearn.tree import DecisionTreeClassifier\n",
    "clf = DecisionTreeClassifier(random_state=0, max_depth=8).fit(X_train, y_train)"
   ]
  },
  {
   "cell_type": "code",
   "execution_count": 38,
   "id": "15319ce8",
   "metadata": {},
   "outputs": [
    {
     "name": "stdout",
     "output_type": "stream",
     "text": [
      "              precision    recall  f1-score   support\n",
      "\n",
      "           0     0.7918    0.3905    0.5231      2581\n",
      "           1     0.4298    0.1815    0.2552       270\n",
      "           2     0.6592    0.3481    0.4556      1356\n",
      "           3     0.8138    0.9651    0.8830     11315\n",
      "\n",
      "    accuracy                         0.8020     15522\n",
      "   macro avg     0.6737    0.4713    0.5292     15522\n",
      "weighted avg     0.7899    0.8020    0.7749     15522\n",
      "\n"
     ]
    }
   ],
   "source": [
    "y_pred = clf.predict(X_test)\n",
    "print(classification_report(y_test, y_pred, digits=4))"
   ]
  },
  {
   "cell_type": "code",
   "execution_count": null,
   "id": "d32d36b9",
   "metadata": {},
   "outputs": [],
   "source": []
  }
 ],
 "metadata": {
  "kernelspec": {
   "display_name": "Python 3 (ipykernel)",
   "language": "python",
   "name": "python3"
  },
  "language_info": {
   "codemirror_mode": {
    "name": "ipython",
    "version": 3
   },
   "file_extension": ".py",
   "mimetype": "text/x-python",
   "name": "python",
   "nbconvert_exporter": "python",
   "pygments_lexer": "ipython3",
   "version": "3.9.13"
  },
  "latex_envs": {
   "LaTeX_envs_menu_present": true,
   "autoclose": false,
   "autocomplete": true,
   "bibliofile": "biblio.bib",
   "cite_by": "apalike",
   "current_citInitial": 1,
   "eqLabelWithNumbers": true,
   "eqNumInitial": 1,
   "hotkeys": {
    "equation": "Ctrl-E",
    "itemize": "Ctrl-I"
   },
   "labels_anchors": false,
   "latex_user_defs": false,
   "report_style_numbering": false,
   "user_envs_cfg": false
  }
 },
 "nbformat": 4,
 "nbformat_minor": 5
}
