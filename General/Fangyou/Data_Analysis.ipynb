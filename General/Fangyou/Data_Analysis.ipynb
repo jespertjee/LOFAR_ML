{
 "cells": [
  {
   "cell_type": "code",
   "execution_count": 1,
   "id": "350fe6eb",
   "metadata": {},
   "outputs": [],
   "source": [
    "from astropy.table import Table\n",
    "import pandas as pd\n",
    "import numpy as np\n",
    "import os\n",
    "import seaborn as sns\n",
    "import matplotlib.pyplot as plt\n",
    "from IPython.display import display"
   ]
  },
  {
   "cell_type": "code",
   "execution_count": 2,
   "id": "68948df0",
   "metadata": {},
   "outputs": [],
   "source": [
    "def open_fits(filename: str):\n",
    "    \"\"\"\"\n",
    "    Open fits file and load it as a pandas dataframe\n",
    "\n",
    "    :param filename: location of the fits file\n",
    "\n",
    "    :returns: data, pandas dataframe\n",
    "    \"\"\"\n",
    "    dat = Table.read(filename, format='fits')\n",
    "    data = dat.to_pandas()\n",
    "    return data"
   ]
  },
  {
   "cell_type": "code",
   "execution_count": 3,
   "id": "7dedea95",
   "metadata": {},
   "outputs": [],
   "source": [
    "# Creating file paths\n",
    "folder_path = \"../../Data/Fangyou_data/Cleaned/\"\n",
    "files = os.listdir(folder_path)\n",
    "file_paths = [folder_path + file for file in files]"
   ]
  },
  {
   "cell_type": "code",
   "execution_count": 4,
   "id": "046756e5",
   "metadata": {},
   "outputs": [
    {
     "name": "stdout",
     "output_type": "stream",
     "text": [
      "../../Data/Fangyou_data/Cleaned/Bootes_clean.csv  has  17729  rows.\n",
      "../../Data/Fangyou_data/Cleaned/Combined.csv  has  77609  rows.\n",
      "../../Data/Fangyou_data/Cleaned/Elais-N1_clean.csv  has  30248  rows.\n",
      "../../Data/Fangyou_data/Cleaned/Lockman_clean.csv  has  29632  rows.\n"
     ]
    }
   ],
   "source": [
    "data = []\n",
    "for file in file_paths:\n",
    "    dat = pd.read_csv(file)\n",
    "    print(file, \" has \", len(dat), \" rows.\")\n",
    "    data.append(dat)"
   ]
  },
  {
   "cell_type": "code",
   "execution_count": 5,
   "id": "832991db",
   "metadata": {},
   "outputs": [
    {
     "ename": "IndexError",
     "evalue": "index 3 is out of bounds for axis 0 with size 3",
     "output_type": "error",
     "traceback": [
      "\u001b[1;31m---------------------------------------------------------------------------\u001b[0m",
      "\u001b[1;31mIndexError\u001b[0m                                Traceback (most recent call last)",
      "Input \u001b[1;32mIn [5]\u001b[0m, in \u001b[0;36m<cell line: 10>\u001b[1;34m()\u001b[0m\n\u001b[0;32m     12\u001b[0m \u001b[38;5;28;01mfor\u001b[39;00m j, has_column \u001b[38;5;129;01min\u001b[39;00m \u001b[38;5;28menumerate\u001b[39m(unique_columns):\n\u001b[0;32m     13\u001b[0m     \u001b[38;5;28;01mif\u001b[39;00m has_column \u001b[38;5;129;01min\u001b[39;00m current_columns:\n\u001b[1;32m---> 14\u001b[0m         binary_columns[i,j]\u001b[38;5;241m=\u001b[39m\u001b[38;5;241m1\u001b[39m\n",
      "\u001b[1;31mIndexError\u001b[0m: index 3 is out of bounds for axis 0 with size 3"
     ]
    }
   ],
   "source": [
    "# Finding unique columns across the 3 datasets\n",
    "all_columns = [list(data[0].columns), list(data[1].columns), list(data[2].columns)]\n",
    "all_columns = [item for sublist in all_columns for item in sublist]\n",
    "unique_columns, indexes = np.unique(all_columns, return_index=True)\n",
    "unique_columns = [all_columns[index] for index in sorted(indexes)]\n",
    "\n",
    "# Column for filling in all the data about which columns are in which datasets\n",
    "binary_columns = np.zeros((3,len(unique_columns)))\n",
    "\n",
    "for i, dat in enumerate(data):\n",
    "    current_columns = list(dat.columns)\n",
    "    for j, has_column in enumerate(unique_columns):\n",
    "        if has_column in current_columns:\n",
    "            binary_columns[i,j]=1"
   ]
  },
  {
   "cell_type": "code",
   "execution_count": null,
   "id": "2c4e9d44",
   "metadata": {},
   "outputs": [],
   "source": [
    "# Dataframe containing which columns are in which dataset\n",
    "has_column_dataframe = pd.DataFrame(binary_columns.T, index=unique_columns, columns=[\"Bootes\", \"Elais-N1\", \"Lockman Hole\"])"
   ]
  },
  {
   "cell_type": "code",
   "execution_count": null,
   "id": "70bcdb49",
   "metadata": {},
   "outputs": [],
   "source": [
    "has_column_dataframe['Sum'] = has_column_dataframe.sum(axis=1)"
   ]
  },
  {
   "cell_type": "code",
   "execution_count": null,
   "id": "caf2de70",
   "metadata": {},
   "outputs": [],
   "source": [
    "with pd.option_context('display.max_rows', 500):\n",
    "    display(has_column_dataframe)"
   ]
  },
  {
   "cell_type": "code",
   "execution_count": null,
   "id": "b842642a",
   "metadata": {},
   "outputs": [],
   "source": [
    "\n",
    "\n",
    "\n",
    "\n",
    "\n",
    "\n",
    "\n",
    "\n",
    "\n",
    "\n",
    "\n",
    "\n",
    "\n",
    "\n",
    "\n",
    "\n",
    "\n",
    "column_frequencies = has_column_dataframe['Sum'].value_counts()\n",
    "column_frequencies = column_frequencies/sum(column_frequencies)\n",
    "column_frequencies = column_frequencies.sort_index(axis=0)\n",
    "column_frequencies.plot(kind='bar')"
   ]
  },
  {
   "cell_type": "code",
   "execution_count": null,
   "id": "8e095470",
   "metadata": {},
   "outputs": [],
   "source": [
    "column_frequencies"
   ]
  },
  {
   "cell_type": "code",
   "execution_count": null,
   "id": "a94ed7d5",
   "metadata": {},
   "outputs": [],
   "source": [
    "print(\"Bootes NaN's per column:\\n\")\n",
    "\n",
    "Bootes_nan_columns = pd.DataFrame()\n",
    "classes = ['jet-mode radio AGN/low-excitation radio galaxy', 'quasar-like radio AGN / high-excitation radio galaxy', \n",
    "           'radio-quiet AGN', 'star-forming galaxy']\n",
    "for classification in classes:\n",
    "    dat = data[0]\n",
    "    Bootes_nan_columns[classification] = dat[dat[\"Classification\"] == classification].isna().sum()\n",
    "    # Normalising\n",
    "    Bootes_nan_columns[classification] = Bootes_nan_columns[classification]/len(dat[dat[\"Classification\"] == classification])\n",
    "\n",
    "Bootes_nan_columns = Bootes_nan_columns.sort_values(by=[\"star-forming galaxy\"], ascending=False)\n",
    "with pd.option_context('display.max_rows', 500):\n",
    "    display(Bootes_nan_columns)"
   ]
  },
  {
   "cell_type": "code",
   "execution_count": null,
   "id": "4b56f01f",
   "metadata": {},
   "outputs": [],
   "source": [
    "Bootes_nan_columns.hist(figsize=(20,20))\n",
    "plt.tight_layout()\n",
    "plt.show()"
   ]
  },
  {
   "cell_type": "code",
   "execution_count": null,
   "id": "c27ad279",
   "metadata": {},
   "outputs": [],
   "source": [
    "print(data[0].isna().sum().to_string())"
   ]
  },
  {
   "cell_type": "code",
   "execution_count": null,
   "id": "5fb13bf6",
   "metadata": {},
   "outputs": [],
   "source": [
    "plt.hist(data[0].isna().sum(axis=1).values, bins=20)\n",
    "plt.title(\"NaN's per row\")\n",
    "plt.show()"
   ]
  },
  {
   "cell_type": "code",
   "execution_count": null,
   "id": "6beed75b",
   "metadata": {},
   "outputs": [],
   "source": [
    "print(\"EN1 NaN's per column:\\n\")\n",
    "\n",
    "print(data[1].isna().sum().to_string())"
   ]
  },
  {
   "cell_type": "code",
   "execution_count": null,
   "id": "ce402e2a",
   "metadata": {},
   "outputs": [],
   "source": [
    "plt.hist(data[1].isna().sum(axis=1).values, bins=20)\n",
    "plt.title(\"NaN's per row\")\n",
    "plt.show()"
   ]
  },
  {
   "cell_type": "code",
   "execution_count": null,
   "id": "d879eb27",
   "metadata": {},
   "outputs": [],
   "source": [
    "print(\"Lockman Hole NaN's per column:\\n\")\n",
    "\n",
    "print(data[2].isna().sum().to_string())"
   ]
  },
  {
   "cell_type": "code",
   "execution_count": null,
   "id": "5213072c",
   "metadata": {},
   "outputs": [],
   "source": [
    "plt.hist(data[2].isna().sum(axis=1).values, bins=20)\n",
    "plt.title(\"NaN's per row\")\n",
    "plt.show()"
   ]
  },
  {
   "cell_type": "code",
   "execution_count": null,
   "id": "a233c958",
   "metadata": {},
   "outputs": [],
   "source": []
  },
  {
   "cell_type": "code",
   "execution_count": null,
   "id": "68393e51",
   "metadata": {},
   "outputs": [],
   "source": [
    "sns.pairplot(data[0].iloc[:, 15:25])\n",
    "plt.show()\n",
    "#fig = swarm_plot.get_figure()\n",
    "#fig.savefig(\"./Output/Bootes_pairplot.pdf\")"
   ]
  },
  {
   "cell_type": "code",
   "execution_count": null,
   "id": "ca5aa5f9",
   "metadata": {},
   "outputs": [],
   "source": [
    "data[0].hist(figsize = (20,20), bins=50)\n",
    "plt.tight_layout()\n",
    "plt.savefig(\"./Output/histograms_Bootes.pdf\")"
   ]
  },
  {
   "cell_type": "code",
   "execution_count": null,
   "id": "0f25a979",
   "metadata": {},
   "outputs": [],
   "source": []
  },
  {
   "cell_type": "code",
   "execution_count": null,
   "id": "48d8eb04",
   "metadata": {},
   "outputs": [],
   "source": [
    "indices = [3, 13, 16, 19, 22, 25, 28, 31, 34, 37, 40, 43, 46, 49, 52, 55, 58, 61, 64, 67, 70, 73]\n",
    "corr = data[0].iloc[:,indices].corr()"
   ]
  },
  {
   "cell_type": "code",
   "execution_count": null,
   "id": "3a777fe5",
   "metadata": {},
   "outputs": [],
   "source": [
    "fig = plt.figure(figsize=(20,20))\n",
    "frame = fig.add_subplot(1,1,1)\n",
    "\n",
    "plot = frame.matshow(corr)\n",
    "fig.colorbar(plot)\n",
    "\n",
    "plt.xticks(range(corr.shape[1]), corr.columns, rotation=45)\n",
    "plt.yticks(range(corr.shape[1]), corr.columns)\n",
    "\n",
    "#frame.set_xticklabels(ax.get_xticks(), rotation = 45)\n",
    "plt.show()"
   ]
  },
  {
   "cell_type": "code",
   "execution_count": null,
   "id": "168118b0",
   "metadata": {},
   "outputs": [],
   "source": [
    "corr.columns"
   ]
  },
  {
   "cell_type": "code",
   "execution_count": null,
   "id": "fbd43dd4",
   "metadata": {},
   "outputs": [],
   "source": [
    "data[0].columns"
   ]
  },
  {
   "cell_type": "code",
   "execution_count": null,
   "id": "4a68b365",
   "metadata": {},
   "outputs": [],
   "source": []
  }
 ],
 "metadata": {
  "kernelspec": {
   "display_name": "Python 3 (ipykernel)",
   "language": "python",
   "name": "python3"
  },
  "language_info": {
   "codemirror_mode": {
    "name": "ipython",
    "version": 3
   },
   "file_extension": ".py",
   "mimetype": "text/x-python",
   "name": "python",
   "nbconvert_exporter": "python",
   "pygments_lexer": "ipython3",
   "version": "3.9.13"
  },
  "latex_envs": {
   "LaTeX_envs_menu_present": true,
   "autoclose": false,
   "autocomplete": true,
   "bibliofile": "biblio.bib",
   "cite_by": "apalike",
   "current_citInitial": 1,
   "eqLabelWithNumbers": true,
   "eqNumInitial": 1,
   "hotkeys": {
    "equation": "Ctrl-E",
    "itemize": "Ctrl-I"
   },
   "labels_anchors": false,
   "latex_user_defs": false,
   "report_style_numbering": false,
   "user_envs_cfg": false
  }
 },
 "nbformat": 4,
 "nbformat_minor": 5
}
