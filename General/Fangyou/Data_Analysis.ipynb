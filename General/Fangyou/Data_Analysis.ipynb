{
 "cells": [
  {
   "cell_type": "code",
   "execution_count": 29,
   "id": "350fe6eb",
   "metadata": {},
   "outputs": [],
   "source": [
    "from astropy.table import Table\n",
    "import pandas as pd\n",
    "import numpy as np\n",
    "import os\n",
    "import seaborn as sns"
   ]
  },
  {
   "cell_type": "code",
   "execution_count": 2,
   "id": "68948df0",
   "metadata": {},
   "outputs": [],
   "source": [
    "def open_fits(filename: str):\n",
    "    \"\"\"\"\n",
    "    Open fits file and load it as a pandas dataframe\n",
    "\n",
    "    :param filename: location of the fits file\n",
    "\n",
    "    :returns: data, pandas dataframe\n",
    "    \"\"\"\n",
    "    dat = Table.read(filename, format='fits')\n",
    "    data = dat.to_pandas()\n",
    "    return data"
   ]
  },
  {
   "cell_type": "code",
   "execution_count": 7,
   "id": "7dedea95",
   "metadata": {},
   "outputs": [],
   "source": [
    "# Creating file paths\n",
    "folder_path = \"../../Data/Fangyou_data/Original/Raw/\"\n",
    "files = os.listdir(folder_path)\n",
    "file_paths = [folder_path + file for file in files]"
   ]
  },
  {
   "cell_type": "code",
   "execution_count": 28,
   "id": "046756e5",
   "metadata": {},
   "outputs": [
    {
     "name": "stdout",
     "output_type": "stream",
     "text": [
      "../../Data/Fangyou_data/Original/Raw/Bootes_sedfit_v1.0.fits  has  19179  rows.\n",
      "../../Data/Fangyou_data/Original/Raw/EN1_sedfit_v1.0.fits  has  31610  rows.\n",
      "../../Data/Fangyou_data/Original/Raw/LH_sedfit_v1.0.fits  has  31162  rows.\n"
     ]
    }
   ],
   "source": [
    "data = []\n",
    "for file in file_paths:\n",
    "    dat = open_fits(file)\n",
    "    data.append(dat)\n",
    "    print(file, \" has \", len(dat), \" rows.\")"
   ]
  },
  {
   "cell_type": "code",
   "execution_count": 26,
   "id": "a94ed7d5",
   "metadata": {},
   "outputs": [
    {
     "name": "stdout",
     "output_type": "stream",
     "text": [
      "NaN's per column\n",
      "\n",
      "Source_Name             0\n",
      "FLAG_DEEP             600\n",
      "ID                    600\n",
      "FLAG_OVERLAP          600\n",
      "Z_BEST                916\n",
      "z1_median             929\n",
      "XID+_rerun_mips         0\n",
      "XID+_rerun_pacs         0\n",
      "XID+_rerun_SPIRE        0\n",
      "CHANGE_FLAG_ID          0\n",
      "CHANGE_FLAG_ZBEST       0\n",
      "CHANGE_FLAG_DEEP        0\n",
      "CHANGE_FLAG_FIR         0\n",
      "FLAG_GOOD               0\n",
      "radioID                 0\n",
      "u_f                  2386\n",
      "u_e                  2386\n",
      "u_e_raw              2386\n",
      "Bw_f                 1246\n",
      "Bw_e                 1246\n",
      "Bw_e_raw             1239\n",
      "R_f                  1100\n",
      "R_e                  1100\n",
      "R_e_raw              1085\n",
      "I_f                   976\n",
      "I_e                   976\n",
      "I_e_raw               957\n",
      "z_f                  5149\n",
      "z_e                  5149\n",
      "z_e_raw              4917\n",
      "z_Subaru_f           2643\n",
      "z_Subaru_e           2643\n",
      "z_Subaru_e_raw       2112\n",
      "y_f                  2414\n",
      "y_e                  2414\n",
      "y_e_raw              2336\n",
      "J_f                  1150\n",
      "J_e                  1150\n",
      "J_e_raw              1137\n",
      "H_f                  1063\n",
      "H_e                  1063\n",
      "H_e_raw              1044\n",
      "K_f                  8353\n",
      "K_e                  8353\n",
      "K_e_raw              8276\n",
      "Ks_f                 1084\n",
      "Ks_e                 1084\n",
      "Ks_e_raw             1062\n",
      "ch1_f                 605\n",
      "ch1_e                 605\n",
      "ch1_e_raw             600\n",
      "ch2_f                 600\n",
      "ch2_e                 600\n",
      "ch2_e_raw             600\n",
      "ch3_f                 642\n",
      "ch3_e                 642\n",
      "ch3_e_raw             642\n",
      "ch4_f                 652\n",
      "ch4_e                 652\n",
      "ch4_e_raw             652\n",
      "MIPS_24_f            1573\n",
      "MIPS_24_e            1573\n",
      "MIPS_24_e_raw        1573\n",
      "PACS_100_f           1048\n",
      "PACS_100_e           1048\n",
      "PACS_100_e_raw       1048\n",
      "PACS_160_f           1048\n",
      "PACS_160_e           1048\n",
      "PACS_160_e_raw       1048\n",
      "SPIRE_250_f           718\n",
      "SPIRE_250_e           718\n",
      "SPIRE_250_e_raw       718\n",
      "SPIRE_350_f           718\n",
      "SPIRE_350_e           718\n",
      "SPIRE_350_e_raw       718\n",
      "SPIRE_500_f           718\n",
      "SPIRE_500_e           718\n",
      "SPIRE_500_e_raw       718\n"
     ]
    }
   ],
   "source": [
    "print(\"NaN's per column\\n\")\n"
   ]
  },
  {
   "cell_type": "code",
   "execution_count": null,
   "id": "68393e51",
   "metadata": {},
   "outputs": [],
   "source": []
  },
  {
   "cell_type": "code",
   "execution_count": null,
   "id": "ca5aa5f9",
   "metadata": {},
   "outputs": [],
   "source": []
  }
 ],
 "metadata": {
  "kernelspec": {
   "display_name": "Python 3 (ipykernel)",
   "language": "python",
   "name": "python3"
  },
  "language_info": {
   "codemirror_mode": {
    "name": "ipython",
    "version": 3
   },
   "file_extension": ".py",
   "mimetype": "text/x-python",
   "name": "python",
   "nbconvert_exporter": "python",
   "pygments_lexer": "ipython3",
   "version": "3.9.12"
  }
 },
 "nbformat": 4,
 "nbformat_minor": 5
}
