{
 "cells": [
  {
   "cell_type": "code",
   "execution_count": 16,
   "id": "8c14af40",
   "metadata": {},
   "outputs": [],
   "source": [
    "import pandas as pd\n",
    "import numpy as np"
   ]
  },
  {
   "cell_type": "code",
   "execution_count": 17,
   "id": "4a5f89c2",
   "metadata": {},
   "outputs": [],
   "source": [
    "data = pd.read_csv(\"../../../Data/Fangyou_data/Cleaned/combined_using_similar_columns.csv\")\n",
    "index_to_use = np.loadtxt(\"../../../Data/Other/Generated/Index_to_generate_data.csv\")\n",
    "data = data.iloc[index_to_use]"
   ]
  },
  {
   "cell_type": "code",
   "execution_count": null,
   "id": "075e3450",
   "metadata": {},
   "outputs": [],
   "source": []
  },
  {
   "cell_type": "code",
   "execution_count": 18,
   "id": "12f23e24",
   "metadata": {},
   "outputs": [],
   "source": [
    "useful_columns = [\n",
    "    'Total_flux', 'Peak_flux', \n",
    "       'NUV_flux_corr', 'u_flux_corr', 'Bw_flux_corr', 'R_flux_corr',\n",
    "       'I_flux_corr', 'z_flux_corr', 'y_flux_corr',\n",
    "       'J_flux_corr', 'H_flux_corr', 'K_flux_corr', 'Ks_flux_corr',\n",
    "       'ch1_flux_corr', 'ch2_flux_corr', 'ch3_flux_corr', 'ch4_flux_corr',\n",
    "       'F_MIPS_24', 'F_PACS_100', 'F_PACS_160', 'F_SPIRE_250', 'F_SPIRE_350',\n",
    "       'F_SPIRE_500', 'Z_BEST', 'r_rcs_flux_corr',\n",
    "       'g_flux_corr', 'nb921_hsc_flux_corr',\n",
    "    \n",
    "        'E_Total_flux', 'E_Peak_flux',\n",
    "        'NUV_fluxerr_corr', 'u_fluxerr_corr', 'Bw_fluxerr_corr', 'R_fluxerr_corr',\n",
    "       'I_fluxerr_corr', 'z_fluxerr_corr', 'y_fluxerr_corr',\n",
    "       'J_fluxerr_corr', 'H_fluxerr_corr', 'K_fluxerr_corr', 'Ks_fluxerr_corr',\n",
    "       'ch1_fluxerr_corr', 'ch2_fluxerr_corr', 'ch3_fluxerr_corr', 'ch4_fluxerr_corr',\n",
    "       'FErr_MIPS_24_u', 'FErr_PACS_100_u', 'FErr_PACS_160_u'\n",
    "    , 'FErr_SPIRE_250_u', 'FErr_SPIRE_350_u', 'FErr_SPIRE_500_u', 'r_rcs_fluxerr_corr',\n",
    "       'g_fluxerr_corr', 'nb921_hsc_fluxerr_corr',\n",
    "]\n",
    "y_column = \"Classification\""
   ]
  },
  {
   "cell_type": "code",
   "execution_count": 19,
   "id": "76603e95",
   "metadata": {},
   "outputs": [],
   "source": [
    "flux_columns = useful_columns[0:23] + useful_columns[24:27]\n",
    "error_columns = useful_columns[27::]\n",
    "\n",
    "\n",
    "non_sigma_columns = ['FErr_MIPS_24_u', 'FErr_PACS_100_u', 'FErr_PACS_160_u', \n",
    "                     'FErr_SPIRE_250_u', 'FErr_SPIRE_350_u', 'FErr_SPIRE_500_u']\n",
    "non_sigma_columns_corresponding = ['F_MIPS_24', 'F_PACS_100', 'F_PACS_160', \n",
    "                                 'F_SPIRE_250', 'F_SPIRE_350', 'F_SPIRE_500']"
   ]
  },
  {
   "cell_type": "code",
   "execution_count": 20,
   "id": "1d0b98e5",
   "metadata": {},
   "outputs": [],
   "source": [
    "X = data\n",
    "y = data[y_column]"
   ]
  },
  {
   "cell_type": "code",
   "execution_count": 21,
   "id": "5187e614",
   "metadata": {},
   "outputs": [],
   "source": [
    "# Converting from 84th Percentile to 1 sigma\n",
    "for column1, column2 in zip(non_sigma_columns, non_sigma_columns_corresponding):\n",
    "    X[column1] = (X[column1] - X[column2])/0.9945"
   ]
  },
  {
   "cell_type": "code",
   "execution_count": null,
   "id": "abaff30a",
   "metadata": {},
   "outputs": [],
   "source": []
  },
  {
   "cell_type": "code",
   "execution_count": 22,
   "id": "0cabbad5",
   "metadata": {},
   "outputs": [],
   "source": [
    "newdata = pd.DataFrame(data=[], columns=data.columns)\n",
    "\n",
    "pd.options.mode.chained_assignment = None\n",
    "\n",
    "# jet-mode radio AGN/low-excitation radio galaxy\n",
    "dat = X[y==\"jet-mode radio AGN/low-excitation radio galaxy\"]\n",
    "for i in range(15):\n",
    "    for mean_column, std_column in zip(flux_columns, error_columns):\n",
    "        # Getting the mean and std from the data (so the flux and the error)\n",
    "        mean = dat[mean_column]\n",
    "        std = dat[std_column]\n",
    "\n",
    "        # Generating new Gaussian data and overwriting it with the old data so we still keep the other values we don't generate\n",
    "        # like EBV and the classification\n",
    "        dat[mean_column] = np.random.normal(mean, np.abs(std))\n",
    "    # Appending the new generated data to collection we currently have\n",
    "    newdata = pd.concat([newdata, dat])\n",
    "    \n",
    "# radio-quiet AGN\n",
    "dat = X[y==\"radio-quiet AGN\"]\n",
    "for i in range(30):\n",
    "    for mean_column, std_column in zip(flux_columns, error_columns):\n",
    "        # Getting the mean and std from the data (so the flux and the error)\n",
    "        mean = dat[mean_column]\n",
    "        std = dat[std_column]\n",
    "\n",
    "        # Generating new Gaussian data and overwriting it with the old data so we still keep the other values we don't generate\n",
    "        # like EBV and the classification\n",
    "        dat[mean_column] = np.random.normal(mean, np.abs(std))\n",
    "    # Appending the new generated data to collection we currently have\n",
    "    newdata = pd.concat([newdata, dat])\n",
    "\n",
    "# quasar-like radio AGN / high-excitation radio galaxy\n",
    "dat = X[y==\"quasar-like radio AGN / high-excitation radio galaxy\"]\n",
    "for i in range(150):\n",
    "    for mean_column, std_column in zip(flux_columns, error_columns):\n",
    "        # Getting the mean and std from the data (so the flux and the error)\n",
    "        mean = dat[mean_column]\n",
    "        std = dat[std_column]\n",
    "\n",
    "        # Generating new Gaussian data and overwriting it with the old data so we still keep the other values we don't generate\n",
    "        # like EBV and the classification\n",
    "        dat[mean_column] = np.random.normal(mean, np.abs(std))\n",
    "    # Appending the new generated data to collection we currently have\n",
    "    newdata = pd.concat([newdata, dat])    "
   ]
  },
  {
   "cell_type": "code",
   "execution_count": null,
   "id": "9bf98266",
   "metadata": {},
   "outputs": [],
   "source": []
  },
  {
   "cell_type": "code",
   "execution_count": 23,
   "id": "f76dd23f",
   "metadata": {},
   "outputs": [],
   "source": [
    "newdata = newdata.reset_index(drop=True)"
   ]
  },
  {
   "cell_type": "code",
   "execution_count": 24,
   "id": "9382ce7a",
   "metadata": {},
   "outputs": [],
   "source": [
    "flux_and_y_columns = ['Total_flux', 'Peak_flux', \n",
    "       'NUV_flux_corr', 'u_flux_corr', 'Bw_flux_corr', 'R_flux_corr',\n",
    "       'I_flux_corr', 'z_flux_corr', 'y_flux_corr',\n",
    "       'J_flux_corr', 'H_flux_corr', 'K_flux_corr', 'Ks_flux_corr',\n",
    "       'ch1_flux_corr', 'ch2_flux_corr', 'ch3_flux_corr', 'ch4_flux_corr',\n",
    "       'F_MIPS_24', 'F_PACS_100', 'F_PACS_160', 'F_SPIRE_250', 'F_SPIRE_350',\n",
    "       'F_SPIRE_500', 'Z_BEST', 'r_rcs_flux_corr',\n",
    "       'g_flux_corr', 'nb921_hsc_flux_corr', 'Classification']"
   ]
  },
  {
   "cell_type": "code",
   "execution_count": 25,
   "id": "88167cb1",
   "metadata": {},
   "outputs": [],
   "source": [
    "newdata = newdata[flux_and_y_columns]"
   ]
  },
  {
   "cell_type": "code",
   "execution_count": null,
   "id": "a6ba27e7",
   "metadata": {},
   "outputs": [
    {
     "name": "stdout",
     "output_type": "stream",
     "text": [
      "Total_flux Peak_flux\n",
      "Total_flux NUV_flux_corr\n",
      "Total_flux u_flux_corr\n",
      "Total_flux Bw_flux_corr\n",
      "Total_flux R_flux_corr\n",
      "Total_flux I_flux_corr\n",
      "Total_flux z_flux_corr\n",
      "Total_flux y_flux_corr\n",
      "Total_flux J_flux_corr\n",
      "Total_flux H_flux_corr\n",
      "Total_flux K_flux_corr\n",
      "Total_flux Ks_flux_corr\n",
      "Total_flux ch1_flux_corr\n",
      "Total_flux ch2_flux_corr\n",
      "Total_flux ch3_flux_corr\n",
      "Total_flux ch4_flux_corr\n",
      "Total_flux F_MIPS_24\n",
      "Total_flux F_PACS_100\n",
      "Total_flux F_PACS_160\n",
      "Total_flux F_SPIRE_250\n",
      "Total_flux F_SPIRE_350\n",
      "Total_flux F_SPIRE_500\n",
      "Total_flux r_rcs_flux_corr\n",
      "Total_flux g_flux_corr\n",
      "Total_flux nb921_hsc_flux_corr\n",
      "Total_flux Total_flux/Peak_flux\n",
      "Total_flux Total_flux-Peak_flux\n",
      "Total_flux Total_flux/NUV_flux_corr\n",
      "Total_flux Total_flux-NUV_flux_corr\n",
      "Total_flux Total_flux/u_flux_corr\n",
      "Total_flux Total_flux-u_flux_corr\n",
      "Total_flux Total_flux/Bw_flux_corr\n",
      "Total_flux Total_flux-Bw_flux_corr\n",
      "Total_flux Total_flux/R_flux_corr\n",
      "Total_flux Total_flux-R_flux_corr\n",
      "Total_flux Total_flux/I_flux_corr\n",
      "Total_flux Total_flux-I_flux_corr\n",
      "Total_flux Total_flux/z_flux_corr\n",
      "Total_flux Total_flux-z_flux_corr\n",
      "Total_flux Total_flux/y_flux_corr\n",
      "Total_flux Total_flux-y_flux_corr\n",
      "Total_flux Total_flux/J_flux_corr\n",
      "Total_flux Total_flux-J_flux_corr\n",
      "Total_flux Total_flux/H_flux_corr\n",
      "Total_flux Total_flux-H_flux_corr\n",
      "Total_flux Total_flux/K_flux_corr\n",
      "Total_flux Total_flux-K_flux_corr\n",
      "Total_flux Total_flux/Ks_flux_corr\n",
      "Total_flux Total_flux-Ks_flux_corr\n",
      "Total_flux Total_flux/ch1_flux_corr\n",
      "Total_flux Total_flux-ch1_flux_corr\n",
      "Total_flux Total_flux/ch2_flux_corr\n"
     ]
    },
    {
     "name": "stderr",
     "output_type": "stream",
     "text": [
      "C:\\Users\\jespe\\AppData\\Local\\Temp\\ipykernel_11364\\1859563545.py:8: PerformanceWarning: DataFrame is highly fragmented.  This is usually the result of calling `frame.insert` many times, which has poor performance.  Consider joining all columns at once using pd.concat(axis=1) instead. To get a de-fragmented frame, use `newframe = frame.copy()`\n",
      "  newdata[f\"{columns[i]}-{columns[j]}\"] = newdata[columns[i]]-newdata[columns[j]]\n",
      "C:\\Users\\jespe\\AppData\\Local\\Temp\\ipykernel_11364\\1859563545.py:7: PerformanceWarning: DataFrame is highly fragmented.  This is usually the result of calling `frame.insert` many times, which has poor performance.  Consider joining all columns at once using pd.concat(axis=1) instead. To get a de-fragmented frame, use `newframe = frame.copy()`\n",
      "  newdata[f\"{columns[i]}/{columns[j]}\"] = newdata[columns[i]]/newdata[columns[j]]\n",
      "C:\\Users\\jespe\\AppData\\Local\\Temp\\ipykernel_11364\\1859563545.py:8: PerformanceWarning: DataFrame is highly fragmented.  This is usually the result of calling `frame.insert` many times, which has poor performance.  Consider joining all columns at once using pd.concat(axis=1) instead. To get a de-fragmented frame, use `newframe = frame.copy()`\n",
      "  newdata[f\"{columns[i]}-{columns[j]}\"] = newdata[columns[i]]-newdata[columns[j]]\n",
      "C:\\Users\\jespe\\AppData\\Local\\Temp\\ipykernel_11364\\1859563545.py:7: PerformanceWarning: DataFrame is highly fragmented.  This is usually the result of calling `frame.insert` many times, which has poor performance.  Consider joining all columns at once using pd.concat(axis=1) instead. To get a de-fragmented frame, use `newframe = frame.copy()`\n",
      "  newdata[f\"{columns[i]}/{columns[j]}\"] = newdata[columns[i]]/newdata[columns[j]]\n",
      "C:\\Users\\jespe\\AppData\\Local\\Temp\\ipykernel_11364\\1859563545.py:8: PerformanceWarning: DataFrame is highly fragmented.  This is usually the result of calling `frame.insert` many times, which has poor performance.  Consider joining all columns at once using pd.concat(axis=1) instead. To get a de-fragmented frame, use `newframe = frame.copy()`\n",
      "  newdata[f\"{columns[i]}-{columns[j]}\"] = newdata[columns[i]]-newdata[columns[j]]\n",
      "C:\\Users\\jespe\\AppData\\Local\\Temp\\ipykernel_11364\\1859563545.py:7: PerformanceWarning: DataFrame is highly fragmented.  This is usually the result of calling `frame.insert` many times, which has poor performance.  Consider joining all columns at once using pd.concat(axis=1) instead. To get a de-fragmented frame, use `newframe = frame.copy()`\n",
      "  newdata[f\"{columns[i]}/{columns[j]}\"] = newdata[columns[i]]/newdata[columns[j]]\n",
      "C:\\Users\\jespe\\AppData\\Local\\Temp\\ipykernel_11364\\1859563545.py:8: PerformanceWarning: DataFrame is highly fragmented.  This is usually the result of calling `frame.insert` many times, which has poor performance.  Consider joining all columns at once using pd.concat(axis=1) instead. To get a de-fragmented frame, use `newframe = frame.copy()`\n",
      "  newdata[f\"{columns[i]}-{columns[j]}\"] = newdata[columns[i]]-newdata[columns[j]]\n",
      "C:\\Users\\jespe\\AppData\\Local\\Temp\\ipykernel_11364\\1859563545.py:7: PerformanceWarning: DataFrame is highly fragmented.  This is usually the result of calling `frame.insert` many times, which has poor performance.  Consider joining all columns at once using pd.concat(axis=1) instead. To get a de-fragmented frame, use `newframe = frame.copy()`\n",
      "  newdata[f\"{columns[i]}/{columns[j]}\"] = newdata[columns[i]]/newdata[columns[j]]\n"
     ]
    },
    {
     "name": "stdout",
     "output_type": "stream",
     "text": [
      "Total_flux Total_flux-ch2_flux_corr\n",
      "Total_flux Total_flux/ch3_flux_corr\n",
      "Total_flux Total_flux-ch3_flux_corr\n",
      "Total_flux Total_flux/ch4_flux_corr\n"
     ]
    },
    {
     "name": "stderr",
     "output_type": "stream",
     "text": [
      "C:\\Users\\jespe\\AppData\\Local\\Temp\\ipykernel_11364\\1859563545.py:8: PerformanceWarning: DataFrame is highly fragmented.  This is usually the result of calling `frame.insert` many times, which has poor performance.  Consider joining all columns at once using pd.concat(axis=1) instead. To get a de-fragmented frame, use `newframe = frame.copy()`\n",
      "  newdata[f\"{columns[i]}-{columns[j]}\"] = newdata[columns[i]]-newdata[columns[j]]\n",
      "C:\\Users\\jespe\\AppData\\Local\\Temp\\ipykernel_11364\\1859563545.py:7: PerformanceWarning: DataFrame is highly fragmented.  This is usually the result of calling `frame.insert` many times, which has poor performance.  Consider joining all columns at once using pd.concat(axis=1) instead. To get a de-fragmented frame, use `newframe = frame.copy()`\n",
      "  newdata[f\"{columns[i]}/{columns[j]}\"] = newdata[columns[i]]/newdata[columns[j]]\n",
      "C:\\Users\\jespe\\AppData\\Local\\Temp\\ipykernel_11364\\1859563545.py:8: PerformanceWarning: DataFrame is highly fragmented.  This is usually the result of calling `frame.insert` many times, which has poor performance.  Consider joining all columns at once using pd.concat(axis=1) instead. To get a de-fragmented frame, use `newframe = frame.copy()`\n",
      "  newdata[f\"{columns[i]}-{columns[j]}\"] = newdata[columns[i]]-newdata[columns[j]]\n",
      "C:\\Users\\jespe\\AppData\\Local\\Temp\\ipykernel_11364\\1859563545.py:7: PerformanceWarning: DataFrame is highly fragmented.  This is usually the result of calling `frame.insert` many times, which has poor performance.  Consider joining all columns at once using pd.concat(axis=1) instead. To get a de-fragmented frame, use `newframe = frame.copy()`\n",
      "  newdata[f\"{columns[i]}/{columns[j]}\"] = newdata[columns[i]]/newdata[columns[j]]\n",
      "C:\\Users\\jespe\\AppData\\Local\\Temp\\ipykernel_11364\\1859563545.py:8: PerformanceWarning: DataFrame is highly fragmented.  This is usually the result of calling `frame.insert` many times, which has poor performance.  Consider joining all columns at once using pd.concat(axis=1) instead. To get a de-fragmented frame, use `newframe = frame.copy()`\n",
      "  newdata[f\"{columns[i]}-{columns[j]}\"] = newdata[columns[i]]-newdata[columns[j]]\n",
      "C:\\Users\\jespe\\AppData\\Local\\Temp\\ipykernel_11364\\1859563545.py:7: PerformanceWarning: DataFrame is highly fragmented.  This is usually the result of calling `frame.insert` many times, which has poor performance.  Consider joining all columns at once using pd.concat(axis=1) instead. To get a de-fragmented frame, use `newframe = frame.copy()`\n",
      "  newdata[f\"{columns[i]}/{columns[j]}\"] = newdata[columns[i]]/newdata[columns[j]]\n"
     ]
    },
    {
     "name": "stdout",
     "output_type": "stream",
     "text": [
      "Total_flux Total_flux-ch4_flux_corr\n",
      "Total_flux Total_flux/F_MIPS_24\n",
      "Total_flux Total_flux-F_MIPS_24\n"
     ]
    },
    {
     "name": "stderr",
     "output_type": "stream",
     "text": [
      "C:\\Users\\jespe\\AppData\\Local\\Temp\\ipykernel_11364\\1859563545.py:8: PerformanceWarning: DataFrame is highly fragmented.  This is usually the result of calling `frame.insert` many times, which has poor performance.  Consider joining all columns at once using pd.concat(axis=1) instead. To get a de-fragmented frame, use `newframe = frame.copy()`\n",
      "  newdata[f\"{columns[i]}-{columns[j]}\"] = newdata[columns[i]]-newdata[columns[j]]\n",
      "C:\\Users\\jespe\\AppData\\Local\\Temp\\ipykernel_11364\\1859563545.py:7: PerformanceWarning: DataFrame is highly fragmented.  This is usually the result of calling `frame.insert` many times, which has poor performance.  Consider joining all columns at once using pd.concat(axis=1) instead. To get a de-fragmented frame, use `newframe = frame.copy()`\n",
      "  newdata[f\"{columns[i]}/{columns[j]}\"] = newdata[columns[i]]/newdata[columns[j]]\n",
      "C:\\Users\\jespe\\AppData\\Local\\Temp\\ipykernel_11364\\1859563545.py:8: PerformanceWarning: DataFrame is highly fragmented.  This is usually the result of calling `frame.insert` many times, which has poor performance.  Consider joining all columns at once using pd.concat(axis=1) instead. To get a de-fragmented frame, use `newframe = frame.copy()`\n",
      "  newdata[f\"{columns[i]}-{columns[j]}\"] = newdata[columns[i]]-newdata[columns[j]]\n",
      "C:\\Users\\jespe\\AppData\\Local\\Temp\\ipykernel_11364\\1859563545.py:7: PerformanceWarning: DataFrame is highly fragmented.  This is usually the result of calling `frame.insert` many times, which has poor performance.  Consider joining all columns at once using pd.concat(axis=1) instead. To get a de-fragmented frame, use `newframe = frame.copy()`\n",
      "  newdata[f\"{columns[i]}/{columns[j]}\"] = newdata[columns[i]]/newdata[columns[j]]\n",
      "C:\\Users\\jespe\\AppData\\Local\\Temp\\ipykernel_11364\\1859563545.py:8: PerformanceWarning: DataFrame is highly fragmented.  This is usually the result of calling `frame.insert` many times, which has poor performance.  Consider joining all columns at once using pd.concat(axis=1) instead. To get a de-fragmented frame, use `newframe = frame.copy()`\n",
      "  newdata[f\"{columns[i]}-{columns[j]}\"] = newdata[columns[i]]-newdata[columns[j]]\n",
      "C:\\Users\\jespe\\AppData\\Local\\Temp\\ipykernel_11364\\1859563545.py:7: PerformanceWarning: DataFrame is highly fragmented.  This is usually the result of calling `frame.insert` many times, which has poor performance.  Consider joining all columns at once using pd.concat(axis=1) instead. To get a de-fragmented frame, use `newframe = frame.copy()`\n",
      "  newdata[f\"{columns[i]}/{columns[j]}\"] = newdata[columns[i]]/newdata[columns[j]]\n"
     ]
    },
    {
     "name": "stdout",
     "output_type": "stream",
     "text": [
      "Total_flux Total_flux/F_PACS_100\n",
      "Total_flux Total_flux-F_PACS_100\n",
      "Total_flux Total_flux/F_PACS_160\n",
      "Total_flux Total_flux-F_PACS_160\n",
      "Total_flux Total_flux/F_SPIRE_250\n"
     ]
    },
    {
     "name": "stderr",
     "output_type": "stream",
     "text": [
      "C:\\Users\\jespe\\AppData\\Local\\Temp\\ipykernel_11364\\1859563545.py:8: PerformanceWarning: DataFrame is highly fragmented.  This is usually the result of calling `frame.insert` many times, which has poor performance.  Consider joining all columns at once using pd.concat(axis=1) instead. To get a de-fragmented frame, use `newframe = frame.copy()`\n",
      "  newdata[f\"{columns[i]}-{columns[j]}\"] = newdata[columns[i]]-newdata[columns[j]]\n",
      "C:\\Users\\jespe\\AppData\\Local\\Temp\\ipykernel_11364\\1859563545.py:7: PerformanceWarning: DataFrame is highly fragmented.  This is usually the result of calling `frame.insert` many times, which has poor performance.  Consider joining all columns at once using pd.concat(axis=1) instead. To get a de-fragmented frame, use `newframe = frame.copy()`\n",
      "  newdata[f\"{columns[i]}/{columns[j]}\"] = newdata[columns[i]]/newdata[columns[j]]\n",
      "C:\\Users\\jespe\\AppData\\Local\\Temp\\ipykernel_11364\\1859563545.py:8: PerformanceWarning: DataFrame is highly fragmented.  This is usually the result of calling `frame.insert` many times, which has poor performance.  Consider joining all columns at once using pd.concat(axis=1) instead. To get a de-fragmented frame, use `newframe = frame.copy()`\n",
      "  newdata[f\"{columns[i]}-{columns[j]}\"] = newdata[columns[i]]-newdata[columns[j]]\n",
      "C:\\Users\\jespe\\AppData\\Local\\Temp\\ipykernel_11364\\1859563545.py:7: PerformanceWarning: DataFrame is highly fragmented.  This is usually the result of calling `frame.insert` many times, which has poor performance.  Consider joining all columns at once using pd.concat(axis=1) instead. To get a de-fragmented frame, use `newframe = frame.copy()`\n",
      "  newdata[f\"{columns[i]}/{columns[j]}\"] = newdata[columns[i]]/newdata[columns[j]]\n",
      "C:\\Users\\jespe\\AppData\\Local\\Temp\\ipykernel_11364\\1859563545.py:8: PerformanceWarning: DataFrame is highly fragmented.  This is usually the result of calling `frame.insert` many times, which has poor performance.  Consider joining all columns at once using pd.concat(axis=1) instead. To get a de-fragmented frame, use `newframe = frame.copy()`\n",
      "  newdata[f\"{columns[i]}-{columns[j]}\"] = newdata[columns[i]]-newdata[columns[j]]\n",
      "C:\\Users\\jespe\\AppData\\Local\\Temp\\ipykernel_11364\\1859563545.py:7: PerformanceWarning: DataFrame is highly fragmented.  This is usually the result of calling `frame.insert` many times, which has poor performance.  Consider joining all columns at once using pd.concat(axis=1) instead. To get a de-fragmented frame, use `newframe = frame.copy()`\n",
      "  newdata[f\"{columns[i]}/{columns[j]}\"] = newdata[columns[i]]/newdata[columns[j]]\n",
      "C:\\Users\\jespe\\AppData\\Local\\Temp\\ipykernel_11364\\1859563545.py:8: PerformanceWarning: DataFrame is highly fragmented.  This is usually the result of calling `frame.insert` many times, which has poor performance.  Consider joining all columns at once using pd.concat(axis=1) instead. To get a de-fragmented frame, use `newframe = frame.copy()`\n",
      "  newdata[f\"{columns[i]}-{columns[j]}\"] = newdata[columns[i]]-newdata[columns[j]]\n",
      "C:\\Users\\jespe\\AppData\\Local\\Temp\\ipykernel_11364\\1859563545.py:7: PerformanceWarning: DataFrame is highly fragmented.  This is usually the result of calling `frame.insert` many times, which has poor performance.  Consider joining all columns at once using pd.concat(axis=1) instead. To get a de-fragmented frame, use `newframe = frame.copy()`\n",
      "  newdata[f\"{columns[i]}/{columns[j]}\"] = newdata[columns[i]]/newdata[columns[j]]\n",
      "C:\\Users\\jespe\\AppData\\Local\\Temp\\ipykernel_11364\\1859563545.py:8: PerformanceWarning: DataFrame is highly fragmented.  This is usually the result of calling `frame.insert` many times, which has poor performance.  Consider joining all columns at once using pd.concat(axis=1) instead. To get a de-fragmented frame, use `newframe = frame.copy()`\n",
      "  newdata[f\"{columns[i]}-{columns[j]}\"] = newdata[columns[i]]-newdata[columns[j]]\n",
      "C:\\Users\\jespe\\AppData\\Local\\Temp\\ipykernel_11364\\1859563545.py:7: PerformanceWarning: DataFrame is highly fragmented.  This is usually the result of calling `frame.insert` many times, which has poor performance.  Consider joining all columns at once using pd.concat(axis=1) instead. To get a de-fragmented frame, use `newframe = frame.copy()`\n",
      "  newdata[f\"{columns[i]}/{columns[j]}\"] = newdata[columns[i]]/newdata[columns[j]]\n",
      "C:\\Users\\jespe\\AppData\\Local\\Temp\\ipykernel_11364\\1859563545.py:8: PerformanceWarning: DataFrame is highly fragmented.  This is usually the result of calling `frame.insert` many times, which has poor performance.  Consider joining all columns at once using pd.concat(axis=1) instead. To get a de-fragmented frame, use `newframe = frame.copy()`\n",
      "  newdata[f\"{columns[i]}-{columns[j]}\"] = newdata[columns[i]]-newdata[columns[j]]\n",
      "C:\\Users\\jespe\\AppData\\Local\\Temp\\ipykernel_11364\\1859563545.py:7: PerformanceWarning: DataFrame is highly fragmented.  This is usually the result of calling `frame.insert` many times, which has poor performance.  Consider joining all columns at once using pd.concat(axis=1) instead. To get a de-fragmented frame, use `newframe = frame.copy()`\n",
      "  newdata[f\"{columns[i]}/{columns[j]}\"] = newdata[columns[i]]/newdata[columns[j]]\n",
      "C:\\Users\\jespe\\AppData\\Local\\Temp\\ipykernel_11364\\1859563545.py:8: PerformanceWarning: DataFrame is highly fragmented.  This is usually the result of calling `frame.insert` many times, which has poor performance.  Consider joining all columns at once using pd.concat(axis=1) instead. To get a de-fragmented frame, use `newframe = frame.copy()`\n",
      "  newdata[f\"{columns[i]}-{columns[j]}\"] = newdata[columns[i]]-newdata[columns[j]]\n",
      "C:\\Users\\jespe\\AppData\\Local\\Temp\\ipykernel_11364\\1859563545.py:7: PerformanceWarning: DataFrame is highly fragmented.  This is usually the result of calling `frame.insert` many times, which has poor performance.  Consider joining all columns at once using pd.concat(axis=1) instead. To get a de-fragmented frame, use `newframe = frame.copy()`\n",
      "  newdata[f\"{columns[i]}/{columns[j]}\"] = newdata[columns[i]]/newdata[columns[j]]\n",
      "C:\\Users\\jespe\\AppData\\Local\\Temp\\ipykernel_11364\\1859563545.py:8: PerformanceWarning: DataFrame is highly fragmented.  This is usually the result of calling `frame.insert` many times, which has poor performance.  Consider joining all columns at once using pd.concat(axis=1) instead. To get a de-fragmented frame, use `newframe = frame.copy()`\n",
      "  newdata[f\"{columns[i]}-{columns[j]}\"] = newdata[columns[i]]-newdata[columns[j]]\n",
      "C:\\Users\\jespe\\AppData\\Local\\Temp\\ipykernel_11364\\1859563545.py:7: PerformanceWarning: DataFrame is highly fragmented.  This is usually the result of calling `frame.insert` many times, which has poor performance.  Consider joining all columns at once using pd.concat(axis=1) instead. To get a de-fragmented frame, use `newframe = frame.copy()`\n",
      "  newdata[f\"{columns[i]}/{columns[j]}\"] = newdata[columns[i]]/newdata[columns[j]]\n",
      "C:\\Users\\jespe\\AppData\\Local\\Temp\\ipykernel_11364\\1859563545.py:8: PerformanceWarning: DataFrame is highly fragmented.  This is usually the result of calling `frame.insert` many times, which has poor performance.  Consider joining all columns at once using pd.concat(axis=1) instead. To get a de-fragmented frame, use `newframe = frame.copy()`\n",
      "  newdata[f\"{columns[i]}-{columns[j]}\"] = newdata[columns[i]]-newdata[columns[j]]\n"
     ]
    },
    {
     "name": "stdout",
     "output_type": "stream",
     "text": [
      "Total_flux Total_flux-F_SPIRE_250\n",
      "Total_flux Total_flux/F_SPIRE_350\n",
      "Total_flux Total_flux-F_SPIRE_350\n",
      "Total_flux Total_flux/F_SPIRE_500\n",
      "Total_flux Total_flux-F_SPIRE_500\n"
     ]
    },
    {
     "name": "stderr",
     "output_type": "stream",
     "text": [
      "C:\\Users\\jespe\\AppData\\Local\\Temp\\ipykernel_11364\\1859563545.py:7: PerformanceWarning: DataFrame is highly fragmented.  This is usually the result of calling `frame.insert` many times, which has poor performance.  Consider joining all columns at once using pd.concat(axis=1) instead. To get a de-fragmented frame, use `newframe = frame.copy()`\n",
      "  newdata[f\"{columns[i]}/{columns[j]}\"] = newdata[columns[i]]/newdata[columns[j]]\n",
      "C:\\Users\\jespe\\AppData\\Local\\Temp\\ipykernel_11364\\1859563545.py:8: PerformanceWarning: DataFrame is highly fragmented.  This is usually the result of calling `frame.insert` many times, which has poor performance.  Consider joining all columns at once using pd.concat(axis=1) instead. To get a de-fragmented frame, use `newframe = frame.copy()`\n",
      "  newdata[f\"{columns[i]}-{columns[j]}\"] = newdata[columns[i]]-newdata[columns[j]]\n",
      "C:\\Users\\jespe\\AppData\\Local\\Temp\\ipykernel_11364\\1859563545.py:7: PerformanceWarning: DataFrame is highly fragmented.  This is usually the result of calling `frame.insert` many times, which has poor performance.  Consider joining all columns at once using pd.concat(axis=1) instead. To get a de-fragmented frame, use `newframe = frame.copy()`\n",
      "  newdata[f\"{columns[i]}/{columns[j]}\"] = newdata[columns[i]]/newdata[columns[j]]\n",
      "C:\\Users\\jespe\\AppData\\Local\\Temp\\ipykernel_11364\\1859563545.py:8: PerformanceWarning: DataFrame is highly fragmented.  This is usually the result of calling `frame.insert` many times, which has poor performance.  Consider joining all columns at once using pd.concat(axis=1) instead. To get a de-fragmented frame, use `newframe = frame.copy()`\n",
      "  newdata[f\"{columns[i]}-{columns[j]}\"] = newdata[columns[i]]-newdata[columns[j]]\n",
      "C:\\Users\\jespe\\AppData\\Local\\Temp\\ipykernel_11364\\1859563545.py:7: PerformanceWarning: DataFrame is highly fragmented.  This is usually the result of calling `frame.insert` many times, which has poor performance.  Consider joining all columns at once using pd.concat(axis=1) instead. To get a de-fragmented frame, use `newframe = frame.copy()`\n",
      "  newdata[f\"{columns[i]}/{columns[j]}\"] = newdata[columns[i]]/newdata[columns[j]]\n",
      "C:\\Users\\jespe\\AppData\\Local\\Temp\\ipykernel_11364\\1859563545.py:8: PerformanceWarning: DataFrame is highly fragmented.  This is usually the result of calling `frame.insert` many times, which has poor performance.  Consider joining all columns at once using pd.concat(axis=1) instead. To get a de-fragmented frame, use `newframe = frame.copy()`\n",
      "  newdata[f\"{columns[i]}-{columns[j]}\"] = newdata[columns[i]]-newdata[columns[j]]\n",
      "C:\\Users\\jespe\\AppData\\Local\\Temp\\ipykernel_11364\\1859563545.py:7: PerformanceWarning: DataFrame is highly fragmented.  This is usually the result of calling `frame.insert` many times, which has poor performance.  Consider joining all columns at once using pd.concat(axis=1) instead. To get a de-fragmented frame, use `newframe = frame.copy()`\n",
      "  newdata[f\"{columns[i]}/{columns[j]}\"] = newdata[columns[i]]/newdata[columns[j]]\n"
     ]
    },
    {
     "name": "stdout",
     "output_type": "stream",
     "text": [
      "Total_flux Total_flux/r_rcs_flux_corr\n",
      "Total_flux Total_flux-r_rcs_flux_corr\n",
      "Total_flux Total_flux/g_flux_corr\n"
     ]
    },
    {
     "name": "stderr",
     "output_type": "stream",
     "text": [
      "C:\\Users\\jespe\\AppData\\Local\\Temp\\ipykernel_11364\\1859563545.py:8: PerformanceWarning: DataFrame is highly fragmented.  This is usually the result of calling `frame.insert` many times, which has poor performance.  Consider joining all columns at once using pd.concat(axis=1) instead. To get a de-fragmented frame, use `newframe = frame.copy()`\n",
      "  newdata[f\"{columns[i]}-{columns[j]}\"] = newdata[columns[i]]-newdata[columns[j]]\n",
      "C:\\Users\\jespe\\AppData\\Local\\Temp\\ipykernel_11364\\1859563545.py:7: PerformanceWarning: DataFrame is highly fragmented.  This is usually the result of calling `frame.insert` many times, which has poor performance.  Consider joining all columns at once using pd.concat(axis=1) instead. To get a de-fragmented frame, use `newframe = frame.copy()`\n",
      "  newdata[f\"{columns[i]}/{columns[j]}\"] = newdata[columns[i]]/newdata[columns[j]]\n",
      "C:\\Users\\jespe\\AppData\\Local\\Temp\\ipykernel_11364\\1859563545.py:8: PerformanceWarning: DataFrame is highly fragmented.  This is usually the result of calling `frame.insert` many times, which has poor performance.  Consider joining all columns at once using pd.concat(axis=1) instead. To get a de-fragmented frame, use `newframe = frame.copy()`\n",
      "  newdata[f\"{columns[i]}-{columns[j]}\"] = newdata[columns[i]]-newdata[columns[j]]\n",
      "C:\\Users\\jespe\\AppData\\Local\\Temp\\ipykernel_11364\\1859563545.py:7: PerformanceWarning: DataFrame is highly fragmented.  This is usually the result of calling `frame.insert` many times, which has poor performance.  Consider joining all columns at once using pd.concat(axis=1) instead. To get a de-fragmented frame, use `newframe = frame.copy()`\n",
      "  newdata[f\"{columns[i]}/{columns[j]}\"] = newdata[columns[i]]/newdata[columns[j]]\n",
      "C:\\Users\\jespe\\AppData\\Local\\Temp\\ipykernel_11364\\1859563545.py:8: PerformanceWarning: DataFrame is highly fragmented.  This is usually the result of calling `frame.insert` many times, which has poor performance.  Consider joining all columns at once using pd.concat(axis=1) instead. To get a de-fragmented frame, use `newframe = frame.copy()`\n",
      "  newdata[f\"{columns[i]}-{columns[j]}\"] = newdata[columns[i]]-newdata[columns[j]]\n",
      "C:\\Users\\jespe\\AppData\\Local\\Temp\\ipykernel_11364\\1859563545.py:7: PerformanceWarning: DataFrame is highly fragmented.  This is usually the result of calling `frame.insert` many times, which has poor performance.  Consider joining all columns at once using pd.concat(axis=1) instead. To get a de-fragmented frame, use `newframe = frame.copy()`\n",
      "  newdata[f\"{columns[i]}/{columns[j]}\"] = newdata[columns[i]]/newdata[columns[j]]\n",
      "C:\\Users\\jespe\\AppData\\Local\\Temp\\ipykernel_11364\\1859563545.py:8: PerformanceWarning: DataFrame is highly fragmented.  This is usually the result of calling `frame.insert` many times, which has poor performance.  Consider joining all columns at once using pd.concat(axis=1) instead. To get a de-fragmented frame, use `newframe = frame.copy()`\n",
      "  newdata[f\"{columns[i]}-{columns[j]}\"] = newdata[columns[i]]-newdata[columns[j]]\n",
      "C:\\Users\\jespe\\AppData\\Local\\Temp\\ipykernel_11364\\1859563545.py:7: PerformanceWarning: DataFrame is highly fragmented.  This is usually the result of calling `frame.insert` many times, which has poor performance.  Consider joining all columns at once using pd.concat(axis=1) instead. To get a de-fragmented frame, use `newframe = frame.copy()`\n",
      "  newdata[f\"{columns[i]}/{columns[j]}\"] = newdata[columns[i]]/newdata[columns[j]]\n"
     ]
    },
    {
     "name": "stdout",
     "output_type": "stream",
     "text": [
      "Total_flux Total_flux-g_flux_corr\n",
      "Total_flux Total_flux/nb921_hsc_flux_corr\n",
      "Total_flux Total_flux-nb921_hsc_flux_corr\n",
      "Peak_flux NUV_flux_corr\n"
     ]
    },
    {
     "name": "stderr",
     "output_type": "stream",
     "text": [
      "C:\\Users\\jespe\\AppData\\Local\\Temp\\ipykernel_11364\\1859563545.py:8: PerformanceWarning: DataFrame is highly fragmented.  This is usually the result of calling `frame.insert` many times, which has poor performance.  Consider joining all columns at once using pd.concat(axis=1) instead. To get a de-fragmented frame, use `newframe = frame.copy()`\n",
      "  newdata[f\"{columns[i]}-{columns[j]}\"] = newdata[columns[i]]-newdata[columns[j]]\n",
      "C:\\Users\\jespe\\AppData\\Local\\Temp\\ipykernel_11364\\1859563545.py:7: PerformanceWarning: DataFrame is highly fragmented.  This is usually the result of calling `frame.insert` many times, which has poor performance.  Consider joining all columns at once using pd.concat(axis=1) instead. To get a de-fragmented frame, use `newframe = frame.copy()`\n",
      "  newdata[f\"{columns[i]}/{columns[j]}\"] = newdata[columns[i]]/newdata[columns[j]]\n",
      "C:\\Users\\jespe\\AppData\\Local\\Temp\\ipykernel_11364\\1859563545.py:8: PerformanceWarning: DataFrame is highly fragmented.  This is usually the result of calling `frame.insert` many times, which has poor performance.  Consider joining all columns at once using pd.concat(axis=1) instead. To get a de-fragmented frame, use `newframe = frame.copy()`\n",
      "  newdata[f\"{columns[i]}-{columns[j]}\"] = newdata[columns[i]]-newdata[columns[j]]\n",
      "C:\\Users\\jespe\\AppData\\Local\\Temp\\ipykernel_11364\\1859563545.py:7: PerformanceWarning: DataFrame is highly fragmented.  This is usually the result of calling `frame.insert` many times, which has poor performance.  Consider joining all columns at once using pd.concat(axis=1) instead. To get a de-fragmented frame, use `newframe = frame.copy()`\n",
      "  newdata[f\"{columns[i]}/{columns[j]}\"] = newdata[columns[i]]/newdata[columns[j]]\n",
      "C:\\Users\\jespe\\AppData\\Local\\Temp\\ipykernel_11364\\1859563545.py:8: PerformanceWarning: DataFrame is highly fragmented.  This is usually the result of calling `frame.insert` many times, which has poor performance.  Consider joining all columns at once using pd.concat(axis=1) instead. To get a de-fragmented frame, use `newframe = frame.copy()`\n",
      "  newdata[f\"{columns[i]}-{columns[j]}\"] = newdata[columns[i]]-newdata[columns[j]]\n",
      "C:\\Users\\jespe\\AppData\\Local\\Temp\\ipykernel_11364\\1859563545.py:7: PerformanceWarning: DataFrame is highly fragmented.  This is usually the result of calling `frame.insert` many times, which has poor performance.  Consider joining all columns at once using pd.concat(axis=1) instead. To get a de-fragmented frame, use `newframe = frame.copy()`\n",
      "  newdata[f\"{columns[i]}/{columns[j]}\"] = newdata[columns[i]]/newdata[columns[j]]\n",
      "C:\\Users\\jespe\\AppData\\Local\\Temp\\ipykernel_11364\\1859563545.py:8: PerformanceWarning: DataFrame is highly fragmented.  This is usually the result of calling `frame.insert` many times, which has poor performance.  Consider joining all columns at once using pd.concat(axis=1) instead. To get a de-fragmented frame, use `newframe = frame.copy()`\n",
      "  newdata[f\"{columns[i]}-{columns[j]}\"] = newdata[columns[i]]-newdata[columns[j]]\n"
     ]
    },
    {
     "name": "stdout",
     "output_type": "stream",
     "text": [
      "Peak_flux u_flux_corr\n",
      "Peak_flux Bw_flux_corr\n",
      "Peak_flux R_flux_corr\n",
      "Peak_flux I_flux_corr\n"
     ]
    },
    {
     "name": "stderr",
     "output_type": "stream",
     "text": [
      "C:\\Users\\jespe\\AppData\\Local\\Temp\\ipykernel_11364\\1859563545.py:7: PerformanceWarning: DataFrame is highly fragmented.  This is usually the result of calling `frame.insert` many times, which has poor performance.  Consider joining all columns at once using pd.concat(axis=1) instead. To get a de-fragmented frame, use `newframe = frame.copy()`\n",
      "  newdata[f\"{columns[i]}/{columns[j]}\"] = newdata[columns[i]]/newdata[columns[j]]\n",
      "C:\\Users\\jespe\\AppData\\Local\\Temp\\ipykernel_11364\\1859563545.py:8: PerformanceWarning: DataFrame is highly fragmented.  This is usually the result of calling `frame.insert` many times, which has poor performance.  Consider joining all columns at once using pd.concat(axis=1) instead. To get a de-fragmented frame, use `newframe = frame.copy()`\n",
      "  newdata[f\"{columns[i]}-{columns[j]}\"] = newdata[columns[i]]-newdata[columns[j]]\n",
      "C:\\Users\\jespe\\AppData\\Local\\Temp\\ipykernel_11364\\1859563545.py:7: PerformanceWarning: DataFrame is highly fragmented.  This is usually the result of calling `frame.insert` many times, which has poor performance.  Consider joining all columns at once using pd.concat(axis=1) instead. To get a de-fragmented frame, use `newframe = frame.copy()`\n",
      "  newdata[f\"{columns[i]}/{columns[j]}\"] = newdata[columns[i]]/newdata[columns[j]]\n",
      "C:\\Users\\jespe\\AppData\\Local\\Temp\\ipykernel_11364\\1859563545.py:8: PerformanceWarning: DataFrame is highly fragmented.  This is usually the result of calling `frame.insert` many times, which has poor performance.  Consider joining all columns at once using pd.concat(axis=1) instead. To get a de-fragmented frame, use `newframe = frame.copy()`\n",
      "  newdata[f\"{columns[i]}-{columns[j]}\"] = newdata[columns[i]]-newdata[columns[j]]\n",
      "C:\\Users\\jespe\\AppData\\Local\\Temp\\ipykernel_11364\\1859563545.py:7: PerformanceWarning: DataFrame is highly fragmented.  This is usually the result of calling `frame.insert` many times, which has poor performance.  Consider joining all columns at once using pd.concat(axis=1) instead. To get a de-fragmented frame, use `newframe = frame.copy()`\n",
      "  newdata[f\"{columns[i]}/{columns[j]}\"] = newdata[columns[i]]/newdata[columns[j]]\n",
      "C:\\Users\\jespe\\AppData\\Local\\Temp\\ipykernel_11364\\1859563545.py:8: PerformanceWarning: DataFrame is highly fragmented.  This is usually the result of calling `frame.insert` many times, which has poor performance.  Consider joining all columns at once using pd.concat(axis=1) instead. To get a de-fragmented frame, use `newframe = frame.copy()`\n",
      "  newdata[f\"{columns[i]}-{columns[j]}\"] = newdata[columns[i]]-newdata[columns[j]]\n"
     ]
    },
    {
     "name": "stdout",
     "output_type": "stream",
     "text": [
      "Peak_flux z_flux_corr\n",
      "Peak_flux y_flux_corr\n",
      "Peak_flux J_flux_corr\n"
     ]
    },
    {
     "name": "stderr",
     "output_type": "stream",
     "text": [
      "C:\\Users\\jespe\\AppData\\Local\\Temp\\ipykernel_11364\\1859563545.py:7: PerformanceWarning: DataFrame is highly fragmented.  This is usually the result of calling `frame.insert` many times, which has poor performance.  Consider joining all columns at once using pd.concat(axis=1) instead. To get a de-fragmented frame, use `newframe = frame.copy()`\n",
      "  newdata[f\"{columns[i]}/{columns[j]}\"] = newdata[columns[i]]/newdata[columns[j]]\n",
      "C:\\Users\\jespe\\AppData\\Local\\Temp\\ipykernel_11364\\1859563545.py:8: PerformanceWarning: DataFrame is highly fragmented.  This is usually the result of calling `frame.insert` many times, which has poor performance.  Consider joining all columns at once using pd.concat(axis=1) instead. To get a de-fragmented frame, use `newframe = frame.copy()`\n",
      "  newdata[f\"{columns[i]}-{columns[j]}\"] = newdata[columns[i]]-newdata[columns[j]]\n",
      "C:\\Users\\jespe\\AppData\\Local\\Temp\\ipykernel_11364\\1859563545.py:7: PerformanceWarning: DataFrame is highly fragmented.  This is usually the result of calling `frame.insert` many times, which has poor performance.  Consider joining all columns at once using pd.concat(axis=1) instead. To get a de-fragmented frame, use `newframe = frame.copy()`\n",
      "  newdata[f\"{columns[i]}/{columns[j]}\"] = newdata[columns[i]]/newdata[columns[j]]\n",
      "C:\\Users\\jespe\\AppData\\Local\\Temp\\ipykernel_11364\\1859563545.py:8: PerformanceWarning: DataFrame is highly fragmented.  This is usually the result of calling `frame.insert` many times, which has poor performance.  Consider joining all columns at once using pd.concat(axis=1) instead. To get a de-fragmented frame, use `newframe = frame.copy()`\n",
      "  newdata[f\"{columns[i]}-{columns[j]}\"] = newdata[columns[i]]-newdata[columns[j]]\n",
      "C:\\Users\\jespe\\AppData\\Local\\Temp\\ipykernel_11364\\1859563545.py:7: PerformanceWarning: DataFrame is highly fragmented.  This is usually the result of calling `frame.insert` many times, which has poor performance.  Consider joining all columns at once using pd.concat(axis=1) instead. To get a de-fragmented frame, use `newframe = frame.copy()`\n",
      "  newdata[f\"{columns[i]}/{columns[j]}\"] = newdata[columns[i]]/newdata[columns[j]]\n",
      "C:\\Users\\jespe\\AppData\\Local\\Temp\\ipykernel_11364\\1859563545.py:8: PerformanceWarning: DataFrame is highly fragmented.  This is usually the result of calling `frame.insert` many times, which has poor performance.  Consider joining all columns at once using pd.concat(axis=1) instead. To get a de-fragmented frame, use `newframe = frame.copy()`\n",
      "  newdata[f\"{columns[i]}-{columns[j]}\"] = newdata[columns[i]]-newdata[columns[j]]\n",
      "C:\\Users\\jespe\\AppData\\Local\\Temp\\ipykernel_11364\\1859563545.py:7: PerformanceWarning: DataFrame is highly fragmented.  This is usually the result of calling `frame.insert` many times, which has poor performance.  Consider joining all columns at once using pd.concat(axis=1) instead. To get a de-fragmented frame, use `newframe = frame.copy()`\n",
      "  newdata[f\"{columns[i]}/{columns[j]}\"] = newdata[columns[i]]/newdata[columns[j]]\n"
     ]
    },
    {
     "name": "stdout",
     "output_type": "stream",
     "text": [
      "Peak_flux H_flux_corr\n",
      "Peak_flux K_flux_corr\n",
      "Peak_flux Ks_flux_corr\n",
      "Peak_flux ch1_flux_corr\n"
     ]
    },
    {
     "name": "stderr",
     "output_type": "stream",
     "text": [
      "C:\\Users\\jespe\\AppData\\Local\\Temp\\ipykernel_11364\\1859563545.py:8: PerformanceWarning: DataFrame is highly fragmented.  This is usually the result of calling `frame.insert` many times, which has poor performance.  Consider joining all columns at once using pd.concat(axis=1) instead. To get a de-fragmented frame, use `newframe = frame.copy()`\n",
      "  newdata[f\"{columns[i]}-{columns[j]}\"] = newdata[columns[i]]-newdata[columns[j]]\n",
      "C:\\Users\\jespe\\AppData\\Local\\Temp\\ipykernel_11364\\1859563545.py:7: PerformanceWarning: DataFrame is highly fragmented.  This is usually the result of calling `frame.insert` many times, which has poor performance.  Consider joining all columns at once using pd.concat(axis=1) instead. To get a de-fragmented frame, use `newframe = frame.copy()`\n",
      "  newdata[f\"{columns[i]}/{columns[j]}\"] = newdata[columns[i]]/newdata[columns[j]]\n",
      "C:\\Users\\jespe\\AppData\\Local\\Temp\\ipykernel_11364\\1859563545.py:8: PerformanceWarning: DataFrame is highly fragmented.  This is usually the result of calling `frame.insert` many times, which has poor performance.  Consider joining all columns at once using pd.concat(axis=1) instead. To get a de-fragmented frame, use `newframe = frame.copy()`\n",
      "  newdata[f\"{columns[i]}-{columns[j]}\"] = newdata[columns[i]]-newdata[columns[j]]\n",
      "C:\\Users\\jespe\\AppData\\Local\\Temp\\ipykernel_11364\\1859563545.py:7: PerformanceWarning: DataFrame is highly fragmented.  This is usually the result of calling `frame.insert` many times, which has poor performance.  Consider joining all columns at once using pd.concat(axis=1) instead. To get a de-fragmented frame, use `newframe = frame.copy()`\n",
      "  newdata[f\"{columns[i]}/{columns[j]}\"] = newdata[columns[i]]/newdata[columns[j]]\n",
      "C:\\Users\\jespe\\AppData\\Local\\Temp\\ipykernel_11364\\1859563545.py:8: PerformanceWarning: DataFrame is highly fragmented.  This is usually the result of calling `frame.insert` many times, which has poor performance.  Consider joining all columns at once using pd.concat(axis=1) instead. To get a de-fragmented frame, use `newframe = frame.copy()`\n",
      "  newdata[f\"{columns[i]}-{columns[j]}\"] = newdata[columns[i]]-newdata[columns[j]]\n",
      "C:\\Users\\jespe\\AppData\\Local\\Temp\\ipykernel_11364\\1859563545.py:7: PerformanceWarning: DataFrame is highly fragmented.  This is usually the result of calling `frame.insert` many times, which has poor performance.  Consider joining all columns at once using pd.concat(axis=1) instead. To get a de-fragmented frame, use `newframe = frame.copy()`\n",
      "  newdata[f\"{columns[i]}/{columns[j]}\"] = newdata[columns[i]]/newdata[columns[j]]\n",
      "C:\\Users\\jespe\\AppData\\Local\\Temp\\ipykernel_11364\\1859563545.py:8: PerformanceWarning: DataFrame is highly fragmented.  This is usually the result of calling `frame.insert` many times, which has poor performance.  Consider joining all columns at once using pd.concat(axis=1) instead. To get a de-fragmented frame, use `newframe = frame.copy()`\n",
      "  newdata[f\"{columns[i]}-{columns[j]}\"] = newdata[columns[i]]-newdata[columns[j]]\n",
      "C:\\Users\\jespe\\AppData\\Local\\Temp\\ipykernel_11364\\1859563545.py:7: PerformanceWarning: DataFrame is highly fragmented.  This is usually the result of calling `frame.insert` many times, which has poor performance.  Consider joining all columns at once using pd.concat(axis=1) instead. To get a de-fragmented frame, use `newframe = frame.copy()`\n",
      "  newdata[f\"{columns[i]}/{columns[j]}\"] = newdata[columns[i]]/newdata[columns[j]]\n"
     ]
    },
    {
     "name": "stdout",
     "output_type": "stream",
     "text": [
      "Peak_flux ch2_flux_corr\n",
      "Peak_flux ch3_flux_corr\n",
      "Peak_flux ch4_flux_corr\n",
      "Peak_flux F_MIPS_24\n"
     ]
    },
    {
     "name": "stderr",
     "output_type": "stream",
     "text": [
      "C:\\Users\\jespe\\AppData\\Local\\Temp\\ipykernel_11364\\1859563545.py:8: PerformanceWarning: DataFrame is highly fragmented.  This is usually the result of calling `frame.insert` many times, which has poor performance.  Consider joining all columns at once using pd.concat(axis=1) instead. To get a de-fragmented frame, use `newframe = frame.copy()`\n",
      "  newdata[f\"{columns[i]}-{columns[j]}\"] = newdata[columns[i]]-newdata[columns[j]]\n",
      "C:\\Users\\jespe\\AppData\\Local\\Temp\\ipykernel_11364\\1859563545.py:7: PerformanceWarning: DataFrame is highly fragmented.  This is usually the result of calling `frame.insert` many times, which has poor performance.  Consider joining all columns at once using pd.concat(axis=1) instead. To get a de-fragmented frame, use `newframe = frame.copy()`\n",
      "  newdata[f\"{columns[i]}/{columns[j]}\"] = newdata[columns[i]]/newdata[columns[j]]\n",
      "C:\\Users\\jespe\\AppData\\Local\\Temp\\ipykernel_11364\\1859563545.py:8: PerformanceWarning: DataFrame is highly fragmented.  This is usually the result of calling `frame.insert` many times, which has poor performance.  Consider joining all columns at once using pd.concat(axis=1) instead. To get a de-fragmented frame, use `newframe = frame.copy()`\n",
      "  newdata[f\"{columns[i]}-{columns[j]}\"] = newdata[columns[i]]-newdata[columns[j]]\n",
      "C:\\Users\\jespe\\AppData\\Local\\Temp\\ipykernel_11364\\1859563545.py:7: PerformanceWarning: DataFrame is highly fragmented.  This is usually the result of calling `frame.insert` many times, which has poor performance.  Consider joining all columns at once using pd.concat(axis=1) instead. To get a de-fragmented frame, use `newframe = frame.copy()`\n",
      "  newdata[f\"{columns[i]}/{columns[j]}\"] = newdata[columns[i]]/newdata[columns[j]]\n",
      "C:\\Users\\jespe\\AppData\\Local\\Temp\\ipykernel_11364\\1859563545.py:8: PerformanceWarning: DataFrame is highly fragmented.  This is usually the result of calling `frame.insert` many times, which has poor performance.  Consider joining all columns at once using pd.concat(axis=1) instead. To get a de-fragmented frame, use `newframe = frame.copy()`\n",
      "  newdata[f\"{columns[i]}-{columns[j]}\"] = newdata[columns[i]]-newdata[columns[j]]\n",
      "C:\\Users\\jespe\\AppData\\Local\\Temp\\ipykernel_11364\\1859563545.py:7: PerformanceWarning: DataFrame is highly fragmented.  This is usually the result of calling `frame.insert` many times, which has poor performance.  Consider joining all columns at once using pd.concat(axis=1) instead. To get a de-fragmented frame, use `newframe = frame.copy()`\n",
      "  newdata[f\"{columns[i]}/{columns[j]}\"] = newdata[columns[i]]/newdata[columns[j]]\n",
      "C:\\Users\\jespe\\AppData\\Local\\Temp\\ipykernel_11364\\1859563545.py:8: PerformanceWarning: DataFrame is highly fragmented.  This is usually the result of calling `frame.insert` many times, which has poor performance.  Consider joining all columns at once using pd.concat(axis=1) instead. To get a de-fragmented frame, use `newframe = frame.copy()`\n",
      "  newdata[f\"{columns[i]}-{columns[j]}\"] = newdata[columns[i]]-newdata[columns[j]]\n",
      "C:\\Users\\jespe\\AppData\\Local\\Temp\\ipykernel_11364\\1859563545.py:7: PerformanceWarning: DataFrame is highly fragmented.  This is usually the result of calling `frame.insert` many times, which has poor performance.  Consider joining all columns at once using pd.concat(axis=1) instead. To get a de-fragmented frame, use `newframe = frame.copy()`\n",
      "  newdata[f\"{columns[i]}/{columns[j]}\"] = newdata[columns[i]]/newdata[columns[j]]\n"
     ]
    },
    {
     "name": "stdout",
     "output_type": "stream",
     "text": [
      "Peak_flux F_PACS_100\n",
      "Peak_flux F_PACS_160\n",
      "Peak_flux F_SPIRE_250\n",
      "Peak_flux F_SPIRE_350\n"
     ]
    },
    {
     "name": "stderr",
     "output_type": "stream",
     "text": [
      "C:\\Users\\jespe\\AppData\\Local\\Temp\\ipykernel_11364\\1859563545.py:8: PerformanceWarning: DataFrame is highly fragmented.  This is usually the result of calling `frame.insert` many times, which has poor performance.  Consider joining all columns at once using pd.concat(axis=1) instead. To get a de-fragmented frame, use `newframe = frame.copy()`\n",
      "  newdata[f\"{columns[i]}-{columns[j]}\"] = newdata[columns[i]]-newdata[columns[j]]\n",
      "C:\\Users\\jespe\\AppData\\Local\\Temp\\ipykernel_11364\\1859563545.py:7: PerformanceWarning: DataFrame is highly fragmented.  This is usually the result of calling `frame.insert` many times, which has poor performance.  Consider joining all columns at once using pd.concat(axis=1) instead. To get a de-fragmented frame, use `newframe = frame.copy()`\n",
      "  newdata[f\"{columns[i]}/{columns[j]}\"] = newdata[columns[i]]/newdata[columns[j]]\n",
      "C:\\Users\\jespe\\AppData\\Local\\Temp\\ipykernel_11364\\1859563545.py:8: PerformanceWarning: DataFrame is highly fragmented.  This is usually the result of calling `frame.insert` many times, which has poor performance.  Consider joining all columns at once using pd.concat(axis=1) instead. To get a de-fragmented frame, use `newframe = frame.copy()`\n",
      "  newdata[f\"{columns[i]}-{columns[j]}\"] = newdata[columns[i]]-newdata[columns[j]]\n",
      "C:\\Users\\jespe\\AppData\\Local\\Temp\\ipykernel_11364\\1859563545.py:7: PerformanceWarning: DataFrame is highly fragmented.  This is usually the result of calling `frame.insert` many times, which has poor performance.  Consider joining all columns at once using pd.concat(axis=1) instead. To get a de-fragmented frame, use `newframe = frame.copy()`\n",
      "  newdata[f\"{columns[i]}/{columns[j]}\"] = newdata[columns[i]]/newdata[columns[j]]\n",
      "C:\\Users\\jespe\\AppData\\Local\\Temp\\ipykernel_11364\\1859563545.py:8: PerformanceWarning: DataFrame is highly fragmented.  This is usually the result of calling `frame.insert` many times, which has poor performance.  Consider joining all columns at once using pd.concat(axis=1) instead. To get a de-fragmented frame, use `newframe = frame.copy()`\n",
      "  newdata[f\"{columns[i]}-{columns[j]}\"] = newdata[columns[i]]-newdata[columns[j]]\n",
      "C:\\Users\\jespe\\AppData\\Local\\Temp\\ipykernel_11364\\1859563545.py:7: PerformanceWarning: DataFrame is highly fragmented.  This is usually the result of calling `frame.insert` many times, which has poor performance.  Consider joining all columns at once using pd.concat(axis=1) instead. To get a de-fragmented frame, use `newframe = frame.copy()`\n",
      "  newdata[f\"{columns[i]}/{columns[j]}\"] = newdata[columns[i]]/newdata[columns[j]]\n"
     ]
    },
    {
     "name": "stdout",
     "output_type": "stream",
     "text": [
      "Peak_flux F_SPIRE_500\n",
      "Peak_flux r_rcs_flux_corr\n",
      "Peak_flux g_flux_corr\n",
      "Peak_flux nb921_hsc_flux_corr\n"
     ]
    },
    {
     "name": "stderr",
     "output_type": "stream",
     "text": [
      "C:\\Users\\jespe\\AppData\\Local\\Temp\\ipykernel_11364\\1859563545.py:8: PerformanceWarning: DataFrame is highly fragmented.  This is usually the result of calling `frame.insert` many times, which has poor performance.  Consider joining all columns at once using pd.concat(axis=1) instead. To get a de-fragmented frame, use `newframe = frame.copy()`\n",
      "  newdata[f\"{columns[i]}-{columns[j]}\"] = newdata[columns[i]]-newdata[columns[j]]\n",
      "C:\\Users\\jespe\\AppData\\Local\\Temp\\ipykernel_11364\\1859563545.py:7: PerformanceWarning: DataFrame is highly fragmented.  This is usually the result of calling `frame.insert` many times, which has poor performance.  Consider joining all columns at once using pd.concat(axis=1) instead. To get a de-fragmented frame, use `newframe = frame.copy()`\n",
      "  newdata[f\"{columns[i]}/{columns[j]}\"] = newdata[columns[i]]/newdata[columns[j]]\n",
      "C:\\Users\\jespe\\AppData\\Local\\Temp\\ipykernel_11364\\1859563545.py:8: PerformanceWarning: DataFrame is highly fragmented.  This is usually the result of calling `frame.insert` many times, which has poor performance.  Consider joining all columns at once using pd.concat(axis=1) instead. To get a de-fragmented frame, use `newframe = frame.copy()`\n",
      "  newdata[f\"{columns[i]}-{columns[j]}\"] = newdata[columns[i]]-newdata[columns[j]]\n",
      "C:\\Users\\jespe\\AppData\\Local\\Temp\\ipykernel_11364\\1859563545.py:7: PerformanceWarning: DataFrame is highly fragmented.  This is usually the result of calling `frame.insert` many times, which has poor performance.  Consider joining all columns at once using pd.concat(axis=1) instead. To get a de-fragmented frame, use `newframe = frame.copy()`\n",
      "  newdata[f\"{columns[i]}/{columns[j]}\"] = newdata[columns[i]]/newdata[columns[j]]\n",
      "C:\\Users\\jespe\\AppData\\Local\\Temp\\ipykernel_11364\\1859563545.py:8: PerformanceWarning: DataFrame is highly fragmented.  This is usually the result of calling `frame.insert` many times, which has poor performance.  Consider joining all columns at once using pd.concat(axis=1) instead. To get a de-fragmented frame, use `newframe = frame.copy()`\n",
      "  newdata[f\"{columns[i]}-{columns[j]}\"] = newdata[columns[i]]-newdata[columns[j]]\n",
      "C:\\Users\\jespe\\AppData\\Local\\Temp\\ipykernel_11364\\1859563545.py:7: PerformanceWarning: DataFrame is highly fragmented.  This is usually the result of calling `frame.insert` many times, which has poor performance.  Consider joining all columns at once using pd.concat(axis=1) instead. To get a de-fragmented frame, use `newframe = frame.copy()`\n",
      "  newdata[f\"{columns[i]}/{columns[j]}\"] = newdata[columns[i]]/newdata[columns[j]]\n",
      "C:\\Users\\jespe\\AppData\\Local\\Temp\\ipykernel_11364\\1859563545.py:8: PerformanceWarning: DataFrame is highly fragmented.  This is usually the result of calling `frame.insert` many times, which has poor performance.  Consider joining all columns at once using pd.concat(axis=1) instead. To get a de-fragmented frame, use `newframe = frame.copy()`\n",
      "  newdata[f\"{columns[i]}-{columns[j]}\"] = newdata[columns[i]]-newdata[columns[j]]\n"
     ]
    },
    {
     "name": "stdout",
     "output_type": "stream",
     "text": [
      "Peak_flux Total_flux/Peak_flux\n",
      "Peak_flux Total_flux-Peak_flux\n",
      "Peak_flux Total_flux/NUV_flux_corr\n"
     ]
    },
    {
     "name": "stderr",
     "output_type": "stream",
     "text": [
      "C:\\Users\\jespe\\AppData\\Local\\Temp\\ipykernel_11364\\1859563545.py:7: PerformanceWarning: DataFrame is highly fragmented.  This is usually the result of calling `frame.insert` many times, which has poor performance.  Consider joining all columns at once using pd.concat(axis=1) instead. To get a de-fragmented frame, use `newframe = frame.copy()`\n",
      "  newdata[f\"{columns[i]}/{columns[j]}\"] = newdata[columns[i]]/newdata[columns[j]]\n",
      "C:\\Users\\jespe\\AppData\\Local\\Temp\\ipykernel_11364\\1859563545.py:8: PerformanceWarning: DataFrame is highly fragmented.  This is usually the result of calling `frame.insert` many times, which has poor performance.  Consider joining all columns at once using pd.concat(axis=1) instead. To get a de-fragmented frame, use `newframe = frame.copy()`\n",
      "  newdata[f\"{columns[i]}-{columns[j]}\"] = newdata[columns[i]]-newdata[columns[j]]\n",
      "C:\\Users\\jespe\\AppData\\Local\\Temp\\ipykernel_11364\\1859563545.py:7: PerformanceWarning: DataFrame is highly fragmented.  This is usually the result of calling `frame.insert` many times, which has poor performance.  Consider joining all columns at once using pd.concat(axis=1) instead. To get a de-fragmented frame, use `newframe = frame.copy()`\n",
      "  newdata[f\"{columns[i]}/{columns[j]}\"] = newdata[columns[i]]/newdata[columns[j]]\n",
      "C:\\Users\\jespe\\AppData\\Local\\Temp\\ipykernel_11364\\1859563545.py:8: PerformanceWarning: DataFrame is highly fragmented.  This is usually the result of calling `frame.insert` many times, which has poor performance.  Consider joining all columns at once using pd.concat(axis=1) instead. To get a de-fragmented frame, use `newframe = frame.copy()`\n",
      "  newdata[f\"{columns[i]}-{columns[j]}\"] = newdata[columns[i]]-newdata[columns[j]]\n",
      "C:\\Users\\jespe\\AppData\\Local\\Temp\\ipykernel_11364\\1859563545.py:7: PerformanceWarning: DataFrame is highly fragmented.  This is usually the result of calling `frame.insert` many times, which has poor performance.  Consider joining all columns at once using pd.concat(axis=1) instead. To get a de-fragmented frame, use `newframe = frame.copy()`\n",
      "  newdata[f\"{columns[i]}/{columns[j]}\"] = newdata[columns[i]]/newdata[columns[j]]\n",
      "C:\\Users\\jespe\\AppData\\Local\\Temp\\ipykernel_11364\\1859563545.py:8: PerformanceWarning: DataFrame is highly fragmented.  This is usually the result of calling `frame.insert` many times, which has poor performance.  Consider joining all columns at once using pd.concat(axis=1) instead. To get a de-fragmented frame, use `newframe = frame.copy()`\n",
      "  newdata[f\"{columns[i]}-{columns[j]}\"] = newdata[columns[i]]-newdata[columns[j]]\n",
      "C:\\Users\\jespe\\AppData\\Local\\Temp\\ipykernel_11364\\1859563545.py:7: PerformanceWarning: DataFrame is highly fragmented.  This is usually the result of calling `frame.insert` many times, which has poor performance.  Consider joining all columns at once using pd.concat(axis=1) instead. To get a de-fragmented frame, use `newframe = frame.copy()`\n",
      "  newdata[f\"{columns[i]}/{columns[j]}\"] = newdata[columns[i]]/newdata[columns[j]]\n",
      "C:\\Users\\jespe\\AppData\\Local\\Temp\\ipykernel_11364\\1859563545.py:8: PerformanceWarning: DataFrame is highly fragmented.  This is usually the result of calling `frame.insert` many times, which has poor performance.  Consider joining all columns at once using pd.concat(axis=1) instead. To get a de-fragmented frame, use `newframe = frame.copy()`\n",
      "  newdata[f\"{columns[i]}-{columns[j]}\"] = newdata[columns[i]]-newdata[columns[j]]\n"
     ]
    },
    {
     "name": "stdout",
     "output_type": "stream",
     "text": [
      "Peak_flux Total_flux-NUV_flux_corr\n",
      "Peak_flux Total_flux/u_flux_corr\n",
      "Peak_flux Total_flux-u_flux_corr\n",
      "Peak_flux Total_flux/Bw_flux_corr\n"
     ]
    },
    {
     "name": "stderr",
     "output_type": "stream",
     "text": [
      "C:\\Users\\jespe\\AppData\\Local\\Temp\\ipykernel_11364\\1859563545.py:7: PerformanceWarning: DataFrame is highly fragmented.  This is usually the result of calling `frame.insert` many times, which has poor performance.  Consider joining all columns at once using pd.concat(axis=1) instead. To get a de-fragmented frame, use `newframe = frame.copy()`\n",
      "  newdata[f\"{columns[i]}/{columns[j]}\"] = newdata[columns[i]]/newdata[columns[j]]\n",
      "C:\\Users\\jespe\\AppData\\Local\\Temp\\ipykernel_11364\\1859563545.py:8: PerformanceWarning: DataFrame is highly fragmented.  This is usually the result of calling `frame.insert` many times, which has poor performance.  Consider joining all columns at once using pd.concat(axis=1) instead. To get a de-fragmented frame, use `newframe = frame.copy()`\n",
      "  newdata[f\"{columns[i]}-{columns[j]}\"] = newdata[columns[i]]-newdata[columns[j]]\n",
      "C:\\Users\\jespe\\AppData\\Local\\Temp\\ipykernel_11364\\1859563545.py:7: PerformanceWarning: DataFrame is highly fragmented.  This is usually the result of calling `frame.insert` many times, which has poor performance.  Consider joining all columns at once using pd.concat(axis=1) instead. To get a de-fragmented frame, use `newframe = frame.copy()`\n",
      "  newdata[f\"{columns[i]}/{columns[j]}\"] = newdata[columns[i]]/newdata[columns[j]]\n",
      "C:\\Users\\jespe\\AppData\\Local\\Temp\\ipykernel_11364\\1859563545.py:8: PerformanceWarning: DataFrame is highly fragmented.  This is usually the result of calling `frame.insert` many times, which has poor performance.  Consider joining all columns at once using pd.concat(axis=1) instead. To get a de-fragmented frame, use `newframe = frame.copy()`\n",
      "  newdata[f\"{columns[i]}-{columns[j]}\"] = newdata[columns[i]]-newdata[columns[j]]\n",
      "C:\\Users\\jespe\\AppData\\Local\\Temp\\ipykernel_11364\\1859563545.py:7: PerformanceWarning: DataFrame is highly fragmented.  This is usually the result of calling `frame.insert` many times, which has poor performance.  Consider joining all columns at once using pd.concat(axis=1) instead. To get a de-fragmented frame, use `newframe = frame.copy()`\n",
      "  newdata[f\"{columns[i]}/{columns[j]}\"] = newdata[columns[i]]/newdata[columns[j]]\n"
     ]
    },
    {
     "name": "stdout",
     "output_type": "stream",
     "text": [
      "Peak_flux Total_flux-Bw_flux_corr\n",
      "Peak_flux Total_flux/R_flux_corr\n",
      "Peak_flux Total_flux-R_flux_corr\n",
      "Peak_flux Total_flux/I_flux_corr\n"
     ]
    },
    {
     "name": "stderr",
     "output_type": "stream",
     "text": [
      "C:\\Users\\jespe\\AppData\\Local\\Temp\\ipykernel_11364\\1859563545.py:8: PerformanceWarning: DataFrame is highly fragmented.  This is usually the result of calling `frame.insert` many times, which has poor performance.  Consider joining all columns at once using pd.concat(axis=1) instead. To get a de-fragmented frame, use `newframe = frame.copy()`\n",
      "  newdata[f\"{columns[i]}-{columns[j]}\"] = newdata[columns[i]]-newdata[columns[j]]\n",
      "C:\\Users\\jespe\\AppData\\Local\\Temp\\ipykernel_11364\\1859563545.py:7: PerformanceWarning: DataFrame is highly fragmented.  This is usually the result of calling `frame.insert` many times, which has poor performance.  Consider joining all columns at once using pd.concat(axis=1) instead. To get a de-fragmented frame, use `newframe = frame.copy()`\n",
      "  newdata[f\"{columns[i]}/{columns[j]}\"] = newdata[columns[i]]/newdata[columns[j]]\n",
      "C:\\Users\\jespe\\AppData\\Local\\Temp\\ipykernel_11364\\1859563545.py:8: PerformanceWarning: DataFrame is highly fragmented.  This is usually the result of calling `frame.insert` many times, which has poor performance.  Consider joining all columns at once using pd.concat(axis=1) instead. To get a de-fragmented frame, use `newframe = frame.copy()`\n",
      "  newdata[f\"{columns[i]}-{columns[j]}\"] = newdata[columns[i]]-newdata[columns[j]]\n",
      "C:\\Users\\jespe\\AppData\\Local\\Temp\\ipykernel_11364\\1859563545.py:7: PerformanceWarning: DataFrame is highly fragmented.  This is usually the result of calling `frame.insert` many times, which has poor performance.  Consider joining all columns at once using pd.concat(axis=1) instead. To get a de-fragmented frame, use `newframe = frame.copy()`\n",
      "  newdata[f\"{columns[i]}/{columns[j]}\"] = newdata[columns[i]]/newdata[columns[j]]\n",
      "C:\\Users\\jespe\\AppData\\Local\\Temp\\ipykernel_11364\\1859563545.py:8: PerformanceWarning: DataFrame is highly fragmented.  This is usually the result of calling `frame.insert` many times, which has poor performance.  Consider joining all columns at once using pd.concat(axis=1) instead. To get a de-fragmented frame, use `newframe = frame.copy()`\n",
      "  newdata[f\"{columns[i]}-{columns[j]}\"] = newdata[columns[i]]-newdata[columns[j]]\n",
      "C:\\Users\\jespe\\AppData\\Local\\Temp\\ipykernel_11364\\1859563545.py:7: PerformanceWarning: DataFrame is highly fragmented.  This is usually the result of calling `frame.insert` many times, which has poor performance.  Consider joining all columns at once using pd.concat(axis=1) instead. To get a de-fragmented frame, use `newframe = frame.copy()`\n",
      "  newdata[f\"{columns[i]}/{columns[j]}\"] = newdata[columns[i]]/newdata[columns[j]]\n",
      "C:\\Users\\jespe\\AppData\\Local\\Temp\\ipykernel_11364\\1859563545.py:8: PerformanceWarning: DataFrame is highly fragmented.  This is usually the result of calling `frame.insert` many times, which has poor performance.  Consider joining all columns at once using pd.concat(axis=1) instead. To get a de-fragmented frame, use `newframe = frame.copy()`\n",
      "  newdata[f\"{columns[i]}-{columns[j]}\"] = newdata[columns[i]]-newdata[columns[j]]\n"
     ]
    },
    {
     "name": "stdout",
     "output_type": "stream",
     "text": [
      "Peak_flux Total_flux-I_flux_corr\n",
      "Peak_flux Total_flux/z_flux_corr\n",
      "Peak_flux Total_flux-z_flux_corr\n"
     ]
    },
    {
     "name": "stderr",
     "output_type": "stream",
     "text": [
      "C:\\Users\\jespe\\AppData\\Local\\Temp\\ipykernel_11364\\1859563545.py:7: PerformanceWarning: DataFrame is highly fragmented.  This is usually the result of calling `frame.insert` many times, which has poor performance.  Consider joining all columns at once using pd.concat(axis=1) instead. To get a de-fragmented frame, use `newframe = frame.copy()`\n",
      "  newdata[f\"{columns[i]}/{columns[j]}\"] = newdata[columns[i]]/newdata[columns[j]]\n",
      "C:\\Users\\jespe\\AppData\\Local\\Temp\\ipykernel_11364\\1859563545.py:8: PerformanceWarning: DataFrame is highly fragmented.  This is usually the result of calling `frame.insert` many times, which has poor performance.  Consider joining all columns at once using pd.concat(axis=1) instead. To get a de-fragmented frame, use `newframe = frame.copy()`\n",
      "  newdata[f\"{columns[i]}-{columns[j]}\"] = newdata[columns[i]]-newdata[columns[j]]\n",
      "C:\\Users\\jespe\\AppData\\Local\\Temp\\ipykernel_11364\\1859563545.py:7: PerformanceWarning: DataFrame is highly fragmented.  This is usually the result of calling `frame.insert` many times, which has poor performance.  Consider joining all columns at once using pd.concat(axis=1) instead. To get a de-fragmented frame, use `newframe = frame.copy()`\n",
      "  newdata[f\"{columns[i]}/{columns[j]}\"] = newdata[columns[i]]/newdata[columns[j]]\n",
      "C:\\Users\\jespe\\AppData\\Local\\Temp\\ipykernel_11364\\1859563545.py:8: PerformanceWarning: DataFrame is highly fragmented.  This is usually the result of calling `frame.insert` many times, which has poor performance.  Consider joining all columns at once using pd.concat(axis=1) instead. To get a de-fragmented frame, use `newframe = frame.copy()`\n",
      "  newdata[f\"{columns[i]}-{columns[j]}\"] = newdata[columns[i]]-newdata[columns[j]]\n",
      "C:\\Users\\jespe\\AppData\\Local\\Temp\\ipykernel_11364\\1859563545.py:7: PerformanceWarning: DataFrame is highly fragmented.  This is usually the result of calling `frame.insert` many times, which has poor performance.  Consider joining all columns at once using pd.concat(axis=1) instead. To get a de-fragmented frame, use `newframe = frame.copy()`\n",
      "  newdata[f\"{columns[i]}/{columns[j]}\"] = newdata[columns[i]]/newdata[columns[j]]\n",
      "C:\\Users\\jespe\\AppData\\Local\\Temp\\ipykernel_11364\\1859563545.py:8: PerformanceWarning: DataFrame is highly fragmented.  This is usually the result of calling `frame.insert` many times, which has poor performance.  Consider joining all columns at once using pd.concat(axis=1) instead. To get a de-fragmented frame, use `newframe = frame.copy()`\n",
      "  newdata[f\"{columns[i]}-{columns[j]}\"] = newdata[columns[i]]-newdata[columns[j]]\n",
      "C:\\Users\\jespe\\AppData\\Local\\Temp\\ipykernel_11364\\1859563545.py:7: PerformanceWarning: DataFrame is highly fragmented.  This is usually the result of calling `frame.insert` many times, which has poor performance.  Consider joining all columns at once using pd.concat(axis=1) instead. To get a de-fragmented frame, use `newframe = frame.copy()`\n",
      "  newdata[f\"{columns[i]}/{columns[j]}\"] = newdata[columns[i]]/newdata[columns[j]]\n"
     ]
    },
    {
     "name": "stdout",
     "output_type": "stream",
     "text": [
      "Peak_flux Total_flux/y_flux_corr\n",
      "Peak_flux Total_flux-y_flux_corr\n"
     ]
    },
    {
     "name": "stderr",
     "output_type": "stream",
     "text": [
      "C:\\Users\\jespe\\AppData\\Local\\Temp\\ipykernel_11364\\1859563545.py:8: PerformanceWarning: DataFrame is highly fragmented.  This is usually the result of calling `frame.insert` many times, which has poor performance.  Consider joining all columns at once using pd.concat(axis=1) instead. To get a de-fragmented frame, use `newframe = frame.copy()`\n",
      "  newdata[f\"{columns[i]}-{columns[j]}\"] = newdata[columns[i]]-newdata[columns[j]]\n",
      "C:\\Users\\jespe\\AppData\\Local\\Temp\\ipykernel_11364\\1859563545.py:7: PerformanceWarning: DataFrame is highly fragmented.  This is usually the result of calling `frame.insert` many times, which has poor performance.  Consider joining all columns at once using pd.concat(axis=1) instead. To get a de-fragmented frame, use `newframe = frame.copy()`\n",
      "  newdata[f\"{columns[i]}/{columns[j]}\"] = newdata[columns[i]]/newdata[columns[j]]\n",
      "C:\\Users\\jespe\\AppData\\Local\\Temp\\ipykernel_11364\\1859563545.py:8: PerformanceWarning: DataFrame is highly fragmented.  This is usually the result of calling `frame.insert` many times, which has poor performance.  Consider joining all columns at once using pd.concat(axis=1) instead. To get a de-fragmented frame, use `newframe = frame.copy()`\n",
      "  newdata[f\"{columns[i]}-{columns[j]}\"] = newdata[columns[i]]-newdata[columns[j]]\n",
      "C:\\Users\\jespe\\AppData\\Local\\Temp\\ipykernel_11364\\1859563545.py:7: PerformanceWarning: DataFrame is highly fragmented.  This is usually the result of calling `frame.insert` many times, which has poor performance.  Consider joining all columns at once using pd.concat(axis=1) instead. To get a de-fragmented frame, use `newframe = frame.copy()`\n",
      "  newdata[f\"{columns[i]}/{columns[j]}\"] = newdata[columns[i]]/newdata[columns[j]]\n",
      "C:\\Users\\jespe\\AppData\\Local\\Temp\\ipykernel_11364\\1859563545.py:8: PerformanceWarning: DataFrame is highly fragmented.  This is usually the result of calling `frame.insert` many times, which has poor performance.  Consider joining all columns at once using pd.concat(axis=1) instead. To get a de-fragmented frame, use `newframe = frame.copy()`\n",
      "  newdata[f\"{columns[i]}-{columns[j]}\"] = newdata[columns[i]]-newdata[columns[j]]\n",
      "C:\\Users\\jespe\\AppData\\Local\\Temp\\ipykernel_11364\\1859563545.py:7: PerformanceWarning: DataFrame is highly fragmented.  This is usually the result of calling `frame.insert` many times, which has poor performance.  Consider joining all columns at once using pd.concat(axis=1) instead. To get a de-fragmented frame, use `newframe = frame.copy()`\n",
      "  newdata[f\"{columns[i]}/{columns[j]}\"] = newdata[columns[i]]/newdata[columns[j]]\n",
      "C:\\Users\\jespe\\AppData\\Local\\Temp\\ipykernel_11364\\1859563545.py:8: PerformanceWarning: DataFrame is highly fragmented.  This is usually the result of calling `frame.insert` many times, which has poor performance.  Consider joining all columns at once using pd.concat(axis=1) instead. To get a de-fragmented frame, use `newframe = frame.copy()`\n",
      "  newdata[f\"{columns[i]}-{columns[j]}\"] = newdata[columns[i]]-newdata[columns[j]]\n"
     ]
    },
    {
     "name": "stdout",
     "output_type": "stream",
     "text": [
      "Peak_flux Total_flux/J_flux_corr\n",
      "Peak_flux Total_flux-J_flux_corr\n",
      "Peak_flux Total_flux/H_flux_corr\n"
     ]
    },
    {
     "name": "stderr",
     "output_type": "stream",
     "text": [
      "C:\\Users\\jespe\\AppData\\Local\\Temp\\ipykernel_11364\\1859563545.py:7: PerformanceWarning: DataFrame is highly fragmented.  This is usually the result of calling `frame.insert` many times, which has poor performance.  Consider joining all columns at once using pd.concat(axis=1) instead. To get a de-fragmented frame, use `newframe = frame.copy()`\n",
      "  newdata[f\"{columns[i]}/{columns[j]}\"] = newdata[columns[i]]/newdata[columns[j]]\n",
      "C:\\Users\\jespe\\AppData\\Local\\Temp\\ipykernel_11364\\1859563545.py:8: PerformanceWarning: DataFrame is highly fragmented.  This is usually the result of calling `frame.insert` many times, which has poor performance.  Consider joining all columns at once using pd.concat(axis=1) instead. To get a de-fragmented frame, use `newframe = frame.copy()`\n",
      "  newdata[f\"{columns[i]}-{columns[j]}\"] = newdata[columns[i]]-newdata[columns[j]]\n",
      "C:\\Users\\jespe\\AppData\\Local\\Temp\\ipykernel_11364\\1859563545.py:7: PerformanceWarning: DataFrame is highly fragmented.  This is usually the result of calling `frame.insert` many times, which has poor performance.  Consider joining all columns at once using pd.concat(axis=1) instead. To get a de-fragmented frame, use `newframe = frame.copy()`\n",
      "  newdata[f\"{columns[i]}/{columns[j]}\"] = newdata[columns[i]]/newdata[columns[j]]\n",
      "C:\\Users\\jespe\\AppData\\Local\\Temp\\ipykernel_11364\\1859563545.py:8: PerformanceWarning: DataFrame is highly fragmented.  This is usually the result of calling `frame.insert` many times, which has poor performance.  Consider joining all columns at once using pd.concat(axis=1) instead. To get a de-fragmented frame, use `newframe = frame.copy()`\n",
      "  newdata[f\"{columns[i]}-{columns[j]}\"] = newdata[columns[i]]-newdata[columns[j]]\n",
      "C:\\Users\\jespe\\AppData\\Local\\Temp\\ipykernel_11364\\1859563545.py:7: PerformanceWarning: DataFrame is highly fragmented.  This is usually the result of calling `frame.insert` many times, which has poor performance.  Consider joining all columns at once using pd.concat(axis=1) instead. To get a de-fragmented frame, use `newframe = frame.copy()`\n",
      "  newdata[f\"{columns[i]}/{columns[j]}\"] = newdata[columns[i]]/newdata[columns[j]]\n",
      "C:\\Users\\jespe\\AppData\\Local\\Temp\\ipykernel_11364\\1859563545.py:8: PerformanceWarning: DataFrame is highly fragmented.  This is usually the result of calling `frame.insert` many times, which has poor performance.  Consider joining all columns at once using pd.concat(axis=1) instead. To get a de-fragmented frame, use `newframe = frame.copy()`\n",
      "  newdata[f\"{columns[i]}-{columns[j]}\"] = newdata[columns[i]]-newdata[columns[j]]\n",
      "C:\\Users\\jespe\\AppData\\Local\\Temp\\ipykernel_11364\\1859563545.py:7: PerformanceWarning: DataFrame is highly fragmented.  This is usually the result of calling `frame.insert` many times, which has poor performance.  Consider joining all columns at once using pd.concat(axis=1) instead. To get a de-fragmented frame, use `newframe = frame.copy()`\n",
      "  newdata[f\"{columns[i]}/{columns[j]}\"] = newdata[columns[i]]/newdata[columns[j]]\n",
      "C:\\Users\\jespe\\AppData\\Local\\Temp\\ipykernel_11364\\1859563545.py:8: PerformanceWarning: DataFrame is highly fragmented.  This is usually the result of calling `frame.insert` many times, which has poor performance.  Consider joining all columns at once using pd.concat(axis=1) instead. To get a de-fragmented frame, use `newframe = frame.copy()`\n",
      "  newdata[f\"{columns[i]}-{columns[j]}\"] = newdata[columns[i]]-newdata[columns[j]]\n"
     ]
    },
    {
     "name": "stdout",
     "output_type": "stream",
     "text": [
      "Peak_flux Total_flux-H_flux_corr\n",
      "Peak_flux Total_flux/K_flux_corr\n",
      "Peak_flux Total_flux-K_flux_corr\n",
      "Peak_flux Total_flux/Ks_flux_corr\n"
     ]
    },
    {
     "name": "stderr",
     "output_type": "stream",
     "text": [
      "C:\\Users\\jespe\\AppData\\Local\\Temp\\ipykernel_11364\\1859563545.py:7: PerformanceWarning: DataFrame is highly fragmented.  This is usually the result of calling `frame.insert` many times, which has poor performance.  Consider joining all columns at once using pd.concat(axis=1) instead. To get a de-fragmented frame, use `newframe = frame.copy()`\n",
      "  newdata[f\"{columns[i]}/{columns[j]}\"] = newdata[columns[i]]/newdata[columns[j]]\n",
      "C:\\Users\\jespe\\AppData\\Local\\Temp\\ipykernel_11364\\1859563545.py:8: PerformanceWarning: DataFrame is highly fragmented.  This is usually the result of calling `frame.insert` many times, which has poor performance.  Consider joining all columns at once using pd.concat(axis=1) instead. To get a de-fragmented frame, use `newframe = frame.copy()`\n",
      "  newdata[f\"{columns[i]}-{columns[j]}\"] = newdata[columns[i]]-newdata[columns[j]]\n",
      "C:\\Users\\jespe\\AppData\\Local\\Temp\\ipykernel_11364\\1859563545.py:7: PerformanceWarning: DataFrame is highly fragmented.  This is usually the result of calling `frame.insert` many times, which has poor performance.  Consider joining all columns at once using pd.concat(axis=1) instead. To get a de-fragmented frame, use `newframe = frame.copy()`\n",
      "  newdata[f\"{columns[i]}/{columns[j]}\"] = newdata[columns[i]]/newdata[columns[j]]\n",
      "C:\\Users\\jespe\\AppData\\Local\\Temp\\ipykernel_11364\\1859563545.py:8: PerformanceWarning: DataFrame is highly fragmented.  This is usually the result of calling `frame.insert` many times, which has poor performance.  Consider joining all columns at once using pd.concat(axis=1) instead. To get a de-fragmented frame, use `newframe = frame.copy()`\n",
      "  newdata[f\"{columns[i]}-{columns[j]}\"] = newdata[columns[i]]-newdata[columns[j]]\n",
      "C:\\Users\\jespe\\AppData\\Local\\Temp\\ipykernel_11364\\1859563545.py:7: PerformanceWarning: DataFrame is highly fragmented.  This is usually the result of calling `frame.insert` many times, which has poor performance.  Consider joining all columns at once using pd.concat(axis=1) instead. To get a de-fragmented frame, use `newframe = frame.copy()`\n",
      "  newdata[f\"{columns[i]}/{columns[j]}\"] = newdata[columns[i]]/newdata[columns[j]]\n",
      "C:\\Users\\jespe\\AppData\\Local\\Temp\\ipykernel_11364\\1859563545.py:8: PerformanceWarning: DataFrame is highly fragmented.  This is usually the result of calling `frame.insert` many times, which has poor performance.  Consider joining all columns at once using pd.concat(axis=1) instead. To get a de-fragmented frame, use `newframe = frame.copy()`\n",
      "  newdata[f\"{columns[i]}-{columns[j]}\"] = newdata[columns[i]]-newdata[columns[j]]\n",
      "C:\\Users\\jespe\\AppData\\Local\\Temp\\ipykernel_11364\\1859563545.py:7: PerformanceWarning: DataFrame is highly fragmented.  This is usually the result of calling `frame.insert` many times, which has poor performance.  Consider joining all columns at once using pd.concat(axis=1) instead. To get a de-fragmented frame, use `newframe = frame.copy()`\n",
      "  newdata[f\"{columns[i]}/{columns[j]}\"] = newdata[columns[i]]/newdata[columns[j]]\n"
     ]
    },
    {
     "name": "stdout",
     "output_type": "stream",
     "text": [
      "Peak_flux Total_flux-Ks_flux_corr\n",
      "Peak_flux Total_flux/ch1_flux_corr\n",
      "Peak_flux Total_flux-ch1_flux_corr\n"
     ]
    },
    {
     "name": "stderr",
     "output_type": "stream",
     "text": [
      "C:\\Users\\jespe\\AppData\\Local\\Temp\\ipykernel_11364\\1859563545.py:8: PerformanceWarning: DataFrame is highly fragmented.  This is usually the result of calling `frame.insert` many times, which has poor performance.  Consider joining all columns at once using pd.concat(axis=1) instead. To get a de-fragmented frame, use `newframe = frame.copy()`\n",
      "  newdata[f\"{columns[i]}-{columns[j]}\"] = newdata[columns[i]]-newdata[columns[j]]\n",
      "C:\\Users\\jespe\\AppData\\Local\\Temp\\ipykernel_11364\\1859563545.py:7: PerformanceWarning: DataFrame is highly fragmented.  This is usually the result of calling `frame.insert` many times, which has poor performance.  Consider joining all columns at once using pd.concat(axis=1) instead. To get a de-fragmented frame, use `newframe = frame.copy()`\n",
      "  newdata[f\"{columns[i]}/{columns[j]}\"] = newdata[columns[i]]/newdata[columns[j]]\n",
      "C:\\Users\\jespe\\AppData\\Local\\Temp\\ipykernel_11364\\1859563545.py:8: PerformanceWarning: DataFrame is highly fragmented.  This is usually the result of calling `frame.insert` many times, which has poor performance.  Consider joining all columns at once using pd.concat(axis=1) instead. To get a de-fragmented frame, use `newframe = frame.copy()`\n",
      "  newdata[f\"{columns[i]}-{columns[j]}\"] = newdata[columns[i]]-newdata[columns[j]]\n",
      "C:\\Users\\jespe\\AppData\\Local\\Temp\\ipykernel_11364\\1859563545.py:7: PerformanceWarning: DataFrame is highly fragmented.  This is usually the result of calling `frame.insert` many times, which has poor performance.  Consider joining all columns at once using pd.concat(axis=1) instead. To get a de-fragmented frame, use `newframe = frame.copy()`\n",
      "  newdata[f\"{columns[i]}/{columns[j]}\"] = newdata[columns[i]]/newdata[columns[j]]\n",
      "C:\\Users\\jespe\\AppData\\Local\\Temp\\ipykernel_11364\\1859563545.py:8: PerformanceWarning: DataFrame is highly fragmented.  This is usually the result of calling `frame.insert` many times, which has poor performance.  Consider joining all columns at once using pd.concat(axis=1) instead. To get a de-fragmented frame, use `newframe = frame.copy()`\n",
      "  newdata[f\"{columns[i]}-{columns[j]}\"] = newdata[columns[i]]-newdata[columns[j]]\n",
      "C:\\Users\\jespe\\AppData\\Local\\Temp\\ipykernel_11364\\1859563545.py:7: PerformanceWarning: DataFrame is highly fragmented.  This is usually the result of calling `frame.insert` many times, which has poor performance.  Consider joining all columns at once using pd.concat(axis=1) instead. To get a de-fragmented frame, use `newframe = frame.copy()`\n",
      "  newdata[f\"{columns[i]}/{columns[j]}\"] = newdata[columns[i]]/newdata[columns[j]]\n",
      "C:\\Users\\jespe\\AppData\\Local\\Temp\\ipykernel_11364\\1859563545.py:8: PerformanceWarning: DataFrame is highly fragmented.  This is usually the result of calling `frame.insert` many times, which has poor performance.  Consider joining all columns at once using pd.concat(axis=1) instead. To get a de-fragmented frame, use `newframe = frame.copy()`\n",
      "  newdata[f\"{columns[i]}-{columns[j]}\"] = newdata[columns[i]]-newdata[columns[j]]\n"
     ]
    },
    {
     "name": "stdout",
     "output_type": "stream",
     "text": [
      "Peak_flux Total_flux/ch2_flux_corr\n",
      "Peak_flux Total_flux-ch2_flux_corr\n",
      "Peak_flux Total_flux/ch3_flux_corr\n",
      "Peak_flux Total_flux-ch3_flux_corr\n"
     ]
    },
    {
     "name": "stderr",
     "output_type": "stream",
     "text": [
      "C:\\Users\\jespe\\AppData\\Local\\Temp\\ipykernel_11364\\1859563545.py:7: PerformanceWarning: DataFrame is highly fragmented.  This is usually the result of calling `frame.insert` many times, which has poor performance.  Consider joining all columns at once using pd.concat(axis=1) instead. To get a de-fragmented frame, use `newframe = frame.copy()`\n",
      "  newdata[f\"{columns[i]}/{columns[j]}\"] = newdata[columns[i]]/newdata[columns[j]]\n",
      "C:\\Users\\jespe\\AppData\\Local\\Temp\\ipykernel_11364\\1859563545.py:8: PerformanceWarning: DataFrame is highly fragmented.  This is usually the result of calling `frame.insert` many times, which has poor performance.  Consider joining all columns at once using pd.concat(axis=1) instead. To get a de-fragmented frame, use `newframe = frame.copy()`\n",
      "  newdata[f\"{columns[i]}-{columns[j]}\"] = newdata[columns[i]]-newdata[columns[j]]\n",
      "C:\\Users\\jespe\\AppData\\Local\\Temp\\ipykernel_11364\\1859563545.py:7: PerformanceWarning: DataFrame is highly fragmented.  This is usually the result of calling `frame.insert` many times, which has poor performance.  Consider joining all columns at once using pd.concat(axis=1) instead. To get a de-fragmented frame, use `newframe = frame.copy()`\n",
      "  newdata[f\"{columns[i]}/{columns[j]}\"] = newdata[columns[i]]/newdata[columns[j]]\n",
      "C:\\Users\\jespe\\AppData\\Local\\Temp\\ipykernel_11364\\1859563545.py:8: PerformanceWarning: DataFrame is highly fragmented.  This is usually the result of calling `frame.insert` many times, which has poor performance.  Consider joining all columns at once using pd.concat(axis=1) instead. To get a de-fragmented frame, use `newframe = frame.copy()`\n",
      "  newdata[f\"{columns[i]}-{columns[j]}\"] = newdata[columns[i]]-newdata[columns[j]]\n",
      "C:\\Users\\jespe\\AppData\\Local\\Temp\\ipykernel_11364\\1859563545.py:7: PerformanceWarning: DataFrame is highly fragmented.  This is usually the result of calling `frame.insert` many times, which has poor performance.  Consider joining all columns at once using pd.concat(axis=1) instead. To get a de-fragmented frame, use `newframe = frame.copy()`\n",
      "  newdata[f\"{columns[i]}/{columns[j]}\"] = newdata[columns[i]]/newdata[columns[j]]\n"
     ]
    },
    {
     "name": "stdout",
     "output_type": "stream",
     "text": [
      "Peak_flux Total_flux/ch4_flux_corr\n",
      "Peak_flux Total_flux-ch4_flux_corr\n",
      "Peak_flux Total_flux/F_MIPS_24\n"
     ]
    },
    {
     "name": "stderr",
     "output_type": "stream",
     "text": [
      "C:\\Users\\jespe\\AppData\\Local\\Temp\\ipykernel_11364\\1859563545.py:8: PerformanceWarning: DataFrame is highly fragmented.  This is usually the result of calling `frame.insert` many times, which has poor performance.  Consider joining all columns at once using pd.concat(axis=1) instead. To get a de-fragmented frame, use `newframe = frame.copy()`\n",
      "  newdata[f\"{columns[i]}-{columns[j]}\"] = newdata[columns[i]]-newdata[columns[j]]\n",
      "C:\\Users\\jespe\\AppData\\Local\\Temp\\ipykernel_11364\\1859563545.py:7: PerformanceWarning: DataFrame is highly fragmented.  This is usually the result of calling `frame.insert` many times, which has poor performance.  Consider joining all columns at once using pd.concat(axis=1) instead. To get a de-fragmented frame, use `newframe = frame.copy()`\n",
      "  newdata[f\"{columns[i]}/{columns[j]}\"] = newdata[columns[i]]/newdata[columns[j]]\n",
      "C:\\Users\\jespe\\AppData\\Local\\Temp\\ipykernel_11364\\1859563545.py:8: PerformanceWarning: DataFrame is highly fragmented.  This is usually the result of calling `frame.insert` many times, which has poor performance.  Consider joining all columns at once using pd.concat(axis=1) instead. To get a de-fragmented frame, use `newframe = frame.copy()`\n",
      "  newdata[f\"{columns[i]}-{columns[j]}\"] = newdata[columns[i]]-newdata[columns[j]]\n",
      "C:\\Users\\jespe\\AppData\\Local\\Temp\\ipykernel_11364\\1859563545.py:7: PerformanceWarning: DataFrame is highly fragmented.  This is usually the result of calling `frame.insert` many times, which has poor performance.  Consider joining all columns at once using pd.concat(axis=1) instead. To get a de-fragmented frame, use `newframe = frame.copy()`\n",
      "  newdata[f\"{columns[i]}/{columns[j]}\"] = newdata[columns[i]]/newdata[columns[j]]\n"
     ]
    },
    {
     "name": "stdout",
     "output_type": "stream",
     "text": [
      "Peak_flux Total_flux-F_MIPS_24\n",
      "Peak_flux Total_flux/F_PACS_100\n"
     ]
    },
    {
     "name": "stderr",
     "output_type": "stream",
     "text": [
      "C:\\Users\\jespe\\AppData\\Local\\Temp\\ipykernel_11364\\1859563545.py:8: PerformanceWarning: DataFrame is highly fragmented.  This is usually the result of calling `frame.insert` many times, which has poor performance.  Consider joining all columns at once using pd.concat(axis=1) instead. To get a de-fragmented frame, use `newframe = frame.copy()`\n",
      "  newdata[f\"{columns[i]}-{columns[j]}\"] = newdata[columns[i]]-newdata[columns[j]]\n",
      "C:\\Users\\jespe\\AppData\\Local\\Temp\\ipykernel_11364\\1859563545.py:7: PerformanceWarning: DataFrame is highly fragmented.  This is usually the result of calling `frame.insert` many times, which has poor performance.  Consider joining all columns at once using pd.concat(axis=1) instead. To get a de-fragmented frame, use `newframe = frame.copy()`\n",
      "  newdata[f\"{columns[i]}/{columns[j]}\"] = newdata[columns[i]]/newdata[columns[j]]\n",
      "C:\\Users\\jespe\\AppData\\Local\\Temp\\ipykernel_11364\\1859563545.py:8: PerformanceWarning: DataFrame is highly fragmented.  This is usually the result of calling `frame.insert` many times, which has poor performance.  Consider joining all columns at once using pd.concat(axis=1) instead. To get a de-fragmented frame, use `newframe = frame.copy()`\n",
      "  newdata[f\"{columns[i]}-{columns[j]}\"] = newdata[columns[i]]-newdata[columns[j]]\n",
      "C:\\Users\\jespe\\AppData\\Local\\Temp\\ipykernel_11364\\1859563545.py:7: PerformanceWarning: DataFrame is highly fragmented.  This is usually the result of calling `frame.insert` many times, which has poor performance.  Consider joining all columns at once using pd.concat(axis=1) instead. To get a de-fragmented frame, use `newframe = frame.copy()`\n",
      "  newdata[f\"{columns[i]}/{columns[j]}\"] = newdata[columns[i]]/newdata[columns[j]]\n"
     ]
    },
    {
     "name": "stdout",
     "output_type": "stream",
     "text": [
      "Peak_flux Total_flux-F_PACS_100\n"
     ]
    },
    {
     "name": "stderr",
     "output_type": "stream",
     "text": [
      "C:\\Users\\jespe\\AppData\\Local\\Temp\\ipykernel_11364\\1859563545.py:8: PerformanceWarning: DataFrame is highly fragmented.  This is usually the result of calling `frame.insert` many times, which has poor performance.  Consider joining all columns at once using pd.concat(axis=1) instead. To get a de-fragmented frame, use `newframe = frame.copy()`\n",
      "  newdata[f\"{columns[i]}-{columns[j]}\"] = newdata[columns[i]]-newdata[columns[j]]\n",
      "C:\\Users\\jespe\\AppData\\Local\\Temp\\ipykernel_11364\\1859563545.py:7: PerformanceWarning: DataFrame is highly fragmented.  This is usually the result of calling `frame.insert` many times, which has poor performance.  Consider joining all columns at once using pd.concat(axis=1) instead. To get a de-fragmented frame, use `newframe = frame.copy()`\n",
      "  newdata[f\"{columns[i]}/{columns[j]}\"] = newdata[columns[i]]/newdata[columns[j]]\n",
      "C:\\Users\\jespe\\AppData\\Local\\Temp\\ipykernel_11364\\1859563545.py:8: PerformanceWarning: DataFrame is highly fragmented.  This is usually the result of calling `frame.insert` many times, which has poor performance.  Consider joining all columns at once using pd.concat(axis=1) instead. To get a de-fragmented frame, use `newframe = frame.copy()`\n",
      "  newdata[f\"{columns[i]}-{columns[j]}\"] = newdata[columns[i]]-newdata[columns[j]]\n",
      "C:\\Users\\jespe\\AppData\\Local\\Temp\\ipykernel_11364\\1859563545.py:7: PerformanceWarning: DataFrame is highly fragmented.  This is usually the result of calling `frame.insert` many times, which has poor performance.  Consider joining all columns at once using pd.concat(axis=1) instead. To get a de-fragmented frame, use `newframe = frame.copy()`\n",
      "  newdata[f\"{columns[i]}/{columns[j]}\"] = newdata[columns[i]]/newdata[columns[j]]\n",
      "C:\\Users\\jespe\\AppData\\Local\\Temp\\ipykernel_11364\\1859563545.py:8: PerformanceWarning: DataFrame is highly fragmented.  This is usually the result of calling `frame.insert` many times, which has poor performance.  Consider joining all columns at once using pd.concat(axis=1) instead. To get a de-fragmented frame, use `newframe = frame.copy()`\n",
      "  newdata[f\"{columns[i]}-{columns[j]}\"] = newdata[columns[i]]-newdata[columns[j]]\n"
     ]
    },
    {
     "name": "stdout",
     "output_type": "stream",
     "text": [
      "Peak_flux Total_flux/F_PACS_160\n",
      "Peak_flux Total_flux-F_PACS_160\n",
      "Peak_flux Total_flux/F_SPIRE_250\n"
     ]
    },
    {
     "name": "stderr",
     "output_type": "stream",
     "text": [
      "C:\\Users\\jespe\\AppData\\Local\\Temp\\ipykernel_11364\\1859563545.py:7: PerformanceWarning: DataFrame is highly fragmented.  This is usually the result of calling `frame.insert` many times, which has poor performance.  Consider joining all columns at once using pd.concat(axis=1) instead. To get a de-fragmented frame, use `newframe = frame.copy()`\n",
      "  newdata[f\"{columns[i]}/{columns[j]}\"] = newdata[columns[i]]/newdata[columns[j]]\n",
      "C:\\Users\\jespe\\AppData\\Local\\Temp\\ipykernel_11364\\1859563545.py:8: PerformanceWarning: DataFrame is highly fragmented.  This is usually the result of calling `frame.insert` many times, which has poor performance.  Consider joining all columns at once using pd.concat(axis=1) instead. To get a de-fragmented frame, use `newframe = frame.copy()`\n",
      "  newdata[f\"{columns[i]}-{columns[j]}\"] = newdata[columns[i]]-newdata[columns[j]]\n",
      "C:\\Users\\jespe\\AppData\\Local\\Temp\\ipykernel_11364\\1859563545.py:7: PerformanceWarning: DataFrame is highly fragmented.  This is usually the result of calling `frame.insert` many times, which has poor performance.  Consider joining all columns at once using pd.concat(axis=1) instead. To get a de-fragmented frame, use `newframe = frame.copy()`\n",
      "  newdata[f\"{columns[i]}/{columns[j]}\"] = newdata[columns[i]]/newdata[columns[j]]\n",
      "C:\\Users\\jespe\\AppData\\Local\\Temp\\ipykernel_11364\\1859563545.py:8: PerformanceWarning: DataFrame is highly fragmented.  This is usually the result of calling `frame.insert` many times, which has poor performance.  Consider joining all columns at once using pd.concat(axis=1) instead. To get a de-fragmented frame, use `newframe = frame.copy()`\n",
      "  newdata[f\"{columns[i]}-{columns[j]}\"] = newdata[columns[i]]-newdata[columns[j]]\n",
      "C:\\Users\\jespe\\AppData\\Local\\Temp\\ipykernel_11364\\1859563545.py:7: PerformanceWarning: DataFrame is highly fragmented.  This is usually the result of calling `frame.insert` many times, which has poor performance.  Consider joining all columns at once using pd.concat(axis=1) instead. To get a de-fragmented frame, use `newframe = frame.copy()`\n",
      "  newdata[f\"{columns[i]}/{columns[j]}\"] = newdata[columns[i]]/newdata[columns[j]]\n"
     ]
    },
    {
     "name": "stdout",
     "output_type": "stream",
     "text": [
      "Peak_flux Total_flux-F_SPIRE_250\n",
      "Peak_flux Total_flux/F_SPIRE_350\n"
     ]
    },
    {
     "name": "stderr",
     "output_type": "stream",
     "text": [
      "C:\\Users\\jespe\\AppData\\Local\\Temp\\ipykernel_11364\\1859563545.py:8: PerformanceWarning: DataFrame is highly fragmented.  This is usually the result of calling `frame.insert` many times, which has poor performance.  Consider joining all columns at once using pd.concat(axis=1) instead. To get a de-fragmented frame, use `newframe = frame.copy()`\n",
      "  newdata[f\"{columns[i]}-{columns[j]}\"] = newdata[columns[i]]-newdata[columns[j]]\n",
      "C:\\Users\\jespe\\AppData\\Local\\Temp\\ipykernel_11364\\1859563545.py:7: PerformanceWarning: DataFrame is highly fragmented.  This is usually the result of calling `frame.insert` many times, which has poor performance.  Consider joining all columns at once using pd.concat(axis=1) instead. To get a de-fragmented frame, use `newframe = frame.copy()`\n",
      "  newdata[f\"{columns[i]}/{columns[j]}\"] = newdata[columns[i]]/newdata[columns[j]]\n",
      "C:\\Users\\jespe\\AppData\\Local\\Temp\\ipykernel_11364\\1859563545.py:8: PerformanceWarning: DataFrame is highly fragmented.  This is usually the result of calling `frame.insert` many times, which has poor performance.  Consider joining all columns at once using pd.concat(axis=1) instead. To get a de-fragmented frame, use `newframe = frame.copy()`\n",
      "  newdata[f\"{columns[i]}-{columns[j]}\"] = newdata[columns[i]]-newdata[columns[j]]\n",
      "C:\\Users\\jespe\\AppData\\Local\\Temp\\ipykernel_11364\\1859563545.py:7: PerformanceWarning: DataFrame is highly fragmented.  This is usually the result of calling `frame.insert` many times, which has poor performance.  Consider joining all columns at once using pd.concat(axis=1) instead. To get a de-fragmented frame, use `newframe = frame.copy()`\n",
      "  newdata[f\"{columns[i]}/{columns[j]}\"] = newdata[columns[i]]/newdata[columns[j]]\n",
      "C:\\Users\\jespe\\AppData\\Local\\Temp\\ipykernel_11364\\1859563545.py:8: PerformanceWarning: DataFrame is highly fragmented.  This is usually the result of calling `frame.insert` many times, which has poor performance.  Consider joining all columns at once using pd.concat(axis=1) instead. To get a de-fragmented frame, use `newframe = frame.copy()`\n",
      "  newdata[f\"{columns[i]}-{columns[j]}\"] = newdata[columns[i]]-newdata[columns[j]]\n"
     ]
    },
    {
     "name": "stdout",
     "output_type": "stream",
     "text": [
      "Peak_flux Total_flux-F_SPIRE_350\n",
      "Peak_flux Total_flux/F_SPIRE_500\n",
      "Peak_flux Total_flux-F_SPIRE_500\n"
     ]
    },
    {
     "name": "stderr",
     "output_type": "stream",
     "text": [
      "C:\\Users\\jespe\\AppData\\Local\\Temp\\ipykernel_11364\\1859563545.py:7: PerformanceWarning: DataFrame is highly fragmented.  This is usually the result of calling `frame.insert` many times, which has poor performance.  Consider joining all columns at once using pd.concat(axis=1) instead. To get a de-fragmented frame, use `newframe = frame.copy()`\n",
      "  newdata[f\"{columns[i]}/{columns[j]}\"] = newdata[columns[i]]/newdata[columns[j]]\n",
      "C:\\Users\\jespe\\AppData\\Local\\Temp\\ipykernel_11364\\1859563545.py:8: PerformanceWarning: DataFrame is highly fragmented.  This is usually the result of calling `frame.insert` many times, which has poor performance.  Consider joining all columns at once using pd.concat(axis=1) instead. To get a de-fragmented frame, use `newframe = frame.copy()`\n",
      "  newdata[f\"{columns[i]}-{columns[j]}\"] = newdata[columns[i]]-newdata[columns[j]]\n",
      "C:\\Users\\jespe\\AppData\\Local\\Temp\\ipykernel_11364\\1859563545.py:7: PerformanceWarning: DataFrame is highly fragmented.  This is usually the result of calling `frame.insert` many times, which has poor performance.  Consider joining all columns at once using pd.concat(axis=1) instead. To get a de-fragmented frame, use `newframe = frame.copy()`\n",
      "  newdata[f\"{columns[i]}/{columns[j]}\"] = newdata[columns[i]]/newdata[columns[j]]\n",
      "C:\\Users\\jespe\\AppData\\Local\\Temp\\ipykernel_11364\\1859563545.py:8: PerformanceWarning: DataFrame is highly fragmented.  This is usually the result of calling `frame.insert` many times, which has poor performance.  Consider joining all columns at once using pd.concat(axis=1) instead. To get a de-fragmented frame, use `newframe = frame.copy()`\n",
      "  newdata[f\"{columns[i]}-{columns[j]}\"] = newdata[columns[i]]-newdata[columns[j]]\n",
      "C:\\Users\\jespe\\AppData\\Local\\Temp\\ipykernel_11364\\1859563545.py:7: PerformanceWarning: DataFrame is highly fragmented.  This is usually the result of calling `frame.insert` many times, which has poor performance.  Consider joining all columns at once using pd.concat(axis=1) instead. To get a de-fragmented frame, use `newframe = frame.copy()`\n",
      "  newdata[f\"{columns[i]}/{columns[j]}\"] = newdata[columns[i]]/newdata[columns[j]]\n"
     ]
    },
    {
     "name": "stdout",
     "output_type": "stream",
     "text": [
      "Peak_flux Total_flux/r_rcs_flux_corr\n",
      "Peak_flux Total_flux-r_rcs_flux_corr\n",
      "Peak_flux Total_flux/g_flux_corr\n"
     ]
    },
    {
     "name": "stderr",
     "output_type": "stream",
     "text": [
      "C:\\Users\\jespe\\AppData\\Local\\Temp\\ipykernel_11364\\1859563545.py:8: PerformanceWarning: DataFrame is highly fragmented.  This is usually the result of calling `frame.insert` many times, which has poor performance.  Consider joining all columns at once using pd.concat(axis=1) instead. To get a de-fragmented frame, use `newframe = frame.copy()`\n",
      "  newdata[f\"{columns[i]}-{columns[j]}\"] = newdata[columns[i]]-newdata[columns[j]]\n",
      "C:\\Users\\jespe\\AppData\\Local\\Temp\\ipykernel_11364\\1859563545.py:7: PerformanceWarning: DataFrame is highly fragmented.  This is usually the result of calling `frame.insert` many times, which has poor performance.  Consider joining all columns at once using pd.concat(axis=1) instead. To get a de-fragmented frame, use `newframe = frame.copy()`\n",
      "  newdata[f\"{columns[i]}/{columns[j]}\"] = newdata[columns[i]]/newdata[columns[j]]\n",
      "C:\\Users\\jespe\\AppData\\Local\\Temp\\ipykernel_11364\\1859563545.py:8: PerformanceWarning: DataFrame is highly fragmented.  This is usually the result of calling `frame.insert` many times, which has poor performance.  Consider joining all columns at once using pd.concat(axis=1) instead. To get a de-fragmented frame, use `newframe = frame.copy()`\n",
      "  newdata[f\"{columns[i]}-{columns[j]}\"] = newdata[columns[i]]-newdata[columns[j]]\n",
      "C:\\Users\\jespe\\AppData\\Local\\Temp\\ipykernel_11364\\1859563545.py:7: PerformanceWarning: DataFrame is highly fragmented.  This is usually the result of calling `frame.insert` many times, which has poor performance.  Consider joining all columns at once using pd.concat(axis=1) instead. To get a de-fragmented frame, use `newframe = frame.copy()`\n",
      "  newdata[f\"{columns[i]}/{columns[j]}\"] = newdata[columns[i]]/newdata[columns[j]]\n"
     ]
    },
    {
     "name": "stdout",
     "output_type": "stream",
     "text": [
      "Peak_flux Total_flux-g_flux_corr\n",
      "Peak_flux Total_flux/nb921_hsc_flux_corr\n",
      "Peak_flux Total_flux-nb921_hsc_flux_corr\n"
     ]
    },
    {
     "name": "stderr",
     "output_type": "stream",
     "text": [
      "C:\\Users\\jespe\\AppData\\Local\\Temp\\ipykernel_11364\\1859563545.py:8: PerformanceWarning: DataFrame is highly fragmented.  This is usually the result of calling `frame.insert` many times, which has poor performance.  Consider joining all columns at once using pd.concat(axis=1) instead. To get a de-fragmented frame, use `newframe = frame.copy()`\n",
      "  newdata[f\"{columns[i]}-{columns[j]}\"] = newdata[columns[i]]-newdata[columns[j]]\n",
      "C:\\Users\\jespe\\AppData\\Local\\Temp\\ipykernel_11364\\1859563545.py:7: PerformanceWarning: DataFrame is highly fragmented.  This is usually the result of calling `frame.insert` many times, which has poor performance.  Consider joining all columns at once using pd.concat(axis=1) instead. To get a de-fragmented frame, use `newframe = frame.copy()`\n",
      "  newdata[f\"{columns[i]}/{columns[j]}\"] = newdata[columns[i]]/newdata[columns[j]]\n",
      "C:\\Users\\jespe\\AppData\\Local\\Temp\\ipykernel_11364\\1859563545.py:8: PerformanceWarning: DataFrame is highly fragmented.  This is usually the result of calling `frame.insert` many times, which has poor performance.  Consider joining all columns at once using pd.concat(axis=1) instead. To get a de-fragmented frame, use `newframe = frame.copy()`\n",
      "  newdata[f\"{columns[i]}-{columns[j]}\"] = newdata[columns[i]]-newdata[columns[j]]\n",
      "C:\\Users\\jespe\\AppData\\Local\\Temp\\ipykernel_11364\\1859563545.py:7: PerformanceWarning: DataFrame is highly fragmented.  This is usually the result of calling `frame.insert` many times, which has poor performance.  Consider joining all columns at once using pd.concat(axis=1) instead. To get a de-fragmented frame, use `newframe = frame.copy()`\n",
      "  newdata[f\"{columns[i]}/{columns[j]}\"] = newdata[columns[i]]/newdata[columns[j]]\n",
      "C:\\Users\\jespe\\AppData\\Local\\Temp\\ipykernel_11364\\1859563545.py:8: PerformanceWarning: DataFrame is highly fragmented.  This is usually the result of calling `frame.insert` many times, which has poor performance.  Consider joining all columns at once using pd.concat(axis=1) instead. To get a de-fragmented frame, use `newframe = frame.copy()`\n",
      "  newdata[f\"{columns[i]}-{columns[j]}\"] = newdata[columns[i]]-newdata[columns[j]]\n"
     ]
    },
    {
     "name": "stdout",
     "output_type": "stream",
     "text": [
      "NUV_flux_corr u_flux_corr\n",
      "NUV_flux_corr Bw_flux_corr\n",
      "NUV_flux_corr R_flux_corr\n"
     ]
    },
    {
     "name": "stderr",
     "output_type": "stream",
     "text": [
      "C:\\Users\\jespe\\AppData\\Local\\Temp\\ipykernel_11364\\1859563545.py:7: PerformanceWarning: DataFrame is highly fragmented.  This is usually the result of calling `frame.insert` many times, which has poor performance.  Consider joining all columns at once using pd.concat(axis=1) instead. To get a de-fragmented frame, use `newframe = frame.copy()`\n",
      "  newdata[f\"{columns[i]}/{columns[j]}\"] = newdata[columns[i]]/newdata[columns[j]]\n",
      "C:\\Users\\jespe\\AppData\\Local\\Temp\\ipykernel_11364\\1859563545.py:8: PerformanceWarning: DataFrame is highly fragmented.  This is usually the result of calling `frame.insert` many times, which has poor performance.  Consider joining all columns at once using pd.concat(axis=1) instead. To get a de-fragmented frame, use `newframe = frame.copy()`\n",
      "  newdata[f\"{columns[i]}-{columns[j]}\"] = newdata[columns[i]]-newdata[columns[j]]\n",
      "C:\\Users\\jespe\\AppData\\Local\\Temp\\ipykernel_11364\\1859563545.py:7: PerformanceWarning: DataFrame is highly fragmented.  This is usually the result of calling `frame.insert` many times, which has poor performance.  Consider joining all columns at once using pd.concat(axis=1) instead. To get a de-fragmented frame, use `newframe = frame.copy()`\n",
      "  newdata[f\"{columns[i]}/{columns[j]}\"] = newdata[columns[i]]/newdata[columns[j]]\n",
      "C:\\Users\\jespe\\AppData\\Local\\Temp\\ipykernel_11364\\1859563545.py:8: PerformanceWarning: DataFrame is highly fragmented.  This is usually the result of calling `frame.insert` many times, which has poor performance.  Consider joining all columns at once using pd.concat(axis=1) instead. To get a de-fragmented frame, use `newframe = frame.copy()`\n",
      "  newdata[f\"{columns[i]}-{columns[j]}\"] = newdata[columns[i]]-newdata[columns[j]]\n",
      "C:\\Users\\jespe\\AppData\\Local\\Temp\\ipykernel_11364\\1859563545.py:7: PerformanceWarning: DataFrame is highly fragmented.  This is usually the result of calling `frame.insert` many times, which has poor performance.  Consider joining all columns at once using pd.concat(axis=1) instead. To get a de-fragmented frame, use `newframe = frame.copy()`\n",
      "  newdata[f\"{columns[i]}/{columns[j]}\"] = newdata[columns[i]]/newdata[columns[j]]\n",
      "C:\\Users\\jespe\\AppData\\Local\\Temp\\ipykernel_11364\\1859563545.py:8: PerformanceWarning: DataFrame is highly fragmented.  This is usually the result of calling `frame.insert` many times, which has poor performance.  Consider joining all columns at once using pd.concat(axis=1) instead. To get a de-fragmented frame, use `newframe = frame.copy()`\n",
      "  newdata[f\"{columns[i]}-{columns[j]}\"] = newdata[columns[i]]-newdata[columns[j]]\n",
      "C:\\Users\\jespe\\AppData\\Local\\Temp\\ipykernel_11364\\1859563545.py:7: PerformanceWarning: DataFrame is highly fragmented.  This is usually the result of calling `frame.insert` many times, which has poor performance.  Consider joining all columns at once using pd.concat(axis=1) instead. To get a de-fragmented frame, use `newframe = frame.copy()`\n",
      "  newdata[f\"{columns[i]}/{columns[j]}\"] = newdata[columns[i]]/newdata[columns[j]]\n",
      "C:\\Users\\jespe\\AppData\\Local\\Temp\\ipykernel_11364\\1859563545.py:8: PerformanceWarning: DataFrame is highly fragmented.  This is usually the result of calling `frame.insert` many times, which has poor performance.  Consider joining all columns at once using pd.concat(axis=1) instead. To get a de-fragmented frame, use `newframe = frame.copy()`\n",
      "  newdata[f\"{columns[i]}-{columns[j]}\"] = newdata[columns[i]]-newdata[columns[j]]\n",
      "C:\\Users\\jespe\\AppData\\Local\\Temp\\ipykernel_11364\\1859563545.py:7: PerformanceWarning: DataFrame is highly fragmented.  This is usually the result of calling `frame.insert` many times, which has poor performance.  Consider joining all columns at once using pd.concat(axis=1) instead. To get a de-fragmented frame, use `newframe = frame.copy()`\n",
      "  newdata[f\"{columns[i]}/{columns[j]}\"] = newdata[columns[i]]/newdata[columns[j]]\n"
     ]
    },
    {
     "name": "stdout",
     "output_type": "stream",
     "text": [
      "NUV_flux_corr I_flux_corr\n",
      "NUV_flux_corr z_flux_corr\n",
      "NUV_flux_corr y_flux_corr\n"
     ]
    },
    {
     "name": "stderr",
     "output_type": "stream",
     "text": [
      "C:\\Users\\jespe\\AppData\\Local\\Temp\\ipykernel_11364\\1859563545.py:8: PerformanceWarning: DataFrame is highly fragmented.  This is usually the result of calling `frame.insert` many times, which has poor performance.  Consider joining all columns at once using pd.concat(axis=1) instead. To get a de-fragmented frame, use `newframe = frame.copy()`\n",
      "  newdata[f\"{columns[i]}-{columns[j]}\"] = newdata[columns[i]]-newdata[columns[j]]\n",
      "C:\\Users\\jespe\\AppData\\Local\\Temp\\ipykernel_11364\\1859563545.py:7: PerformanceWarning: DataFrame is highly fragmented.  This is usually the result of calling `frame.insert` many times, which has poor performance.  Consider joining all columns at once using pd.concat(axis=1) instead. To get a de-fragmented frame, use `newframe = frame.copy()`\n",
      "  newdata[f\"{columns[i]}/{columns[j]}\"] = newdata[columns[i]]/newdata[columns[j]]\n",
      "C:\\Users\\jespe\\AppData\\Local\\Temp\\ipykernel_11364\\1859563545.py:8: PerformanceWarning: DataFrame is highly fragmented.  This is usually the result of calling `frame.insert` many times, which has poor performance.  Consider joining all columns at once using pd.concat(axis=1) instead. To get a de-fragmented frame, use `newframe = frame.copy()`\n",
      "  newdata[f\"{columns[i]}-{columns[j]}\"] = newdata[columns[i]]-newdata[columns[j]]\n",
      "C:\\Users\\jespe\\AppData\\Local\\Temp\\ipykernel_11364\\1859563545.py:7: PerformanceWarning: DataFrame is highly fragmented.  This is usually the result of calling `frame.insert` many times, which has poor performance.  Consider joining all columns at once using pd.concat(axis=1) instead. To get a de-fragmented frame, use `newframe = frame.copy()`\n",
      "  newdata[f\"{columns[i]}/{columns[j]}\"] = newdata[columns[i]]/newdata[columns[j]]\n",
      "C:\\Users\\jespe\\AppData\\Local\\Temp\\ipykernel_11364\\1859563545.py:8: PerformanceWarning: DataFrame is highly fragmented.  This is usually the result of calling `frame.insert` many times, which has poor performance.  Consider joining all columns at once using pd.concat(axis=1) instead. To get a de-fragmented frame, use `newframe = frame.copy()`\n",
      "  newdata[f\"{columns[i]}-{columns[j]}\"] = newdata[columns[i]]-newdata[columns[j]]\n"
     ]
    },
    {
     "name": "stdout",
     "output_type": "stream",
     "text": [
      "NUV_flux_corr J_flux_corr\n",
      "NUV_flux_corr H_flux_corr\n"
     ]
    },
    {
     "name": "stderr",
     "output_type": "stream",
     "text": [
      "C:\\Users\\jespe\\AppData\\Local\\Temp\\ipykernel_11364\\1859563545.py:7: PerformanceWarning: DataFrame is highly fragmented.  This is usually the result of calling `frame.insert` many times, which has poor performance.  Consider joining all columns at once using pd.concat(axis=1) instead. To get a de-fragmented frame, use `newframe = frame.copy()`\n",
      "  newdata[f\"{columns[i]}/{columns[j]}\"] = newdata[columns[i]]/newdata[columns[j]]\n",
      "C:\\Users\\jespe\\AppData\\Local\\Temp\\ipykernel_11364\\1859563545.py:8: PerformanceWarning: DataFrame is highly fragmented.  This is usually the result of calling `frame.insert` many times, which has poor performance.  Consider joining all columns at once using pd.concat(axis=1) instead. To get a de-fragmented frame, use `newframe = frame.copy()`\n",
      "  newdata[f\"{columns[i]}-{columns[j]}\"] = newdata[columns[i]]-newdata[columns[j]]\n",
      "C:\\Users\\jespe\\AppData\\Local\\Temp\\ipykernel_11364\\1859563545.py:7: PerformanceWarning: DataFrame is highly fragmented.  This is usually the result of calling `frame.insert` many times, which has poor performance.  Consider joining all columns at once using pd.concat(axis=1) instead. To get a de-fragmented frame, use `newframe = frame.copy()`\n",
      "  newdata[f\"{columns[i]}/{columns[j]}\"] = newdata[columns[i]]/newdata[columns[j]]\n",
      "C:\\Users\\jespe\\AppData\\Local\\Temp\\ipykernel_11364\\1859563545.py:8: PerformanceWarning: DataFrame is highly fragmented.  This is usually the result of calling `frame.insert` many times, which has poor performance.  Consider joining all columns at once using pd.concat(axis=1) instead. To get a de-fragmented frame, use `newframe = frame.copy()`\n",
      "  newdata[f\"{columns[i]}-{columns[j]}\"] = newdata[columns[i]]-newdata[columns[j]]\n"
     ]
    },
    {
     "name": "stdout",
     "output_type": "stream",
     "text": [
      "NUV_flux_corr K_flux_corr\n",
      "NUV_flux_corr Ks_flux_corr\n"
     ]
    },
    {
     "name": "stderr",
     "output_type": "stream",
     "text": [
      "C:\\Users\\jespe\\AppData\\Local\\Temp\\ipykernel_11364\\1859563545.py:7: PerformanceWarning: DataFrame is highly fragmented.  This is usually the result of calling `frame.insert` many times, which has poor performance.  Consider joining all columns at once using pd.concat(axis=1) instead. To get a de-fragmented frame, use `newframe = frame.copy()`\n",
      "  newdata[f\"{columns[i]}/{columns[j]}\"] = newdata[columns[i]]/newdata[columns[j]]\n",
      "C:\\Users\\jespe\\AppData\\Local\\Temp\\ipykernel_11364\\1859563545.py:8: PerformanceWarning: DataFrame is highly fragmented.  This is usually the result of calling `frame.insert` many times, which has poor performance.  Consider joining all columns at once using pd.concat(axis=1) instead. To get a de-fragmented frame, use `newframe = frame.copy()`\n",
      "  newdata[f\"{columns[i]}-{columns[j]}\"] = newdata[columns[i]]-newdata[columns[j]]\n"
     ]
    },
    {
     "name": "stdout",
     "output_type": "stream",
     "text": [
      "NUV_flux_corr ch1_flux_corr\n"
     ]
    },
    {
     "name": "stderr",
     "output_type": "stream",
     "text": [
      "C:\\Users\\jespe\\AppData\\Local\\Temp\\ipykernel_11364\\1859563545.py:7: PerformanceWarning: DataFrame is highly fragmented.  This is usually the result of calling `frame.insert` many times, which has poor performance.  Consider joining all columns at once using pd.concat(axis=1) instead. To get a de-fragmented frame, use `newframe = frame.copy()`\n",
      "  newdata[f\"{columns[i]}/{columns[j]}\"] = newdata[columns[i]]/newdata[columns[j]]\n",
      "C:\\Users\\jespe\\AppData\\Local\\Temp\\ipykernel_11364\\1859563545.py:8: PerformanceWarning: DataFrame is highly fragmented.  This is usually the result of calling `frame.insert` many times, which has poor performance.  Consider joining all columns at once using pd.concat(axis=1) instead. To get a de-fragmented frame, use `newframe = frame.copy()`\n",
      "  newdata[f\"{columns[i]}-{columns[j]}\"] = newdata[columns[i]]-newdata[columns[j]]\n",
      "C:\\Users\\jespe\\AppData\\Local\\Temp\\ipykernel_11364\\1859563545.py:7: PerformanceWarning: DataFrame is highly fragmented.  This is usually the result of calling `frame.insert` many times, which has poor performance.  Consider joining all columns at once using pd.concat(axis=1) instead. To get a de-fragmented frame, use `newframe = frame.copy()`\n",
      "  newdata[f\"{columns[i]}/{columns[j]}\"] = newdata[columns[i]]/newdata[columns[j]]\n"
     ]
    },
    {
     "name": "stdout",
     "output_type": "stream",
     "text": [
      "NUV_flux_corr ch2_flux_corr\n",
      "NUV_flux_corr ch3_flux_corr\n"
     ]
    }
   ],
   "source": [
    "columns = newdata.columns\n",
    "for i in range(len(columns)):\n",
    "    if (columns[i]!='Z_BEST') and (columns[i]!='Classification'):\n",
    "        for j in range(i+1, len(columns)):\n",
    "            if (columns[j]!='Z_BEST') and (columns[j]!='Classification'):\n",
    "                newdata[f\"{columns[i]}/{columns[j]}\"] = newdata[columns[i]]/newdata[columns[j]]\n",
    "                newdata[f\"{columns[i]}-{columns[j]}\"] = newdata[columns[i]]-newdata[columns[j]]"
   ]
  },
  {
   "cell_type": "code",
   "execution_count": null,
   "id": "880f1694",
   "metadata": {},
   "outputs": [],
   "source": [
    "newdata.to_csv(\"../../../Data/Other/Generated/Generated_data.csv\", index=False)"
   ]
  },
  {
   "cell_type": "code",
   "execution_count": null,
   "id": "3dd58874",
   "metadata": {},
   "outputs": [],
   "source": [
    "newdata"
   ]
  },
  {
   "cell_type": "code",
   "execution_count": null,
   "id": "5e7f600b",
   "metadata": {},
   "outputs": [],
   "source": []
  }
 ],
 "metadata": {
  "kernelspec": {
   "display_name": "Anaconda3 - 4.2.0",
   "language": "python",
   "name": "python3"
  },
  "language_info": {
   "codemirror_mode": {
    "name": "ipython",
    "version": 3
   },
   "file_extension": ".py",
   "mimetype": "text/x-python",
   "name": "python",
   "nbconvert_exporter": "python",
   "pygments_lexer": "ipython3",
   "version": "3.5.2"
  },
  "latex_envs": {
   "LaTeX_envs_menu_present": true,
   "autoclose": false,
   "autocomplete": true,
   "bibliofile": "biblio.bib",
   "cite_by": "apalike",
   "current_citInitial": 1,
   "eqLabelWithNumbers": true,
   "eqNumInitial": 1,
   "hotkeys": {
    "equation": "Ctrl-E",
    "itemize": "Ctrl-I"
   },
   "labels_anchors": false,
   "latex_user_defs": false,
   "report_style_numbering": false,
   "user_envs_cfg": false
  }
 },
 "nbformat": 4,
 "nbformat_minor": 5
}
