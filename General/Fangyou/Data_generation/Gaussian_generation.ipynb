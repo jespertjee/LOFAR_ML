{
 "cells": [
  {
   "cell_type": "code",
   "execution_count": 166,
   "id": "8c14af40",
   "metadata": {},
   "outputs": [],
   "source": [
    "import pandas as pd\n",
    "import numpy as np"
   ]
  },
  {
   "cell_type": "code",
   "execution_count": 167,
   "id": "4a5f89c2",
   "metadata": {},
   "outputs": [],
   "source": [
    "data = pd.read_csv(\"../../../Data/Fangyou_data/Cleaned/combined_using_similar_columns.csv\")\n",
    "index_to_use = np.loadtxt(\"../../../Data/Other/Generated/Index_to_generate_data.csv\")\n",
    "data = data.iloc[index_to_use]"
   ]
  },
  {
   "cell_type": "code",
   "execution_count": null,
   "id": "075e3450",
   "metadata": {},
   "outputs": [],
   "source": []
  },
  {
   "cell_type": "code",
   "execution_count": 168,
   "id": "12f23e24",
   "metadata": {},
   "outputs": [],
   "source": [
    "useful_columns = [\n",
    "    'Total_flux', 'Peak_flux', \n",
    "       'NUV_flux_corr', 'u_flux_corr', 'Bw_flux_corr', 'R_flux_corr',\n",
    "       'I_flux_corr', 'z_flux_corr', 'y_flux_corr',\n",
    "       'J_flux_corr', 'H_flux_corr', 'K_flux_corr', 'Ks_flux_corr',\n",
    "       'ch1_flux_corr', 'ch2_flux_corr', 'ch3_flux_corr', 'ch4_flux_corr',\n",
    "       'F_MIPS_24', 'F_PACS_100', 'F_PACS_160', 'F_SPIRE_250', 'F_SPIRE_350',\n",
    "       'F_SPIRE_500', 'Z_BEST', 'r_rcs_flux_corr',\n",
    "       'g_flux_corr', 'nb921_hsc_flux_corr',\n",
    "    \n",
    "        'E_Total_flux', 'E_Peak_flux',\n",
    "        'NUV_fluxerr_corr', 'u_fluxerr_corr', 'Bw_fluxerr_corr', 'R_fluxerr_corr',\n",
    "       'I_fluxerr_corr', 'z_fluxerr_corr', 'y_fluxerr_corr',\n",
    "       'J_fluxerr_corr', 'H_fluxerr_corr', 'K_fluxerr_corr', 'Ks_fluxerr_corr',\n",
    "       'ch1_fluxerr_corr', 'ch2_fluxerr_corr', 'ch3_fluxerr_corr', 'ch4_fluxerr_corr',\n",
    "       'FErr_MIPS_24_u', 'FErr_PACS_100_u', 'FErr_PACS_160_u'\n",
    "    , 'FErr_SPIRE_250_u', 'FErr_SPIRE_350_u', 'FErr_SPIRE_500_u', 'r_rcs_fluxerr_corr',\n",
    "       'g_fluxerr_corr', 'nb921_hsc_fluxerr_corr',\n",
    "]\n",
    "y_column = \"Classification\""
   ]
  },
  {
   "cell_type": "code",
   "execution_count": 169,
   "id": "76603e95",
   "metadata": {},
   "outputs": [],
   "source": [
    "flux_columns = useful_columns[0:23] + useful_columns[24:27]\n",
    "error_columns = useful_columns[27::]\n",
    "\n",
    "\n",
    "non_sigma_columns = ['FErr_MIPS_24_u', 'FErr_PACS_100_u', 'FErr_PACS_160_u', \n",
    "                     'FErr_SPIRE_250_u', 'FErr_SPIRE_350_u', 'FErr_SPIRE_500_u']\n",
    "non_sigma_columns_corresponding = ['F_MIPS_24', 'F_PACS_100', 'F_PACS_160', \n",
    "                                 'F_SPIRE_250', 'F_SPIRE_350', 'F_SPIRE_500']"
   ]
  },
  {
   "cell_type": "code",
   "execution_count": 170,
   "id": "1d0b98e5",
   "metadata": {},
   "outputs": [],
   "source": [
    "X = data\n",
    "y = data[y_column]"
   ]
  },
  {
   "cell_type": "code",
   "execution_count": 171,
   "id": "5187e614",
   "metadata": {},
   "outputs": [],
   "source": [
    "# Converting from 84th Percentile to 1 sigma\n",
    "for column1, column2 in zip(non_sigma_columns, non_sigma_columns_corresponding):\n",
    "    X[column1] = (X[column1] - X[column2])/0.9945"
   ]
  },
  {
   "cell_type": "code",
   "execution_count": null,
   "id": "abaff30a",
   "metadata": {},
   "outputs": [],
   "source": []
  },
  {
   "cell_type": "code",
   "execution_count": 178,
   "id": "0cabbad5",
   "metadata": {},
   "outputs": [],
   "source": [
    "newdata = pd.DataFrame(data=[], columns=data.columns)\n",
    "\n",
    "pd.options.mode.chained_assignment = None\n",
    "\n",
    "# jet-mode radio AGN/low-excitation radio galaxy\n",
    "dat = X[y==\"jet-mode radio AGN/low-excitation radio galaxy\"]\n",
    "for i in range(15):\n",
    "    for mean_column, std_column in zip(flux_columns, error_columns):\n",
    "        # Getting the mean and std from the data (so the flux and the error)\n",
    "        mean = dat[mean_column]\n",
    "        std = dat[std_column]\n",
    "\n",
    "        # Generating new Gaussian data and overwriting it with the old data so we still keep the other values we don't generate\n",
    "        # like EBV and the classification\n",
    "        dat[mean_column] = np.random.normal(mean, np.abs(std))\n",
    "    # Appending the new generated data to collection we currently have\n",
    "    newdata = pd.concat([newdata, dat])\n",
    "    \n",
    "# radio-quiet AGN\n",
    "dat = X[y==\"radio-quiet AGN\"]\n",
    "for i in range(30):\n",
    "    for mean_column, std_column in zip(flux_columns, error_columns):\n",
    "        # Getting the mean and std from the data (so the flux and the error)\n",
    "        mean = dat[mean_column]\n",
    "        std = dat[std_column]\n",
    "\n",
    "        # Generating new Gaussian data and overwriting it with the old data so we still keep the other values we don't generate\n",
    "        # like EBV and the classification\n",
    "        dat[mean_column] = np.random.normal(mean, np.abs(std))\n",
    "    # Appending the new generated data to collection we currently have\n",
    "    newdata = pd.concat([newdata, dat])\n",
    "\n",
    "# quasar-like radio AGN / high-excitation radio galaxy\n",
    "dat = X[y==\"quasar-like radio AGN / high-excitation radio galaxy\"]\n",
    "for i in range(150):\n",
    "    for mean_column, std_column in zip(flux_columns, error_columns):\n",
    "        # Getting the mean and std from the data (so the flux and the error)\n",
    "        mean = dat[mean_column]\n",
    "        std = dat[std_column]\n",
    "\n",
    "        # Generating new Gaussian data and overwriting it with the old data so we still keep the other values we don't generate\n",
    "        # like EBV and the classification\n",
    "        dat[mean_column] = np.random.normal(mean, np.abs(std))\n",
    "    # Appending the new generated data to collection we currently have\n",
    "    newdata = pd.concat([newdata, dat])    "
   ]
  },
  {
   "cell_type": "code",
   "execution_count": 179,
   "id": "f76dd23f",
   "metadata": {},
   "outputs": [],
   "source": [
    "newdata = newdata.reset_index(drop=True)"
   ]
  },
  {
   "cell_type": "code",
   "execution_count": 180,
   "id": "880f1694",
   "metadata": {},
   "outputs": [],
   "source": [
    "newdata.to_csv(\"../../../Data/Other/Generated/Generated_data.csv\", index=False)"
   ]
  },
  {
   "cell_type": "code",
   "execution_count": 177,
   "id": "3dd58874",
   "metadata": {},
   "outputs": [
    {
     "data": {
      "text/plain": [
       "radio-quiet AGN                                         55140\n",
       "quasar-like radio AGN / high-excitation radio galaxy    53100\n",
       "jet-mode radio AGN/low-excitation radio galaxy          50930\n",
       "Name: Classification, dtype: int64"
      ]
     },
     "execution_count": 177,
     "metadata": {},
     "output_type": "execute_result"
    }
   ],
   "source": []
  },
  {
   "cell_type": "code",
   "execution_count": null,
   "id": "5e7f600b",
   "metadata": {},
   "outputs": [],
   "source": []
  }
 ],
 "metadata": {
  "kernelspec": {
   "display_name": "Python 3 (ipykernel)",
   "language": "python",
   "name": "python3"
  },
  "language_info": {
   "codemirror_mode": {
    "name": "ipython",
    "version": 3
   },
   "file_extension": ".py",
   "mimetype": "text/x-python",
   "name": "python",
   "nbconvert_exporter": "python",
   "pygments_lexer": "ipython3",
   "version": "3.9.13"
  }
 },
 "nbformat": 4,
 "nbformat_minor": 5
}
